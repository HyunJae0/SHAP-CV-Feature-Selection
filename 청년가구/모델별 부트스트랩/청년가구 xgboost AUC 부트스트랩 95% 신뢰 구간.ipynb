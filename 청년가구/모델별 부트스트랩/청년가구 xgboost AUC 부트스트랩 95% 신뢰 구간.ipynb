{
 "cells": [
  {
   "cell_type": "code",
   "execution_count": 17,
   "id": "10cd55a8",
   "metadata": {},
   "outputs": [],
   "source": [
    "import pandas as pd\n",
    "import numpy as np\n",
    "import matplotlib.pyplot as plt\n",
    "import seaborn as sns\n",
    "import warnings\n",
    "warnings.filterwarnings('ignore')\n",
    "sns.set_style('darkgrid')\n",
    "\n",
    "import shap\n",
    "from sklearn.model_selection import train_test_split\n",
    "from sklearn.preprocessing import StandardScaler, MinMaxScaler, RobustScaler,LabelEncoder\n",
    "from sklearn.metrics import classification_report, confusion_matrix,ConfusionMatrixDisplay, accuracy_score, recall_score, precision_score, f1_score, roc_auc_score, precision_recall_curve,auc, roc_curve\n",
    "from sklearn.model_selection import StratifiedKFold, KFold, GridSearchCV\n",
    "from xgboost import XGBClassifier\n",
    "from lightgbm import LGBMClassifier\n",
    "from sklearn.ensemble import RandomForestClassifier\n",
    "from sklearn.ensemble import GradientBoostingClassifier\n",
    "from sklearn.ensemble import ExtraTreesClassifier\n",
    "from sklearn.ensemble import AdaBoostClassifier\n",
    "from sklearn.tree import DecisionTreeClassifier\n",
    "\n",
    "\n",
    "from sklearn.preprocessing import OneHotEncoder\n",
    "import matplotlib\n",
    "import sklearn\n",
    "#from skopt import BayesSearchCV, space\n",
    "import optuna\n",
    "import optuna.study\n",
    "from optuna import Trial\n",
    "from optuna import distributions\n",
    "from optuna import integration\n",
    "from optuna.study import create_study\n",
    "from optuna.samplers import TPESampler\n",
    "from optuna.pruners import HyperbandPruner\n",
    "import joblib\n",
    "plt.rcParams['font.family'] = 'NanumGothic'\n",
    "matplotlib.rcParams['axes.unicode_minus'] = False\n",
    "import operator"
   ]
  },
  {
   "cell_type": "code",
   "execution_count": 18,
   "id": "f8488cdd",
   "metadata": {},
   "outputs": [],
   "source": [
    "class EarlyStoppingCallback(object):\n",
    "    def __init__(self, early_stopping_rounds: int, direction: str = \"minimize\"):\n",
    "        self.early_stopping_rounds = early_stopping_rounds\n",
    "\n",
    "        self._iter = 0\n",
    "\n",
    "        if direction == \"minimize\":\n",
    "            self._operator = operator.lt\n",
    "            self._score = np.inf\n",
    "        elif direction == \"maximize\":\n",
    "            self._operator = operator.gt\n",
    "            self._score = -np.inf\n",
    "        else:\n",
    "            ValueError(f\"invalid direction: {direction}\")\n",
    "\n",
    "    def __call__(self, study, trial):\n",
    "        if self._operator(study.best_value, self._score):\n",
    "            self._iter = 0\n",
    "            self._score = study.best_value\n",
    "        else:\n",
    "            self._iter += 1\n",
    "\n",
    "        if self._iter >= self.early_stopping_rounds:\n",
    "            study.stop()"
   ]
  },
  {
   "cell_type": "code",
   "execution_count": 19,
   "id": "aebdf5e8",
   "metadata": {},
   "outputs": [],
   "source": [
    "optuna.logging.set_verbosity(optuna.logging.WARNING)"
   ]
  },
  {
   "cell_type": "code",
   "execution_count": 20,
   "id": "2d13b106",
   "metadata": {},
   "outputs": [],
   "source": [
    "청년가구 = pd.read_csv('청년가구_변수추가.csv', encoding='cp949')\n",
    "청년가구.rename(columns = {'문41. 귀 가구는 공공임대주택 입주 기회를 준다면 입주할 의향이 있으십니까?':'target'}, inplace=True)"
   ]
  },
  {
   "cell_type": "code",
   "execution_count": 21,
   "id": "47d6db3f",
   "metadata": {},
   "outputs": [],
   "source": [
    "청년가구.columns = [\n",
    "    'Cat_현재 거주 지역', 'Cat_현재 주택의 유형','Cat_현재 주택의 위치',\n",
    "    '현재 주택 거주 기간(총 개월)','현재 무주택 기간(총 개월)',\n",
    "    'Cat_현재 주택의 점유형태','Cat_현재 주택의 구조', '현재 주택의 면적(㎡)',\n",
    "    'Cat_현재 상업시설 접근용이성', 'Cat_현재 의료시설 접근용이성',\n",
    "    'Cat_현재 공공기관 접근용이성', 'Cat_현재 문화시설 접근용이성',\n",
    "    'Cat_현재 도시공원 및 녹지 접근용이성', 'Cat_현재 대중교통 접근용이성',\n",
    "    'Cat_현재 주차시설 이용편의성', 'Cat_현재 주변도로의 보행 안전',\n",
    "    'Cat_현재 교육환경', 'Cat_현재 치안 및 범죄 등 방범 상태',\n",
    "    'Cat_현재 자동차 경적/집주변의 소음 정도', 'Cat_현재 청소/쓰레기 처리상태',\n",
    "    'Cat_현재 대기오염 정도', 'Cat_현재 주택에 대한 전반적인 만족도',\n",
    "    '총 이사 횟수', 'Cat_이사 예상 기간','Cat_이사 계획 첫 번째 이유',\n",
    "    'Cat_이사 계획 중인 거주 지역', 'Cat_이사 계획 중인 주택의 유형', 'Cat_이사 계획 중인 주택의 점유형태',\n",
    "    'Cat_주택 보유 의식', 'Cat_현재 가장 필요한 주거지원 1순위',\n",
    "    '가구주 나이','Cat_가구주 성별','Cat_가구주 주민등록상 등재 여부','Cat_가구주 동거 여부','Cat_가구주 장애 여부',\n",
    "    '총 가구원 수','Cat_기초생활보장 수급가구 여부','Cat_소득 계층',\n",
    "    '소득 대비 주택 임대료의 비율', '소득 중 근로/사업소득의 비중(월평균)',\n",
    "    '소득 중 재산소득의 비중(월평균)', '소득 중 사회보험 수혜금의 비중(월평균)',\n",
    "    '소득 중 정부 보조금의 비중(월평균)', '소득 중 사적이전소득의 비중(월평균)', \n",
    "    '소득 대비 생활비의 비율', '소득 대비 주거관리비의 비율',\n",
    "    '자산 중 부동산 자산의 비중', '자산 중 금융자산의 비중', '자산 중 기타자산의 비중',\n",
    "    '부채 중 금융기관 대출금의 비중', '부채 중 비금융기관 대출금의 비중', '부채 중 임대 보증금의 비중',\n",
    "    '중기부채부담지표', '장기부채부담지표', 'Cat_가구주 최종 학력', 'Cat_가구주 종사상 지위',\n",
    "    'target'    \n",
    "]"
   ]
  },
  {
   "cell_type": "code",
   "execution_count": 22,
   "id": "d7dbc161",
   "metadata": {},
   "outputs": [],
   "source": [
    "cat = 청년가구.select_dtypes(include = 'object')"
   ]
  },
  {
   "cell_type": "code",
   "execution_count": 23,
   "id": "07c3a2bd",
   "metadata": {},
   "outputs": [],
   "source": [
    "num = 청년가구.select_dtypes(exclude = 'object')\n",
    "num_청년 = num.drop('target',axis=1)"
   ]
  },
  {
   "cell_type": "code",
   "execution_count": 24,
   "id": "f70eb659",
   "metadata": {},
   "outputs": [],
   "source": [
    "scaler=RobustScaler()\n",
    "scaler.fit(num_청년)\n",
    "num_scaled_청년=scaler.transform(num_청년)\n",
    "num_df_scaled_청년=pd.DataFrame(data=num_scaled_청년, columns=num_청년.columns)"
   ]
  },
  {
   "cell_type": "code",
   "execution_count": 25,
   "id": "26e18c50",
   "metadata": {},
   "outputs": [],
   "source": [
    "target = 청년가구.target"
   ]
  },
  {
   "cell_type": "code",
   "execution_count": 26,
   "id": "5e4c8c76",
   "metadata": {},
   "outputs": [],
   "source": [
    "enc = OneHotEncoder()\n",
    "enc.fit(cat)\n",
    "\n",
    "X_cat = enc.transform(cat).toarray()\n",
    "new_feature_names = enc.get_feature_names_out(cat.columns)\n",
    "cat2 = pd.DataFrame(X_cat, columns= new_feature_names)"
   ]
  },
  {
   "cell_type": "code",
   "execution_count": 27,
   "id": "6d4f3a0a",
   "metadata": {},
   "outputs": [],
   "source": [
    "comp =pd.concat([num_df_scaled_청년, target,cat2],axis=1)"
   ]
  },
  {
   "cell_type": "code",
   "execution_count": 28,
   "id": "25030335",
   "metadata": {},
   "outputs": [
    {
     "data": {
      "text/plain": [
       "(8444, 213)"
      ]
     },
     "execution_count": 28,
     "metadata": {},
     "output_type": "execute_result"
    }
   ],
   "source": [
    "X =comp.drop('target', axis = 1)\n",
    "y=comp.target\n",
    "X.shape"
   ]
  },
  {
   "cell_type": "code",
   "execution_count": 13,
   "id": "51728bf7",
   "metadata": {},
   "outputs": [],
   "source": [
    "X_train, X_test, y_train, y_test = train_test_split(X, y, test_size=0.2, shuffle=True, stratify=y, random_state = 0)"
   ]
  },
  {
   "cell_type": "code",
   "execution_count": 14,
   "id": "ba165c86",
   "metadata": {},
   "outputs": [],
   "source": [
    "X_train, X_val, y_train, y_val = train_test_split(X_train, y_train, test_size=0.2, shuffle=True, stratify=y_train, random_state = 0)"
   ]
  },
  {
   "cell_type": "code",
   "execution_count": 15,
   "id": "daaa01da",
   "metadata": {},
   "outputs": [],
   "source": [
    "def objective(trial):\n",
    "    params = {\n",
    "        'n_estimators' :trial.suggest_int('n_estimators', 50, 200),\n",
    "        'learning_rate' :trial.suggest_float('learning_rate',0.01, 0.1,step=0.01),\n",
    "        'max_depth' :trial.suggest_int('max_depth', 1, 10),\n",
    "        'max_leaves': trial.suggest_int('max_leaves', 2, 1024, step=2),\n",
    "        'subsample':trial.suggest_float('subsample', 0.1, 1.0,step=0.1),\n",
    "        'colsample_bytree' :trial.suggest_float('colsample_bytree', 0.1, 1.0,step=0.1),\n",
    "        'gamma' :trial.suggest_int('gamma',1, 10),\n",
    "        'reg_alpha' :trial.suggest_int('reg_alpha', 1, 10),\n",
    "        'reg_lambda' :trial.suggest_int('reg_lambda', 1, 10),\n",
    "        'booster' : trial.suggest_categorical('booster', ['gbtree']),\n",
    "        'objective' : trial.suggest_categorical('objective', ['binary:logistic'])\n",
    "\n",
    "        }\n",
    "        \n",
    "    clf = XGBClassifier(**params,random_state = 0)\n",
    "    clf.fit(X_train, y_train)\n",
    "    clf_proba = clf.predict_proba(X_val)[:, 1]\n",
    "        \n",
    "    AUC_SCORE = roc_auc_score(y_val, clf_proba)\n",
    "    return AUC_SCORE\n",
    "\n",
    "direction = \"maximize\"\n",
    "sampler = optuna.samplers.TPESampler(seed=10)\n",
    "study =  optuna.create_study(direction=direction, sampler=sampler, pruner=optuna.pruners.HyperbandPruner())\n",
    "early_stopping = EarlyStoppingCallback(10, direction=direction)\n",
    "study.optimize(objective, callbacks=[early_stopping], n_trials=200) "
   ]
  },
  {
   "cell_type": "code",
   "execution_count": 16,
   "id": "d0a6a3fd",
   "metadata": {},
   "outputs": [
    {
     "name": "stdout",
     "output_type": "stream",
     "text": [
      "{'n_estimators': 127, 'learning_rate': 0.06999999999999999, 'max_depth': 7, 'max_leaves': 826, 'subsample': 0.6, 'colsample_bytree': 1.0, 'gamma': 4, 'reg_alpha': 1, 'reg_lambda': 4, 'booster': 'gbtree', 'objective': 'binary:logistic'}\n"
     ]
    }
   ],
   "source": [
    "print(study.best_trial.params)"
   ]
  },
  {
   "cell_type": "code",
   "execution_count": 17,
   "id": "67e80ba4",
   "metadata": {},
   "outputs": [
    {
     "name": "stdout",
     "output_type": "stream",
     "text": [
      "0.7892349033629601\n"
     ]
    }
   ],
   "source": [
    "optuna_auc = study.best_trial.value\n",
    "print(optuna_auc)"
   ]
  },
  {
   "cell_type": "code",
   "execution_count": 18,
   "id": "57772c74",
   "metadata": {},
   "outputs": [],
   "source": [
    "xgb_optuna_0 = XGBClassifier(**study.best_trial.params, random_state = 0)"
   ]
  },
  {
   "cell_type": "code",
   "execution_count": 19,
   "id": "a8ad0319",
   "metadata": {},
   "outputs": [
    {
     "data": {
      "text/html": [
       "<style>#sk-container-id-1 {color: black;}#sk-container-id-1 pre{padding: 0;}#sk-container-id-1 div.sk-toggleable {background-color: white;}#sk-container-id-1 label.sk-toggleable__label {cursor: pointer;display: block;width: 100%;margin-bottom: 0;padding: 0.3em;box-sizing: border-box;text-align: center;}#sk-container-id-1 label.sk-toggleable__label-arrow:before {content: \"▸\";float: left;margin-right: 0.25em;color: #696969;}#sk-container-id-1 label.sk-toggleable__label-arrow:hover:before {color: black;}#sk-container-id-1 div.sk-estimator:hover label.sk-toggleable__label-arrow:before {color: black;}#sk-container-id-1 div.sk-toggleable__content {max-height: 0;max-width: 0;overflow: hidden;text-align: left;background-color: #f0f8ff;}#sk-container-id-1 div.sk-toggleable__content pre {margin: 0.2em;color: black;border-radius: 0.25em;background-color: #f0f8ff;}#sk-container-id-1 input.sk-toggleable__control:checked~div.sk-toggleable__content {max-height: 200px;max-width: 100%;overflow: auto;}#sk-container-id-1 input.sk-toggleable__control:checked~label.sk-toggleable__label-arrow:before {content: \"▾\";}#sk-container-id-1 div.sk-estimator input.sk-toggleable__control:checked~label.sk-toggleable__label {background-color: #d4ebff;}#sk-container-id-1 div.sk-label input.sk-toggleable__control:checked~label.sk-toggleable__label {background-color: #d4ebff;}#sk-container-id-1 input.sk-hidden--visually {border: 0;clip: rect(1px 1px 1px 1px);clip: rect(1px, 1px, 1px, 1px);height: 1px;margin: -1px;overflow: hidden;padding: 0;position: absolute;width: 1px;}#sk-container-id-1 div.sk-estimator {font-family: monospace;background-color: #f0f8ff;border: 1px dotted black;border-radius: 0.25em;box-sizing: border-box;margin-bottom: 0.5em;}#sk-container-id-1 div.sk-estimator:hover {background-color: #d4ebff;}#sk-container-id-1 div.sk-parallel-item::after {content: \"\";width: 100%;border-bottom: 1px solid gray;flex-grow: 1;}#sk-container-id-1 div.sk-label:hover label.sk-toggleable__label {background-color: #d4ebff;}#sk-container-id-1 div.sk-serial::before {content: \"\";position: absolute;border-left: 1px solid gray;box-sizing: border-box;top: 0;bottom: 0;left: 50%;z-index: 0;}#sk-container-id-1 div.sk-serial {display: flex;flex-direction: column;align-items: center;background-color: white;padding-right: 0.2em;padding-left: 0.2em;position: relative;}#sk-container-id-1 div.sk-item {position: relative;z-index: 1;}#sk-container-id-1 div.sk-parallel {display: flex;align-items: stretch;justify-content: center;background-color: white;position: relative;}#sk-container-id-1 div.sk-item::before, #sk-container-id-1 div.sk-parallel-item::before {content: \"\";position: absolute;border-left: 1px solid gray;box-sizing: border-box;top: 0;bottom: 0;left: 50%;z-index: -1;}#sk-container-id-1 div.sk-parallel-item {display: flex;flex-direction: column;z-index: 1;position: relative;background-color: white;}#sk-container-id-1 div.sk-parallel-item:first-child::after {align-self: flex-end;width: 50%;}#sk-container-id-1 div.sk-parallel-item:last-child::after {align-self: flex-start;width: 50%;}#sk-container-id-1 div.sk-parallel-item:only-child::after {width: 0;}#sk-container-id-1 div.sk-dashed-wrapped {border: 1px dashed gray;margin: 0 0.4em 0.5em 0.4em;box-sizing: border-box;padding-bottom: 0.4em;background-color: white;}#sk-container-id-1 div.sk-label label {font-family: monospace;font-weight: bold;display: inline-block;line-height: 1.2em;}#sk-container-id-1 div.sk-label-container {text-align: center;}#sk-container-id-1 div.sk-container {/* jupyter's `normalize.less` sets `[hidden] { display: none; }` but bootstrap.min.css set `[hidden] { display: none !important; }` so we also need the `!important` here to be able to override the default hidden behavior on the sphinx rendered scikit-learn.org. See: https://github.com/scikit-learn/scikit-learn/issues/21755 */display: inline-block !important;position: relative;}#sk-container-id-1 div.sk-text-repr-fallback {display: none;}</style><div id=\"sk-container-id-1\" class=\"sk-top-container\"><div class=\"sk-text-repr-fallback\"><pre>XGBClassifier(base_score=None, booster=&#x27;gbtree&#x27;, callbacks=None,\n",
       "              colsample_bylevel=None, colsample_bynode=None,\n",
       "              colsample_bytree=1.0, device=None, early_stopping_rounds=None,\n",
       "              enable_categorical=False, eval_metric=None, feature_types=None,\n",
       "              gamma=4, grow_policy=None, importance_type=None,\n",
       "              interaction_constraints=None, learning_rate=0.06999999999999999,\n",
       "              max_bin=None, max_cat_threshold=None, max_cat_to_onehot=None,\n",
       "              max_delta_step=None, max_depth=7, max_leaves=826,\n",
       "              min_child_weight=None, missing=nan, monotone_constraints=None,\n",
       "              multi_strategy=None, n_estimators=127, n_jobs=None,\n",
       "              num_parallel_tree=None, random_state=0, ...)</pre><b>In a Jupyter environment, please rerun this cell to show the HTML representation or trust the notebook. <br />On GitHub, the HTML representation is unable to render, please try loading this page with nbviewer.org.</b></div><div class=\"sk-container\" hidden><div class=\"sk-item\"><div class=\"sk-estimator sk-toggleable\"><input class=\"sk-toggleable__control sk-hidden--visually\" id=\"sk-estimator-id-1\" type=\"checkbox\" checked><label for=\"sk-estimator-id-1\" class=\"sk-toggleable__label sk-toggleable__label-arrow\">XGBClassifier</label><div class=\"sk-toggleable__content\"><pre>XGBClassifier(base_score=None, booster=&#x27;gbtree&#x27;, callbacks=None,\n",
       "              colsample_bylevel=None, colsample_bynode=None,\n",
       "              colsample_bytree=1.0, device=None, early_stopping_rounds=None,\n",
       "              enable_categorical=False, eval_metric=None, feature_types=None,\n",
       "              gamma=4, grow_policy=None, importance_type=None,\n",
       "              interaction_constraints=None, learning_rate=0.06999999999999999,\n",
       "              max_bin=None, max_cat_threshold=None, max_cat_to_onehot=None,\n",
       "              max_delta_step=None, max_depth=7, max_leaves=826,\n",
       "              min_child_weight=None, missing=nan, monotone_constraints=None,\n",
       "              multi_strategy=None, n_estimators=127, n_jobs=None,\n",
       "              num_parallel_tree=None, random_state=0, ...)</pre></div></div></div></div></div>"
      ],
      "text/plain": [
       "XGBClassifier(base_score=None, booster='gbtree', callbacks=None,\n",
       "              colsample_bylevel=None, colsample_bynode=None,\n",
       "              colsample_bytree=1.0, device=None, early_stopping_rounds=None,\n",
       "              enable_categorical=False, eval_metric=None, feature_types=None,\n",
       "              gamma=4, grow_policy=None, importance_type=None,\n",
       "              interaction_constraints=None, learning_rate=0.06999999999999999,\n",
       "              max_bin=None, max_cat_threshold=None, max_cat_to_onehot=None,\n",
       "              max_delta_step=None, max_depth=7, max_leaves=826,\n",
       "              min_child_weight=None, missing=nan, monotone_constraints=None,\n",
       "              multi_strategy=None, n_estimators=127, n_jobs=None,\n",
       "              num_parallel_tree=None, random_state=0, ...)"
      ]
     },
     "execution_count": 19,
     "metadata": {},
     "output_type": "execute_result"
    }
   ],
   "source": [
    "xgb_optuna_0.fit(X_train, y_train)"
   ]
  },
  {
   "cell_type": "code",
   "execution_count": 20,
   "id": "37deccd3",
   "metadata": {},
   "outputs": [
    {
     "name": "stdout",
     "output_type": "stream",
     "text": [
      "0.7798956071299312\n"
     ]
    }
   ],
   "source": [
    "xgb_optuna_0_proba = xgb_optuna_0.predict_proba(X_test)[:, 1]\n",
    "auc_0 = roc_auc_score(y_test, xgb_optuna_0_proba)\n",
    "print(auc_0)"
   ]
  },
  {
   "cell_type": "code",
   "execution_count": 21,
   "id": "9c84bfbc",
   "metadata": {},
   "outputs": [],
   "source": [
    "X_train = X_train.values\n",
    "y_train = y_train.values"
   ]
  },
  {
   "cell_type": "code",
   "execution_count": 22,
   "id": "7595c37b",
   "metadata": {},
   "outputs": [],
   "source": [
    "from sklearn.utils import resample\n",
    "from numpy.random import RandomState"
   ]
  },
  {
   "cell_type": "code",
   "execution_count": 23,
   "id": "2d1abb11",
   "metadata": {},
   "outputs": [],
   "source": [
    "from scipy.stats import shapiro"
   ]
  },
  {
   "cell_type": "code",
   "execution_count": 24,
   "id": "781f005f",
   "metadata": {},
   "outputs": [],
   "source": [
    "np.set_printoptions(threshold=np.inf, linewidth=np.inf)"
   ]
  },
  {
   "cell_type": "code",
   "execution_count": 70,
   "id": "6de01c9d",
   "metadata": {},
   "outputs": [],
   "source": [
    "auc_bootstrap = []\n",
    "def bootstrap_auc(clf, X_train, y_train, X_test, y_test, nsamples=10000):\n",
    "    for b in range(nsamples):\n",
    "        idx = np.random.randint(X_train.shape[0], size=X_train.shape[0])\n",
    "        clf.fit(X_train[idx], y_train[idx])\n",
    "        pred = clf.predict_proba(X_test)[:, 1]\n",
    "        roc_auc = roc_auc_score(y_test.ravel(), pred.ravel())\n",
    "        auc_bootstrap.append(roc_auc)\n",
    "    return np.percentile(auc_bootstrap, (2.5, 97.5))"
   ]
  },
  {
   "cell_type": "code",
   "execution_count": 45,
   "id": "59404879",
   "metadata": {},
   "outputs": [
    {
     "data": {
      "text/plain": [
       "array([0.76307601, 0.77916027])"
      ]
     },
     "execution_count": 45,
     "metadata": {},
     "output_type": "execute_result"
    }
   ],
   "source": [
    "np.random.seed(999999)\n",
    "bootstrap_auc(xgb_optuna_0, X_train, y_train, X_test, y_test, nsamples=1000)"
   ]
  },
  {
   "cell_type": "code",
   "execution_count": 46,
   "id": "b2af065a",
   "metadata": {},
   "outputs": [
    {
     "data": {
      "text/plain": [
       "array([0.76307601, 0.77916027])"
      ]
     },
     "execution_count": 46,
     "metadata": {},
     "output_type": "execute_result"
    }
   ],
   "source": [
    "np.random.seed(999999)\n",
    "bootstrap_auc(xgb_optuna_0, X_train, y_train, X_test, y_test, nsamples=1000)"
   ]
  },
  {
   "cell_type": "code",
   "execution_count": 47,
   "id": "a42b941a",
   "metadata": {},
   "outputs": [
    {
     "data": {
      "text/plain": [
       "0.7710727038940915"
      ]
     },
     "execution_count": 47,
     "metadata": {},
     "output_type": "execute_result"
    }
   ],
   "source": [
    "np.mean(auc_bootstrap)"
   ]
  },
  {
   "cell_type": "code",
   "execution_count": 48,
   "id": "3878a46e",
   "metadata": {},
   "outputs": [
    {
     "data": {
      "text/plain": [
       "ShapiroResult(statistic=0.9961628913879395, pvalue=5.796792538603768e-05)"
      ]
     },
     "execution_count": 48,
     "metadata": {},
     "output_type": "execute_result"
    }
   ],
   "source": [
    "shapiro(auc_bootstrap)"
   ]
  },
  {
   "cell_type": "code",
   "execution_count": 49,
   "id": "c6922025",
   "metadata": {},
   "outputs": [
    {
     "name": "stdout",
     "output_type": "stream",
     "text": [
      "[0.7722258980275064, 0.7741811436844009, 0.7743974506876584, 0.7686617806731814, 0.7704671665761853, 0.7707131627759682, 0.7751057500904814, 0.776339972403185, 0.7755581568946797, 0.7699066062703582, 0.7698889341295693, 0.7729822656532754, 0.7645561889250814, 0.7723672751538182, 0.7725545998461816, 0.7698634862468332, 0.7701547231270358, 0.7673186979732174, 0.7640387486427795, 0.7680595141150923, 0.77407652461093, 0.77599783975751, 0.7711500180962723, 0.7751043363192183, 0.7714242897213175, 0.768893639160333, 0.7750732333514296, 0.7697221091205213, 0.7701193788454578, 0.7766425194534925, 0.7690915671371699, 0.7720138323380383, 0.7730161961635903, 0.77021551529135, 0.7756104664314152, 0.7715995973579443, 0.7680354800036192, 0.7660420625226204, 0.7738602176076728, 0.759878019815418, 0.7707704205121245, 0.7685387825732899, 0.7710029858849077, 0.7724422050307638, 0.7717833876221498, 0.7763866268548678, 0.7711698108939558, 0.7714214621787912, 0.76968535106768, 0.770816368078176, 0.7677286916395223, 0.7715882871878394, 0.7707060939196526, 0.7669412210459645, 0.7671942861020631, 0.7668366019724937, 0.7638054763843648, 0.7726274090662323, 0.7722075190010858, 0.7692400131197973, 0.7664266083061888, 0.7623294991856677, 0.7644360183677162, 0.7684822317227652, 0.7716038386717338, 0.7790727922547954, 0.7722046914585595, 0.7752146104777417, 0.7770920987151646, 0.7718781102967789, 0.7677400018096272, 0.7728493711545423, 0.7670147371516467, 0.7735039472493667, 0.7654101067680059, 0.7771953040173725, 0.7715501153637351, 0.770721645403547, 0.7773522326275788, 0.774984165761853, 0.7689487762395947, 0.7712984640788997, 0.7698309695077814, 0.76666270810713, 0.7715246674809989, 0.7680778931415129, 0.773625531577995, 0.7701773434672458, 0.770050104053565, 0.772481790626131, 0.7763498688020268, 0.7699186233260948, 0.7720011083966702, 0.7691141874773796, 0.7697051438653637, 0.7735916010676801, 0.7680778931415129, 0.7692795987151646, 0.7694450099529497, 0.7706933699782844, 0.7699044856134637, 0.7680750655989866, 0.7823668792978647, 0.7654694851610568, 0.7774215074194716, 0.7740736970684039, 0.7701405854144047, 0.7714737717155266, 0.771702802660152, 0.7806321819580166, 0.7678488621968875, 0.7676466929062613, 0.7679195507600434, 0.7751934039087948, 0.7740496629569309, 0.7727390969960188, 0.7750308202135359, 0.7670741155446977, 0.7789413115273254, 0.7626942521715527, 0.7702070326637713, 0.7745741720955484, 0.77023813563156, 0.7682249253528775, 0.7699256921824105, 0.7676042797683678, 0.7729653003981181, 0.7729638866268549, 0.7704586839486065, 0.7744455189106044, 0.7734283104867898, 0.7718286283025697, 0.7799563992942453, 0.7733950868621065, 0.7657338603872601, 0.7676071073108939, 0.768705607582338, 0.7753475049764749, 0.7698564173905175, 0.7698691413318857, 0.7691452904451683, 0.7757787052117263, 0.7779615680419834, 0.7675081433224755, 0.7678347244842562, 0.7716222176981542, 0.7686617806731814, 0.7704671665761853, 0.7794022009591024, 0.7609538997466523, 0.7695255949149475, 0.7688328469960188, 0.7691848760405356, 0.7716589757509953, 0.7821420896670286, 0.7721778298045604, 0.7649548724212811, 0.7717551121968875, 0.7721241064965617, 0.7678531035106768, 0.7716688721498371, 0.7746830324828085, 0.7693517010495837, 0.7711005361020629, 0.768503438291712, 0.7745939648932321, 0.7733060192725298, 0.7750265788997466, 0.7690562228555917, 0.7700515178248282, 0.7685232310893956, 0.7744540015381831, 0.7716660446073108, 0.7667404655266015, 0.7648502533478103, 0.7769521353601159, 0.7718625588128846, 0.7766623122511762, 0.7657253777596815, 0.76988469281578, 0.7730444715888527, 0.7705675443358668, 0.7667475343829171, 0.7665001244118712, 0.769873382645675, 0.7703879953854506, 0.7693418046507419, 0.7707145765472313, 0.7743493824647123, 0.7683620611654001, 0.7719304198335142, 0.7748498574918566, 0.7712772575099529, 0.7759554266196164, 0.7744596566232356, 0.7755652257509953, 0.7725821683858126, 0.7710227786825914, 0.7693502872783207, 0.7720859346724573, 0.7714553926891059, 0.7680496177162504, 0.7671122873688021, 0.7736071525515744, 0.7641886083966702, 0.7755242263843648, 0.7688356745385451, 0.7691693245566413, 0.7668804288816502, 0.7750633369525877, 0.7816656487513572, 0.7743776578899747, 0.7698691413318857, 0.771832869616359, 0.7703314445349259, 0.7701264477017735, 0.7728324058993847, 0.7673427320846906, 0.7683677162504523, 0.7716094937567861, 0.7752527823018457, 0.7737711500180963, 0.7727800963626494, 0.7764021783387622, 0.7643568471769815, 0.7750774746652189, 0.7706085437024973, 0.7756118802026783, 0.7698055216250452, 0.770676404723127, 0.7736863237423092, 0.7725920647846544, 0.7732692612196888, 0.7761491132826639, 0.7680976859391966, 0.7720315044788274, 0.7717098715164676, 0.7731024362106406, 0.7717551121968874, 0.7691679107853782, 0.7742334532211366, 0.7771345118530583, 0.771644838038364, 0.7687423656351793, 0.7735308089033659, 0.7756811549945711, 0.7724040332066594, 0.7712221204306913, 0.7794262350705755, 0.7741797299131379, 0.7723884817227651, 0.7696047661056822, 0.7760374253528772, 0.7751396806007962, 0.7725383414766558, 0.7694209758414766, 0.7705124072566052, 0.7673498009410061, 0.7765675895765471, 0.767749898208469, 0.7668026714621787, 0.7701518955845097, 0.773697633912414, 0.7638054763843648, 0.7760232876402461, 0.7665679854325008, 0.7703031691096633, 0.771667458378574, 0.7708771602424901, 0.769743315689468, 0.7724733079985524, 0.7698309695077814, 0.767843207111835, 0.7684186120159247, 0.7733003641874775, 0.768455370068766, 0.7598186414223671, 0.7700684830799855, 0.7724012056641332, 0.7764064196525515, 0.7695496290264205, 0.7702013775787188, 0.7686122986789722, 0.7779544991856677, 0.7639284744842563, 0.7757179130474121, 0.769319184310532, 0.7687225728374956, 0.772020901194354, 0.7749869933043794, 0.7685147484618168, 0.7776788137893593, 0.7759624954759319, 0.7709195733803836, 0.7783390449692364, 0.7741599371154542, 0.7653818313427434, 0.7687861925443359, 0.7693163567680059, 0.7795181302026782, 0.7742391083061889, 0.7726203402099168, 0.7585886604234527, 0.7757108441910967, 0.7715091159971046, 0.7766085889431777, 0.7623634296959826, 0.771219292888165, 0.7705717856496561, 0.7690943946796959, 0.766461952587767, 0.7712645335685848, 0.7710001583423816, 0.7735378777596815, 0.7736735998009411, 0.7682857175171915, 0.772693856315599, 0.7635524113282663, 0.7690138097176982, 0.7708092992218604, 0.7759907709011944, 0.7791576185305826, 0.7704007193268186, 0.7737852877307274, 0.7713097742490047, 0.7754634342200506, 0.7699836568041984, 0.7754224348534202, 0.773649565689468, 0.7798475389069852, 0.7706184401013392, 0.7728055442453854, 0.771842766015201, 0.7710142960550126, 0.7676353827361564, 0.76427908975751, 0.7630109369344915, 0.7706141987875497, 0.7795831636807817, 0.7725199624502352, 0.776824895946435, 0.7708672638436482, 0.7749728555917481, 0.7686801596996018, 0.775030820213536, 0.7738418385812523, 0.773082643412957, 0.7742815214440825, 0.7729949895946435, 0.7686730908432862, 0.7669680826999639, 0.7698239006514658, 0.7689558450959102, 0.7690378438291711, 0.7782584600072386, 0.7658073764929424, 0.7678502759681506, 0.7746194127759681, 0.7680962721679334, 0.7742461771625044, 0.7781983747285559, 0.7758592901737242, 0.7719770742851974, 0.771323911961636, 0.7728847154361203, 0.7648134952949692, 0.7721453130655085, 0.7675024882374231, 0.7698578311617807, 0.7734700167390517, 0.7814910480003618, 0.7684624389250814, 0.7672791123778502, 0.7697532120883098, 0.7702268254614548, 0.7701377578718784, 0.7742687975027144, 0.7734389137712632, 0.7688130541983351, 0.7651216974303294, 0.7677654496923634, 0.7720788658161418, 0.7696217313608396, 0.7740567318132465, 0.7712588784835324, 0.7771684423633731, 0.7682546145494029, 0.7722513459102425, 0.7718604381559899, 0.767076943087224, 0.7738008392146218, 0.7621655017191458, 0.7676240725660515, 0.7740878347810352, 0.7732310893955845, 0.7720703831885631, 0.7684384048136084, 0.773048712902642, 0.7704982695439738, 0.7685246448606586, 0.7738899068041983, 0.7677795874049945, 0.7703427547050308, 0.774499242218603, 0.7761731473941368, 0.7697023163228375, 0.770108068675353, 0.7726853736880204, 0.77663686436844, 0.7752110760495838, 0.7658271692906262, 0.7779064309627216, 0.7707018526058631, 0.7689615001809627, 0.7710849846181687, 0.7647286690191821, 0.7777141580709374, 0.7700642417661961, 0.7724591702859211, 0.7713804628121608, 0.7710609505066957, 0.766262610839667, 0.773660875859573, 0.7719883844553023, 0.7690003788906985, 0.7689120181867535, 0.7728818878935939, 0.7682956139160333, 0.7712136378031125, 0.7673554560260586, 0.7704134432681867, 0.7697447294607311, 0.7723382928429242, 0.7658285830618893, 0.7765520380926529, 0.7726797186029679, 0.7695029745747376, 0.7673823176800578, 0.7703993055555556, 0.7722301393412956, 0.7723418272710821, 0.7733031917300036, 0.7745388278139703, 0.7700359663409337, 0.7730529542164314, 0.7752301619616359, 0.7715402189648932, 0.7757504297864641, 0.7700317250271445, 0.77379094281578, 0.7746519295150198, 0.7686872285559174, 0.7750067861020631, 0.770485545602606, 0.7734092245747376, 0.7759285649656171, 0.7683479234527686, 0.7728776465798045, 0.779397959645313, 0.7645067069308723, 0.7689148457292798, 0.7712122240318495, 0.7785086975208106, 0.7719290060622511, 0.7643822950597177, 0.7687338830076005, 0.7626221498371335, 0.7731179876945349, 0.7676283138798408, 0.7747282731632285, 0.7751863350524792, 0.7690123959464351, 0.7754492965074194, 0.7657366879297864, 0.7723206207021354, 0.7651188698878031, 0.7758847380564604, 0.7693234256243214, 0.7669065836500182, 0.7685458514296055, 0.7708559536735433, 0.772303655446978, 0.7738064942996744, 0.7753460912052116, 0.7667941888346002, 0.771323911961636, 0.7741019724936663, 0.777591159971046, 0.7752174380202679, 0.7675364187477379, 0.7698705551031487, 0.7746901013391242, 0.7702805487694535, 0.7679393435577271, 0.7663149203764024, 0.7729228872602243, 0.7659501673905176, 0.7683903365906622, 0.7753941594281577, 0.7763795579985524, 0.7764318675352879, 0.774333830980818, 0.7695354913137894, 0.7704459600072385, 0.7736071525515743, 0.7763088694353962, 0.7754620204487876, 0.7724280673181325, 0.7673215255157436, 0.7671935792164315, 0.7679223783025698, 0.7659346159066233, 0.7741853849981903, 0.767371007509953, 0.7687989164857041, 0.7701391716431415, 0.7670924945711184, 0.7738050805284111, 0.7741076275787188, 0.7656942747918928, 0.7607036622330801, 0.7664259014205574, 0.7633587246652189, 0.7697758324285198, 0.7720152461093015, 0.7707895064241765, 0.7763357310893957, 0.7714285310351068, 0.7718922480094101, 0.7759794607310894, 0.7688724325913862, 0.7707244729460732, 0.7706156125588128, 0.7705378551393414, 0.7696754546688382, 0.7755666395222585, 0.773520912504524, 0.7742023502533477, 0.7762890766377126, 0.7751439219145856, 0.7681627194173, 0.770404960640608, 0.77511423271806, 0.7785426280311256, 0.7755638119797322, 0.7688526397937026, 0.7745303451863916, 0.7698535898479912, 0.7699567951501991, 0.7732777438472676, 0.76595582247557, 0.771323911961636, 0.7710651918204849, 0.7687706410604416, 0.7721184514115091, 0.778016705121245, 0.7656815508505248, 0.7697673498009411, 0.7685006107491856, 0.7689798792073833, 0.7704134432681867, 0.77407652461093, 0.7689855342924357, 0.7725270313065509, 0.7689332247557004, 0.7691127737061165, 0.7675081433224756, 0.7691240838762214, 0.7803663929605502, 0.7726966838581252, 0.7724775493123416, 0.7619901940825191, 0.7698168317951501, 0.7697235228917843, 0.765048181324647, 0.7717614741675713, 0.7754210210821572, 0.7672253890698516, 0.7718003528773073, 0.7690392576004343, 0.772729200597177, 0.7657861699239956, 0.7723743440101339, 0.7678757238508866, 0.7676170037097358, 0.768509800262396, 0.7737301506514657, 0.7702932727108216, 0.7708502985884907, 0.7694393548678972, 0.7692513232899023, 0.7709294697792255, 0.7736439106044154, 0.7644727764205574, 0.7728931980636988, 0.7715882871878393, 0.7663177479189287, 0.7702586353148752, 0.7687536758052842, 0.7681302026782484, 0.7643483645494029, 0.7664958830980817, 0.7757886016105682, 0.7701872398660876, 0.7777650538364097, 0.770040207654723, 0.7653266942634818, 0.7738800104053565, 0.7715331501085777, 0.7729045082338037, 0.7699398298950416, 0.772706580256967, 0.7714553926891061, 0.779362615363735, 0.7746038612920739, 0.7745034835323923, 0.7737513572204127, 0.7708418159609121, 0.7753559876040534, 0.7707838513391242, 0.7678304831704668, 0.7669850479551212, 0.7705958197611291, 0.7705010970865003, 0.7681302026782482, 0.7710312613101702, 0.7649011491132827, 0.7673724212812161, 0.7733498461816866, 0.7754280899384727, 0.7659346159066233, 0.7696075936482084, 0.7771684423633731, 0.7672734572927976, 0.7710567091929063, 0.7700486902823018, 0.7705760269634455, 0.7718788171824105, 0.7761081139160333, 0.7792862717155267, 0.7763088694353963, 0.7698564173905175, 0.7675802456568946, 0.7699921394317771, 0.7782556324647123, 0.7712687748823742, 0.777827259771987, 0.7687600377759682, 0.7668535672276511, 0.7764318675352878, 0.7743635201773434, 0.7736580483170467, 0.762934593286283, 0.7683889228193992, 0.7685811957111834, 0.7707456795150199, 0.7693601836771624, 0.773082643412957, 0.7693955279587406, 0.773840424809989, 0.772187726203402, 0.7746660672276511, 0.7739874570213536, 0.7798616766196164, 0.7673908003076366, 0.7762198018458197, 0.7699412436663048, 0.7655543114368439, 0.769042792028592, 0.7776462970503076, 0.7704572701773433, 0.7723969643503439, 0.7812429311436846, 0.7686038160513935, 0.7611914133188564, 0.7716278727832067, 0.7676608306188926, 0.7753234708650019, 0.7748321853510676, 0.7792636513753167, 0.7718795240680421, 0.7681457541621426, 0.7696768684401013, 0.7669129456207021, 0.7703031691096633, 0.7747070665942816, 0.770344168476294, 0.7683761988780311, 0.7690095684039088, 0.7751990589938471, 0.774075110839667, 0.7632258301664856, 0.7730458853601159, 0.7744426913680782, 0.7701250339305102, 0.7683450959102425, 0.7744059333152371, 0.7714341861201592, 0.7735520154723127, 0.7760190463264567, 0.7736311866630474, 0.7656801370792616, 0.7644925692182412, 0.7696231451321028, 0.7686759183858125, 0.7654864504162142, 0.7669687895855953, 0.7691877035830619, 0.7672282166123778, 0.7752796439558451, 0.7722555872240319, 0.7701165513029317, 0.7615915105863194, 0.7706269227289179, 0.768304096543612, 0.7736142214078899, 0.7783164246290264, 0.7701236201592471, 0.7597097810351068, 0.77308405718422, 0.7765096249547594, 0.7615392010495838, 0.7680298249185669, 0.7646353601158161, 0.7705519928519726, 0.7725864096996019, 0.7708686776149113, 0.75748167752443, 0.7777198131559898, 0.7732565372783207, 0.7712475683134274, 0.7667602583242852, 0.7687268141512849, 0.7689713965798046, 0.768421439558451, 0.7682956139160333, 0.7634803089938471, 0.7669009285649656, 0.7705463377669199, 0.7730699194715889, 0.7650891806912776, 0.7713281532754253, 0.7771868213897939, 0.7746335504885994, 0.7732932953311618, 0.7740411803293521, 0.771773491223308, 0.7745515517553383, 0.7705717856496561, 0.7681104098805647, 0.7757221543612016, 0.7704120294969237, 0.7739294923995657, 0.7730798158704307, 0.7715628393051033, 0.774415829714079, 0.7800666734527687, 0.7709393661780672, 0.7717890427072024, 0.7698846928157799, 0.7759780469598263, 0.7673978691639523, 0.7576555713897938, 0.7703894091567136, 0.7727998891603329, 0.7696415241585234, 0.7703243756786102, 0.7700713106225117, 0.7707018526058632, 0.7742362807636627, 0.7706693358668114, 0.7705477515381831, 0.7720703831885631, 0.7682588558631921, 0.768911311301122, 0.7702522733441911, 0.7754196073108939, 0.7702353080890337, 0.7675562115454215, 0.7739294923995658, 0.7682630971769815, 0.7674445236156351, 0.7673300081433224, 0.7686872285559174, 0.7753475049764749, 0.776269283840029, 0.7635665490408975, 0.7624008946344554, 0.7638153727832068, 0.7706905424357582, 0.7765647620340209, 0.7649478035649655, 0.7719926257690916, 0.7707753687115455, 0.7745105523887079, 0.7662597832971407, 0.7756599484256242, 0.7771302705392689, 0.7687381243213898, 0.7677541395222583, 0.7698323832790446, 0.7613186527325371, 0.7736764273434673, 0.7764870046145494, 0.7735703944987333, 0.7727659586500182, 0.771087812160695, 0.7729398525153819, 0.7699695190915671, 0.7669327384183858, 0.7710411577090119, 0.7722061052298226, 0.7715105297683676, 0.7695354913137893, 0.7732296756243213, 0.7770072724393775, 0.7718625588128846, 0.7677187952406804, 0.7660448900651466, 0.763135348805646, 0.7775473330618893, 0.771142242354325, 0.7675208672638437, 0.7663234030039812, 0.7750605094100615, 0.7703724439015563, 0.7721566232356135, 0.7726740635179153, 0.7729214734889613, 0.7729836794245385, 0.7691283251900108, 0.770250859572928, 0.7767344145855954, 0.7679973081795151, 0.7746137576909156, 0.7796920240680421, 0.7711118462721679, 0.7729398525153819, 0.7707555759138617, 0.7704982695439739, 0.7666952248461817, 0.7690830845095911, 0.7648728736880204, 0.7697249366630473, 0.7801599823561346, 0.768834260767282, 0.7728076649022801, 0.7714228759500543, 0.7721651058631922, 0.7814705483170465, 0.7746985839667029, 0.7728988531487513, 0.7777996912323561, 0.7745529655266015, 0.7661989911328266, 0.7705081659428158, 0.7662216114730366, 0.7715684943901555, 0.7708814015562794, 0.770390822927977, 0.7671419765653276, 0.7693941141874774, 0.7683337857401376, 0.7706693358668113, 0.7653281080347448, 0.7730218512486429, 0.771089225931958, 0.7744497602243937, 0.7678644136807818, 0.7711047774158524, 0.7648375294064422, 0.7731618146036916, 0.7714129795512125, 0.7727617173362287, 0.7686066435939196, 0.7687367105501266, 0.7744087608577634, 0.7765788997466521, 0.7661254750271445, 0.7760063223850886, 0.7630773841838581, 0.7681167718512487, 0.7707103352334419, 0.7661777845638799, 0.7668493259138618, 0.7694280446977924, 0.7737541847629388, 0.7727885789902281, 0.7727751481632285, 0.7667998439196526, 0.7713677388707926, 0.77087716024249, 0.7656462065689469, 0.7687847787730726, 0.7689558450959102, 0.7729214734889612, 0.7702706523706117, 0.7685797819399203, 0.771749457111835, 0.7666768458197611, 0.7676212450235251, 0.770120792616721, 0.7711061911871153, 0.7722895177343467, 0.7706834735794426, 0.774062386898299, 0.7691000497647486, 0.7704798905175534, 0.77074567951502, 0.772539755247919, 0.7663219892327181, 0.7735718082699964, 0.7732932953311618, 0.7712913952225842, 0.7691311527325371, 0.7684723353239233, 0.7678714825370974, 0.7808513165038002, 0.7688653637350706, 0.7674614888707927, 0.7688286056822295, 0.7638577859211003, 0.7743564513210279, 0.7610613463626494, 0.7740708695258778, 0.7716349416395222, 0.7774158523344191, 0.7729370249728555, 0.7737018752262035, 0.7726655808903367, 0.7686193675352878, 0.770453028863554, 0.7783630790807095, 0.774274452587767, 0.769814004252624, 0.7748046168114369, 0.7722937590481361, 0.7766552433948606, 0.7656009658885268, 0.7722244842562431, 0.774075110839667, 0.7719954533116178, 0.7670868394860659, 0.7611419313246472, 0.7716236314694174, 0.7684751628664495, 0.7733484324104236, 0.7630222471045965, 0.7718413522439376, 0.7643575540626131, 0.7718314558450959, 0.772329103329714, 0.774926201140065, 0.7641589192001448, 0.7744412775968151, 0.7689219145855954, 0.7696669720412594, 0.7750760608939558, 0.7742490047050308, 0.7710863983894317, 0.7674360409880564, 0.7675745905718422, 0.7694718716069489, 0.770615612558813, 0.7709690553745929, 0.7691226701049583, 0.7604576660332971, 0.7707400244299674, 0.7728111993304381, 0.7713196706478465, 0.7770185826094823, 0.7704643390336591, 0.7714511513753166, 0.7757334645313065, 0.7685656442272892, 0.7702367218602968, 0.7735689807274702, 0.7676509342200506, 0.7673271806007963, 0.7710892259319579, 0.7753446774339485, 0.7685359550307636, 0.7722626560803475, 0.772033625135722, 0.7734728442815779, 0.772457756514658, 0.7793414087947883, 0.7707357831161781, 0.7731943313427434, 0.7705152347991314, 0.7691990137531668, 0.7709945032573289, 0.7793668566775245, 0.7656504478827362, 0.7681231338219326, 0.7680156872059356, 0.7703229619073471, 0.7707244729460732, 0.7720251425081434, 0.771619390155628, 0.7722258980275064, 0.7741811436844009, 0.7743974506876584, 0.7686617806731814, 0.7704671665761853, 0.7707131627759682, 0.7751057500904814, 0.776339972403185, 0.7755581568946797, 0.7699066062703582, 0.7698889341295693, 0.7729822656532754, 0.7645561889250814, 0.7723672751538182, 0.7725545998461816, 0.7698634862468332, 0.7701547231270358, 0.7673186979732174, 0.7640387486427795, 0.7680595141150923, 0.77407652461093, 0.77599783975751, 0.7711500180962723, 0.7751043363192183, 0.7714242897213175, 0.768893639160333, 0.7750732333514296, 0.7697221091205213, 0.7701193788454578, 0.7766425194534925, 0.7690915671371699, 0.7720138323380383, 0.7730161961635903, 0.77021551529135, 0.7756104664314152, 0.7715995973579443, 0.7680354800036192, 0.7660420625226204, 0.7738602176076728, 0.759878019815418, 0.7707704205121245, 0.7685387825732899, 0.7710029858849077, 0.7724422050307638, 0.7717833876221498, 0.7763866268548678, 0.7711698108939558, 0.7714214621787912, 0.76968535106768, 0.770816368078176, 0.7677286916395223, 0.7715882871878394, 0.7707060939196526, 0.7669412210459645, 0.7671942861020631, 0.7668366019724937, 0.7638054763843648, 0.7726274090662323, 0.7722075190010858, 0.7692400131197973, 0.7664266083061888, 0.7623294991856677, 0.7644360183677162, 0.7684822317227652, 0.7716038386717338, 0.7790727922547954, 0.7722046914585595, 0.7752146104777417, 0.7770920987151646, 0.7718781102967789, 0.7677400018096272, 0.7728493711545423, 0.7670147371516467, 0.7735039472493667, 0.7654101067680059, 0.7771953040173725, 0.7715501153637351, 0.770721645403547, 0.7773522326275788, 0.774984165761853, 0.7689487762395947, 0.7712984640788997, 0.7698309695077814, 0.76666270810713, 0.7715246674809989, 0.7680778931415129, 0.773625531577995, 0.7701773434672458, 0.770050104053565, 0.772481790626131, 0.7763498688020268, 0.7699186233260948, 0.7720011083966702, 0.7691141874773796, 0.7697051438653637, 0.7735916010676801, 0.7680778931415129, 0.7692795987151646, 0.7694450099529497, 0.7706933699782844, 0.7699044856134637, 0.7680750655989866, 0.7823668792978647, 0.7654694851610568, 0.7774215074194716, 0.7740736970684039, 0.7701405854144047, 0.7714737717155266, 0.771702802660152, 0.7806321819580166, 0.7678488621968875, 0.7676466929062613, 0.7679195507600434, 0.7751934039087948, 0.7740496629569309, 0.7727390969960188, 0.7750308202135359, 0.7670741155446977, 0.7789413115273254, 0.7626942521715527, 0.7702070326637713, 0.7745741720955484, 0.77023813563156, 0.7682249253528775, 0.7699256921824105, 0.7676042797683678, 0.7729653003981181, 0.7729638866268549, 0.7704586839486065, 0.7744455189106044, 0.7734283104867898, 0.7718286283025697, 0.7799563992942453, 0.7733950868621065, 0.7657338603872601, 0.7676071073108939, 0.768705607582338, 0.7753475049764749, 0.7698564173905175, 0.7698691413318857, 0.7691452904451683, 0.7757787052117263, 0.7779615680419834, 0.7675081433224755, 0.7678347244842562, 0.7716222176981542, 0.7686617806731814, 0.7704671665761853, 0.7794022009591024, 0.7609538997466523, 0.7695255949149475, 0.7688328469960188, 0.7691848760405356, 0.7716589757509953, 0.7821420896670286, 0.7721778298045604, 0.7649548724212811, 0.7717551121968875, 0.7721241064965617, 0.7678531035106768, 0.7716688721498371, 0.7746830324828085, 0.7693517010495837, 0.7711005361020629, 0.768503438291712, 0.7745939648932321, 0.7733060192725298, 0.7750265788997466, 0.7690562228555917, 0.7700515178248282, 0.7685232310893956, 0.7744540015381831, 0.7716660446073108, 0.7667404655266015, 0.7648502533478103, 0.7769521353601159, 0.7718625588128846, 0.7766623122511762, 0.7657253777596815, 0.76988469281578, 0.7730444715888527, 0.7705675443358668, 0.7667475343829171, 0.7665001244118712, 0.769873382645675, 0.7703879953854506, 0.7693418046507419, 0.7707145765472313, 0.7743493824647123, 0.7683620611654001, 0.7719304198335142, 0.7748498574918566, 0.7712772575099529, 0.7759554266196164, 0.7744596566232356, 0.7755652257509953, 0.7725821683858126, 0.7710227786825914, 0.7693502872783207, 0.7720859346724573, 0.7714553926891059, 0.7680496177162504, 0.7671122873688021, 0.7736071525515744, 0.7641886083966702, 0.7755242263843648, 0.7688356745385451, 0.7691693245566413, 0.7668804288816502, 0.7750633369525877, 0.7816656487513572, 0.7743776578899747, 0.7698691413318857, 0.771832869616359, 0.7703314445349259, 0.7701264477017735, 0.7728324058993847, 0.7673427320846906, 0.7683677162504523, 0.7716094937567861, 0.7752527823018457, 0.7737711500180963, 0.7727800963626494, 0.7764021783387622, 0.7643568471769815, 0.7750774746652189, 0.7706085437024973, 0.7756118802026783, 0.7698055216250452, 0.770676404723127, 0.7736863237423092, 0.7725920647846544, 0.7732692612196888, 0.7761491132826639, 0.7680976859391966, 0.7720315044788274, 0.7717098715164676, 0.7731024362106406, 0.7717551121968874, 0.7691679107853782, 0.7742334532211366, 0.7771345118530583, 0.771644838038364, 0.7687423656351793, 0.7735308089033659, 0.7756811549945711, 0.7724040332066594, 0.7712221204306913, 0.7794262350705755, 0.7741797299131379, 0.7723884817227651, 0.7696047661056822, 0.7760374253528772, 0.7751396806007962, 0.7725383414766558, 0.7694209758414766, 0.7705124072566052, 0.7673498009410061, 0.7765675895765471, 0.767749898208469, 0.7668026714621787, 0.7701518955845097, 0.773697633912414, 0.7638054763843648, 0.7760232876402461, 0.7665679854325008, 0.7703031691096633, 0.771667458378574, 0.7708771602424901, 0.769743315689468, 0.7724733079985524, 0.7698309695077814, 0.767843207111835, 0.7684186120159247, 0.7733003641874775, 0.768455370068766, 0.7598186414223671, 0.7700684830799855, 0.7724012056641332, 0.7764064196525515, 0.7695496290264205, 0.7702013775787188, 0.7686122986789722, 0.7779544991856677, 0.7639284744842563, 0.7757179130474121, 0.769319184310532, 0.7687225728374956, 0.772020901194354, 0.7749869933043794, 0.7685147484618168, 0.7776788137893593, 0.7759624954759319, 0.7709195733803836, 0.7783390449692364, 0.7741599371154542, 0.7653818313427434, 0.7687861925443359, 0.7693163567680059, 0.7795181302026782, 0.7742391083061889, 0.7726203402099168, 0.7585886604234527, 0.7757108441910967, 0.7715091159971046, 0.7766085889431777, 0.7623634296959826, 0.771219292888165, 0.7705717856496561, 0.7690943946796959, 0.766461952587767, 0.7712645335685848, 0.7710001583423816, 0.7735378777596815, 0.7736735998009411, 0.7682857175171915, 0.772693856315599, 0.7635524113282663, 0.7690138097176982, 0.7708092992218604, 0.7759907709011944, 0.7791576185305826, 0.7704007193268186, 0.7737852877307274, 0.7713097742490047, 0.7754634342200506, 0.7699836568041984, 0.7754224348534202, 0.773649565689468, 0.7798475389069852, 0.7706184401013392, 0.7728055442453854, 0.771842766015201, 0.7710142960550126, 0.7676353827361564, 0.76427908975751, 0.7630109369344915, 0.7706141987875497, 0.7795831636807817, 0.7725199624502352, 0.776824895946435, 0.7708672638436482, 0.7749728555917481, 0.7686801596996018, 0.775030820213536, 0.7738418385812523, 0.773082643412957, 0.7742815214440825, 0.7729949895946435, 0.7686730908432862, 0.7669680826999639, 0.7698239006514658, 0.7689558450959102, 0.7690378438291711, 0.7782584600072386, 0.7658073764929424, 0.7678502759681506, 0.7746194127759681, 0.7680962721679334, 0.7742461771625044, 0.7781983747285559, 0.7758592901737242, 0.7719770742851974, 0.771323911961636, 0.7728847154361203, 0.7648134952949692, 0.7721453130655085, 0.7675024882374231, 0.7698578311617807, 0.7734700167390517, 0.7814910480003618, 0.7684624389250814, 0.7672791123778502, 0.7697532120883098, 0.7702268254614548, 0.7701377578718784, 0.7742687975027144, 0.7734389137712632, 0.7688130541983351, 0.7651216974303294, 0.7677654496923634, 0.7720788658161418, 0.7696217313608396, 0.7740567318132465, 0.7712588784835324, 0.7771684423633731, 0.7682546145494029, 0.7722513459102425, 0.7718604381559899, 0.767076943087224, 0.7738008392146218, 0.7621655017191458, 0.7676240725660515, 0.7740878347810352, 0.7732310893955845, 0.7720703831885631, 0.7684384048136084, 0.773048712902642, 0.7704982695439738, 0.7685246448606586, 0.7738899068041983, 0.7677795874049945, 0.7703427547050308, 0.774499242218603, 0.7761731473941368, 0.7697023163228375, 0.770108068675353, 0.7726853736880204, 0.77663686436844, 0.7752110760495838, 0.7658271692906262, 0.7779064309627216, 0.7707018526058631, 0.7689615001809627, 0.7710849846181687, 0.7647286690191821, 0.7777141580709374, 0.7700642417661961, 0.7724591702859211, 0.7713804628121608, 0.7710609505066957, 0.766262610839667, 0.773660875859573, 0.7719883844553023, 0.7690003788906985, 0.7689120181867535, 0.7728818878935939, 0.7682956139160333, 0.7712136378031125, 0.7673554560260586, 0.7704134432681867, 0.7697447294607311, 0.7723382928429242, 0.7658285830618893, 0.7765520380926529, 0.7726797186029679, 0.7695029745747376, 0.7673823176800578, 0.7703993055555556, 0.7722301393412956, 0.7723418272710821, 0.7733031917300036, 0.7745388278139703, 0.7700359663409337, 0.7730529542164314, 0.7752301619616359, 0.7715402189648932, 0.7757504297864641, 0.7700317250271445, 0.77379094281578, 0.7746519295150198, 0.7686872285559174, 0.7750067861020631, 0.770485545602606, 0.7734092245747376, 0.7759285649656171, 0.7683479234527686, 0.7728776465798045, 0.779397959645313, 0.7645067069308723, 0.7689148457292798, 0.7712122240318495, 0.7785086975208106, 0.7719290060622511, 0.7643822950597177, 0.7687338830076005, 0.7626221498371335, 0.7731179876945349, 0.7676283138798408, 0.7747282731632285, 0.7751863350524792, 0.7690123959464351, 0.7754492965074194, 0.7657366879297864, 0.7723206207021354, 0.7651188698878031, 0.7758847380564604, 0.7693234256243214, 0.7669065836500182, 0.7685458514296055, 0.7708559536735433, 0.772303655446978, 0.7738064942996744, 0.7753460912052116, 0.7667941888346002, 0.771323911961636, 0.7741019724936663, 0.777591159971046, 0.7752174380202679, 0.7675364187477379, 0.7698705551031487, 0.7746901013391242, 0.7702805487694535, 0.7679393435577271, 0.7663149203764024, 0.7729228872602243, 0.7659501673905176, 0.7683903365906622, 0.7753941594281577, 0.7763795579985524, 0.7764318675352879, 0.774333830980818, 0.7695354913137894, 0.7704459600072385, 0.7736071525515743, 0.7763088694353962, 0.7754620204487876, 0.7724280673181325, 0.7673215255157436, 0.7671935792164315, 0.7679223783025698, 0.7659346159066233, 0.7741853849981903, 0.767371007509953, 0.7687989164857041, 0.7701391716431415, 0.7670924945711184, 0.7738050805284111, 0.7741076275787188, 0.7656942747918928, 0.7607036622330801, 0.7664259014205574, 0.7633587246652189, 0.7697758324285198, 0.7720152461093015, 0.7707895064241765, 0.7763357310893957, 0.7714285310351068, 0.7718922480094101, 0.7759794607310894, 0.7688724325913862, 0.7707244729460732, 0.7706156125588128, 0.7705378551393414, 0.7696754546688382, 0.7755666395222585, 0.773520912504524, 0.7742023502533477, 0.7762890766377126, 0.7751439219145856, 0.7681627194173, 0.770404960640608, 0.77511423271806, 0.7785426280311256, 0.7755638119797322, 0.7688526397937026, 0.7745303451863916, 0.7698535898479912, 0.7699567951501991, 0.7732777438472676, 0.76595582247557, 0.771323911961636, 0.7710651918204849, 0.7687706410604416, 0.7721184514115091, 0.778016705121245, 0.7656815508505248, 0.7697673498009411, 0.7685006107491856, 0.7689798792073833, 0.7704134432681867, 0.77407652461093, 0.7689855342924357, 0.7725270313065509, 0.7689332247557004, 0.7691127737061165, 0.7675081433224756, 0.7691240838762214, 0.7803663929605502, 0.7726966838581252, 0.7724775493123416, 0.7619901940825191, 0.7698168317951501, 0.7697235228917843, 0.765048181324647, 0.7717614741675713, 0.7754210210821572, 0.7672253890698516, 0.7718003528773073, 0.7690392576004343, 0.772729200597177, 0.7657861699239956, 0.7723743440101339, 0.7678757238508866, 0.7676170037097358, 0.768509800262396, 0.7737301506514657, 0.7702932727108216, 0.7708502985884907, 0.7694393548678972, 0.7692513232899023, 0.7709294697792255, 0.7736439106044154, 0.7644727764205574, 0.7728931980636988, 0.7715882871878393, 0.7663177479189287, 0.7702586353148752, 0.7687536758052842, 0.7681302026782484, 0.7643483645494029, 0.7664958830980817, 0.7757886016105682, 0.7701872398660876, 0.7777650538364097, 0.770040207654723, 0.7653266942634818, 0.7738800104053565, 0.7715331501085777, 0.7729045082338037, 0.7699398298950416, 0.772706580256967, 0.7714553926891061, 0.779362615363735, 0.7746038612920739, 0.7745034835323923, 0.7737513572204127, 0.7708418159609121, 0.7753559876040534, 0.7707838513391242, 0.7678304831704668, 0.7669850479551212, 0.7705958197611291, 0.7705010970865003, 0.7681302026782482, 0.7710312613101702, 0.7649011491132827, 0.7673724212812161, 0.7733498461816866, 0.7754280899384727, 0.7659346159066233, 0.7696075936482084, 0.7771684423633731, 0.7672734572927976, 0.7710567091929063, 0.7700486902823018, 0.7705760269634455, 0.7718788171824105, 0.7761081139160333, 0.7792862717155267, 0.7763088694353963, 0.7698564173905175, 0.7675802456568946, 0.7699921394317771, 0.7782556324647123, 0.7712687748823742, 0.777827259771987, 0.7687600377759682, 0.7668535672276511, 0.7764318675352878, 0.7743635201773434, 0.7736580483170467, 0.762934593286283, 0.7683889228193992, 0.7685811957111834, 0.7707456795150199, 0.7693601836771624, 0.773082643412957, 0.7693955279587406, 0.773840424809989, 0.772187726203402, 0.7746660672276511, 0.7739874570213536, 0.7798616766196164, 0.7673908003076366, 0.7762198018458197, 0.7699412436663048, 0.7655543114368439, 0.769042792028592, 0.7776462970503076, 0.7704572701773433, 0.7723969643503439, 0.7812429311436846, 0.7686038160513935, 0.7611914133188564, 0.7716278727832067, 0.7676608306188926, 0.7753234708650019, 0.7748321853510676, 0.7792636513753167, 0.7718795240680421, 0.7681457541621426, 0.7696768684401013, 0.7669129456207021, 0.7703031691096633, 0.7747070665942816, 0.770344168476294, 0.7683761988780311, 0.7690095684039088, 0.7751990589938471, 0.774075110839667, 0.7632258301664856, 0.7730458853601159, 0.7744426913680782, 0.7701250339305102, 0.7683450959102425, 0.7744059333152371, 0.7714341861201592, 0.7735520154723127, 0.7760190463264567, 0.7736311866630474, 0.7656801370792616, 0.7644925692182412, 0.7696231451321028, 0.7686759183858125, 0.7654864504162142, 0.7669687895855953, 0.7691877035830619, 0.7672282166123778, 0.7752796439558451, 0.7722555872240319, 0.7701165513029317, 0.7615915105863194, 0.7706269227289179, 0.768304096543612, 0.7736142214078899, 0.7783164246290264, 0.7701236201592471, 0.7597097810351068, 0.77308405718422, 0.7765096249547594, 0.7615392010495838, 0.7680298249185669, 0.7646353601158161, 0.7705519928519726, 0.7725864096996019, 0.7708686776149113, 0.75748167752443, 0.7777198131559898, 0.7732565372783207, 0.7712475683134274, 0.7667602583242852, 0.7687268141512849, 0.7689713965798046, 0.768421439558451, 0.7682956139160333, 0.7634803089938471, 0.7669009285649656, 0.7705463377669199, 0.7730699194715889, 0.7650891806912776, 0.7713281532754253, 0.7771868213897939, 0.7746335504885994, 0.7732932953311618, 0.7740411803293521, 0.771773491223308, 0.7745515517553383, 0.7705717856496561, 0.7681104098805647, 0.7757221543612016, 0.7704120294969237, 0.7739294923995657, 0.7730798158704307, 0.7715628393051033, 0.774415829714079, 0.7800666734527687, 0.7709393661780672, 0.7717890427072024, 0.7698846928157799, 0.7759780469598263, 0.7673978691639523, 0.7576555713897938, 0.7703894091567136, 0.7727998891603329, 0.7696415241585234, 0.7703243756786102, 0.7700713106225117, 0.7707018526058632, 0.7742362807636627, 0.7706693358668114, 0.7705477515381831, 0.7720703831885631, 0.7682588558631921, 0.768911311301122, 0.7702522733441911, 0.7754196073108939, 0.7702353080890337, 0.7675562115454215, 0.7739294923995658, 0.7682630971769815, 0.7674445236156351, 0.7673300081433224, 0.7686872285559174, 0.7753475049764749, 0.776269283840029, 0.7635665490408975, 0.7624008946344554, 0.7638153727832068, 0.7706905424357582, 0.7765647620340209, 0.7649478035649655, 0.7719926257690916, 0.7707753687115455, 0.7745105523887079, 0.7662597832971407, 0.7756599484256242, 0.7771302705392689, 0.7687381243213898, 0.7677541395222583, 0.7698323832790446, 0.7613186527325371, 0.7736764273434673, 0.7764870046145494, 0.7735703944987333, 0.7727659586500182, 0.771087812160695, 0.7729398525153819, 0.7699695190915671, 0.7669327384183858, 0.7710411577090119, 0.7722061052298226, 0.7715105297683676, 0.7695354913137893, 0.7732296756243213, 0.7770072724393775, 0.7718625588128846, 0.7677187952406804, 0.7660448900651466, 0.763135348805646, 0.7775473330618893, 0.771142242354325, 0.7675208672638437, 0.7663234030039812, 0.7750605094100615, 0.7703724439015563, 0.7721566232356135, 0.7726740635179153, 0.7729214734889613, 0.7729836794245385, 0.7691283251900108, 0.770250859572928, 0.7767344145855954, 0.7679973081795151, 0.7746137576909156, 0.7796920240680421, 0.7711118462721679, 0.7729398525153819, 0.7707555759138617, 0.7704982695439739, 0.7666952248461817, 0.7690830845095911, 0.7648728736880204, 0.7697249366630473, 0.7801599823561346, 0.768834260767282, 0.7728076649022801, 0.7714228759500543, 0.7721651058631922, 0.7814705483170465, 0.7746985839667029, 0.7728988531487513, 0.7777996912323561, 0.7745529655266015, 0.7661989911328266, 0.7705081659428158, 0.7662216114730366, 0.7715684943901555, 0.7708814015562794, 0.770390822927977, 0.7671419765653276, 0.7693941141874774, 0.7683337857401376, 0.7706693358668113, 0.7653281080347448, 0.7730218512486429, 0.771089225931958, 0.7744497602243937, 0.7678644136807818, 0.7711047774158524, 0.7648375294064422, 0.7731618146036916, 0.7714129795512125, 0.7727617173362287, 0.7686066435939196, 0.7687367105501266, 0.7744087608577634, 0.7765788997466521, 0.7661254750271445, 0.7760063223850886, 0.7630773841838581, 0.7681167718512487, 0.7707103352334419, 0.7661777845638799, 0.7668493259138618, 0.7694280446977924, 0.7737541847629388, 0.7727885789902281, 0.7727751481632285, 0.7667998439196526, 0.7713677388707926, 0.77087716024249, 0.7656462065689469, 0.7687847787730726, 0.7689558450959102, 0.7729214734889612, 0.7702706523706117, 0.7685797819399203, 0.771749457111835, 0.7666768458197611, 0.7676212450235251, 0.770120792616721, 0.7711061911871153, 0.7722895177343467, 0.7706834735794426, 0.774062386898299, 0.7691000497647486, 0.7704798905175534, 0.77074567951502, 0.772539755247919, 0.7663219892327181, 0.7735718082699964, 0.7732932953311618, 0.7712913952225842, 0.7691311527325371, 0.7684723353239233, 0.7678714825370974, 0.7808513165038002, 0.7688653637350706, 0.7674614888707927, 0.7688286056822295, 0.7638577859211003, 0.7743564513210279, 0.7610613463626494, 0.7740708695258778, 0.7716349416395222, 0.7774158523344191, 0.7729370249728555, 0.7737018752262035, 0.7726655808903367, 0.7686193675352878, 0.770453028863554, 0.7783630790807095, 0.774274452587767, 0.769814004252624, 0.7748046168114369, 0.7722937590481361, 0.7766552433948606, 0.7656009658885268, 0.7722244842562431, 0.774075110839667, 0.7719954533116178, 0.7670868394860659, 0.7611419313246472, 0.7716236314694174, 0.7684751628664495, 0.7733484324104236, 0.7630222471045965, 0.7718413522439376, 0.7643575540626131, 0.7718314558450959, 0.772329103329714, 0.774926201140065, 0.7641589192001448, 0.7744412775968151, 0.7689219145855954, 0.7696669720412594, 0.7750760608939558, 0.7742490047050308, 0.7710863983894317, 0.7674360409880564, 0.7675745905718422, 0.7694718716069489, 0.770615612558813, 0.7709690553745929, 0.7691226701049583, 0.7604576660332971, 0.7707400244299674, 0.7728111993304381, 0.7713196706478465, 0.7770185826094823, 0.7704643390336591, 0.7714511513753166, 0.7757334645313065, 0.7685656442272892, 0.7702367218602968, 0.7735689807274702, 0.7676509342200506, 0.7673271806007963, 0.7710892259319579, 0.7753446774339485, 0.7685359550307636, 0.7722626560803475, 0.772033625135722, 0.7734728442815779, 0.772457756514658, 0.7793414087947883, 0.7707357831161781, 0.7731943313427434, 0.7705152347991314, 0.7691990137531668, 0.7709945032573289, 0.7793668566775245, 0.7656504478827362, 0.7681231338219326, 0.7680156872059356, 0.7703229619073471, 0.7707244729460732, 0.7720251425081434, 0.771619390155628]\n"
     ]
    }
   ],
   "source": [
    "t_0 = auc_bootstrap\n",
    "print(t_0)"
   ]
  },
  {
   "cell_type": "code",
   "execution_count": 50,
   "id": "04f975e5",
   "metadata": {},
   "outputs": [],
   "source": [
    "import matplotlib.pyplot as plt"
   ]
  },
  {
   "cell_type": "code",
   "execution_count": 51,
   "id": "c46e4be5",
   "metadata": {},
   "outputs": [
    {
     "data": {
      "text/plain": [
       "(array([ 12.,  28.,  74., 188., 452., 540., 382., 222.,  78.,  24.]),\n",
       " array([0.75748168, 0.7599702 , 0.76245872, 0.76494724, 0.76743576, 0.76992428, 0.7724128 , 0.77490132, 0.77738984, 0.77987836, 0.78236688]),\n",
       " <BarContainer object of 10 artists>)"
      ]
     },
     "execution_count": 51,
     "metadata": {},
     "output_type": "execute_result"
    },
    {
     "data": {
      "image/png": "[encoded data removed]",
      "text/plain": [
       "<Figure size 640x480 with 1 Axes>"
      ]
     },
     "metadata": {},
     "output_type": "display_data"
    }
   ],
   "source": [
    "plt.hist(t_0, alpha=0.7)"
   ]
  },
  {
   "cell_type": "markdown",
   "id": "60c6680d",
   "metadata": {},
   "source": [
    "auc_bootstrap = []\n",
    "for _ in range(2000):\n",
    "\n",
    "    X_test_re, y_test_re = resample(X_test, y_test, replace = True, random_state=0)\n",
    "\n",
    "    proba_0 = xgb_optuna_0.predict_proba(X_test_re)[:,1]\n",
    "\n",
    "    auc_bootstrap.append(roc_auc_score(y_test_re,proba_0))"
   ]
  },
  {
   "cell_type": "code",
   "execution_count": 30,
   "id": "ec64f084",
   "metadata": {},
   "outputs": [],
   "source": [
    "del X_train, X_test, y_train, y_test, X_val, y_val,study, optuna_auc"
   ]
  },
  {
   "cell_type": "markdown",
   "id": "3d4623dc",
   "metadata": {},
   "source": [
    "#### 1. 'Cat_가구주 장애 여부' 제거"
   ]
  },
  {
   "cell_type": "code",
   "execution_count": 29,
   "id": "678a712b",
   "metadata": {},
   "outputs": [],
   "source": [
    "column_to_drop = 'Cat_가구주 장애 여부'"
   ]
  },
  {
   "cell_type": "code",
   "execution_count": 30,
   "id": "b7f1db03",
   "metadata": {},
   "outputs": [
    {
     "name": "stdout",
     "output_type": "stream",
     "text": [
      "(8444, 211)\n"
     ]
    }
   ],
   "source": [
    "if not column_to_drop.startswith('Cat_'):\n",
    "    comp_1 = comp.drop(column_to_drop, axis=1)\n",
    "    X_1 = comp_1.drop('target', axis=1)\n",
    "    y_1 = comp_1['target']\n",
    "else:\n",
    "    comp_1 = comp.drop(comp.filter(regex='^' + column_to_drop).columns, axis=1)\n",
    "    X_1 = comp_1.drop('target', axis=1)\n",
    "    y_1 = comp_1['target']\n",
    "\n",
    "print(X_1.shape)"
   ]
  },
  {
   "cell_type": "code",
   "execution_count": 33,
   "id": "896d7bec",
   "metadata": {},
   "outputs": [],
   "source": [
    "import decimal\n",
    "context = decimal.getcontext()\n",
    "\n",
    "context.rounding = decimal.ROUND_HALF_UP"
   ]
  },
  {
   "cell_type": "code",
   "execution_count": 34,
   "id": "a90782bd",
   "metadata": {},
   "outputs": [],
   "source": [
    "X_train, X_test, y_train, y_test = train_test_split(X_1, y_1, test_size=0.2, shuffle=True, stratify=y_1, random_state = 0)\n",
    "X_train, X_val, y_train, y_val = train_test_split(X_train, y_train, test_size=0.2, shuffle=True, stratify=y_train, random_state = 0)"
   ]
  },
  {
   "cell_type": "code",
   "execution_count": 35,
   "id": "3675ae61",
   "metadata": {},
   "outputs": [],
   "source": [
    "def objective(trial):\n",
    "    params = {\n",
    "        'n_estimators' :trial.suggest_int('n_estimators', 50, 200),\n",
    "        'learning_rate' :trial.suggest_float('learning_rate',0.01, 0.1,step=0.01),\n",
    "        'max_depth' :trial.suggest_int('max_depth', 1, 10),\n",
    "        'max_leaves': trial.suggest_int('max_leaves', 2, 1024, step=2),\n",
    "        'subsample':trial.suggest_float('subsample', 0.1, 1.0,step=0.1),\n",
    "        'colsample_bytree' :trial.suggest_float('colsample_bytree', 0.1, 1.0,step=0.1),\n",
    "        'gamma' :trial.suggest_int('gamma',1, 10),\n",
    "        'reg_alpha' :trial.suggest_int('reg_alpha', 1, 10),\n",
    "        'reg_lambda' :trial.suggest_int('reg_lambda', 1, 10),\n",
    "        'booster' : trial.suggest_categorical('booster', ['gbtree']),\n",
    "        'objective' : trial.suggest_categorical('objective', ['binary:logistic'])\n",
    "\n",
    "        }\n",
    "        \n",
    "    clf = XGBClassifier(**params,random_state = 0)\n",
    "    clf.fit(X_train, y_train)\n",
    "    clf_proba = clf.predict_proba(X_val)[:, 1]\n",
    "        \n",
    "    AUC_SCORE = roc_auc_score(y_val, clf_proba)\n",
    "    return AUC_SCORE\n",
    "\n",
    "direction = \"maximize\"\n",
    "sampler = optuna.samplers.TPESampler(seed=10)\n",
    "study =  optuna.create_study(direction=direction, sampler=sampler, pruner=optuna.pruners.HyperbandPruner())\n",
    "early_stopping = EarlyStoppingCallback(10, direction=direction)\n",
    "study.optimize(objective, callbacks=[early_stopping], n_trials=200) "
   ]
  },
  {
   "cell_type": "code",
   "execution_count": 36,
   "id": "09bb9971",
   "metadata": {},
   "outputs": [
    {
     "name": "stdout",
     "output_type": "stream",
     "text": [
      "{'n_estimators': 127, 'learning_rate': 0.06999999999999999, 'max_depth': 7, 'max_leaves': 826, 'subsample': 0.6, 'colsample_bytree': 1.0, 'gamma': 4, 'reg_alpha': 1, 'reg_lambda': 4, 'booster': 'gbtree', 'objective': 'binary:logistic'}\n"
     ]
    }
   ],
   "source": [
    "print(study.best_trial.params)"
   ]
  },
  {
   "cell_type": "code",
   "execution_count": 37,
   "id": "b9292efc",
   "metadata": {},
   "outputs": [
    {
     "name": "stdout",
     "output_type": "stream",
     "text": [
      "0.7892349033629601\n"
     ]
    }
   ],
   "source": [
    "optuna_auc = study.best_trial.value\n",
    "print(optuna_auc)"
   ]
  },
  {
   "cell_type": "code",
   "execution_count": 38,
   "id": "96aea71d",
   "metadata": {},
   "outputs": [
    {
     "data": {
      "text/html": [
       "<style>#sk-container-id-2 {color: black;}#sk-container-id-2 pre{padding: 0;}#sk-container-id-2 div.sk-toggleable {background-color: white;}#sk-container-id-2 label.sk-toggleable__label {cursor: pointer;display: block;width: 100%;margin-bottom: 0;padding: 0.3em;box-sizing: border-box;text-align: center;}#sk-container-id-2 label.sk-toggleable__label-arrow:before {content: \"▸\";float: left;margin-right: 0.25em;color: #696969;}#sk-container-id-2 label.sk-toggleable__label-arrow:hover:before {color: black;}#sk-container-id-2 div.sk-estimator:hover label.sk-toggleable__label-arrow:before {color: black;}#sk-container-id-2 div.sk-toggleable__content {max-height: 0;max-width: 0;overflow: hidden;text-align: left;background-color: #f0f8ff;}#sk-container-id-2 div.sk-toggleable__content pre {margin: 0.2em;color: black;border-radius: 0.25em;background-color: #f0f8ff;}#sk-container-id-2 input.sk-toggleable__control:checked~div.sk-toggleable__content {max-height: 200px;max-width: 100%;overflow: auto;}#sk-container-id-2 input.sk-toggleable__control:checked~label.sk-toggleable__label-arrow:before {content: \"▾\";}#sk-container-id-2 div.sk-estimator input.sk-toggleable__control:checked~label.sk-toggleable__label {background-color: #d4ebff;}#sk-container-id-2 div.sk-label input.sk-toggleable__control:checked~label.sk-toggleable__label {background-color: #d4ebff;}#sk-container-id-2 input.sk-hidden--visually {border: 0;clip: rect(1px 1px 1px 1px);clip: rect(1px, 1px, 1px, 1px);height: 1px;margin: -1px;overflow: hidden;padding: 0;position: absolute;width: 1px;}#sk-container-id-2 div.sk-estimator {font-family: monospace;background-color: #f0f8ff;border: 1px dotted black;border-radius: 0.25em;box-sizing: border-box;margin-bottom: 0.5em;}#sk-container-id-2 div.sk-estimator:hover {background-color: #d4ebff;}#sk-container-id-2 div.sk-parallel-item::after {content: \"\";width: 100%;border-bottom: 1px solid gray;flex-grow: 1;}#sk-container-id-2 div.sk-label:hover label.sk-toggleable__label {background-color: #d4ebff;}#sk-container-id-2 div.sk-serial::before {content: \"\";position: absolute;border-left: 1px solid gray;box-sizing: border-box;top: 0;bottom: 0;left: 50%;z-index: 0;}#sk-container-id-2 div.sk-serial {display: flex;flex-direction: column;align-items: center;background-color: white;padding-right: 0.2em;padding-left: 0.2em;position: relative;}#sk-container-id-2 div.sk-item {position: relative;z-index: 1;}#sk-container-id-2 div.sk-parallel {display: flex;align-items: stretch;justify-content: center;background-color: white;position: relative;}#sk-container-id-2 div.sk-item::before, #sk-container-id-2 div.sk-parallel-item::before {content: \"\";position: absolute;border-left: 1px solid gray;box-sizing: border-box;top: 0;bottom: 0;left: 50%;z-index: -1;}#sk-container-id-2 div.sk-parallel-item {display: flex;flex-direction: column;z-index: 1;position: relative;background-color: white;}#sk-container-id-2 div.sk-parallel-item:first-child::after {align-self: flex-end;width: 50%;}#sk-container-id-2 div.sk-parallel-item:last-child::after {align-self: flex-start;width: 50%;}#sk-container-id-2 div.sk-parallel-item:only-child::after {width: 0;}#sk-container-id-2 div.sk-dashed-wrapped {border: 1px dashed gray;margin: 0 0.4em 0.5em 0.4em;box-sizing: border-box;padding-bottom: 0.4em;background-color: white;}#sk-container-id-2 div.sk-label label {font-family: monospace;font-weight: bold;display: inline-block;line-height: 1.2em;}#sk-container-id-2 div.sk-label-container {text-align: center;}#sk-container-id-2 div.sk-container {/* jupyter's `normalize.less` sets `[hidden] { display: none; }` but bootstrap.min.css set `[hidden] { display: none !important; }` so we also need the `!important` here to be able to override the default hidden behavior on the sphinx rendered scikit-learn.org. See: https://github.com/scikit-learn/scikit-learn/issues/21755 */display: inline-block !important;position: relative;}#sk-container-id-2 div.sk-text-repr-fallback {display: none;}</style><div id=\"sk-container-id-2\" class=\"sk-top-container\"><div class=\"sk-text-repr-fallback\"><pre>XGBClassifier(base_score=None, booster=&#x27;gbtree&#x27;, callbacks=None,\n",
       "              colsample_bylevel=None, colsample_bynode=None,\n",
       "              colsample_bytree=1.0, device=None, early_stopping_rounds=None,\n",
       "              enable_categorical=False, eval_metric=None, feature_types=None,\n",
       "              gamma=4, grow_policy=None, importance_type=None,\n",
       "              interaction_constraints=None, learning_rate=0.06999999999999999,\n",
       "              max_bin=None, max_cat_threshold=None, max_cat_to_onehot=None,\n",
       "              max_delta_step=None, max_depth=7, max_leaves=826,\n",
       "              min_child_weight=None, missing=nan, monotone_constraints=None,\n",
       "              multi_strategy=None, n_estimators=127, n_jobs=None,\n",
       "              num_parallel_tree=None, random_state=0, ...)</pre><b>In a Jupyter environment, please rerun this cell to show the HTML representation or trust the notebook. <br />On GitHub, the HTML representation is unable to render, please try loading this page with nbviewer.org.</b></div><div class=\"sk-container\" hidden><div class=\"sk-item\"><div class=\"sk-estimator sk-toggleable\"><input class=\"sk-toggleable__control sk-hidden--visually\" id=\"sk-estimator-id-2\" type=\"checkbox\" checked><label for=\"sk-estimator-id-2\" class=\"sk-toggleable__label sk-toggleable__label-arrow\">XGBClassifier</label><div class=\"sk-toggleable__content\"><pre>XGBClassifier(base_score=None, booster=&#x27;gbtree&#x27;, callbacks=None,\n",
       "              colsample_bylevel=None, colsample_bynode=None,\n",
       "              colsample_bytree=1.0, device=None, early_stopping_rounds=None,\n",
       "              enable_categorical=False, eval_metric=None, feature_types=None,\n",
       "              gamma=4, grow_policy=None, importance_type=None,\n",
       "              interaction_constraints=None, learning_rate=0.06999999999999999,\n",
       "              max_bin=None, max_cat_threshold=None, max_cat_to_onehot=None,\n",
       "              max_delta_step=None, max_depth=7, max_leaves=826,\n",
       "              min_child_weight=None, missing=nan, monotone_constraints=None,\n",
       "              multi_strategy=None, n_estimators=127, n_jobs=None,\n",
       "              num_parallel_tree=None, random_state=0, ...)</pre></div></div></div></div></div>"
      ],
      "text/plain": [
       "XGBClassifier(base_score=None, booster='gbtree', callbacks=None,\n",
       "              colsample_bylevel=None, colsample_bynode=None,\n",
       "              colsample_bytree=1.0, device=None, early_stopping_rounds=None,\n",
       "              enable_categorical=False, eval_metric=None, feature_types=None,\n",
       "              gamma=4, grow_policy=None, importance_type=None,\n",
       "              interaction_constraints=None, learning_rate=0.06999999999999999,\n",
       "              max_bin=None, max_cat_threshold=None, max_cat_to_onehot=None,\n",
       "              max_delta_step=None, max_depth=7, max_leaves=826,\n",
       "              min_child_weight=None, missing=nan, monotone_constraints=None,\n",
       "              multi_strategy=None, n_estimators=127, n_jobs=None,\n",
       "              num_parallel_tree=None, random_state=0, ...)"
      ]
     },
     "execution_count": 38,
     "metadata": {},
     "output_type": "execute_result"
    }
   ],
   "source": [
    "xgb_optuna_1 = XGBClassifier(**study.best_trial.params, random_state = 0)\n",
    "xgb_optuna_1.fit(X_train, y_train)"
   ]
  },
  {
   "cell_type": "code",
   "execution_count": 39,
   "id": "3ad6e205",
   "metadata": {},
   "outputs": [
    {
     "name": "stdout",
     "output_type": "stream",
     "text": [
      "0.7798956071299312\n"
     ]
    }
   ],
   "source": [
    "xgb_optuna_1_proba = xgb_optuna_1.predict_proba(X_test)[:, 1]\n",
    "auc_1 = roc_auc_score(y_test, xgb_optuna_1_proba)\n",
    "print(auc_1)"
   ]
  },
  {
   "cell_type": "code",
   "execution_count": 40,
   "id": "4eec34d0",
   "metadata": {},
   "outputs": [],
   "source": [
    "def permutation_test_between_clfs(y_test, pred_proba_1, pred_proba_2, nsamples=2000):\n",
    "    auc_differences = []\n",
    "    auc1 = roc_auc_score(y_test.ravel(), pred_proba_1.ravel())\n",
    "    auc2 = roc_auc_score(y_test.ravel(), pred_proba_2.ravel())\n",
    "    observed_difference = auc1 - auc2\n",
    "    for _ in range(nsamples):\n",
    "        mask = np.random.randint(2, size=len(pred_proba_1.ravel()))\n",
    "        p1 = np.where(mask, pred_proba_1.ravel(), pred_proba_2.ravel())\n",
    "        p2 = np.where(mask, pred_proba_2.ravel(), pred_proba_1.ravel())\n",
    "        auc1 = roc_auc_score(y_test.ravel(), p1)\n",
    "        auc2 = roc_auc_score(y_test.ravel(), p2)\n",
    "        auc_differences.append(auc1 - auc2)\n",
    "    return observed_difference, np.mean(auc_differences >= observed_difference)"
   ]
  },
  {
   "cell_type": "code",
   "execution_count": null,
   "id": "ea96ad4a",
   "metadata": {},
   "outputs": [],
   "source": []
  },
  {
   "cell_type": "code",
   "execution_count": 41,
   "id": "123e4692",
   "metadata": {},
   "outputs": [],
   "source": [
    "X_train = X_train.values\n",
    "y_train = y_train.values"
   ]
  },
  {
   "cell_type": "code",
   "execution_count": 42,
   "id": "122c3c17",
   "metadata": {},
   "outputs": [
    {
     "data": {
      "text/plain": [
       "[]"
      ]
     },
     "execution_count": 42,
     "metadata": {},
     "output_type": "execute_result"
    }
   ],
   "source": [
    "auc_bootstrap = []\n",
    "auc_bootstrap"
   ]
  },
  {
   "cell_type": "code",
   "execution_count": 43,
   "id": "6891d955",
   "metadata": {},
   "outputs": [
    {
     "ename": "KeyboardInterrupt",
     "evalue": "",
     "output_type": "error",
     "traceback": [
      "\u001b[1;31m---------------------------------------------------------------------------\u001b[0m",
      "\u001b[1;31mKeyboardInterrupt\u001b[0m                         Traceback (most recent call last)",
      "Cell \u001b[1;32mIn[43], line 2\u001b[0m\n\u001b[0;32m      1\u001b[0m rs \u001b[38;5;241m=\u001b[39m RandomState(seed \u001b[38;5;241m=\u001b[39m \u001b[38;5;241m1\u001b[39m)\n\u001b[1;32m----> 2\u001b[0m bootstrap_auc(xgb_optuna_1, X_train, y_train, X_test, y_test, nsamples\u001b[38;5;241m=\u001b[39m\u001b[38;5;241m1000\u001b[39m)\n",
      "Cell \u001b[1;32mIn[25], line 5\u001b[0m, in \u001b[0;36mbootstrap_auc\u001b[1;34m(clf, X_train, y_train, X_test, y_test, nsamples)\u001b[0m\n\u001b[0;32m      3\u001b[0m \u001b[38;5;28;01mfor\u001b[39;00m b \u001b[38;5;129;01min\u001b[39;00m \u001b[38;5;28mrange\u001b[39m(nsamples):\n\u001b[0;32m      4\u001b[0m     idx \u001b[38;5;241m=\u001b[39m rs\u001b[38;5;241m.\u001b[39mrandint(X_train\u001b[38;5;241m.\u001b[39mshape[\u001b[38;5;241m0\u001b[39m], size\u001b[38;5;241m=\u001b[39mX_train\u001b[38;5;241m.\u001b[39mshape[\u001b[38;5;241m0\u001b[39m])\n\u001b[1;32m----> 5\u001b[0m     clf\u001b[38;5;241m.\u001b[39mfit(X_train[idx], y_train[idx])\n\u001b[0;32m      6\u001b[0m     pred \u001b[38;5;241m=\u001b[39m clf\u001b[38;5;241m.\u001b[39mpredict_proba(X_test)[:, \u001b[38;5;241m1\u001b[39m]\n\u001b[0;32m      7\u001b[0m     roc_auc \u001b[38;5;241m=\u001b[39m roc_auc_score(y_test\u001b[38;5;241m.\u001b[39mravel(), pred\u001b[38;5;241m.\u001b[39mravel())\n",
      "File \u001b[1;32m~\\anaconda3\\Lib\\site-packages\\xgboost\\core.py:730\u001b[0m, in \u001b[0;36mrequire_keyword_args.<locals>.throw_if.<locals>.inner_f\u001b[1;34m(*args, **kwargs)\u001b[0m\n\u001b[0;32m    728\u001b[0m \u001b[38;5;28;01mfor\u001b[39;00m k, arg \u001b[38;5;129;01min\u001b[39;00m \u001b[38;5;28mzip\u001b[39m(sig\u001b[38;5;241m.\u001b[39mparameters, args):\n\u001b[0;32m    729\u001b[0m     kwargs[k] \u001b[38;5;241m=\u001b[39m arg\n\u001b[1;32m--> 730\u001b[0m \u001b[38;5;28;01mreturn\u001b[39;00m func(\u001b[38;5;241m*\u001b[39m\u001b[38;5;241m*\u001b[39mkwargs)\n",
      "File \u001b[1;32m~\\anaconda3\\Lib\\site-packages\\xgboost\\sklearn.py:1519\u001b[0m, in \u001b[0;36mXGBClassifier.fit\u001b[1;34m(self, X, y, sample_weight, base_margin, eval_set, eval_metric, early_stopping_rounds, verbose, xgb_model, sample_weight_eval_set, base_margin_eval_set, feature_weights, callbacks)\u001b[0m\n\u001b[0;32m   1491\u001b[0m (\n\u001b[0;32m   1492\u001b[0m     model,\n\u001b[0;32m   1493\u001b[0m     metric,\n\u001b[1;32m   (...)\u001b[0m\n\u001b[0;32m   1498\u001b[0m     xgb_model, eval_metric, params, early_stopping_rounds, callbacks\n\u001b[0;32m   1499\u001b[0m )\n\u001b[0;32m   1500\u001b[0m train_dmatrix, evals \u001b[38;5;241m=\u001b[39m _wrap_evaluation_matrices(\n\u001b[0;32m   1501\u001b[0m     missing\u001b[38;5;241m=\u001b[39m\u001b[38;5;28mself\u001b[39m\u001b[38;5;241m.\u001b[39mmissing,\n\u001b[0;32m   1502\u001b[0m     X\u001b[38;5;241m=\u001b[39mX,\n\u001b[1;32m   (...)\u001b[0m\n\u001b[0;32m   1516\u001b[0m     feature_types\u001b[38;5;241m=\u001b[39m\u001b[38;5;28mself\u001b[39m\u001b[38;5;241m.\u001b[39mfeature_types,\n\u001b[0;32m   1517\u001b[0m )\n\u001b[1;32m-> 1519\u001b[0m \u001b[38;5;28mself\u001b[39m\u001b[38;5;241m.\u001b[39m_Booster \u001b[38;5;241m=\u001b[39m train(\n\u001b[0;32m   1520\u001b[0m     params,\n\u001b[0;32m   1521\u001b[0m     train_dmatrix,\n\u001b[0;32m   1522\u001b[0m     \u001b[38;5;28mself\u001b[39m\u001b[38;5;241m.\u001b[39mget_num_boosting_rounds(),\n\u001b[0;32m   1523\u001b[0m     evals\u001b[38;5;241m=\u001b[39mevals,\n\u001b[0;32m   1524\u001b[0m     early_stopping_rounds\u001b[38;5;241m=\u001b[39mearly_stopping_rounds,\n\u001b[0;32m   1525\u001b[0m     evals_result\u001b[38;5;241m=\u001b[39mevals_result,\n\u001b[0;32m   1526\u001b[0m     obj\u001b[38;5;241m=\u001b[39mobj,\n\u001b[0;32m   1527\u001b[0m     custom_metric\u001b[38;5;241m=\u001b[39mmetric,\n\u001b[0;32m   1528\u001b[0m     verbose_eval\u001b[38;5;241m=\u001b[39mverbose,\n\u001b[0;32m   1529\u001b[0m     xgb_model\u001b[38;5;241m=\u001b[39mmodel,\n\u001b[0;32m   1530\u001b[0m     callbacks\u001b[38;5;241m=\u001b[39mcallbacks,\n\u001b[0;32m   1531\u001b[0m )\n\u001b[0;32m   1533\u001b[0m \u001b[38;5;28;01mif\u001b[39;00m \u001b[38;5;129;01mnot\u001b[39;00m \u001b[38;5;28mcallable\u001b[39m(\u001b[38;5;28mself\u001b[39m\u001b[38;5;241m.\u001b[39mobjective):\n\u001b[0;32m   1534\u001b[0m     \u001b[38;5;28mself\u001b[39m\u001b[38;5;241m.\u001b[39mobjective \u001b[38;5;241m=\u001b[39m params[\u001b[38;5;124m\"\u001b[39m\u001b[38;5;124mobjective\u001b[39m\u001b[38;5;124m\"\u001b[39m]\n",
      "File \u001b[1;32m~\\anaconda3\\Lib\\site-packages\\xgboost\\core.py:730\u001b[0m, in \u001b[0;36mrequire_keyword_args.<locals>.throw_if.<locals>.inner_f\u001b[1;34m(*args, **kwargs)\u001b[0m\n\u001b[0;32m    728\u001b[0m \u001b[38;5;28;01mfor\u001b[39;00m k, arg \u001b[38;5;129;01min\u001b[39;00m \u001b[38;5;28mzip\u001b[39m(sig\u001b[38;5;241m.\u001b[39mparameters, args):\n\u001b[0;32m    729\u001b[0m     kwargs[k] \u001b[38;5;241m=\u001b[39m arg\n\u001b[1;32m--> 730\u001b[0m \u001b[38;5;28;01mreturn\u001b[39;00m func(\u001b[38;5;241m*\u001b[39m\u001b[38;5;241m*\u001b[39mkwargs)\n",
      "File \u001b[1;32m~\\anaconda3\\Lib\\site-packages\\xgboost\\training.py:181\u001b[0m, in \u001b[0;36mtrain\u001b[1;34m(params, dtrain, num_boost_round, evals, obj, feval, maximize, early_stopping_rounds, evals_result, verbose_eval, xgb_model, callbacks, custom_metric)\u001b[0m\n\u001b[0;32m    179\u001b[0m \u001b[38;5;28;01mif\u001b[39;00m cb_container\u001b[38;5;241m.\u001b[39mbefore_iteration(bst, i, dtrain, evals):\n\u001b[0;32m    180\u001b[0m     \u001b[38;5;28;01mbreak\u001b[39;00m\n\u001b[1;32m--> 181\u001b[0m bst\u001b[38;5;241m.\u001b[39mupdate(dtrain, i, obj)\n\u001b[0;32m    182\u001b[0m \u001b[38;5;28;01mif\u001b[39;00m cb_container\u001b[38;5;241m.\u001b[39mafter_iteration(bst, i, dtrain, evals):\n\u001b[0;32m    183\u001b[0m     \u001b[38;5;28;01mbreak\u001b[39;00m\n",
      "File \u001b[1;32m~\\anaconda3\\Lib\\site-packages\\xgboost\\core.py:2051\u001b[0m, in \u001b[0;36mBooster.update\u001b[1;34m(self, dtrain, iteration, fobj)\u001b[0m\n\u001b[0;32m   2047\u001b[0m \u001b[38;5;28mself\u001b[39m\u001b[38;5;241m.\u001b[39m_assign_dmatrix_features(dtrain)\n\u001b[0;32m   2049\u001b[0m \u001b[38;5;28;01mif\u001b[39;00m fobj \u001b[38;5;129;01mis\u001b[39;00m \u001b[38;5;28;01mNone\u001b[39;00m:\n\u001b[0;32m   2050\u001b[0m     _check_call(\n\u001b[1;32m-> 2051\u001b[0m         _LIB\u001b[38;5;241m.\u001b[39mXGBoosterUpdateOneIter(\n\u001b[0;32m   2052\u001b[0m             \u001b[38;5;28mself\u001b[39m\u001b[38;5;241m.\u001b[39mhandle, ctypes\u001b[38;5;241m.\u001b[39mc_int(iteration), dtrain\u001b[38;5;241m.\u001b[39mhandle\n\u001b[0;32m   2053\u001b[0m         )\n\u001b[0;32m   2054\u001b[0m     )\n\u001b[0;32m   2055\u001b[0m \u001b[38;5;28;01melse\u001b[39;00m:\n\u001b[0;32m   2056\u001b[0m     pred \u001b[38;5;241m=\u001b[39m \u001b[38;5;28mself\u001b[39m\u001b[38;5;241m.\u001b[39mpredict(dtrain, output_margin\u001b[38;5;241m=\u001b[39m\u001b[38;5;28;01mTrue\u001b[39;00m, training\u001b[38;5;241m=\u001b[39m\u001b[38;5;28;01mTrue\u001b[39;00m)\n",
      "\u001b[1;31mKeyboardInterrupt\u001b[0m: "
     ]
    }
   ],
   "source": [
    "rs = RandomState(seed = 1)\n",
    "bootstrap_auc(xgb_optuna_1, X_train, y_train, X_test, y_test, nsamples=1000)"
   ]
  },
  {
   "cell_type": "code",
   "execution_count": null,
   "id": "29a93a2b",
   "metadata": {},
   "outputs": [],
   "source": [
    "decimal.Decimal('0.76368714').quantize(decimal.Decimal('1.000')), decimal.Decimal('0.77841037').quantize(decimal.Decimal('1.000'))"
   ]
  },
  {
   "cell_type": "code",
   "execution_count": null,
   "id": "7cb4bbd2",
   "metadata": {},
   "outputs": [],
   "source": [
    "shapiro(auc_bootstrap)"
   ]
  },
  {
   "cell_type": "code",
   "execution_count": null,
   "id": "876fa6ae",
   "metadata": {},
   "outputs": [],
   "source": [
    "np.mean(auc_bootstrap)"
   ]
  },
  {
   "cell_type": "code",
   "execution_count": null,
   "id": "41b3d3ea",
   "metadata": {},
   "outputs": [],
   "source": [
    "decimal.Decimal('0.7709262407256606').quantize(decimal.Decimal('1.000'))"
   ]
  },
  {
   "cell_type": "code",
   "execution_count": null,
   "id": "d0cba3b6",
   "metadata": {},
   "outputs": [],
   "source": [
    "t_1 = auc_bootstrap\n",
    "print(t_1)"
   ]
  },
  {
   "cell_type": "code",
   "execution_count": null,
   "id": "5e7f21df",
   "metadata": {},
   "outputs": [],
   "source": [
    "del X_train, X_test, y_train, y_test, X_val, y_val,study, optuna_auc"
   ]
  },
  {
   "cell_type": "markdown",
   "id": "6cc4e761",
   "metadata": {},
   "source": [
    "#### 2. Cat_가구주 동거 여부\t제거"
   ]
  },
  {
   "cell_type": "code",
   "execution_count": 31,
   "id": "e828120c",
   "metadata": {},
   "outputs": [],
   "source": [
    "column_to_drop_1 = 'Cat_가구주 동거 여부'"
   ]
  },
  {
   "cell_type": "code",
   "execution_count": 32,
   "id": "f7f65cb9",
   "metadata": {},
   "outputs": [
    {
     "name": "stdout",
     "output_type": "stream",
     "text": [
      "(8444, 210)\n"
     ]
    }
   ],
   "source": [
    "if not column_to_drop_1.startswith('Cat_'):\n",
    "    comp_2 = comp_1.drop(column_to_drop_1, axis=1)\n",
    "    X_2 = comp_2.drop('target', axis=1)\n",
    "    y_2 = comp_2['target']\n",
    "else:\n",
    "    comp_2 = comp_1.drop(comp_1.filter(regex='^' + column_to_drop_1).columns, axis=1)\n",
    "    X_2 = comp_2.drop('target', axis=1)\n",
    "    y_2 = comp_2['target']\n",
    "\n",
    "print(X_2.shape)"
   ]
  },
  {
   "cell_type": "code",
   "execution_count": null,
   "id": "d0e518c7",
   "metadata": {},
   "outputs": [],
   "source": [
    "X_train, X_test, y_train, y_test = train_test_split(X_2, y_2, test_size=0.2, shuffle=True, stratify=y_2, random_state = 0)\n",
    "X_train, X_val, y_train, y_val = train_test_split(X_train, y_train, test_size=0.2, shuffle=True, stratify=y_train, random_state = 0)"
   ]
  },
  {
   "cell_type": "code",
   "execution_count": null,
   "id": "b991c45e",
   "metadata": {},
   "outputs": [],
   "source": [
    "def objective(trial):\n",
    "    params = {\n",
    "        'n_estimators' :trial.suggest_int('n_estimators', 50, 200),\n",
    "        'learning_rate' :trial.suggest_float('learning_rate',0.01, 0.1,step=0.01),\n",
    "        'max_depth' :trial.suggest_int('max_depth', 1, 10),\n",
    "        'max_leaves': trial.suggest_int('max_leaves', 2, 1024, step=2),\n",
    "        'subsample':trial.suggest_float('subsample', 0.1, 1.0,step=0.1),\n",
    "        'colsample_bytree' :trial.suggest_float('colsample_bytree', 0.1, 1.0,step=0.1),\n",
    "        'gamma' :trial.suggest_int('gamma',1, 10),\n",
    "        'reg_alpha' :trial.suggest_int('reg_alpha', 1, 10),\n",
    "        'reg_lambda' :trial.suggest_int('reg_lambda', 1, 10),\n",
    "        'booster' : trial.suggest_categorical('booster', ['gbtree']),\n",
    "        'objective' : trial.suggest_categorical('objective', ['binary:logistic'])\n",
    "        }\n",
    "        \n",
    "    clf = XGBClassifier(**params,random_state = 0)\n",
    "    clf.fit(X_train, y_train)\n",
    "    clf_proba = clf.predict_proba(X_val)[:, 1]\n",
    "        \n",
    "    AUC_SCORE = roc_auc_score(y_val, clf_proba)\n",
    "    return AUC_SCORE\n",
    "\n",
    "direction = \"maximize\"\n",
    "sampler = optuna.samplers.TPESampler(seed=10)\n",
    "study =  optuna.create_study(direction=direction, sampler=sampler, pruner=optuna.pruners.HyperbandPruner())\n",
    "early_stopping = EarlyStoppingCallback(10, direction=direction)\n",
    "study.optimize(objective, callbacks=[early_stopping], n_trials=200) "
   ]
  },
  {
   "cell_type": "code",
   "execution_count": null,
   "id": "77833143",
   "metadata": {},
   "outputs": [],
   "source": [
    "print(study.best_trial.params)\n",
    "optuna_auc = study.best_trial.value\n",
    "print(optuna_auc)"
   ]
  },
  {
   "cell_type": "code",
   "execution_count": null,
   "id": "d38034a9",
   "metadata": {},
   "outputs": [],
   "source": [
    "xgb_optuna_2 = XGBClassifier(**study.best_trial.params, random_state = 0)\n",
    "xgb_optuna_2.fit(X_train, y_train)"
   ]
  },
  {
   "cell_type": "code",
   "execution_count": null,
   "id": "0e048911",
   "metadata": {},
   "outputs": [],
   "source": [
    "xgb_optuna_2_proba = xgb_optuna_2.predict_proba(X_test)[:, 1]\n",
    "auc_2 = roc_auc_score(y_test, xgb_optuna_2_proba)\n",
    "print(decimal.Decimal(auc_2).quantize(decimal.Decimal('1.000')))"
   ]
  },
  {
   "cell_type": "code",
   "execution_count": null,
   "id": "031cd5b2",
   "metadata": {},
   "outputs": [],
   "source": [
    "X_train = X_train.values\n",
    "y_train = y_train.values"
   ]
  },
  {
   "cell_type": "code",
   "execution_count": null,
   "id": "24f076cd",
   "metadata": {},
   "outputs": [],
   "source": [
    "auc_bootstrap = []"
   ]
  },
  {
   "cell_type": "code",
   "execution_count": null,
   "id": "054c0de2",
   "metadata": {},
   "outputs": [],
   "source": [
    "rs = RandomState(seed = 2)\n",
    "bootstrap_auc(xgb_optuna_2, X_train, y_train, X_test, y_test, nsamples=1000)"
   ]
  },
  {
   "cell_type": "code",
   "execution_count": null,
   "id": "aadc1c01",
   "metadata": {},
   "outputs": [],
   "source": [
    "decimal.Decimal('0.763322').quantize(decimal.Decimal('1.000')), decimal.Decimal('0.77834399').quantize(decimal.Decimal('1.000'))"
   ]
  },
  {
   "cell_type": "code",
   "execution_count": null,
   "id": "a2527d7b",
   "metadata": {},
   "outputs": [],
   "source": [
    "shapiro(auc_bootstrap)"
   ]
  },
  {
   "cell_type": "code",
   "execution_count": null,
   "id": "00a14652",
   "metadata": {},
   "outputs": [],
   "source": [
    "np.mean(auc_bootstrap)"
   ]
  },
  {
   "cell_type": "code",
   "execution_count": null,
   "id": "eba8cc38",
   "metadata": {},
   "outputs": [],
   "source": [
    "decimal.Decimal('0.7709589705907302').quantize(decimal.Decimal('1.000'))"
   ]
  },
  {
   "cell_type": "code",
   "execution_count": null,
   "id": "e2428327",
   "metadata": {},
   "outputs": [],
   "source": [
    "t_2 = auc_bootstrap\n",
    "print(t_2)"
   ]
  },
  {
   "cell_type": "code",
   "execution_count": null,
   "id": "a0910530",
   "metadata": {},
   "outputs": [],
   "source": [
    "del X_train, X_test, y_train, y_test, X_val, y_val,study, optuna_auc"
   ]
  },
  {
   "cell_type": "markdown",
   "id": "9fa76fe5",
   "metadata": {},
   "source": [
    "#### 3. 부채 중 임대 보증금의 비중\t 제거"
   ]
  },
  {
   "cell_type": "code",
   "execution_count": 33,
   "id": "6757ae4b",
   "metadata": {},
   "outputs": [],
   "source": [
    "column_to_drop_2 = '부채 중 임대 보증금의 비중'"
   ]
  },
  {
   "cell_type": "code",
   "execution_count": 34,
   "id": "141d425a",
   "metadata": {},
   "outputs": [
    {
     "name": "stdout",
     "output_type": "stream",
     "text": [
      "(8444, 209)\n"
     ]
    }
   ],
   "source": [
    "if not column_to_drop_2.startswith('Cat_'):\n",
    "    comp_3 = comp_2.drop(column_to_drop_2, axis=1)\n",
    "    X_3 = comp_3.drop('target', axis=1)\n",
    "    y_3 = comp_3['target']\n",
    "else:\n",
    "    comp_3 = comp_2.drop(comp_2.filter(regex='^' + column_to_drop_2).columns, axis=1)\n",
    "    X_3 = comp_3.drop('target', axis=1)\n",
    "    y_3 = comp_3['target']\n",
    "\n",
    "print(X_3.shape)"
   ]
  },
  {
   "cell_type": "code",
   "execution_count": null,
   "id": "320b1c20",
   "metadata": {},
   "outputs": [],
   "source": [
    "X_train, X_test, y_train, y_test = train_test_split(X_3, y_3, test_size=0.2, shuffle=True, stratify=y_3, random_state = 0)\n",
    "X_train, X_val, y_train, y_val = train_test_split(X_train, y_train, test_size=0.2, shuffle=True, stratify=y_train, random_state = 0)"
   ]
  },
  {
   "cell_type": "code",
   "execution_count": null,
   "id": "284da3d1",
   "metadata": {},
   "outputs": [],
   "source": [
    "def objective(trial):\n",
    "    params = {\n",
    "        'n_estimators' :trial.suggest_int('n_estimators', 50, 200),\n",
    "        'learning_rate' :trial.suggest_float('learning_rate',0.01, 0.1,step=0.01),\n",
    "        'max_depth' :trial.suggest_int('max_depth', 1, 10),\n",
    "        'max_leaves': trial.suggest_int('max_leaves', 2, 1024, step=2),\n",
    "        'subsample':trial.suggest_float('subsample', 0.1, 1.0,step=0.1),\n",
    "        'colsample_bytree' :trial.suggest_float('colsample_bytree', 0.1, 1.0,step=0.1),\n",
    "        'gamma' :trial.suggest_int('gamma',1, 10),\n",
    "        'reg_alpha' :trial.suggest_int('reg_alpha', 1, 10),\n",
    "        'reg_lambda' :trial.suggest_int('reg_lambda', 1, 10),\n",
    "        'booster' : trial.suggest_categorical('booster', ['gbtree']),\n",
    "        'objective' : trial.suggest_categorical('objective', ['binary:logistic'])\n",
    "        }\n",
    "        \n",
    "    clf = XGBClassifier(**params,random_state = 0)\n",
    "    clf.fit(X_train, y_train)\n",
    "    clf_proba = clf.predict_proba(X_val)[:, 1]\n",
    "        \n",
    "    AUC_SCORE = roc_auc_score(y_val, clf_proba)\n",
    "    return AUC_SCORE\n",
    "\n",
    "direction = \"maximize\"\n",
    "sampler = optuna.samplers.TPESampler(seed=10)\n",
    "study =  optuna.create_study(direction=direction, sampler=sampler, pruner=optuna.pruners.HyperbandPruner())\n",
    "early_stopping = EarlyStoppingCallback(10, direction=direction)\n",
    "study.optimize(objective, callbacks=[early_stopping], n_trials=200) "
   ]
  },
  {
   "cell_type": "code",
   "execution_count": null,
   "id": "41b0517d",
   "metadata": {},
   "outputs": [],
   "source": [
    "print(study.best_trial.params)\n",
    "optuna_auc = study.best_trial.value\n",
    "print(optuna_auc)"
   ]
  },
  {
   "cell_type": "code",
   "execution_count": null,
   "id": "1d96afea",
   "metadata": {},
   "outputs": [],
   "source": [
    "xgb_optuna_3 = XGBClassifier(**study.best_trial.params, random_state = 0)\n",
    "xgb_optuna_3.fit(X_train, y_train)"
   ]
  },
  {
   "cell_type": "code",
   "execution_count": null,
   "id": "d966e795",
   "metadata": {},
   "outputs": [],
   "source": [
    "xgb_optuna_3_proba = xgb_optuna_3.predict_proba(X_test)[:, 1]\n",
    "auc_3 = roc_auc_score(y_test, xgb_optuna_3_proba)\n",
    "print(decimal.Decimal(auc_3).quantize(decimal.Decimal('1.000')))"
   ]
  },
  {
   "cell_type": "code",
   "execution_count": null,
   "id": "84b4f189",
   "metadata": {},
   "outputs": [],
   "source": []
  },
  {
   "cell_type": "code",
   "execution_count": null,
   "id": "1b7e87dc",
   "metadata": {},
   "outputs": [],
   "source": [
    "X_train = X_train.values\n",
    "y_train = y_train.values"
   ]
  },
  {
   "cell_type": "code",
   "execution_count": null,
   "id": "3dc17a3b",
   "metadata": {},
   "outputs": [],
   "source": [
    "auc_bootstrap = []"
   ]
  },
  {
   "cell_type": "code",
   "execution_count": null,
   "id": "7163527d",
   "metadata": {},
   "outputs": [],
   "source": [
    "rs = RandomState(seed = 3)\n",
    "bootstrap_auc(xgb_optuna_3, X_train, y_train, X_test, y_test, nsamples=1000)"
   ]
  },
  {
   "cell_type": "code",
   "execution_count": null,
   "id": "06e19ea5",
   "metadata": {},
   "outputs": [],
   "source": [
    "decimal.Decimal('0.76336265').quantize(decimal.Decimal('1.000')), decimal.Decimal('0.7781291').quantize(decimal.Decimal('1.000'))"
   ]
  },
  {
   "cell_type": "code",
   "execution_count": null,
   "id": "4e59dfd5",
   "metadata": {},
   "outputs": [],
   "source": [
    "shapiro(auc_bootstrap)"
   ]
  },
  {
   "cell_type": "code",
   "execution_count": null,
   "id": "dbba6efc",
   "metadata": {},
   "outputs": [],
   "source": [
    "decimal.Decimal('0.7709458006045286').quantize(decimal.Decimal('1.000'))"
   ]
  },
  {
   "cell_type": "code",
   "execution_count": null,
   "id": "c1f3981c",
   "metadata": {},
   "outputs": [],
   "source": [
    "t_3 = auc_bootstrap\n",
    "print(t_3)"
   ]
  },
  {
   "cell_type": "code",
   "execution_count": null,
   "id": "a7ef7ba5",
   "metadata": {},
   "outputs": [],
   "source": [
    "del X_train, X_test, y_train, y_test, X_val, y_val,study, optuna_auc"
   ]
  },
  {
   "cell_type": "code",
   "execution_count": 35,
   "id": "fac25b5b",
   "metadata": {},
   "outputs": [],
   "source": [
    "### 4. 소득 중 재산소득의 비중(월평균) \n",
    "column_to_drop_3 = '소득 중 재산소득의 비중(월평균)'"
   ]
  },
  {
   "cell_type": "code",
   "execution_count": 36,
   "id": "ed0c6753",
   "metadata": {},
   "outputs": [
    {
     "name": "stdout",
     "output_type": "stream",
     "text": [
      "(8444, 208)\n"
     ]
    }
   ],
   "source": [
    "if not column_to_drop_3.startswith('Cat_'):\n",
    "    comp_4 = comp_3.drop(column_to_drop_3, axis=1)\n",
    "    X_4 = comp_4.drop('target', axis=1)\n",
    "    y_4 = comp_4['target']\n",
    "else:\n",
    "    comp_4 = comp_3.drop(comp_3.filter(regex='^' + column_to_drop_3).columns, axis=1)\n",
    "    X_4 = comp_4.drop('target', axis=1)\n",
    "    y_4 = comp_4['target']\n",
    "\n",
    "print(X_4.shape)"
   ]
  },
  {
   "cell_type": "code",
   "execution_count": null,
   "id": "a753227e",
   "metadata": {},
   "outputs": [],
   "source": [
    "X_train, X_test, y_train, y_test = train_test_split(X_4, y_4, test_size=0.2, shuffle=True, stratify=y_4, random_state = 0)\n",
    "X_train, X_val, y_train, y_val = train_test_split(X_train, y_train, test_size=0.2, shuffle=True, stratify=y_train, random_state = 0)"
   ]
  },
  {
   "cell_type": "code",
   "execution_count": null,
   "id": "60c874fb",
   "metadata": {},
   "outputs": [],
   "source": [
    "def objective(trial):\n",
    "    params = {\n",
    "        'n_estimators' :trial.suggest_int('n_estimators', 50, 200),\n",
    "        'learning_rate' :trial.suggest_float('learning_rate',0.01, 0.1,step=0.01),\n",
    "        'max_depth' :trial.suggest_int('max_depth', 1, 10),\n",
    "        'max_leaves': trial.suggest_int('max_leaves', 2, 1024, step=2),\n",
    "        'subsample':trial.suggest_float('subsample', 0.1, 1.0,step=0.1),\n",
    "        'colsample_bytree' :trial.suggest_float('colsample_bytree', 0.1, 1.0,step=0.1),\n",
    "        'gamma' :trial.suggest_int('gamma',1, 10),\n",
    "        'reg_alpha' :trial.suggest_int('reg_alpha', 1, 10),\n",
    "        'reg_lambda' :trial.suggest_int('reg_lambda', 1, 10),\n",
    "        'booster' : trial.suggest_categorical('booster', ['gbtree']),\n",
    "        'objective' : trial.suggest_categorical('objective', ['binary:logistic'])\n",
    "        }\n",
    "        \n",
    "    clf = XGBClassifier(**params,random_state = 0)\n",
    "    clf.fit(X_train, y_train)\n",
    "    clf_proba = clf.predict_proba(X_val)[:, 1]\n",
    "        \n",
    "    AUC_SCORE = roc_auc_score(y_val, clf_proba)\n",
    "    return AUC_SCORE\n",
    "\n",
    "direction = \"maximize\"\n",
    "sampler = optuna.samplers.TPESampler(seed=10)\n",
    "study =  optuna.create_study(direction=direction, sampler=sampler, pruner=optuna.pruners.HyperbandPruner())\n",
    "early_stopping = EarlyStoppingCallback(10, direction=direction)\n",
    "study.optimize(objective, callbacks=[early_stopping], n_trials=200) "
   ]
  },
  {
   "cell_type": "code",
   "execution_count": null,
   "id": "72df3b79",
   "metadata": {},
   "outputs": [],
   "source": [
    "print(study.best_trial.params)\n",
    "optuna_auc = study.best_trial.value\n",
    "print(optuna_auc)"
   ]
  },
  {
   "cell_type": "code",
   "execution_count": null,
   "id": "45c07b93",
   "metadata": {},
   "outputs": [],
   "source": [
    "xgb_optuna_4 = XGBClassifier(**study.best_trial.params, random_state = 0)\n",
    "xgb_optuna_4.fit(X_train, y_train)"
   ]
  },
  {
   "cell_type": "code",
   "execution_count": null,
   "id": "2d7c0ccd",
   "metadata": {},
   "outputs": [],
   "source": [
    "xgb_optuna_4_proba = xgb_optuna_4.predict_proba(X_test)[:, 1]\n",
    "auc_4 = roc_auc_score(y_test, xgb_optuna_4_proba)\n",
    "print(decimal.Decimal(auc_4).quantize(decimal.Decimal('1.000')))"
   ]
  },
  {
   "cell_type": "code",
   "execution_count": null,
   "id": "3fa72a7f",
   "metadata": {},
   "outputs": [],
   "source": [
    "X_train = X_train.values\n",
    "y_train = y_train.values"
   ]
  },
  {
   "cell_type": "code",
   "execution_count": null,
   "id": "11cc53e7",
   "metadata": {},
   "outputs": [],
   "source": [
    "auc_bootstrap = []"
   ]
  },
  {
   "cell_type": "code",
   "execution_count": null,
   "id": "3fdfe7be",
   "metadata": {},
   "outputs": [],
   "source": [
    "rs = RandomState(seed = 4)\n",
    "bootstrap_auc(xgb_optuna_4, X_train, y_train, X_test, y_test, nsamples=1000)"
   ]
  },
  {
   "cell_type": "code",
   "execution_count": null,
   "id": "1a839438",
   "metadata": {},
   "outputs": [],
   "source": [
    "decimal.Decimal('0.76275603').quantize(decimal.Decimal('1.000')), decimal.Decimal('0.77823223').quantize(decimal.Decimal('1.000'))"
   ]
  },
  {
   "cell_type": "code",
   "execution_count": null,
   "id": "a20211f9",
   "metadata": {},
   "outputs": [],
   "source": [
    "shapiro(auc_bootstrap)"
   ]
  },
  {
   "cell_type": "code",
   "execution_count": null,
   "id": "91ea5a0f",
   "metadata": {},
   "outputs": [],
   "source": [
    "np.mean(auc_bootstrap)"
   ]
  },
  {
   "cell_type": "code",
   "execution_count": null,
   "id": "cc938f4b",
   "metadata": {},
   "outputs": [],
   "source": [
    "decimal.Decimal('0.770843661639296').quantize(decimal.Decimal('1.000'))"
   ]
  },
  {
   "cell_type": "code",
   "execution_count": null,
   "id": "e80b2700",
   "metadata": {},
   "outputs": [],
   "source": [
    "t_4 = auc_bootstrap\n",
    "print(t_4)"
   ]
  },
  {
   "cell_type": "code",
   "execution_count": 37,
   "id": "f23b77f0",
   "metadata": {},
   "outputs": [],
   "source": [
    "## 5.소득 중 사회보험 수혜금의 비중(월평균)\n",
    "column_to_drop_4 = '소득 중 사회보험 수혜금의 비중(월평균)'"
   ]
  },
  {
   "cell_type": "code",
   "execution_count": 38,
   "id": "a77f2034",
   "metadata": {},
   "outputs": [
    {
     "name": "stdout",
     "output_type": "stream",
     "text": [
      "(8444, 207)\n"
     ]
    }
   ],
   "source": [
    "if not column_to_drop_4.startswith('Cat_'):\n",
    "    comp_5 = comp_4.drop(column_to_drop_4, axis=1)\n",
    "    X_5 = comp_5.drop('target', axis=1)\n",
    "    y_5 = comp_5['target']\n",
    "else:\n",
    "    comp_5 = comp_4.drop(comp_4.filter(regex='^' + column_to_drop_4).columns, axis=1)\n",
    "    X_5 = comp_5.drop('target', axis=1)\n",
    "    y_5 = comp_5['target']\n",
    "\n",
    "print(X_5.shape)"
   ]
  },
  {
   "cell_type": "code",
   "execution_count": null,
   "id": "820ca745",
   "metadata": {},
   "outputs": [],
   "source": [
    "X_train, X_test, y_train, y_test = train_test_split(X_5, y_5, test_size=0.2, shuffle=True, stratify=y_5, random_state = 0)\n",
    "X_train, X_val, y_train, y_val = train_test_split(X_train, y_train, test_size=0.2, shuffle=True, stratify=y_train, random_state = 0)"
   ]
  },
  {
   "cell_type": "code",
   "execution_count": null,
   "id": "8468083c",
   "metadata": {},
   "outputs": [],
   "source": [
    "def objective(trial):\n",
    "    params = {\n",
    "        'n_estimators' :trial.suggest_int('n_estimators', 50, 200),\n",
    "        'learning_rate' :trial.suggest_float('learning_rate',0.01, 0.1,step=0.01),\n",
    "        'max_depth' :trial.suggest_int('max_depth', 1, 10),\n",
    "        'max_leaves': trial.suggest_int('max_leaves', 2, 1024, step=2),\n",
    "        'subsample':trial.suggest_float('subsample', 0.1, 1.0,step=0.1),\n",
    "        'colsample_bytree' :trial.suggest_float('colsample_bytree', 0.1, 1.0,step=0.1),\n",
    "        'gamma' :trial.suggest_int('gamma',1, 10),\n",
    "        'reg_alpha' :trial.suggest_int('reg_alpha', 1, 10),\n",
    "        'reg_lambda' :trial.suggest_int('reg_lambda', 1, 10),\n",
    "        'booster' : trial.suggest_categorical('booster', ['gbtree']),\n",
    "        'objective' : trial.suggest_categorical('objective', ['binary:logistic'])\n",
    "        }\n",
    "        \n",
    "    clf = XGBClassifier(**params,random_state = 0)\n",
    "    clf.fit(X_train, y_train)\n",
    "    clf_proba = clf.predict_proba(X_val)[:, 1]\n",
    "        \n",
    "    AUC_SCORE = roc_auc_score(y_val, clf_proba)\n",
    "    return AUC_SCORE\n",
    "\n",
    "direction = \"maximize\"\n",
    "sampler = optuna.samplers.TPESampler(seed=10)\n",
    "study =  optuna.create_study(direction=direction, sampler=sampler, pruner=optuna.pruners.HyperbandPruner())\n",
    "early_stopping = EarlyStoppingCallback(10, direction=direction)\n",
    "study.optimize(objective, callbacks=[early_stopping], n_trials=200) "
   ]
  },
  {
   "cell_type": "code",
   "execution_count": null,
   "id": "fddb8238",
   "metadata": {},
   "outputs": [],
   "source": [
    "print(study.best_trial.params)\n",
    "optuna_auc = study.best_trial.value\n",
    "print(optuna_auc)"
   ]
  },
  {
   "cell_type": "code",
   "execution_count": null,
   "id": "e9498dbe",
   "metadata": {},
   "outputs": [],
   "source": [
    "xgb_optuna_5 = XGBClassifier(**study.best_trial.params, random_state = 0)\n",
    "xgb_optuna_5.fit(X_train, y_train)"
   ]
  },
  {
   "cell_type": "code",
   "execution_count": null,
   "id": "f5449a5e",
   "metadata": {},
   "outputs": [],
   "source": [
    "xgb_optuna_5_proba = xgb_optuna_5.predict_proba(X_test)[:, 1]\n",
    "auc_5 = roc_auc_score(y_test, xgb_optuna_5_proba)\n",
    "print(decimal.Decimal(auc_5).quantize(decimal.Decimal('1.000')))"
   ]
  },
  {
   "cell_type": "code",
   "execution_count": null,
   "id": "1fc246e0",
   "metadata": {},
   "outputs": [],
   "source": [
    "X_train = X_train.values\n",
    "y_train = y_train.values"
   ]
  },
  {
   "cell_type": "code",
   "execution_count": null,
   "id": "8a635a21",
   "metadata": {},
   "outputs": [],
   "source": [
    "auc_bootstrap = []"
   ]
  },
  {
   "cell_type": "code",
   "execution_count": null,
   "id": "0fb3907a",
   "metadata": {},
   "outputs": [],
   "source": [
    "rs = RandomState(seed = 5)\n",
    "bootstrap_auc(xgb_optuna_5, X_train, y_train, X_test, y_test, nsamples=1000)"
   ]
  },
  {
   "cell_type": "code",
   "execution_count": null,
   "id": "da89fd23",
   "metadata": {},
   "outputs": [],
   "source": [
    "decimal.Decimal('0.76356167').quantize(decimal.Decimal('1.000')), decimal.Decimal('0.77847056').quantize(decimal.Decimal('1.000'))"
   ]
  },
  {
   "cell_type": "code",
   "execution_count": null,
   "id": "0b6df473",
   "metadata": {},
   "outputs": [],
   "source": [
    "shapiro(auc_bootstrap)"
   ]
  },
  {
   "cell_type": "code",
   "execution_count": null,
   "id": "44ac923d",
   "metadata": {},
   "outputs": [],
   "source": [
    "np.mean(auc_bootstrap)"
   ]
  },
  {
   "cell_type": "code",
   "execution_count": null,
   "id": "6b1a351b",
   "metadata": {},
   "outputs": [],
   "source": [
    "decimal.Decimal('0.7709745036955981').quantize(decimal.Decimal('1.000'))"
   ]
  },
  {
   "cell_type": "code",
   "execution_count": null,
   "id": "ba989cd7",
   "metadata": {},
   "outputs": [],
   "source": [
    "t_5 = auc_bootstrap\n",
    "print(t_5)"
   ]
  },
  {
   "cell_type": "code",
   "execution_count": null,
   "id": "a29a792a",
   "metadata": {},
   "outputs": [],
   "source": [
    "del X_train, X_test, y_train, y_test, X_val, y_val,study, optuna_auc"
   ]
  },
  {
   "cell_type": "code",
   "execution_count": 39,
   "id": "a8dd3cc0",
   "metadata": {},
   "outputs": [],
   "source": [
    "## 6.부채 중 비금융기관 대출금의 비중\t\n",
    "column_to_drop_5 = '부채 중 비금융기관 대출금의 비중'"
   ]
  },
  {
   "cell_type": "code",
   "execution_count": 40,
   "id": "12e3908e",
   "metadata": {},
   "outputs": [
    {
     "name": "stdout",
     "output_type": "stream",
     "text": [
      "(8444, 206)\n"
     ]
    }
   ],
   "source": [
    "if not column_to_drop_5.startswith('Cat_'):\n",
    "    comp_6 = comp_5.drop(column_to_drop_5, axis=1)\n",
    "    X_6 = comp_6.drop('target', axis=1)\n",
    "    y_6 = comp_6['target']\n",
    "else:\n",
    "    comp_6 = comp_5.drop(comp_5.filter(regex='^' + column_to_drop_5).columns, axis=1)\n",
    "    X_6 = comp_6.drop('target', axis=1)\n",
    "    y_6 = comp_6['target']\n",
    "\n",
    "print(X_6.shape)"
   ]
  },
  {
   "cell_type": "code",
   "execution_count": null,
   "id": "33e19b97",
   "metadata": {},
   "outputs": [],
   "source": [
    "X_train, X_test, y_train, y_test = train_test_split(X_6, y_6, test_size=0.2, shuffle=True, stratify=y_6, random_state = 0)\n",
    "X_train, X_val, y_train, y_val = train_test_split(X_train, y_train, test_size=0.2, shuffle=True, stratify=y_train, random_state = 0)"
   ]
  },
  {
   "cell_type": "code",
   "execution_count": null,
   "id": "b005b980",
   "metadata": {},
   "outputs": [],
   "source": [
    "def objective(trial):\n",
    "    params = {\n",
    "        'n_estimators' :trial.suggest_int('n_estimators', 50, 200),\n",
    "        'learning_rate' :trial.suggest_float('learning_rate',0.01, 0.1,step=0.01),\n",
    "        'max_depth' :trial.suggest_int('max_depth', 1, 10),\n",
    "        'max_leaves': trial.suggest_int('max_leaves', 2, 1024, step=2),\n",
    "        'subsample':trial.suggest_float('subsample', 0.1, 1.0,step=0.1),\n",
    "        'colsample_bytree' :trial.suggest_float('colsample_bytree', 0.1, 1.0,step=0.1),\n",
    "        'gamma' :trial.suggest_int('gamma',1, 10),\n",
    "        'reg_alpha' :trial.suggest_int('reg_alpha', 1, 10),\n",
    "        'reg_lambda' :trial.suggest_int('reg_lambda', 1, 10),\n",
    "        'booster' : trial.suggest_categorical('booster', ['gbtree']),\n",
    "        'objective' : trial.suggest_categorical('objective', ['binary:logistic'])\n",
    "        }\n",
    "        \n",
    "    clf = XGBClassifier(**params,random_state = 0)\n",
    "    clf.fit(X_train, y_train)\n",
    "    clf_proba = clf.predict_proba(X_val)[:, 1]\n",
    "        \n",
    "    AUC_SCORE = roc_auc_score(y_val, clf_proba)\n",
    "    return AUC_SCORE\n",
    "\n",
    "direction = \"maximize\"\n",
    "sampler = optuna.samplers.TPESampler(seed=10)\n",
    "study =  optuna.create_study(direction=direction, sampler=sampler, pruner=optuna.pruners.HyperbandPruner())\n",
    "early_stopping = EarlyStoppingCallback(10, direction=direction)\n",
    "study.optimize(objective, callbacks=[early_stopping], n_trials=200) "
   ]
  },
  {
   "cell_type": "code",
   "execution_count": null,
   "id": "b5cb7a69",
   "metadata": {},
   "outputs": [],
   "source": [
    "print(study.best_trial.params)\n",
    "optuna_auc = study.best_trial.value\n",
    "print(optuna_auc)"
   ]
  },
  {
   "cell_type": "code",
   "execution_count": null,
   "id": "7bf7a576",
   "metadata": {},
   "outputs": [],
   "source": [
    "xgb_optuna_6 = XGBClassifier(**study.best_trial.params, random_state = 0)\n",
    "xgb_optuna_6.fit(X_train, y_train)"
   ]
  },
  {
   "cell_type": "code",
   "execution_count": null,
   "id": "4ded8dfe",
   "metadata": {},
   "outputs": [],
   "source": [
    "xgb_optuna_proba_6 = xgb_optuna_6.predict_proba(X_test)[:, 1]\n",
    "auc_6 = roc_auc_score(y_test, xgb_optuna_proba_6)\n",
    "print(decimal.Decimal(auc_6).quantize(decimal.Decimal('1.000')))"
   ]
  },
  {
   "cell_type": "code",
   "execution_count": null,
   "id": "875a55d8",
   "metadata": {},
   "outputs": [],
   "source": [
    "X_train = X_train.values\n",
    "y_train = y_train.values"
   ]
  },
  {
   "cell_type": "code",
   "execution_count": null,
   "id": "66700186",
   "metadata": {},
   "outputs": [],
   "source": [
    "auc_bootstrap = []"
   ]
  },
  {
   "cell_type": "code",
   "execution_count": null,
   "id": "c5e1bc41",
   "metadata": {},
   "outputs": [],
   "source": [
    "rs = RandomState(seed = 6)\n",
    "bootstrap_auc(xgb_optuna_6, X_train, y_train, X_test, y_test, nsamples=1000)"
   ]
  },
  {
   "cell_type": "code",
   "execution_count": null,
   "id": "9e0baded",
   "metadata": {},
   "outputs": [],
   "source": [
    "decimal.Decimal('0.76356381').quantize(decimal.Decimal('1.000')), decimal.Decimal('0.77801815').quantize(decimal.Decimal('1.000'))"
   ]
  },
  {
   "cell_type": "code",
   "execution_count": null,
   "id": "dca363c8",
   "metadata": {},
   "outputs": [],
   "source": [
    "shapiro(auc_bootstrap)"
   ]
  },
  {
   "cell_type": "code",
   "execution_count": null,
   "id": "1c661994",
   "metadata": {},
   "outputs": [],
   "source": [
    "np.mean(auc_bootstrap)"
   ]
  },
  {
   "cell_type": "code",
   "execution_count": null,
   "id": "47bfc760",
   "metadata": {},
   "outputs": [],
   "source": [
    "decimal.Decimal('0.770935725363622').quantize(decimal.Decimal('1.000'))"
   ]
  },
  {
   "cell_type": "code",
   "execution_count": null,
   "id": "c5052760",
   "metadata": {},
   "outputs": [],
   "source": [
    "t_6 = auc_bootstrap\n",
    "print(t_6)"
   ]
  },
  {
   "cell_type": "code",
   "execution_count": null,
   "id": "c5f407c8",
   "metadata": {},
   "outputs": [],
   "source": [
    "del X_train, X_test, y_train, y_test, X_val, y_val,study, optuna_auc"
   ]
  },
  {
   "cell_type": "code",
   "execution_count": 41,
   "id": "8f060cf9",
   "metadata": {},
   "outputs": [],
   "source": [
    "## 7 . 자산 중 부동산 자산의 비중\t\n",
    "column_to_drop_6 = '자산 중 부동산 자산의 비중'"
   ]
  },
  {
   "cell_type": "code",
   "execution_count": 42,
   "id": "a6508f66",
   "metadata": {},
   "outputs": [
    {
     "name": "stdout",
     "output_type": "stream",
     "text": [
      "(8444, 205)\n"
     ]
    }
   ],
   "source": [
    "if not column_to_drop_6.startswith('Cat_'):\n",
    "    comp_7 = comp_6.drop(column_to_drop_6, axis=1)\n",
    "    X_7 = comp_7.drop('target', axis=1)\n",
    "    y_7 = comp_7['target']\n",
    "else:\n",
    "    comp_7 = comp_6.drop(comp_6.filter(regex='^' + column_to_drop_6).columns, axis=1)\n",
    "    X_7 = comp_7.drop('target', axis=1)\n",
    "    y_7 = comp_7['target']\n",
    "\n",
    "print(X_7.shape)"
   ]
  },
  {
   "cell_type": "code",
   "execution_count": null,
   "id": "f1063727",
   "metadata": {},
   "outputs": [],
   "source": [
    "X_train, X_test, y_train, y_test = train_test_split(X_7, y_7, test_size=0.2, shuffle=True, stratify=y_7, random_state = 0)\n",
    "X_train, X_val, y_train, y_val = train_test_split(X_train, y_train, test_size=0.2, shuffle=True, stratify=y_train, random_state = 0)"
   ]
  },
  {
   "cell_type": "code",
   "execution_count": null,
   "id": "8b4dc1ad",
   "metadata": {},
   "outputs": [],
   "source": [
    "def objective(trial):\n",
    "    params = {\n",
    "        'n_estimators' :trial.suggest_int('n_estimators', 50, 200),\n",
    "        'learning_rate' :trial.suggest_float('learning_rate',0.01, 0.1,step=0.01),\n",
    "        'max_depth' :trial.suggest_int('max_depth', 1, 10),\n",
    "        'max_leaves': trial.suggest_int('max_leaves', 2, 1024, step=2),\n",
    "        'subsample':trial.suggest_float('subsample', 0.1, 1.0,step=0.1),\n",
    "        'colsample_bytree' :trial.suggest_float('colsample_bytree', 0.1, 1.0,step=0.1),\n",
    "        'gamma' :trial.suggest_int('gamma',1, 10),\n",
    "        'reg_alpha' :trial.suggest_int('reg_alpha', 1, 10),\n",
    "        'reg_lambda' :trial.suggest_int('reg_lambda', 1, 10),\n",
    "        'booster' : trial.suggest_categorical('booster', ['gbtree']),\n",
    "        'objective' : trial.suggest_categorical('objective', ['binary:logistic'])\n",
    "        }\n",
    "        \n",
    "    clf = XGBClassifier(**params,random_state = 0)\n",
    "    clf.fit(X_train, y_train)\n",
    "    clf_proba = clf.predict_proba(X_val)[:, 1]\n",
    "        \n",
    "    AUC_SCORE = roc_auc_score(y_val, clf_proba)\n",
    "    return AUC_SCORE\n",
    "\n",
    "direction = \"maximize\"\n",
    "sampler = optuna.samplers.TPESampler(seed=10)\n",
    "study =  optuna.create_study(direction=direction, sampler=sampler, pruner=optuna.pruners.HyperbandPruner())\n",
    "early_stopping = EarlyStoppingCallback(10, direction=direction)\n",
    "study.optimize(objective, callbacks=[early_stopping], n_trials=200)"
   ]
  },
  {
   "cell_type": "code",
   "execution_count": null,
   "id": "037daacc",
   "metadata": {},
   "outputs": [],
   "source": [
    "print(study.best_trial.params)\n",
    "optuna_auc = study.best_trial.value\n",
    "print(optuna_auc)"
   ]
  },
  {
   "cell_type": "code",
   "execution_count": null,
   "id": "8cea29cd",
   "metadata": {},
   "outputs": [],
   "source": [
    "xgb_optuna_7 = XGBClassifier(**study.best_trial.params, random_state = 0)\n",
    "xgb_optuna_7.fit(X_train, y_train)"
   ]
  },
  {
   "cell_type": "code",
   "execution_count": null,
   "id": "751c618c",
   "metadata": {},
   "outputs": [],
   "source": [
    "xgb_optuna_proba_7 = xgb_optuna_7.predict_proba(X_test)[:, 1]\n",
    "auc_7 = roc_auc_score(y_test, xgb_optuna_proba_7)\n",
    "print(decimal.Decimal(auc_7).quantize(decimal.Decimal('1.000')))"
   ]
  },
  {
   "cell_type": "code",
   "execution_count": null,
   "id": "8541e3ba",
   "metadata": {},
   "outputs": [],
   "source": [
    "X_train = X_train.values\n",
    "y_train = y_train.values"
   ]
  },
  {
   "cell_type": "code",
   "execution_count": null,
   "id": "d90d35c3",
   "metadata": {},
   "outputs": [],
   "source": [
    "auc_bootstrap = []"
   ]
  },
  {
   "cell_type": "code",
   "execution_count": null,
   "id": "2b0075fb",
   "metadata": {},
   "outputs": [],
   "source": [
    "rs = RandomState(seed = 7)\n",
    "bootstrap_auc(xgb_optuna_7, X_train, y_train, X_test, y_test, nsamples=1000)"
   ]
  },
  {
   "cell_type": "code",
   "execution_count": null,
   "id": "f7d88020",
   "metadata": {},
   "outputs": [],
   "source": [
    "decimal.Decimal('0.7634543').quantize(decimal.Decimal('1.000')), decimal.Decimal('0.77866898').quantize(decimal.Decimal('1.000'))"
   ]
  },
  {
   "cell_type": "code",
   "execution_count": null,
   "id": "b1b4d5dd",
   "metadata": {},
   "outputs": [],
   "source": [
    "shapiro(auc_bootstrap), np.mean(auc_bootstrap)"
   ]
  },
  {
   "cell_type": "code",
   "execution_count": null,
   "id": "23afc1e3",
   "metadata": {},
   "outputs": [],
   "source": [
    "t_7 = auc_bootstrap\n",
    "print(t_7)"
   ]
  },
  {
   "cell_type": "code",
   "execution_count": null,
   "id": "caac03ba",
   "metadata": {},
   "outputs": [],
   "source": [
    "np.mean(t_7)"
   ]
  },
  {
   "cell_type": "code",
   "execution_count": null,
   "id": "6b4caec8",
   "metadata": {},
   "outputs": [],
   "source": [
    "del X_train, X_test, y_train, y_test, X_val, y_val,study, optuna_auc"
   ]
  },
  {
   "cell_type": "code",
   "execution_count": 43,
   "id": "0f790daa",
   "metadata": {},
   "outputs": [],
   "source": [
    "## 8 .Cat_현재 주택의 위치\t\n",
    "column_to_drop_7 = 'Cat_현재 주택의 위치'"
   ]
  },
  {
   "cell_type": "code",
   "execution_count": 44,
   "id": "011a93c3",
   "metadata": {},
   "outputs": [
    {
     "name": "stdout",
     "output_type": "stream",
     "text": [
      "(8444, 201)\n"
     ]
    }
   ],
   "source": [
    "if not column_to_drop_7.startswith('Cat_'):\n",
    "    comp_8 = comp_7.drop(column_to_drop_7, axis=1)\n",
    "    X_8 = comp_8.drop('target', axis=1)\n",
    "    y_8 = comp_8['target']\n",
    "else:\n",
    "    comp_8 = comp_7.drop(comp_7.filter(regex='^' + column_to_drop_7).columns, axis=1)\n",
    "    X_8 = comp_8.drop('target', axis=1)\n",
    "    y_8 = comp_8['target']\n",
    "\n",
    "print(X_8.shape)"
   ]
  },
  {
   "cell_type": "code",
   "execution_count": null,
   "id": "37ee9f2d",
   "metadata": {},
   "outputs": [],
   "source": [
    "X_train, X_test, y_train, y_test = train_test_split(X_8, y_8, test_size=0.2, shuffle=True, stratify=y_8, random_state = 0)\n",
    "X_train, X_val, y_train, y_val = train_test_split(X_train, y_train, test_size=0.2, shuffle=True, stratify=y_train, random_state = 0)"
   ]
  },
  {
   "cell_type": "code",
   "execution_count": null,
   "id": "aaecbabf",
   "metadata": {},
   "outputs": [],
   "source": [
    "def objective(trial):\n",
    "    params = {\n",
    "        'n_estimators' :trial.suggest_int('n_estimators', 50, 200),\n",
    "        'learning_rate' :trial.suggest_float('learning_rate',0.01, 0.1,step=0.01),\n",
    "        'max_depth' :trial.suggest_int('max_depth', 1, 10),\n",
    "        'max_leaves': trial.suggest_int('max_leaves', 2, 1024, step=2),\n",
    "        'subsample':trial.suggest_float('subsample', 0.1, 1.0,step=0.1),\n",
    "        'colsample_bytree' :trial.suggest_float('colsample_bytree', 0.1, 1.0,step=0.1),\n",
    "        'gamma' :trial.suggest_int('gamma',1, 10),\n",
    "        'reg_alpha' :trial.suggest_int('reg_alpha', 1, 10),\n",
    "        'reg_lambda' :trial.suggest_int('reg_lambda', 1, 10),\n",
    "        'booster' : trial.suggest_categorical('booster', ['gbtree']),\n",
    "        'objective' : trial.suggest_categorical('objective', ['binary:logistic'])\n",
    "        }\n",
    "        \n",
    "    clf = XGBClassifier(**params,random_state = 0)\n",
    "    clf.fit(X_train, y_train)\n",
    "    clf_proba = clf.predict_proba(X_val)[:, 1]\n",
    "        \n",
    "    AUC_SCORE = roc_auc_score(y_val, clf_proba)\n",
    "    return AUC_SCORE\n",
    "\n",
    "direction = \"maximize\"\n",
    "sampler = optuna.samplers.TPESampler(seed=10)\n",
    "study =  optuna.create_study(direction=direction, sampler=sampler, pruner=optuna.pruners.HyperbandPruner())\n",
    "early_stopping = EarlyStoppingCallback(10, direction=direction)\n",
    "study.optimize(objective, callbacks=[early_stopping], n_trials=200) "
   ]
  },
  {
   "cell_type": "code",
   "execution_count": null,
   "id": "7a09d1e8",
   "metadata": {},
   "outputs": [],
   "source": [
    "print(study.best_trial.params)\n",
    "optuna_auc = study.best_trial.value\n",
    "print(optuna_auc)"
   ]
  },
  {
   "cell_type": "code",
   "execution_count": null,
   "id": "1ce37407",
   "metadata": {},
   "outputs": [],
   "source": [
    "xgb_optuna_8 = XGBClassifier(**study.best_trial.params, random_state = 0)\n",
    "xgb_optuna_8.fit(X_train, y_train)"
   ]
  },
  {
   "cell_type": "code",
   "execution_count": null,
   "id": "6077a19e",
   "metadata": {},
   "outputs": [],
   "source": [
    "xgb_optuna_proba_8 = xgb_optuna_8.predict_proba(X_test)[:, 1]\n",
    "auc_8 = roc_auc_score(y_test, xgb_optuna_proba_8)\n",
    "print(decimal.Decimal(auc_8).quantize(decimal.Decimal('1.000')))"
   ]
  },
  {
   "cell_type": "code",
   "execution_count": null,
   "id": "f289dee9",
   "metadata": {},
   "outputs": [],
   "source": [
    "X_train = X_train.values\n",
    "y_train = y_train.values"
   ]
  },
  {
   "cell_type": "code",
   "execution_count": null,
   "id": "1312c76e",
   "metadata": {},
   "outputs": [],
   "source": [
    "auc_bootstrap = []"
   ]
  },
  {
   "cell_type": "code",
   "execution_count": null,
   "id": "c7234ff8",
   "metadata": {},
   "outputs": [],
   "source": [
    "rs = RandomState(seed = 8)\n",
    "bootstrap_auc(xgb_optuna_8, X_train, y_train, X_test, y_test, nsamples=1000)"
   ]
  },
  {
   "cell_type": "code",
   "execution_count": null,
   "id": "edbe711d",
   "metadata": {},
   "outputs": [],
   "source": [
    "decimal.Decimal('0.76345281').quantize(decimal.Decimal('1.000')), decimal.Decimal('0.77841981').quantize(decimal.Decimal('1.000'))"
   ]
  },
  {
   "cell_type": "code",
   "execution_count": null,
   "id": "19dda620",
   "metadata": {},
   "outputs": [],
   "source": [
    "shapiro(auc_bootstrap), np.mean(auc_bootstrap)"
   ]
  },
  {
   "cell_type": "code",
   "execution_count": null,
   "id": "805e8bb1",
   "metadata": {},
   "outputs": [],
   "source": [
    "t_8 = auc_bootstrap\n",
    "print(t_8)"
   ]
  },
  {
   "cell_type": "code",
   "execution_count": null,
   "id": "e22d8854",
   "metadata": {},
   "outputs": [],
   "source": [
    "np.mean(t_8)"
   ]
  },
  {
   "cell_type": "code",
   "execution_count": null,
   "id": "f76f8f5a",
   "metadata": {},
   "outputs": [],
   "source": [
    "decimal.Decimal('0.76356167').quantize(decimal.Decimal('1.000'))"
   ]
  },
  {
   "cell_type": "code",
   "execution_count": null,
   "id": "987ab939",
   "metadata": {},
   "outputs": [],
   "source": [
    "del X_train, X_test, y_train, y_test, X_val, y_val,study, optuna_auc"
   ]
  },
  {
   "cell_type": "code",
   "execution_count": 45,
   "id": "efbf5b72",
   "metadata": {},
   "outputs": [],
   "source": [
    "#9.Cat_이사 계획 첫 번째 이유\n",
    "column_to_drop_8 = 'Cat_이사 계획 첫 번째 이유'"
   ]
  },
  {
   "cell_type": "code",
   "execution_count": 46,
   "id": "0fb25e50",
   "metadata": {},
   "outputs": [
    {
     "name": "stdout",
     "output_type": "stream",
     "text": [
      "(8444, 188)\n"
     ]
    }
   ],
   "source": [
    "if not column_to_drop_8.startswith('Cat_'):\n",
    "    comp_9 = comp_8.drop(column_to_drop_8, axis=1)\n",
    "    X_9 = comp_9.drop('target', axis=1)\n",
    "    y_9 = comp_9['target']\n",
    "else:\n",
    "    comp_9 = comp_8.drop(comp_8.filter(regex='^' + column_to_drop_8).columns, axis=1)\n",
    "    X_9 = comp_9.drop('target', axis=1)\n",
    "    y_9 = comp_9['target']\n",
    "\n",
    "print(X_9.shape)"
   ]
  },
  {
   "cell_type": "code",
   "execution_count": null,
   "id": "fe8776b4",
   "metadata": {},
   "outputs": [],
   "source": [
    "X_train, X_test, y_train, y_test = train_test_split(X_9, y_9, test_size=0.2, shuffle=True, stratify=y_9, random_state = 0)\n",
    "X_train, X_val, y_train, y_val = train_test_split(X_train, y_train, test_size=0.2, shuffle=True, stratify=y_train, random_state = 0)"
   ]
  },
  {
   "cell_type": "code",
   "execution_count": null,
   "id": "da15b335",
   "metadata": {},
   "outputs": [],
   "source": [
    "def objective(trial):\n",
    "    params = {\n",
    "        'n_estimators' :trial.suggest_int('n_estimators', 50, 200),\n",
    "        'learning_rate' :trial.suggest_float('learning_rate',0.01, 0.1,step=0.01),\n",
    "        'max_depth' :trial.suggest_int('max_depth', 1, 10),\n",
    "        'max_leaves': trial.suggest_int('max_leaves', 2, 1024, step=2),\n",
    "        'subsample':trial.suggest_float('subsample', 0.1, 1.0,step=0.1),\n",
    "        'colsample_bytree' :trial.suggest_float('colsample_bytree', 0.1, 1.0,step=0.1),\n",
    "        'gamma' :trial.suggest_int('gamma',1, 10),\n",
    "        'reg_alpha' :trial.suggest_int('reg_alpha', 1, 10),\n",
    "        'reg_lambda' :trial.suggest_int('reg_lambda', 1, 10),\n",
    "        'booster' : trial.suggest_categorical('booster', ['gbtree']),\n",
    "        'objective' : trial.suggest_categorical('objective', ['binary:logistic'])\n",
    "        }\n",
    "        \n",
    "    clf = XGBClassifier(**params,random_state = 0)\n",
    "    clf.fit(X_train, y_train)\n",
    "    clf_proba = clf.predict_proba(X_val)[:, 1]\n",
    "        \n",
    "    AUC_SCORE = roc_auc_score(y_val, clf_proba)\n",
    "    return AUC_SCORE\n",
    "\n",
    "direction = \"maximize\"\n",
    "sampler = optuna.samplers.TPESampler(seed=10)\n",
    "study =  optuna.create_study(direction=direction, sampler=sampler, pruner=optuna.pruners.HyperbandPruner())\n",
    "early_stopping = EarlyStoppingCallback(10, direction=direction)\n",
    "study.optimize(objective, callbacks=[early_stopping], n_trials=200) "
   ]
  },
  {
   "cell_type": "code",
   "execution_count": null,
   "id": "c8103a6d",
   "metadata": {},
   "outputs": [],
   "source": [
    "print(study.best_trial.params)\n",
    "optuna_auc = study.best_trial.value\n",
    "print(optuna_auc)"
   ]
  },
  {
   "cell_type": "code",
   "execution_count": null,
   "id": "61dfd635",
   "metadata": {},
   "outputs": [],
   "source": [
    "xgb_optuna_9 = XGBClassifier(**study.best_trial.params, random_state = 0)\n",
    "xgb_optuna_9.fit(X_train, y_train)"
   ]
  },
  {
   "cell_type": "code",
   "execution_count": null,
   "id": "6006695a",
   "metadata": {},
   "outputs": [],
   "source": [
    "xgb_optuna_proba_9 = xgb_optuna_9.predict_proba(X_test)[:, 1]\n",
    "auc_9 = roc_auc_score(y_test, xgb_optuna_proba_9)\n",
    "print(decimal.Decimal(auc_9).quantize(decimal.Decimal('1.000')))"
   ]
  },
  {
   "cell_type": "code",
   "execution_count": null,
   "id": "fca15900",
   "metadata": {},
   "outputs": [],
   "source": [
    "X_train = X_train.values\n",
    "y_train = y_train.values"
   ]
  },
  {
   "cell_type": "code",
   "execution_count": null,
   "id": "34f2fa2a",
   "metadata": {},
   "outputs": [],
   "source": [
    "auc_bootstrap = []"
   ]
  },
  {
   "cell_type": "code",
   "execution_count": null,
   "id": "a804fc77",
   "metadata": {},
   "outputs": [],
   "source": [
    "rs = RandomState(seed = 9)\n",
    "bootstrap_auc(xgb_optuna_9, X_train, y_train, X_test, y_test, nsamples=1000)"
   ]
  },
  {
   "cell_type": "code",
   "execution_count": null,
   "id": "39877ec5",
   "metadata": {},
   "outputs": [],
   "source": [
    "shapiro(auc_bootstrap), np.mean(auc_bootstrap)"
   ]
  },
  {
   "cell_type": "code",
   "execution_count": null,
   "id": "65b5e6f1",
   "metadata": {},
   "outputs": [],
   "source": [
    "t_9 = auc_bootstrap\n",
    "print(t_9)"
   ]
  },
  {
   "cell_type": "code",
   "execution_count": null,
   "id": "57212c93",
   "metadata": {},
   "outputs": [],
   "source": [
    "del X_train, X_test, y_train, y_test, X_val, y_val,study, optuna_auc"
   ]
  },
  {
   "cell_type": "code",
   "execution_count": 47,
   "id": "639c39cb",
   "metadata": {},
   "outputs": [],
   "source": [
    "# 10.Cat_이사 예상 기간\n",
    "column_to_drop_9 = 'Cat_이사 예상 기간'"
   ]
  },
  {
   "cell_type": "code",
   "execution_count": 48,
   "id": "5bc2925e",
   "metadata": {},
   "outputs": [
    {
     "name": "stdout",
     "output_type": "stream",
     "text": [
      "(8444, 184)\n"
     ]
    }
   ],
   "source": [
    "if not column_to_drop_9.startswith('Cat_'):\n",
    "    comp_10 = comp_9.drop(column_to_drop_9, axis=1)\n",
    "    X_10 = comp_10.drop('target', axis=1)\n",
    "    y_10 = comp_10['target']\n",
    "else:\n",
    "    comp_10 = comp_9.drop(comp_9.filter(regex='^' + column_to_drop_9).columns, axis=1)\n",
    "    X_10 = comp_10.drop('target', axis=1)\n",
    "    y_10 = comp_10['target']\n",
    "\n",
    "print(X_10.shape)"
   ]
  },
  {
   "cell_type": "code",
   "execution_count": null,
   "id": "da0c33e7",
   "metadata": {},
   "outputs": [],
   "source": [
    "X_train, X_test, y_train, y_test = train_test_split(X_10, y_10, test_size=0.2, shuffle=True, stratify=y_10, random_state = 0)\n",
    "X_train, X_val, y_train, y_val = train_test_split(X_train, y_train, test_size=0.2, shuffle=True, stratify=y_train, random_state = 0)"
   ]
  },
  {
   "cell_type": "code",
   "execution_count": null,
   "id": "f8bd8ab0",
   "metadata": {},
   "outputs": [],
   "source": [
    "def objective(trial):\n",
    "    params = {\n",
    "        'n_estimators' :trial.suggest_int('n_estimators', 50, 200),\n",
    "        'learning_rate' :trial.suggest_float('learning_rate',0.01, 0.1,step=0.01),\n",
    "        'max_depth' :trial.suggest_int('max_depth', 1, 10),\n",
    "        'max_leaves': trial.suggest_int('max_leaves', 2, 1024, step=2),\n",
    "        'subsample':trial.suggest_float('subsample', 0.1, 1.0,step=0.1),\n",
    "        'colsample_bytree' :trial.suggest_float('colsample_bytree', 0.1, 1.0,step=0.1),\n",
    "        'gamma' :trial.suggest_int('gamma',1, 10),\n",
    "        'reg_alpha' :trial.suggest_int('reg_alpha', 1, 10),\n",
    "        'reg_lambda' :trial.suggest_int('reg_lambda', 1, 10),\n",
    "        'booster' : trial.suggest_categorical('booster', ['gbtree']),\n",
    "        'objective' : trial.suggest_categorical('objective', ['binary:logistic'])\n",
    "        }\n",
    "        \n",
    "    clf = XGBClassifier(**params,random_state = 0)\n",
    "    clf.fit(X_train, y_train)\n",
    "    clf_proba = clf.predict_proba(X_val)[:, 1]\n",
    "        \n",
    "    AUC_SCORE = roc_auc_score(y_val, clf_proba)\n",
    "    return AUC_SCORE\n",
    "\n",
    "direction = \"maximize\"\n",
    "sampler = optuna.samplers.TPESampler(seed=10)\n",
    "study =  optuna.create_study(direction=direction, sampler=sampler, pruner=optuna.pruners.HyperbandPruner())\n",
    "early_stopping = EarlyStoppingCallback(10, direction=direction)\n",
    "study.optimize(objective, callbacks=[early_stopping], n_trials=200) "
   ]
  },
  {
   "cell_type": "code",
   "execution_count": null,
   "id": "739e3b24",
   "metadata": {},
   "outputs": [],
   "source": [
    "print(study.best_trial.params)\n",
    "optuna_auc = study.best_trial.value\n",
    "print(optuna_auc)"
   ]
  },
  {
   "cell_type": "code",
   "execution_count": null,
   "id": "d24b98c8",
   "metadata": {},
   "outputs": [],
   "source": [
    "xgb_optuna_10 = XGBClassifier(**study.best_trial.params, random_state=0)\n",
    "xgb_optuna_10.fit(X_train, y_train)"
   ]
  },
  {
   "cell_type": "code",
   "execution_count": null,
   "id": "4d9c0bb1",
   "metadata": {},
   "outputs": [],
   "source": [
    "xgb_optuna_proba_10 = xgb_optuna_10.predict_proba(X_test)[:, 1]\n",
    "auc_10 = roc_auc_score(y_test, xgb_optuna_proba_10)\n",
    "print(decimal.Decimal(auc_10).quantize(decimal.Decimal('1.000')))"
   ]
  },
  {
   "cell_type": "code",
   "execution_count": null,
   "id": "e155d989",
   "metadata": {},
   "outputs": [],
   "source": [
    "X_train = X_train.values\n",
    "y_train = y_train.values"
   ]
  },
  {
   "cell_type": "code",
   "execution_count": null,
   "id": "83cfea8f",
   "metadata": {},
   "outputs": [],
   "source": [
    "auc_bootstrap = []"
   ]
  },
  {
   "cell_type": "code",
   "execution_count": null,
   "id": "4413b9a4",
   "metadata": {},
   "outputs": [],
   "source": [
    "rs = RandomState(seed = 10)\n",
    "bootstrap_auc(xgb_optuna_10, X_train, y_train, X_test, y_test, nsamples=1000)"
   ]
  },
  {
   "cell_type": "code",
   "execution_count": null,
   "id": "a82f36bd",
   "metadata": {},
   "outputs": [],
   "source": [
    "shapiro(auc_bootstrap), np.mean(auc_bootstrap)"
   ]
  },
  {
   "cell_type": "code",
   "execution_count": null,
   "id": "03a46471",
   "metadata": {},
   "outputs": [],
   "source": [
    "t_10 = auc_bootstrap\n",
    "print(t_10)"
   ]
  },
  {
   "cell_type": "code",
   "execution_count": null,
   "id": "e5fc408e",
   "metadata": {},
   "outputs": [],
   "source": [
    "from scipy.stats import bartlett\n",
    "\n",
    "bartlett(t_9, t_10)"
   ]
  },
  {
   "cell_type": "code",
   "execution_count": null,
   "id": "1d6e62a0",
   "metadata": {},
   "outputs": [],
   "source": [
    "import pingouin as pg\n",
    "ca = pg.ttest(t_9, t_10, paired=False)\n",
    "print(ca)"
   ]
  },
  {
   "cell_type": "code",
   "execution_count": null,
   "id": "930116c8",
   "metadata": {},
   "outputs": [],
   "source": [
    "import pingouin as pg\n",
    "ca = pg.ttest(t_7, t_10, paired=False)\n",
    "print(ca)"
   ]
  },
  {
   "cell_type": "code",
   "execution_count": null,
   "id": "f75a2d7c",
   "metadata": {},
   "outputs": [],
   "source": [
    "del X_train, X_test, y_train, y_test, X_val, y_val,study, optuna_auc"
   ]
  },
  {
   "cell_type": "code",
   "execution_count": 49,
   "id": "e7ff90fe",
   "metadata": {},
   "outputs": [],
   "source": [
    "# 11.Cat_기초생활보장 수급가구 여부\t\n",
    "column_to_drop_10 = 'Cat_기초생활보장 수급가구 여부'"
   ]
  },
  {
   "cell_type": "code",
   "execution_count": 50,
   "id": "2f996e0c",
   "metadata": {},
   "outputs": [
    {
     "name": "stdout",
     "output_type": "stream",
     "text": [
      "(8444, 182)\n"
     ]
    }
   ],
   "source": [
    "if not column_to_drop_10.startswith('Cat_'):\n",
    "    comp_11 = comp_10.drop(column_to_drop_10, axis=1)\n",
    "    X_11 = comp_11.drop('target', axis=1)\n",
    "    y_11 = comp_11['target']\n",
    "else:\n",
    "    comp_11 = comp_10.drop(comp_10.filter(regex='^' + column_to_drop_10).columns, axis=1)\n",
    "    X_11 = comp_11.drop('target', axis=1)\n",
    "    y_11 = comp_11['target']\n",
    "\n",
    "print(X_11.shape)"
   ]
  },
  {
   "cell_type": "code",
   "execution_count": null,
   "id": "e0aaa9b8",
   "metadata": {},
   "outputs": [],
   "source": [
    "X_train, X_test, y_train, y_test = train_test_split(X_11, y_11, test_size=0.2, shuffle=True, stratify=y_11, random_state = 0)\n",
    "X_train, X_val, y_train, y_val = train_test_split(X_train, y_train, test_size=0.2, shuffle=True, stratify=y_train, random_state = 0)"
   ]
  },
  {
   "cell_type": "code",
   "execution_count": null,
   "id": "29b0961f",
   "metadata": {},
   "outputs": [],
   "source": [
    "def objective(trial):\n",
    "    params = {\n",
    "        'n_estimators' :trial.suggest_int('n_estimators', 50, 200),\n",
    "        'learning_rate' :trial.suggest_float('learning_rate',0.01, 0.1,step=0.01),\n",
    "        'max_depth' :trial.suggest_int('max_depth', 1, 10),\n",
    "        'max_leaves': trial.suggest_int('max_leaves', 2, 1024, step=2),\n",
    "        'subsample':trial.suggest_float('subsample', 0.1, 1.0,step=0.1),\n",
    "        'colsample_bytree' :trial.suggest_float('colsample_bytree', 0.1, 1.0,step=0.1),\n",
    "        'gamma' :trial.suggest_int('gamma',1, 10),\n",
    "        'reg_alpha' :trial.suggest_int('reg_alpha', 1, 10),\n",
    "        'reg_lambda' :trial.suggest_int('reg_lambda', 1, 10),\n",
    "        'booster' : trial.suggest_categorical('booster', ['gbtree']),\n",
    "        'objective' : trial.suggest_categorical('objective', ['binary:logistic'])\n",
    "        }\n",
    "        \n",
    "    clf = XGBClassifier(**params,random_state = 0)\n",
    "    clf.fit(X_train, y_train)\n",
    "    clf_proba = clf.predict_proba(X_val)[:, 1]\n",
    "        \n",
    "    AUC_SCORE = roc_auc_score(y_val, clf_proba)\n",
    "    return AUC_SCORE\n",
    "\n",
    "direction = \"maximize\"\n",
    "sampler = optuna.samplers.TPESampler(seed=10)\n",
    "study =  optuna.create_study(direction=direction, sampler=sampler, pruner=optuna.pruners.HyperbandPruner())\n",
    "early_stopping = EarlyStoppingCallback(10, direction=direction)\n",
    "study.optimize(objective, callbacks=[early_stopping], n_trials=200) "
   ]
  },
  {
   "cell_type": "code",
   "execution_count": null,
   "id": "4a03048b",
   "metadata": {},
   "outputs": [],
   "source": [
    "print(study.best_trial.params)\n",
    "optuna_auc = study.best_trial.value\n",
    "print(optuna_auc)"
   ]
  },
  {
   "cell_type": "code",
   "execution_count": null,
   "id": "1b72bf0b",
   "metadata": {},
   "outputs": [],
   "source": [
    "xgb_optuna_11 = XGBClassifier(**study.best_trial.params, random_state = 0)\n",
    "xgb_optuna_11.fit(X_train, y_train)"
   ]
  },
  {
   "cell_type": "code",
   "execution_count": null,
   "id": "c7a1faaa",
   "metadata": {},
   "outputs": [],
   "source": [
    "xgb_optuna_proba_11 = xgb_optuna_11.predict_proba(X_test)[:, 1]\n",
    "auc_11 = roc_auc_score(y_test, xgb_optuna_proba_11)\n",
    "print(decimal.Decimal(auc_11).quantize(decimal.Decimal('1.000')))"
   ]
  },
  {
   "cell_type": "code",
   "execution_count": null,
   "id": "e94b90f1",
   "metadata": {},
   "outputs": [],
   "source": [
    "\n"
   ]
  },
  {
   "cell_type": "code",
   "execution_count": null,
   "id": "3503027a",
   "metadata": {},
   "outputs": [],
   "source": [
    "X_train = X_train.values\n",
    "y_train = y_train.values"
   ]
  },
  {
   "cell_type": "code",
   "execution_count": null,
   "id": "254bb8b0",
   "metadata": {},
   "outputs": [],
   "source": [
    "auc_bootstrap = []"
   ]
  },
  {
   "cell_type": "code",
   "execution_count": null,
   "id": "e4376437",
   "metadata": {},
   "outputs": [],
   "source": [
    "rs = RandomState(seed = 11)\n",
    "bootstrap_auc(xgb_optuna_11, X_train, y_train, X_test, y_test, nsamples=1000)"
   ]
  },
  {
   "cell_type": "code",
   "execution_count": null,
   "id": "8519d048",
   "metadata": {},
   "outputs": [],
   "source": [
    "shapiro(auc_bootstrap), np.mean(auc_bootstrap)"
   ]
  },
  {
   "cell_type": "code",
   "execution_count": null,
   "id": "c057490b",
   "metadata": {},
   "outputs": [],
   "source": [
    "t_11 = auc_bootstrap\n",
    "print(t_11)"
   ]
  },
  {
   "cell_type": "code",
   "execution_count": null,
   "id": "57edaf4d",
   "metadata": {},
   "outputs": [],
   "source": [
    "del X_train, X_test, y_train, y_test, X_val, y_val,study, optuna_auc"
   ]
  },
  {
   "cell_type": "code",
   "execution_count": 51,
   "id": "84ea94aa",
   "metadata": {},
   "outputs": [],
   "source": [
    "# 12\n",
    "column_to_drop_11 = 'Cat_현재 주택의 구조'"
   ]
  },
  {
   "cell_type": "code",
   "execution_count": 52,
   "id": "937b3153",
   "metadata": {},
   "outputs": [
    {
     "name": "stdout",
     "output_type": "stream",
     "text": [
      "(8444, 180)\n"
     ]
    }
   ],
   "source": [
    "if not column_to_drop_11.startswith('Cat_'):\n",
    "    comp_12 = comp_11.drop(column_to_drop_11, axis=1)\n",
    "    X_12 = comp_12.drop('target', axis=1)\n",
    "    y_12 = comp_12['target']\n",
    "else:\n",
    "    comp_12 = comp_11.drop(comp_11.filter(regex='^' + column_to_drop_11).columns, axis=1)\n",
    "    X_12 = comp_12.drop('target', axis=1)\n",
    "    y_12 = comp_12['target']\n",
    "\n",
    "print(X_12.shape)"
   ]
  },
  {
   "cell_type": "code",
   "execution_count": null,
   "id": "2bb2d219",
   "metadata": {},
   "outputs": [],
   "source": [
    "X_train, X_test, y_train, y_test = train_test_split(X_12, y_12, test_size=0.2, shuffle=True, stratify=y_12, random_state = 0)\n",
    "X_train, X_val, y_train, y_val = train_test_split(X_train, y_train, test_size=0.2, shuffle=True, stratify=y_train, random_state = 0)"
   ]
  },
  {
   "cell_type": "code",
   "execution_count": null,
   "id": "34e4701f",
   "metadata": {},
   "outputs": [],
   "source": [
    "def objective(trial):\n",
    "    params = {\n",
    "        'n_estimators' :trial.suggest_int('n_estimators', 50, 200),\n",
    "        'learning_rate' :trial.suggest_float('learning_rate',0.01, 0.1,step=0.01),\n",
    "        'max_depth' :trial.suggest_int('max_depth', 1, 10),\n",
    "        'max_leaves': trial.suggest_int('max_leaves', 2, 1024, step=2),\n",
    "        'subsample':trial.suggest_float('subsample', 0.1, 1.0,step=0.1),\n",
    "        'colsample_bytree' :trial.suggest_float('colsample_bytree', 0.1, 1.0,step=0.1),\n",
    "        'gamma' :trial.suggest_int('gamma',1, 10),\n",
    "        'reg_alpha' :trial.suggest_int('reg_alpha', 1, 10),\n",
    "        'reg_lambda' :trial.suggest_int('reg_lambda', 1, 10),\n",
    "        'booster' : trial.suggest_categorical('booster', ['gbtree']),\n",
    "        'objective' : trial.suggest_categorical('objective', ['binary:logistic'])\n",
    "        }\n",
    "        \n",
    "    clf = XGBClassifier(**params,random_state = 0)\n",
    "    clf.fit(X_train, y_train)\n",
    "    clf_proba = clf.predict_proba(X_val)[:, 1]\n",
    "        \n",
    "    AUC_SCORE = roc_auc_score(y_val, clf_proba)\n",
    "    return AUC_SCORE\n",
    "\n",
    "direction = \"maximize\"\n",
    "sampler = optuna.samplers.TPESampler(seed=10)\n",
    "study =  optuna.create_study(direction=direction, sampler=sampler, pruner=optuna.pruners.HyperbandPruner())\n",
    "early_stopping = EarlyStoppingCallback(10, direction=direction)\n",
    "study.optimize(objective, callbacks=[early_stopping], n_trials=200) "
   ]
  },
  {
   "cell_type": "code",
   "execution_count": null,
   "id": "c7939ca9",
   "metadata": {},
   "outputs": [],
   "source": [
    "print(study.best_trial.params)\n",
    "optuna_auc = study.best_trial.value\n",
    "print(optuna_auc)"
   ]
  },
  {
   "cell_type": "code",
   "execution_count": null,
   "id": "195905c3",
   "metadata": {},
   "outputs": [],
   "source": [
    "xgb_optuna_12 = XGBClassifier(**study.best_trial.params, random_state = 0)\n",
    "xgb_optuna_12.fit(X_train, y_train)"
   ]
  },
  {
   "cell_type": "code",
   "execution_count": null,
   "id": "bf37b0cd",
   "metadata": {},
   "outputs": [],
   "source": [
    "xgb_optuna_proba_12 = xgb_optuna_12.predict_proba(X_test)[:, 1]\n",
    "auc_12 = roc_auc_score(y_test, xgb_optuna_proba_12)\n",
    "print(decimal.Decimal(auc_12).quantize(decimal.Decimal('1.000')))"
   ]
  },
  {
   "cell_type": "code",
   "execution_count": null,
   "id": "a66a7071",
   "metadata": {},
   "outputs": [],
   "source": [
    "X_train = X_train.values\n",
    "y_train = y_train.values"
   ]
  },
  {
   "cell_type": "code",
   "execution_count": null,
   "id": "8d9a7c44",
   "metadata": {},
   "outputs": [],
   "source": [
    "auc_bootstrap = []"
   ]
  },
  {
   "cell_type": "code",
   "execution_count": null,
   "id": "6baa9403",
   "metadata": {},
   "outputs": [],
   "source": [
    "rs = RandomState(seed = 12)\n",
    "bootstrap_auc(xgb_optuna_12, X_train, y_train, X_test, y_test, nsamples=1000)"
   ]
  },
  {
   "cell_type": "code",
   "execution_count": null,
   "id": "5d5ef31a",
   "metadata": {},
   "outputs": [],
   "source": [
    "shapiro(auc_bootstrap),np.mean(auc_bootstrap)"
   ]
  },
  {
   "cell_type": "code",
   "execution_count": null,
   "id": "ca01a08a",
   "metadata": {},
   "outputs": [],
   "source": [
    "t_12 = auc_bootstrap\n",
    "print(t_12)"
   ]
  },
  {
   "cell_type": "code",
   "execution_count": null,
   "id": "2fc2862d",
   "metadata": {},
   "outputs": [],
   "source": [
    "del X_train, X_test, y_train, y_test, X_val, y_val,study, optuna_auc"
   ]
  },
  {
   "cell_type": "code",
   "execution_count": 53,
   "id": "5fab855d",
   "metadata": {},
   "outputs": [],
   "source": [
    "# 13.\n",
    "column_to_drop_12 = 'Cat_가구주 주민등록상 등재 여부'"
   ]
  },
  {
   "cell_type": "code",
   "execution_count": 54,
   "id": "cf1b0a7f",
   "metadata": {},
   "outputs": [
    {
     "name": "stdout",
     "output_type": "stream",
     "text": [
      "(8444, 178)\n"
     ]
    }
   ],
   "source": [
    "if not column_to_drop_12.startswith('Cat_'):\n",
    "    comp_13 = comp_12.drop(column_to_drop_12, axis=1)\n",
    "    X_13 = comp_13.drop('target', axis=1)\n",
    "    y_13 = comp_13['target']\n",
    "else:\n",
    "    comp_13 = comp_12.drop(comp_12.filter(regex='^' + column_to_drop_12).columns, axis=1)\n",
    "    X_13 = comp_13.drop('target', axis=1)\n",
    "    y_13 = comp_13['target']\n",
    "\n",
    "print(X_13.shape)"
   ]
  },
  {
   "cell_type": "code",
   "execution_count": null,
   "id": "dae42c3a",
   "metadata": {},
   "outputs": [],
   "source": [
    "X_train, X_test, y_train, y_test = train_test_split(X_13, y_13, test_size=0.2, shuffle=True, stratify=y_13, random_state = 0)\n",
    "X_train, X_val, y_train, y_val = train_test_split(X_train, y_train, test_size=0.2, shuffle=True, stratify=y_train, random_state = 0)"
   ]
  },
  {
   "cell_type": "code",
   "execution_count": null,
   "id": "bc3c7f5a",
   "metadata": {},
   "outputs": [],
   "source": [
    "def objective(trial):\n",
    "    params = {\n",
    "        'n_estimators' :trial.suggest_int('n_estimators', 50, 200),\n",
    "        'learning_rate' :trial.suggest_float('learning_rate',0.01, 0.1,step=0.01),\n",
    "        'max_depth' :trial.suggest_int('max_depth', 1, 10),\n",
    "        'max_leaves': trial.suggest_int('max_leaves', 2, 1024, step=2),\n",
    "        'subsample':trial.suggest_float('subsample', 0.1, 1.0,step=0.1),\n",
    "        'colsample_bytree' :trial.suggest_float('colsample_bytree', 0.1, 1.0,step=0.1),\n",
    "        'gamma' :trial.suggest_int('gamma',1, 10),\n",
    "        'reg_alpha' :trial.suggest_int('reg_alpha', 1, 10),\n",
    "        'reg_lambda' :trial.suggest_int('reg_lambda', 1, 10),\n",
    "        'booster' : trial.suggest_categorical('booster', ['gbtree']),\n",
    "        'objective' : trial.suggest_categorical('objective', ['binary:logistic'])\n",
    "        }\n",
    "        \n",
    "    clf = XGBClassifier(**params,random_state = 0)\n",
    "    clf.fit(X_train, y_train)\n",
    "    clf_proba = clf.predict_proba(X_val)[:, 1]\n",
    "        \n",
    "    AUC_SCORE = roc_auc_score(y_val, clf_proba)\n",
    "    return AUC_SCORE\n",
    "\n",
    "direction = \"maximize\"\n",
    "sampler = optuna.samplers.TPESampler(seed=10)\n",
    "study =  optuna.create_study(direction=direction, sampler=sampler, pruner=optuna.pruners.HyperbandPruner())\n",
    "early_stopping = EarlyStoppingCallback(10, direction=direction)\n",
    "study.optimize(objective, callbacks=[early_stopping], n_trials=200) "
   ]
  },
  {
   "cell_type": "code",
   "execution_count": null,
   "id": "e78d1716",
   "metadata": {},
   "outputs": [],
   "source": [
    "print(study.best_trial.params)\n",
    "optuna_auc = study.best_trial.value\n",
    "print(optuna_auc)"
   ]
  },
  {
   "cell_type": "code",
   "execution_count": null,
   "id": "38d0b54c",
   "metadata": {},
   "outputs": [],
   "source": [
    "xgb_optuna_13 = XGBClassifier(**study.best_trial.params, random_state = 0)\n",
    "xgb_optuna_13.fit(X_train, y_train)"
   ]
  },
  {
   "cell_type": "code",
   "execution_count": null,
   "id": "cb63fac2",
   "metadata": {},
   "outputs": [],
   "source": [
    "xgb_optuna_proba_13 = xgb_optuna_13.predict_proba(X_test)[:, 1]\n",
    "auc_13 = roc_auc_score(y_test, xgb_optuna_proba_13)\n",
    "print(decimal.Decimal(auc_13).quantize(decimal.Decimal('1.000')))"
   ]
  },
  {
   "cell_type": "code",
   "execution_count": null,
   "id": "2d75f0c0",
   "metadata": {},
   "outputs": [],
   "source": [
    "X_train = X_train.values\n",
    "y_train = y_train.values"
   ]
  },
  {
   "cell_type": "code",
   "execution_count": null,
   "id": "dae925a7",
   "metadata": {},
   "outputs": [],
   "source": [
    "auc_bootstrap = []"
   ]
  },
  {
   "cell_type": "code",
   "execution_count": null,
   "id": "539c73f3",
   "metadata": {},
   "outputs": [],
   "source": [
    "rs = RandomState(seed = 13)\n",
    "bootstrap_auc(xgb_optuna_13, X_train, y_train, X_test, y_test, nsamples=1000)"
   ]
  },
  {
   "cell_type": "code",
   "execution_count": null,
   "id": "21ec783d",
   "metadata": {},
   "outputs": [],
   "source": [
    "shapiro(auc_bootstrap),np.mean(auc_bootstrap)"
   ]
  },
  {
   "cell_type": "code",
   "execution_count": null,
   "id": "596c69b6",
   "metadata": {},
   "outputs": [],
   "source": [
    "t_13 = auc_bootstrap\n",
    "print(t_13)"
   ]
  },
  {
   "cell_type": "code",
   "execution_count": null,
   "id": "d49b5dbf",
   "metadata": {},
   "outputs": [],
   "source": [
    "del X_train, X_test, y_train, y_test, X_val, y_val,study, optuna_auc"
   ]
  },
  {
   "cell_type": "code",
   "execution_count": 55,
   "id": "5954189c",
   "metadata": {},
   "outputs": [],
   "source": [
    "#14.\n",
    "column_to_drop_13 = 'Cat_가구주 성별'"
   ]
  },
  {
   "cell_type": "code",
   "execution_count": 56,
   "id": "760a5b91",
   "metadata": {},
   "outputs": [
    {
     "name": "stdout",
     "output_type": "stream",
     "text": [
      "(8444, 176)\n"
     ]
    }
   ],
   "source": [
    "if not column_to_drop_13.startswith('Cat_'):\n",
    "    comp_14 = comp_13.drop(column_to_drop_13, axis=1)\n",
    "    X_14 = comp_14.drop('target', axis=1)\n",
    "    y_14 = comp_14['target']\n",
    "else:\n",
    "    comp_14 = comp_13.drop(comp_13.filter(regex='^' + column_to_drop_13).columns, axis=1)\n",
    "    X_14 = comp_14.drop('target', axis=1)\n",
    "    y_14 = comp_14['target']\n",
    "\n",
    "print(X_14.shape)"
   ]
  },
  {
   "cell_type": "code",
   "execution_count": null,
   "id": "9366196f",
   "metadata": {},
   "outputs": [],
   "source": [
    "X_train, X_test, y_train, y_test = train_test_split(X_14, y_14, test_size=0.2, shuffle=True, stratify=y_14, random_state = 0)\n",
    "X_train, X_val, y_train, y_val = train_test_split(X_train, y_train, test_size=0.2, shuffle=True, stratify=y_train, random_state = 0)"
   ]
  },
  {
   "cell_type": "code",
   "execution_count": null,
   "id": "d4baf2c0",
   "metadata": {},
   "outputs": [],
   "source": [
    "def objective(trial):\n",
    "    params = {\n",
    "        'n_estimators' :trial.suggest_int('n_estimators', 50, 200),\n",
    "        'learning_rate' :trial.suggest_float('learning_rate',0.01, 0.1,step=0.01),\n",
    "        'max_depth' :trial.suggest_int('max_depth', 1, 10),\n",
    "        'max_leaves': trial.suggest_int('max_leaves', 2, 1024, step=2),\n",
    "        'subsample':trial.suggest_float('subsample', 0.1, 1.0,step=0.1),\n",
    "        'colsample_bytree' :trial.suggest_float('colsample_bytree', 0.1, 1.0,step=0.1),\n",
    "        'gamma' :trial.suggest_int('gamma',1, 10),\n",
    "        'reg_alpha' :trial.suggest_int('reg_alpha', 1, 10),\n",
    "        'reg_lambda' :trial.suggest_int('reg_lambda', 1, 10),\n",
    "        'booster' : trial.suggest_categorical('booster', ['gbtree']),\n",
    "        'objective' : trial.suggest_categorical('objective', ['binary:logistic'])\n",
    "        }\n",
    "        \n",
    "    clf = XGBClassifier(**params,random_state = 0)\n",
    "    clf.fit(X_train, y_train)\n",
    "    clf_proba = clf.predict_proba(X_val)[:, 1]\n",
    "        \n",
    "    AUC_SCORE = roc_auc_score(y_val, clf_proba)\n",
    "    return AUC_SCORE\n",
    "\n",
    "direction = \"maximize\"\n",
    "sampler = optuna.samplers.TPESampler(seed=10)\n",
    "study =  optuna.create_study(direction=direction, sampler=sampler, pruner=optuna.pruners.HyperbandPruner())\n",
    "early_stopping = EarlyStoppingCallback(10, direction=direction)\n",
    "study.optimize(objective, callbacks=[early_stopping], n_trials=200) "
   ]
  },
  {
   "cell_type": "code",
   "execution_count": null,
   "id": "180d1fb4",
   "metadata": {},
   "outputs": [],
   "source": [
    "print(study.best_trial.params)\n",
    "optuna_auc = study.best_trial.value\n",
    "print(optuna_auc)"
   ]
  },
  {
   "cell_type": "code",
   "execution_count": null,
   "id": "15ae61a2",
   "metadata": {},
   "outputs": [],
   "source": [
    "xgb_optuna_14 = XGBClassifier(**study.best_trial.params, random_state = 0)\n",
    "xgb_optuna_14.fit(X_train, y_train)"
   ]
  },
  {
   "cell_type": "code",
   "execution_count": null,
   "id": "74d27c59",
   "metadata": {},
   "outputs": [],
   "source": [
    "xgb_optuna_proba_14 = xgb_optuna_14.predict_proba(X_test)[:, 1]\n",
    "auc_14 = roc_auc_score(y_test, xgb_optuna_proba_14)\n",
    "print(decimal.Decimal(auc_14).quantize(decimal.Decimal('1.000')))"
   ]
  },
  {
   "cell_type": "code",
   "execution_count": null,
   "id": "6b4c0321",
   "metadata": {},
   "outputs": [],
   "source": [
    "X_train = X_train.values\n",
    "y_train = y_train.values"
   ]
  },
  {
   "cell_type": "code",
   "execution_count": null,
   "id": "282c45e7",
   "metadata": {},
   "outputs": [],
   "source": [
    "auc_bootstrap = []"
   ]
  },
  {
   "cell_type": "code",
   "execution_count": null,
   "id": "4c59d887",
   "metadata": {},
   "outputs": [],
   "source": [
    "rs = RandomState(seed = 14)\n",
    "bootstrap_auc(xgb_optuna_14, X_train, y_train, X_test, y_test, nsamples=1000)"
   ]
  },
  {
   "cell_type": "code",
   "execution_count": null,
   "id": "b8bd119b",
   "metadata": {},
   "outputs": [],
   "source": [
    "shapiro(auc_bootstrap),np.mean(auc_bootstrap)"
   ]
  },
  {
   "cell_type": "code",
   "execution_count": null,
   "id": "675135ee",
   "metadata": {},
   "outputs": [],
   "source": [
    "t_14 = auc_bootstrap\n",
    "print(t_14)"
   ]
  },
  {
   "cell_type": "code",
   "execution_count": null,
   "id": "c06db45c",
   "metadata": {},
   "outputs": [],
   "source": [
    "del X_train, X_test, y_train, y_test, X_val, y_val,study, optuna_auc"
   ]
  },
  {
   "cell_type": "code",
   "execution_count": 57,
   "id": "3e62bccf",
   "metadata": {},
   "outputs": [],
   "source": [
    "## 15.\n",
    "column_to_drop_14 = 'Cat_현재 대기오염 정도'"
   ]
  },
  {
   "cell_type": "code",
   "execution_count": 58,
   "id": "d54b6b92",
   "metadata": {},
   "outputs": [
    {
     "name": "stdout",
     "output_type": "stream",
     "text": [
      "(8444, 172)\n"
     ]
    }
   ],
   "source": [
    "if not column_to_drop_14.startswith('Cat_'):\n",
    "    comp_15 = comp_14.drop(column_to_drop_14, axis=1)\n",
    "    X_15 = comp_15.drop('target', axis=1)\n",
    "    y_15 = comp_15['target']\n",
    "else:\n",
    "    comp_15 = comp_14.drop(comp_14.filter(regex='^' + column_to_drop_14).columns, axis=1)\n",
    "    X_15 = comp_15.drop('target', axis=1)\n",
    "    y_15 = comp_15['target']\n",
    "\n",
    "print(X_15.shape)"
   ]
  },
  {
   "cell_type": "code",
   "execution_count": null,
   "id": "3026b0c2",
   "metadata": {},
   "outputs": [],
   "source": [
    "X_train, X_test, y_train, y_test = train_test_split(X_15, y_15, test_size=0.2, shuffle=True, stratify=y_15, random_state = 0)\n",
    "X_train, X_val, y_train, y_val = train_test_split(X_train, y_train, test_size=0.2, shuffle=True, stratify=y_train, random_state = 0)"
   ]
  },
  {
   "cell_type": "code",
   "execution_count": null,
   "id": "d6fbb93e",
   "metadata": {},
   "outputs": [],
   "source": [
    "def objective(trial):\n",
    "    params = {\n",
    "        'n_estimators' :trial.suggest_int('n_estimators', 50, 200),\n",
    "        'learning_rate' :trial.suggest_float('learning_rate',0.01, 0.1,step=0.01),\n",
    "        'max_depth' :trial.suggest_int('max_depth', 1, 10),\n",
    "        'max_leaves': trial.suggest_int('max_leaves', 2, 1024, step=2),\n",
    "        'subsample':trial.suggest_float('subsample', 0.1, 1.0,step=0.1),\n",
    "        'colsample_bytree' :trial.suggest_float('colsample_bytree', 0.1, 1.0,step=0.1),\n",
    "        'gamma' :trial.suggest_int('gamma',1, 10),\n",
    "        'reg_alpha' :trial.suggest_int('reg_alpha', 1, 10),\n",
    "        'reg_lambda' :trial.suggest_int('reg_lambda', 1, 10),\n",
    "        'booster' : trial.suggest_categorical('booster', ['gbtree']),\n",
    "        'objective' : trial.suggest_categorical('objective', ['binary:logistic'])\n",
    "        }\n",
    "        \n",
    "    clf = XGBClassifier(**params,random_state = 0)\n",
    "    clf.fit(X_train, y_train)\n",
    "    clf_proba = clf.predict_proba(X_val)[:, 1]\n",
    "        \n",
    "    AUC_SCORE = roc_auc_score(y_val, clf_proba)\n",
    "    return AUC_SCORE\n",
    "\n",
    "direction = \"maximize\"\n",
    "sampler = optuna.samplers.TPESampler(seed=10)\n",
    "study =  optuna.create_study(direction=direction, sampler=sampler, pruner=optuna.pruners.HyperbandPruner())\n",
    "early_stopping = EarlyStoppingCallback(10, direction=direction)\n",
    "study.optimize(objective, callbacks=[early_stopping], n_trials=200) "
   ]
  },
  {
   "cell_type": "code",
   "execution_count": null,
   "id": "5f7a598d",
   "metadata": {},
   "outputs": [],
   "source": [
    "print(study.best_trial.params)\n",
    "optuna_auc = study.best_trial.value\n",
    "print(optuna_auc)"
   ]
  },
  {
   "cell_type": "code",
   "execution_count": null,
   "id": "172f73a9",
   "metadata": {},
   "outputs": [],
   "source": [
    "xgb_optuna_15 = XGBClassifier(**study.best_trial.params, random_state = 0)\n",
    "xgb_optuna_15.fit(X_train, y_train)"
   ]
  },
  {
   "cell_type": "code",
   "execution_count": null,
   "id": "a390b76b",
   "metadata": {},
   "outputs": [],
   "source": [
    "xgb_optuna_proba_15 = xgb_optuna_15.predict_proba(X_test)[:, 1]\n",
    "auc_15 = roc_auc_score(y_test, xgb_optuna_proba_15)\n",
    "print(decimal.Decimal(auc_15).quantize(decimal.Decimal('1.000')))"
   ]
  },
  {
   "cell_type": "code",
   "execution_count": null,
   "id": "a22122a2",
   "metadata": {},
   "outputs": [],
   "source": [
    "X_train = X_train.values\n",
    "y_train = y_train.values"
   ]
  },
  {
   "cell_type": "code",
   "execution_count": null,
   "id": "40a16d1b",
   "metadata": {},
   "outputs": [],
   "source": [
    "auc_bootstrap = []"
   ]
  },
  {
   "cell_type": "code",
   "execution_count": null,
   "id": "9193e6bc",
   "metadata": {},
   "outputs": [],
   "source": [
    "rs = RandomState(seed = 15)\n",
    "bootstrap_auc(xgb_optuna_15, X_train, y_train, X_test, y_test, nsamples=1000)"
   ]
  },
  {
   "cell_type": "code",
   "execution_count": null,
   "id": "cb7c401f",
   "metadata": {},
   "outputs": [],
   "source": [
    "shapiro(auc_bootstrap),np.mean(auc_bootstrap)"
   ]
  },
  {
   "cell_type": "code",
   "execution_count": null,
   "id": "6f0ab36e",
   "metadata": {},
   "outputs": [],
   "source": [
    "t_15 = auc_bootstrap\n",
    "print(t_15)"
   ]
  },
  {
   "cell_type": "code",
   "execution_count": null,
   "id": "35b52771",
   "metadata": {},
   "outputs": [],
   "source": [
    "del X_train, X_test, y_train, y_test, X_val, y_val,study, optuna_auc"
   ]
  },
  {
   "cell_type": "code",
   "execution_count": 59,
   "id": "b188ee1a",
   "metadata": {},
   "outputs": [],
   "source": [
    "# 16.\n",
    "column_to_drop_15 = 'Cat_소득 계층'"
   ]
  },
  {
   "cell_type": "code",
   "execution_count": 60,
   "id": "022bd592",
   "metadata": {},
   "outputs": [
    {
     "name": "stdout",
     "output_type": "stream",
     "text": [
      "(8444, 170)\n"
     ]
    }
   ],
   "source": [
    "if not column_to_drop_15.startswith('Cat_'):\n",
    "    comp_16 = comp_15.drop(column_to_drop_15, axis=1)\n",
    "    X_16 = comp_16.drop('target', axis=1)\n",
    "    y_16 = comp_16['target']\n",
    "else:\n",
    "    comp_16 = comp_15.drop(comp_15.filter(regex='^' + column_to_drop_15).columns, axis=1)\n",
    "    X_16 = comp_16.drop('target', axis=1)\n",
    "    y_16 = comp_16['target']\n",
    "\n",
    "print(X_16.shape)"
   ]
  },
  {
   "cell_type": "code",
   "execution_count": null,
   "id": "3810ac19",
   "metadata": {},
   "outputs": [],
   "source": [
    "X_train, X_test, y_train, y_test = train_test_split(X_16, y_16, test_size=0.2, shuffle=True, stratify=y_16, random_state = 0)\n",
    "X_train, X_val, y_train, y_val = train_test_split(X_train, y_train, test_size=0.2, shuffle=True, stratify=y_train, random_state = 0)"
   ]
  },
  {
   "cell_type": "code",
   "execution_count": null,
   "id": "333e9bfa",
   "metadata": {},
   "outputs": [],
   "source": [
    "def objective(trial):\n",
    "    params = {\n",
    "        'n_estimators' :trial.suggest_int('n_estimators', 50, 200),\n",
    "        'learning_rate' :trial.suggest_float('learning_rate',0.01, 0.1,step=0.01),\n",
    "        'max_depth' :trial.suggest_int('max_depth', 1, 10),\n",
    "        'max_leaves': trial.suggest_int('max_leaves', 2, 1024, step=2),\n",
    "        'subsample':trial.suggest_float('subsample', 0.1, 1.0,step=0.1),\n",
    "        'colsample_bytree' :trial.suggest_float('colsample_bytree', 0.1, 1.0,step=0.1),\n",
    "        'gamma' :trial.suggest_int('gamma',1, 10),\n",
    "        'reg_alpha' :trial.suggest_int('reg_alpha', 1, 10),\n",
    "        'reg_lambda' :trial.suggest_int('reg_lambda', 1, 10),\n",
    "        'booster' : trial.suggest_categorical('booster', ['gbtree']),\n",
    "        'objective' : trial.suggest_categorical('objective', ['binary:logistic'])\n",
    "        }\n",
    "        \n",
    "    clf = XGBClassifier(**params,random_state = 0)\n",
    "    clf.fit(X_train, y_train)\n",
    "    clf_proba = clf.predict_proba(X_val)[:, 1]\n",
    "        \n",
    "    AUC_SCORE = roc_auc_score(y_val, clf_proba)\n",
    "    return AUC_SCORE\n",
    "\n",
    "direction = \"maximize\"\n",
    "sampler = optuna.samplers.TPESampler(seed=10)\n",
    "study =  optuna.create_study(direction=direction, sampler=sampler, pruner=optuna.pruners.HyperbandPruner())\n",
    "early_stopping = EarlyStoppingCallback(10, direction=direction)\n",
    "study.optimize(objective, callbacks=[early_stopping], n_trials=200) "
   ]
  },
  {
   "cell_type": "code",
   "execution_count": null,
   "id": "b9330036",
   "metadata": {},
   "outputs": [],
   "source": [
    "print(study.best_trial.params)\n",
    "optuna_auc = study.best_trial.value\n",
    "print(optuna_auc)"
   ]
  },
  {
   "cell_type": "code",
   "execution_count": null,
   "id": "735edb16",
   "metadata": {},
   "outputs": [],
   "source": [
    "xgb_optuna_16 = XGBClassifier(**study.best_trial.params, random_state = 0)\n",
    "xgb_optuna_16.fit(X_train, y_train)"
   ]
  },
  {
   "cell_type": "code",
   "execution_count": null,
   "id": "6ae1dbae",
   "metadata": {},
   "outputs": [],
   "source": [
    "xgb_optuna_proba_16 = xgb_optuna_16.predict_proba(X_test)[:, 1]\n",
    "auc_16 = roc_auc_score(y_test, xgb_optuna_proba_16)\n",
    "print(decimal.Decimal(auc_16).quantize(decimal.Decimal('1.000')))"
   ]
  },
  {
   "cell_type": "code",
   "execution_count": null,
   "id": "c81e3bad",
   "metadata": {},
   "outputs": [],
   "source": [
    "X_train = X_train.values\n",
    "y_train = y_train.values"
   ]
  },
  {
   "cell_type": "code",
   "execution_count": null,
   "id": "7210a3c7",
   "metadata": {},
   "outputs": [],
   "source": [
    "auc_bootstrap = []"
   ]
  },
  {
   "cell_type": "code",
   "execution_count": null,
   "id": "f0eb4906",
   "metadata": {},
   "outputs": [],
   "source": [
    "rs = RandomState(seed = 16)\n",
    "bootstrap_auc(xgb_optuna_16, X_train, y_train, X_test, y_test, nsamples=1000)"
   ]
  },
  {
   "cell_type": "code",
   "execution_count": null,
   "id": "c13210d6",
   "metadata": {},
   "outputs": [],
   "source": [
    "shapiro(auc_bootstrap), np.mean(auc_bootstrap)"
   ]
  },
  {
   "cell_type": "code",
   "execution_count": null,
   "id": "d631c41e",
   "metadata": {},
   "outputs": [],
   "source": [
    "t_16 = auc_bootstrap\n",
    "print(t_16)"
   ]
  },
  {
   "cell_type": "code",
   "execution_count": null,
   "id": "b4ca2058",
   "metadata": {},
   "outputs": [],
   "source": [
    "del X_train, X_test, y_train, y_test, X_val, y_val,study, optuna_auc"
   ]
  },
  {
   "cell_type": "code",
   "execution_count": 61,
   "id": "29facd1b",
   "metadata": {},
   "outputs": [],
   "source": [
    "# 17.\n",
    "column_to_drop_16 = 'Cat_현재 주변도로의 보행 안전'"
   ]
  },
  {
   "cell_type": "code",
   "execution_count": 62,
   "id": "df7d948a",
   "metadata": {},
   "outputs": [
    {
     "name": "stdout",
     "output_type": "stream",
     "text": [
      "(8444, 166)\n"
     ]
    }
   ],
   "source": [
    "if not column_to_drop_16.startswith('Cat_'):\n",
    "    comp_17 = comp_16.drop(column_to_drop_16, axis=1)\n",
    "    X_17 = comp_17.drop('target', axis=1)\n",
    "    y_17 = comp_17['target']\n",
    "else:\n",
    "    comp_17 = comp_16.drop(comp_16.filter(regex='^' + column_to_drop_16).columns, axis=1)\n",
    "    X_17 = comp_17.drop('target', axis=1)\n",
    "    y_17 = comp_17['target']\n",
    "\n",
    "print(X_17.shape)"
   ]
  },
  {
   "cell_type": "code",
   "execution_count": null,
   "id": "314d7547",
   "metadata": {},
   "outputs": [],
   "source": [
    "X_train, X_test, y_train, y_test = train_test_split(X_17, y_17, test_size=0.2, shuffle=True, stratify=y_17, random_state = 0)\n",
    "X_train, X_val, y_train, y_val = train_test_split(X_train, y_train, test_size=0.2, shuffle=True, stratify=y_train, random_state = 0)"
   ]
  },
  {
   "cell_type": "code",
   "execution_count": null,
   "id": "120ae9bb",
   "metadata": {},
   "outputs": [],
   "source": [
    "def objective(trial):\n",
    "    params = {\n",
    "        'n_estimators' :trial.suggest_int('n_estimators', 50, 200),\n",
    "        'learning_rate' :trial.suggest_float('learning_rate',0.01, 0.1,step=0.01),\n",
    "        'max_depth' :trial.suggest_int('max_depth', 1, 10),\n",
    "        'max_leaves': trial.suggest_int('max_leaves', 2, 1024, step=2),\n",
    "        'subsample':trial.suggest_float('subsample', 0.1, 1.0,step=0.1),\n",
    "        'colsample_bytree' :trial.suggest_float('colsample_bytree', 0.1, 1.0,step=0.1),\n",
    "        'gamma' :trial.suggest_int('gamma',1, 10),\n",
    "        'reg_alpha' :trial.suggest_int('reg_alpha', 1, 10),\n",
    "        'reg_lambda' :trial.suggest_int('reg_lambda', 1, 10),\n",
    "        'booster' : trial.suggest_categorical('booster', ['gbtree']),\n",
    "        'objective' : trial.suggest_categorical('objective', ['binary:logistic'])\n",
    "        }\n",
    "        \n",
    "    clf = XGBClassifier(**params,random_state = 0)\n",
    "    clf.fit(X_train, y_train)\n",
    "    clf_proba = clf.predict_proba(X_val)[:, 1]\n",
    "        \n",
    "    AUC_SCORE = roc_auc_score(y_val, clf_proba)\n",
    "    return AUC_SCORE\n",
    "\n",
    "direction = \"maximize\"\n",
    "sampler = optuna.samplers.TPESampler(seed=10)\n",
    "study =  optuna.create_study(direction=direction, sampler=sampler, pruner=optuna.pruners.HyperbandPruner())\n",
    "early_stopping = EarlyStoppingCallback(10, direction=direction)\n",
    "study.optimize(objective, callbacks=[early_stopping], n_trials=200) "
   ]
  },
  {
   "cell_type": "code",
   "execution_count": null,
   "id": "bf19ee24",
   "metadata": {},
   "outputs": [],
   "source": [
    "print(study.best_trial.params)\n",
    "optuna_auc = study.best_trial.value\n",
    "print(optuna_auc)"
   ]
  },
  {
   "cell_type": "code",
   "execution_count": null,
   "id": "8eb77d9a",
   "metadata": {},
   "outputs": [],
   "source": [
    "xgb_optuna_17 = XGBClassifier(**study.best_trial.params, random_state = 0)\n",
    "xgb_optuna_17.fit(X_train, y_train)"
   ]
  },
  {
   "cell_type": "code",
   "execution_count": null,
   "id": "b01e05f4",
   "metadata": {},
   "outputs": [],
   "source": [
    "xgb_optuna_proba_17 = xgb_optuna_17.predict_proba(X_test)[:, 1]\n",
    "auc_17 = roc_auc_score(y_test, xgb_optuna_proba_17)\n",
    "print(decimal.Decimal(auc_17).quantize(decimal.Decimal('1.000')))"
   ]
  },
  {
   "cell_type": "code",
   "execution_count": null,
   "id": "6b20f996",
   "metadata": {},
   "outputs": [],
   "source": [
    "X_train = X_train.values\n",
    "y_train = y_train.values"
   ]
  },
  {
   "cell_type": "code",
   "execution_count": null,
   "id": "c40ffb31",
   "metadata": {},
   "outputs": [],
   "source": [
    "auc_bootstrap = []"
   ]
  },
  {
   "cell_type": "code",
   "execution_count": null,
   "id": "ad6e2294",
   "metadata": {},
   "outputs": [],
   "source": [
    "rs = RandomState(seed = 17)\n",
    "bootstrap_auc(xgb_optuna_17, X_train, y_train, X_test, y_test, nsamples=1000)"
   ]
  },
  {
   "cell_type": "code",
   "execution_count": null,
   "id": "b30a392c",
   "metadata": {},
   "outputs": [],
   "source": [
    "shapiro(auc_bootstrap), np.mean(auc_bootstrap)"
   ]
  },
  {
   "cell_type": "code",
   "execution_count": null,
   "id": "10f4afcd",
   "metadata": {},
   "outputs": [],
   "source": [
    "t_17 = auc_bootstrap\n",
    "print(t_17)"
   ]
  },
  {
   "cell_type": "code",
   "execution_count": null,
   "id": "4f04d2a0",
   "metadata": {},
   "outputs": [],
   "source": [
    "del X_train, X_test, y_train, y_test, X_val, y_val,study, optuna_auc"
   ]
  },
  {
   "cell_type": "code",
   "execution_count": 63,
   "id": "01e13ad6",
   "metadata": {},
   "outputs": [],
   "source": [
    "## 18.\n",
    "column_to_drop_17 ='Cat_현재 주차시설 이용편의성'"
   ]
  },
  {
   "cell_type": "code",
   "execution_count": 64,
   "id": "f40de3b5",
   "metadata": {},
   "outputs": [
    {
     "name": "stdout",
     "output_type": "stream",
     "text": [
      "(8444, 162)\n"
     ]
    }
   ],
   "source": [
    "if not column_to_drop_17.startswith('Cat_'):\n",
    "    comp_18 = comp_17.drop(column_to_drop_17, axis=1)\n",
    "    X_18 = comp_18.drop('target', axis=1)\n",
    "    y_18 = comp_18['target']\n",
    "else:\n",
    "    comp_18 = comp_17.drop(comp_17.filter(regex='^' + column_to_drop_17).columns, axis=1)\n",
    "    X_18 = comp_18.drop('target', axis=1)\n",
    "    y_18 = comp_18['target']\n",
    "\n",
    "print(X_18.shape)"
   ]
  },
  {
   "cell_type": "code",
   "execution_count": null,
   "id": "530eeb47",
   "metadata": {},
   "outputs": [],
   "source": [
    "X_train, X_test, y_train, y_test = train_test_split(X_18, y_18, test_size=0.2, shuffle=True, stratify=y_18, random_state = 0)\n",
    "X_train, X_val, y_train, y_val = train_test_split(X_train, y_train, test_size=0.2, shuffle=True, stratify=y_train, random_state = 0)"
   ]
  },
  {
   "cell_type": "code",
   "execution_count": null,
   "id": "d9371118",
   "metadata": {},
   "outputs": [],
   "source": [
    "def objective(trial):\n",
    "    params = {\n",
    "        'n_estimators' :trial.suggest_int('n_estimators', 50, 200),\n",
    "        'learning_rate' :trial.suggest_float('learning_rate',0.01, 0.1,step=0.01),\n",
    "        'max_depth' :trial.suggest_int('max_depth', 1, 10),\n",
    "        'max_leaves': trial.suggest_int('max_leaves', 2, 1024, step=2),\n",
    "        'subsample':trial.suggest_float('subsample', 0.1, 1.0,step=0.1),\n",
    "        'colsample_bytree' :trial.suggest_float('colsample_bytree', 0.1, 1.0,step=0.1),\n",
    "        'gamma' :trial.suggest_int('gamma',1, 10),\n",
    "        'reg_alpha' :trial.suggest_int('reg_alpha', 1, 10),\n",
    "        'reg_lambda' :trial.suggest_int('reg_lambda', 1, 10),\n",
    "        'booster' : trial.suggest_categorical('booster', ['gbtree']),\n",
    "        'objective' : trial.suggest_categorical('objective', ['binary:logistic'])\n",
    "        }\n",
    "        \n",
    "    clf = XGBClassifier(**params,random_state = 0)\n",
    "    clf.fit(X_train, y_train)\n",
    "    clf_proba = clf.predict_proba(X_val)[:, 1]\n",
    "        \n",
    "    AUC_SCORE = roc_auc_score(y_val, clf_proba)\n",
    "    return AUC_SCORE\n",
    "\n",
    "direction = \"maximize\"\n",
    "sampler = optuna.samplers.TPESampler(seed=10)\n",
    "study =  optuna.create_study(direction=direction, sampler=sampler, pruner=optuna.pruners.HyperbandPruner())\n",
    "early_stopping = EarlyStoppingCallback(10, direction=direction)\n",
    "study.optimize(objective, callbacks=[early_stopping], n_trials=200) "
   ]
  },
  {
   "cell_type": "code",
   "execution_count": null,
   "id": "e3935658",
   "metadata": {},
   "outputs": [],
   "source": [
    "print(study.best_trial.params)\n",
    "optuna_auc = study.best_trial.value\n",
    "print(optuna_auc)"
   ]
  },
  {
   "cell_type": "code",
   "execution_count": null,
   "id": "3bdced41",
   "metadata": {},
   "outputs": [],
   "source": [
    "xgb_optuna_18 = XGBClassifier(**study.best_trial.params, random_state = 0)\n",
    "xgb_optuna_18.fit(X_train, y_train)"
   ]
  },
  {
   "cell_type": "code",
   "execution_count": null,
   "id": "69a0cb3a",
   "metadata": {},
   "outputs": [],
   "source": [
    "xgb_optuna_proba_18 = xgb_optuna_18.predict_proba(X_test)[:, 1]\n",
    "auc_18 = roc_auc_score(y_test, xgb_optuna_proba_18)\n",
    "print(decimal.Decimal(auc_18).quantize(decimal.Decimal('1.000')))"
   ]
  },
  {
   "cell_type": "code",
   "execution_count": null,
   "id": "e04a97fa",
   "metadata": {},
   "outputs": [],
   "source": [
    "X_train = X_train.values\n",
    "y_train = y_train.values"
   ]
  },
  {
   "cell_type": "code",
   "execution_count": null,
   "id": "a71e4aa2",
   "metadata": {},
   "outputs": [],
   "source": [
    "auc_bootstrap = []"
   ]
  },
  {
   "cell_type": "code",
   "execution_count": null,
   "id": "eab8d9a1",
   "metadata": {},
   "outputs": [],
   "source": [
    "rs = RandomState(seed = 18)\n",
    "bootstrap_auc(xgb_optuna_18, X_train, y_train, X_test, y_test, nsamples=1000)"
   ]
  },
  {
   "cell_type": "code",
   "execution_count": null,
   "id": "99a216c9",
   "metadata": {},
   "outputs": [],
   "source": [
    "shapiro(auc_bootstrap), np.mean(auc_bootstrap)"
   ]
  },
  {
   "cell_type": "code",
   "execution_count": null,
   "id": "1b9acea5",
   "metadata": {},
   "outputs": [],
   "source": [
    "t_18 = auc_bootstrap\n",
    "print(t_18)"
   ]
  },
  {
   "cell_type": "code",
   "execution_count": null,
   "id": "e1a0da6f",
   "metadata": {},
   "outputs": [],
   "source": [
    "del X_train, X_test, y_train, y_test, X_val, y_val,study, optuna_auc"
   ]
  },
  {
   "cell_type": "code",
   "execution_count": 65,
   "id": "3bbe9a78",
   "metadata": {},
   "outputs": [],
   "source": [
    "# 19\n",
    "column_to_drop_18 = 'Cat_현재 도시공원 및 녹지 접근용이성'"
   ]
  },
  {
   "cell_type": "code",
   "execution_count": 66,
   "id": "c92655ab",
   "metadata": {},
   "outputs": [
    {
     "name": "stdout",
     "output_type": "stream",
     "text": [
      "(8444, 158)\n"
     ]
    }
   ],
   "source": [
    "if not column_to_drop_18.startswith('Cat_'):\n",
    "    comp_19 = comp_18.drop(column_to_drop_18, axis=1)\n",
    "    X_19 = comp_19.drop('target', axis=1)\n",
    "    y_19 = comp_19['target']\n",
    "else:\n",
    "    comp_19 = comp_18.drop(comp_18.filter(regex='^' + column_to_drop_18).columns, axis=1)\n",
    "    X_19 = comp_19.drop('target', axis=1)\n",
    "    y_19 = comp_19['target']\n",
    "\n",
    "print(X_19.shape)"
   ]
  },
  {
   "cell_type": "code",
   "execution_count": null,
   "id": "b1a56377",
   "metadata": {},
   "outputs": [],
   "source": [
    "X_train, X_test, y_train, y_test = train_test_split(X_19, y_19, test_size=0.2, shuffle=True, stratify=y_19, random_state = 0)\n",
    "X_train, X_val, y_train, y_val = train_test_split(X_train, y_train, test_size=0.2, shuffle=True, stratify=y_train, random_state = 0)"
   ]
  },
  {
   "cell_type": "code",
   "execution_count": null,
   "id": "8649a951",
   "metadata": {},
   "outputs": [],
   "source": [
    "def objective(trial):\n",
    "    params = {\n",
    "        'n_estimators' :trial.suggest_int('n_estimators', 50, 200),\n",
    "        'learning_rate' :trial.suggest_float('learning_rate',0.01, 0.1,step=0.01),\n",
    "        'max_depth' :trial.suggest_int('max_depth', 1, 10),\n",
    "        'max_leaves': trial.suggest_int('max_leaves', 2, 1024, step=2),\n",
    "        'subsample':trial.suggest_float('subsample', 0.1, 1.0,step=0.1),\n",
    "        'colsample_bytree' :trial.suggest_float('colsample_bytree', 0.1, 1.0,step=0.1),\n",
    "        'gamma' :trial.suggest_int('gamma',1, 10),\n",
    "        'reg_alpha' :trial.suggest_int('reg_alpha', 1, 10),\n",
    "        'reg_lambda' :trial.suggest_int('reg_lambda', 1, 10),\n",
    "        'booster' : trial.suggest_categorical('booster', ['gbtree']),\n",
    "        'objective' : trial.suggest_categorical('objective', ['binary:logistic'])\n",
    "        }\n",
    "        \n",
    "    clf = XGBClassifier(**params,random_state = 0)\n",
    "    clf.fit(X_train, y_train)\n",
    "    clf_proba = clf.predict_proba(X_val)[:, 1]\n",
    "        \n",
    "    AUC_SCORE = roc_auc_score(y_val, clf_proba)\n",
    "    return AUC_SCORE\n",
    "\n",
    "direction = \"maximize\"\n",
    "sampler = optuna.samplers.TPESampler(seed=10)\n",
    "study =  optuna.create_study(direction=direction, sampler=sampler, pruner=optuna.pruners.HyperbandPruner())\n",
    "early_stopping = EarlyStoppingCallback(10, direction=direction)\n",
    "study.optimize(objective, callbacks=[early_stopping], n_trials=200) "
   ]
  },
  {
   "cell_type": "code",
   "execution_count": null,
   "id": "48ada3b1",
   "metadata": {},
   "outputs": [],
   "source": [
    "print(study.best_trial.params)\n",
    "optuna_auc = study.best_trial.value\n",
    "print(optuna_auc)"
   ]
  },
  {
   "cell_type": "code",
   "execution_count": null,
   "id": "b37d556c",
   "metadata": {},
   "outputs": [],
   "source": [
    "xgb_optuna_19 = XGBClassifier(**study.best_trial.params, random_state = 0)\n",
    "xgb_optuna_19.fit(X_train, y_train)"
   ]
  },
  {
   "cell_type": "code",
   "execution_count": null,
   "id": "21e2aa43",
   "metadata": {},
   "outputs": [],
   "source": [
    "xgb_optuna_proba_19 = xgb_optuna_19.predict_proba(X_test)[:, 1]\n",
    "auc_19 = roc_auc_score(y_test, xgb_optuna_proba_19)\n",
    "print(decimal.Decimal(auc_19).quantize(decimal.Decimal('1.000')))"
   ]
  },
  {
   "cell_type": "code",
   "execution_count": null,
   "id": "264c0b74",
   "metadata": {},
   "outputs": [],
   "source": [
    "X_train = X_train.values\n",
    "y_train = y_train.values"
   ]
  },
  {
   "cell_type": "code",
   "execution_count": null,
   "id": "3c63404a",
   "metadata": {},
   "outputs": [],
   "source": [
    "auc_bootstrap = []"
   ]
  },
  {
   "cell_type": "code",
   "execution_count": null,
   "id": "37151b0a",
   "metadata": {},
   "outputs": [],
   "source": [
    "rs = RandomState(seed = 19)\n",
    "bootstrap_auc(xgb_optuna_19, X_train, y_train, X_test, y_test, nsamples=1000)"
   ]
  },
  {
   "cell_type": "code",
   "execution_count": null,
   "id": "d99f00da",
   "metadata": {},
   "outputs": [],
   "source": [
    "shapiro(auc_bootstrap), np.mean(auc_bootstrap)"
   ]
  },
  {
   "cell_type": "code",
   "execution_count": null,
   "id": "a7a39ff0",
   "metadata": {},
   "outputs": [],
   "source": [
    "t_19 = auc_bootstrap\n",
    "print(t_19)"
   ]
  },
  {
   "cell_type": "code",
   "execution_count": 67,
   "id": "5907a915",
   "metadata": {},
   "outputs": [],
   "source": [
    "# 20.\n",
    "column_to_drop_19 = '소득 중 근로/사업소득의 비중(월평균)'"
   ]
  },
  {
   "cell_type": "code",
   "execution_count": 68,
   "id": "f063842e",
   "metadata": {},
   "outputs": [
    {
     "name": "stdout",
     "output_type": "stream",
     "text": [
      "(8444, 157)\n"
     ]
    }
   ],
   "source": [
    "if not column_to_drop_19.startswith('Cat_'):\n",
    "    comp_20 = comp_19.drop(column_to_drop_19, axis=1)\n",
    "    X_20 = comp_20.drop('target', axis=1)\n",
    "    y_20 = comp_20['target']\n",
    "else:\n",
    "    comp_20 = comp_19.drop(comp_19.filter(regex='^' + column_to_drop_19).columns, axis=1)\n",
    "    X_20 = comp_20.drop('target', axis=1)\n",
    "    y_20 = comp_20['target']\n",
    "\n",
    "print(X_20.shape)"
   ]
  },
  {
   "cell_type": "code",
   "execution_count": null,
   "id": "d3955c9f",
   "metadata": {},
   "outputs": [],
   "source": [
    "X_train, X_test, y_train, y_test = train_test_split(X_20, y_20, test_size=0.2, shuffle=True, stratify=y_20, random_state = 0)\n",
    "X_train, X_val, y_train, y_val = train_test_split(X_train, y_train, test_size=0.2, shuffle=True, stratify=y_train, random_state = 0)"
   ]
  },
  {
   "cell_type": "code",
   "execution_count": null,
   "id": "bb18013a",
   "metadata": {},
   "outputs": [],
   "source": [
    "def objective(trial):\n",
    "    params = {\n",
    "        'n_estimators' :trial.suggest_int('n_estimators', 50, 200),\n",
    "        'learning_rate' :trial.suggest_float('learning_rate',0.01, 0.1,step=0.01),\n",
    "        'max_depth' :trial.suggest_int('max_depth', 1, 10),\n",
    "        'max_leaves': trial.suggest_int('max_leaves', 2, 1024, step=2),\n",
    "        'subsample':trial.suggest_float('subsample', 0.1, 1.0,step=0.1),\n",
    "        'colsample_bytree' :trial.suggest_float('colsample_bytree', 0.1, 1.0,step=0.1),\n",
    "        'gamma' :trial.suggest_int('gamma',1, 10),\n",
    "        'reg_alpha' :trial.suggest_int('reg_alpha', 1, 10),\n",
    "        'reg_lambda' :trial.suggest_int('reg_lambda', 1, 10),\n",
    "        'booster' : trial.suggest_categorical('booster', ['gbtree']),\n",
    "        'objective' : trial.suggest_categorical('objective', ['binary:logistic'])\n",
    "        }\n",
    "        \n",
    "    clf = XGBClassifier(**params,random_state = 0)\n",
    "    clf.fit(X_train, y_train)\n",
    "    clf_proba = clf.predict_proba(X_val)[:, 1]\n",
    "        \n",
    "    AUC_SCORE = roc_auc_score(y_val, clf_proba)\n",
    "    return AUC_SCORE\n",
    "\n",
    "direction = \"maximize\"\n",
    "sampler = optuna.samplers.TPESampler(seed=10)\n",
    "study =  optuna.create_study(direction=direction, sampler=sampler, pruner=optuna.pruners.HyperbandPruner())\n",
    "early_stopping = EarlyStoppingCallback(10, direction=direction)\n",
    "study.optimize(objective, callbacks=[early_stopping], n_trials=200) "
   ]
  },
  {
   "cell_type": "code",
   "execution_count": null,
   "id": "3e421db6",
   "metadata": {},
   "outputs": [],
   "source": [
    "print(study.best_trial.params)\n",
    "optuna_auc = study.best_trial.value\n",
    "print(optuna_auc)"
   ]
  },
  {
   "cell_type": "code",
   "execution_count": null,
   "id": "34245831",
   "metadata": {},
   "outputs": [],
   "source": [
    "xgb_optuna_20 = XGBClassifier(**study.best_trial.params, random_state = 0)\n",
    "xgb_optuna_20.fit(X_train, y_train)"
   ]
  },
  {
   "cell_type": "code",
   "execution_count": null,
   "id": "29ad23a3",
   "metadata": {},
   "outputs": [],
   "source": [
    "xgb_optuna_proba_20 = xgb_optuna_20.predict_proba(X_test)[:, 1]\n",
    "auc_20 = roc_auc_score(y_test, xgb_optuna_proba_20)\n",
    "print(decimal.Decimal(auc_20).quantize(decimal.Decimal('1.000')))"
   ]
  },
  {
   "cell_type": "code",
   "execution_count": null,
   "id": "aae03acd",
   "metadata": {},
   "outputs": [],
   "source": [
    "X_train = X_train.values\n",
    "y_train = y_train.values"
   ]
  },
  {
   "cell_type": "code",
   "execution_count": null,
   "id": "5ee15517",
   "metadata": {},
   "outputs": [],
   "source": [
    "auc_bootstrap = []"
   ]
  },
  {
   "cell_type": "code",
   "execution_count": null,
   "id": "128a6ff0",
   "metadata": {},
   "outputs": [],
   "source": [
    "rs = RandomState(seed = 20)\n",
    "bootstrap_auc(xgb_optuna_20, X_train, y_train, X_test, y_test, nsamples=1000)"
   ]
  },
  {
   "cell_type": "code",
   "execution_count": null,
   "id": "3ae6b160",
   "metadata": {},
   "outputs": [],
   "source": [
    "shapiro(auc_bootstrap), np.mean(auc_bootstrap)"
   ]
  },
  {
   "cell_type": "code",
   "execution_count": null,
   "id": "305938d9",
   "metadata": {},
   "outputs": [],
   "source": [
    "t_20 = auc_bootstrap\n",
    "print(t_20)"
   ]
  },
  {
   "cell_type": "code",
   "execution_count": null,
   "id": "b3392a8a",
   "metadata": {},
   "outputs": [],
   "source": [
    "del X_train, X_test, y_train, y_test, X_val, y_val,study, optuna_auc"
   ]
  },
  {
   "cell_type": "code",
   "execution_count": 69,
   "id": "67808066",
   "metadata": {},
   "outputs": [],
   "source": [
    "# 21\n",
    "column_to_drop_20 = 'Cat_현재 치안 및 범죄 등 방범 상태'"
   ]
  },
  {
   "cell_type": "code",
   "execution_count": 70,
   "id": "ca13682b",
   "metadata": {},
   "outputs": [
    {
     "name": "stdout",
     "output_type": "stream",
     "text": [
      "(8444, 153)\n"
     ]
    }
   ],
   "source": [
    "if not column_to_drop_20.startswith('Cat_'):\n",
    "    comp_21 = comp_20.drop(column_to_drop_20, axis=1)\n",
    "    X_21 = comp_21.drop('target', axis=1)\n",
    "    y_21 = comp_21['target']\n",
    "else:\n",
    "    comp_21 = comp_20.drop(comp_20.filter(regex='^' + column_to_drop_20).columns, axis=1)\n",
    "    X_21 = comp_21.drop('target', axis=1)\n",
    "    y_21 = comp_21['target']\n",
    "\n",
    "print(X_21.shape)"
   ]
  },
  {
   "cell_type": "code",
   "execution_count": null,
   "id": "16f9063d",
   "metadata": {},
   "outputs": [],
   "source": [
    "X_train, X_test, y_train, y_test = train_test_split(X_21, y_21, test_size=0.2, shuffle=True, stratify=y_21, random_state = 0)\n",
    "X_train, X_val, y_train, y_val = train_test_split(X_train, y_train, test_size=0.2, shuffle=True, stratify=y_train, random_state = 0)"
   ]
  },
  {
   "cell_type": "code",
   "execution_count": null,
   "id": "1f00db9a",
   "metadata": {},
   "outputs": [],
   "source": [
    "def objective(trial):\n",
    "    params = {\n",
    "        'n_estimators' :trial.suggest_int('n_estimators', 50, 200),\n",
    "        'learning_rate' :trial.suggest_float('learning_rate',0.01, 0.1,step=0.01),\n",
    "        'max_depth' :trial.suggest_int('max_depth', 1, 10),\n",
    "        'max_leaves': trial.suggest_int('max_leaves', 2, 1024, step=2),\n",
    "        'subsample':trial.suggest_float('subsample', 0.1, 1.0,step=0.1),\n",
    "        'colsample_bytree' :trial.suggest_float('colsample_bytree', 0.1, 1.0,step=0.1),\n",
    "        'gamma' :trial.suggest_int('gamma',1, 10),\n",
    "        'reg_alpha' :trial.suggest_int('reg_alpha', 1, 10),\n",
    "        'reg_lambda' :trial.suggest_int('reg_lambda', 1, 10),\n",
    "        'booster' : trial.suggest_categorical('booster', ['gbtree']),\n",
    "        'objective' : trial.suggest_categorical('objective', ['binary:logistic'])\n",
    "        }\n",
    "        \n",
    "    clf = XGBClassifier(**params,random_state = 0)\n",
    "    clf.fit(X_train, y_train)\n",
    "    clf_proba = clf.predict_proba(X_val)[:, 1]\n",
    "        \n",
    "    AUC_SCORE = roc_auc_score(y_val, clf_proba)\n",
    "    return AUC_SCORE\n",
    "\n",
    "direction = \"maximize\"\n",
    "sampler = optuna.samplers.TPESampler(seed=10)\n",
    "study =  optuna.create_study(direction=direction, sampler=sampler, pruner=optuna.pruners.HyperbandPruner())\n",
    "early_stopping = EarlyStoppingCallback(10, direction=direction)\n",
    "study.optimize(objective, callbacks=[early_stopping], n_trials=200) "
   ]
  },
  {
   "cell_type": "code",
   "execution_count": null,
   "id": "77221f77",
   "metadata": {},
   "outputs": [],
   "source": [
    "print(study.best_trial.params)\n",
    "optuna_auc = study.best_trial.value\n",
    "print(optuna_auc)"
   ]
  },
  {
   "cell_type": "code",
   "execution_count": null,
   "id": "b1db755e",
   "metadata": {},
   "outputs": [],
   "source": [
    "xgb_optuna_21 = XGBClassifier(**study.best_trial.params, random_state = 0)\n",
    "xgb_optuna_21.fit(X_train, y_train)"
   ]
  },
  {
   "cell_type": "code",
   "execution_count": null,
   "id": "99685aa4",
   "metadata": {},
   "outputs": [],
   "source": [
    "xgb_optuna_proba_21 = xgb_optuna_21.predict_proba(X_test)[:, 1]\n",
    "auc_21 = roc_auc_score(y_test, xgb_optuna_proba_21)\n",
    "print(decimal.Decimal(auc_21).quantize(decimal.Decimal('1.000')))"
   ]
  },
  {
   "cell_type": "code",
   "execution_count": null,
   "id": "09117850",
   "metadata": {},
   "outputs": [],
   "source": [
    "X_train = X_train.values\n",
    "y_train = y_train.values"
   ]
  },
  {
   "cell_type": "code",
   "execution_count": null,
   "id": "9654d83a",
   "metadata": {},
   "outputs": [],
   "source": [
    "auc_bootstrap = []"
   ]
  },
  {
   "cell_type": "code",
   "execution_count": null,
   "id": "e7befa8c",
   "metadata": {},
   "outputs": [],
   "source": [
    "rs = RandomState(seed = 21)\n",
    "bootstrap_auc(xgb_optuna_21, X_train, y_train, X_test, y_test, nsamples=1000)"
   ]
  },
  {
   "cell_type": "code",
   "execution_count": null,
   "id": "6cbf6558",
   "metadata": {},
   "outputs": [],
   "source": [
    "shapiro(auc_bootstrap), np.mean(auc_bootstrap)"
   ]
  },
  {
   "cell_type": "code",
   "execution_count": null,
   "id": "b0724b44",
   "metadata": {},
   "outputs": [],
   "source": [
    "t_21 = auc_bootstrap\n",
    "print(t_21)"
   ]
  },
  {
   "cell_type": "code",
   "execution_count": null,
   "id": "35f0ef5e",
   "metadata": {},
   "outputs": [],
   "source": [
    "del X_train, X_test, y_train, y_test, X_val, y_val,study, optuna_auc"
   ]
  },
  {
   "cell_type": "code",
   "execution_count": 71,
   "id": "1b12d741",
   "metadata": {},
   "outputs": [],
   "source": [
    "# 22\n",
    "column_to_drop_21 = 'Cat_현재 청소/쓰레기 처리상태'"
   ]
  },
  {
   "cell_type": "code",
   "execution_count": 72,
   "id": "dda5704e",
   "metadata": {},
   "outputs": [
    {
     "name": "stdout",
     "output_type": "stream",
     "text": [
      "(8444, 149)\n"
     ]
    }
   ],
   "source": [
    "if not column_to_drop_21.startswith('Cat_'):\n",
    "    comp_22 = comp_21.drop(column_to_drop_21, axis=1)\n",
    "    X_22 = comp_22.drop('target', axis=1)\n",
    "    y_22 = comp_22['target']\n",
    "else:\n",
    "    comp_22 = comp_21.drop(comp_21.filter(regex='^' + column_to_drop_21).columns, axis=1)\n",
    "    X_22 = comp_22.drop('target', axis=1)\n",
    "    y_22 = comp_22['target']\n",
    "\n",
    "print(X_22.shape)"
   ]
  },
  {
   "cell_type": "code",
   "execution_count": null,
   "id": "77efb7d7",
   "metadata": {},
   "outputs": [],
   "source": [
    "X_train, X_test, y_train, y_test = train_test_split(X_22, y_22, test_size=0.2, shuffle=True, stratify=y_22, random_state = 0)\n",
    "X_train, X_val, y_train, y_val = train_test_split(X_train, y_train, test_size=0.2, shuffle=True, stratify=y_train, random_state = 0)"
   ]
  },
  {
   "cell_type": "code",
   "execution_count": null,
   "id": "58e08cd6",
   "metadata": {},
   "outputs": [],
   "source": [
    "def objective(trial):\n",
    "    params = {\n",
    "        'n_estimators' :trial.suggest_int('n_estimators', 50, 200),\n",
    "        'learning_rate' :trial.suggest_float('learning_rate',0.01, 0.1,step=0.01),\n",
    "        'max_depth' :trial.suggest_int('max_depth', 1, 10),\n",
    "        'max_leaves': trial.suggest_int('max_leaves', 2, 1024, step=2),\n",
    "        'subsample':trial.suggest_float('subsample', 0.1, 1.0,step=0.1),\n",
    "        'colsample_bytree' :trial.suggest_float('colsample_bytree', 0.1, 1.0,step=0.1),\n",
    "        'gamma' :trial.suggest_int('gamma',1, 10),\n",
    "        'reg_alpha' :trial.suggest_int('reg_alpha', 1, 10),\n",
    "        'reg_lambda' :trial.suggest_int('reg_lambda', 1, 10),\n",
    "        'booster' : trial.suggest_categorical('booster', ['gbtree']),\n",
    "        'objective' : trial.suggest_categorical('objective', ['binary:logistic'])\n",
    "        }\n",
    "        \n",
    "    clf = XGBClassifier(**params,random_state = 0)\n",
    "    clf.fit(X_train, y_train)\n",
    "    clf_proba = clf.predict_proba(X_val)[:, 1]\n",
    "        \n",
    "    AUC_SCORE = roc_auc_score(y_val, clf_proba)\n",
    "    return AUC_SCORE\n",
    "\n",
    "direction = \"maximize\"\n",
    "sampler = optuna.samplers.TPESampler(seed=10)\n",
    "study =  optuna.create_study(direction=direction, sampler=sampler, pruner=optuna.pruners.HyperbandPruner())\n",
    "early_stopping = EarlyStoppingCallback(10, direction=direction)\n",
    "study.optimize(objective, callbacks=[early_stopping], n_trials=200) "
   ]
  },
  {
   "cell_type": "code",
   "execution_count": null,
   "id": "321ce7d7",
   "metadata": {},
   "outputs": [],
   "source": [
    "print(study.best_trial.params)\n",
    "optuna_auc = study.best_trial.value\n",
    "print(optuna_auc)"
   ]
  },
  {
   "cell_type": "code",
   "execution_count": null,
   "id": "6593c138",
   "metadata": {},
   "outputs": [],
   "source": [
    "xgb_optuna_22 = XGBClassifier(**study.best_trial.params, random_state = 0)\n",
    "xgb_optuna_22.fit(X_train, y_train)"
   ]
  },
  {
   "cell_type": "code",
   "execution_count": null,
   "id": "65da5538",
   "metadata": {},
   "outputs": [],
   "source": [
    "xgb_optuna_proba_22 = xgb_optuna_22.predict_proba(X_test)[:, 1]\n",
    "auc_22 = roc_auc_score(y_test, xgb_optuna_proba_22)\n",
    "print(decimal.Decimal(auc_22).quantize(decimal.Decimal('1.000')))"
   ]
  },
  {
   "cell_type": "code",
   "execution_count": null,
   "id": "f51335c0",
   "metadata": {},
   "outputs": [],
   "source": [
    "X_train = X_train.values\n",
    "y_train = y_train.values"
   ]
  },
  {
   "cell_type": "code",
   "execution_count": null,
   "id": "0f110c04",
   "metadata": {},
   "outputs": [],
   "source": [
    "auc_bootstrap = []"
   ]
  },
  {
   "cell_type": "code",
   "execution_count": null,
   "id": "c2c9840a",
   "metadata": {},
   "outputs": [],
   "source": [
    "rs = RandomState(seed = 22)\n",
    "bootstrap_auc(xgb_optuna_22, X_train, y_train, X_test, y_test, nsamples=1000)"
   ]
  },
  {
   "cell_type": "code",
   "execution_count": null,
   "id": "210b404a",
   "metadata": {},
   "outputs": [],
   "source": [
    "shapiro(auc_bootstrap), np.mean(auc_bootstrap)"
   ]
  },
  {
   "cell_type": "code",
   "execution_count": null,
   "id": "a2e260e5",
   "metadata": {},
   "outputs": [],
   "source": [
    "t_22 = auc_bootstrap\n",
    "print(t_22)"
   ]
  },
  {
   "cell_type": "code",
   "execution_count": null,
   "id": "01e20540",
   "metadata": {},
   "outputs": [],
   "source": [
    "del X_train, X_test, y_train, y_test, X_val, y_val,study, optuna_auc"
   ]
  },
  {
   "cell_type": "code",
   "execution_count": 73,
   "id": "771f4519",
   "metadata": {},
   "outputs": [],
   "source": [
    "# 23.\n",
    "column_to_drop_22 = 'Cat_현재 공공기관 접근용이성'"
   ]
  },
  {
   "cell_type": "code",
   "execution_count": 74,
   "id": "5a85e9ed",
   "metadata": {},
   "outputs": [
    {
     "name": "stdout",
     "output_type": "stream",
     "text": [
      "(8444, 145)\n"
     ]
    }
   ],
   "source": [
    "if not column_to_drop_22.startswith('Cat_'):\n",
    "    comp_23 = comp_22.drop(column_to_drop_22, axis=1)\n",
    "    X_23 = comp_23.drop('target', axis=1)\n",
    "    y_23 = comp_23['target']\n",
    "else:\n",
    "    comp_23 = comp_22.drop(comp_22.filter(regex='^' + column_to_drop_22).columns, axis=1)\n",
    "    X_23 = comp_23.drop('target', axis=1)\n",
    "    y_23 = comp_23['target']\n",
    "\n",
    "print(X_23.shape)"
   ]
  },
  {
   "cell_type": "code",
   "execution_count": null,
   "id": "a8587cf9",
   "metadata": {},
   "outputs": [],
   "source": [
    "X_train, X_test, y_train, y_test = train_test_split(X_23, y_23, test_size=0.2, shuffle=True, stratify=y_23, random_state = 0)\n",
    "X_train, X_val, y_train, y_val = train_test_split(X_train, y_train, test_size=0.2, shuffle=True, stratify=y_train, random_state = 0)"
   ]
  },
  {
   "cell_type": "code",
   "execution_count": null,
   "id": "7a5a0591",
   "metadata": {},
   "outputs": [],
   "source": [
    "def objective(trial):\n",
    "    params = {\n",
    "        'n_estimators' :trial.suggest_int('n_estimators', 50, 200),\n",
    "        'learning_rate' :trial.suggest_float('learning_rate',0.01, 0.1,step=0.01),\n",
    "        'max_depth' :trial.suggest_int('max_depth', 1, 10),\n",
    "        'max_leaves': trial.suggest_int('max_leaves', 2, 1024, step=2),\n",
    "        'subsample':trial.suggest_float('subsample', 0.1, 1.0,step=0.1),\n",
    "        'colsample_bytree' :trial.suggest_float('colsample_bytree', 0.1, 1.0,step=0.1),\n",
    "        'gamma' :trial.suggest_int('gamma',1, 10),\n",
    "        'reg_alpha' :trial.suggest_int('reg_alpha', 1, 10),\n",
    "        'reg_lambda' :trial.suggest_int('reg_lambda', 1, 10),\n",
    "        'booster' : trial.suggest_categorical('booster', ['gbtree']),\n",
    "        'objective' : trial.suggest_categorical('objective', ['binary:logistic'])\n",
    "        }\n",
    "        \n",
    "    clf = XGBClassifier(**params,random_state = 0)\n",
    "    clf.fit(X_train, y_train)\n",
    "    clf_proba = clf.predict_proba(X_val)[:, 1]\n",
    "        \n",
    "    AUC_SCORE = roc_auc_score(y_val, clf_proba)\n",
    "    return AUC_SCORE\n",
    "\n",
    "direction = \"maximize\"\n",
    "sampler = optuna.samplers.TPESampler(seed=10)\n",
    "study =  optuna.create_study(direction=direction, sampler=sampler, pruner=optuna.pruners.HyperbandPruner())\n",
    "early_stopping = EarlyStoppingCallback(10, direction=direction)\n",
    "study.optimize(objective, callbacks=[early_stopping], n_trials=200) "
   ]
  },
  {
   "cell_type": "code",
   "execution_count": null,
   "id": "eb702c63",
   "metadata": {},
   "outputs": [],
   "source": [
    "print(study.best_trial.params)\n",
    "optuna_auc = study.best_trial.value\n",
    "print(optuna_auc)"
   ]
  },
  {
   "cell_type": "code",
   "execution_count": null,
   "id": "31f2ae01",
   "metadata": {},
   "outputs": [],
   "source": [
    "xgb_optuna_23 = XGBClassifier(**study.best_trial.params, random_state = 0)\n",
    "xgb_optuna_23.fit(X_train, y_train)"
   ]
  },
  {
   "cell_type": "code",
   "execution_count": null,
   "id": "4898252c",
   "metadata": {},
   "outputs": [],
   "source": [
    "xgb_optuna_proba_23 = xgb_optuna_23.predict_proba(X_test)[:, 1]\n",
    "auc_23 = roc_auc_score(y_test, xgb_optuna_proba_23)\n",
    "print(decimal.Decimal(auc_23).quantize(decimal.Decimal('1.000')))"
   ]
  },
  {
   "cell_type": "code",
   "execution_count": null,
   "id": "bc7d89b8",
   "metadata": {},
   "outputs": [],
   "source": [
    "X_train = X_train.values\n",
    "y_train = y_train.values"
   ]
  },
  {
   "cell_type": "code",
   "execution_count": null,
   "id": "4abb404d",
   "metadata": {},
   "outputs": [],
   "source": [
    "auc_bootstrap = []"
   ]
  },
  {
   "cell_type": "code",
   "execution_count": null,
   "id": "bf645b40",
   "metadata": {},
   "outputs": [],
   "source": [
    "rs = RandomState(seed = 23)\n",
    "bootstrap_auc(xgb_optuna_23, X_train, y_train, X_test, y_test, nsamples=1000)"
   ]
  },
  {
   "cell_type": "code",
   "execution_count": null,
   "id": "8b618adf",
   "metadata": {},
   "outputs": [],
   "source": [
    "shapiro(auc_bootstrap), np.mean(auc_bootstrap)"
   ]
  },
  {
   "cell_type": "code",
   "execution_count": null,
   "id": "a2432ba1",
   "metadata": {},
   "outputs": [],
   "source": [
    "t_23 = auc_bootstrap\n",
    "print(t_23)"
   ]
  },
  {
   "cell_type": "code",
   "execution_count": null,
   "id": "2efe1aad",
   "metadata": {},
   "outputs": [],
   "source": [
    "del X_train, X_test, y_train, y_test, X_val, y_val,study, optuna_auc"
   ]
  },
  {
   "cell_type": "code",
   "execution_count": 75,
   "id": "83cd3a68",
   "metadata": {},
   "outputs": [],
   "source": [
    "# 24\n",
    "column_to_drop_23 = 'Cat_현재 의료시설 접근용이성'"
   ]
  },
  {
   "cell_type": "code",
   "execution_count": 76,
   "id": "1adf26f6",
   "metadata": {},
   "outputs": [
    {
     "name": "stdout",
     "output_type": "stream",
     "text": [
      "(8444, 141)\n"
     ]
    }
   ],
   "source": [
    "if not column_to_drop_23.startswith('Cat_'):\n",
    "    comp_24 = comp_23.drop(column_to_drop_23, axis=1)\n",
    "    X_24 = comp_24.drop('target', axis=1)\n",
    "    y_24 = comp_24['target']\n",
    "else:\n",
    "    comp_24 = comp_23.drop(comp_23.filter(regex='^' + column_to_drop_23).columns, axis=1)\n",
    "    X_24 = comp_24.drop('target', axis=1)\n",
    "    y_24 = comp_24['target']\n",
    "\n",
    "print(X_24.shape)"
   ]
  },
  {
   "cell_type": "code",
   "execution_count": null,
   "id": "80c7a284",
   "metadata": {},
   "outputs": [],
   "source": [
    "X_train, X_test, y_train, y_test = train_test_split(X_24, y_24, test_size=0.2, shuffle=True, stratify=y_24, random_state = 0)\n",
    "X_train, X_val, y_train, y_val = train_test_split(X_train, y_train, test_size=0.2, shuffle=True, stratify=y_train, random_state = 0)"
   ]
  },
  {
   "cell_type": "code",
   "execution_count": null,
   "id": "de6c172c",
   "metadata": {},
   "outputs": [],
   "source": [
    "def objective(trial):\n",
    "    params = {\n",
    "        'n_estimators' :trial.suggest_int('n_estimators', 50, 200),\n",
    "        'learning_rate' :trial.suggest_float('learning_rate',0.01, 0.1,step=0.01),\n",
    "        'max_depth' :trial.suggest_int('max_depth', 1, 10),\n",
    "        'max_leaves': trial.suggest_int('max_leaves', 2, 1024, step=2),\n",
    "        'subsample':trial.suggest_float('subsample', 0.1, 1.0,step=0.1),\n",
    "        'colsample_bytree' :trial.suggest_float('colsample_bytree', 0.1, 1.0,step=0.1),\n",
    "        'gamma' :trial.suggest_int('gamma',1, 10),\n",
    "        'reg_alpha' :trial.suggest_int('reg_alpha', 1, 10),\n",
    "        'reg_lambda' :trial.suggest_int('reg_lambda', 1, 10),\n",
    "        'booster' : trial.suggest_categorical('booster', ['gbtree']),\n",
    "        'objective' : trial.suggest_categorical('objective', ['binary:logistic'])\n",
    "        }\n",
    "        \n",
    "    clf = XGBClassifier(**params,random_state = 0)\n",
    "    clf.fit(X_train, y_train)\n",
    "    clf_proba = clf.predict_proba(X_val)[:, 1]\n",
    "        \n",
    "    AUC_SCORE = roc_auc_score(y_val, clf_proba)\n",
    "    return AUC_SCORE\n",
    "\n",
    "direction = \"maximize\"\n",
    "sampler = optuna.samplers.TPESampler(seed=10)\n",
    "study =  optuna.create_study(direction=direction, sampler=sampler, pruner=optuna.pruners.HyperbandPruner())\n",
    "early_stopping = EarlyStoppingCallback(10, direction=direction)\n",
    "study.optimize(objective, callbacks=[early_stopping], n_trials=200) "
   ]
  },
  {
   "cell_type": "code",
   "execution_count": null,
   "id": "62867e1b",
   "metadata": {},
   "outputs": [],
   "source": [
    "print(study.best_trial.params)\n",
    "optuna_auc = study.best_trial.value\n",
    "print(optuna_auc)"
   ]
  },
  {
   "cell_type": "code",
   "execution_count": null,
   "id": "858a05f0",
   "metadata": {},
   "outputs": [],
   "source": [
    "xgb_optuna_24 = XGBClassifier(**study.best_trial.params, random_state = 0)\n",
    "xgb_optuna_24.fit(X_train, y_train)"
   ]
  },
  {
   "cell_type": "code",
   "execution_count": null,
   "id": "58ba9ff6",
   "metadata": {},
   "outputs": [],
   "source": [
    "xgb_optuna_proba_24 = xgb_optuna_24.predict_proba(X_test)[:, 1]\n",
    "auc_24 = roc_auc_score(y_test, xgb_optuna_proba_24)\n",
    "print(decimal.Decimal(auc_24).quantize(decimal.Decimal('1.000')))"
   ]
  },
  {
   "cell_type": "code",
   "execution_count": null,
   "id": "7358979c",
   "metadata": {},
   "outputs": [],
   "source": [
    "X_train = X_train.values\n",
    "y_train = y_train.values"
   ]
  },
  {
   "cell_type": "code",
   "execution_count": null,
   "id": "e124f839",
   "metadata": {},
   "outputs": [],
   "source": [
    "auc_bootstrap = []"
   ]
  },
  {
   "cell_type": "code",
   "execution_count": null,
   "id": "c417a478",
   "metadata": {},
   "outputs": [],
   "source": [
    "rs = RandomState(seed = 24)\n",
    "bootstrap_auc(xgb_optuna_24, X_train, y_train, X_test, y_test, nsamples=1000)"
   ]
  },
  {
   "cell_type": "code",
   "execution_count": null,
   "id": "1bbb1368",
   "metadata": {},
   "outputs": [],
   "source": [
    "shapiro(auc_bootstrap), np.mean(auc_bootstrap)"
   ]
  },
  {
   "cell_type": "code",
   "execution_count": null,
   "id": "90aed79c",
   "metadata": {},
   "outputs": [],
   "source": [
    "t_24 = auc_bootstrap\n",
    "print(t_24)"
   ]
  },
  {
   "cell_type": "code",
   "execution_count": null,
   "id": "664d2bc7",
   "metadata": {},
   "outputs": [],
   "source": [
    "del X_train, X_test, y_train, y_test, X_val, y_val,study, optuna_auc"
   ]
  },
  {
   "cell_type": "code",
   "execution_count": 77,
   "id": "de7c425e",
   "metadata": {},
   "outputs": [],
   "source": [
    "column_to_drop_24 = 'Cat_현재 상업시설 접근용이성'"
   ]
  },
  {
   "cell_type": "code",
   "execution_count": 78,
   "id": "1f3f1f91",
   "metadata": {},
   "outputs": [
    {
     "name": "stdout",
     "output_type": "stream",
     "text": [
      "(8444, 137)\n"
     ]
    }
   ],
   "source": [
    "if not column_to_drop_24.startswith('Cat_'):\n",
    "    comp_25 = comp_24.drop(column_to_drop_24, axis=1)\n",
    "    X_25 = comp_25.drop('target', axis=1)\n",
    "    y_25 = comp_25['target']\n",
    "else:\n",
    "    comp_25 = comp_24.drop(comp_24.filter(regex='^' + column_to_drop_24).columns, axis=1)\n",
    "    X_25 = comp_25.drop('target', axis=1)\n",
    "    y_25 = comp_25['target']\n",
    "\n",
    "print(X_25.shape)"
   ]
  },
  {
   "cell_type": "code",
   "execution_count": null,
   "id": "62a31586",
   "metadata": {},
   "outputs": [],
   "source": [
    "X_train, X_test, y_train, y_test = train_test_split(X_25, y_25, test_size=0.2, shuffle=True, stratify=y_25, random_state = 0)\n",
    "X_train, X_val, y_train, y_val = train_test_split(X_train, y_train, test_size=0.2, shuffle=True, stratify=y_train, random_state = 0)"
   ]
  },
  {
   "cell_type": "code",
   "execution_count": null,
   "id": "9d0e7374",
   "metadata": {},
   "outputs": [],
   "source": [
    "def objective(trial):\n",
    "    params = {\n",
    "        'n_estimators' :trial.suggest_int('n_estimators', 50, 200),\n",
    "        'learning_rate' :trial.suggest_float('learning_rate',0.01, 0.1,step=0.01),\n",
    "        'max_depth' :trial.suggest_int('max_depth', 1, 10),\n",
    "        'max_leaves': trial.suggest_int('max_leaves', 2, 1024, step=2),\n",
    "        'subsample':trial.suggest_float('subsample', 0.1, 1.0,step=0.1),\n",
    "        'colsample_bytree' :trial.suggest_float('colsample_bytree', 0.1, 1.0,step=0.1),\n",
    "        'gamma' :trial.suggest_int('gamma',1, 10),\n",
    "        'reg_alpha' :trial.suggest_int('reg_alpha', 1, 10),\n",
    "        'reg_lambda' :trial.suggest_int('reg_lambda', 1, 10),\n",
    "        'booster' : trial.suggest_categorical('booster', ['gbtree']),\n",
    "        'objective' : trial.suggest_categorical('objective', ['binary:logistic'])\n",
    "        }\n",
    "        \n",
    "    clf = XGBClassifier(**params,random_state = 0)\n",
    "    clf.fit(X_train, y_train)\n",
    "    clf_proba = clf.predict_proba(X_val)[:, 1]\n",
    "        \n",
    "    AUC_SCORE = roc_auc_score(y_val, clf_proba)\n",
    "    return AUC_SCORE\n",
    "\n",
    "direction = \"maximize\"\n",
    "sampler = optuna.samplers.TPESampler(seed=10)\n",
    "study =  optuna.create_study(direction=direction, sampler=sampler, pruner=optuna.pruners.HyperbandPruner())\n",
    "early_stopping = EarlyStoppingCallback(10, direction=direction)\n",
    "study.optimize(objective, callbacks=[early_stopping], n_trials=200) "
   ]
  },
  {
   "cell_type": "code",
   "execution_count": null,
   "id": "0cfd7422",
   "metadata": {},
   "outputs": [],
   "source": [
    "print(study.best_trial.params)\n",
    "optuna_auc = study.best_trial.value\n",
    "print(optuna_auc)"
   ]
  },
  {
   "cell_type": "code",
   "execution_count": null,
   "id": "f02ca35a",
   "metadata": {},
   "outputs": [],
   "source": [
    "xgb_optuna_25 = XGBClassifier(**study.best_trial.params, random_state = 0)\n",
    "xgb_optuna_25.fit(X_train, y_train)"
   ]
  },
  {
   "cell_type": "code",
   "execution_count": null,
   "id": "1b30c1c4",
   "metadata": {},
   "outputs": [],
   "source": [
    "xgb_optuna_proba_25 = xgb_optuna_25.predict_proba(X_test)[:, 1]\n",
    "auc_25 = roc_auc_score(y_test, xgb_optuna_proba_25)\n",
    "print(decimal.Decimal(auc_25).quantize(decimal.Decimal('1.000')))"
   ]
  },
  {
   "cell_type": "code",
   "execution_count": null,
   "id": "3d79cb7f",
   "metadata": {},
   "outputs": [],
   "source": [
    "X_train = X_train.values\n",
    "y_train = y_train.values"
   ]
  },
  {
   "cell_type": "code",
   "execution_count": null,
   "id": "4dd6caab",
   "metadata": {},
   "outputs": [],
   "source": [
    "auc_bootstrap = []"
   ]
  },
  {
   "cell_type": "code",
   "execution_count": null,
   "id": "461fff85",
   "metadata": {},
   "outputs": [],
   "source": [
    "rs = RandomState(seed = 25)\n",
    "bootstrap_auc(xgb_optuna_25, X_train, y_train, X_test, y_test, nsamples=1000)"
   ]
  },
  {
   "cell_type": "code",
   "execution_count": null,
   "id": "d1df3ff1",
   "metadata": {},
   "outputs": [],
   "source": [
    "shapiro(auc_bootstrap), np.mean(auc_bootstrap)"
   ]
  },
  {
   "cell_type": "code",
   "execution_count": null,
   "id": "aad10b40",
   "metadata": {},
   "outputs": [],
   "source": [
    "t_25 = auc_bootstrap\n",
    "print(t_25)"
   ]
  },
  {
   "cell_type": "code",
   "execution_count": null,
   "id": "7be5f2fd",
   "metadata": {},
   "outputs": [],
   "source": [
    "del X_train, X_test, y_train, y_test, X_val, y_val,study, optuna_auc"
   ]
  },
  {
   "cell_type": "code",
   "execution_count": 79,
   "id": "32fa8757",
   "metadata": {},
   "outputs": [],
   "source": [
    "# 26\n",
    "column_to_drop_25 = 'Cat_현재 교육환경'"
   ]
  },
  {
   "cell_type": "code",
   "execution_count": 80,
   "id": "9826b093",
   "metadata": {},
   "outputs": [
    {
     "name": "stdout",
     "output_type": "stream",
     "text": [
      "(8444, 133)\n"
     ]
    }
   ],
   "source": [
    "if not column_to_drop_25.startswith('Cat_'):\n",
    "    comp_26 = comp_25.drop(column_to_drop_25, axis=1)\n",
    "    X_26 = comp_26.drop('target', axis=1)\n",
    "    y_26 = comp_26['target']\n",
    "else:\n",
    "    comp_26 = comp_25.drop(comp_25.filter(regex='^' + column_to_drop_25).columns, axis=1)\n",
    "    X_26 = comp_26.drop('target', axis=1)\n",
    "    y_26 = comp_26['target']\n",
    "\n",
    "print(X_26.shape)"
   ]
  },
  {
   "cell_type": "code",
   "execution_count": null,
   "id": "63f972e5",
   "metadata": {},
   "outputs": [],
   "source": [
    "X_train, X_test, y_train, y_test = train_test_split(X_26, y_26, test_size=0.2, shuffle=True, stratify=y_26, random_state = 0)\n",
    "X_train, X_val, y_train, y_val = train_test_split(X_train, y_train, test_size=0.2, shuffle=True, stratify=y_train, random_state = 0)"
   ]
  },
  {
   "cell_type": "code",
   "execution_count": null,
   "id": "a3c3946e",
   "metadata": {},
   "outputs": [],
   "source": [
    "def objective(trial):\n",
    "    params = {\n",
    "        'n_estimators' :trial.suggest_int('n_estimators', 50, 200),\n",
    "        'learning_rate' :trial.suggest_float('learning_rate',0.01, 0.1,step=0.01),\n",
    "        'max_depth' :trial.suggest_int('max_depth', 1, 10),\n",
    "        'max_leaves': trial.suggest_int('max_leaves', 2, 1024, step=2),\n",
    "        'subsample':trial.suggest_float('subsample', 0.1, 1.0,step=0.1),\n",
    "        'colsample_bytree' :trial.suggest_float('colsample_bytree', 0.1, 1.0,step=0.1),\n",
    "        'gamma' :trial.suggest_int('gamma',1, 10),\n",
    "        'reg_alpha' :trial.suggest_int('reg_alpha', 1, 10),\n",
    "        'reg_lambda' :trial.suggest_int('reg_lambda', 1, 10),\n",
    "        'booster' : trial.suggest_categorical('booster', ['gbtree']),\n",
    "        'objective' : trial.suggest_categorical('objective', ['binary:logistic'])\n",
    "        }\n",
    "        \n",
    "    clf = XGBClassifier(**params,random_state = 0)\n",
    "    clf.fit(X_train, y_train)\n",
    "    clf_proba = clf.predict_proba(X_val)[:, 1]\n",
    "        \n",
    "    AUC_SCORE = roc_auc_score(y_val, clf_proba)\n",
    "    return AUC_SCORE\n",
    "\n",
    "direction = \"maximize\"\n",
    "sampler = optuna.samplers.TPESampler(seed=10)\n",
    "study =  optuna.create_study(direction=direction, sampler=sampler, pruner=optuna.pruners.HyperbandPruner())\n",
    "early_stopping = EarlyStoppingCallback(10, direction=direction)\n",
    "study.optimize(objective, callbacks=[early_stopping], n_trials=200) "
   ]
  },
  {
   "cell_type": "code",
   "execution_count": null,
   "id": "d6114755",
   "metadata": {},
   "outputs": [],
   "source": [
    "print(study.best_trial.params)\n",
    "optuna_auc = study.best_trial.value\n",
    "print(optuna_auc)"
   ]
  },
  {
   "cell_type": "code",
   "execution_count": null,
   "id": "60c84130",
   "metadata": {},
   "outputs": [],
   "source": [
    "xgb_optuna_26 = XGBClassifier(**study.best_trial.params, random_state = 0)\n",
    "xgb_optuna_26.fit(X_train, y_train)"
   ]
  },
  {
   "cell_type": "code",
   "execution_count": null,
   "id": "10238a00",
   "metadata": {},
   "outputs": [],
   "source": [
    "xgb_optuna_proba_26 = xgb_optuna_26.predict_proba(X_test)[:, 1]\n",
    "auc_26 = roc_auc_score(y_test, xgb_optuna_proba_26)\n",
    "print(decimal.Decimal(auc_26).quantize(decimal.Decimal('1.000')))"
   ]
  },
  {
   "cell_type": "code",
   "execution_count": null,
   "id": "08764441",
   "metadata": {},
   "outputs": [],
   "source": [
    "X_train = X_train.values\n",
    "y_train = y_train.values"
   ]
  },
  {
   "cell_type": "code",
   "execution_count": null,
   "id": "be56a6bb",
   "metadata": {},
   "outputs": [],
   "source": [
    "auc_bootstrap = []"
   ]
  },
  {
   "cell_type": "code",
   "execution_count": null,
   "id": "6f9ce4a8",
   "metadata": {},
   "outputs": [],
   "source": [
    "rs = RandomState(seed = 26)\n",
    "bootstrap_auc(xgb_optuna_26, X_train, y_train, X_test, y_test, nsamples=1000)"
   ]
  },
  {
   "cell_type": "code",
   "execution_count": null,
   "id": "9ea3177e",
   "metadata": {},
   "outputs": [],
   "source": [
    "shapiro(auc_bootstrap), np.mean(auc_bootstrap)"
   ]
  },
  {
   "cell_type": "code",
   "execution_count": null,
   "id": "d0575648",
   "metadata": {},
   "outputs": [],
   "source": [
    "t_26 = auc_bootstrap\n",
    "print(t_26)"
   ]
  },
  {
   "cell_type": "code",
   "execution_count": null,
   "id": "f1189b46",
   "metadata": {},
   "outputs": [],
   "source": [
    "del X_train, X_test, y_train, y_test, X_val, y_val,study, optuna_auc"
   ]
  },
  {
   "cell_type": "code",
   "execution_count": 81,
   "id": "d96a1070",
   "metadata": {},
   "outputs": [],
   "source": [
    "# 27\n",
    "column_to_drop_26 = '현재 주택 거주 기간(총 개월)'"
   ]
  },
  {
   "cell_type": "code",
   "execution_count": 82,
   "id": "a9cbda16",
   "metadata": {},
   "outputs": [
    {
     "name": "stdout",
     "output_type": "stream",
     "text": [
      "(8444, 132)\n"
     ]
    }
   ],
   "source": [
    "if not column_to_drop_26.startswith('Cat_'):\n",
    "    comp_27 = comp_26.drop(column_to_drop_26, axis=1)\n",
    "    X_27 = comp_27.drop('target', axis=1)\n",
    "    y_27 = comp_27['target']\n",
    "else:\n",
    "    comp_27 = comp_26.drop(comp_26.filter(regex='^' + column_to_drop_26).columns, axis=1)\n",
    "    X_27 = comp_27.drop('target', axis=1)\n",
    "    y_27 = comp_27['target']\n",
    "\n",
    "print(X_27.shape)"
   ]
  },
  {
   "cell_type": "code",
   "execution_count": null,
   "id": "6b565e3d",
   "metadata": {},
   "outputs": [],
   "source": [
    "X_train, X_test, y_train, y_test = train_test_split(X_27, y_27, test_size=0.2, shuffle=True, stratify=y_27, random_state = 0)\n",
    "X_train, X_val, y_train, y_val = train_test_split(X_train, y_train, test_size=0.2, shuffle=True, stratify=y_train, random_state = 0)"
   ]
  },
  {
   "cell_type": "code",
   "execution_count": null,
   "id": "ac9c5e93",
   "metadata": {},
   "outputs": [],
   "source": [
    "def objective(trial):\n",
    "    params = {\n",
    "        'n_estimators' :trial.suggest_int('n_estimators', 50, 200),\n",
    "        'learning_rate' :trial.suggest_float('learning_rate',0.01, 0.1,step=0.01),\n",
    "        'max_depth' :trial.suggest_int('max_depth', 1, 10),\n",
    "        'max_leaves': trial.suggest_int('max_leaves', 2, 1024, step=2),\n",
    "        'subsample':trial.suggest_float('subsample', 0.1, 1.0,step=0.1),\n",
    "        'colsample_bytree' :trial.suggest_float('colsample_bytree', 0.1, 1.0,step=0.1),\n",
    "        'gamma' :trial.suggest_int('gamma',1, 10),\n",
    "        'reg_alpha' :trial.suggest_int('reg_alpha', 1, 10),\n",
    "        'reg_lambda' :trial.suggest_int('reg_lambda', 1, 10),\n",
    "        'booster' : trial.suggest_categorical('booster', ['gbtree']),\n",
    "        'objective' : trial.suggest_categorical('objective', ['binary:logistic'])\n",
    "        }\n",
    "        \n",
    "    clf = XGBClassifier(**params,random_state = 0)\n",
    "    clf.fit(X_train, y_train)\n",
    "    clf_proba = clf.predict_proba(X_val)[:, 1]\n",
    "        \n",
    "    AUC_SCORE = roc_auc_score(y_val, clf_proba)\n",
    "    return AUC_SCORE\n",
    "\n",
    "direction = \"maximize\"\n",
    "sampler = optuna.samplers.TPESampler(seed=10)\n",
    "study =  optuna.create_study(direction=direction, sampler=sampler, pruner=optuna.pruners.HyperbandPruner())\n",
    "early_stopping = EarlyStoppingCallback(10, direction=direction)\n",
    "study.optimize(objective, callbacks=[early_stopping], n_trials=200) "
   ]
  },
  {
   "cell_type": "code",
   "execution_count": null,
   "id": "867edc68",
   "metadata": {},
   "outputs": [],
   "source": [
    "print(study.best_trial.params)\n",
    "optuna_auc = study.best_trial.value\n",
    "print(optuna_auc)"
   ]
  },
  {
   "cell_type": "code",
   "execution_count": null,
   "id": "1acd6168",
   "metadata": {},
   "outputs": [],
   "source": [
    "xgb_optuna_27 = XGBClassifier(**study.best_trial.params, random_state = 0)\n",
    "xgb_optuna_27.fit(X_train, y_train)"
   ]
  },
  {
   "cell_type": "code",
   "execution_count": null,
   "id": "0f416ede",
   "metadata": {},
   "outputs": [],
   "source": [
    "xgb_optuna_proba_27 = xgb_optuna_27.predict_proba(X_test)[:, 1]\n",
    "auc_27 = roc_auc_score(y_test, xgb_optuna_proba_27)\n",
    "print(decimal.Decimal(auc_27).quantize(decimal.Decimal('1.000')))"
   ]
  },
  {
   "cell_type": "code",
   "execution_count": null,
   "id": "247bb889",
   "metadata": {},
   "outputs": [],
   "source": [
    "X_train = X_train.values\n",
    "y_train = y_train.values"
   ]
  },
  {
   "cell_type": "code",
   "execution_count": null,
   "id": "9d720ab3",
   "metadata": {},
   "outputs": [],
   "source": [
    "auc_bootstrap = []"
   ]
  },
  {
   "cell_type": "code",
   "execution_count": null,
   "id": "eb758201",
   "metadata": {},
   "outputs": [],
   "source": [
    "rs = RandomState(seed = 27)\n",
    "bootstrap_auc(xgb_optuna_27, X_train, y_train, X_test, y_test, nsamples=1000)"
   ]
  },
  {
   "cell_type": "code",
   "execution_count": null,
   "id": "9f16e55a",
   "metadata": {},
   "outputs": [],
   "source": [
    "shapiro(auc_bootstrap), np.mean(auc_bootstrap)"
   ]
  },
  {
   "cell_type": "code",
   "execution_count": null,
   "id": "5e347713",
   "metadata": {},
   "outputs": [],
   "source": [
    "t_27 = auc_bootstrap\n",
    "print(t_27)"
   ]
  },
  {
   "cell_type": "code",
   "execution_count": null,
   "id": "636cfbe7",
   "metadata": {},
   "outputs": [],
   "source": [
    "del X_train, X_test, y_train, y_test, X_val, y_val,study, optuna_auc"
   ]
  },
  {
   "cell_type": "code",
   "execution_count": 83,
   "id": "d788defb",
   "metadata": {},
   "outputs": [],
   "source": [
    "# 28\n",
    "column_to_drop_27  = 'Cat_현재 주택의 유형'"
   ]
  },
  {
   "cell_type": "code",
   "execution_count": 84,
   "id": "03aaf0e5",
   "metadata": {},
   "outputs": [
    {
     "name": "stdout",
     "output_type": "stream",
     "text": [
      "(8444, 121)\n"
     ]
    }
   ],
   "source": [
    "if not column_to_drop_27.startswith('Cat_'):\n",
    "    comp_28 = comp_27.drop(column_to_drop_27, axis=1)\n",
    "    X_28 = comp_28.drop('target', axis=1)\n",
    "    y_28 = comp_28['target']\n",
    "else:\n",
    "    comp_28 = comp_27.drop(comp_27.filter(regex='^' + column_to_drop_27).columns, axis=1)\n",
    "    X_28 = comp_28.drop('target', axis=1)\n",
    "    y_28 = comp_28['target']\n",
    "\n",
    "print(X_28.shape)"
   ]
  },
  {
   "cell_type": "code",
   "execution_count": null,
   "id": "4f681171",
   "metadata": {},
   "outputs": [],
   "source": [
    "X_train, X_test, y_train, y_test = train_test_split(X_28, y_28, test_size=0.2, shuffle=True, stratify=y_28, random_state = 0)\n",
    "X_train, X_val, y_train, y_val = train_test_split(X_train, y_train, test_size=0.2, shuffle=True, stratify=y_train, random_state = 0)"
   ]
  },
  {
   "cell_type": "code",
   "execution_count": null,
   "id": "25e3f3a7",
   "metadata": {},
   "outputs": [],
   "source": [
    "def objective(trial):\n",
    "    params = {\n",
    "        'n_estimators' :trial.suggest_int('n_estimators', 50, 200),\n",
    "        'learning_rate' :trial.suggest_float('learning_rate',0.01, 0.1,step=0.01),\n",
    "        'max_depth' :trial.suggest_int('max_depth', 1, 10),\n",
    "        'max_leaves': trial.suggest_int('max_leaves', 2, 1024, step=2),\n",
    "        'subsample':trial.suggest_float('subsample', 0.1, 1.0,step=0.1),\n",
    "        'colsample_bytree' :trial.suggest_float('colsample_bytree', 0.1, 1.0,step=0.1),\n",
    "        'gamma' :trial.suggest_int('gamma',1, 10),\n",
    "        'reg_alpha' :trial.suggest_int('reg_alpha', 1, 10),\n",
    "        'reg_lambda' :trial.suggest_int('reg_lambda', 1, 10),\n",
    "        'booster' : trial.suggest_categorical('booster', ['gbtree']),\n",
    "        'objective' : trial.suggest_categorical('objective', ['binary:logistic'])\n",
    "        }\n",
    "        \n",
    "    clf = XGBClassifier(**params,random_state = 0)\n",
    "    clf.fit(X_train, y_train)\n",
    "    clf_proba = clf.predict_proba(X_val)[:, 1]\n",
    "        \n",
    "    AUC_SCORE = roc_auc_score(y_val, clf_proba)\n",
    "    return AUC_SCORE\n",
    "\n",
    "direction = \"maximize\"\n",
    "sampler = optuna.samplers.TPESampler(seed=10)\n",
    "study =  optuna.create_study(direction=direction, sampler=sampler, pruner=optuna.pruners.HyperbandPruner())\n",
    "early_stopping = EarlyStoppingCallback(10, direction=direction)\n",
    "study.optimize(objective, callbacks=[early_stopping], n_trials=200)  "
   ]
  },
  {
   "cell_type": "code",
   "execution_count": null,
   "id": "1be52000",
   "metadata": {},
   "outputs": [],
   "source": [
    "print(study.best_trial.params)\n",
    "optuna_auc = study.best_trial.value\n",
    "print(optuna_auc)"
   ]
  },
  {
   "cell_type": "code",
   "execution_count": null,
   "id": "1b9f314d",
   "metadata": {},
   "outputs": [],
   "source": [
    "xgb_optuna_28 = XGBClassifier(**study.best_trial.params, random_state = 0)\n",
    "xgb_optuna_28.fit(X_train, y_train)"
   ]
  },
  {
   "cell_type": "code",
   "execution_count": null,
   "id": "94588b1b",
   "metadata": {},
   "outputs": [],
   "source": [
    "xgb_optuna_proba_28 = xgb_optuna_28.predict_proba(X_test)[:, 1]\n",
    "auc_28 = roc_auc_score(y_test, xgb_optuna_proba_28)\n",
    "print(decimal.Decimal(auc_28).quantize(decimal.Decimal('1.000')))"
   ]
  },
  {
   "cell_type": "code",
   "execution_count": null,
   "id": "667e375b",
   "metadata": {},
   "outputs": [],
   "source": [
    "X_train = X_train.values\n",
    "y_train = y_train.values"
   ]
  },
  {
   "cell_type": "code",
   "execution_count": null,
   "id": "4e5f5308",
   "metadata": {},
   "outputs": [],
   "source": [
    "auc_bootstrap = []"
   ]
  },
  {
   "cell_type": "code",
   "execution_count": null,
   "id": "e33e0b9a",
   "metadata": {},
   "outputs": [],
   "source": [
    "rs = RandomState(seed = 28)\n",
    "bootstrap_auc(xgb_optuna_28, X_train, y_train, X_test, y_test, nsamples=1000)"
   ]
  },
  {
   "cell_type": "code",
   "execution_count": null,
   "id": "c1e982a5",
   "metadata": {},
   "outputs": [],
   "source": [
    "shapiro(auc_bootstrap), np.mean(auc_bootstrap)"
   ]
  },
  {
   "cell_type": "code",
   "execution_count": null,
   "id": "5ded90cc",
   "metadata": {},
   "outputs": [],
   "source": [
    "t_28 = auc_bootstrap\n",
    "print(t_28)"
   ]
  },
  {
   "cell_type": "code",
   "execution_count": null,
   "id": "3df5e53b",
   "metadata": {},
   "outputs": [],
   "source": [
    "del X_train, X_test, y_train, y_test, X_val, y_val,study, optuna_auc"
   ]
  },
  {
   "cell_type": "code",
   "execution_count": 85,
   "id": "17a87a9c",
   "metadata": {},
   "outputs": [],
   "source": [
    "# 29\n",
    "column_to_drop_28 = 'Cat_현재 대중교통 접근용이성'"
   ]
  },
  {
   "cell_type": "code",
   "execution_count": 86,
   "id": "3b602c4b",
   "metadata": {},
   "outputs": [
    {
     "name": "stdout",
     "output_type": "stream",
     "text": [
      "(8444, 117)\n"
     ]
    }
   ],
   "source": [
    "if not column_to_drop_28.startswith('Cat_'):\n",
    "    comp_29 = comp_28.drop(column_to_drop_28, axis=1)\n",
    "    X_29 = comp_29.drop('target', axis=1)\n",
    "    y_29 = comp_29['target']\n",
    "else:\n",
    "    comp_29 = comp_28.drop(comp_28.filter(regex='^' + column_to_drop_28).columns, axis=1)\n",
    "    X_29 = comp_29.drop('target', axis=1)\n",
    "    y_29 = comp_29['target']\n",
    "\n",
    "print(X_29.shape)"
   ]
  },
  {
   "cell_type": "code",
   "execution_count": null,
   "id": "f4e035aa",
   "metadata": {},
   "outputs": [],
   "source": [
    "X_train, X_test, y_train, y_test = train_test_split(X_29, y_29, test_size=0.2, shuffle=True, stratify=y_29, random_state = 0)\n",
    "X_train, X_val, y_train, y_val = train_test_split(X_train, y_train, test_size=0.2, shuffle=True, stratify=y_train, random_state = 0)"
   ]
  },
  {
   "cell_type": "code",
   "execution_count": null,
   "id": "86d285dd",
   "metadata": {},
   "outputs": [],
   "source": [
    "def objective(trial):\n",
    "    params = {\n",
    "        'n_estimators' :trial.suggest_int('n_estimators', 50, 200),\n",
    "        'learning_rate' :trial.suggest_float('learning_rate',0.01, 0.1,step=0.01),\n",
    "        'max_depth' :trial.suggest_int('max_depth', 1, 10),\n",
    "        'max_leaves': trial.suggest_int('max_leaves', 2, 1024, step=2),\n",
    "        'subsample':trial.suggest_float('subsample', 0.1, 1.0,step=0.1),\n",
    "        'colsample_bytree' :trial.suggest_float('colsample_bytree', 0.1, 1.0,step=0.1),\n",
    "        'gamma' :trial.suggest_int('gamma',1, 10),\n",
    "        'reg_alpha' :trial.suggest_int('reg_alpha', 1, 10),\n",
    "        'reg_lambda' :trial.suggest_int('reg_lambda', 1, 10),\n",
    "        'booster' : trial.suggest_categorical('booster', ['gbtree']),\n",
    "        'objective' : trial.suggest_categorical('objective', ['binary:logistic'])\n",
    "        }\n",
    "        \n",
    "    clf = XGBClassifier(**params,random_state = 0)\n",
    "    clf.fit(X_train, y_train)\n",
    "    clf_proba = clf.predict_proba(X_val)[:, 1]\n",
    "        \n",
    "    AUC_SCORE = roc_auc_score(y_val, clf_proba)\n",
    "    return AUC_SCORE\n",
    "\n",
    "direction = \"maximize\"\n",
    "sampler = optuna.samplers.TPESampler(seed=10)\n",
    "study =  optuna.create_study(direction=direction, sampler=sampler, pruner=optuna.pruners.HyperbandPruner())\n",
    "early_stopping = EarlyStoppingCallback(10, direction=direction)\n",
    "study.optimize(objective, callbacks=[early_stopping], n_trials=200) "
   ]
  },
  {
   "cell_type": "code",
   "execution_count": null,
   "id": "28355be7",
   "metadata": {},
   "outputs": [],
   "source": [
    "print(study.best_trial.params)\n",
    "optuna_auc = study.best_trial.value\n",
    "print(optuna_auc)"
   ]
  },
  {
   "cell_type": "code",
   "execution_count": null,
   "id": "04618391",
   "metadata": {},
   "outputs": [],
   "source": [
    "xgb_optuna_29 = XGBClassifier(**study.best_trial.params, random_state = 0)\n",
    "xgb_optuna_29.fit(X_train, y_train)"
   ]
  },
  {
   "cell_type": "code",
   "execution_count": null,
   "id": "9bf42bef",
   "metadata": {},
   "outputs": [],
   "source": [
    "xgb_optuna_proba_29 = xgb_optuna_29.predict_proba(X_test)[:, 1]\n",
    "auc_29 = roc_auc_score(y_test, xgb_optuna_proba_29)\n",
    "print(decimal.Decimal(auc_29).quantize(decimal.Decimal('1.000')))"
   ]
  },
  {
   "cell_type": "code",
   "execution_count": null,
   "id": "de9cc710",
   "metadata": {},
   "outputs": [],
   "source": [
    "X_train = X_train.values\n",
    "y_train = y_train.values"
   ]
  },
  {
   "cell_type": "code",
   "execution_count": null,
   "id": "f7acbc10",
   "metadata": {},
   "outputs": [],
   "source": [
    "auc_bootstrap = []"
   ]
  },
  {
   "cell_type": "code",
   "execution_count": null,
   "id": "8f31b81f",
   "metadata": {},
   "outputs": [],
   "source": [
    "rs = RandomState(seed = 29)\n",
    "bootstrap_auc(xgb_optuna_29, X_train, y_train, X_test, y_test, nsamples=1000)"
   ]
  },
  {
   "cell_type": "code",
   "execution_count": null,
   "id": "e9d88b1e",
   "metadata": {},
   "outputs": [],
   "source": [
    "shapiro(auc_bootstrap), np.mean(auc_bootstrap)"
   ]
  },
  {
   "cell_type": "code",
   "execution_count": null,
   "id": "a700a3c9",
   "metadata": {},
   "outputs": [],
   "source": [
    "t_29 = auc_bootstrap\n",
    "print(t_29)"
   ]
  },
  {
   "cell_type": "code",
   "execution_count": null,
   "id": "0dc0497f",
   "metadata": {},
   "outputs": [],
   "source": [
    "del X_train, X_test, y_train, y_test, X_val, y_val,study, optuna_auc"
   ]
  },
  {
   "cell_type": "code",
   "execution_count": 87,
   "id": "86e4eacf",
   "metadata": {},
   "outputs": [],
   "source": [
    "column_to_drop_29 = 'Cat_이사 계획 중인 주택의 점유형태'"
   ]
  },
  {
   "cell_type": "code",
   "execution_count": 88,
   "id": "9e93ad66",
   "metadata": {},
   "outputs": [
    {
     "name": "stdout",
     "output_type": "stream",
     "text": [
      "(8444, 93)\n"
     ]
    }
   ],
   "source": [
    "if not column_to_drop_29.startswith('Cat_'):\n",
    "    comp_30 = comp_29.drop(column_to_drop_29, axis=1)\n",
    "    X_30 = comp_30.drop('target', axis=1)\n",
    "    y_30 = comp_30['target']\n",
    "else:\n",
    "    comp_30 = comp_29.drop(comp_29.filter(regex='^' + column_to_drop_29).columns, axis=1)\n",
    "    X_30 = comp_30.drop('target', axis=1)\n",
    "    y_30 = comp_30['target']\n",
    "\n",
    "print(X_30.shape)"
   ]
  },
  {
   "cell_type": "code",
   "execution_count": 89,
   "id": "db01e413",
   "metadata": {},
   "outputs": [
    {
     "data": {
      "text/plain": [
       "['현재 무주택 기간(총 개월)',\n",
       " '현재 주택의 면적(㎡)',\n",
       " '총 이사 횟수',\n",
       " '가구주 나이',\n",
       " '총 가구원 수',\n",
       " '소득 대비 주택 임대료의 비율',\n",
       " '소득 중 정부 보조금의 비중(월평균)',\n",
       " '소득 중 사적이전소득의 비중(월평균)',\n",
       " '소득 대비 생활비의 비율',\n",
       " '소득 대비 주거관리비의 비율',\n",
       " '자산 중 금융자산의 비중',\n",
       " '자산 중 기타자산의 비중',\n",
       " '부채 중 금융기관 대출금의 비중',\n",
       " '중기부채부담지표',\n",
       " '장기부채부담지표',\n",
       " 'Cat_현재 거주 지역_강원도',\n",
       " 'Cat_현재 거주 지역_경기도',\n",
       " 'Cat_현재 거주 지역_경상남도',\n",
       " 'Cat_현재 거주 지역_경상북도',\n",
       " 'Cat_현재 거주 지역_광주광역시',\n",
       " 'Cat_현재 거주 지역_대구광역시',\n",
       " 'Cat_현재 거주 지역_대전광역시',\n",
       " 'Cat_현재 거주 지역_부산광역시',\n",
       " 'Cat_현재 거주 지역_서울특별시',\n",
       " 'Cat_현재 거주 지역_세종특별자치시',\n",
       " 'Cat_현재 거주 지역_울산광역시',\n",
       " 'Cat_현재 거주 지역_인천광역시',\n",
       " 'Cat_현재 거주 지역_전라남도',\n",
       " 'Cat_현재 거주 지역_전라북도',\n",
       " 'Cat_현재 거주 지역_제주특별자치도',\n",
       " 'Cat_현재 거주 지역_충청남도',\n",
       " 'Cat_현재 거주 지역_충청북도',\n",
       " 'Cat_현재 주택의 점유형태_무상',\n",
       " 'Cat_현재 주택의 점유형태_보증금 없는 월세(사글세, 연세, 일세 포함)',\n",
       " 'Cat_현재 주택의 점유형태_보증금 있는 월세',\n",
       " 'Cat_현재 주택의 점유형태_전세',\n",
       " 'Cat_현재 문화시설 접근용이성_대체로 만족',\n",
       " 'Cat_현재 문화시설 접근용이성_매우 만족',\n",
       " 'Cat_현재 문화시설 접근용이성_매우 불만족',\n",
       " 'Cat_현재 문화시설 접근용이성_약간 불만족',\n",
       " 'Cat_현재 자동차 경적/집주변의 소음 정도_대체로 만족',\n",
       " 'Cat_현재 자동차 경적/집주변의 소음 정도_매우 만족',\n",
       " 'Cat_현재 자동차 경적/집주변의 소음 정도_매우 불만족',\n",
       " 'Cat_현재 자동차 경적/집주변의 소음 정도_약간 불만족',\n",
       " 'Cat_현재 주택에 대한 전반적인 만족도_대체로 만족',\n",
       " 'Cat_현재 주택에 대한 전반적인 만족도_매우 만족',\n",
       " 'Cat_현재 주택에 대한 전반적인 만족도_매우 불만족',\n",
       " 'Cat_현재 주택에 대한 전반적인 만족도_약간 불만족',\n",
       " 'Cat_이사 계획 중인 거주 지역_국내 to 국외',\n",
       " 'Cat_이사 계획 중인 거주 지역_비수도권 to 비수도권',\n",
       " 'Cat_이사 계획 중인 거주 지역_비수도권 to 수도권',\n",
       " 'Cat_이사 계획 중인 거주 지역_비수도권 to 이사 계획 없음 및 모름',\n",
       " 'Cat_이사 계획 중인 거주 지역_수도권 to 비수도권',\n",
       " 'Cat_이사 계획 중인 거주 지역_수도권 to 수도권',\n",
       " 'Cat_이사 계획 중인 거주 지역_수도권 to 이사 계획 없음 및 모름',\n",
       " 'Cat_이사 계획 중인 주택의 유형_공동주택 to 공동주택',\n",
       " 'Cat_이사 계획 중인 주택의 유형_공동주택 to 기타',\n",
       " 'Cat_이사 계획 중인 주택의 유형_공동주택 to 단독주택',\n",
       " 'Cat_이사 계획 중인 주택의 유형_공동주택 to 이사 계획 없음 및 모름',\n",
       " 'Cat_이사 계획 중인 주택의 유형_공동주택 to 준주택',\n",
       " 'Cat_이사 계획 중인 주택의 유형_기타 to 공동주택',\n",
       " 'Cat_이사 계획 중인 주택의 유형_기타 to 단독주택',\n",
       " 'Cat_이사 계획 중인 주택의 유형_기타 to 이사 계획 없음 및 모름',\n",
       " 'Cat_이사 계획 중인 주택의 유형_기타 to 준주택',\n",
       " 'Cat_이사 계획 중인 주택의 유형_단독주택 to 공동주택',\n",
       " 'Cat_이사 계획 중인 주택의 유형_단독주택 to 기타',\n",
       " 'Cat_이사 계획 중인 주택의 유형_단독주택 to 단독주택',\n",
       " 'Cat_이사 계획 중인 주택의 유형_단독주택 to 이사 계획 없음 및 모름',\n",
       " 'Cat_이사 계획 중인 주택의 유형_단독주택 to 준주택',\n",
       " 'Cat_이사 계획 중인 주택의 유형_준주택 to 공동주택',\n",
       " 'Cat_이사 계획 중인 주택의 유형_준주택 to 기타',\n",
       " 'Cat_이사 계획 중인 주택의 유형_준주택 to 단독주택',\n",
       " 'Cat_이사 계획 중인 주택의 유형_준주택 to 이사 계획 없음 및 모름',\n",
       " 'Cat_이사 계획 중인 주택의 유형_준주택 to 준주택',\n",
       " 'Cat_주택 보유 의식_아니오',\n",
       " 'Cat_주택 보유 의식_예',\n",
       " 'Cat_현재 가장 필요한 주거지원 1순위_공공분양주택공급',\n",
       " 'Cat_현재 가장 필요한 주거지원 1순위_없음',\n",
       " 'Cat_현재 가장 필요한 주거지원 1순위_월세보조금 지원',\n",
       " 'Cat_현재 가장 필요한 주거지원 1순위_임대 후 분양전환 공공임대주택 공급',\n",
       " 'Cat_현재 가장 필요한 주거지원 1순위_장기공공임대주택 공급',\n",
       " 'Cat_현재 가장 필요한 주거지원 1순위_전세자금 대출 지원',\n",
       " 'Cat_현재 가장 필요한 주거지원 1순위_주거상담과 정보제공 등',\n",
       " 'Cat_현재 가장 필요한 주거지원 1순위_주택 구입자금 대출 지원',\n",
       " 'Cat_현재 가장 필요한 주거지원 1순위_주택개량 및 개보수 지원',\n",
       " 'Cat_가구주 최종 학력_고등학교 졸업',\n",
       " 'Cat_가구주 최종 학력_대학 졸업 이상',\n",
       " 'Cat_가구주 최종 학력_중학교 졸업 이하',\n",
       " 'Cat_가구주 종사상 지위_무급가족종사자',\n",
       " 'Cat_가구주 종사상 지위_무직 및 기타',\n",
       " 'Cat_가구주 종사상 지위_사업자 및 자영자',\n",
       " 'Cat_가구주 종사상 지위_상용근로자',\n",
       " 'Cat_가구주 종사상 지위_임시일용근로자']"
      ]
     },
     "execution_count": 89,
     "metadata": {},
     "output_type": "execute_result"
    }
   ],
   "source": [
    "alll = list(X_30)\n",
    "alll"
   ]
  },
  {
   "cell_type": "code",
   "execution_count": null,
   "id": "d89d358d",
   "metadata": {},
   "outputs": [],
   "source": [
    "X_train, X_test, y_train, y_test = train_test_split(X_30, y_30, test_size=0.2, shuffle=True, stratify=y_30, random_state = 0)\n",
    "X_train, X_val, y_train, y_val = train_test_split(X_train, y_train, test_size=0.2, shuffle=True, stratify=y_train, random_state = 0)"
   ]
  },
  {
   "cell_type": "code",
   "execution_count": null,
   "id": "209318a2",
   "metadata": {},
   "outputs": [],
   "source": [
    "def objective(trial):\n",
    "    params = {\n",
    "        'n_estimators' :trial.suggest_int('n_estimators', 50, 200),\n",
    "        'learning_rate' :trial.suggest_float('learning_rate',0.01, 0.1,step=0.01),\n",
    "        'max_depth' :trial.suggest_int('max_depth', 1, 10),\n",
    "        'max_leaves': trial.suggest_int('max_leaves', 2, 1024, step=2),\n",
    "        'subsample':trial.suggest_float('subsample', 0.1, 1.0,step=0.1),\n",
    "        'colsample_bytree' :trial.suggest_float('colsample_bytree', 0.1, 1.0,step=0.1),\n",
    "        'gamma' :trial.suggest_int('gamma',1, 10),\n",
    "        'reg_alpha' :trial.suggest_int('reg_alpha', 1, 10),\n",
    "        'reg_lambda' :trial.suggest_int('reg_lambda', 1, 10),\n",
    "        'booster' : trial.suggest_categorical('booster', ['gbtree']),\n",
    "        'objective' : trial.suggest_categorical('objective', ['binary:logistic'])\n",
    "        }\n",
    "        \n",
    "    clf = XGBClassifier(**params,random_state = 0)\n",
    "    clf.fit(X_train, y_train)\n",
    "    clf_proba = clf.predict_proba(X_val)[:, 1]\n",
    "        \n",
    "    AUC_SCORE = roc_auc_score(y_val, clf_proba)\n",
    "    return AUC_SCORE\n",
    "\n",
    "direction = \"maximize\"\n",
    "sampler = optuna.samplers.TPESampler(seed=10)\n",
    "study =  optuna.create_study(direction=direction, sampler=sampler, pruner=optuna.pruners.HyperbandPruner())\n",
    "early_stopping = EarlyStoppingCallback(10, direction=direction)\n",
    "study.optimize(objective, callbacks=[early_stopping], n_trials=200) "
   ]
  },
  {
   "cell_type": "code",
   "execution_count": null,
   "id": "b82a5445",
   "metadata": {},
   "outputs": [],
   "source": [
    "print(study.best_trial.params)\n",
    "optuna_auc = study.best_trial.value\n",
    "print(optuna_auc)"
   ]
  },
  {
   "cell_type": "code",
   "execution_count": null,
   "id": "ef644ce4",
   "metadata": {},
   "outputs": [],
   "source": [
    "xgb_optuna_30 = XGBClassifier(**study.best_trial.params, random_state = 0)\n",
    "xgb_optuna_30.fit(X_train, y_train)"
   ]
  },
  {
   "cell_type": "code",
   "execution_count": null,
   "id": "42946b79",
   "metadata": {},
   "outputs": [],
   "source": [
    "xgb_optuna_proba_30 = xgb_optuna_30.predict_proba(X_test)[:, 1]\n",
    "auc_30 = roc_auc_score(y_test, xgb_optuna_proba_30)\n",
    "print(decimal.Decimal(auc_30).quantize(decimal.Decimal('1.000')))"
   ]
  },
  {
   "cell_type": "code",
   "execution_count": null,
   "id": "66470e6a",
   "metadata": {},
   "outputs": [],
   "source": [
    "X_train = X_train.values\n",
    "y_train = y_train.values"
   ]
  },
  {
   "cell_type": "code",
   "execution_count": null,
   "id": "553ae4ae",
   "metadata": {},
   "outputs": [],
   "source": [
    "auc_bootstrap = []"
   ]
  },
  {
   "cell_type": "code",
   "execution_count": null,
   "id": "127c16d2",
   "metadata": {},
   "outputs": [],
   "source": [
    "rs = RandomState(seed = 30)\n",
    "bootstrap_auc(xgb_optuna_30, X_train, y_train, X_test, y_test, nsamples=1000)"
   ]
  },
  {
   "cell_type": "code",
   "execution_count": null,
   "id": "b29a243b",
   "metadata": {},
   "outputs": [],
   "source": [
    "shapiro(auc_bootstrap), np.mean(auc_bootstrap)"
   ]
  },
  {
   "cell_type": "code",
   "execution_count": null,
   "id": "9ef57044",
   "metadata": {},
   "outputs": [],
   "source": [
    "t_30 = auc_bootstrap\n",
    "print(t_30)"
   ]
  },
  {
   "cell_type": "code",
   "execution_count": null,
   "id": "1f351939",
   "metadata": {},
   "outputs": [],
   "source": [
    "del X_train, X_test, y_train, y_test, X_val, y_val,study, optuna_auc"
   ]
  },
  {
   "cell_type": "code",
   "execution_count": null,
   "id": "e145bc83",
   "metadata": {},
   "outputs": [],
   "source": [
    "# 31\n",
    "column_to_drop_30 = '소득 중 정부 보조금의 비중(월평균)'"
   ]
  },
  {
   "cell_type": "code",
   "execution_count": null,
   "id": "2ef957df",
   "metadata": {},
   "outputs": [],
   "source": [
    "if not column_to_drop_30.startswith('Cat_'):\n",
    "    comp_31 = comp_30.drop(column_to_drop_30, axis=1)\n",
    "    X_31 = comp_31.drop('target', axis=1)\n",
    "    y_31 = comp_31['target']\n",
    "else:\n",
    "    comp_31 = comp_30.drop(comp_30.filter(regex='^' + column_to_drop_30).columns, axis=1)\n",
    "    X_31 = comp_31.drop('target', axis=1)\n",
    "    y_31 = comp_31['target']\n",
    "\n",
    "print(X_31.shape)"
   ]
  },
  {
   "cell_type": "code",
   "execution_count": null,
   "id": "6e33a48f",
   "metadata": {},
   "outputs": [],
   "source": [
    "X_train, X_test, y_train, y_test = train_test_split(X_31, y_31, test_size=0.2, shuffle=True, stratify=y_31, random_state = 0)\n",
    "X_train, X_val, y_train, y_val = train_test_split(X_train, y_train, test_size=0.2, shuffle=True, stratify=y_train, random_state = 0)"
   ]
  },
  {
   "cell_type": "code",
   "execution_count": null,
   "id": "10bca9d2",
   "metadata": {},
   "outputs": [],
   "source": [
    "def objective(trial):\n",
    "    params = {\n",
    "        'n_estimators' :trial.suggest_int('n_estimators', 50, 200),\n",
    "        'learning_rate' :trial.suggest_float('learning_rate',0.01, 0.1,step=0.01),\n",
    "        'max_depth' :trial.suggest_int('max_depth', 1, 10),\n",
    "        'max_leaves': trial.suggest_int('max_leaves', 2, 1024, step=2),\n",
    "        'subsample':trial.suggest_float('subsample', 0.1, 1.0,step=0.1),\n",
    "        'colsample_bytree' :trial.suggest_float('colsample_bytree', 0.1, 1.0,step=0.1),\n",
    "        'gamma' :trial.suggest_int('gamma',1, 10),\n",
    "        'reg_alpha' :trial.suggest_int('reg_alpha', 1, 10),\n",
    "        'reg_lambda' :trial.suggest_int('reg_lambda', 1, 10),\n",
    "        'booster' : trial.suggest_categorical('booster', ['gbtree']),\n",
    "        'objective' : trial.suggest_categorical('objective', ['binary:logistic'])\n",
    "        }\n",
    "        \n",
    "    clf = XGBClassifier(**params,random_state = 0)\n",
    "    clf.fit(X_train, y_train)\n",
    "    clf_proba = clf.predict_proba(X_val)[:, 1]\n",
    "        \n",
    "    AUC_SCORE = roc_auc_score(y_val, clf_proba)\n",
    "    return AUC_SCORE\n",
    "\n",
    "direction = \"maximize\"\n",
    "sampler = optuna.samplers.TPESampler(seed=10)\n",
    "study =  optuna.create_study(direction=direction, sampler=sampler, pruner=optuna.pruners.HyperbandPruner())\n",
    "early_stopping = EarlyStoppingCallback(10, direction=direction)\n",
    "study.optimize(objective, callbacks=[early_stopping], n_trials=200) "
   ]
  },
  {
   "cell_type": "code",
   "execution_count": null,
   "id": "6ca17020",
   "metadata": {},
   "outputs": [],
   "source": [
    "print(study.best_trial.params)\n",
    "optuna_auc = study.best_trial.value\n",
    "print(optuna_auc)"
   ]
  },
  {
   "cell_type": "code",
   "execution_count": null,
   "id": "163b0cbd",
   "metadata": {},
   "outputs": [],
   "source": [
    "xgb_optuna_31= XGBClassifier(**study.best_trial.params, random_state = 0)\n",
    "xgb_optuna_31.fit(X_train, y_train)"
   ]
  },
  {
   "cell_type": "code",
   "execution_count": null,
   "id": "44b1a6e0",
   "metadata": {},
   "outputs": [],
   "source": [
    "xgb_optuna_proba_31 = xgb_optuna_31.predict_proba(X_test)[:, 1]\n",
    "auc_31 = roc_auc_score(y_test, xgb_optuna_proba_31)\n",
    "print(decimal.Decimal(auc_31).quantize(decimal.Decimal('1.000')))"
   ]
  },
  {
   "cell_type": "code",
   "execution_count": null,
   "id": "ea60388e",
   "metadata": {},
   "outputs": [],
   "source": [
    "X_train = X_train.values\n",
    "y_train = y_train.values"
   ]
  },
  {
   "cell_type": "code",
   "execution_count": null,
   "id": "cd777fa2",
   "metadata": {},
   "outputs": [],
   "source": [
    "auc_bootstrap = []"
   ]
  },
  {
   "cell_type": "code",
   "execution_count": null,
   "id": "dddaf47a",
   "metadata": {},
   "outputs": [],
   "source": [
    "rs = RandomState(seed = 31)\n",
    "bootstrap_auc(xgb_optuna_31, X_train, y_train, X_test, y_test, nsamples=1000)"
   ]
  },
  {
   "cell_type": "code",
   "execution_count": null,
   "id": "1b2e008b",
   "metadata": {},
   "outputs": [],
   "source": [
    "shapiro(auc_bootstrap), np.mean(auc_bootstrap)"
   ]
  },
  {
   "cell_type": "code",
   "execution_count": null,
   "id": "0056186e",
   "metadata": {},
   "outputs": [],
   "source": [
    "t_31 = auc_bootstrap\n",
    "print(t_31)"
   ]
  },
  {
   "cell_type": "code",
   "execution_count": null,
   "id": "66a33b47",
   "metadata": {},
   "outputs": [],
   "source": [
    "del X_train, X_test, y_train, y_test, X_val, y_val,study, optuna_auc"
   ]
  },
  {
   "cell_type": "code",
   "execution_count": null,
   "id": "8271869d",
   "metadata": {},
   "outputs": [],
   "source": [
    "# 32\n",
    "column_to_drop_31 = 'Cat_현재 자동차 경적/집주변의 소음 정도'"
   ]
  },
  {
   "cell_type": "code",
   "execution_count": null,
   "id": "653c3977",
   "metadata": {},
   "outputs": [],
   "source": [
    "if not column_to_drop_31.startswith('Cat_'):\n",
    "    comp_32 = comp_31.drop(column_to_drop_31, axis=1)\n",
    "    X_32 = comp_32.drop('target', axis=1)\n",
    "    y_32 = comp_32['target']\n",
    "else:\n",
    "    comp_32 = comp_31.drop(comp_31.filter(regex='^' + column_to_drop_31).columns, axis=1)\n",
    "    X_32 = comp_32.drop('target', axis=1)\n",
    "    y_32 = comp_32['target']\n",
    "\n",
    "print(X_32.shape)"
   ]
  },
  {
   "cell_type": "code",
   "execution_count": null,
   "id": "be791fcd",
   "metadata": {},
   "outputs": [],
   "source": [
    "X_train, X_test, y_train, y_test = train_test_split(X_32, y_32, test_size=0.2, shuffle=True, stratify=y_32, random_state = 0)\n",
    "X_train, X_val, y_train, y_val = train_test_split(X_train, y_train, test_size=0.2, shuffle=True, stratify=y_train, random_state = 0)"
   ]
  },
  {
   "cell_type": "code",
   "execution_count": null,
   "id": "10089a1b",
   "metadata": {},
   "outputs": [],
   "source": [
    "def objective(trial):\n",
    "    params = {\n",
    "        'n_estimators' :trial.suggest_int('n_estimators', 50, 200),\n",
    "        'learning_rate' :trial.suggest_float('learning_rate',0.01, 0.1,step=0.01),\n",
    "        'max_depth' :trial.suggest_int('max_depth', 1, 10),\n",
    "        'max_leaves': trial.suggest_int('max_leaves', 2, 1024, step=2),\n",
    "        'subsample':trial.suggest_float('subsample', 0.1, 1.0,step=0.1),\n",
    "        'colsample_bytree' :trial.suggest_float('colsample_bytree', 0.1, 1.0,step=0.1),\n",
    "        'gamma' :trial.suggest_int('gamma',1, 10),\n",
    "        'reg_alpha' :trial.suggest_int('reg_alpha', 1, 10),\n",
    "        'reg_lambda' :trial.suggest_int('reg_lambda', 1, 10),\n",
    "        'booster' : trial.suggest_categorical('booster', ['gbtree']),\n",
    "        'objective' : trial.suggest_categorical('objective', ['binary:logistic'])\n",
    "        }\n",
    "        \n",
    "    clf = XGBClassifier(**params,random_state = 0)\n",
    "    clf.fit(X_train, y_train)\n",
    "    clf_proba = clf.predict_proba(X_val)[:, 1]\n",
    "        \n",
    "    AUC_SCORE = roc_auc_score(y_val, clf_proba)\n",
    "    return AUC_SCORE\n",
    "\n",
    "direction = \"maximize\"\n",
    "sampler = optuna.samplers.TPESampler(seed=10)\n",
    "study =  optuna.create_study(direction=direction, sampler=sampler, pruner=optuna.pruners.HyperbandPruner())\n",
    "early_stopping = EarlyStoppingCallback(10, direction=direction)\n",
    "study.optimize(objective, callbacks=[early_stopping], n_trials=200) "
   ]
  },
  {
   "cell_type": "code",
   "execution_count": null,
   "id": "80d993ec",
   "metadata": {},
   "outputs": [],
   "source": [
    "print(study.best_trial.params)\n",
    "optuna_auc = study.best_trial.value\n",
    "print(optuna_auc)"
   ]
  },
  {
   "cell_type": "code",
   "execution_count": null,
   "id": "c1884d76",
   "metadata": {},
   "outputs": [],
   "source": [
    "xgb_optuna_32 = XGBClassifier(**study.best_trial.params, random_state = 0)\n",
    "xgb_optuna_32.fit(X_train, y_train)"
   ]
  },
  {
   "cell_type": "code",
   "execution_count": null,
   "id": "108540d1",
   "metadata": {},
   "outputs": [],
   "source": [
    "xgb_optuna_proba_32 = xgb_optuna_32.predict_proba(X_test)[:, 1]\n",
    "auc_32 = roc_auc_score(y_test, xgb_optuna_proba_32)\n",
    "print(decimal.Decimal(auc_32).quantize(decimal.Decimal('1.000')))"
   ]
  },
  {
   "cell_type": "code",
   "execution_count": null,
   "id": "b45e64ab",
   "metadata": {},
   "outputs": [],
   "source": [
    "X_train = X_train.values\n",
    "y_train = y_train.values"
   ]
  },
  {
   "cell_type": "code",
   "execution_count": null,
   "id": "cce6f208",
   "metadata": {},
   "outputs": [],
   "source": [
    "auc_bootstrap = []"
   ]
  },
  {
   "cell_type": "code",
   "execution_count": null,
   "id": "ff2d9bc0",
   "metadata": {},
   "outputs": [],
   "source": [
    "rs = RandomState(seed = 32)\n",
    "bootstrap_auc(xgb_optuna_32, X_train, y_train, X_test, y_test, nsamples=1000)"
   ]
  },
  {
   "cell_type": "code",
   "execution_count": null,
   "id": "629ca141",
   "metadata": {},
   "outputs": [],
   "source": [
    "shapiro(auc_bootstrap), np.mean(auc_bootstrap)"
   ]
  },
  {
   "cell_type": "code",
   "execution_count": null,
   "id": "d016fb39",
   "metadata": {},
   "outputs": [],
   "source": [
    "t_32 = auc_bootstrap\n",
    "print(t_32)"
   ]
  },
  {
   "cell_type": "code",
   "execution_count": null,
   "id": "ce82b7d5",
   "metadata": {},
   "outputs": [],
   "source": [
    "del X_train, X_test, y_train, y_test, X_val, y_val,study, optuna_auc"
   ]
  },
  {
   "cell_type": "code",
   "execution_count": null,
   "id": "4d024c80",
   "metadata": {},
   "outputs": [],
   "source": [
    "# 33.\n",
    "column_to_drop_32 = 'Cat_가구주 최종 학력'"
   ]
  },
  {
   "cell_type": "code",
   "execution_count": null,
   "id": "ec850d22",
   "metadata": {},
   "outputs": [],
   "source": [
    "if not column_to_drop_32.startswith('Cat_'):\n",
    "    comp_33 = comp_32.drop(column_to_drop_32, axis=1)\n",
    "    X_33 = comp_33.drop('target', axis=1)\n",
    "    y_33 = comp_33['target']\n",
    "else:\n",
    "    comp_33 = comp_32.drop(comp_32.filter(regex='^' + column_to_drop_32).columns, axis=1)\n",
    "    X_33 = comp_33.drop('target', axis=1)\n",
    "    y_33 = comp_33['target']\n",
    "\n",
    "print(X_33.shape)"
   ]
  },
  {
   "cell_type": "code",
   "execution_count": null,
   "id": "f6ad056e",
   "metadata": {},
   "outputs": [],
   "source": [
    "X_train, X_test, y_train, y_test = train_test_split(X_33, y_33, test_size=0.2, shuffle=True, stratify=y_33, random_state = 0)\n",
    "X_train, X_val, y_train, y_val = train_test_split(X_train, y_train, test_size=0.2, shuffle=True, stratify=y_train, random_state = 0)"
   ]
  },
  {
   "cell_type": "code",
   "execution_count": null,
   "id": "b2b8b634",
   "metadata": {},
   "outputs": [],
   "source": [
    "def objective(trial):\n",
    "    params = {\n",
    "        'n_estimators' :trial.suggest_int('n_estimators', 50, 200),\n",
    "        'learning_rate' :trial.suggest_float('learning_rate',0.01, 0.1,step=0.01),\n",
    "        'max_depth' :trial.suggest_int('max_depth', 1, 10),\n",
    "        'max_leaves': trial.suggest_int('max_leaves', 2, 1024, step=2),\n",
    "        'subsample':trial.suggest_float('subsample', 0.1, 1.0,step=0.1),\n",
    "        'colsample_bytree' :trial.suggest_float('colsample_bytree', 0.1, 1.0,step=0.1),\n",
    "        'gamma' :trial.suggest_int('gamma',1, 10),\n",
    "        'reg_alpha' :trial.suggest_int('reg_alpha', 1, 10),\n",
    "        'reg_lambda' :trial.suggest_int('reg_lambda', 1, 10),\n",
    "        'booster' : trial.suggest_categorical('booster', ['gbtree']),\n",
    "        'objective' : trial.suggest_categorical('objective', ['binary:logistic'])\n",
    "        }\n",
    "        \n",
    "    clf = XGBClassifier(**params,random_state = 0)\n",
    "    clf.fit(X_train, y_train)\n",
    "    clf_proba = clf.predict_proba(X_val)[:, 1]\n",
    "        \n",
    "    AUC_SCORE = roc_auc_score(y_val, clf_proba)\n",
    "    return AUC_SCORE\n",
    "\n",
    "direction = \"maximize\"\n",
    "sampler = optuna.samplers.TPESampler(seed=10)\n",
    "study =  optuna.create_study(direction=direction, sampler=sampler, pruner=optuna.pruners.HyperbandPruner())\n",
    "early_stopping = EarlyStoppingCallback(10, direction=direction)\n",
    "study.optimize(objective, callbacks=[early_stopping], n_trials=200) "
   ]
  },
  {
   "cell_type": "code",
   "execution_count": null,
   "id": "23536988",
   "metadata": {},
   "outputs": [],
   "source": [
    "print(study.best_trial.params)\n",
    "optuna_auc = study.best_trial.value\n",
    "print(optuna_auc)"
   ]
  },
  {
   "cell_type": "code",
   "execution_count": null,
   "id": "73394eb4",
   "metadata": {},
   "outputs": [],
   "source": [
    "xgb_optuna_33 = XGBClassifier(**study.best_trial.params, random_state = 0)\n",
    "xgb_optuna_33.fit(X_train, y_train)"
   ]
  },
  {
   "cell_type": "code",
   "execution_count": null,
   "id": "57ed6d60",
   "metadata": {},
   "outputs": [],
   "source": [
    "xgb_optuna_proba_33 = xgb_optuna_33.predict_proba(X_test)[:, 1]\n",
    "auc_33 = roc_auc_score(y_test, xgb_optuna_proba_33)\n",
    "print(decimal.Decimal(auc_33).quantize(decimal.Decimal('1.000')))"
   ]
  },
  {
   "cell_type": "code",
   "execution_count": null,
   "id": "d66d1359",
   "metadata": {},
   "outputs": [],
   "source": [
    "X_train = X_train.values\n",
    "y_train = y_train.values"
   ]
  },
  {
   "cell_type": "code",
   "execution_count": null,
   "id": "a897ad47",
   "metadata": {},
   "outputs": [],
   "source": [
    "auc_bootstrap = []"
   ]
  },
  {
   "cell_type": "code",
   "execution_count": null,
   "id": "ae730e48",
   "metadata": {},
   "outputs": [],
   "source": [
    "rs = RandomState(seed = 33)\n",
    "bootstrap_auc(xgb_optuna_33, X_train, y_train, X_test, y_test, nsamples=1000)"
   ]
  },
  {
   "cell_type": "code",
   "execution_count": null,
   "id": "97c30682",
   "metadata": {},
   "outputs": [],
   "source": [
    "shapiro(auc_bootstrap), np.mean(auc_bootstrap)"
   ]
  },
  {
   "cell_type": "code",
   "execution_count": null,
   "id": "a0e7e3af",
   "metadata": {},
   "outputs": [],
   "source": [
    "t_33 = auc_bootstrap\n",
    "print(t_33)"
   ]
  },
  {
   "cell_type": "code",
   "execution_count": null,
   "id": "f4839d18",
   "metadata": {},
   "outputs": [],
   "source": [
    "del X_train, X_test, y_train, y_test, X_val, y_val,study, optuna_auc"
   ]
  },
  {
   "cell_type": "code",
   "execution_count": null,
   "id": "475520df",
   "metadata": {},
   "outputs": [],
   "source": [
    "# 34\n",
    "column_to_drop_33 = 'Cat_이사 계획 중인 주택의 유형'"
   ]
  },
  {
   "cell_type": "code",
   "execution_count": null,
   "id": "8e74c2e2",
   "metadata": {},
   "outputs": [],
   "source": [
    "if not column_to_drop_33.startswith('Cat_'):\n",
    "    comp_34 = comp_33.drop(column_to_drop_33, axis=1)\n",
    "    X_34 = comp_34.drop('target', axis=1)\n",
    "    y_34 = comp_34['target']\n",
    "else:\n",
    "    comp_34 = comp_33.drop(comp_33.filter(regex='^' + column_to_drop_33).columns, axis=1)\n",
    "    X_34 = comp_34.drop('target', axis=1)\n",
    "    y_34 = comp_34['target']\n",
    "\n",
    "print(X_34.shape)"
   ]
  },
  {
   "cell_type": "code",
   "execution_count": null,
   "id": "017d7337",
   "metadata": {},
   "outputs": [],
   "source": [
    "X_train, X_test, y_train, y_test = train_test_split(X_34, y_34, test_size=0.2, shuffle=True, stratify=y_34, random_state = 0)\n",
    "X_train, X_val, y_train, y_val = train_test_split(X_train, y_train, test_size=0.2, shuffle=True, stratify=y_train, random_state = 0)"
   ]
  },
  {
   "cell_type": "code",
   "execution_count": null,
   "id": "45cb7303",
   "metadata": {},
   "outputs": [],
   "source": [
    "def objective(trial):\n",
    "    params = {\n",
    "        'n_estimators' :trial.suggest_int('n_estimators', 50, 200),\n",
    "        'learning_rate' :trial.suggest_float('learning_rate',0.01, 0.1,step=0.01),\n",
    "        'max_depth' :trial.suggest_int('max_depth', 1, 10),\n",
    "        'max_leaves': trial.suggest_int('max_leaves', 2, 1024, step=2),\n",
    "        'subsample':trial.suggest_float('subsample', 0.1, 1.0,step=0.1),\n",
    "        'colsample_bytree' :trial.suggest_float('colsample_bytree', 0.1, 1.0,step=0.1),\n",
    "        'gamma' :trial.suggest_int('gamma',1, 10),\n",
    "        'reg_alpha' :trial.suggest_int('reg_alpha', 1, 10),\n",
    "        'reg_lambda' :trial.suggest_int('reg_lambda', 1, 10),\n",
    "        'booster' : trial.suggest_categorical('booster', ['gbtree']),\n",
    "        'objective' : trial.suggest_categorical('objective', ['binary:logistic'])\n",
    "        }\n",
    "        \n",
    "    clf = XGBClassifier(**params,random_state = 0)\n",
    "    clf.fit(X_train, y_train)\n",
    "    clf_proba = clf.predict_proba(X_val)[:, 1]\n",
    "        \n",
    "    AUC_SCORE = roc_auc_score(y_val, clf_proba)\n",
    "    return AUC_SCORE\n",
    "\n",
    "direction = \"maximize\"\n",
    "sampler = optuna.samplers.TPESampler(seed=10)\n",
    "study =  optuna.create_study(direction=direction, sampler=sampler, pruner=optuna.pruners.HyperbandPruner())\n",
    "early_stopping = EarlyStoppingCallback(10, direction=direction)\n",
    "study.optimize(objective, callbacks=[early_stopping], n_trials=200) "
   ]
  },
  {
   "cell_type": "code",
   "execution_count": null,
   "id": "0d57d273",
   "metadata": {},
   "outputs": [],
   "source": [
    "print(study.best_trial.params)\n",
    "optuna_auc = study.best_trial.value\n",
    "print(optuna_auc)"
   ]
  },
  {
   "cell_type": "code",
   "execution_count": null,
   "id": "a8f8add7",
   "metadata": {},
   "outputs": [],
   "source": [
    "xgb_optuna_34 = XGBClassifier(**study.best_trial.params, random_state = 0)\n",
    "xgb_optuna_34.fit(X_train, y_train)"
   ]
  },
  {
   "cell_type": "code",
   "execution_count": null,
   "id": "1fca9903",
   "metadata": {},
   "outputs": [],
   "source": [
    "xgb_optuna_proba_34 = xgb_optuna_34.predict_proba(X_test)[:, 1]\n",
    "auc_34 = roc_auc_score(y_test, xgb_optuna_proba_34)\n",
    "print(decimal.Decimal(auc_34).quantize(decimal.Decimal('1.000')))"
   ]
  },
  {
   "cell_type": "code",
   "execution_count": null,
   "id": "86a412ac",
   "metadata": {},
   "outputs": [],
   "source": [
    "X_train = X_train.values\n",
    "y_train = y_train.values"
   ]
  },
  {
   "cell_type": "code",
   "execution_count": null,
   "id": "7e95c81e",
   "metadata": {},
   "outputs": [],
   "source": [
    "auc_bootstrap = []"
   ]
  },
  {
   "cell_type": "code",
   "execution_count": null,
   "id": "f1781b06",
   "metadata": {},
   "outputs": [],
   "source": [
    "rs = RandomState(seed = 34)\n",
    "bootstrap_auc(xgb_optuna_34, X_train, y_train, X_test, y_test, nsamples=1000)"
   ]
  },
  {
   "cell_type": "code",
   "execution_count": null,
   "id": "cec4c94b",
   "metadata": {},
   "outputs": [],
   "source": [
    "shapiro(auc_bootstrap), np.mean(auc_bootstrap)"
   ]
  },
  {
   "cell_type": "code",
   "execution_count": null,
   "id": "7b521031",
   "metadata": {},
   "outputs": [],
   "source": [
    "t_34 = auc_bootstrap\n",
    "print(t_34)"
   ]
  },
  {
   "cell_type": "code",
   "execution_count": null,
   "id": "6143b399",
   "metadata": {},
   "outputs": [],
   "source": [
    "del X_train, X_test, y_train, y_test, X_val, y_val,study, optuna_auc"
   ]
  },
  {
   "cell_type": "code",
   "execution_count": null,
   "id": "713ea457",
   "metadata": {},
   "outputs": [],
   "source": [
    "# 35\n",
    "column_to_drop_34 = 'Cat_현재 문화시설 접근용이성'"
   ]
  },
  {
   "cell_type": "code",
   "execution_count": null,
   "id": "1ae46123",
   "metadata": {},
   "outputs": [],
   "source": [
    "if not column_to_drop_34.startswith('Cat_'):\n",
    "    comp_35 = comp_34.drop(column_to_drop_34, axis=1)\n",
    "    X_35 = comp_35.drop('target', axis=1)\n",
    "    y_35 = comp_35['target']\n",
    "else:\n",
    "    comp_35 = comp_34.drop(comp_34.filter(regex='^' + column_to_drop_34).columns, axis=1)\n",
    "    X_35 = comp_35.drop('target', axis=1)\n",
    "    y_35 = comp_35['target']\n",
    "\n",
    "print(X_35.shape)"
   ]
  },
  {
   "cell_type": "code",
   "execution_count": null,
   "id": "ce7fd510",
   "metadata": {},
   "outputs": [],
   "source": [
    "X_train, X_test, y_train, y_test = train_test_split(X_35, y_35, test_size=0.2, shuffle=True, stratify=y_35, random_state = 0)\n",
    "X_train, X_val, y_train, y_val = train_test_split(X_train, y_train, test_size=0.2, shuffle=True, stratify=y_train, random_state = 0)"
   ]
  },
  {
   "cell_type": "code",
   "execution_count": null,
   "id": "bcec2e36",
   "metadata": {},
   "outputs": [],
   "source": [
    "def objective(trial):\n",
    "    params = {\n",
    "        'n_estimators' :trial.suggest_int('n_estimators', 50, 200),\n",
    "        'learning_rate' :trial.suggest_float('learning_rate',0.01, 0.1,step=0.01),\n",
    "        'max_depth' :trial.suggest_int('max_depth', 1, 10),\n",
    "        'max_leaves': trial.suggest_int('max_leaves', 2, 1024, step=2),\n",
    "        'subsample':trial.suggest_float('subsample', 0.1, 1.0,step=0.1),\n",
    "        'colsample_bytree' :trial.suggest_float('colsample_bytree', 0.1, 1.0,step=0.1),\n",
    "        'gamma' :trial.suggest_int('gamma',1, 10),\n",
    "        'reg_alpha' :trial.suggest_int('reg_alpha', 1, 10),\n",
    "        'reg_lambda' :trial.suggest_int('reg_lambda', 1, 10),\n",
    "        'booster' : trial.suggest_categorical('booster', ['gbtree']),\n",
    "        'objective' : trial.suggest_categorical('objective', ['binary:logistic'])\n",
    "        }\n",
    "        \n",
    "    clf = XGBClassifier(**params,random_state = 0)\n",
    "    clf.fit(X_train, y_train)\n",
    "    clf_proba = clf.predict_proba(X_val)[:, 1]\n",
    "        \n",
    "    AUC_SCORE = roc_auc_score(y_val, clf_proba)\n",
    "    return AUC_SCORE\n",
    "\n",
    "direction = \"maximize\"\n",
    "sampler = optuna.samplers.TPESampler(seed=10)\n",
    "study =  optuna.create_study(direction=direction, sampler=sampler, pruner=optuna.pruners.HyperbandPruner())\n",
    "early_stopping = EarlyStoppingCallback(10, direction=direction)\n",
    "study.optimize(objective, callbacks=[early_stopping], n_trials=200) "
   ]
  },
  {
   "cell_type": "code",
   "execution_count": null,
   "id": "3f4dd776",
   "metadata": {},
   "outputs": [],
   "source": [
    "print(study.best_trial.params)\n",
    "optuna_auc = study.best_trial.value\n",
    "print(optuna_auc)"
   ]
  },
  {
   "cell_type": "code",
   "execution_count": null,
   "id": "f8003eea",
   "metadata": {},
   "outputs": [],
   "source": [
    "xgb_optuna_35 = XGBClassifier(**study.best_trial.params, random_state = 0)\n",
    "xgb_optuna_35.fit(X_train, y_train)"
   ]
  },
  {
   "cell_type": "code",
   "execution_count": null,
   "id": "7e82dae6",
   "metadata": {},
   "outputs": [],
   "source": [
    "xgb_optuna_proba_35 = xgb_optuna_35.predict_proba(X_test)[:, 1]\n",
    "auc_35 = roc_auc_score(y_test, xgb_optuna_proba_35)\n",
    "print(decimal.Decimal(auc_35).quantize(decimal.Decimal('1.000')))"
   ]
  },
  {
   "cell_type": "code",
   "execution_count": null,
   "id": "4d3cb80e",
   "metadata": {},
   "outputs": [],
   "source": [
    "X_train = X_train.values\n",
    "y_train = y_train.values"
   ]
  },
  {
   "cell_type": "code",
   "execution_count": null,
   "id": "71fa2b72",
   "metadata": {},
   "outputs": [],
   "source": [
    "auc_bootstrap = []"
   ]
  },
  {
   "cell_type": "code",
   "execution_count": null,
   "id": "0acfcefe",
   "metadata": {},
   "outputs": [],
   "source": [
    "rs = RandomState(seed = 35)\n",
    "bootstrap_auc(xgb_optuna_35, X_train, y_train, X_test, y_test, nsamples=1000)"
   ]
  },
  {
   "cell_type": "code",
   "execution_count": null,
   "id": "463b343f",
   "metadata": {},
   "outputs": [],
   "source": [
    "shapiro(auc_bootstrap), np.mean(auc_bootstrap)"
   ]
  },
  {
   "cell_type": "code",
   "execution_count": null,
   "id": "0ac5d1b6",
   "metadata": {},
   "outputs": [],
   "source": [
    "t_35 = auc_bootstrap\n",
    "print(t_35)"
   ]
  },
  {
   "cell_type": "code",
   "execution_count": null,
   "id": "b72dc7e2",
   "metadata": {},
   "outputs": [],
   "source": [
    "del X_train, X_test, y_train, y_test, X_val, y_val,study, optuna_auc"
   ]
  },
  {
   "cell_type": "code",
   "execution_count": null,
   "id": "6d9dc639",
   "metadata": {},
   "outputs": [],
   "source": [
    "# 36\n",
    "column_to_drop_35 = '부채 중 금융기관 대출금의 비중'"
   ]
  },
  {
   "cell_type": "code",
   "execution_count": null,
   "id": "eb305d56",
   "metadata": {},
   "outputs": [],
   "source": [
    "if not column_to_drop_35.startswith('Cat_'):\n",
    "    comp_36 = comp_35.drop(column_to_drop_35, axis=1)\n",
    "    X_36 = comp_36.drop('target', axis=1)\n",
    "    y_36 = comp_36['target']\n",
    "else:\n",
    "    comp_36 = comp_35.drop(comp_35.filter(regex='^' + column_to_drop_35).columns, axis=1)\n",
    "    X_36 = comp_36.drop('target', axis=1)\n",
    "    y_36 = comp_36['target']\n",
    "\n",
    "print(X_36.shape)"
   ]
  },
  {
   "cell_type": "code",
   "execution_count": null,
   "id": "568aef92",
   "metadata": {},
   "outputs": [],
   "source": [
    "X_train, X_test, y_train, y_test = train_test_split(X_36, y_36, test_size=0.2, shuffle=True, stratify=y_36, random_state = 0)\n",
    "X_train, X_val, y_train, y_val = train_test_split(X_train, y_train, test_size=0.2, shuffle=True, stratify=y_train, random_state = 0)"
   ]
  },
  {
   "cell_type": "code",
   "execution_count": null,
   "id": "d9d96328",
   "metadata": {},
   "outputs": [],
   "source": [
    "def objective(trial):\n",
    "    params = {\n",
    "        'n_estimators' :trial.suggest_int('n_estimators', 50, 200),\n",
    "        'learning_rate' :trial.suggest_float('learning_rate',0.01, 0.1,step=0.01),\n",
    "        'max_depth' :trial.suggest_int('max_depth', 1, 10),\n",
    "        'max_leaves': trial.suggest_int('max_leaves', 2, 1024, step=2),\n",
    "        'subsample':trial.suggest_float('subsample', 0.1, 1.0,step=0.1),\n",
    "        'colsample_bytree' :trial.suggest_float('colsample_bytree', 0.1, 1.0,step=0.1),\n",
    "        'gamma' :trial.suggest_int('gamma',1, 10),\n",
    "        'reg_alpha' :trial.suggest_int('reg_alpha', 1, 10),\n",
    "        'reg_lambda' :trial.suggest_int('reg_lambda', 1, 10),\n",
    "        'booster' : trial.suggest_categorical('booster', ['gbtree']),\n",
    "        'objective' : trial.suggest_categorical('objective', ['binary:logistic'])\n",
    "        }\n",
    "        \n",
    "    clf = XGBClassifier(**params,random_state = 0)\n",
    "    clf.fit(X_train, y_train)\n",
    "    clf_proba = clf.predict_proba(X_val)[:, 1]\n",
    "        \n",
    "    AUC_SCORE = roc_auc_score(y_val, clf_proba)\n",
    "    return AUC_SCORE\n",
    "\n",
    "direction = \"maximize\"\n",
    "sampler = optuna.samplers.TPESampler(seed=10)\n",
    "study =  optuna.create_study(direction=direction, sampler=sampler, pruner=optuna.pruners.HyperbandPruner())\n",
    "early_stopping = EarlyStoppingCallback(10, direction=direction)\n",
    "study.optimize(objective, callbacks=[early_stopping], n_trials=200) "
   ]
  },
  {
   "cell_type": "code",
   "execution_count": null,
   "id": "b0abce38",
   "metadata": {},
   "outputs": [],
   "source": [
    "print(study.best_trial.params)\n",
    "optuna_auc = study.best_trial.value\n",
    "print(optuna_auc)"
   ]
  },
  {
   "cell_type": "code",
   "execution_count": null,
   "id": "86fe50ac",
   "metadata": {},
   "outputs": [],
   "source": [
    "xgb_optuna_36 = XGBClassifier(**study.best_trial.params, random_state = 0)\n",
    "xgb_optuna_36.fit(X_train, y_train)"
   ]
  },
  {
   "cell_type": "code",
   "execution_count": null,
   "id": "fcae2d80",
   "metadata": {},
   "outputs": [],
   "source": [
    "xgb_optuna_proba_36 = xgb_optuna_36.predict_proba(X_test)[:, 1]\n",
    "auc_36 = roc_auc_score(y_test, xgb_optuna_proba_36)\n",
    "print(decimal.Decimal(auc_36).quantize(decimal.Decimal('1.000')))"
   ]
  },
  {
   "cell_type": "code",
   "execution_count": null,
   "id": "b2fe93e8",
   "metadata": {},
   "outputs": [],
   "source": [
    "X_train = X_train.values\n",
    "y_train = y_train.values"
   ]
  },
  {
   "cell_type": "code",
   "execution_count": null,
   "id": "0a1df77e",
   "metadata": {},
   "outputs": [],
   "source": [
    "auc_bootstrap = []"
   ]
  },
  {
   "cell_type": "code",
   "execution_count": null,
   "id": "cf8abd77",
   "metadata": {},
   "outputs": [],
   "source": [
    "rs = RandomState(seed = 36)\n",
    "bootstrap_auc(xgb_optuna_36, X_train, y_train, X_test, y_test, nsamples=1000)"
   ]
  },
  {
   "cell_type": "code",
   "execution_count": null,
   "id": "f8a6fa6d",
   "metadata": {},
   "outputs": [],
   "source": [
    "shapiro(auc_bootstrap), np.mean(auc_bootstrap)"
   ]
  },
  {
   "cell_type": "code",
   "execution_count": null,
   "id": "92fe8fbe",
   "metadata": {},
   "outputs": [],
   "source": [
    "t_36 = auc_bootstrap\n",
    "print(t_36)"
   ]
  },
  {
   "cell_type": "code",
   "execution_count": null,
   "id": "c74541fc",
   "metadata": {},
   "outputs": [],
   "source": [
    "del X_train, X_test, y_train, y_test, X_val, y_val,study, optuna_auc"
   ]
  },
  {
   "cell_type": "code",
   "execution_count": null,
   "id": "7dbd3586",
   "metadata": {},
   "outputs": [],
   "source": [
    "# 37\n",
    "column_to_drop_36 = '자산 중 기타자산의 비중'"
   ]
  },
  {
   "cell_type": "code",
   "execution_count": null,
   "id": "72b00a68",
   "metadata": {},
   "outputs": [],
   "source": [
    "if not column_to_drop_36.startswith('Cat_'):\n",
    "    comp_37 = comp_36.drop(column_to_drop_36, axis=1)\n",
    "    X_37 = comp_37.drop('target', axis=1)\n",
    "    y_37 = comp_37['target']\n",
    "else:\n",
    "    comp_37 = comp_36.drop(comp_36.filter(regex='^' + column_to_drop_36).columns, axis=1)\n",
    "    X_37 = comp_37.drop('target', axis=1)\n",
    "    y_37 = comp_37['target']\n",
    "\n",
    "print(X_37.shape)"
   ]
  },
  {
   "cell_type": "code",
   "execution_count": null,
   "id": "d33834e3",
   "metadata": {},
   "outputs": [],
   "source": [
    "X_train, X_test, y_train, y_test = train_test_split(X_37, y_37, test_size=0.2, shuffle=True, stratify=y_37, random_state = 0)\n",
    "X_train, X_val, y_train, y_val = train_test_split(X_train, y_train, test_size=0.2, shuffle=True, stratify=y_train, random_state = 0)"
   ]
  },
  {
   "cell_type": "code",
   "execution_count": null,
   "id": "cfc73165",
   "metadata": {},
   "outputs": [],
   "source": [
    "def objective(trial):\n",
    "    params = {\n",
    "        'n_estimators' :trial.suggest_int('n_estimators', 50, 200),\n",
    "        'learning_rate' :trial.suggest_float('learning_rate',0.01, 0.1,step=0.01),\n",
    "        'max_depth' :trial.suggest_int('max_depth', 1, 10),\n",
    "        'max_leaves': trial.suggest_int('max_leaves', 2, 1024, step=2),\n",
    "        'subsample':trial.suggest_float('subsample', 0.1, 1.0,step=0.1),\n",
    "        'colsample_bytree' :trial.suggest_float('colsample_bytree', 0.1, 1.0,step=0.1),\n",
    "        'gamma' :trial.suggest_int('gamma',1, 10),\n",
    "        'reg_alpha' :trial.suggest_int('reg_alpha', 1, 10),\n",
    "        'reg_lambda' :trial.suggest_int('reg_lambda', 1, 10),\n",
    "        'booster' : trial.suggest_categorical('booster', ['gbtree']),\n",
    "        'objective' : trial.suggest_categorical('objective', ['binary:logistic'])\n",
    "        }\n",
    "        \n",
    "    clf = XGBClassifier(**params,random_state = 0)\n",
    "    clf.fit(X_train, y_train)\n",
    "    clf_proba = clf.predict_proba(X_val)[:, 1]\n",
    "        \n",
    "    AUC_SCORE = roc_auc_score(y_val, clf_proba)\n",
    "    return AUC_SCORE\n",
    "\n",
    "direction = \"maximize\"\n",
    "sampler = optuna.samplers.TPESampler(seed=10)\n",
    "study =  optuna.create_study(direction=direction, sampler=sampler, pruner=optuna.pruners.HyperbandPruner())\n",
    "early_stopping = EarlyStoppingCallback(10, direction=direction)\n",
    "study.optimize(objective, callbacks=[early_stopping], n_trials=200) "
   ]
  },
  {
   "cell_type": "code",
   "execution_count": null,
   "id": "9584fbe9",
   "metadata": {},
   "outputs": [],
   "source": [
    "print(study.best_trial.params)\n",
    "optuna_auc = study.best_trial.value\n",
    "print(optuna_auc)"
   ]
  },
  {
   "cell_type": "code",
   "execution_count": null,
   "id": "165b5194",
   "metadata": {},
   "outputs": [],
   "source": [
    "xgb_optuna_37 = XGBClassifier(**study.best_trial.params, random_state = 0)\n",
    "xgb_optuna_37.fit(X_train, y_train)"
   ]
  },
  {
   "cell_type": "code",
   "execution_count": null,
   "id": "77528c24",
   "metadata": {},
   "outputs": [],
   "source": [
    "xgb_optuna_proba_37 = xgb_optuna_37.predict_proba(X_test)[:, 1]\n",
    "auc_37 = roc_auc_score(y_test, xgb_optuna_proba_37)\n",
    "print(decimal.Decimal(auc_37).quantize(decimal.Decimal('1.000')))"
   ]
  },
  {
   "cell_type": "code",
   "execution_count": null,
   "id": "658bbad7",
   "metadata": {},
   "outputs": [],
   "source": [
    "X_train = X_train.values\n",
    "y_train = y_train.values"
   ]
  },
  {
   "cell_type": "code",
   "execution_count": null,
   "id": "357af21d",
   "metadata": {},
   "outputs": [],
   "source": [
    "auc_bootstrap = []"
   ]
  },
  {
   "cell_type": "code",
   "execution_count": null,
   "id": "e7d0e307",
   "metadata": {},
   "outputs": [],
   "source": [
    "rs = RandomState(seed = 37)\n",
    "bootstrap_auc(xgb_optuna_37, X_train, y_train, X_test, y_test, nsamples=1000)"
   ]
  },
  {
   "cell_type": "code",
   "execution_count": null,
   "id": "85655e15",
   "metadata": {},
   "outputs": [],
   "source": [
    "shapiro(auc_bootstrap), np.mean(auc_bootstrap)"
   ]
  },
  {
   "cell_type": "code",
   "execution_count": null,
   "id": "dc36d048",
   "metadata": {},
   "outputs": [],
   "source": [
    "t_37 = auc_bootstrap\n",
    "print(t_37)"
   ]
  },
  {
   "cell_type": "code",
   "execution_count": null,
   "id": "77673a17",
   "metadata": {},
   "outputs": [],
   "source": [
    "del X_train, X_test, y_train, y_test, X_val, y_val,study, optuna_auc"
   ]
  },
  {
   "cell_type": "code",
   "execution_count": null,
   "id": "ead41f79",
   "metadata": {},
   "outputs": [],
   "source": [
    "# 38\n",
    "column_to_drop_37 = 'Cat_가구주 종사상 지위'"
   ]
  },
  {
   "cell_type": "code",
   "execution_count": null,
   "id": "dae6def3",
   "metadata": {},
   "outputs": [],
   "source": [
    "if not column_to_drop_37.startswith('Cat_'):\n",
    "    comp_38 = comp_37.drop(column_to_drop_37, axis=1)\n",
    "    X_38 = comp_38.drop('target', axis=1)\n",
    "    y_38 = comp_38['target']\n",
    "else:\n",
    "    comp_38 = comp_37.drop(comp_37.filter(regex='^' + column_to_drop_37).columns, axis=1)\n",
    "    X_38 = comp_38.drop('target', axis=1)\n",
    "    y_38 = comp_38['target']\n",
    "\n",
    "print(X_38.shape)"
   ]
  },
  {
   "cell_type": "code",
   "execution_count": null,
   "id": "700db5cb",
   "metadata": {},
   "outputs": [],
   "source": [
    "X_train, X_test, y_train, y_test = train_test_split(X_38, y_38, test_size=0.2, shuffle=True, stratify=y_38, random_state = 0)\n",
    "X_train, X_val, y_train, y_val = train_test_split(X_train, y_train, test_size=0.2, shuffle=True, stratify=y_train, random_state = 0)"
   ]
  },
  {
   "cell_type": "code",
   "execution_count": null,
   "id": "d6a53f75",
   "metadata": {},
   "outputs": [],
   "source": [
    "def objective(trial):\n",
    "    params = {\n",
    "        'n_estimators' :trial.suggest_int('n_estimators', 50, 200),\n",
    "        'learning_rate' :trial.suggest_float('learning_rate',0.01, 0.1,step=0.01),\n",
    "        'max_depth' :trial.suggest_int('max_depth', 1, 10),\n",
    "        'max_leaves': trial.suggest_int('max_leaves', 2, 1024, step=2),\n",
    "        'subsample':trial.suggest_float('subsample', 0.1, 1.0,step=0.1),\n",
    "        'colsample_bytree' :trial.suggest_float('colsample_bytree', 0.1, 1.0,step=0.1),\n",
    "        'gamma' :trial.suggest_int('gamma',1, 10),\n",
    "        'reg_alpha' :trial.suggest_int('reg_alpha', 1, 10),\n",
    "        'reg_lambda' :trial.suggest_int('reg_lambda', 1, 10),\n",
    "        'booster' : trial.suggest_categorical('booster', ['gbtree']),\n",
    "        'objective' : trial.suggest_categorical('objective', ['binary:logistic'])\n",
    "        }\n",
    "        \n",
    "    clf = XGBClassifier(**params,random_state = 0)\n",
    "    clf.fit(X_train, y_train)\n",
    "    clf_proba = clf.predict_proba(X_val)[:, 1]\n",
    "        \n",
    "    AUC_SCORE = roc_auc_score(y_val, clf_proba)\n",
    "    return AUC_SCORE\n",
    "\n",
    "direction = \"maximize\"\n",
    "sampler = optuna.samplers.TPESampler(seed=10)\n",
    "study =  optuna.create_study(direction=direction, sampler=sampler, pruner=optuna.pruners.HyperbandPruner())\n",
    "early_stopping = EarlyStoppingCallback(10, direction=direction)\n",
    "study.optimize(objective, callbacks=[early_stopping], n_trials=200) "
   ]
  },
  {
   "cell_type": "code",
   "execution_count": null,
   "id": "4863dd08",
   "metadata": {},
   "outputs": [],
   "source": [
    "print(study.best_trial.params)\n",
    "optuna_auc = study.best_trial.value\n",
    "print(optuna_auc)"
   ]
  },
  {
   "cell_type": "code",
   "execution_count": null,
   "id": "2b61884c",
   "metadata": {},
   "outputs": [],
   "source": [
    "xgb_optuna_38 = XGBClassifier(**study.best_trial.params, random_state = 0)\n",
    "xgb_optuna_38.fit(X_train, y_train)"
   ]
  },
  {
   "cell_type": "code",
   "execution_count": null,
   "id": "6033e0d9",
   "metadata": {},
   "outputs": [],
   "source": [
    "xgb_optuna_proba_38 = xgb_optuna_38.predict_proba(X_test)[:, 1]\n",
    "auc_38 = roc_auc_score(y_test, xgb_optuna_proba_38)\n",
    "print(decimal.Decimal(auc_38).quantize(decimal.Decimal('1.000')))"
   ]
  },
  {
   "cell_type": "code",
   "execution_count": null,
   "id": "5d347eae",
   "metadata": {},
   "outputs": [],
   "source": [
    "X_train = X_train.values\n",
    "y_train = y_train.values"
   ]
  },
  {
   "cell_type": "code",
   "execution_count": null,
   "id": "b118e43b",
   "metadata": {},
   "outputs": [],
   "source": [
    "auc_bootstrap = []"
   ]
  },
  {
   "cell_type": "code",
   "execution_count": null,
   "id": "a84e7154",
   "metadata": {},
   "outputs": [],
   "source": [
    "rs = RandomState(seed = 38)\n",
    "bootstrap_auc(xgb_optuna_38, X_train, y_train, X_test, y_test, nsamples=1000)"
   ]
  },
  {
   "cell_type": "code",
   "execution_count": null,
   "id": "20b53f1f",
   "metadata": {},
   "outputs": [],
   "source": [
    "shapiro(auc_bootstrap), np.mean(auc_bootstrap)"
   ]
  },
  {
   "cell_type": "code",
   "execution_count": null,
   "id": "3de795e7",
   "metadata": {},
   "outputs": [],
   "source": [
    "t_38 = auc_bootstrap\n",
    "print(t_38)"
   ]
  },
  {
   "cell_type": "code",
   "execution_count": null,
   "id": "3c927cd9",
   "metadata": {},
   "outputs": [],
   "source": [
    "del X_train, X_test, y_train, y_test, X_val, y_val,study, optuna_auc"
   ]
  },
  {
   "cell_type": "code",
   "execution_count": null,
   "id": "35513838",
   "metadata": {},
   "outputs": [],
   "source": [
    "# 38\n",
    "column_to_drop_38 = '중기부채부담지표'"
   ]
  },
  {
   "cell_type": "code",
   "execution_count": null,
   "id": "5e60a3f0",
   "metadata": {},
   "outputs": [],
   "source": [
    "if not column_to_drop_38.startswith('Cat_'):\n",
    "    comp_39 = comp_38.drop(column_to_drop_38, axis=1)\n",
    "    X_39 = comp_39.drop('target', axis=1)\n",
    "    y_39 = comp_39['target']\n",
    "else:\n",
    "    comp_39 = comp_38.drop(comp_38.filter(regex='^' + column_to_drop_38).columns, axis=1)\n",
    "    X_39 = comp_39.drop('target', axis=1)\n",
    "    y_39 = comp_39['target']\n",
    "\n",
    "print(X_39.shape)"
   ]
  },
  {
   "cell_type": "code",
   "execution_count": null,
   "id": "f5bbb1aa",
   "metadata": {},
   "outputs": [],
   "source": [
    "X_train, X_test, y_train, y_test = train_test_split(X_39, y_39, test_size=0.2, shuffle=True, stratify=y_39, random_state = 0)\n",
    "X_train, X_val, y_train, y_val = train_test_split(X_train, y_train, test_size=0.2, shuffle=True, stratify=y_train, random_state = 0)"
   ]
  },
  {
   "cell_type": "code",
   "execution_count": null,
   "id": "0d3d2350",
   "metadata": {},
   "outputs": [],
   "source": [
    "def objective(trial):\n",
    "    params = {\n",
    "        'n_estimators' :trial.suggest_int('n_estimators', 50, 200),\n",
    "        'learning_rate' :trial.suggest_float('learning_rate',0.01, 0.1,step=0.01),\n",
    "        'max_depth' :trial.suggest_int('max_depth', 1, 10),\n",
    "        'max_leaves': trial.suggest_int('max_leaves', 2, 1024, step=2),\n",
    "        'subsample':trial.suggest_float('subsample', 0.1, 1.0,step=0.1),\n",
    "        'colsample_bytree' :trial.suggest_float('colsample_bytree', 0.1, 1.0,step=0.1),\n",
    "        'gamma' :trial.suggest_int('gamma',1, 10),\n",
    "        'reg_alpha' :trial.suggest_int('reg_alpha', 1, 10),\n",
    "        'reg_lambda' :trial.suggest_int('reg_lambda', 1, 10),\n",
    "        'booster' : trial.suggest_categorical('booster', ['gbtree']),\n",
    "        'objective' : trial.suggest_categorical('objective', ['binary:logistic'])\n",
    "        }\n",
    "        \n",
    "    clf = XGBClassifier(**params,random_state = 0)\n",
    "    clf.fit(X_train, y_train)\n",
    "    clf_proba = clf.predict_proba(X_val)[:, 1]\n",
    "        \n",
    "    AUC_SCORE = roc_auc_score(y_val, clf_proba)\n",
    "    return AUC_SCORE\n",
    "\n",
    "direction = \"maximize\"\n",
    "sampler = optuna.samplers.TPESampler(seed=10)\n",
    "study =  optuna.create_study(direction=direction, sampler=sampler, pruner=optuna.pruners.HyperbandPruner())\n",
    "early_stopping = EarlyStoppingCallback(10, direction=direction)\n",
    "study.optimize(objective, callbacks=[early_stopping], n_trials=200) "
   ]
  },
  {
   "cell_type": "code",
   "execution_count": null,
   "id": "10c4efd8",
   "metadata": {},
   "outputs": [],
   "source": [
    "print(study.best_trial.params)\n",
    "optuna_auc = study.best_trial.value\n",
    "print(optuna_auc)"
   ]
  },
  {
   "cell_type": "code",
   "execution_count": null,
   "id": "5d0fd661",
   "metadata": {},
   "outputs": [],
   "source": [
    "xgb_optuna_39 = XGBClassifier(**study.best_trial.params, random_state = 0)\n",
    "xgb_optuna_39.fit(X_train, y_train)"
   ]
  },
  {
   "cell_type": "code",
   "execution_count": null,
   "id": "ea9c1fa9",
   "metadata": {},
   "outputs": [],
   "source": [
    "xgb_optuna_proba_39 = xgb_optuna_39.predict_proba(X_test)[:, 1]\n",
    "auc_39 = roc_auc_score(y_test, xgb_optuna_proba_39)\n",
    "print(decimal.Decimal(auc_39).quantize(decimal.Decimal('1.000')))"
   ]
  },
  {
   "cell_type": "code",
   "execution_count": null,
   "id": "187488dd",
   "metadata": {},
   "outputs": [],
   "source": [
    "X_train = X_train.values\n",
    "y_train = y_train.values"
   ]
  },
  {
   "cell_type": "code",
   "execution_count": null,
   "id": "1cc53e43",
   "metadata": {},
   "outputs": [],
   "source": [
    "auc_bootstrap = []"
   ]
  },
  {
   "cell_type": "code",
   "execution_count": null,
   "id": "2822259f",
   "metadata": {},
   "outputs": [],
   "source": [
    "rs = RandomState(seed = 39)\n",
    "bootstrap_auc(xgb_optuna_39, X_train, y_train, X_test, y_test, nsamples=1000)"
   ]
  },
  {
   "cell_type": "code",
   "execution_count": null,
   "id": "02274a0f",
   "metadata": {},
   "outputs": [],
   "source": [
    "shapiro(auc_bootstrap), np.mean(auc_bootstrap)"
   ]
  },
  {
   "cell_type": "code",
   "execution_count": null,
   "id": "d05fb6ec",
   "metadata": {},
   "outputs": [],
   "source": [
    "t_39 = auc_bootstrap\n",
    "print(t_39)"
   ]
  },
  {
   "cell_type": "code",
   "execution_count": null,
   "id": "0e6aedb9",
   "metadata": {},
   "outputs": [],
   "source": [
    "del X_train, X_test, y_train, y_test, X_val, y_val,study, optuna_auc"
   ]
  },
  {
   "cell_type": "code",
   "execution_count": null,
   "id": "b51f1c48",
   "metadata": {},
   "outputs": [],
   "source": [
    "# 40\n",
    "column_to_drop_39 = 'Cat_현재 주택에 대한 전반적인 만족도'"
   ]
  },
  {
   "cell_type": "code",
   "execution_count": null,
   "id": "1582ce60",
   "metadata": {},
   "outputs": [],
   "source": [
    "if not column_to_drop_39.startswith('Cat_'):\n",
    "    comp_40 = comp_39.drop(column_to_drop_39, axis=1)\n",
    "    X_40 = comp_40.drop('target', axis=1)\n",
    "    y_40 = comp_40['target']\n",
    "else:\n",
    "    comp_40 = comp_39.drop(comp_39.filter(regex='^' + column_to_drop_39).columns, axis=1)\n",
    "    X_40 = comp_40.drop('target', axis=1)\n",
    "    y_40 = comp_40['target']\n",
    "\n",
    "print(X_40.shape)"
   ]
  },
  {
   "cell_type": "code",
   "execution_count": null,
   "id": "f81f10b8",
   "metadata": {},
   "outputs": [],
   "source": [
    "X_train, X_test, y_train, y_test = train_test_split(X_40, y_40, test_size=0.2, shuffle=True, stratify=y_40, random_state = 0)\n",
    "X_train, X_val, y_train, y_val = train_test_split(X_train, y_train, test_size=0.2, shuffle=True, stratify=y_train, random_state = 0)"
   ]
  },
  {
   "cell_type": "code",
   "execution_count": null,
   "id": "98de500b",
   "metadata": {},
   "outputs": [],
   "source": [
    "def objective(trial):\n",
    "    params = {\n",
    "        'n_estimators' :trial.suggest_int('n_estimators', 50, 200),\n",
    "        'learning_rate' :trial.suggest_float('learning_rate',0.01, 0.1,step=0.01),\n",
    "        'max_depth' :trial.suggest_int('max_depth', 1, 10),\n",
    "        'max_leaves': trial.suggest_int('max_leaves', 2, 1024, step=2),\n",
    "        'subsample':trial.suggest_float('subsample', 0.1, 1.0,step=0.1),\n",
    "        'colsample_bytree' :trial.suggest_float('colsample_bytree', 0.1, 1.0,step=0.1),\n",
    "        'gamma' :trial.suggest_int('gamma',1, 10),\n",
    "        'reg_alpha' :trial.suggest_int('reg_alpha', 1, 10),\n",
    "        'reg_lambda' :trial.suggest_int('reg_lambda', 1, 10),\n",
    "        'booster' : trial.suggest_categorical('booster', ['gbtree']),\n",
    "        'objective' : trial.suggest_categorical('objective', ['binary:logistic'])\n",
    "        }\n",
    "        \n",
    "    clf = XGBClassifier(**params,random_state = 0)\n",
    "    clf.fit(X_train, y_train)\n",
    "    clf_proba = clf.predict_proba(X_val)[:, 1]\n",
    "        \n",
    "    AUC_SCORE = roc_auc_score(y_val, clf_proba)\n",
    "    return AUC_SCORE\n",
    "\n",
    "direction = \"maximize\"\n",
    "sampler = optuna.samplers.TPESampler(seed=10)\n",
    "study =  optuna.create_study(direction=direction, sampler=sampler, pruner=optuna.pruners.HyperbandPruner())\n",
    "early_stopping = EarlyStoppingCallback(10, direction=direction)\n",
    "study.optimize(objective, callbacks=[early_stopping], n_trials=200) "
   ]
  },
  {
   "cell_type": "code",
   "execution_count": null,
   "id": "f14df004",
   "metadata": {},
   "outputs": [],
   "source": [
    "print(study.best_trial.params)\n",
    "optuna_auc = study.best_trial.value\n",
    "print(optuna_auc)"
   ]
  },
  {
   "cell_type": "code",
   "execution_count": null,
   "id": "cdcbd152",
   "metadata": {},
   "outputs": [],
   "source": [
    "xgb_optuna_40 = XGBClassifier(**study.best_trial.params, random_state = 0)\n",
    "xgb_optuna_40.fit(X_train, y_train)"
   ]
  },
  {
   "cell_type": "code",
   "execution_count": null,
   "id": "e0316727",
   "metadata": {},
   "outputs": [],
   "source": [
    "xgb_optuna_proba_40 = xgb_optuna_40.predict_proba(X_test)[:, 1]\n",
    "auc_40 = roc_auc_score(y_test, xgb_optuna_proba_40)\n",
    "print(decimal.Decimal(auc_40).quantize(decimal.Decimal('1.000')))"
   ]
  },
  {
   "cell_type": "code",
   "execution_count": null,
   "id": "591a2e4e",
   "metadata": {},
   "outputs": [],
   "source": [
    "X_train = X_train.values\n",
    "y_train = y_train.values"
   ]
  },
  {
   "cell_type": "code",
   "execution_count": null,
   "id": "1f01eef7",
   "metadata": {},
   "outputs": [],
   "source": [
    "auc_bootstrap = []"
   ]
  },
  {
   "cell_type": "code",
   "execution_count": null,
   "id": "a6526b9c",
   "metadata": {},
   "outputs": [],
   "source": [
    "rs = RandomState(seed = 40)\n",
    "bootstrap_auc(xgb_optuna_40, X_train, y_train, X_test, y_test, nsamples=1000)"
   ]
  },
  {
   "cell_type": "code",
   "execution_count": null,
   "id": "62686fb7",
   "metadata": {},
   "outputs": [],
   "source": [
    "shapiro(auc_bootstrap), np.mean(auc_bootstrap)"
   ]
  },
  {
   "cell_type": "code",
   "execution_count": null,
   "id": "edbb7f6f",
   "metadata": {},
   "outputs": [],
   "source": [
    "t_40 = auc_bootstrap\n",
    "print(t_40)"
   ]
  },
  {
   "cell_type": "code",
   "execution_count": null,
   "id": "436468ab",
   "metadata": {},
   "outputs": [],
   "source": [
    "del X_train, X_test, y_train, y_test, X_val, y_val,study, optuna_auc"
   ]
  },
  {
   "cell_type": "code",
   "execution_count": null,
   "id": "3a0411ae",
   "metadata": {},
   "outputs": [],
   "source": [
    "# 41.\n",
    "column_to_drop_40 = 'Cat_현재 주택의 점유형태'"
   ]
  },
  {
   "cell_type": "code",
   "execution_count": null,
   "id": "2e3849d6",
   "metadata": {},
   "outputs": [],
   "source": [
    "if not column_to_drop_40.startswith('Cat_'):\n",
    "    comp_41 = comp_40.drop(column_to_drop_40, axis=1)\n",
    "    X_41 = comp_41.drop('target', axis=1)\n",
    "    y_41 = comp_41['target']\n",
    "else:\n",
    "    comp_41 = comp_40.drop(comp_40.filter(regex='^' + column_to_drop_40).columns, axis=1)\n",
    "    X_41 = comp_41.drop('target', axis=1)\n",
    "    y_41 = comp_41['target']\n",
    "\n",
    "print(X_41.shape)"
   ]
  },
  {
   "cell_type": "code",
   "execution_count": null,
   "id": "e0ba6243",
   "metadata": {},
   "outputs": [],
   "source": [
    "X_train, X_test, y_train, y_test = train_test_split(X_41, y_41, test_size=0.2, shuffle=True, stratify=y_41, random_state = 0)\n",
    "X_train, X_val, y_train, y_val = train_test_split(X_train, y_train, test_size=0.2, shuffle=True, stratify=y_train, random_state = 0)"
   ]
  },
  {
   "cell_type": "code",
   "execution_count": null,
   "id": "a29ccb7e",
   "metadata": {},
   "outputs": [],
   "source": [
    "def objective(trial):\n",
    "    params = {\n",
    "        'n_estimators' :trial.suggest_int('n_estimators', 50, 200),\n",
    "        'learning_rate' :trial.suggest_float('learning_rate',0.01, 0.1,step=0.01),\n",
    "        'max_depth' :trial.suggest_int('max_depth', 1, 10),\n",
    "        'max_leaves': trial.suggest_int('max_leaves', 2, 1024, step=2),\n",
    "        'subsample':trial.suggest_float('subsample', 0.1, 1.0,step=0.1),\n",
    "        'colsample_bytree' :trial.suggest_float('colsample_bytree', 0.1, 1.0,step=0.1),\n",
    "        'gamma' :trial.suggest_int('gamma',1, 10),\n",
    "        'reg_alpha' :trial.suggest_int('reg_alpha', 1, 10),\n",
    "        'reg_lambda' :trial.suggest_int('reg_lambda', 1, 10),\n",
    "        'booster' : trial.suggest_categorical('booster', ['gbtree']),\n",
    "        'objective' : trial.suggest_categorical('objective', ['binary:logistic'])\n",
    "        }\n",
    "        \n",
    "    clf = XGBClassifier(**params,random_state = 0)\n",
    "    clf.fit(X_train, y_train)\n",
    "    clf_proba = clf.predict_proba(X_val)[:, 1]\n",
    "        \n",
    "    AUC_SCORE = roc_auc_score(y_val, clf_proba)\n",
    "    return AUC_SCORE\n",
    "\n",
    "direction = \"maximize\"\n",
    "sampler = optuna.samplers.TPESampler(seed=10)\n",
    "study =  optuna.create_study(direction=direction, sampler=sampler, pruner=optuna.pruners.HyperbandPruner())\n",
    "early_stopping = EarlyStoppingCallback(10, direction=direction)\n",
    "study.optimize(objective, callbacks=[early_stopping], n_trials=200) "
   ]
  },
  {
   "cell_type": "code",
   "execution_count": null,
   "id": "b6da2cec",
   "metadata": {},
   "outputs": [],
   "source": [
    "print(study.best_trial.params)\n",
    "optuna_auc = study.best_trial.value\n",
    "print(optuna_auc)"
   ]
  },
  {
   "cell_type": "code",
   "execution_count": null,
   "id": "2ad7fe78",
   "metadata": {},
   "outputs": [],
   "source": [
    "xgb_optuna_41 = XGBClassifier(**study.best_trial.params, random_state = 0)\n",
    "xgb_optuna_41.fit(X_train, y_train)"
   ]
  },
  {
   "cell_type": "code",
   "execution_count": null,
   "id": "e4974441",
   "metadata": {},
   "outputs": [],
   "source": [
    "xgb_optuna_proba_41 = xgb_optuna_41.predict_proba(X_test)[:, 1]\n",
    "auc_41 = roc_auc_score(y_test, xgb_optuna_proba_41)\n",
    "print(decimal.Decimal(auc_41).quantize(decimal.Decimal('1.000')))"
   ]
  },
  {
   "cell_type": "code",
   "execution_count": null,
   "id": "1f61c4d2",
   "metadata": {},
   "outputs": [],
   "source": [
    "X_train = X_train.values\n",
    "y_train = y_train.values"
   ]
  },
  {
   "cell_type": "code",
   "execution_count": null,
   "id": "8ca50294",
   "metadata": {},
   "outputs": [],
   "source": [
    "auc_bootstrap = []"
   ]
  },
  {
   "cell_type": "code",
   "execution_count": null,
   "id": "a5a774ec",
   "metadata": {},
   "outputs": [],
   "source": [
    "rs = RandomState(seed = 41)\n",
    "bootstrap_auc(xgb_optuna_41, X_train, y_train, X_test, y_test, nsamples=1000)"
   ]
  },
  {
   "cell_type": "code",
   "execution_count": null,
   "id": "91232cf2",
   "metadata": {},
   "outputs": [],
   "source": [
    "shapiro(auc_bootstrap), np.mean(auc_bootstrap)"
   ]
  },
  {
   "cell_type": "code",
   "execution_count": null,
   "id": "062e31ea",
   "metadata": {},
   "outputs": [],
   "source": [
    "t_41 = auc_bootstrap\n",
    "print(t_41)"
   ]
  },
  {
   "cell_type": "code",
   "execution_count": null,
   "id": "546319b9",
   "metadata": {},
   "outputs": [],
   "source": [
    "del X_train, X_test, y_train, y_test, X_val, y_val,study, optuna_auc"
   ]
  },
  {
   "cell_type": "code",
   "execution_count": null,
   "id": "8d3210d9",
   "metadata": {},
   "outputs": [],
   "source": [
    "# 42.\n",
    "column_to_drop_41 = '현재 무주택 기간(총 개월)'"
   ]
  },
  {
   "cell_type": "code",
   "execution_count": null,
   "id": "f24e9126",
   "metadata": {},
   "outputs": [],
   "source": [
    "if not column_to_drop_41.startswith('Cat_'):\n",
    "    comp_42 = comp_41.drop(column_to_drop_41, axis=1)\n",
    "    X_42 = comp_42.drop('target', axis=1)\n",
    "    y_42 = comp_42['target']\n",
    "else:\n",
    "    comp_42 = comp_41.drop(comp_41.filter(regex='^' + column_to_drop_41).columns, axis=1)\n",
    "    X_42 = comp_42.drop('target', axis=1)\n",
    "    y_42 = comp_42['target']\n",
    "\n",
    "print(X_42.shape)"
   ]
  },
  {
   "cell_type": "code",
   "execution_count": null,
   "id": "c6e87b80",
   "metadata": {},
   "outputs": [],
   "source": [
    "X_train, X_test, y_train, y_test = train_test_split(X_42, y_42, test_size=0.2, shuffle=True, stratify=y_42, random_state = 0)\n",
    "X_train, X_val, y_train, y_val = train_test_split(X_train, y_train, test_size=0.2, shuffle=True, stratify=y_train, random_state = 0)"
   ]
  },
  {
   "cell_type": "code",
   "execution_count": null,
   "id": "ac52f250",
   "metadata": {},
   "outputs": [],
   "source": [
    "def objective(trial):\n",
    "    params = {\n",
    "        'n_estimators' :trial.suggest_int('n_estimators', 50, 200),\n",
    "        'learning_rate' :trial.suggest_float('learning_rate',0.01, 0.1,step=0.01),\n",
    "        'max_depth' :trial.suggest_int('max_depth', 1, 10),\n",
    "        'max_leaves': trial.suggest_int('max_leaves', 2, 1024, step=2),\n",
    "        'subsample':trial.suggest_float('subsample', 0.1, 1.0,step=0.1),\n",
    "        'colsample_bytree' :trial.suggest_float('colsample_bytree', 0.1, 1.0,step=0.1),\n",
    "        'gamma' :trial.suggest_int('gamma',1, 10),\n",
    "        'reg_alpha' :trial.suggest_int('reg_alpha', 1, 10),\n",
    "        'reg_lambda' :trial.suggest_int('reg_lambda', 1, 10),\n",
    "        'booster' : trial.suggest_categorical('booster', ['gbtree']),\n",
    "        'objective' : trial.suggest_categorical('objective', ['binary:logistic'])\n",
    "        }\n",
    "        \n",
    "    clf = XGBClassifier(**params,random_state = 0)\n",
    "    clf.fit(X_train, y_train)\n",
    "    clf_proba = clf.predict_proba(X_val)[:, 1]\n",
    "        \n",
    "    AUC_SCORE = roc_auc_score(y_val, clf_proba)\n",
    "    return AUC_SCORE\n",
    "\n",
    "direction = \"maximize\"\n",
    "sampler = optuna.samplers.TPESampler(seed=10)\n",
    "study =  optuna.create_study(direction=direction, sampler=sampler, pruner=optuna.pruners.HyperbandPruner())\n",
    "early_stopping = EarlyStoppingCallback(10, direction=direction)\n",
    "study.optimize(objective, callbacks=[early_stopping], n_trials=200) "
   ]
  },
  {
   "cell_type": "code",
   "execution_count": null,
   "id": "12b47e83",
   "metadata": {},
   "outputs": [],
   "source": [
    "print(study.best_trial.params)\n",
    "optuna_auc = study.best_trial.value\n",
    "print(optuna_auc)"
   ]
  },
  {
   "cell_type": "code",
   "execution_count": null,
   "id": "1f3d1cad",
   "metadata": {},
   "outputs": [],
   "source": [
    "xgb_optuna_42 = XGBClassifier(**study.best_trial.params, random_state = 0)\n",
    "xgb_optuna_42.fit(X_train, y_train)"
   ]
  },
  {
   "cell_type": "code",
   "execution_count": null,
   "id": "3f04209a",
   "metadata": {},
   "outputs": [],
   "source": [
    "xgb_optuna_proba_42 = xgb_optuna_42.predict_proba(X_test)[:, 1]\n",
    "auc_42 = roc_auc_score(y_test, xgb_optuna_proba_42)\n",
    "print(decimal.Decimal(auc_42).quantize(decimal.Decimal('1.000')))"
   ]
  },
  {
   "cell_type": "code",
   "execution_count": null,
   "id": "b5baef7b",
   "metadata": {},
   "outputs": [],
   "source": [
    "X_train = X_train.values\n",
    "y_train = y_train.values"
   ]
  },
  {
   "cell_type": "code",
   "execution_count": null,
   "id": "b94c497d",
   "metadata": {},
   "outputs": [],
   "source": [
    "auc_bootstrap = []"
   ]
  },
  {
   "cell_type": "code",
   "execution_count": null,
   "id": "2afc3442",
   "metadata": {},
   "outputs": [],
   "source": [
    "rs = RandomState(seed = 42)\n",
    "bootstrap_auc(xgb_optuna_42, X_train, y_train, X_test, y_test, nsamples=1000)"
   ]
  },
  {
   "cell_type": "code",
   "execution_count": null,
   "id": "c11c0d3a",
   "metadata": {},
   "outputs": [],
   "source": [
    "shapiro(auc_bootstrap), np.mean(auc_bootstrap)"
   ]
  },
  {
   "cell_type": "code",
   "execution_count": null,
   "id": "3136e093",
   "metadata": {},
   "outputs": [],
   "source": [
    "t_42 = auc_bootstrap\n",
    "print(t_42)"
   ]
  },
  {
   "cell_type": "code",
   "execution_count": null,
   "id": "aa5d9610",
   "metadata": {},
   "outputs": [],
   "source": [
    "del X_train, X_test, y_train, y_test, X_val, y_val,study, optuna_auc"
   ]
  },
  {
   "cell_type": "code",
   "execution_count": null,
   "id": "4f1b5945",
   "metadata": {},
   "outputs": [],
   "source": [
    "# 43.\n",
    "column_to_drop_42 = '소득 대비 주거관리비의 비율'"
   ]
  },
  {
   "cell_type": "code",
   "execution_count": null,
   "id": "3e135344",
   "metadata": {},
   "outputs": [],
   "source": [
    "if not column_to_drop_42.startswith('Cat_'):\n",
    "    comp_43 = comp_42.drop(column_to_drop_42, axis=1)\n",
    "    X_43 = comp_43.drop('target', axis=1)\n",
    "    y_43 = comp_43['target']\n",
    "else:\n",
    "    comp_43 = comp_42.drop(comp_42.filter(regex='^' + column_to_drop_42).columns, axis=1)\n",
    "    X_43 = comp_43.drop('target', axis=1)\n",
    "    y_43 = comp_43['target']\n",
    "\n",
    "print(X_43.shape)"
   ]
  },
  {
   "cell_type": "code",
   "execution_count": null,
   "id": "bdea26d7",
   "metadata": {},
   "outputs": [],
   "source": [
    "X_train, X_test, y_train, y_test = train_test_split(X_43, y_43, test_size=0.2, shuffle=True, stratify=y_43, random_state = 0)\n",
    "X_train, X_val, y_train, y_val = train_test_split(X_train, y_train, test_size=0.2, shuffle=True, stratify=y_train, random_state = 0)"
   ]
  },
  {
   "cell_type": "code",
   "execution_count": null,
   "id": "e28d6147",
   "metadata": {},
   "outputs": [],
   "source": [
    "def objective(trial):\n",
    "    params = {\n",
    "        'n_estimators' :trial.suggest_int('n_estimators', 50, 200),\n",
    "        'learning_rate' :trial.suggest_float('learning_rate',0.01, 0.1,step=0.01),\n",
    "        'max_depth' :trial.suggest_int('max_depth', 1, 10),\n",
    "        'max_leaves': trial.suggest_int('max_leaves', 2, 1024, step=2),\n",
    "        'subsample':trial.suggest_float('subsample', 0.1, 1.0,step=0.1),\n",
    "        'colsample_bytree' :trial.suggest_float('colsample_bytree', 0.1, 1.0,step=0.1),\n",
    "        'gamma' :trial.suggest_int('gamma',1, 10),\n",
    "        'reg_alpha' :trial.suggest_int('reg_alpha', 1, 10),\n",
    "        'reg_lambda' :trial.suggest_int('reg_lambda', 1, 10),\n",
    "        'booster' : trial.suggest_categorical('booster', ['gbtree']),\n",
    "        'objective' : trial.suggest_categorical('objective', ['binary:logistic'])\n",
    "        }\n",
    "        \n",
    "    clf = XGBClassifier(**params,random_state = 0)\n",
    "    clf.fit(X_train, y_train)\n",
    "    clf_proba = clf.predict_proba(X_val)[:, 1]\n",
    "        \n",
    "    AUC_SCORE = roc_auc_score(y_val, clf_proba)\n",
    "    return AUC_SCORE\n",
    "\n",
    "direction = \"maximize\"\n",
    "sampler = optuna.samplers.TPESampler(seed=10)\n",
    "study =  optuna.create_study(direction=direction, sampler=sampler, pruner=optuna.pruners.HyperbandPruner())\n",
    "early_stopping = EarlyStoppingCallback(10, direction=direction)\n",
    "study.optimize(objective, callbacks=[early_stopping], n_trials=200) \n"
   ]
  },
  {
   "cell_type": "code",
   "execution_count": null,
   "id": "203fccdb",
   "metadata": {},
   "outputs": [],
   "source": [
    "print(study.best_trial.params)\n",
    "optuna_auc = study.best_trial.value\n",
    "print(optuna_auc)"
   ]
  },
  {
   "cell_type": "code",
   "execution_count": null,
   "id": "02b06c83",
   "metadata": {},
   "outputs": [],
   "source": [
    "xgb_optuna_43 = XGBClassifier(**study.best_trial.params, random_state = 0)\n",
    "xgb_optuna_43.fit(X_train, y_train)"
   ]
  },
  {
   "cell_type": "code",
   "execution_count": null,
   "id": "b40db420",
   "metadata": {},
   "outputs": [],
   "source": [
    "xgb_optuna_proba_43 = xgb_optuna_43.predict_proba(X_test)[:, 1]\n",
    "auc_43 = roc_auc_score(y_test, xgb_optuna_proba_43)\n",
    "print(decimal.Decimal(auc_43).quantize(decimal.Decimal('1.000')))"
   ]
  },
  {
   "cell_type": "code",
   "execution_count": null,
   "id": "cf5d24fc",
   "metadata": {},
   "outputs": [],
   "source": [
    "X_train = X_train.values\n",
    "y_train = y_train.values"
   ]
  },
  {
   "cell_type": "code",
   "execution_count": null,
   "id": "d9d04705",
   "metadata": {},
   "outputs": [],
   "source": [
    "auc_bootstrap = []"
   ]
  },
  {
   "cell_type": "code",
   "execution_count": null,
   "id": "00db46fc",
   "metadata": {},
   "outputs": [],
   "source": [
    "rs = RandomState(seed = 43)\n",
    "bootstrap_auc(xgb_optuna_43, X_train, y_train, X_test, y_test, nsamples=1000)"
   ]
  },
  {
   "cell_type": "code",
   "execution_count": null,
   "id": "3d0fc59a",
   "metadata": {},
   "outputs": [],
   "source": [
    "shapiro(auc_bootstrap), np.mean(auc_bootstrap)"
   ]
  },
  {
   "cell_type": "code",
   "execution_count": null,
   "id": "81c3bb67",
   "metadata": {},
   "outputs": [],
   "source": [
    "t_43 = auc_bootstrap\n",
    "print(t_43)"
   ]
  },
  {
   "cell_type": "code",
   "execution_count": null,
   "id": "403a2a0f",
   "metadata": {},
   "outputs": [],
   "source": [
    "del X_train, X_test, y_train, y_test, X_val, y_val,study, optuna_auc"
   ]
  },
  {
   "cell_type": "code",
   "execution_count": null,
   "id": "5ebd243c",
   "metadata": {},
   "outputs": [],
   "source": [
    "## 44\n",
    "column_to_drop_43 = '총 가구원 수'"
   ]
  },
  {
   "cell_type": "code",
   "execution_count": null,
   "id": "bd176660",
   "metadata": {},
   "outputs": [],
   "source": [
    "if not column_to_drop_43.startswith('Cat_'):\n",
    "    comp_44 = comp_43.drop(column_to_drop_43, axis=1)\n",
    "    X_44 = comp_44.drop('target', axis=1)\n",
    "    y_44 = comp_44['target']\n",
    "else:\n",
    "    comp_44 = comp_43.drop(comp_43.filter(regex='^' + column_to_drop_43).columns, axis=1)\n",
    "    X_44 = comp_44.drop('target', axis=1)\n",
    "    y_44 = comp_44['target']\n",
    "\n",
    "print(X_44.shape)"
   ]
  },
  {
   "cell_type": "code",
   "execution_count": null,
   "id": "0249332d",
   "metadata": {},
   "outputs": [],
   "source": [
    "X_train, X_test, y_train, y_test = train_test_split(X_44, y_44, test_size=0.2, shuffle=True, stratify=y_44, random_state = 0)\n",
    "X_train, X_val, y_train, y_val = train_test_split(X_train, y_train, test_size=0.2, shuffle=True, stratify=y_train, random_state = 0)"
   ]
  },
  {
   "cell_type": "code",
   "execution_count": null,
   "id": "779c6a01",
   "metadata": {},
   "outputs": [],
   "source": [
    "def objective(trial):\n",
    "    params = {\n",
    "        'n_estimators' :trial.suggest_int('n_estimators', 50, 200),\n",
    "        'learning_rate' :trial.suggest_float('learning_rate',0.01, 0.1,step=0.01),\n",
    "        'max_depth' :trial.suggest_int('max_depth', 1, 10),\n",
    "        'max_leaves': trial.suggest_int('max_leaves', 2, 1024, step=2),\n",
    "        'subsample':trial.suggest_float('subsample', 0.1, 1.0,step=0.1),\n",
    "        'colsample_bytree' :trial.suggest_float('colsample_bytree', 0.1, 1.0,step=0.1),\n",
    "        'gamma' :trial.suggest_int('gamma',1, 10),\n",
    "        'reg_alpha' :trial.suggest_int('reg_alpha', 1, 10),\n",
    "        'reg_lambda' :trial.suggest_int('reg_lambda', 1, 10),\n",
    "        'booster' : trial.suggest_categorical('booster', ['gbtree']),\n",
    "        'objective' : trial.suggest_categorical('objective', ['binary:logistic'])\n",
    "        }\n",
    "        \n",
    "    clf = XGBClassifier(**params,random_state = 0)\n",
    "    clf.fit(X_train, y_train)\n",
    "    clf_proba = clf.predict_proba(X_val)[:, 1]\n",
    "        \n",
    "    AUC_SCORE = roc_auc_score(y_val, clf_proba)\n",
    "    return AUC_SCORE\n",
    "\n",
    "direction = \"maximize\"\n",
    "sampler = optuna.samplers.TPESampler(seed=10)\n",
    "study =  optuna.create_study(direction=direction, sampler=sampler, pruner=optuna.pruners.HyperbandPruner())\n",
    "early_stopping = EarlyStoppingCallback(10, direction=direction)\n",
    "study.optimize(objective, callbacks=[early_stopping], n_trials=200) "
   ]
  },
  {
   "cell_type": "code",
   "execution_count": null,
   "id": "8171ab90",
   "metadata": {},
   "outputs": [],
   "source": [
    "print(study.best_trial.params)\n",
    "optuna_auc = study.best_trial.value\n",
    "print(optuna_auc)"
   ]
  },
  {
   "cell_type": "code",
   "execution_count": null,
   "id": "bf9143f5",
   "metadata": {},
   "outputs": [],
   "source": [
    "xgb_optuna_44 = XGBClassifier(**study.best_trial.params, random_state = 0)\n",
    "xgb_optuna_44.fit(X_train, y_train)"
   ]
  },
  {
   "cell_type": "code",
   "execution_count": null,
   "id": "37152504",
   "metadata": {},
   "outputs": [],
   "source": [
    "xgb_optuna_proba_44 = xgb_optuna_44.predict_proba(X_test)[:, 1]\n",
    "auc_44 = roc_auc_score(y_test, xgb_optuna_proba_44)\n",
    "print(decimal.Decimal(auc_44).quantize(decimal.Decimal('1.000')))"
   ]
  },
  {
   "cell_type": "code",
   "execution_count": null,
   "id": "563de8cc",
   "metadata": {},
   "outputs": [],
   "source": [
    "X_train = X_train.values\n",
    "y_train = y_train.values"
   ]
  },
  {
   "cell_type": "code",
   "execution_count": null,
   "id": "6f4e3399",
   "metadata": {},
   "outputs": [],
   "source": [
    "auc_bootstrap = []"
   ]
  },
  {
   "cell_type": "code",
   "execution_count": null,
   "id": "938c9856",
   "metadata": {},
   "outputs": [],
   "source": [
    "rs = RandomState(seed = 44)\n",
    "bootstrap_auc(xgb_optuna_44, X_train, y_train, X_test, y_test, nsamples=1000)"
   ]
  },
  {
   "cell_type": "code",
   "execution_count": null,
   "id": "b6b2f8ad",
   "metadata": {},
   "outputs": [],
   "source": [
    "shapiro(auc_bootstrap), np.mean(auc_bootstrap)"
   ]
  },
  {
   "cell_type": "code",
   "execution_count": null,
   "id": "cbdd72dc",
   "metadata": {},
   "outputs": [],
   "source": [
    "t_44 = auc_bootstrap\n",
    "print(t_44)"
   ]
  },
  {
   "cell_type": "code",
   "execution_count": null,
   "id": "503d2ac2",
   "metadata": {},
   "outputs": [],
   "source": [
    "del X_train, X_test, y_train, y_test, X_val, y_val,study, optuna_auc"
   ]
  },
  {
   "cell_type": "code",
   "execution_count": null,
   "id": "9e65c2bc",
   "metadata": {},
   "outputs": [],
   "source": [
    "# 45\n",
    "column_to_drop_44 = '현재 주택의 면적(㎡)'"
   ]
  },
  {
   "cell_type": "code",
   "execution_count": null,
   "id": "7f6174d2",
   "metadata": {},
   "outputs": [],
   "source": [
    "if not column_to_drop_44.startswith('Cat_'):\n",
    "    comp_45 = comp_44.drop(column_to_drop_44, axis=1)\n",
    "    X_45 = comp_45.drop('target', axis=1)\n",
    "    y_45 = comp_45['target']\n",
    "else:\n",
    "    comp_45 = comp_44.drop(comp_44.filter(regex='^' + column_to_drop_44).columns, axis=1)\n",
    "    X_45 = comp_45.drop('target', axis=1)\n",
    "    y_45 = comp_45['target']\n",
    "\n",
    "print(X_45.shape)"
   ]
  },
  {
   "cell_type": "code",
   "execution_count": null,
   "id": "2919814f",
   "metadata": {},
   "outputs": [],
   "source": [
    "X_train, X_test, y_train, y_test = train_test_split(X_45, y_45, test_size=0.2, shuffle=True, stratify=y_45, random_state = 0)\n",
    "X_train, X_val, y_train, y_val = train_test_split(X_train, y_train, test_size=0.2, shuffle=True, stratify=y_train, random_state = 0)"
   ]
  },
  {
   "cell_type": "code",
   "execution_count": null,
   "id": "e75d5cee",
   "metadata": {},
   "outputs": [],
   "source": [
    "def objective(trial):\n",
    "    params = {\n",
    "        'n_estimators' :trial.suggest_int('n_estimators', 50, 200),\n",
    "        'learning_rate' :trial.suggest_float('learning_rate',0.01, 0.1,step=0.01),\n",
    "        'max_depth' :trial.suggest_int('max_depth', 1, 10),\n",
    "        'max_leaves': trial.suggest_int('max_leaves', 2, 1024, step=2),\n",
    "        'subsample':trial.suggest_float('subsample', 0.1, 1.0,step=0.1),\n",
    "        'colsample_bytree' :trial.suggest_float('colsample_bytree', 0.1, 1.0,step=0.1),\n",
    "        'gamma' :trial.suggest_int('gamma',1, 10),\n",
    "        'reg_alpha' :trial.suggest_int('reg_alpha', 1, 10),\n",
    "        'reg_lambda' :trial.suggest_int('reg_lambda', 1, 10),\n",
    "        'booster' : trial.suggest_categorical('booster', ['gbtree']),\n",
    "        'objective' : trial.suggest_categorical('objective', ['binary:logistic'])\n",
    "        }\n",
    "        \n",
    "    clf = XGBClassifier(**params,random_state = 0)\n",
    "    clf.fit(X_train, y_train)\n",
    "    clf_proba = clf.predict_proba(X_val)[:, 1]\n",
    "        \n",
    "    AUC_SCORE = roc_auc_score(y_val, clf_proba)\n",
    "    return AUC_SCORE\n",
    "\n",
    "direction = \"maximize\"\n",
    "sampler = optuna.samplers.TPESampler(seed=10)\n",
    "study =  optuna.create_study(direction=direction, sampler=sampler, pruner=optuna.pruners.HyperbandPruner())\n",
    "early_stopping = EarlyStoppingCallback(10, direction=direction)\n",
    "study.optimize(objective, callbacks=[early_stopping], n_trials=200) "
   ]
  },
  {
   "cell_type": "code",
   "execution_count": null,
   "id": "81da3a5c",
   "metadata": {},
   "outputs": [],
   "source": [
    "print(study.best_trial.params)\n",
    "optuna_auc = study.best_trial.value\n",
    "print(optuna_auc)"
   ]
  },
  {
   "cell_type": "code",
   "execution_count": null,
   "id": "b64d72d6",
   "metadata": {},
   "outputs": [],
   "source": [
    "xgb_optuna_45 = XGBClassifier(**study.best_trial.params, random_state = 0)\n",
    "xgb_optuna_45.fit(X_train, y_train)"
   ]
  },
  {
   "cell_type": "code",
   "execution_count": null,
   "id": "c24f05fd",
   "metadata": {},
   "outputs": [],
   "source": [
    "xgb_optuna_proba_45 = xgb_optuna_45.predict_proba(X_test)[:, 1]\n",
    "auc_45 = roc_auc_score(y_test, xgb_optuna_proba_45)\n",
    "print(decimal.Decimal(auc_45).quantize(decimal.Decimal('1.000')))"
   ]
  },
  {
   "cell_type": "code",
   "execution_count": null,
   "id": "4ce72754",
   "metadata": {},
   "outputs": [],
   "source": [
    "X_train = X_train.values\n",
    "y_train = y_train.values"
   ]
  },
  {
   "cell_type": "code",
   "execution_count": null,
   "id": "8bb4d17c",
   "metadata": {},
   "outputs": [],
   "source": [
    "auc_bootstrap = []"
   ]
  },
  {
   "cell_type": "code",
   "execution_count": null,
   "id": "2df55e4c",
   "metadata": {},
   "outputs": [],
   "source": [
    "rs = RandomState(seed = 45)\n",
    "bootstrap_auc(xgb_optuna_45, X_train, y_train, X_test, y_test, nsamples=1000)"
   ]
  },
  {
   "cell_type": "code",
   "execution_count": null,
   "id": "bd38f945",
   "metadata": {},
   "outputs": [],
   "source": [
    "shapiro(auc_bootstrap), np.mean(auc_bootstrap)"
   ]
  },
  {
   "cell_type": "code",
   "execution_count": null,
   "id": "57e6997c",
   "metadata": {},
   "outputs": [],
   "source": [
    "t_45 = auc_bootstrap\n",
    "print(t_45)"
   ]
  },
  {
   "cell_type": "code",
   "execution_count": null,
   "id": "0efec8f5",
   "metadata": {},
   "outputs": [],
   "source": [
    "del X_train, X_test, y_train, y_test, X_val, y_val,study, optuna_auc"
   ]
  },
  {
   "cell_type": "code",
   "execution_count": null,
   "id": "5f83d26e",
   "metadata": {},
   "outputs": [],
   "source": [
    "# 46.\n",
    "column_to_drop_45 = '자산 중 금융자산의 비중'"
   ]
  },
  {
   "cell_type": "code",
   "execution_count": null,
   "id": "e84b853b",
   "metadata": {},
   "outputs": [],
   "source": [
    "if not column_to_drop_45.startswith('Cat_'):\n",
    "    comp_46 = comp_45.drop(column_to_drop_45, axis=1)\n",
    "    X_46 = comp_46.drop('target', axis=1)\n",
    "    y_46 = comp_46['target']\n",
    "else:\n",
    "    comp_46 = comp_45.drop(comp_45.filter(regex='^' + column_to_drop_45).columns, axis=1)\n",
    "    X_46 = comp_46.drop('target', axis=1)\n",
    "    y_46 = comp_46['target']\n",
    "\n",
    "print(X_46.shape)"
   ]
  },
  {
   "cell_type": "code",
   "execution_count": null,
   "id": "1f31bc9f",
   "metadata": {},
   "outputs": [],
   "source": [
    "X_train, X_test, y_train, y_test = train_test_split(X_46, y_46, test_size=0.2, shuffle=True, stratify=y_46, random_state = 0)\n",
    "X_train, X_val, y_train, y_val = train_test_split(X_train, y_train, test_size=0.2, shuffle=True, stratify=y_train, random_state = 0)"
   ]
  },
  {
   "cell_type": "code",
   "execution_count": null,
   "id": "ab8ee306",
   "metadata": {},
   "outputs": [],
   "source": [
    "def objective(trial):\n",
    "    params = {\n",
    "        'n_estimators' :trial.suggest_int('n_estimators', 50, 200),\n",
    "        'learning_rate' :trial.suggest_float('learning_rate',0.01, 0.1,step=0.01),\n",
    "        'max_depth' :trial.suggest_int('max_depth', 1, 10),\n",
    "        'max_leaves': trial.suggest_int('max_leaves', 2, 1024, step=2),\n",
    "        'subsample':trial.suggest_float('subsample', 0.1, 1.0,step=0.1),\n",
    "        'colsample_bytree' :trial.suggest_float('colsample_bytree', 0.1, 1.0,step=0.1),\n",
    "        'gamma' :trial.suggest_int('gamma',1, 10),\n",
    "        'reg_alpha' :trial.suggest_int('reg_alpha', 1, 10),\n",
    "        'reg_lambda' :trial.suggest_int('reg_lambda', 1, 10),\n",
    "        'booster' : trial.suggest_categorical('booster', ['gbtree']),\n",
    "        'objective' : trial.suggest_categorical('objective', ['binary:logistic'])\n",
    "        }\n",
    "        \n",
    "    clf = XGBClassifier(**params,random_state = 0)\n",
    "    clf.fit(X_train, y_train)\n",
    "    clf_proba = clf.predict_proba(X_val)[:, 1]\n",
    "        \n",
    "    AUC_SCORE = roc_auc_score(y_val, clf_proba)\n",
    "    return AUC_SCORE\n",
    "\n",
    "direction = \"maximize\"\n",
    "sampler = optuna.samplers.TPESampler(seed=10)\n",
    "study =  optuna.create_study(direction=direction, sampler=sampler, pruner=optuna.pruners.HyperbandPruner())\n",
    "early_stopping = EarlyStoppingCallback(10, direction=direction)\n",
    "study.optimize(objective, callbacks=[early_stopping], n_trials=200) "
   ]
  },
  {
   "cell_type": "code",
   "execution_count": null,
   "id": "8184a9d7",
   "metadata": {},
   "outputs": [],
   "source": [
    "print(study.best_trial.params)\n",
    "optuna_auc = study.best_trial.value\n",
    "print(optuna_auc)"
   ]
  },
  {
   "cell_type": "code",
   "execution_count": null,
   "id": "f558ddcf",
   "metadata": {},
   "outputs": [],
   "source": [
    "xgb_optuna_46 = XGBClassifier(**study.best_trial.params, random_state = 0)\n",
    "xgb_optuna_46.fit(X_train, y_train)"
   ]
  },
  {
   "cell_type": "code",
   "execution_count": null,
   "id": "9663994f",
   "metadata": {},
   "outputs": [],
   "source": [
    "xgb_optuna_proba_46 = xgb_optuna_46.predict_proba(X_test)[:, 1]\n",
    "auc_46 = roc_auc_score(y_test, xgb_optuna_proba_46)\n",
    "print(decimal.Decimal(auc_46).quantize(decimal.Decimal('1.000')))"
   ]
  },
  {
   "cell_type": "code",
   "execution_count": null,
   "id": "5c6059e8",
   "metadata": {},
   "outputs": [],
   "source": [
    "X_train = X_train.values\n",
    "y_train = y_train.values"
   ]
  },
  {
   "cell_type": "code",
   "execution_count": null,
   "id": "630ecd0d",
   "metadata": {},
   "outputs": [],
   "source": [
    "auc_bootstrap = []"
   ]
  },
  {
   "cell_type": "code",
   "execution_count": null,
   "id": "17cb6180",
   "metadata": {},
   "outputs": [],
   "source": [
    "rs = RandomState(seed = 46)\n",
    "bootstrap_auc(xgb_optuna_46, X_train, y_train, X_test, y_test, nsamples=1000)"
   ]
  },
  {
   "cell_type": "code",
   "execution_count": null,
   "id": "8a435e8a",
   "metadata": {},
   "outputs": [],
   "source": [
    "shapiro(auc_bootstrap), np.mean(auc_bootstrap)"
   ]
  },
  {
   "cell_type": "code",
   "execution_count": null,
   "id": "99a89355",
   "metadata": {},
   "outputs": [],
   "source": [
    "t_46 = auc_bootstrap\n",
    "print(t_46)"
   ]
  },
  {
   "cell_type": "code",
   "execution_count": null,
   "id": "4cecfad6",
   "metadata": {},
   "outputs": [],
   "source": [
    "del X_train, X_test, y_train, y_test, X_val, y_val,study, optuna_auc"
   ]
  },
  {
   "cell_type": "code",
   "execution_count": null,
   "id": "39812853",
   "metadata": {},
   "outputs": [],
   "source": [
    "# 47.\n",
    "column_to_drop_46 = '소득 대비 생활비의 비율'"
   ]
  },
  {
   "cell_type": "code",
   "execution_count": null,
   "id": "ff2f7d7d",
   "metadata": {},
   "outputs": [],
   "source": [
    "if not column_to_drop_46.startswith('Cat_'):\n",
    "    comp_47 = comp_46.drop(column_to_drop_46, axis=1)\n",
    "    X_47 = comp_47.drop('target', axis=1)\n",
    "    y_47 = comp_47['target']\n",
    "else:\n",
    "    comp_47 = comp_46.drop(comp_46.filter(regex='^' + column_to_drop_46).columns, axis=1)\n",
    "    X_47 = comp_47.drop('target', axis=1)\n",
    "    y_47 = comp_47['target']\n",
    "\n",
    "print(X_47.shape)"
   ]
  },
  {
   "cell_type": "code",
   "execution_count": null,
   "id": "cce79242",
   "metadata": {},
   "outputs": [],
   "source": [
    "X_train, X_test, y_train, y_test = train_test_split(X_47, y_47, test_size=0.2, shuffle=True, stratify=y_47, random_state = 0)\n",
    "X_train, X_val, y_train, y_val = train_test_split(X_train, y_train, test_size=0.2, shuffle=True, stratify=y_train, random_state = 0)"
   ]
  },
  {
   "cell_type": "code",
   "execution_count": null,
   "id": "b2e87fac",
   "metadata": {},
   "outputs": [],
   "source": [
    "def objective(trial):\n",
    "    params = {\n",
    "        'n_estimators' :trial.suggest_int('n_estimators', 50, 200),\n",
    "        'learning_rate' :trial.suggest_float('learning_rate',0.01, 0.1,step=0.01),\n",
    "        'max_depth' :trial.suggest_int('max_depth', 1, 10),\n",
    "        'max_leaves': trial.suggest_int('max_leaves', 2, 1024, step=2),\n",
    "        'subsample':trial.suggest_float('subsample', 0.1, 1.0,step=0.1),\n",
    "        'colsample_bytree' :trial.suggest_float('colsample_bytree', 0.1, 1.0,step=0.1),\n",
    "        'gamma' :trial.suggest_int('gamma',1, 10),\n",
    "        'reg_alpha' :trial.suggest_int('reg_alpha', 1, 10),\n",
    "        'reg_lambda' :trial.suggest_int('reg_lambda', 1, 10),\n",
    "        'booster' : trial.suggest_categorical('booster', ['gbtree']),\n",
    "        'objective' : trial.suggest_categorical('objective', ['binary:logistic'])\n",
    "        }\n",
    "        \n",
    "    clf = XGBClassifier(**params,random_state = 0)\n",
    "    clf.fit(X_train, y_train)\n",
    "    clf_proba = clf.predict_proba(X_val)[:, 1]\n",
    "        \n",
    "    AUC_SCORE = roc_auc_score(y_val, clf_proba)\n",
    "    return AUC_SCORE\n",
    "\n",
    "direction = \"maximize\"\n",
    "sampler = optuna.samplers.TPESampler(seed=10)\n",
    "study =  optuna.create_study(direction=direction, sampler=sampler, pruner=optuna.pruners.HyperbandPruner())\n",
    "early_stopping = EarlyStoppingCallback(10, direction=direction)\n",
    "study.optimize(objective, callbacks=[early_stopping], n_trials=200) "
   ]
  },
  {
   "cell_type": "code",
   "execution_count": null,
   "id": "c936a348",
   "metadata": {},
   "outputs": [],
   "source": [
    "print(study.best_trial.params)\n",
    "optuna_auc = study.best_trial.value\n",
    "print(optuna_auc)"
   ]
  },
  {
   "cell_type": "code",
   "execution_count": null,
   "id": "cdbcdd4a",
   "metadata": {},
   "outputs": [],
   "source": [
    "xgb_optuna_47 = XGBClassifier(**study.best_trial.params, random_state = 0)\n",
    "xgb_optuna_47.fit(X_train, y_train)"
   ]
  },
  {
   "cell_type": "code",
   "execution_count": null,
   "id": "9617573e",
   "metadata": {},
   "outputs": [],
   "source": [
    "xgb_optuna_proba_47 = xgb_optuna_47.predict_proba(X_test)[:, 1]\n",
    "auc_47 = roc_auc_score(y_test, xgb_optuna_proba_47)\n",
    "print(decimal.Decimal(auc_47).quantize(decimal.Decimal('1.000')))"
   ]
  },
  {
   "cell_type": "code",
   "execution_count": null,
   "id": "87c13ec0",
   "metadata": {},
   "outputs": [],
   "source": [
    "X_train = X_train.values\n",
    "y_train = y_train.values"
   ]
  },
  {
   "cell_type": "code",
   "execution_count": null,
   "id": "198a650a",
   "metadata": {},
   "outputs": [],
   "source": [
    "auc_bootstrap = []"
   ]
  },
  {
   "cell_type": "code",
   "execution_count": null,
   "id": "39b53048",
   "metadata": {},
   "outputs": [],
   "source": [
    "rs = RandomState(seed = 47)\n",
    "bootstrap_auc(xgb_optuna_47, X_train, y_train, X_test, y_test, nsamples=1000)"
   ]
  },
  {
   "cell_type": "code",
   "execution_count": null,
   "id": "f5d4ef06",
   "metadata": {},
   "outputs": [],
   "source": [
    "shapiro(auc_bootstrap), np.mean(auc_bootstrap)"
   ]
  },
  {
   "cell_type": "code",
   "execution_count": null,
   "id": "6087c01e",
   "metadata": {},
   "outputs": [],
   "source": [
    "t_47 = auc_bootstrap\n",
    "print(t_47)"
   ]
  },
  {
   "cell_type": "code",
   "execution_count": null,
   "id": "ab22d2aa",
   "metadata": {},
   "outputs": [],
   "source": [
    "del X_train, X_test, y_train, y_test, X_val, y_val,study, optuna_auc"
   ]
  },
  {
   "cell_type": "code",
   "execution_count": null,
   "id": "9af2ada8",
   "metadata": {},
   "outputs": [],
   "source": [
    "# 48\n",
    "column_to_drop_47 = '장기부채부담지표'"
   ]
  },
  {
   "cell_type": "code",
   "execution_count": null,
   "id": "9291cd1c",
   "metadata": {},
   "outputs": [],
   "source": [
    "if not column_to_drop_47.startswith('Cat_'):\n",
    "    comp_48 = comp_47.drop(column_to_drop_47, axis=1)\n",
    "    X_48 = comp_48.drop('target', axis=1)\n",
    "    y_48 = comp_48['target']\n",
    "else:\n",
    "    comp_48 = comp_47.drop(comp_47.filter(regex='^' + column_to_drop_47).columns, axis=1)\n",
    "    X_48 = comp_48.drop('target', axis=1)\n",
    "    y_48 = comp_48['target']\n",
    "\n",
    "print(X_48.shape)"
   ]
  },
  {
   "cell_type": "code",
   "execution_count": null,
   "id": "c69f81be",
   "metadata": {},
   "outputs": [],
   "source": [
    "X_train, X_test, y_train, y_test = train_test_split(X_48, y_48, test_size=0.2, shuffle=True, stratify=y_48, random_state = 0)\n",
    "X_train, X_val, y_train, y_val = train_test_split(X_train, y_train, test_size=0.2, shuffle=True, stratify=y_train, random_state = 0)"
   ]
  },
  {
   "cell_type": "code",
   "execution_count": null,
   "id": "896fe9a4",
   "metadata": {},
   "outputs": [],
   "source": [
    "def objective(trial):\n",
    "    params = {\n",
    "        'n_estimators' :trial.suggest_int('n_estimators', 50, 200),\n",
    "        'learning_rate' :trial.suggest_float('learning_rate',0.01, 0.1,step=0.01),\n",
    "        'max_depth' :trial.suggest_int('max_depth', 1, 10),\n",
    "        'max_leaves': trial.suggest_int('max_leaves', 2, 1024, step=2),\n",
    "        'subsample':trial.suggest_float('subsample', 0.1, 1.0,step=0.1),\n",
    "        'colsample_bytree' :trial.suggest_float('colsample_bytree', 0.1, 1.0,step=0.1),\n",
    "        'gamma' :trial.suggest_int('gamma',1, 10),\n",
    "        'reg_alpha' :trial.suggest_int('reg_alpha', 1, 10),\n",
    "        'reg_lambda' :trial.suggest_int('reg_lambda', 1, 10),\n",
    "        'booster' : trial.suggest_categorical('booster', ['gbtree']),\n",
    "        'objective' : trial.suggest_categorical('objective', ['binary:logistic'])\n",
    "        }\n",
    "        \n",
    "    clf = XGBClassifier(**params,random_state = 0)\n",
    "    clf.fit(X_train, y_train)\n",
    "    clf_proba = clf.predict_proba(X_val)[:, 1]\n",
    "        \n",
    "    AUC_SCORE = roc_auc_score(y_val, clf_proba)\n",
    "    return AUC_SCORE\n",
    "\n",
    "direction = \"maximize\"\n",
    "sampler = optuna.samplers.TPESampler(seed=10)\n",
    "study =  optuna.create_study(direction=direction, sampler=sampler, pruner=optuna.pruners.HyperbandPruner())\n",
    "early_stopping = EarlyStoppingCallback(10, direction=direction)\n",
    "study.optimize(objective, callbacks=[early_stopping], n_trials=200) "
   ]
  },
  {
   "cell_type": "code",
   "execution_count": null,
   "id": "9d7b2c6a",
   "metadata": {},
   "outputs": [],
   "source": [
    "print(study.best_trial.params)\n",
    "optuna_auc = study.best_trial.value\n",
    "print(optuna_auc)"
   ]
  },
  {
   "cell_type": "code",
   "execution_count": null,
   "id": "de380059",
   "metadata": {},
   "outputs": [],
   "source": [
    "xgb_optuna_48 = XGBClassifier(**study.best_trial.params, random_state = 0)\n",
    "xgb_optuna_48.fit(X_train, y_train)"
   ]
  },
  {
   "cell_type": "code",
   "execution_count": null,
   "id": "163ce48d",
   "metadata": {},
   "outputs": [],
   "source": [
    "xgb_optuna_proba_48 = xgb_optuna_48.predict_proba(X_test)[:, 1]\n",
    "auc_48 = roc_auc_score(y_test, xgb_optuna_proba_48)\n",
    "print(decimal.Decimal(auc_48).quantize(decimal.Decimal('1.000')))"
   ]
  },
  {
   "cell_type": "code",
   "execution_count": null,
   "id": "a5565211",
   "metadata": {},
   "outputs": [],
   "source": [
    "X_train = X_train.values\n",
    "y_train = y_train.values"
   ]
  },
  {
   "cell_type": "code",
   "execution_count": null,
   "id": "86f70617",
   "metadata": {},
   "outputs": [],
   "source": [
    "auc_bootstrap = []"
   ]
  },
  {
   "cell_type": "code",
   "execution_count": null,
   "id": "1a03cc13",
   "metadata": {},
   "outputs": [],
   "source": [
    "rs = RandomState(seed = 48)\n",
    "bootstrap_auc(xgb_optuna_48, X_train, y_train, X_test, y_test, nsamples=1000)"
   ]
  },
  {
   "cell_type": "code",
   "execution_count": null,
   "id": "c1e0b59e",
   "metadata": {},
   "outputs": [],
   "source": [
    "shapiro(auc_bootstrap), np.mean(auc_bootstrap)"
   ]
  },
  {
   "cell_type": "code",
   "execution_count": null,
   "id": "5815e797",
   "metadata": {},
   "outputs": [],
   "source": [
    "t_48 = auc_bootstrap\n",
    "print(t_48)"
   ]
  },
  {
   "cell_type": "code",
   "execution_count": null,
   "id": "222a4ed9",
   "metadata": {},
   "outputs": [],
   "source": [
    "del X_train, X_test, y_train, y_test, X_val, y_val,study, optuna_auc"
   ]
  },
  {
   "cell_type": "code",
   "execution_count": null,
   "id": "e155c568",
   "metadata": {},
   "outputs": [],
   "source": [
    "# 49\n",
    "column_to_drop_48 = '소득 대비 주택 임대료의 비율'"
   ]
  },
  {
   "cell_type": "code",
   "execution_count": null,
   "id": "26b02dfd",
   "metadata": {},
   "outputs": [],
   "source": [
    "if not column_to_drop_48.startswith('Cat_'):\n",
    "    comp_49 = comp_48.drop(column_to_drop_48, axis=1)\n",
    "    X_49 = comp_49.drop('target', axis=1)\n",
    "    y_49 = comp_49['target']\n",
    "else:\n",
    "    comp_49 = comp_48.drop(comp_48.filter(regex='^' + column_to_drop_48).columns, axis=1)\n",
    "    X_49 = comp_49.drop('target', axis=1)\n",
    "    y_49 = comp_49['target']\n",
    "\n",
    "print(X_49.shape)"
   ]
  },
  {
   "cell_type": "code",
   "execution_count": null,
   "id": "b7af49e8",
   "metadata": {},
   "outputs": [],
   "source": [
    "X_train, X_test, y_train, y_test = train_test_split(X_49, y_49, test_size=0.2, shuffle=True, stratify=y_49, random_state = 0)\n",
    "X_train, X_val, y_train, y_val = train_test_split(X_train, y_train, test_size=0.2, shuffle=True, stratify=y_train, random_state = 0)"
   ]
  },
  {
   "cell_type": "code",
   "execution_count": null,
   "id": "c4c906cd",
   "metadata": {},
   "outputs": [],
   "source": [
    "def objective(trial):\n",
    "    params = {\n",
    "        'n_estimators' :trial.suggest_int('n_estimators', 50, 200),\n",
    "        'learning_rate' :trial.suggest_float('learning_rate',0.01, 0.1,step=0.01),\n",
    "        'max_depth' :trial.suggest_int('max_depth', 1, 10),\n",
    "        'max_leaves': trial.suggest_int('max_leaves', 2, 1024, step=2),\n",
    "        'subsample':trial.suggest_float('subsample', 0.1, 1.0,step=0.1),\n",
    "        'colsample_bytree' :trial.suggest_float('colsample_bytree', 0.1, 1.0,step=0.1),\n",
    "        'gamma' :trial.suggest_int('gamma',1, 10),\n",
    "        'reg_alpha' :trial.suggest_int('reg_alpha', 1, 10),\n",
    "        'reg_lambda' :trial.suggest_int('reg_lambda', 1, 10),\n",
    "        'booster' : trial.suggest_categorical('booster', ['gbtree']),\n",
    "        'objective' : trial.suggest_categorical('objective', ['binary:logistic'])\n",
    "        }\n",
    "        \n",
    "    clf = XGBClassifier(**params,random_state = 0)\n",
    "    clf.fit(X_train, y_train)\n",
    "    clf_proba = clf.predict_proba(X_val)[:, 1]\n",
    "        \n",
    "    AUC_SCORE = roc_auc_score(y_val, clf_proba)\n",
    "    return AUC_SCORE\n",
    "\n",
    "direction = \"maximize\"\n",
    "sampler = optuna.samplers.TPESampler(seed=10)\n",
    "study =  optuna.create_study(direction=direction, sampler=sampler, pruner=optuna.pruners.HyperbandPruner())\n",
    "early_stopping = EarlyStoppingCallback(10, direction=direction)\n",
    "study.optimize(objective, callbacks=[early_stopping], n_trials=200) "
   ]
  },
  {
   "cell_type": "code",
   "execution_count": null,
   "id": "c1320a7f",
   "metadata": {},
   "outputs": [],
   "source": [
    "print(study.best_trial.params)\n",
    "optuna_auc = study.best_trial.value\n",
    "print(optuna_auc)"
   ]
  },
  {
   "cell_type": "code",
   "execution_count": null,
   "id": "b4286d05",
   "metadata": {},
   "outputs": [],
   "source": [
    "xgb_optuna_49 = XGBClassifier(**study.best_trial.params, random_state = 0)\n",
    "xgb_optuna_49.fit(X_train, y_train)"
   ]
  },
  {
   "cell_type": "code",
   "execution_count": null,
   "id": "c57223e4",
   "metadata": {},
   "outputs": [],
   "source": [
    "xgb_optuna_proba_49 = xgb_optuna_49.predict_proba(X_test)[:, 1]\n",
    "auc_49 = roc_auc_score(y_test, xgb_optuna_proba_49)\n",
    "print(decimal.Decimal(auc_49).quantize(decimal.Decimal('1.000')))"
   ]
  },
  {
   "cell_type": "code",
   "execution_count": null,
   "id": "75274d7c",
   "metadata": {},
   "outputs": [],
   "source": [
    "X_train = X_train.values\n",
    "y_train = y_train.values"
   ]
  },
  {
   "cell_type": "code",
   "execution_count": null,
   "id": "f0c30132",
   "metadata": {},
   "outputs": [],
   "source": [
    "auc_bootstrap = []"
   ]
  },
  {
   "cell_type": "code",
   "execution_count": null,
   "id": "28c1de93",
   "metadata": {},
   "outputs": [],
   "source": [
    "rs = RandomState(seed = 49)\n",
    "bootstrap_auc(xgb_optuna_49, X_train, y_train, X_test, y_test, nsamples=1000)"
   ]
  },
  {
   "cell_type": "code",
   "execution_count": null,
   "id": "80cf13c2",
   "metadata": {},
   "outputs": [],
   "source": [
    "shapiro(auc_bootstrap), np.mean(auc_bootstrap)"
   ]
  },
  {
   "cell_type": "code",
   "execution_count": null,
   "id": "27686967",
   "metadata": {},
   "outputs": [],
   "source": [
    "t_49 = auc_bootstrap\n",
    "print(t_49)"
   ]
  },
  {
   "cell_type": "code",
   "execution_count": null,
   "id": "4fad734a",
   "metadata": {},
   "outputs": [],
   "source": [
    "del X_train, X_test, y_train, y_test, X_val, y_val,study, optuna_auc"
   ]
  },
  {
   "cell_type": "code",
   "execution_count": null,
   "id": "9e05515e",
   "metadata": {},
   "outputs": [],
   "source": [
    "# 50\n",
    "column_to_drop_49 = '가구주 나이'"
   ]
  },
  {
   "cell_type": "code",
   "execution_count": null,
   "id": "869dae9d",
   "metadata": {},
   "outputs": [],
   "source": [
    "if not column_to_drop_49.startswith('Cat_'):\n",
    "    comp_50 = comp_49.drop(column_to_drop_49, axis=1)\n",
    "    X_50 = comp_50.drop('target', axis=1)\n",
    "    y_50 = comp_50['target']\n",
    "else:\n",
    "    comp_50 = comp_49.drop(comp_49.filter(regex='^' + column_to_drop_49).columns, axis=1)\n",
    "    X_50 = comp_50.drop('target', axis=1)\n",
    "    y_50 = comp_50['target']\n",
    "\n",
    "print(X_50.shape)"
   ]
  },
  {
   "cell_type": "code",
   "execution_count": null,
   "id": "7d777fa9",
   "metadata": {},
   "outputs": [],
   "source": [
    "X_train, X_test, y_train, y_test = train_test_split(X_50, y_50, test_size=0.2, shuffle=True, stratify=y_50, random_state = 0)\n",
    "X_train, X_val, y_train, y_val = train_test_split(X_train, y_train, test_size=0.2, shuffle=True, stratify=y_train, random_state = 0)"
   ]
  },
  {
   "cell_type": "code",
   "execution_count": null,
   "id": "d59ea5da",
   "metadata": {},
   "outputs": [],
   "source": [
    "def objective(trial):\n",
    "    params = {\n",
    "        'n_estimators' :trial.suggest_int('n_estimators', 50, 200),\n",
    "        'learning_rate' :trial.suggest_float('learning_rate',0.01, 0.1,step=0.01),\n",
    "        'max_depth' :trial.suggest_int('max_depth', 1, 10),\n",
    "        'max_leaves': trial.suggest_int('max_leaves', 2, 1024, step=2),\n",
    "        'subsample':trial.suggest_float('subsample', 0.1, 1.0,step=0.1),\n",
    "        'colsample_bytree' :trial.suggest_float('colsample_bytree', 0.1, 1.0,step=0.1),\n",
    "        'gamma' :trial.suggest_int('gamma',1, 10),\n",
    "        'reg_alpha' :trial.suggest_int('reg_alpha', 1, 10),\n",
    "        'reg_lambda' :trial.suggest_int('reg_lambda', 1, 10),\n",
    "        'booster' : trial.suggest_categorical('booster', ['gbtree']),\n",
    "        'objective' : trial.suggest_categorical('objective', ['binary:logistic'])\n",
    "        }\n",
    "        \n",
    "    clf = XGBClassifier(**params,random_state = 0)\n",
    "    clf.fit(X_train, y_train)\n",
    "    clf_proba = clf.predict_proba(X_val)[:, 1]\n",
    "        \n",
    "    AUC_SCORE = roc_auc_score(y_val, clf_proba)\n",
    "    return AUC_SCORE\n",
    "\n",
    "direction = \"maximize\"\n",
    "sampler = optuna.samplers.TPESampler(seed=10)\n",
    "study =  optuna.create_study(direction=direction, sampler=sampler, pruner=optuna.pruners.HyperbandPruner())\n",
    "early_stopping = EarlyStoppingCallback(10, direction=direction)\n",
    "study.optimize(objective, callbacks=[early_stopping], n_trials=200) "
   ]
  },
  {
   "cell_type": "code",
   "execution_count": null,
   "id": "e7f00886",
   "metadata": {},
   "outputs": [],
   "source": [
    "print(study.best_trial.params)\n",
    "optuna_auc = study.best_trial.value\n",
    "print(optuna_auc)"
   ]
  },
  {
   "cell_type": "code",
   "execution_count": null,
   "id": "14d06629",
   "metadata": {},
   "outputs": [],
   "source": [
    "xgb_optuna_50 = XGBClassifier(**study.best_trial.params, random_state = 0)\n",
    "xgb_optuna_50.fit(X_train, y_train)"
   ]
  },
  {
   "cell_type": "code",
   "execution_count": null,
   "id": "293021a9",
   "metadata": {},
   "outputs": [],
   "source": [
    "xgb_optuna_proba_50 = xgb_optuna_50.predict_proba(X_test)[:, 1]\n",
    "auc_50 = roc_auc_score(y_test, xgb_optuna_proba_50)\n",
    "print(decimal.Decimal(auc_50).quantize(decimal.Decimal('1.000')))"
   ]
  },
  {
   "cell_type": "code",
   "execution_count": null,
   "id": "f6e8ced5",
   "metadata": {},
   "outputs": [],
   "source": [
    "X_train = X_train.values\n",
    "y_train = y_train.values"
   ]
  },
  {
   "cell_type": "code",
   "execution_count": null,
   "id": "92993202",
   "metadata": {},
   "outputs": [],
   "source": [
    "auc_bootstrap = []"
   ]
  },
  {
   "cell_type": "code",
   "execution_count": null,
   "id": "876175fd",
   "metadata": {},
   "outputs": [],
   "source": [
    "rs = RandomState(seed = 50)\n",
    "bootstrap_auc(xgb_optuna_50, X_train, y_train, X_test, y_test, nsamples=1000)"
   ]
  },
  {
   "cell_type": "code",
   "execution_count": null,
   "id": "56edbd2e",
   "metadata": {},
   "outputs": [],
   "source": [
    "shapiro(auc_bootstrap), np.mean(auc_bootstrap)"
   ]
  },
  {
   "cell_type": "code",
   "execution_count": null,
   "id": "79f3cfbf",
   "metadata": {},
   "outputs": [],
   "source": [
    "t_50 = auc_bootstrap\n",
    "print(t_50)"
   ]
  },
  {
   "cell_type": "code",
   "execution_count": null,
   "id": "6147b5ad",
   "metadata": {},
   "outputs": [],
   "source": [
    "del X_train, X_test, y_train, y_test, X_val, y_val,study, optuna_auc"
   ]
  },
  {
   "cell_type": "code",
   "execution_count": null,
   "id": "6fbb5514",
   "metadata": {},
   "outputs": [],
   "source": [
    "# 51\n",
    "column_to_drop_50 = 'Cat_현재 거주 지역'"
   ]
  },
  {
   "cell_type": "code",
   "execution_count": null,
   "id": "ad9f086c",
   "metadata": {},
   "outputs": [],
   "source": [
    "if not column_to_drop_50.startswith('Cat_'):\n",
    "    comp_51 = comp_50.drop(column_to_drop_50, axis=1)\n",
    "    X_51 = comp_51.drop('target', axis=1)\n",
    "    y_51 = comp_51['target']\n",
    "else:\n",
    "    comp_51 = comp_50.drop(comp_50.filter(regex='^' + column_to_drop_50).columns, axis=1)\n",
    "    X_51 = comp_51.drop('target', axis=1)\n",
    "    y_51 = comp_51['target']\n",
    "\n",
    "print(X_51.shape)"
   ]
  },
  {
   "cell_type": "code",
   "execution_count": null,
   "id": "fe16354a",
   "metadata": {},
   "outputs": [],
   "source": [
    "X_train, X_test, y_train, y_test = train_test_split(X_51, y_51, test_size=0.2, shuffle=True, stratify=y_51, random_state = 0)\n",
    "X_train, X_val, y_train, y_val = train_test_split(X_train, y_train, test_size=0.2, shuffle=True, stratify=y_train, random_state = 0)"
   ]
  },
  {
   "cell_type": "code",
   "execution_count": null,
   "id": "6f27a9bb",
   "metadata": {},
   "outputs": [],
   "source": [
    "def objective(trial):\n",
    "    params = {\n",
    "        'n_estimators' :trial.suggest_int('n_estimators', 50, 200),\n",
    "        'learning_rate' :trial.suggest_float('learning_rate',0.01, 0.1,step=0.01),\n",
    "        'max_depth' :trial.suggest_int('max_depth', 1, 10),\n",
    "        'max_leaves': trial.suggest_int('max_leaves', 2, 1024, step=2),\n",
    "        'subsample':trial.suggest_float('subsample', 0.1, 1.0,step=0.1),\n",
    "        'colsample_bytree' :trial.suggest_float('colsample_bytree', 0.1, 1.0,step=0.1),\n",
    "        'gamma' :trial.suggest_int('gamma',1, 10),\n",
    "        'reg_alpha' :trial.suggest_int('reg_alpha', 1, 10),\n",
    "        'reg_lambda' :trial.suggest_int('reg_lambda', 1, 10),\n",
    "        'booster' : trial.suggest_categorical('booster', ['gbtree']),\n",
    "        'objective' : trial.suggest_categorical('objective', ['binary:logistic'])\n",
    "        }\n",
    "        \n",
    "    clf = XGBClassifier(**params,random_state = 0)\n",
    "    clf.fit(X_train, y_train)\n",
    "    clf_proba = clf.predict_proba(X_val)[:, 1]\n",
    "        \n",
    "    AUC_SCORE = roc_auc_score(y_val, clf_proba)\n",
    "    return AUC_SCORE\n",
    "\n",
    "direction = \"maximize\"\n",
    "sampler = optuna.samplers.TPESampler(seed=10)\n",
    "study =  optuna.create_study(direction=direction, sampler=sampler, pruner=optuna.pruners.HyperbandPruner())\n",
    "early_stopping = EarlyStoppingCallback(10, direction=direction)\n",
    "study.optimize(objective, callbacks=[early_stopping], n_trials=200) "
   ]
  },
  {
   "cell_type": "code",
   "execution_count": null,
   "id": "84200111",
   "metadata": {},
   "outputs": [],
   "source": [
    "print(study.best_trial.params)\n",
    "optuna_auc = study.best_trial.value\n",
    "print(optuna_auc)"
   ]
  },
  {
   "cell_type": "code",
   "execution_count": null,
   "id": "5b4029b0",
   "metadata": {},
   "outputs": [],
   "source": [
    "xgb_optuna_51 = XGBClassifier(**study.best_trial.params, random_state = 0)\n",
    "xgb_optuna_51.fit(X_train, y_train)"
   ]
  },
  {
   "cell_type": "code",
   "execution_count": null,
   "id": "8805ca88",
   "metadata": {},
   "outputs": [],
   "source": [
    "xgb_optuna_proba_51 = xgb_optuna_51.predict_proba(X_test)[:, 1]\n",
    "auc_51 = roc_auc_score(y_test, xgb_optuna_proba_51)\n",
    "print(decimal.Decimal(auc_51).quantize(decimal.Decimal('1.000')))"
   ]
  },
  {
   "cell_type": "code",
   "execution_count": null,
   "id": "233cc579",
   "metadata": {},
   "outputs": [],
   "source": [
    "X_train = X_train.values\n",
    "y_train = y_train.values"
   ]
  },
  {
   "cell_type": "code",
   "execution_count": null,
   "id": "73321c58",
   "metadata": {},
   "outputs": [],
   "source": [
    "auc_bootstrap = []"
   ]
  },
  {
   "cell_type": "code",
   "execution_count": null,
   "id": "77cb2117",
   "metadata": {},
   "outputs": [],
   "source": [
    "rs = RandomState(seed = 51)\n",
    "bootstrap_auc(xgb_optuna_51, X_train, y_train, X_test, y_test, nsamples=1000)"
   ]
  },
  {
   "cell_type": "code",
   "execution_count": null,
   "id": "89e8eb04",
   "metadata": {},
   "outputs": [],
   "source": [
    "shapiro(auc_bootstrap), np.mean(auc_bootstrap)"
   ]
  },
  {
   "cell_type": "code",
   "execution_count": null,
   "id": "e88c3969",
   "metadata": {},
   "outputs": [],
   "source": [
    "t_51 = auc_bootstrap\n",
    "print(t_51)"
   ]
  },
  {
   "cell_type": "code",
   "execution_count": null,
   "id": "0a8c76b0",
   "metadata": {},
   "outputs": [],
   "source": [
    "del X_train, X_test, y_train, y_test, X_val, y_val,study, optuna_auc"
   ]
  },
  {
   "cell_type": "code",
   "execution_count": null,
   "id": "855a99d1",
   "metadata": {},
   "outputs": [],
   "source": [
    "# 52\n",
    "column_to_drop_51 = '총 이사 횟수'"
   ]
  },
  {
   "cell_type": "code",
   "execution_count": null,
   "id": "1ce484e4",
   "metadata": {},
   "outputs": [],
   "source": [
    "if not column_to_drop_51.startswith('Cat_'):\n",
    "    comp_52 = comp_51.drop(column_to_drop_51, axis=1)\n",
    "    X_52 = comp_52.drop('target', axis=1)\n",
    "    y_52 = comp_52['target']\n",
    "else:\n",
    "    comp_52 = comp_51.drop(comp_51.filter(regex='^' + column_to_drop_51).columns, axis=1)\n",
    "    X_52 = comp_52.drop('target', axis=1)\n",
    "    y_52 = comp_52['target']\n",
    "\n",
    "print(X_52.shape)"
   ]
  },
  {
   "cell_type": "code",
   "execution_count": null,
   "id": "a6d390c7",
   "metadata": {},
   "outputs": [],
   "source": [
    "X_train, X_test, y_train, y_test = train_test_split(X_52, y_52, test_size=0.2, shuffle=True, stratify=y_52, random_state = 0)\n",
    "X_train, X_val, y_train, y_val = train_test_split(X_train, y_train, test_size=0.2, shuffle=True, stratify=y_train, random_state = 0)"
   ]
  },
  {
   "cell_type": "code",
   "execution_count": null,
   "id": "fbbed6a2",
   "metadata": {},
   "outputs": [],
   "source": [
    "def objective(trial):\n",
    "    params = {\n",
    "        'n_estimators' :trial.suggest_int('n_estimators', 50, 200),\n",
    "        'learning_rate' :trial.suggest_float('learning_rate',0.01, 0.1,step=0.01),\n",
    "        'max_depth' :trial.suggest_int('max_depth', 1, 10),\n",
    "        'max_leaves': trial.suggest_int('max_leaves', 2, 1024, step=2),\n",
    "        'subsample':trial.suggest_float('subsample', 0.1, 1.0,step=0.1),\n",
    "        'colsample_bytree' :trial.suggest_float('colsample_bytree', 0.1, 1.0,step=0.1),\n",
    "        'gamma' :trial.suggest_int('gamma',1, 10),\n",
    "        'reg_alpha' :trial.suggest_int('reg_alpha', 1, 10),\n",
    "        'reg_lambda' :trial.suggest_int('reg_lambda', 1, 10),\n",
    "        'booster' : trial.suggest_categorical('booster', ['gbtree']),\n",
    "        'objective' : trial.suggest_categorical('objective', ['binary:logistic'])\n",
    "        }\n",
    "        \n",
    "    clf = XGBClassifier(**params,random_state = 0)\n",
    "    clf.fit(X_train, y_train)\n",
    "    clf_proba = clf.predict_proba(X_val)[:, 1]\n",
    "        \n",
    "    AUC_SCORE = roc_auc_score(y_val, clf_proba)\n",
    "    return AUC_SCORE\n",
    "\n",
    "direction = \"maximize\"\n",
    "sampler = optuna.samplers.TPESampler(seed=10)\n",
    "study =  optuna.create_study(direction=direction, sampler=sampler, pruner=optuna.pruners.HyperbandPruner())\n",
    "early_stopping = EarlyStoppingCallback(10, direction=direction)\n",
    "study.optimize(objective, callbacks=[early_stopping], n_trials=200) "
   ]
  },
  {
   "cell_type": "code",
   "execution_count": null,
   "id": "5423f7b4",
   "metadata": {},
   "outputs": [],
   "source": [
    "print(study.best_trial.params)\n",
    "optuna_auc = study.best_trial.value\n",
    "print(optuna_auc)"
   ]
  },
  {
   "cell_type": "code",
   "execution_count": null,
   "id": "aa30c1f6",
   "metadata": {},
   "outputs": [],
   "source": [
    "xgb_optuna_52 = XGBClassifier(**study.best_trial.params, random_state = 0)\n",
    "xgb_optuna_52.fit(X_train, y_train)"
   ]
  },
  {
   "cell_type": "code",
   "execution_count": null,
   "id": "05b135aa",
   "metadata": {},
   "outputs": [],
   "source": [
    "xgb_optuna_proba_52 = xgb_optuna_52.predict_proba(X_test)[:, 1]\n",
    "auc_52 = roc_auc_score(y_test, xgb_optuna_proba_52)\n",
    "print(decimal.Decimal(auc_52).quantize(decimal.Decimal('1.000')))"
   ]
  },
  {
   "cell_type": "code",
   "execution_count": null,
   "id": "4bc24252",
   "metadata": {},
   "outputs": [],
   "source": [
    "X_train = X_train.values\n",
    "y_train = y_train.values"
   ]
  },
  {
   "cell_type": "code",
   "execution_count": null,
   "id": "d8508b20",
   "metadata": {},
   "outputs": [],
   "source": [
    "auc_bootstrap = []"
   ]
  },
  {
   "cell_type": "code",
   "execution_count": null,
   "id": "67bde404",
   "metadata": {},
   "outputs": [],
   "source": [
    "rs = RandomState(seed = 52)\n",
    "bootstrap_auc(xgb_optuna_52, X_train, y_train, X_test, y_test, nsamples=1000)"
   ]
  },
  {
   "cell_type": "code",
   "execution_count": null,
   "id": "c7276c80",
   "metadata": {},
   "outputs": [],
   "source": [
    "shapiro(auc_bootstrap), np.mean(auc_bootstrap)"
   ]
  },
  {
   "cell_type": "code",
   "execution_count": null,
   "id": "397a3308",
   "metadata": {},
   "outputs": [],
   "source": [
    "t_52 = auc_bootstrap\n",
    "print(t_52)"
   ]
  },
  {
   "cell_type": "code",
   "execution_count": null,
   "id": "a25b3089",
   "metadata": {},
   "outputs": [],
   "source": [
    "del X_train, X_test, y_train, y_test, X_val, y_val,study, optuna_auc"
   ]
  },
  {
   "cell_type": "code",
   "execution_count": null,
   "id": "fd3858af",
   "metadata": {},
   "outputs": [],
   "source": [
    "# 53\n",
    "column_to_drop_52 = 'Cat_주택 보유 의식'"
   ]
  },
  {
   "cell_type": "code",
   "execution_count": null,
   "id": "b9cad9e3",
   "metadata": {},
   "outputs": [],
   "source": [
    "if not column_to_drop_52.startswith('Cat_'):\n",
    "    comp_53 = comp_52.drop(column_to_drop_52, axis=1)\n",
    "    X_53 = comp_53.drop('target', axis=1)\n",
    "    y_53 = comp_53['target']\n",
    "else:\n",
    "    comp_53 = comp_52.drop(comp_52.filter(regex='^' + column_to_drop_52).columns, axis=1)\n",
    "    X_53 = comp_53.drop('target', axis=1)\n",
    "    y_53 = comp_53['target']\n",
    "\n",
    "print(X_53.shape)"
   ]
  },
  {
   "cell_type": "code",
   "execution_count": null,
   "id": "e17565d9",
   "metadata": {},
   "outputs": [],
   "source": [
    "X_train, X_test, y_train, y_test = train_test_split(X_53, y_53, test_size=0.2, shuffle=True, stratify=y_53, random_state = 0)\n",
    "X_train, X_val, y_train, y_val = train_test_split(X_train, y_train, test_size=0.2, shuffle=True, stratify=y_train, random_state = 0)"
   ]
  },
  {
   "cell_type": "code",
   "execution_count": null,
   "id": "c479cb72",
   "metadata": {},
   "outputs": [],
   "source": [
    "def objective(trial):\n",
    "    params = {\n",
    "        'n_estimators' :trial.suggest_int('n_estimators', 50, 200),\n",
    "        'learning_rate' :trial.suggest_float('learning_rate',0.01, 0.1,step=0.01),\n",
    "        'max_depth' :trial.suggest_int('max_depth', 1, 10),\n",
    "        'max_leaves': trial.suggest_int('max_leaves', 2, 1024, step=2),\n",
    "        'subsample':trial.suggest_float('subsample', 0.1, 1.0,step=0.1),\n",
    "        'colsample_bytree' :trial.suggest_float('colsample_bytree', 0.1, 1.0,step=0.1),\n",
    "        'gamma' :trial.suggest_int('gamma',1, 10),\n",
    "        'reg_alpha' :trial.suggest_int('reg_alpha', 1, 10),\n",
    "        'reg_lambda' :trial.suggest_int('reg_lambda', 1, 10),\n",
    "        'booster' : trial.suggest_categorical('booster', ['gbtree']),\n",
    "        'objective' : trial.suggest_categorical('objective', ['binary:logistic'])\n",
    "        }\n",
    "        \n",
    "    clf = XGBClassifier(**params,random_state = 0)\n",
    "    clf.fit(X_train, y_train)\n",
    "    clf_proba = clf.predict_proba(X_val)[:, 1]\n",
    "        \n",
    "    AUC_SCORE = roc_auc_score(y_val, clf_proba)\n",
    "    return AUC_SCORE\n",
    "\n",
    "direction = \"maximize\"\n",
    "sampler = optuna.samplers.TPESampler(seed=10)\n",
    "study =  optuna.create_study(direction=direction, sampler=sampler, pruner=optuna.pruners.HyperbandPruner())\n",
    "early_stopping = EarlyStoppingCallback(10, direction=direction)\n",
    "study.optimize(objective, callbacks=[early_stopping], n_trials=200) "
   ]
  },
  {
   "cell_type": "code",
   "execution_count": null,
   "id": "c397d1b7",
   "metadata": {},
   "outputs": [],
   "source": [
    "print(study.best_trial.params)\n",
    "optuna_auc = study.best_trial.value\n",
    "print(optuna_auc)"
   ]
  },
  {
   "cell_type": "code",
   "execution_count": null,
   "id": "69ddda92",
   "metadata": {},
   "outputs": [],
   "source": [
    "xgb_optuna_53 = XGBClassifier(**study.best_trial.params, random_state = 0)\n",
    "xgb_optuna_53.fit(X_train, y_train)"
   ]
  },
  {
   "cell_type": "code",
   "execution_count": null,
   "id": "e2d917c1",
   "metadata": {},
   "outputs": [],
   "source": [
    "xgb_optuna_proba_53 = xgb_optuna_53.predict_proba(X_test)[:, 1]\n",
    "auc_53 = roc_auc_score(y_test, xgb_optuna_proba_53)\n",
    "print(decimal.Decimal(auc_53).quantize(decimal.Decimal('1.000')))"
   ]
  },
  {
   "cell_type": "code",
   "execution_count": null,
   "id": "80f946d6",
   "metadata": {},
   "outputs": [],
   "source": [
    "X_train = X_train.values\n",
    "y_train = y_train.values"
   ]
  },
  {
   "cell_type": "code",
   "execution_count": null,
   "id": "63bfc0f0",
   "metadata": {},
   "outputs": [],
   "source": [
    "auc_bootstrap = []"
   ]
  },
  {
   "cell_type": "code",
   "execution_count": null,
   "id": "33955494",
   "metadata": {},
   "outputs": [],
   "source": [
    "rs = RandomState(seed = 53)\n",
    "bootstrap_auc(xgb_optuna_53, X_train, y_train, X_test, y_test, nsamples=1000)"
   ]
  },
  {
   "cell_type": "code",
   "execution_count": null,
   "id": "5de3a09d",
   "metadata": {},
   "outputs": [],
   "source": [
    "shapiro(auc_bootstrap), np.mean(auc_bootstrap)"
   ]
  },
  {
   "cell_type": "code",
   "execution_count": null,
   "id": "7ff21f30",
   "metadata": {},
   "outputs": [],
   "source": [
    "t_53 = auc_bootstrap\n",
    "print(t_53)"
   ]
  },
  {
   "cell_type": "code",
   "execution_count": null,
   "id": "914bb710",
   "metadata": {},
   "outputs": [],
   "source": [
    "del X_train, X_test, y_train, y_test, X_val, y_val,study, optuna_auc"
   ]
  },
  {
   "cell_type": "code",
   "execution_count": null,
   "id": "93ed07d1",
   "metadata": {},
   "outputs": [],
   "source": [
    "# 54\n",
    "column_to_drop_53 = '소득 중 사적이전소득의 비중(월평균)'"
   ]
  },
  {
   "cell_type": "code",
   "execution_count": null,
   "id": "984e2474",
   "metadata": {},
   "outputs": [],
   "source": [
    "if not column_to_drop_53.startswith('Cat_'):\n",
    "    comp_54 = comp_53.drop(column_to_drop_53, axis=1)\n",
    "    X_54 = comp_54.drop('target', axis=1)\n",
    "    y_54 = comp_54['target']\n",
    "else:\n",
    "    comp_54 = comp_53.drop(comp_53.filter(regex='^' + column_to_drop_53).columns, axis=1)\n",
    "    X_54 = comp_54.drop('target', axis=1)\n",
    "    y_54 = comp_54['target']\n",
    "\n",
    "print(X_54.shape)"
   ]
  },
  {
   "cell_type": "code",
   "execution_count": null,
   "id": "1aead1e6",
   "metadata": {},
   "outputs": [],
   "source": [
    "X_train, X_test, y_train, y_test = train_test_split(X_54, y_54, test_size=0.2, shuffle=True, stratify=y_54, random_state = 0)\n",
    "X_train, X_val, y_train, y_val = train_test_split(X_train, y_train, test_size=0.2, shuffle=True, stratify=y_train, random_state = 0)"
   ]
  },
  {
   "cell_type": "code",
   "execution_count": null,
   "id": "e6cde8c7",
   "metadata": {},
   "outputs": [],
   "source": [
    "def objective(trial):\n",
    "    params = {\n",
    "        'n_estimators' :trial.suggest_int('n_estimators', 50, 200),\n",
    "        'learning_rate' :trial.suggest_float('learning_rate',0.01, 0.1,step=0.01),\n",
    "        'max_depth' :trial.suggest_int('max_depth', 1, 10),\n",
    "        'max_leaves': trial.suggest_int('max_leaves', 2, 1024, step=2),\n",
    "        'subsample':trial.suggest_float('subsample', 0.1, 1.0,step=0.1),\n",
    "        'colsample_bytree' :trial.suggest_float('colsample_bytree', 0.1, 1.0,step=0.1),\n",
    "        'gamma' :trial.suggest_int('gamma',1, 10),\n",
    "        'reg_alpha' :trial.suggest_int('reg_alpha', 1, 10),\n",
    "        'reg_lambda' :trial.suggest_int('reg_lambda', 1, 10),\n",
    "        'booster' : trial.suggest_categorical('booster', ['gbtree']),\n",
    "        'objective' : trial.suggest_categorical('objective', ['binary:logistic'])\n",
    "        }\n",
    "        \n",
    "    clf = XGBClassifier(**params,random_state = 0)\n",
    "    clf.fit(X_train, y_train)\n",
    "    clf_proba = clf.predict_proba(X_val)[:, 1]\n",
    "        \n",
    "    AUC_SCORE = roc_auc_score(y_val, clf_proba)\n",
    "    return AUC_SCORE\n",
    "\n",
    "direction = \"maximize\"\n",
    "sampler = optuna.samplers.TPESampler(seed=10)\n",
    "study =  optuna.create_study(direction=direction, sampler=sampler, pruner=optuna.pruners.HyperbandPruner())\n",
    "early_stopping = EarlyStoppingCallback(10, direction=direction)\n",
    "study.optimize(objective, callbacks=[early_stopping], n_trials=200) "
   ]
  },
  {
   "cell_type": "code",
   "execution_count": null,
   "id": "dc034bbe",
   "metadata": {},
   "outputs": [],
   "source": [
    "print(study.best_trial.params)\n",
    "optuna_auc = study.best_trial.value\n",
    "print(optuna_auc)"
   ]
  },
  {
   "cell_type": "code",
   "execution_count": null,
   "id": "65b91693",
   "metadata": {},
   "outputs": [],
   "source": [
    "xgb_optuna_54 = XGBClassifier(**study.best_trial.params, random_state = 0)\n",
    "xgb_optuna_54.fit(X_train, y_train)"
   ]
  },
  {
   "cell_type": "code",
   "execution_count": null,
   "id": "4a9f1e5c",
   "metadata": {},
   "outputs": [],
   "source": [
    "xgb_optuna_proba_54 = xgb_optuna_54.predict_proba(X_test)[:, 1]\n",
    "auc_54 = roc_auc_score(y_test, xgb_optuna_proba_54)\n",
    "print(decimal.Decimal(auc_54).quantize(decimal.Decimal('1.000')))"
   ]
  },
  {
   "cell_type": "code",
   "execution_count": null,
   "id": "6555a83a",
   "metadata": {},
   "outputs": [],
   "source": [
    "X_train = X_train.values\n",
    "y_train = y_train.values"
   ]
  },
  {
   "cell_type": "code",
   "execution_count": null,
   "id": "86232671",
   "metadata": {},
   "outputs": [],
   "source": [
    "auc_bootstrap = []"
   ]
  },
  {
   "cell_type": "code",
   "execution_count": null,
   "id": "7a7a50b6",
   "metadata": {},
   "outputs": [],
   "source": [
    "rs = \n",
    "\n",
    "bootstrap_auc(xgb_optuna_54, X_train, y_train, X_test, y_test, nsamples=1000)"
   ]
  },
  {
   "cell_type": "code",
   "execution_count": null,
   "id": "00bedb82",
   "metadata": {},
   "outputs": [],
   "source": [
    "shapiro(auc_bootstrap), np.mean(auc_bootstrap)"
   ]
  },
  {
   "cell_type": "code",
   "execution_count": null,
   "id": "91c4e1a1",
   "metadata": {},
   "outputs": [],
   "source": [
    "t_54 = auc_bootstrap\n",
    "print(t_54)"
   ]
  },
  {
   "cell_type": "code",
   "execution_count": 73,
   "id": "ffba4bfa",
   "metadata": {},
   "outputs": [
    {
     "ename": "NameError",
     "evalue": "name 'X_train' is not defined",
     "output_type": "error",
     "traceback": [
      "\u001b[1;31m---------------------------------------------------------------------------\u001b[0m",
      "\u001b[1;31mNameError\u001b[0m                                 Traceback (most recent call last)",
      "Cell \u001b[1;32mIn[73], line 1\u001b[0m\n\u001b[1;32m----> 1\u001b[0m \u001b[38;5;28;01mdel\u001b[39;00m X_train, X_test, y_train, y_test, X_val, y_val,study, optuna_auc\n",
      "\u001b[1;31mNameError\u001b[0m: name 'X_train' is not defined"
     ]
    }
   ],
   "source": [
    "del X_train, X_test, y_train, y_test, X_val, y_val,study, optuna_auc"
   ]
  },
  {
   "cell_type": "code",
   "execution_count": 72,
   "id": "79de3e3e",
   "metadata": {},
   "outputs": [],
   "source": [
    "# 55\n",
    "column_to_drop_54 = 'Cat_이사 계획 중인 거주 지역'"
   ]
  },
  {
   "cell_type": "code",
   "execution_count": null,
   "id": "ebb8022a",
   "metadata": {},
   "outputs": [],
   "source": [
    "if not column_to_drop_54.startswith('Cat_'):\n",
    "    comp_55 = comp_54.drop(column_to_drop_54, axis=1)\n",
    "    X_55 = comp_55.drop('target', axis=1)\n",
    "    y_55 = comp_55['target']\n",
    "else:\n",
    "    comp_55 = comp_54.drop(comp_54.filter(regex='^' + column_to_drop_54).columns, axis=1)\n",
    "    X_55 = comp_55.drop('target', axis=1)\n",
    "    y_55 = comp_55['target']\n",
    "\n",
    "print(X_55.shape)"
   ]
  },
  {
   "cell_type": "code",
   "execution_count": null,
   "id": "6f9ea3e3",
   "metadata": {},
   "outputs": [],
   "source": [
    "print(list(X))"
   ]
  },
  {
   "cell_type": "code",
   "execution_count": 74,
   "id": "8653bc81",
   "metadata": {},
   "outputs": [],
   "source": [
    "X_55 = X[['Cat_현재 가장 필요한 주거지원 1순위_공공분양주택공급', 'Cat_현재 가장 필요한 주거지원 1순위_없음', 'Cat_현재 가장 필요한 주거지원 1순위_월세보조금 지원', 'Cat_현재 가장 필요한 주거지원 1순위_임대 후 분양전환 공공임대주택 공급', 'Cat_현재 가장 필요한 주거지원 1순위_장기공공임대주택 공급', 'Cat_현재 가장 필요한 주거지원 1순위_전세자금 대출 지원', 'Cat_현재 가장 필요한 주거지원 1순위_주거상담과 정보제공 등', 'Cat_현재 가장 필요한 주거지원 1순위_주택 구입자금 대출 지원', 'Cat_현재 가장 필요한 주거지원 1순위_주택개량 및 개보수 지원']]"
   ]
  },
  {
   "cell_type": "code",
   "execution_count": 75,
   "id": "4d5092ff",
   "metadata": {},
   "outputs": [],
   "source": [
    "y_55 = 청년가구.target"
   ]
  },
  {
   "cell_type": "code",
   "execution_count": 76,
   "id": "91afe525",
   "metadata": {},
   "outputs": [],
   "source": [
    "X_train, X_test, y_train, y_test = train_test_split(X_55, y_55, test_size=0.2, shuffle=True, stratify=y_55, random_state = 0)\n",
    "X_train, X_val, y_train, y_val = train_test_split(X_train, y_train, test_size=0.2, shuffle=True, stratify=y_train, random_state = 0)"
   ]
  },
  {
   "cell_type": "code",
   "execution_count": 77,
   "id": "c58382c4",
   "metadata": {},
   "outputs": [],
   "source": [
    "def objective(trial):\n",
    "    params = {\n",
    "        'n_estimators' :trial.suggest_int('n_estimators', 50, 200),\n",
    "        'learning_rate' :trial.suggest_float('learning_rate',0.01, 0.1,step=0.01),\n",
    "        'max_depth' :trial.suggest_int('max_depth', 1, 10),\n",
    "        'max_leaves': trial.suggest_int('max_leaves', 2, 1024, step=2),\n",
    "        'subsample':trial.suggest_float('subsample', 0.1, 1.0,step=0.1),\n",
    "        'colsample_bytree' :trial.suggest_float('colsample_bytree', 0.1, 1.0,step=0.1),\n",
    "        'gamma' :trial.suggest_int('gamma',1, 10),\n",
    "        'reg_alpha' :trial.suggest_int('reg_alpha', 1, 10),\n",
    "        'reg_lambda' :trial.suggest_int('reg_lambda', 1, 10),\n",
    "        'booster' : trial.suggest_categorical('booster', ['gbtree']),\n",
    "        'objective' : trial.suggest_categorical('objective', ['binary:logistic'])\n",
    "        }\n",
    "        \n",
    "    clf = XGBClassifier(**params,random_state = 0)\n",
    "    clf.fit(X_train, y_train)\n",
    "    clf_proba = clf.predict_proba(X_val)[:, 1]\n",
    "        \n",
    "    AUC_SCORE = roc_auc_score(y_val, clf_proba)\n",
    "    return AUC_SCORE\n",
    "\n",
    "direction = \"maximize\"\n",
    "sampler = optuna.samplers.TPESampler(seed=10)\n",
    "study =  optuna.create_study(direction=direction, sampler=sampler, pruner=optuna.pruners.HyperbandPruner())\n",
    "early_stopping = EarlyStoppingCallback(10, direction=direction)\n",
    "study.optimize(objective, callbacks=[early_stopping], n_trials=200) "
   ]
  },
  {
   "cell_type": "code",
   "execution_count": 78,
   "id": "3cb76bca",
   "metadata": {},
   "outputs": [
    {
     "name": "stdout",
     "output_type": "stream",
     "text": [
      "{'n_estimators': 127, 'learning_rate': 0.06999999999999999, 'max_depth': 7, 'max_leaves': 826, 'subsample': 0.6, 'colsample_bytree': 1.0, 'gamma': 4, 'reg_alpha': 1, 'reg_lambda': 4, 'booster': 'gbtree', 'objective': 'binary:logistic'}\n",
      "0.7249490627997118\n"
     ]
    }
   ],
   "source": [
    "print(study.best_trial.params)\n",
    "optuna_auc = study.best_trial.value\n",
    "print(optuna_auc)"
   ]
  },
  {
   "cell_type": "code",
   "execution_count": 79,
   "id": "f94a8b09",
   "metadata": {},
   "outputs": [
    {
     "name": "stdout",
     "output_type": "stream",
     "text": [
      "{'n_estimators': 127, 'learning_rate': 0.06999999999999999, 'max_depth': 7, 'max_leaves': 826, 'subsample': 0.6, 'colsample_bytree': 1.0, 'gamma': 4, 'reg_alpha': 1, 'reg_lambda': 4, 'booster': 'gbtree', 'objective': 'binary:logistic'}\n",
      "0.7249490627997118\n"
     ]
    }
   ],
   "source": [
    "print(study.best_trial.params)\n",
    "optuna_auc = study.best_trial.value\n",
    "print(optuna_auc)"
   ]
  },
  {
   "cell_type": "code",
   "execution_count": 80,
   "id": "ab28ce28",
   "metadata": {},
   "outputs": [
    {
     "data": {
      "text/html": [
       "<style>#sk-container-id-4 {color: black;}#sk-container-id-4 pre{padding: 0;}#sk-container-id-4 div.sk-toggleable {background-color: white;}#sk-container-id-4 label.sk-toggleable__label {cursor: pointer;display: block;width: 100%;margin-bottom: 0;padding: 0.3em;box-sizing: border-box;text-align: center;}#sk-container-id-4 label.sk-toggleable__label-arrow:before {content: \"▸\";float: left;margin-right: 0.25em;color: #696969;}#sk-container-id-4 label.sk-toggleable__label-arrow:hover:before {color: black;}#sk-container-id-4 div.sk-estimator:hover label.sk-toggleable__label-arrow:before {color: black;}#sk-container-id-4 div.sk-toggleable__content {max-height: 0;max-width: 0;overflow: hidden;text-align: left;background-color: #f0f8ff;}#sk-container-id-4 div.sk-toggleable__content pre {margin: 0.2em;color: black;border-radius: 0.25em;background-color: #f0f8ff;}#sk-container-id-4 input.sk-toggleable__control:checked~div.sk-toggleable__content {max-height: 200px;max-width: 100%;overflow: auto;}#sk-container-id-4 input.sk-toggleable__control:checked~label.sk-toggleable__label-arrow:before {content: \"▾\";}#sk-container-id-4 div.sk-estimator input.sk-toggleable__control:checked~label.sk-toggleable__label {background-color: #d4ebff;}#sk-container-id-4 div.sk-label input.sk-toggleable__control:checked~label.sk-toggleable__label {background-color: #d4ebff;}#sk-container-id-4 input.sk-hidden--visually {border: 0;clip: rect(1px 1px 1px 1px);clip: rect(1px, 1px, 1px, 1px);height: 1px;margin: -1px;overflow: hidden;padding: 0;position: absolute;width: 1px;}#sk-container-id-4 div.sk-estimator {font-family: monospace;background-color: #f0f8ff;border: 1px dotted black;border-radius: 0.25em;box-sizing: border-box;margin-bottom: 0.5em;}#sk-container-id-4 div.sk-estimator:hover {background-color: #d4ebff;}#sk-container-id-4 div.sk-parallel-item::after {content: \"\";width: 100%;border-bottom: 1px solid gray;flex-grow: 1;}#sk-container-id-4 div.sk-label:hover label.sk-toggleable__label {background-color: #d4ebff;}#sk-container-id-4 div.sk-serial::before {content: \"\";position: absolute;border-left: 1px solid gray;box-sizing: border-box;top: 0;bottom: 0;left: 50%;z-index: 0;}#sk-container-id-4 div.sk-serial {display: flex;flex-direction: column;align-items: center;background-color: white;padding-right: 0.2em;padding-left: 0.2em;position: relative;}#sk-container-id-4 div.sk-item {position: relative;z-index: 1;}#sk-container-id-4 div.sk-parallel {display: flex;align-items: stretch;justify-content: center;background-color: white;position: relative;}#sk-container-id-4 div.sk-item::before, #sk-container-id-4 div.sk-parallel-item::before {content: \"\";position: absolute;border-left: 1px solid gray;box-sizing: border-box;top: 0;bottom: 0;left: 50%;z-index: -1;}#sk-container-id-4 div.sk-parallel-item {display: flex;flex-direction: column;z-index: 1;position: relative;background-color: white;}#sk-container-id-4 div.sk-parallel-item:first-child::after {align-self: flex-end;width: 50%;}#sk-container-id-4 div.sk-parallel-item:last-child::after {align-self: flex-start;width: 50%;}#sk-container-id-4 div.sk-parallel-item:only-child::after {width: 0;}#sk-container-id-4 div.sk-dashed-wrapped {border: 1px dashed gray;margin: 0 0.4em 0.5em 0.4em;box-sizing: border-box;padding-bottom: 0.4em;background-color: white;}#sk-container-id-4 div.sk-label label {font-family: monospace;font-weight: bold;display: inline-block;line-height: 1.2em;}#sk-container-id-4 div.sk-label-container {text-align: center;}#sk-container-id-4 div.sk-container {/* jupyter's `normalize.less` sets `[hidden] { display: none; }` but bootstrap.min.css set `[hidden] { display: none !important; }` so we also need the `!important` here to be able to override the default hidden behavior on the sphinx rendered scikit-learn.org. See: https://github.com/scikit-learn/scikit-learn/issues/21755 */display: inline-block !important;position: relative;}#sk-container-id-4 div.sk-text-repr-fallback {display: none;}</style><div id=\"sk-container-id-4\" class=\"sk-top-container\"><div class=\"sk-text-repr-fallback\"><pre>XGBClassifier(base_score=None, booster=&#x27;gbtree&#x27;, callbacks=None,\n",
       "              colsample_bylevel=None, colsample_bynode=None,\n",
       "              colsample_bytree=1.0, device=None, early_stopping_rounds=None,\n",
       "              enable_categorical=False, eval_metric=None, feature_types=None,\n",
       "              gamma=4, grow_policy=None, importance_type=None,\n",
       "              interaction_constraints=None, learning_rate=0.06999999999999999,\n",
       "              max_bin=None, max_cat_threshold=None, max_cat_to_onehot=None,\n",
       "              max_delta_step=None, max_depth=7, max_leaves=826,\n",
       "              min_child_weight=None, missing=nan, monotone_constraints=None,\n",
       "              multi_strategy=None, n_estimators=127, n_jobs=None,\n",
       "              num_parallel_tree=None, random_state=0, ...)</pre><b>In a Jupyter environment, please rerun this cell to show the HTML representation or trust the notebook. <br />On GitHub, the HTML representation is unable to render, please try loading this page with nbviewer.org.</b></div><div class=\"sk-container\" hidden><div class=\"sk-item\"><div class=\"sk-estimator sk-toggleable\"><input class=\"sk-toggleable__control sk-hidden--visually\" id=\"sk-estimator-id-4\" type=\"checkbox\" checked><label for=\"sk-estimator-id-4\" class=\"sk-toggleable__label sk-toggleable__label-arrow\">XGBClassifier</label><div class=\"sk-toggleable__content\"><pre>XGBClassifier(base_score=None, booster=&#x27;gbtree&#x27;, callbacks=None,\n",
       "              colsample_bylevel=None, colsample_bynode=None,\n",
       "              colsample_bytree=1.0, device=None, early_stopping_rounds=None,\n",
       "              enable_categorical=False, eval_metric=None, feature_types=None,\n",
       "              gamma=4, grow_policy=None, importance_type=None,\n",
       "              interaction_constraints=None, learning_rate=0.06999999999999999,\n",
       "              max_bin=None, max_cat_threshold=None, max_cat_to_onehot=None,\n",
       "              max_delta_step=None, max_depth=7, max_leaves=826,\n",
       "              min_child_weight=None, missing=nan, monotone_constraints=None,\n",
       "              multi_strategy=None, n_estimators=127, n_jobs=None,\n",
       "              num_parallel_tree=None, random_state=0, ...)</pre></div></div></div></div></div>"
      ],
      "text/plain": [
       "XGBClassifier(base_score=None, booster='gbtree', callbacks=None,\n",
       "              colsample_bylevel=None, colsample_bynode=None,\n",
       "              colsample_bytree=1.0, device=None, early_stopping_rounds=None,\n",
       "              enable_categorical=False, eval_metric=None, feature_types=None,\n",
       "              gamma=4, grow_policy=None, importance_type=None,\n",
       "              interaction_constraints=None, learning_rate=0.06999999999999999,\n",
       "              max_bin=None, max_cat_threshold=None, max_cat_to_onehot=None,\n",
       "              max_delta_step=None, max_depth=7, max_leaves=826,\n",
       "              min_child_weight=None, missing=nan, monotone_constraints=None,\n",
       "              multi_strategy=None, n_estimators=127, n_jobs=None,\n",
       "              num_parallel_tree=None, random_state=0, ...)"
      ]
     },
     "execution_count": 80,
     "metadata": {},
     "output_type": "execute_result"
    }
   ],
   "source": [
    "xgb_optuna_55 = XGBClassifier(**study.best_trial.params, random_state = 0)\n",
    "xgb_optuna_55.fit(X_train, y_train)"
   ]
  },
  {
   "cell_type": "code",
   "execution_count": 81,
   "id": "bf17dbf7",
   "metadata": {},
   "outputs": [
    {
     "name": "stdout",
     "output_type": "stream",
     "text": [
      "0.716\n"
     ]
    }
   ],
   "source": [
    "xgb_optuna_proba_55 = xgb_optuna_55.predict_proba(X_test)[:, 1]\n",
    "auc_55 = roc_auc_score(y_test, xgb_optuna_proba_55)\n",
    "print(decimal.Decimal(auc_55).quantize(decimal.Decimal('1.000')))"
   ]
  },
  {
   "cell_type": "code",
   "execution_count": 82,
   "id": "626e887c",
   "metadata": {},
   "outputs": [],
   "source": [
    "X_train = X_train.values\n",
    "y_train = y_train.values"
   ]
  },
  {
   "cell_type": "code",
   "execution_count": 107,
   "id": "673d7acc",
   "metadata": {},
   "outputs": [],
   "source": [
    "auc_bootstrap = []"
   ]
  },
  {
   "cell_type": "code",
   "execution_count": null,
   "id": "7723ec23",
   "metadata": {},
   "outputs": [],
   "source": [
    "np.random.seed(999999)\n",
    "bootstrap_auc(xgb_optuna_55, X_train, y_train, X_test, y_test, nsamples=10000)"
   ]
  },
  {
   "cell_type": "code",
   "execution_count": 106,
   "id": "a811332b",
   "metadata": {},
   "outputs": [],
   "source": [
    "auc_bootstrap = []\n",
    "def bootstrap_auc(clf, X_train, y_train, X_test, y_test, nsamples=10000):\n",
    "    for b in range(nsamples):\n",
    "        idx = np.random.randint(X_train.shape[0], size=X_train.shape[0])\n",
    "        clf.fit(X_train[idx], y_train[idx])\n",
    "        pred = clf.predict_proba(X_test)[:, 1]\n",
    "        roc_auc = roc_auc_score(y_test.ravel(), pred.ravel())\n",
    "        auc_bootstrap.append(roc_auc)\n",
    "    return np.percentile(auc_bootstrap, (2.5, 97.5))"
   ]
  },
  {
   "cell_type": "code",
   "execution_count": 92,
   "id": "00ade451",
   "metadata": {},
   "outputs": [],
   "source": [
    "del t_55"
   ]
  },
  {
   "cell_type": "code",
   "execution_count": 100,
   "id": "3ca1bf16",
   "metadata": {},
   "outputs": [
    {
     "data": {
      "text/plain": [
       "(ShapiroResult(statistic=0.8842117786407471, pvalue=1.1295057582002198e-26),\n",
       " 0.7180222980003619)"
      ]
     },
     "execution_count": 100,
     "metadata": {},
     "output_type": "execute_result"
    }
   ],
   "source": [
    "shapiro(auc_bootstrap), np.mean(auc_bootstrap)"
   ]
  },
  {
   "cell_type": "code",
   "execution_count": null,
   "id": "9167fb2b",
   "metadata": {},
   "outputs": [],
   "source": [
    "shapiro(auc_bootstrap), np.mean(auc_bootstrap)"
   ]
  },
  {
   "cell_type": "code",
   "execution_count": null,
   "id": "e4555f68",
   "metadata": {},
   "outputs": [],
   "source": [
    "t_55 = auc_bootstrap\n",
    "print(t_55)"
   ]
  },
  {
   "cell_type": "code",
   "execution_count": null,
   "id": "32e4a133",
   "metadata": {},
   "outputs": [],
   "source": [
    "len(t_55)"
   ]
  },
  {
   "cell_type": "code",
   "execution_count": 103,
   "id": "6be08852",
   "metadata": {},
   "outputs": [
    {
     "data": {
      "text/plain": [
       "(array([  3.,   6.,   5.,  26.,  65., 331.,  41., 112.,  35., 376.]),\n",
       " array([0.70921199, 0.71042232, 0.71163265, 0.71284298, 0.71405331, 0.71526364, 0.71647397, 0.7176843 , 0.71889463, 0.72010496, 0.72131529]),\n",
       " <BarContainer object of 10 artists>)"
      ]
     },
     "execution_count": 103,
     "metadata": {},
     "output_type": "execute_result"
    },
    {
     "data": {
      "image/png": "[encoded data removed]",
      "text/plain": [
       "<Figure size 640x480 with 1 Axes>"
      ]
     },
     "metadata": {},
     "output_type": "display_data"
    }
   ],
   "source": [
    "plt.hist(t_55, alpha=0.7)"
   ]
  },
  {
   "cell_type": "code",
   "execution_count": null,
   "id": "a24fd258",
   "metadata": {},
   "outputs": [],
   "source": [
    "plt.hist(t_55, alpha=0.7)"
   ]
  },
  {
   "cell_type": "code",
   "execution_count": null,
   "id": "b3bdb490",
   "metadata": {},
   "outputs": [],
   "source": [
    "del X_train, X_test, y_train, y_test, X_val, y_val,study, optuna_auc"
   ]
  },
  {
   "cell_type": "code",
   "execution_count": null,
   "id": "f642aa8d",
   "metadata": {},
   "outputs": [],
   "source": []
  },
  {
   "cell_type": "code",
   "execution_count": null,
   "id": "cf89c074",
   "metadata": {},
   "outputs": [],
   "source": []
  },
  {
   "cell_type": "code",
   "execution_count": null,
   "id": "b32fe877",
   "metadata": {},
   "outputs": [],
   "source": []
  }
 ],
 "metadata": {
  "kernelspec": {
   "display_name": "Python 3 (ipykernel)",
   "language": "python",
   "name": "python3"
  },
  "language_info": {
   "codemirror_mode": {
    "name": "ipython",
    "version": 3
   },
   "file_extension": ".py",
   "mimetype": "text/x-python",
   "name": "python",
   "nbconvert_exporter": "python",
   "pygments_lexer": "ipython3",
   "version": "3.11.5"
  }
 },
 "nbformat": 4,
 "nbformat_minor": 5
}
