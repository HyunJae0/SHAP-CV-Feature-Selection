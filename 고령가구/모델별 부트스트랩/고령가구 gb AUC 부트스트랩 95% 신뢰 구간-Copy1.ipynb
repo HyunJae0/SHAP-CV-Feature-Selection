{
 "cells": [
  {
   "cell_type": "code",
   "execution_count": 1,
   "id": "10cd55a8",
   "metadata": {},
   "outputs": [],
   "source": [
    "import pandas as pd\n",
    "import numpy as np\n",
    "import matplotlib.pyplot as plt\n",
    "import seaborn as sns\n",
    "import warnings\n",
    "warnings.filterwarnings('ignore')\n",
    "sns.set_style('darkgrid')\n",
    "\n",
    "import shap\n",
    "from sklearn.model_selection import train_test_split\n",
    "from sklearn.preprocessing import StandardScaler, MinMaxScaler, RobustScaler,LabelEncoder\n",
    "from sklearn.metrics import classification_report, confusion_matrix,ConfusionMatrixDisplay, accuracy_score, recall_score, precision_score, f1_score, roc_auc_score, precision_recall_curve,auc, roc_curve\n",
    "from sklearn.model_selection import StratifiedKFold, KFold, GridSearchCV\n",
    "from xgboost import XGBClassifier\n",
    "from lightgbm import LGBMClassifier\n",
    "from sklearn.ensemble import RandomForestClassifier\n",
    "from sklearn.ensemble import GradientBoostingClassifier\n",
    "from sklearn.ensemble import ExtraTreesClassifier\n",
    "from sklearn.ensemble import AdaBoostClassifier\n",
    "from sklearn.tree import DecisionTreeClassifier\n",
    "\n",
    "\n",
    "from sklearn.preprocessing import OneHotEncoder\n",
    "import matplotlib\n",
    "import sklearn\n",
    "#from skopt import BayesSearchCV, space\n",
    "import optuna\n",
    "import optuna.study\n",
    "from optuna import Trial\n",
    "from optuna import distributions\n",
    "from optuna import integration\n",
    "from optuna.study import create_study\n",
    "from optuna.samplers import TPESampler\n",
    "from optuna.pruners import HyperbandPruner\n",
    "import joblib\n",
    "plt.rcParams['font.family'] = 'NanumGothic'\n",
    "matplotlib.rcParams['axes.unicode_minus'] = False\n",
    "import operator"
   ]
  },
  {
   "cell_type": "code",
   "execution_count": 2,
   "id": "46b48553",
   "metadata": {},
   "outputs": [],
   "source": [
    "from sklearn.utils import resample\n",
    "from numpy.random import RandomState"
   ]
  },
  {
   "cell_type": "code",
   "execution_count": 3,
   "id": "37cb46d3",
   "metadata": {},
   "outputs": [],
   "source": [
    "def bootstrap_auc(clf, X_train, y_train, X_test, y_test, nsamples=2000):\n",
    "    for b in range(nsamples):\n",
    "        idx = rs.randint(X_train.shape[0], size=X_train.shape[0])\n",
    "        clf.fit(X_train[idx], y_train[idx])\n",
    "        pred = clf.predict_proba(X_test)[:, 1]\n",
    "        roc_auc = roc_auc_score(y_test.ravel(), pred.ravel())\n",
    "        auc_bootstrap.append(roc_auc)\n",
    "    return np.percentile(auc_bootstrap, (2.5, 97.5))"
   ]
  },
  {
   "cell_type": "code",
   "execution_count": 4,
   "id": "f8488cdd",
   "metadata": {},
   "outputs": [],
   "source": [
    "class EarlyStoppingCallback(object):\n",
    "    def __init__(self, early_stopping_rounds: int, direction: str = \"minimize\"):\n",
    "        self.early_stopping_rounds = early_stopping_rounds\n",
    "\n",
    "        self._iter = 0\n",
    "\n",
    "        if direction == \"minimize\":\n",
    "            self._operator = operator.lt\n",
    "            self._score = np.inf\n",
    "        elif direction == \"maximize\":\n",
    "            self._operator = operator.gt\n",
    "            self._score = -np.inf\n",
    "        else:\n",
    "            ValueError(f\"invalid direction: {direction}\")\n",
    "\n",
    "    def __call__(self, study, trial):\n",
    "        if self._operator(study.best_value, self._score):\n",
    "            self._iter = 0\n",
    "            self._score = study.best_value\n",
    "        else:\n",
    "            self._iter += 1\n",
    "\n",
    "        if self._iter >= self.early_stopping_rounds:\n",
    "            study.stop()"
   ]
  },
  {
   "cell_type": "code",
   "execution_count": 5,
   "id": "aebdf5e8",
   "metadata": {},
   "outputs": [],
   "source": [
    "optuna.logging.set_verbosity(optuna.logging.WARNING)"
   ]
  },
  {
   "cell_type": "code",
   "execution_count": 6,
   "id": "2d13b106",
   "metadata": {},
   "outputs": [],
   "source": [
    "고령가구 = pd.read_csv('고령가구_변수추가.csv', encoding='cp949')\n",
    "고령가구.rename(columns = {'문41. 귀 가구는 공공임대주택 입주 기회를 준다면 입주할 의향이 있으십니까?':'target'}, inplace=True)"
   ]
  },
  {
   "cell_type": "code",
   "execution_count": 7,
   "id": "47d6db3f",
   "metadata": {},
   "outputs": [],
   "source": [
    "고령가구.columns = [\n",
    "    'Cat_현재 거주 지역', 'Cat_현재 주택의 유형','Cat_현재 주택의 위치',\n",
    "    '현재 주택 거주 기간(총 개월)','현재 무주택 기간(총 개월)',\n",
    "    'Cat_현재 주택의 점유형태','Cat_현재 주택의 구조', '현재 주택의 면적(㎡)',\n",
    "    'Cat_현재 상업시설 접근용이성', 'Cat_현재 의료시설 접근용이성',\n",
    "    'Cat_현재 공공기관 접근용이성', 'Cat_현재 문화시설 접근용이성',\n",
    "    'Cat_현재 도시공원 및 녹지 접근용이성', 'Cat_현재 대중교통 접근용이성',\n",
    "    'Cat_현재 주차시설 이용편의성', 'Cat_현재 주변도로의 보행 안전',\n",
    "    'Cat_현재 교육환경', 'Cat_현재 치안 및 범죄 등 방범 상태',\n",
    "    'Cat_현재 자동차 경적/집주변의 소음 정도', 'Cat_현재 청소/쓰레기 처리상태',\n",
    "    'Cat_현재 대기오염 정도', 'Cat_현재 주택에 대한 전반적인 만족도',\n",
    "    '총 이사 횟수', 'Cat_이사 예상 기간','Cat_이사 계획 첫 번째 이유',\n",
    "    'Cat_이사 계획 중인 거주 지역', 'Cat_이사 계획 중인 주택의 유형', 'Cat_이사 계획 중인 주택의 점유형태',\n",
    "    'Cat_주택 보유 의식', 'Cat_현재 가장 필요한 주거지원 1순위',\n",
    "    '가구주 나이','Cat_가구주 성별','Cat_가구주 주민등록상 등재 여부','Cat_가구주 동거 여부','Cat_가구주 장애 여부',\n",
    "    '총 가구원 수','Cat_기초생활보장 수급가구 여부','Cat_소득 계층',\n",
    "    '소득 대비 주택 임대료의 비율', '소득 중 근로/사업소득의 비중(월평균)',\n",
    "    '소득 중 재산소득의 비중(월평균)', '소득 중 사회보험 수혜금의 비중(월평균)',\n",
    "    '소득 중 정부 보조금의 비중(월평균)', '소득 중 사적이전소득의 비중(월평균)', \n",
    "    '소득 대비 생활비의 비율', '소득 대비 주거관리비의 비율',\n",
    "    '자산 중 부동산 자산의 비중', '자산 중 금융자산의 비중', '자산 중 기타자산의 비중',\n",
    "    '부채 중 금융기관 대출금의 비중', '부채 중 비금융기관 대출금의 비중', '부채 중 임대 보증금의 비중',\n",
    "    '중기부채부담지표', '장기부채부담지표', 'Cat_가구주 최종 학력', 'Cat_가구주 종사상 지위',\n",
    "    'target'    \n",
    "]"
   ]
  },
  {
   "cell_type": "code",
   "execution_count": 8,
   "id": "d7dbc161",
   "metadata": {},
   "outputs": [],
   "source": [
    "cat = 고령가구.select_dtypes(include = 'object')\n",
    "num = 고령가구.select_dtypes(exclude = 'object')\n",
    "num_고령 = num.drop('target',axis=1)\n",
    "target = 고령가구.target"
   ]
  },
  {
   "cell_type": "code",
   "execution_count": 9,
   "id": "f70eb659",
   "metadata": {},
   "outputs": [],
   "source": [
    "scaler=RobustScaler()\n",
    "scaler.fit(num_고령)\n",
    "num_scaled_고령=scaler.transform(num_고령)\n",
    "num_df_scaled_고령=pd.DataFrame(data=num_scaled_고령, columns=num_고령.columns)"
   ]
  },
  {
   "cell_type": "code",
   "execution_count": 10,
   "id": "5e4c8c76",
   "metadata": {},
   "outputs": [],
   "source": [
    "enc = OneHotEncoder()\n",
    "enc.fit(cat)\n",
    "\n",
    "X_cat = enc.transform(cat).toarray()\n",
    "new_feature_names = enc.get_feature_names_out(cat.columns)\n",
    "cat2 = pd.DataFrame(X_cat, columns= new_feature_names)"
   ]
  },
  {
   "cell_type": "code",
   "execution_count": 11,
   "id": "6d4f3a0a",
   "metadata": {},
   "outputs": [],
   "source": [
    "comp =pd.concat([num_df_scaled_고령, target,cat2],axis=1)"
   ]
  },
  {
   "cell_type": "code",
   "execution_count": 12,
   "id": "25030335",
   "metadata": {},
   "outputs": [
    {
     "data": {
      "text/plain": [
       "(10564, 210)"
      ]
     },
     "execution_count": 12,
     "metadata": {},
     "output_type": "execute_result"
    }
   ],
   "source": [
    "X=comp.drop('target', axis = 1)\n",
    "y=comp.target\n",
    "X.shape"
   ]
  },
  {
   "cell_type": "code",
   "execution_count": null,
   "id": "51728bf7",
   "metadata": {},
   "outputs": [],
   "source": [
    "X_train, X_test, y_train, y_test = train_test_split(X, y, test_size=0.2, shuffle=True, stratify=y, random_state = 0)"
   ]
  },
  {
   "cell_type": "code",
   "execution_count": null,
   "id": "ba165c86",
   "metadata": {},
   "outputs": [],
   "source": [
    "X_train, X_val, y_train, y_val = train_test_split(X_train, y_train, test_size=0.2, shuffle=True, stratify=y_train, random_state = 0)"
   ]
  },
  {
   "cell_type": "code",
   "execution_count": null,
   "id": "daaa01da",
   "metadata": {},
   "outputs": [],
   "source": [
    "def objective(trial):\n",
    "    params = {\n",
    "        'learning_rate' :trial.suggest_float('learning_rate',0.01, 0.1,step=0.01),        \n",
    "        'n_estimators' :trial.suggest_int('n_estimators', 50, 200),\n",
    "        'subsample':trial.suggest_float('subsample', 0.1, 1.0,step=0.1),\n",
    "        'max_depth' :trial.suggest_int('max_depth', 1, 10),\n",
    "        'min_samples_split' :trial.suggest_int('min_samples_split', 3, 10),\n",
    "        'min_samples_leaf' :trial.suggest_int('min_samples_leaf', 3, 10),\n",
    "        }\n",
    "        \n",
    "    clf = GradientBoostingClassifier(**params,random_state = 0)\n",
    "    clf.fit(X_train, y_train)\n",
    "    clf_proba = clf.predict_proba(X_val)[:, 1]\n",
    "        \n",
    "    AUC_SCORE = roc_auc_score(y_val, clf_proba)\n",
    "    return AUC_SCORE\n",
    "\n",
    "direction = \"maximize\"\n",
    "sampler = optuna.samplers.TPESampler(seed=10)\n",
    "study =  optuna.create_study(direction=direction, sampler=sampler, pruner=optuna.pruners.HyperbandPruner())\n",
    "early_stopping = EarlyStoppingCallback(10, direction=direction)\n",
    "study.optimize(objective, callbacks=[early_stopping], n_trials=200) "
   ]
  },
  {
   "cell_type": "code",
   "execution_count": null,
   "id": "d0a6a3fd",
   "metadata": {},
   "outputs": [],
   "source": [
    "print(study.best_trial.params)"
   ]
  },
  {
   "cell_type": "code",
   "execution_count": null,
   "id": "67e80ba4",
   "metadata": {},
   "outputs": [],
   "source": [
    "optuna_auc = study.best_trial.value\n",
    "print(optuna_auc)"
   ]
  },
  {
   "cell_type": "code",
   "execution_count": null,
   "id": "57772c74",
   "metadata": {},
   "outputs": [],
   "source": [
    "optuna_0 = GradientBoostingClassifier(**study.best_trial.params, random_state = 0)"
   ]
  },
  {
   "cell_type": "code",
   "execution_count": null,
   "id": "a8ad0319",
   "metadata": {},
   "outputs": [],
   "source": [
    "optuna_0.fit(X_train, y_train)"
   ]
  },
  {
   "cell_type": "code",
   "execution_count": null,
   "id": "37deccd3",
   "metadata": {},
   "outputs": [],
   "source": [
    "optuna_0_proba = optuna_0.predict_proba(X_test)[:, 1]\n",
    "auc_0 = roc_auc_score(y_test, optuna_0_proba)\n",
    "print(auc_0)"
   ]
  },
  {
   "cell_type": "code",
   "execution_count": null,
   "id": "9c84bfbc",
   "metadata": {},
   "outputs": [],
   "source": [
    "X_train = X_train.values\n",
    "y_train = y_train.values"
   ]
  },
  {
   "cell_type": "code",
   "execution_count": null,
   "id": "781f005f",
   "metadata": {},
   "outputs": [],
   "source": [
    "np.set_printoptions(threshold=np.inf, linewidth=np.inf)"
   ]
  },
  {
   "cell_type": "code",
   "execution_count": null,
   "id": "6de01c9d",
   "metadata": {},
   "outputs": [],
   "source": [
    "auc_bootstrap = []"
   ]
  },
  {
   "cell_type": "code",
   "execution_count": null,
   "id": "59404879",
   "metadata": {},
   "outputs": [],
   "source": [
    "rs = RandomState(seed = 2024)\n",
    "bootstrap_auc(optuna_0, X_train, y_train, X_test, y_test, nsamples=2000)"
   ]
  },
  {
   "cell_type": "code",
   "execution_count": null,
   "id": "a42b941a",
   "metadata": {},
   "outputs": [],
   "source": [
    "np.mean(auc_bootstrap)"
   ]
  },
  {
   "cell_type": "code",
   "execution_count": null,
   "id": "c6922025",
   "metadata": {},
   "outputs": [],
   "source": [
    "t_0 = auc_bootstrap\n",
    "print(t_0)"
   ]
  },
  {
   "cell_type": "code",
   "execution_count": null,
   "id": "ec64f084",
   "metadata": {},
   "outputs": [],
   "source": [
    "del X_train, X_test, y_train, y_test, X_val, y_val,study, optuna_auc"
   ]
  },
  {
   "cell_type": "code",
   "execution_count": null,
   "id": "678a712b",
   "metadata": {},
   "outputs": [],
   "source": [
    "# 1.\n",
    "column_to_drop = 'Cat_기초생활보장 수급가구 여부'"
   ]
  },
  {
   "cell_type": "code",
   "execution_count": null,
   "id": "b7f1db03",
   "metadata": {},
   "outputs": [],
   "source": [
    "if not column_to_drop.startswith('Cat_'):\n",
    "    comp_1 = comp.drop(column_to_drop, axis=1)\n",
    "    X_1 = comp_1.drop('target', axis=1)\n",
    "    y_1 = comp_1['target']\n",
    "else:\n",
    "    comp_1 = comp.drop(comp.filter(regex='^' + column_to_drop).columns, axis=1)\n",
    "    X_1 = comp_1.drop('target', axis=1)\n",
    "    y_1 = comp_1['target']\n",
    "\n",
    "print(X_1.shape)"
   ]
  },
  {
   "cell_type": "code",
   "execution_count": null,
   "id": "a90782bd",
   "metadata": {},
   "outputs": [],
   "source": [
    "X_train, X_test, y_train, y_test = train_test_split(X_1, y_1, test_size=0.2, shuffle=True, stratify=y_1, random_state = 0)\n",
    "X_train, X_val, y_train, y_val = train_test_split(X_train, y_train, test_size=0.2, shuffle=True, stratify=y_train, random_state = 0)"
   ]
  },
  {
   "cell_type": "code",
   "execution_count": null,
   "id": "3675ae61",
   "metadata": {},
   "outputs": [],
   "source": [
    "def objective(trial):\n",
    "    params = {\n",
    "        'learning_rate' :trial.suggest_float('learning_rate',0.01, 0.1,step=0.01),        \n",
    "        'n_estimators' :trial.suggest_int('n_estimators', 50, 200),\n",
    "        'subsample':trial.suggest_float('subsample', 0.1, 1.0,step=0.1),\n",
    "        'max_depth' :trial.suggest_int('max_depth', 1, 10),\n",
    "        'min_samples_split' :trial.suggest_int('min_samples_split', 3, 10),\n",
    "        'min_samples_leaf' :trial.suggest_int('min_samples_leaf', 3, 10),\n",
    "        }\n",
    "        \n",
    "    clf = GradientBoostingClassifier(**params,random_state = 0)\n",
    "    clf.fit(X_train, y_train)\n",
    "    clf_proba = clf.predict_proba(X_val)[:, 1]\n",
    "        \n",
    "    AUC_SCORE = roc_auc_score(y_val, clf_proba)\n",
    "    return AUC_SCORE\n",
    "\n",
    "direction = \"maximize\"\n",
    "sampler = optuna.samplers.TPESampler(seed=10)\n",
    "study =  optuna.create_study(direction=direction, sampler=sampler, pruner=optuna.pruners.HyperbandPruner())\n",
    "early_stopping = EarlyStoppingCallback(10, direction=direction)\n",
    "study.optimize(objective, callbacks=[early_stopping], n_trials=200) "
   ]
  },
  {
   "cell_type": "code",
   "execution_count": null,
   "id": "09bb9971",
   "metadata": {},
   "outputs": [],
   "source": [
    "print(study.best_trial.params)"
   ]
  },
  {
   "cell_type": "code",
   "execution_count": null,
   "id": "b9292efc",
   "metadata": {},
   "outputs": [],
   "source": [
    "optuna_auc = study.best_trial.value\n",
    "print(optuna_auc)"
   ]
  },
  {
   "cell_type": "code",
   "execution_count": null,
   "id": "96aea71d",
   "metadata": {},
   "outputs": [],
   "source": [
    "optuna_1 = GradientBoostingClassifier(**study.best_trial.params, random_state = 0)\n",
    "optuna_1.fit(X_train, y_train)"
   ]
  },
  {
   "cell_type": "code",
   "execution_count": null,
   "id": "3ad6e205",
   "metadata": {},
   "outputs": [],
   "source": [
    "optuna_1_proba = optuna_1.predict_proba(X_test)[:, 1]\n",
    "auc_1 = roc_auc_score(y_test, optuna_1_proba)\n",
    "print(auc_1)"
   ]
  },
  {
   "cell_type": "code",
   "execution_count": null,
   "id": "123e4692",
   "metadata": {},
   "outputs": [],
   "source": [
    "X_train = X_train.values\n",
    "y_train = y_train.values"
   ]
  },
  {
   "cell_type": "code",
   "execution_count": null,
   "id": "122c3c17",
   "metadata": {},
   "outputs": [],
   "source": [
    "auc_bootstrap = []"
   ]
  },
  {
   "cell_type": "code",
   "execution_count": null,
   "id": "6891d955",
   "metadata": {},
   "outputs": [],
   "source": [
    "rs = RandomState(seed = 1)\n",
    "bootstrap_auc(optuna_1, X_train, y_train, X_test, y_test, nsamples=2000)"
   ]
  },
  {
   "cell_type": "code",
   "execution_count": null,
   "id": "7cb4bbd2",
   "metadata": {},
   "outputs": [],
   "source": [
    "shapiro(auc_bootstrap)"
   ]
  },
  {
   "cell_type": "code",
   "execution_count": null,
   "id": "876fa6ae",
   "metadata": {},
   "outputs": [],
   "source": [
    "np.mean(auc_bootstrap)"
   ]
  },
  {
   "cell_type": "code",
   "execution_count": null,
   "id": "d0cba3b6",
   "metadata": {},
   "outputs": [],
   "source": [
    "t_1 = auc_bootstrap\n",
    "print(t_1)"
   ]
  },
  {
   "cell_type": "code",
   "execution_count": null,
   "id": "5e7f21df",
   "metadata": {},
   "outputs": [],
   "source": [
    "del X_train, X_test, y_train, y_test, X_val, y_val,study, optuna_auc"
   ]
  },
  {
   "cell_type": "code",
   "execution_count": null,
   "id": "e828120c",
   "metadata": {},
   "outputs": [],
   "source": [
    "#### 2. \n",
    "column_to_drop_1 = 'Cat_가구주 장애 여부'"
   ]
  },
  {
   "cell_type": "code",
   "execution_count": null,
   "id": "f7f65cb9",
   "metadata": {},
   "outputs": [],
   "source": [
    "if not column_to_drop_1.startswith('Cat_'):\n",
    "    comp_2 = comp_1.drop(column_to_drop_1, axis=1)\n",
    "    X_2 = comp_2.drop('target', axis=1)\n",
    "    y_2 = comp_2['target']\n",
    "else:\n",
    "    comp_2 = comp_1.drop(comp_1.filter(regex='^' + column_to_drop_1).columns, axis=1)\n",
    "    X_2 = comp_2.drop('target', axis=1)\n",
    "    y_2 = comp_2['target']\n",
    "\n",
    "print(X_2.shape)"
   ]
  },
  {
   "cell_type": "code",
   "execution_count": null,
   "id": "d0e518c7",
   "metadata": {},
   "outputs": [],
   "source": [
    "X_train, X_test, y_train, y_test = train_test_split(X_2, y_2, test_size=0.2, shuffle=True, stratify=y_2, random_state = 0)\n",
    "X_train, X_val, y_train, y_val = train_test_split(X_train, y_train, test_size=0.2, shuffle=True, stratify=y_train, random_state = 0)"
   ]
  },
  {
   "cell_type": "code",
   "execution_count": null,
   "id": "b991c45e",
   "metadata": {},
   "outputs": [],
   "source": [
    "def objective(trial):\n",
    "    params = {\n",
    "        'learning_rate' :trial.suggest_float('learning_rate',0.01, 0.1,step=0.01),        \n",
    "        'n_estimators' :trial.suggest_int('n_estimators', 50, 200),\n",
    "        'subsample':trial.suggest_float('subsample', 0.1, 1.0,step=0.1),\n",
    "        'max_depth' :trial.suggest_int('max_depth', 1, 10),\n",
    "        'min_samples_split' :trial.suggest_int('min_samples_split', 3, 10),\n",
    "        'min_samples_leaf' :trial.suggest_int('min_samples_leaf', 3, 10),\n",
    "        }\n",
    "        \n",
    "    clf = GradientBoostingClassifier(**params,random_state = 0)\n",
    "    clf.fit(X_train, y_train)\n",
    "    clf_proba = clf.predict_proba(X_val)[:, 1]\n",
    "        \n",
    "    AUC_SCORE = roc_auc_score(y_val, clf_proba)\n",
    "    return AUC_SCORE\n",
    "\n",
    "direction = \"maximize\"\n",
    "sampler = optuna.samplers.TPESampler(seed=10)\n",
    "study =  optuna.create_study(direction=direction, sampler=sampler, pruner=optuna.pruners.HyperbandPruner())\n",
    "early_stopping = EarlyStoppingCallback(10, direction=direction)\n",
    "study.optimize(objective, callbacks=[early_stopping], n_trials=200) "
   ]
  },
  {
   "cell_type": "code",
   "execution_count": null,
   "id": "77833143",
   "metadata": {},
   "outputs": [],
   "source": [
    "print(study.best_trial.params)\n",
    "optuna_auc = study.best_trial.value\n",
    "print(optuna_auc)"
   ]
  },
  {
   "cell_type": "code",
   "execution_count": null,
   "id": "d38034a9",
   "metadata": {},
   "outputs": [],
   "source": [
    "optuna_2 = GradientBoostingClassifier(**study.best_trial.params, random_state = 0)\n",
    "optuna_2.fit(X_train, y_train)"
   ]
  },
  {
   "cell_type": "code",
   "execution_count": null,
   "id": "0e048911",
   "metadata": {},
   "outputs": [],
   "source": [
    "optuna_2_proba = optuna_2.predict_proba(X_test)[:, 1]\n",
    "auc_2 = roc_auc_score(y_test, optuna_2_proba)\n",
    "print(auc_2)"
   ]
  },
  {
   "cell_type": "code",
   "execution_count": null,
   "id": "031cd5b2",
   "metadata": {},
   "outputs": [],
   "source": [
    "X_train = X_train.values\n",
    "y_train = y_train.values"
   ]
  },
  {
   "cell_type": "code",
   "execution_count": null,
   "id": "24f076cd",
   "metadata": {},
   "outputs": [],
   "source": [
    "auc_bootstrap = []"
   ]
  },
  {
   "cell_type": "code",
   "execution_count": null,
   "id": "054c0de2",
   "metadata": {},
   "outputs": [],
   "source": [
    "rs = RandomState(seed = 2)\n",
    "bootstrap_auc(optuna_2, X_train, y_train, X_test, y_test, nsamples=2000)"
   ]
  },
  {
   "cell_type": "code",
   "execution_count": null,
   "id": "a2527d7b",
   "metadata": {},
   "outputs": [],
   "source": [
    "shapiro(auc_bootstrap)"
   ]
  },
  {
   "cell_type": "code",
   "execution_count": null,
   "id": "00a14652",
   "metadata": {},
   "outputs": [],
   "source": [
    "np.mean(auc_bootstrap)"
   ]
  },
  {
   "cell_type": "code",
   "execution_count": null,
   "id": "e2428327",
   "metadata": {},
   "outputs": [],
   "source": [
    "t_2 = auc_bootstrap\n",
    "print(t_2)"
   ]
  },
  {
   "cell_type": "code",
   "execution_count": null,
   "id": "a0910530",
   "metadata": {},
   "outputs": [],
   "source": [
    "del X_train, X_test, y_train, y_test, X_val, y_val,study, optuna_auc"
   ]
  },
  {
   "cell_type": "code",
   "execution_count": null,
   "id": "6757ae4b",
   "metadata": {},
   "outputs": [],
   "source": [
    "#### 3.\n",
    "column_to_drop_2 = '부채 중 임대 보증금의 비중'"
   ]
  },
  {
   "cell_type": "code",
   "execution_count": null,
   "id": "141d425a",
   "metadata": {},
   "outputs": [],
   "source": [
    "if not column_to_drop_2.startswith('Cat_'):\n",
    "    comp_3 = comp_2.drop(column_to_drop_2, axis=1)\n",
    "    X_3 = comp_3.drop('target', axis=1)\n",
    "    y_3 = comp_3['target']\n",
    "else:\n",
    "    comp_3 = comp_2.drop(comp_2.filter(regex='^' + column_to_drop_2).columns, axis=1)\n",
    "    X_3 = comp_3.drop('target', axis=1)\n",
    "    y_3 = comp_3['target']\n",
    "\n",
    "print(X_3.shape)"
   ]
  },
  {
   "cell_type": "code",
   "execution_count": null,
   "id": "320b1c20",
   "metadata": {},
   "outputs": [],
   "source": [
    "X_train, X_test, y_train, y_test = train_test_split(X_3, y_3, test_size=0.2, shuffle=True, stratify=y_3, random_state = 0)\n",
    "X_train, X_val, y_train, y_val = train_test_split(X_train, y_train, test_size=0.2, shuffle=True, stratify=y_train, random_state = 0)"
   ]
  },
  {
   "cell_type": "code",
   "execution_count": null,
   "id": "284da3d1",
   "metadata": {},
   "outputs": [],
   "source": [
    "def objective(trial):\n",
    "    params = {\n",
    "        'learning_rate' :trial.suggest_float('learning_rate',0.01, 0.1,step=0.01),        \n",
    "        'n_estimators' :trial.suggest_int('n_estimators', 50, 200),\n",
    "        'subsample':trial.suggest_float('subsample', 0.1, 1.0,step=0.1),\n",
    "        'max_depth' :trial.suggest_int('max_depth', 1, 10),\n",
    "        'min_samples_split' :trial.suggest_int('min_samples_split', 3, 10),\n",
    "        'min_samples_leaf' :trial.suggest_int('min_samples_leaf', 3, 10),\n",
    "        }\n",
    "        \n",
    "    clf = GradientBoostingClassifier(**params,random_state = 0)\n",
    "    clf.fit(X_train, y_train)\n",
    "    clf_proba = clf.predict_proba(X_val)[:, 1]\n",
    "        \n",
    "    AUC_SCORE = roc_auc_score(y_val, clf_proba)\n",
    "    return AUC_SCORE\n",
    "\n",
    "direction = \"maximize\"\n",
    "sampler = optuna.samplers.TPESampler(seed=10)\n",
    "study =  optuna.create_study(direction=direction, sampler=sampler, pruner=optuna.pruners.HyperbandPruner())\n",
    "early_stopping = EarlyStoppingCallback(10, direction=direction)\n",
    "study.optimize(objective, callbacks=[early_stopping], n_trials=200) "
   ]
  },
  {
   "cell_type": "code",
   "execution_count": null,
   "id": "41b0517d",
   "metadata": {},
   "outputs": [],
   "source": [
    "print(study.best_trial.params)\n",
    "optuna_auc = study.best_trial.value\n",
    "print(optuna_auc)"
   ]
  },
  {
   "cell_type": "code",
   "execution_count": null,
   "id": "1d96afea",
   "metadata": {},
   "outputs": [],
   "source": [
    "optuna_3 = GradientBoostingClassifier(**study.best_trial.params, random_state = 0)\n",
    "optuna_3.fit(X_train, y_train)"
   ]
  },
  {
   "cell_type": "code",
   "execution_count": null,
   "id": "d966e795",
   "metadata": {},
   "outputs": [],
   "source": [
    "optuna_3_proba = optuna_3.predict_proba(X_test)[:, 1]\n",
    "auc_3 = roc_auc_score(y_test, optuna_3_proba)\n",
    "print(auc_3)"
   ]
  },
  {
   "cell_type": "code",
   "execution_count": null,
   "id": "1b7e87dc",
   "metadata": {},
   "outputs": [],
   "source": [
    "X_train = X_train.values\n",
    "y_train = y_train.values"
   ]
  },
  {
   "cell_type": "code",
   "execution_count": null,
   "id": "3dc17a3b",
   "metadata": {},
   "outputs": [],
   "source": [
    "auc_bootstrap = []"
   ]
  },
  {
   "cell_type": "code",
   "execution_count": null,
   "id": "7163527d",
   "metadata": {},
   "outputs": [],
   "source": [
    "rs = RandomState(seed = 3)\n",
    "bootstrap_auc(optuna_3, X_train, y_train, X_test, y_test, nsamples=2000)"
   ]
  },
  {
   "cell_type": "code",
   "execution_count": null,
   "id": "4e59dfd5",
   "metadata": {},
   "outputs": [],
   "source": [
    "shapiro(auc_bootstrap), np.mean(auc_bootstrap)"
   ]
  },
  {
   "cell_type": "code",
   "execution_count": null,
   "id": "c1f3981c",
   "metadata": {},
   "outputs": [],
   "source": [
    "t_3 = auc_bootstrap\n",
    "print(t_3)"
   ]
  },
  {
   "cell_type": "code",
   "execution_count": null,
   "id": "a7ef7ba5",
   "metadata": {},
   "outputs": [],
   "source": [
    "del X_train, X_test, y_train, y_test, X_val, y_val,study, optuna_auc"
   ]
  },
  {
   "cell_type": "code",
   "execution_count": null,
   "id": "fac25b5b",
   "metadata": {},
   "outputs": [],
   "source": [
    "### 4. \n",
    "column_to_drop_3 = 'Cat_가구주 동거 여부'"
   ]
  },
  {
   "cell_type": "code",
   "execution_count": null,
   "id": "ed0c6753",
   "metadata": {},
   "outputs": [],
   "source": [
    "if not column_to_drop_3.startswith('Cat_'):\n",
    "    comp_4 = comp_3.drop(column_to_drop_3, axis=1)\n",
    "    X_4 = comp_4.drop('target', axis=1)\n",
    "    y_4 = comp_4['target']\n",
    "else:\n",
    "    comp_4 = comp_3.drop(comp_3.filter(regex='^' + column_to_drop_3).columns, axis=1)\n",
    "    X_4 = comp_4.drop('target', axis=1)\n",
    "    y_4 = comp_4['target']\n",
    "\n",
    "print(X_4.shape)"
   ]
  },
  {
   "cell_type": "code",
   "execution_count": null,
   "id": "a753227e",
   "metadata": {},
   "outputs": [],
   "source": [
    "X_train, X_test, y_train, y_test = train_test_split(X_4, y_4, test_size=0.2, shuffle=True, stratify=y_4, random_state = 0)\n",
    "X_train, X_val, y_train, y_val = train_test_split(X_train, y_train, test_size=0.2, shuffle=True, stratify=y_train, random_state = 0)"
   ]
  },
  {
   "cell_type": "code",
   "execution_count": null,
   "id": "60c874fb",
   "metadata": {},
   "outputs": [],
   "source": [
    "def objective(trial):\n",
    "    params = {\n",
    "        'learning_rate' :trial.suggest_float('learning_rate',0.01, 0.1,step=0.01),        \n",
    "        'n_estimators' :trial.suggest_int('n_estimators', 50, 200),\n",
    "        'subsample':trial.suggest_float('subsample', 0.1, 1.0,step=0.1),\n",
    "        'max_depth' :trial.suggest_int('max_depth', 1, 10),\n",
    "        'min_samples_split' :trial.suggest_int('min_samples_split', 3, 10),\n",
    "        'min_samples_leaf' :trial.suggest_int('min_samples_leaf', 3, 10),\n",
    "        }\n",
    "        \n",
    "    clf = GradientBoostingClassifier(**params,random_state = 0)\n",
    "    clf.fit(X_train, y_train)\n",
    "    clf_proba = clf.predict_proba(X_val)[:, 1]\n",
    "        \n",
    "    AUC_SCORE = roc_auc_score(y_val, clf_proba)\n",
    "    return AUC_SCORE\n",
    "\n",
    "direction = \"maximize\"\n",
    "sampler = optuna.samplers.TPESampler(seed=10)\n",
    "study =  optuna.create_study(direction=direction, sampler=sampler, pruner=optuna.pruners.HyperbandPruner())\n",
    "early_stopping = EarlyStoppingCallback(10, direction=direction)\n",
    "study.optimize(objective, callbacks=[early_stopping], n_trials=200) \n"
   ]
  },
  {
   "cell_type": "code",
   "execution_count": null,
   "id": "72df3b79",
   "metadata": {},
   "outputs": [],
   "source": [
    "print(study.best_trial.params)\n",
    "optuna_auc = study.best_trial.value\n",
    "print(optuna_auc)"
   ]
  },
  {
   "cell_type": "code",
   "execution_count": null,
   "id": "45c07b93",
   "metadata": {},
   "outputs": [],
   "source": [
    "optuna_4 = GradientBoostingClassifier(**study.best_trial.params, random_state = 0)\n",
    "optuna_4.fit(X_train, y_train)"
   ]
  },
  {
   "cell_type": "code",
   "execution_count": null,
   "id": "2d7c0ccd",
   "metadata": {},
   "outputs": [],
   "source": [
    "optuna_4_proba = optuna_4.predict_proba(X_test)[:, 1]\n",
    "auc_4 = roc_auc_score(y_test, optuna_4_proba)\n",
    "print(auc_4)"
   ]
  },
  {
   "cell_type": "code",
   "execution_count": null,
   "id": "3fa72a7f",
   "metadata": {},
   "outputs": [],
   "source": [
    "X_train = X_train.values\n",
    "y_train = y_train.values"
   ]
  },
  {
   "cell_type": "code",
   "execution_count": null,
   "id": "11cc53e7",
   "metadata": {},
   "outputs": [],
   "source": [
    "auc_bootstrap = []"
   ]
  },
  {
   "cell_type": "code",
   "execution_count": null,
   "id": "3fdfe7be",
   "metadata": {},
   "outputs": [],
   "source": [
    "rs = RandomState(seed = 4)\n",
    "bootstrap_auc(optuna_4, X_train, y_train, X_test, y_test, nsamples=2000)"
   ]
  },
  {
   "cell_type": "code",
   "execution_count": null,
   "id": "a20211f9",
   "metadata": {},
   "outputs": [],
   "source": [
    "shapiro(auc_bootstrap), np.mean(auc_bootstrap)"
   ]
  },
  {
   "cell_type": "code",
   "execution_count": null,
   "id": "e80b2700",
   "metadata": {},
   "outputs": [],
   "source": [
    "t_4 = auc_bootstrap\n",
    "print(t_4)"
   ]
  },
  {
   "cell_type": "code",
   "execution_count": null,
   "id": "f23b77f0",
   "metadata": {},
   "outputs": [],
   "source": [
    "## 5.현재 주택의 위치\n",
    "column_to_drop_4 = '소득 중 사회보험 수혜금의 비중(월평균)'"
   ]
  },
  {
   "cell_type": "code",
   "execution_count": null,
   "id": "a77f2034",
   "metadata": {},
   "outputs": [],
   "source": [
    "if not column_to_drop_4.startswith('Cat_'):\n",
    "    comp_5 = comp_4.drop(column_to_drop_4, axis=1)\n",
    "    X_5 = comp_5.drop('target', axis=1)\n",
    "    y_5 = comp_5['target']\n",
    "else:\n",
    "    comp_5 = comp_4.drop(comp_4.filter(regex='^' + column_to_drop_4).columns, axis=1)\n",
    "    X_5 = comp_5.drop('target', axis=1)\n",
    "    y_5 = comp_5['target']\n",
    "\n",
    "print(X_5.shape)"
   ]
  },
  {
   "cell_type": "code",
   "execution_count": null,
   "id": "820ca745",
   "metadata": {},
   "outputs": [],
   "source": [
    "X_train, X_test, y_train, y_test = train_test_split(X_5, y_5, test_size=0.2, shuffle=True, stratify=y_5, random_state = 0)\n",
    "X_train, X_val, y_train, y_val = train_test_split(X_train, y_train, test_size=0.2, shuffle=True, stratify=y_train, random_state = 0)"
   ]
  },
  {
   "cell_type": "code",
   "execution_count": null,
   "id": "8468083c",
   "metadata": {},
   "outputs": [],
   "source": [
    "def objective(trial):\n",
    "    params = {\n",
    "        'learning_rate' :trial.suggest_float('learning_rate',0.01, 0.1,step=0.01),        \n",
    "        'n_estimators' :trial.suggest_int('n_estimators', 50, 200),\n",
    "        'subsample':trial.suggest_float('subsample', 0.1, 1.0,step=0.1),\n",
    "        'max_depth' :trial.suggest_int('max_depth', 1, 10),\n",
    "        'min_samples_split' :trial.suggest_int('min_samples_split', 3, 10),\n",
    "        'min_samples_leaf' :trial.suggest_int('min_samples_leaf', 3, 10),\n",
    "        }\n",
    "        \n",
    "    clf = GradientBoostingClassifier(**params,random_state = 0)\n",
    "    clf.fit(X_train, y_train)\n",
    "    clf_proba = clf.predict_proba(X_val)[:, 1]\n",
    "        \n",
    "    AUC_SCORE = roc_auc_score(y_val, clf_proba)\n",
    "    return AUC_SCORE\n",
    "\n",
    "direction = \"maximize\"\n",
    "sampler = optuna.samplers.TPESampler(seed=10)\n",
    "study =  optuna.create_study(direction=direction, sampler=sampler, pruner=optuna.pruners.HyperbandPruner())\n",
    "early_stopping = EarlyStoppingCallback(10, direction=direction)\n",
    "study.optimize(objective, callbacks=[early_stopping], n_trials=200) "
   ]
  },
  {
   "cell_type": "code",
   "execution_count": null,
   "id": "fddb8238",
   "metadata": {},
   "outputs": [],
   "source": [
    "print(study.best_trial.params)\n",
    "optuna_auc = study.best_trial.value\n",
    "print(optuna_auc)"
   ]
  },
  {
   "cell_type": "code",
   "execution_count": null,
   "id": "e9498dbe",
   "metadata": {},
   "outputs": [],
   "source": [
    "optuna_5 = GradientBoostingClassifier(**study.best_trial.params, random_state = 0)\n",
    "optuna_5.fit(X_train, y_train)"
   ]
  },
  {
   "cell_type": "code",
   "execution_count": null,
   "id": "f5449a5e",
   "metadata": {},
   "outputs": [],
   "source": [
    "optuna_5_proba = optuna_5.predict_proba(X_test)[:, 1]\n",
    "auc_5 = roc_auc_score(y_test, optuna_5_proba)\n",
    "print(auc_5)"
   ]
  },
  {
   "cell_type": "code",
   "execution_count": null,
   "id": "1fc246e0",
   "metadata": {},
   "outputs": [],
   "source": [
    "X_train = X_train.values\n",
    "y_train = y_train.values"
   ]
  },
  {
   "cell_type": "code",
   "execution_count": null,
   "id": "8a635a21",
   "metadata": {},
   "outputs": [],
   "source": [
    "auc_bootstrap = []"
   ]
  },
  {
   "cell_type": "code",
   "execution_count": null,
   "id": "0fb3907a",
   "metadata": {},
   "outputs": [],
   "source": [
    "rs = RandomState(seed = 5)\n",
    "bootstrap_auc(optuna_5, X_train, y_train, X_test, y_test, nsamples=2000)"
   ]
  },
  {
   "cell_type": "code",
   "execution_count": null,
   "id": "0b6df473",
   "metadata": {},
   "outputs": [],
   "source": [
    "shapiro(auc_bootstrap),np.mean(auc_bootstrap)"
   ]
  },
  {
   "cell_type": "code",
   "execution_count": null,
   "id": "ba989cd7",
   "metadata": {},
   "outputs": [],
   "source": [
    "t_5 = auc_bootstrap\n",
    "print(t_5)"
   ]
  },
  {
   "cell_type": "code",
   "execution_count": null,
   "id": "a29a792a",
   "metadata": {},
   "outputs": [],
   "source": [
    "del X_train, X_test, y_train, y_test, X_val, y_val,study, optuna_auc"
   ]
  },
  {
   "cell_type": "code",
   "execution_count": null,
   "id": "a8dd3cc0",
   "metadata": {},
   "outputs": [],
   "source": [
    "## 6\n",
    "column_to_drop_5 = 'Cat_가구주 주민등록상 등재 여부'"
   ]
  },
  {
   "cell_type": "code",
   "execution_count": null,
   "id": "12e3908e",
   "metadata": {},
   "outputs": [],
   "source": [
    "if not column_to_drop_5.startswith('Cat_'):\n",
    "    comp_6 = comp_5.drop(column_to_drop_5, axis=1)\n",
    "    X_6 = comp_6.drop('target', axis=1)\n",
    "    y_6 = comp_6['target']\n",
    "else:\n",
    "    comp_6 = comp_5.drop(comp_5.filter(regex='^' + column_to_drop_5).columns, axis=1)\n",
    "    X_6 = comp_6.drop('target', axis=1)\n",
    "    y_6 = comp_6['target']\n",
    "\n",
    "print(X_6.shape)"
   ]
  },
  {
   "cell_type": "code",
   "execution_count": null,
   "id": "33e19b97",
   "metadata": {},
   "outputs": [],
   "source": [
    "X_train, X_test, y_train, y_test = train_test_split(X_6, y_6, test_size=0.2, shuffle=True, stratify=y_6, random_state = 0)\n",
    "X_train, X_val, y_train, y_val = train_test_split(X_train, y_train, test_size=0.2, shuffle=True, stratify=y_train, random_state = 0)"
   ]
  },
  {
   "cell_type": "code",
   "execution_count": null,
   "id": "b005b980",
   "metadata": {},
   "outputs": [],
   "source": [
    "def objective(trial):\n",
    "    params = {\n",
    "        'learning_rate' :trial.suggest_float('learning_rate',0.01, 0.1,step=0.01),        \n",
    "        'n_estimators' :trial.suggest_int('n_estimators', 50, 200),\n",
    "        'subsample':trial.suggest_float('subsample', 0.1, 1.0,step=0.1),\n",
    "        'max_depth' :trial.suggest_int('max_depth', 1, 10),\n",
    "        'min_samples_split' :trial.suggest_int('min_samples_split', 3, 10),\n",
    "        'min_samples_leaf' :trial.suggest_int('min_samples_leaf', 3, 10),\n",
    "        }\n",
    "        \n",
    "    clf = GradientBoostingClassifier(**params,random_state = 0)\n",
    "    clf.fit(X_train, y_train)\n",
    "    clf_proba = clf.predict_proba(X_val)[:, 1]\n",
    "        \n",
    "    AUC_SCORE = roc_auc_score(y_val, clf_proba)\n",
    "    return AUC_SCORE\n",
    "\n",
    "direction = \"maximize\"\n",
    "sampler = optuna.samplers.TPESampler(seed=10)\n",
    "study =  optuna.create_study(direction=direction, sampler=sampler, pruner=optuna.pruners.HyperbandPruner())\n",
    "early_stopping = EarlyStoppingCallback(10, direction=direction)\n",
    "study.optimize(objective, callbacks=[early_stopping], n_trials=200) "
   ]
  },
  {
   "cell_type": "code",
   "execution_count": null,
   "id": "b5cb7a69",
   "metadata": {},
   "outputs": [],
   "source": [
    "print(study.best_trial.params)\n",
    "optuna_auc = study.best_trial.value\n",
    "print(optuna_auc)"
   ]
  },
  {
   "cell_type": "code",
   "execution_count": null,
   "id": "7bf7a576",
   "metadata": {},
   "outputs": [],
   "source": [
    "optuna_6 = GradientBoostingClassifier(**study.best_trial.params, random_state = 0)\n",
    "optuna_6.fit(X_train, y_train)"
   ]
  },
  {
   "cell_type": "code",
   "execution_count": null,
   "id": "4ded8dfe",
   "metadata": {},
   "outputs": [],
   "source": [
    "optuna_proba_6 = optuna_6.predict_proba(X_test)[:, 1]\n",
    "auc_6 = roc_auc_score(y_test, optuna_proba_6)\n",
    "print(auc_6)"
   ]
  },
  {
   "cell_type": "code",
   "execution_count": null,
   "id": "875a55d8",
   "metadata": {},
   "outputs": [],
   "source": [
    "X_train = X_train.values\n",
    "y_train = y_train.values"
   ]
  },
  {
   "cell_type": "code",
   "execution_count": null,
   "id": "66700186",
   "metadata": {},
   "outputs": [],
   "source": [
    "auc_bootstrap = []"
   ]
  },
  {
   "cell_type": "code",
   "execution_count": null,
   "id": "c5e1bc41",
   "metadata": {},
   "outputs": [],
   "source": [
    "rs = RandomState(seed = 6)\n",
    "bootstrap_auc(optuna_6, X_train, y_train, X_test, y_test, nsamples=2000)"
   ]
  },
  {
   "cell_type": "code",
   "execution_count": null,
   "id": "dca363c8",
   "metadata": {},
   "outputs": [],
   "source": [
    "shapiro(auc_bootstrap), np.mean(auc_bootstrap)"
   ]
  },
  {
   "cell_type": "code",
   "execution_count": null,
   "id": "c5052760",
   "metadata": {},
   "outputs": [],
   "source": [
    "t_6 = auc_bootstrap\n",
    "print(t_6)"
   ]
  },
  {
   "cell_type": "code",
   "execution_count": null,
   "id": "c5f407c8",
   "metadata": {},
   "outputs": [],
   "source": [
    "del X_train, X_test, y_train, y_test, X_val, y_val,study, optuna_auc"
   ]
  },
  {
   "cell_type": "code",
   "execution_count": null,
   "id": "8f060cf9",
   "metadata": {},
   "outputs": [],
   "source": [
    "## 7 .\n",
    "column_to_drop_6 = '자산 중 부동산 자산의 비중'"
   ]
  },
  {
   "cell_type": "code",
   "execution_count": null,
   "id": "a6508f66",
   "metadata": {},
   "outputs": [],
   "source": [
    "if not column_to_drop_6.startswith('Cat_'):\n",
    "    comp_7 = comp_6.drop(column_to_drop_6, axis=1)\n",
    "    X_7 = comp_7.drop('target', axis=1)\n",
    "    y_7 = comp_7['target']\n",
    "else:\n",
    "    comp_7 = comp_6.drop(comp_6.filter(regex='^' + column_to_drop_6).columns, axis=1)\n",
    "    X_7 = comp_7.drop('target', axis=1)\n",
    "    y_7 = comp_7['target']\n",
    "\n",
    "print(X_7.shape)"
   ]
  },
  {
   "cell_type": "code",
   "execution_count": null,
   "id": "f1063727",
   "metadata": {},
   "outputs": [],
   "source": [
    "X_train, X_test, y_train, y_test = train_test_split(X_7, y_7, test_size=0.2, shuffle=True, stratify=y_7, random_state = 0)\n",
    "X_train, X_val, y_train, y_val = train_test_split(X_train, y_train, test_size=0.2, shuffle=True, stratify=y_train, random_state = 0)"
   ]
  },
  {
   "cell_type": "code",
   "execution_count": null,
   "id": "8b4dc1ad",
   "metadata": {},
   "outputs": [],
   "source": [
    "def objective(trial):\n",
    "    params = {\n",
    "        'learning_rate' :trial.suggest_float('learning_rate',0.01, 0.1,step=0.01),        \n",
    "        'n_estimators' :trial.suggest_int('n_estimators', 50, 200),\n",
    "        'subsample':trial.suggest_float('subsample', 0.1, 1.0,step=0.1),\n",
    "        'max_depth' :trial.suggest_int('max_depth', 1, 10),\n",
    "        'min_samples_split' :trial.suggest_int('min_samples_split', 3, 10),\n",
    "        'min_samples_leaf' :trial.suggest_int('min_samples_leaf', 3, 10),\n",
    "        }\n",
    "        \n",
    "    clf = GradientBoostingClassifier(**params,random_state = 0)\n",
    "    clf.fit(X_train, y_train)\n",
    "    clf_proba = clf.predict_proba(X_val)[:, 1]\n",
    "        \n",
    "    AUC_SCORE = roc_auc_score(y_val, clf_proba)\n",
    "    return AUC_SCORE\n",
    "\n",
    "direction = \"maximize\"\n",
    "sampler = optuna.samplers.TPESampler(seed=10)\n",
    "study =  optuna.create_study(direction=direction, sampler=sampler, pruner=optuna.pruners.HyperbandPruner())\n",
    "early_stopping = EarlyStoppingCallback(10, direction=direction)\n",
    "study.optimize(objective, callbacks=[early_stopping], n_trials=200) "
   ]
  },
  {
   "cell_type": "code",
   "execution_count": null,
   "id": "037daacc",
   "metadata": {},
   "outputs": [],
   "source": [
    "print(study.best_trial.params)\n",
    "optuna_auc = study.best_trial.value\n",
    "print(optuna_auc)"
   ]
  },
  {
   "cell_type": "code",
   "execution_count": null,
   "id": "8cea29cd",
   "metadata": {},
   "outputs": [],
   "source": [
    "optuna_7 = GradientBoostingClassifier(**study.best_trial.params, random_state = 0)\n",
    "optuna_7.fit(X_train, y_train)"
   ]
  },
  {
   "cell_type": "code",
   "execution_count": null,
   "id": "751c618c",
   "metadata": {},
   "outputs": [],
   "source": [
    "optuna_proba_7 = optuna_7.predict_proba(X_test)[:, 1]\n",
    "auc_7 = roc_auc_score(y_test, optuna_proba_7)\n",
    "print(auc_7)"
   ]
  },
  {
   "cell_type": "code",
   "execution_count": null,
   "id": "8541e3ba",
   "metadata": {},
   "outputs": [],
   "source": [
    "X_train = X_train.values\n",
    "y_train = y_train.values"
   ]
  },
  {
   "cell_type": "code",
   "execution_count": null,
   "id": "d90d35c3",
   "metadata": {},
   "outputs": [],
   "source": [
    "auc_bootstrap = []"
   ]
  },
  {
   "cell_type": "code",
   "execution_count": null,
   "id": "2b0075fb",
   "metadata": {},
   "outputs": [],
   "source": [
    "rs = RandomState(seed = 7)\n",
    "bootstrap_auc(optuna_7, X_train, y_train, X_test, y_test, nsamples=2000)"
   ]
  },
  {
   "cell_type": "code",
   "execution_count": null,
   "id": "b1b4d5dd",
   "metadata": {},
   "outputs": [],
   "source": [
    "shapiro(auc_bootstrap), np.mean(auc_bootstrap)"
   ]
  },
  {
   "cell_type": "code",
   "execution_count": null,
   "id": "23afc1e3",
   "metadata": {},
   "outputs": [],
   "source": [
    "t_7 = auc_bootstrap\n",
    "print(t_7)"
   ]
  },
  {
   "cell_type": "code",
   "execution_count": null,
   "id": "6b4caec8",
   "metadata": {},
   "outputs": [],
   "source": [
    "del X_train, X_test, y_train, y_test, X_val, y_val,study, optuna_auc"
   ]
  },
  {
   "cell_type": "code",
   "execution_count": null,
   "id": "0f790daa",
   "metadata": {},
   "outputs": [],
   "source": [
    "## 8 .\n",
    "column_to_drop_7 = 'Cat_현재 주택의 구조'"
   ]
  },
  {
   "cell_type": "code",
   "execution_count": null,
   "id": "011a93c3",
   "metadata": {},
   "outputs": [],
   "source": [
    "if not column_to_drop_7.startswith('Cat_'):\n",
    "    comp_8 = comp_7.drop(column_to_drop_7, axis=1)\n",
    "    X_8 = comp_8.drop('target', axis=1)\n",
    "    y_8 = comp_8['target']\n",
    "else:\n",
    "    comp_8 = comp_7.drop(comp_7.filter(regex='^' + column_to_drop_7).columns, axis=1)\n",
    "    X_8 = comp_8.drop('target', axis=1)\n",
    "    y_8 = comp_8['target']\n",
    "\n",
    "print(X_8.shape)"
   ]
  },
  {
   "cell_type": "code",
   "execution_count": null,
   "id": "37ee9f2d",
   "metadata": {},
   "outputs": [],
   "source": [
    "X_train, X_test, y_train, y_test = train_test_split(X_8, y_8, test_size=0.2, shuffle=True, stratify=y_8, random_state = 0)\n",
    "X_train, X_val, y_train, y_val = train_test_split(X_train, y_train, test_size=0.2, shuffle=True, stratify=y_train, random_state = 0)"
   ]
  },
  {
   "cell_type": "code",
   "execution_count": null,
   "id": "aaecbabf",
   "metadata": {},
   "outputs": [],
   "source": [
    "def objective(trial):\n",
    "    params = {\n",
    "        'learning_rate' :trial.suggest_float('learning_rate',0.01, 0.1,step=0.01),        \n",
    "        'n_estimators' :trial.suggest_int('n_estimators', 50, 200),\n",
    "        'subsample':trial.suggest_float('subsample', 0.1, 1.0,step=0.1),\n",
    "        'max_depth' :trial.suggest_int('max_depth', 1, 10),\n",
    "        'min_samples_split' :trial.suggest_int('min_samples_split', 3, 10),\n",
    "        'min_samples_leaf' :trial.suggest_int('min_samples_leaf', 3, 10),\n",
    "        }\n",
    "        \n",
    "    clf = GradientBoostingClassifier(**params,random_state = 0)\n",
    "    clf.fit(X_train, y_train)\n",
    "    clf_proba = clf.predict_proba(X_val)[:, 1]\n",
    "        \n",
    "    AUC_SCORE = roc_auc_score(y_val, clf_proba)\n",
    "    return AUC_SCORE\n",
    "\n",
    "direction = \"maximize\"\n",
    "sampler = optuna.samplers.TPESampler(seed=10)\n",
    "study =  optuna.create_study(direction=direction, sampler=sampler, pruner=optuna.pruners.HyperbandPruner())\n",
    "early_stopping = EarlyStoppingCallback(10, direction=direction)\n",
    "study.optimize(objective, callbacks=[early_stopping], n_trials=200) "
   ]
  },
  {
   "cell_type": "code",
   "execution_count": null,
   "id": "7a09d1e8",
   "metadata": {},
   "outputs": [],
   "source": [
    "print(study.best_trial.params)\n",
    "optuna_auc = study.best_trial.value\n",
    "print(optuna_auc)"
   ]
  },
  {
   "cell_type": "code",
   "execution_count": null,
   "id": "1ce37407",
   "metadata": {},
   "outputs": [],
   "source": [
    "optuna_8 = GradientBoostingClassifier(**study.best_trial.params, random_state = 0)\n",
    "optuna_8.fit(X_train, y_train)"
   ]
  },
  {
   "cell_type": "code",
   "execution_count": null,
   "id": "6077a19e",
   "metadata": {},
   "outputs": [],
   "source": [
    "optuna_proba_8 = optuna_8.predict_proba(X_test)[:, 1]\n",
    "auc_8 = roc_auc_score(y_test, optuna_proba_8)\n",
    "print(decimal.Decimal(auc_8).quantize(decimal.Decimal('1.000')))"
   ]
  },
  {
   "cell_type": "code",
   "execution_count": null,
   "id": "f289dee9",
   "metadata": {},
   "outputs": [],
   "source": [
    "X_train = X_train.values\n",
    "y_train = y_train.values"
   ]
  },
  {
   "cell_type": "code",
   "execution_count": null,
   "id": "1312c76e",
   "metadata": {},
   "outputs": [],
   "source": [
    "auc_bootstrap = []"
   ]
  },
  {
   "cell_type": "code",
   "execution_count": null,
   "id": "c7234ff8",
   "metadata": {},
   "outputs": [],
   "source": [
    "rs = RandomState(seed = 8)\n",
    "bootstrap_auc(optuna_8, X_train, y_train, X_test, y_test, nsamples=2000)"
   ]
  },
  {
   "cell_type": "code",
   "execution_count": null,
   "id": "19dda620",
   "metadata": {},
   "outputs": [],
   "source": [
    "shapiro(auc_bootstrap), np.mean(auc_bootstrap)"
   ]
  },
  {
   "cell_type": "code",
   "execution_count": null,
   "id": "805e8bb1",
   "metadata": {},
   "outputs": [],
   "source": [
    "t_8 = auc_bootstrap\n",
    "print(t_8)"
   ]
  },
  {
   "cell_type": "code",
   "execution_count": null,
   "id": "987ab939",
   "metadata": {},
   "outputs": [],
   "source": [
    "del X_train, X_test, y_train, y_test, X_val, y_val,study, optuna_auc"
   ]
  },
  {
   "cell_type": "code",
   "execution_count": null,
   "id": "efbf5b72",
   "metadata": {},
   "outputs": [],
   "source": [
    "#9.\n",
    "column_to_drop_8 = '소득 중 재산소득의 비중(월평균)'"
   ]
  },
  {
   "cell_type": "code",
   "execution_count": null,
   "id": "0fb25e50",
   "metadata": {},
   "outputs": [],
   "source": [
    "if not column_to_drop_8.startswith('Cat_'):\n",
    "    comp_9 = comp_8.drop(column_to_drop_8, axis=1)\n",
    "    X_9 = comp_9.drop('target', axis=1)\n",
    "    y_9 = comp_9['target']\n",
    "else:\n",
    "    comp_9 = comp_8.drop(comp_8.filter(regex='^' + column_to_drop_8).columns, axis=1)\n",
    "    X_9 = comp_9.drop('target', axis=1)\n",
    "    y_9 = comp_9['target']\n",
    "\n",
    "print(X_9.shape)"
   ]
  },
  {
   "cell_type": "code",
   "execution_count": null,
   "id": "fe8776b4",
   "metadata": {},
   "outputs": [],
   "source": [
    "X_train, X_test, y_train, y_test = train_test_split(X_9, y_9, test_size=0.2, shuffle=True, stratify=y_9, random_state = 0)\n",
    "X_train, X_val, y_train, y_val = train_test_split(X_train, y_train, test_size=0.2, shuffle=True, stratify=y_train, random_state = 0)"
   ]
  },
  {
   "cell_type": "code",
   "execution_count": null,
   "id": "da15b335",
   "metadata": {},
   "outputs": [],
   "source": [
    "def objective(trial):\n",
    "    params = {\n",
    "        'learning_rate' :trial.suggest_float('learning_rate',0.01, 0.1,step=0.01),        \n",
    "        'n_estimators' :trial.suggest_int('n_estimators', 50, 200),\n",
    "        'subsample':trial.suggest_float('subsample', 0.1, 1.0,step=0.1),\n",
    "        'max_depth' :trial.suggest_int('max_depth', 1, 10),\n",
    "        'min_samples_split' :trial.suggest_int('min_samples_split', 3, 10),\n",
    "        'min_samples_leaf' :trial.suggest_int('min_samples_leaf', 3, 10),\n",
    "        }\n",
    "        \n",
    "    clf = GradientBoostingClassifier(**params,random_state = 0)\n",
    "    clf.fit(X_train, y_train)\n",
    "    clf_proba = clf.predict_proba(X_val)[:, 1]\n",
    "        \n",
    "    AUC_SCORE = roc_auc_score(y_val, clf_proba)\n",
    "    return AUC_SCORE\n",
    "\n",
    "direction = \"maximize\"\n",
    "sampler = optuna.samplers.TPESampler(seed=10)\n",
    "study =  optuna.create_study(direction=direction, sampler=sampler, pruner=optuna.pruners.HyperbandPruner())\n",
    "early_stopping = EarlyStoppingCallback(10, direction=direction)\n",
    "study.optimize(objective, callbacks=[early_stopping], n_trials=200) "
   ]
  },
  {
   "cell_type": "code",
   "execution_count": null,
   "id": "c8103a6d",
   "metadata": {},
   "outputs": [],
   "source": [
    "print(study.best_trial.params)\n",
    "optuna_auc = study.best_trial.value\n",
    "print(optuna_auc)"
   ]
  },
  {
   "cell_type": "code",
   "execution_count": null,
   "id": "61dfd635",
   "metadata": {},
   "outputs": [],
   "source": [
    "optuna_9 = GradientBoostingClassifier(**study.best_trial.params, random_state = 0)\n",
    "optuna_9.fit(X_train, y_train)"
   ]
  },
  {
   "cell_type": "code",
   "execution_count": null,
   "id": "6006695a",
   "metadata": {},
   "outputs": [],
   "source": [
    "optuna_proba_9 = optuna_9.predict_proba(X_test)[:, 1]\n",
    "auc_9 = roc_auc_score(y_test, optuna_proba_9)\n",
    "print(decimal.Decimal(auc_9).quantize(decimal.Decimal('1.000')))"
   ]
  },
  {
   "cell_type": "code",
   "execution_count": null,
   "id": "fca15900",
   "metadata": {},
   "outputs": [],
   "source": [
    "X_train = X_train.values\n",
    "y_train = y_train.values"
   ]
  },
  {
   "cell_type": "code",
   "execution_count": null,
   "id": "34f2fa2a",
   "metadata": {},
   "outputs": [],
   "source": [
    "auc_bootstrap = []"
   ]
  },
  {
   "cell_type": "code",
   "execution_count": null,
   "id": "a804fc77",
   "metadata": {},
   "outputs": [],
   "source": [
    "rs = RandomState(seed = 9)\n",
    "bootstrap_auc(optuna_9, X_train, y_train, X_test, y_test, nsamples=2000)"
   ]
  },
  {
   "cell_type": "code",
   "execution_count": null,
   "id": "39877ec5",
   "metadata": {},
   "outputs": [],
   "source": [
    "shapiro(auc_bootstrap), np.mean(auc_bootstrap)"
   ]
  },
  {
   "cell_type": "code",
   "execution_count": null,
   "id": "65b5e6f1",
   "metadata": {},
   "outputs": [],
   "source": [
    "t_9 = auc_bootstrap\n",
    "print(t_9)"
   ]
  },
  {
   "cell_type": "code",
   "execution_count": null,
   "id": "57212c93",
   "metadata": {},
   "outputs": [],
   "source": [
    "del X_train, X_test, y_train, y_test, X_val, y_val,study, optuna_auc"
   ]
  },
  {
   "cell_type": "code",
   "execution_count": null,
   "id": "b7c54ee0",
   "metadata": {},
   "outputs": [],
   "source": [
    "# 여기서 다시 3월 25일 오전 3시"
   ]
  },
  {
   "cell_type": "code",
   "execution_count": null,
   "id": "639c39cb",
   "metadata": {},
   "outputs": [],
   "source": [
    "# 10.\n",
    "column_to_drop_9 = 'Cat_현재 주택의 위치'"
   ]
  },
  {
   "cell_type": "code",
   "execution_count": null,
   "id": "5bc2925e",
   "metadata": {},
   "outputs": [],
   "source": [
    "if not column_to_drop_9.startswith('Cat_'):\n",
    "    comp_10 = comp_9.drop(column_to_drop_9, axis=1)\n",
    "    X_10 = comp_10.drop('target', axis=1)\n",
    "    y_10 = comp_10['target']\n",
    "else:\n",
    "    comp_10 = comp_9.drop(comp_9.filter(regex='^' + column_to_drop_9).columns, axis=1)\n",
    "    X_10 = comp_10.drop('target', axis=1)\n",
    "    y_10 = comp_10['target']\n",
    "\n",
    "print(X_10.shape)"
   ]
  },
  {
   "cell_type": "code",
   "execution_count": null,
   "id": "da0c33e7",
   "metadata": {},
   "outputs": [],
   "source": [
    "X_train, X_test, y_train, y_test = train_test_split(X_10, y_10, test_size=0.2, shuffle=True, stratify=y_10, random_state = 0)\n",
    "X_train, X_val, y_train, y_val = train_test_split(X_train, y_train, test_size=0.2, shuffle=True, stratify=y_train, random_state = 0)"
   ]
  },
  {
   "cell_type": "code",
   "execution_count": null,
   "id": "f8bd8ab0",
   "metadata": {},
   "outputs": [],
   "source": [
    "def objective(trial):\n",
    "    params = {\n",
    "        'learning_rate' :trial.suggest_float('learning_rate',0.01, 0.1,step=0.01),        \n",
    "        'n_estimators' :trial.suggest_int('n_estimators', 50, 200),\n",
    "        'subsample':trial.suggest_float('subsample', 0.1, 1.0,step=0.1),\n",
    "        'max_depth' :trial.suggest_int('max_depth', 1, 10),\n",
    "        'min_samples_split' :trial.suggest_int('min_samples_split', 3, 10),\n",
    "        'min_samples_leaf' :trial.suggest_int('min_samples_leaf', 3, 10),\n",
    "        }\n",
    "        \n",
    "    clf = GradientBoostingClassifier(**params,random_state = 0)\n",
    "    clf.fit(X_train, y_train)\n",
    "    clf_proba = clf.predict_proba(X_val)[:, 1]\n",
    "        \n",
    "    AUC_SCORE = roc_auc_score(y_val, clf_proba)\n",
    "    return AUC_SCORE\n",
    "\n",
    "direction = \"maximize\"\n",
    "sampler = optuna.samplers.TPESampler(seed=10)\n",
    "study =  optuna.create_study(direction=direction, sampler=sampler, pruner=optuna.pruners.HyperbandPruner())\n",
    "early_stopping = EarlyStoppingCallback(10, direction=direction)\n",
    "study.optimize(objective, callbacks=[early_stopping], n_trials=200) "
   ]
  },
  {
   "cell_type": "code",
   "execution_count": null,
   "id": "a99cce07",
   "metadata": {},
   "outputs": [],
   "source": [
    "print(study.best_trial.params)\n",
    "optuna_auc = study.best_trial.value\n",
    "print(optuna_auc)"
   ]
  },
  {
   "cell_type": "code",
   "execution_count": null,
   "id": "d24b98c8",
   "metadata": {},
   "outputs": [],
   "source": [
    "optuna_10 = GradientBoostingClassifier(**study.best_trial.params, random_state=0)\n",
    "optuna_10.fit(X_train, y_train)"
   ]
  },
  {
   "cell_type": "code",
   "execution_count": null,
   "id": "4d9c0bb1",
   "metadata": {},
   "outputs": [],
   "source": [
    "optuna_proba_10 = optuna_10.predict_proba(X_test)[:, 1]\n",
    "auc_10 = roc_auc_score(y_test, optuna_proba_10)\n",
    "print(decimal.Decimal(auc_10).quantize(decimal.Decimal('1.000')))"
   ]
  },
  {
   "cell_type": "code",
   "execution_count": null,
   "id": "e155d989",
   "metadata": {},
   "outputs": [],
   "source": [
    "X_train = X_train.values\n",
    "y_train = y_train.values"
   ]
  },
  {
   "cell_type": "code",
   "execution_count": null,
   "id": "83cfea8f",
   "metadata": {},
   "outputs": [],
   "source": [
    "auc_bootstrap = []"
   ]
  },
  {
   "cell_type": "code",
   "execution_count": null,
   "id": "4413b9a4",
   "metadata": {},
   "outputs": [],
   "source": [
    "rs = RandomState(seed = 10)\n",
    "bootstrap_auc(optuna_10, X_train, y_train, X_test, y_test, nsamples=2000)"
   ]
  },
  {
   "cell_type": "code",
   "execution_count": null,
   "id": "cb2a5013",
   "metadata": {},
   "outputs": [],
   "source": [
    "from scipy.stats import shapiro"
   ]
  },
  {
   "cell_type": "code",
   "execution_count": null,
   "id": "a82f36bd",
   "metadata": {},
   "outputs": [],
   "source": [
    "shapiro(auc_bootstrap), np.mean(auc_bootstrap)"
   ]
  },
  {
   "cell_type": "code",
   "execution_count": null,
   "id": "03a46471",
   "metadata": {},
   "outputs": [],
   "source": [
    "t_10 = auc_bootstrap\n",
    "print(t_10)"
   ]
  },
  {
   "cell_type": "code",
   "execution_count": null,
   "id": "f75a2d7c",
   "metadata": {},
   "outputs": [],
   "source": [
    "del X_train, X_test, y_train, y_test, X_val, y_val,study, optuna_auc"
   ]
  },
  {
   "cell_type": "code",
   "execution_count": null,
   "id": "e7ff90fe",
   "metadata": {},
   "outputs": [],
   "source": [
    "# 11.\n",
    "column_to_drop_10 = '소득 중 사적이전소득의 비중(월평균)'"
   ]
  },
  {
   "cell_type": "code",
   "execution_count": null,
   "id": "2f996e0c",
   "metadata": {},
   "outputs": [],
   "source": [
    "if not column_to_drop_10.startswith('Cat_'):\n",
    "    comp_11 = comp_10.drop(column_to_drop_10, axis=1)\n",
    "    X_11 = comp_11.drop('target', axis=1)\n",
    "    y_11 = comp_11['target']\n",
    "else:\n",
    "    comp_11 = comp_10.drop(comp_10.filter(regex='^' + column_to_drop_10).columns, axis=1)\n",
    "    X_11 = comp_11.drop('target', axis=1)\n",
    "    y_11 = comp_11['target']\n",
    "\n",
    "print(X_11.shape)"
   ]
  },
  {
   "cell_type": "code",
   "execution_count": null,
   "id": "e0aaa9b8",
   "metadata": {},
   "outputs": [],
   "source": [
    "X_train, X_test, y_train, y_test = train_test_split(X_11, y_11, test_size=0.2, shuffle=True, stratify=y_11, random_state = 0)\n",
    "X_train, X_val, y_train, y_val = train_test_split(X_train, y_train, test_size=0.2, shuffle=True, stratify=y_train, random_state = 0)"
   ]
  },
  {
   "cell_type": "code",
   "execution_count": null,
   "id": "29b0961f",
   "metadata": {},
   "outputs": [],
   "source": [
    "def objective(trial):\n",
    "    params = {\n",
    "        'learning_rate' :trial.suggest_float('learning_rate',0.01, 0.1,step=0.01),        \n",
    "        'n_estimators' :trial.suggest_int('n_estimators', 50, 200),\n",
    "        'subsample':trial.suggest_float('subsample', 0.1, 1.0,step=0.1),\n",
    "        'max_depth' :trial.suggest_int('max_depth', 1, 10),\n",
    "        'min_samples_split' :trial.suggest_int('min_samples_split', 3, 10),\n",
    "        'min_samples_leaf' :trial.suggest_int('min_samples_leaf', 3, 10),\n",
    "        }\n",
    "        \n",
    "    clf = GradientBoostingClassifier(**params,random_state = 0)\n",
    "    clf.fit(X_train, y_train)\n",
    "    clf_proba = clf.predict_proba(X_val)[:, 1]\n",
    "        \n",
    "    AUC_SCORE = roc_auc_score(y_val, clf_proba)\n",
    "    return AUC_SCORE\n",
    "\n",
    "direction = \"maximize\"\n",
    "sampler = optuna.samplers.TPESampler(seed=10)\n",
    "study =  optuna.create_study(direction=direction, sampler=sampler, pruner=optuna.pruners.HyperbandPruner())\n",
    "early_stopping = EarlyStoppingCallback(10, direction=direction)\n",
    "study.optimize(objective, callbacks=[early_stopping], n_trials=200) "
   ]
  },
  {
   "cell_type": "code",
   "execution_count": null,
   "id": "4a03048b",
   "metadata": {},
   "outputs": [],
   "source": [
    "print(study.best_trial.params)\n",
    "optuna_auc = study.best_trial.value\n",
    "print(optuna_auc)"
   ]
  },
  {
   "cell_type": "code",
   "execution_count": null,
   "id": "1b72bf0b",
   "metadata": {},
   "outputs": [],
   "source": [
    "optuna_11 = GradientBoostingClassifier(**study.best_trial.params, random_state = 0)\n",
    "optuna_11.fit(X_train, y_train)"
   ]
  },
  {
   "cell_type": "code",
   "execution_count": null,
   "id": "c7a1faaa",
   "metadata": {},
   "outputs": [],
   "source": [
    "optuna_proba_11 = optuna_11.predict_proba(X_test)[:, 1]\n",
    "auc_11 = roc_auc_score(y_test, optuna_proba_11)\n",
    "print(decimal.Decimal(auc_11).quantize(decimal.Decimal('1.000')))"
   ]
  },
  {
   "cell_type": "code",
   "execution_count": null,
   "id": "3503027a",
   "metadata": {},
   "outputs": [],
   "source": [
    "X_train = X_train.values\n",
    "y_train = y_train.values"
   ]
  },
  {
   "cell_type": "code",
   "execution_count": null,
   "id": "e4fc0910",
   "metadata": {},
   "outputs": [],
   "source": [
    "auc_bootstrap = []"
   ]
  },
  {
   "cell_type": "code",
   "execution_count": null,
   "id": "e4376437",
   "metadata": {},
   "outputs": [],
   "source": [
    "rs = RandomState(seed = 11)\n",
    "bootstrap_auc(optuna_11, X_train, y_train, X_test, y_test, nsamples=2000)"
   ]
  },
  {
   "cell_type": "code",
   "execution_count": null,
   "id": "8519d048",
   "metadata": {},
   "outputs": [],
   "source": [
    "shapiro(auc_bootstrap), np.mean(auc_bootstrap)"
   ]
  },
  {
   "cell_type": "code",
   "execution_count": null,
   "id": "c057490b",
   "metadata": {},
   "outputs": [],
   "source": [
    "t_11 = auc_bootstrap\n",
    "print(t_11)"
   ]
  },
  {
   "cell_type": "code",
   "execution_count": null,
   "id": "57edaf4d",
   "metadata": {},
   "outputs": [],
   "source": [
    "del X_train, X_test, y_train, y_test, X_val, y_val,study, optuna_auc"
   ]
  },
  {
   "cell_type": "code",
   "execution_count": null,
   "id": "84ea94aa",
   "metadata": {},
   "outputs": [],
   "source": [
    "# 12\n",
    "column_to_drop_11 = 'Cat_소득 계층'"
   ]
  },
  {
   "cell_type": "code",
   "execution_count": null,
   "id": "937b3153",
   "metadata": {},
   "outputs": [],
   "source": [
    "if not column_to_drop_11.startswith('Cat_'):\n",
    "    comp_12 = comp_11.drop(column_to_drop_11, axis=1)\n",
    "    X_12 = comp_12.drop('target', axis=1)\n",
    "    y_12 = comp_12['target']\n",
    "else:\n",
    "    comp_12 = comp_11.drop(comp_11.filter(regex='^' + column_to_drop_11).columns, axis=1)\n",
    "    X_12 = comp_12.drop('target', axis=1)\n",
    "    y_12 = comp_12['target']\n",
    "\n",
    "print(X_12.shape)"
   ]
  },
  {
   "cell_type": "code",
   "execution_count": null,
   "id": "2bb2d219",
   "metadata": {},
   "outputs": [],
   "source": [
    "X_train, X_test, y_train, y_test = train_test_split(X_12, y_12, test_size=0.2, shuffle=True, stratify=y_12, random_state = 0)\n",
    "X_train, X_val, y_train, y_val = train_test_split(X_train, y_train, test_size=0.2, shuffle=True, stratify=y_train, random_state = 0)"
   ]
  },
  {
   "cell_type": "code",
   "execution_count": null,
   "id": "bdd9b38f",
   "metadata": {},
   "outputs": [],
   "source": [
    "X_train.shape"
   ]
  },
  {
   "cell_type": "code",
   "execution_count": null,
   "id": "34e4701f",
   "metadata": {},
   "outputs": [],
   "source": [
    "def objective(trial):\n",
    "    params = {\n",
    "        'learning_rate' :trial.suggest_float('learning_rate',0.01, 0.1,step=0.01),        \n",
    "        'n_estimators' :trial.suggest_int('n_estimators', 50, 200),\n",
    "        'subsample':trial.suggest_float('subsample', 0.1, 1.0,step=0.1),\n",
    "        'max_depth' :trial.suggest_int('max_depth', 1, 10),\n",
    "        'min_samples_split' :trial.suggest_int('min_samples_split', 3, 10),\n",
    "        'min_samples_leaf' :trial.suggest_int('min_samples_leaf', 3, 10),\n",
    "        }\n",
    "        \n",
    "    clf = GradientBoostingClassifier(**params,random_state = 0)\n",
    "    clf.fit(X_train, y_train)\n",
    "    clf_proba = clf.predict_proba(X_val)[:, 1]\n",
    "        \n",
    "    AUC_SCORE = roc_auc_score(y_val, clf_proba)\n",
    "    return AUC_SCORE\n",
    "\n",
    "direction = \"maximize\"\n",
    "sampler = optuna.samplers.TPESampler(seed=10)\n",
    "study =  optuna.create_study(direction=direction, sampler=sampler, pruner=optuna.pruners.HyperbandPruner())\n",
    "early_stopping = EarlyStoppingCallback(10, direction=direction)\n",
    "study.optimize(objective, callbacks=[early_stopping], n_trials=200) "
   ]
  },
  {
   "cell_type": "code",
   "execution_count": null,
   "id": "c7939ca9",
   "metadata": {},
   "outputs": [],
   "source": [
    "print(study.best_trial.params)\n",
    "optuna_auc = study.best_trial.value\n",
    "print(optuna_auc)"
   ]
  },
  {
   "cell_type": "code",
   "execution_count": null,
   "id": "195905c3",
   "metadata": {},
   "outputs": [],
   "source": [
    "optuna_12 = GradientBoostingClassifier(**study.best_trial.params, random_state = 0)\n",
    "optuna_12.fit(X_train, y_train)"
   ]
  },
  {
   "cell_type": "code",
   "execution_count": null,
   "id": "bf37b0cd",
   "metadata": {},
   "outputs": [],
   "source": [
    "optuna_proba_12 = optuna_12.predict_proba(X_test)[:, 1]\n",
    "auc_12 = roc_auc_score(y_test, optuna_proba_12)\n",
    "print(decimal.Decimal(auc_12).quantize(decimal.Decimal('1.000')))"
   ]
  },
  {
   "cell_type": "code",
   "execution_count": null,
   "id": "a66a7071",
   "metadata": {},
   "outputs": [],
   "source": [
    "X_train = X_train.values\n",
    "y_train = y_train.values"
   ]
  },
  {
   "cell_type": "code",
   "execution_count": null,
   "id": "8d9a7c44",
   "metadata": {},
   "outputs": [],
   "source": [
    "auc_bootstrap = []"
   ]
  },
  {
   "cell_type": "code",
   "execution_count": null,
   "id": "6baa9403",
   "metadata": {},
   "outputs": [],
   "source": [
    "rs = RandomState(seed = 12)\n",
    "bootstrap_auc(optuna_12, X_train, y_train, X_test, y_test, nsamples=2000)"
   ]
  },
  {
   "cell_type": "code",
   "execution_count": null,
   "id": "5d5ef31a",
   "metadata": {},
   "outputs": [],
   "source": [
    "shapiro(auc_bootstrap),np.mean(auc_bootstrap)"
   ]
  },
  {
   "cell_type": "code",
   "execution_count": null,
   "id": "ca01a08a",
   "metadata": {},
   "outputs": [],
   "source": [
    "t_12 = auc_bootstrap\n",
    "print(t_12)"
   ]
  },
  {
   "cell_type": "code",
   "execution_count": null,
   "id": "2fc2862d",
   "metadata": {},
   "outputs": [],
   "source": [
    "del X_train, X_test, y_train, y_test, X_val, y_val,study, optuna_auc"
   ]
  },
  {
   "cell_type": "code",
   "execution_count": null,
   "id": "5fab855d",
   "metadata": {},
   "outputs": [],
   "source": [
    "# 13.\n",
    "column_to_drop_12 = '부채 중 금융기관 대출금의 비중'"
   ]
  },
  {
   "cell_type": "code",
   "execution_count": null,
   "id": "cf1b0a7f",
   "metadata": {},
   "outputs": [],
   "source": [
    "if not column_to_drop_12.startswith('Cat_'):\n",
    "    comp_13 = comp_12.drop(column_to_drop_12, axis=1)\n",
    "    X_13 = comp_13.drop('target', axis=1)\n",
    "    y_13 = comp_13['target']\n",
    "else:\n",
    "    comp_13 = comp_12.drop(comp_12.filter(regex='^' + column_to_drop_12).columns, axis=1)\n",
    "    X_13 = comp_13.drop('target', axis=1)\n",
    "    y_13 = comp_13['target']\n",
    "\n",
    "print(X_13.shape)"
   ]
  },
  {
   "cell_type": "code",
   "execution_count": null,
   "id": "dae42c3a",
   "metadata": {},
   "outputs": [],
   "source": [
    "X_train, X_test, y_train, y_test = train_test_split(X_13, y_13, test_size=0.2, shuffle=True, stratify=y_13, random_state = 0)\n",
    "X_train, X_val, y_train, y_val = train_test_split(X_train, y_train, test_size=0.2, shuffle=True, stratify=y_train, random_state = 0)"
   ]
  },
  {
   "cell_type": "code",
   "execution_count": null,
   "id": "bc3c7f5a",
   "metadata": {},
   "outputs": [],
   "source": [
    "def objective(trial):\n",
    "    params = {\n",
    "        'learning_rate' :trial.suggest_float('learning_rate',0.01, 0.1,step=0.01),        \n",
    "        'n_estimators' :trial.suggest_int('n_estimators', 50, 200),\n",
    "        'subsample':trial.suggest_float('subsample', 0.1, 1.0,step=0.1),\n",
    "        'max_depth' :trial.suggest_int('max_depth', 1, 10),\n",
    "        'min_samples_split' :trial.suggest_int('min_samples_split', 3, 10),\n",
    "        'min_samples_leaf' :trial.suggest_int('min_samples_leaf', 3, 10),\n",
    "        }\n",
    "        \n",
    "    clf = GradientBoostingClassifier(**params,random_state = 0)\n",
    "    clf.fit(X_train, y_train)\n",
    "    clf_proba = clf.predict_proba(X_val)[:, 1]\n",
    "        \n",
    "    AUC_SCORE = roc_auc_score(y_val, clf_proba)\n",
    "    return AUC_SCORE\n",
    "\n",
    "direction = \"maximize\"\n",
    "sampler = optuna.samplers.TPESampler(seed=10)\n",
    "study =  optuna.create_study(direction=direction, sampler=sampler, pruner=optuna.pruners.HyperbandPruner())\n",
    "early_stopping = EarlyStoppingCallback(10, direction=direction)\n",
    "study.optimize(objective, callbacks=[early_stopping], n_trials=200) "
   ]
  },
  {
   "cell_type": "code",
   "execution_count": null,
   "id": "e78d1716",
   "metadata": {},
   "outputs": [],
   "source": [
    "print(study.best_trial.params)\n",
    "optuna_auc = study.best_trial.value\n",
    "print(optuna_auc)"
   ]
  },
  {
   "cell_type": "code",
   "execution_count": null,
   "id": "38d0b54c",
   "metadata": {},
   "outputs": [],
   "source": [
    "optuna_13 = GradientBoostingClassifier(**study.best_trial.params, random_state = 0)\n",
    "optuna_13.fit(X_train, y_train)"
   ]
  },
  {
   "cell_type": "code",
   "execution_count": null,
   "id": "cb63fac2",
   "metadata": {},
   "outputs": [],
   "source": [
    "optuna_proba_13 = optuna_13.predict_proba(X_test)[:, 1]\n",
    "auc_13 = roc_auc_score(y_test, optuna_proba_13)\n",
    "print(decimal.Decimal(auc_13).quantize(decimal.Decimal('1.000')))"
   ]
  },
  {
   "cell_type": "code",
   "execution_count": null,
   "id": "2d75f0c0",
   "metadata": {},
   "outputs": [],
   "source": [
    "X_train = X_train.values\n",
    "y_train = y_train.values"
   ]
  },
  {
   "cell_type": "code",
   "execution_count": null,
   "id": "dae925a7",
   "metadata": {},
   "outputs": [],
   "source": [
    "auc_bootstrap = []"
   ]
  },
  {
   "cell_type": "code",
   "execution_count": null,
   "id": "539c73f3",
   "metadata": {},
   "outputs": [],
   "source": [
    "rs = RandomState(seed = 13)\n",
    "bootstrap_auc(optuna_13, X_train, y_train, X_test, y_test, nsamples=2000)"
   ]
  },
  {
   "cell_type": "code",
   "execution_count": null,
   "id": "21ec783d",
   "metadata": {},
   "outputs": [],
   "source": [
    "shapiro(auc_bootstrap),np.mean(auc_bootstrap)"
   ]
  },
  {
   "cell_type": "code",
   "execution_count": null,
   "id": "596c69b6",
   "metadata": {},
   "outputs": [],
   "source": [
    "t_13 = auc_bootstrap\n",
    "print(t_13)"
   ]
  },
  {
   "cell_type": "code",
   "execution_count": null,
   "id": "d49b5dbf",
   "metadata": {},
   "outputs": [],
   "source": [
    "del X_train, X_test, y_train, y_test, X_val, y_val,study, optuna_auc"
   ]
  },
  {
   "cell_type": "code",
   "execution_count": null,
   "id": "5954189c",
   "metadata": {},
   "outputs": [],
   "source": [
    "#14.\n",
    "column_to_drop_13 = 'Cat_가구주 성별'"
   ]
  },
  {
   "cell_type": "code",
   "execution_count": null,
   "id": "760a5b91",
   "metadata": {},
   "outputs": [],
   "source": [
    "if not column_to_drop_13.startswith('Cat_'):\n",
    "    comp_14 = comp_13.drop(column_to_drop_13, axis=1)\n",
    "    X_14 = comp_14.drop('target', axis=1)\n",
    "    y_14 = comp_14['target']\n",
    "else:\n",
    "    comp_14 = comp_13.drop(comp_13.filter(regex='^' + column_to_drop_13).columns, axis=1)\n",
    "    X_14 = comp_14.drop('target', axis=1)\n",
    "    y_14 = comp_14['target']\n",
    "\n",
    "print(X_14.shape)"
   ]
  },
  {
   "cell_type": "code",
   "execution_count": null,
   "id": "9366196f",
   "metadata": {},
   "outputs": [],
   "source": [
    "X_train, X_test, y_train, y_test = train_test_split(X_14, y_14, test_size=0.2, shuffle=True, stratify=y_14, random_state = 0)\n",
    "X_train, X_val, y_train, y_val = train_test_split(X_train, y_train, test_size=0.2, shuffle=True, stratify=y_train, random_state = 0)"
   ]
  },
  {
   "cell_type": "code",
   "execution_count": null,
   "id": "d4baf2c0",
   "metadata": {},
   "outputs": [],
   "source": [
    "def objective(trial):\n",
    "    params = {\n",
    "        'learning_rate' :trial.suggest_float('learning_rate',0.01, 0.1,step=0.01),        \n",
    "        'n_estimators' :trial.suggest_int('n_estimators', 50, 200),\n",
    "        'subsample':trial.suggest_float('subsample', 0.1, 1.0,step=0.1),\n",
    "        'max_depth' :trial.suggest_int('max_depth', 1, 10),\n",
    "        'min_samples_split' :trial.suggest_int('min_samples_split', 3, 10),\n",
    "        'min_samples_leaf' :trial.suggest_int('min_samples_leaf', 3, 10),\n",
    "        }\n",
    "        \n",
    "    clf = GradientBoostingClassifier(**params,random_state = 0)\n",
    "    clf.fit(X_train, y_train)\n",
    "    clf_proba = clf.predict_proba(X_val)[:, 1]\n",
    "        \n",
    "    AUC_SCORE = roc_auc_score(y_val, clf_proba)\n",
    "    return AUC_SCORE\n",
    "\n",
    "direction = \"maximize\"\n",
    "sampler = optuna.samplers.TPESampler(seed=10)\n",
    "study =  optuna.create_study(direction=direction, sampler=sampler, pruner=optuna.pruners.HyperbandPruner())\n",
    "early_stopping = EarlyStoppingCallback(10, direction=direction)\n",
    "study.optimize(objective, callbacks=[early_stopping], n_trials=200) "
   ]
  },
  {
   "cell_type": "code",
   "execution_count": null,
   "id": "180d1fb4",
   "metadata": {},
   "outputs": [],
   "source": [
    "print(study.best_trial.params)\n",
    "optuna_auc = study.best_trial.value\n",
    "print(optuna_auc)"
   ]
  },
  {
   "cell_type": "code",
   "execution_count": null,
   "id": "15ae61a2",
   "metadata": {},
   "outputs": [],
   "source": [
    "optuna_14 = GradientBoostingClassifier(**study.best_trial.params, random_state = 0)\n",
    "optuna_14.fit(X_train, y_train)"
   ]
  },
  {
   "cell_type": "code",
   "execution_count": null,
   "id": "74d27c59",
   "metadata": {},
   "outputs": [],
   "source": [
    "optuna_proba_14 = optuna_14.predict_proba(X_test)[:, 1]\n",
    "auc_14 = roc_auc_score(y_test, optuna_proba_14)\n",
    "print(decimal.Decimal(auc_14).quantize(decimal.Decimal('1.000')))"
   ]
  },
  {
   "cell_type": "code",
   "execution_count": null,
   "id": "6b4c0321",
   "metadata": {},
   "outputs": [],
   "source": [
    "X_train = X_train.values\n",
    "y_train = y_train.values"
   ]
  },
  {
   "cell_type": "code",
   "execution_count": null,
   "id": "282c45e7",
   "metadata": {},
   "outputs": [],
   "source": [
    "auc_bootstrap = []"
   ]
  },
  {
   "cell_type": "code",
   "execution_count": null,
   "id": "4c59d887",
   "metadata": {},
   "outputs": [],
   "source": [
    "rs = RandomState(seed = 14)\n",
    "bootstrap_auc(optuna_14, X_train, y_train, X_test, y_test, nsamples=2000)"
   ]
  },
  {
   "cell_type": "code",
   "execution_count": null,
   "id": "b8bd119b",
   "metadata": {},
   "outputs": [],
   "source": [
    "shapiro(auc_bootstrap),np.mean(auc_bootstrap)"
   ]
  },
  {
   "cell_type": "code",
   "execution_count": null,
   "id": "675135ee",
   "metadata": {},
   "outputs": [],
   "source": [
    "t_14 = auc_bootstrap\n",
    "print(t_14)"
   ]
  },
  {
   "cell_type": "code",
   "execution_count": null,
   "id": "c06db45c",
   "metadata": {},
   "outputs": [],
   "source": [
    "del X_train, X_test, y_train, y_test, X_val, y_val,study, optuna_auc"
   ]
  },
  {
   "cell_type": "code",
   "execution_count": null,
   "id": "3e62bccf",
   "metadata": {},
   "outputs": [],
   "source": [
    "## 15.\n",
    "column_to_drop_14 = '부채 중 비금융기관 대출금의 비중'"
   ]
  },
  {
   "cell_type": "code",
   "execution_count": null,
   "id": "d54b6b92",
   "metadata": {},
   "outputs": [],
   "source": [
    "if not column_to_drop_14.startswith('Cat_'):\n",
    "    comp_15 = comp_14.drop(column_to_drop_14, axis=1)\n",
    "    X_15 = comp_15.drop('target', axis=1)\n",
    "    y_15 = comp_15['target']\n",
    "else:\n",
    "    comp_15 = comp_14.drop(comp_14.filter(regex='^' + column_to_drop_14).columns, axis=1)\n",
    "    X_15 = comp_15.drop('target', axis=1)\n",
    "    y_15 = comp_15['target']\n",
    "\n",
    "print(X_15.shape)"
   ]
  },
  {
   "cell_type": "code",
   "execution_count": null,
   "id": "3026b0c2",
   "metadata": {},
   "outputs": [],
   "source": [
    "X_train, X_test, y_train, y_test = train_test_split(X_15, y_15, test_size=0.2, shuffle=True, stratify=y_15, random_state = 0)\n",
    "X_train, X_val, y_train, y_val = train_test_split(X_train, y_train, test_size=0.2, shuffle=True, stratify=y_train, random_state = 0)"
   ]
  },
  {
   "cell_type": "code",
   "execution_count": null,
   "id": "8370426d",
   "metadata": {},
   "outputs": [],
   "source": [
    "X_train.shape"
   ]
  },
  {
   "cell_type": "code",
   "execution_count": null,
   "id": "d6fbb93e",
   "metadata": {},
   "outputs": [],
   "source": [
    "def objective(trial):\n",
    "    params = {\n",
    "        'learning_rate' :trial.suggest_float('learning_rate',0.01, 0.1,step=0.01),        \n",
    "        'n_estimators' :trial.suggest_int('n_estimators', 50, 200),\n",
    "        'subsample':trial.suggest_float('subsample', 0.1, 1.0,step=0.1),\n",
    "        'max_depth' :trial.suggest_int('max_depth', 1, 10),\n",
    "        'min_samples_split' :trial.suggest_int('min_samples_split', 3, 10),\n",
    "        'min_samples_leaf' :trial.suggest_int('min_samples_leaf', 3, 10),\n",
    "        }\n",
    "        \n",
    "    clf = GradientBoostingClassifier(**params,random_state = 0)\n",
    "    clf.fit(X_train, y_train)\n",
    "    clf_proba = clf.predict_proba(X_val)[:, 1]\n",
    "        \n",
    "    AUC_SCORE = roc_auc_score(y_val, clf_proba)\n",
    "    return AUC_SCORE\n",
    "\n",
    "direction = \"maximize\"\n",
    "sampler = optuna.samplers.TPESampler(seed=10)\n",
    "study =  optuna.create_study(direction=direction, sampler=sampler, pruner=optuna.pruners.HyperbandPruner())\n",
    "early_stopping = EarlyStoppingCallback(10, direction=direction)\n",
    "study.optimize(objective, callbacks=[early_stopping], n_trials=200) "
   ]
  },
  {
   "cell_type": "code",
   "execution_count": null,
   "id": "5f7a598d",
   "metadata": {},
   "outputs": [],
   "source": [
    "print(study.best_trial.params)\n",
    "optuna_auc = study.best_trial.value\n",
    "print(optuna_auc)"
   ]
  },
  {
   "cell_type": "code",
   "execution_count": null,
   "id": "172f73a9",
   "metadata": {},
   "outputs": [],
   "source": [
    "optuna_15 = GradientBoostingClassifier(**study.best_trial.params, random_state = 0)\n",
    "optuna_15.fit(X_train, y_train)"
   ]
  },
  {
   "cell_type": "code",
   "execution_count": null,
   "id": "a390b76b",
   "metadata": {},
   "outputs": [],
   "source": [
    "optuna_proba_15 = optuna_15.predict_proba(X_test)[:, 1]\n",
    "auc_15 = roc_auc_score(y_test, optuna_proba_15)\n",
    "print(decimal.Decimal(auc_15).quantize(decimal.Decimal('1.000')))"
   ]
  },
  {
   "cell_type": "code",
   "execution_count": null,
   "id": "a22122a2",
   "metadata": {},
   "outputs": [],
   "source": [
    "X_train = X_train.values\n",
    "y_train = y_train.values"
   ]
  },
  {
   "cell_type": "code",
   "execution_count": null,
   "id": "40a16d1b",
   "metadata": {},
   "outputs": [],
   "source": [
    "auc_bootstrap = []"
   ]
  },
  {
   "cell_type": "code",
   "execution_count": null,
   "id": "9193e6bc",
   "metadata": {},
   "outputs": [],
   "source": [
    "rs = RandomState(seed = 15)\n",
    "bootstrap_auc(optuna_15, X_train, y_train, X_test, y_test, nsamples=2000)"
   ]
  },
  {
   "cell_type": "code",
   "execution_count": null,
   "id": "cb7c401f",
   "metadata": {},
   "outputs": [],
   "source": [
    "shapiro(auc_bootstrap),np.mean(auc_bootstrap)"
   ]
  },
  {
   "cell_type": "code",
   "execution_count": null,
   "id": "6f0ab36e",
   "metadata": {},
   "outputs": [],
   "source": [
    "t_15 = auc_bootstrap\n",
    "print(t_15)"
   ]
  },
  {
   "cell_type": "code",
   "execution_count": null,
   "id": "35b52771",
   "metadata": {},
   "outputs": [],
   "source": [
    "del X_train, X_test, y_train, y_test, X_val, y_val,study, optuna_auc"
   ]
  },
  {
   "cell_type": "code",
   "execution_count": null,
   "id": "b188ee1a",
   "metadata": {},
   "outputs": [],
   "source": [
    "# 16.\n",
    "column_to_drop_15 = 'Cat_현재 공공기관 접근용이성'"
   ]
  },
  {
   "cell_type": "code",
   "execution_count": null,
   "id": "022bd592",
   "metadata": {},
   "outputs": [],
   "source": [
    "if not column_to_drop_15.startswith('Cat_'):\n",
    "    comp_16 = comp_15.drop(column_to_drop_15, axis=1)\n",
    "    X_16 = comp_16.drop('target', axis=1)\n",
    "    y_16 = comp_16['target']\n",
    "else:\n",
    "    comp_16 = comp_15.drop(comp_15.filter(regex='^' + column_to_drop_15).columns, axis=1)\n",
    "    X_16 = comp_16.drop('target', axis=1)\n",
    "    y_16 = comp_16['target']\n",
    "\n",
    "print(X_16.shape)"
   ]
  },
  {
   "cell_type": "code",
   "execution_count": null,
   "id": "3810ac19",
   "metadata": {},
   "outputs": [],
   "source": [
    "X_train, X_test, y_train, y_test = train_test_split(X_16, y_16, test_size=0.2, shuffle=True, stratify=y_16, random_state = 0)\n",
    "X_train, X_val, y_train, y_val = train_test_split(X_train, y_train, test_size=0.2, shuffle=True, stratify=y_train, random_state = 0)"
   ]
  },
  {
   "cell_type": "code",
   "execution_count": null,
   "id": "333e9bfa",
   "metadata": {},
   "outputs": [],
   "source": [
    "def objective(trial):\n",
    "    params = {\n",
    "        'learning_rate' :trial.suggest_float('learning_rate',0.01, 0.1,step=0.01),        \n",
    "        'n_estimators' :trial.suggest_int('n_estimators', 50, 200),\n",
    "        'subsample':trial.suggest_float('subsample', 0.1, 1.0,step=0.1),\n",
    "        'max_depth' :trial.suggest_int('max_depth', 1, 10),\n",
    "        'min_samples_split' :trial.suggest_int('min_samples_split', 3, 10),\n",
    "        'min_samples_leaf' :trial.suggest_int('min_samples_leaf', 3, 10),\n",
    "        }\n",
    "        \n",
    "    clf = GradientBoostingClassifier(**params,random_state = 0)\n",
    "    clf.fit(X_train, y_train)\n",
    "    clf_proba = clf.predict_proba(X_val)[:, 1]\n",
    "        \n",
    "    AUC_SCORE = roc_auc_score(y_val, clf_proba)\n",
    "    return AUC_SCORE\n",
    "\n",
    "direction = \"maximize\"\n",
    "sampler = optuna.samplers.TPESampler(seed=10)\n",
    "study =  optuna.create_study(direction=direction, sampler=sampler, pruner=optuna.pruners.HyperbandPruner())\n",
    "early_stopping = EarlyStoppingCallback(10, direction=direction)\n",
    "study.optimize(objective, callbacks=[early_stopping], n_trials=200) "
   ]
  },
  {
   "cell_type": "code",
   "execution_count": null,
   "id": "b9330036",
   "metadata": {},
   "outputs": [],
   "source": [
    "print(study.best_trial.params)\n",
    "optuna_auc = study.best_trial.value\n",
    "print(optuna_auc)"
   ]
  },
  {
   "cell_type": "code",
   "execution_count": null,
   "id": "735edb16",
   "metadata": {},
   "outputs": [],
   "source": [
    "optuna_16 = GradientBoostingClassifier(**study.best_trial.params, random_state = 0)\n",
    "optuna_16.fit(X_train, y_train)"
   ]
  },
  {
   "cell_type": "code",
   "execution_count": null,
   "id": "6ae1dbae",
   "metadata": {},
   "outputs": [],
   "source": [
    "optuna_proba_16 = optuna_16.predict_proba(X_test)[:, 1]\n",
    "auc_16 = roc_auc_score(y_test, optuna_proba_16)\n",
    "print(decimal.Decimal(auc_16).quantize(decimal.Decimal('1.000')))"
   ]
  },
  {
   "cell_type": "code",
   "execution_count": null,
   "id": "c81e3bad",
   "metadata": {},
   "outputs": [],
   "source": [
    "X_train = X_train.values\n",
    "y_train = y_train.values"
   ]
  },
  {
   "cell_type": "code",
   "execution_count": null,
   "id": "b68d3d00",
   "metadata": {},
   "outputs": [],
   "source": [
    "auc_bootstrap = []"
   ]
  },
  {
   "cell_type": "code",
   "execution_count": null,
   "id": "f0eb4906",
   "metadata": {},
   "outputs": [],
   "source": [
    "rs = RandomState(seed = 16)\n",
    "bootstrap_auc(optuna_16, X_train, y_train, X_test, y_test, nsamples=2000)"
   ]
  },
  {
   "cell_type": "code",
   "execution_count": null,
   "id": "c13210d6",
   "metadata": {},
   "outputs": [],
   "source": [
    "shapiro(auc_bootstrap), np.mean(auc_bootstrap)"
   ]
  },
  {
   "cell_type": "code",
   "execution_count": null,
   "id": "d631c41e",
   "metadata": {},
   "outputs": [],
   "source": [
    "t_16 = auc_bootstrap\n",
    "print(t_16)"
   ]
  },
  {
   "cell_type": "code",
   "execution_count": null,
   "id": "b4ca2058",
   "metadata": {},
   "outputs": [],
   "source": [
    "del X_train, X_test, y_train, y_test, X_val, y_val,study, optuna_auc"
   ]
  },
  {
   "cell_type": "code",
   "execution_count": null,
   "id": "29facd1b",
   "metadata": {},
   "outputs": [],
   "source": [
    "# 17.\n",
    "column_to_drop_16 = 'Cat_현재 주변도로의 보행 안전'"
   ]
  },
  {
   "cell_type": "code",
   "execution_count": null,
   "id": "df7d948a",
   "metadata": {},
   "outputs": [],
   "source": [
    "if not column_to_drop_16.startswith('Cat_'):\n",
    "    comp_17 = comp_16.drop(column_to_drop_16, axis=1)\n",
    "    X_17 = comp_17.drop('target', axis=1)\n",
    "    y_17 = comp_17['target']\n",
    "else:\n",
    "    comp_17 = comp_16.drop(comp_16.filter(regex='^' + column_to_drop_16).columns, axis=1)\n",
    "    X_17 = comp_17.drop('target', axis=1)\n",
    "    y_17 = comp_17['target']\n",
    "\n",
    "print(X_17.shape)"
   ]
  },
  {
   "cell_type": "code",
   "execution_count": null,
   "id": "314d7547",
   "metadata": {},
   "outputs": [],
   "source": [
    "X_train, X_test, y_train, y_test = train_test_split(X_17, y_17, test_size=0.2, shuffle=True, stratify=y_17, random_state = 0)\n",
    "X_train, X_val, y_train, y_val = train_test_split(X_train, y_train, test_size=0.2, shuffle=True, stratify=y_train, random_state = 0)"
   ]
  },
  {
   "cell_type": "code",
   "execution_count": null,
   "id": "120ae9bb",
   "metadata": {},
   "outputs": [],
   "source": [
    "def objective(trial):\n",
    "    params = {\n",
    "        'learning_rate' :trial.suggest_float('learning_rate',0.01, 0.1,step=0.01),        \n",
    "        'n_estimators' :trial.suggest_int('n_estimators', 50, 200),\n",
    "        'subsample':trial.suggest_float('subsample', 0.1, 1.0,step=0.1),\n",
    "        'max_depth' :trial.suggest_int('max_depth', 1, 10),\n",
    "        'min_samples_split' :trial.suggest_int('min_samples_split', 3, 10),\n",
    "        'min_samples_leaf' :trial.suggest_int('min_samples_leaf', 3, 10),\n",
    "        }\n",
    "        \n",
    "    clf = GradientBoostingClassifier(**params,random_state = 0)\n",
    "    clf.fit(X_train, y_train)\n",
    "    clf_proba = clf.predict_proba(X_val)[:, 1]\n",
    "        \n",
    "    AUC_SCORE = roc_auc_score(y_val, clf_proba)\n",
    "    return AUC_SCORE\n",
    "\n",
    "direction = \"maximize\"\n",
    "sampler = optuna.samplers.TPESampler(seed=10)\n",
    "study =  optuna.create_study(direction=direction, sampler=sampler, pruner=optuna.pruners.HyperbandPruner())\n",
    "early_stopping = EarlyStoppingCallback(10, direction=direction)\n",
    "study.optimize(objective, callbacks=[early_stopping], n_trials=200) "
   ]
  },
  {
   "cell_type": "code",
   "execution_count": null,
   "id": "bf19ee24",
   "metadata": {},
   "outputs": [],
   "source": [
    "print(study.best_trial.params)\n",
    "optuna_auc = study.best_trial.value\n",
    "print(optuna_auc)"
   ]
  },
  {
   "cell_type": "code",
   "execution_count": null,
   "id": "8eb77d9a",
   "metadata": {},
   "outputs": [],
   "source": [
    "optuna_17 = GradientBoostingClassifier(**study.best_trial.params, random_state = 0)\n",
    "optuna_17.fit(X_train, y_train)"
   ]
  },
  {
   "cell_type": "code",
   "execution_count": null,
   "id": "b01e05f4",
   "metadata": {},
   "outputs": [],
   "source": [
    "optuna_proba_17 = optuna_17.predict_proba(X_test)[:, 1]\n",
    "auc_17 = roc_auc_score(y_test, optuna_proba_17)\n",
    "print(decimal.Decimal(auc_17).quantize(decimal.Decimal('1.000')))"
   ]
  },
  {
   "cell_type": "code",
   "execution_count": null,
   "id": "6b20f996",
   "metadata": {},
   "outputs": [],
   "source": [
    "X_train = X_train.values\n",
    "y_train = y_train.values"
   ]
  },
  {
   "cell_type": "code",
   "execution_count": null,
   "id": "c40ffb31",
   "metadata": {},
   "outputs": [],
   "source": [
    "auc_bootstrap = []"
   ]
  },
  {
   "cell_type": "code",
   "execution_count": null,
   "id": "ad6e2294",
   "metadata": {},
   "outputs": [],
   "source": [
    "rs = RandomState(seed = 17)\n",
    "bootstrap_auc(optuna_17, X_train, y_train, X_test, y_test, nsamples=2000)"
   ]
  },
  {
   "cell_type": "code",
   "execution_count": null,
   "id": "b30a392c",
   "metadata": {},
   "outputs": [],
   "source": [
    "shapiro(auc_bootstrap), np.mean(auc_bootstrap)"
   ]
  },
  {
   "cell_type": "code",
   "execution_count": null,
   "id": "10f4afcd",
   "metadata": {},
   "outputs": [],
   "source": [
    "t_17 = auc_bootstrap\n",
    "print(t_17)"
   ]
  },
  {
   "cell_type": "code",
   "execution_count": null,
   "id": "4f04d2a0",
   "metadata": {},
   "outputs": [],
   "source": [
    "del X_train, X_test, y_train, y_test, X_val, y_val,study, optuna_auc"
   ]
  },
  {
   "cell_type": "code",
   "execution_count": null,
   "id": "01e13ad6",
   "metadata": {},
   "outputs": [],
   "source": [
    "## 18.\n",
    "column_to_drop_17 ='Cat_이사 계획 중인 주택의 유형'"
   ]
  },
  {
   "cell_type": "code",
   "execution_count": null,
   "id": "f40de3b5",
   "metadata": {},
   "outputs": [],
   "source": [
    "if not column_to_drop_17.startswith('Cat_'):\n",
    "    comp_18 = comp_17.drop(column_to_drop_17, axis=1)\n",
    "    X_18 = comp_18.drop('target', axis=1)\n",
    "    y_18 = comp_18['target']\n",
    "else:\n",
    "    comp_18 = comp_17.drop(comp_17.filter(regex='^' + column_to_drop_17).columns, axis=1)\n",
    "    X_18 = comp_18.drop('target', axis=1)\n",
    "    y_18 = comp_18['target']\n",
    "\n",
    "print(X_18.shape)"
   ]
  },
  {
   "cell_type": "code",
   "execution_count": null,
   "id": "530eeb47",
   "metadata": {},
   "outputs": [],
   "source": [
    "X_train, X_test, y_train, y_test = train_test_split(X_18, y_18, test_size=0.2, shuffle=True, stratify=y_18, random_state = 0)\n",
    "X_train, X_val, y_train, y_val = train_test_split(X_train, y_train, test_size=0.2, shuffle=True, stratify=y_train, random_state = 0)"
   ]
  },
  {
   "cell_type": "code",
   "execution_count": null,
   "id": "d9371118",
   "metadata": {},
   "outputs": [],
   "source": [
    "def objective(trial):\n",
    "    params = {\n",
    "        'learning_rate' :trial.suggest_float('learning_rate',0.01, 0.1,step=0.01),        \n",
    "        'n_estimators' :trial.suggest_int('n_estimators', 50, 200),\n",
    "        'subsample':trial.suggest_float('subsample', 0.1, 1.0,step=0.1),\n",
    "        'max_depth' :trial.suggest_int('max_depth', 1, 10),\n",
    "        'min_samples_split' :trial.suggest_int('min_samples_split', 3, 10),\n",
    "        'min_samples_leaf' :trial.suggest_int('min_samples_leaf', 3, 10),\n",
    "        }\n",
    "        \n",
    "    clf = GradientBoostingClassifier(**params,random_state = 0)\n",
    "    clf.fit(X_train, y_train)\n",
    "    clf_proba = clf.predict_proba(X_val)[:, 1]\n",
    "        \n",
    "    AUC_SCORE = roc_auc_score(y_val, clf_proba)\n",
    "    return AUC_SCORE\n",
    "\n",
    "direction = \"maximize\"\n",
    "sampler = optuna.samplers.TPESampler(seed=10)\n",
    "study =  optuna.create_study(direction=direction, sampler=sampler, pruner=optuna.pruners.HyperbandPruner())\n",
    "early_stopping = EarlyStoppingCallback(10, direction=direction)\n",
    "study.optimize(objective, callbacks=[early_stopping], n_trials=200) "
   ]
  },
  {
   "cell_type": "code",
   "execution_count": null,
   "id": "e3935658",
   "metadata": {},
   "outputs": [],
   "source": [
    "print(study.best_trial.params)\n",
    "optuna_auc = study.best_trial.value\n",
    "print(optuna_auc)"
   ]
  },
  {
   "cell_type": "code",
   "execution_count": null,
   "id": "3bdced41",
   "metadata": {},
   "outputs": [],
   "source": [
    "optuna_18 = GradientBoostingClassifier(**study.best_trial.params, random_state = 0)\n",
    "optuna_18.fit(X_train, y_train)"
   ]
  },
  {
   "cell_type": "code",
   "execution_count": null,
   "id": "69a0cb3a",
   "metadata": {},
   "outputs": [],
   "source": [
    "optuna_proba_18 = optuna_18.predict_proba(X_test)[:, 1]\n",
    "auc_18 = roc_auc_score(y_test, optuna_proba_18)\n",
    "print(decimal.Decimal(auc_18).quantize(decimal.Decimal('1.000')))"
   ]
  },
  {
   "cell_type": "code",
   "execution_count": null,
   "id": "e04a97fa",
   "metadata": {},
   "outputs": [],
   "source": [
    "X_train = X_train.values\n",
    "y_train = y_train.values"
   ]
  },
  {
   "cell_type": "code",
   "execution_count": null,
   "id": "a71e4aa2",
   "metadata": {},
   "outputs": [],
   "source": [
    "auc_bootstrap = []"
   ]
  },
  {
   "cell_type": "code",
   "execution_count": null,
   "id": "eab8d9a1",
   "metadata": {},
   "outputs": [],
   "source": [
    "rs = RandomState(seed = 18)\n",
    "bootstrap_auc(optuna_18, X_train, y_train, X_test, y_test, nsamples=2000)"
   ]
  },
  {
   "cell_type": "code",
   "execution_count": null,
   "id": "99a216c9",
   "metadata": {},
   "outputs": [],
   "source": [
    "shapiro(auc_bootstrap), np.mean(auc_bootstrap)"
   ]
  },
  {
   "cell_type": "code",
   "execution_count": null,
   "id": "1b9acea5",
   "metadata": {},
   "outputs": [],
   "source": [
    "t_18 = auc_bootstrap\n",
    "print(t_18)"
   ]
  },
  {
   "cell_type": "code",
   "execution_count": null,
   "id": "e1a0da6f",
   "metadata": {},
   "outputs": [],
   "source": [
    "del X_train, X_test, y_train, y_test, X_val, y_val,study, optuna_auc"
   ]
  },
  {
   "cell_type": "code",
   "execution_count": null,
   "id": "3bbe9a78",
   "metadata": {},
   "outputs": [],
   "source": [
    "# 19\n",
    "column_to_drop_18 = 'Cat_현재 대기오염 정도'"
   ]
  },
  {
   "cell_type": "code",
   "execution_count": null,
   "id": "c92655ab",
   "metadata": {},
   "outputs": [],
   "source": [
    "if not column_to_drop_18.startswith('Cat_'):\n",
    "    comp_19 = comp_18.drop(column_to_drop_18, axis=1)\n",
    "    X_19 = comp_19.drop('target', axis=1)\n",
    "    y_19 = comp_19['target']\n",
    "else:\n",
    "    comp_19 = comp_18.drop(comp_18.filter(regex='^' + column_to_drop_18).columns, axis=1)\n",
    "    X_19 = comp_19.drop('target', axis=1)\n",
    "    y_19 = comp_19['target']\n",
    "\n",
    "print(X_19.shape)"
   ]
  },
  {
   "cell_type": "code",
   "execution_count": null,
   "id": "b1a56377",
   "metadata": {},
   "outputs": [],
   "source": [
    "X_train, X_test, y_train, y_test = train_test_split(X_19, y_19, test_size=0.2, shuffle=True, stratify=y_19, random_state = 0)\n",
    "X_train, X_val, y_train, y_val = train_test_split(X_train, y_train, test_size=0.2, shuffle=True, stratify=y_train, random_state = 0)"
   ]
  },
  {
   "cell_type": "code",
   "execution_count": null,
   "id": "8649a951",
   "metadata": {},
   "outputs": [],
   "source": [
    "def objective(trial):\n",
    "    params = {\n",
    "        'learning_rate' :trial.suggest_float('learning_rate',0.01, 0.1,step=0.01),        \n",
    "        'n_estimators' :trial.suggest_int('n_estimators', 50, 200),\n",
    "        'subsample':trial.suggest_float('subsample', 0.1, 1.0,step=0.1),\n",
    "        'max_depth' :trial.suggest_int('max_depth', 1, 10),\n",
    "        'min_samples_split' :trial.suggest_int('min_samples_split', 3, 10),\n",
    "        'min_samples_leaf' :trial.suggest_int('min_samples_leaf', 3, 10),\n",
    "        }\n",
    "        \n",
    "    clf = GradientBoostingClassifier(**params,random_state = 0)\n",
    "    clf.fit(X_train, y_train)\n",
    "    clf_proba = clf.predict_proba(X_val)[:, 1]\n",
    "        \n",
    "    AUC_SCORE = roc_auc_score(y_val, clf_proba)\n",
    "    return AUC_SCORE\n",
    "\n",
    "direction = \"maximize\"\n",
    "sampler = optuna.samplers.TPESampler(seed=10)\n",
    "study =  optuna.create_study(direction=direction, sampler=sampler, pruner=optuna.pruners.HyperbandPruner())\n",
    "early_stopping = EarlyStoppingCallback(10, direction=direction)\n",
    "study.optimize(objective, callbacks=[early_stopping], n_trials=200) "
   ]
  },
  {
   "cell_type": "code",
   "execution_count": null,
   "id": "48ada3b1",
   "metadata": {},
   "outputs": [],
   "source": [
    "print(study.best_trial.params)\n",
    "optuna_auc = study.best_trial.value\n",
    "print(optuna_auc)"
   ]
  },
  {
   "cell_type": "code",
   "execution_count": null,
   "id": "b37d556c",
   "metadata": {},
   "outputs": [],
   "source": [
    "optuna_19 = GradientBoostingClassifier(**study.best_trial.params, random_state = 0)\n",
    "optuna_19.fit(X_train, y_train)"
   ]
  },
  {
   "cell_type": "code",
   "execution_count": null,
   "id": "21e2aa43",
   "metadata": {},
   "outputs": [],
   "source": [
    "optuna_proba_19 = optuna_19.predict_proba(X_test)[:, 1]\n",
    "auc_19 = roc_auc_score(y_test, optuna_proba_19)\n",
    "print(decimal.Decimal(auc_19).quantize(decimal.Decimal('1.000')))"
   ]
  },
  {
   "cell_type": "code",
   "execution_count": null,
   "id": "264c0b74",
   "metadata": {},
   "outputs": [],
   "source": [
    "X_train = X_train.values\n",
    "y_train = y_train.values"
   ]
  },
  {
   "cell_type": "code",
   "execution_count": null,
   "id": "3c63404a",
   "metadata": {},
   "outputs": [],
   "source": [
    "auc_bootstrap = []"
   ]
  },
  {
   "cell_type": "code",
   "execution_count": null,
   "id": "37151b0a",
   "metadata": {},
   "outputs": [],
   "source": [
    "rs = RandomState(seed = 19)\n",
    "bootstrap_auc(optuna_19, X_train, y_train, X_test, y_test, nsamples=2000)"
   ]
  },
  {
   "cell_type": "code",
   "execution_count": null,
   "id": "d99f00da",
   "metadata": {},
   "outputs": [],
   "source": [
    "shapiro(auc_bootstrap), np.mean(auc_bootstrap)"
   ]
  },
  {
   "cell_type": "code",
   "execution_count": null,
   "id": "a7a39ff0",
   "metadata": {},
   "outputs": [],
   "source": [
    "t_19 = auc_bootstrap\n",
    "print(t_19)"
   ]
  },
  {
   "cell_type": "code",
   "execution_count": null,
   "id": "5907a915",
   "metadata": {},
   "outputs": [],
   "source": [
    "# 20.\n",
    "column_to_drop_19 = 'Cat_주택 보유 의식'"
   ]
  },
  {
   "cell_type": "code",
   "execution_count": null,
   "id": "f063842e",
   "metadata": {},
   "outputs": [],
   "source": [
    "if not column_to_drop_19.startswith('Cat_'):\n",
    "    comp_20 = comp_19.drop(column_to_drop_19, axis=1)\n",
    "    X_20 = comp_20.drop('target', axis=1)\n",
    "    y_20 = comp_20['target']\n",
    "else:\n",
    "    comp_20 = comp_19.drop(comp_19.filter(regex='^' + column_to_drop_19).columns, axis=1)\n",
    "    X_20 = comp_20.drop('target', axis=1)\n",
    "    y_20 = comp_20['target']\n",
    "\n",
    "print(X_20.shape)"
   ]
  },
  {
   "cell_type": "code",
   "execution_count": null,
   "id": "d3955c9f",
   "metadata": {},
   "outputs": [],
   "source": [
    "X_train, X_test, y_train, y_test = train_test_split(X_20, y_20, test_size=0.2, shuffle=True, stratify=y_20, random_state = 0)\n",
    "X_train, X_val, y_train, y_val = train_test_split(X_train, y_train, test_size=0.2, shuffle=True, stratify=y_train, random_state = 0)"
   ]
  },
  {
   "cell_type": "code",
   "execution_count": null,
   "id": "bb18013a",
   "metadata": {},
   "outputs": [],
   "source": [
    "def objective(trial):\n",
    "    params = {\n",
    "        'learning_rate' :trial.suggest_float('learning_rate',0.01, 0.1,step=0.01),        \n",
    "        'n_estimators' :trial.suggest_int('n_estimators', 50, 200),\n",
    "        'subsample':trial.suggest_float('subsample', 0.1, 1.0,step=0.1),\n",
    "        'max_depth' :trial.suggest_int('max_depth', 1, 10),\n",
    "        'min_samples_split' :trial.suggest_int('min_samples_split', 3, 10),\n",
    "        'min_samples_leaf' :trial.suggest_int('min_samples_leaf', 3, 10),\n",
    "        }\n",
    "        \n",
    "    clf = GradientBoostingClassifier(**params,random_state = 0)\n",
    "    clf.fit(X_train, y_train)\n",
    "    clf_proba = clf.predict_proba(X_val)[:, 1]\n",
    "        \n",
    "    AUC_SCORE = roc_auc_score(y_val, clf_proba)\n",
    "    return AUC_SCORE\n",
    "\n",
    "direction = \"maximize\"\n",
    "sampler = optuna.samplers.TPESampler(seed=10)\n",
    "study =  optuna.create_study(direction=direction, sampler=sampler, pruner=optuna.pruners.HyperbandPruner())\n",
    "early_stopping = EarlyStoppingCallback(10, direction=direction)\n",
    "study.optimize(objective, callbacks=[early_stopping], n_trials=200) "
   ]
  },
  {
   "cell_type": "code",
   "execution_count": null,
   "id": "3e421db6",
   "metadata": {},
   "outputs": [],
   "source": [
    "print(study.best_trial.params)\n",
    "optuna_auc = study.best_trial.value\n",
    "print(optuna_auc)"
   ]
  },
  {
   "cell_type": "code",
   "execution_count": null,
   "id": "34245831",
   "metadata": {},
   "outputs": [],
   "source": [
    "optuna_20 = GradientBoostingClassifier(**study.best_trial.params, random_state = 0)\n",
    "optuna_20.fit(X_train, y_train)"
   ]
  },
  {
   "cell_type": "code",
   "execution_count": null,
   "id": "29ad23a3",
   "metadata": {},
   "outputs": [],
   "source": [
    "optuna_proba_20 = optuna_20.predict_proba(X_test)[:, 1]\n",
    "auc_20 = roc_auc_score(y_test, optuna_proba_20)\n",
    "print(decimal.Decimal(auc_20).quantize(decimal.Decimal('1.000')))"
   ]
  },
  {
   "cell_type": "code",
   "execution_count": null,
   "id": "aae03acd",
   "metadata": {},
   "outputs": [],
   "source": [
    "X_train = X_train.values\n",
    "y_train = y_train.values"
   ]
  },
  {
   "cell_type": "code",
   "execution_count": null,
   "id": "5ee15517",
   "metadata": {},
   "outputs": [],
   "source": [
    "auc_bootstrap = []"
   ]
  },
  {
   "cell_type": "code",
   "execution_count": null,
   "id": "128a6ff0",
   "metadata": {},
   "outputs": [],
   "source": [
    "rs = RandomState(seed = 20)\n",
    "bootstrap_auc(optuna_20, X_train, y_train, X_test, y_test, nsamples=2000)"
   ]
  },
  {
   "cell_type": "code",
   "execution_count": null,
   "id": "3ae6b160",
   "metadata": {},
   "outputs": [],
   "source": [
    "shapiro(auc_bootstrap), np.mean(auc_bootstrap)"
   ]
  },
  {
   "cell_type": "code",
   "execution_count": null,
   "id": "305938d9",
   "metadata": {},
   "outputs": [],
   "source": [
    "t_20 = auc_bootstrap\n",
    "print(t_20)"
   ]
  },
  {
   "cell_type": "code",
   "execution_count": null,
   "id": "b3392a8a",
   "metadata": {},
   "outputs": [],
   "source": [
    "del X_train, X_test, y_train, y_test, X_val, y_val,study, optuna_auc"
   ]
  },
  {
   "cell_type": "code",
   "execution_count": null,
   "id": "67808066",
   "metadata": {},
   "outputs": [],
   "source": [
    "# 21\n",
    "column_to_drop_20 = '총 가구원 수'"
   ]
  },
  {
   "cell_type": "code",
   "execution_count": null,
   "id": "ca13682b",
   "metadata": {},
   "outputs": [],
   "source": [
    "if not column_to_drop_20.startswith('Cat_'):\n",
    "    comp_21 = comp_20.drop(column_to_drop_20, axis=1)\n",
    "    X_21 = comp_21.drop('target', axis=1)\n",
    "    y_21 = comp_21['target']\n",
    "else:\n",
    "    comp_21 = comp_20.drop(comp_20.filter(regex='^' + column_to_drop_20).columns, axis=1)\n",
    "    X_21 = comp_21.drop('target', axis=1)\n",
    "    y_21 = comp_21['target']\n",
    "\n",
    "print(X_21.shape)"
   ]
  },
  {
   "cell_type": "code",
   "execution_count": null,
   "id": "16f9063d",
   "metadata": {},
   "outputs": [],
   "source": [
    "X_train, X_test, y_train, y_test = train_test_split(X_21, y_21, test_size=0.2, shuffle=True, stratify=y_21, random_state = 0)\n",
    "X_train, X_val, y_train, y_val = train_test_split(X_train, y_train, test_size=0.2, shuffle=True, stratify=y_train, random_state = 0)"
   ]
  },
  {
   "cell_type": "code",
   "execution_count": null,
   "id": "1f00db9a",
   "metadata": {},
   "outputs": [],
   "source": [
    "def objective(trial):\n",
    "    params = {\n",
    "        'learning_rate' :trial.suggest_float('learning_rate',0.01, 0.1,step=0.01),        \n",
    "        'n_estimators' :trial.suggest_int('n_estimators', 50, 200),\n",
    "        'subsample':trial.suggest_float('subsample', 0.1, 1.0,step=0.1),\n",
    "        'max_depth' :trial.suggest_int('max_depth', 1, 10),\n",
    "        'min_samples_split' :trial.suggest_int('min_samples_split', 3, 10),\n",
    "        'min_samples_leaf' :trial.suggest_int('min_samples_leaf', 3, 10),\n",
    "        }\n",
    "        \n",
    "    clf = GradientBoostingClassifier(**params,random_state = 0)\n",
    "    clf.fit(X_train, y_train)\n",
    "    clf_proba = clf.predict_proba(X_val)[:, 1]\n",
    "        \n",
    "    AUC_SCORE = roc_auc_score(y_val, clf_proba)\n",
    "    return AUC_SCORE\n",
    "\n",
    "direction = \"maximize\"\n",
    "sampler = optuna.samplers.TPESampler(seed=10)\n",
    "study =  optuna.create_study(direction=direction, sampler=sampler, pruner=optuna.pruners.HyperbandPruner())\n",
    "early_stopping = EarlyStoppingCallback(10, direction=direction)\n",
    "study.optimize(objective, callbacks=[early_stopping], n_trials=200) "
   ]
  },
  {
   "cell_type": "code",
   "execution_count": null,
   "id": "77221f77",
   "metadata": {},
   "outputs": [],
   "source": [
    "print(study.best_trial.params)\n",
    "optuna_auc = study.best_trial.value\n",
    "print(optuna_auc)"
   ]
  },
  {
   "cell_type": "code",
   "execution_count": null,
   "id": "b1db755e",
   "metadata": {},
   "outputs": [],
   "source": [
    "optuna_21 = GradientBoostingClassifier(**study.best_trial.params, random_state = 0)\n",
    "optuna_21.fit(X_train, y_train)"
   ]
  },
  {
   "cell_type": "code",
   "execution_count": null,
   "id": "99685aa4",
   "metadata": {},
   "outputs": [],
   "source": [
    "optuna_proba_21 = optuna_21.predict_proba(X_test)[:, 1]\n",
    "auc_21 = roc_auc_score(y_test, optuna_proba_21)\n",
    "print(decimal.Decimal(auc_21).quantize(decimal.Decimal('1.000')))"
   ]
  },
  {
   "cell_type": "code",
   "execution_count": null,
   "id": "09117850",
   "metadata": {},
   "outputs": [],
   "source": [
    "X_train = X_train.values\n",
    "y_train = y_train.values"
   ]
  },
  {
   "cell_type": "code",
   "execution_count": null,
   "id": "9654d83a",
   "metadata": {},
   "outputs": [],
   "source": [
    "auc_bootstrap = []"
   ]
  },
  {
   "cell_type": "code",
   "execution_count": null,
   "id": "e7befa8c",
   "metadata": {},
   "outputs": [],
   "source": [
    "rs = RandomState(seed = 21)\n",
    "bootstrap_auc(optuna_21, X_train, y_train, X_test, y_test, nsamples=2000)"
   ]
  },
  {
   "cell_type": "code",
   "execution_count": null,
   "id": "6cbf6558",
   "metadata": {},
   "outputs": [],
   "source": [
    "shapiro(auc_bootstrap), np.mean(auc_bootstrap)"
   ]
  },
  {
   "cell_type": "code",
   "execution_count": null,
   "id": "b0724b44",
   "metadata": {},
   "outputs": [],
   "source": [
    "t_21 = auc_bootstrap\n",
    "print(t_21)"
   ]
  },
  {
   "cell_type": "code",
   "execution_count": null,
   "id": "35f0ef5e",
   "metadata": {},
   "outputs": [],
   "source": [
    "del X_train, X_test, y_train, y_test, X_val, y_val,study, optuna_auc"
   ]
  },
  {
   "cell_type": "code",
   "execution_count": null,
   "id": "1b12d741",
   "metadata": {},
   "outputs": [],
   "source": [
    "# 22\n",
    "column_to_drop_21 = '총 이사 횟수'"
   ]
  },
  {
   "cell_type": "code",
   "execution_count": null,
   "id": "dda5704e",
   "metadata": {},
   "outputs": [],
   "source": [
    "if not column_to_drop_21.startswith('Cat_'):\n",
    "    comp_22 = comp_21.drop(column_to_drop_21, axis=1)\n",
    "    X_22 = comp_22.drop('target', axis=1)\n",
    "    y_22 = comp_22['target']\n",
    "else:\n",
    "    comp_22 = comp_21.drop(comp_21.filter(regex='^' + column_to_drop_21).columns, axis=1)\n",
    "    X_22 = comp_22.drop('target', axis=1)\n",
    "    y_22 = comp_22['target']\n",
    "\n",
    "print(X_22.shape)"
   ]
  },
  {
   "cell_type": "code",
   "execution_count": null,
   "id": "77efb7d7",
   "metadata": {},
   "outputs": [],
   "source": [
    "X_train, X_test, y_train, y_test = train_test_split(X_22, y_22, test_size=0.2, shuffle=True, stratify=y_22, random_state = 0)\n",
    "X_train, X_val, y_train, y_val = train_test_split(X_train, y_train, test_size=0.2, shuffle=True, stratify=y_train, random_state = 0)"
   ]
  },
  {
   "cell_type": "code",
   "execution_count": null,
   "id": "58e08cd6",
   "metadata": {},
   "outputs": [],
   "source": [
    "def objective(trial):\n",
    "    params = {\n",
    "        'learning_rate' :trial.suggest_float('learning_rate',0.01, 0.1,step=0.01),        \n",
    "        'n_estimators' :trial.suggest_int('n_estimators', 50, 200),\n",
    "        'subsample':trial.suggest_float('subsample', 0.1, 1.0,step=0.1),\n",
    "        'max_depth' :trial.suggest_int('max_depth', 1, 10),\n",
    "        'min_samples_split' :trial.suggest_int('min_samples_split', 3, 10),\n",
    "        'min_samples_leaf' :trial.suggest_int('min_samples_leaf', 3, 10),\n",
    "        }\n",
    "        \n",
    "    clf = GradientBoostingClassifier(**params,random_state = 0)\n",
    "    clf.fit(X_train, y_train)\n",
    "    clf_proba = clf.predict_proba(X_val)[:, 1]\n",
    "        \n",
    "    AUC_SCORE = roc_auc_score(y_val, clf_proba)\n",
    "    return AUC_SCORE\n",
    "\n",
    "direction = \"maximize\"\n",
    "sampler = optuna.samplers.TPESampler(seed=10)\n",
    "study =  optuna.create_study(direction=direction, sampler=sampler, pruner=optuna.pruners.HyperbandPruner())\n",
    "early_stopping = EarlyStoppingCallback(10, direction=direction)\n",
    "study.optimize(objective, callbacks=[early_stopping], n_trials=200) "
   ]
  },
  {
   "cell_type": "code",
   "execution_count": null,
   "id": "321ce7d7",
   "metadata": {},
   "outputs": [],
   "source": [
    "print(study.best_trial.params)\n",
    "optuna_auc = study.best_trial.value\n",
    "print(optuna_auc)"
   ]
  },
  {
   "cell_type": "code",
   "execution_count": null,
   "id": "6593c138",
   "metadata": {},
   "outputs": [],
   "source": [
    "optuna_22 = GradientBoostingClassifier(**study.best_trial.params, random_state = 0)\n",
    "optuna_22.fit(X_train, y_train)"
   ]
  },
  {
   "cell_type": "code",
   "execution_count": null,
   "id": "65da5538",
   "metadata": {},
   "outputs": [],
   "source": [
    "optuna_proba_22 = optuna_22.predict_proba(X_test)[:, 1]\n",
    "auc_22 = roc_auc_score(y_test, optuna_proba_22)\n",
    "print(decimal.Decimal(auc_22).quantize(decimal.Decimal('1.000')))"
   ]
  },
  {
   "cell_type": "code",
   "execution_count": null,
   "id": "f51335c0",
   "metadata": {},
   "outputs": [],
   "source": [
    "X_train = X_train.values\n",
    "y_train = y_train.values"
   ]
  },
  {
   "cell_type": "code",
   "execution_count": null,
   "id": "0f110c04",
   "metadata": {},
   "outputs": [],
   "source": [
    "auc_bootstrap = []"
   ]
  },
  {
   "cell_type": "code",
   "execution_count": null,
   "id": "c2c9840a",
   "metadata": {},
   "outputs": [],
   "source": [
    "rs = RandomState(seed = 22)\n",
    "bootstrap_auc(optuna_22, X_train, y_train, X_test, y_test, nsamples=2000)"
   ]
  },
  {
   "cell_type": "code",
   "execution_count": null,
   "id": "210b404a",
   "metadata": {},
   "outputs": [],
   "source": [
    "shapiro(auc_bootstrap), np.mean(auc_bootstrap)"
   ]
  },
  {
   "cell_type": "code",
   "execution_count": null,
   "id": "a2e260e5",
   "metadata": {},
   "outputs": [],
   "source": [
    "t_22 = auc_bootstrap\n",
    "print(t_22)"
   ]
  },
  {
   "cell_type": "code",
   "execution_count": null,
   "id": "01e20540",
   "metadata": {},
   "outputs": [],
   "source": [
    "del X_train, X_test, y_train, y_test, X_val, y_val,study, optuna_auc"
   ]
  },
  {
   "cell_type": "code",
   "execution_count": null,
   "id": "771f4519",
   "metadata": {},
   "outputs": [],
   "source": [
    "# 23.\n",
    "column_to_drop_22 = 'Cat_현재 자동차 경적/집주변의 소음 정도'"
   ]
  },
  {
   "cell_type": "code",
   "execution_count": null,
   "id": "5a85e9ed",
   "metadata": {},
   "outputs": [],
   "source": [
    "if not column_to_drop_22.startswith('Cat_'):\n",
    "    comp_23 = comp_22.drop(column_to_drop_22, axis=1)\n",
    "    X_23 = comp_23.drop('target', axis=1)\n",
    "    y_23 = comp_23['target']\n",
    "else:\n",
    "    comp_23 = comp_22.drop(comp_22.filter(regex='^' + column_to_drop_22).columns, axis=1)\n",
    "    X_23 = comp_23.drop('target', axis=1)\n",
    "    y_23 = comp_23['target']\n",
    "\n",
    "print(X_23.shape)"
   ]
  },
  {
   "cell_type": "code",
   "execution_count": null,
   "id": "a8587cf9",
   "metadata": {},
   "outputs": [],
   "source": [
    "X_train, X_test, y_train, y_test = train_test_split(X_23, y_23, test_size=0.2, shuffle=True, stratify=y_23, random_state = 0)\n",
    "X_train, X_val, y_train, y_val = train_test_split(X_train, y_train, test_size=0.2, shuffle=True, stratify=y_train, random_state = 0)"
   ]
  },
  {
   "cell_type": "code",
   "execution_count": null,
   "id": "7a5a0591",
   "metadata": {},
   "outputs": [],
   "source": [
    "def objective(trial):\n",
    "    params = {\n",
    "        'learning_rate' :trial.suggest_float('learning_rate',0.01, 0.1,step=0.01),        \n",
    "        'n_estimators' :trial.suggest_int('n_estimators', 50, 200),\n",
    "        'subsample':trial.suggest_float('subsample', 0.1, 1.0,step=0.1),\n",
    "        'max_depth' :trial.suggest_int('max_depth', 1, 10),\n",
    "        'min_samples_split' :trial.suggest_int('min_samples_split', 3, 10),\n",
    "        'min_samples_leaf' :trial.suggest_int('min_samples_leaf', 3, 10),\n",
    "        }\n",
    "        \n",
    "    clf = GradientBoostingClassifier(**params,random_state = 0)\n",
    "    clf.fit(X_train, y_train)\n",
    "    clf_proba = clf.predict_proba(X_val)[:, 1]\n",
    "        \n",
    "    AUC_SCORE = roc_auc_score(y_val, clf_proba)\n",
    "    return AUC_SCORE\n",
    "\n",
    "direction = \"maximize\"\n",
    "sampler = optuna.samplers.TPESampler(seed=10)\n",
    "study =  optuna.create_study(direction=direction, sampler=sampler, pruner=optuna.pruners.HyperbandPruner())\n",
    "early_stopping = EarlyStoppingCallback(10, direction=direction)\n",
    "study.optimize(objective, callbacks=[early_stopping], n_trials=200) "
   ]
  },
  {
   "cell_type": "code",
   "execution_count": null,
   "id": "eb702c63",
   "metadata": {},
   "outputs": [],
   "source": [
    "print(study.best_trial.params)\n",
    "optuna_auc = study.best_trial.value\n",
    "print(optuna_auc)"
   ]
  },
  {
   "cell_type": "code",
   "execution_count": null,
   "id": "31f2ae01",
   "metadata": {},
   "outputs": [],
   "source": [
    "optuna_23 = GradientBoostingClassifier(**study.best_trial.params, random_state = 0)\n",
    "optuna_23.fit(X_train, y_train)"
   ]
  },
  {
   "cell_type": "code",
   "execution_count": null,
   "id": "4898252c",
   "metadata": {},
   "outputs": [],
   "source": [
    "optuna_proba_23 = optuna_23.predict_proba(X_test)[:, 1]\n",
    "auc_23 = roc_auc_score(y_test, optuna_proba_23)\n",
    "print(decimal.Decimal(auc_23).quantize(decimal.Decimal('1.000')))"
   ]
  },
  {
   "cell_type": "code",
   "execution_count": null,
   "id": "bc7d89b8",
   "metadata": {},
   "outputs": [],
   "source": [
    "X_train = X_train.values\n",
    "y_train = y_train.values"
   ]
  },
  {
   "cell_type": "code",
   "execution_count": null,
   "id": "4abb404d",
   "metadata": {},
   "outputs": [],
   "source": [
    "auc_bootstrap = []"
   ]
  },
  {
   "cell_type": "code",
   "execution_count": null,
   "id": "bf645b40",
   "metadata": {},
   "outputs": [],
   "source": [
    "rs = RandomState(seed = 23)\n",
    "bootstrap_auc(optuna_23, X_train, y_train, X_test, y_test, nsamples=2000)"
   ]
  },
  {
   "cell_type": "code",
   "execution_count": null,
   "id": "8b618adf",
   "metadata": {},
   "outputs": [],
   "source": [
    "shapiro(auc_bootstrap), np.mean(auc_bootstrap)"
   ]
  },
  {
   "cell_type": "code",
   "execution_count": null,
   "id": "a2432ba1",
   "metadata": {},
   "outputs": [],
   "source": [
    "t_23 = auc_bootstrap\n",
    "print(t_23)"
   ]
  },
  {
   "cell_type": "code",
   "execution_count": null,
   "id": "2efe1aad",
   "metadata": {},
   "outputs": [],
   "source": [
    "del X_train, X_test, y_train, y_test, X_val, y_val,study, optuna_auc"
   ]
  },
  {
   "cell_type": "code",
   "execution_count": null,
   "id": "83cd3a68",
   "metadata": {},
   "outputs": [],
   "source": [
    "# 24\n",
    "column_to_drop_23 = 'Cat_가족계획 시 중요 고려 사항 1순위'"
   ]
  },
  {
   "cell_type": "code",
   "execution_count": null,
   "id": "1adf26f6",
   "metadata": {},
   "outputs": [],
   "source": [
    "if not column_to_drop_23.startswith('Cat_'):\n",
    "    comp_24 = comp_23.drop(column_to_drop_23, axis=1)\n",
    "    X_24 = comp_24.drop('target', axis=1)\n",
    "    y_24 = comp_24['target']\n",
    "else:\n",
    "    comp_24 = comp_23.drop(comp_23.filter(regex='^' + column_to_drop_23).columns, axis=1)\n",
    "    X_24 = comp_24.drop('target', axis=1)\n",
    "    y_24 = comp_24['target']\n",
    "\n",
    "print(X_24.shape)"
   ]
  },
  {
   "cell_type": "code",
   "execution_count": null,
   "id": "80c7a284",
   "metadata": {},
   "outputs": [],
   "source": [
    "X_train, X_test, y_train, y_test = train_test_split(X_24, y_24, test_size=0.2, shuffle=True, stratify=y_24, random_state = 0)\n",
    "X_train, X_val, y_train, y_val = train_test_split(X_train, y_train, test_size=0.2, shuffle=True, stratify=y_train, random_state = 0)"
   ]
  },
  {
   "cell_type": "code",
   "execution_count": null,
   "id": "de6c172c",
   "metadata": {},
   "outputs": [],
   "source": [
    "def objective(trial):\n",
    "    params = {\n",
    "        'learning_rate' :trial.suggest_float('learning_rate',0.01, 0.1,step=0.01),        \n",
    "        'n_estimators' :trial.suggest_int('n_estimators', 50, 200),\n",
    "        'subsample':trial.suggest_float('subsample', 0.1, 1.0,step=0.1),\n",
    "        'max_depth' :trial.suggest_int('max_depth', 1, 10),\n",
    "        'min_samples_split' :trial.suggest_int('min_samples_split', 3, 10),\n",
    "        'min_samples_leaf' :trial.suggest_int('min_samples_leaf', 3, 10),\n",
    "        }\n",
    "        \n",
    "    clf = GradientBoostingClassifier(**params,random_state = 0)\n",
    "    clf.fit(X_train, y_train)\n",
    "    clf_proba = clf.predict_proba(X_val)[:, 1]\n",
    "        \n",
    "    AUC_SCORE = roc_auc_score(y_val, clf_proba)\n",
    "    return AUC_SCORE\n",
    "\n",
    "direction = \"maximize\"\n",
    "sampler = optuna.samplers.TPESampler(seed=10)\n",
    "study =  optuna.create_study(direction=direction, sampler=sampler, pruner=optuna.pruners.HyperbandPruner())\n",
    "early_stopping = EarlyStoppingCallback(10, direction=direction)\n",
    "study.optimize(objective, callbacks=[early_stopping], n_trials=200) "
   ]
  },
  {
   "cell_type": "code",
   "execution_count": null,
   "id": "62867e1b",
   "metadata": {},
   "outputs": [],
   "source": [
    "print(study.best_trial.params)\n",
    "optuna_auc = study.best_trial.value\n",
    "print(optuna_auc)"
   ]
  },
  {
   "cell_type": "code",
   "execution_count": null,
   "id": "858a05f0",
   "metadata": {},
   "outputs": [],
   "source": [
    "optuna_24 = GradientBoostingClassifier(**study.best_trial.params, random_state = 0)\n",
    "optuna_24.fit(X_train, y_train)"
   ]
  },
  {
   "cell_type": "code",
   "execution_count": null,
   "id": "58ba9ff6",
   "metadata": {},
   "outputs": [],
   "source": [
    "optuna_proba_24 = optuna_24.predict_proba(X_test)[:, 1]\n",
    "auc_24 = roc_auc_score(y_test, optuna_proba_24)\n",
    "print(decimal.Decimal(auc_24).quantize(decimal.Decimal('1.000')))"
   ]
  },
  {
   "cell_type": "code",
   "execution_count": null,
   "id": "7358979c",
   "metadata": {},
   "outputs": [],
   "source": [
    "X_train = X_train.values\n",
    "y_train = y_train.values"
   ]
  },
  {
   "cell_type": "code",
   "execution_count": null,
   "id": "e124f839",
   "metadata": {},
   "outputs": [],
   "source": [
    "auc_bootstrap = []"
   ]
  },
  {
   "cell_type": "code",
   "execution_count": null,
   "id": "c417a478",
   "metadata": {},
   "outputs": [],
   "source": [
    "rs = RandomState(seed = 24)\n",
    "bootstrap_auc(optuna_24, X_train, y_train, X_test, y_test, nsamples=2000)"
   ]
  },
  {
   "cell_type": "code",
   "execution_count": null,
   "id": "1bbb1368",
   "metadata": {},
   "outputs": [],
   "source": [
    "shapiro(auc_bootstrap), np.mean(auc_bootstrap)"
   ]
  },
  {
   "cell_type": "code",
   "execution_count": null,
   "id": "90aed79c",
   "metadata": {},
   "outputs": [],
   "source": [
    "t_24 = auc_bootstrap\n",
    "print(t_24)"
   ]
  },
  {
   "cell_type": "code",
   "execution_count": null,
   "id": "664d2bc7",
   "metadata": {},
   "outputs": [],
   "source": [
    "del X_train, X_test, y_train, y_test, X_val, y_val,study, optuna_auc"
   ]
  },
  {
   "cell_type": "code",
   "execution_count": null,
   "id": "de7c425e",
   "metadata": {},
   "outputs": [],
   "source": [
    "column_to_drop_24 = 'Cat_현재 의료시설 접근용이성'"
   ]
  },
  {
   "cell_type": "code",
   "execution_count": null,
   "id": "1f3f1f91",
   "metadata": {},
   "outputs": [],
   "source": [
    "if not column_to_drop_24.startswith('Cat_'):\n",
    "    comp_25 = comp_24.drop(column_to_drop_24, axis=1)\n",
    "    X_25 = comp_25.drop('target', axis=1)\n",
    "    y_25 = comp_25['target']\n",
    "else:\n",
    "    comp_25 = comp_24.drop(comp_24.filter(regex='^' + column_to_drop_24).columns, axis=1)\n",
    "    X_25 = comp_25.drop('target', axis=1)\n",
    "    y_25 = comp_25['target']\n",
    "\n",
    "print(X_25.shape)"
   ]
  },
  {
   "cell_type": "code",
   "execution_count": null,
   "id": "62a31586",
   "metadata": {},
   "outputs": [],
   "source": [
    "X_train, X_test, y_train, y_test = train_test_split(X_25, y_25, test_size=0.2, shuffle=True, stratify=y_25, random_state = 0)\n",
    "X_train, X_val, y_train, y_val = train_test_split(X_train, y_train, test_size=0.2, shuffle=True, stratify=y_train, random_state = 0)"
   ]
  },
  {
   "cell_type": "code",
   "execution_count": null,
   "id": "9d0e7374",
   "metadata": {},
   "outputs": [],
   "source": [
    "def objective(trial):\n",
    "    params = {\n",
    "        'learning_rate' :trial.suggest_float('learning_rate',0.01, 0.1,step=0.01),        \n",
    "        'n_estimators' :trial.suggest_int('n_estimators', 50, 200),\n",
    "        'subsample':trial.suggest_float('subsample', 0.1, 1.0,step=0.1),\n",
    "        'max_depth' :trial.suggest_int('max_depth', 1, 10),\n",
    "        'min_samples_split' :trial.suggest_int('min_samples_split', 3, 10),\n",
    "        'min_samples_leaf' :trial.suggest_int('min_samples_leaf', 3, 10),\n",
    "        }\n",
    "        \n",
    "    clf = GradientBoostingClassifier(**params,random_state = 0)\n",
    "    clf.fit(X_train, y_train)\n",
    "    clf_proba = clf.predict_proba(X_val)[:, 1]\n",
    "        \n",
    "    AUC_SCORE = roc_auc_score(y_val, clf_proba)\n",
    "    return AUC_SCORE\n",
    "\n",
    "direction = \"maximize\"\n",
    "sampler = optuna.samplers.TPESampler(seed=10)\n",
    "study =  optuna.create_study(direction=direction, sampler=sampler, pruner=optuna.pruners.HyperbandPruner())\n",
    "early_stopping = EarlyStoppingCallback(10, direction=direction)\n",
    "study.optimize(objective, callbacks=[early_stopping], n_trials=200) "
   ]
  },
  {
   "cell_type": "code",
   "execution_count": null,
   "id": "0cfd7422",
   "metadata": {},
   "outputs": [],
   "source": [
    "print(study.best_trial.params)\n",
    "optuna_auc = study.best_trial.value\n",
    "print(optuna_auc)"
   ]
  },
  {
   "cell_type": "code",
   "execution_count": null,
   "id": "f02ca35a",
   "metadata": {},
   "outputs": [],
   "source": [
    "optuna_25 = GradientBoostingClassifier(**study.best_trial.params, random_state = 0)\n",
    "optuna_25.fit(X_train, y_train)"
   ]
  },
  {
   "cell_type": "code",
   "execution_count": null,
   "id": "1b30c1c4",
   "metadata": {},
   "outputs": [],
   "source": [
    "optuna_proba_25 = optuna_25.predict_proba(X_test)[:, 1]\n",
    "auc_25 = roc_auc_score(y_test, optuna_proba_25)\n",
    "print(decimal.Decimal(auc_25).quantize(decimal.Decimal('1.000')))"
   ]
  },
  {
   "cell_type": "code",
   "execution_count": null,
   "id": "3d79cb7f",
   "metadata": {},
   "outputs": [],
   "source": [
    "X_train = X_train.values\n",
    "y_train = y_train.values"
   ]
  },
  {
   "cell_type": "code",
   "execution_count": null,
   "id": "4dd6caab",
   "metadata": {},
   "outputs": [],
   "source": [
    "auc_bootstrap = []"
   ]
  },
  {
   "cell_type": "code",
   "execution_count": null,
   "id": "461fff85",
   "metadata": {},
   "outputs": [],
   "source": [
    "rs = RandomState(seed = 25)\n",
    "bootstrap_auc(optuna_25, X_train, y_train, X_test, y_test, nsamples=2000)"
   ]
  },
  {
   "cell_type": "code",
   "execution_count": null,
   "id": "d1df3ff1",
   "metadata": {},
   "outputs": [],
   "source": [
    "shapiro(auc_bootstrap), np.mean(auc_bootstrap)"
   ]
  },
  {
   "cell_type": "code",
   "execution_count": null,
   "id": "aad10b40",
   "metadata": {},
   "outputs": [],
   "source": [
    "t_25 = auc_bootstrap\n",
    "print(t_25)"
   ]
  },
  {
   "cell_type": "code",
   "execution_count": null,
   "id": "7be5f2fd",
   "metadata": {},
   "outputs": [],
   "source": [
    "del X_train, X_test, y_train, y_test, X_val, y_val,study, optuna_auc"
   ]
  },
  {
   "cell_type": "code",
   "execution_count": null,
   "id": "32fa8757",
   "metadata": {},
   "outputs": [],
   "source": [
    "# 26\n",
    "column_to_drop_25 = 'Cat_이사 예상 기간'"
   ]
  },
  {
   "cell_type": "code",
   "execution_count": null,
   "id": "9826b093",
   "metadata": {},
   "outputs": [],
   "source": [
    "if not column_to_drop_25.startswith('Cat_'):\n",
    "    comp_26 = comp_25.drop(column_to_drop_25, axis=1)\n",
    "    X_26 = comp_26.drop('target', axis=1)\n",
    "    y_26 = comp_26['target']\n",
    "else:\n",
    "    comp_26 = comp_25.drop(comp_25.filter(regex='^' + column_to_drop_25).columns, axis=1)\n",
    "    X_26 = comp_26.drop('target', axis=1)\n",
    "    y_26 = comp_26['target']\n",
    "\n",
    "print(X_26.shape)"
   ]
  },
  {
   "cell_type": "code",
   "execution_count": null,
   "id": "63f972e5",
   "metadata": {},
   "outputs": [],
   "source": [
    "X_train, X_test, y_train, y_test = train_test_split(X_26, y_26, test_size=0.2, shuffle=True, stratify=y_26, random_state = 0)\n",
    "X_train, X_val, y_train, y_val = train_test_split(X_train, y_train, test_size=0.2, shuffle=True, stratify=y_train, random_state = 0)"
   ]
  },
  {
   "cell_type": "code",
   "execution_count": null,
   "id": "a3c3946e",
   "metadata": {},
   "outputs": [],
   "source": [
    "def objective(trial):\n",
    "    params = {\n",
    "        'learning_rate' :trial.suggest_float('learning_rate',0.01, 0.1,step=0.01),        \n",
    "        'n_estimators' :trial.suggest_int('n_estimators', 50, 200),\n",
    "        'subsample':trial.suggest_float('subsample', 0.1, 1.0,step=0.1),\n",
    "        'max_depth' :trial.suggest_int('max_depth', 1, 10),\n",
    "        'min_samples_split' :trial.suggest_int('min_samples_split', 3, 10),\n",
    "        'min_samples_leaf' :trial.suggest_int('min_samples_leaf', 3, 10),\n",
    "        }\n",
    "        \n",
    "    clf = GradientBoostingClassifier(**params,random_state = 0)\n",
    "    clf.fit(X_train, y_train)\n",
    "    clf_proba = clf.predict_proba(X_val)[:, 1]\n",
    "        \n",
    "    AUC_SCORE = roc_auc_score(y_val, clf_proba)\n",
    "    return AUC_SCORE\n",
    "\n",
    "direction = \"maximize\"\n",
    "sampler = optuna.samplers.TPESampler(seed=10)\n",
    "study =  optuna.create_study(direction=direction, sampler=sampler, pruner=optuna.pruners.HyperbandPruner())\n",
    "early_stopping = EarlyStoppingCallback(10, direction=direction)\n",
    "study.optimize(objective, callbacks=[early_stopping], n_trials=200) "
   ]
  },
  {
   "cell_type": "code",
   "execution_count": null,
   "id": "d6114755",
   "metadata": {},
   "outputs": [],
   "source": [
    "print(study.best_trial.params)\n",
    "optuna_auc = study.best_trial.value\n",
    "print(optuna_auc)"
   ]
  },
  {
   "cell_type": "code",
   "execution_count": null,
   "id": "60c84130",
   "metadata": {},
   "outputs": [],
   "source": [
    "optuna_26 = GradientBoostingClassifier(**study.best_trial.params, random_state = 0)\n",
    "optuna_26.fit(X_train, y_train)"
   ]
  },
  {
   "cell_type": "code",
   "execution_count": null,
   "id": "10238a00",
   "metadata": {},
   "outputs": [],
   "source": [
    "optuna_proba_26 = optuna_26.predict_proba(X_test)[:, 1]\n",
    "auc_26 = roc_auc_score(y_test, optuna_proba_26)\n",
    "print(decimal.Decimal(auc_26).quantize(decimal.Decimal('1.000')))"
   ]
  },
  {
   "cell_type": "code",
   "execution_count": null,
   "id": "08764441",
   "metadata": {},
   "outputs": [],
   "source": [
    "X_train = X_train.values\n",
    "y_train = y_train.values"
   ]
  },
  {
   "cell_type": "code",
   "execution_count": null,
   "id": "be56a6bb",
   "metadata": {},
   "outputs": [],
   "source": [
    "auc_bootstrap = []"
   ]
  },
  {
   "cell_type": "code",
   "execution_count": null,
   "id": "6f9ce4a8",
   "metadata": {},
   "outputs": [],
   "source": [
    "rs = RandomState(seed = 26)\n",
    "bootstrap_auc(optuna_26, X_train, y_train, X_test, y_test, nsamples=2000)"
   ]
  },
  {
   "cell_type": "code",
   "execution_count": null,
   "id": "9ea3177e",
   "metadata": {},
   "outputs": [],
   "source": [
    "shapiro(auc_bootstrap), np.mean(auc_bootstrap)"
   ]
  },
  {
   "cell_type": "code",
   "execution_count": null,
   "id": "d0575648",
   "metadata": {},
   "outputs": [],
   "source": [
    "t_26 = auc_bootstrap\n",
    "print(t_26)"
   ]
  },
  {
   "cell_type": "code",
   "execution_count": null,
   "id": "f1189b46",
   "metadata": {},
   "outputs": [],
   "source": [
    "del X_train, X_test, y_train, y_test, X_val, y_val,study, optuna_auc"
   ]
  },
  {
   "cell_type": "code",
   "execution_count": null,
   "id": "d96a1070",
   "metadata": {},
   "outputs": [],
   "source": [
    "# 27\n",
    "column_to_drop_26 = '소득 중 근로/사업소득의 비중(월평균)'"
   ]
  },
  {
   "cell_type": "code",
   "execution_count": null,
   "id": "a9cbda16",
   "metadata": {},
   "outputs": [],
   "source": [
    "if not column_to_drop_26.startswith('Cat_'):\n",
    "    comp_27 = comp_26.drop(column_to_drop_26, axis=1)\n",
    "    X_27 = comp_27.drop('target', axis=1)\n",
    "    y_27 = comp_27['target']\n",
    "else:\n",
    "    comp_27 = comp_26.drop(comp_26.filter(regex='^' + column_to_drop_26).columns, axis=1)\n",
    "    X_27 = comp_27.drop('target', axis=1)\n",
    "    y_27 = comp_27['target']\n",
    "\n",
    "print(X_27.shape)"
   ]
  },
  {
   "cell_type": "code",
   "execution_count": null,
   "id": "6b565e3d",
   "metadata": {},
   "outputs": [],
   "source": [
    "X_train, X_test, y_train, y_test = train_test_split(X_27, y_27, test_size=0.2, shuffle=True, stratify=y_27, random_state = 0)\n",
    "X_train, X_val, y_train, y_val = train_test_split(X_train, y_train, test_size=0.2, shuffle=True, stratify=y_train, random_state = 0)"
   ]
  },
  {
   "cell_type": "code",
   "execution_count": null,
   "id": "ac9c5e93",
   "metadata": {},
   "outputs": [],
   "source": [
    "def objective(trial):\n",
    "    params = {\n",
    "        'learning_rate' :trial.suggest_float('learning_rate',0.01, 0.1,step=0.01),        \n",
    "        'n_estimators' :trial.suggest_int('n_estimators', 50, 200),\n",
    "        'subsample':trial.suggest_float('subsample', 0.1, 1.0,step=0.1),\n",
    "        'max_depth' :trial.suggest_int('max_depth', 1, 10),\n",
    "        'min_samples_split' :trial.suggest_int('min_samples_split', 3, 10),\n",
    "        'min_samples_leaf' :trial.suggest_int('min_samples_leaf', 3, 10),\n",
    "        }\n",
    "        \n",
    "    clf = GradientBoostingClassifier(**params,random_state = 0)\n",
    "    clf.fit(X_train, y_train)\n",
    "    clf_proba = clf.predict_proba(X_val)[:, 1]\n",
    "        \n",
    "    AUC_SCORE = roc_auc_score(y_val, clf_proba)\n",
    "    return AUC_SCORE\n",
    "\n",
    "direction = \"maximize\"\n",
    "sampler = optuna.samplers.TPESampler(seed=10)\n",
    "study =  optuna.create_study(direction=direction, sampler=sampler, pruner=optuna.pruners.HyperbandPruner())\n",
    "early_stopping = EarlyStoppingCallback(10, direction=direction)\n",
    "study.optimize(objective, callbacks=[early_stopping], n_trials=200) "
   ]
  },
  {
   "cell_type": "code",
   "execution_count": null,
   "id": "867edc68",
   "metadata": {},
   "outputs": [],
   "source": [
    "print(study.best_trial.params)\n",
    "optuna_auc = study.best_trial.value\n",
    "print(optuna_auc)"
   ]
  },
  {
   "cell_type": "code",
   "execution_count": null,
   "id": "1acd6168",
   "metadata": {},
   "outputs": [],
   "source": [
    "optuna_27 = GradientBoostingClassifier(**study.best_trial.params, random_state = 0)\n",
    "optuna_27.fit(X_train, y_train)"
   ]
  },
  {
   "cell_type": "code",
   "execution_count": null,
   "id": "0f416ede",
   "metadata": {},
   "outputs": [],
   "source": [
    "optuna_proba_27 = optuna_27.predict_proba(X_test)[:, 1]\n",
    "auc_27 = roc_auc_score(y_test, optuna_proba_27)\n",
    "print(decimal.Decimal(auc_27).quantize(decimal.Decimal('1.000')))"
   ]
  },
  {
   "cell_type": "code",
   "execution_count": null,
   "id": "247bb889",
   "metadata": {},
   "outputs": [],
   "source": [
    "X_train = X_train.values\n",
    "y_train = y_train.values"
   ]
  },
  {
   "cell_type": "code",
   "execution_count": null,
   "id": "9d720ab3",
   "metadata": {},
   "outputs": [],
   "source": [
    "auc_bootstrap = []"
   ]
  },
  {
   "cell_type": "code",
   "execution_count": null,
   "id": "eb758201",
   "metadata": {},
   "outputs": [],
   "source": [
    "rs = RandomState(seed = 27)\n",
    "bootstrap_auc(optuna_27, X_train, y_train, X_test, y_test, nsamples=2000)"
   ]
  },
  {
   "cell_type": "code",
   "execution_count": null,
   "id": "9f16e55a",
   "metadata": {},
   "outputs": [],
   "source": [
    "shapiro(auc_bootstrap), np.mean(auc_bootstrap)"
   ]
  },
  {
   "cell_type": "code",
   "execution_count": null,
   "id": "5e347713",
   "metadata": {},
   "outputs": [],
   "source": [
    "t_27 = auc_bootstrap\n",
    "print(t_27)"
   ]
  },
  {
   "cell_type": "code",
   "execution_count": null,
   "id": "636cfbe7",
   "metadata": {},
   "outputs": [],
   "source": [
    "del X_train, X_test, y_train, y_test, X_val, y_val,study, optuna_auc"
   ]
  },
  {
   "cell_type": "code",
   "execution_count": null,
   "id": "d788defb",
   "metadata": {},
   "outputs": [],
   "source": [
    "# 28\n",
    "column_to_drop_27  = 'Cat_현재 교육환경'"
   ]
  },
  {
   "cell_type": "code",
   "execution_count": null,
   "id": "03aaf0e5",
   "metadata": {},
   "outputs": [],
   "source": [
    "if not column_to_drop_27.startswith('Cat_'):\n",
    "    comp_28 = comp_27.drop(column_to_drop_27, axis=1)\n",
    "    X_28 = comp_28.drop('target', axis=1)\n",
    "    y_28 = comp_28['target']\n",
    "else:\n",
    "    comp_28 = comp_27.drop(comp_27.filter(regex='^' + column_to_drop_27).columns, axis=1)\n",
    "    X_28 = comp_28.drop('target', axis=1)\n",
    "    y_28 = comp_28['target']\n",
    "\n",
    "print(X_28.shape)"
   ]
  },
  {
   "cell_type": "code",
   "execution_count": null,
   "id": "4f681171",
   "metadata": {},
   "outputs": [],
   "source": [
    "X_train, X_test, y_train, y_test = train_test_split(X_28, y_28, test_size=0.2, shuffle=True, stratify=y_28, random_state = 0)\n",
    "X_train, X_val, y_train, y_val = train_test_split(X_train, y_train, test_size=0.2, shuffle=True, stratify=y_train, random_state = 0)"
   ]
  },
  {
   "cell_type": "code",
   "execution_count": null,
   "id": "25e3f3a7",
   "metadata": {},
   "outputs": [],
   "source": [
    "def objective(trial):\n",
    "    params = {\n",
    "        'learning_rate' :trial.suggest_float('learning_rate',0.01, 0.1,step=0.01),        \n",
    "        'n_estimators' :trial.suggest_int('n_estimators', 50, 200),\n",
    "        'subsample':trial.suggest_float('subsample', 0.1, 1.0,step=0.1),\n",
    "        'max_depth' :trial.suggest_int('max_depth', 1, 10),\n",
    "        'min_samples_split' :trial.suggest_int('min_samples_split', 3, 10),\n",
    "        'min_samples_leaf' :trial.suggest_int('min_samples_leaf', 3, 10),\n",
    "        }\n",
    "        \n",
    "    clf = GradientBoostingClassifier(**params,random_state = 0)\n",
    "    clf.fit(X_train, y_train)\n",
    "    clf_proba = clf.predict_proba(X_val)[:, 1]\n",
    "        \n",
    "    AUC_SCORE = roc_auc_score(y_val, clf_proba)\n",
    "    return AUC_SCORE\n",
    "\n",
    "direction = \"maximize\"\n",
    "sampler = optuna.samplers.TPESampler(seed=10)\n",
    "study =  optuna.create_study(direction=direction, sampler=sampler, pruner=optuna.pruners.HyperbandPruner())\n",
    "early_stopping = EarlyStoppingCallback(10, direction=direction)\n",
    "study.optimize(objective, callbacks=[early_stopping], n_trials=200) "
   ]
  },
  {
   "cell_type": "code",
   "execution_count": null,
   "id": "1be52000",
   "metadata": {},
   "outputs": [],
   "source": [
    "print(study.best_trial.params)\n",
    "optuna_auc = study.best_trial.value\n",
    "print(optuna_auc)"
   ]
  },
  {
   "cell_type": "code",
   "execution_count": null,
   "id": "1b9f314d",
   "metadata": {},
   "outputs": [],
   "source": [
    "optuna_28 = GradientBoostingClassifier(**study.best_trial.params, random_state = 0)\n",
    "optuna_28.fit(X_train, y_train)"
   ]
  },
  {
   "cell_type": "code",
   "execution_count": null,
   "id": "94588b1b",
   "metadata": {},
   "outputs": [],
   "source": [
    "optuna_proba_28 = optuna_28.predict_proba(X_test)[:, 1]\n",
    "auc_28 = roc_auc_score(y_test, optuna_proba_28)\n",
    "print(decimal.Decimal(auc_28).quantize(decimal.Decimal('1.000')))"
   ]
  },
  {
   "cell_type": "code",
   "execution_count": null,
   "id": "667e375b",
   "metadata": {},
   "outputs": [],
   "source": [
    "X_train = X_train.values\n",
    "y_train = y_train.values"
   ]
  },
  {
   "cell_type": "code",
   "execution_count": null,
   "id": "4e5f5308",
   "metadata": {},
   "outputs": [],
   "source": [
    "auc_bootstrap = []"
   ]
  },
  {
   "cell_type": "code",
   "execution_count": null,
   "id": "e33e0b9a",
   "metadata": {},
   "outputs": [],
   "source": [
    "rs = RandomState(seed = 28)\n",
    "bootstrap_auc(optuna_28, X_train, y_train, X_test, y_test, nsamples=2000)"
   ]
  },
  {
   "cell_type": "code",
   "execution_count": null,
   "id": "c1e982a5",
   "metadata": {},
   "outputs": [],
   "source": [
    "np.mean(auc_bootstrap)"
   ]
  },
  {
   "cell_type": "code",
   "execution_count": null,
   "id": "5ded90cc",
   "metadata": {},
   "outputs": [],
   "source": [
    "t_28 = auc_bootstrap\n",
    "print(t_28)"
   ]
  },
  {
   "cell_type": "code",
   "execution_count": null,
   "id": "3df5e53b",
   "metadata": {},
   "outputs": [],
   "source": [
    "del X_train, X_test, y_train, y_test, X_val, y_val,study, optuna_auc"
   ]
  },
  {
   "cell_type": "code",
   "execution_count": null,
   "id": "17a87a9c",
   "metadata": {},
   "outputs": [],
   "source": [
    "# 29\n",
    "column_to_drop_28 = 'Cat_현재 주택에 대한 전반적인 만족도'"
   ]
  },
  {
   "cell_type": "code",
   "execution_count": null,
   "id": "3b602c4b",
   "metadata": {},
   "outputs": [],
   "source": [
    "if not column_to_drop_28.startswith('Cat_'):\n",
    "    comp_29 = comp_28.drop(column_to_drop_28, axis=1)\n",
    "    X_29 = comp_29.drop('target', axis=1)\n",
    "    y_29 = comp_29['target']\n",
    "else:\n",
    "    comp_29 = comp_28.drop(comp_28.filter(regex='^' + column_to_drop_28).columns, axis=1)\n",
    "    X_29 = comp_29.drop('target', axis=1)\n",
    "    y_29 = comp_29['target']\n",
    "\n",
    "print(X_29.shape)"
   ]
  },
  {
   "cell_type": "code",
   "execution_count": null,
   "id": "f4e035aa",
   "metadata": {},
   "outputs": [],
   "source": [
    "X_train, X_test, y_train, y_test = train_test_split(X_29, y_29, test_size=0.2, shuffle=True, stratify=y_29, random_state = 0)\n",
    "X_train, X_val, y_train, y_val = train_test_split(X_train, y_train, test_size=0.2, shuffle=True, stratify=y_train, random_state = 0)"
   ]
  },
  {
   "cell_type": "code",
   "execution_count": null,
   "id": "86d285dd",
   "metadata": {},
   "outputs": [],
   "source": [
    "def objective(trial):\n",
    "    params = {\n",
    "        'learning_rate' :trial.suggest_float('learning_rate',0.01, 0.1,step=0.01),        \n",
    "        'n_estimators' :trial.suggest_int('n_estimators', 50, 200),\n",
    "        'subsample':trial.suggest_float('subsample', 0.1, 1.0,step=0.1),\n",
    "        'max_depth' :trial.suggest_int('max_depth', 1, 10),\n",
    "        'min_samples_split' :trial.suggest_int('min_samples_split', 3, 10),\n",
    "        'min_samples_leaf' :trial.suggest_int('min_samples_leaf', 3, 10),\n",
    "        }\n",
    "        \n",
    "    clf = GradientBoostingClassifier(**params,random_state = 0)\n",
    "    clf.fit(X_train, y_train)\n",
    "    clf_proba = clf.predict_proba(X_val)[:, 1]\n",
    "        \n",
    "    AUC_SCORE = roc_auc_score(y_val, clf_proba)\n",
    "    return AUC_SCORE\n",
    "\n",
    "direction = \"maximize\"\n",
    "sampler = optuna.samplers.TPESampler(seed=10)\n",
    "study =  optuna.create_study(direction=direction, sampler=sampler, pruner=optuna.pruners.HyperbandPruner())\n",
    "early_stopping = EarlyStoppingCallback(10, direction=direction)\n",
    "study.optimize(objective, callbacks=[early_stopping], n_trials=200) "
   ]
  },
  {
   "cell_type": "code",
   "execution_count": null,
   "id": "28355be7",
   "metadata": {},
   "outputs": [],
   "source": [
    "print(study.best_trial.params)\n",
    "optuna_auc = study.best_trial.value\n",
    "print(optuna_auc)"
   ]
  },
  {
   "cell_type": "code",
   "execution_count": null,
   "id": "04618391",
   "metadata": {},
   "outputs": [],
   "source": [
    "optuna_29 = GradientBoostingClassifier(**study.best_trial.params, random_state = 0)\n",
    "optuna_29.fit(X_train, y_train)"
   ]
  },
  {
   "cell_type": "code",
   "execution_count": null,
   "id": "9bf42bef",
   "metadata": {},
   "outputs": [],
   "source": [
    "optuna_proba_29 = optuna_29.predict_proba(X_test)[:, 1]\n",
    "auc_29 = roc_auc_score(y_test, optuna_proba_29)\n",
    "print(decimal.Decimal(auc_29).quantize(decimal.Decimal('1.000')))"
   ]
  },
  {
   "cell_type": "code",
   "execution_count": null,
   "id": "de9cc710",
   "metadata": {},
   "outputs": [],
   "source": [
    "X_train = X_train.values\n",
    "y_train = y_train.values"
   ]
  },
  {
   "cell_type": "code",
   "execution_count": null,
   "id": "f7acbc10",
   "metadata": {},
   "outputs": [],
   "source": [
    "auc_bootstrap = []"
   ]
  },
  {
   "cell_type": "code",
   "execution_count": null,
   "id": "8f31b81f",
   "metadata": {},
   "outputs": [],
   "source": [
    "rs = RandomState(seed = 29)\n",
    "bootstrap_auc(optuna_29, X_train, y_train, X_test, y_test, nsamples=2000)"
   ]
  },
  {
   "cell_type": "code",
   "execution_count": null,
   "id": "e9d88b1e",
   "metadata": {},
   "outputs": [],
   "source": [
    "shapiro(auc_bootstrap), np.mean(auc_bootstrap)"
   ]
  },
  {
   "cell_type": "code",
   "execution_count": null,
   "id": "a700a3c9",
   "metadata": {},
   "outputs": [],
   "source": [
    "t_29 = auc_bootstrap\n",
    "print(t_29)"
   ]
  },
  {
   "cell_type": "code",
   "execution_count": null,
   "id": "0dc0497f",
   "metadata": {},
   "outputs": [],
   "source": [
    "del X_train, X_test, y_train, y_test, X_val, y_val,study, optuna_auc"
   ]
  },
  {
   "cell_type": "code",
   "execution_count": null,
   "id": "86e4eacf",
   "metadata": {},
   "outputs": [],
   "source": [
    "column_to_drop_29 = '현재 주택 거주 기간(총 개월)'"
   ]
  },
  {
   "cell_type": "code",
   "execution_count": null,
   "id": "9e93ad66",
   "metadata": {},
   "outputs": [],
   "source": [
    "if not column_to_drop_29.startswith('Cat_'):\n",
    "    comp_30 = comp_29.drop(column_to_drop_29, axis=1)\n",
    "    X_30 = comp_30.drop('target', axis=1)\n",
    "    y_30 = comp_30['target']\n",
    "else:\n",
    "    comp_30 = comp_29.drop(comp_29.filter(regex='^' + column_to_drop_29).columns, axis=1)\n",
    "    X_30 = comp_30.drop('target', axis=1)\n",
    "    y_30 = comp_30['target']\n",
    "\n",
    "print(X_30.shape)"
   ]
  },
  {
   "cell_type": "code",
   "execution_count": null,
   "id": "d89d358d",
   "metadata": {},
   "outputs": [],
   "source": [
    "X_train, X_test, y_train, y_test = train_test_split(X_30, y_30, test_size=0.2, shuffle=True, stratify=y_30, random_state = 0)\n",
    "X_train, X_val, y_train, y_val = train_test_split(X_train, y_train, test_size=0.2, shuffle=True, stratify=y_train, random_state = 0)"
   ]
  },
  {
   "cell_type": "code",
   "execution_count": null,
   "id": "209318a2",
   "metadata": {},
   "outputs": [],
   "source": [
    "def objective(trial):\n",
    "    params = {\n",
    "        'learning_rate' :trial.suggest_float('learning_rate',0.01, 0.1,step=0.01),        \n",
    "        'n_estimators' :trial.suggest_int('n_estimators', 50, 200),\n",
    "        'subsample':trial.suggest_float('subsample', 0.1, 1.0,step=0.1),\n",
    "        'max_depth' :trial.suggest_int('max_depth', 1, 10),\n",
    "        'min_samples_split' :trial.suggest_int('min_samples_split', 3, 10),\n",
    "        'min_samples_leaf' :trial.suggest_int('min_samples_leaf', 3, 10),\n",
    "        }\n",
    "        \n",
    "    clf = GradientBoostingClassifier(**params,random_state = 0)\n",
    "    clf.fit(X_train, y_train)\n",
    "    clf_proba = clf.predict_proba(X_val)[:, 1]\n",
    "        \n",
    "    AUC_SCORE = roc_auc_score(y_val, clf_proba)\n",
    "    return AUC_SCORE\n",
    "\n",
    "direction = \"maximize\"\n",
    "sampler = optuna.samplers.TPESampler(seed=10)\n",
    "study =  optuna.create_study(direction=direction, sampler=sampler, pruner=optuna.pruners.HyperbandPruner())\n",
    "early_stopping = EarlyStoppingCallback(10, direction=direction)\n",
    "study.optimize(objective, callbacks=[early_stopping], n_trials=200) "
   ]
  },
  {
   "cell_type": "code",
   "execution_count": null,
   "id": "b82a5445",
   "metadata": {},
   "outputs": [],
   "source": [
    "print(study.best_trial.params)\n",
    "optuna_auc = study.best_trial.value\n",
    "print(optuna_auc)"
   ]
  },
  {
   "cell_type": "code",
   "execution_count": null,
   "id": "ef644ce4",
   "metadata": {},
   "outputs": [],
   "source": [
    "optuna_30 = GradientBoostingClassifier(**study.best_trial.params, random_state = 0)\n",
    "optuna_30.fit(X_train, y_train)"
   ]
  },
  {
   "cell_type": "code",
   "execution_count": null,
   "id": "42946b79",
   "metadata": {},
   "outputs": [],
   "source": [
    "optuna_proba_30 = optuna_30.predict_proba(X_test)[:, 1]\n",
    "auc_30 = roc_auc_score(y_test, optuna_proba_30)\n",
    "print(decimal.Decimal(auc_30).quantize(decimal.Decimal('1.000')))"
   ]
  },
  {
   "cell_type": "code",
   "execution_count": null,
   "id": "66470e6a",
   "metadata": {},
   "outputs": [],
   "source": [
    "X_train = X_train.values\n",
    "y_train = y_train.values"
   ]
  },
  {
   "cell_type": "code",
   "execution_count": null,
   "id": "553ae4ae",
   "metadata": {},
   "outputs": [],
   "source": [
    "auc_bootstrap = []"
   ]
  },
  {
   "cell_type": "code",
   "execution_count": null,
   "id": "127c16d2",
   "metadata": {},
   "outputs": [],
   "source": [
    "rs = RandomState(seed = 30)\n",
    "bootstrap_auc(optuna_30, X_train, y_train, X_test, y_test, nsamples=2000)"
   ]
  },
  {
   "cell_type": "code",
   "execution_count": null,
   "id": "b29a243b",
   "metadata": {},
   "outputs": [],
   "source": [
    "shapiro(auc_bootstrap), np.mean(auc_bootstrap)"
   ]
  },
  {
   "cell_type": "code",
   "execution_count": null,
   "id": "9ef57044",
   "metadata": {},
   "outputs": [],
   "source": [
    "t_30 = auc_bootstrap\n",
    "print(t_30)"
   ]
  },
  {
   "cell_type": "code",
   "execution_count": null,
   "id": "1f351939",
   "metadata": {},
   "outputs": [],
   "source": [
    "del X_train, X_test, y_train, y_test, X_val, y_val,study, optuna_auc"
   ]
  },
  {
   "cell_type": "code",
   "execution_count": null,
   "id": "e145bc83",
   "metadata": {},
   "outputs": [],
   "source": [
    "# 31\n",
    "column_to_drop_30 = 'Cat_현재 상업시설 접근용이성'"
   ]
  },
  {
   "cell_type": "code",
   "execution_count": null,
   "id": "2ef957df",
   "metadata": {},
   "outputs": [],
   "source": [
    "if not column_to_drop_30.startswith('Cat_'):\n",
    "    comp_31 = comp_30.drop(column_to_drop_30, axis=1)\n",
    "    X_31 = comp_31.drop('target', axis=1)\n",
    "    y_31 = comp_31['target']\n",
    "else:\n",
    "    comp_31 = comp_30.drop(comp_30.filter(regex='^' + column_to_drop_30).columns, axis=1)\n",
    "    X_31 = comp_31.drop('target', axis=1)\n",
    "    y_31 = comp_31['target']\n",
    "\n",
    "print(X_31.shape)"
   ]
  },
  {
   "cell_type": "code",
   "execution_count": null,
   "id": "6e33a48f",
   "metadata": {},
   "outputs": [],
   "source": [
    "X_train, X_test, y_train, y_test = train_test_split(X_31, y_31, test_size=0.2, shuffle=True, stratify=y_31, random_state = 0)\n",
    "X_train, X_val, y_train, y_val = train_test_split(X_train, y_train, test_size=0.2, shuffle=True, stratify=y_train, random_state = 0)"
   ]
  },
  {
   "cell_type": "code",
   "execution_count": null,
   "id": "10bca9d2",
   "metadata": {},
   "outputs": [],
   "source": [
    "def objective(trial):\n",
    "    params = {\n",
    "        'learning_rate' :trial.suggest_float('learning_rate',0.01, 0.1,step=0.01),        \n",
    "        'n_estimators' :trial.suggest_int('n_estimators', 50, 200),\n",
    "        'subsample':trial.suggest_float('subsample', 0.1, 1.0,step=0.1),\n",
    "        'max_depth' :trial.suggest_int('max_depth', 1, 10),\n",
    "        'min_samples_split' :trial.suggest_int('min_samples_split', 3, 10),\n",
    "        'min_samples_leaf' :trial.suggest_int('min_samples_leaf', 3, 10),\n",
    "        }\n",
    "        \n",
    "    clf = GradientBoostingClassifier(**params,random_state = 0)\n",
    "    clf.fit(X_train, y_train)\n",
    "    clf_proba = clf.predict_proba(X_val)[:, 1]\n",
    "        \n",
    "    AUC_SCORE = roc_auc_score(y_val, clf_proba)\n",
    "    return AUC_SCORE\n",
    "\n",
    "direction = \"maximize\"\n",
    "sampler = optuna.samplers.TPESampler(seed=10)\n",
    "study =  optuna.create_study(direction=direction, sampler=sampler, pruner=optuna.pruners.HyperbandPruner())\n",
    "early_stopping = EarlyStoppingCallback(10, direction=direction)\n",
    "study.optimize(objective, callbacks=[early_stopping], n_trials=200) "
   ]
  },
  {
   "cell_type": "code",
   "execution_count": null,
   "id": "6ca17020",
   "metadata": {},
   "outputs": [],
   "source": [
    "print(study.best_trial.params)\n",
    "optuna_auc = study.best_trial.value\n",
    "print(optuna_auc)"
   ]
  },
  {
   "cell_type": "code",
   "execution_count": null,
   "id": "163b0cbd",
   "metadata": {},
   "outputs": [],
   "source": [
    "optuna_31= GradientBoostingClassifier(**study.best_trial.params, random_state = 0)\n",
    "optuna_31.fit(X_train, y_train)"
   ]
  },
  {
   "cell_type": "code",
   "execution_count": null,
   "id": "44b1a6e0",
   "metadata": {},
   "outputs": [],
   "source": [
    "optuna_proba_31 = optuna_31.predict_proba(X_test)[:, 1]\n",
    "auc_31 = roc_auc_score(y_test, optuna_proba_31)\n",
    "print(decimal.Decimal(auc_31).quantize(decimal.Decimal('1.000')))"
   ]
  },
  {
   "cell_type": "code",
   "execution_count": null,
   "id": "ea60388e",
   "metadata": {},
   "outputs": [],
   "source": [
    "X_train = X_train.values\n",
    "y_train = y_train.values"
   ]
  },
  {
   "cell_type": "code",
   "execution_count": null,
   "id": "cd777fa2",
   "metadata": {},
   "outputs": [],
   "source": [
    "auc_bootstrap = []"
   ]
  },
  {
   "cell_type": "code",
   "execution_count": null,
   "id": "dddaf47a",
   "metadata": {},
   "outputs": [],
   "source": [
    "rs = RandomState(seed = 31)\n",
    "bootstrap_auc(optuna_31, X_train, y_train, X_test, y_test, nsamples=2000)"
   ]
  },
  {
   "cell_type": "code",
   "execution_count": null,
   "id": "1b2e008b",
   "metadata": {},
   "outputs": [],
   "source": [
    "shapiro(auc_bootstrap), np.mean(auc_bootstrap)"
   ]
  },
  {
   "cell_type": "code",
   "execution_count": null,
   "id": "0056186e",
   "metadata": {},
   "outputs": [],
   "source": [
    "t_31 = auc_bootstrap\n",
    "print(t_31)"
   ]
  },
  {
   "cell_type": "code",
   "execution_count": null,
   "id": "66a33b47",
   "metadata": {},
   "outputs": [],
   "source": [
    "del X_train, X_test, y_train, y_test, X_val, y_val,study, optuna_auc"
   ]
  },
  {
   "cell_type": "code",
   "execution_count": null,
   "id": "8271869d",
   "metadata": {},
   "outputs": [],
   "source": [
    "# 32\n",
    "column_to_drop_31 = 'Cat_현재 치안 및 범죄 등 방범 상태'"
   ]
  },
  {
   "cell_type": "code",
   "execution_count": null,
   "id": "653c3977",
   "metadata": {},
   "outputs": [],
   "source": [
    "if not column_to_drop_31.startswith('Cat_'):\n",
    "    comp_32 = comp_31.drop(column_to_drop_31, axis=1)\n",
    "    X_32 = comp_32.drop('target', axis=1)\n",
    "    y_32 = comp_32['target']\n",
    "else:\n",
    "    comp_32 = comp_31.drop(comp_31.filter(regex='^' + column_to_drop_31).columns, axis=1)\n",
    "    X_32 = comp_32.drop('target', axis=1)\n",
    "    y_32 = comp_32['target']\n",
    "\n",
    "print(X_32.shape)"
   ]
  },
  {
   "cell_type": "code",
   "execution_count": null,
   "id": "be791fcd",
   "metadata": {},
   "outputs": [],
   "source": [
    "X_train, X_test, y_train, y_test = train_test_split(X_32, y_32, test_size=0.2, shuffle=True, stratify=y_32, random_state = 0)\n",
    "X_train, X_val, y_train, y_val = train_test_split(X_train, y_train, test_size=0.2, shuffle=True, stratify=y_train, random_state = 0)"
   ]
  },
  {
   "cell_type": "code",
   "execution_count": null,
   "id": "10089a1b",
   "metadata": {},
   "outputs": [],
   "source": [
    "def objective(trial):\n",
    "    params = {\n",
    "        'learning_rate' :trial.suggest_float('learning_rate',0.01, 0.1,step=0.01),        \n",
    "        'n_estimators' :trial.suggest_int('n_estimators', 50, 200),\n",
    "        'subsample':trial.suggest_float('subsample', 0.1, 1.0,step=0.1),\n",
    "        'max_depth' :trial.suggest_int('max_depth', 1, 10),\n",
    "        'min_samples_split' :trial.suggest_int('min_samples_split', 3, 10),\n",
    "        'min_samples_leaf' :trial.suggest_int('min_samples_leaf', 3, 10),\n",
    "        }\n",
    "        \n",
    "    clf = GradientBoostingClassifier(**params,random_state = 0)\n",
    "    clf.fit(X_train, y_train)\n",
    "    clf_proba = clf.predict_proba(X_val)[:, 1]\n",
    "        \n",
    "    AUC_SCORE = roc_auc_score(y_val, clf_proba)\n",
    "    return AUC_SCORE\n",
    "\n",
    "direction = \"maximize\"\n",
    "sampler = optuna.samplers.TPESampler(seed=10)\n",
    "study =  optuna.create_study(direction=direction, sampler=sampler, pruner=optuna.pruners.HyperbandPruner())\n",
    "early_stopping = EarlyStoppingCallback(10, direction=direction)\n",
    "study.optimize(objective, callbacks=[early_stopping], n_trials=200) "
   ]
  },
  {
   "cell_type": "code",
   "execution_count": null,
   "id": "80d993ec",
   "metadata": {},
   "outputs": [],
   "source": [
    "print(study.best_trial.params)\n",
    "optuna_auc = study.best_trial.value\n",
    "print(optuna_auc)"
   ]
  },
  {
   "cell_type": "code",
   "execution_count": null,
   "id": "c1884d76",
   "metadata": {},
   "outputs": [],
   "source": [
    "optuna_32 = GradientBoostingClassifier(**study.best_trial.params, random_state = 0)\n",
    "optuna_32.fit(X_train, y_train)"
   ]
  },
  {
   "cell_type": "code",
   "execution_count": null,
   "id": "108540d1",
   "metadata": {},
   "outputs": [],
   "source": [
    "optuna_proba_32 = optuna_32.predict_proba(X_test)[:, 1]\n",
    "auc_32 = roc_auc_score(y_test, optuna_proba_32)\n",
    "print(decimal.Decimal(auc_32).quantize(decimal.Decimal('1.000')))"
   ]
  },
  {
   "cell_type": "code",
   "execution_count": null,
   "id": "b45e64ab",
   "metadata": {},
   "outputs": [],
   "source": [
    "X_train = X_train.values\n",
    "y_train = y_train.values"
   ]
  },
  {
   "cell_type": "code",
   "execution_count": null,
   "id": "cce6f208",
   "metadata": {},
   "outputs": [],
   "source": [
    "auc_bootstrap = []"
   ]
  },
  {
   "cell_type": "code",
   "execution_count": null,
   "id": "ff2d9bc0",
   "metadata": {},
   "outputs": [],
   "source": [
    "rs = RandomState(seed = 32)\n",
    "bootstrap_auc(optuna_32, X_train, y_train, X_test, y_test, nsamples=2000)"
   ]
  },
  {
   "cell_type": "code",
   "execution_count": null,
   "id": "629ca141",
   "metadata": {},
   "outputs": [],
   "source": [
    "shapiro(auc_bootstrap), np.mean(auc_bootstrap)"
   ]
  },
  {
   "cell_type": "code",
   "execution_count": null,
   "id": "d016fb39",
   "metadata": {},
   "outputs": [],
   "source": [
    "t_32 = auc_bootstrap\n",
    "print(t_32)"
   ]
  },
  {
   "cell_type": "code",
   "execution_count": null,
   "id": "ce82b7d5",
   "metadata": {},
   "outputs": [],
   "source": [
    "del X_train, X_test, y_train, y_test, X_val, y_val,study, optuna_auc"
   ]
  },
  {
   "cell_type": "code",
   "execution_count": null,
   "id": "4d024c80",
   "metadata": {},
   "outputs": [],
   "source": [
    "# 33.\n",
    "column_to_drop_32 = 'Cat_현재 문화시설 접근용이성'"
   ]
  },
  {
   "cell_type": "code",
   "execution_count": null,
   "id": "ec850d22",
   "metadata": {},
   "outputs": [],
   "source": [
    "if not column_to_drop_32.startswith('Cat_'):\n",
    "    comp_33 = comp_32.drop(column_to_drop_32, axis=1)\n",
    "    X_33 = comp_33.drop('target', axis=1)\n",
    "    y_33 = comp_33['target']\n",
    "else:\n",
    "    comp_33 = comp_32.drop(comp_32.filter(regex='^' + column_to_drop_32).columns, axis=1)\n",
    "    X_33 = comp_33.drop('target', axis=1)\n",
    "    y_33 = comp_33['target']\n",
    "\n",
    "print(X_33.shape)"
   ]
  },
  {
   "cell_type": "code",
   "execution_count": null,
   "id": "f6ad056e",
   "metadata": {},
   "outputs": [],
   "source": [
    "X_train, X_test, y_train, y_test = train_test_split(X_33, y_33, test_size=0.2, shuffle=True, stratify=y_33, random_state = 0)\n",
    "X_train, X_val, y_train, y_val = train_test_split(X_train, y_train, test_size=0.2, shuffle=True, stratify=y_train, random_state = 0)"
   ]
  },
  {
   "cell_type": "code",
   "execution_count": null,
   "id": "b2b8b634",
   "metadata": {},
   "outputs": [],
   "source": [
    "def objective(trial):\n",
    "    params = {\n",
    "        'learning_rate' :trial.suggest_float('learning_rate',0.01, 0.1,step=0.01),        \n",
    "        'n_estimators' :trial.suggest_int('n_estimators', 50, 200),\n",
    "        'subsample':trial.suggest_float('subsample', 0.1, 1.0,step=0.1),\n",
    "        'max_depth' :trial.suggest_int('max_depth', 1, 10),\n",
    "        'min_samples_split' :trial.suggest_int('min_samples_split', 3, 10),\n",
    "        'min_samples_leaf' :trial.suggest_int('min_samples_leaf', 3, 10),\n",
    "        }\n",
    "        \n",
    "    clf = GradientBoostingClassifier(**params,random_state = 0)\n",
    "    clf.fit(X_train, y_train)\n",
    "    clf_proba = clf.predict_proba(X_val)[:, 1]\n",
    "        \n",
    "    AUC_SCORE = roc_auc_score(y_val, clf_proba)\n",
    "    return AUC_SCORE\n",
    "\n",
    "direction = \"maximize\"\n",
    "sampler = optuna.samplers.TPESampler(seed=10)\n",
    "study =  optuna.create_study(direction=direction, sampler=sampler, pruner=optuna.pruners.HyperbandPruner())\n",
    "early_stopping = EarlyStoppingCallback(10, direction=direction)\n",
    "study.optimize(objective, callbacks=[early_stopping], n_trials=200) "
   ]
  },
  {
   "cell_type": "code",
   "execution_count": null,
   "id": "23536988",
   "metadata": {},
   "outputs": [],
   "source": [
    "print(study.best_trial.params)\n",
    "optuna_auc = study.best_trial.value\n",
    "print(optuna_auc)"
   ]
  },
  {
   "cell_type": "code",
   "execution_count": null,
   "id": "73394eb4",
   "metadata": {},
   "outputs": [],
   "source": [
    "optuna_33 = GradientBoostingClassifier(**study.best_trial.params, random_state = 0)\n",
    "optuna_33.fit(X_train, y_train)"
   ]
  },
  {
   "cell_type": "code",
   "execution_count": null,
   "id": "57ed6d60",
   "metadata": {},
   "outputs": [],
   "source": [
    "optuna_proba_33 = optuna_33.predict_proba(X_test)[:, 1]\n",
    "auc_33 = roc_auc_score(y_test, optuna_proba_33)\n",
    "print(decimal.Decimal(auc_33).quantize(decimal.Decimal('1.000')))"
   ]
  },
  {
   "cell_type": "code",
   "execution_count": null,
   "id": "d66d1359",
   "metadata": {},
   "outputs": [],
   "source": [
    "X_train = X_train.values\n",
    "y_train = y_train.values"
   ]
  },
  {
   "cell_type": "code",
   "execution_count": null,
   "id": "a897ad47",
   "metadata": {},
   "outputs": [],
   "source": [
    "auc_bootstrap = []"
   ]
  },
  {
   "cell_type": "code",
   "execution_count": null,
   "id": "ae730e48",
   "metadata": {},
   "outputs": [],
   "source": [
    "rs = RandomState(seed = 33)\n",
    "bootstrap_auc(optuna_33, X_train, y_train, X_test, y_test, nsamples=2000)"
   ]
  },
  {
   "cell_type": "code",
   "execution_count": null,
   "id": "97c30682",
   "metadata": {},
   "outputs": [],
   "source": [
    "shapiro(auc_bootstrap), np.mean(auc_bootstrap)"
   ]
  },
  {
   "cell_type": "code",
   "execution_count": null,
   "id": "a0e7e3af",
   "metadata": {},
   "outputs": [],
   "source": [
    "t_33 = auc_bootstrap\n",
    "print(t_33)"
   ]
  },
  {
   "cell_type": "code",
   "execution_count": null,
   "id": "f4839d18",
   "metadata": {},
   "outputs": [],
   "source": [
    "del X_train, X_test, y_train, y_test, X_val, y_val,study, optuna_auc"
   ]
  },
  {
   "cell_type": "code",
   "execution_count": null,
   "id": "475520df",
   "metadata": {},
   "outputs": [],
   "source": [
    "# 34\n",
    "column_to_drop_33 = '자산 중 금융자산의 비중'"
   ]
  },
  {
   "cell_type": "code",
   "execution_count": null,
   "id": "8e74c2e2",
   "metadata": {},
   "outputs": [],
   "source": [
    "if not column_to_drop_33.startswith('Cat_'):\n",
    "    comp_34 = comp_33.drop(column_to_drop_33, axis=1)\n",
    "    X_34 = comp_34.drop('target', axis=1)\n",
    "    y_34 = comp_34['target']\n",
    "else:\n",
    "    comp_34 = comp_33.drop(comp_33.filter(regex='^' + column_to_drop_33).columns, axis=1)\n",
    "    X_34 = comp_34.drop('target', axis=1)\n",
    "    y_34 = comp_34['target']\n",
    "\n",
    "print(X_34.shape)"
   ]
  },
  {
   "cell_type": "code",
   "execution_count": null,
   "id": "017d7337",
   "metadata": {},
   "outputs": [],
   "source": [
    "X_train, X_test, y_train, y_test = train_test_split(X_34, y_34, test_size=0.2, shuffle=True, stratify=y_34, random_state = 0)\n",
    "X_train, X_val, y_train, y_val = train_test_split(X_train, y_train, test_size=0.2, shuffle=True, stratify=y_train, random_state = 0)"
   ]
  },
  {
   "cell_type": "code",
   "execution_count": null,
   "id": "45cb7303",
   "metadata": {},
   "outputs": [],
   "source": [
    "def objective(trial):\n",
    "    params = {\n",
    "        'learning_rate' :trial.suggest_float('learning_rate',0.01, 0.1,step=0.01),        \n",
    "        'n_estimators' :trial.suggest_int('n_estimators', 50, 200),\n",
    "        'subsample':trial.suggest_float('subsample', 0.1, 1.0,step=0.1),\n",
    "        'max_depth' :trial.suggest_int('max_depth', 1, 10),\n",
    "        'min_samples_split' :trial.suggest_int('min_samples_split', 3, 10),\n",
    "        'min_samples_leaf' :trial.suggest_int('min_samples_leaf', 3, 10),\n",
    "        }\n",
    "        \n",
    "    clf = GradientBoostingClassifier(**params,random_state = 0)\n",
    "    clf.fit(X_train, y_train)\n",
    "    clf_proba = clf.predict_proba(X_val)[:, 1]\n",
    "        \n",
    "    AUC_SCORE = roc_auc_score(y_val, clf_proba)\n",
    "    return AUC_SCORE\n",
    "\n",
    "direction = \"maximize\"\n",
    "sampler = optuna.samplers.TPESampler(seed=10)\n",
    "study =  optuna.create_study(direction=direction, sampler=sampler, pruner=optuna.pruners.HyperbandPruner())\n",
    "early_stopping = EarlyStoppingCallback(10, direction=direction)\n",
    "study.optimize(objective, callbacks=[early_stopping], n_trials=200) "
   ]
  },
  {
   "cell_type": "code",
   "execution_count": null,
   "id": "0d57d273",
   "metadata": {},
   "outputs": [],
   "source": [
    "print(study.best_trial.params)\n",
    "optuna_auc = study.best_trial.value\n",
    "print(optuna_auc)"
   ]
  },
  {
   "cell_type": "code",
   "execution_count": null,
   "id": "a8f8add7",
   "metadata": {},
   "outputs": [],
   "source": [
    "optuna_34 = GradientBoostingClassifier(**study.best_trial.params, random_state = 0)\n",
    "optuna_34.fit(X_train, y_train)"
   ]
  },
  {
   "cell_type": "code",
   "execution_count": null,
   "id": "1fca9903",
   "metadata": {},
   "outputs": [],
   "source": [
    "optuna_proba_34 = optuna_34.predict_proba(X_test)[:, 1]\n",
    "auc_34 = roc_auc_score(y_test, optuna_proba_34)\n",
    "print(decimal.Decimal(auc_34).quantize(decimal.Decimal('1.000')))"
   ]
  },
  {
   "cell_type": "code",
   "execution_count": null,
   "id": "86a412ac",
   "metadata": {},
   "outputs": [],
   "source": [
    "X_train = X_train.values\n",
    "y_train = y_train.values"
   ]
  },
  {
   "cell_type": "code",
   "execution_count": null,
   "id": "7e95c81e",
   "metadata": {},
   "outputs": [],
   "source": [
    "auc_bootstrap = []"
   ]
  },
  {
   "cell_type": "code",
   "execution_count": null,
   "id": "f1781b06",
   "metadata": {},
   "outputs": [],
   "source": [
    "rs = RandomState(seed = 34)\n",
    "bootstrap_auc(optuna_34, X_train, y_train, X_test, y_test, nsamples=2000)"
   ]
  },
  {
   "cell_type": "code",
   "execution_count": null,
   "id": "cec4c94b",
   "metadata": {},
   "outputs": [],
   "source": [
    "shapiro(auc_bootstrap), np.mean(auc_bootstrap)"
   ]
  },
  {
   "cell_type": "code",
   "execution_count": null,
   "id": "7b521031",
   "metadata": {},
   "outputs": [],
   "source": [
    "t_34 = auc_bootstrap\n",
    "print(t_34)"
   ]
  },
  {
   "cell_type": "code",
   "execution_count": null,
   "id": "6143b399",
   "metadata": {},
   "outputs": [],
   "source": [
    "del X_train, X_test, y_train, y_test, X_val, y_val,study, optuna_auc"
   ]
  },
  {
   "cell_type": "code",
   "execution_count": null,
   "id": "713ea457",
   "metadata": {},
   "outputs": [],
   "source": [
    "# 35\n",
    "column_to_drop_34 = 'Cat_현재 도시공원 및 녹지 접근용이성'"
   ]
  },
  {
   "cell_type": "code",
   "execution_count": null,
   "id": "1ae46123",
   "metadata": {},
   "outputs": [],
   "source": [
    "if not column_to_drop_34.startswith('Cat_'):\n",
    "    comp_35 = comp_34.drop(column_to_drop_34, axis=1)\n",
    "    X_35 = comp_35.drop('target', axis=1)\n",
    "    y_35 = comp_35['target']\n",
    "else:\n",
    "    comp_35 = comp_34.drop(comp_34.filter(regex='^' + column_to_drop_34).columns, axis=1)\n",
    "    X_35 = comp_35.drop('target', axis=1)\n",
    "    y_35 = comp_35['target']\n",
    "\n",
    "print(X_35.shape)"
   ]
  },
  {
   "cell_type": "code",
   "execution_count": null,
   "id": "ce7fd510",
   "metadata": {},
   "outputs": [],
   "source": [
    "X_train, X_test, y_train, y_test = train_test_split(X_35, y_35, test_size=0.2, shuffle=True, stratify=y_35, random_state = 0)\n",
    "X_train, X_val, y_train, y_val = train_test_split(X_train, y_train, test_size=0.2, shuffle=True, stratify=y_train, random_state = 0)"
   ]
  },
  {
   "cell_type": "code",
   "execution_count": null,
   "id": "bcec2e36",
   "metadata": {},
   "outputs": [],
   "source": [
    "def objective(trial):\n",
    "    params = {\n",
    "        'learning_rate' :trial.suggest_float('learning_rate',0.01, 0.1,step=0.01),        \n",
    "        'n_estimators' :trial.suggest_int('n_estimators', 50, 200),\n",
    "        'subsample':trial.suggest_float('subsample', 0.1, 1.0,step=0.1),\n",
    "        'max_depth' :trial.suggest_int('max_depth', 1, 10),\n",
    "        'min_samples_split' :trial.suggest_int('min_samples_split', 3, 10),\n",
    "        'min_samples_leaf' :trial.suggest_int('min_samples_leaf', 3, 10),\n",
    "        }\n",
    "        \n",
    "    clf = GradientBoostingClassifier(**params,random_state = 0)\n",
    "    clf.fit(X_train, y_train)\n",
    "    clf_proba = clf.predict_proba(X_val)[:, 1]\n",
    "        \n",
    "    AUC_SCORE = roc_auc_score(y_val, clf_proba)\n",
    "    return AUC_SCORE\n",
    "\n",
    "direction = \"maximize\"\n",
    "sampler = optuna.samplers.TPESampler(seed=10)\n",
    "study =  optuna.create_study(direction=direction, sampler=sampler, pruner=optuna.pruners.HyperbandPruner())\n",
    "early_stopping = EarlyStoppingCallback(10, direction=direction)\n",
    "study.optimize(objective, callbacks=[early_stopping], n_trials=200) "
   ]
  },
  {
   "cell_type": "code",
   "execution_count": null,
   "id": "3f4dd776",
   "metadata": {},
   "outputs": [],
   "source": [
    "print(study.best_trial.params)\n",
    "optuna_auc = study.best_trial.value\n",
    "print(optuna_auc)"
   ]
  },
  {
   "cell_type": "code",
   "execution_count": null,
   "id": "f8003eea",
   "metadata": {},
   "outputs": [],
   "source": [
    "optuna_35 = GradientBoostingClassifier(**study.best_trial.params, random_state = 0)\n",
    "optuna_35.fit(X_train, y_train)"
   ]
  },
  {
   "cell_type": "code",
   "execution_count": null,
   "id": "7e82dae6",
   "metadata": {},
   "outputs": [],
   "source": [
    "optuna_proba_35 = optuna_35.predict_proba(X_test)[:, 1]\n",
    "auc_35 = roc_auc_score(y_test, optuna_proba_35)\n",
    "print(decimal.Decimal(auc_35).quantize(decimal.Decimal('1.000')))"
   ]
  },
  {
   "cell_type": "code",
   "execution_count": null,
   "id": "4d3cb80e",
   "metadata": {},
   "outputs": [],
   "source": [
    "X_train = X_train.values\n",
    "y_train = y_train.values"
   ]
  },
  {
   "cell_type": "code",
   "execution_count": null,
   "id": "71fa2b72",
   "metadata": {},
   "outputs": [],
   "source": [
    "auc_bootstrap = []"
   ]
  },
  {
   "cell_type": "code",
   "execution_count": null,
   "id": "0acfcefe",
   "metadata": {},
   "outputs": [],
   "source": [
    "rs = RandomState(seed = 35)\n",
    "bootstrap_auc(optuna_35, X_train, y_train, X_test, y_test, nsamples=2000)"
   ]
  },
  {
   "cell_type": "code",
   "execution_count": null,
   "id": "463b343f",
   "metadata": {},
   "outputs": [],
   "source": [
    "shapiro(auc_bootstrap), np.mean(auc_bootstrap)"
   ]
  },
  {
   "cell_type": "code",
   "execution_count": null,
   "id": "0ac5d1b6",
   "metadata": {},
   "outputs": [],
   "source": [
    "t_35 = auc_bootstrap\n",
    "print(t_35)"
   ]
  },
  {
   "cell_type": "code",
   "execution_count": null,
   "id": "b72dc7e2",
   "metadata": {},
   "outputs": [],
   "source": [
    "del X_train, X_test, y_train, y_test, X_val, y_val,study, optuna_auc"
   ]
  },
  {
   "cell_type": "code",
   "execution_count": null,
   "id": "6d9dc639",
   "metadata": {},
   "outputs": [],
   "source": [
    "# 36\n",
    "column_to_drop_35 = 'Cat_현재 주차시설 이용편의성'"
   ]
  },
  {
   "cell_type": "code",
   "execution_count": null,
   "id": "eb305d56",
   "metadata": {},
   "outputs": [],
   "source": [
    "if not column_to_drop_35.startswith('Cat_'):\n",
    "    comp_36 = comp_35.drop(column_to_drop_35, axis=1)\n",
    "    X_36 = comp_36.drop('target', axis=1)\n",
    "    y_36 = comp_36['target']\n",
    "else:\n",
    "    comp_36 = comp_35.drop(comp_35.filter(regex='^' + column_to_drop_35).columns, axis=1)\n",
    "    X_36 = comp_36.drop('target', axis=1)\n",
    "    y_36 = comp_36['target']\n",
    "\n",
    "print(X_36.shape)"
   ]
  },
  {
   "cell_type": "code",
   "execution_count": null,
   "id": "568aef92",
   "metadata": {},
   "outputs": [],
   "source": [
    "X_train, X_test, y_train, y_test = train_test_split(X_36, y_36, test_size=0.2, shuffle=True, stratify=y_36, random_state = 0)\n",
    "X_train, X_val, y_train, y_val = train_test_split(X_train, y_train, test_size=0.2, shuffle=True, stratify=y_train, random_state = 0)"
   ]
  },
  {
   "cell_type": "code",
   "execution_count": null,
   "id": "d9d96328",
   "metadata": {},
   "outputs": [],
   "source": [
    "def objective(trial):\n",
    "    params = {\n",
    "        'learning_rate' :trial.suggest_float('learning_rate',0.01, 0.1,step=0.01),        \n",
    "        'n_estimators' :trial.suggest_int('n_estimators', 50, 200),\n",
    "        'subsample':trial.suggest_float('subsample', 0.1, 1.0,step=0.1),\n",
    "        'max_depth' :trial.suggest_int('max_depth', 1, 10),\n",
    "        'min_samples_split' :trial.suggest_int('min_samples_split', 3, 10),\n",
    "        'min_samples_leaf' :trial.suggest_int('min_samples_leaf', 3, 10),\n",
    "        }\n",
    "        \n",
    "    clf = GradientBoostingClassifier(**params,random_state = 0)\n",
    "    clf.fit(X_train, y_train)\n",
    "    clf_proba = clf.predict_proba(X_val)[:, 1]\n",
    "        \n",
    "    AUC_SCORE = roc_auc_score(y_val, clf_proba)\n",
    "    return AUC_SCORE\n",
    "\n",
    "direction = \"maximize\"\n",
    "sampler = optuna.samplers.TPESampler(seed=10)\n",
    "study =  optuna.create_study(direction=direction, sampler=sampler, pruner=optuna.pruners.HyperbandPruner())\n",
    "early_stopping = EarlyStoppingCallback(10, direction=direction)\n",
    "study.optimize(objective, callbacks=[early_stopping], n_trials=200) "
   ]
  },
  {
   "cell_type": "code",
   "execution_count": null,
   "id": "b0abce38",
   "metadata": {},
   "outputs": [],
   "source": [
    "print(study.best_trial.params)\n",
    "optuna_auc = study.best_trial.value\n",
    "print(optuna_auc)"
   ]
  },
  {
   "cell_type": "code",
   "execution_count": null,
   "id": "86fe50ac",
   "metadata": {},
   "outputs": [],
   "source": [
    "optuna_36 = GradientBoostingClassifier(**study.best_trial.params, random_state = 0)\n",
    "optuna_36.fit(X_train, y_train)"
   ]
  },
  {
   "cell_type": "code",
   "execution_count": null,
   "id": "fcae2d80",
   "metadata": {},
   "outputs": [],
   "source": [
    "optuna_proba_36 = optuna_36.predict_proba(X_test)[:, 1]\n",
    "auc_36 = roc_auc_score(y_test, optuna_proba_36)\n",
    "print(decimal.Decimal(auc_36).quantize(decimal.Decimal('1.000')))"
   ]
  },
  {
   "cell_type": "code",
   "execution_count": null,
   "id": "b2fe93e8",
   "metadata": {},
   "outputs": [],
   "source": [
    "X_train = X_train.values\n",
    "y_train = y_train.values"
   ]
  },
  {
   "cell_type": "code",
   "execution_count": null,
   "id": "0a1df77e",
   "metadata": {},
   "outputs": [],
   "source": [
    "auc_bootstrap = []"
   ]
  },
  {
   "cell_type": "code",
   "execution_count": null,
   "id": "cf8abd77",
   "metadata": {},
   "outputs": [],
   "source": [
    "rs = RandomState(seed = 36)\n",
    "bootstrap_auc(optuna_36, X_train, y_train, X_test, y_test, nsamples=2000)"
   ]
  },
  {
   "cell_type": "code",
   "execution_count": null,
   "id": "f8a6fa6d",
   "metadata": {},
   "outputs": [],
   "source": [
    "shapiro(auc_bootstrap), np.mean(auc_bootstrap)"
   ]
  },
  {
   "cell_type": "code",
   "execution_count": null,
   "id": "92fe8fbe",
   "metadata": {},
   "outputs": [],
   "source": [
    "t_36 = auc_bootstrap\n",
    "print(t_36)"
   ]
  },
  {
   "cell_type": "code",
   "execution_count": null,
   "id": "c74541fc",
   "metadata": {},
   "outputs": [],
   "source": [
    "del X_train, X_test, y_train, y_test, X_val, y_val,study, optuna_auc"
   ]
  },
  {
   "cell_type": "code",
   "execution_count": null,
   "id": "7dbd3586",
   "metadata": {},
   "outputs": [],
   "source": [
    "# 37\n",
    "column_to_drop_36 = '현재 무주택 기간(총 개월)'"
   ]
  },
  {
   "cell_type": "code",
   "execution_count": null,
   "id": "72b00a68",
   "metadata": {},
   "outputs": [],
   "source": [
    "if not column_to_drop_36.startswith('Cat_'):\n",
    "    comp_37 = comp_36.drop(column_to_drop_36, axis=1)\n",
    "    X_37 = comp_37.drop('target', axis=1)\n",
    "    y_37 = comp_37['target']\n",
    "else:\n",
    "    comp_37 = comp_36.drop(comp_36.filter(regex='^' + column_to_drop_36).columns, axis=1)\n",
    "    X_37 = comp_37.drop('target', axis=1)\n",
    "    y_37 = comp_37['target']\n",
    "\n",
    "print(X_37.shape)"
   ]
  },
  {
   "cell_type": "code",
   "execution_count": null,
   "id": "d33834e3",
   "metadata": {},
   "outputs": [],
   "source": [
    "X_train, X_test, y_train, y_test = train_test_split(X_37, y_37, test_size=0.2, shuffle=True, stratify=y_37, random_state = 0)\n",
    "X_train, X_val, y_train, y_val = train_test_split(X_train, y_train, test_size=0.2, shuffle=True, stratify=y_train, random_state = 0)"
   ]
  },
  {
   "cell_type": "code",
   "execution_count": null,
   "id": "cfc73165",
   "metadata": {},
   "outputs": [],
   "source": [
    "def objective(trial):\n",
    "    params = {\n",
    "        'learning_rate' :trial.suggest_float('learning_rate',0.01, 0.1,step=0.01),        \n",
    "        'n_estimators' :trial.suggest_int('n_estimators', 50, 200),\n",
    "        'subsample':trial.suggest_float('subsample', 0.1, 1.0,step=0.1),\n",
    "        'max_depth' :trial.suggest_int('max_depth', 1, 10),\n",
    "        'min_samples_split' :trial.suggest_int('min_samples_split', 3, 10),\n",
    "        'min_samples_leaf' :trial.suggest_int('min_samples_leaf', 3, 10),\n",
    "        }\n",
    "        \n",
    "    clf = GradientBoostingClassifier(**params,random_state = 0)\n",
    "    clf.fit(X_train, y_train)\n",
    "    clf_proba = clf.predict_proba(X_val)[:, 1]\n",
    "        \n",
    "    AUC_SCORE = roc_auc_score(y_val, clf_proba)\n",
    "    return AUC_SCORE\n",
    "\n",
    "direction = \"maximize\"\n",
    "sampler = optuna.samplers.TPESampler(seed=10)\n",
    "study =  optuna.create_study(direction=direction, sampler=sampler, pruner=optuna.pruners.HyperbandPruner())\n",
    "early_stopping = EarlyStoppingCallback(10, direction=direction)\n",
    "study.optimize(objective, callbacks=[early_stopping], n_trials=200) "
   ]
  },
  {
   "cell_type": "code",
   "execution_count": null,
   "id": "9584fbe9",
   "metadata": {},
   "outputs": [],
   "source": [
    "print(study.best_trial.params)\n",
    "optuna_auc = study.best_trial.value\n",
    "print(optuna_auc)"
   ]
  },
  {
   "cell_type": "code",
   "execution_count": null,
   "id": "165b5194",
   "metadata": {},
   "outputs": [],
   "source": [
    "optuna_37 = GradientBoostingClassifier(**study.best_trial.params, random_state = 0)\n",
    "optuna_37.fit(X_train, y_train)"
   ]
  },
  {
   "cell_type": "code",
   "execution_count": null,
   "id": "77528c24",
   "metadata": {},
   "outputs": [],
   "source": [
    "optuna_proba_37 = optuna_37.predict_proba(X_test)[:, 1]\n",
    "auc_37 = roc_auc_score(y_test, optuna_proba_37)\n",
    "print(decimal.Decimal(auc_37).quantize(decimal.Decimal('1.000')))"
   ]
  },
  {
   "cell_type": "code",
   "execution_count": null,
   "id": "658bbad7",
   "metadata": {},
   "outputs": [],
   "source": [
    "X_train = X_train.values\n",
    "y_train = y_train.values"
   ]
  },
  {
   "cell_type": "code",
   "execution_count": null,
   "id": "357af21d",
   "metadata": {},
   "outputs": [],
   "source": [
    "auc_bootstrap = []"
   ]
  },
  {
   "cell_type": "code",
   "execution_count": null,
   "id": "e7d0e307",
   "metadata": {},
   "outputs": [],
   "source": [
    "rs = RandomState(seed = 37)\n",
    "bootstrap_auc(optuna_37, X_train, y_train, X_test, y_test, nsamples=2000)"
   ]
  },
  {
   "cell_type": "code",
   "execution_count": null,
   "id": "85655e15",
   "metadata": {},
   "outputs": [],
   "source": [
    "shapiro(auc_bootstrap), np.mean(auc_bootstrap)"
   ]
  },
  {
   "cell_type": "code",
   "execution_count": null,
   "id": "dc36d048",
   "metadata": {},
   "outputs": [],
   "source": [
    "t_37 = auc_bootstrap\n",
    "print(t_37)"
   ]
  },
  {
   "cell_type": "code",
   "execution_count": null,
   "id": "77673a17",
   "metadata": {},
   "outputs": [],
   "source": [
    "del X_train, X_test, y_train, y_test, X_val, y_val,study, optuna_auc"
   ]
  },
  {
   "cell_type": "code",
   "execution_count": null,
   "id": "ead41f79",
   "metadata": {},
   "outputs": [],
   "source": [
    "# 38\n",
    "column_to_drop_37 = 'Cat_현재 청소/쓰레기 처리상태'"
   ]
  },
  {
   "cell_type": "code",
   "execution_count": null,
   "id": "dae6def3",
   "metadata": {},
   "outputs": [],
   "source": [
    "if not column_to_drop_37.startswith('Cat_'):\n",
    "    comp_38 = comp_37.drop(column_to_drop_37, axis=1)\n",
    "    X_38 = comp_38.drop('target', axis=1)\n",
    "    y_38 = comp_38['target']\n",
    "else:\n",
    "    comp_38 = comp_37.drop(comp_37.filter(regex='^' + column_to_drop_37).columns, axis=1)\n",
    "    X_38 = comp_38.drop('target', axis=1)\n",
    "    y_38 = comp_38['target']\n",
    "\n",
    "print(X_38.shape)"
   ]
  },
  {
   "cell_type": "code",
   "execution_count": null,
   "id": "700db5cb",
   "metadata": {},
   "outputs": [],
   "source": [
    "X_train, X_test, y_train, y_test = train_test_split(X_38, y_38, test_size=0.2, shuffle=True, stratify=y_38, random_state = 0)\n",
    "X_train, X_val, y_train, y_val = train_test_split(X_train, y_train, test_size=0.2, shuffle=True, stratify=y_train, random_state = 0)"
   ]
  },
  {
   "cell_type": "code",
   "execution_count": null,
   "id": "d6a53f75",
   "metadata": {},
   "outputs": [],
   "source": [
    "def objective(trial):\n",
    "    params = {\n",
    "        'learning_rate' :trial.suggest_float('learning_rate',0.01, 0.1,step=0.01),        \n",
    "        'n_estimators' :trial.suggest_int('n_estimators', 50, 200),\n",
    "        'subsample':trial.suggest_float('subsample', 0.1, 1.0,step=0.1),\n",
    "        'max_depth' :trial.suggest_int('max_depth', 1, 10),\n",
    "        'min_samples_split' :trial.suggest_int('min_samples_split', 3, 10),\n",
    "        'min_samples_leaf' :trial.suggest_int('min_samples_leaf', 3, 10),\n",
    "        }\n",
    "        \n",
    "    clf = GradientBoostingClassifier(**params,random_state = 0)\n",
    "    clf.fit(X_train, y_train)\n",
    "    clf_proba = clf.predict_proba(X_val)[:, 1]\n",
    "        \n",
    "    AUC_SCORE = roc_auc_score(y_val, clf_proba)\n",
    "    return AUC_SCORE\n",
    "\n",
    "direction = \"maximize\"\n",
    "sampler = optuna.samplers.TPESampler(seed=10)\n",
    "study =  optuna.create_study(direction=direction, sampler=sampler, pruner=optuna.pruners.HyperbandPruner())\n",
    "early_stopping = EarlyStoppingCallback(10, direction=direction)\n",
    "study.optimize(objective, callbacks=[early_stopping], n_trials=200) "
   ]
  },
  {
   "cell_type": "code",
   "execution_count": null,
   "id": "4863dd08",
   "metadata": {},
   "outputs": [],
   "source": [
    "print(study.best_trial.params)\n",
    "optuna_auc = study.best_trial.value\n",
    "print(optuna_auc)"
   ]
  },
  {
   "cell_type": "code",
   "execution_count": null,
   "id": "2b61884c",
   "metadata": {},
   "outputs": [],
   "source": [
    "optuna_38 = GradientBoostingClassifier(**study.best_trial.params, random_state = 0)\n",
    "optuna_38.fit(X_train, y_train)"
   ]
  },
  {
   "cell_type": "code",
   "execution_count": null,
   "id": "6033e0d9",
   "metadata": {},
   "outputs": [],
   "source": [
    "optuna_proba_38 = optuna_38.predict_proba(X_test)[:, 1]\n",
    "auc_38 = roc_auc_score(y_test, optuna_proba_38)\n",
    "print(decimal.Decimal(auc_38).quantize(decimal.Decimal('1.000')))"
   ]
  },
  {
   "cell_type": "code",
   "execution_count": null,
   "id": "5d347eae",
   "metadata": {},
   "outputs": [],
   "source": [
    "X_train = X_train.values\n",
    "y_train = y_train.values"
   ]
  },
  {
   "cell_type": "code",
   "execution_count": null,
   "id": "b118e43b",
   "metadata": {},
   "outputs": [],
   "source": [
    "auc_bootstrap = []"
   ]
  },
  {
   "cell_type": "code",
   "execution_count": null,
   "id": "a84e7154",
   "metadata": {},
   "outputs": [],
   "source": [
    "rs = RandomState(seed = 38)\n",
    "bootstrap_auc(optuna_38, X_train, y_train, X_test, y_test, nsamples=2000)"
   ]
  },
  {
   "cell_type": "code",
   "execution_count": null,
   "id": "20b53f1f",
   "metadata": {},
   "outputs": [],
   "source": [
    "shapiro(auc_bootstrap), np.mean(auc_bootstrap)"
   ]
  },
  {
   "cell_type": "code",
   "execution_count": null,
   "id": "3de795e7",
   "metadata": {},
   "outputs": [],
   "source": [
    "t_38 = auc_bootstrap\n",
    "print(t_38)"
   ]
  },
  {
   "cell_type": "code",
   "execution_count": null,
   "id": "3c927cd9",
   "metadata": {},
   "outputs": [],
   "source": [
    "del X_train, X_test, y_train, y_test, X_val, y_val,study, optuna_auc"
   ]
  },
  {
   "cell_type": "code",
   "execution_count": null,
   "id": "35513838",
   "metadata": {},
   "outputs": [],
   "source": [
    "# 38\n",
    "column_to_drop_38 = 'Cat_현재 대중교통 접근용이성'"
   ]
  },
  {
   "cell_type": "code",
   "execution_count": null,
   "id": "5e60a3f0",
   "metadata": {},
   "outputs": [],
   "source": [
    "if not column_to_drop_38.startswith('Cat_'):\n",
    "    comp_39 = comp_38.drop(column_to_drop_38, axis=1)\n",
    "    X_39 = comp_39.drop('target', axis=1)\n",
    "    y_39 = comp_39['target']\n",
    "else:\n",
    "    comp_39 = comp_38.drop(comp_38.filter(regex='^' + column_to_drop_38).columns, axis=1)\n",
    "    X_39 = comp_39.drop('target', axis=1)\n",
    "    y_39 = comp_39['target']\n",
    "\n",
    "print(X_39.shape)"
   ]
  },
  {
   "cell_type": "code",
   "execution_count": null,
   "id": "f5bbb1aa",
   "metadata": {},
   "outputs": [],
   "source": [
    "X_train, X_test, y_train, y_test = train_test_split(X_39, y_39, test_size=0.2, shuffle=True, stratify=y_39, random_state = 0)\n",
    "X_train, X_val, y_train, y_val = train_test_split(X_train, y_train, test_size=0.2, shuffle=True, stratify=y_train, random_state = 0)"
   ]
  },
  {
   "cell_type": "code",
   "execution_count": null,
   "id": "0d3d2350",
   "metadata": {},
   "outputs": [],
   "source": [
    "def objective(trial):\n",
    "    params = {\n",
    "        'learning_rate' :trial.suggest_float('learning_rate',0.01, 0.1,step=0.01),        \n",
    "        'n_estimators' :trial.suggest_int('n_estimators', 50, 200),\n",
    "        'subsample':trial.suggest_float('subsample', 0.1, 1.0,step=0.1),\n",
    "        'max_depth' :trial.suggest_int('max_depth', 1, 10),\n",
    "        'min_samples_split' :trial.suggest_int('min_samples_split', 3, 10),\n",
    "        'min_samples_leaf' :trial.suggest_int('min_samples_leaf', 3, 10),\n",
    "        }\n",
    "        \n",
    "    clf = GradientBoostingClassifier(**params,random_state = 0)\n",
    "    clf.fit(X_train, y_train)\n",
    "    clf_proba = clf.predict_proba(X_val)[:, 1]\n",
    "        \n",
    "    AUC_SCORE = roc_auc_score(y_val, clf_proba)\n",
    "    return AUC_SCORE\n",
    "\n",
    "direction = \"maximize\"\n",
    "sampler = optuna.samplers.TPESampler(seed=10)\n",
    "study =  optuna.create_study(direction=direction, sampler=sampler, pruner=optuna.pruners.HyperbandPruner())\n",
    "early_stopping = EarlyStoppingCallback(10, direction=direction)\n",
    "study.optimize(objective, callbacks=[early_stopping], n_trials=200) "
   ]
  },
  {
   "cell_type": "code",
   "execution_count": null,
   "id": "10c4efd8",
   "metadata": {},
   "outputs": [],
   "source": [
    "print(study.best_trial.params)\n",
    "optuna_auc = study.best_trial.value\n",
    "print(optuna_auc)"
   ]
  },
  {
   "cell_type": "code",
   "execution_count": null,
   "id": "5d0fd661",
   "metadata": {},
   "outputs": [],
   "source": [
    "optuna_39 = GradientBoostingClassifier(**study.best_trial.params, random_state = 0)\n",
    "optuna_39.fit(X_train, y_train)"
   ]
  },
  {
   "cell_type": "code",
   "execution_count": null,
   "id": "ea9c1fa9",
   "metadata": {},
   "outputs": [],
   "source": [
    "optuna_proba_39 = optuna_39.predict_proba(X_test)[:, 1]\n",
    "auc_39 = roc_auc_score(y_test, optuna_proba_39)\n",
    "print(decimal.Decimal(auc_39).quantize(decimal.Decimal('1.000')))"
   ]
  },
  {
   "cell_type": "code",
   "execution_count": null,
   "id": "187488dd",
   "metadata": {},
   "outputs": [],
   "source": [
    "X_train = X_train.values\n",
    "y_train = y_train.values"
   ]
  },
  {
   "cell_type": "code",
   "execution_count": null,
   "id": "1cc53e43",
   "metadata": {},
   "outputs": [],
   "source": [
    "auc_bootstrap = []"
   ]
  },
  {
   "cell_type": "code",
   "execution_count": null,
   "id": "2822259f",
   "metadata": {},
   "outputs": [],
   "source": [
    "rs = RandomState(seed = 39)\n",
    "bootstrap_auc(optuna_39, X_train, y_train, X_test, y_test, nsamples=2000)"
   ]
  },
  {
   "cell_type": "code",
   "execution_count": null,
   "id": "02274a0f",
   "metadata": {},
   "outputs": [],
   "source": [
    "shapiro(auc_bootstrap), np.mean(auc_bootstrap)"
   ]
  },
  {
   "cell_type": "code",
   "execution_count": null,
   "id": "d05fb6ec",
   "metadata": {},
   "outputs": [],
   "source": [
    "t_39 = auc_bootstrap\n",
    "print(t_39)"
   ]
  },
  {
   "cell_type": "code",
   "execution_count": null,
   "id": "0e6aedb9",
   "metadata": {},
   "outputs": [],
   "source": [
    "del X_train, X_test, y_train, y_test, X_val, y_val,study, optuna_auc"
   ]
  },
  {
   "cell_type": "code",
   "execution_count": null,
   "id": "b51f1c48",
   "metadata": {},
   "outputs": [],
   "source": [
    "# 40\n",
    "column_to_drop_39 = '자산 중 기타자산의 비중'"
   ]
  },
  {
   "cell_type": "code",
   "execution_count": null,
   "id": "1582ce60",
   "metadata": {},
   "outputs": [],
   "source": [
    "if not column_to_drop_39.startswith('Cat_'):\n",
    "    comp_40 = comp_39.drop(column_to_drop_39, axis=1)\n",
    "    X_40 = comp_40.drop('target', axis=1)\n",
    "    y_40 = comp_40['target']\n",
    "else:\n",
    "    comp_40 = comp_39.drop(comp_39.filter(regex='^' + column_to_drop_39).columns, axis=1)\n",
    "    X_40 = comp_40.drop('target', axis=1)\n",
    "    y_40 = comp_40['target']\n",
    "\n",
    "print(X_40.shape)"
   ]
  },
  {
   "cell_type": "code",
   "execution_count": null,
   "id": "f81f10b8",
   "metadata": {},
   "outputs": [],
   "source": [
    "X_train, X_test, y_train, y_test = train_test_split(X_40, y_40, test_size=0.2, shuffle=True, stratify=y_40, random_state = 0)\n",
    "X_train, X_val, y_train, y_val = train_test_split(X_train, y_train, test_size=0.2, shuffle=True, stratify=y_train, random_state = 0)"
   ]
  },
  {
   "cell_type": "code",
   "execution_count": null,
   "id": "98de500b",
   "metadata": {},
   "outputs": [],
   "source": [
    "def objective(trial):\n",
    "    params = {\n",
    "        'learning_rate' :trial.suggest_float('learning_rate',0.01, 0.1,step=0.01),        \n",
    "        'n_estimators' :trial.suggest_int('n_estimators', 50, 200),\n",
    "        'subsample':trial.suggest_float('subsample', 0.1, 1.0,step=0.1),\n",
    "        'max_depth' :trial.suggest_int('max_depth', 1, 10),\n",
    "        'min_samples_split' :trial.suggest_int('min_samples_split', 3, 10),\n",
    "        'min_samples_leaf' :trial.suggest_int('min_samples_leaf', 3, 10),\n",
    "        }\n",
    "        \n",
    "    clf = GradientBoostingClassifier(**params,random_state = 0)\n",
    "    clf.fit(X_train, y_train)\n",
    "    clf_proba = clf.predict_proba(X_val)[:, 1]\n",
    "        \n",
    "    AUC_SCORE = roc_auc_score(y_val, clf_proba)\n",
    "    return AUC_SCORE\n",
    "\n",
    "direction = \"maximize\"\n",
    "sampler = optuna.samplers.TPESampler(seed=10)\n",
    "study =  optuna.create_study(direction=direction, sampler=sampler, pruner=optuna.pruners.HyperbandPruner())\n",
    "early_stopping = EarlyStoppingCallback(10, direction=direction)\n",
    "study.optimize(objective, callbacks=[early_stopping], n_trials=200) "
   ]
  },
  {
   "cell_type": "code",
   "execution_count": null,
   "id": "f14df004",
   "metadata": {},
   "outputs": [],
   "source": [
    "print(study.best_trial.params)\n",
    "optuna_auc = study.best_trial.value\n",
    "print(optuna_auc)"
   ]
  },
  {
   "cell_type": "code",
   "execution_count": null,
   "id": "cdcbd152",
   "metadata": {},
   "outputs": [],
   "source": [
    "optuna_40 = GradientBoostingClassifier(**study.best_trial.params, random_state = 0)\n",
    "optuna_40.fit(X_train, y_train)"
   ]
  },
  {
   "cell_type": "code",
   "execution_count": null,
   "id": "e0316727",
   "metadata": {},
   "outputs": [],
   "source": [
    "optuna_proba_40 = optuna_40.predict_proba(X_test)[:, 1]\n",
    "auc_40 = roc_auc_score(y_test, optuna_proba_40)\n",
    "print(decimal.Decimal(auc_40).quantize(decimal.Decimal('1.000')))"
   ]
  },
  {
   "cell_type": "code",
   "execution_count": null,
   "id": "591a2e4e",
   "metadata": {},
   "outputs": [],
   "source": [
    "X_train = X_train.values\n",
    "y_train = y_train.values"
   ]
  },
  {
   "cell_type": "code",
   "execution_count": null,
   "id": "1f01eef7",
   "metadata": {},
   "outputs": [],
   "source": [
    "auc_bootstrap = []"
   ]
  },
  {
   "cell_type": "code",
   "execution_count": null,
   "id": "a6526b9c",
   "metadata": {},
   "outputs": [],
   "source": [
    "rs = RandomState(seed = 40)\n",
    "bootstrap_auc(optuna_40, X_train, y_train, X_test, y_test, nsamples=2000)"
   ]
  },
  {
   "cell_type": "code",
   "execution_count": null,
   "id": "62686fb7",
   "metadata": {},
   "outputs": [],
   "source": [
    "shapiro(auc_bootstrap), np.mean(auc_bootstrap)"
   ]
  },
  {
   "cell_type": "code",
   "execution_count": null,
   "id": "edbb7f6f",
   "metadata": {},
   "outputs": [],
   "source": [
    "t_40 = auc_bootstrap\n",
    "print(t_40)"
   ]
  },
  {
   "cell_type": "code",
   "execution_count": null,
   "id": "436468ab",
   "metadata": {},
   "outputs": [],
   "source": [
    "del X_train, X_test, y_train, y_test, X_val, y_val,study, optuna_auc"
   ]
  },
  {
   "cell_type": "code",
   "execution_count": null,
   "id": "3a0411ae",
   "metadata": {},
   "outputs": [],
   "source": [
    "# 41.\n",
    "column_to_drop_40 = '소득 대비 생활비의 비율'"
   ]
  },
  {
   "cell_type": "code",
   "execution_count": null,
   "id": "2e3849d6",
   "metadata": {},
   "outputs": [],
   "source": [
    "if not column_to_drop_40.startswith('Cat_'):\n",
    "    comp_41 = comp_40.drop(column_to_drop_40, axis=1)\n",
    "    X_41 = comp_41.drop('target', axis=1)\n",
    "    y_41 = comp_41['target']\n",
    "else:\n",
    "    comp_41 = comp_40.drop(comp_40.filter(regex='^' + column_to_drop_40).columns, axis=1)\n",
    "    X_41 = comp_41.drop('target', axis=1)\n",
    "    y_41 = comp_41['target']\n",
    "\n",
    "print(X_41.shape)"
   ]
  },
  {
   "cell_type": "code",
   "execution_count": 79,
   "id": "918b3029",
   "metadata": {},
   "outputs": [],
   "source": [
    "comp_41 = comp[[\n",
    "    '현재 주택 거주 기간(총 개월)','현재 주택의 면적(㎡)','총 이사 횟수','가구주 나이','소득 대비 주택 임대료의 비율',\n",
    "    '소득 중 사적이전소득의 비중(월평균)','장기부채부담지표','target',\n",
    "    'Cat_현재 주택의 유형_고시원','Cat_현재 주택의 유형_기타','Cat_현재 주택의 유형_다가구 단독주택',\n",
    "    'Cat_현재 주택의 유형_다세대주택','Cat_현재 주택의 유형_비거주용 건물 내 주택','Cat_현재 주택의 유형_아파트',\n",
    "    'Cat_현재 주택의 유형_연립주택','Cat_현재 주택의 유형_영업겸용 단독주택','Cat_현재 주택의 유형_오피스텔',\n",
    "    'Cat_현재 주택의 유형_일반 단독주택','Cat_현재 주택의 유형_판잣집 비닐하우스 컨테이너 움막',\n",
    "    'Cat_현재 주택의 점유형태_무상','Cat_현재 주택의 점유형태_보증금 없는 월세(사글세, 연세, 일세 포함)',\n",
    "    'Cat_현재 주택의 점유형태_보증금 있는 월세','Cat_현재 주택의 점유형태_전세',\n",
    "    'Cat_현재 의료시설 접근용이성_대체로 만족','Cat_현재 의료시설 접근용이성_매우 만족',\n",
    "    'Cat_현재 의료시설 접근용이성_매우 불만족','Cat_현재 의료시설 접근용이성_약간 불만족',\n",
    "    'Cat_현재 주택에 대한 전반적인 만족도_대체로 만족','Cat_현재 주택에 대한 전반적인 만족도_매우 만족','Cat_현재 주택에 대한 전반적인 만족도_매우 불만족','Cat_현재 주택에 대한 전반적인 만족도_약간 불만족',\n",
    "    'Cat_이사 계획 중인 주택의 점유형태_무상 to 무상이나 기타','Cat_이사 계획 중인 주택의 점유형태_무상 to 보증금 없는 월세(사글세, 연세, 일세 포함)',\n",
    "    'Cat_이사 계획 중인 주택의 점유형태_무상 to 보증금 있는 월세','Cat_이사 계획 중인 주택의 점유형태_무상 to 이사 계획 없음 및 모름',\n",
    "    'Cat_이사 계획 중인 주택의 점유형태_무상 to 자가','Cat_이사 계획 중인 주택의 점유형태_무상 to 전세',\n",
    "    'Cat_이사 계획 중인 주택의 점유형태_보증금 없는 월세(사글세, 연세, 일세 포함) to 무상이나 기타',\n",
    "    'Cat_이사 계획 중인 주택의 점유형태_보증금 없는 월세(사글세, 연세, 일세 포함) to 보증금 없는 월세(사글세, 연세, 일세 포함)',\n",
    "    'Cat_이사 계획 중인 주택의 점유형태_보증금 없는 월세(사글세, 연세, 일세 포함) to 보증금 있는 월세',\n",
    "    'Cat_이사 계획 중인 주택의 점유형태_보증금 없는 월세(사글세, 연세, 일세 포함) to 이사 계획 없음 및 모름',\n",
    "    'Cat_이사 계획 중인 주택의 점유형태_보증금 없는 월세(사글세, 연세, 일세 포함) to 자가',\n",
    "    'Cat_이사 계획 중인 주택의 점유형태_보증금 없는 월세(사글세, 연세, 일세 포함) to 전세',\n",
    "    'Cat_이사 계획 중인 주택의 점유형태_보증금 있는 월세 to 무상이나 기타','Cat_이사 계획 중인 주택의 점유형태_보증금 있는 월세 to 보증금 없는 월세(사글세, 연세, 일세 포함)',\n",
    "    'Cat_이사 계획 중인 주택의 점유형태_보증금 있는 월세 to 보증금 있는 월세','Cat_이사 계획 중인 주택의 점유형태_보증금 있는 월세 to 이사 계획 없음 및 모름',\n",
    "    'Cat_이사 계획 중인 주택의 점유형태_보증금 있는 월세 to 자가','Cat_이사 계획 중인 주택의 점유형태_보증금 있는 월세 to 전세',\n",
    "    'Cat_이사 계획 중인 주택의 점유형태_전세 to 무상이나 기타','Cat_이사 계획 중인 주택의 점유형태_전세 to 보증금 없는 월세(사글세, 연세, 일세 포함)',\n",
    "    'Cat_이사 계획 중인 주택의 점유형태_전세 to 보증금 있는 월세','Cat_이사 계획 중인 주택의 점유형태_전세 to 이사 계획 없음 및 모름',\n",
    "    'Cat_이사 계획 중인 주택의 점유형태_전세 to 자가','Cat_이사 계획 중인 주택의 점유형태_전세 to 전세',\n",
    "    'Cat_이사 계획 중인 거주 지역_국내 to 국외','Cat_이사 계획 중인 거주 지역_비수도권 to 비수도권',\n",
    "    'Cat_이사 계획 중인 거주 지역_비수도권 to 수도권','Cat_이사 계획 중인 거주 지역_비수도권 to 이사 계획 없음 및 모름',\n",
    "    'Cat_이사 계획 중인 거주 지역_수도권 to 비수도권','Cat_이사 계획 중인 거주 지역_수도권 to 수도권',\n",
    "    'Cat_이사 계획 중인 거주 지역_수도권 to 이사 계획 없음 및 모름',\n",
    "    'Cat_현재 가장 필요한 주거지원 1순위_공공분양주택공급','Cat_현재 가장 필요한 주거지원 1순위_없음',\n",
    "    'Cat_현재 가장 필요한 주거지원 1순위_월세보조금 지원','Cat_현재 가장 필요한 주거지원 1순위_임대 후 분양전환 공공임대주택 공급',\n",
    "    'Cat_현재 가장 필요한 주거지원 1순위_장기공공임대주택 공급','Cat_현재 가장 필요한 주거지원 1순위_전세자금 대출 지원',\n",
    "    'Cat_현재 가장 필요한 주거지원 1순위_주거상담과 정보제공 등','Cat_현재 가장 필요한 주거지원 1순위_주택 구입자금 대출 지원',\n",
    "    'Cat_현재 가장 필요한 주거지원 1순위_주택개량 및 개보수 지원', \n",
    "    'Cat_기초생활보장 수급가구 여부_아니오','Cat_기초생활보장 수급가구 여부_예'\n",
    "]]"
   ]
  },
  {
   "cell_type": "code",
   "execution_count": 80,
   "id": "0e227163",
   "metadata": {},
   "outputs": [
    {
     "data": {
      "text/plain": [
       "(10564, 72)"
      ]
     },
     "execution_count": 80,
     "metadata": {},
     "output_type": "execute_result"
    }
   ],
   "source": [
    "X_41 = comp_41.drop('target', axis=1)\n",
    "y_41 = comp_41['target']\n",
    "X_41.shape"
   ]
  },
  {
   "cell_type": "code",
   "execution_count": 81,
   "id": "e0ba6243",
   "metadata": {},
   "outputs": [],
   "source": [
    "X_train, X_test, y_train, y_test = train_test_split(X_41, y_41, test_size=0.2, shuffle=True, stratify=y_41, random_state = 0)\n",
    "X_train, X_val, y_train, y_val = train_test_split(X_train, y_train, test_size=0.2, shuffle=True, stratify=y_train, random_state = 0)"
   ]
  },
  {
   "cell_type": "code",
   "execution_count": 82,
   "id": "a29ccb7e",
   "metadata": {},
   "outputs": [],
   "source": [
    "def objective(trial):\n",
    "    params = {\n",
    "        'learning_rate' :trial.suggest_float('learning_rate',0.01, 0.1,step=0.01),        \n",
    "        'n_estimators' :trial.suggest_int('n_estimators', 50, 200),\n",
    "        'subsample':trial.suggest_float('subsample', 0.1, 1.0,step=0.1),\n",
    "        'max_depth' :trial.suggest_int('max_depth', 1, 10),\n",
    "        'min_samples_split' :trial.suggest_int('min_samples_split', 3, 10),\n",
    "        'min_samples_leaf' :trial.suggest_int('min_samples_leaf', 3, 10),\n",
    "        }\n",
    "        \n",
    "    clf = GradientBoostingClassifier(**params,random_state = 0)\n",
    "    clf.fit(X_train, y_train)\n",
    "    clf_proba = clf.predict_proba(X_val)[:, 1]\n",
    "        \n",
    "    AUC_SCORE = roc_auc_score(y_val, clf_proba)\n",
    "    return AUC_SCORE\n",
    "\n",
    "direction = \"maximize\"\n",
    "sampler = optuna.samplers.TPESampler(seed=10)\n",
    "study =  optuna.create_study(direction=direction, sampler=sampler, pruner=optuna.pruners.HyperbandPruner())\n",
    "early_stopping = EarlyStoppingCallback(10, direction=direction)\n",
    "study.optimize(objective, callbacks=[early_stopping], n_trials=200) "
   ]
  },
  {
   "cell_type": "code",
   "execution_count": 83,
   "id": "b6da2cec",
   "metadata": {},
   "outputs": [
    {
     "name": "stdout",
     "output_type": "stream",
     "text": [
      "{'learning_rate': 0.09999999999999999, 'n_estimators': 157, 'subsample': 0.6, 'max_depth': 2, 'min_samples_split': 5, 'min_samples_leaf': 8}\n",
      "0.8470010972278204\n"
     ]
    }
   ],
   "source": [
    "print(study.best_trial.params)\n",
    "optuna_auc = study.best_trial.value\n",
    "print(optuna_auc)"
   ]
  },
  {
   "cell_type": "code",
   "execution_count": 84,
   "id": "2ad7fe78",
   "metadata": {},
   "outputs": [
    {
     "data": {
      "text/html": [
       "<style>#sk-container-id-4 {color: black;}#sk-container-id-4 pre{padding: 0;}#sk-container-id-4 div.sk-toggleable {background-color: white;}#sk-container-id-4 label.sk-toggleable__label {cursor: pointer;display: block;width: 100%;margin-bottom: 0;padding: 0.3em;box-sizing: border-box;text-align: center;}#sk-container-id-4 label.sk-toggleable__label-arrow:before {content: \"▸\";float: left;margin-right: 0.25em;color: #696969;}#sk-container-id-4 label.sk-toggleable__label-arrow:hover:before {color: black;}#sk-container-id-4 div.sk-estimator:hover label.sk-toggleable__label-arrow:before {color: black;}#sk-container-id-4 div.sk-toggleable__content {max-height: 0;max-width: 0;overflow: hidden;text-align: left;background-color: #f0f8ff;}#sk-container-id-4 div.sk-toggleable__content pre {margin: 0.2em;color: black;border-radius: 0.25em;background-color: #f0f8ff;}#sk-container-id-4 input.sk-toggleable__control:checked~div.sk-toggleable__content {max-height: 200px;max-width: 100%;overflow: auto;}#sk-container-id-4 input.sk-toggleable__control:checked~label.sk-toggleable__label-arrow:before {content: \"▾\";}#sk-container-id-4 div.sk-estimator input.sk-toggleable__control:checked~label.sk-toggleable__label {background-color: #d4ebff;}#sk-container-id-4 div.sk-label input.sk-toggleable__control:checked~label.sk-toggleable__label {background-color: #d4ebff;}#sk-container-id-4 input.sk-hidden--visually {border: 0;clip: rect(1px 1px 1px 1px);clip: rect(1px, 1px, 1px, 1px);height: 1px;margin: -1px;overflow: hidden;padding: 0;position: absolute;width: 1px;}#sk-container-id-4 div.sk-estimator {font-family: monospace;background-color: #f0f8ff;border: 1px dotted black;border-radius: 0.25em;box-sizing: border-box;margin-bottom: 0.5em;}#sk-container-id-4 div.sk-estimator:hover {background-color: #d4ebff;}#sk-container-id-4 div.sk-parallel-item::after {content: \"\";width: 100%;border-bottom: 1px solid gray;flex-grow: 1;}#sk-container-id-4 div.sk-label:hover label.sk-toggleable__label {background-color: #d4ebff;}#sk-container-id-4 div.sk-serial::before {content: \"\";position: absolute;border-left: 1px solid gray;box-sizing: border-box;top: 0;bottom: 0;left: 50%;z-index: 0;}#sk-container-id-4 div.sk-serial {display: flex;flex-direction: column;align-items: center;background-color: white;padding-right: 0.2em;padding-left: 0.2em;position: relative;}#sk-container-id-4 div.sk-item {position: relative;z-index: 1;}#sk-container-id-4 div.sk-parallel {display: flex;align-items: stretch;justify-content: center;background-color: white;position: relative;}#sk-container-id-4 div.sk-item::before, #sk-container-id-4 div.sk-parallel-item::before {content: \"\";position: absolute;border-left: 1px solid gray;box-sizing: border-box;top: 0;bottom: 0;left: 50%;z-index: -1;}#sk-container-id-4 div.sk-parallel-item {display: flex;flex-direction: column;z-index: 1;position: relative;background-color: white;}#sk-container-id-4 div.sk-parallel-item:first-child::after {align-self: flex-end;width: 50%;}#sk-container-id-4 div.sk-parallel-item:last-child::after {align-self: flex-start;width: 50%;}#sk-container-id-4 div.sk-parallel-item:only-child::after {width: 0;}#sk-container-id-4 div.sk-dashed-wrapped {border: 1px dashed gray;margin: 0 0.4em 0.5em 0.4em;box-sizing: border-box;padding-bottom: 0.4em;background-color: white;}#sk-container-id-4 div.sk-label label {font-family: monospace;font-weight: bold;display: inline-block;line-height: 1.2em;}#sk-container-id-4 div.sk-label-container {text-align: center;}#sk-container-id-4 div.sk-container {/* jupyter's `normalize.less` sets `[hidden] { display: none; }` but bootstrap.min.css set `[hidden] { display: none !important; }` so we also need the `!important` here to be able to override the default hidden behavior on the sphinx rendered scikit-learn.org. See: https://github.com/scikit-learn/scikit-learn/issues/21755 */display: inline-block !important;position: relative;}#sk-container-id-4 div.sk-text-repr-fallback {display: none;}</style><div id=\"sk-container-id-4\" class=\"sk-top-container\"><div class=\"sk-text-repr-fallback\"><pre>GradientBoostingClassifier(learning_rate=0.09999999999999999, max_depth=2,\n",
       "                           min_samples_leaf=8, min_samples_split=5,\n",
       "                           n_estimators=157, random_state=0, subsample=0.6)</pre><b>In a Jupyter environment, please rerun this cell to show the HTML representation or trust the notebook. <br />On GitHub, the HTML representation is unable to render, please try loading this page with nbviewer.org.</b></div><div class=\"sk-container\" hidden><div class=\"sk-item\"><div class=\"sk-estimator sk-toggleable\"><input class=\"sk-toggleable__control sk-hidden--visually\" id=\"sk-estimator-id-4\" type=\"checkbox\" checked><label for=\"sk-estimator-id-4\" class=\"sk-toggleable__label sk-toggleable__label-arrow\">GradientBoostingClassifier</label><div class=\"sk-toggleable__content\"><pre>GradientBoostingClassifier(learning_rate=0.09999999999999999, max_depth=2,\n",
       "                           min_samples_leaf=8, min_samples_split=5,\n",
       "                           n_estimators=157, random_state=0, subsample=0.6)</pre></div></div></div></div></div>"
      ],
      "text/plain": [
       "GradientBoostingClassifier(learning_rate=0.09999999999999999, max_depth=2,\n",
       "                           min_samples_leaf=8, min_samples_split=5,\n",
       "                           n_estimators=157, random_state=0, subsample=0.6)"
      ]
     },
     "execution_count": 84,
     "metadata": {},
     "output_type": "execute_result"
    }
   ],
   "source": [
    "optuna_41 = GradientBoostingClassifier(**study.best_trial.params, random_state = 0)\n",
    "optuna_41.fit(X_train, y_train)"
   ]
  },
  {
   "cell_type": "code",
   "execution_count": 85,
   "id": "e4974441",
   "metadata": {},
   "outputs": [
    {
     "name": "stdout",
     "output_type": "stream",
     "text": [
      "0.8532940733569969\n"
     ]
    }
   ],
   "source": [
    "optuna_proba_41 = optuna_41.predict_proba(X_test)[:, 1]\n",
    "auc_41 = roc_auc_score(y_test, optuna_proba_41)\n",
    "print(auc_41)"
   ]
  },
  {
   "cell_type": "code",
   "execution_count": 86,
   "id": "1f61c4d2",
   "metadata": {},
   "outputs": [],
   "source": [
    "X_train = X_train.values\n",
    "y_train = y_train.values"
   ]
  },
  {
   "cell_type": "code",
   "execution_count": 87,
   "id": "8ca50294",
   "metadata": {},
   "outputs": [],
   "source": [
    "auc_bootstrap = []"
   ]
  },
  {
   "cell_type": "code",
   "execution_count": 88,
   "id": "a5a774ec",
   "metadata": {},
   "outputs": [
    {
     "data": {
      "text/plain": [
       "array([0.84626228, 0.8533014 ])"
      ]
     },
     "execution_count": 88,
     "metadata": {},
     "output_type": "execute_result"
    }
   ],
   "source": [
    "rs = RandomState(seed = 41)\n",
    "bootstrap_auc(optuna_41, X_train, y_train, X_test, y_test, nsamples=2000)"
   ]
  },
  {
   "cell_type": "code",
   "execution_count": 89,
   "id": "91232cf2",
   "metadata": {},
   "outputs": [
    {
     "data": {
      "text/plain": [
       "0.8498361312789072"
      ]
     },
     "execution_count": 89,
     "metadata": {},
     "output_type": "execute_result"
    }
   ],
   "source": [
    "np.mean(auc_bootstrap)"
   ]
  },
  {
   "cell_type": "code",
   "execution_count": 90,
   "id": "062e31ea",
   "metadata": {},
   "outputs": [
    {
     "name": "stdout",
     "output_type": "stream",
     "text": [
      "[0.8487935176221719, 0.8474521350973432, 0.8494953569251731, 0.8514762826718296, 0.8466629020114014, 0.8476426087268295, 0.8503298555089456, 0.8483928507403822, 0.8467086156824782, 0.8531139077121653, 0.8492076297013373, 0.8489763723064789, 0.8481001936108422, 0.8501236958158546, 0.8499722132587573, 0.8503370262808791, 0.8485524004159047, 0.8514108493779357, 0.8485080312645656, 0.8486931268151017, 0.8464899071385035, 0.8502926571295399, 0.8455586031336273, 0.8476184073715536, 0.8492614104908394, 0.8499157434297802, 0.8480127998279015, 0.851242336237496, 0.8470868739019755, 0.850454447671292, 0.8497293033595066, 0.8490471836793231, 0.8490700405148615, 0.849342978021584, 0.8487639381879459, 0.8483489297622889, 0.8548250331648202, 0.8546206661647128, 0.8493653866838765, 0.8535602882650317, 0.8480226596393102, 0.8448325624753505, 0.847593309669786, 0.8488930120827508, 0.8469219461475028, 0.850603241188914, 0.8471774048976372, 0.848492345200961, 0.8513248001147323, 0.8501891291097486, 0.8483498261087806, 0.8508398766627228, 0.8479070309418809, 0.8472777957047076, 0.8516295579219104, 0.8498153526227098, 0.8482135814420422, 0.8485568821483632, 0.849856584561328, 0.8465696819762648, 0.8491036535083001, 0.8476184073715536, 0.8499211215087306, 0.8526433258040228, 0.853323652791223, 0.8518195833781508, 0.8479608117313828, 0.848975475959987, 0.8489692015345451, 0.8457844824495357, 0.8494612957584884, 0.8481051235165465, 0.8483184539815711, 0.8502527697106594, 0.8470124771431646, 0.8492685812627729, 0.8496647664121042, 0.8505216736581692, 0.8494406797891793, 0.8518061381807751, 0.8486151446703236, 0.8489709942275285, 0.8468807142088846, 0.8505494603994119, 0.8505584238643289, 0.8508918647592414, 0.8529247786024166, 0.8503975296690689, 0.8488419203327238, 0.8487755906923381, 0.8533290308701731, 0.8516994729482629, 0.849134129289018, 0.8518581262772937, 0.8503872216844144, 0.8510496217417806, 0.8537610698791726, 0.8491690868021942, 0.8522310064178409, 0.8475556631171346, 0.8491888064250116, 0.8510307984654549, 0.8507385895091607, 0.853096877128823, 0.8506919794915924, 0.8490471836793232, 0.8514440141981284, 0.851409504858198, 0.8501398300527052, 0.8490193969380804, 0.8497364741314402, 0.8491780502671114, 0.8509039654368793, 0.8497051020042309, 0.8502294647018751, 0.8474355526872468, 0.8518733641676527, 0.8496002294647018, 0.8484170520956581, 0.8483493779355349, 0.8499291886271556, 0.847972016062529, 0.8478944820909972, 0.8517218816105553, 0.8485748090781973, 0.8500936682083827, 0.8494236492058369, 0.8510567925137141, 0.8498368649385106, 0.8470035136782474, 0.8502097450790579, 0.8459287942346994, 0.8457540066688178, 0.8512710193252302, 0.8486070775518985, 0.8509420601627766, 0.8504696855616508, 0.8487504929905705, 0.8484726255781434, 0.8518133089527087, 0.8515219963429064, 0.8497951848266465, 0.8478384604352659, 0.8499381520920726, 0.8487200172098527, 0.8470877702484672, 0.8529418091857588, 0.8499757986447241, 0.8497992183858595, 0.8516179054175181, 0.8481983435516833, 0.8519370047685634, 0.8494890824997311, 0.848757663762504, 0.8473046860994589, 0.8501891291097488, 0.8491574342978022, 0.8495419669427414, 0.8490427019468646, 0.8498305905130686, 0.8487953103151554, 0.8487289806747698, 0.8489611344161198, 0.8436144275931305, 0.8465347244630885, 0.8516797533254454, 0.8503298555089456, 0.84653024273063, 0.8489530672976946, 0.8531273529095409, 0.8487567674160124, 0.8506695708292997, 0.8512279946936288, 0.8483301064859632, 0.849578717148901, 0.850605930228389, 0.8487092610519522, 0.8517191925710803, 0.8526262952206806, 0.8528225951023628, 0.8519038399483705, 0.8450889175719767, 0.8520400846151088, 0.850704528342476, 0.847936610376107, 0.8470698433186332, 0.8502285683553834, 0.8501084579254957, 0.8484555949948013, 0.8481275321788391, 0.8495840952278513, 0.846640493349109, 0.8494496432540961, 0.8504894051844681, 0.8487603528019791, 0.8525187336416765, 0.8481060198630384, 0.850967157864544, 0.8498005629055967, 0.8491251658241009, 0.8494424724821626, 0.8517120217991467, 0.8528252841418378, 0.8523331899178948, 0.8523833853214299, 0.8486205227492739, 0.850056469828977, 0.8510594815531891, 0.8501604460220142, 0.8481517335341149, 0.850017926929834, 0.8486509985299918, 0.8499533899824316, 0.8516367286938439, 0.8500161342368506, 0.8492730629952314, 0.8484564913412929, 0.8529539098633967, 0.8505862106055717, 0.8471756122046539, 0.8494841525940267, 0.8490642142626653, 0.8474947115556989, 0.8476972858628231, 0.8487137427844107, 0.8501254885088378, 0.8481105015954968, 0.8503379226273711, 0.8517057473737047, 0.8471984690401922, 0.8486568247821878, 0.8497898067476963, 0.8504786490265677, 0.8527024846724751, 0.8478214298519235, 0.8461483991251657, 0.8503155139650782, 0.8485631565738052, 0.8495303144383493, 0.848190276433258, 0.8506166863862894, 0.8496701444910545, 0.8519737549747232, 0.8498350722455272, 0.8502877272238357, 0.8519092180273206, 0.8522354881502994, 0.8504401061274247, 0.8489647198020867, 0.8488526764906242, 0.846527553691155, 0.849901401885913, 0.8501461044781471, 0.852329156358682, 0.8501470008246387, 0.8497736725108458, 0.8489046645871429, 0.853848911835359, 0.8481696604639488, 0.8496127783155857, 0.8503710874475637, 0.850340611666846, 0.8490754185938116, 0.8485918396615395, 0.8491188913986589, 0.849883474956079, 0.8483614786131728, 0.8504248682370658, 0.8529229859094333, 0.84941468574092, 0.850412319386182, 0.8490749704205658, 0.8502733856799685, 0.8481517335341149, 0.8507161808468683, 0.852096554444086, 0.8500215123158009, 0.8475359434943172, 0.8472464235774981, 0.850134451973755, 0.8512907389480477, 0.8513185256892903, 0.8508555627263275, 0.8516161127245347, 0.8493035387759493, 0.853090602703381, 0.8486209709225198, 0.8502343946075794, 0.8482969416657703, 0.8477170054856406, 0.8510146642286042, 0.8492125596070418, 0.8466333225771754, 0.8516062529131261, 0.8498978164999462, 0.8482763256964612, 0.8528862357032734, 0.8476264744899789, 0.8510281094259797, 0.8513023914524399, 0.8475471478254635, 0.8489118353590764, 0.8510406582768635, 0.8492291420171381, 0.8500663296403859, 0.8493304291707002, 0.8500842565702198, 0.8469963429063139, 0.8521413717686709, 0.8498117672367431, 0.852179914667814, 0.8497579864472411, 0.8482279229859094, 0.8484824853895522, 0.8483175576350794, 0.8509313040048762, 0.8492264529776631, 0.8493438743680757, 0.8515865332903085, 0.8506014484959307, 0.8474830590513069, 0.849017604245097, 0.8490749704205658, 0.8477295543365242, 0.8523654583915959, 0.8523968305188053, 0.8479464701875158, 0.8478039510953355, 0.8497535047147826, 0.8482754293499697, 0.8494245455523288, 0.8505176400989567, 0.8497122727761643, 0.8510496217417806, 0.8478191889856944, 0.8498942311139793, 0.8478783478541465, 0.8499058836183715, 0.845045892940375, 0.849095586389875, 0.8472607651213653, 0.8518375103079847, 0.8483166612885877, 0.8494881861532393, 0.852305403176652, 0.850074396758811, 0.8491914954644868, 0.8515399232727403, 0.8492493098132015, 0.8486465167975333, 0.8508031264565631, 0.8487997920476141, 0.8516833387114122, 0.8489647198020868, 0.8522130794880068, 0.8457011222258077, 0.8512934279875229, 0.8530646086551218, 0.8485797389839016, 0.8472724176257573, 0.8502760747194436, 0.8497006202717723, 0.8496737298770212, 0.8495778208024094, 0.8492936789645406, 0.8503397153203542, 0.8520857982861856, 0.8524178946613602, 0.8517398085403893, 0.8504293499695244, 0.8485532967623964, 0.846202179914668, 0.8492551360653975, 0.8483005270517372, 0.8499946219210498, 0.8487101573984439, 0.848856261876591, 0.8489001828546843, 0.850116525043921, 0.8530986698218063, 0.8522193539134487, 0.8530726757735471, 0.8492282456706466, 0.8517442902728479, 0.8470868739019756, 0.8484403571044423, 0.8505933813775053, 0.8515856369438171, 0.8493609049514181, 0.850785199526729, 0.849176257574128, 0.849734681438457, 0.8519150442795167, 0.8491655014162275, 0.8491395073679683, 0.8499865548026244, 0.8491054462012836, 0.8505996558029472, 0.8478554910186081, 0.8513463124305332, 0.8489606862428741, 0.8508573554193108, 0.8516179054175181, 0.8474113513319709, 0.8482548133806604, 0.8498001147323508, 0.8512535405686422, 0.8500295794342261, 0.8495876806138181, 0.8497678462586498, 0.8470097881036893, 0.851729052382489, 0.8501236958158546, 0.8467803234018142, 0.8475341508013338, 0.8517299487289807, 0.8514018859130185, 0.8498996091929296, 0.8493707647628268, 0.8485416442580043, 0.8519298339966297, 0.8493098132013911, 0.8439075328959162, 0.8502733856799684, 0.8478164999462192, 0.847718798178624, 0.8491350256355097, 0.8502339464343337, 0.8485559858018715, 0.8485515040694132, 0.8496029185041769, 0.8464683948227028, 0.8505467713599368, 0.8481615933455237, 0.8492936789645404, 0.848752285683554, 0.8481526298806066, 0.8522650675845256, 0.8538565307805385, 0.8487280843282778, 0.8507816141407623, 0.8522570004661001, 0.8499211215087304, 0.8511347746584921, 0.8500824638772364, 0.8470277150335233, 0.8502249829694166, 0.8500779821447778, 0.8480782331217956, 0.8490911046574163, 0.8465786454411817, 0.848124843139364, 0.8490050553942132, 0.8474328636477717, 0.8501631350614893, 0.8496674554515795, 0.8461304721953318, 0.850328062815962, 0.8504221791975907, 0.8507457602810944, 0.8495043203900899, 0.8485532967623963, 0.8507699616363702, 0.8509743286364777, 0.847757341077767, 0.8489736832670036, 0.8506310279301567, 0.8463321501559643, 0.8510397619303719, 0.8499856584561327, 0.8505638019432792, 0.8504163529453945, 0.8473853572837116, 0.8517218816105554, 0.8498736151446704, 0.8511302929260335, 0.8503164103115701, 0.8538435337564088, 0.850310135886128, 0.8476004804417195, 0.8496351869778782, 0.848274533003478, 0.8505145028862358, 0.8498216270481518, 0.854261231221541, 0.8512835681761142, 0.8504024595747732, 0.8489082499731095, 0.8489907138503461, 0.8475354953210713, 0.8511168477286581, 0.8505629055967876, 0.8501398300527053, 0.8508165716539386, 0.8522381771897745, 0.8491923918109785, 0.8461282313291025, 0.8479948728980675, 0.8500026890394751, 0.8514207091893444, 0.8490695923416157, 0.8505145028862356, 0.8496244308199778, 0.8506946685310675, 0.8464002724893335, 0.8489073536266178, 0.849584991574343, 0.8491448854469184, 0.8523062995231437, 0.8485506077229213, 0.8488302678283317, 0.851863504356244, 0.8487782797318131, 0.8511580796672762, 0.8494612957584884, 0.8529243304291707, 0.8507269370047685, 0.8500026890394751, 0.8536019683768958, 0.8483202466745544, 0.8475386325337924, 0.8483175576350793, 0.847461546735506, 0.8507601018249614, 0.8493877953461689, 0.8449096482736367, 0.8515058621060556, 0.8512934279875229, 0.8510048044171954, 0.8486483094905166, 0.852033810189667, 0.8530144132515864, 0.8556823885841311, 0.8492416908680218, 0.848671614499301, 0.8487809687712883, 0.8474624430819978, 0.8467543293535549, 0.8530368219138791, 0.8459153490373239, 0.8526352586855974, 0.8491081352407588, 0.8477573410777671, 0.8519952672905239, 0.8501496898641139, 0.8524586784267326, 0.8476461941127962, 0.8508327058907891, 0.8515148255709727, 0.8511141586891828, 0.8499273959341722, 0.8507816141407623, 0.8509985299917536, 0.8494872898067477, 0.8516223871499766, 0.8503235810835036, 0.8495258327058908, 0.8522085977555485, 0.8503289591624539, 0.8467713599368971, 0.845350650747553, 0.8503424043598292, 0.8487365996199491, 0.8487890358897134, 0.8524676418916497, 0.8511007134918074, 0.8497723279911082, 0.8489369330608441, 0.8502500806711843, 0.8487818651177799, 0.8469371840378617, 0.8498413466709692, 0.8517371195009142, 0.8494317163242623, 0.8487711089598795, 0.8490346348284393, 0.8522686529704924, 0.8502769710659352, 0.8490220859775555, 0.8461914237567675, 0.8483301064859634, 0.851289842601556, 0.8501801656448317, 0.8536593345523646, 0.854637696748055, 0.8497642608726829, 0.8501541715965724, 0.8504562403642753, 0.849369868416335, 0.8510747194435482, 0.8501989889211573, 0.8520347065361586, 0.8504347280484745, 0.8447312753217883, 0.8495589975260837, 0.8465669929367897, 0.8519450718869886, 0.84914578179341, 0.8465024559893872, 0.8487298770212613, 0.8521153777204117, 0.8485532967623965, 0.8499829694166576, 0.8468762324764261, 0.8440984546986483, 0.8492748556882148, 0.8473674303538776, 0.8502724893334768, 0.8510343838514216, 0.8493367035961422, 0.8496423577498118, 0.8523322935714028, 0.8493241547452584, 0.8471738195116704, 0.8492443799074971, 0.8523045068301602, 0.8522525187336418, 0.8489593417231364, 0.8488795668853751, 0.8496858305546593, 0.8486259008282242, 0.8532725610411962, 0.8469640744326127, 0.8493089168548995, 0.8505082284607938, 0.8518688824351942, 0.8482315083718763, 0.8499121580438134, 0.8486285898676993, 0.8486805779642179, 0.8486267971747159, 0.8514072639919686, 0.8482521243411854, 0.8483937470868741, 0.849047183679323, 0.8504822344125345, 0.8508407730092145, 0.8499242587214514, 0.8486465167975332, 0.8497526083682908, 0.8484358753719838, 0.850280556451902, 0.8521225484923451, 0.8479581226919077, 0.8502608368290846, 0.8481436664156896, 0.8500358538596678, 0.8512248574809078, 0.8532295364095945, 0.852358735792908, 0.8509662615180524, 0.849071385034599, 0.8475449069592342, 0.8491475744863936, 0.8481006417840882, 0.8496342906313865, 0.8504302463160158, 0.8512880499085727, 0.8505037467283354, 0.8482646731920692, 0.850441898820408, 0.8522901652862931, 0.8508569072460651, 0.8504105266931985, 0.8520051271019325, 0.8499542863289233, 0.8499345667061059, 0.8522749273959342, 0.8493600086049263, 0.8494514359470796, 0.8503065505001612, 0.8531349718547202, 0.8520024380624573, 0.8478393567817575, 0.8478451830339535, 0.8490337384819476, 0.8489987809687713, 0.8498538955218529, 0.8499435301710229, 0.8478066401348106, 0.84973109605249, 0.8483811982359901, 0.8487227062493277, 0.8514502886235704, 0.8491744648811445, 0.8510030117242121, 0.8490875192714495, 0.8497794987630418, 0.8534070130149511, 0.8503298555089455, 0.8540425226775662, 0.849650424868237, 0.8485524004159049, 0.8497544010612742, 0.8503585385966801, 0.8499085726578466, 0.8501604460220142, 0.8478586282313291, 0.848638449679108, 0.8500994944605786, 0.8507843031802373, 0.8520920727116273, 0.8507170771933599, 0.8500080671184254, 0.8463563515112402, 0.8532528414183786, 0.8471953318274712, 0.8493707647628268, 0.8497212362410814, 0.8513373489656161, 0.8482189595209924, 0.8514502886235703, 0.8529453945717256, 0.8488992865081926, 0.8503979778423147, 0.8482808074289196, 0.8514081603384606, 0.8465347244630885, 0.8500313721272095, 0.8493322218636835, 0.85017926929834, 0.8514104012046897, 0.8507099064214263, 0.849334014556667, 0.8531461761858664, 0.8518652970492273, 0.8499964146140333, 0.8512548850883799, 0.8497687426051417, 0.8497122727761642, 0.8510854756014485, 0.8514538740095371, 0.8500663296403859, 0.8519585170843641, 0.8490444946398481, 0.8498225233946434, 0.8490758667670575, 0.8475444587859884, 0.8533012441289305, 0.8518133089527089, 0.8487325660607365, 0.8446913879029077, 0.8510137678821124, 0.8480665806174034, 0.8471200387221685, 0.8481105015954966, 0.8506991502635257, 0.8484331863325087, 0.8505951740704887, 0.8548770212613388, 0.8486536875694668, 0.8524174464881145, 0.851621490803485, 0.8512844645226059, 0.8492990570434907, 0.8489987809687713, 0.8533308235631565, 0.8487478039510954, 0.8525133555627262, 0.8500313721272096, 0.8446990068480873, 0.8481804166218494, 0.8478846222795885, 0.850304757807178, 0.8482781183894446, 0.8472105697178302, 0.8497275106665232, 0.8501927144957154, 0.8499865548026246, 0.8492726148219856, 0.8470191997418521, 0.8497544010612742, 0.8521897744792226, 0.852215768527482, 0.8500537807895021, 0.849498045964648, 0.852583270589079, 0.8519701695887563, 0.8522578968125919, 0.8522780646086551, 0.8475260836829084, 0.8501263848553297, 0.8426849162812378, 0.848683267003693, 0.8473737047793194, 0.8508094008820049, 0.8484170520956582, 0.8499910365350831, 0.8484591803807681, 0.8481105015954968, 0.8529149187910079, 0.8497803951095335, 0.850122799469363, 0.8519549316983973, 0.853580904234341, 0.8496217417805028, 0.8526612527338568, 0.8482772220429531, 0.8483197985013087, 0.8525079774837763, 0.8511697321716682, 0.8470747732243376, 0.8484636621132264, 0.847999354630526, 0.8477017675952816, 0.8492112150873041, 0.850594277723997, 0.8483265210999964, 0.8465185902262378, 0.8512024488186154, 0.8459225198092575, 0.8502724893334768, 0.8523609766591373, 0.852735201319422, 0.8496540102542038, 0.8489199024775017, 0.8506812233336918, 0.8484412534509338, 0.8518590226237855, 0.8470859775554838, 0.8458839769101144, 0.8471272094941021, 0.8505431859739702, 0.8521073106019863, 0.8482512279946937, 0.8512772937506723, 0.8478711770822128, 0.8502455989387258, 0.8516313506148937, 0.8459305869276827, 0.8521763292818472, 0.8498834749560789, 0.8491027571618084, 0.8501738912193899, 0.8479626044243662, 0.8468995374852102, 0.8500766376250404, 0.850233050087842, 0.8467839087877811, 0.8499318776666307, 0.847709834713707, 0.8503173066580617, 0.8475825535118856, 0.8474131440249543, 0.8485210282886952, 0.8491726721881611, 0.8484995159728944, 0.8521454053278836, 0.849856584561328, 0.8542002796601054, 0.8532739055609336, 0.8515712953999497, 0.8503890143773978, 0.8501241439891003, 0.8481526298806066, 0.8481723495034241, 0.8490328421354558, 0.8472365637660895, 0.8506184790792728, 0.8495446559822165, 0.8496629737191208, 0.851962102470331, 0.8488840486178337, 0.8486805779642177, 0.8514919687354343, 0.8509608834391021, 0.8501380373597218, 0.8494577103725216, 0.8486931268151017, 0.8513328672331577, 0.8488840486178338, 0.8489772686529705, 0.8480683733103869, 0.850573661754688, 0.8462290703094186, 0.8506991502635259, 0.850731418737227, 0.8506982539170342, 0.8511849700620272, 0.8501263848553297, 0.8518715714746694, 0.8506982539170341, 0.8496719371840379, 0.8500197196228175, 0.8493384962891255, 0.8498341758990355, 0.8515578502025744, 0.8508327058907892, 0.8492049406618624, 0.8484529059553261, 0.8494913233659602, 0.8510092861496541, 0.8482225449069593, 0.8502760747194436, 0.8489297622889105, 0.8506588146713994, 0.8496100892761106, 0.8502733856799685, 0.8491090315872504, 0.848474418271127, 0.8503513678247463, 0.850107561579004, 0.8468780251694095, 0.8529238822559249, 0.8498960238069628, 0.8491879100785199, 0.8512504033559213, 0.8484215338281167, 0.8491681904557025, 0.8486769925782511, 0.8497732243376, 0.849749022982324, 0.8480845075472376, 0.8504401061274247, 0.8505378078950199, 0.8515318561543148, 0.8509241332329425, 0.8514700082463877, 0.8492434835610053, 0.850872145136424, 0.8503343372414038, 0.8498646516797534, 0.8517147108386217, 0.8472132587573054, 0.8495885769603098, 0.8525052884443012, 0.8478702807357212, 0.8529283639883833, 0.8529301566813668, 0.8499184324692554, 0.8510962317593489, 0.8486267971747158, 0.8493698684163351, 0.8529229859094333, 0.8515686063604748, 0.851152701588326, 0.8530430963393208, 0.850889623893012, 0.8491986662364204, 0.8478989638234556, 0.8499166397762719, 0.8510926463733821, 0.8491323365960345, 0.8475171202179915, 0.8499847621096412, 0.8501550679430641, 0.8515757771324082, 0.8508327058907892, 0.8481687641174571, 0.8513902334086264, 0.8485120648237783, 0.8472253594349431, 0.8499202251622389, 0.8497535047147824, 0.8491117206267254, 0.8453874009537126, 0.8488159262844646, 0.8504454842063747, 0.8509985299917536, 0.8501057688860205, 0.8504795453730594, 0.8515551611630994, 0.8491314402495428, 0.8489692015345451, 0.8488813595783585, 0.8490655587824028, 0.847443619805672, 0.8518312358825427, 0.8479706715427916, 0.8500250977017676, 0.8503800509124808, 0.8482189595209924, 0.8499623534473486, 0.852628087913664, 0.8466646947043849, 0.8500416801118641, 0.8489360367143524, 0.8497445412498655, 0.850704528342476, 0.8500743967588111, 0.8502016779606325, 0.8473333691871929, 0.851573984439425, 0.8509868774873615, 0.8478998601699472, 0.8517550464307483, 0.8504320390089993, 0.8501909218027321, 0.8488517801441325, 0.8497750170305832, 0.8490337384819476, 0.8468412749632498, 0.8505342225090532, 0.8470205442615897, 0.848026245025277, 0.8475709010074934, 0.8482575024201354, 0.8516582410096446, 0.8497230289340649, 0.8472993080205085, 0.8506471621670073, 0.8538973145459108, 0.8489028718941594, 0.8486465167975332, 0.8505906923380303, 0.8481683159442114, 0.8482808074289198, 0.8483498261087807, 0.8499498045964649, 0.8492255566311713, 0.8496351869778782, 0.8494317163242623, 0.8490588361837152, 0.850310135886128, 0.8488688107274749, 0.8521843964002724, 0.8509572980531355, 0.8482637768455774, 0.8498888530350291, 0.849838657631494, 0.84594492847155, 0.8486052848589152, 0.8499681796995447, 0.8516537592771861, 0.8513651357068588, 0.8467310243447707, 0.8501371410132301, 0.8521386827291959, 0.8511293965795419, 0.8479868057796421, 0.8485779462909182, 0.8504620666164714, 0.8486926786418558, 0.8519387974615468, 0.8512127568032699, 0.8440446739091464, 0.8501792692983399, 0.8471854720160625, 0.8488723961134417, 0.8482467462622352, 0.8491592269907856, 0.8493940697716109, 0.8499139507367968, 0.8510065971101788, 0.8533362016421068, 0.8541231938618192, 0.8483310028324549, 0.852454196694274, 0.849988347495608, 0.8497113764296725, 0.8531927862034347, 0.8508882793732746, 0.8491744648811445, 0.8479724642357749, 0.8495733390699509, 0.8491977698899287, 0.8535342942167725, 0.8509895665268365, 0.8503899107238895, 0.849429923631279, 0.8509877738338534, 0.8517245706500305, 0.8532824208526049, 0.8495634792585421, 0.8507134918073931, 0.8494577103725215, 0.8494989423111398, 0.8490301530959808, 0.8525823742425873, 0.8464110286472339, 0.8504454842063749, 0.8484726255781436, 0.8517658025886488, 0.8471657523932452, 0.849743644903374, 0.8484663511527017, 0.849480119034814, 0.8476372306478792, 0.8473629486214191, 0.8516636190885949, 0.8512181348822201, 0.8496835896884299, 0.8492618586640852, 0.8499623534473486, 0.8477331397224911, 0.8474167294109209, 0.8501066652325122, 0.8510406582768635, 0.8495616865655589, 0.851639417733319, 0.84833369187193, 0.8514538740095372, 0.851098920798824, 0.8515990821411924, 0.8496737298770214, 0.8496441504427953, 0.8471048008318095, 0.8501443117851637, 0.8508300168513141, 0.8518832239790615, 0.8464146140332007, 0.8465920906385573, 0.8509456455487432, 0.8474705102004232, 0.8510711340575814, 0.8474400344197052, 0.8484511132623427, 0.8510478290487972, 0.8503468860922879, 0.8506260980244522, 0.8511571833207845, 0.8487558710695207, 0.8515847405973253, 0.8517891075974328, 0.8487495966440788, 0.8492201785522211, 0.8497588827937328, 0.8485712236922304, 0.8467256462658205, 0.85049567960991, 0.8495894733068015, 0.8518948764834535, 0.8530036570936861, 0.848746011258112, 0.8526746979312324, 0.8475995840952278, 0.8518393030009681, 0.8483516188017641, 0.8478398049550034, 0.8516743752464954, 0.8510173532680794, 0.8503683984080886, 0.8501837510307986, 0.8516313506148938, 0.8497266143200315, 0.8525070811372845, 0.8486079738983902, 0.8509187551539923, 0.8530502671112545, 0.8516098382990928, 0.8507493456670612, 0.8489028718941594, 0.848730773367753, 0.8505817288731132, 0.8470779104370585, 0.8502402208597755, 0.850426660930049, 0.8534724463088452, 0.8474050769065291, 0.8495365888637912, 0.8495495858879207, 0.8498135599297265, 0.8474651321214729, 0.8504257645835575, 0.850630131583665, 0.8503334408949121, 0.8501738912193898, 0.8463348391954395, 0.8501694094869312, 0.851540819619232, 0.8503540568642214, 0.8506068265748807, 0.852565343659245, 0.850289519916819, 0.8486312789071744, 0.8502733856799685, 0.8505942777239971, 0.8494406797891793, 0.8486456204510415, 0.8498592736008032, 0.8503930479366104, 0.8486456204510416, 0.8500654332938941, 0.8492977125237531, 0.8479805313542003, 0.849964146140332, 0.8506606073643829, 0.8529355347603168, 0.8498942311139794, 0.8492040443153706, 0.848217166828009, 0.8522417625757412, 0.8512082750708114, 0.8549290093578572, 0.8484260155605751, 0.8512961170269979, 0.8485801871571474, 0.8504508622853251, 0.8492237639381879, 0.8493107095478828, 0.8497212362410814, 0.852209942275286, 0.848503997705353, 0.8529238822559249, 0.8483498261087805, 0.8490543544512568, 0.850872145136424, 0.8512575741278549, 0.8515340970205443, 0.8466369079631423, 0.8504938869169266, 0.8528656197339644, 0.8521664694704385, 0.8504826825857803, 0.8482207522139757, 0.8528772722383564, 0.8499614571008569, 0.8514225018823277, 0.8506122046538309, 0.851069341364598, 0.8503092395396363, 0.8489037682406511, 0.8512208239216952, 0.8493725574558102, 0.8452063389623893, 0.8492909899250656, 0.8492623068373311, 0.8471675450862286, 0.8474875407837653, 0.8509922555663119, 0.8498919902477503, 0.8524376142841777, 0.8507977483776129, 0.8539842601556058, 0.8494469542146212, 0.8528257323150836, 0.8520140905668494, 0.8532555304578537, 0.8518168943386756, 0.8513579649349253, 0.8491359219820013, 0.8513561722419418, 0.8517380158474059, 0.8500519880965187, 0.851469111899896, 0.8501577569825391, 0.8473943207486287, 0.8514099530314437, 0.8495563084866087, 0.8510263167329963, 0.8545148972786921, 0.8477770607005843, 0.849943530171023, 0.8484067441110036, 0.8482485389552186, 0.8493573195654511, 0.8499650424868236, 0.851424742748557, 0.8483856799684486, 0.8498189380086766, 0.8533075185543724, 0.8514888315227135, 0.847739414147933, 0.8465320354236133, 0.8514709045928794, 0.8521413717686709, 0.8492363127890717, 0.8499005055394213, 0.8510200423075543, 0.848399125165824, 0.8501622387149977, 0.8487791760783048, 0.8481732458499157, 0.8527347531461762, 0.85211448137392, 0.8498601699472949, 0.8518966691764369, 0.8511186404216414, 0.8498243160876269, 0.8532286400631028, 0.8481069162095298, 0.851068893191352, 0.8508551145530816, 0.8506426804345488, 0.8485111684772866, 0.8505118138467606, 0.8491547452583271, 0.8496038148506686, 0.8491897027715032, 0.850731866910473, 0.8484385644114589, 0.8501936108422071, 0.8505570793445913, 0.8507771324083037, 0.8511957262199275, 0.850668674482808, 0.8489037682406511, 0.8500466100175684, 0.8532259510236277, 0.8480567208059947, 0.8524640565056829, 0.8506050338818973, 0.8498314868595604, 0.8523887634003802, 0.8465643038973145, 0.8500546771359937, 0.848584668889606, 0.8532842135455881, 0.8511777992900935, 0.8535253307518555, 0.8469524219282206, 0.8505360152020367, 0.8486689254598258, 0.8491179950521672, 0.8484197411351333, 0.8514619411279625, 0.8483211430210462, 0.8525330751855437, 0.8512158940159908, 0.8486725108457926, 0.8498287978200855, 0.8489441038327775, 0.8511042988777742, 0.8501407263991969, 0.8546905811910653, 0.8516887167903624, 0.8509008282241584, 0.8523793517622172, 0.8497364741314402, 0.8518115162597253, 0.8504759599870926, 0.8484780036570936, 0.8500811193574989, 0.8497328887454734, 0.8520974507905775, 0.8492067333548456, 0.8492031479688787, 0.8478675916962461, 0.851125811193575, 0.8519352120755799, 0.8489064572801261, 0.8489736832670038, 0.8504992649958769, 0.850821053386397, 0.8517236743035388, 0.8474176257574128, 0.8510666523251229, 0.8509277186189091, 0.8508434620486895, 0.8507860958732207, 0.8532156430389732, 0.8467552257000466, 0.847811121867269, 0.8453318274712271, 0.8479231651787315, 0.8470671542791581, 0.849802803771826, 0.8461044781470726, 0.849405722276003, 0.8511670431321932, 0.8485434369509878, 0.8493474597540426, 0.8484690401921768, 0.8477241762575741, 0.8485981140869814, 0.8501021835000538, 0.8504490695923417, 0.8486877487361515, 0.8482691549245276, 0.850457136710767, 0.8483516188017639, 0.8482915635868202, 0.8471487218099029, 0.8512190312287118, 0.8505378078950199, 0.8486940231615934, 0.8485389552185293, 0.8504782008533218, 0.850328510989208, 0.8491771539206195, 0.8496127783155858, 0.8470877702484672, 0.8469058119106522, 0.847584346204869, 0.8500264422215051, 0.8481777275823743, 0.8510424509698469, 0.8460148434979026, 0.8524403033236527, 0.8519863038256068, 0.8519056326413539, 0.8472482162704815, 0.8489445520060235, 0.8476331970886666, 0.85004750636406, 0.851612527338568, 0.8496575956401707, 0.8493842099602023, 0.8510621705926643, 0.8527401312251264, 0.8488347495607903, 0.8505799361801298, 0.8502733856799685, 0.8497499193288158, 0.8472114660643217, 0.8469586963536624, 0.8506946685310672, 0.8501595496755225, 0.8473566741959773, 0.8475484923452009, 0.8482279229859094, 0.8499650424868237, 0.8512432325839877, 0.8490686959951239, 0.8533872933921336, 0.8526253988741888, 0.8490633179161737, 0.8513861998494138, 0.8503253737764871, 0.8489306586354022, 0.8505888996450468, 0.8499847621096411, 0.852493187766663, 0.8484313936395254, 0.8510603778996809, 0.84860259581944, 0.849501631350615, 0.8485972177404897, 0.8496333942848948, 0.8479724642357751, 0.8508811086013409, 0.8478209816786777, 0.8508918647592413, 0.8512378545050374, 0.8521870854397476, 0.8505808325266215, 0.8483628231329103, 0.8509967372987701, 0.8489467928722527, 0.8500268903947511, 0.8484439424904091, 0.8462156251120433, 0.847981427700692, 0.850459825750242, 0.8487433222186368, 0.8520257430712416, 0.845529920045893, 0.8488768778459002, 0.8492461726004805, 0.8483220393675379, 0.8545803305725861, 0.8465634075508228, 0.846658420278943, 0.8509662615180523, 0.848703882973002, 0.8509716395970025, 0.8525017030583342, 0.8512647448997885, 0.8511643540927178, 0.8508497364741314, 0.8509053099566167, 0.8536615754185939, 0.8464397117349682, 0.84847083288516, 0.8501120433114625, 0.8514296726542611, 0.851415331110394, 0.8507601018249614, 0.8498377612850023, 0.8523995195582805, 0.8493116058943745, 0.850265318561543, 0.8514350507332115, 0.8507260406582768, 0.8492506543329389, 0.8517236743035387, 0.8476605356566634, 0.84932505109175, 0.8502048151733533, 0.8493021942562116, 0.848097952744613, 0.849686278727905, 0.8498198343551684, 0.848775590692338, 0.8510778566562691, 0.8490032627012298, 0.8540407299845828, 0.8500394392456349, 0.8510388655838802, 0.8505525976121329, 0.8480871965867125, 0.8482207522139759, 0.8465006632964039, 0.8499695242192823, 0.8523331899178945, 0.8523071958696352, 0.8464110286472339, 0.8516268688824351, 0.8513248001147324, 0.8509187551539924, 0.8485380588720376, 0.851206482377828, 0.851741153060127, 0.8480423792621277, 0.8508640780179987, 0.8502617331755764, 0.8506296834104191, 0.8516143200315514, 0.851928937650138, 0.8555887203757485, 0.8503804990857267, 0.8513929224481015, 0.8495347961708078, 0.8468367932307912, 0.852200530637123, 0.8470716360116166, 0.8527571618084688, 0.8458812878706392, 0.8492282456706465, 0.8516819941916747, 0.8475404252267759, 0.849468466530422, 0.8501326592807715, 0.8493523896597469, 0.8509115843820587, 0.8480280377182603, 0.8485443332974796, 0.8481347029507728, 0.8489539636441862, 0.850540496934495, 0.8474225556631172, 0.8517980710623498, 0.8495486895414291, 0.850170305833423, 0.8488607436090495, 0.8491932881574702, 0.8511446344699007, 0.8473297838012261, 0.8494245455523287, 0.8541572550285038, 0.8499713169122656, 0.8520866946326773, 0.8501927144957155, 0.8530655050016135, 0.8506323724498942, 0.8493259474382419, 0.848378509196515, 0.8474696138539315, 0.8512970133734896, 0.8493573195654511, 0.8475596966763471, 0.8480629952314366, 0.8527150335233588, 0.8534867878527124, 0.8495168692409738, 0.8513812699437096, 0.8505400487612492, 0.8510872682944318, 0.8485586748413466, 0.8515730880929332, 0.8485102721307949, 0.8468762324764262, 0.849498494137894, 0.8479222688322398, 0.8466382524828798, 0.8507905776056792, 0.8502438062457423, 0.8528109425979707, 0.8480029400164928, 0.8498601699472947, 0.8522722383564592, 0.8481669714244738, 0.8458140618837617, 0.8511598723602596, 0.8496961385393138, 0.8508667670574737, 0.8532416370872324, 0.8496737298770212, 0.8497328887454734, 0.8501461044781471, 0.8510101824961456, 0.8499677315262988, 0.8467516403140799, 0.8496244308199778, 0.8462631314761033, 0.8498485174429028, 0.8504087340002151, 0.848796206661647, 0.8502464952852176, 0.8510532071277472, 0.8459919866623642, 0.8496912086336095, 0.8486097665913737, 0.8524927395934172, 0.8492273493241548, 0.8505306371230862, 0.8485658456132803, 0.8493062278154242, 0.8507744433688287, 0.8515910150227672, 0.8502088487325661, 0.8506453694740238, 0.8503316482019289, 0.8472204295292388, 0.8526621490803485, 0.8514879351762217, 0.8525796852031121, 0.8526854540891327, 0.8487782797318132, 0.848769316266896, 0.852570721738195, 0.8458866659495894, 0.8493591122584347, 0.8499856584561327, 0.8514816607507798, 0.8495545157936253, 0.8461367466207738, 0.8500286830877344, 0.8513283855006992, 0.847467821160948, 0.8526558746549067, 0.8502070560395827, 0.8494586067190132, 0.8472276003011724, 0.8476121329461117, 0.8510549998207309, 0.8505189846186942, 0.8501649277544727, 0.8500466100175684, 0.8507977483776129, 0.8485452296439713, 0.8516143200315515, 0.8481275321788391, 0.8493178803198165, 0.8515838442508337, 0.8512369581585457, 0.8513014951059482, 0.8487289806747695, 0.8514628374744542, 0.8477017675952816, 0.8507654799039117, 0.8513418306980747, 0.8478129145602524, 0.8480450683016026, 0.848999677315263, 0.849369868416335, 0.8507672725968951, 0.8532286400631028, 0.8485048940518446, 0.8513104585708651, 0.8509855329676241, 0.8519262486106629, 0.8450494783263419, 0.8476533648847298, 0.8511025061847907, 0.8496002294647019, 0.8477618228102255, 0.8522587931590837, 0.8494451615216378, 0.849501631350615, 0.8523358789573696, 0.8490193969380804, 0.8522471406546914, 0.8538605643397512, 0.8454080169230217, 0.8487513893370621, 0.8485022050123695, 0.8507009429565093, 0.8494379907497043, 0.8473826682442365, 0.8457683482126851, 0.8516546556236779, 0.8492354164425802, 0.8498861639955542, 0.8505915886845219, 0.8483444480298303, 0.8499211215087306, 0.8487567674160124, 0.8485541931088881, 0.8538578753002761, 0.8529453945717257, 0.8525716180846867, 0.849611881969094, 0.8487083647054605, 0.848790380409451, 0.8492156968197626, 0.8493680757233516, 0.8475332544548422, 0.8510800975224984, 0.8498673407192284, 0.8510769603097772, 0.8507968520311213, 0.8529032662866158, 0.848357893227206, 0.8515103438385143, 0.8464540532788354, 0.8498503101358861, 0.8515524721236241, 0.8525931304004875, 0.8476242336237497, 0.8507417267218815, 0.8498978164999462, 0.8499677315262988, 0.8495195582804489, 0.8477842314725181, 0.8491807393065864, 0.8469291169194364, 0.8489790613459539, 0.8501622387149976, 0.8544808361120075, 0.8498243160876268, 0.8505951740704887, 0.8482960453192787, 0.8536149654010254, 0.852392348786347, 0.8496584919866624, 0.8506785342942167, 0.8509071026496002, 0.8493411853286006, 0.8522776164354092, 0.8489387257538275, 0.8534912695851709, 0.8473100641784088, 0.8496988275787889, 0.8497418522103903, 0.8501819583378152, 0.8490669033021405, 0.8498906457280127, 0.8494890824997311, 0.8529660105410347, 0.8499856584561328, 0.8518159979921838, 0.848912731705568, 0.8525734107776701, 0.8486958158545767, 0.8508201570399054, 0.8519558280448891, 0.8532976587429636, 0.848566741959772, 0.8494720519163889, 0.8480127998279015, 0.84851296117027, 0.848235093757843, 0.8503096877128824, 0.851290738948048, 0.8510092861496541, 0.849838657631494, 0.8515246853823814, 0.8510729267505646, 0.8507726506758453, 0.847939299415582, 0.8498754078376537, 0.8475328062815962, 0.8478474239001828, 0.8480531354200279, 0.850385428991431, 0.8519432791940054, 0.8492049406618623, 0.8523995195582805, 0.8535764225018823, 0.8498458284034276, 0.8500959090746119, 0.8478398049550033, 0.8502097450790578, 0.8516743752464954, 0.849576028109426, 0.8483444480298304, 0.8511016098382992, 0.8499793840306908, 0.8528557599225557, 0.8543378688465812, 0.8520364992291419, 0.8514718009393711, 0.8503863253379227, 0.8507618945179449, 0.8523313972249112, 0.8489763723064789, 0.8505037467283352, 0.84671489010792, 0.8474292782618049, 0.8484215338281167, 0.8527741923918111, 0.8474651321214729, 0.8482736366569862, 0.8492210748987128, 0.848927969595927, 0.8496082965831271, 0.8508891757197663, 0.8498915420745045, 0.8503513678247463, 0.8492658922232978, 0.8467489512746048, 0.8531372127209494, 0.8505781434871463, 0.8503473342655337, 0.8485479186834464, 0.8479401957620738, 0.8509178588075006, 0.8492542397189058, 0.8510827865619734, 0.8457441468574092, 0.8535844896203075, 0.8531434871463913, 0.8496916568068554, 0.8488634326485246, 0.8522050123695816, 0.8468099028360404, 0.8483587895736978, 0.8498906457280125, 0.8502303610483668, 0.8490185005915887, 0.8501443117851637, 0.8502151231580078, 0.8520589078914345, 0.8479133053673228, 0.8495975404252267, 0.850304757807178, 0.8494846007672726, 0.8502384281667922, 0.8493981033308234, 0.8497198917213439, 0.8495347961708077, 0.8461860456778172, 0.8485649492667886, 0.8504822344125345, 0.8511679394786849, 0.8502016779606325, 0.8465562367788892, 0.8502240866229249, 0.8466978595245779, 0.8504947832634184, 0.8484748664443728, 0.8462138324190598, 0.8509510236276935, 0.8528405220321968, 0.8479581226919077, 0.8504840271055178, 0.8505342225090531, 0.8479760496217419, 0.8483085941701625, 0.8480092144419348, 0.8505664909827543, 0.848187587393783, 0.8505073321143021, 0.8499610089276111, 0.8505118138467606, 0.8472652468538237, 0.8484340826790004, 0.8467901832132229, 0.8506337169696316, 0.8480612025384532, 0.8486357606396329, 0.8480432756086194, 0.8474669248144564, 0.8501317629342798, 0.8496468394822702, 0.8487675235739127, 0.8512862572155893, 0.851630454268402, 0.8514027822595103, 0.847667706428597, 0.8505539421318704, 0.8499264995876807, 0.8512262020006454, 0.8496934494998387, 0.8496006776379478, 0.8511849700620271, 0.8507529310530278, 0.850468789215159, 0.8500779821447779, 0.8501604460220142, 0.8478926893980137, 0.8493375999426338, 0.8469766232834965, 0.8516725825535119, 0.852424617260048, 0.8493725574558102, 0.851215445842745, 0.8471567889283281, 0.852167813990176, 0.8520553225054677, 0.8501998852676491, 0.8503993223620522, 0.8491807393065864, 0.8527284787207343, 0.8479670861568247, 0.8471585816213114, 0.8527858448962031, 0.8527876375891865, 0.8513714101323007, 0.8474754401061275, 0.8515327525008067, 0.8494881861532394, 0.8502966906887527, 0.8508640780179987, 0.8488446093721989, 0.8530968771288229, 0.8471675450862286, 0.8507269370047685, 0.8491825319995698, 0.8506668817898247, 0.8527311677602093, 0.8485532967623963, 0.8494379907497043, 0.8497750170305833, 0.8503612276361551, 0.8501353483202466, 0.8494846007672726, 0.850931304004876, 0.8492165931662543, 0.850217812197483, 0.8505431859739702, 0.8499327740131225, 0.8509232368864508, 0.8499802803771825, 0.8493949661181026, 0.8521929116919437, 0.8501219031228712, 0.8513212147287657, 0.8479590190383994, 0.850716629020114, 0.8517505646982897, 0.8448047757341077, 0.8501003908070703, 0.849802803771826, 0.8505745581011797, 0.8490364275214226, 0.8536633681115773, 0.851421605535836, 0.8515524721236241, 0.8472786920511994, 0.847503675020616, 0.8519629988168225, 0.8542630239145245, 0.8523887634003801, 0.8498431393639525, 0.8467202681868703, 0.8504876124914846, 0.8491063425477753, 0.8546202179914668, 0.8506122046538309, 0.8504338317019828, 0.8520687677028432, 0.8503038614606864, 0.8519343157290882, 0.8499569753683984, 0.847250008963465, 0.8516748234197411, 0.8509729841167402, 0.8496889677673801, 0.8486375533326163, 0.8491233731311175, 0.8522982324047184, 0.8518151016456921, 0.8518850166720447, 0.8507896812591875, 0.8502724893334768, 0.8516645154350866, 0.8480871965867125, 0.8512656412462802, 0.8512979097199814, 0.8497947366534007, 0.8482664658850526, 0.8484824853895521, 0.8516519665842028, 0.8516170090710266, 0.8508725933096699, 0.8484439424904091, 0.8481122942884802, 0.8507914739521708, 0.8513167329963071, 0.8473396436126349, 0.8465284500376465, 0.850907998996092, 0.8460354594672117, 0.8476385751676168, 0.8523511168477287, 0.8504078376537234, 0.8508721451364238, 0.851278190097164, 0.8485676383062637, 0.8506749489082499, 0.8505252590441362, 0.8489602380696283, 0.8495356925172994, 0.8473629486214191, 0.8497696389516332, 0.8540156322828152, 0.848826682442365, 0.8489584453766448, 0.84711555698971, 0.8516806496719371, 0.8501425190921802, 0.8486079738983903, 0.8485981140869814, 0.8470277150335234, 0.849113513319709, 0.8505987594564556, 0.8490606288766985, 0.8528181133699043, 0.8518742605141443, 0.8529050589795992, 0.8498906457280127, 0.8486671327668424, 0.8511760065971101, 0.8492658922232978, 0.8501801656448316, 0.8458042020723532, 0.8492793374206733, 0.8492192822057293]\n"
     ]
    }
   ],
   "source": [
    "t_41 = auc_bootstrap\n",
    "print(t_41)"
   ]
  },
  {
   "cell_type": "code",
   "execution_count": 91,
   "id": "546319b9",
   "metadata": {},
   "outputs": [],
   "source": [
    "del X_train, X_test, y_train, y_test, X_val, y_val,study, optuna_auc"
   ]
  },
  {
   "cell_type": "code",
   "execution_count": null,
   "id": "8d3210d9",
   "metadata": {},
   "outputs": [],
   "source": [
    "# 42.\n",
    "column_to_drop_41 = 'Cat_가구주 종사상 지위'"
   ]
  },
  {
   "cell_type": "code",
   "execution_count": null,
   "id": "f24e9126",
   "metadata": {},
   "outputs": [],
   "source": [
    "if not column_to_drop_41.startswith('Cat_'):\n",
    "    comp_42 = comp_41.drop(column_to_drop_41, axis=1)\n",
    "    X_42 = comp_42.drop('target', axis=1)\n",
    "    y_42 = comp_42['target']\n",
    "else:\n",
    "    comp_42 = comp_41.drop(comp_41.filter(regex='^' + column_to_drop_41).columns, axis=1)\n",
    "    X_42 = comp_42.drop('target', axis=1)\n",
    "    y_42 = comp_42['target']\n",
    "\n",
    "print(X_42.shape)"
   ]
  },
  {
   "cell_type": "code",
   "execution_count": 57,
   "id": "963a5d46",
   "metadata": {},
   "outputs": [],
   "source": [
    "comp_42 = comp[[\n",
    "    '현재 주택 거주 기간(총 개월)','현재 주택의 면적(㎡)','총 이사 횟수','가구주 나이','소득 대비 주택 임대료의 비율',\n",
    "    '소득 중 사적이전소득의 비중(월평균)','장기부채부담지표','target',\n",
    "    'Cat_현재 주택의 유형_고시원','Cat_현재 주택의 유형_기타','Cat_현재 주택의 유형_다가구 단독주택',\n",
    "    'Cat_현재 주택의 유형_다세대주택','Cat_현재 주택의 유형_비거주용 건물 내 주택','Cat_현재 주택의 유형_아파트',\n",
    "    'Cat_현재 주택의 유형_연립주택','Cat_현재 주택의 유형_영업겸용 단독주택','Cat_현재 주택의 유형_오피스텔',\n",
    "    'Cat_현재 주택의 유형_일반 단독주택','Cat_현재 주택의 유형_판잣집 비닐하우스 컨테이너 움막',\n",
    "    'Cat_현재 주택의 점유형태_무상','Cat_현재 주택의 점유형태_보증금 없는 월세(사글세, 연세, 일세 포함)',\n",
    "    'Cat_현재 주택의 점유형태_보증금 있는 월세','Cat_현재 주택의 점유형태_전세',\n",
    "    'Cat_현재 의료시설 접근용이성_대체로 만족','Cat_현재 의료시설 접근용이성_매우 만족',\n",
    "    'Cat_현재 의료시설 접근용이성_매우 불만족','Cat_현재 의료시설 접근용이성_약간 불만족',\n",
    "    'Cat_현재 주택에 대한 전반적인 만족도_대체로 만족','Cat_현재 주택에 대한 전반적인 만족도_매우 만족','Cat_현재 주택에 대한 전반적인 만족도_매우 불만족','Cat_현재 주택에 대한 전반적인 만족도_약간 불만족',\n",
    "\n",
    "    'Cat_이사 계획 중인 거주 지역_국내 to 국외','Cat_이사 계획 중인 거주 지역_비수도권 to 비수도권',\n",
    "    'Cat_이사 계획 중인 거주 지역_비수도권 to 수도권','Cat_이사 계획 중인 거주 지역_비수도권 to 이사 계획 없음 및 모름',\n",
    "    'Cat_이사 계획 중인 거주 지역_수도권 to 비수도권','Cat_이사 계획 중인 거주 지역_수도권 to 수도권',\n",
    "    'Cat_이사 계획 중인 거주 지역_수도권 to 이사 계획 없음 및 모름',\n",
    "    'Cat_현재 가장 필요한 주거지원 1순위_공공분양주택공급','Cat_현재 가장 필요한 주거지원 1순위_없음',\n",
    "    'Cat_현재 가장 필요한 주거지원 1순위_월세보조금 지원','Cat_현재 가장 필요한 주거지원 1순위_임대 후 분양전환 공공임대주택 공급',\n",
    "    'Cat_현재 가장 필요한 주거지원 1순위_장기공공임대주택 공급','Cat_현재 가장 필요한 주거지원 1순위_전세자금 대출 지원',\n",
    "    'Cat_현재 가장 필요한 주거지원 1순위_주거상담과 정보제공 등','Cat_현재 가장 필요한 주거지원 1순위_주택 구입자금 대출 지원',\n",
    "    'Cat_현재 가장 필요한 주거지원 1순위_주택개량 및 개보수 지원', \n",
    "    'Cat_기초생활보장 수급가구 여부_아니오','Cat_기초생활보장 수급가구 여부_예'\n",
    "]]"
   ]
  },
  {
   "cell_type": "code",
   "execution_count": 58,
   "id": "aa1a56bc",
   "metadata": {},
   "outputs": [
    {
     "data": {
      "text/plain": [
       "(10564, 48)"
      ]
     },
     "execution_count": 58,
     "metadata": {},
     "output_type": "execute_result"
    }
   ],
   "source": [
    "X_42 = comp_42.drop('target', axis=1)\n",
    "y_42 = comp_42['target']\n",
    "X_42.shape"
   ]
  },
  {
   "cell_type": "code",
   "execution_count": 59,
   "id": "c6e87b80",
   "metadata": {},
   "outputs": [],
   "source": [
    "X_train, X_test, y_train, y_test = train_test_split(X_42, y_42, test_size=0.2, shuffle=True, stratify=y_42, random_state = 0)\n",
    "X_train, X_val, y_train, y_val = train_test_split(X_train, y_train, test_size=0.2, shuffle=True, stratify=y_train, random_state = 0)"
   ]
  },
  {
   "cell_type": "code",
   "execution_count": 60,
   "id": "ac52f250",
   "metadata": {},
   "outputs": [],
   "source": [
    "def objective(trial):\n",
    "    params = {\n",
    "        'learning_rate' :trial.suggest_float('learning_rate',0.01, 0.1,step=0.01),        \n",
    "        'n_estimators' :trial.suggest_int('n_estimators', 50, 200),\n",
    "        'subsample':trial.suggest_float('subsample', 0.1, 1.0,step=0.1),\n",
    "        'max_depth' :trial.suggest_int('max_depth', 1, 10),\n",
    "        'min_samples_split' :trial.suggest_int('min_samples_split', 3, 10),\n",
    "        'min_samples_leaf' :trial.suggest_int('min_samples_leaf', 3, 10),\n",
    "        }\n",
    "        \n",
    "    clf = GradientBoostingClassifier(**params,random_state = 0)\n",
    "    clf.fit(X_train, y_train)\n",
    "    clf_proba = clf.predict_proba(X_val)[:, 1]\n",
    "        \n",
    "    AUC_SCORE = roc_auc_score(y_val, clf_proba)\n",
    "    return AUC_SCORE\n",
    "\n",
    "direction = \"maximize\"\n",
    "sampler = optuna.samplers.TPESampler(seed=10)\n",
    "study =  optuna.create_study(direction=direction, sampler=sampler, pruner=optuna.pruners.HyperbandPruner())\n",
    "early_stopping = EarlyStoppingCallback(10, direction=direction)\n",
    "study.optimize(objective, callbacks=[early_stopping], n_trials=200) "
   ]
  },
  {
   "cell_type": "code",
   "execution_count": 61,
   "id": "12b47e83",
   "metadata": {},
   "outputs": [
    {
     "name": "stdout",
     "output_type": "stream",
     "text": [
      "{'learning_rate': 0.09999999999999999, 'n_estimators': 157, 'subsample': 0.6, 'max_depth': 2, 'min_samples_split': 5, 'min_samples_leaf': 8}\n",
      "0.8470612768149044\n"
     ]
    }
   ],
   "source": [
    "print(study.best_trial.params)\n",
    "optuna_auc = study.best_trial.value\n",
    "print(optuna_auc)"
   ]
  },
  {
   "cell_type": "code",
   "execution_count": 62,
   "id": "1f3d1cad",
   "metadata": {},
   "outputs": [
    {
     "data": {
      "text/html": [
       "<style>#sk-container-id-3 {color: black;}#sk-container-id-3 pre{padding: 0;}#sk-container-id-3 div.sk-toggleable {background-color: white;}#sk-container-id-3 label.sk-toggleable__label {cursor: pointer;display: block;width: 100%;margin-bottom: 0;padding: 0.3em;box-sizing: border-box;text-align: center;}#sk-container-id-3 label.sk-toggleable__label-arrow:before {content: \"▸\";float: left;margin-right: 0.25em;color: #696969;}#sk-container-id-3 label.sk-toggleable__label-arrow:hover:before {color: black;}#sk-container-id-3 div.sk-estimator:hover label.sk-toggleable__label-arrow:before {color: black;}#sk-container-id-3 div.sk-toggleable__content {max-height: 0;max-width: 0;overflow: hidden;text-align: left;background-color: #f0f8ff;}#sk-container-id-3 div.sk-toggleable__content pre {margin: 0.2em;color: black;border-radius: 0.25em;background-color: #f0f8ff;}#sk-container-id-3 input.sk-toggleable__control:checked~div.sk-toggleable__content {max-height: 200px;max-width: 100%;overflow: auto;}#sk-container-id-3 input.sk-toggleable__control:checked~label.sk-toggleable__label-arrow:before {content: \"▾\";}#sk-container-id-3 div.sk-estimator input.sk-toggleable__control:checked~label.sk-toggleable__label {background-color: #d4ebff;}#sk-container-id-3 div.sk-label input.sk-toggleable__control:checked~label.sk-toggleable__label {background-color: #d4ebff;}#sk-container-id-3 input.sk-hidden--visually {border: 0;clip: rect(1px 1px 1px 1px);clip: rect(1px, 1px, 1px, 1px);height: 1px;margin: -1px;overflow: hidden;padding: 0;position: absolute;width: 1px;}#sk-container-id-3 div.sk-estimator {font-family: monospace;background-color: #f0f8ff;border: 1px dotted black;border-radius: 0.25em;box-sizing: border-box;margin-bottom: 0.5em;}#sk-container-id-3 div.sk-estimator:hover {background-color: #d4ebff;}#sk-container-id-3 div.sk-parallel-item::after {content: \"\";width: 100%;border-bottom: 1px solid gray;flex-grow: 1;}#sk-container-id-3 div.sk-label:hover label.sk-toggleable__label {background-color: #d4ebff;}#sk-container-id-3 div.sk-serial::before {content: \"\";position: absolute;border-left: 1px solid gray;box-sizing: border-box;top: 0;bottom: 0;left: 50%;z-index: 0;}#sk-container-id-3 div.sk-serial {display: flex;flex-direction: column;align-items: center;background-color: white;padding-right: 0.2em;padding-left: 0.2em;position: relative;}#sk-container-id-3 div.sk-item {position: relative;z-index: 1;}#sk-container-id-3 div.sk-parallel {display: flex;align-items: stretch;justify-content: center;background-color: white;position: relative;}#sk-container-id-3 div.sk-item::before, #sk-container-id-3 div.sk-parallel-item::before {content: \"\";position: absolute;border-left: 1px solid gray;box-sizing: border-box;top: 0;bottom: 0;left: 50%;z-index: -1;}#sk-container-id-3 div.sk-parallel-item {display: flex;flex-direction: column;z-index: 1;position: relative;background-color: white;}#sk-container-id-3 div.sk-parallel-item:first-child::after {align-self: flex-end;width: 50%;}#sk-container-id-3 div.sk-parallel-item:last-child::after {align-self: flex-start;width: 50%;}#sk-container-id-3 div.sk-parallel-item:only-child::after {width: 0;}#sk-container-id-3 div.sk-dashed-wrapped {border: 1px dashed gray;margin: 0 0.4em 0.5em 0.4em;box-sizing: border-box;padding-bottom: 0.4em;background-color: white;}#sk-container-id-3 div.sk-label label {font-family: monospace;font-weight: bold;display: inline-block;line-height: 1.2em;}#sk-container-id-3 div.sk-label-container {text-align: center;}#sk-container-id-3 div.sk-container {/* jupyter's `normalize.less` sets `[hidden] { display: none; }` but bootstrap.min.css set `[hidden] { display: none !important; }` so we also need the `!important` here to be able to override the default hidden behavior on the sphinx rendered scikit-learn.org. See: https://github.com/scikit-learn/scikit-learn/issues/21755 */display: inline-block !important;position: relative;}#sk-container-id-3 div.sk-text-repr-fallback {display: none;}</style><div id=\"sk-container-id-3\" class=\"sk-top-container\"><div class=\"sk-text-repr-fallback\"><pre>GradientBoostingClassifier(learning_rate=0.09999999999999999, max_depth=2,\n",
       "                           min_samples_leaf=8, min_samples_split=5,\n",
       "                           n_estimators=157, random_state=0, subsample=0.6)</pre><b>In a Jupyter environment, please rerun this cell to show the HTML representation or trust the notebook. <br />On GitHub, the HTML representation is unable to render, please try loading this page with nbviewer.org.</b></div><div class=\"sk-container\" hidden><div class=\"sk-item\"><div class=\"sk-estimator sk-toggleable\"><input class=\"sk-toggleable__control sk-hidden--visually\" id=\"sk-estimator-id-3\" type=\"checkbox\" checked><label for=\"sk-estimator-id-3\" class=\"sk-toggleable__label sk-toggleable__label-arrow\">GradientBoostingClassifier</label><div class=\"sk-toggleable__content\"><pre>GradientBoostingClassifier(learning_rate=0.09999999999999999, max_depth=2,\n",
       "                           min_samples_leaf=8, min_samples_split=5,\n",
       "                           n_estimators=157, random_state=0, subsample=0.6)</pre></div></div></div></div></div>"
      ],
      "text/plain": [
       "GradientBoostingClassifier(learning_rate=0.09999999999999999, max_depth=2,\n",
       "                           min_samples_leaf=8, min_samples_split=5,\n",
       "                           n_estimators=157, random_state=0, subsample=0.6)"
      ]
     },
     "execution_count": 62,
     "metadata": {},
     "output_type": "execute_result"
    }
   ],
   "source": [
    "optuna_42 = GradientBoostingClassifier(**study.best_trial.params, random_state = 0)\n",
    "optuna_42.fit(X_train, y_train)"
   ]
  },
  {
   "cell_type": "code",
   "execution_count": 63,
   "id": "3f04209a",
   "metadata": {},
   "outputs": [
    {
     "name": "stdout",
     "output_type": "stream",
     "text": [
      "0.8534751353483202\n"
     ]
    }
   ],
   "source": [
    "optuna_proba_42 = optuna_42.predict_proba(X_test)[:, 1]\n",
    "auc_42 = roc_auc_score(y_test, optuna_proba_42)\n",
    "print(auc_42)"
   ]
  },
  {
   "cell_type": "code",
   "execution_count": 64,
   "id": "b5baef7b",
   "metadata": {},
   "outputs": [],
   "source": [
    "X_train = X_train.values\n",
    "y_train = y_train.values"
   ]
  },
  {
   "cell_type": "code",
   "execution_count": 65,
   "id": "b94c497d",
   "metadata": {},
   "outputs": [],
   "source": [
    "auc_bootstrap = []"
   ]
  },
  {
   "cell_type": "code",
   "execution_count": 66,
   "id": "2afc3442",
   "metadata": {},
   "outputs": [
    {
     "data": {
      "text/plain": [
       "array([0.84597012, 0.85322976])"
      ]
     },
     "execution_count": 66,
     "metadata": {},
     "output_type": "execute_result"
    }
   ],
   "source": [
    "rs = RandomState(seed = 42)\n",
    "bootstrap_auc(optuna_42, X_train, y_train, X_test, y_test, nsamples=2000)"
   ]
  },
  {
   "cell_type": "code",
   "execution_count": 68,
   "id": "c11c0d3a",
   "metadata": {},
   "outputs": [
    {
     "data": {
      "text/plain": [
       "0.849700203918827"
      ]
     },
     "execution_count": 68,
     "metadata": {},
     "output_type": "execute_result"
    }
   ],
   "source": [
    "np.mean(auc_bootstrap)"
   ]
  },
  {
   "cell_type": "code",
   "execution_count": 69,
   "id": "3136e093",
   "metadata": {},
   "outputs": [
    {
     "name": "stdout",
     "output_type": "stream",
     "text": [
      "[0.8480217632928186, 0.8486124556308486, 0.8483865763149403, 0.8503899107238895, 0.8467480549281129, 0.8512790864436557, 0.8479751532752502, 0.8487478039510952, 0.8480997454375965, 0.8496423577498117, 0.850615341866552, 0.8509339930443511, 0.8493107095478828, 0.8508802122548493, 0.8511921408339608, 0.8515013803735972, 0.8474606503890143, 0.8511948298734359, 0.8509223405399591, 0.8499453228640064, 0.8480782331217955, 0.8480764404288121, 0.8530762611595138, 0.8470877702484673, 0.8464406080814599, 0.8513543795489584, 0.8496566992936789, 0.8495034240435984, 0.8497189953748521, 0.8485407479115126, 0.8521852927467642, 0.8518428883869349, 0.8500847047434656, 0.850564698289771, 0.8488262342691191, 0.8528871320497652, 0.8534652755369116, 0.8478353232225448, 0.8476820479724642, 0.8497750170305833, 0.8512853608690976, 0.8492578251048727, 0.8510836829084651, 0.8457826897565524, 0.848297838012262, 0.8525070811372844, 0.8516967839087879, 0.8490202932845721, 0.8435292746764189, 0.8515094474920225, 0.8512925316410311, 0.8504678928686673, 0.8472993080205085, 0.8496450467892868, 0.8477896095514681, 0.8526881431286079, 0.8522950951919974, 0.8499399447850562, 0.8465589258183641, 0.8472428381915313, 0.8503092395396366, 0.8484959305869278, 0.8512432325839877, 0.8495330034778245, 0.8535593919185401, 0.8499040909253881, 0.8512020006453695, 0.8525241117206268, 0.8506131010003226, 0.8501864400702736, 0.8445896525760999, 0.8519065289878456, 0.8509546090136604, 0.8495563084866086, 0.8509079989960919, 0.8502267756624, 0.848802481087089, 0.8473019970599835, 0.8472652468538239, 0.8498395539779857, 0.8497660535656664, 0.8486061812054068, 0.8492183858592377, 0.8497992183858591, 0.8495043203900902, 0.848360582266681, 0.8502249829694167, 0.8464692911691943, 0.8487316697142449, 0.8488661216879997, 0.8498521028288695, 0.8496163637015524, 0.8487244989423112, 0.8512208239216952, 0.8474265892223298, 0.8473477107310602, 0.8515524721236241, 0.8513176293427989, 0.8458969739342439, 0.8499336703596142, 0.8499381520920727, 0.8494532286400631, 0.8523313972249114, 0.8511285002330502, 0.8500412319386182, 0.8510379692373884, 0.851466422860421, 0.8500905309956617, 0.8545072783335126, 0.8507636872109283, 0.8497095837366893, 0.8490050553942132, 0.8498135599297265, 0.8501936108422071, 0.8482095478828295, 0.8500672259868775, 0.8496862787279051, 0.8487478039510952, 0.8515210999964147, 0.8490364275214225, 0.8505517012656414, 0.8476058585206697, 0.8463787601735326, 0.8516976802552796, 0.849214800473271, 0.8489745796134955, 0.8510083898031624, 0.8489199024775016, 0.849784876841992, 0.8485479186834464, 0.8487469076046036, 0.8515385787530028, 0.8487684199204045, 0.8517236743035388, 0.848569430999247, 0.8515040694130723, 0.8494227528593454, 0.8484945860671901, 0.8489261769029437, 0.8483103868631459, 0.849423649205837, 0.8487227062493277, 0.8493922770786274, 0.8500197196228174, 0.8492838191531318, 0.8516412104263025, 0.852323330106486, 0.8516940948693128, 0.8503271664694705, 0.8501613423685059, 0.850262629522068, 0.850426660930049, 0.8487962066616471, 0.8509160661145172, 0.8517505646982898, 0.8495114911620236, 0.8510030117242122, 0.8492766483811983, 0.8494823599010433, 0.8460955146821556, 0.8521601950449966, 0.8513902334086265, 0.8514287763077696, 0.8482763256964614, 0.8483596859201892, 0.8500636406009106, 0.8495249363593991, 0.8468520311211502, 0.8486321752536661, 0.8452090280018643, 0.8509124807285504, 0.8485837725431142, 0.8540738948047758, 0.854568678068194, 0.8508569072460652, 0.8505772471406545, 0.8506247535047148, 0.8479339213366319, 0.850235739127317, 0.8500636406009108, 0.849104549854792, 0.8481427700691979, 0.8502357391273171, 0.8485685346527554, 0.8510092861496541, 0.849955182675415, 0.8500107561579004, 0.8495088021225485, 0.8489862321178875, 0.8496710408375462, 0.8497633645261913, 0.8517389121938976, 0.8485398515650209, 0.8494890824997312, 0.8486617546878921, 0.8527876375891865, 0.8511822810225521, 0.8491834283460615, 0.8492125596070417, 0.8489898175038544, 0.8490050553942132, 0.8517640098956654, 0.8496997239252806, 0.8503253737764871, 0.8491574342978022, 0.8516304542684021, 0.8516815460184288, 0.8444892617690294, 0.8500609515614357, 0.847010684450181, 0.8468717507439676, 0.8483202466745545, 0.8490642142626654, 0.8503441970528127, 0.8506207199455021, 0.8469129826825859, 0.8489925065433295, 0.8501846473772903, 0.8477017675952817, 0.8507932666451544, 0.8502455989387259, 0.851161665053243, 0.8481140869814635, 0.8516914058298375, 0.8524972213258757, 0.8481261876591015, 0.8497463339428489, 0.846243411853286, 0.850489405184468, 0.8486967122010685, 0.8497660535656663, 0.8495437596357247, 0.8490292567494891, 0.8502859345308522, 0.8512351654655623, 0.8487791760783048, 0.8483238320605213, 0.8501120433114625, 0.8495025276971067, 0.8476896669176437, 0.8497947366534007, 0.8537037037037036, 0.8490185005915886, 0.8520356028826503, 0.8468932630597683, 0.8503961851493314, 0.8498068373310387, 0.8494568140260299, 0.8494048259295114, 0.8493860026531856, 0.848420637481625, 0.851971065935248, 0.8504239718905742, 0.8511383600444589, 0.8527383385321431, 0.8471083862177764, 0.8509814994084113, 0.8481741421964075, 0.8519576207378724, 0.8475726937004768, 0.8496011258111935, 0.8507188698863433, 0.850418593811624, 0.8510352801979133, 0.8493671793768599, 0.8482843928148864, 0.8495876806138181, 0.8437757699616364, 0.8497024129647557, 0.8485550894553798, 0.846584023520132, 0.8518868093650283, 0.8514968986411389, 0.8455110967695671, 0.8468762324764261, 0.8527374421856512, 0.8506713635222832, 0.8486814743107096, 0.8484403571044423, 0.8488419203327238, 0.849533899824316, 0.8499471155569898, 0.8522910616327848, 0.8501631350614894, 0.8516681008210534, 0.853069986734072, 0.8464504678928687, 0.8513947151410848, 0.8518693306084401, 0.8515282707683482, 0.8501622387149977, 0.8474579613495393, 0.8508250869456097, 0.852505288444301, 0.8497472302893405, 0.8498135599297265, 0.8506874977591337, 0.8473548815029938, 0.8507843031802373, 0.8478487684199203, 0.8493591122584346, 0.8521637804309634, 0.8429484421497975, 0.8488455057186907, 0.8488849449643253, 0.8485398515650209, 0.8474866444372737, 0.8502240866229249, 0.8481373919902477, 0.8476928041303646, 0.8489951955828047, 0.849838657631494, 0.8501841992040443, 0.8490382202144061, 0.8500752931053027, 0.8513691692660714, 0.8506928758380838, 0.8504374170879495, 0.8500985981140871, 0.8453246566992938, 0.8484699365386684, 0.8485196837689577, 0.8456580975942061, 0.848187587393783, 0.850215123158008, 0.8525608619267864, 0.8486572729554337, 0.8491135133197089, 0.8487146391309024, 0.8498476210964111, 0.8500215123158007, 0.8517147108386218, 0.8496979312322972, 0.8501057688860205, 0.8474714065469148, 0.851531856154315, 0.848993402889821, 0.850426660930049, 0.8510827865619734, 0.8493187766663082, 0.8484251192140835, 0.8491932881574702, 0.8495186619339572, 0.8513050804919149, 0.8508434620486895, 0.8471088343910222, 0.8515354415402817, 0.849665662758596, 0.8516358323473523, 0.8513463124305332, 0.8489566526836614, 0.845225162238715, 0.8528925101287154, 0.8472934817683124, 0.8480898856261876, 0.8463352873686854, 0.8536597827256105, 0.8483767165035316, 0.8464782546341114, 0.8500770857982862, 0.8496307052454197, 0.851206482377828, 0.8517057473737047, 0.8474077659460042, 0.8486384496791081, 0.8500609515614357, 0.8536024165501417, 0.8502491843246924, 0.8485999067799648, 0.8505951740704887, 0.8483982288193324, 0.8498798895701123, 0.8483498261087806, 0.8500062744254419, 0.8500546771359937, 0.8508981391846833, 0.8509850847943781, 0.8480280377182603, 0.8538345702914918, 0.8488302678283316, 0.8505279480836112, 0.8530224803700117, 0.8505835215660965, 0.8492381054820552, 0.8461215087304149, 0.8491502635258685, 0.8491090315872504, 0.8509725359434943, 0.84932505109175, 0.8506857050661504, 0.8512226166146786, 0.8497696389516332, 0.8505539421318704, 0.8494102040084615, 0.8495581011795921, 0.8485228209816787, 0.8473190276433258, 0.8517541500842566, 0.8498592736008032, 0.8466333225771753, 0.8451767595281632, 0.8513543795489583, 0.845395468072138, 0.8495706500304758, 0.846348284392815, 0.8506319242766485, 0.8524819834355168, 0.8523609766591373, 0.8507843031802375, 0.8511482198558675, 0.8493017460829658, 0.8470366784984404, 0.85197734036069, 0.8500851529167115, 0.8479061345953893, 0.8494227528593454, 0.8500860492632033, 0.8520481517335341, 0.8474346563407551, 0.8503890143773978, 0.8492739593417231, 0.8495849915743428, 0.8515004840271057, 0.8473862536302033, 0.8489683051880534, 0.8507923702986625, 0.8506494030332364, 0.849764260872683, 0.8498207307016599, 0.8513714101323009, 0.8505530457853789, 0.8508676634039655, 0.8512127568032698, 0.8518921874439783, 0.8508309131978058, 0.8493080205084077, 0.8493165358000789, 0.8476686027750886, 0.85031103223262, 0.8527481983435518, 0.8480307267577355, 0.8493532860062386, 0.8474597540425226, 0.8512772937506723, 0.8481768312358825, 0.8459763005987595, 0.8498171453156932, 0.8482646731920692, 0.8482897708938366, 0.8499076763113549, 0.8505611129038042, 0.8533971532035425, 0.8501819583378151, 0.847127209494102, 0.8500788784912696, 0.8533657810763329, 0.8488235452296439, 0.847727761643541, 0.8534939586246459, 0.8485613638808217, 0.8485353698325624, 0.8502321537413502, 0.8509832921013948, 0.8522937506722599, 0.8500905309956618, 0.8494442651751463, 0.8468807142088846, 0.8478900003585386, 0.8528445555914093, 0.8514207091893443, 0.8506184790792729, 0.8489934028898211, 0.8527338567996845, 0.8498700297587035, 0.8502267756624002, 0.8489925065433294, 0.8475744863934602, 0.850242013552759, 0.8489199024775017, 0.850821053386397, 0.8469712452045463, 0.8497127209494102, 0.8501120433114625, 0.8471827829765874, 0.85094923093471, 0.8504705819081424, 0.8507825104872541, 0.8499399447850562, 0.8479150980603062, 0.8501532752500807, 0.8491323365960346, 0.8531255602165572, 0.8518393030009681, 0.8476641210426302, 0.8501201104298878, 0.8513328672331577, 0.8506202717722562, 0.8524308916854899, 0.854222688322398, 0.8486805779642179, 0.8497714316446165, 0.8515542648166076, 0.8520270875909791, 0.8462586497436448, 0.850253666057151, 0.8492488616399555, 0.8482700512710194, 0.8520687677028431, 0.8489414147933025, 0.8481553189200817, 0.8494657774909469, 0.8510083898031624, 0.848306801477179, 0.8471267613208562, 0.8467399878096877, 0.8506677781363166, 0.847945573841024, 0.8509035172636334, 0.8490669033021405, 0.8496235344734862, 0.8480880929332042, 0.8510908536803987, 0.8486169373633071, 0.8511307410992794, 0.8497526083682908, 0.8487415295256533, 0.8504768563335843, 0.8517926929833997, 0.8483919543938905, 0.8508102972284965, 0.8486232117887491, 0.8508192606934135, 0.8527275823742426, 0.8488750851529168, 0.8524147574486394, 0.8530825355849556, 0.8509429565092683, 0.8486922304686099, 0.8504634111362086, 0.847882829586605, 0.8496118819690939, 0.8494245455523287, 0.849342978021584, 0.8508138826144636, 0.8510558961672223, 0.8499471155569898, 0.8515130328779893, 0.8522834426876054, 0.8510397619303719, 0.8483193503280628, 0.8486841633501846, 0.8515766734789, 0.8496441504427952, 0.8512799827901474, 0.8484448388369008, 0.8480396902226524, 0.8521852927467642, 0.8506704671757915, 0.8501272812018212, 0.8519387974615467, 0.8464128213402173, 0.8482288193324011, 0.8485004123193863, 0.8506184790792728, 0.8488051701265642, 0.8513212147287654, 0.8505584238643289, 0.8492237639381879, 0.8523170556810441, 0.8502231902764331, 0.8487522856835539, 0.8491287512100676, 0.8518590226237854, 0.850235739127317, 0.8514924169086802, 0.8491753612276363, 0.8509223405399592, 0.8526119536768133, 0.8525877523215375, 0.8491404037144599, 0.8498996091929296, 0.8479733605822668, 0.8482888745473449, 0.8480316231042271, 0.846288229177871, 0.8495195582804489, 0.8486196264027823, 0.8534455559140942, 0.8515721917464414, 0.848862536302033, 0.8507143881538848, 0.8504257645835573, 0.850623857158223, 0.8494577103725216, 0.8508784195618657, 0.8510881646409236, 0.8462057653006346, 0.8482852891613782, 0.8485550894553799, 0.8487513893370621, 0.8476184073715536, 0.8521297192642788, 0.850325373776487, 0.8496925531533469, 0.8503231329102579, 0.8509035172636333, 0.84693628769137, 0.8512369581585458, 0.8495993331182102, 0.8496638700656126, 0.8529041626331074, 0.8482333010648595, 0.8521879817862392, 0.851570399053458, 0.8470357821519487, 0.8481221540998889, 0.850253666057151, 0.8503917034168728, 0.8507627908644366, 0.8491542970850813, 0.8513472087770249, 0.8515058621060558, 0.8468493420816752, 0.8502850381843605, 0.8485228209816787, 0.8507305223907354, 0.8505987594564555, 0.8495652719515256, 0.8507977483776128, 0.851394715141085, 0.846273439460758, 0.8477689935821591, 0.851027213079488, 0.8473019970599835, 0.8496437022695492, 0.8489346921946148, 0.850107561579004, 0.8527033810189666, 0.8473011007134917, 0.851905184468108, 0.850098598114087, 0.8520804202072353, 0.8503863253379226, 0.8515381305797569, 0.8498924384209959, 0.8520705603958265, 0.8479079272883725, 0.8483596859201893, 0.8502536660571512, 0.8501120433114624, 0.8513490014700082, 0.8507242479652934, 0.8521279265712953, 0.8540568642214335, 0.8450082463877235, 0.8512683302857553, 0.8485936323545231, 0.8501295220680506, 0.8458517084364132, 0.8511011616650533, 0.8476273708364706, 0.8487979993546306, 0.8525518984618695, 0.8473109605249005, 0.8502124341185329, 0.8483471370693054, 0.8488930120827507, 0.8527311677602094, 0.8510370728908967, 0.8508524255136066, 0.8493098132013911, 0.8493116058943745, 0.8480683733103869, 0.8481857947007995, 0.8505844179125882, 0.8473961134416119, 0.8506637445771038, 0.8541187121293607, 0.848757663762504, 0.8479124090208311, 0.8518133089527087, 0.848785002330501, 0.8501900254562403, 0.8500349575131763, 0.8483605822666811, 0.8475216019504501, 0.8517541500842567, 0.8482028252841418, 0.8479661898103331, 0.8500654332938941, 0.8499130543903051, 0.8491646050697357, 0.8508640780179986, 0.8497203398945896, 0.8503128249256033, 0.8481777275823742, 0.8476990785558065, 0.8523045068301602, 0.8529570470761179, 0.8507838550069915, 0.8506579183249077, 0.8489118353590765, 0.8495930586927684, 0.8484421497974256, 0.8524416478433904, 0.8515515757771324, 0.8527813631637446, 0.8495688573374922, 0.8471222795883977, 0.8481920691262415, 0.8511831773690437, 0.8522534150801333, 0.8493537341794845, 0.8479859094331504, 0.8513427270445664, 0.8497418522103904, 0.846631529884192, 0.8489781649994622, 0.8489037682406513, 0.8488419203327239, 0.8489297622889103, 0.8505754544476712, 0.8481741421964074, 0.8502868308773439, 0.848408088630741, 0.8516546556236779, 0.8491986662364204, 0.8499874511491163, 0.8495778208024094, 0.84653024273063, 0.8455308163923846, 0.8520732494353017, 0.8523385679968448, 0.8533846043526586, 0.8517729733605823, 0.8470958373668925, 0.8494733964361263, 0.8480656842709118, 0.8525106665232512, 0.8503262701229788, 0.8490310494424724, 0.8510478290487972, 0.8509438528557598, 0.8492605141443476, 0.8507744433688287, 0.854631422322613, 0.850457136710767, 0.8502751783729519, 0.8501846473772902, 0.8494523322935714, 0.8472697285862822, 0.8488813595783586, 0.8506597110178911, 0.849184772865799, 0.8505248108708903, 0.851976444014198, 0.8499175361227638, 0.8526603563873651, 0.8474171775841669, 0.8476058585206697, 0.8471863683625542, 0.8492578251048726, 0.8502957943422609, 0.8521149295471657, 0.852004230755441, 0.8482682585780359, 0.8493420816750923, 0.8529041626331075, 0.8492282456706466, 0.8487791760783049, 0.8514740418056004, 0.8502348427808255, 0.8488392312932487, 0.8506695708292997, 0.8476058585206697, 0.8483426553368469, 0.8527585063282063, 0.8515444050051987, 0.8501366928399843, 0.8481360474705103, 0.8532295364095945, 0.8489790613459538, 0.8510675486716146, 0.8517451866193397, 0.8488634326485245, 0.8486518948764835, 0.8490077444336883, 0.8482494353017103, 0.8522516223871499, 0.8466153956473415, 0.848688645082643, 0.8471101789107598, 0.8488903230432756, 0.8475431142662508, 0.8502662149080349, 0.8496611810261375, 0.8491045498547919, 0.8497682944318955, 0.8496934494998387, 0.8500466100175683, 0.8478837259330967, 0.8488974938152092, 0.8505073321143022, 0.8468556165071169, 0.8525823742425872, 0.8491421964074433, 0.8498969201534545, 0.8493053314689327, 0.850044817324585, 0.8502043670001075, 0.8452646014843498, 0.8484304972930337, 0.8500484027105518, 0.8473925280556452, 0.8502196048904664, 0.8520320174966836, 0.8496459431357786, 0.8499856584561328, 0.8465499623534474, 0.8465598221648561, 0.8497687426051413, 0.8508448065684271, 0.8462254849234521, 0.8454151876949554, 0.8520096088343909, 0.845162866157542, 0.8490247750170306, 0.8470348858054569, 0.8443933526944176, 0.8509304076583845, 0.8545166899716754, 0.8504168011186405, 0.8496423577498118, 0.849396758811086, 0.851511240185006, 0.8514059194722312, 0.8508228460793805, 0.8521252375318203, 0.8505790398336381, 0.8478308414900865, 0.8474059732530207, 0.8460175325373777, 0.8496065038901438, 0.8489297622889105, 0.852642429457531, 0.8479007565164389, 0.850910688035567, 0.8518348212685096, 0.8513611021476462, 0.8493716611093184, 0.8481902764332581, 0.8524994621921049, 0.8518186870316589, 0.8479733605822667, 0.8499444265175147, 0.8492255566311713, 0.8487379441396867, 0.8499327740131225, 0.8459780932917427, 0.8489261769029437, 0.850199885267649, 0.8490131225126384, 0.8519244559176795, 0.8531649994621922, 0.8490821411924994, 0.8481884837402746, 0.8511132623426914, 0.8508788677351116, 0.851436843426195, 0.8481526298806067, 0.847506364060091, 0.8513243519414866, 0.8489441038327776, 0.8491287512100677, 0.8498978164999461, 0.8499802803771827, 0.8523367753038615, 0.8498816822630957, 0.8513355562726328, 0.8496773152629881, 0.8514816607507798, 0.8491762575741277, 0.8492219712452046, 0.8489091463196013, 0.8476273708364706, 0.8497983220393676, 0.8517129181456384, 0.849280233767165, 0.8512055860313362, 0.8508658707109821, 0.8495585493528379, 0.8473208203363092, 0.848542540604496, 0.8500587106952064, 0.8488006883941056, 0.8483399662973719, 0.8507905776056792, 0.8519370047685633, 0.8510200423075543, 0.8482279229859094, 0.8492327274031048, 0.8521019325230361, 0.8474283819153132, 0.8481158796744468, 0.8496316015919113, 0.8493689720698433, 0.8494272345918039, 0.845986160410168, 0.8507305223907353, 0.8484627657667348, 0.8496880714208884, 0.8498512064823778, 0.846828726112366, 0.8481669714244738, 0.8490996199490876, 0.8510021153777204, 0.8503822917787099, 0.8496835896884299, 0.8477985730163853, 0.8521794664945681, 0.849567064644509, 0.8495401742497579, 0.845876806138181, 0.8489709942275286, 0.850435624394966, 0.8516430031192859, 0.84802265963931, 0.8522319027643325, 0.8494980459646481, 0.8503253737764871, 0.8485443332974794, 0.8505871069520633, 0.8516474848517444, 0.8496696963178086, 0.8494595030655049, 0.8504768563335845, 0.8513920261016098, 0.8488432648524614, 0.8445726219927574, 0.8502572514431179, 0.8481284285253308, 0.8507466566275859, 0.8505342225090532, 0.8482359901043347, 0.8494039295830197, 0.851926248610663, 0.8520589078914345, 0.8503719837940553, 0.8499740059517407, 0.8521817073607975, 0.8529220895629415, 0.8495733390699508, 0.8502671112545266, 0.8499856584561327, 0.8501030798465454, 0.8473656376608942, 0.8483408626438638, 0.8491018608153168, 0.8491242694776092, 0.8529848338173603, 0.8501272812018212, 0.8454505933813775, 0.8509734322899861, 0.8490543544512568, 0.8491861173855365, 0.8478308414900865, 0.8494577103725217, 0.8512952206805062, 0.8481364956437561, 0.8488338532142985, 0.8492784410741817, 0.8520302248036999, 0.8514018859130185, 0.8478209816786777, 0.8496862787279051, 0.8498171453156933, 0.8532474633394286, 0.8509366820838263, 0.85085421820659, 0.8491386110214765, 0.849710480083181, 0.8483336918719301, 0.8501954035351906, 0.847064465239683, 0.8470994227528593, 0.8506122046538311, 0.8480065254024596, 0.8499184324692554, 0.8487065720124773, 0.850704528342476, 0.8511114696497079, 0.8518124126062172, 0.8475664192750351, 0.8490149152056219, 0.8465938833315407, 0.8511096769567246, 0.8472760030117242, 0.8467677745509304, 0.8493232583987667, 0.8515609874152953, 0.8468838514216055, 0.8518289950163134, 0.8498207307016601, 0.8495598938725752, 0.851839303000968, 0.8530224803700118, 0.8499677315262988, 0.8541312609802445, 0.8492524470259223, 0.84950432039009, 0.8502500806711843, 0.8501631350614894, 0.8490059517407048, 0.8492237639381881, 0.8498852676490624, 0.8514628374744542, 0.8488885303502921, 0.8518186870316591, 0.8493008497364741, 0.8502769710659352, 0.8481185687139221, 0.8500923236886451, 0.848477107310602, 0.8533702628087915, 0.8485618120540677, 0.8492784410741816, 0.8513185256892906, 0.8506579183249077, 0.8484152594026746, 0.8465840235201318, 0.8514216055358359, 0.8516770642859703, 0.8468672690115091, 0.8524860169947295, 0.8536902585063282, 0.8494102040084615, 0.8476892187443978, 0.8480840593739917, 0.8527213079488007, 0.8488069628195476, 0.852729375067226, 0.850074844932057, 0.851773869707074, 0.8509868774873615, 0.8525752034706537, 0.8491502635258685, 0.8500914273421536, 0.8490718332078449, 0.8501801656448316, 0.8490238786705389, 0.8508049191495466, 0.8519571725646266, 0.8524080348499516, 0.8510684450181062, 0.8484457351833925, 0.8480002509770177, 0.8499426338245313, 0.8455666702520527, 0.8510576888602058, 0.8503504714782546, 0.8498413466709691, 0.8484027105517908, 0.8511379118712129, 0.8503863253379226, 0.8488284751353483, 0.8493057796421785, 0.8506937721845758, 0.8494209601663618, 0.8483865763149403, 0.8504042522677566, 0.8485237173281703, 0.8494603994119968, 0.8530574378831881, 0.850773547022337, 0.850035853859668, 0.8466575239324513, 0.8457719335986519, 0.8489181097845183, 0.8457710372521602, 0.8472849664766412, 0.8485237173281704, 0.85017926929834, 0.8497884622279588, 0.8515444050051987, 0.850343748879567, 0.8461914237567674, 0.849226452977663, 0.8487146391309024, 0.850394392456348, 0.8498279014735938, 0.8495706500304758, 0.8524506113083072, 0.8527912229751533, 0.8477429995338999, 0.8493411853286006, 0.8487325660607364, 0.8489539636441863, 0.8537521064142555, 0.8478505611129038, 0.847679358932989, 0.8497929439604175, 0.849071385034599, 0.8494908751927144, 0.8502294647018751, 0.8489145243985514, 0.849749022982324, 0.8470079954107059, 0.8537512100677639, 0.8515677100139829, 0.8525451758631817, 0.8475682119680185, 0.8502993797282277, 0.8487729016528629, 0.85081208992148, 0.8500681223333693, 0.8494689147036678, 0.8470850812089922, 0.8490409092538811, 0.8496338424581407, 0.8519576207378725, 0.8503567459036965, 0.8527222042952924, 0.849734233265211, 0.8503061023269156, 0.8467632928184718, 0.8480665806174035, 0.8495661682980175, 0.8473199239898175, 0.8464863217525367, 0.8463070524541967, 0.846969452511563, 0.8459386540461081, 0.8465096267613209, 0.8461627406690331, 0.8485497113764298, 0.8484538023018177, 0.8513956114875767, 0.8522677566240006, 0.8505682836757377, 0.8497777060700584, 0.8491789466136028, 0.8508793159083576, 0.8496145710085691, 0.8488042737800724, 0.8519029436018788, 0.8479939765515758, 0.850304757807178, 0.8517120217991467, 0.8498019074253342, 0.8488392312932488, 0.8548115879674447, 0.8509438528557599, 0.8480370011831775, 0.850868559750457, 0.8482337492381055, 0.8470779104370585, 0.8466252554587501, 0.8513490014700081, 0.8483690975583522, 0.8497777060700585, 0.8491811874798321, 0.8479868057796421, 0.8511912444874691, 0.847835323222545, 0.8536051055896168, 0.8511518052418343, 0.8497633645261913, 0.8509295113118927, 0.848166075077982, 0.848226130292926, 0.8512468179699545, 0.8514408769854074, 0.8499031945788963, 0.8491457817934102, 0.8508389803162311, 0.8506552292854326, 0.8509671578645441, 0.8485479186834464, 0.8516761679394786, 0.8516349360008605, 0.8483632713061562, 0.8503213402172745, 0.8478156035997275, 0.849701516618264, 0.8484027105517908, 0.8516340396543689, 0.8508905202395038, 0.8447958122691908, 0.8501147323509376, 0.849065110609157, 0.8493151912803414, 0.8501927144957154, 0.8502079523860744, 0.8523627693521207, 0.8523089885626187, 0.8518034491413, 0.8487415295256535, 0.8453524434405364, 0.8498503101358861, 0.8534590011114697, 0.8493035387759493, 0.8503047578071778, 0.8504311426625077, 0.8538417410634255, 0.849065110609157, 0.8486492058370083, 0.8465311390771217, 0.847703560288265, 0.8463321501559643, 0.8494926678856979, 0.8510039080707039, 0.8499453228640064, 0.8498780968771289, 0.8493752464952852, 0.8466700727833352, 0.8464666021297192, 0.8509572980531354, 0.8489772686529706, 0.848871051593704, 0.8511356710049838, 0.8497257179735398, 0.8511347746584919, 0.8490220859775555, 0.8487657308809292, 0.8480692696568786, 0.8502868308773441, 0.8506641927503495, 0.8512889462550645, 0.8500941163816287, 0.8520849019396938, 0.8503988741888064, 0.8499435301710229, 0.8508040228030548, 0.8509510236276935, 0.8504436915133913, 0.8479572263454161, 0.8483632713061562, 0.8452995589975262, 0.8500250977017676, 0.8486778889247428, 0.8492139041267793, 0.8518984618694203, 0.8480558244595031, 0.8505754544476715, 0.8500578143487147, 0.8465490660069557, 0.8536248252124341, 0.8496136746620773, 0.8512315800795955, 0.8513301781936825, 0.8537153562080958, 0.8510953354128571, 0.8533962568570508, 0.8508327058907892, 0.8473826682442365, 0.8485111684772866, 0.848495034240436, 0.8485600193610843, 0.847799469362877, 0.8505145028862358, 0.8518339249220179, 0.8479626044243662, 0.8490328421354558, 0.8494801190348142, 0.8512127568032699, 0.851233372772579, 0.8473817718977448, 0.8506229608117315, 0.8475045713671077, 0.8472007099064215, 0.8457584884012763, 0.8517541500842565, 0.8485990104334733, 0.8504544476712919, 0.8482341974113512, 0.8502491843246925, 0.848366856692123, 0.8506848087196586, 0.8497561937542577, 0.8501891291097486, 0.8492694776092646, 0.8484045032447743, 0.8493447707145675, 0.8490238786705389, 0.8481714531569323, 0.8500080671184254, 0.8490014700082466, 0.8496665591050876, 0.8507439675881109, 0.8494285791115415, 0.8478900003585385, 0.8480513427270446, 0.8469497328887455, 0.853072675773547, 0.848629486214191, 0.847599584095228, 0.8492569287583809, 0.8504024595747732, 0.8455935606468035, 0.8478093291742855, 0.8497239252805564, 0.848542540604496, 0.8498332795525438, 0.8482198558674843, 0.8488840486178337, 0.8481176723674304, 0.8495554121401169, 0.8497077910437059, 0.8477210390448532, 0.8509156179412714, 0.8487881395432217, 0.850457136710767, 0.846407443261267, 0.8510980244523323, 0.8523287081854362, 0.8483986769925782, 0.8463285647699974, 0.8488598472625579, 0.8474140403714461, 0.8512961170269978, 0.8492685812627729, 0.8492900935785737, 0.8520508407730093, 0.852141371768671, 0.8507350041231938, 0.847595998709261, 0.8485658456132803, 0.8488813595783586, 0.8458140618837617, 0.8498485174429027, 0.8490400129073895, 0.8495132838550072, 0.8501093542719873, 0.8488930120827507, 0.8506166863862894, 0.8477896095514681, 0.8484385644114589, 0.8497835323222545, 0.8471487218099027, 0.8524022085977556, 0.8478581800580832, 0.850937578430318, 0.850044817324585, 0.8514135384174106, 0.8496791079559716, 0.8439577282994514, 0.8504006668817897, 0.8499744541249866, 0.8506520920727116, 0.8509250295794342, 0.8502303610483668, 0.8526325696461223, 0.8483543078412391, 0.8481087089025134, 0.8527338567996846, 0.8482610878061023, 0.8496217417805026, 0.8550527051737119, 0.8496428059230577, 0.8497786024165501, 0.8489790613459539, 0.8536830877343945, 0.8465652002438062, 0.8463464916998316, 0.8488257860958732, 0.8506050338818975, 0.8508936574522248, 0.8477438958803916, 0.8505064357678103, 0.8481929654727332, 0.8507188698863433, 0.8505709727152128, 0.8511060915707577, 0.8529364311068087, 0.8468986411387185, 0.8495876806138181, 0.8507125954609014, 0.8479679825033165, 0.8510065971101788, 0.8514269836147862, 0.8514440141981285, 0.8493107095478829, 0.8491296475565594, 0.849979384030691, 0.8495186619339572, 0.8472186368362553, 0.8483372772578968, 0.8512642967265426, 0.851158976013768, 0.8472930335950665, 0.8499749022982325, 0.8490686959951239, 0.850665985443333, 0.8466960668315944, 0.8515910150227671, 0.852356494926679, 0.8454680721379656, 0.8495096984690401, 0.8516376250403357, 0.8483794055430067, 0.8462613387831199, 0.8530421999928293, 0.8487289806747695, 0.8524837761285001, 0.850208848732566, 0.8486940231615933, 0.8500609515614357, 0.8514807644042882, 0.8460462156251121, 0.8484408052776882, 0.849116202359184, 0.8501147323509375, 0.8510218350005379, 0.8497293033595066, 0.8490274640565058, 0.849313398587358, 0.8501738912193897, 0.8482297156788929, 0.8487325660607364, 0.8508309131978058, 0.8498072855042846, 0.8504965759564018, 0.8539277903266287, 0.8497768097235667, 0.8502527697106594, 0.8484914488544691, 0.849334014556667, 0.8518652970492275, 0.8477474812663585, 0.8512593668208381, 0.8487997920476139, 0.849602918504177, 0.8504634111362088, 0.848981750385429, 0.8525518984618694, 0.8509411638162848, 0.849161019683769, 0.8530269621024703, 0.8482046179771252, 0.8517595281632067, 0.8461376429672653, 0.8479885984726256, 0.8497866695349753, 0.8476784625864975, 0.8503908070703812, 0.8499865548026245, 0.8504786490265678, 0.8464325409630347, 0.8492909899250654, 0.8503657093686136, 0.8482090997095839, 0.8537072890896705, 0.8494621921049801, 0.8497158581621314, 0.8492918862715572, 0.8511150550356748, 0.8492013552758955, 0.8514377397726864, 0.84869223046861, 0.8489745796134953, 0.849161019683769, 0.8486097665913735, 0.847384012763974, 0.8520651823168766, 0.8496253271664695, 0.8477833351260264, 0.8491717758416694, 0.8540003943924563, 0.8489423111397941, 0.8472580760818902, 0.8519943709440322, 0.8508434620486895, 0.8490265677100141, 0.851809723566742, 0.8490991717758416, 0.8502106414255495, 0.8493644903373848, 0.8507179735398516, 0.84716306335377, 0.8505906923380303, 0.8505799361801298, 0.8501299702412966, 0.8501156286974292, 0.8506032411889141, 0.8503128249256033, 0.8532277437166111, 0.8507215589258184, 0.8495410705962496, 0.8527759850847945, 0.8504168011186404, 0.8513050804919149, 0.8466171883403248, 0.8488526764906242, 0.8508013337635797, 0.8529525653436594, 0.8511966225664193, 0.8509653651715607, 0.8490570434907319, 0.849818041662185, 0.8505602165573125, 0.8474767846258651, 0.8485640529202968, 0.848405399591266, 0.8500994944605786, 0.8511302929260336, 0.8459709225198093, 0.8497248216270481, 0.847811121867269, 0.8482377827973182, 0.8502671112545266, 0.8484161557491665, 0.8499264995876807, 0.8487083647054604, 0.8520288802839626, 0.8521906708257143, 0.8482458499157435, 0.8501205586031335, 0.852612850023305, 0.849922017855222, 0.8493922770786275, 0.8492228675916963, 0.846198594528701, 0.8506812233336919, 0.846001398300527, 0.8505718690617046, 0.8500501954035351, 0.8482996307052454, 0.8492255566311714, 0.8475449069592343, 0.8509124807285504, 0.8504042522677566, 0.8511643540927181, 0.8507385895091606, 0.8481149833279553, 0.848557778494855, 0.8502742820264602, 0.8485990104334731, 0.8498413466709691, 0.8481786239288659, 0.8517900039439247, 0.8490669033021405, 0.8491556416048187, 0.8522059087160733, 0.8508829012943244, 0.8514063676454771, 0.8478478720734288, 0.8503540568642215, 0.849844932056936, 0.8489234878634684, 0.84824405722276, 0.8492632031838228, 0.847835323222545, 0.8475619375425766, 0.8485999067799648, 0.8499578717148901, 0.8530672976945968, 0.8453076261159513, 0.8545892940375032, 0.8467731526298806, 0.8486904377756266, 0.8520607005844179, 0.8486196264027823, 0.84657774909469, 0.8528674124269479, 0.8480683733103869, 0.85143953246567, 0.8493783837080062, 0.8511195367681332, 0.8536678498440358, 0.8475565594636263, 0.8494666738374386, 0.8486599619949088, 0.8479778423147252, 0.8488858413108171, 0.8477232799110823, 0.8489683051880534, 0.8526800760101825, 0.8538049908572659, 0.8505575275178374, 0.8472392528055646, 0.8501021835000537, 0.8444982252339465, 0.8494577103725217, 0.8481140869814636, 0.8487227062493277, 0.8534455559140941, 0.8486232117887491, 0.8501021835000537, 0.8512584704743466, 0.8484968269334193, 0.8455137858090422, 0.8492963680040158, 0.849429923631279, 0.8496871750743967, 0.8485407479115128, 0.8511544942813094, 0.8498090781972679, 0.8526146427162883, 0.8481042271700548, 0.8511688358251767, 0.8482099960560755, 0.84887149976695, 0.8493698684163349, 0.8511464271628841, 0.8506068265748807, 0.8497364741314402, 0.8491260621705926, 0.8494128930479365, 0.8471406546914776, 0.8519970599835073, 0.8464701875156861, 0.8500197196228174, 0.8509900147000824, 0.8456123839231293, 0.8507161808468682, 0.8480217632928185, 0.8486456204510415, 0.8511195367681332, 0.8498099745437597, 0.8521539206195546, 0.8497051020042307, 0.8453345165107022, 0.8531210784840988, 0.8511948298734359, 0.8523062995231436, 0.8493860026531856, 0.8484125703631997, 0.8489978846222797, 0.8516250761894518, 0.8511491162023592, 0.8465176938797462, 0.8496522175612206, 0.8497082392169518, 0.8487406331791618, 0.8472159477967804, 0.8495061130830734, 0.8502859345308522, 0.850794162991646, 0.8495724427234591, 0.8493367035961422, 0.8522552077731168, 0.8500582625219604, 0.8499919328815746, 0.849208526047829, 0.8502890717435733, 0.847978738661217, 0.8498037001183176, 0.8519607579505933, 0.8499345667061059, 0.8507843031802373, 0.8504132157326736, 0.8485479186834464, 0.8457665555197016, 0.8515175146104477, 0.8504804417195513, 0.8499507009429565, 0.8477878168584848, 0.8494989423111399, 0.8504159047721488, 0.8489252805564519, 0.8498592736008033, 0.850322684737012, 0.846497077910437, 0.8496755225700046, 0.849143092753935, 0.8479912875121007, 0.852045462694059, 0.8492040443153706, 0.8490400129073894, 0.8503092395396364, 0.8492667885697895, 0.8493026424294576, 0.8504145602524111, 0.8490866229249578, 0.851320318382274, 0.8503334408949126, 0.8491950808504536, 0.84833369187193, 0.8504472768993583, 0.8493797282277438, 0.8469434584633035, 0.8483829909289735, 0.8515605392420494, 0.8518841203255532, 0.84946219210498, 0.8471935391344878, 0.8486980567208059, 0.8502402208597756, 0.850782510487254, 0.8501864400702736, 0.8473786346850238, 0.8481445627621813, 0.850021064142555, 0.8502151231580081, 0.8530094833458821, 0.8495509304076583, 0.8493411853286006, 0.8482449535692518, 0.8490086407801799, 0.848629486214191, 0.8506274425441898, 0.8504284536230327, 0.8504593775769962, 0.8500286830877345, 0.8486070775518985, 0.8481651787314903, 0.8500582625219605, 0.8506776379477251, 0.851132085619017, 0.8505709727152126, 0.851006597110179, 0.8484842780825355, 0.8488275787888567, 0.8524362697644401, 0.8490480800258147, 0.8534858915062207, 0.8479948728980675, 0.8494290272847873, 0.8490516654117816, 0.8494541249865548, 0.8527266860277509, 0.8527428202646015, 0.8484573876877846, 0.8483955397798573, 0.8526926248610663, 0.8501461044781471, 0.8504266609300491, 0.8471110752572515, 0.8495410705962496, 0.8487433222186367, 0.8495383815567746, 0.8530197913305367, 0.8481087089025134, 0.8513149403033238, 0.8491377146749848, 0.8533630920368579, 0.8455828044889032, 0.8510818902154816, 0.8517469793123229, 0.8499946219210498, 0.84950432039009, 0.8504885088379766, 0.8511786956365853, 0.8495356925172995, 0.8460498010110789, 0.8485093757843032, 0.8489423111397942, 0.85044817324585, 0.8488428166792156, 0.8511751102506185, 0.8497606754867162, 0.8482485389552185, 0.8504669965221756, 0.8494442651751459, 0.8479868057796421, 0.8516672044745617, 0.8485837725431142, 0.849659388333154, 0.8513664802265964, 0.8510460363558137, 0.8518617116632605, 0.8470877702484674, 0.8508255351188555, 0.8486985048940519, 0.8471908500950127, 0.8506928758380841, 0.8506704671757914, 0.8506776379477252, 0.8530861209709224, 0.8498996091929296, 0.8497382668244237, 0.8519952672905239, 0.8458015130328781, 0.8507009429565093, 0.8484600767272596, 0.850659711017891, 0.8507278333512602, 0.8475700046610019, 0.8474256928758381, 0.8497669499121581, 0.8489736832670038, 0.8454501452081318, 0.8506606073643828, 0.8517416012333727, 0.854736294862142, 0.8511092287834785, 0.851367824746334, 0.8450324477429996, 0.8476408160338461, 0.8483668566921229, 0.8523161593345523, 0.8537745150765479, 0.8516788569789537, 0.8495876806138181, 0.8485183392492203, 0.8505924850310136, 0.8493913807321359, 0.8460704169803879, 0.8501810619913234, 0.8481660750779823, 0.8511365673514754, 0.8462353447348607, 0.8498996091929296, 0.8540290774801907, 0.849964146140332, 0.8510953354128572, 0.8510307984654548, 0.8488983901617009, 0.8504490695923416, 0.847336058226668, 0.8508649743644903, 0.8478693843892294, 0.8512835681761142, 0.848387472661432, 0.8476435050733211, 0.8505718690617043, 0.8487002975870352, 0.8518312358825427, 0.8494630884514718, 0.8495079057760568, 0.8503979778423149, 0.8510603778996809, 0.8519056326413539, 0.8492165931662543, 0.846918360761536, 0.8491708794951778, 0.8500152378903589, 0.8475888279373274, 0.8500233050087842, 0.8489046645871429, 0.8469389767308452, 0.848542540604496, 0.8512925316410312, 0.8507054246889678, 0.8497095837366893, 0.8497839804955003, 0.8506319242766485, 0.8498476210964111, 0.8491099279337422, 0.849438887096196, 0.8533003477824388, 0.8512602631673301, 0.8499148470832886, 0.847440930766197, 0.8475933096697859, 0.8487047793194937, 0.848596321393998, 0.8527159298698505, 0.8478747624681797, 0.8490014700082464, 0.8483050087841957, 0.850528396256857, 0.8484058477645119, 0.8528333512602633, 0.8464531569323437, 0.8473992506543329, 0.8479957692445591, 0.8500277867412427, 0.8499955182675414, 0.8498368649385106, 0.8487155354773942, 0.8508389803162311, 0.8492300383636299, 0.8508631816715069, 0.8498852676490625, 0.8519724104549855, 0.8507206625793267, 0.8512217202681868, 0.8528943028216988, 0.8504517586318168, 0.8523941414793302, 0.8483068014771791, 0.848438564411459, 0.8502868308773439, 0.8486375533326161, 0.8505364633752822, 0.8455913197805743, 0.8497777060700584, 0.8482906672403284, 0.8540380409451076, 0.8509196515004841, 0.8508246387723638, 0.8486563766089419, 0.8497848768419921, 0.8527697106593524, 0.8470250259940482, 0.8488948047757341, 0.8496324979384031, 0.8521601950449966, 0.8506901867986087, 0.8481378401634936, 0.8510021153777204, 0.8510532071277473, 0.8484430461439174, 0.8462469972392528, 0.8512737083647055, 0.8488419203327238, 0.8497445412498656, 0.8484331863325087, 0.8463290129432433, 0.8516976802552795, 0.8516205944569932, 0.8472562833889068, 0.849680004302463, 0.8479079272883727, 0.8491977698899287, 0.8492614104908394, 0.8485613638808217, 0.8474122476784627, 0.8519244559176795, 0.8500779821447779, 0.849569753683984, 0.8522005306371232, 0.8509366820838262, 0.8486859560431681, 0.8518473701193934, 0.8483982288193325, 0.8446837689577283, 0.8464966297371912, 0.8490444946398479, 0.8525241117206266, 0.8490400129073896, 0.8525743071241619, 0.8478164999462192, 0.8477914022444517, 0.851684235057904, 0.8486447241045499, 0.8531031515542647, 0.8481463554551647, 0.8508909684127496, 0.8493331182101753, 0.849659388333154, 0.8522874762468179, 0.8496656627585959, 0.8473109605249005, 0.8499507009429565, 0.8475305654153671, 0.8495885769603098, 0.8514287763077696, 0.8521521279265714, 0.8493465634075508, 0.8510751676167939, 0.8509402674697932, 0.8493322218636836, 0.8488033774335806, 0.8532384998745115, 0.8497364741314404, 0.8489808540389372, 0.8457719335986519, 0.8479545373059412, 0.8482297156788927, 0.8473118568713922, 0.8514511849700621, 0.8512647448997885, 0.8479473665340074, 0.8514789717113048, 0.8503612276361551, 0.8485335771395791, 0.851558746549066, 0.8488006883941057, 0.8510137678821126, 0.8479321286436485, 0.8472894482090997, 0.8509124807285504, 0.8521489907138503, 0.8511267075400667, 0.8523197447205193, 0.8495661682980173, 0.850481338066043, 0.8533783299272165, 0.8502626295220681, 0.8492282456706465, 0.8495204546269406, 0.8510487253952888, 0.8473943207486285, 0.8484448388369008, 0.8491959771969453, 0.8482539170341687, 0.8504705819081423, 0.8487074683589688, 0.8483502742820265, 0.8518921874439783, 0.8486778889247426, 0.8457540066688178, 0.8492148004732709, 0.8508712487899323, 0.8483623749596644, 0.8475937578430317, 0.8497275106665232, 0.852239521709512, 0.8495706500304757, 0.8484125703631997, 0.8531730665806174, 0.8518644007027357, 0.8508613889785235, 0.8520651823168764, 0.847420314796888, 0.8486115592843569, 0.8496244308199777, 0.8467417805026711]\n"
     ]
    }
   ],
   "source": [
    "t_42 = auc_bootstrap\n",
    "print(t_42)"
   ]
  },
  {
   "cell_type": "code",
   "execution_count": 70,
   "id": "aa5d9610",
   "metadata": {},
   "outputs": [],
   "source": [
    "del X_train, X_test, y_train, y_test, X_val, y_val,study, optuna_auc"
   ]
  },
  {
   "cell_type": "code",
   "execution_count": null,
   "id": "4f1b5945",
   "metadata": {},
   "outputs": [],
   "source": [
    "# 43.\n",
    "column_to_drop_42 = 'Cat_남편/아내의 부모님과 동거 의향'"
   ]
  },
  {
   "cell_type": "code",
   "execution_count": null,
   "id": "3e135344",
   "metadata": {},
   "outputs": [],
   "source": [
    "if not column_to_drop_42.startswith('Cat_'):\n",
    "    comp_43 = comp_42.drop(column_to_drop_42, axis=1)\n",
    "    X_43 = comp_43.drop('target', axis=1)\n",
    "    y_43 = comp_43['target']\n",
    "else:\n",
    "    comp_43 = comp_42.drop(comp_42.filter(regex='^' + column_to_drop_42).columns, axis=1)\n",
    "    X_43 = comp_43.drop('target', axis=1)\n",
    "    y_43 = comp_43['target']\n",
    "\n",
    "print(X_43.shape)"
   ]
  },
  {
   "cell_type": "code",
   "execution_count": 72,
   "id": "00599d2a",
   "metadata": {},
   "outputs": [],
   "source": [
    "comp_43 = comp[[\n",
    "    '현재 주택 거주 기간(총 개월)','현재 주택의 면적(㎡)','총 이사 횟수','가구주 나이','소득 대비 주택 임대료의 비율',\n",
    "    '소득 중 사적이전소득의 비중(월평균)','장기부채부담지표','target',\n",
    "    'Cat_현재 주택의 유형_고시원','Cat_현재 주택의 유형_기타','Cat_현재 주택의 유형_다가구 단독주택',\n",
    "    'Cat_현재 주택의 유형_다세대주택','Cat_현재 주택의 유형_비거주용 건물 내 주택','Cat_현재 주택의 유형_아파트',\n",
    "    'Cat_현재 주택의 유형_연립주택','Cat_현재 주택의 유형_영업겸용 단독주택','Cat_현재 주택의 유형_오피스텔',\n",
    "    'Cat_현재 주택의 유형_일반 단독주택','Cat_현재 주택의 유형_판잣집 비닐하우스 컨테이너 움막',\n",
    "    'Cat_현재 주택의 점유형태_무상','Cat_현재 주택의 점유형태_보증금 없는 월세(사글세, 연세, 일세 포함)',\n",
    "    'Cat_현재 주택의 점유형태_보증금 있는 월세','Cat_현재 주택의 점유형태_전세',\n",
    "    'Cat_현재 의료시설 접근용이성_대체로 만족','Cat_현재 의료시설 접근용이성_매우 만족','Cat_현재 의료시설 접근용이성_매우 불만족','Cat_현재 의료시설 접근용이성_약간 불만족',\n",
    "    'Cat_이사 계획 중인 거주 지역_국내 to 국외','Cat_이사 계획 중인 거주 지역_비수도권 to 비수도권',\n",
    "    'Cat_이사 계획 중인 거주 지역_비수도권 to 수도권','Cat_이사 계획 중인 거주 지역_비수도권 to 이사 계획 없음 및 모름',\n",
    "    'Cat_이사 계획 중인 거주 지역_수도권 to 비수도권','Cat_이사 계획 중인 거주 지역_수도권 to 수도권',\n",
    "    'Cat_이사 계획 중인 거주 지역_수도권 to 이사 계획 없음 및 모름',\n",
    "    'Cat_현재 가장 필요한 주거지원 1순위_공공분양주택공급','Cat_현재 가장 필요한 주거지원 1순위_없음',\n",
    "    'Cat_현재 가장 필요한 주거지원 1순위_월세보조금 지원','Cat_현재 가장 필요한 주거지원 1순위_임대 후 분양전환 공공임대주택 공급',\n",
    "    'Cat_현재 가장 필요한 주거지원 1순위_장기공공임대주택 공급','Cat_현재 가장 필요한 주거지원 1순위_전세자금 대출 지원',\n",
    "    'Cat_현재 가장 필요한 주거지원 1순위_주거상담과 정보제공 등','Cat_현재 가장 필요한 주거지원 1순위_주택 구입자금 대출 지원',\n",
    "    'Cat_현재 가장 필요한 주거지원 1순위_주택개량 및 개보수 지원', \n",
    "    'Cat_기초생활보장 수급가구 여부_아니오','Cat_기초생활보장 수급가구 여부_예'\n",
    "]]"
   ]
  },
  {
   "cell_type": "code",
   "execution_count": null,
   "id": "b525e684",
   "metadata": {},
   "outputs": [],
   "source": []
  },
  {
   "cell_type": "code",
   "execution_count": 73,
   "id": "157847df",
   "metadata": {},
   "outputs": [
    {
     "data": {
      "text/plain": [
       "(10564, 44)"
      ]
     },
     "execution_count": 73,
     "metadata": {},
     "output_type": "execute_result"
    }
   ],
   "source": [
    "X_43 = comp_43.drop('target', axis=1)\n",
    "y_43 = comp_43['target']\n",
    "X_43.shape"
   ]
  },
  {
   "cell_type": "code",
   "execution_count": 39,
   "id": "bdea26d7",
   "metadata": {},
   "outputs": [],
   "source": [
    "X_train, X_test, y_train, y_test = train_test_split(X_43, y_43, test_size=0.2, shuffle=True, stratify=y_43, random_state = 0)\n",
    "X_train, X_val, y_train, y_val = train_test_split(X_train, y_train, test_size=0.2, shuffle=True, stratify=y_train, random_state = 0)"
   ]
  },
  {
   "cell_type": "code",
   "execution_count": 40,
   "id": "e28d6147",
   "metadata": {},
   "outputs": [],
   "source": [
    "def objective(trial):\n",
    "    params = {\n",
    "        'learning_rate' :trial.suggest_float('learning_rate',0.01, 0.1,step=0.01),        \n",
    "        'n_estimators' :trial.suggest_int('n_estimators', 50, 200),\n",
    "        'subsample':trial.suggest_float('subsample', 0.1, 1.0,step=0.1),\n",
    "        'max_depth' :trial.suggest_int('max_depth', 1, 10),\n",
    "        'min_samples_split' :trial.suggest_int('min_samples_split', 3, 10),\n",
    "        'min_samples_leaf' :trial.suggest_int('min_samples_leaf', 3, 10),\n",
    "        }\n",
    "        \n",
    "    clf = GradientBoostingClassifier(**params,random_state = 0)\n",
    "    clf.fit(X_train, y_train)\n",
    "    clf_proba = clf.predict_proba(X_val)[:, 1]\n",
    "        \n",
    "    AUC_SCORE = roc_auc_score(y_val, clf_proba)\n",
    "    return AUC_SCORE\n",
    "\n",
    "direction = \"maximize\"\n",
    "sampler = optuna.samplers.TPESampler(seed=10)\n",
    "study =  optuna.create_study(direction=direction, sampler=sampler, pruner=optuna.pruners.HyperbandPruner())\n",
    "early_stopping = EarlyStoppingCallback(10, direction=direction)\n",
    "study.optimize(objective, callbacks=[early_stopping], n_trials=200) "
   ]
  },
  {
   "cell_type": "code",
   "execution_count": 41,
   "id": "203fccdb",
   "metadata": {},
   "outputs": [
    {
     "name": "stdout",
     "output_type": "stream",
     "text": [
      "{'learning_rate': 0.09999999999999999, 'n_estimators': 157, 'subsample': 0.6, 'max_depth': 2, 'min_samples_split': 5, 'min_samples_leaf': 8}\n",
      "0.8460522190872856\n"
     ]
    }
   ],
   "source": [
    "print(study.best_trial.params)\n",
    "optuna_auc = study.best_trial.value\n",
    "print(optuna_auc)"
   ]
  },
  {
   "cell_type": "code",
   "execution_count": 42,
   "id": "02b06c83",
   "metadata": {},
   "outputs": [
    {
     "data": {
      "text/html": [
       "<style>#sk-container-id-2 {color: black;}#sk-container-id-2 pre{padding: 0;}#sk-container-id-2 div.sk-toggleable {background-color: white;}#sk-container-id-2 label.sk-toggleable__label {cursor: pointer;display: block;width: 100%;margin-bottom: 0;padding: 0.3em;box-sizing: border-box;text-align: center;}#sk-container-id-2 label.sk-toggleable__label-arrow:before {content: \"▸\";float: left;margin-right: 0.25em;color: #696969;}#sk-container-id-2 label.sk-toggleable__label-arrow:hover:before {color: black;}#sk-container-id-2 div.sk-estimator:hover label.sk-toggleable__label-arrow:before {color: black;}#sk-container-id-2 div.sk-toggleable__content {max-height: 0;max-width: 0;overflow: hidden;text-align: left;background-color: #f0f8ff;}#sk-container-id-2 div.sk-toggleable__content pre {margin: 0.2em;color: black;border-radius: 0.25em;background-color: #f0f8ff;}#sk-container-id-2 input.sk-toggleable__control:checked~div.sk-toggleable__content {max-height: 200px;max-width: 100%;overflow: auto;}#sk-container-id-2 input.sk-toggleable__control:checked~label.sk-toggleable__label-arrow:before {content: \"▾\";}#sk-container-id-2 div.sk-estimator input.sk-toggleable__control:checked~label.sk-toggleable__label {background-color: #d4ebff;}#sk-container-id-2 div.sk-label input.sk-toggleable__control:checked~label.sk-toggleable__label {background-color: #d4ebff;}#sk-container-id-2 input.sk-hidden--visually {border: 0;clip: rect(1px 1px 1px 1px);clip: rect(1px, 1px, 1px, 1px);height: 1px;margin: -1px;overflow: hidden;padding: 0;position: absolute;width: 1px;}#sk-container-id-2 div.sk-estimator {font-family: monospace;background-color: #f0f8ff;border: 1px dotted black;border-radius: 0.25em;box-sizing: border-box;margin-bottom: 0.5em;}#sk-container-id-2 div.sk-estimator:hover {background-color: #d4ebff;}#sk-container-id-2 div.sk-parallel-item::after {content: \"\";width: 100%;border-bottom: 1px solid gray;flex-grow: 1;}#sk-container-id-2 div.sk-label:hover label.sk-toggleable__label {background-color: #d4ebff;}#sk-container-id-2 div.sk-serial::before {content: \"\";position: absolute;border-left: 1px solid gray;box-sizing: border-box;top: 0;bottom: 0;left: 50%;z-index: 0;}#sk-container-id-2 div.sk-serial {display: flex;flex-direction: column;align-items: center;background-color: white;padding-right: 0.2em;padding-left: 0.2em;position: relative;}#sk-container-id-2 div.sk-item {position: relative;z-index: 1;}#sk-container-id-2 div.sk-parallel {display: flex;align-items: stretch;justify-content: center;background-color: white;position: relative;}#sk-container-id-2 div.sk-item::before, #sk-container-id-2 div.sk-parallel-item::before {content: \"\";position: absolute;border-left: 1px solid gray;box-sizing: border-box;top: 0;bottom: 0;left: 50%;z-index: -1;}#sk-container-id-2 div.sk-parallel-item {display: flex;flex-direction: column;z-index: 1;position: relative;background-color: white;}#sk-container-id-2 div.sk-parallel-item:first-child::after {align-self: flex-end;width: 50%;}#sk-container-id-2 div.sk-parallel-item:last-child::after {align-self: flex-start;width: 50%;}#sk-container-id-2 div.sk-parallel-item:only-child::after {width: 0;}#sk-container-id-2 div.sk-dashed-wrapped {border: 1px dashed gray;margin: 0 0.4em 0.5em 0.4em;box-sizing: border-box;padding-bottom: 0.4em;background-color: white;}#sk-container-id-2 div.sk-label label {font-family: monospace;font-weight: bold;display: inline-block;line-height: 1.2em;}#sk-container-id-2 div.sk-label-container {text-align: center;}#sk-container-id-2 div.sk-container {/* jupyter's `normalize.less` sets `[hidden] { display: none; }` but bootstrap.min.css set `[hidden] { display: none !important; }` so we also need the `!important` here to be able to override the default hidden behavior on the sphinx rendered scikit-learn.org. See: https://github.com/scikit-learn/scikit-learn/issues/21755 */display: inline-block !important;position: relative;}#sk-container-id-2 div.sk-text-repr-fallback {display: none;}</style><div id=\"sk-container-id-2\" class=\"sk-top-container\"><div class=\"sk-text-repr-fallback\"><pre>GradientBoostingClassifier(learning_rate=0.09999999999999999, max_depth=2,\n",
       "                           min_samples_leaf=8, min_samples_split=5,\n",
       "                           n_estimators=157, random_state=0, subsample=0.6)</pre><b>In a Jupyter environment, please rerun this cell to show the HTML representation or trust the notebook. <br />On GitHub, the HTML representation is unable to render, please try loading this page with nbviewer.org.</b></div><div class=\"sk-container\" hidden><div class=\"sk-item\"><div class=\"sk-estimator sk-toggleable\"><input class=\"sk-toggleable__control sk-hidden--visually\" id=\"sk-estimator-id-2\" type=\"checkbox\" checked><label for=\"sk-estimator-id-2\" class=\"sk-toggleable__label sk-toggleable__label-arrow\">GradientBoostingClassifier</label><div class=\"sk-toggleable__content\"><pre>GradientBoostingClassifier(learning_rate=0.09999999999999999, max_depth=2,\n",
       "                           min_samples_leaf=8, min_samples_split=5,\n",
       "                           n_estimators=157, random_state=0, subsample=0.6)</pre></div></div></div></div></div>"
      ],
      "text/plain": [
       "GradientBoostingClassifier(learning_rate=0.09999999999999999, max_depth=2,\n",
       "                           min_samples_leaf=8, min_samples_split=5,\n",
       "                           n_estimators=157, random_state=0, subsample=0.6)"
      ]
     },
     "execution_count": 42,
     "metadata": {},
     "output_type": "execute_result"
    }
   ],
   "source": [
    "optuna_43 = GradientBoostingClassifier(**study.best_trial.params, random_state = 0)\n",
    "optuna_43.fit(X_train, y_train)"
   ]
  },
  {
   "cell_type": "code",
   "execution_count": 43,
   "id": "b40db420",
   "metadata": {},
   "outputs": [
    {
     "name": "stdout",
     "output_type": "stream",
     "text": [
      "0.8533048295148973\n"
     ]
    }
   ],
   "source": [
    "optuna_proba_43 = optuna_43.predict_proba(X_test)[:, 1]\n",
    "auc_43 = roc_auc_score(y_test, optuna_proba_43)\n",
    "print(auc_43)"
   ]
  },
  {
   "cell_type": "code",
   "execution_count": 44,
   "id": "cf5d24fc",
   "metadata": {},
   "outputs": [],
   "source": [
    "X_train = X_train.values\n",
    "y_train = y_train.values"
   ]
  },
  {
   "cell_type": "code",
   "execution_count": 45,
   "id": "d9d04705",
   "metadata": {},
   "outputs": [],
   "source": [
    "auc_bootstrap = []"
   ]
  },
  {
   "cell_type": "code",
   "execution_count": 46,
   "id": "00db46fc",
   "metadata": {},
   "outputs": [
    {
     "data": {
      "text/plain": [
       "array([0.84610122, 0.85312209])"
      ]
     },
     "execution_count": 46,
     "metadata": {},
     "output_type": "execute_result"
    }
   ],
   "source": [
    "rs = RandomState(seed = 43)\n",
    "bootstrap_auc(optuna_43, X_train, y_train, X_test, y_test, nsamples=2000)"
   ]
  },
  {
   "cell_type": "code",
   "execution_count": 47,
   "id": "3d0fc59a",
   "metadata": {},
   "outputs": [
    {
     "data": {
      "text/plain": [
       "0.8496291155749167"
      ]
     },
     "execution_count": 47,
     "metadata": {},
     "output_type": "execute_result"
    }
   ],
   "source": [
    "np.mean(auc_bootstrap)"
   ]
  },
  {
   "cell_type": "code",
   "execution_count": 48,
   "id": "81c3bb67",
   "metadata": {
    "scrolled": true
   },
   "outputs": [
    {
     "name": "stdout",
     "output_type": "stream",
     "text": [
      "[0.8475090530995661, 0.848492345200961, 0.8507143881538848, 0.8493671793768599, 0.8492156968197626, 0.8472544906959235, 0.8509725359434942, 0.8487899322362052, 0.8515210999964148, 0.8480235559858019, 0.8468013875443692, 0.8500779821447779, 0.8481862428740453, 0.8471684414327203, 0.8501720985264062, 0.8446810799182531, 0.8469622817396293, 0.8500098598114088, 0.8469923093471012, 0.8461268868093651, 0.8504289017962784, 0.8488939084292425, 0.8498193861819225, 0.8487827614642718, 0.8493860026531856, 0.8487504929905705, 0.8482279229859095, 0.849925155067943, 0.8494872898067477, 0.8486841633501846, 0.8455586031336273, 0.8514565630490122, 0.8491466781399017, 0.85194059015453, 0.8503244774299954, 0.8524631601591912, 0.8498556882148363, 0.8500735004123194, 0.8516645154350866, 0.8488365422537737, 0.8490310494424725, 0.85067494890825, 0.8510868201211861, 0.850098598114087, 0.8492246602846796, 0.8472652468538238, 0.8496459431357786, 0.8503567459036965, 0.8495231436664157, 0.8468188663009573, 0.848091678319171, 0.8519638951633144, 0.8499605607543652, 0.8502671112545266, 0.8507690652898784, 0.8488535728371158, 0.8494774299953389, 0.8467892868667312, 0.8483758201570399, 0.8474740955863899, 0.8446461224050769, 0.8500578143487145, 0.8498897493815208, 0.8507798214477789, 0.8494155820874116, 0.8476354379548959, 0.8461542253773617, 0.8498879566885376, 0.8489575490301532, 0.8493662830303681, 0.850421282851099, 0.8497812914560253, 0.8491126169732173, 0.8482144777885339, 0.8448092574665663, 0.8468654763185257, 0.8506901867986089, 0.8493322218636835, 0.851794485676383, 0.8525895450145207, 0.84991036535083, 0.8495419669427413, 0.8517106772794091, 0.8480307267577354, 0.8533657810763329, 0.8502164676777456, 0.8494854971137643, 0.8490435982933563, 0.8484636621132264, 0.8477788533935677, 0.8508282241583306, 0.8485927360080313, 0.8458678426732638, 0.851986303825607, 0.8490821411924994, 0.8523197447205191, 0.8506404395683196, 0.8494119967014448, 0.8487325660607364, 0.851827650496576, 0.8477564447312753, 0.8479491592269908, 0.8464415044279516, 0.847485748090782, 0.8498650998529993, 0.8514789717113046, 0.8511993116058943, 0.8493842099602021, 0.8503800509124807, 0.8512405435445125, 0.8501900254562405, 0.850534222509053, 0.8511930371804526, 0.8505682836757377, 0.8491233731311175, 0.8527836040299739, 0.8509008282241584, 0.851003011724212, 0.849955182675415, 0.8511464271628841, 0.8510406582768635, 0.8474221074898712, 0.8512262020006455, 0.8484457351833925, 0.8493591122584346, 0.8499757986447243, 0.8491251658241008, 0.8495177655874656, 0.8473011007134917, 0.8496468394822703, 0.8523313972249114, 0.8487074683589688, 0.85252052633466, 0.8517864185579578, 0.8500941163816285, 0.8516564483166613, 0.8444184503961851, 0.8476408160338461, 0.8523842816679215, 0.8461887347172923, 0.847470510200423, 0.8488356459072819, 0.8538587716467678, 0.8485918396615395, 0.8522955433652432, 0.8485380588720377, 0.849241690868022, 0.8489566526836614, 0.847736725108458, 0.8528423147251802, 0.8512701229787387, 0.8498485174429028, 0.8501980925746657, 0.8461708077874583, 0.8502823491448854, 0.8516501738912194, 0.8489118353590763, 0.852310781255602, 0.8462434118532861, 0.851328385500699, 0.847602273134703, 0.8495267290523826, 0.8515479903911656, 0.8510998171453158, 0.8505951740704887, 0.8491879100785199, 0.8513239037682407, 0.8485290954071205, 0.8505736617546877, 0.8530404072998459, 0.8487917249291885, 0.8527957047076118, 0.8469085009501273, 0.8519782367071815, 0.8481687641174572, 0.849850310135886, 0.8528978882076655, 0.8492448280807429, 0.8485344734860707, 0.8507636872109282, 0.849286508192607, 0.8514368434261949, 0.8506399913950736, 0.8520902800186438, 0.8481929654727332, 0.8466485604675342, 0.8510935427198738, 0.8476049621741781, 0.8496558029471873, 0.852209942275286, 0.8473450216915852, 0.8472293929941558, 0.8486097665913735, 0.8512701229787387, 0.8478043992685814, 0.8477313470295077, 0.847536839840809, 0.8478837259330968, 0.8478380122620199, 0.8498440357104443, 0.8503110322326198, 0.8503639166756302, 0.8496889677673801, 0.8480199705998351, 0.8487047793194937, 0.8520176759528163, 0.8513427270445664, 0.8501236958158547, 0.8532178839052024, 0.8492452762539886, 0.8504459323796206, 0.8501667204474561, 0.8504275572765407, 0.8495751317629343, 0.8487585601089956, 0.847082392169517, 0.8497929439604175, 0.8484134667096912, 0.8508909684127497, 0.8493824172672189, 0.8516645154350866, 0.8497149618156394, 0.8488885303502922, 0.8512674339392636, 0.8527715033523359, 0.8493510451400093, 0.8488428166792156, 0.8473772901652863, 0.8490292567494891, 0.8493116058943746, 0.8509985299917535, 0.8481355992972643, 0.8459718188663009, 0.8495141802014986, 0.8515318561543151, 0.8483569968807143, 0.847999354630526, 0.8472625578143487, 0.846548169660464, 0.8535033702628088, 0.8525178372951849, 0.8490158115521136, 0.8520293284572084, 0.8466279444982252, 0.848820408016923, 0.8505673873292459, 0.8510792011760067, 0.8511616650532429, 0.850247391631709, 0.8485228209816787, 0.8494523322935714, 0.8479509519199743, 0.8463124305331469, 0.8496307052454196, 0.8491816356530781, 0.849943530171023, 0.8511258111935749, 0.8473566741959772, 0.8448504894051845, 0.8491439891004267, 0.8500242013552759, 0.8525196299881681, 0.8513239037682405, 0.8485461259904629, 0.8497077910437059, 0.8496419095765659, 0.8484475278763759, 0.8498780968771289, 0.8483381736043885, 0.8471684414327203, 0.8500869456096949, 0.8466351152701589, 0.8487948621419096, 0.8468627872790506, 0.8469255315334696, 0.8519737549747232, 0.8485147538632534, 0.8524048976372307, 0.8522390735362662, 0.8510917500268903, 0.850827327811839, 0.8459019038399485, 0.8509662615180524, 0.8504804417195511, 0.8495424151159873, 0.8516205944569932, 0.8486259008282242, 0.8521745365888638, 0.8512378545050374, 0.8527661252733857, 0.8501667204474561, 0.8523753182030045, 0.8492183858592377, 0.8502572514431179, 0.8493017460829658, 0.8504392097809328, 0.845437596357248, 0.8504024595747732, 0.8484125703631996, 0.8491861173855365, 0.8493564232189597, 0.8514753863253379, 0.8494630884514719, 0.8487065720124771, 0.8513758918647591, 0.8466270481517336, 0.852003334408949, 0.848008318095443, 0.8551629557921909, 0.8482745330034778, 0.8503917034168729, 0.8465167975332545, 0.8467292316517874, 0.84829156358682, 0.8499968627872789, 0.8513373489656162, 0.8498180416621849, 0.8508497364741314, 0.8523233301064861, 0.8506857050661505, 0.849217489512746, 0.8499067799648631, 0.8524389588039152, 0.8507251443117853, 0.8486769925782511, 0.8500044817324586, 0.8531658958086838, 0.8480253486787853, 0.8520714567423183, 0.8511948298734359, 0.8498279014735937, 0.8536409594492849, 0.8525931304004877, 0.8503710874475637, 0.8511441862966549, 0.850217812197483, 0.8493537341794845, 0.8488338532142985, 0.8501389337062135, 0.8506525402459575, 0.8512835681761142, 0.8511455308163924, 0.8506068265748807, 0.8492757520347064, 0.8482646731920691, 0.8504759599870925, 0.8489046645871428, 0.8478729697751963, 0.8532716646947044, 0.8506063784016349, 0.8503603312896634, 0.8482404718367933, 0.8480979527446129, 0.8494908751927145, 0.8508703524434407, 0.8492578251048726, 0.8471437919041984, 0.8492990570434907, 0.8498870603420458, 0.8488759814994086, 0.8522829945143595, 0.8488634326485247, 0.8504329353554911, 0.8438313434441218, 0.852144060808146, 0.8496701444910544, 0.8487370477931948, 0.8515246853823815, 0.8492094223943207, 0.8492273493241548, 0.8487379441396867, 0.8508174680004301, 0.8497490229823241, 0.8535567028790649, 0.8501954035351906, 0.8500721558925818, 0.8500457136710767, 0.8510245240400127, 0.8480889892796961, 0.8501102506184791, 0.8473253020687677, 0.8497965293463842, 0.8485120648237783, 0.8490848302319745, 0.8501676167939479, 0.8494523322935712, 0.8491708794951776, 0.8503190993510452, 0.8531219748305905, 0.8512880499085728, 0.8518984618694204, 0.8480387938761609, 0.8478250152378902, 0.8517281560359973, 0.8479124090208311, 0.8506086192678641, 0.8464468825069018, 0.8546601054103474, 0.8492560324118892, 0.8478460793804454, 0.8495141802014986, 0.8470142698361478, 0.8503701911010721, 0.8516304542684021, 0.8459108673048654, 0.8501936108422071, 0.8516286615754185, 0.8517057473737047, 0.8464881144455201, 0.8470922519809256, 0.8506677781363163, 0.8491448854469184, 0.8528790649313399, 0.8479294396041734, 0.8505539421318706, 0.8498099745437595, 0.8481759348893909, 0.8488239934028898, 0.851179591983077, 0.8486151446703238, 0.8495105948155319, 0.851791796636908, 0.8479962174178051, 0.8518563335843103, 0.8497113764296726, 0.8492726148219857, 0.849071385034599, 0.8507860958732207, 0.8485219246351869, 0.8498314868595606, 0.8492811301136567, 0.846312430533147, 0.8511670431321933, 0.8506677781363163, 0.848411674016708, 0.8469730378975296, 0.8524658491986662, 0.8486025958194399, 0.8480047327094762, 0.8510433473163387, 0.8495509304076584, 0.8487415295256535, 0.850122351296117, 0.8492103187408124, 0.8519459682334805, 0.8489745796134953, 0.8488795668853752, 0.8491914954644868, 0.8510137678821126, 0.8492443799074971, 0.851146427162884, 0.847420314796888, 0.8484896561614858, 0.85084884012764, 0.8483641676526479, 0.8467525366605715, 0.8499937255745581, 0.8482064106701086, 0.8495769244559177, 0.8516815460184288, 0.8498798895701122, 0.8494254418988204, 0.8497194435480979, 0.8502742820264602, 0.8491511598723602, 0.849342978021584, 0.8499919328815746, 0.8502671112545267, 0.8521395790756875, 0.8516546556236779, 0.847587035244344, 0.8480603061919615, 0.8498969201534546, 0.8497122727761643, 0.8499784876841991, 0.8491170987056758, 0.8484690401921766, 0.8501613423685059, 0.8490328421354558, 0.8484663511527016, 0.8497127209494102, 0.8473019970599835, 0.8485981140869814, 0.8493900362123982, 0.849701516618264, 0.8489302104621562, 0.8493824172672187, 0.8476641210426303, 0.8487209135563443, 0.8491233731311175, 0.8489360367143524, 0.8467301279982791, 0.849737370477932, 0.849620845434011, 0.8516017711806676, 0.8490673514753864, 0.8489154207450432, 0.8521673658169302, 0.8492690294360188, 0.8461914237567674, 0.8491502635258685, 0.8518088272202502, 0.8532976587429637, 0.8479715678892834, 0.8541482915635867, 0.8496163637015525, 0.8478559391918541, 0.847100319099351, 0.8499542863289232, 0.8511652504392098, 0.8490283604029973, 0.850295794342261, 0.8496880714208885, 0.8488195116704313, 0.8495240400129074, 0.849351941486501, 0.8486873005629056, 0.8518859130185363, 0.8480567208059948, 0.8524479222688323, 0.8484726255781435, 0.8536884658133447, 0.8464482270266394, 0.8487406331791617, 0.8502182603707289, 0.849581854361622, 0.8537619662256642, 0.8513068731848983, 0.8492443799074969, 0.8504284536230324, 0.8503719837940554, 0.8516627227421032, 0.850388118030906, 0.8493783837080061, 0.8501595496755225, 0.8479782904879709, 0.8487495966440788, 0.849793840306909, 0.8520293284572085, 0.848073751389337, 0.8475404252267756, 0.8494102040084615, 0.8482754293499695, 0.8509142734215338, 0.8481140869814636, 0.8490866229249578, 0.8512172385357284, 0.8474122476784627, 0.8511777992900936, 0.8513310745401743, 0.8506005521494389, 0.848085403893729, 0.8493187766663082, 0.8521261338783119, 0.8492847154996235, 0.8489181097845183, 0.8464827363665699, 0.8509877738338533, 0.8506588146713994, 0.8499928292280664, 0.8479832203936755, 0.8477940912839267, 0.8496441504427952, 0.8516931985228211, 0.8485479186834464, 0.8495182137607113, 0.8484215338281167, 0.8502236384496791, 0.851504965759564, 0.8485165465562369, 0.8500250977017676, 0.8462398264673192, 0.8511096769567243, 0.8495258327058908, 0.8502626295220681, 0.8486043885124233, 0.8507726506758453, 0.8466844143272023, 0.8498287978200854, 0.8484062959377577, 0.8537574844932057, 0.8489212469972393, 0.8476264744899789, 0.8521135850274282, 0.8494218565128535, 0.8481409773762145, 0.8534796170807788, 0.8470850812089923, 0.8504266609300491, 0.8495567566598545, 0.8494218565128537, 0.8468197626474491, 0.8495939550392599, 0.8501129396579542, 0.8505427378007242, 0.8532483596859202, 0.8495213509734323, 0.8518025527948083, 0.8495132838550068, 0.8501111469649708, 0.8504499659388334, 0.8491663977627192, 0.8483130759026208, 0.8476318525689291, 0.849029256749489, 0.8490274640565056, 0.8498377612850023, 0.8516546556236779, 0.8510765121365316, 0.8504616184432253, 0.8492040443153706, 0.8498279014735937, 0.8479993546305259, 0.846106270840056, 0.8489225915169767, 0.8471944354809795, 0.8486106629378654, 0.8499372557455811, 0.851056792513714, 0.8493739019755476, 0.8523071958696353, 0.8494007923702986, 0.8482637768455773, 0.8498162489692016, 0.8494048259295113, 0.8525734107776702, 0.8492784410741816, 0.8501021835000536, 0.8469909648273637, 0.8517317414219642, 0.8506041375354056, 0.8495105948155318, 0.8476354379548958, 0.8498610662937867, 0.8482754293499695, 0.8511137105159371, 0.8481140869814636, 0.8510827865619733, 0.8482978380122621, 0.8505664909827544, 0.8510433473163386, 0.8468708543974759, 0.8475691083145102, 0.8503002760747195, 0.8483444480298304, 0.8453784374887957, 0.8503773618730056, 0.8469335986518949, 0.8489898175038543, 0.8491045498547919, 0.8486814743107095, 0.8505064357678105, 0.8475511813846762, 0.8469609372198919, 0.8481266358323474, 0.8442839984224302, 0.8490427019468645, 0.8477116274066903, 0.8493062278154244, 0.8506874977591338, 0.8516107346455846, 0.8502384281667922, 0.8503459897457961, 0.852224731992399, 0.8496956903660678, 0.8499058836183714, 0.8472455272310064, 0.8445304937076477, 0.8503934961098562, 0.8485774981176724, 0.8491041016815459, 0.849596644078735, 0.8503397153203542, 0.8516698935140368, 0.851791796636908, 0.8515721917464415, 0.8480029400164928, 0.8517147108386218, 0.8500457136710767, 0.8500703631995985, 0.8506910831451006, 0.8463635222831736, 0.8496988275787889, 0.8534773762145496, 0.849292782618049, 0.8467821160947977, 0.849560790219067, 0.8514700082463877, 0.8481530780538524, 0.8519163887992544, 0.8508300168513142, 0.8505799361801297, 0.8464630167437526, 0.8500304757807178, 0.8499874511491162, 0.8477026639417733, 0.8468054211035818, 0.8509797067154279, 0.8503917034168729, 0.848008318095443, 0.8506157900397977, 0.8502639740418056, 0.853126456563049, 0.8540783765372343, 0.849727958839769, 0.8457190491556416, 0.851271915671722, 0.8491923918109785, 0.8456930551073825, 0.8455747373704781, 0.849238105482055, 0.8514117457244271, 0.8506624000573663, 0.8484573876877846, 0.8492775447276899, 0.8500026890394752, 0.8505279480836112, 0.8494317163242624, 0.8528342476067547, 0.8513005987594564, 0.8509559535333979, 0.8500618479079274, 0.8482861855078699, 0.8524497149618155, 0.8510935427198737, 0.8513776845577427, 0.85152916711484, 0.8507350041231938, 0.8521512315800797, 0.8491905991179951, 0.848253020687677, 0.8491802911333405, 0.8508775232153742, 0.8521422681151627, 0.8481705568104407, 0.8469156717220608, 0.8497167545086227, 0.8493931734251192, 0.8502626295220681, 0.8496136746620774, 0.8467848051342728, 0.8490521135850274, 0.8491923918109785, 0.8473808755512531, 0.849961457100857, 0.8516748234197411, 0.8463473880463231, 0.8477062493277402, 0.8480773367753038, 0.8506373023555985, 0.8523206410670109, 0.8483265210999964, 0.8520382919221254, 0.8473593632354522, 0.849116202359184, 0.8474521350973432, 0.8479760496217419, 0.8521861890932559, 0.85085421820659, 0.8498485174429027, 0.8498395539779857, 0.848721809902836, 0.8505978631099638, 0.8533926714710838, 0.8496862787279049, 0.8506077229213725, 0.8487827614642717, 0.8500923236886451, 0.8504176974651321, 0.8511159513821663, 0.8499264995876805, 0.8480370011831774, 0.8490072962604425, 0.846999031945789, 0.850758309131978, 0.8494491950808505, 0.8519504499659389, 0.8488168226309563, 0.8483596859201894, 0.84932505109175, 0.8499919328815748, 0.8506704671757914, 0.8501649277544726, 0.8519576207378725, 0.8474974005951741, 0.8529319493743501, 0.8508219497328888, 0.8491995625829121, 0.8479330249901402, 0.8511419454304257, 0.852598060306192, 0.8525034957513177, 0.8497194435480979, 0.8499381520920727, 0.8479572263454161, 0.8512548850883797, 0.8480818185077623, 0.8484457351833925, 0.8477698899286508, 0.8508318095442974, 0.8496428059230576, 0.8469085009501274, 0.8499533899824316, 0.8513481051235167, 0.8478227743716611, 0.8514816607507799, 0.8488526764906243, 0.8539394428310207, 0.8488006883941056, 0.8493232583987667, 0.8512109641102865, 0.8487504929905704, 0.851314043956832, 0.8475050195403535, 0.8454304255853142, 0.8513911297551181, 0.8483363809114051, 0.848306801477179, 0.8488266824423649, 0.8480629952314367, 0.8501519307303431, 0.8487764870388297, 0.8473351618801763, 0.8492291420171382, 0.8498538955218531, 0.8504064931339859, 0.8460085690724606, 0.8481481481481483, 0.851567710013983, 0.8478433903409701, 0.850298931554982, 0.8492345200960884, 0.8511500125488509, 0.8488222007099064, 0.8479787386612169, 0.8492452762539887, 0.8480665806174035, 0.8505897959915386, 0.8464406080814599, 0.8507632390376823, 0.8494801190348141, 0.852000645369474, 0.8482566060736438, 0.8501263848553297, 0.8499435301710229, 0.8535997275106666, 0.8497176508551146, 0.8456186583485712, 0.8518384066544763, 0.8494783263418306, 0.8481096052490049, 0.8491144096662007, 0.8503101358861282, 0.8485618120540676, 0.8484206374816249, 0.8518850166720447, 0.849901401885913, 0.8470156143558855, 0.8533388906815819, 0.8504911978774515, 0.849531210784841, 0.8500277867412427, 0.8476954931698397, 0.8513248001147323, 0.8497310960524901, 0.8524344770714567, 0.8509510236276935, 0.8496002294647018, 0.8515865332903089, 0.8485792908106558, 0.8499005055394213, 0.8503504714782546, 0.8505171919257107, 0.8536068982826002, 0.8496181563945358, 0.8462443081997777, 0.8520683195295973, 0.846754329353555, 0.8517559427772401, 0.8495975404252267, 0.847494711555699, 0.8467677745509304, 0.8510585852066975, 0.8506525402459575, 0.8476484349790255, 0.850692875838084, 0.849396758811086, 0.8506238571582231, 0.8499161916030262, 0.8489871284643792, 0.8494335090172458, 0.8485761535979348, 0.8490911046574163, 0.8523027141371768, 0.8458839769101143, 0.8498521028288695, 0.8502070560395827, 0.848939622100319, 0.8455962496862788, 0.8490669033021404, 0.8460085690724606, 0.8471603743142948, 0.8501756839123732, 0.8499067799648632, 0.8497947366534008, 0.8503307518554372, 0.8499982073070166, 0.8485739127317056, 0.8481302212183142, 0.8524031049442473, 0.8500331648201929, 0.8473441253450933, 0.8491251658241009, 0.8493698684163351, 0.8501461044781471, 0.8484789000035854, 0.8507986447241045, 0.8511598723602595, 0.8506937721845758, 0.8494169266071492, 0.8508586999390484, 0.8482897708938367, 0.8483910580473988, 0.8484394607579506, 0.8483525151482557, 0.8498834749560791, 0.8497445412498656, 0.8493402889821089, 0.8487962066616471, 0.8479751532752501, 0.8503182030045535, 0.8508215015596429, 0.8500735004123192, 0.849196873543437, 0.8520472553870424, 0.8519665842027894, 0.8509958409522785, 0.8488670180344915, 0.8491888064250116, 0.8505306371230863, 0.8497167545086228, 0.8493555268724678, 0.8519674805492811, 0.8471684414327202, 0.84968358968843, 0.8461156824782189, 0.8458355741995625, 0.8497526083682909, 0.8535844896203078, 0.8491215804381342, 0.8498888530350293, 0.846348284392815, 0.8519038399483704, 0.855374941737478, 0.851314043956832, 0.849381520920727, 0.8494245455523288, 0.8498144562762182, 0.8477017675952816, 0.8500259940482593, 0.8489817503854291, 0.8508945537987165, 0.8518464737729017, 0.8479231651787315, 0.8490848302319746, 0.8490283604029973, 0.8498189380086767, 0.8510765121365315, 0.8485031013588613, 0.8479079272883727, 0.8501398300527052, 0.8528943028216989, 0.8518007601018249, 0.8452332293571403, 0.8489019755476677, 0.8534047721487219, 0.8468417231364956, 0.8522892689398015, 0.8514879351762217, 0.8501658241009644, 0.8455917679538202, 0.8505969667634722, 0.8513938187945932, 0.8490149152056219, 0.8514386361191781, 0.8486509985299917, 0.8484896561614856, 0.848856261876591, 0.8516600337026281, 0.8514099530314438, 0.8500367502061597, 0.8479590190383995, 0.8467695672439138, 0.8486796816177262, 0.8508618371517694, 0.8499901401885912, 0.8514762826718296, 0.8526406367645476, 0.8481651787314904, 0.8511688358251766, 0.844517048510272, 0.8490884156179412, 0.8484107776702162, 0.8491663977627193, 0.8479043419024058, 0.8497781542433044, 0.8464630167437525, 0.850388118030906, 0.8503800509124808, 0.8516147682047972, 0.8503961851493312, 0.8436296654834894, 0.8485075830913198, 0.849561238392313, 0.8499121580438134, 0.8462066616471263, 0.8514493922770786, 0.8488284751353482, 0.8514018859130186, 0.8459736115592844, 0.8490050553942131, 0.8502608368290847, 0.85040604496074, 0.8480522390735362, 0.8486707181528091, 0.8494191674733785, 0.848844609372199, 0.8487495966440787, 0.85333261625614, 0.8482252339464342, 0.8492569287583809, 0.8462030762611595, 0.8507538273995195, 0.8487979993546306, 0.8503966333225771, 0.8508380839697394, 0.8494415761356711, 0.8519128034132875, 0.846843964002725, 0.8499157434297802, 0.8508506328206233, 0.8526124018500592, 0.8504696855616507, 0.8497535047147826, 0.8494675701839304, 0.8522605858520669, 0.8506937721845755, 0.8504069413072317, 0.8502940016492777, 0.8481956545122082, 0.8488374386002655, 0.8512441289304794, 0.8512208239216952, 0.8496853823814134, 0.849334014556667, 0.8505602165573125, 0.8515721917464416, 0.8538982108924026, 0.8508586999390485, 0.8498063891577927, 0.850433383528737, 0.8497068946972142, 0.8479034455559141, 0.8498879566885376, 0.8506946685310673, 0.8505897959915385, 0.8485631565738052, 0.8503441970528128, 0.8483489297622888, 0.8488213043634147, 0.8494236492058369, 0.8497570901007493, 0.8473387472661432, 0.849638772363845, 0.8482852891613782, 0.8501452081316554, 0.8473369545731598, 0.8499883474956079, 0.8480325194507188, 0.8485703273457388, 0.8482852891613784, 0.8517299487289806, 0.849606055716898, 0.8483112832096374, 0.8517371195009142, 0.8515721917464416, 0.8490427019468645, 0.8493949661181026, 0.8510173532680794, 0.8479437811480406, 0.851006597110179, 0.851540819619232, 0.8476157183320784, 0.8486926786418558, 0.8485568821483633, 0.8498610662937865, 0.8476623283496467, 0.8476246817969953, 0.8506368541823528, 0.8540595532609084, 0.8506650890968414, 0.8492049406618624, 0.8506283388906816, 0.8500165824100965, 0.8503603312896633, 0.8462469972392529, 0.8470133734896562, 0.8523125739485855, 0.8507896812591875, 0.8509608834391023, 0.8535665626904736, 0.8509241332329425, 0.8482306120253846, 0.8506606073643828, 0.8518204797246425, 0.849558101179592, 0.8490301530959808, 0.8524349252447025, 0.8472329783801227, 0.8506552292854326, 0.850836291276756, 0.851780144132516, 0.8490821411924995, 0.8487415295256535, 0.8494850489405185, 0.851269226632247, 0.847593309669786, 0.8493501487935177, 0.8483749238105481, 0.8493707647628268, 0.8504553440177834, 0.8493178803198164, 0.846078932272059, 0.8507278333512602, 0.8493662830303682, 0.8485676383062638, 0.8512387508515292, 0.8492605141443477, 0.8496540102542038, 0.8500564698289771, 0.8483525151482557, 0.8514108493779355, 0.8468600982395755, 0.8472320820336308, 0.8487657308809292, 0.8472267039546807, 0.8505216736581693, 0.8492972643505072, 0.8530601269226632, 0.8510128715356209, 0.8487262916352946, 0.8487621454949625, 0.8498574809078198, 0.8493465634075509, 0.8478478720734287, 0.847607651213653, 0.8488688107274748, 0.8497015166182639, 0.8484385644114589, 0.8489839912516584, 0.8486787852712345, 0.85076458355742, 0.8521745365888639, 0.8526388440715642, 0.8499148470832885, 0.8516259725359435, 0.8497893585744506, 0.8510684450181063, 0.8519997490229823, 0.8457002258793158, 0.8476175110250619, 0.8468278297658742, 0.8513875443691513, 0.8507502420135528, 0.8517909002904163, 0.8500143415438672, 0.8492739593417231, 0.8495446559822165, 0.844430999247069, 0.8474059732530207, 0.848784554157255, 0.8482557097271519, 0.851588325983292, 0.8523555985801872, 0.8513167329963072, 0.8515937040622423, 0.8491000681223334, 0.8512826718296225, 0.8479052382488974, 0.8512297873866123, 0.8480432756086194, 0.8523726291635295, 0.8485004123193861, 0.8489898175038543, 0.8491009644688251, 0.8521225484923453, 0.8486940231615933, 0.8497920476139257, 0.8485806353303933, 0.8486599619949088, 0.8485156502097451, 0.847894482090997, 0.8517684916281237, 0.8501236958158545, 0.8493219138790291, 0.8449688071420889, 0.8483731311175647, 0.8499610089276111, 0.8526558746549066, 0.8500331648201929, 0.8486106629378654, 0.8485972177404897, 0.8509761213294611, 0.8522301100713492, 0.8516250761894518, 0.8516421067727941, 0.848733462407228, 0.8488728442866874, 0.8479428848015489, 0.8484242228675917, 0.8471585816213116, 0.8501317629342798, 0.8508757305223906, 0.8510299021189631, 0.8521037252160194, 0.8518393030009681, 0.8502993797282277, 0.8486061812054067, 0.8487746943458463, 0.852150335233588, 0.8498252124341186, 0.8475709010074934, 0.8508129862679717, 0.8498153526227098, 0.8496620773726291, 0.8503737764870387, 0.8476139256390951, 0.8477887132049766, 0.8531264565630491, 0.8492569287583809, 0.850403355921265, 0.850185543723782, 0.8494433688286545, 0.8512217202681869, 0.8473459180380767, 0.8494353017102291, 0.8492847154996236, 0.8494442651751462, 0.8538265031730666, 0.851807034527267, 0.849540174249758, 0.8515856369438171, 0.8504723746011258, 0.8478084328277938, 0.8493797282277437, 0.8487522856835539, 0.8505530457853789, 0.8516770642859706, 0.8497337850919653, 0.8499964146140333, 0.8501622387149976, 0.8475081567530744, 0.8478451830339537, 0.852574307124162, 0.8515515757771323, 0.8499247068946971, 0.851469111899896, 0.8494415761356708, 0.8514475995840952, 0.8494514359470797, 0.8492461726004804, 0.8491170987056758, 0.8508344985837726, 0.848002043670001, 0.8476981822093149, 0.8503513678247463, 0.8508111935749885, 0.8487988957011221, 0.8490149152056219, 0.8487137427844107, 0.8494514359470796, 0.8501747875658815, 0.8479706715427916, 0.8496414614033201, 0.850639095048582, 0.849567064644509, 0.8501398300527052, 0.8511921408339608, 0.8496038148506687, 0.8518285468430677, 0.8488930120827507, 0.8495921623462767, 0.8481445627621813, 0.8486743035387759, 0.8505611129038042, 0.849737370477932, 0.8521153777204116, 0.8502518733641676, 0.8519387974615468, 0.8487119500914273, 0.8477748198343551, 0.8531694811946505, 0.8480513427270445, 0.8486303825606827, 0.8486859560431681, 0.8498538955218529, 0.8505745581011795, 0.8461663260549999, 0.8481566634398192, 0.8479106163278477, 0.8451059481553188, 0.8468385859237746, 0.8486769925782509, 0.847898067476964, 0.8496333942848949, 0.8497131691226559, 0.8528324549137714, 0.8491287512100678, 0.850298483381736, 0.8513552758954502, 0.8478711770822129, 0.8491520562188519, 0.8506794306407084, 0.8495831988813596, 0.8503383708006167, 0.8508067118425299, 0.8492542397189058, 0.8510119751891292, 0.8502106414255495, 0.8513391416585996, 0.8500663296403859, 0.8504383134344413, 0.8523161593345524, 0.8478711770822129, 0.8473445735183394, 0.8503065505001612, 0.8484591803807681, 0.8486599619949087, 0.8478164999462192, 0.8499014018859131, 0.8447599584095228, 0.8504786490265678, 0.8491565379513104, 0.8464446416406726, 0.8466449750815677, 0.8484842780825355, 0.8488688107274749, 0.8498216270481518, 0.8503961851493314, 0.8512651930730344, 0.8515892223297838, 0.8495025276971067, 0.8511527015883259, 0.8485255100211537, 0.8521144813739199, 0.8508353949302643, 0.8475520777311678, 0.8541617367609622, 0.8465795417876734, 0.846715338281166, 0.8519056326413539, 0.847267935893299, 0.849172672188161, 0.8495491377146749, 0.8488374386002653, 0.8514000932200352, 0.8501326592807716, 0.8466530421999928, 0.8530179986375533, 0.8501945071886988, 0.8488239934028898, 0.8507663762504034, 0.8490722813810907, 0.8491610196837691, 0.8525348678785271, 0.8472607651213653, 0.8514377397726867, 0.8495679609910007, 0.8497512638485533, 0.8502187085439747, 0.8515721917464415, 0.8494173747803953, 0.8498700297587034, 0.8488526764906241, 0.8449661181026137, 0.8517138144921301, 0.8494433688286545, 0.8506462658205156, 0.8532483596859202, 0.8484923452009608, 0.8488132372449895, 0.852633465992614, 0.8507914739521709, 0.8473495034240437, 0.8501604460220142, 0.8509568498798895, 0.8518841203255532, 0.847037574844932, 0.8497830841490086, 0.8479392994155821, 0.8484986196264027, 0.8486339679466495, 0.8467238535728372, 0.8487988957011221, 0.850289519916819, 0.848288874547345, 0.8498377612850024, 0.8515130328779894, 0.8495007350041232, 0.8485380588720377, 0.8516770642859703, 0.8494908751927146, 0.8546287332831379, 0.846048904664587, 0.8496629737191209, 0.8484681438456849, 0.8502859345308523, 0.8510603778996808, 0.8508111935749884, 0.8494052741027571, 0.8486348642931411, 0.8502429098992506, 0.8499757986447241, 0.8488522283173784, 0.8512674339392636, 0.8495993331182102, 0.8499955182675416, 0.8482955971460329, 0.849143092753935, 0.8464531569323438, 0.8471074898712846, 0.8481813129683411, 0.8486151446703236, 0.8483444480298304, 0.8511293965795419, 0.8470927001541715, 0.8509026209171415, 0.8481329102577893, 0.8508443583951812, 0.8507063210354594, 0.8520849019396939, 0.8520508407730093, 0.8467946649456815, 0.848578394464164, 0.8497454375963571, 0.8518832239790614, 0.8481378401634936, 0.853099566168298, 0.8490400129073895, 0.8512858090423434, 0.847088666594959, 0.8485559858018716, 0.8501532752500807, 0.848527302714137, 0.8492766483811982, 0.8493367035961422, 0.8495401742497579, 0.8493958624645943, 0.85044817324585, 0.8479034455559141, 0.8511159513821662, 0.8453407909361441, 0.8499614571008569, 0.8505790398336381, 0.8484036068982825, 0.8485479186834463, 0.8470097881036894, 0.847894482090997, 0.8494496432540963, 0.8512530923953963, 0.848808755512531, 0.8485273027141371, 0.8490946900433832, 0.8490615252231901, 0.8518773977268654, 0.8443279194005234, 0.8515771216521457, 0.8490955863898748, 0.8501263848553298, 0.8460605571689793, 0.8495374852102828, 0.8516967839087877, 0.8474382417267219, 0.8504096303467068, 0.8518724678211609, 0.8495778208024093, 0.8481122942884802, 0.8509187551539925, 0.8492551360653975, 0.8466467677745508, 0.845655408554731, 0.8497732243375999, 0.8504150084256571, 0.8471532035423613, 0.8491672941092108, 0.8488759814994082, 0.8469219461475027, 0.8505812806998673, 0.8506632964038581, 0.8490946900433831, 0.8486608583414005, 0.8504410024739164, 0.8508336022372809, 0.8501129396579541, 0.8476399196873544, 0.8534814097737622, 0.8483561005342224, 0.8485649492667885, 0.8488244415761356, 0.8484771073106019, 0.8519244559176795, 0.8522094941020402, 0.8490068480871966, 0.8497723279911082, 0.8488006883941056, 0.8489862321178874, 0.848366856692123, 0.8517236743035388, 0.8479079272883727, 0.8509806030619196, 0.8500206159693091, 0.8497561937542577, 0.8487639381879459, 0.8481526298806066, 0.8495939550392599, 0.8500941163816285, 0.8509393711233013, 0.8462102470330931, 0.8501873364167654, 0.8493833136137104, 0.8493062278154243, 0.8494917715392063, 0.8514153311103939, 0.8471039044853179, 0.8496454949625328, 0.8529418091857588, 0.8493232583987668, 0.852460471119716, 0.84932505109175, 0.8532501523789037, 0.8494093076619698, 0.849716754508623, 0.8497696389516332, 0.8532680793087375, 0.8490884156179413, 0.8495796134953928, 0.8485882542755727, 0.8484166039224122, 0.8511831773690438, 0.8512817754831307, 0.8491296475565595, 0.8472356674195978, 0.8502545624036428, 0.8489028718941594, 0.8507645835574199, 0.8503558495572048, 0.8502751783729519, 0.8486205227492739, 0.8496593883331541, 0.8500618479079274, 0.8506346133161234, 0.8480755440823204, 0.8458839769101144, 0.8482852891613782, 0.8534500376465526, 0.8476668100821054, 0.8493402889821089, 0.8545516474848518, 0.8489028718941594, 0.8495240400129074, 0.8501304184145423, 0.8489078017998637, 0.8519845111326234, 0.8497059983507225, 0.849680900648955, 0.8498709261051951, 0.850800437417088, 0.8510254203865046, 0.8519746513212147, 0.8529857301638522, 0.8482530206876769, 0.8499184324692554, 0.847784231472518, 0.849955182675415, 0.8483686493851064, 0.8474292782618049, 0.8495177655874655, 0.8512674339392636, 0.8497006202717723, 0.8496719371840378, 0.8501326592807716, 0.8485649492667885, 0.8502805564519021, 0.8488714997669499, 0.8489530672976946, 0.8487370477931949, 0.8484573876877847, 0.8508031264565631, 0.8473136495643757, 0.849083933885483, 0.8504006668817898, 0.8523941414793302, 0.8463411136208814, 0.8487657308809292, 0.8496589401599082, 0.8493004015632283, 0.8510003226847369, 0.8520633896238929, 0.8499775913377074, 0.8491063425477752, 0.8499229142017137, 0.8473996988275787, 0.850869456096949, 0.8497669499121581, 0.8515838442508337, 0.8498198343551684, 0.8482924599333118, 0.8504965759564017, 0.8514502886235704, 0.8454635904055072, 0.846772256283389, 0.8500501954035351, 0.8499533899824316, 0.846774945322864, 0.8485532967623967, 0.8515453013516905, 0.852679179663691, 0.850863181671507, 0.8507981965508588, 0.8494523322935715, 0.847059087160733, 0.8506256498512064, 0.8489521709512029, 0.8469730378975295, 0.850212434118533, 0.8508040228030547, 0.8493393926356172, 0.8474247965293464, 0.8515403714459862, 0.8472544906959234, 0.8503531605177297, 0.8504849234520097, 0.849208526047829, 0.8480576171524865, 0.848620522749274, 0.8513732028252841, 0.8476874260514146, 0.852179914667814, 0.8531784446595676, 0.8492900935785738, 0.8497284070130151, 0.85290281811337, 0.8463142232261301, 0.8499874511491162, 0.8527661252733856, 0.8496719371840378, 0.8494178229536411, 0.8509770176759528, 0.8485779462909181, 0.8508824531210785, 0.8495715463769673, 0.8518151016456921, 0.8490243268437847, 0.8507627908644365, 0.8494733964361264, 0.8505310852963321, 0.8512414398910042, 0.8496109856226022, 0.8487370477931948, 0.8480522390735363, 0.85162417984296, 0.850923236886451, 0.8477985730163853, 0.8478891040120469, 0.8510236276935211, 0.8490247750170307, 0.8513651357068589, 0.85220949410204, 0.8477519629988168, 0.8496853823814133, 0.8489154207450432, 0.8522856835538346, 0.8478572837115915, 0.8520732494353017, 0.8503845326449391, 0.8501012871535621, 0.8485264063676456, 0.8480172815603599, 0.8490552507977485, 0.8515040694130724, 0.8491153060126923, 0.8479464701875157, 0.8482404718367933, 0.8462918145638378, 0.8523645620451041, 0.8507627908644365, 0.851376788211251, 0.8492726148219856, 0.8472311856871393, 0.8496298088989279, 0.8519432791940054, 0.8467068229894948, 0.8489593417231365, 0.8473880463231869, 0.8511419454304254, 0.8512683302857552, 0.8509886701803451, 0.8482198558674842, 0.8497561937542577, 0.8511038507045282, 0.8489207988239934, 0.8504203865046074, 0.8499507009429565, 0.8482449535692518, 0.8502276720088917, 0.8516878204438708, 0.8465087304148291, 0.8535584955720483, 0.8493393926356172, 0.8497732243375999, 0.8495240400129073, 0.8501138360044459, 0.8476318525689289, 0.8489181097845183, 0.8498054928113012, 0.8480226596393101, 0.8489476892187444, 0.8509097916890752, 0.8488934602559965, 0.8503495751317629, 0.8473683267003693, 0.8457746226381269, 0.8486841633501846, 0.8511204331146248, 0.8518222724176259, 0.8494102040084615, 0.8476712918145639, 0.8479029973826683, 0.8466602129719265, 0.8457549030153096, 0.850161342368506, 0.848548815029938, 0.8478227743716611, 0.8507681689433868, 0.8488634326485247, 0.8496813488222007, 0.8525330751855436, 0.8484555949948012, 0.853007242479653, 0.8477013194220357, 0.8505064357678104, 0.8511683876519307, 0.8503468860922879, 0.8484000215123157, 0.8496880714208886, 0.8496154673550608, 0.8502845900111147, 0.8493797282277438, 0.8497902549209423, 0.8461734968269334, 0.846826037072891, 0.8520131942203577, 0.8474221074898711, 0.8488078591660392, 0.8505871069520634, 0.8474561686565559, 0.8511858664085189, 0.8510944390663655, 0.8504387616076869, 0.848910042666093, 0.8501676167939478, 0.8474696138539314, 0.8476524685382381, 0.8503988741888063, 0.8525635509662615, 0.849334014556667, 0.8497418522103906, 0.8517308450754724, 0.8503746728335305, 0.8518554372378186, 0.8511831773690439, 0.8521449571546378, 0.8482458499157435, 0.8486904377756266, 0.8480208669463267, 0.8490946900433832, 0.8502043670001076, 0.850038542899143, 0.8470178552221147, 0.8517057473737047, 0.8497301997059984, 0.850361227636155, 0.8493456670610592, 0.8490427019468645, 0.849280233767165, 0.8498467247499193, 0.8476255781434872, 0.8514395324656701, 0.8485703273457388, 0.8500457136710766, 0.8511858664085189, 0.8526262952206805, 0.849432612670754, 0.8497803951095335, 0.8511249148470834, 0.8466835179807106, 0.8509160661145172, 0.8510675486716145, 0.8483184539815711, 0.8493985515040694, 0.8494568140260299, 0.8484430461439174, 0.852917607830483, 0.8496952421928221, 0.8468565128536087, 0.8476703954680721, 0.8510119751891292, 0.8493743501487935, 0.8511204331146247, 0.8507242479652934, 0.8490167078986053, 0.8493044351224409, 0.8453676813308952, 0.8518769495536196, 0.8515390269262486, 0.8482037216306335, 0.8442239432074864, 0.8485237173281703, 0.8501183177369044, 0.8506677781363163, 0.8486151446703237, 0.8533030368219139, 0.8539071743573194, 0.8505992076297013, 0.8493779355347603, 0.8521575060055215, 0.8511441862966549, 0.8481938618192248, 0.8472643505073322, 0.8521951525581729, 0.8508461510881646, 0.8511249148470834, 0.8462711985945287, 0.8490570434907317, 0.8484313936395254, 0.848670718152809, 0.849596644078735, 0.8530780538524972, 0.8490660069556488, 0.8476228891040122, 0.8521149295471657, 0.8485452296439712, 0.8482315083718762, 0.8552490050553943, 0.8478541464988706, 0.8527051737119501, 0.8458965257609983, 0.8504544476712917, 0.8528342476067549, 0.8448720017209852, 0.8516685489942991, 0.850881108601341, 0.8497472302893406, 0.8488813595783586, 0.8494478505611128, 0.8468780251694095, 0.8484546986483096, 0.8502742820264602, 0.8495482413681834, 0.8487621454949624, 0.8506238571582232, 0.8520266394177332, 0.8487307733677532, 0.8468834032483598, 0.8493573195654511, 0.8490570434907319, 0.8481508371876233, 0.8504427951668996, 0.8508869348535371, 0.8514847979635007, 0.8502760747194436, 0.8487944139686637, 0.8495572048331004, 0.8480491018608153, 0.8511786956365852, 0.84752160195045, 0.8496468394822702, 0.848053135420028, 0.8525133555627263, 0.8475789681259188, 0.8485210282886952, 0.8496638700656125, 0.8482772220429531, 0.8501667204474562, 0.8478792442006382, 0.8486509985299917, 0.8509653651715607, 0.8527419239181098, 0.8518957728299452, 0.8525043920978094, 0.8503365781076333, 0.8507332114302104, 0.8501694094869313, 0.8495114911620235, 0.846879817862393, 0.8507269370047685, 0.8475646265820515, 0.8488302678283317, 0.8489136280520598, 0.8493994478505611, 0.8487469076046037, 0.8503925997633645, 0.8524183428346063, 0.8503388189738625, 0.8486034921659317, 0.8490019181814923, 0.8535100928614965, 0.8508569072460651, 0.8489593417231365, 0.8529400164927755, 0.8493976551575777, 0.8504938869169266, 0.8482046179771253, 0.8464657057832276, 0.8510155605750958, 0.8515219963429064, 0.8486501021835, 0.8494747409558638, 0.8513991968735433, 0.8498207307016599, 0.8513274891542074, 0.8474866444372737, 0.8468323114983329, 0.8505266035638737, 0.8543123229715679, 0.84905076906529, 0.8515426123122154, 0.8502518733641676, 0.8513579649349252, 0.8492560324118892, 0.8526092646373383, 0.8530323401814204, 0.8512728120182138, 0.8511544942813094, 0.8517469793123229, 0.8516716862070203, 0.8477936431106807, 0.8488777741923919, 0.8497893585744506, 0.8481293248718225, 0.8476605356566633, 0.8491076870675128, 0.8527974974005953, 0.8485120648237783, 0.8495025276971065, 0.8497248216270481, 0.8488894266967838, 0.8512055860313363, 0.8497588827937328, 0.8513283855006991, 0.8493985515040694, 0.8501425190921803, 0.8516627227421032, 0.8518868093650281, 0.8503522641712381, 0.849337599942634, 0.850743519414865, 0.8527706070058442, 0.849104549854792, 0.8471666487397369, 0.8506937721845758, 0.8488015847405973, 0.8481140869814636, 0.8475332544548422, 0.8494254418988204, 0.846422681151626, 0.8486877487361514, 0.8503155139650784, 0.8505530457853787, 0.8487818651177799, 0.8487737979993546, 0.8479195797927648, 0.8514511849700619, 0.8461017891075975, 0.8487038829730021, 0.8530359255673874, 0.8490642142626654, 0.8487558710695207, 0.8501837510307985, 0.8514018859130185, 0.8513490014700082, 0.8493456670610592, 0.8513310745401743, 0.8470519163887993, 0.8479536409594493, 0.8493268437847334, 0.8495733390699508, 0.8516080456061095, 0.8486895414291349, 0.8490122261661468]\n"
     ]
    }
   ],
   "source": [
    "t_43 = auc_bootstrap\n",
    "print(t_43)"
   ]
  },
  {
   "cell_type": "code",
   "execution_count": 49,
   "id": "403a2a0f",
   "metadata": {},
   "outputs": [],
   "source": [
    "del X_train, X_test, y_train, y_test, X_val, y_val,study, optuna_auc"
   ]
  },
  {
   "cell_type": "code",
   "execution_count": null,
   "id": "5ebd243c",
   "metadata": {},
   "outputs": [],
   "source": [
    "## 44\n",
    "column_to_drop_43 = '소득 중 정부 보조금의 비중(월평균)'"
   ]
  },
  {
   "cell_type": "code",
   "execution_count": null,
   "id": "bd176660",
   "metadata": {},
   "outputs": [],
   "source": [
    "if not column_to_drop_43.startswith('Cat_'):\n",
    "    comp_44 = comp_43.drop(column_to_drop_43, axis=1)\n",
    "    X_44 = comp_44.drop('target', axis=1)\n",
    "    y_44 = comp_44['target']\n",
    "else:\n",
    "    comp_44 = comp_43.drop(comp_43.filter(regex='^' + column_to_drop_43).columns, axis=1)\n",
    "    X_44 = comp_44.drop('target', axis=1)\n",
    "    y_44 = comp_44['target']\n",
    "\n",
    "print(X_44.shape)"
   ]
  },
  {
   "cell_type": "code",
   "execution_count": 13,
   "id": "e7f31f0a",
   "metadata": {},
   "outputs": [
    {
     "data": {
      "text/plain": [
       "['현재 주택 거주 기간(총 개월)',\n",
       " '현재 무주택 기간(총 개월)',\n",
       " '현재 주택의 면적(㎡)',\n",
       " '총 이사 횟수',\n",
       " '가구주 나이',\n",
       " '총 가구원 수',\n",
       " '소득 대비 주택 임대료의 비율',\n",
       " '소득 중 근로/사업소득의 비중(월평균)',\n",
       " '소득 중 재산소득의 비중(월평균)',\n",
       " '소득 중 사회보험 수혜금의 비중(월평균)',\n",
       " '소득 중 정부 보조금의 비중(월평균)',\n",
       " '소득 중 사적이전소득의 비중(월평균)',\n",
       " '소득 대비 생활비의 비율',\n",
       " '소득 대비 주거관리비의 비율',\n",
       " '자산 중 부동산 자산의 비중',\n",
       " '자산 중 금융자산의 비중',\n",
       " '자산 중 기타자산의 비중',\n",
       " '부채 중 금융기관 대출금의 비중',\n",
       " '부채 중 비금융기관 대출금의 비중',\n",
       " '부채 중 임대 보증금의 비중',\n",
       " '중기부채부담지표',\n",
       " '장기부채부담지표',\n",
       " 'target',\n",
       " 'Cat_현재 거주 지역_강원도',\n",
       " 'Cat_현재 거주 지역_경기도',\n",
       " 'Cat_현재 거주 지역_경상남도',\n",
       " 'Cat_현재 거주 지역_경상북도',\n",
       " 'Cat_현재 거주 지역_광주광역시',\n",
       " 'Cat_현재 거주 지역_대구광역시',\n",
       " 'Cat_현재 거주 지역_대전광역시',\n",
       " 'Cat_현재 거주 지역_부산광역시',\n",
       " 'Cat_현재 거주 지역_서울특별시',\n",
       " 'Cat_현재 거주 지역_세종특별자치시',\n",
       " 'Cat_현재 거주 지역_울산광역시',\n",
       " 'Cat_현재 거주 지역_인천광역시',\n",
       " 'Cat_현재 거주 지역_전라남도',\n",
       " 'Cat_현재 거주 지역_전라북도',\n",
       " 'Cat_현재 거주 지역_제주특별자치도',\n",
       " 'Cat_현재 거주 지역_충청남도',\n",
       " 'Cat_현재 거주 지역_충청북도',\n",
       " 'Cat_현재 주택의 유형_고시원',\n",
       " 'Cat_현재 주택의 유형_기타',\n",
       " 'Cat_현재 주택의 유형_다가구 단독주택',\n",
       " 'Cat_현재 주택의 유형_다세대주택',\n",
       " 'Cat_현재 주택의 유형_비거주용 건물 내 주택',\n",
       " 'Cat_현재 주택의 유형_아파트',\n",
       " 'Cat_현재 주택의 유형_연립주택',\n",
       " 'Cat_현재 주택의 유형_영업겸용 단독주택',\n",
       " 'Cat_현재 주택의 유형_오피스텔',\n",
       " 'Cat_현재 주택의 유형_일반 단독주택',\n",
       " 'Cat_현재 주택의 유형_판잣집 비닐하우스 컨테이너 움막',\n",
       " 'Cat_현재 주택의 위치_반지하',\n",
       " 'Cat_현재 주택의 위치_옥상(옥탑)',\n",
       " 'Cat_현재 주택의 위치_지상',\n",
       " 'Cat_현재 주택의 위치_지하',\n",
       " 'Cat_현재 주택의 점유형태_무상',\n",
       " 'Cat_현재 주택의 점유형태_보증금 없는 월세(사글세, 연세, 일세 포함)',\n",
       " 'Cat_현재 주택의 점유형태_보증금 있는 월세',\n",
       " 'Cat_현재 주택의 점유형태_전세',\n",
       " 'Cat_현재 주택의 구조_원룸형',\n",
       " 'Cat_현재 주택의 구조_원룸형 아님',\n",
       " 'Cat_현재 상업시설 접근용이성_대체로 만족',\n",
       " 'Cat_현재 상업시설 접근용이성_매우 만족',\n",
       " 'Cat_현재 상업시설 접근용이성_매우 불만족',\n",
       " 'Cat_현재 상업시설 접근용이성_약간 불만족',\n",
       " 'Cat_현재 의료시설 접근용이성_대체로 만족',\n",
       " 'Cat_현재 의료시설 접근용이성_매우 만족',\n",
       " 'Cat_현재 의료시설 접근용이성_매우 불만족',\n",
       " 'Cat_현재 의료시설 접근용이성_약간 불만족',\n",
       " 'Cat_현재 공공기관 접근용이성_대체로 만족',\n",
       " 'Cat_현재 공공기관 접근용이성_매우 만족',\n",
       " 'Cat_현재 공공기관 접근용이성_매우 불만족',\n",
       " 'Cat_현재 공공기관 접근용이성_약간 불만족',\n",
       " 'Cat_현재 문화시설 접근용이성_대체로 만족',\n",
       " 'Cat_현재 문화시설 접근용이성_매우 만족',\n",
       " 'Cat_현재 문화시설 접근용이성_매우 불만족',\n",
       " 'Cat_현재 문화시설 접근용이성_약간 불만족',\n",
       " 'Cat_현재 도시공원 및 녹지 접근용이성_대체로 만족',\n",
       " 'Cat_현재 도시공원 및 녹지 접근용이성_매우 만족',\n",
       " 'Cat_현재 도시공원 및 녹지 접근용이성_매우 불만족',\n",
       " 'Cat_현재 도시공원 및 녹지 접근용이성_약간 불만족',\n",
       " 'Cat_현재 대중교통 접근용이성_대체로 만족',\n",
       " 'Cat_현재 대중교통 접근용이성_매우 만족',\n",
       " 'Cat_현재 대중교통 접근용이성_매우 불만족',\n",
       " 'Cat_현재 대중교통 접근용이성_약간 불만족',\n",
       " 'Cat_현재 주차시설 이용편의성_대체로 만족',\n",
       " 'Cat_현재 주차시설 이용편의성_매우 만족',\n",
       " 'Cat_현재 주차시설 이용편의성_매우 불만족',\n",
       " 'Cat_현재 주차시설 이용편의성_약간 불만족',\n",
       " 'Cat_현재 주변도로의 보행 안전_대체로 만족',\n",
       " 'Cat_현재 주변도로의 보행 안전_매우 만족',\n",
       " 'Cat_현재 주변도로의 보행 안전_매우 불만족',\n",
       " 'Cat_현재 주변도로의 보행 안전_약간 불만족',\n",
       " 'Cat_현재 교육환경_대체로 만족',\n",
       " 'Cat_현재 교육환경_매우 만족',\n",
       " 'Cat_현재 교육환경_매우 불만족',\n",
       " 'Cat_현재 교육환경_약간 불만족',\n",
       " 'Cat_현재 치안 및 범죄 등 방범 상태_대체로 만족',\n",
       " 'Cat_현재 치안 및 범죄 등 방범 상태_매우 만족',\n",
       " 'Cat_현재 치안 및 범죄 등 방범 상태_매우 불만족',\n",
       " 'Cat_현재 치안 및 범죄 등 방범 상태_약간 불만족',\n",
       " 'Cat_현재 자동차 경적/집주변의 소음 정도_대체로 만족',\n",
       " 'Cat_현재 자동차 경적/집주변의 소음 정도_매우 만족',\n",
       " 'Cat_현재 자동차 경적/집주변의 소음 정도_매우 불만족',\n",
       " 'Cat_현재 자동차 경적/집주변의 소음 정도_약간 불만족',\n",
       " 'Cat_현재 청소/쓰레기 처리상태_대체로 만족',\n",
       " 'Cat_현재 청소/쓰레기 처리상태_매우 만족',\n",
       " 'Cat_현재 청소/쓰레기 처리상태_매우 불만족',\n",
       " 'Cat_현재 청소/쓰레기 처리상태_약간 불만족',\n",
       " 'Cat_현재 대기오염 정도_대체로 만족',\n",
       " 'Cat_현재 대기오염 정도_매우 만족',\n",
       " 'Cat_현재 대기오염 정도_매우 불만족',\n",
       " 'Cat_현재 대기오염 정도_약간 불만족',\n",
       " 'Cat_현재 주택에 대한 전반적인 만족도_대체로 만족',\n",
       " 'Cat_현재 주택에 대한 전반적인 만족도_매우 만족',\n",
       " 'Cat_현재 주택에 대한 전반적인 만족도_매우 불만족',\n",
       " 'Cat_현재 주택에 대한 전반적인 만족도_약간 불만족',\n",
       " 'Cat_이사 예상 기간_2~5년',\n",
       " 'Cat_이사 예상 기간_2년 미만',\n",
       " 'Cat_이사 예상 기간_5년 초과',\n",
       " 'Cat_이사 예상 기간_이사 계획 없음 및 모름',\n",
       " 'Cat_이사 계획 첫 번째 이유_가구상황에 적합한 주택규모로 이사',\n",
       " 'Cat_이사 계획 첫 번째 이유_계약 만기로 인해',\n",
       " 'Cat_이사 계획 첫 번째 이유_교통과 편의 및 문화시설 및 공원과 녹지 등이 좋은 지역으로 가기 위해',\n",
       " 'Cat_이사 계획 첫 번째 이유_높은 집값 혹은 집세 부담',\n",
       " 'Cat_이사 계획 첫 번째 이유_부모 혹은 자녀 등과 가까이 살기 위해',\n",
       " 'Cat_이사 계획 첫 번째 이유_시설이나 설비가 더 양호한 집으로 이사',\n",
       " 'Cat_이사 계획 첫 번째 이유_이사 계획 없음 및 모름',\n",
       " 'Cat_이사 계획 첫 번째 이유_자가로 이사 또는 자가 마련을 위해',\n",
       " 'Cat_이사 계획 첫 번째 이유_자녀 양육 및 교육환경',\n",
       " 'Cat_이사 계획 첫 번째 이유_재개발이나 재건축으로 인해',\n",
       " 'Cat_이사 계획 첫 번째 이유_직주근접 혹은 직장변동',\n",
       " 'Cat_이사 계획 첫 번째 이유_집주인이 나가라고 해서',\n",
       " 'Cat_이사 계획 중인 거주 지역_국내 to 국외',\n",
       " 'Cat_이사 계획 중인 거주 지역_비수도권 to 비수도권',\n",
       " 'Cat_이사 계획 중인 거주 지역_비수도권 to 수도권',\n",
       " 'Cat_이사 계획 중인 거주 지역_비수도권 to 이사 계획 없음 및 모름',\n",
       " 'Cat_이사 계획 중인 거주 지역_수도권 to 비수도권',\n",
       " 'Cat_이사 계획 중인 거주 지역_수도권 to 수도권',\n",
       " 'Cat_이사 계획 중인 거주 지역_수도권 to 이사 계획 없음 및 모름',\n",
       " 'Cat_이사 계획 중인 주택의 유형_공동주택 to 공동주택',\n",
       " 'Cat_이사 계획 중인 주택의 유형_공동주택 to 기타',\n",
       " 'Cat_이사 계획 중인 주택의 유형_공동주택 to 단독주택',\n",
       " 'Cat_이사 계획 중인 주택의 유형_공동주택 to 이사 계획 없음 및 모름',\n",
       " 'Cat_이사 계획 중인 주택의 유형_기타 to 공동주택',\n",
       " 'Cat_이사 계획 중인 주택의 유형_기타 to 기타',\n",
       " 'Cat_이사 계획 중인 주택의 유형_기타 to 단독주택',\n",
       " 'Cat_이사 계획 중인 주택의 유형_기타 to 이사 계획 없음 및 모름',\n",
       " 'Cat_이사 계획 중인 주택의 유형_단독주택 to 공동주택',\n",
       " 'Cat_이사 계획 중인 주택의 유형_단독주택 to 기타',\n",
       " 'Cat_이사 계획 중인 주택의 유형_단독주택 to 단독주택',\n",
       " 'Cat_이사 계획 중인 주택의 유형_단독주택 to 이사 계획 없음 및 모름',\n",
       " 'Cat_이사 계획 중인 주택의 유형_준주택 to 공동주택',\n",
       " 'Cat_이사 계획 중인 주택의 유형_준주택 to 단독주택',\n",
       " 'Cat_이사 계획 중인 주택의 유형_준주택 to 이사 계획 없음 및 모름',\n",
       " 'Cat_이사 계획 중인 주택의 유형_준주택 to 준주택',\n",
       " 'Cat_이사 계획 중인 주택의 점유형태_무상 to 무상이나 기타',\n",
       " 'Cat_이사 계획 중인 주택의 점유형태_무상 to 보증금 없는 월세(사글세, 연세, 일세 포함)',\n",
       " 'Cat_이사 계획 중인 주택의 점유형태_무상 to 보증금 있는 월세',\n",
       " 'Cat_이사 계획 중인 주택의 점유형태_무상 to 이사 계획 없음 및 모름',\n",
       " 'Cat_이사 계획 중인 주택의 점유형태_무상 to 자가',\n",
       " 'Cat_이사 계획 중인 주택의 점유형태_무상 to 전세',\n",
       " 'Cat_이사 계획 중인 주택의 점유형태_보증금 없는 월세(사글세, 연세, 일세 포함) to 무상이나 기타',\n",
       " 'Cat_이사 계획 중인 주택의 점유형태_보증금 없는 월세(사글세, 연세, 일세 포함) to 보증금 없는 월세(사글세, 연세, 일세 포함)',\n",
       " 'Cat_이사 계획 중인 주택의 점유형태_보증금 없는 월세(사글세, 연세, 일세 포함) to 보증금 있는 월세',\n",
       " 'Cat_이사 계획 중인 주택의 점유형태_보증금 없는 월세(사글세, 연세, 일세 포함) to 이사 계획 없음 및 모름',\n",
       " 'Cat_이사 계획 중인 주택의 점유형태_보증금 없는 월세(사글세, 연세, 일세 포함) to 자가',\n",
       " 'Cat_이사 계획 중인 주택의 점유형태_보증금 없는 월세(사글세, 연세, 일세 포함) to 전세',\n",
       " 'Cat_이사 계획 중인 주택의 점유형태_보증금 있는 월세 to 무상이나 기타',\n",
       " 'Cat_이사 계획 중인 주택의 점유형태_보증금 있는 월세 to 보증금 없는 월세(사글세, 연세, 일세 포함)',\n",
       " 'Cat_이사 계획 중인 주택의 점유형태_보증금 있는 월세 to 보증금 있는 월세',\n",
       " 'Cat_이사 계획 중인 주택의 점유형태_보증금 있는 월세 to 이사 계획 없음 및 모름',\n",
       " 'Cat_이사 계획 중인 주택의 점유형태_보증금 있는 월세 to 자가',\n",
       " 'Cat_이사 계획 중인 주택의 점유형태_보증금 있는 월세 to 전세',\n",
       " 'Cat_이사 계획 중인 주택의 점유형태_전세 to 무상이나 기타',\n",
       " 'Cat_이사 계획 중인 주택의 점유형태_전세 to 보증금 없는 월세(사글세, 연세, 일세 포함)',\n",
       " 'Cat_이사 계획 중인 주택의 점유형태_전세 to 보증금 있는 월세',\n",
       " 'Cat_이사 계획 중인 주택의 점유형태_전세 to 이사 계획 없음 및 모름',\n",
       " 'Cat_이사 계획 중인 주택의 점유형태_전세 to 자가',\n",
       " 'Cat_이사 계획 중인 주택의 점유형태_전세 to 전세',\n",
       " 'Cat_주택 보유 의식_아니오',\n",
       " 'Cat_주택 보유 의식_예',\n",
       " 'Cat_현재 가장 필요한 주거지원 1순위_공공분양주택공급',\n",
       " 'Cat_현재 가장 필요한 주거지원 1순위_없음',\n",
       " 'Cat_현재 가장 필요한 주거지원 1순위_월세보조금 지원',\n",
       " 'Cat_현재 가장 필요한 주거지원 1순위_임대 후 분양전환 공공임대주택 공급',\n",
       " 'Cat_현재 가장 필요한 주거지원 1순위_장기공공임대주택 공급',\n",
       " 'Cat_현재 가장 필요한 주거지원 1순위_전세자금 대출 지원',\n",
       " 'Cat_현재 가장 필요한 주거지원 1순위_주거상담과 정보제공 등',\n",
       " 'Cat_현재 가장 필요한 주거지원 1순위_주택 구입자금 대출 지원',\n",
       " 'Cat_현재 가장 필요한 주거지원 1순위_주택개량 및 개보수 지원',\n",
       " 'Cat_가구주 성별_남',\n",
       " 'Cat_가구주 성별_여',\n",
       " 'Cat_가구주 주민등록상 등재 여부_등재',\n",
       " 'Cat_가구주 주민등록상 등재 여부_비등재',\n",
       " 'Cat_가구주 동거 여부_동거',\n",
       " 'Cat_가구주 동거 여부_비동거',\n",
       " 'Cat_가구주 장애 여부_해당',\n",
       " 'Cat_가구주 장애 여부_해당없음',\n",
       " 'Cat_기초생활보장 수급가구 여부_아니오',\n",
       " 'Cat_기초생활보장 수급가구 여부_예',\n",
       " 'Cat_소득 계층_서민층',\n",
       " 'Cat_소득 계층_중산층',\n",
       " 'Cat_가구주 최종 학력_고등학교 졸업',\n",
       " 'Cat_가구주 최종 학력_대학 졸업 이상',\n",
       " 'Cat_가구주 최종 학력_중학교 졸업 이하',\n",
       " 'Cat_가구주 종사상 지위_무급가족종사자',\n",
       " 'Cat_가구주 종사상 지위_무직 및 기타',\n",
       " 'Cat_가구주 종사상 지위_사업자 및 자영자',\n",
       " 'Cat_가구주 종사상 지위_상용근로자',\n",
       " 'Cat_가구주 종사상 지위_임시일용근로자']"
      ]
     },
     "execution_count": 13,
     "metadata": {},
     "output_type": "execute_result"
    }
   ],
   "source": [
    "alll = list(comp)\n",
    "alll"
   ]
  },
  {
   "cell_type": "code",
   "execution_count": 14,
   "id": "8ae217af",
   "metadata": {},
   "outputs": [],
   "source": [
    "comp_44 = comp[[\n",
    "    '현재 주택 거주 기간(총 개월)','현재 주택의 면적(㎡)','총 이사 횟수','가구주 나이','소득 대비 주택 임대료의 비율',\n",
    "    '소득 중 사적이전소득의 비중(월평균)','장기부채부담지표','target',\n",
    "    'Cat_현재 주택의 유형_고시원','Cat_현재 주택의 유형_기타','Cat_현재 주택의 유형_다가구 단독주택',\n",
    "    'Cat_현재 주택의 유형_다세대주택','Cat_현재 주택의 유형_비거주용 건물 내 주택','Cat_현재 주택의 유형_아파트',\n",
    "    'Cat_현재 주택의 유형_연립주택','Cat_현재 주택의 유형_영업겸용 단독주택','Cat_현재 주택의 유형_오피스텔',\n",
    "    'Cat_현재 주택의 유형_일반 단독주택','Cat_현재 주택의 유형_판잣집 비닐하우스 컨테이너 움막',\n",
    "    'Cat_현재 주택의 점유형태_무상','Cat_현재 주택의 점유형태_보증금 없는 월세(사글세, 연세, 일세 포함)',\n",
    "    'Cat_현재 주택의 점유형태_보증금 있는 월세','Cat_현재 주택의 점유형태_전세',\n",
    "    'Cat_이사 계획 중인 거주 지역_국내 to 국외','Cat_이사 계획 중인 거주 지역_비수도권 to 비수도권',\n",
    "    'Cat_이사 계획 중인 거주 지역_비수도권 to 수도권','Cat_이사 계획 중인 거주 지역_비수도권 to 이사 계획 없음 및 모름',\n",
    "    'Cat_이사 계획 중인 거주 지역_수도권 to 비수도권','Cat_이사 계획 중인 거주 지역_수도권 to 수도권',\n",
    "    'Cat_이사 계획 중인 거주 지역_수도권 to 이사 계획 없음 및 모름',\n",
    "    'Cat_현재 가장 필요한 주거지원 1순위_공공분양주택공급','Cat_현재 가장 필요한 주거지원 1순위_없음',\n",
    "    'Cat_현재 가장 필요한 주거지원 1순위_월세보조금 지원','Cat_현재 가장 필요한 주거지원 1순위_임대 후 분양전환 공공임대주택 공급',\n",
    "    'Cat_현재 가장 필요한 주거지원 1순위_장기공공임대주택 공급','Cat_현재 가장 필요한 주거지원 1순위_전세자금 대출 지원',\n",
    "    'Cat_현재 가장 필요한 주거지원 1순위_주거상담과 정보제공 등','Cat_현재 가장 필요한 주거지원 1순위_주택 구입자금 대출 지원',\n",
    "    'Cat_현재 가장 필요한 주거지원 1순위_주택개량 및 개보수 지원', \n",
    "    'Cat_기초생활보장 수급가구 여부_아니오','Cat_기초생활보장 수급가구 여부_예'\n",
    "]]"
   ]
  },
  {
   "cell_type": "code",
   "execution_count": 15,
   "id": "c770f8c8",
   "metadata": {},
   "outputs": [
    {
     "data": {
      "text/plain": [
       "(10564, 40)"
      ]
     },
     "execution_count": 15,
     "metadata": {},
     "output_type": "execute_result"
    }
   ],
   "source": [
    "X_44 = comp_44.drop('target', axis=1)\n",
    "y_44 = comp_44['target']\n",
    "X_44.shape"
   ]
  },
  {
   "cell_type": "code",
   "execution_count": 16,
   "id": "0249332d",
   "metadata": {},
   "outputs": [],
   "source": [
    "X_train, X_test, y_train, y_test = train_test_split(X_44, y_44, test_size=0.2, shuffle=True, stratify=y_44, random_state = 0)\n",
    "X_train, X_val, y_train, y_val = train_test_split(X_train, y_train, test_size=0.2, shuffle=True, stratify=y_train, random_state = 0)"
   ]
  },
  {
   "cell_type": "code",
   "execution_count": 17,
   "id": "779c6a01",
   "metadata": {},
   "outputs": [],
   "source": [
    "def objective(trial):\n",
    "    params = {\n",
    "        'learning_rate' :trial.suggest_float('learning_rate',0.01, 0.1,step=0.01),        \n",
    "        'n_estimators' :trial.suggest_int('n_estimators', 50, 200),\n",
    "        'subsample':trial.suggest_float('subsample', 0.1, 1.0,step=0.1),\n",
    "        'max_depth' :trial.suggest_int('max_depth', 1, 10),\n",
    "        'min_samples_split' :trial.suggest_int('min_samples_split', 3, 10),\n",
    "        'min_samples_leaf' :trial.suggest_int('min_samples_leaf', 3, 10),\n",
    "        }\n",
    "        \n",
    "    clf = GradientBoostingClassifier(**params,random_state = 0)\n",
    "    clf.fit(X_train, y_train)\n",
    "    clf_proba = clf.predict_proba(X_val)[:, 1]\n",
    "        \n",
    "    AUC_SCORE = roc_auc_score(y_val, clf_proba)\n",
    "    return AUC_SCORE\n",
    "\n",
    "direction = \"maximize\"\n",
    "sampler = optuna.samplers.TPESampler(seed=10)\n",
    "study =  optuna.create_study(direction=direction, sampler=sampler, pruner=optuna.pruners.HyperbandPruner())\n",
    "early_stopping = EarlyStoppingCallback(10, direction=direction)\n",
    "study.optimize(objective, callbacks=[early_stopping], n_trials=200) "
   ]
  },
  {
   "cell_type": "code",
   "execution_count": 18,
   "id": "8171ab90",
   "metadata": {},
   "outputs": [
    {
     "name": "stdout",
     "output_type": "stream",
     "text": [
      "{'learning_rate': 0.09999999999999999, 'n_estimators': 157, 'subsample': 0.6, 'max_depth': 2, 'min_samples_split': 5, 'min_samples_leaf': 8}\n",
      "0.8452950759102513\n"
     ]
    }
   ],
   "source": [
    "print(study.best_trial.params)\n",
    "optuna_auc = study.best_trial.value\n",
    "print(optuna_auc)"
   ]
  },
  {
   "cell_type": "code",
   "execution_count": 19,
   "id": "bf9143f5",
   "metadata": {},
   "outputs": [
    {
     "data": {
      "text/html": [
       "<style>#sk-container-id-1 {color: black;}#sk-container-id-1 pre{padding: 0;}#sk-container-id-1 div.sk-toggleable {background-color: white;}#sk-container-id-1 label.sk-toggleable__label {cursor: pointer;display: block;width: 100%;margin-bottom: 0;padding: 0.3em;box-sizing: border-box;text-align: center;}#sk-container-id-1 label.sk-toggleable__label-arrow:before {content: \"▸\";float: left;margin-right: 0.25em;color: #696969;}#sk-container-id-1 label.sk-toggleable__label-arrow:hover:before {color: black;}#sk-container-id-1 div.sk-estimator:hover label.sk-toggleable__label-arrow:before {color: black;}#sk-container-id-1 div.sk-toggleable__content {max-height: 0;max-width: 0;overflow: hidden;text-align: left;background-color: #f0f8ff;}#sk-container-id-1 div.sk-toggleable__content pre {margin: 0.2em;color: black;border-radius: 0.25em;background-color: #f0f8ff;}#sk-container-id-1 input.sk-toggleable__control:checked~div.sk-toggleable__content {max-height: 200px;max-width: 100%;overflow: auto;}#sk-container-id-1 input.sk-toggleable__control:checked~label.sk-toggleable__label-arrow:before {content: \"▾\";}#sk-container-id-1 div.sk-estimator input.sk-toggleable__control:checked~label.sk-toggleable__label {background-color: #d4ebff;}#sk-container-id-1 div.sk-label input.sk-toggleable__control:checked~label.sk-toggleable__label {background-color: #d4ebff;}#sk-container-id-1 input.sk-hidden--visually {border: 0;clip: rect(1px 1px 1px 1px);clip: rect(1px, 1px, 1px, 1px);height: 1px;margin: -1px;overflow: hidden;padding: 0;position: absolute;width: 1px;}#sk-container-id-1 div.sk-estimator {font-family: monospace;background-color: #f0f8ff;border: 1px dotted black;border-radius: 0.25em;box-sizing: border-box;margin-bottom: 0.5em;}#sk-container-id-1 div.sk-estimator:hover {background-color: #d4ebff;}#sk-container-id-1 div.sk-parallel-item::after {content: \"\";width: 100%;border-bottom: 1px solid gray;flex-grow: 1;}#sk-container-id-1 div.sk-label:hover label.sk-toggleable__label {background-color: #d4ebff;}#sk-container-id-1 div.sk-serial::before {content: \"\";position: absolute;border-left: 1px solid gray;box-sizing: border-box;top: 0;bottom: 0;left: 50%;z-index: 0;}#sk-container-id-1 div.sk-serial {display: flex;flex-direction: column;align-items: center;background-color: white;padding-right: 0.2em;padding-left: 0.2em;position: relative;}#sk-container-id-1 div.sk-item {position: relative;z-index: 1;}#sk-container-id-1 div.sk-parallel {display: flex;align-items: stretch;justify-content: center;background-color: white;position: relative;}#sk-container-id-1 div.sk-item::before, #sk-container-id-1 div.sk-parallel-item::before {content: \"\";position: absolute;border-left: 1px solid gray;box-sizing: border-box;top: 0;bottom: 0;left: 50%;z-index: -1;}#sk-container-id-1 div.sk-parallel-item {display: flex;flex-direction: column;z-index: 1;position: relative;background-color: white;}#sk-container-id-1 div.sk-parallel-item:first-child::after {align-self: flex-end;width: 50%;}#sk-container-id-1 div.sk-parallel-item:last-child::after {align-self: flex-start;width: 50%;}#sk-container-id-1 div.sk-parallel-item:only-child::after {width: 0;}#sk-container-id-1 div.sk-dashed-wrapped {border: 1px dashed gray;margin: 0 0.4em 0.5em 0.4em;box-sizing: border-box;padding-bottom: 0.4em;background-color: white;}#sk-container-id-1 div.sk-label label {font-family: monospace;font-weight: bold;display: inline-block;line-height: 1.2em;}#sk-container-id-1 div.sk-label-container {text-align: center;}#sk-container-id-1 div.sk-container {/* jupyter's `normalize.less` sets `[hidden] { display: none; }` but bootstrap.min.css set `[hidden] { display: none !important; }` so we also need the `!important` here to be able to override the default hidden behavior on the sphinx rendered scikit-learn.org. See: https://github.com/scikit-learn/scikit-learn/issues/21755 */display: inline-block !important;position: relative;}#sk-container-id-1 div.sk-text-repr-fallback {display: none;}</style><div id=\"sk-container-id-1\" class=\"sk-top-container\"><div class=\"sk-text-repr-fallback\"><pre>GradientBoostingClassifier(learning_rate=0.09999999999999999, max_depth=2,\n",
       "                           min_samples_leaf=8, min_samples_split=5,\n",
       "                           n_estimators=157, random_state=0, subsample=0.6)</pre><b>In a Jupyter environment, please rerun this cell to show the HTML representation or trust the notebook. <br />On GitHub, the HTML representation is unable to render, please try loading this page with nbviewer.org.</b></div><div class=\"sk-container\" hidden><div class=\"sk-item\"><div class=\"sk-estimator sk-toggleable\"><input class=\"sk-toggleable__control sk-hidden--visually\" id=\"sk-estimator-id-1\" type=\"checkbox\" checked><label for=\"sk-estimator-id-1\" class=\"sk-toggleable__label sk-toggleable__label-arrow\">GradientBoostingClassifier</label><div class=\"sk-toggleable__content\"><pre>GradientBoostingClassifier(learning_rate=0.09999999999999999, max_depth=2,\n",
       "                           min_samples_leaf=8, min_samples_split=5,\n",
       "                           n_estimators=157, random_state=0, subsample=0.6)</pre></div></div></div></div></div>"
      ],
      "text/plain": [
       "GradientBoostingClassifier(learning_rate=0.09999999999999999, max_depth=2,\n",
       "                           min_samples_leaf=8, min_samples_split=5,\n",
       "                           n_estimators=157, random_state=0, subsample=0.6)"
      ]
     },
     "execution_count": 19,
     "metadata": {},
     "output_type": "execute_result"
    }
   ],
   "source": [
    "optuna_44 = GradientBoostingClassifier(**study.best_trial.params, random_state = 0)\n",
    "optuna_44.fit(X_train, y_train)"
   ]
  },
  {
   "cell_type": "code",
   "execution_count": 21,
   "id": "37152504",
   "metadata": {},
   "outputs": [
    {
     "name": "stdout",
     "output_type": "stream",
     "text": [
      "0.8528037718260372\n"
     ]
    }
   ],
   "source": [
    "optuna_proba_44 = optuna_44.predict_proba(X_test)[:, 1]\n",
    "auc_44 = roc_auc_score(y_test, optuna_proba_44)\n",
    "print(auc_44)"
   ]
  },
  {
   "cell_type": "code",
   "execution_count": 22,
   "id": "563de8cc",
   "metadata": {},
   "outputs": [],
   "source": [
    "X_train = X_train.values\n",
    "y_train = y_train.values"
   ]
  },
  {
   "cell_type": "code",
   "execution_count": 23,
   "id": "6f4e3399",
   "metadata": {},
   "outputs": [],
   "source": [
    "auc_bootstrap = []"
   ]
  },
  {
   "cell_type": "code",
   "execution_count": 24,
   "id": "938c9856",
   "metadata": {},
   "outputs": [
    {
     "data": {
      "text/plain": [
       "array([0.84552963, 0.8525938 ])"
      ]
     },
     "execution_count": 24,
     "metadata": {},
     "output_type": "execute_result"
    }
   ],
   "source": [
    "rs = RandomState(seed = 44)\n",
    "bootstrap_auc(optuna_44, X_train, y_train, X_test, y_test, nsamples=2000)"
   ]
  },
  {
   "cell_type": "code",
   "execution_count": 25,
   "id": "b6b2f8ad",
   "metadata": {},
   "outputs": [
    {
     "data": {
      "text/plain": [
       "0.8492280630400488"
      ]
     },
     "execution_count": 25,
     "metadata": {},
     "output_type": "execute_result"
    }
   ],
   "source": [
    "np.mean(auc_bootstrap)"
   ]
  },
  {
   "cell_type": "code",
   "execution_count": 26,
   "id": "cbdd72dc",
   "metadata": {
    "scrolled": true
   },
   "outputs": [
    {
     "name": "stdout",
     "output_type": "stream",
     "text": [
      "[0.849838657631494, 0.848847298411674, 0.8482386791438098, 0.85072245527231, 0.846801835717615, 0.8472751066652325, 0.8482046179771252, 0.848569430999247, 0.8496029185041769, 0.8501425190921802, 0.8522220429529239, 0.851089957333907, 0.8482458499157435, 0.8489916101968378, 0.8482987343587538, 0.8517093327596716, 0.8469564554874334, 0.8494030332365279, 0.8492614104908393, 0.8511016098382991, 0.8483063533039332, 0.8495025276971065, 0.8511598723602597, 0.8499403929583019, 0.8490364275214227, 0.8501505862106056, 0.845783586103044, 0.8527244451615216, 0.848265121365315, 0.8506202717722562, 0.85035853859668, 0.8497920476139257, 0.8461188196909397, 0.8471316912265605, 0.8508165716539384, 0.8515426123122154, 0.8499184324692554, 0.8473925280556451, 0.8525043920978093, 0.8486532393962212, 0.8493886916926607, 0.8520087124878992, 0.8517980710623498, 0.8505808325266215, 0.8469681079918253, 0.8503352335878958, 0.8518249614571008, 0.8489387257538275, 0.8485945287010146, 0.8509492309347101, 0.8472284966476641, 0.8522767200889176, 0.8500743967588111, 0.8509286149654011, 0.8478281524506113, 0.8483874726614321, 0.8481257394858557, 0.8480190742533433, 0.8490946900433832, 0.849378831881252, 0.8481571116130652, 0.8502684557742641, 0.8491215804381342, 0.8488365422537738, 0.8472195331827472, 0.8467050302965113, 0.8510666523251228, 0.8507762360618121, 0.8446685310673695, 0.8477555483847836, 0.8508703524434406, 0.8496791079559715, 0.8499695242192822, 0.847793194937435, 0.8514556667025204, 0.849629808898928, 0.8491941845039619, 0.8503459897457961, 0.848954859990678, 0.8443306084399985, 0.8491704313219318, 0.8464719802086695, 0.8492273493241548, 0.8505458750134453, 0.8499677315262988, 0.8519168369725001, 0.8493102613746369, 0.8488392312932487, 0.8482341974113514, 0.8531358682012119, 0.8465266573446631, 0.8503208920440286, 0.8497006202717723, 0.8497024129647555, 0.8491968735434371, 0.8448374923810548, 0.850370191101072, 0.8500143415438672, 0.8517900039439245, 0.8453493062278153, 0.8480450683016028, 0.847274210318741, 0.8497750170305833, 0.8492349682693341, 0.8494227528593453, 0.8501326592807716, 0.8515972894482091, 0.8479733605822667, 0.8489539636441863, 0.8507116991144097, 0.8516017711806676, 0.8513292818471908, 0.8472016062529131, 0.8503737764870388, 0.8492390018285467, 0.8489799576924457, 0.8522435552687246, 0.849477429995339, 0.8496611810261374, 0.8489512746047112, 0.8481669714244738, 0.8479303359506649, 0.8462685095550536, 0.8482090997095837, 0.8480504463805528, 0.850239324513284, 0.8482117887490589, 0.8466691764368435, 0.852123444838837, 0.8463402172743895, 0.8513758918647591, 0.8503881180309061, 0.8516161127245347, 0.8498310386863146, 0.8470707396651249, 0.8519598616041018, 0.8490193969380804, 0.851287153562081, 0.8499372557455811, 0.8494765336488473, 0.8459565809759422, 0.8512512997024131, 0.8506417840880571, 0.8484367717184755, 0.848820408016923, 0.8483327955254383, 0.8489575490301531, 0.8493277401312251, 0.8498807859166038, 0.8467247499193288, 0.8488302678283317, 0.8465831271736403, 0.8496195009142734, 0.8477967803234019, 0.8474301746082964, 0.8487594564554874, 0.8514843497902549, 0.8513920261016098, 0.8505351188555448, 0.852078627514252, 0.8500233050087843, 0.8500035853859667, 0.8495410705962497, 0.8457880678355023, 0.8470832885160089, 0.8452269549316984, 0.8505781434871464, 0.8515058621060557, 0.8532286400631028, 0.8497445412498654, 0.8483121795561293, 0.8435032806281595, 0.8480907819726793, 0.8487872431967302, 0.8450647162167007, 0.8478622136172959, 0.8492748556882148, 0.8477645118497007, 0.8482637768455776, 0.8489772686529705, 0.8480750959090746, 0.8483292101394716, 0.8473208203363091, 0.8501922663224697, 0.8473118568713922, 0.8477223835645908, 0.8477358287619662, 0.8492461726004804, 0.8503199956975369, 0.8462774730199707, 0.8468054211035818, 0.8499175361227636, 0.8480970563981213, 0.8494944605786814, 0.8471612706607866, 0.8425872145136424, 0.8528441074181635, 0.8480289340647521, 0.8513077695313902, 0.8503056541536697, 0.85256803269872, 0.847981427700692, 0.8479106163278478, 0.8463070524541966, 0.849432612670754, 0.8506821196801837, 0.8494899788462228, 0.8485022050123695, 0.8497382668244235, 0.8520405327883547, 0.8456500304757809, 0.8493537341794846, 0.8476206482377828, 0.849196873543437, 0.8496450467892869, 0.8471850238428166, 0.8469022265246855, 0.8473495034240437, 0.8498225233946435, 0.8480226596393101, 0.8522453479617081, 0.8521315119572622, 0.8487415295256535, 0.8497983220393676, 0.8476452977663045, 0.8474041805600373, 0.8520472553870424, 0.8500636406009106, 0.8503280628159622, 0.8512997024129647, 0.8486514467032377, 0.8519128034132875, 0.8478048474418272, 0.8485434369509878, 0.8497768097235667, 0.848788139543222, 0.8485147538632534, 0.8503679502348428, 0.8527320641067012, 0.8495979885984728, 0.849143092753935, 0.8473799792047614, 0.849378831881252, 0.847542217919759, 0.8497794987630418, 0.8474691656806855, 0.8532618048832958, 0.848456491341293, 0.8476847370119394, 0.8505548384783621, 0.8480934710121544, 0.8513507941629916, 0.8508873830267829, 0.8464486751998853, 0.8523663547380875, 0.8504383134344412, 0.8489109390125847, 0.8477806460865512, 0.845613280269621, 0.8516170090710264, 0.8499596644078736, 0.8501716503531606, 0.8434530852246245, 0.8503235810835037, 0.8512638485532968, 0.847829048797103, 0.8492542397189058, 0.8499354630525976, 0.8511016098382991, 0.8496540102542038, 0.8506489548599907, 0.845709189344233, 0.8514628374744541, 0.850215123158008, 0.8475018823276327, 0.8512638485532967, 0.8467982503316482, 0.8510532071277472, 0.849277096554444, 0.8525335233587896, 0.8495563084866086, 0.8486949195080851, 0.8493107095478828, 0.8481831056613245, 0.8475323581083504, 0.8508470474346563, 0.8484672474991933, 0.8486796816177261, 0.8486223154422574, 0.850104872539529, 0.8509546090136604, 0.8505324298160697, 0.8455433652432685, 0.8484995159728945, 0.8519459682334803, 0.8476166146785701, 0.847276899358216, 0.8478120182137607, 0.8448755871069521, 0.8512472661432003, 0.8487370477931951, 0.8481741421964074, 0.8480706141766161, 0.8465320354236133, 0.8471388619984941, 0.8514467032376035, 0.8480074217489512, 0.847043849270374, 0.8490059517407049, 0.846586712559607, 0.854622458857696, 0.8493125022408662, 0.8515000358538596, 0.8504911978774514, 0.8456634756731563, 0.850459825750242, 0.850134451973755, 0.8433724140403713, 0.8496163637015525, 0.8503576422501882, 0.8469900684808721, 0.8470160625291313, 0.8521861890932558, 0.8477833351260264, 0.8516214908034849, 0.8515937040622423, 0.8499126062170594, 0.8490418056003728, 0.8479343695098778, 0.8497436449033738, 0.849271270302248, 0.8494707073966512, 0.848501308665878, 0.8480997454375963, 0.8478469757269369, 0.8464025133555628, 0.8504284536230324, 0.850248287978201, 0.8500573661754688, 0.849701516618264, 0.8494810153813058, 0.8476426087268295, 0.8489692015345452, 0.8505153992327276, 0.8500170305833423, 0.8501774766053565, 0.8482691549245276, 0.8500430246316016, 0.848028934064752, 0.8466727618228101, 0.8514588039152414, 0.8480674769638951, 0.8454080169230218, 0.8513203183822738, 0.8464038578753001, 0.8494281309382955, 0.8520266394177333, 0.8490991717758416, 0.8485586748413466, 0.8494397834426876, 0.8485999067799649, 0.8496226381269945, 0.8513633430138756, 0.8454349073177728, 0.8478971711304722, 0.8466588684521889, 0.8485541931088881, 0.8498467247499194, 0.8471505145028864, 0.8474328636477717, 0.8521637804309633, 0.8486778889247428, 0.8492766483811982, 0.8482422645297767, 0.8477591337707504, 0.8458301961206123, 0.8488168226309563, 0.850925925925926, 0.8487011939335269, 0.849842243017461, 0.8499256032411889, 0.8480612025384533, 0.8475977914022443, 0.848199239898175, 0.8489441038327776, 0.8474678211609481, 0.8501057688860207, 0.8508681115772112, 0.8492112150873042, 0.8485138575167617, 0.8462317593488939, 0.8503356817611416, 0.8513866480226596, 0.8497947366534007, 0.849719443548098, 0.8452637051378582, 0.8464791509806031, 0.8491162023591838, 0.8501774766053565, 0.8491081352407588, 0.8500174787565882, 0.8504212828510989, 0.8489934028898211, 0.8510944390663655, 0.8494361980567209, 0.8467552257000466, 0.8488123408984977, 0.8521503352335879, 0.8510451400093221, 0.8489369330608441, 0.846055627263275, 0.8484829335627979, 0.8461188196909397, 0.8487988957011222, 0.8516188017640098, 0.8476811516259726, 0.8487988957011223, 0.8505207773116776, 0.8488706034204582, 0.8519038399483705, 0.8528602416550142, 0.8490866229249578, 0.8485649492667885, 0.8486214190957656, 0.8500829120504823, 0.849764260872683, 0.8493528378329928, 0.8507233516188017, 0.8502043670001076, 0.8480136961743932, 0.8512790864436556, 0.8497400595174069, 0.8495020795238608, 0.8469640744326127, 0.8471236241081352, 0.8478864149725718, 0.8507134918073931, 0.8505808325266215, 0.8502975870352443, 0.8471567889283281, 0.8474875407837654, 0.8481526298806067, 0.8510245240400128, 0.8514520813165538, 0.850441898820408, 0.8482243375999428, 0.850830016851314, 0.8489360367143525, 0.851113710515937, 0.8518670897422109, 0.8489683051880534, 0.8508219497328887, 0.849838657631494, 0.8469855867484135, 0.8520611487576638, 0.8530690903875803, 0.8502948979957692, 0.8457360797389839, 0.8485057903983365, 0.8497902549209423, 0.8490104334731634, 0.8487092610519523, 0.8519128034132875, 0.847423003836363, 0.8471836793230793, 0.8505198809651859, 0.8496172600480442, 0.848250331648202, 0.8490418056003728, 0.8485219246351869, 0.8496195009142735, 0.8513019432791941, 0.8503872216844143, 0.8483861281416945, 0.8501263848553298, 0.8506740525617583, 0.8492192822057294, 0.8516833387114123, 0.8517057473737049, 0.84734233265211, 0.8505100211537773, 0.8504813380660428, 0.8498368649385106, 0.850946541895235, 0.8475995840952277, 0.8482610878061023, 0.8479294396041733, 0.8470097881036893, 0.8471549962353448, 0.8484430461439174, 0.8495715463769674, 0.8507636872109283, 0.8498010110788426, 0.8508336022372809, 0.8503979778423146, 0.8471505145028863, 0.8489602380696284, 0.8498592736008033, 0.8498489656161488, 0.8492345200960884, 0.84576565917321, 0.8473414363056183, 0.8474884371302571, 0.846733265211, 0.8467516403140799, 0.8500528844430103, 0.8507807177942706, 0.8465472733139722, 0.8477752680076012, 0.8495168692409738, 0.8510290057724714, 0.8507654799039117, 0.8494989423111399, 0.8507645835574199, 0.8484654548062099, 0.849154745258327, 0.8494433688286545, 0.8487110537449358, 0.8475431142662507, 0.8477940912839267, 0.8449768742605142, 0.8491305439030511, 0.8491542970850813, 0.8483686493851064, 0.8506857050661504, 0.8461398838334948, 0.8463227385178014, 0.8508022301100714, 0.8468152809149905, 0.8506193754257645, 0.8486456204510415, 0.8459337241404037, 0.8497086873901976, 0.8544010612742462, 0.8510442436628303, 0.848963823455595, 0.8501608941952601, 0.8454187730809222, 0.8471971245204546, 0.8489951955828045, 0.8509555053601521, 0.8488078591660392, 0.8500887383026783, 0.8491870137320283, 0.8509958409522784, 0.8471769567243914, 0.8518823276325698, 0.8479832203936754, 0.8491516080456061, 0.8510119751891293, 0.8501272812018213, 0.8510926463733821, 0.8529050589795991, 0.8457495249363594, 0.8493586640851889, 0.8529153669642537, 0.8495088021225484, 0.8502608368290846, 0.8492914380983112, 0.8477304506830161, 0.8489181097845183, 0.8495563084866085, 0.8512158940159907, 0.8488455057186907, 0.8506408877415654, 0.8495814061883762, 0.8517998637553332, 0.8499498045964646, 0.8461367466207739, 0.8515963931017173, 0.8494720519163887, 0.8492488616399556, 0.852550105768886, 0.8509124807285504, 0.8451462837474454, 0.8502832454913771, 0.8452206805062565, 0.8504732709476175, 0.8493084686816536, 0.8504625147897171, 0.8490104334731634, 0.8509366820838263, 0.8467677745509306, 0.8480334157972107, 0.8521207557993618, 0.8481113979419885, 0.852153024273063, 0.8518446810799184, 0.8501559642895559, 0.8466485604675343, 0.8504643074827005, 0.8515022767200889, 0.8511123659961994, 0.8486402423720913, 0.8505530457853788, 0.8465732673622317, 0.8503307518554373, 0.8503603312896633, 0.8511114696497079, 0.8494908751927144, 0.8492703739557563, 0.8483565487074683, 0.8492990570434907, 0.8524631601591912, 0.8526325696461224, 0.8508730414829158, 0.8483139722491126, 0.8483220393675379, 0.8491179950521675, 0.8479536409594494, 0.8478209816786778, 0.8504320390089993, 0.8478675916962461, 0.8489602380696281, 0.8504876124914847, 0.8514601484349791, 0.8477645118497005, 0.8469923093471012, 0.8514377397726864, 0.8494899788462229, 0.8496540102542038, 0.8485963213939982, 0.8516430031192856, 0.8471101789107597, 0.8495787171489011, 0.8496217417805025, 0.8478088810010398, 0.8505360152020365, 0.8510424509698469, 0.8462568570506614, 0.8487487002975871, 0.8499435301710229, 0.8490857265784663, 0.8496862787279051, 0.84862634900147, 0.8472025025994048, 0.8525187336416766, 0.8513158366498155, 0.8498601699472949, 0.8532877989315549, 0.8531381090674411, 0.8477663045426841, 0.8477976766698934, 0.8494854971137644, 0.8489199024775016, 0.8514789717113047, 0.8492658922232978, 0.848858950916066, 0.8532098167867771, 0.8496401168835825, 0.8492645477035603, 0.8517066437201964, 0.8461537772041161, 0.8503800509124807, 0.8483614786131728, 0.8474167294109212, 0.8471218314151518, 0.8501712021799146, 0.8492255566311714, 0.8498028037718259, 0.8485999067799648, 0.8484502169158509, 0.8484582840342764, 0.8533639883833494, 0.8488114445520061, 0.8428579111541357, 0.8500752931053027, 0.8497033093112473, 0.8499749022982326, 0.8486223154422574, 0.8494702592234054, 0.8499659388333154, 0.8467677745509304, 0.8478084328277938, 0.8486572729554336, 0.8534097020544261, 0.8489481373919903, 0.8510460363558137, 0.8476560539242051, 0.8481472518016565, 0.8509702950772652, 0.8520669750098597, 0.8497194435480979, 0.8476533648847299, 0.8503576422501883, 0.8501873364167652, 0.8496351869778782, 0.8486823706572013, 0.8492403463482845, 0.8513606539744003, 0.8511742139041268, 0.8492493098132013, 0.852749991036535, 0.8492318310566134, 0.849650424868237, 0.8496822451686923, 0.848820408016923, 0.8467113047219533, 0.8497920476139258, 0.8505727654081963, 0.8513579649349252, 0.8478864149725718, 0.8505646982897709, 0.8506910831451007, 0.8472092251980926, 0.8525124592162345, 0.8496289125524363, 0.8498189380086767, 0.8510630669391559, 0.8500851529167114, 0.8518818794593237, 0.8497517120217992, 0.8507134918073931, 0.8495437596357248, 0.8507950593381378, 0.8507224552723102, 0.8511634577462264, 0.8525787888566204, 0.8483117313828834, 0.8510944390663655, 0.8513418306980747, 0.8503450933993044, 0.8498825786095873, 0.8500000000000001, 0.8494155820874116, 0.8475319099351044, 0.8486518948764834, 0.8467821160947976, 0.8490404610806354, 0.8488607436090494, 0.8487002975870351, 0.8507896812591876, 0.8489898175038544, 0.8505915886845219, 0.8494801190348141, 0.8476067548671615, 0.8473450216915851, 0.8507215589258184, 0.8459754042522678, 0.8500197196228172, 0.8498834749560791, 0.8496849342081675, 0.8491771539206194, 0.8502249829694166, 0.8495975404252267, 0.8475641784088057, 0.8486814743107096, 0.8491090315872504, 0.854389408769854, 0.8466772435552687, 0.8510738230970565, 0.8493250510917499, 0.8494308199777707, 0.8529328457208418, 0.8496002294647019, 0.8471711304721953, 0.8490776594600409, 0.8481212577533972, 0.8479885984726256, 0.8533451651070239, 0.8523842816679215, 0.8496280162059445, 0.8488867376573088, 0.8500488508837976, 0.8496835896884298, 0.8507726506758453, 0.8507520347065363, 0.8505449786669534, 0.8487621454949625, 0.8509079989960919, 0.8481696604639489, 0.849805492811301, 0.8479258542182068, 0.8485613638808216, 0.8463518697787817, 0.8475691083145099, 0.8463025707217382, 0.851394715141085, 0.8502442544189881, 0.850982395754903, 0.8498063891577929, 0.8524273062995231, 0.8474041805600374, 0.8493815209207269, 0.8479626044243662, 0.8503715356208097, 0.8480392420494066, 0.8468430676562331, 0.8534343515829479, 0.847739414147933, 0.8496360833243699, 0.8484959305869277, 0.8496047111971603, 0.8500779821447778, 0.8477976766698937, 0.8494908751927145, 0.8480002509770176, 0.8507843031802372, 0.8475126384855329, 0.8519154924527625, 0.8494935642321896, 0.8489763723064787, 0.8518294431895594, 0.8483327955254382, 0.8485210282886952, 0.8503603312896633, 0.8479706715427915, 0.8475180165644833, 0.8447949159226991, 0.8442042235846688, 0.8522767200889175, 0.8495088021225485, 0.8505485640529203, 0.8490906564841706, 0.8478129145602523, 0.849534796170808, 0.8490023663547381, 0.8501891291097486, 0.8494899788462228, 0.8482870818543615, 0.8491421964074432, 0.8475646265820515, 0.8493644903373848, 0.8462828510989208, 0.8509689505575275, 0.8488042737800725, 0.8483758201570398, 0.8489907138503461, 0.850349126958517, 0.8470572944677496, 0.852377110895988, 0.8491247176508552, 0.8520118497006202, 0.8487262916352946, 0.8504015632282815, 0.8507448639346026, 0.8495356925172997, 0.8523107812556022, 0.8496755225700048, 0.8502850381843604, 0.849354630525976, 0.8482113405758129, 0.8487782797318133, 0.8491986662364204, 0.8514135384174105, 0.8500439209780933, 0.8489181097845183, 0.8490373238679144, 0.8504970241296477, 0.8481669714244738, 0.8498521028288695, 0.8467059266430031, 0.8458109246710408, 0.8488222007099063, 0.850423971890574, 0.8507273851780145, 0.849396758811086, 0.8482530206876769, 0.8534267326377685, 0.8489028718941594, 0.8479688788498082, 0.8536082428023377, 0.8484367717184755, 0.8460753468860922, 0.8469425621168118, 0.8447814707253236, 0.8496656627585959, 0.851364239360367, 0.8503262701229787, 0.8509393711233015, 0.8468744397834427, 0.8504436915133913, 0.8507072173819512, 0.8517469793123229, 0.8505629055967874, 0.8498736151446703, 0.8508622853250152, 0.8478631099637877, 0.8468771288229178, 0.8505351188555449, 0.8456984331863326, 0.8491726721881612, 0.8474714065469149, 0.8488181671506938, 0.8484287046000502, 0.8512584704743466, 0.8484511132623426, 0.8466826216342189, 0.8492784410741816, 0.85204859990678, 0.8498556882148364, 0.845425047506364, 0.8513749955182675, 0.8484690401921766, 0.8486070775518985, 0.8484143630561831, 0.8472392528055644, 0.8507206625793267, 0.8511338783120003, 0.8492995052167365, 0.8473235093757843, 0.8547882829586605, 0.8499784876841991, 0.8489530672976947, 0.8506435767810405, 0.8485273027141371, 0.8472267039546807, 0.8450866767057474, 0.8508376357964935, 0.8497436449033738, 0.8498574809078197, 0.8514888315227135, 0.8507520347065363, 0.8500089634649171, 0.8473055824459503, 0.8505512530923953, 0.8510729267505648, 0.849901401885913, 0.850528396256857, 0.8493232583987667, 0.8494137893944284, 0.8490498727187982, 0.8488015847405974, 0.8506381987020903, 0.8450508228460794, 0.846395790756875, 0.8504338317019827, 0.8513579649349252, 0.8467937685991898, 0.8506113083073393, 0.8479258542182067, 0.8500053780789503, 0.850102183500054, 0.8495733390699509, 0.8487406331791617, 0.8496647664121043, 0.8496401168835825, 0.8475144311785163, 0.8491162023591841, 0.8461475027786741, 0.8499596644078735, 0.8485138575167617, 0.8480069735757054, 0.8501756839123732, 0.8508820049478326, 0.8501945071886989, 0.8488912193897673, 0.8474767846258648, 0.8491623642035064, 0.8487348069269658, 0.8478362195690365, 0.8495616865655589, 0.8495455523287081, 0.8485120648237783, 0.8489158689182891, 0.8500735004123194, 0.8494344053637375, 0.8499874511491161, 0.8502814527983937, 0.8479419884550572, 0.8514924169086802, 0.8500878419561866, 0.8486285898676992, 0.8483439998565846, 0.8493335663834212, 0.8441374457710372, 0.8533604029973827, 0.8491009644688252, 0.8491354738087555, 0.8485810835036391, 0.8485165465562368, 0.8500439209780932, 0.8491265103438386, 0.8503531605177297, 0.8506247535047149, 0.8493662830303683, 0.8446613602954358, 0.8463760711340576, 0.8512109641102865, 0.8437166110931842, 0.8477770607005843, 0.8507592054784698, 0.8503078950198989, 0.8465284500376467, 0.8490911046574163, 0.8484385644114589, 0.8446093721989172, 0.8513041841454234, 0.8472338747266143, 0.8492116632605501, 0.851971065935248, 0.8468618909325587, 0.8503406116668459, 0.850522570004661, 0.8493788318812521, 0.8515524721236243, 0.8511975189129108, 0.850197196228174, 0.8511132623426912, 0.8499605607543652, 0.8473521924635188, 0.8428130938295508, 0.8502756265461978, 0.8464899071385035, 0.8507161808468682, 0.8456742318310566, 0.8500824638772364, 0.8488544691836075, 0.8494003441970527, 0.85238338532143, 0.8478855186260801, 0.8478900003585386, 0.851451184970062, 0.8503002760747195, 0.8508223979061347, 0.8508013337635797, 0.8463697967086157, 0.8484242228675918, 0.8480710623498618, 0.8467220608798538, 0.848587357929081, 0.8513068731848983, 0.8499040909253881, 0.8502841418378688, 0.8463922053709083, 0.8455648775590692, 0.8471872647090459, 0.8483749238105482, 0.8465530995661683, 0.8469452511562869, 0.8490113298196551, 0.849411548528199, 0.8512073787243197, 0.8497445412498655, 0.8517837295184827, 0.849536588863791, 0.8503948406295938, 0.8508443583951812, 0.8483005270517372, 0.850134451973755, 0.847136172959019, 0.8492811301136567, 0.8504365207414579, 0.8472087770248468, 0.8514700082463877, 0.8456186583485712, 0.8493384962891255, 0.8489355885411065, 0.8502617331755764, 0.8512889462550643, 0.8522650675845256, 0.8465302427306298, 0.8480262450252769, 0.8491197877451508, 0.8498583772543116, 0.8476542612312216, 0.8519746513212147, 0.8500340611666846, 0.8498126635832348, 0.850740382202144, 0.8504490695923417, 0.8471787494173747, 0.8507125954609014, 0.8473414363056183, 0.8540447635437954, 0.8484618694202432, 0.8493259474382417, 0.8505543903051164, 0.8504401061274246, 0.8514484959305869, 0.8520347065361586, 0.8489611344161199, 0.8485013086658779, 0.8470268186870317, 0.8477985730163852, 0.8489512746047112, 0.848921695170485, 0.8492470689469722, 0.8499309813201392, 0.8477985730163852, 0.8512046896848446, 0.8462980889892797, 0.8483301064859632, 0.8461959054892259, 0.8471021117923344, 0.849017604245097, 0.8457324943530171, 0.8503504714782546, 0.8525429349969524, 0.8477555483847836, 0.8518119644329712, 0.8505880032985551, 0.848793517622172, 0.8498655480262449, 0.8497561937542577, 0.8501165250439211, 0.8498377612850023, 0.8488813595783588, 0.8496809006489549, 0.8479850130866589, 0.8468995374852103, 0.8507681689433866, 0.8472688322397905, 0.8495504822344125, 0.8495827507081137, 0.8509850847943782, 0.8507753397153204, 0.8466718654763186, 0.8501142841776916, 0.8511625613997347, 0.8503800509124808, 0.8520580115449428, 0.8481831056613245, 0.8460332186009825, 0.8486070775518985, 0.8492067333548456, 0.850635957835861, 0.8487079165322147, 0.8495231436664158, 0.8495303144383493, 0.8469802086694633, 0.8486850596966763, 0.8456446523968305, 0.8437847334265535, 0.848461869420243, 0.8511267075400666, 0.8499901401885913, 0.8509555053601521, 0.851158976013768, 0.8480975045713672, 0.8485524004159047, 0.8467139937614284, 0.849626223512961, 0.8477429995338996, 0.854532824208526, 0.8516349360008604, 0.8468699580509842, 0.8468466530422, 0.8487137427844107, 0.8487737979993546, 0.8473046860994586, 0.8514063676454771, 0.8490624215696819, 0.8451023627693521, 0.8484609730737513, 0.8505745581011795, 0.8501398300527052, 0.8464585350112941, 0.8489674088415617, 0.8468332078448246, 0.8511966225664194, 0.8507609981714532, 0.8491699831486861, 0.8490427019468647, 0.8507385895091607, 0.8497337850919652, 0.8486509985299917, 0.8501873364167654, 0.8506982539170342, 0.8471334839195439, 0.8469703488580547, 0.8477434477071455, 0.8489808540389374, 0.8499713169122657, 0.8527123444838837, 0.8452578788856621, 0.8477161091391487, 0.8506157900397977, 0.8490480800258149, 0.850215123158008, 0.8484735219246352, 0.8497499193288158, 0.8479401957620736, 0.848477107310602, 0.846201283568176, 0.8501227994693629, 0.8476237854505038, 0.8505915886845219, 0.8487244989423112, 0.8481158796744469, 0.8501658241009645, 0.849178946613603, 0.8510021153777204, 0.8494474023878671, 0.8496181563945359, 0.8506319242766484, 0.8505145028862358, 0.8493277401312251, 0.8503011724212111, 0.8464755655946362, 0.8488123408984978, 0.8479531927862034, 0.8484260155605752, 0.8478330823563156, 0.8495589975260837, 0.8504221791975907, 0.8514861424832383, 0.8515932558889965, 0.8500663296403859, 0.8477743716611094, 0.8492112150873043, 0.8512687784590012, 0.8522077014090567, 0.8517873149044496, 0.8473315764942096, 0.8471236241081352, 0.8527455093040766, 0.8536100354953211, 0.8493160876268331, 0.8485559858018715, 0.8468551683338711, 0.8488813595783588, 0.8501102506184791, 0.8489306586354021, 0.8489476892187444, 0.8494890824997311, 0.8489718905740202, 0.851582947904342, 0.8480006991502635, 0.8480235559858018, 0.8513503459897459, 0.8471070416980389, 0.8513879925423973, 0.8503728801405472, 0.850785199526729, 0.8522431070954789, 0.8482754293499695, 0.8502572514431179, 0.8510980244523324, 0.8505010576888603, 0.8475081567530743, 0.8503110322326198, 0.847136172959019, 0.8481391846832311, 0.8512199275752035, 0.8479115126743393, 0.8505812806998674, 0.8495787171489011, 0.8516528629306945, 0.8479554336524326, 0.8515865332903086, 0.8508165716539386, 0.8511034025312825, 0.8500622960811732, 0.8502303610483669, 0.8492103187408124, 0.8485443332974796, 0.8495607902190672, 0.8469855867484135, 0.8476363343013875, 0.8490220859775555, 0.8510971281058406, 0.8491574342978023, 0.8483171094618335, 0.8477689935821591, 0.8483041124377039, 0.849654010254204, 0.8483973324728408, 0.8469443548097952, 0.8514709045928794, 0.8514027822595103, 0.8518921874439783, 0.8476417123803377, 0.848575705424689, 0.8496889677673802, 0.8491852210390448, 0.8485084794378115, 0.8493393926356172, 0.8504517586318168, 0.8490830375389912, 0.8488405758129862, 0.8488822559248503, 0.8486581693019253, 0.851167939478685, 0.8486079738983902, 0.8501658241009645, 0.8470922519809259, 0.8494075149689864, 0.8518509555053602, 0.8481813129683411, 0.845518267541501, 0.8511813846760604, 0.8523932451328387, 0.8480836112007457, 0.8525823742425871, 0.8509142734215339, 0.8458503639166757, 0.8493304291707002, 0.8480585134989782, 0.8488437130257073, 0.8532232619841524, 0.8486662364203507, 0.8504849234520097, 0.8504436915133915, 0.85152916711484, 0.8471200387221685, 0.8472957226345414, 0.8489597898963823, 0.8526630454268401, 0.8501299702412963, 0.8511594241870137, 0.8495383815567745, 0.8489091463196015, 0.849587680613818, 0.8468170736079739, 0.8473333691871929, 0.8489216951704851, 0.8455765300634612, 0.8485613638808218, 0.8528575526155391, 0.849993725574558, 0.850946541895235, 0.846270302248037, 0.8488195116704312, 0.8500878419561865, 0.8523466351152702, 0.8466019504499659, 0.8458768061381808, 0.8469712452045463, 0.850731418737227, 0.8525250080671183, 0.8491099279337422, 0.850701839303001, 0.8482870818543616, 0.8496405650568283, 0.8509250295794344, 0.8481952063389624, 0.8493537341794845, 0.8486908859488724, 0.8518980136961745, 0.8485237173281704, 0.8483838872754652, 0.8480576171524865, 0.8500031372127209, 0.8466750026890395, 0.8471693377792118, 0.8493277401312251, 0.8469640744326128, 0.8501201104298878, 0.8488222007099063, 0.8483919543938905, 0.8478487684199204, 0.8480638915779283, 0.8512288910401203, 0.8502944498225232, 0.8494532286400629, 0.8484627657667347, 0.848963823455595, 0.8515121365314977, 0.8548088989279696, 0.8483623749596645, 0.8491215804381342, 0.8501891291097486, 0.851859918970277, 0.8484959305869276, 0.8500770857982861, 0.84882937148184, 0.8496513212147287, 0.8466781399017606, 0.845986160410168, 0.8509071026496001, 0.8503773618730055, 0.8499058836183715, 0.8504069413072317, 0.849827005127102, 0.8517850740382203, 0.8466772435552687, 0.849113513319709, 0.8494294754580333, 0.8485725682119679, 0.8453838155677458, 0.8491780502671111, 0.8511769029436019, 0.8492555842386433, 0.8503128249256032, 0.8500788784912696, 0.8487500448173246, 0.852254311426625, 0.8511311892725253, 0.8532071277473021, 0.8476672582553513, 0.8502438062457424, 0.8486151446703238, 0.8498350722455272, 0.8514677673801584, 0.8450432039008999, 0.8510626187659102, 0.8482996307052453, 0.8477474812663583, 0.8476686027750888, 0.8511450826431466, 0.8515730880929332, 0.8456123839231294, 0.8494003441970528, 0.8510236276935212, 0.8466718654763185, 0.8449898712846438, 0.8511302929260335, 0.8520750421282851, 0.8490731777275824, 0.8471039044853179, 0.84770087124879, 0.847811121867269, 0.8528163206769208, 0.8487648345344376, 0.8467139937614285, 0.8483982288193325, 0.8500842565702198, 0.8472186368362553, 0.8496020221576853, 0.8482135814420422, 0.8477170054856404, 0.8474032842135455, 0.8495661682980172, 0.8481759348893909, 0.8508407730092146, 0.8489656161485784, 0.8473378509196516, 0.8503975296690689, 0.8470689469721415, 0.8480477573410777, 0.8486241081352408, 0.8453524434405364, 0.8509886701803451, 0.845529920045893, 0.849930981320139, 0.8499462192104981, 0.8480029400164928, 0.8489539636441863, 0.8515600910688035, 0.8482019289376502, 0.8473064787924419, 0.8512916352945396, 0.8481589043060487, 0.8503603312896634, 0.8471218314151517, 0.847739414147933, 0.8487451149116203, 0.8481427700691979, 0.8481732458499157, 0.8490902083109246, 0.8470335412857195, 0.8506104119608475, 0.8499726614320031, 0.8485210282886952, 0.8480795776415331, 0.8521440608081461, 0.846664694704385, 0.8489073536266178, 0.8466862070201857, 0.8465078340683375, 0.850698253917034, 0.8498216270481518, 0.8491982180631745, 0.8468771288229178, 0.8514718009393711, 0.8479410921085655, 0.8493214657057833, 0.8493716611093184, 0.8498287978200852, 0.8490202932845721, 0.8481212577533971, 0.8471227277616437, 0.8511007134918075, 0.8488464020651824, 0.8489781649994622, 0.8484260155605751, 0.8507726506758453, 0.8505727654081963, 0.8492381054820552, 0.8513337635796493, 0.8472060879853716, 0.8487581119357499, 0.8509617797855938, 0.8469882757878886, 0.8480441719551111, 0.8506381987020901, 0.8490480800258149, 0.8462487899322362, 0.8475493886916928, 0.8487388404861784, 0.8503692947545805, 0.8493178803198165, 0.8500932200351369, 0.8476721881610554, 0.8475233946434334, 0.8463429063138647, 0.8512822236563766, 0.8484430461439174, 0.8495294180918576, 0.8477797497400595, 0.8501689613136856, 0.8451677960632462, 0.8517846258649744, 0.8496230863002402, 0.8503262701229788, 0.8521736402423722, 0.8480863002402208, 0.8517577354702233, 0.8519638951633144, 0.8514117457244273, 0.8513606539744003, 0.8454761392563909, 0.8486940231615935, 0.8495025276971067, 0.8509985299917535, 0.8497301997059983, 0.8491699831486861, 0.8487616973217167, 0.8484107776702162, 0.8514794198845504, 0.8486241081352408, 0.8478389086085116, 0.8502473916317093, 0.8500107561579006, 0.8479805313542002, 0.8499489082499732, 0.8503137212720949, 0.8500197196228174, 0.84808854110645, 0.8485031013588613, 0.8525931304004877, 0.8461340575812986, 0.8447303789752967, 0.8467803234018143, 0.8479061345953893, 0.8473019970599837, 0.8480432756086193, 0.8486133519773403, 0.8464773582876196, 0.8483238320605213, 0.8513265928077158, 0.8492524470259225, 0.8502016779606325, 0.8478218780251695, 0.8480925746656627, 0.8473324728407015, 0.8475458033057258, 0.8521718475493887, 0.8503388189738625, 0.8503370262808791, 0.8503872216844144, 0.8494823599010433, 0.8487397368326701, 0.8498377612850023, 0.850907998996092, 0.8467014449105446, 0.8490803484995162, 0.8485730163852139, 0.8502052633465993, 0.8509653651715607, 0.8513194220357823, 0.8534917177584167, 0.8511742139041267, 0.8484313936395254, 0.8499471155569897, 0.8465383098490553, 0.8494111003549532, 0.8491888064250115, 0.8484806926965689, 0.8504401061274246, 0.8484600767272596, 0.8520898318453982, 0.8502724893334768, 0.8516098382990931, 0.84774837761285, 0.8500555734824855, 0.8475592485031014, 0.8499009537126672, 0.8499193288157469, 0.8489772686529706, 0.8510384174106342, 0.8486169373633072, 0.8531372127209494, 0.8485093757843031, 0.8479975619375426, 0.8484062959377576, 0.8498323832060523, 0.8474525832705893, 0.84847083288516, 0.8484242228675916, 0.8518052418342834, 0.8466113620881288, 0.8521449571546377, 0.8471021117923345, 0.8488714997669498, 0.8482126850955506, 0.8480316231042272, 0.8486366569861246, 0.8451973754974723, 0.8507515865332904, 0.8508927611057331, 0.8508604926320318, 0.8490131225126387, 0.8496692481445627, 0.8490391165608978, 0.848354307841239, 0.8461663260549999, 0.8497714316446165, 0.8459825750242014, 0.8506346133161234, 0.8501066652325123, 0.8481647305582446, 0.8495334516510702, 0.8505427378007242, 0.8489176616112724, 0.8492793374206733, 0.8485111684772866, 0.8480370011831774, 0.8490884156179412, 0.8501573088092933, 0.8495213509734323, 0.8497351296117026, 0.8486554802624502, 0.8478209816786777, 0.8496280162059446, 0.8489243842099601, 0.8460471119716038, 0.8521162740669033, 0.8474418271126887, 0.8506794306407085, 0.8507116991144098, 0.8507031838227385, 0.8488392312932488, 0.8533810189666918, 0.8500170305833423, 0.8457105338639705, 0.8499749022982324, 0.8465347244630884, 0.8501003908070703, 0.848808755512531, 0.8503903588971353, 0.8501371410132301, 0.8491762575741278, 0.8506946685310673, 0.8487908285826969, 0.8505297407765947, 0.8487469076046037, 0.8511374636979672, 0.8500376465526515, 0.8505333261625614, 0.8521512315800797, 0.8495935068660141, 0.8500385428991433, 0.8515910150227671, 0.8528822021440607, 0.8471397583449859, 0.8496154673550608, 0.8511060915707578, 0.8471411028647234, 0.853189200817468, 0.8487702126133878, 0.8490104334731634, 0.8485904951418021, 0.8498673407192285, 0.8517182962245885, 0.8499426338245313, 0.852511562869743, 0.8480119034814098, 0.8458203363092036, 0.8505503567459037, 0.8506265461976981, 0.8498888530350291, 0.8487953103151554, 0.8456876770284321, 0.8483301064859632, 0.8460999964146141, 0.8475108457925496, 0.8496351869778782, 0.8488679143809831, 0.8514063676454771, 0.8497418522103903, 0.8466055358359328, 0.8499861066293786, 0.8466001577569825, 0.8503002760747196, 0.8473360582266681, 0.853251945071887, 0.8456240364275214, 0.844879172492919, 0.8466001577569826, 0.8492918862715573, 0.8493510451400093, 0.8497077910437059, 0.8473916317091534, 0.8532268473701192, 0.8501470008246388, 0.850863181671507, 0.8487962066616471, 0.8497266143200315, 0.8497382668244238, 0.8491054462012835, 0.8513373489656162, 0.8516931985228209, 0.8489799576924456, 0.8469089491233732, 0.8485846688896059, 0.8498207307016601, 0.8472970671542791, 0.8520212613387831, 0.8497517120217992, 0.8473387472661431, 0.8490857265784661, 0.8507717543293536, 0.8496159155283066, 0.8508721451364238, 0.8504786490265677, 0.8509200996737298, 0.8509958409522786, 0.8493904843856441, 0.8487200172098527, 0.8512763974041806, 0.8477752680076011, 0.8474597540425226, 0.8481642823849986, 0.8457791043705855, 0.85044817324585, 0.8467986985048941, 0.8486052848589151, 0.8528871320497651, 0.8489234878634686, 0.8484636621132267, 0.8503056541536695, 0.848901079201176, 0.8486433795848123, 0.8498287978200854, 0.8495652719515255, 0.8509788103689362, 0.8479025492094224, 0.8493438743680757, 0.8491708794951777, 0.8490023663547381, 0.8492165931662543, 0.849800114732351, 0.8499202251622389, 0.8515972894482091, 0.8479652934638413, 0.847682944318956, 0.849979384030691, 0.8450772650675845, 0.8505844179125883, 0.851262952206805, 0.849827005127102, 0.8501205586031337, 0.8506068265748808, 0.8476085475601448, 0.8471612706607866, 0.8483327955254383, 0.8524022085977555, 0.8514475995840953, 0.8477223835645908, 0.8476327489154207, 0.8497194435480979, 0.8471675450862286, 0.848766627227421, 0.8519074253343373, 0.8461824602918504, 0.8500107561579004, 0.8455451579362518, 0.849844932056936, 0.8491789466136028, 0.8486931268151017, 0.8492080778745832, 0.8443350901724569, 0.8505360152020365, 0.8490140188591303, 0.8486178337097988, 0.8517160553583594, 0.8501380373597218, 0.8536588863791187, 0.846685310673694, 0.8511813846760603, 0.8489270732494354, 0.8433464199921122, 0.8503397153203542, 0.8473943207486287, 0.8499811767236743, 0.8505315334695781, 0.8488589509160661, 0.852792119321645, 0.8484278082535586, 0.8477268652970491, 0.8528391775124594, 0.848363719479402, 0.85058531425908, 0.8512539887418881, 0.8485470223369547, 0.8485134093435158, 0.8484901043347317, 0.8506973575705425, 0.8474740955863898, 0.8474579613495393, 0.8488472984116741, 0.8474642357749812, 0.8479751532752501, 0.8481400810297229, 0.8468699580509842, 0.8504974723028935, 0.8482126850955505, 0.8501380373597218, 0.8509904628733284, 0.8457584884012763, 0.8484533541285719, 0.847539528880284, 0.850286830877344, 0.8477967803234018, 0.8481230504463806, 0.8486760962317592, 0.8502984833817361, 0.8489091463196012, 0.8522623785450504, 0.8486438277580582, 0.8506063784016349, 0.847542666093005, 0.8490485281990607, 0.8499300849736475, 0.8486608583414005, 0.8487890358897136, 0.8469586963536625, 0.8492398981750385, 0.8484439424904091, 0.8476022731347028, 0.8486016994729483, 0.8474830590513069, 0.8520956580975944, 0.8474274855688215, 0.8456522713420099, 0.8477824387795346, 0.8510083898031624, 0.848507134918074, 0.8498610662937864, 0.8490435982933564, 0.8506211681187479, 0.8517129181456384, 0.8466933777921193, 0.8508604926320318, 0.8501407263991969, 0.850069018679861, 0.8473495034240435, 0.8472007099064214, 0.8498467247499193, 0.850576350794163, 0.8521933598651894, 0.8473656376608942, 0.8467852533075185, 0.8504212828510989, 0.8480782331217955, 0.8497579864472411, 0.8506632964038578, 0.8514852461367466, 0.8493080205084077, 0.8503307518554372, 0.849755297407766, 0.8493868989996772, 0.84585529382238, 0.8484251192140834, 0.850191369975978, 0.8478693843892295, 0.8481445627621813, 0.8483059051306874, 0.8504589294037503, 0.8490229823240473, 0.851538130579757, 0.8478980674769641, 0.8496674554515793, 0.8490382202144061, 0.8508775232153741, 0.8485864615825893, 0.8480845075472374, 0.8459489620307625, 0.8524358215911942, 0.8498736151446703, 0.8485537449356424, 0.8506247535047147, 0.8496504248682372, 0.8500143415438671, 0.8509272704456635, 0.8492730629952313, 0.8510962317593489, 0.8495204546269406, 0.850077982144778, 0.8462953999498046, 0.849363593990893, 0.8505664909827544, 0.8504535513248, 0.8480316231042272, 0.8501514825570974, 0.8504956796099099, 0.8494603994119967, 0.8475673156215267, 0.8503459897457961, 0.8477958839769101, 0.8481163278476929, 0.849937255745581, 0.8507242479652934, 0.8482028252841419, 0.8525025994048261, 0.8510218350005379, 0.8508811086013409, 0.8471110752572515, 0.850020615969309, 0.848313075902621, 0.8495957477322433, 0.8497750170305833, 0.8510863719479402, 0.8515076547990391, 0.8503388189738624, 0.8510756157900398, 0.8467848051342727, 0.8494317163242624, 0.8493676275501058, 0.8473073751389337, 0.8497310960524901, 0.8487401850059159, 0.8486599619949089, 0.8481315657380517, 0.8460695206338963, 0.8486958158545768, 0.8452843211071672, 0.8520311211501919, 0.8491287512100678, 0.8506919794915921, 0.8504732709476175, 0.8485089276110575, 0.8490180524183428, 0.8487935176221721, 0.8490669033021405, 0.8464388153884765, 0.8522910616327848, 0.8476452977663045, 0.8495491377146749, 0.8475260836829085, 0.847682944318956, 0.8489284177691728, 0.8490135706858843, 0.8478693843892295, 0.8481624896920155, 0.8500367502061597, 0.8478353232225448, 0.8454963070524543, 0.8511482198558674, 0.8492452762539888, 0.8515739844394248, 0.8467507439675882, 0.8505449786669533, 0.8509572980531355, 0.8506937721845758, 0.851651518410957, 0.8493299809974544, 0.8485443332974796, 0.844666738374386, 0.8515762253056542, 0.8489656161485784, 0.8498458284034276, 0.8497956329998925, 0.8494657774909469, 0.851188555447994, 0.8488239934028898, 0.8505243626976444, 0.8494720519163887, 0.8505781434871464, 0.8481140869814636, 0.8477111792334444, 0.8511760065971101, 0.8489548599906781, 0.8464356781757556, 0.851403678606002, 0.8469277723996986, 0.8476461941127962, 0.8506803269872002, 0.8471935391344878, 0.845744595030655, 0.8466037431429493, 0.848450216915851, 0.8478734179484422, 0.8487173281703777, 0.8507054246889676, 0.8510200423075545, 0.8485398515650211, 0.8526200207952386, 0.8486581693019253, 0.8485532967623965, 0.8493537341794845, 0.8478657990032628, 0.84887149976695, 0.8479119608475851, 0.8505351188555448, 0.8480782331217955, 0.8465938833315406, 0.8490902083109246, 0.8449033738481948, 0.8497427485568821, 0.8488804632318668, 0.8491036535083002, 0.8510971281058406, 0.850230361048367, 0.847440930766197, 0.8457791043705856, 0.8491717758416693, 0.8520548743322219]\n"
     ]
    }
   ],
   "source": [
    "t_44 = auc_bootstrap\n",
    "print(t_44)"
   ]
  },
  {
   "cell_type": "code",
   "execution_count": 31,
   "id": "503d2ac2",
   "metadata": {},
   "outputs": [
    {
     "ename": "NameError",
     "evalue": "name 'study' is not defined",
     "output_type": "error",
     "traceback": [
      "\u001b[1;31m---------------------------------------------------------------------------\u001b[0m",
      "\u001b[1;31mNameError\u001b[0m                                 Traceback (most recent call last)",
      "Cell \u001b[1;32mIn[31], line 1\u001b[0m\n\u001b[1;32m----> 1\u001b[0m \u001b[38;5;28;01mdel\u001b[39;00m X_train, X_test, y_train, y_test, X_val, y_val,study, optuna_auc\n",
      "\u001b[1;31mNameError\u001b[0m: name 'study' is not defined"
     ]
    }
   ],
   "source": [
    "del X_train, X_test, y_train, y_test, X_val, y_val,study, optuna_auc"
   ]
  },
  {
   "cell_type": "code",
   "execution_count": null,
   "id": "9e65c2bc",
   "metadata": {},
   "outputs": [],
   "source": [
    "# 45\n",
    "column_to_drop_44 = '가구주 나이'"
   ]
  },
  {
   "cell_type": "code",
   "execution_count": null,
   "id": "7f6174d2",
   "metadata": {},
   "outputs": [],
   "source": [
    "if not column_to_drop_44.startswith('Cat_'):\n",
    "    comp_45 = comp_44.drop(column_to_drop_44, axis=1)\n",
    "    X_45 = comp_45.drop('target', axis=1)\n",
    "    y_45 = comp_45['target']\n",
    "else:\n",
    "    comp_45 = comp_44.drop(comp_44.filter(regex='^' + column_to_drop_44).columns, axis=1)\n",
    "    X_45 = comp_45.drop('target', axis=1)\n",
    "    y_45 = comp_45['target']\n",
    "\n",
    "print(X_45.shape)"
   ]
  },
  {
   "cell_type": "code",
   "execution_count": 13,
   "id": "8b21e0c1",
   "metadata": {},
   "outputs": [],
   "source": [
    "comp_45 = comp[[\n",
    "    '현재 주택 거주 기간(총 개월)','현재 주택의 면적(㎡)','총 이사 횟수','가구주 나이','소득 대비 주택 임대료의 비율',\n",
    "    '소득 중 사적이전소득의 비중(월평균)','장기부채부담지표','target',\n",
    "    'Cat_현재 주택의 유형_고시원','Cat_현재 주택의 유형_기타','Cat_현재 주택의 유형_다가구 단독주택',\n",
    "    'Cat_현재 주택의 유형_다세대주택','Cat_현재 주택의 유형_비거주용 건물 내 주택','Cat_현재 주택의 유형_아파트',\n",
    "    'Cat_현재 주택의 유형_연립주택','Cat_현재 주택의 유형_영업겸용 단독주택','Cat_현재 주택의 유형_오피스텔',\n",
    "    'Cat_현재 주택의 유형_일반 단독주택','Cat_현재 주택의 유형_판잣집 비닐하우스 컨테이너 움막',\n",
    "    'Cat_현재 주택의 점유형태_무상','Cat_현재 주택의 점유형태_보증금 없는 월세(사글세, 연세, 일세 포함)',\n",
    "    'Cat_현재 주택의 점유형태_보증금 있는 월세','Cat_현재 주택의 점유형태_전세',\n",
    "    'Cat_이사 계획 중인 거주 지역_국내 to 국외','Cat_이사 계획 중인 거주 지역_비수도권 to 비수도권',\n",
    "    'Cat_이사 계획 중인 거주 지역_비수도권 to 수도권','Cat_이사 계획 중인 거주 지역_비수도권 to 이사 계획 없음 및 모름',\n",
    "    'Cat_이사 계획 중인 거주 지역_수도권 to 비수도권','Cat_이사 계획 중인 거주 지역_수도권 to 수도권',\n",
    "    'Cat_이사 계획 중인 거주 지역_수도권 to 이사 계획 없음 및 모름',\n",
    "    'Cat_현재 가장 필요한 주거지원 1순위_공공분양주택공급','Cat_현재 가장 필요한 주거지원 1순위_없음',\n",
    "    'Cat_현재 가장 필요한 주거지원 1순위_월세보조금 지원','Cat_현재 가장 필요한 주거지원 1순위_임대 후 분양전환 공공임대주택 공급',\n",
    "    'Cat_현재 가장 필요한 주거지원 1순위_장기공공임대주택 공급','Cat_현재 가장 필요한 주거지원 1순위_전세자금 대출 지원',\n",
    "    'Cat_현재 가장 필요한 주거지원 1순위_주거상담과 정보제공 등','Cat_현재 가장 필요한 주거지원 1순위_주택 구입자금 대출 지원',\n",
    "    'Cat_현재 가장 필요한 주거지원 1순위_주택개량 및 개보수 지원',\n",
    "]]"
   ]
  },
  {
   "cell_type": "code",
   "execution_count": 14,
   "id": "93eb71c0",
   "metadata": {},
   "outputs": [],
   "source": [
    "X_45 = comp_45.drop('target', axis=1)\n",
    "y_45 = comp_45['target']"
   ]
  },
  {
   "cell_type": "code",
   "execution_count": 15,
   "id": "2919814f",
   "metadata": {},
   "outputs": [],
   "source": [
    "X_train, X_test, y_train, y_test = train_test_split(X_45, y_45, test_size=0.2, shuffle=True, stratify=y_45, random_state = 0)\n",
    "X_train, X_val, y_train, y_val = train_test_split(X_train, y_train, test_size=0.2, shuffle=True, stratify=y_train, random_state = 0)"
   ]
  },
  {
   "cell_type": "code",
   "execution_count": 16,
   "id": "e75d5cee",
   "metadata": {},
   "outputs": [],
   "source": [
    "def objective(trial):\n",
    "    params = {\n",
    "        'learning_rate' :trial.suggest_float('learning_rate',0.01, 0.1,step=0.01),        \n",
    "        'n_estimators' :trial.suggest_int('n_estimators', 50, 200),\n",
    "        'subsample':trial.suggest_float('subsample', 0.1, 1.0,step=0.1),\n",
    "        'max_depth' :trial.suggest_int('max_depth', 1, 10),\n",
    "        'min_samples_split' :trial.suggest_int('min_samples_split', 3, 10),\n",
    "        'min_samples_leaf' :trial.suggest_int('min_samples_leaf', 3, 10),\n",
    "        }\n",
    "        \n",
    "    clf = GradientBoostingClassifier(**params,random_state = 0)\n",
    "    clf.fit(X_train, y_train)\n",
    "    clf_proba = clf.predict_proba(X_val)[:, 1]\n",
    "        \n",
    "    AUC_SCORE = roc_auc_score(y_val, clf_proba)\n",
    "    return AUC_SCORE\n",
    "\n",
    "direction = \"maximize\"\n",
    "sampler = optuna.samplers.TPESampler(seed=10)\n",
    "study =  optuna.create_study(direction=direction, sampler=sampler, pruner=optuna.pruners.HyperbandPruner())\n",
    "early_stopping = EarlyStoppingCallback(10, direction=direction)\n",
    "study.optimize(objective, callbacks=[early_stopping], n_trials=200) "
   ]
  },
  {
   "cell_type": "code",
   "execution_count": 17,
   "id": "81da3a5c",
   "metadata": {},
   "outputs": [
    {
     "name": "stdout",
     "output_type": "stream",
     "text": [
      "{'learning_rate': 0.09999999999999999, 'n_estimators': 157, 'subsample': 0.6, 'max_depth': 2, 'min_samples_split': 5, 'min_samples_leaf': 8}\n",
      "0.8440117112275516\n"
     ]
    }
   ],
   "source": [
    "print(study.best_trial.params)\n",
    "optuna_auc = study.best_trial.value\n",
    "print(optuna_auc)"
   ]
  },
  {
   "cell_type": "code",
   "execution_count": 18,
   "id": "b64d72d6",
   "metadata": {},
   "outputs": [
    {
     "data": {
      "text/html": [
       "<style>#sk-container-id-1 {color: black;}#sk-container-id-1 pre{padding: 0;}#sk-container-id-1 div.sk-toggleable {background-color: white;}#sk-container-id-1 label.sk-toggleable__label {cursor: pointer;display: block;width: 100%;margin-bottom: 0;padding: 0.3em;box-sizing: border-box;text-align: center;}#sk-container-id-1 label.sk-toggleable__label-arrow:before {content: \"▸\";float: left;margin-right: 0.25em;color: #696969;}#sk-container-id-1 label.sk-toggleable__label-arrow:hover:before {color: black;}#sk-container-id-1 div.sk-estimator:hover label.sk-toggleable__label-arrow:before {color: black;}#sk-container-id-1 div.sk-toggleable__content {max-height: 0;max-width: 0;overflow: hidden;text-align: left;background-color: #f0f8ff;}#sk-container-id-1 div.sk-toggleable__content pre {margin: 0.2em;color: black;border-radius: 0.25em;background-color: #f0f8ff;}#sk-container-id-1 input.sk-toggleable__control:checked~div.sk-toggleable__content {max-height: 200px;max-width: 100%;overflow: auto;}#sk-container-id-1 input.sk-toggleable__control:checked~label.sk-toggleable__label-arrow:before {content: \"▾\";}#sk-container-id-1 div.sk-estimator input.sk-toggleable__control:checked~label.sk-toggleable__label {background-color: #d4ebff;}#sk-container-id-1 div.sk-label input.sk-toggleable__control:checked~label.sk-toggleable__label {background-color: #d4ebff;}#sk-container-id-1 input.sk-hidden--visually {border: 0;clip: rect(1px 1px 1px 1px);clip: rect(1px, 1px, 1px, 1px);height: 1px;margin: -1px;overflow: hidden;padding: 0;position: absolute;width: 1px;}#sk-container-id-1 div.sk-estimator {font-family: monospace;background-color: #f0f8ff;border: 1px dotted black;border-radius: 0.25em;box-sizing: border-box;margin-bottom: 0.5em;}#sk-container-id-1 div.sk-estimator:hover {background-color: #d4ebff;}#sk-container-id-1 div.sk-parallel-item::after {content: \"\";width: 100%;border-bottom: 1px solid gray;flex-grow: 1;}#sk-container-id-1 div.sk-label:hover label.sk-toggleable__label {background-color: #d4ebff;}#sk-container-id-1 div.sk-serial::before {content: \"\";position: absolute;border-left: 1px solid gray;box-sizing: border-box;top: 0;bottom: 0;left: 50%;z-index: 0;}#sk-container-id-1 div.sk-serial {display: flex;flex-direction: column;align-items: center;background-color: white;padding-right: 0.2em;padding-left: 0.2em;position: relative;}#sk-container-id-1 div.sk-item {position: relative;z-index: 1;}#sk-container-id-1 div.sk-parallel {display: flex;align-items: stretch;justify-content: center;background-color: white;position: relative;}#sk-container-id-1 div.sk-item::before, #sk-container-id-1 div.sk-parallel-item::before {content: \"\";position: absolute;border-left: 1px solid gray;box-sizing: border-box;top: 0;bottom: 0;left: 50%;z-index: -1;}#sk-container-id-1 div.sk-parallel-item {display: flex;flex-direction: column;z-index: 1;position: relative;background-color: white;}#sk-container-id-1 div.sk-parallel-item:first-child::after {align-self: flex-end;width: 50%;}#sk-container-id-1 div.sk-parallel-item:last-child::after {align-self: flex-start;width: 50%;}#sk-container-id-1 div.sk-parallel-item:only-child::after {width: 0;}#sk-container-id-1 div.sk-dashed-wrapped {border: 1px dashed gray;margin: 0 0.4em 0.5em 0.4em;box-sizing: border-box;padding-bottom: 0.4em;background-color: white;}#sk-container-id-1 div.sk-label label {font-family: monospace;font-weight: bold;display: inline-block;line-height: 1.2em;}#sk-container-id-1 div.sk-label-container {text-align: center;}#sk-container-id-1 div.sk-container {/* jupyter's `normalize.less` sets `[hidden] { display: none; }` but bootstrap.min.css set `[hidden] { display: none !important; }` so we also need the `!important` here to be able to override the default hidden behavior on the sphinx rendered scikit-learn.org. See: https://github.com/scikit-learn/scikit-learn/issues/21755 */display: inline-block !important;position: relative;}#sk-container-id-1 div.sk-text-repr-fallback {display: none;}</style><div id=\"sk-container-id-1\" class=\"sk-top-container\"><div class=\"sk-text-repr-fallback\"><pre>GradientBoostingClassifier(learning_rate=0.09999999999999999, max_depth=2,\n",
       "                           min_samples_leaf=8, min_samples_split=5,\n",
       "                           n_estimators=157, random_state=0, subsample=0.6)</pre><b>In a Jupyter environment, please rerun this cell to show the HTML representation or trust the notebook. <br />On GitHub, the HTML representation is unable to render, please try loading this page with nbviewer.org.</b></div><div class=\"sk-container\" hidden><div class=\"sk-item\"><div class=\"sk-estimator sk-toggleable\"><input class=\"sk-toggleable__control sk-hidden--visually\" id=\"sk-estimator-id-1\" type=\"checkbox\" checked><label for=\"sk-estimator-id-1\" class=\"sk-toggleable__label sk-toggleable__label-arrow\">GradientBoostingClassifier</label><div class=\"sk-toggleable__content\"><pre>GradientBoostingClassifier(learning_rate=0.09999999999999999, max_depth=2,\n",
       "                           min_samples_leaf=8, min_samples_split=5,\n",
       "                           n_estimators=157, random_state=0, subsample=0.6)</pre></div></div></div></div></div>"
      ],
      "text/plain": [
       "GradientBoostingClassifier(learning_rate=0.09999999999999999, max_depth=2,\n",
       "                           min_samples_leaf=8, min_samples_split=5,\n",
       "                           n_estimators=157, random_state=0, subsample=0.6)"
      ]
     },
     "execution_count": 18,
     "metadata": {},
     "output_type": "execute_result"
    }
   ],
   "source": [
    "optuna_45 = GradientBoostingClassifier(**study.best_trial.params, random_state = 0)\n",
    "optuna_45.fit(X_train, y_train)"
   ]
  },
  {
   "cell_type": "code",
   "execution_count": 19,
   "id": "c24f05fd",
   "metadata": {},
   "outputs": [
    {
     "name": "stdout",
     "output_type": "stream",
     "text": [
      "0.851314043956832\n"
     ]
    }
   ],
   "source": [
    "optuna_proba_45 = optuna_45.predict_proba(X_test)[:, 1]\n",
    "auc_45 = roc_auc_score(y_test, optuna_proba_45)\n",
    "print(auc_45)"
   ]
  },
  {
   "cell_type": "code",
   "execution_count": 20,
   "id": "4ce72754",
   "metadata": {},
   "outputs": [],
   "source": [
    "X_train = X_train.values\n",
    "y_train = y_train.values"
   ]
  },
  {
   "cell_type": "code",
   "execution_count": 21,
   "id": "8bb4d17c",
   "metadata": {},
   "outputs": [],
   "source": [
    "auc_bootstrap = []"
   ]
  },
  {
   "cell_type": "code",
   "execution_count": 22,
   "id": "2df55e4c",
   "metadata": {},
   "outputs": [
    {
     "data": {
      "text/plain": [
       "array([0.84487917, 0.8521867 ])"
      ]
     },
     "execution_count": 22,
     "metadata": {},
     "output_type": "execute_result"
    }
   ],
   "source": [
    "rs = RandomState(seed = 45)\n",
    "bootstrap_auc(optuna_45, X_train, y_train, X_test, y_test, nsamples=2000)"
   ]
  },
  {
   "cell_type": "code",
   "execution_count": 23,
   "id": "bd38f945",
   "metadata": {},
   "outputs": [
    {
     "data": {
      "text/plain": [
       "0.8487899591266"
      ]
     },
     "execution_count": 23,
     "metadata": {},
     "output_type": "execute_result"
    }
   ],
   "source": [
    "np.mean(auc_bootstrap)"
   ]
  },
  {
   "cell_type": "code",
   "execution_count": 24,
   "id": "57e6997c",
   "metadata": {},
   "outputs": [
    {
     "name": "stdout",
     "output_type": "stream",
     "text": [
      "[0.8483444480298304, 0.8462703022480371, 0.8499910365350829, 0.8485147538632534, 0.8480576171524864, 0.8497884622279588, 0.8473952170951203, 0.8444910544620129, 0.8479626044243663, 0.8487155354773941, 0.8472500089634647, 0.848337277257897, 0.8511213294611164, 0.8510254203865045, 0.8500134451973755, 0.8520347065361585, 0.8490677996486322, 0.8484959305869276, 0.8500645369474024, 0.849154745258327, 0.8477922985909434, 0.8526657344663153, 0.8492318310566133, 0.8489234878634685, 0.8463052597612133, 0.8456329998924386, 0.8469855867484135, 0.8487711089598795, 0.8514090566849521, 0.8527222042952924, 0.8499202251622388, 0.8491215804381342, 0.8479850130866589, 0.8498485174429027, 0.8510424509698469, 0.8498028037718262, 0.8503594349431716, 0.8512728120182138, 0.849289645405328, 0.8489145243985516, 0.849818041662185, 0.8514027822595104, 0.8469793123229715, 0.8502868308773439, 0.8504517586318168, 0.8493671793768599, 0.8523851780144134, 0.8462559607041698, 0.8511123659961994, 0.8505835215660966, 0.844729482628805, 0.8511195367681331, 0.8496463913090244, 0.8527419239181098, 0.8509680542110359, 0.8496275680326987, 0.8493098132013911, 0.8481302212183142, 0.8451274604711196, 0.8462102470330932, 0.8486586174751712, 0.8482386791438099, 0.84608206948478, 0.848270947617511, 0.8490740740740741, 0.8500259940482593, 0.8453739557563371, 0.849071385034599, 0.8479643971173496, 0.8467184754938869, 0.8490525617582733, 0.8499112616973217, 0.851215445842745, 0.8482480907819727, 0.8491825319995697, 0.8486541357427126, 0.8475709010074934, 0.85056156107705, 0.8491099279337421, 0.8499256032411889, 0.84716306335377, 0.8429188627155713, 0.8469040192176688, 0.8461667742282456, 0.847972464235775, 0.8494299236312788, 0.852054426158976, 0.84970734287046, 0.8467355060772291, 0.8462711985945286, 0.8503908070703811, 0.8453667849844035, 0.8485299917536122, 0.8512127568032698, 0.8489037682406511, 0.8462344483883689, 0.8513642393603672, 0.8468627872790506, 0.8494227528593452, 0.8512548850883798, 0.8461582589365744, 0.8473315764942098, 0.8486402423720912, 0.8476161665053242, 0.8491852210390449, 0.8463083969739342, 0.8517989674088415, 0.8467758416693558, 0.8524855688214836, 0.8457687963859308, 0.8490803484995162, 0.8514565630490123, 0.8509097916890753, 0.8489436556595318, 0.8498996091929297, 0.8493622494711556, 0.8499291886271556, 0.8469407694238285, 0.8499838657631493, 0.8494738446093723, 0.8464101323007422, 0.8472724176257576, 0.8506104119608476, 0.8492461726004805, 0.8465911942920655, 0.8494801190348141, 0.8498915420745043, 0.8479769459682334, 0.8484990677996487, 0.8497552974077658, 0.8498364167652648, 0.8487065720124771, 0.8492793374206734, 0.8480038363629845, 0.8509644688250689, 0.8474606503890144, 0.8495231436664157, 0.8447232082033631, 0.8468717507439675, 0.8500860492632032, 0.8522650675845256, 0.8487370477931949, 0.8495464486752, 0.8471639597002616, 0.8489781649994621, 0.8480562726327489, 0.8511311892725253, 0.8486415868918289, 0.8494523322935714, 0.8461994908751926, 0.84991036535083, 0.849474740955864, 0.849602918504177, 0.8475189129109748, 0.847799469362877, 0.8494245455523286, 0.8486832670036929, 0.8484358753719837, 0.8499318776666309, 0.848443942490409, 0.8504867161449929, 0.8485044458785987, 0.8508936574522248, 0.8460614535154709, 0.8493483561005342, 0.849495356925173, 0.8508586999390485, 0.8496988275787889, 0.8501667204474561, 0.8466006059302282, 0.8493779355347604, 0.8476488831522715, 0.8524416478433905, 0.8469407694238283, 0.8481096052490051, 0.8503083431931446, 0.8494137893944282, 0.8495029758703525, 0.8497732243375998, 0.8517182962245886, 0.8511141586891829, 0.8519316266896132, 0.8459077300921444, 0.8479536409594493, 0.8475413215732672, 0.8463070524541967, 0.8491197877451508, 0.8510227313470294, 0.8466844143272023, 0.849217489512746, 0.8493976551575777, 0.8481553189200817, 0.8450898139184683, 0.846335735541931, 0.8497006202717723, 0.8476694991215805, 0.8484538023018177, 0.8462792657129541, 0.8528808576243234, 0.8470263705137858, 0.8530574378831881, 0.8513570685884337, 0.851098920798824, 0.8476210964110287, 0.8507860958732207, 0.8461699114409666, 0.8474498942311139, 0.8506579183249077, 0.8482794629091821, 0.8500457136710767, 0.8449006848087197, 0.847867591696246, 0.8464235774981177, 0.8504732709476175, 0.8516819941916748, 0.8471953318274712, 0.8489055609336346, 0.8505333261625613, 0.8514529776630454, 0.8503961851493312, 0.8499901401885913, 0.8504495177655874, 0.8493044351224409, 0.8459664407873507, 0.8490283604029975, 0.8462810584059375, 0.8489378294073358, 0.8499278441074182, 0.8484659029794557, 0.8448791724929189, 0.8481508371876232, 0.8457051557850203, 0.8479460220142698, 0.8503872216844143, 0.848733462407228, 0.8451122225807608, 0.8489526191244487, 0.8457154637696749, 0.8506435767810405, 0.8498252124341186, 0.8491574342978021, 0.8490373238679143, 0.8512701229787386, 0.8480441719551111, 0.8518393030009681, 0.8513965078340684, 0.8484520096088344, 0.8500035853859669, 0.8493349109031588, 0.8492578251048725, 0.8478281524506113, 0.8472271521279264, 0.846891470366785, 0.848375371983794, 0.8494532286400631, 0.8481149833279552, 0.8487720053063712, 0.8516609300491198, 0.8491327847692804, 0.8506874977591338, 0.8506892904521172, 0.852182603707289, 0.8493644903373848, 0.8457826897565522, 0.8503791545659891, 0.849576028109426, 0.8465123158007959, 0.8490758667670575, 0.8446452260585853, 0.8493895880391524, 0.8496540102542038, 0.8481149833279552, 0.849196873543437, 0.845953891936467, 0.8510621705926642, 0.8444552006023449, 0.8454653830984906, 0.8493900362123983, 0.847715212792657, 0.8492273493241549, 0.851191244487469, 0.8481893800867663, 0.8493716611093184, 0.850343300706321, 0.8479213724857481, 0.8480773367753038, 0.848757663762504, 0.8463904126779248, 0.8519217668782045, 0.8480002509770176, 0.8493582159119428, 0.8495204546269406, 0.8484542504750636, 0.8465620630310854, 0.8498789932236206, 0.8489763723064787, 0.8469739342440212, 0.8500726040658276, 0.8490202932845721, 0.8448917213438026, 0.8493492524470261, 0.8479222688322399, 0.849964146140332, 0.84887149976695, 0.8456912624143988, 0.8492784410741817, 0.8518043454877917, 0.8465383098490551, 0.8471980208669463, 0.8480791294682872, 0.8471953318274712, 0.848372682944319, 0.847802158402352, 0.8464298519235596, 0.8491175468789216, 0.8506924276648381, 0.8461116489190061, 0.8458185436162203, 0.8484511132623427, 0.8496065038901437, 0.8489136280520598, 0.8493895880391524, 0.8480123516546557, 0.8475435624394966, 0.8492497579864473, 0.8479617080778745, 0.8488831522713419, 0.8488419203327239, 0.8490543544512567, 0.8495831988813595, 0.8490870710982037, 0.8492300383636299, 0.8486769925782511, 0.8491663977627193, 0.8474507905776056, 0.8493447707145674, 0.848199239898175, 0.8490543544512567, 0.8463402172743895, 0.8472526980029401, 0.8509384747768097, 0.8473396436126349, 0.847420314796888, 0.8498727187981786, 0.846132264888315, 0.846655731239468, 0.8502357391273171, 0.8482274748126637, 0.8490041590477215, 0.8465974687175074, 0.8487029866265103, 0.846727438958804, 0.8516470366784984, 0.8468251407263991, 0.8492192822057294, 0.8489324513283854, 0.8477537556918001, 0.8513382453121077, 0.8503495751317629, 0.8482951489727869, 0.8481436664156896, 0.849014915205622, 0.8481087089025134, 0.8490821411924994, 0.8499641461403319, 0.8485120648237784, 0.845980782331218, 0.850250977017676, 0.8507663762504033, 0.8463088451471801, 0.8489324513283854, 0.8495226954931698, 0.8470949410204007, 0.8500035853859669, 0.846947940195762, 0.8478595245778209, 0.8486743035387759, 0.8455612921731026, 0.8480845075472374, 0.8451498691334122, 0.8490193969380804, 0.8506731562152665, 0.8494657774909469, 0.850131314761034, 0.8485532967623964, 0.848468143845685, 0.8532582194973288, 0.848073751389337, 0.8446644975081568, 0.8499632497938403, 0.8492407945215305, 0.8448746907604605, 0.8490673514753864, 0.8474149367179377, 0.8489275214226812, 0.8484995159728945, 0.8492820264601485, 0.8524613674662077, 0.8470232333010648, 0.8489553081639238, 0.8471971245204546, 0.8452144060808146, 0.8496316015919113, 0.8466888960596609, 0.8496289125524363, 0.8503934961098563, 0.8502339464343337, 0.8501496898641139, 0.8490686959951238, 0.8494769818220931, 0.8503388189738625, 0.8465741637087233, 0.8514493922770787, 0.8485299917536124, 0.8508586999390484, 0.8526630454268401, 0.8491914954644868, 0.8470429529238823, 0.8475834498583772, 0.8433132551719192, 0.8493416335018465, 0.8498512064823778, 0.8485685346527554, 0.848656376608942, 0.8511930371804524, 0.8489037682406511, 0.8497911512674339, 0.845177655874655, 0.8485990104334731, 0.8489194543042559, 0.8469389767308451, 0.8498816822630957, 0.8487397368326701, 0.8520857982861856, 0.8501057688860206, 0.8511912444874692, 0.8499372557455811, 0.8492694776092646, 0.8489795095191996, 0.8503504714782546, 0.8466736581693018, 0.8481194650604138, 0.851827650496576, 0.8486429314115664, 0.8521754329353555, 0.8460480083180953, 0.8494353017102291, 0.8497884622279588, 0.8462685095550535, 0.8434409845469866, 0.8504311426625075, 0.8469846904019217, 0.8480504463805529, 0.8489898175038544, 0.8477210390448532, 0.85035853859668, 0.8500461618443226, 0.8464751174213905, 0.8470868739019756, 0.8495321071313326, 0.8445663475673155, 0.8497561937542577, 0.8490095371266717, 0.8516860277508875, 0.8496638700656126, 0.8485721200387221, 0.8491045498547918, 0.8496656627585959, 0.8487764870388298, 0.8482055143236169, 0.8486953676813309, 0.843332078448245, 0.8465876089060987, 0.8514861424832383, 0.84869760854756, 0.848228819332401, 0.8457378724319674, 0.8521270302248036, 0.8465365171560718, 0.8467874941737478, 0.8503298555089455, 0.8503038614606864, 0.8513687210928257, 0.8506278907174358, 0.8497239252805565, 0.8452475709010073, 0.846873095263705, 0.85112850023305, 0.8451382166290201, 0.8487280843282778, 0.8492640995303143, 0.8481777275823742, 0.8478093291742856, 0.8481454591086731, 0.8488759814994085, 0.8488401276397405, 0.8447635437954897, 0.852386074360905, 0.8488625363020328, 0.845281632067692, 0.8478415976479867, 0.8485004123193861, 0.8504669965221757, 0.8454425262629522, 0.848131117564806, 0.8488939084292424, 0.8493662830303683, 0.8439855150406941, 0.8498377612850023, 0.849880785916604, 0.851278190097164, 0.8482610878061023, 0.8480361048366857, 0.846144813739199, 0.8480029400164928, 0.8472697285862824, 0.852206805062565, 0.8474041805600373, 0.8478819332401133, 0.8507771324083038, 0.8456912624143988, 0.8513472087770249, 0.847587035244344, 0.8520140905668494, 0.8509846366211322, 0.8483561005342226, 0.8482315083718762, 0.8527849485497114, 0.8481508371876234, 0.8485192355957119, 0.8496934494998387, 0.8474951597289448, 0.8458875622960811, 0.8481105015954967, 0.8473979061345953, 0.8490875192714497, 0.8476210964110286, 0.8507054246889676, 0.8473495034240435, 0.8470841848625005, 0.8488033774335806, 0.8505436341472161, 0.8489154207450432, 0.8496531139077121, 0.8498615144670324, 0.8455119931160588, 0.8495356925172994, 0.8491314402495427, 0.8481651787314906, 0.8488374386002653, 0.8467951131189273, 0.8501550679430641, 0.8447926750564697, 0.8490942418701375, 0.8478209816786778, 0.8495123875085153, 0.8471137642967266, 0.8466100175683913, 0.8496342906313864, 0.8472231185687139, 0.8511885554479939, 0.8476399196873544, 0.8471263131476103, 0.8472329783801227, 0.8488952529489799, 0.8507744433688287, 0.8470088917571976, 0.8480961600516296, 0.8472930335950666, 0.8496737298770212, 0.8474247965293464, 0.8518841203255532, 0.8466996522175612, 0.8493196730127999, 0.8482315083718761, 0.8467511921408339, 0.8477555483847837, 0.8478505611129039, 0.8483310028324549, 0.8479957692445592, 0.8505153992327273, 0.8482413681832849, 0.8485981140869816, 0.850836291276756, 0.8500134451973755, 0.8506489548599907, 0.8516259725359434, 0.8490364275214226, 0.8459431357785665, 0.8496593883331541, 0.8464925961779786, 0.8435086587071099, 0.8498996091929297, 0.8490418056003728, 0.8479034455559141, 0.8482987343587536, 0.8471074898712846, 0.8458275070811373, 0.8511491162023592, 0.8466387006561256, 0.8475682119680182, 0.8463204976515722, 0.8501541715965724, 0.8466162919938331, 0.8461842529848339, 0.8501676167939479, 0.8471460327704278, 0.8505687318489834, 0.8489620307626117, 0.8488051701265641, 0.8481060198630384, 0.8469613853931375, 0.8502859345308522, 0.8497037574844932, 0.8482019289376501, 0.8474879889570113, 0.850958642572873, 0.8496347388046324, 0.8464424007744433, 0.8478317378365781, 0.8536768133089526, 0.8478908967050304, 0.8478147072532358, 0.8487621454949625, 0.8517586318167151, 0.8490247750170306, 0.8500815675307447, 0.850242013552759, 0.8495451041554624, 0.8504248682370656, 0.8490866229249578, 0.8491923918109785, 0.847918683446273, 0.8485013086658779, 0.8490615252231902, 0.8484623175934889, 0.8489987809687713, 0.8469999282922807, 0.8497911512674341, 0.8507547237460111, 0.8501613423685059, 0.8493304291707002, 0.8488230970563981, 0.8500537807895019, 0.8489064572801261, 0.8497696389516332, 0.8476300598759456, 0.8468538238141337, 0.8493564232189595, 0.8507722025025996, 0.8489046645871429, 0.8490077444336883, 0.8487119500914273, 0.8516654117815783, 0.8534025312824924, 0.8451704851027213, 0.8503190993510452, 0.8507941629916462, 0.8500838083969741, 0.8497454375963573, 0.8518231687641176, 0.8501622387149979, 0.8460430784123911, 0.8493833136137106, 0.8496880714208885, 0.8507072173819512, 0.8516761679394786, 0.8517926929833997, 0.8489154207450432, 0.8506426804345488, 0.8439935821591193, 0.850564698289771, 0.8492165931662543, 0.8489154207450431, 0.8507269370047685, 0.8445466279444982, 0.850304757807178, 0.8469318059589115, 0.8530731239467929, 0.8488522283173784, 0.8499453228640064, 0.8498879566885376, 0.844090387580223, 0.8495903696532933, 0.8463455953533396, 0.8508802122548492, 0.8489360367143524, 0.8480074217489513, 0.8464388153884767, 0.8499094690043383, 0.8486034921659317, 0.8490807966727617, 0.8509304076583843, 0.8521731920691263, 0.8513606539744002, 0.8505440823204617, 0.8493358072496504, 0.8490606288766986, 0.8499511491162023, 0.8492829228066403, 0.8486348642931412, 0.8471711304721953, 0.848396436126349, 0.8499273959341723, 0.8533146893263059, 0.8473351618801764, 0.8495796134953929, 0.8484251192140835, 0.8465656484170522, 0.848847298411674, 0.8516367286938439, 0.8515479903911657, 0.848537162525546, 0.8501613423685059, 0.850821053386397, 0.8475807608189021, 0.8502061596930909, 0.8513185256892903, 0.8502859345308522, 0.8475861388978523, 0.8491251658241009, 0.8496065038901437, 0.8494191674733786, 0.8493429780215842, 0.8535038184360546, 0.8504203865046074, 0.8468484457351834, 0.850250977017676, 0.8523806962819548, 0.845891147682048, 0.8488356459072819, 0.8462290703094189, 0.8486016994729484, 0.8517909002904163, 0.8508622853250153, 0.8482808074289196, 0.8483408626438638, 0.8476582947904343, 0.8486124556308487, 0.8464890107920118, 0.8495796134953928, 0.8489028718941594, 0.8490108816464091, 0.8461340575812987, 0.8456312071994548, 0.8463850345989746, 0.8485653974400346, 0.8489172134380267, 0.8487424258721451, 0.8499587680613818, 0.852323330106486, 0.8502455989387258, 0.8500743967588111, 0.8467552257000468, 0.8493286364777168, 0.8512521960489047, 0.8443386755584238, 0.8494451615216378, 0.8513991968735435, 0.8502626295220679, 0.850426660930049, 0.8468251407263991, 0.8507188698863433, 0.8493223620522751, 0.8477421031874082, 0.8494926678856979, 0.8480522390735363, 0.8470474346563407, 0.8491502635258685, 0.8498960238069628, 0.8473235093757844, 0.8476999749022982, 0.8471460327704279, 0.8463043634147216, 0.8469820013624467, 0.8512808791366391, 0.8482736366569861, 0.8507475529740777, 0.8489521709512029, 0.8493349109031587, 0.8484242228675917, 0.8475162238714997, 0.8453488580545696, 0.8505369115485282, 0.8489100426660929, 0.8500295794342262, 0.8488186153239397, 0.8502554587501345, 0.8471218314151518, 0.8517236743035388, 0.8506641927503495, 0.8474355526872468, 0.8502576996163637, 0.8490973790828583, 0.84887149976695, 0.849501631350615, 0.8497176508551145, 0.8493492524470261, 0.8505387042415116, 0.8483121795561293, 0.8475216019504499, 0.8490686959951239, 0.8469923093471012, 0.8494335090172457, 0.8512692266322469, 0.8494460578681294, 0.852379799935463, 0.849982073070166, 0.84900864078018, 0.8482288193324011, 0.8492658922232977, 0.8492053888351081, 0.8486438277580582, 0.8511795919830769, 0.8501371410132301, 0.8503979778423147, 0.8457961349539278, 0.8483014233982289, 0.8468538238141335, 0.8493250510917499, 0.8465248646516798, 0.8445797927646912, 0.8488437130257074, 0.848411674016708, 0.8476632246961384, 0.8459346204868954, 0.8529731813129683, 0.8476013767882112, 0.8498521028288695, 0.8494164784339034, 0.8465078340683374, 0.8485913914882939, 0.8482763256964612, 0.8512324764260872, 0.8496674554515793, 0.8504459323796207, 0.8488795668853752, 0.8483148685956042, 0.8461636370155247, 0.8461322648883152, 0.8465105231078126, 0.8486008031264566, 0.8502361873005629, 0.8512763974041806, 0.8510361765444049, 0.8489853357713959, 0.8435351009286151, 0.845753558495572, 0.8506794306407084, 0.8465365171560717, 0.8465580294718726, 0.8468565128536087, 0.8485264063676456, 0.8478640063102794, 0.8489387257538275, 0.8480271413717687, 0.8481669714244737, 0.8505709727152129, 0.8507780287547955, 0.8522130794880068, 0.8516940948693126, 0.8489593417231365, 0.8507744433688287, 0.8487944139686638, 0.8490453909863396, 0.8476506758452547, 0.8490265677100138, 0.8478384604352658, 0.8500484027105519, 0.8481230504463806, 0.8484125703631996, 0.8466875515399231, 0.8516824423649206, 0.8513265928077158, 0.8452977663045426, 0.8474032842135455, 0.8521449571546378, 0.8484878634685024, 0.848178623928866, 0.8480284858915063, 0.8482808074289198, 0.8492909899250655, 0.8495724427234592, 0.8472437345380229, 0.8509922555663116, 0.849743644903374, 0.8489844394249042, 0.8486716144993008, 0.8493290846509628, 0.8477949876304185, 0.8475771754329353, 0.8483112832096376, 0.847147825463411, 0.8479975619375425, 0.8469022265246854, 0.8459736115592844, 0.8481571116130653, 0.8481409773762145, 0.8515847405973254, 0.8493510451400093, 0.8525985084794379, 0.8501425190921804, 0.8488741888064251, 0.8512423362374959, 0.8512557814348714, 0.8464916998314869, 0.851367824746334, 0.8487755906923381, 0.8506131010003226, 0.851054103474239, 0.8492000107561579, 0.8505763507941629, 0.8475422179197589, 0.8502545624036427, 0.850056469828977, 0.847447205191639, 0.8491081352407587, 0.8476282671829624, 0.8452574307124162, 0.8491081352407586, 0.8480898856261876, 0.8464164067261841, 0.8482861855078698, 0.8496289125524362, 0.8499264995876805, 0.8474185221039044, 0.8486725108457925, 0.8483041124377039, 0.8504248682370659, 0.8481813129683411, 0.8499112616973217, 0.8488369904270194, 0.8480361048366856, 0.8489826467319207, 0.8507063210354595, 0.8486384496791081, 0.851385751676168, 0.8489772686529705, 0.851268778459001, 0.8439200817468001, 0.8462783693664623, 0.8499560790219067, 0.8477559965580295, 0.8469353913448783, 0.8487612491484708, 0.8518168943386756, 0.8447689218744397, 0.847802158402352, 0.8511742139041267, 0.8471146606432183, 0.8503630203291386, 0.8515417159657238, 0.8511186404216413, 0.8480943673586463, 0.8490158115521136, 0.8477134200996737, 0.8456751281775482, 0.8503199956975368, 0.8507520347065363, 0.8474418271126888, 0.8485120648237783, 0.846335735541931, 0.8493797282277438, 0.8501030798465454, 0.8503459897457961, 0.8492658922232978, 0.8530144132515867, 0.8476435050733212, 0.8492945753110323, 0.8498350722455272, 0.8467256462658204, 0.8469595927001542, 0.8522673084507548, 0.8494550213330465, 0.8515542648166075, 0.8488060664730559, 0.8470770140905668, 0.8477264171238035, 0.8504284536230325, 0.8507457602810942, 0.8492183858592377, 0.8502518733641676, 0.8514112975511813, 0.8469474920225163, 0.8482601914596106, 0.8454205657739056, 0.8507484493205695, 0.8518303395360511, 0.8505584238643289, 0.8488813595783584, 0.8521861890932559, 0.8457011222258075, 0.8496616291993834, 0.8450109354271987, 0.8447465132121472, 0.8492667885697895, 0.8492815782869025, 0.8444435480979526, 0.8520382919221254, 0.850397081495823, 0.8447366534007386, 0.8489898175038544, 0.848916317091535, 0.8513911297551181, 0.8513333154064036, 0.8477716826216342, 0.8485927360080313, 0.8480383457029149, 0.849167294109211, 0.8457513176293427, 0.8475323581083504, 0.8477214872180989, 0.8470689469721415, 0.8499749022982325, 0.8501389337062135, 0.8450405148614248, 0.8481759348893909, 0.84621383241906, 0.8521234448388368, 0.8493331182101752, 0.8507471048008318, 0.8478407013014951, 0.8470205442615899, 0.850235739127317, 0.848234645584597, 0.8475717973539851, 0.8479643971173497, 0.8497915994406797, 0.8493842099602021, 0.8480195224265892, 0.8492381054820552, 0.8503182030045534, 0.8474875407837654, 0.8490032627012297, 0.8464683948227025, 0.851323007421749, 0.8485407479115128, 0.8509662615180524, 0.8505593202108207, 0.8508076081890215, 0.8464208884586426, 0.8476896669176437, 0.8451077408483023, 0.8493044351224408, 0.8492972643505073, 0.8500788784912696, 0.8497705352981249, 0.8479034455559141, 0.8499139507367967, 0.8509142734215339, 0.8502464952852176, 0.8440984546986483, 0.8469730378975295, 0.8432191387902908, 0.8474149367179378, 0.8483856799684486, 0.8482198558674842, 0.850275178372952, 0.8472993080205083, 0.8463402172743897, 0.8495114911620237, 0.8531255602165573, 0.8490624215696821, 0.8504078376537234, 0.8476623283496469, 0.8484363235452298, 0.8473145459108673, 0.8461156824782188, 0.8483238320605213, 0.8462452045462694, 0.8444794019576207, 0.8493958624645944, 0.8483596859201892, 0.8495778208024093, 0.849196873543437, 0.8480692696568786, 0.8485819798501307, 0.8474803700118317, 0.8468618909325588, 0.8508327058907891, 0.8529229859094332, 0.8474472051916389, 0.849793840306909, 0.8500161342368506, 0.8495715463769675, 0.8493653866838764, 0.8509474382417267, 0.8502196048904664, 0.8491350256355097, 0.8493151912803414, 0.8453130041949015, 0.8484923452009608, 0.8457436986841633, 0.8463106378401635, 0.8508318095442975, 0.849313398587358, 0.8492390018285468, 0.8505664909827544, 0.8465365171560718, 0.8466333225771754, 0.8497835323222545, 0.8499910365350831, 0.8483664085188771, 0.8489028718941595, 0.8485774981176724, 0.846413717686709, 0.8498646516797533, 0.8472284966476641, 0.8525787888566204, 0.8466225664192751, 0.8481378401634936, 0.8495262808791366, 0.8493671793768599, 0.8497427485568823, 0.8507363486429315, 0.8493026424294574, 0.8481221540998889, 0.8494702592234054, 0.8520114015273744, 0.8494738446093723, 0.8485281990606288, 0.8462792657129539, 0.848151733534115, 0.8504230755440823, 0.8458015130328779, 0.851496002294647, 0.8496109856226023, 0.8499861066293786, 0.8494756373023556, 0.8473199239898177, 0.8488571582230827, 0.8494707073966512, 0.8469766232834965, 0.8538076798967409, 0.8485577784948549, 0.8505037467283353, 0.8501245921623463, 0.8490651106091571, 0.8482691549245276, 0.847739414147933, 0.8506565738051701, 0.8517891075974329, 0.8520329138431751, 0.8482324047183678, 0.8475027786741242, 0.8490955863898748, 0.8463070524541967, 0.8482808074289198, 0.8523094367358646, 0.8501120433114625, 0.8478935857445054, 0.849358215911943, 0.8480038363629845, 0.8497418522103906, 0.8499381520920727, 0.8494962532716648, 0.8481624896920155, 0.846727438958804, 0.8487289806747698, 0.8470501236958159, 0.8480477573410778, 0.8504853716252554, 0.8511625613997347, 0.8480334157972107, 0.8481266358323474, 0.848724947115557, 0.8480334157972105, 0.847972016062529, 0.8491336811157721, 0.8491834283460615, 0.8526693198522821, 0.8494469542146212, 0.8488410239862322, 0.8460784840988133, 0.8479142017138145, 0.8469192571080277, 0.8485828761966226, 0.847566419275035, 0.8468583055465921, 0.8467032376035282, 0.8518437847334266, 0.8506946685310675, 0.8504979204761393, 0.8480782331217956, 0.8504992649958769, 0.8488849449643253, 0.8479204761392565, 0.850874834175899, 0.8480688214836327, 0.8500797748377613, 0.8503567459036965, 0.8468502384281669, 0.8496549066006955, 0.8478971711304721, 0.8499426338245314, 0.8480625470581908, 0.848698056720806, 0.8518437847334266, 0.8487540783765372, 0.8472078806783551, 0.8477797497400597, 0.8471975726937007, 0.8489772686529704, 0.8494917715392062, 0.8465992614104909, 0.8489127317055681, 0.8462362410813524, 0.8529436018787423, 0.85396543687928, 0.8520615969309097, 0.8473432289986017, 0.8479016528629307, 0.8461994908751928, 0.849143092753935, 0.8500770857982861, 0.8493918289053817, 0.849501631350615, 0.8496441504427952, 0.84705505360152, 0.8490072962604425, 0.8497866695349754, 0.8488186153239395, 0.850254114230397, 0.8479742569287583, 0.8505387042415116, 0.8494603994119966, 0.8459879531031516, 0.8506731562152666, 0.8496244308199778, 0.8469201534545194, 0.8492121114337957, 0.8448128428525331, 0.8515515757771325, 0.8496100892761106, 0.8465194865727295, 0.8506915313183463, 0.8486617546878922, 0.8481373919902477, 0.8477349324154746, 0.8519060808145997, 0.8519455200602344, 0.8503137212720948, 0.8485864615825893, 0.8506704671757914, 0.8482682585780359, 0.8468901258470474, 0.8500044817324584, 0.8489181097845182, 0.8495267290523825, 0.8487854505037468, 0.8488634326485246, 0.8467041339500198, 0.8484475278763759, 0.8517783514395325, 0.847945573841024, 0.8494756373023556, 0.8454196694274139, 0.8480110071349181, 0.8478514574593955, 0.8483076978236708, 0.8508676634039655, 0.8501362446667384, 0.8499578717148901, 0.8495347961708077, 0.8460489046645872, 0.845073231508372, 0.8508313613710515, 0.8471917464415044, 0.8526029902118963, 0.8491063425477752, 0.8449490875192716, 0.8479581226919078, 0.8476524685382382, 0.8490400129073895, 0.8499587680613818, 0.8508730414829158, 0.8487280843282781, 0.8474570650030475, 0.850450862285325, 0.8488822559248503, 0.849394069771611, 0.8443467426768492, 0.8471334839195439, 0.85085421820659, 0.8486465167975332, 0.8513803735972176, 0.8449965938833316, 0.8493886916926607, 0.8504069413072317, 0.8449894231113981, 0.849853447348607, 0.8468296224588576, 0.8489405184468108, 0.8510478290487972, 0.8473073751389337, 0.8485909433150479, 0.8454367000107561, 0.8460264960022946, 0.8492963680040156, 0.845189308379047, 0.8469102936431107, 0.849602918504177, 0.8494698110501595, 0.8498377612850022, 0.850734555949948, 0.8473593632354522, 0.848270947617511, 0.847396561614858, 0.8474902298232405, 0.8456894697214155, 0.8504804417195511, 0.8470214406080816, 0.8474032842135456, 0.8499211215087306, 0.8517810404790074, 0.8525536911548528, 0.8494819117277975, 0.8504867161449929, 0.8492103187408125, 0.8509366820838263, 0.8471370693055108, 0.8442651751461046, 0.8479375067225987, 0.8471119716037432, 0.8467919759062063, 0.8473665340073859, 0.8464966297371912, 0.8467888386934854, 0.8464648094367359, 0.8491753612276363, 0.8511984152594028, 0.8465526513929226, 0.8513920261016099, 0.8492103187408124, 0.8515614355885412, 0.8517433939263562, 0.8480280377182603, 0.8491628123767524, 0.8468663726650174, 0.8489028718941596, 0.8516528629306944, 0.8496997239252805, 0.8447317234950342, 0.8490615252231902, 0.8500161342368506, 0.8476058585206698, 0.8456930551073825, 0.8505378078950199, 0.8514090566849521, 0.8477165573123947, 0.8508461510881646, 0.851603563873651, 0.8500788784912697, 0.8461313685418235, 0.8480719586963537, 0.8494111003549532, 0.8505270517371195, 0.8487415295256535, 0.8493304291707002, 0.851236061812054, 0.8511217776343623, 0.8506346133161236, 0.8492909899250654, 0.8475843462048689, 0.8444901581155211, 0.8501828546843067, 0.8479079272883726, 0.8486958158545765, 0.8499157434297802, 0.8460596608224875, 0.8479652934638414, 0.8454089132695135, 0.8478272561041196, 0.8470214406080815, 0.8477187981786241, 0.8490283604029973, 0.8464002724893335, 0.8470788067835504, 0.849313398587358, 0.8487473557778493, 0.8488096518590227, 0.8487540783765373, 0.8496952421928221, 0.8471908500950127, 0.8487155354773942, 0.8504051486142483, 0.8501649277544728, 0.8495827507081137, 0.8504885088379764, 0.8462478935857445, 0.8502034706536159, 0.8489871284643792, 0.8498942311139794, 0.8493662830303683, 0.8496280162059445, 0.8483471370693055, 0.8478568355383458, 0.8470066508909684, 0.8493071241619161, 0.8503011724212112, 0.8468251407263991, 0.849564375605034, 0.8491493671793768, 0.849611881969094, 0.8469820013624467, 0.8504544476712919, 0.8511621132264888, 0.8493716611093184, 0.8500349575131765, 0.851063066939156, 0.8480110071349181, 0.8466158438205873, 0.848943207486286, 0.849829694166577, 0.8515641246280163, 0.847888655838801, 0.8474749919328816, 0.8513651357068588, 0.8495952995589975, 0.8469972392528056, 0.8486079738983903, 0.8434799756193755, 0.8515157219174645, 0.8506252016779606, 0.8479446774945322, 0.8500582625219604, 0.8504194901581155, 0.851343623391058, 0.8485232691549246, 0.8520212613387832, 0.8474597540425226, 0.8491995625829121, 0.84725269800294, 0.845960166361909, 0.8488903230432756, 0.8484582840342764, 0.8476838406654477, 0.8489978846222797, 0.8485210282886952, 0.8492676849162812, 0.8491157541859381, 0.8476291635294539, 0.849937255745581, 0.8465311390771216, 0.8508900720662579, 0.8491529525653437, 0.8498404503244774, 0.848754974723029, 0.8477232799110825, 0.848104227170055, 0.8503379226273708, 0.8458077874583199, 0.8488652253415081, 0.8464854254060449, 0.849163708723244, 0.8484336345057545, 0.8483489297622889, 0.8500636406009107, 0.8469833458821843, 0.8489548599906781, 0.8510003226847369, 0.8485631565738051, 0.8500784303180238, 0.8499430819977771, 0.8478855186260801, 0.8496289125524362, 0.8472634541608404, 0.8448737944139686, 0.8484242228675917, 0.8487971030081387, 0.8511634577462264, 0.8491027571618084, 0.8480777849485497, 0.8500300276074719, 0.8462555125309239, 0.8505759026209172, 0.8445018106199133, 0.8490158115521136, 0.8477680972356674, 0.8504790971998135, 0.8491601233372773, 0.849531210784841, 0.8520418773080921, 0.8473427808253557, 0.848408088630741, 0.8515175146104479, 0.8492183858592377, 0.8464513642393603, 0.8465297945573841, 0.8465141084937794, 0.8466279444982252, 0.8502402208597755, 0.8471783012441289, 0.850591140511276, 0.8517568391237317, 0.8501443117851636, 0.8487926212756802, 0.8487899322362054, 0.8530242730629952, 0.8488159262844646, 0.8480280377182604, 0.8476426087268294, 0.8473813237244989, 0.8461349539277903, 0.8501712021799146, 0.8491623642035065, 0.8482557097271521, 0.8458714280592305, 0.8489557563371697, 0.8516497257179736, 0.8507896812591875, 0.8477949876304183, 0.8500430246316018, 0.8484690401921768, 0.8515193073034312, 0.8492811301136567, 0.8480526872467821, 0.8501066652325122, 0.8475977914022446, 0.848844609372199, 0.8512418880642502, 0.8518590226237854, 0.8496136746620775, 0.8499211215087303, 0.8513812699437093, 0.8498108708902514, 0.848757663762504, 0.8495244881861532, 0.8482077551898461, 0.8494344053637375, 0.8497248216270481, 0.8499229142017138, 0.848037897529669, 0.8507072173819512, 0.8489315549818938, 0.849175361227636, 0.8466064321824245, 0.8502106414255495, 0.8476524685382382, 0.8498691334122118, 0.8458239216951706, 0.848297838012262, 0.8507049765157219, 0.8485954250475063, 0.8472383564590729, 0.8513158366498154, 0.849047183679323, 0.8487415295256534, 0.8486250044817325, 0.8494397834426877, 0.8500250977017676, 0.8498628589867699, 0.847578071779427, 0.8511455308163924, 0.8461757376931627, 0.8460336667742281, 0.8440016492775448, 0.8502769710659352, 0.8452157506005522, 0.8472334265533684, 0.850564698289771, 0.8481929654727333, 0.8463859309454662, 0.8498848194758165, 0.8488840486178337, 0.8510074934566705, 0.8495876806138182, 0.8491305439030512, 0.8501980925746657, 0.8495334516510703, 0.8507350041231939, 0.8487953103151554, 0.8491188913986591, 0.8468681653580008, 0.8474346563407551, 0.8490660069556489, 0.8488535728371158, 0.8469246351869779, 0.8497212362410813, 0.8479159944067979, 0.8498727187981787, 0.849047183679323, 0.8458140618837617, 0.8504105266931985, 0.8516080456061095, 0.846515004840271, 0.843639525294898, 0.846201283568176, 0.8507538273995195, 0.8472329783801227, 0.8461008927611057, 0.8480594098454699, 0.8515721917464414, 0.8483354845649136, 0.8476479868057798, 0.849982073070166, 0.850062744254419, 0.8446541895235022, 0.8491305439030512, 0.8483749238105481, 0.8483112832096376, 0.8475664192750351, 0.8514888315227135, 0.8494935642321897, 0.8459391022193539, 0.8452395037825822, 0.8511051952242656, 0.8519038399483705, 0.845216198773798, 0.8479823240471838, 0.8479455738410241, 0.8465042486823706, 0.8473136495643756, 0.8491905991179951, 0.8485057903983364, 0.8468090064895486, 0.8466055358359328, 0.8488235452296439, 0.8495948513857519, 0.8492345200960885, 0.8501236958158547, 0.8430577964217847, 0.8461851493313255, 0.8494630884514718, 0.8477914022444516, 0.8508282241583307, 0.8501622387149976, 0.8489925065433293, 0.8497570901007493, 0.8475628338890682, 0.8478496647664122, 0.8526953139005412, 0.8491256139973468, 0.8484529059553261, 0.8465705783227564, 0.8471998135599297, 0.8472455272310064, 0.8476282671829622, 0.8474669248144564, 0.8490140188591302, 0.8487451149116203, 0.850475063640601, 0.8448791724929189, 0.8491144096662006, 0.8465961241977699, 0.8486617546878922, 0.8459879531031516, 0.8481745903696533, 0.8484901043347317, 0.8504723746011258, 0.8494379907497043, 0.8482153741350256, 0.851343623391058, 0.8499282922806641, 0.8512548850883797, 0.8469219461475029, 0.8479930802050842, 0.8506113083073392, 0.8475354953210713, 0.8484367717184755, 0.848062098884945, 0.8508129862679719, 0.847108834391022, 0.8517165035316052, 0.8475700046610017, 0.8492031479688789, 0.8488804632318669, 0.8485156502097451, 0.8506982539170341, 0.8455608439998566, 0.8507556200925029, 0.8484789000035854, 0.8495787171489011, 0.8493913807321358, 0.8482772220429529, 0.848993851063067, 0.8492627550105768, 0.8483650639991396, 0.8472647986805779, 0.8499282922806639, 0.8477775088738302, 0.8473934244021368, 0.8506426804345486, 0.8510953354128573, 0.8497414040371446, 0.8501268330285755, 0.8514619411279625, 0.8496719371840379, 0.8502563550966262, 0.8489790613459539, 0.8519213187049586, 0.8489736832670036, 0.8514614929547167, 0.8495486895414291, 0.8499381520920727, 0.8497490229823241, 0.8490023663547381, 0.8476721881610555, 0.8471200387221682, 0.8497301997059983, 0.847207880678355, 0.8494541249865548, 0.8503558495572048, 0.8515802588648669, 0.8490023663547381, 0.8500743967588111, 0.8519092180273206, 0.8476390233408626, 0.8476515721917465, 0.8439259079989961, 0.8473611559284356, 0.8472114660643218, 0.8466073285289161, 0.8506390950485822, 0.8475816571653939, 0.8508497364741313, 0.8477125237531821, 0.8447859524577821, 0.8520149869133413, 0.8484394607579505, 0.8493187766663081, 0.8503630203291385, 0.8491395073679682, 0.8458024093793697, 0.8453658886379118, 0.8522874762468179, 0.848080025814779, 0.851104298877774, 0.8463285647699974, 0.8490211896310638, 0.8474023878670538, 0.8471316912265605, 0.8478550428453623, 0.848214477788534, 0.8470245778208024, 0.8480656842709118, 0.8484726255781435, 0.8522292137248575, 0.8479791868344628, 0.8465885052525903, 0.847557007636872, 0.8460905847764513, 0.8482893227205909, 0.8473898390161702, 0.846754329353555, 0.8506655372700869, 0.846264027822595, 0.8485443332974796, 0.8488544691836076, 0.8505602165573125, 0.8484134667096912, 0.8493945179448568, 0.8498655480262451, 0.8485685346527554, 0.8471532035423613, 0.8489423111397942, 0.8461806675988669, 0.8477519629988168, 0.8475493886916927, 0.8462133842458142, 0.851905632641354, 0.8512701229787387, 0.8514350507332114, 0.8517398085403896, 0.8477201426983615, 0.848037897529669, 0.8510388655838802, 0.8497759133770751, 0.8471406546914775, 0.8492829228066401, 0.8484479760496215, 0.8492811301136567, 0.8486375533326163, 0.8492909899250655, 0.850062744254419, 0.8488791187121294, 0.8450216915850992, 0.8473907353626619, 0.8476954931698397, 0.8510048044171955, 0.8479769459682334, 0.8474454124986556, 0.8502644222150515, 0.8492354164425799, 0.8484260155605751, 0.8486751998852675, 0.8472141551037969, 0.8487621454949624, 0.8502312573948585, 0.8467489512746047, 0.8511544942813094, 0.848838334946757, 0.8514995876806137, 0.8514807644042882, 0.8535432576816895, 0.8475050195403536, 0.8458794951776558, 0.8525375569180023, 0.8503800509124806, 0.849304435122441, 0.8471971245204546, 0.845978093291743, 0.8517416012333728, 0.8468009393711234, 0.8493582159119429, 0.8499247068946972, 0.8477815424330429, 0.8501371410132301, 0.8468816105553763, 0.8476215445842745, 0.8496002294647018, 0.847330231974472, 0.846703237603528, 0.850143415438672, 0.8446353662471765, 0.8489781649994621, 0.8495240400129075, 0.8505808325266215, 0.850925925925926, 0.8509322003513679, 0.8472383564590729, 0.8482942526262951, 0.8495939550392602, 0.8475565594636263, 0.8495598938725755, 0.8506843605464128, 0.8497857731884837, 0.8511042988777742, 0.8489091463196013, 0.8479702233695456, 0.8477170054856407, 0.8458400559320209, 0.8490677996486323, 0.846676347208777, 0.8462192104980102, 0.8516967839087879, 0.8516815460184289, 0.8503056541536695, 0.8510675486716146, 0.8474938152092073, 0.849623534473486, 0.8487424258721453, 0.8509859811408699, 0.8539188268617117, 0.8447536839840808, 0.8500322684737012, 0.8456527195152559, 0.8480907819726794, 0.8476542612312216, 0.8477331397224911, 0.8512763974041806, 0.8489082499731095, 0.8488629844752787, 0.8500542289627477, 0.8474566168298018, 0.8482279229859094, 0.8473378509196514, 0.8485900469685563, 0.8454806209888495, 0.8495769244559178, 0.8502285683553834, 0.8478294969703489, 0.8464576386648023, 0.8505754544476714, 0.8496974830590514, 0.8488804632318669, 0.8481660750779821, 0.8528199060628876, 0.8480952637051379, 0.8503773618730056, 0.848461869420243, 0.8493644903373849, 0.8471684414327203, 0.8501712021799146, 0.8485210282886952, 0.8511804883295686, 0.8474767846258648, 0.849629808898928, 0.8500448173245849, 0.8465741637087233, 0.8468511347746586, 0.8475458033057257, 0.8481624896920155, 0.8471415510379693, 0.8477116274066903, 0.8465660965902979, 0.8483081459969166, 0.8494384389229501, 0.8518993582159119, 0.8500645369474025, 0.845147628267183, 0.8477689935821591, 0.8480576171524865, 0.8499569753683984, 0.8477636155032089, 0.8465965723710156, 0.848503997705353, 0.8504293499695241, 0.8464630167437526, 0.8440312287117708, 0.847986805779642, 0.8472706249327739, 0.8490794521530243, 0.848656376608942, 0.8502491843246927, 0.8494039295830197, 0.846715338281166, 0.8474633394284894, 0.8465741637087233, 0.8479209243125023, 0.8494469542146212, 0.8472589724283819, 0.8525581728873113, 0.8475260836829084, 0.8475202574307124, 0.8484058477645118, 0.8495491377146751, 0.8468726470904593, 0.8485492632031839, 0.845380230181779, 0.8485147538632534, 0.8505216736581693, 0.8464441934674267, 0.8486760962317594, 0.8480854038937291, 0.8461197160374314, 0.8491036535083001, 0.8489593417231365, 0.8485676383062637, 0.8487612491484707, 0.8510254203865046, 0.8500654332938942, 0.8485205801154494, 0.8510442436628304, 0.8474991932881575, 0.8491614678570147, 0.847091355634434, 0.8503782582194974, 0.8488867376573089, 0.8448504894051845, 0.8495235918396615, 0.8513552758954501, 0.8488490911046573, 0.8506870495858879, 0.8485792908106559, 0.8460031909935105, 0.8494379907497043, 0.850361227636155, 0.8504230755440824, 0.8483305546592091, 0.8510715822308272, 0.8523251227994693, 0.8488840486178337, 0.8506718116955291, 0.8513552758954501, 0.8483220393675379, 0.8458535011293965, 0.8502644222150515, 0.8476811516259725, 0.8482973898390161, 0.8495043203900899, 0.845084435839518, 0.8493053314689326, 0.8462909182173461, 0.8522587931590835, 0.846586712559607, 0.8502231902764332, 0.8504508622853251, 0.8485313362733498, 0.8502218457566957, 0.8509510236276936, 0.848136495643756, 0.846885195941343, 0.8478156035997275, 0.8479805313542003, 0.8503119285791116, 0.8508013337635797, 0.8512262020006454, 0.8479321286436486, 0.8487325660607363, 0.8509380266035639, 0.8511984152594028, 0.8493277401312251, 0.8497732243375999, 0.851555609336345, 0.8532479115126744, 0.85184557742641, 0.8472513534832025, 0.8461116489190061, 0.8493653866838766, 0.8484349790254921, 0.8494137893944284, 0.8480450683016025, 0.8511509088953426, 0.8474364490337385, 0.8443897673084508, 0.848011007134918, 0.8482763256964612, 0.8506588146713995, 0.8495177655874655]\n"
     ]
    }
   ],
   "source": [
    "t_45 = auc_bootstrap\n",
    "print(t_45)"
   ]
  },
  {
   "cell_type": "code",
   "execution_count": 25,
   "id": "0efec8f5",
   "metadata": {},
   "outputs": [],
   "source": [
    "del X_train, X_test, y_train, y_test, X_val, y_val,study, optuna_auc"
   ]
  },
  {
   "cell_type": "code",
   "execution_count": 26,
   "id": "5f83d26e",
   "metadata": {},
   "outputs": [],
   "source": [
    "# 46.\n",
    "column_to_drop_45 = '현재 주택 거주 기간(총 개월)'"
   ]
  },
  {
   "cell_type": "code",
   "execution_count": 27,
   "id": "e84b853b",
   "metadata": {},
   "outputs": [
    {
     "name": "stdout",
     "output_type": "stream",
     "text": [
      "(10564, 37)\n"
     ]
    }
   ],
   "source": [
    "if not column_to_drop_45.startswith('Cat_'):\n",
    "    comp_46 = comp_45.drop(column_to_drop_45, axis=1)\n",
    "    X_46 = comp_46.drop('target', axis=1)\n",
    "    y_46 = comp_46['target']\n",
    "else:\n",
    "    comp_46 = comp_45.drop(comp_45.filter(regex='^' + column_to_drop_45).columns, axis=1)\n",
    "    X_46 = comp_46.drop('target', axis=1)\n",
    "    y_46 = comp_46['target']\n",
    "\n",
    "print(X_46.shape)"
   ]
  },
  {
   "cell_type": "code",
   "execution_count": 28,
   "id": "1f31bc9f",
   "metadata": {},
   "outputs": [],
   "source": [
    "X_train, X_test, y_train, y_test = train_test_split(X_46, y_46, test_size=0.2, shuffle=True, stratify=y_46, random_state = 0)\n",
    "X_train, X_val, y_train, y_val = train_test_split(X_train, y_train, test_size=0.2, shuffle=True, stratify=y_train, random_state = 0)"
   ]
  },
  {
   "cell_type": "code",
   "execution_count": 29,
   "id": "ab8ee306",
   "metadata": {},
   "outputs": [],
   "source": [
    "def objective(trial):\n",
    "    params = {\n",
    "        'learning_rate' :trial.suggest_float('learning_rate',0.01, 0.1,step=0.01),        \n",
    "        'n_estimators' :trial.suggest_int('n_estimators', 50, 200),\n",
    "        'subsample':trial.suggest_float('subsample', 0.1, 1.0,step=0.1),\n",
    "        'max_depth' :trial.suggest_int('max_depth', 1, 10),\n",
    "        'min_samples_split' :trial.suggest_int('min_samples_split', 3, 10),\n",
    "        'min_samples_leaf' :trial.suggest_int('min_samples_leaf', 3, 10),\n",
    "        }\n",
    "        \n",
    "    clf = GradientBoostingClassifier(**params,random_state = 0)\n",
    "    clf.fit(X_train, y_train)\n",
    "    clf_proba = clf.predict_proba(X_val)[:, 1]\n",
    "        \n",
    "    AUC_SCORE = roc_auc_score(y_val, clf_proba)\n",
    "    return AUC_SCORE\n",
    "\n",
    "direction = \"maximize\"\n",
    "sampler = optuna.samplers.TPESampler(seed=10)\n",
    "study =  optuna.create_study(direction=direction, sampler=sampler, pruner=optuna.pruners.HyperbandPruner())\n",
    "early_stopping = EarlyStoppingCallback(10, direction=direction)\n",
    "study.optimize(objective, callbacks=[early_stopping], n_trials=200) "
   ]
  },
  {
   "cell_type": "code",
   "execution_count": 30,
   "id": "8184a9d7",
   "metadata": {},
   "outputs": [
    {
     "name": "stdout",
     "output_type": "stream",
     "text": [
      "{'learning_rate': 0.09999999999999999, 'n_estimators': 157, 'subsample': 0.6, 'max_depth': 2, 'min_samples_split': 5, 'min_samples_leaf': 8}\n",
      "0.8432517689999552\n"
     ]
    }
   ],
   "source": [
    "print(study.best_trial.params)\n",
    "optuna_auc = study.best_trial.value\n",
    "print(optuna_auc)"
   ]
  },
  {
   "cell_type": "code",
   "execution_count": 31,
   "id": "f558ddcf",
   "metadata": {},
   "outputs": [
    {
     "data": {
      "text/html": [
       "<style>#sk-container-id-2 {color: black;}#sk-container-id-2 pre{padding: 0;}#sk-container-id-2 div.sk-toggleable {background-color: white;}#sk-container-id-2 label.sk-toggleable__label {cursor: pointer;display: block;width: 100%;margin-bottom: 0;padding: 0.3em;box-sizing: border-box;text-align: center;}#sk-container-id-2 label.sk-toggleable__label-arrow:before {content: \"▸\";float: left;margin-right: 0.25em;color: #696969;}#sk-container-id-2 label.sk-toggleable__label-arrow:hover:before {color: black;}#sk-container-id-2 div.sk-estimator:hover label.sk-toggleable__label-arrow:before {color: black;}#sk-container-id-2 div.sk-toggleable__content {max-height: 0;max-width: 0;overflow: hidden;text-align: left;background-color: #f0f8ff;}#sk-container-id-2 div.sk-toggleable__content pre {margin: 0.2em;color: black;border-radius: 0.25em;background-color: #f0f8ff;}#sk-container-id-2 input.sk-toggleable__control:checked~div.sk-toggleable__content {max-height: 200px;max-width: 100%;overflow: auto;}#sk-container-id-2 input.sk-toggleable__control:checked~label.sk-toggleable__label-arrow:before {content: \"▾\";}#sk-container-id-2 div.sk-estimator input.sk-toggleable__control:checked~label.sk-toggleable__label {background-color: #d4ebff;}#sk-container-id-2 div.sk-label input.sk-toggleable__control:checked~label.sk-toggleable__label {background-color: #d4ebff;}#sk-container-id-2 input.sk-hidden--visually {border: 0;clip: rect(1px 1px 1px 1px);clip: rect(1px, 1px, 1px, 1px);height: 1px;margin: -1px;overflow: hidden;padding: 0;position: absolute;width: 1px;}#sk-container-id-2 div.sk-estimator {font-family: monospace;background-color: #f0f8ff;border: 1px dotted black;border-radius: 0.25em;box-sizing: border-box;margin-bottom: 0.5em;}#sk-container-id-2 div.sk-estimator:hover {background-color: #d4ebff;}#sk-container-id-2 div.sk-parallel-item::after {content: \"\";width: 100%;border-bottom: 1px solid gray;flex-grow: 1;}#sk-container-id-2 div.sk-label:hover label.sk-toggleable__label {background-color: #d4ebff;}#sk-container-id-2 div.sk-serial::before {content: \"\";position: absolute;border-left: 1px solid gray;box-sizing: border-box;top: 0;bottom: 0;left: 50%;z-index: 0;}#sk-container-id-2 div.sk-serial {display: flex;flex-direction: column;align-items: center;background-color: white;padding-right: 0.2em;padding-left: 0.2em;position: relative;}#sk-container-id-2 div.sk-item {position: relative;z-index: 1;}#sk-container-id-2 div.sk-parallel {display: flex;align-items: stretch;justify-content: center;background-color: white;position: relative;}#sk-container-id-2 div.sk-item::before, #sk-container-id-2 div.sk-parallel-item::before {content: \"\";position: absolute;border-left: 1px solid gray;box-sizing: border-box;top: 0;bottom: 0;left: 50%;z-index: -1;}#sk-container-id-2 div.sk-parallel-item {display: flex;flex-direction: column;z-index: 1;position: relative;background-color: white;}#sk-container-id-2 div.sk-parallel-item:first-child::after {align-self: flex-end;width: 50%;}#sk-container-id-2 div.sk-parallel-item:last-child::after {align-self: flex-start;width: 50%;}#sk-container-id-2 div.sk-parallel-item:only-child::after {width: 0;}#sk-container-id-2 div.sk-dashed-wrapped {border: 1px dashed gray;margin: 0 0.4em 0.5em 0.4em;box-sizing: border-box;padding-bottom: 0.4em;background-color: white;}#sk-container-id-2 div.sk-label label {font-family: monospace;font-weight: bold;display: inline-block;line-height: 1.2em;}#sk-container-id-2 div.sk-label-container {text-align: center;}#sk-container-id-2 div.sk-container {/* jupyter's `normalize.less` sets `[hidden] { display: none; }` but bootstrap.min.css set `[hidden] { display: none !important; }` so we also need the `!important` here to be able to override the default hidden behavior on the sphinx rendered scikit-learn.org. See: https://github.com/scikit-learn/scikit-learn/issues/21755 */display: inline-block !important;position: relative;}#sk-container-id-2 div.sk-text-repr-fallback {display: none;}</style><div id=\"sk-container-id-2\" class=\"sk-top-container\"><div class=\"sk-text-repr-fallback\"><pre>GradientBoostingClassifier(learning_rate=0.09999999999999999, max_depth=2,\n",
       "                           min_samples_leaf=8, min_samples_split=5,\n",
       "                           n_estimators=157, random_state=0, subsample=0.6)</pre><b>In a Jupyter environment, please rerun this cell to show the HTML representation or trust the notebook. <br />On GitHub, the HTML representation is unable to render, please try loading this page with nbviewer.org.</b></div><div class=\"sk-container\" hidden><div class=\"sk-item\"><div class=\"sk-estimator sk-toggleable\"><input class=\"sk-toggleable__control sk-hidden--visually\" id=\"sk-estimator-id-2\" type=\"checkbox\" checked><label for=\"sk-estimator-id-2\" class=\"sk-toggleable__label sk-toggleable__label-arrow\">GradientBoostingClassifier</label><div class=\"sk-toggleable__content\"><pre>GradientBoostingClassifier(learning_rate=0.09999999999999999, max_depth=2,\n",
       "                           min_samples_leaf=8, min_samples_split=5,\n",
       "                           n_estimators=157, random_state=0, subsample=0.6)</pre></div></div></div></div></div>"
      ],
      "text/plain": [
       "GradientBoostingClassifier(learning_rate=0.09999999999999999, max_depth=2,\n",
       "                           min_samples_leaf=8, min_samples_split=5,\n",
       "                           n_estimators=157, random_state=0, subsample=0.6)"
      ]
     },
     "execution_count": 31,
     "metadata": {},
     "output_type": "execute_result"
    }
   ],
   "source": [
    "optuna_46 = GradientBoostingClassifier(**study.best_trial.params, random_state = 0)\n",
    "optuna_46.fit(X_train, y_train)"
   ]
  },
  {
   "cell_type": "code",
   "execution_count": 32,
   "id": "9663994f",
   "metadata": {},
   "outputs": [
    {
     "name": "stdout",
     "output_type": "stream",
     "text": [
      "0.8505543903051164\n"
     ]
    }
   ],
   "source": [
    "optuna_proba_46 = optuna_46.predict_proba(X_test)[:, 1]\n",
    "auc_46 = roc_auc_score(y_test, optuna_proba_46)\n",
    "print(auc_46)"
   ]
  },
  {
   "cell_type": "code",
   "execution_count": 33,
   "id": "5c6059e8",
   "metadata": {},
   "outputs": [],
   "source": [
    "X_train = X_train.values\n",
    "y_train = y_train.values"
   ]
  },
  {
   "cell_type": "code",
   "execution_count": 34,
   "id": "630ecd0d",
   "metadata": {},
   "outputs": [],
   "source": [
    "auc_bootstrap = []"
   ]
  },
  {
   "cell_type": "code",
   "execution_count": 35,
   "id": "17cb6180",
   "metadata": {},
   "outputs": [
    {
     "data": {
      "text/plain": [
       "array([0.84446205, 0.85148596])"
      ]
     },
     "execution_count": 35,
     "metadata": {},
     "output_type": "execute_result"
    }
   ],
   "source": [
    "rs = RandomState(seed = 46)\n",
    "bootstrap_auc(optuna_46, X_train, y_train, X_test, y_test, nsamples=2000)"
   ]
  },
  {
   "cell_type": "code",
   "execution_count": 36,
   "id": "8a435e8a",
   "metadata": {},
   "outputs": [
    {
     "data": {
      "text/plain": [
       "0.8481225475959986"
      ]
     },
     "execution_count": 36,
     "metadata": {},
     "output_type": "execute_result"
    }
   ],
   "source": [
    "np.mean(auc_bootstrap)"
   ]
  },
  {
   "cell_type": "code",
   "execution_count": 37,
   "id": "99a89355",
   "metadata": {},
   "outputs": [
    {
     "name": "stdout",
     "output_type": "stream",
     "text": [
      "[0.8456769208705317, 0.8460614535154711, 0.8486124556308485, 0.8475852425513608, 0.8484363235452297, 0.8469524219282206, 0.8490140188591302, 0.851102058011545, 0.8494178229536411, 0.8432419956258292, 0.8477107310601987, 0.8474010433473163, 0.8459108673048654, 0.8497512638485533, 0.8505409451077408, 0.8484107776702162, 0.8495513785809042, 0.8460668315944211, 0.846347836219569, 0.8462425155067943, 0.8489588935498906, 0.8481158796744469, 0.8457961349539278, 0.8490041590477215, 0.8474664766412106, 0.846135850274282, 0.8507896812591875, 0.8480903337994335, 0.8506458176472698, 0.847772578968126, 0.8481741421964075, 0.8460991000681224, 0.8483435516833387, 0.8476748772005307, 0.8495751317629343, 0.8466503531605178, 0.8471800939371124, 0.8449607400236636, 0.8460108099386899, 0.8489835430784123, 0.8473315764942095, 0.8455751855437239, 0.8481324620845433, 0.8489293141156644, 0.8483587895736977, 0.8507367968161774, 0.8462918145638377, 0.8466265999784875, 0.8477707862751426, 0.8468592018930838, 0.8477264171238034, 0.8500250977017676, 0.8476928041303646, 0.8452811838944463, 0.8492972643505073, 0.8479742569287584, 0.8479334731633861, 0.8465674411100355, 0.8463832419059912, 0.8468842995948513, 0.8479451256677781, 0.8495554121401169, 0.844962532716647, 0.8504929905704348, 0.846867269011509, 0.8477797497400594, 0.8505924850310136, 0.8483847836219569, 0.8489656161485784, 0.8472069843318634, 0.8474929188627155, 0.8480011473235092, 0.8485774981176724, 0.8492004589294039, 0.8490037108744757, 0.8458086838048116, 0.847975601448496, 0.848169660463949, 0.8464778064608655, 0.8469474920225162, 0.8501729948728982, 0.8506095156143558, 0.8472177404897637, 0.8494854971137644, 0.8461259904628733, 0.850432935355491, 0.8479814277006921, 0.8474781291456026, 0.8487625936682082, 0.8473248538955219, 0.8475767272596896, 0.8466714173030726, 0.8492596177978559, 0.8468538238141337, 0.8494608475852425, 0.8478837259330967, 0.8462774730199706, 0.8489225915169767, 0.8465768527481984, 0.8493653866838764, 0.8451731741421964, 0.850185095550536, 0.8499717650855115, 0.8465096267613209, 0.8497355777849485, 0.847939747588828, 0.8455061668638629, 0.8470546054282743, 0.847571797353985, 0.8480177297336058, 0.8472553870424152, 0.8487047793194937, 0.8443198522820982, 0.844167921551755, 0.8471007672725969, 0.8486129038040946, 0.8502393245132839, 0.846153777204116, 0.8479877021261338, 0.8486778889247426, 0.8533967050302964, 0.8479917356853466, 0.8480764404288121, 0.8481736940231615, 0.8496826933419384, 0.8488540210103617, 0.845147628267183, 0.847697734036069, 0.8480620988849449, 0.8506951167043133, 0.8486465167975332, 0.851292979814277, 0.8495182137607112, 0.8476152701588326, 0.8466413896956008, 0.8466933777921193, 0.850397081495823, 0.8486527912229751, 0.8477282098167869, 0.8498494137893944, 0.8495002868308774, 0.8499731096052491, 0.8467113047219533, 0.8483641676526478, 0.8478774515076548, 0.8498521028288695, 0.8466391488293714, 0.8468170736079741, 0.8491157541859382, 0.847853250152379, 0.850331648201929, 0.8480047327094764, 0.8488750851529167, 0.8490059517407049, 0.8475942060162777, 0.8495666164712632, 0.8486061812054067, 0.8505969667634721, 0.8478980674769641, 0.8464441934674267, 0.8436471442400775, 0.8495352443440538, 0.8490113298196551, 0.8490906564841705, 0.8469134308558315, 0.8461797712523753, 0.844890376824065, 0.8479670861568248, 0.8484291527732961, 0.8495863360940805, 0.8470053063712308, 0.8483632713061562, 0.849286508192607, 0.8493626976444014, 0.8475709010074935, 0.8497579864472411, 0.8470909074611883, 0.8489207988239934, 0.8466485604675345, 0.8513911297551182, 0.8464388153884765, 0.8504652038291922, 0.8483619267864186, 0.8513911297551182, 0.8497180990283604, 0.8508250869456097, 0.8504616184432254, 0.8487679717471586, 0.844577103725216, 0.8467265426123123, 0.8468847477680972, 0.8505458750134451, 0.848901079201176, 0.8493689720698434, 0.8462747839804954, 0.8480401383958982, 0.8469672116453337, 0.845684987988957, 0.8515623319350328, 0.848313075902621, 0.8467104083754616, 0.8479168907532897, 0.8499538381556775, 0.8434840091785881, 0.8495486895414291, 0.8480777849485497, 0.8451368721092827, 0.8486285898676993, 0.8471191423756768, 0.8459068337456526, 0.8478519056326416, 0.8466413896956007, 0.8509438528557599, 0.8498422430174609, 0.847972016062529, 0.8470729805313542, 0.8486738553655301, 0.8475224982969418, 0.8468811623821305, 0.8465786454411819, 0.8496307052454195, 0.848742874045391, 0.850860492632032, 0.8449665662758595, 0.8451413538417412, 0.8478129145602524, 0.8476789107597433, 0.8447819188985695, 0.8471415510379692, 0.8476049621741779, 0.8465315872503676, 0.8496311534186656, 0.8457472840701301, 0.8491341292890179, 0.8477282098167866, 0.8489916101968377, 0.8477654081961923, 0.8462236922304687, 0.84756910831451, 0.8450566490982754, 0.8482256821196801, 0.8462801620594458, 0.8455375389910724, 0.8483906098741529, 0.8472768993582158, 0.8502101932523036, 0.848587357929081, 0.8489705460542828, 0.8491843246925532, 0.8497230289340648, 0.8458575346886092, 0.8477161091391487, 0.8465759564017066, 0.8482449535692518, 0.8485210282886952, 0.8456603384604353, 0.847673980854039, 0.8519670323760353, 0.8478828295866051, 0.8455612921731024, 0.8483650639991396, 0.8489172134380267, 0.8466158438205873, 0.8481051235165465, 0.8476444014198128, 0.8493178803198165, 0.846458086838048, 0.8497938403069091, 0.848785002330501, 0.8483901617009071, 0.8463464916998314, 0.8479392994155821, 0.8486931268151016, 0.8488446093721989, 0.8495944032125058, 0.8494935642321895, 0.8463644186296655, 0.8475565594636263, 0.8470214406080814, 0.8474929188627156, 0.846545032447743, 0.8469295650926822, 0.8494603994119967, 0.8485326807930874, 0.8462187623247641, 0.8495083539493027, 0.8491049980280377, 0.8496015739844394, 0.8474247965293464, 0.8486164891900614, 0.8489172134380265, 0.8479724642357749, 0.8478129145602524, 0.8486102147646195, 0.8497167545086228, 0.8527983937470869, 0.85031641031157, 0.8504436915133913, 0.8491861173855365, 0.8491825319995696, 0.8491646050697358, 0.8477017675952817, 0.8490122261661468, 0.8461497436449035, 0.8472634541608404, 0.8463913090244165, 0.8457159119429207, 0.8469206016277652, 0.847494711555699, 0.8497431967301281, 0.8458633609408054, 0.8482700512710194, 0.8493160876268331, 0.8494353017102292, 0.847145136423936, 0.8501936108422072, 0.8478805887203757, 0.8464755655946363, 0.8503446452260586, 0.8501340038005092, 0.8453551324800114, 0.8470738768778459, 0.847620200064537, 0.8502030224803699, 0.8491744648811445, 0.8491619160302607, 0.8492098705675666, 0.8474602022157685, 0.844514359470797, 0.8470402638844071, 0.8451229787386613, 0.8478070883080564, 0.8472329783801227, 0.84736070775519, 0.8495751317629343, 0.8459731633860386, 0.8467816679215516, 0.8484632139399806, 0.8472795883976909, 0.8489342440213689, 0.8458333333333334, 0.8503988741888064, 0.8520790756874976, 0.8476094439066365, 0.8486778889247428, 0.851242336237496, 0.8468923667132766, 0.8472334265533685, 0.8485550894553799, 0.8476237854505038, 0.8476193037180453, 0.845374403929583, 0.8517151590118677, 0.8473015488867377, 0.8487850023305009, 0.848495034240436, 0.8469963429063138, 0.8489521709512029, 0.8483404144706177, 0.8480697178301245, 0.8472934817683124, 0.8500681223333693, 0.8488930120827507, 0.8475323581083504, 0.8483372772578968, 0.8490180524183428, 0.8503379226273708, 0.8506413359148113, 0.8491430927539351, 0.8463769674805494, 0.850006274425442, 0.8512625040335592, 0.8500546771359937, 0.8490131225126385, 0.8463827937327453, 0.8458857696030978, 0.8483475852425513, 0.8455639812125775, 0.8470877702484672, 0.8484663511527015, 0.8458046502455989, 0.8503029651141946, 0.8510254203865044, 0.847013821662902, 0.8451512136531498, 0.8490812448460077, 0.8486339679466495, 0.8456769208705317, 0.8487374959664408, 0.8446739091463197, 0.8465374135025636, 0.8473799792047614, 0.8469228424939945, 0.848148596321394, 0.849584991574343, 0.8455760818902155, 0.849898712846438, 0.8491982180631745, 0.8483785091965149, 0.846933150478649, 0.8467534330070632, 0.8500887383026784, 0.8501048725395288, 0.8480925746656627, 0.8469008820049478, 0.8461869420243088, 0.8460614535154709, 0.848339966297372, 0.8468668208382631, 0.8492533433724141, 0.8494989423111398, 0.849426786418558, 0.850474615467355, 0.8467803234018143, 0.8496051593704063, 0.8487249471155569, 0.844610268545409, 0.8494823599010434, 0.8511146068624287, 0.8476703954680722, 0.8444032125058262, 0.8479491592269908, 0.84544924886164, 0.845419221254168, 0.8479133053673227, 0.851627317055681, 0.8478335305295617, 0.8500640887741565, 0.8500017926929835, 0.8463922053709082, 0.8489234878634686, 0.8481113979419885, 0.8494187193001327, 0.8466149474740956, 0.8483690975583521, 0.8499932774013121, 0.845801513032878, 0.8473432289986017, 0.846363074109928, 0.8459104191316196, 0.8478935857445054, 0.847730450683016, 0.8494523322935715, 0.849653562080958, 0.8457679000394391, 0.8514328098669821, 0.8486622028611379, 0.850848391954394, 0.8492094223943207, 0.8497006202717723, 0.8484282564268043, 0.8475018823276326, 0.8499022982324047, 0.8459633035746299, 0.8470617762002081, 0.8474391380732136, 0.8455231974472052, 0.8493505969667634, 0.8484188447886416, 0.8495070094295651, 0.8488244415761357, 0.8500941163816285, 0.8492165931662543, 0.847557455810118, 0.8498054928113011, 0.8468807142088846, 0.8480504463805528, 0.8451579362518374, 0.8468793696891472, 0.8466427342153384, 0.8500313721272095, 0.8478586282313291, 0.8507457602810944, 0.8483704420780898, 0.849701516618264, 0.8490418056003729, 0.8497288551862607, 0.8456415151841097, 0.8485559858018715, 0.8490453909863397, 0.846449123373131, 0.8471912982682586, 0.8511930371804526, 0.8435767810404791, 0.8471334839195439, 0.8472262557814348, 0.848256157900398, 0.8513965078340684, 0.8487034347997562, 0.8450768168943388, 0.8510110788426375, 0.8480759922555663, 0.8504091821734611, 0.8508923129324872, 0.8436798608870246, 0.847963500770858, 0.8456388261446344, 0.8458647054605428, 0.8488105482055144, 0.8498413466709691, 0.848393298913628, 0.8429865368756946, 0.8499964146140332, 0.8487643863611918, 0.8478868631458176, 0.8513597576279086, 0.8479204761392565, 0.8478268079308737, 0.8465813344806568, 0.8447402387867056, 0.848387472661432, 0.848306801477179, 0.8460677279409128, 0.8512356136388083, 0.8467113047219534, 0.8487007457602812, 0.845559499480119, 0.8448970994227529, 0.8451117744075152, 0.8460175325373775, 0.8492533433724141, 0.8491955290236994, 0.8478084328277938, 0.8490274640565058, 0.8511791438098311, 0.8501694094869313, 0.8508309131978058, 0.8502850381843605, 0.8472132587573054, 0.8497481266358324, 0.8484632139399807, 0.8485999067799649, 0.8489212469972393, 0.8485918396615397, 0.8483130759026208, 0.8461488472984117, 0.8508156753074468, 0.8472625578143487, 0.8476573984439424, 0.8468596500663297, 0.8483735792908107, 0.8479894948191173, 0.8495840952278513, 0.8452843211071672, 0.8494249937255746, 0.8480665806174035, 0.849342978021584, 0.8471859201893084, 0.8456952959736116, 0.8486357606396328, 0.8472222222222222, 0.8486097665913737, 0.8463787601735328, 0.8475650747552976, 0.8484049514180201, 0.8491668459359651, 0.8472594206016277, 0.8477739234878634, 0.8485196837689577, 0.8469842422286759, 0.8493268437847334, 0.8494805672080599, 0.8491359219820014, 0.845754006668818, 0.8492201785522212, 0.8445058441791259, 0.8499856584561329, 0.8504351762217203, 0.8464361263490017, 0.8449374350148794, 0.8465790936144276, 0.8458127173640242, 0.8462797138861997, 0.8496499766949913, 0.8457970313004195, 0.8485277508873831, 0.8500712595460901, 0.8472535943494317, 0.8485313362733498, 0.8472307375138934, 0.8478971711304721, 0.8512208239216951, 0.8478303933168405, 0.845171381449213, 0.8484296009465419, 0.8489714424007744, 0.8484757627908645, 0.848034760316948, 0.8470747732243376, 0.8480688214836327, 0.8494523322935714, 0.8496472876555161, 0.8482341974113514, 0.8449325051091751, 0.8472589724283819, 0.8489324513283855, 0.8496239826467319, 0.8488159262844645, 0.8487374959664409, 0.8476833924922018, 0.8494451615216378, 0.8494303718045249, 0.8486030439926857, 0.8444408590584778, 0.8481777275823743, 0.8469981355992974, 0.8492753038614607, 0.846336183715177, 0.8457432505109176, 0.8472459754042523, 0.8470635688931913, 0.8490754185938116, 0.8494326126707541, 0.8506202717722562, 0.8481633860385072, 0.8500681223333691, 0.8466602129719265, 0.8513870961959055, 0.8477524111720627, 0.8499941737478041, 0.8472146032770428, 0.8448809651859024, 0.846177530386146, 0.8451664515435087, 0.8459498583772544, 0.8453260012190312, 0.8456141766161126, 0.846267165035316, 0.849396758811086, 0.8510993689720697, 0.8496938976730845, 0.8478236707181528, 0.8502881753970815, 0.8498610662937864, 0.8448603492165931, 0.8474082141192498, 0.8496912086336095, 0.8452063389623893, 0.8449446057868131, 0.8456007314187375, 0.8470474346563408, 0.8501649277544727, 0.8470115807966727, 0.8464164067261841, 0.8497499193288158, 0.8513705137858091, 0.8499919328815746, 0.8505835215660966, 0.8429278261804882, 0.8478756588146714, 0.8511226739808542, 0.8496921049801012, 0.8511728693843894, 0.8514623893012082, 0.8477828869527805, 0.8491130651464632, 0.8464424007744435, 0.847924957871715, 0.8493313255171919, 0.8534473486070774, 0.8512136531497617, 0.8473495034240437, 0.8453389982431607, 0.8456876770284321, 0.8513422788713205, 0.8486563766089419, 0.8470411602308988, 0.8453403427628985, 0.8439913412928901, 0.848497723279911, 0.8491197877451508, 0.8473261984152594, 0.8479392994155821, 0.8480701660033703, 0.8488697070739666, 0.8492376573088093, 0.84945681402603, 0.8480513427270446, 0.8467937685991898, 0.8483085941701624, 0.8487285325015237, 0.8471307948800689, 0.8476712918145638, 0.8513319708866659, 0.8479433329747947, 0.8490852784052204, 0.8467426768491628, 0.8473055824459503, 0.8437556021655732, 0.8495921623462765, 0.8468762324764261, 0.8470532609085368, 0.8473530888100105, 0.8456280699867342, 0.8467995948513858, 0.8458472267039546, 0.8518630561829982, 0.8476977340360689, 0.8482126850955507, 0.8492909899250654, 0.8484605249005056, 0.8479890466458715, 0.8460869993904843, 0.8511150550356746, 0.8465683374565273, 0.8473333691871929, 0.8469618335663835, 0.8489297622889105, 0.8466637983578933, 0.8484224301746083, 0.8479061345953893, 0.8508712487899323, 0.8494747409558638, 0.8488764296726543, 0.8491413000609516, 0.8495979885984726, 0.8469967910795597, 0.8489942992363128, 0.8476928041303646, 0.8488939084292425, 0.8472222222222222, 0.8499515972894481, 0.8511491162023592, 0.8502258793159084, 0.8490328421354559, 0.8475847943781147, 0.8453448244953569, 0.8471738195116705, 0.8483708902513356, 0.8447604065827686, 0.8470277150335234, 0.847933473163386, 0.8471836793230791, 0.8481862428740454, 0.8457441468574093, 0.8516564483166614, 0.8505055394213187, 0.8479128571940769, 0.8490319457889641, 0.8494509877738339, 0.8471706822989494, 0.8471433437309527, 0.8461569144168368, 0.8502397726865298, 0.8483018715714745, 0.8490763149403033, 0.8493649385106308, 0.8490543544512567, 0.8482359901043348, 0.8503643648488759, 0.8496898641138717, 0.8479522964397117, 0.8483202466745545, 0.847237908285827, 0.8504894051844681, 0.8453412391093902, 0.8448773797999356, 0.8482731884837402, 0.847458857696031, 0.8480361048366857, 0.8508170198271843, 0.8466373561363881, 0.8489037682406512, 0.8486066293786525, 0.84900864078018, 0.8505319816428238, 0.848393747086874, 0.8469013301781937, 0.8480795776415332, 0.8499968627872792, 0.8514112975511815, 0.8488015847405973, 0.8497844286687463, 0.8510868201211861, 0.8486039403391774, 0.8483148685956043, 0.8434432254132157, 0.8469120863360939, 0.8471523071958698, 0.8458019612061238, 0.850710802767918, 0.8499152952565344, 0.8487285325015237, 0.8469685561650713, 0.8492954716575238, 0.8484349790254919, 0.8488284751353483, 0.8485290954071207, 0.8493062278154243, 0.848694919508085, 0.8479415402818113, 0.8438394105625471, 0.8469474920225162, 0.8495527231006418, 0.8508470474346563, 0.8471263131476103, 0.8491480226596393, 0.8497221325875731, 0.8453251048725396, 0.8444332401132982, 0.8478492165931663, 0.8505633537700333, 0.8501048725395288, 0.8489911620235918, 0.8498099745437597, 0.8471621670072784, 0.846324083037539, 0.8482333010648596, 0.8467269907855582, 0.8475825535118855, 0.8488262342691191, 0.8482615359793482, 0.8484641102864723, 0.8472630059875945, 0.8508188125201679, 0.8477098347137069, 0.8506910831451004, 0.8455693592915277, 0.8504889570112223, 0.8500107561579006, 0.8470039618514933, 0.8471455845971819, 0.8467718081101431, 0.8479352658563695, 0.8475090530995661, 0.850522570004661, 0.8494962532716647, 0.849964146140332, 0.8489396221003191, 0.8503522641712381, 0.8493196730127998, 0.8469967910795597, 0.847927198737944, 0.8463931017173998, 0.847306478792442, 0.8473423326521101, 0.8501577569825391, 0.8466091212218995, 0.8449710480083181, 0.8473472625578143, 0.8516120791653221, 0.8505292926033486, 0.8476820479724644, 0.8473266465885053, 0.8496338424581406, 0.8494805672080599, 0.8492632031838228, 0.8469515255817289, 0.8484206374816249, 0.8504589294037502, 0.847172026818687, 0.848261984152594, 0.8489503782582195, 0.8504562403642751, 0.8465696819762647, 0.8482458499157434, 0.8483354845649134, 0.848073751389337, 0.849543311462479, 0.8480257968520312, 0.8511777992900935, 0.8486424832383206, 0.8491081352407587, 0.84378294073357, 0.8492300383636299, 0.8432971209350686, 0.8459700261733176, 0.8478039510953355, 0.8488939084292423, 0.8467032376035281, 0.8469793123229715, 0.8454573159800651, 0.849925155067943, 0.8478608690975585, 0.8468986411387187, 0.8480733032160913, 0.850498816822631, 0.849668351798071, 0.8480074217489513, 0.8492874045390988, 0.8517505646982898, 0.848298286185508, 0.8505862106055715, 0.846529794557384, 0.8465203829192213, 0.8469672116453336, 0.850988670180345, 0.848250331648202, 0.8484488723961134, 0.8475372880140546, 0.8456213473880464, 0.8460583163027502, 0.8490978272561042, 0.8488450575454448, 0.8479850130866587, 0.8491874619052742, 0.8468672690115091, 0.8486066293786527, 0.8462608906098743, 0.8471056971783013, 0.8477627191567172, 0.8495778208024094, 0.846787046000502, 0.847536839840809, 0.8468784733426554, 0.8477689935821591, 0.8468986411387185, 0.8461407801799865, 0.848897941988455, 0.8485519522426589, 0.8435216557312394, 0.8470277150335234, 0.847638126994371, 0.8478442866874618, 0.8508192606934136, 0.848265121365315, 0.8494684665304221, 0.8515488867376573, 0.8498435875371984, 0.8481176723674304, 0.8481678677709656, 0.8486908859488724, 0.8469376322111076, 0.847897171130472, 0.8467440213689004, 0.8506897386253631, 0.8495267290523826, 0.844499121580438, 0.8499117098705677, 0.8479334731633861, 0.8452475709010074, 0.849381969093973, 0.8451888602058011, 0.8490633179161737, 0.8472567315621528, 0.846330357462981, 0.8461376429672653, 0.8460950665089095, 0.8497960811731383, 0.8478523538058872, 0.8470604316804704, 0.8459399985658456, 0.8445968233480333, 0.8477232799110825, 0.8453676813308952, 0.8486429314115665, 0.8487186726901151, 0.8438394105625471, 0.8468314151518412, 0.8472302893406476, 0.8475830016851313, 0.8449562582912051, 0.8477326915492454, 0.8482929081065578, 0.8491256139973468, 0.8495433114624789, 0.8457638664802266, 0.8473884944964325, 0.848584668889606, 0.8501505862106056, 0.8506785342942168, 0.8493053314689327, 0.8472029507726506, 0.847647090459288, 0.8494155820874119, 0.8499708687390197, 0.8528822021440607, 0.8477869205119931, 0.8506471621670073, 0.8443669104729123, 0.8506771897744793, 0.8463043634147216, 0.8475462514789717, 0.8467238535728372, 0.8517344304614392, 0.8469138790290776, 0.8490225341508014, 0.8478931375712596, 0.8493053314689326, 0.8451404574952494, 0.8496168118747983, 0.8505799361801297, 0.8473763938187945, 0.8480105589616722, 0.8485878061023269, 0.8482301638521387, 0.8492524470259224, 0.8483301064859632, 0.8476847370119394, 0.8474382417267219, 0.8518608153167689, 0.8491740167078987, 0.849444713348392, 0.847297515327525, 0.8502684557742641, 0.8453672331576494, 0.8463711412283532, 0.8494989423111398, 0.8496782116094796, 0.8497203398945895, 0.8499327740131226, 0.8466633501846474, 0.8484103294969703, 0.8484784518303394, 0.8480446201283569, 0.8481118461152343, 0.8474875407837653, 0.846345147180094, 0.8490081926069342, 0.8479536409594491, 0.847019647915098, 0.8459422394320748, 0.8476654655623679, 0.8460896884299595, 0.8491704313219317, 0.8485322326198417, 0.8483713384245813, 0.8473194758165716, 0.8474799218385859, 0.8492156968197626, 0.8481073643827757, 0.8486344161198953, 0.8481490444946399, 0.849638772363845, 0.8485694309992471, 0.8463948944103834, 0.8534993367035961, 0.8460260478290489, 0.8496746262235131, 0.8488759814994085, 0.846700548564053, 0.8497033093112474, 0.8475005378078949, 0.8471827829765876, 0.8483121795561293, 0.8456988813595784, 0.8463052597612132, 0.8475458033057258, 0.84862634900147, 0.8476157183320785, 0.8460789322720591, 0.8496360833243699, 0.845756695708293, 0.8456899178946614, 0.8472683840665447, 0.8489396221003191, 0.8477447922268831, 0.8476448495930586, 0.8476121329461116, 0.8446030977734753, 0.8471478254634113, 0.8515569538560825, 0.8480567208059947, 0.846595676024524, 0.8493281883044709, 0.8485743609049513, 0.8493349109031587, 0.8434719085009502, 0.8502680076010183, 0.8462438600265318, 0.8492255566311714, 0.8506252016779607, 0.8472289448209099, 0.847578071779427, 0.8472984116740168, 0.8495007350041233, 0.8465947796780324, 0.8486326234269118, 0.8469170162417984, 0.8471648560467534, 0.8490597325302068, 0.8515995303144384, 0.8484596285540138, 0.8488670180344914, 0.8472993080205085, 0.8447935714029615, 0.8466140511276039, 0.8500519880965187, 0.8488495392779032, 0.8452421928220573, 0.8470747732243376, 0.8476524685382382, 0.8457029149187909, 0.8495652719515255, 0.8486209709225199, 0.8476444014198128, 0.8498413466709691, 0.8483915062206446, 0.8496575956401706, 0.8519988526764906, 0.8499498045964649, 0.849327740131225, 0.8458310924671041, 0.8516855795776416, 0.8496378760173533, 0.8486666845935965, 0.8479903911656089, 0.8484246710408376, 0.8447662328349647, 0.8488033774335808, 0.8489916101968377, 0.8486438277580581, 0.8453784374887956, 0.846216521458535, 0.8454949625327167, 0.8501111469649708, 0.8503240292567495, 0.851484349790255, 0.8485066867448281, 0.8485268545408913, 0.8475570076368721, 0.8495155247212361, 0.8508443583951811, 0.8482086515363378, 0.8461371947940195, 0.843561991323366, 0.8483390699508802, 0.8500035853859669, 0.8487576637625039, 0.8493367035961422, 0.8461887347172922, 0.8503737764870389, 0.8467857014807645, 0.8465441361012512, 0.8476824961457101, 0.8483870244881861, 0.8534451077408483, 0.8485138575167619, 0.846372037574845, 0.8475547667706429, 0.8509474382417268, 0.8473078233121796, 0.8499793840306908, 0.8506964612240508, 0.8466597647986807, 0.8490893119644332, 0.851412642070919, 0.8487451149116202, 0.8479357140296153, 0.8463877236384496, 0.8460453192786204, 0.8452498117672368, 0.8481777275823743, 0.8475807608189022, 0.849668351798071, 0.8506139973468144, 0.8502187085439747, 0.8518263059768383, 0.8483834391022194, 0.8468654763185257, 0.8510312466387007, 0.8496360833243699, 0.8476045140009323, 0.8496253271664695, 0.8478631099637877, 0.8502343946075794, 0.849555412140117, 0.8476560539242048, 0.8487262916352944, 0.8473445735183393, 0.8469833458821842, 0.8498319350328062, 0.8501703058334229, 0.846389964504679, 0.848519235595712, 0.8516528629306944, 0.8497275106665234, 0.8489584453766448, 0.8457168082894123, 0.8481853465275536, 0.849937255745581, 0.8465777490946901, 0.8477909540712057, 0.8473521924635188, 0.8478124663870066, 0.8498910939012584, 0.8435086587071099, 0.8474333118210176, 0.8434934208167509, 0.8440809759420602, 0.849014467032376, 0.8501532752500807, 0.8503477824387796, 0.8483870244881861, 0.8479863576063965, 0.8489606862428739, 0.8476036176544405, 0.8491932881574702, 0.8495733390699509, 0.8476085475601449, 0.8464562941450647, 0.8432720232333011, 0.8480957118783836, 0.8501142841776917, 0.8435086587071099, 0.8506108601340934, 0.8469537664479583, 0.8486420350650749, 0.8475337026280878, 0.8465311390771217, 0.8436233910580474, 0.8481441145889355, 0.8466584202789429, 0.8466091212218996, 0.8501089060987416, 0.8470277150335233, 0.8416787673443047, 0.8477779570470763, 0.8463496289125525, 0.8467444695421462, 0.8492260048044171, 0.8446026496002295, 0.8476533648847299, 0.8487025384532644, 0.847829496970349, 0.8492851636728694, 0.8478075364813022, 0.8472150514502886, 0.8505001613423686, 0.8493214657057832, 0.8473777383385321, 0.8442795166899716, 0.8471850238428167, 0.853604209243125, 0.8440191280341328, 0.852033810189667, 0.8476085475601448, 0.8484748664443726, 0.8482548133806603, 0.8494406797891793, 0.846007224552723, 0.8508358431035101, 0.8489925065433295, 0.8492484134667098, 0.8492851636728695, 0.8482368864508264, 0.8493326700369295, 0.8482552615539063, 0.8452843211071672, 0.8497938403069091, 0.8461788749058836, 0.8477371732817038, 0.8492797855939193, 0.8463715894015993, 0.849790703094188, 0.8507592054784698, 0.8469026746979313, 0.8486326234269119, 0.8484080886307411, 0.8448276325696462, 0.8486008031264567, 0.850331648201929, 0.8437932487182246, 0.8494146857409199, 0.8470770140905668, 0.8473575705424689, 0.8475296690688752, 0.8482727403104944, 0.8458279552543831, 0.8466570757592055, 0.8497203398945897, 0.8476694991215804, 0.8480894374529419, 0.8478245670646445, 0.8485022050123696, 0.8500466100175685, 0.8516286615754185, 0.8459243125022409, 0.8458212326556954, 0.8444888135957835, 0.8482350937578429, 0.847226255781435, 0.845389193646696, 0.849014467032376, 0.8494505396005879, 0.8491265103438386, 0.84984448388369, 0.8474812663583235, 0.8439366641568965, 0.8504992649958769, 0.8481333584310351, 0.8483525151482556, 0.845574737370478, 0.8468484457351834, 0.8457580402280306, 0.8479787386612169, 0.8494146857409199, 0.8503719837940554, 0.848393298913628, 0.8475341508013339, 0.8474355526872468, 0.8471290021870854, 0.8465822308271487, 0.8489364848875982, 0.844287583808397, 0.8474391380732135, 0.8461407801799864, 0.8492815782869025, 0.8452332293571403, 0.8471186942024309, 0.8458673945000179, 0.8437394679287225, 0.8457450432039011, 0.8479684306765624, 0.8501658241009644, 0.8448881359578359, 0.847533254454842, 0.8487330142339823, 0.848277222042953, 0.845499892438421, 0.848954411817432, 0.847533254454842, 0.8475475959987093, 0.8476784625864975, 0.8502101932523036, 0.8477344842422287, 0.8491749130543903, 0.8497149618156394, 0.8499112616973218, 0.8498915420745043, 0.8471298985335771, 0.8506995984367717, 0.8482996307052454, 0.8441526836613962, 0.8488988383349467, 0.8483668566921229, 0.8485349216593165, 0.8491287512100677, 0.8472719694525116, 0.8489692015345452, 0.8476426087268294, 0.8458656018070345, 0.8481131906349719, 0.8464401599082142, 0.8491000681223333, 0.845923864328995, 0.8502160195044997, 0.8465535477394142, 0.8478164999462192, 0.847706697500986, 0.8501927144957155, 0.8455841490086408, 0.8462801620594457, 0.8490072962604425, 0.8492121114337959, 0.8487016421067728, 0.8482458499157434, 0.8508371876232477, 0.8481768312358826, 0.845290595532609, 0.846001398300527, 0.8510307984654548, 0.8479917356853465, 0.8452681868703167, 0.8505826252196047, 0.8471944354809795, 0.8461376429672655, 0.8470191997418521, 0.851289842601556, 0.8478882076655552, 0.8489835430784125, 0.84540712057653, 0.8510101824961456, 0.8490010218350006, 0.8465907461188198, 0.8457992721666487, 0.8477465849198667, 0.8484995159728946, 0.8498507583091319, 0.8464424007744433, 0.8451095335412857, 0.8470254741672941, 0.8488015847405974, 0.848354756014485, 0.8456459969165682, 0.8478232225449069, 0.8473405399591267, 0.8477335878957369, 0.8502106414255496, 0.8485537449356423, 0.8454353554910186, 0.8466915850991359, 0.8480204187730809, 0.8488042737800724, 0.848802481087089, 0.8451184970062027, 0.8483076978236707, 0.8483027679179662, 0.8437224373453802, 0.8464069950880211, 0.8454967552257, 0.8501187659101501, 0.8485981140869815, 0.8517061955469507, 0.8501644795812269, 0.8498440357104442, 0.8495401742497579, 0.8512109641102865, 0.8500349575131763, 0.8488894266967839, 0.8465858162131153, 0.8441159334552364, 0.8491144096662006, 0.8473710157398446, 0.8458449858377255, 0.850296242515507, 0.8521135850274282, 0.8487711089598795, 0.8463608332436986, 0.851098472625578, 0.8496773152629881, 0.8469049155641606, 0.8480401383958983, 0.8485210282886952, 0.8483054569574414, 0.8523789035889713, 0.8472383564590729, 0.8513436233910581, 0.8468829550751138, 0.8496181563945359, 0.8481911727797498, 0.8491256139973469, 0.8455966978595245, 0.8493931734251192, 0.8466499049872719, 0.8463155677458678, 0.8485600193610843, 0.8448330106485965, 0.8486075257251443, 0.8476972858628231, 0.8488163744577104, 0.8461376429672653, 0.8498946792872253, 0.848641138718583, 0.8496674554515793, 0.8481848983543078, 0.8484009178588074, 0.8500412319386182, 0.8476968376895773, 0.8486644437273674, 0.8481629378652612, 0.848969649707791, 0.8491206840916425, 0.8488230970563981, 0.8497194435480979, 0.8468372414040373, 0.8462362410813524, 0.8498323832060521, 0.8464141658599547, 0.8439971675450864, 0.8473871499766952, 0.8477716826216343, 0.8468923667132767, 0.8449786669534975, 0.8478250152378903, 0.8483538596679931, 0.8482852891613784, 0.8488688107274748, 0.849208974221075, 0.8498202825284142, 0.8487262916352946, 0.8501478971711305, 0.8491453336201642, 0.8487298770212613, 0.8477528593453086, 0.8489432074862859, 0.8462622351296119, 0.8495200064536947, 0.8503562977304507, 0.8472016062529132, 0.8463585923774695, 0.8485371625255459, 0.8488325086945608, 0.8485524004159046, 0.8491663977627192, 0.8491421964074433, 0.8491372665017389, 0.8472293929941558, 0.8495607902190672, 0.8490323939622101, 0.8507905776056792, 0.8503002760747194, 0.8489709942275284, 0.8470792549567963, 0.8490928973503999, 0.8475744863934602, 0.8491672941092108, 0.8486886450826432, 0.8487388404861784, 0.8485488150299381, 0.8484667993259476, 0.8491197877451508, 0.8481692122907032, 0.8500537807895019, 0.8472818292639204, 0.8498969201534546, 0.8476291635294539, 0.8459812305044638, 0.8497673980854038, 0.8482458499157434, 0.8486751998852676, 0.8474991932881575, 0.8472504571367109, 0.8502603886558389, 0.8489633752823492, 0.8508694560969488, 0.8489606862428741, 0.8476896669176437, 0.8461537772041161, 0.8486061812054068, 0.8471151088164641, 0.8505019540353518, 0.8499394966118103, 0.8470357821519486, 0.8470012728120182, 0.8498574809078198, 0.8469250833602238, 0.8508716969631782, 0.8459117636513571, 0.8475879315908357, 0.849259617797856, 0.8450960883439103, 0.8468175217812197, 0.8507910257789251, 0.8526746979312322, 0.8475502850381844, 0.8487451149116202, 0.8488190634971856, 0.8488441611989531, 0.847515775698254, 0.8460211179233446, 0.8506417840880571, 0.8460659352479294, 0.8507471048008317, 0.8510218350005379, 0.8522583449858376, 0.8498861639955542, 0.8498525510021154, 0.8473696712201069, 0.847727761643541, 0.8496047111971605, 0.8474122476784627, 0.8450315513965079, 0.8495195582804489, 0.847130346706823, 0.8507166290201141, 0.8492703739557563, 0.8493514933132552, 0.845031103223262, 0.8470411602308988, 0.8488038256068265, 0.8471778530708831, 0.8465894015990822, 0.8473037897529668, 0.8483829909289735, 0.8490884156179412, 0.8494980459646481, 0.8476278190097165, 0.8451270122978739, 0.849101412642071, 0.8460744505396006, 0.850450862285325, 0.8480280377182604, 0.8521924635186979, 0.8467350579039834, 0.8464787028073573, 0.8503334408949125, 0.8490785558065325, 0.8519186296654835, 0.8481503890143773, 0.8498323832060521, 0.8471635115270159, 0.8480329676239646, 0.8460121544584274, 0.8437757699616364, 0.8452247140654692, 0.8480217632928184, 0.8494061704492489, 0.8487872431967302, 0.8493331182101753, 0.8481055716897924, 0.8492582732781184, 0.8485927360080312, 0.8508246387723639, 0.8475874834175898, 0.8489418629665484, 0.848193413645979, 0.8457907568749776, 0.8458427449714961, 0.8465006632964038, 0.8489302104621563, 0.8496903122871177, 0.8467816679215517, 0.8506328206231402, 0.8463415617941272, 0.8486196264027823, 0.8487244989423111, 0.8528391775124592, 0.8464831845398157, 0.8486639955541213, 0.8496916568068553, 0.8500591588684523, 0.851122673980854, 0.845296421784805, 0.8491345774622638, 0.8492927826180487, 0.8508286723315766, 0.8518617116632606, 0.8450136244666738, 0.8495061130830733, 0.8474570650030475, 0.8484340826790004, 0.8511898999677314, 0.8468798178623929, 0.8487289806747695, 0.847694596823348, 0.8497956329998925, 0.8487361514467032, 0.8471406546914776, 0.8504799935463052, 0.847590172457065, 0.8472625578143488, 0.8457105338639705, 0.8477546520382918, 0.8462331038686315, 0.8483076978236709, 0.8480092144419347, 0.8481768312358825, 0.8512876017353268, 0.84716306335377, 0.8486734071922841, 0.8483180058083253, 0.8501841992040443, 0.8502545624036427, 0.8446272991287511, 0.8487011939335268, 0.8478236707181528, 0.8489172134380265, 0.8451964791509807, 0.846482288193324, 0.8481391846832311, 0.8488495392779034, 0.8490485281990606, 0.8495791653221468, 0.8494760854756014, 0.8462389301208275, 0.850020615969309, 0.8481633860385069, 0.8487962066616472, 0.8470371266716863, 0.8467727044566349, 0.8496499766949912, 0.8481481481481482, 0.8472858628231328, 0.8478702807357212, 0.8515712953999498, 0.8484936897206985, 0.8467099602022159, 0.8487424258721452, 0.8472190850095014, 0.8465033523358788, 0.8477931949374351, 0.8457795525438315, 0.8486321752536661, 0.8491861173855366, 0.8487805205980423, 0.8478604209243126, 0.8478088810010398, 0.846434781829264, 0.8473517442902729, 0.8482427127030225, 0.8478178444659568, 0.8498122154099889, 0.8425087841956186, 0.8499408411315478, 0.8471236241081352, 0.8503262701229788, 0.8474104549854792, 0.8499901401885912, 0.8502940016492775, 0.8472576279086443, 0.8480800258147789, 0.8499430819977771, 0.849387795346169, 0.8496885195941344, 0.8480961600516295, 0.8480441719551111, 0.8473190276433258, 0.8485676383062636, 0.8473391954393891, 0.8461049263203184, 0.8509985299917537, 0.8477985730163851, 0.8489207988239934, 0.84918791007852, 0.8480361048366857, 0.8453188304470977, 0.8479182352730272, 0.8492524470259224, 0.8459830231974472, 0.8451574880785918, 0.8488365422537736, 0.8513897852353806, 0.8493653866838764, 0.8490252231902765, 0.8490700405148615, 0.8482947007995411, 0.8468453085224625, 0.8485367143522999, 0.8534751353483203, 0.8488732924599334, 0.8480181779068517, 0.8425728729697752, 0.8474086622924959, 0.8482552615539064, 0.8444493743501489, 0.8483780610232692, 0.8468036284105984, 0.8468717507439676, 0.8496979312322973, 0.8493322218636836, 0.8463294611164891, 0.8465687856297731, 0.8510818902154816, 0.8489956437560504, 0.8520638377971389, 0.850158653329031, 0.8486841633501847, 0.847846527553691, 0.8444081424115306, 0.8489575490301531, 0.8494353017102291, 0.8487155354773941, 0.8482001362446667, 0.846703237603528, 0.8451776558746549, 0.8460565236097667, 0.8496378760173531, 0.8469725897242838, 0.8458714280592305, 0.8461089598795309, 0.8499578717148901, 0.8494169266071492, 0.8489557563371698, 0.8505785916603923, 0.844078286902585, 0.8469040192176688, 0.849606055716898, 0.8489745796134953, 0.8480907819726794, 0.8456746800043025, 0.84590280018644, 0.8461842529848338, 0.8501398300527051, 0.8442225986877487, 0.8515748807859167, 0.8495545157936251, 0.8492923344448029, 0.8485165465562368, 0.8494917715392061, 0.8495173174142195, 0.8473947689218744, 0.8453040407299847, 0.8494093076619698, 0.8526056792513714, 0.8491054462012837, 0.8495200064536947, 0.8486554802624503, 0.847327094761751, 0.8444798501308667, 0.8504069413072317, 0.8477510666523252, 0.8471039044853178, 0.8460775877523217, 0.8448948585565237, 0.8448303216091213, 0.8475888279373275, 0.8460578681295041, 0.8477044566347567, 0.8495500340611667, 0.8484582840342764, 0.8488464020651824, 0.8442974436198056, 0.849217489512746, 0.849827005127102, 0.8464338854827722, 0.8462837474454126, 0.8477111792334444, 0.848650550356746, 0.8458364705460542, 0.846386827291958, 0.8477223835645908, 0.8469551109676957, 0.8502482879782008, 0.8461551217238537, 0.8492228675916963, 0.8461210605571691, 0.8464038578753004, 0.849531210784841, 0.8483085941701624, 0.8457876196622566, 0.8457522139758346, 0.8480863002402207, 0.8479433329747947, 0.8476753253737765, 0.8477089383672152, 0.8468018357176149, 0.8492035961421247, 0.8483238320605214, 0.8517935893298915, 0.847503675020616, 0.8500215123158008, 0.8474696138539314, 0.8485627084005594, 0.8485748090781973, 0.8465284500376465, 0.8476237854505038, 0.8423837438600265, 0.8493461152343049, 0.8496495285217454, 0.8458517084364132, 0.8473898390161702, 0.8487894840629593, 0.8488127890717436, 0.8498337277257896, 0.8473432289986017, 0.8455998350722456, 0.8485470223369547, 0.8469501810619913, 0.8482745330034779, 0.8493546305259762, 0.8485927360080312, 0.8503450933993044, 0.8491565379513104, 0.8536082428023377, 0.8455290236994012, 0.8470774622638129, 0.8465230719586962, 0.8481804166218494, 0.8482628804990857, 0.8496638700656125, 0.8490489763723065, 0.8482090997095838, 0.8486178337097989, 0.8464845290595533, 0.849501631350615, 0.8487419776988994, 0.8475354953210712, 0.8508488401276397, 0.8469569036606791, 0.8479352658563695, 0.8512109641102864, 0.8511482198558675, 0.8472217740489764, 0.849148470832885, 0.8469802086694632, 0.8471281058405937, 0.845114911620236, 0.8501559642895558, 0.8473400917858809, 0.8495576530063461, 0.8479500555734825, 0.8449974902298232, 0.8459910903158725, 0.849358215911943, 0.8470483310028325, 0.8478030547488437, 0.8473642931411567, 0.8473495034240435, 0.8494335090172456, 0.8493788318812521, 0.8469775196299881, 0.8480235559858018, 0.8492067333548456, 0.8459709225198093, 0.8461645333620164, 0.8460390448531784, 0.8473400917858808, 0.8418226309562225, 0.8519244559176796, 0.8472670395468072, 0.8500094116381629, 0.8505073321143022, 0.8497230289340647, 0.8496696963178086, 0.8500107561579004, 0.849191047291241, 0.8478693843892294, 0.8481113979419885, 0.8509519199741853, 0.8468811623821304, 0.8467579147395217, 0.8520423254813381, 0.8472903445555914, 0.8470366784984404, 0.8497257179735398, 0.848312627729375, 0.8504257645835573, 0.8480809221612706, 0.8479608117313828, 0.8499040909253881, 0.8466503531605177, 0.8503052059804238, 0.8479164425800437, 0.8509976336452619, 0.8495661682980172, 0.847682944318956, 0.8490382202144062, 0.848483381736044, 0.8510285575992256, 0.8502196048904664, 0.845750421282851, 0.8486330716001578, 0.8496078484098813, 0.8448903768240651, 0.8487316697142447, 0.8487706607866338, 0.8471411028647233, 0.8509819475816573, 0.8479594672116455, 0.8501331074540175, 0.8456648201928937, 0.8479016528629306, 0.8480132480011474, 0.8471729231651788, 0.8503683984080885, 0.8506821196801836, 0.849537037037037, 0.849125165824101, 0.8475000896346492, 0.8500941163816285, 0.8470335412857194, 0.8480903337994337, 0.8495827507081136, 0.845861120074576, 0.8482270266394177, 0.8484255673873291, 0.8469761751102507, 0.8493201211860457, 0.8444623713742785, 0.8487343587537197, 0.8479917356853466, 0.848862536302033, 0.8484569395145387, 0.8494778781685848, 0.8488253379226274, 0.8487128464379191, 0.852347083288516, 0.8465217274389587, 0.8472477680972357, 0.8504159047721487, 0.8518823276325695, 0.8466821734609731, 0.8506099637876017, 0.848557778494855, 0.8473486070775519, 0.8489181097845183, 0.8512270983471371, 0.8472096733713385, 0.8516681008210534, 0.8483117313828833, 0.8490740740740741, 0.847548492345201, 0.8449060628876699, 0.8490839338854829, 0.8481306693915599, 0.846533379943351, 0.8485407479115128, 0.8479572263454161, 0.8484260155605752, 0.8493810727474813, 0.847535943494317, 0.8469286687461904, 0.8468018357176151, 0.8456186583485712, 0.8516013230074218, 0.8490736259008282, 0.8507202144060808, 0.846377863827041, 0.8494657774909469, 0.8472428381915313, 0.8492802337671651, 0.8448065684270911, 0.8498126635832347, 0.8481826574880785, 0.8477335878957369, 0.8494474023878672, 0.8467816679215517, 0.846712201068445, 0.8486725108457924, 0.8495020795238607, 0.849086174751712, 0.8470456419633574, 0.8520535298124844, 0.8474440679789179, 0.849471155569897, 0.8471912982682586, 0.8473333691871929, 0.8446295399949806, 0.8466929296188734]\n"
     ]
    }
   ],
   "source": [
    "t_46 = auc_bootstrap\n",
    "print(t_46)"
   ]
  },
  {
   "cell_type": "code",
   "execution_count": 38,
   "id": "4cecfad6",
   "metadata": {},
   "outputs": [],
   "source": [
    "del X_train, X_test, y_train, y_test, X_val, y_val,study, optuna_auc"
   ]
  },
  {
   "cell_type": "code",
   "execution_count": 39,
   "id": "39812853",
   "metadata": {},
   "outputs": [],
   "source": [
    "# 47.\n",
    "column_to_drop_46 = '소득 중 사적이전소득의 비중(월평균)'"
   ]
  },
  {
   "cell_type": "code",
   "execution_count": 40,
   "id": "ff2f7d7d",
   "metadata": {},
   "outputs": [
    {
     "name": "stdout",
     "output_type": "stream",
     "text": [
      "(10564, 36)\n"
     ]
    }
   ],
   "source": [
    "if not column_to_drop_46.startswith('Cat_'):\n",
    "    comp_47 = comp_46.drop(column_to_drop_46, axis=1)\n",
    "    X_47 = comp_47.drop('target', axis=1)\n",
    "    y_47 = comp_47['target']\n",
    "else:\n",
    "    comp_47 = comp_46.drop(comp_46.filter(regex='^' + column_to_drop_46).columns, axis=1)\n",
    "    X_47 = comp_47.drop('target', axis=1)\n",
    "    y_47 = comp_47['target']\n",
    "\n",
    "print(X_47.shape)"
   ]
  },
  {
   "cell_type": "code",
   "execution_count": 41,
   "id": "cce79242",
   "metadata": {},
   "outputs": [],
   "source": [
    "X_train, X_test, y_train, y_test = train_test_split(X_47, y_47, test_size=0.2, shuffle=True, stratify=y_47, random_state = 0)\n",
    "X_train, X_val, y_train, y_val = train_test_split(X_train, y_train, test_size=0.2, shuffle=True, stratify=y_train, random_state = 0)"
   ]
  },
  {
   "cell_type": "code",
   "execution_count": 42,
   "id": "b2e87fac",
   "metadata": {},
   "outputs": [],
   "source": [
    "def objective(trial):\n",
    "    params = {\n",
    "        'learning_rate' :trial.suggest_float('learning_rate',0.01, 0.1,step=0.01),        \n",
    "        'n_estimators' :trial.suggest_int('n_estimators', 50, 200),\n",
    "        'subsample':trial.suggest_float('subsample', 0.1, 1.0,step=0.1),\n",
    "        'max_depth' :trial.suggest_int('max_depth', 1, 10),\n",
    "        'min_samples_split' :trial.suggest_int('min_samples_split', 3, 10),\n",
    "        'min_samples_leaf' :trial.suggest_int('min_samples_leaf', 3, 10),\n",
    "        }\n",
    "        \n",
    "    clf = GradientBoostingClassifier(**params,random_state = 0)\n",
    "    clf.fit(X_train, y_train)\n",
    "    clf_proba = clf.predict_proba(X_val)[:, 1]\n",
    "        \n",
    "    AUC_SCORE = roc_auc_score(y_val, clf_proba)\n",
    "    return AUC_SCORE\n",
    "\n",
    "direction = \"maximize\"\n",
    "sampler = optuna.samplers.TPESampler(seed=10)\n",
    "study =  optuna.create_study(direction=direction, sampler=sampler, pruner=optuna.pruners.HyperbandPruner())\n",
    "early_stopping = EarlyStoppingCallback(10, direction=direction)\n",
    "study.optimize(objective, callbacks=[early_stopping], n_trials=200) "
   ]
  },
  {
   "cell_type": "code",
   "execution_count": 43,
   "id": "c936a348",
   "metadata": {},
   "outputs": [
    {
     "name": "stdout",
     "output_type": "stream",
     "text": [
      "{'learning_rate': 0.09999999999999999, 'n_estimators': 157, 'subsample': 0.6, 'max_depth': 2, 'min_samples_split': 5, 'min_samples_leaf': 8}\n",
      "0.8465343555465985\n"
     ]
    }
   ],
   "source": [
    "print(study.best_trial.params)\n",
    "optuna_auc = study.best_trial.value\n",
    "print(optuna_auc)"
   ]
  },
  {
   "cell_type": "code",
   "execution_count": 44,
   "id": "cdbcdd4a",
   "metadata": {},
   "outputs": [
    {
     "data": {
      "text/html": [
       "<style>#sk-container-id-3 {color: black;}#sk-container-id-3 pre{padding: 0;}#sk-container-id-3 div.sk-toggleable {background-color: white;}#sk-container-id-3 label.sk-toggleable__label {cursor: pointer;display: block;width: 100%;margin-bottom: 0;padding: 0.3em;box-sizing: border-box;text-align: center;}#sk-container-id-3 label.sk-toggleable__label-arrow:before {content: \"▸\";float: left;margin-right: 0.25em;color: #696969;}#sk-container-id-3 label.sk-toggleable__label-arrow:hover:before {color: black;}#sk-container-id-3 div.sk-estimator:hover label.sk-toggleable__label-arrow:before {color: black;}#sk-container-id-3 div.sk-toggleable__content {max-height: 0;max-width: 0;overflow: hidden;text-align: left;background-color: #f0f8ff;}#sk-container-id-3 div.sk-toggleable__content pre {margin: 0.2em;color: black;border-radius: 0.25em;background-color: #f0f8ff;}#sk-container-id-3 input.sk-toggleable__control:checked~div.sk-toggleable__content {max-height: 200px;max-width: 100%;overflow: auto;}#sk-container-id-3 input.sk-toggleable__control:checked~label.sk-toggleable__label-arrow:before {content: \"▾\";}#sk-container-id-3 div.sk-estimator input.sk-toggleable__control:checked~label.sk-toggleable__label {background-color: #d4ebff;}#sk-container-id-3 div.sk-label input.sk-toggleable__control:checked~label.sk-toggleable__label {background-color: #d4ebff;}#sk-container-id-3 input.sk-hidden--visually {border: 0;clip: rect(1px 1px 1px 1px);clip: rect(1px, 1px, 1px, 1px);height: 1px;margin: -1px;overflow: hidden;padding: 0;position: absolute;width: 1px;}#sk-container-id-3 div.sk-estimator {font-family: monospace;background-color: #f0f8ff;border: 1px dotted black;border-radius: 0.25em;box-sizing: border-box;margin-bottom: 0.5em;}#sk-container-id-3 div.sk-estimator:hover {background-color: #d4ebff;}#sk-container-id-3 div.sk-parallel-item::after {content: \"\";width: 100%;border-bottom: 1px solid gray;flex-grow: 1;}#sk-container-id-3 div.sk-label:hover label.sk-toggleable__label {background-color: #d4ebff;}#sk-container-id-3 div.sk-serial::before {content: \"\";position: absolute;border-left: 1px solid gray;box-sizing: border-box;top: 0;bottom: 0;left: 50%;z-index: 0;}#sk-container-id-3 div.sk-serial {display: flex;flex-direction: column;align-items: center;background-color: white;padding-right: 0.2em;padding-left: 0.2em;position: relative;}#sk-container-id-3 div.sk-item {position: relative;z-index: 1;}#sk-container-id-3 div.sk-parallel {display: flex;align-items: stretch;justify-content: center;background-color: white;position: relative;}#sk-container-id-3 div.sk-item::before, #sk-container-id-3 div.sk-parallel-item::before {content: \"\";position: absolute;border-left: 1px solid gray;box-sizing: border-box;top: 0;bottom: 0;left: 50%;z-index: -1;}#sk-container-id-3 div.sk-parallel-item {display: flex;flex-direction: column;z-index: 1;position: relative;background-color: white;}#sk-container-id-3 div.sk-parallel-item:first-child::after {align-self: flex-end;width: 50%;}#sk-container-id-3 div.sk-parallel-item:last-child::after {align-self: flex-start;width: 50%;}#sk-container-id-3 div.sk-parallel-item:only-child::after {width: 0;}#sk-container-id-3 div.sk-dashed-wrapped {border: 1px dashed gray;margin: 0 0.4em 0.5em 0.4em;box-sizing: border-box;padding-bottom: 0.4em;background-color: white;}#sk-container-id-3 div.sk-label label {font-family: monospace;font-weight: bold;display: inline-block;line-height: 1.2em;}#sk-container-id-3 div.sk-label-container {text-align: center;}#sk-container-id-3 div.sk-container {/* jupyter's `normalize.less` sets `[hidden] { display: none; }` but bootstrap.min.css set `[hidden] { display: none !important; }` so we also need the `!important` here to be able to override the default hidden behavior on the sphinx rendered scikit-learn.org. See: https://github.com/scikit-learn/scikit-learn/issues/21755 */display: inline-block !important;position: relative;}#sk-container-id-3 div.sk-text-repr-fallback {display: none;}</style><div id=\"sk-container-id-3\" class=\"sk-top-container\"><div class=\"sk-text-repr-fallback\"><pre>GradientBoostingClassifier(learning_rate=0.09999999999999999, max_depth=2,\n",
       "                           min_samples_leaf=8, min_samples_split=5,\n",
       "                           n_estimators=157, random_state=0, subsample=0.6)</pre><b>In a Jupyter environment, please rerun this cell to show the HTML representation or trust the notebook. <br />On GitHub, the HTML representation is unable to render, please try loading this page with nbviewer.org.</b></div><div class=\"sk-container\" hidden><div class=\"sk-item\"><div class=\"sk-estimator sk-toggleable\"><input class=\"sk-toggleable__control sk-hidden--visually\" id=\"sk-estimator-id-3\" type=\"checkbox\" checked><label for=\"sk-estimator-id-3\" class=\"sk-toggleable__label sk-toggleable__label-arrow\">GradientBoostingClassifier</label><div class=\"sk-toggleable__content\"><pre>GradientBoostingClassifier(learning_rate=0.09999999999999999, max_depth=2,\n",
       "                           min_samples_leaf=8, min_samples_split=5,\n",
       "                           n_estimators=157, random_state=0, subsample=0.6)</pre></div></div></div></div></div>"
      ],
      "text/plain": [
       "GradientBoostingClassifier(learning_rate=0.09999999999999999, max_depth=2,\n",
       "                           min_samples_leaf=8, min_samples_split=5,\n",
       "                           n_estimators=157, random_state=0, subsample=0.6)"
      ]
     },
     "execution_count": 44,
     "metadata": {},
     "output_type": "execute_result"
    }
   ],
   "source": [
    "optuna_47 = GradientBoostingClassifier(**study.best_trial.params, random_state = 0)\n",
    "optuna_47.fit(X_train, y_train)"
   ]
  },
  {
   "cell_type": "code",
   "execution_count": 45,
   "id": "9617573e",
   "metadata": {},
   "outputs": [
    {
     "name": "stdout",
     "output_type": "stream",
     "text": [
      "0.8500990462873328\n"
     ]
    }
   ],
   "source": [
    "optuna_proba_47 = optuna_47.predict_proba(X_test)[:, 1]\n",
    "auc_47 = roc_auc_score(y_test, optuna_proba_47)\n",
    "print(auc_47)"
   ]
  },
  {
   "cell_type": "code",
   "execution_count": 46,
   "id": "87c13ec0",
   "metadata": {},
   "outputs": [],
   "source": [
    "X_train = X_train.values\n",
    "y_train = y_train.values"
   ]
  },
  {
   "cell_type": "code",
   "execution_count": 47,
   "id": "198a650a",
   "metadata": {},
   "outputs": [],
   "source": [
    "auc_bootstrap = []"
   ]
  },
  {
   "cell_type": "code",
   "execution_count": 48,
   "id": "39b53048",
   "metadata": {},
   "outputs": [
    {
     "data": {
      "text/plain": [
       "array([0.84424877, 0.85111117])"
      ]
     },
     "execution_count": 48,
     "metadata": {},
     "output_type": "execute_result"
    }
   ],
   "source": [
    "rs = RandomState(seed = 47)\n",
    "bootstrap_auc(optuna_47, X_train, y_train, X_test, y_test, nsamples=2000)"
   ]
  },
  {
   "cell_type": "code",
   "execution_count": 49,
   "id": "f5d4ef06",
   "metadata": {},
   "outputs": [
    {
     "data": {
      "text/plain": [
       "0.8477660302606576"
      ]
     },
     "execution_count": 49,
     "metadata": {},
     "output_type": "execute_result"
    }
   ],
   "source": [
    "np.mean(auc_bootstrap)"
   ]
  },
  {
   "cell_type": "code",
   "execution_count": 50,
   "id": "6087c01e",
   "metadata": {},
   "outputs": [
    {
     "name": "stdout",
     "output_type": "stream",
     "text": [
      "[0.8499726614320031, 0.8461143379584812, 0.8483959879531032, 0.8479348176831236, 0.8493246029185042, 0.8475345989745795, 0.845272668602775, 0.8487746943458463, 0.8487854505037467, 0.8483986769925782, 0.8477474812663585, 0.848053135420028, 0.8466781399017604, 0.8481553189200818, 0.8469918611738552, 0.8476950449965939, 0.8509779140224447, 0.8459373095263705, 0.8491852210390448, 0.8473916317091534, 0.8464571904915565, 0.8503258219497327, 0.8454855508945538, 0.8489862321178876, 0.8469707970313005, 0.8500134451973754, 0.846359936897207, 0.8503751210067763, 0.8468600982395755, 0.8488289233085942, 0.8484166039224122, 0.8479375067225987, 0.8484040550715284, 0.8504669965221756, 0.8455420207235308, 0.8490893119644329, 0.8507193180595891, 0.8450172098526406, 0.8509129289017963, 0.8485031013588613, 0.8445040514861424, 0.8468834032483596, 0.8479312322971567, 0.8472925854218207, 0.8493232583987667, 0.8474579613495393, 0.849770087124879, 0.847106593524793, 0.8451512136531498, 0.845729805313542, 0.8492712703022481, 0.8474861962640279, 0.8468708543974759, 0.8452327811838946, 0.8472728657990032, 0.8493949661181026, 0.8496800043024633, 0.8442508336022374, 0.8482422645297767, 0.8495948513857516, 0.8488549173568534, 0.8499569753683983, 0.8458974221074899, 0.8450086945609695, 0.8494169266071494, 0.8456114875766376, 0.851093094546628, 0.8473660858341401, 0.8516022193539134, 0.8469456993295328, 0.8483677530386147, 0.8457486285898677, 0.8500860492632031, 0.8505225700046609, 0.8483099386899, 0.8490942418701372, 0.8482785665626904, 0.8502240866229249, 0.8476363343013875, 0.8492748556882148, 0.8491363701552472, 0.850012100677638, 0.8481719013301782, 0.8493564232189595, 0.8460296332150157, 0.8459776451184969, 0.846138987487003, 0.845974956079022, 0.8490149152056219, 0.8492874045390988, 0.8457472840701302, 0.847661880176401, 0.8487527338567997, 0.8461340575812986, 0.8476703954680721, 0.8454734502169159, 0.8461188196909397, 0.847706697500986, 0.849859273600803, 0.8467937685991898, 0.8462855401383959, 0.8480517909002904, 0.8485613638808218, 0.844326574880786, 0.8480253486787852, 0.8462452045462694, 0.8475632820623139, 0.8479330249901402, 0.8436722419418451, 0.8489467928722527, 0.8478891040120469, 0.8464164067261841, 0.8500466100175683, 0.8485546412821341, 0.8466767953820229, 0.8478953784374887, 0.8479670861568248, 0.8492381054820551, 0.8499005055394213, 0.8467050302965113, 0.8485739127317056, 0.8461067190133018, 0.8500847047434656, 0.8484304972930334, 0.8468179699544656, 0.8468242443799074, 0.8503141694453407, 0.8498960238069628, 0.8459471693377792, 0.8457777598508479, 0.8460049836864938, 0.8471751640314081, 0.8503625721558925, 0.8495572048331004, 0.8483099386899, 0.8500085152916712, 0.846568785629773, 0.8496670072783336, 0.8488069628195476, 0.8488553655300992, 0.847647090459288, 0.8460139471514107, 0.8502850381843605, 0.8480042845362303, 0.8467458140618838, 0.8466575239324514, 0.8488006883941057, 0.8474929188627156, 0.8470770140905669, 0.848241368183285, 0.8502523215374136, 0.8475112939657954, 0.8488800150586211, 0.8466812771144815, 0.8483099386899, 0.8499950700942956, 0.8458382632390378, 0.8482431608762683, 0.8472482162704815, 0.847273313972249, 0.8499677315262989, 0.8489423111397942, 0.8490288085762432, 0.8478783478541465, 0.8494164784339033, 0.8463671076691406, 0.843926356172242, 0.8481297730450683, 0.848158007959557, 0.8502527697106593, 0.8503993223620523, 0.8480047327094762, 0.846688447886415, 0.8478756588146712, 0.8476905632641356, 0.8477627191567172, 0.8501326592807716, 0.8494689147036679, 0.8494523322935714, 0.8487652827076835, 0.8482167186547632, 0.843651625972536, 0.8487729016528629, 0.8475821053386396, 0.8475014341543867, 0.8479021010361766, 0.84734233265211, 0.8499762468179701, 0.8472661432003155, 0.8464329891362805, 0.848635312466387, 0.8464679466494568, 0.8489015273744219, 0.845995572048331, 0.8458682908465096, 0.8457020185722993, 0.8493438743680758, 0.8462631314761033, 0.8481284285253308, 0.8478604209243124, 0.8485895987953105, 0.8450297587035244, 0.8493021942562116, 0.8478891040120469, 0.8494608475852425, 0.8513619984941379, 0.8477819906062887, 0.848730773367753, 0.843767702843211, 0.8452520526334659, 0.8459754042522678, 0.8458100283245491, 0.8462478935857445, 0.8462716467677746, 0.8468744397834427, 0.8482557097271521, 0.847512638485533, 0.8472742103187407, 0.8476296117026998, 0.8493783837080061, 0.8478326341830699, 0.8436117385536552, 0.8455451579362518, 0.8477748198343551, 0.8482261302929259, 0.8470725323581083, 0.8464773582876197, 0.8433984080886308, 0.8468928148865226, 0.8500188232763257, 0.8485304399268581, 0.8502348427808254, 0.8489423111397942, 0.8494066186224948, 0.8461869420243089, 0.8459677853070882, 0.8493954142913485, 0.8457298053135421, 0.8491744648811445, 0.8462528234914488, 0.8498682370657201, 0.8488239934028898, 0.8471245204546269, 0.8442490409092538, 0.8472253594349431, 0.8482704994442651, 0.8466400451758631, 0.8497068946972142, 0.8483162131153418, 0.8504965759564016, 0.8473306801477178, 0.8482297156788928, 0.8444121759707433, 0.8485470223369546, 0.8485044458785989, 0.846497077910437, 0.8493219138790291, 0.8517299487289807, 0.8461905274102757, 0.8466091212218995, 0.8478765551611631, 0.8481212577533971, 0.8480643397511741, 0.8491668459359651, 0.8453645441181744, 0.8503975296690688, 0.8507359004696856, 0.8477600301172421, 0.8475458033057259, 0.8525976121329462, 0.8458185436162202, 0.8491475744863936, 0.84763498978165, 0.8461282313291025, 0.8471366211322648, 0.8488562618765909, 0.8486635473808755, 0.8471594779678032, 0.8461932164497508, 0.8462608906098742, 0.8498763041841454, 0.8487110537449356, 0.847631852568929, 0.8486151446703236, 0.8488867376573088, 0.8495415187694956, 0.8444350328062816, 0.8476775662400058, 0.8487083647054607, 0.848187587393783, 0.8478707289089671, 0.8451955828044889, 0.8496401168835825, 0.8464343336560181, 0.8447742999533899, 0.8448415259402675, 0.8487863468502385, 0.8469371840378617, 0.8471361729590191, 0.8459323796206661, 0.8459942275285934, 0.8484457351833925, 0.8506050338818975, 0.8498664443727367, 0.8470124771431645, 0.8506736043885124, 0.8484430461439173, 0.8460399411996702, 0.8480370011831775, 0.8499811767236745, 0.8484399089311965, 0.8502814527983937, 0.8483498261087806, 0.8493111577211288, 0.846207557993618, 0.8492730629952315, 0.8500129970241297, 0.8463075006274425, 0.848629038040945, 0.8495361406905454, 0.8499923810548206, 0.8465055932021082, 0.8488284751353483, 0.8450786095873221, 0.8460672797676669, 0.8491807393065863, 0.8491955290236994, 0.8451037072890897, 0.846186942024309, 0.8480047327094762, 0.847207880678355, 0.8465867125596069, 0.847930784123911, 0.846461224050769, 0.8480764404288121, 0.8501729948728981, 0.8501331074540175, 0.8444453407909361, 0.848214477788534, 0.8469645226058585, 0.8494693628769137, 0.8482964934925245, 0.8448455594994801, 0.8489575490301531, 0.84968358968843, 0.8464778064608655, 0.8493075723351619, 0.8463496289125525, 0.8453470653615862, 0.8503065505001612, 0.8496123301423399, 0.8475762790864436, 0.8461658778817541, 0.849892438420996, 0.8445757592054786, 0.8483242802337672, 0.8454842063748162, 0.8480961600516297, 0.8488876340038005, 0.8466127066078664, 0.8486940231615934, 0.846204420780897, 0.8473714639130903, 0.8490435982933564, 0.848313075902621, 0.8492977125237533, 0.8465728191889856, 0.8439747588827937, 0.8476067548671615, 0.8457024667455452, 0.8505947258972428, 0.8511293965795417, 0.8483596859201894, 0.8491108242802337, 0.8468448603492166, 0.8463729339213366, 0.8470662579326664, 0.8465580294718728, 0.848933795848123, 0.8483117313828834, 0.8497024129647557, 0.8464908034849952, 0.84860797389839, 0.8488464020651824, 0.8479791868344627, 0.848883152271342, 0.848202377110896, 0.8491569861245565, 0.8487433222186369, 0.8465141084937793, 0.8477972284966476, 0.8488437130257072, 0.8465432397547596, 0.8489095944928472, 0.8488992865081926, 0.8460578681295041, 0.8476609838299093, 0.8487029866265102, 0.8466091212218996, 0.8459494102040084, 0.8447868488042737, 0.8475641784088058, 0.8493313255171919, 0.8475762790864436, 0.8469793123229715, 0.8467498476210964, 0.8479200279660106, 0.8494151339141658, 0.8485595711878383, 0.84844707970313, 0.8476385751676168, 0.8509075508228461, 0.8470088917571976, 0.8481414255494604, 0.8495823025348679, 0.8492331755763507, 0.8482548133806603, 0.8491372665017389, 0.8458508120899214, 0.8510173532680793, 0.8488804632318668, 0.8470595353339785, 0.8468184181277114, 0.847595998709261, 0.8466521458535011, 0.8451758631816715, 0.8513705137858091, 0.850325373776487, 0.8501111469649707, 0.8503697429278261, 0.847190401921767, 0.8482597432863649, 0.8470160625291313, 0.8462989853357714, 0.8492753038614607, 0.8482996307052454, 0.8466373561363881, 0.8478196371589402, 0.8487711089598795, 0.8481176723674304, 0.8451153597934817, 0.8483363809114051, 0.8488652253415081, 0.8462761285002331, 0.8474140403714459, 0.851167491305439, 0.8477640636764547, 0.8440755978631098, 0.848766627227421, 0.8485546412821341, 0.8484999641461405, 0.8476573984439424, 0.8496616291993834, 0.8468668208382633, 0.8485196837689577, 0.8479065827686352, 0.8464715320354236, 0.8489351403678608, 0.8493716611093185, 0.8489024237209135, 0.8494317163242624, 0.8473284392814886, 0.8499036427521423, 0.8490001254885089, 0.8475588003298555, 0.8501577569825391, 0.8457136710766914, 0.8486142483238321, 0.8510281094259798, 0.8489830949051667, 0.8506225126384857, 0.8493107095478827, 0.8447828152450612, 0.8469416657703202, 0.8480338639704565, 0.8466938259653652, 0.8445408016923022, 0.8472334265533684, 0.8489216951704851, 0.8458624645943136, 0.8467547775268007, 0.8478958266107347, 0.8472302893406475, 0.8425298483381736, 0.8495442078089706, 0.8477914022444516, 0.8467771861890933, 0.8471379656520024, 0.8473293356279803, 0.8475220501236957, 0.8459028001864399, 0.8494254418988203, 0.846810799182532, 0.84402809149905, 0.8480163852138682, 0.8496199490875194, 0.8495038722168442, 0.8461116489190061, 0.8447137965652003, 0.8465459287942347, 0.8498884048617834, 0.8472338747266145, 0.8487590082822416, 0.8509599870926106, 0.8443395719049156, 0.8473983543078414, 0.8488459538919365, 0.8483197985013087, 0.8473306801477178, 0.8489678570148076, 0.8462308630024022, 0.8479487110537449, 0.8487832096375174, 0.8462635796493492, 0.8463025707217381, 0.8465199347459754, 0.849295471657524, 0.8455465024559895, 0.8452471227277616, 0.8465374135025635, 0.8471312430533147, 0.8458723244057222, 0.8471267613208562, 0.8509783621956905, 0.8475646265820516, 0.8476125811193574, 0.849092001003908, 0.8494823599010433, 0.850680775160446, 0.8482736366569861, 0.849784876841992, 0.8456549603814851, 0.8475731418737227, 0.8466817252877272, 0.8481620415187696, 0.8490368756946685, 0.8482808074289198, 0.848951722777957, 0.8526634936000861, 0.85015551611631, 0.8485125129970241, 0.8493927252518734, 0.8464536051055898, 0.8487446667383745, 0.8497436449033738, 0.8491946326772077, 0.8467045821232655, 0.8482337492381056, 0.8485788426374099, 0.8467485031013589, 0.8475973432289987, 0.849978935857445, 0.8460157398443944, 0.8487437703918826, 0.8473656376608942, 0.8460081208992147, 0.8457746226381271, 0.8495979885984727, 0.845007350041232, 0.8447447205191638, 0.8502339464343337, 0.8465100749345669, 0.8487321178874906, 0.8478483202466744, 0.8477595819439963, 0.8469340468251407, 0.8500363020329138, 0.849521799146678, 0.8477322433759993, 0.8472849664766413, 0.852045462694059, 0.8460627980352085, 0.8462707504212827, 0.8500802230110072, 0.8409316625434728, 0.8473445735183393, 0.849256480585135, 0.8483910580473988, 0.849453228640063, 0.848949033738482, 0.8484901043347317, 0.8476636728693844, 0.8469340468251407, 0.8489288659424188, 0.846333494675702, 0.8454523860743609, 0.8460506973575705, 0.84783801226202, 0.847273762145495, 0.8464997669499122, 0.8472338747266144, 0.849355526872468, 0.8478640063102794, 0.8453824710480085, 0.8456110394033918, 0.846975278763759, 0.8480101107884264, 0.8494169266071493, 0.8483260729267506, 0.8455057186906172, 0.8475865870710981, 0.8466467677745508, 0.8462900218708543, 0.8476744290272848, 0.8492972643505073, 0.8507143881538847, 0.847599135921982, 0.8469972392528056, 0.8503755691800222, 0.8448594528701014, 0.8478787960273924, 0.8480697178301245, 0.8432464773582877, 0.8475386325337922, 0.8480387938761607, 0.8464903553117493, 0.8440939729661897, 0.8482521243411854, 0.8470053063712308, 0.8468291742856119, 0.847936610376107, 0.848297838012262, 0.846980656842709, 0.8510267649062422, 0.8480907819726794, 0.8479791868344626, 0.8465221756122047, 0.8476130292926034, 0.845329586604998, 0.8497669499121581, 0.8464567423183105, 0.8507296260442437, 0.8507955075113836, 0.8456168656555878, 0.8485165465562369, 0.8490673514753863, 0.8464899071385035, 0.8478626617905418, 0.8486796816177262, 0.8470797031300419, 0.8525276971065936, 0.8453116596751641, 0.8487025384532645, 0.8455406762037934, 0.8481405292029687, 0.8464957333906996, 0.8446591194292066, 0.8497154099888852, 0.850979706715428, 0.8482597432863648, 0.8510115270158832, 0.8458691871930013, 0.8479245096984691, 0.8460081208992147, 0.8500833602237281, 0.8475601448495931, 0.8455872862213618, 0.8475408734000215, 0.8471025599655803, 0.8442978917930514, 0.8470900111146965, 0.8433222186368362, 0.8514484959305869, 0.8460686242874046, 0.8479747051020043, 0.8459529955899753, 0.8481055716897924, 0.8457853787960274, 0.8496203972607651, 0.8495894733068016, 0.846628392671471, 0.8482454017424976, 0.8474306227815425, 0.8443113369904269, 0.8485506077229215, 0.848712846437919, 0.8496947940195763, 0.8450817468000429, 0.849298608870245, 0.8453694740238787, 0.8472011580796671, 0.8469864830949052, 0.8457894123552401, 0.8483892653544154, 0.8466337707504212, 0.8487805205980423, 0.8428534294216772, 0.8493277401312251, 0.8470142698361479, 0.8481324620845434, 0.8472683840665448, 0.8477004230755442, 0.8472482162704815, 0.8475103976193037, 0.8486469649707792, 0.8472477680972357, 0.8480271413717686, 0.8465992614104909, 0.8460054318597398, 0.8477779570470763, 0.8491596751640313, 0.8488930120827507, 0.8480343121437022, 0.8485376106987919, 0.8477631673299629, 0.8461941127962427, 0.8486003549532107, 0.8457239790613459, 0.8484457351833925, 0.8491865655587825, 0.8487670754006669, 0.8495303144383495, 0.8485169947294828, 0.8476963895163314, 0.8453219676598186, 0.8491395073679682, 0.8451359757627908, 0.8469089491233732, 0.8482310601986305, 0.8435516833387113, 0.8473535369832563, 0.8450880212254849, 0.8467086156824781, 0.8450252769710659, 0.8428408805707935, 0.8504441396866372, 0.8482870818543616, 0.8477555483847836, 0.8508784195618657, 0.8448249435301709, 0.8460341149474742, 0.8457746226381271, 0.8471590297945574, 0.8456903660679072, 0.8456231400810297, 0.8465185902262378, 0.8480159370406224, 0.8485662937865261, 0.8493985515040695, 0.8503863253379227, 0.8482194076942382, 0.8466239109390126, 0.8491439891004267, 0.8468202108206948, 0.8479258542182065, 0.8472401491520563, 0.8471908500950126, 0.8492699257825105, 0.847614373812341, 0.8481463554551648, 0.8495630310852964, 0.8438595783586103, 0.8473996988275787, 0.8502236384496791, 0.8477066975009859, 0.8478438385142162, 0.8481530780538525, 0.8470348858054569, 0.8454712093506866, 0.8484533541285719, 0.8475942060162777, 0.8506843605464129, 0.8451552472123626, 0.8487227062493277, 0.8460273923487864, 0.8491525043920978, 0.8475081567530744, 0.851116847728658, 0.8484484242228676, 0.8504647556559464, 0.8488755333261626, 0.8490077444336884, 0.8500510917500269, 0.8492300383636298, 0.850307446846653, 0.850397081495823, 0.849182083826324, 0.8477161091391487, 0.8501398300527051, 0.8466216700727833, 0.8500058262521961, 0.8510787530027607, 0.845529920045893, 0.8477698899286508, 0.8452784948549711, 0.8483211430210462, 0.8497024129647557, 0.8460399411996702, 0.849841794844215, 0.8452090280018645, 0.8450145208131655, 0.8492878527123445, 0.8469219461475028, 0.8481163278476928, 0.847590620630311, 0.8482090997095837, 0.8507081137284428, 0.8460610053422251, 0.8469134308558317, 0.8500058262521961, 0.8495415187694957, 0.8459050410526694, 0.850794162991646, 0.8479227170054857, 0.847805295615073, 0.8484430461439175, 0.8497915994406798, 0.8456993295328241, 0.8487491484708327, 0.84862634900147, 0.8498780968771288, 0.8507161808468683, 0.8456477896095514, 0.849385106306694, 0.8473445735183393, 0.8461752895199168, 0.8481562152665735, 0.8499175361227636, 0.8500264422215051, 0.8488988383349467, 0.8459610627084007, 0.8489203506507476, 0.8482525725144313, 0.846285540138396, 0.8483153167688502, 0.849385106306694, 0.8487307733677532, 0.8479088236348642, 0.8496423577498118, 0.8479818758739377, 0.8470868739019755, 0.846028736868524, 0.847058638987487, 0.8480123516546556, 0.8479971137642968, 0.8483722347710733, 0.8453900899931877, 0.8502281201821376, 0.8492578251048726, 0.8491018608153169, 0.8502294647018753, 0.8504109748664443, 0.8470115807966727, 0.8478106736940232, 0.8497907030941881, 0.8507336596034565, 0.849196873543437, 0.8472719694525115, 0.8502227421031874, 0.8462644759958411, 0.8467372987702128, 0.8459780932917429, 0.8443238858413108, 0.8452480190742534, 0.8454936180129792, 0.847954985479187, 0.8481261876591015, 0.8485407479115127, 0.8476712918145638, 0.846640941522355, 0.8526746979312323, 0.8468928148865225, 0.8487930694489261, 0.8478182926392027, 0.8496558029471872, 0.8495352443440536, 0.8484390125847047, 0.8515506794306407, 0.8460695206338962, 0.8451606252913125, 0.847647538632534, 0.8457468358968843, 0.8480607543652074, 0.8482570542468897, 0.8472970671542792, 0.8462927109103295, 0.8501779247786023, 0.8487155354773941, 0.847085529382238, 0.8478043992685813, 0.8481324620845435, 0.8477403104944247, 0.8470053063712308, 0.8495038722168442, 0.8449688071420889, 0.8477223835645907, 0.8470156143558853, 0.8465342762898427, 0.8495294180918577, 0.8477205908716073, 0.8454779319493744, 0.8483354845649134, 0.8461546735506078, 0.8478254634111362, 0.8480508945537988, 0.8476054103474238, 0.8464424007744433, 0.8476479868057796, 0.8514328098669821, 0.8494119967014448, 0.8486075257251443, 0.8476910114373812, 0.8459973647413144, 0.8497647090459288, 0.8452619124448748, 0.8471791975906207, 0.8474135921982001, 0.8492035961421247, 0.8479962174178051, 0.8479742569287585, 0.8476376788211251, 0.8469578000071707, 0.8478554910186082, 0.8474606503890144, 0.8482794629091822, 0.8502702484672475, 0.8477824387795346, 0.8479227170054857, 0.8463805528665161, 0.8430775160446021, 0.8495558603133626, 0.8465894015990821, 0.8485022050123696, 0.8501071134057583, 0.8485497113764298, 0.84657774909469, 0.8458853214298518, 0.8458113728442868, 0.849014467032376, 0.8506655372700871, 0.8471971245204546, 0.8510299021189631, 0.8460332186009825, 0.8474135921982001, 0.8476484349790254, 0.8475910688035568, 0.8472997561937543, 0.844514359470797, 0.8438676454770356, 0.8465916424653114, 0.8473665340073859, 0.8491206840916425, 0.8450432039008999, 0.848322039367538, 0.8495070094295651, 0.8466162919938333, 0.8491574342978021, 0.8468874368075724, 0.8505109175002689, 0.8470953891936467, 0.8476399196873543, 0.8486756480585134, 0.8495693055107383, 0.8472007099064215, 0.8470635688931913, 0.8480544799397655, 0.8482476426087269, 0.8494500914273422, 0.8464262665375928, 0.8491668459359651, 0.8490749704205658, 0.8454210139471514, 0.8462573052239074, 0.8503957369760856, 0.8495666164712632, 0.8459359650066329, 0.8502603886558389, 0.846249238105482, 0.8469551109676957, 0.8447223118568714, 0.8460892402567137, 0.845003764655265, 0.8487460112581119, 0.8475973432289985, 0.8493680757233517, 0.846810799182532, 0.8455702556380195, 0.846834552364562, 0.8487944139686638, 0.8448415259402675, 0.8466561794127136, 0.8475843462048689, 0.8493456670610591, 0.8446900433831702, 0.8482722921372485, 0.8499520454626941, 0.8485290954071205, 0.8426970169588757, 0.8475991359219821, 0.846342009967373, 0.8490431501201104, 0.8470931483274174, 0.8489624789358576, 0.8466718654763186, 0.8484780036570938, 0.8481674195977196, 0.8486460686242875, 0.8455854935283784, 0.8488549173568536, 0.8490256713635225, 0.8490628697429277, 0.8485035495321072, 0.8489490337384819, 0.8459830231974472, 0.8467525366605715, 0.8484950342404358, 0.8470971818866301, 0.8459243125022409, 0.8475350471478255, 0.845693951453874, 0.844687354343695, 0.843346868165358, 0.8461049263203184, 0.8476475386325338, 0.8488047219533182, 0.8495056649098276, 0.8455854935283784, 0.8471904019217669, 0.8485739127317056, 0.8487966548348931, 0.8466265999784877, 0.8482489871284644, 0.8495119393352695, 0.8455993868989996, 0.8477344842422287, 0.8475086049263203, 0.8458279552543833, 0.8473495034240436, 0.8471209350686603, 0.8476914596106271, 0.8468887813273099, 0.8482073070166004, 0.8500228568355384, 0.8442759313040048, 0.8496638700656126, 0.8496938976730846, 0.8511598723602596, 0.8523098849091104, 0.8476340934351583, 0.8492968161772616, 0.8490489763723064, 0.8462532716646947, 0.8475000896346492, 0.8485416442580044, 0.8504011150550357, 0.8471993653866838, 0.8494303718045249, 0.8451946864579973, 0.846864579972034, 0.8470828403427629, 0.8469255315334696, 0.8469416657703203, 0.8451897565522929, 0.8495415187694956, 0.8491179950521675, 0.8460229106163278, 0.8494698110501595, 0.8467632928184718, 0.8503872216844144, 0.8467789788820765, 0.8481606969990321, 0.847315442257359, 0.8512777419239181, 0.8490050553942132, 0.8484587322075221, 0.8452668423505789, 0.8490740740740741, 0.8470380230181778, 0.8477672008891758, 0.8494698110501595, 0.8485152020364992, 0.8490812448460077, 0.8478483202466746, 0.848261984152594, 0.8432765049657596, 0.8472397009788104, 0.8460690724606503, 0.8474938152092073, 0.8481624896920155, 0.8456854361622028, 0.8467485031013589, 0.8451781040479007, 0.8492466207737264, 0.8475417697465133, 0.8451937901115054, 0.8485160983829909, 0.8490458391595855, 0.8456477896095516, 0.8463397691011436, 0.8488316123480691, 0.8460439747588828, 0.8478756588146714, 0.8520239503782583, 0.8474427234591804, 0.8473687748736152, 0.8468842995948515, 0.8469743824172672, 0.8490601807034528, 0.8447281381090674, 0.8482633286723316, 0.8487948621419096, 0.8474091104657415, 0.8471218314151518, 0.848363271306156, 0.8491690868021942, 0.8465100749345666, 0.8464948370442079, 0.8478604209243126, 0.8462774730199707, 0.848868362554229, 0.845702914918791, 0.8504790971998135, 0.8491534007385897, 0.8465956760245241, 0.8463608332436986, 0.8496916568068553, 0.8501322111075258, 0.8445883080563623, 0.8486393460255995, 0.8439039475099495, 0.8475112939657954, 0.8443758739378294, 0.8503271664694704, 0.8478151554264817, 0.848103330823563, 0.8461981463554551, 0.8483731311175647, 0.8480724068695995, 0.8476972858628231, 0.8473741529525654, 0.8459480656842708, 0.8452883546663799, 0.8474037323867915, 0.8501653759277186, 0.8471133161234807, 0.8508945537987164, 0.8467305761715248, 0.8506381987020902, 0.8451391129755119, 0.8469663152988418, 0.8450355849557205, 0.8468986411387186, 0.8474185221039044, 0.847034885805457, 0.8466548348929762, 0.8421511419454305, 0.8487473557778495, 0.8469017783514395, 0.8468161772614822, 0.84412310422717, 0.8452919400523466, 0.852081764726973, 0.8470572944677495, 0.848304112437704, 0.848698056720806, 0.8518993582159119, 0.8477730271413718, 0.8480383457029149, 0.8446972141551039, 0.8497723279911082, 0.8469313577856656, 0.8508367394500017, 0.8471169015094475, 0.8485985622602272, 0.8473060306191962, 0.8487303251945071, 0.8497696389516332, 0.8478756588146713, 0.847258972428382, 0.847165752393245, 0.8488374386002653, 0.8486756480585135, 0.8492730629952314, 0.8454815173353412, 0.8468950557527517, 0.8448917213438027, 0.8530659531748593, 0.8495751317629342, 0.8492681330895271, 0.8504436915133915, 0.8478908967050303, 0.8509900147000824, 0.8469147753755693, 0.8448034312143702, 0.8467372987702126, 0.8505490122261662, 0.8416030260657559, 0.8500398874188806, 0.8477313470295078, 0.8514892796959592, 0.8529695959270016, 0.8498189380086767, 0.846908949123373, 0.8484582840342763, 0.8478666953497545, 0.850215123158008, 0.8499726614320031, 0.848444390663655, 0.847258524255136, 0.8487052274927397, 0.8459646480943674, 0.8468031802373525, 0.8489951955828046, 0.8496011258111937, 0.8500044817324586, 0.8475547667706429, 0.843314151518411, 0.8484605249005056, 0.8481857947007996, 0.8461654297085082, 0.8480598580187159, 0.8456029722849664, 0.84848920798824, 0.8500667778136317, 0.8476457459395503, 0.849677315262988, 0.8457244272345918, 0.8493026424294574, 0.8497718798178624, 0.8471908500950127, 0.8503778100462516, 0.8485228209816787, 0.8457199455021334, 0.8464769101143739, 0.8477622709834713, 0.8487643863611918, 0.8500672259868773, 0.8467346097307376, 0.8468520311211503, 0.847838460435266, 0.845192445591768, 0.8490915528306622, 0.8483682012118604, 0.8472311856871392, 0.8497651572191747, 0.8488800150586211, 0.8484237746943458, 0.8507717543293536, 0.8488894266967839, 0.8492174895127461, 0.8467565702197841, 0.8483121795561293, 0.8509774658491986, 0.8472724176257574, 0.847652916711484, 0.8487097092251981, 0.8454913771467498, 0.8475341508013338, 0.849680452475709, 0.8469896203076261, 0.8467171309741495, 0.8477658563694381, 0.8471411028647233, 0.8497709834713707, 0.8471173496826934, 0.8466149474740955, 0.8519011509088954, 0.8463850345989746, 0.8475910688035567, 0.8456240364275214, 0.8458373668925458, 0.8496127783155856, 0.847694596823348, 0.8474584095227851, 0.8480396902226526, 0.8468896776738016, 0.8469120863360942, 0.8502518733641676, 0.8469456993295328, 0.8442261840737155, 0.8466678319171058, 0.8481674195977197, 0.8466920332723817, 0.8487321178874906, 0.8467561220465384, 0.8507717543293535, 0.8463325983292102, 0.8475440106127424, 0.847336506399914, 0.8479966655910509, 0.8459072819188986, 0.8467910795597146, 0.8472845183033954, 0.8478384604352658, 0.8448652791222975, 0.8499480119034815, 0.8469941020400845, 0.8523062995231436, 0.8464298519235597, 0.8497073428704599, 0.8472755548384784, 0.8496629737191208, 0.846246100892761, 0.8488688107274748, 0.848533577139579, 0.8458113728442866, 0.8470788067835502, 0.8476327489154208, 0.8488472984116741, 0.8512329245993331, 0.8502097450790578, 0.848551952242659, 0.8473011007134919, 0.8478182926392027, 0.8464491233731312, 0.8492336237495967, 0.8488356459072819, 0.8479213724857481, 0.846965867125596, 0.8475207056039583, 0.8482090997095837, 0.8465916424653114, 0.8484739700978811, 0.8465741637087233, 0.8462102470330932, 0.848578394464164, 0.8462680613818078, 0.8488768778459, 0.8451462837474455, 0.8444708866659496, 0.8489763723064788, 0.8485712236922305, 0.8453519952672904, 0.8476901150908894, 0.8481087089025133, 0.8520593560646803, 0.8492121114337958, 0.8471254168011186, 0.8495563084866085, 0.8487823132910257, 0.8448832060521314, 0.8471787494173748, 0.8499291886271558, 0.8450530637123086, 0.8459332759671578, 0.8479711197160374, 0.8494783263418308, 0.8489463446990069, 0.8476802552794809, 0.8491323365960345, 0.8491314402495429, 0.845601627765229, 0.8467036857767738, 0.8463097414936718, 0.8494227528593452, 0.8474781291456025, 0.8449867340719228, 0.8429027284787207, 0.8465634075508229, 0.8493452188878133, 0.8438362733498261, 0.8466176365135707, 0.847038023018178, 0.8476945968233481, 0.8486581693019253, 0.845371266716862, 0.8472683840665448, 0.8469941020400846, 0.8507807177942707, 0.8490619733964362, 0.8512450252769711, 0.849265444050052, 0.846807661969811, 0.8505024022085977, 0.8460502491843247, 0.8442920655408555, 0.8476103402531283, 0.8480880929332042, 0.848067925137141, 0.8441396866372666, 0.8490543544512568, 0.8477819906062888, 0.8490897601376788, 0.8479993546305259, 0.8474109031587249, 0.846843515829479, 0.8480885411064502, 0.8468323114983327, 0.851289842601556, 0.850397081495823, 0.8465347244630885, 0.8465741637087232, 0.8485349216593165, 0.8502128822917787, 0.8461416765264781, 0.8486617546878923, 0.8466440787350757, 0.8472898963823455, 0.844992112150873, 0.8454689684844574, 0.8435969488365422, 0.8476435050733211, 0.8460121544584274, 0.8511706285181599, 0.8483699939048437, 0.8477896095514682, 0.8455160266752715, 0.8466319780574378, 0.847163511527016, 0.847945573841024, 0.8473382990928974, 0.8515233408626439, 0.8460399411996702, 0.8462828510989209, 0.8479074791151266, 0.8432948800688395, 0.8477600301172421, 0.8495728908967051, 0.8478241188913986, 0.8453080742891973, 0.8474602022157686, 0.8436466960668315, 0.8501927144957155, 0.8481297730450683, 0.8471097307375139, 0.8475350471478256, 0.8476233372772579, 0.8470156143558853, 0.8485246136746621, 0.8471473772901652, 0.8484936897206985, 0.8489472410454986, 0.8490050553942131, 0.8468363450575455, 0.8454519379011151, 0.8479029973826683, 0.8484910006812233, 0.8470209924348358, 0.8485152020364993, 0.8474005951740705, 0.8495074576028109, 0.8460659352479295, 0.8481033308235633, 0.8474068695995124, 0.8445336309203688, 0.8494043777562656, 0.8448460076727259, 0.8477931949374351, 0.8483233838872755, 0.8478097773475315, 0.8499296368004016, 0.8511199849413789, 0.8448079129468287, 0.8494792226883223, 0.8471146606432183, 0.8489974364490338, 0.847524290989925, 0.8485492632031838, 0.8464688429959485, 0.848435427198738, 0.8508766268688823, 0.8469049155641605, 0.8501147323509375, 0.8502702484672475, 0.846813488222007, 0.8476614320031552, 0.8467619482987344, 0.846990068480872, 0.8474610985622602, 0.8509183069807464, 0.8487572155892581, 0.8512436807572336, 0.8473844609372199, 0.8484125703631997, 0.8486595138216628, 0.8440939729661898, 0.8514924169086802, 0.8472544906959234, 0.8491569861245561, 0.8493411853286006, 0.8495652719515256, 0.8434521888781328, 0.8484452870101467, 0.8469976874260514, 0.8481427700691979, 0.847695044996594, 0.8478608690975582, 0.8491153060126924, 0.8480903337994334, 0.8470613280269621, 0.8464060987415294, 0.8477447922268831, 0.846204868954143, 0.8497933921336632, 0.8499636979670862, 0.8443834928830088, 0.8500533326162562, 0.8488123408984978, 0.8480665806174035, 0.847984564913413, 0.8468260370728908, 0.8473082714854254, 0.8451745186619339, 0.8495468968484459, 0.8463603850704527, 0.8472925854218207, 0.8485752572514431, 0.846679484421498, 0.8443646696066831, 0.8462927109103295, 0.8452941809185759, 0.8480163852138684, 0.8483816464092361, 0.8456616829801729, 0.8455084077300921, 0.8485116166505324, 0.8480419310888816, 0.8471962281739629, 0.8497248216270482, 0.8467207163601163, 0.8484080886307411, 0.8463397691011438, 0.847232082033631, 0.8508143307877093, 0.8482489871284644, 0.8472038471191424, 0.8488652253415081, 0.8472401491520561, 0.8498525510021153, 0.8492564805851349, 0.8493985515040694, 0.8433728622136172, 0.8476318525689291, 0.8467435731956545, 0.8474740955863899, 0.8485380588720377, 0.8468063174500735, 0.8483014233982288, 0.8455931124735577, 0.8478286006238571, 0.8475520777311677, 0.847416729410921, 0.8473468143845685, 0.8481705568104406, 0.8480334157972106, 0.8471778530708831, 0.8521754329353557, 0.8480984009178587, 0.8466324262306837, 0.845903248359686, 0.8461631888422789, 0.8453900899931877, 0.8460022946470187, 0.8470868739019755, 0.8467906313864687, 0.8482736366569862, 0.8470084435839518, 0.8479379548958446, 0.8459404467390914, 0.8479850130866589, 0.8471325875730522, 0.8467086156824781, 0.8473019970599834, 0.8446035459467212, 0.8463303574629809, 0.8466915850991359, 0.8484815890430605, 0.8462546161844322, 0.8481122942884801, 0.8494765336488475, 0.8499780395109534, 0.849059732530207, 0.847309616005163, 0.8473674303538776, 0.844397834426876, 0.8453470653615862, 0.8475785199526731, 0.851409504858198, 0.8484130185364455, 0.8474315191280342, 0.8495657201247713, 0.8515345451937901, 0.8495652719515255, 0.8460421820658993, 0.8467099602022158, 0.8474153848911836, 0.8482803592556739, 0.8484094331504788, 0.8457365279122298, 0.8450777132408304, 0.8481642823849987, 0.8455048223441253, 0.8442234950342404, 0.8457217381951168, 0.8482288193324012, 0.8483171094618336, 0.8495746835896885, 0.847799469362877, 0.8473804273780072, 0.8474763364526192, 0.8502079523860744, 0.8474073177727581, 0.8469860349216594, 0.8484806926965687, 0.8468412749632498, 0.8489920583700836, 0.8488804632318669, 0.8500694668531068, 0.8504553440177836, 0.8473203721630634, 0.8508318095442975, 0.851346312430533, 0.8470617762002078, 0.8472477680972358, 0.8457979276469112, 0.8508923129324872, 0.8500107561579003, 0.846151088164641, 0.8480768886020581, 0.8502756265461977, 0.8441486501021834, 0.8496513212147287, 0.846819762647449, 0.846401617009071, 0.8468547201606254, 0.8478657990032628, 0.8482669140582983, 0.8499825212434118, 0.8478805887203759, 0.8505561829980998, 0.8485192355957119, 0.8466808289412355, 0.8462703022480369, 0.8516013230074218, 0.8460829658312717, 0.8450275178372952, 0.8485501595496755, 0.8471325875730523, 0.8491448854469184, 0.8490453909863396, 0.8505073321143021, 0.8459377576996163, 0.8473642931411566, 0.8480213151195728, 0.8486447241045499, 0.8475023305008784, 0.8486505503567461, 0.8469945502133305, 0.8460798286185507, 0.8449786669534975, 0.8462178659782725, 0.8489006310279301, 0.8483005270517371, 0.8444054533720555, 0.849259617797856, 0.8487379441396867, 0.8494577103725216, 0.8508591481122942, 0.8452354702233695, 0.8470442974436198, 0.8481920691262415, 0.8494312681510163, 0.8464370226954933, 0.8512154458427451, 0.8491923918109784, 0.8471832311498333, 0.8456881252016781, 0.8454631422322614, 0.8462461008927611, 0.8473647413144025, 0.8459023520131943, 0.8459848158904307, 0.8478523538058872, 0.8472446308845146, 0.8494635366247175, 0.8495249363593992, 0.8501281775483132, 0.8471437919041985, 0.8506417840880571, 0.8485564339751175, 0.8479877021261337, 0.8472773475314618, 0.8485138575167617, 0.8467767380158474, 0.8498834749560791, 0.8457212900218708, 0.8480181779068517, 0.845986608583414, 0.8473190276433258, 0.8525510021153777, 0.8489920583700835, 0.8478402531282494, 0.8445658993940698, 0.8500085152916711, 0.8487975511813847, 0.8459319314474203, 0.8467834606145351, 0.8464580868380481, 0.8484237746943457, 0.8477107310601986, 0.8466454232548135, 0.8472656950270697, 0.8458906995088021, 0.8487733498261089, 0.8434176795382023, 0.8469707970313004, 0.8498749596644078, 0.8493120540676203, 0.8487773833853215, 0.8461322648883152, 0.845882184217131, 0.8464204402853966, 0.8486460686242874, 0.8508138826144634, 0.8504813380660428, 0.8483027679179663, 0.8495867842673264, 0.8478102255207773, 0.8487760388655838, 0.8469192571080277, 0.8477613746369796, 0.8462115915528308, 0.8480719586963537, 0.8462846437919042, 0.8473844609372199, 0.8476892187443978, 0.8481508371876232, 0.8467825642680434, 0.8499959664407875, 0.8488643289950164, 0.8480284858915063, 0.8482781183894446, 0.8423662651034384, 0.847008443583952, 0.8479536409594494, 0.8478850704528342, 0.8471742676849163, 0.8459323796206661, 0.8488643289950164, 0.8487258434620488, 0.8491784984403572, 0.8492900935785739, 0.8512069305510738, 0.8474010433473164, 0.8478321860098239, 0.8472128105840594, 0.8464267147108389, 0.8483569968807143, 0.8480441719551108, 0.8465844716933778, 0.8453524434405364, 0.8468506866014127, 0.8468242443799073, 0.8448702090280018, 0.8497006202717723, 0.8467619482987343, 0.8456217955612922, 0.8493057796421783, 0.8455084077300921, 0.8498310386863146, 0.8477627191567173, 0.8477689935821591, 0.8459830231974472, 0.8454447671291815, 0.8453856082607294, 0.8512158940159907, 0.8457947904341904, 0.8455944569932954, 0.8481073643827758, 0.8488338532142986, 0.8478545946721165, 0.84896113441612, 0.8468730952637051, 0.8490081926069342, 0.8472943781148041, 0.8488423685059696, 0.8498574809078198, 0.8458324369868417, 0.8491041016815459, 0.8472728657990032, 0.8487621454949626, 0.843132193180596, 0.8458324369868417, 0.8461479509519201, 0.8502827973181313, 0.8474754401061274, 0.8516582410096447, 0.8469291169194364, 0.8459122118246029, 0.8455308163923847, 0.8474422752859345, 0.8477201426983615, 0.8474714065469148, 0.8429708508120899, 0.8466046394894409, 0.8442382847513537, 0.8485326807930874, 0.8476928041303646, 0.8456424115306013, 0.8477461367466208, 0.8470321967659818, 0.8477416550141623, 0.8511110214764619, 0.8481324620845434, 0.8469201534545194, 0.8466382524828797, 0.8482852891613784, 0.848507134918074, 0.8490063999139507, 0.8490660069556488, 0.84993411853286, 0.8465280018644007, 0.8479209243125022, 0.8476193037180453, 0.8458812878706393, 0.8475588003298555, 0.8490763149403033, 0.8477465849198667, 0.8482135814420422, 0.8474924706894698, 0.8484071922842493, 0.8481777275823743, 0.8471630633537701, 0.8446281954752428, 0.848014144347639, 0.8501111469649707, 0.8480966082248755, 0.8495356925172997, 0.8452780466817253, 0.8485456778172171, 0.8475547667706429, 0.8489387257538272, 0.8469743824172672, 0.8501066652325122, 0.8480226596393101, 0.8486895414291349, 0.8491802911333404, 0.8474091104657415, 0.847778405220322, 0.8494846007672726, 0.8509922555663116, 0.8478111218672688, 0.8466458714280591, 0.8484434943171631, 0.8468417231364956, 0.8465324835968593, 0.8484287046000503, 0.8467901832132227, 0.8482579505933814, 0.8483534114947474, 0.8460515937040622, 0.8494478505611128, 0.8441508909684127, 0.8515963931017174, 0.8477062493277402, 0.8457150155964288, 0.8489633752823492, 0.8451426983614786, 0.8477291061632786, 0.8433275967157865, 0.8456110394033918, 0.8504844752787638, 0.8469138790290776, 0.8472298411674016, 0.846019325230361, 0.8488136854182351, 0.844833906995088, 0.846407891434513, 0.8459292424079452, 0.848223441253451, 0.8476627765228928, 0.8459408949123373, 0.8469102936431108, 0.8493228102255207, 0.8456258291205048, 0.8472154996235345, 0.8487195690366067, 0.8459740597325301, 0.8440133017819368, 0.8472388046323187, 0.8485909433150478, 0.8515582983758202, 0.8467364024237208, 0.8480284858915063, 0.845386504607221, 0.8487374959664408, 0.8481947581657165, 0.8486913341221182, 0.8474422752859345, 0.8473091678319172, 0.8493178803198165, 0.846990516654118, 0.8501277293750672, 0.84939093255889, 0.8462519271449572, 0.8479881502993796, 0.8460748987128464, 0.8475596966763472, 0.8482973898390163, 0.8511208812878708, 0.8483431035100929, 0.8500761894517944, 0.8485281990606288, 0.8448675199885267, 0.8453820228747624, 0.8488163744577104, 0.8494523322935714, 0.8483713384245815, 0.8480428274353735, 0.850722903445556, 0.8475112939657955, 0.8495052167365817, 0.8424437990749704, 0.8472316338603851, 0.8465324835968591, 0.8492349682693341, 0.8482897708938367, 0.8469277723996989, 0.84725269800294, 0.8488925639095048, 0.8456249327740132, 0.8485138575167617, 0.8471169015094475, 0.8482001362446667, 0.8491175468789215, 0.8504647556559464, 0.8489848875981499, 0.848351618801764, 0.8465669929367896, 0.8433002581477896, 0.8475973432289985, 0.8482476426087268, 0.8494500914273423, 0.8485506077229215, 0.8491032053350545, 0.8474467570183931, 0.8482669140582985, 0.8480078699221971, 0.8460385966799326, 0.8494747409558638, 0.8513808217704636, 0.8463258757305224, 0.8459507547237459, 0.8486402423720915, 0.845950754723746, 0.8462962962962963, 0.8502451507654799, 0.8509900147000824, 0.8482207522139757, 0.8470111326234269, 0.8474982969416658, 0.8475717973539851, 0.8472298411674016, 0.8450839876662724, 0.8484865189487648, 0.8465674411100355, 0.8458109246710408, 0.8492694776092646, 0.8460193252303609, 0.8491350256355096, 0.8485022050123695, 0.8442701050518089, 0.8463904126779248, 0.8483834391022194, 0.85346975726937, 0.8484977232799111, 0.8470366784984402, 0.845697536839841, 0.8507502420135528, 0.8475162238714998, 0.8477528593453085, 0.8446913879029079, 0.8497378186511778, 0.8451942382847515, 0.8471101789107598, 0.844983148685956, 0.8454537305940985, 0.8476789107597433, 0.8475417697465133, 0.8505387042415116, 0.8460238069628195, 0.8486326234269119, 0.8490422537736186, 0.8474037323867913, 0.8473382990928974, 0.8481226022731347, 0.846697411351332, 0.8503643648488761, 0.847506364060091, 0.847446757018393, 0.8496024703309312, 0.8487867950234842, 0.848342655336847, 0.8504038040945108, 0.8457006740525619, 0.8477878168584847, 0.8470353339787027, 0.8476815997992184, 0.8501980925746657, 0.8503258219497328, 0.846359488723961, 0.8450100390807072, 0.8496486321752537, 0.8477927467641891, 0.8508434620486895, 0.8472334265533685, 0.8484842780825356, 0.8449383313613712, 0.8498588254275572, 0.8450499264995878]\n"
     ]
    }
   ],
   "source": [
    "t_47 = auc_bootstrap\n",
    "print(t_47)"
   ]
  },
  {
   "cell_type": "code",
   "execution_count": 51,
   "id": "ab22d2aa",
   "metadata": {},
   "outputs": [],
   "source": [
    "del X_train, X_test, y_train, y_test, X_val, y_val,study, optuna_auc"
   ]
  },
  {
   "cell_type": "code",
   "execution_count": 52,
   "id": "9af2ada8",
   "metadata": {},
   "outputs": [],
   "source": [
    "# 48\n",
    "column_to_drop_47 = 'Cat_현재 주택의 점유형태'"
   ]
  },
  {
   "cell_type": "code",
   "execution_count": 53,
   "id": "9291cd1c",
   "metadata": {},
   "outputs": [
    {
     "name": "stdout",
     "output_type": "stream",
     "text": [
      "(10564, 32)\n"
     ]
    }
   ],
   "source": [
    "if not column_to_drop_47.startswith('Cat_'):\n",
    "    comp_48 = comp_47.drop(column_to_drop_47, axis=1)\n",
    "    X_48 = comp_48.drop('target', axis=1)\n",
    "    y_48 = comp_48['target']\n",
    "else:\n",
    "    comp_48 = comp_47.drop(comp_47.filter(regex='^' + column_to_drop_47).columns, axis=1)\n",
    "    X_48 = comp_48.drop('target', axis=1)\n",
    "    y_48 = comp_48['target']\n",
    "\n",
    "print(X_48.shape)"
   ]
  },
  {
   "cell_type": "code",
   "execution_count": 54,
   "id": "c69f81be",
   "metadata": {},
   "outputs": [],
   "source": [
    "X_train, X_test, y_train, y_test = train_test_split(X_48, y_48, test_size=0.2, shuffle=True, stratify=y_48, random_state = 0)\n",
    "X_train, X_val, y_train, y_val = train_test_split(X_train, y_train, test_size=0.2, shuffle=True, stratify=y_train, random_state = 0)"
   ]
  },
  {
   "cell_type": "code",
   "execution_count": 55,
   "id": "896fe9a4",
   "metadata": {},
   "outputs": [],
   "source": [
    "def objective(trial):\n",
    "    params = {\n",
    "        'learning_rate' :trial.suggest_float('learning_rate',0.01, 0.1,step=0.01),        \n",
    "        'n_estimators' :trial.suggest_int('n_estimators', 50, 200),\n",
    "        'subsample':trial.suggest_float('subsample', 0.1, 1.0,step=0.1),\n",
    "        'max_depth' :trial.suggest_int('max_depth', 1, 10),\n",
    "        'min_samples_split' :trial.suggest_int('min_samples_split', 3, 10),\n",
    "        'min_samples_leaf' :trial.suggest_int('min_samples_leaf', 3, 10),\n",
    "        }\n",
    "        \n",
    "    clf = GradientBoostingClassifier(**params,random_state = 0)\n",
    "    clf.fit(X_train, y_train)\n",
    "    clf_proba = clf.predict_proba(X_val)[:, 1]\n",
    "        \n",
    "    AUC_SCORE = roc_auc_score(y_val, clf_proba)\n",
    "    return AUC_SCORE\n",
    "\n",
    "direction = \"maximize\"\n",
    "sampler = optuna.samplers.TPESampler(seed=10)\n",
    "study =  optuna.create_study(direction=direction, sampler=sampler, pruner=optuna.pruners.HyperbandPruner())\n",
    "early_stopping = EarlyStoppingCallback(10, direction=direction)\n",
    "study.optimize(objective, callbacks=[early_stopping], n_trials=200) "
   ]
  },
  {
   "cell_type": "code",
   "execution_count": 56,
   "id": "9d7b2c6a",
   "metadata": {},
   "outputs": [
    {
     "name": "stdout",
     "output_type": "stream",
     "text": [
      "{'learning_rate': 0.09999999999999999, 'n_estimators': 157, 'subsample': 0.6, 'max_depth': 2, 'min_samples_split': 5, 'min_samples_leaf': 8}\n",
      "0.8454840118231896\n"
     ]
    }
   ],
   "source": [
    "print(study.best_trial.params)\n",
    "optuna_auc = study.best_trial.value\n",
    "print(optuna_auc)"
   ]
  },
  {
   "cell_type": "code",
   "execution_count": 57,
   "id": "de380059",
   "metadata": {},
   "outputs": [
    {
     "data": {
      "text/html": [
       "<style>#sk-container-id-4 {color: black;}#sk-container-id-4 pre{padding: 0;}#sk-container-id-4 div.sk-toggleable {background-color: white;}#sk-container-id-4 label.sk-toggleable__label {cursor: pointer;display: block;width: 100%;margin-bottom: 0;padding: 0.3em;box-sizing: border-box;text-align: center;}#sk-container-id-4 label.sk-toggleable__label-arrow:before {content: \"▸\";float: left;margin-right: 0.25em;color: #696969;}#sk-container-id-4 label.sk-toggleable__label-arrow:hover:before {color: black;}#sk-container-id-4 div.sk-estimator:hover label.sk-toggleable__label-arrow:before {color: black;}#sk-container-id-4 div.sk-toggleable__content {max-height: 0;max-width: 0;overflow: hidden;text-align: left;background-color: #f0f8ff;}#sk-container-id-4 div.sk-toggleable__content pre {margin: 0.2em;color: black;border-radius: 0.25em;background-color: #f0f8ff;}#sk-container-id-4 input.sk-toggleable__control:checked~div.sk-toggleable__content {max-height: 200px;max-width: 100%;overflow: auto;}#sk-container-id-4 input.sk-toggleable__control:checked~label.sk-toggleable__label-arrow:before {content: \"▾\";}#sk-container-id-4 div.sk-estimator input.sk-toggleable__control:checked~label.sk-toggleable__label {background-color: #d4ebff;}#sk-container-id-4 div.sk-label input.sk-toggleable__control:checked~label.sk-toggleable__label {background-color: #d4ebff;}#sk-container-id-4 input.sk-hidden--visually {border: 0;clip: rect(1px 1px 1px 1px);clip: rect(1px, 1px, 1px, 1px);height: 1px;margin: -1px;overflow: hidden;padding: 0;position: absolute;width: 1px;}#sk-container-id-4 div.sk-estimator {font-family: monospace;background-color: #f0f8ff;border: 1px dotted black;border-radius: 0.25em;box-sizing: border-box;margin-bottom: 0.5em;}#sk-container-id-4 div.sk-estimator:hover {background-color: #d4ebff;}#sk-container-id-4 div.sk-parallel-item::after {content: \"\";width: 100%;border-bottom: 1px solid gray;flex-grow: 1;}#sk-container-id-4 div.sk-label:hover label.sk-toggleable__label {background-color: #d4ebff;}#sk-container-id-4 div.sk-serial::before {content: \"\";position: absolute;border-left: 1px solid gray;box-sizing: border-box;top: 0;bottom: 0;left: 50%;z-index: 0;}#sk-container-id-4 div.sk-serial {display: flex;flex-direction: column;align-items: center;background-color: white;padding-right: 0.2em;padding-left: 0.2em;position: relative;}#sk-container-id-4 div.sk-item {position: relative;z-index: 1;}#sk-container-id-4 div.sk-parallel {display: flex;align-items: stretch;justify-content: center;background-color: white;position: relative;}#sk-container-id-4 div.sk-item::before, #sk-container-id-4 div.sk-parallel-item::before {content: \"\";position: absolute;border-left: 1px solid gray;box-sizing: border-box;top: 0;bottom: 0;left: 50%;z-index: -1;}#sk-container-id-4 div.sk-parallel-item {display: flex;flex-direction: column;z-index: 1;position: relative;background-color: white;}#sk-container-id-4 div.sk-parallel-item:first-child::after {align-self: flex-end;width: 50%;}#sk-container-id-4 div.sk-parallel-item:last-child::after {align-self: flex-start;width: 50%;}#sk-container-id-4 div.sk-parallel-item:only-child::after {width: 0;}#sk-container-id-4 div.sk-dashed-wrapped {border: 1px dashed gray;margin: 0 0.4em 0.5em 0.4em;box-sizing: border-box;padding-bottom: 0.4em;background-color: white;}#sk-container-id-4 div.sk-label label {font-family: monospace;font-weight: bold;display: inline-block;line-height: 1.2em;}#sk-container-id-4 div.sk-label-container {text-align: center;}#sk-container-id-4 div.sk-container {/* jupyter's `normalize.less` sets `[hidden] { display: none; }` but bootstrap.min.css set `[hidden] { display: none !important; }` so we also need the `!important` here to be able to override the default hidden behavior on the sphinx rendered scikit-learn.org. See: https://github.com/scikit-learn/scikit-learn/issues/21755 */display: inline-block !important;position: relative;}#sk-container-id-4 div.sk-text-repr-fallback {display: none;}</style><div id=\"sk-container-id-4\" class=\"sk-top-container\"><div class=\"sk-text-repr-fallback\"><pre>GradientBoostingClassifier(learning_rate=0.09999999999999999, max_depth=2,\n",
       "                           min_samples_leaf=8, min_samples_split=5,\n",
       "                           n_estimators=157, random_state=0, subsample=0.6)</pre><b>In a Jupyter environment, please rerun this cell to show the HTML representation or trust the notebook. <br />On GitHub, the HTML representation is unable to render, please try loading this page with nbviewer.org.</b></div><div class=\"sk-container\" hidden><div class=\"sk-item\"><div class=\"sk-estimator sk-toggleable\"><input class=\"sk-toggleable__control sk-hidden--visually\" id=\"sk-estimator-id-4\" type=\"checkbox\" checked><label for=\"sk-estimator-id-4\" class=\"sk-toggleable__label sk-toggleable__label-arrow\">GradientBoostingClassifier</label><div class=\"sk-toggleable__content\"><pre>GradientBoostingClassifier(learning_rate=0.09999999999999999, max_depth=2,\n",
       "                           min_samples_leaf=8, min_samples_split=5,\n",
       "                           n_estimators=157, random_state=0, subsample=0.6)</pre></div></div></div></div></div>"
      ],
      "text/plain": [
       "GradientBoostingClassifier(learning_rate=0.09999999999999999, max_depth=2,\n",
       "                           min_samples_leaf=8, min_samples_split=5,\n",
       "                           n_estimators=157, random_state=0, subsample=0.6)"
      ]
     },
     "execution_count": 57,
     "metadata": {},
     "output_type": "execute_result"
    }
   ],
   "source": [
    "optuna_48 = GradientBoostingClassifier(**study.best_trial.params, random_state = 0)\n",
    "optuna_48.fit(X_train, y_train)"
   ]
  },
  {
   "cell_type": "code",
   "execution_count": 58,
   "id": "163ce48d",
   "metadata": {},
   "outputs": [
    {
     "name": "stdout",
     "output_type": "stream",
     "text": [
      "0.8494854971137642\n"
     ]
    }
   ],
   "source": [
    "optuna_proba_48 = optuna_48.predict_proba(X_test)[:, 1]\n",
    "auc_48 = roc_auc_score(y_test, optuna_proba_48)\n",
    "print(auc_48)"
   ]
  },
  {
   "cell_type": "code",
   "execution_count": 59,
   "id": "a5565211",
   "metadata": {},
   "outputs": [],
   "source": [
    "X_train = X_train.values\n",
    "y_train = y_train.values"
   ]
  },
  {
   "cell_type": "code",
   "execution_count": 60,
   "id": "86f70617",
   "metadata": {},
   "outputs": [],
   "source": [
    "auc_bootstrap = []"
   ]
  },
  {
   "cell_type": "code",
   "execution_count": 61,
   "id": "1a03cc13",
   "metadata": {},
   "outputs": [
    {
     "data": {
      "text/plain": [
       "array([0.84334984, 0.85015164])"
      ]
     },
     "execution_count": 61,
     "metadata": {},
     "output_type": "execute_result"
    }
   ],
   "source": [
    "rs = RandomState(seed = 48)\n",
    "bootstrap_auc(optuna_48, X_train, y_train, X_test, y_test, nsamples=2000)"
   ]
  },
  {
   "cell_type": "code",
   "execution_count": 62,
   "id": "c1e0b59e",
   "metadata": {},
   "outputs": [
    {
     "data": {
      "text/plain": [
       "0.8468868770391882"
      ]
     },
     "execution_count": 62,
     "metadata": {},
     "output_type": "execute_result"
    }
   ],
   "source": [
    "np.mean(auc_bootstrap)"
   ]
  },
  {
   "cell_type": "code",
   "execution_count": 63,
   "id": "5815e797",
   "metadata": {},
   "outputs": [
    {
     "name": "stdout",
     "output_type": "stream",
     "text": [
      "[0.8479679825033164, 0.8491318884227887, 0.846562959377577, 0.8458543974758883, 0.8484134667096914, 0.8495079057760567, 0.8472612132946112, 0.846858305546592, 0.8478935857445056, 0.8468435158294789, 0.848650550356746, 0.8479980101107885, 0.8467628446452261, 0.8466382524828797, 0.8455648775590692, 0.8480544799397653, 0.8494967014449104, 0.8482489871284644, 0.8450033164820193, 0.8459243125022409, 0.849510146642286, 0.8476018249614571, 0.846189631063784, 0.8450620271772257, 0.8464450898139184, 0.8485555376286258, 0.8498650998529991, 0.8465392061955469, 0.8433571761500125, 0.8462694059015453, 0.8468919185400308, 0.8486935749883475, 0.8457168082894124, 0.848581531676885, 0.8465616148578394, 0.8462962962962963, 0.8439985120648237, 0.8462514789717113, 0.8467843569610269, 0.8465535477394142, 0.8480863002402208, 0.8458028575526155, 0.8483354845649135, 0.8485645010935426, 0.8454129468287261, 0.844156269047363, 0.845927001541716, 0.8486873005629056, 0.8447120038722168, 0.8456621311534187, 0.8512916352945394, 0.8469134308558315, 0.845577874583199, 0.8503997705352982, 0.8446497077910438, 0.8491547452583271, 0.8487141909576565, 0.8441253450933993, 0.8481974472051916, 0.8453730594098455, 0.8449898712846439, 0.8478662471765086, 0.8474333118210176, 0.8436646229966656, 0.8419508085045354, 0.8486424832383206, 0.8474068695995124, 0.8476901150908895, 0.8500129970241297, 0.8475381843605465, 0.8441934674267684, 0.8457643146534723, 0.8490373238679143, 0.8457405614714424, 0.8471505145028864, 0.8452641533111039, 0.8498050446380552, 0.8453143487146392, 0.8460775877523216, 0.8458561901688717, 0.8457522139758344, 0.8491099279337421, 0.8444144168369725, 0.8445327345738768, 0.8450091427342152, 0.8428054748843712, 0.8467632928184718, 0.8449168190455703, 0.8465920906385573, 0.845344824495357, 0.8473902871894159, 0.8454649349252448, 0.8470850812089923, 0.8485627084005594, 0.8449634290631387, 0.8479415402818113, 0.8443637732601915, 0.8462366892545983, 0.8486541357427126, 0.8471948836542254, 0.8476381269943709, 0.846497077910437, 0.847267487720053, 0.845670198271844, 0.848097952744613, 0.8500416801118641, 0.8512181348822201, 0.8438062457423541, 0.8476269226632247, 0.8475399770535299, 0.845281632067692, 0.8463083969739342, 0.8479133053673229, 0.8477891613782222, 0.8490081926069342, 0.8456092467104085, 0.8483959879531031, 0.8473140977376215, 0.8475458033057258, 0.8437372270624933, 0.8473078233121796, 0.846240274640565, 0.8477421031874082, 0.8464894589652576, 0.8461206123839232, 0.8448406295937759, 0.8478451830339536, 0.8496764189164965, 0.847509949446058, 0.8449912158043813, 0.8476524685382382, 0.846007224552723, 0.846291366390592, 0.8498108708902512, 0.8485286472338747, 0.8461188196909397, 0.8469300132659281, 0.8470931483274174, 0.84599243483561, 0.8482857373346241, 0.8449992829228066, 0.8469972392528057, 0.8469833458821843, 0.8467431250224087, 0.8489476892187444, 0.8460771395790756, 0.8455702556380195, 0.8464235774981177, 0.8444139686637265, 0.8458006166863863, 0.8447182782976588, 0.8478268079308737, 0.8465557886056434, 0.8472831737836579, 0.8501192140833962, 0.8438143128607795, 0.847459305869277, 0.846076243232584, 0.847453031443835, 0.8476296117026998, 0.8451731741421965, 0.8445309418808933, 0.8447639919687354, 0.8484573876877846, 0.849062421569682, 0.8483641676526478, 0.8474131440249542, 0.8481046753433008, 0.8469291169194364, 0.846587160732853, 0.8440361586174752, 0.8450674052561759, 0.8489203506507477, 0.8470581908142412, 0.8466660392241225, 0.8439899967731527, 0.8475458033057259, 0.8481463554551647, 0.8452507081137284, 0.8451852748198344, 0.8458378150657918, 0.8444023161593346, 0.8457472840701301, 0.8476833924922018, 0.8443176114158689, 0.8472078806783551, 0.8495572048331004, 0.8442862392886594, 0.8471926427879961, 0.844956706464451, 0.847369671220107, 0.8485178910759743, 0.8450270696640494, 0.8462443081997777, 0.8438573374923811, 0.8463227385178015, 0.8490902083109246, 0.8491919436377326, 0.8492170413395002, 0.8479294396041733, 0.8464804955003405, 0.8494769818220932, 0.8477707862751426, 0.8471966763472087, 0.8476533648847298, 0.8471281058405937, 0.845073231508372, 0.8456451005700762, 0.8443516725825535, 0.8499067799648633, 0.8470272668602775, 0.8513539313757126, 0.847109282564268, 0.8479903911656089, 0.8470178552221147, 0.8463155677458679, 0.8476363343013876, 0.848256157900398, 0.8452690832168084, 0.8461900792370298, 0.847777957047076, 0.8471800939371124, 0.8467337133842457, 0.8484488723961134, 0.8451673478900003, 0.8456034204582125, 0.8485976659137358, 0.8487088128787064, 0.8435221039044853, 0.8479827722204295, 0.8462626833028575, 0.8484466315298842, 0.847213706930551, 0.8499058836183716, 0.849743196730128, 0.8465356208095803, 0.8493779355347603, 0.8489494819117278, 0.8478873113190635, 0.8477385178014414, 0.8481683159442113, 0.8510074934566707, 0.8432549926499588, 0.8464697393424401, 0.8446268509555054, 0.8453793338352872, 0.8456500304757806, 0.8467413323294254, 0.85002375318203, 0.8470478828295867, 0.8501106987917249, 0.8486868523896597, 0.8456226919077838, 0.8479679825033164, 0.84501945071887, 0.8488477465849198, 0.8471823348033415, 0.8500255458750134, 0.8448890323043277, 0.8463061561077051, 0.8471765085511456, 0.8474203147968878, 0.8494810153813058, 0.8452628087913664, 0.8499211215087304, 0.8472083288516008, 0.8470070990642143, 0.8496100892761106, 0.8464334373095264, 0.8465898497723279, 0.8470563981212578, 0.8468099028360403, 0.846631529884192, 0.8481754867161451, 0.8432509590907462, 0.8468802660356387, 0.8492358646158258, 0.8481880355670288, 0.8493447707145674, 0.847808432827794, 0.8455290236994013, 0.8452386074360905, 0.8480101107884264, 0.8472733139722491, 0.8438259653651716, 0.8444023161593346, 0.8456509268222725, 0.849889749381521, 0.84729482628805, 0.8459162453838156, 0.8485895987953103, 0.8485712236922305, 0.843317736904378, 0.8475888279373275, 0.846774945322864, 0.8488804632318669, 0.8495424151159872, 0.8500690186798608, 0.8438761607687066, 0.846709063855724, 0.8478348750492991, 0.8477282098167869, 0.8485116166505324, 0.8467247499193289, 0.8409222509053099, 0.8506852568929044, 0.8469802086694633, 0.8488535728371159, 0.8475883797640815, 0.8433258040228031, 0.8473347137069305, 0.8483063533039331, 0.8469739342440213, 0.8478581800580832, 0.8467032376035281, 0.8466136029543581, 0.8450575454447671, 0.8505602165573124, 0.8452583270589078, 0.845273116776021, 0.8461793230791295, 0.8492578251048726, 0.846969004338317, 0.8490050553942131, 0.8434324692553153, 0.8477187981786241, 0.8448984439424905, 0.8475251873364169, 0.8463594887239613, 0.8449414685740919, 0.8486711663260549, 0.8481902764332581, 0.8507081137284429, 0.8468923667132766, 0.845291043705855, 0.846240722813811, 0.8456585457674519, 0.8468367932307913, 0.85108099386899, 0.8483081459969166, 0.8466194292065541, 0.8462738876340039, 0.8455680147717901, 0.8476717399878095, 0.8488885303502922, 0.8453703703703704, 0.8462272776164355, 0.8471706822989495, 0.8447859524577822, 0.8450947438241727, 0.8472948262880499, 0.8495993331182102, 0.8487899322362051, 0.8472302893406476, 0.8488965974687175, 0.8469591445269083, 0.8493201211860457, 0.8483740274640564, 0.846933150478649, 0.8466203255530458, 0.847435104514001, 0.8451431465347246, 0.8454994442651751, 0.8447321716682801, 0.8465468251407264, 0.8438752644222152, 0.8475758309131978, 0.8471379656520024, 0.8431115772112869, 0.8516349360008606, 0.8447241045498547, 0.8440110609157075, 0.8450960883439103, 0.8507641353841742, 0.8467794270553225, 0.8477654081961924, 0.8461313685418236, 0.8452852174536589, 0.8445524541966942, 0.8490310494424724, 0.849405722276003, 0.845774622638127, 0.8464737729016529, 0.8460520418773081, 0.8483224875407838, 0.8474812663583235, 0.8435167258255353, 0.84878186511778, 0.8482673622315442, 0.8480491018608152, 0.8478707289089671, 0.8435637840163493, 0.845162417984296, 0.8488226488831523, 0.8457526621490804, 0.8467709117636513, 0.8484367717184755, 0.8449844932056936, 0.845171381449213, 0.8455958015130329, 0.8481203614069055, 0.8464903553117493, 0.8446057868129504, 0.8512947725072604, 0.8451037072890896, 0.8449401240543544, 0.8465432397547596, 0.8492327274031048, 0.8472925854218207, 0.844287583808397, 0.8491269585170844, 0.8502581477896095, 0.8475121903122872, 0.846956903660679, 0.8469649707791044, 0.8443852855759924, 0.8471402065182316, 0.8502966906887526, 0.8494339571904915, 0.8486940231615934, 0.8501286257215589, 0.8493254992649959, 0.8468103510092861, 0.8472742103187408, 0.849498494137894, 0.8458718762324764, 0.8450010756157901, 0.8486052848589151, 0.8465176938797461, 0.8483776128500233, 0.8450364813022122, 0.8437296081173138, 0.8476287153562081, 0.846132713061561, 0.8457011222258075, 0.8445824818041663, 0.8494366462299667, 0.8447792298590944, 0.8444417554049694, 0.8469385285575992, 0.8440854576745187, 0.8451852748198343, 0.8465315872503675, 0.8452991108242803, 0.8454783801226202, 0.8434862500448175, 0.8493160876268331, 0.8501514825570973, 0.8480405865691443, 0.8456173138288336, 0.8477954358036641, 0.8474203147968877, 0.8460744505396005, 0.8462989853357714, 0.8454703130041948, 0.8473777383385321, 0.8468668208382633, 0.8480024918432469, 0.8456253809472589, 0.8454124986554803, 0.8442019827184397, 0.8497575382739952, 0.8471832311498333, 0.8473741529525654, 0.8485591230145926, 0.8434866982180632, 0.8465118676275502, 0.8465764045749524, 0.8474014915205622, 0.8460318740812449, 0.8445179448567637, 0.846127334982611, 0.8467166828009036, 0.845706052131512, 0.8458118210175325, 0.8469609372198917, 0.8454344591445269, 0.8454972033989461, 0.8464146140332006, 0.8438999139507369, 0.8460318740812448, 0.8482005844179126, 0.8465916424653115, 0.8432971209350687, 0.8463070524541967, 0.845412946828726, 0.8471402065182319, 0.8454030870173175, 0.8443772184575671, 0.8480867484134667, 0.8444162095299559, 0.8483776128500233, 0.8462317593488938, 0.8474059732530206, 0.8456993295328241, 0.8501729948728981, 0.8447303789752967, 0.8464047542217921, 0.8475032268473701, 0.8477179018321324, 0.8474745437596358, 0.8506637445771038, 0.8469430102900577, 0.8477555483847836, 0.8482333010648596, 0.8477111792334444, 0.8448442149797426, 0.8457127747301996, 0.8471343802660357, 0.8479348176831235, 0.8480204187730808, 0.8460148434979025, 0.8452802875479545, 0.8455357462980888, 0.8495867842673264, 0.8502527697106593, 0.8491305439030512, 0.8490946900433831, 0.8459081782653902, 0.8450579936180129, 0.847566419275035, 0.8472195331827471, 0.8464320927897888, 0.84659612419777, 0.8488239934028898, 0.8451552472123625, 0.8457732781183894, 0.8503186511777993, 0.8458284034276289, 0.8478483202466747, 0.8449867340719228, 0.8477828869527804, 0.8461676705747374, 0.8459014556667026, 0.8454035351905633, 0.8482306120253846, 0.8441361012512997, 0.846852927467642, 0.8439886522534151, 0.8479706715427916, 0.849005503567459, 0.8444390663654943, 0.8470335412857194, 0.8471007672725969, 0.8487693162668962, 0.8464204402853968, 0.8495294180918576, 0.8470572944677495, 0.8442302176329284, 0.8458678426732638, 0.8463590405507153, 0.8464128213402173, 0.8481485963213939, 0.8487289806747697, 0.8471845756695708, 0.8467476067548672, 0.8480804739880248, 0.8475489405184468, 0.8459982610878061, 0.8481763830626367, 0.8464338854827722, 0.844842870460005, 0.8491144096662006, 0.8463321501559643, 0.8464083396077589, 0.8478882076655553, 0.8478882076655551, 0.8457786561973396, 0.8462317593488939, 0.847706697500986, 0.8438380660428095, 0.8475480441719552, 0.8458620164210677, 0.843350453551325, 0.8488997346814385, 0.8482028252841417, 0.847282725610412, 0.8495939550392599, 0.845598490552508, 0.8488889785235381, 0.847437793553476, 0.8476233372772578, 0.849937255745581, 0.8479626044243662, 0.8466319780574378, 0.8499811767236743, 0.8437766663081281, 0.8480159370406224, 0.8474772327991108, 0.8494030332365279, 0.8457221863683625, 0.8498028037718262, 0.8471670969129828, 0.8458543974758884, 0.8471832311498333, 0.8465956760245239, 0.849978935857445, 0.8472365637660894, 0.8447326198415259, 0.8456410670108638, 0.8458145100570076, 0.8470595353339787, 0.8471836793230791, 0.8454936180129791, 0.8459937793553476, 0.8497929439604174, 0.8447559248503101, 0.8439008102972285, 0.8485573303216091, 0.8498166971424473, 0.8471455845971818, 0.8428283317199097, 0.845075472374601, 0.846798698504894, 0.8485604675343301, 0.8446922842493995, 0.8490471836793231, 0.8479240615252231, 0.8478371159155283, 0.8475552149438887, 0.8468367932307913, 0.846852479294396, 0.8494518841203255, 0.8465248646516799, 0.844230665806174, 0.8457199455021334, 0.8470900111146965, 0.8478971711304722, 0.8503123767523575, 0.8510984726255781, 0.8470308522462443, 0.8476735326807932, 0.8477331397224911, 0.8507762360618121, 0.8503858771646767, 0.8456867806819404, 0.8444529597361157, 0.8451727259689505, 0.8455375389910724, 0.8473181312968341, 0.8448173245849917, 0.8427490050553943, 0.8453519952672905, 0.8447872969775196, 0.8454281847190851, 0.8478147072532358, 0.8491982180631744, 0.8485169947294825, 0.8461336094080528, 0.8504418988204081, 0.8451960309777348, 0.8501496898641138, 0.8475655229285433, 0.8456347925854218, 0.8466682800903518, 0.8471590297945575, 0.848413914882937, 0.8493662830303682, 0.8455590513068731, 0.8444888135957835, 0.8487845541572551, 0.8484098813237245, 0.8460775877523216, 0.8495079057760568, 0.8488562618765909, 0.8473665340073859, 0.8481127424617261, 0.845248915420745, 0.8469882757878886, 0.8444197949159227, 0.8487487002975871, 0.8483265210999964, 0.8492645477035603, 0.8478882076655552, 0.8501577569825393, 0.8496831415151841, 0.8478164999462192, 0.8461304721953319, 0.8435256892904521, 0.8472885518626081, 0.8466445269083217, 0.8496974830590514, 0.8469515255817289, 0.8439761034025313, 0.8464258183643468, 0.847183679323079, 0.8474906779964864, 0.8464827363665699, 0.8504365207414578, 0.8483946434333657, 0.8469985837725431, 0.844986285898677, 0.8479258542182067, 0.8484703847119143, 0.8452708759097918, 0.8470124771431644, 0.8476488831522713, 0.8464132695134632, 0.8488047219533184, 0.8444054533720555, 0.8436431106808647, 0.8446573267362232, 0.8465315872503675, 0.8454936180129792, 0.847336058226668, 0.8483072496504247, 0.8453318274712274, 0.8479263023914524, 0.8460977555483848, 0.8464760137678822, 0.848235541931089, 0.8465374135025636, 0.8490185005915887, 0.8497239252805564, 0.8484345308522463, 0.8492708221290022, 0.8472119142375678, 0.8486465167975333, 0.845054856405292, 0.847058638987487, 0.8447541321573268, 0.8471119716037431, 0.846359936897207, 0.8478371159155285, 0.8473396436126349, 0.8469739342440213, 0.8432473737047792, 0.8476690509483347, 0.8434136459789897, 0.8470568462945036, 0.8431147144240078, 0.8470035136782474, 0.8437345380230182, 0.8474785773188485, 0.8479491592269908, 0.8466288408447169, 0.8477914022444516, 0.8485411960847585, 0.8486415868918289, 0.8447868488042738, 0.845798375820157, 0.848751837510308, 0.8492542397189058, 0.84716306335377, 0.8453703703703704, 0.8469779678032341, 0.8493739019755479, 0.8484676956724392, 0.8465871607328529, 0.8433204259438528, 0.8481373919902478, 0.8469788641497258, 0.8469797604962175, 0.8460238069628195, 0.8473382990928975, 0.8462797138861999, 0.8458727725789682, 0.8469658671255961, 0.8481441145889356, 0.8477689935821591, 0.8470698433186332, 0.8428830088559033, 0.8494223046860994, 0.8478021584023521, 0.8464903553117493, 0.8474893334767488, 0.8462904700441003, 0.8440971101789108, 0.8449468466530423, 0.8453439281488653, 0.8485241655014162, 0.8499229142017138, 0.8456110394033919, 0.847530565415367, 0.846912086336094, 0.8453094188089348, 0.8478586282313291, 0.8454658312717365, 0.8472652468538238, 0.8473629486214193, 0.8456630274999104, 0.8454183249076763, 0.8494160302606575, 0.8457885160087484, 0.8495383815567745, 0.8447308271485425, 0.8482870818543616, 0.8464930443512244, 0.842065989028719, 0.8467767380158474, 0.8477582374242587, 0.8479016528629306, 0.8472518016564483, 0.8496589401599082, 0.8461649815352622, 0.8462528234914488, 0.8489960919292961, 0.8477479294396042, 0.8485031013588612, 0.8483762683302858, 0.8474669248144564, 0.8468627872790505, 0.847948711053745, 0.8464087877810046, 0.8495831988813597, 0.8465297945573841, 0.8474794736653402, 0.8459301387544369, 0.8444135204904808, 0.8482691549245276, 0.8456482377827972, 0.8446945251156286, 0.8495258327058908, 0.8468269334193825, 0.8443521207557994, 0.8458261625613996, 0.8485698791724929, 0.8454725538704242, 0.8466969631780861, 0.8454949625327167, 0.847703560288265, 0.8481687641174572, 0.8479401957620738, 0.8448930658635403, 0.8487092610519523, 0.8489060091068805, 0.8443427091176368, 0.8469685561650713, 0.846520831092467, 0.8453878491269584, 0.846781219748306, 0.848145907281919, 0.8451893083790472, 0.8480724068695995, 0.8499403929583018, 0.8449392277078627, 0.8476766698935141, 0.8467269907855581, 0.8463523179520276, 0.8503388189738627, 0.8468713025707216, 0.8461618443225414, 0.8479823240471837, 0.8469353913448783, 0.8480441719551111, 0.8487702126133878, 0.8471388619984942, 0.8478971711304721, 0.8459131081710946, 0.8459382058728622, 0.848599458606719, 0.84777213079488, 0.8467776343623391, 0.8497324405722275, 0.8453587178659783, 0.8486420350650747, 0.8469757269370047, 0.8476089957333908, 0.8452085798286185, 0.8460498010110789, 0.8444906062887669, 0.8478402531282492, 0.8465548922591517, 0.8489875766376251, 0.8444480298304113, 0.8474283819153132, 0.8458750134451974, 0.8450467892868667, 0.8493927252518734, 0.8462676132085618, 0.8450243806245743, 0.8472661432003155, 0.8478671435230002, 0.8472217740489765, 0.8498158007959556, 0.8451615216378042, 0.8446510523107812, 0.8483852317952025, 0.8493904843856441, 0.8450602344842422, 0.8450763687210928, 0.8467771861890933, 0.8442871356351511, 0.8447460650389015, 0.8453640959449285, 0.846736402423721, 0.8473804273780072, 0.846144813739199, 0.8473459180380768, 0.8470541572550285, 0.8494397834426877, 0.8474050769065291, 0.8475870352443441, 0.8475399770535299, 0.8461403320067405, 0.8483525151482558, 0.8488889785235381, 0.8483556523609767, 0.8465965723710158, 0.8459520992434835, 0.8474498942311139, 0.8450880212254849, 0.8475655229285434, 0.8450544082320461, 0.8465728191889856, 0.8463097414936718, 0.8469860349216592, 0.8433208741170988, 0.8468278297658743, 0.8501398300527052, 0.8445703811265283, 0.8466153956473415, 0.8485461259904628, 0.8479635007708579, 0.845123875085153, 0.8492224194184504, 0.8503809472589723, 0.8458319888135959, 0.8484587322075221, 0.8500596070416981, 0.847578071779427, 0.8483000788784913, 0.8456002832454914, 0.8475498368649386, 0.8439214262665375, 0.8460471119716038, 0.8471908500950127, 0.8495818543616223, 0.8460780359255673, 0.8452238177189775, 0.8453685776773869, 0.8461524326843786, 0.8472361155928435, 0.8449100964468825, 0.8435902262378545, 0.8450360331289664, 0.8501142841776917, 0.8465342762898427, 0.8475269800294001, 0.8468780251694095, 0.8431967301279982, 0.8505638019432792, 0.845007350041232, 0.8455841490086409, 0.8473396436126348, 0.8491659495894733, 0.8474005951740705, 0.8480145925208848, 0.84423111397942, 0.8462909182173459, 0.8465073858950916, 0.847972464235775, 0.8450705424688969, 0.846804972930336, 0.8466378043096339, 0.8493470115807966, 0.8515668136674913, 0.8493089168548993, 0.847763167329963, 0.8473714639130903, 0.8462299666559105, 0.8479227170054857, 0.8458427449714963, 0.8463052597612132, 0.846431644616543, 0.8442409737908285, 0.8439344232906674, 0.8469013301781937, 0.8458682908465096, 0.8484672474991933, 0.8443377792119322, 0.8467498476210964, 0.8449948011903481, 0.8456648201928938, 0.8510630669391561, 0.845739216951705, 0.8461990427019468, 0.8462622351296116, 0.8463644186296655, 0.8435727474812664, 0.8468744397834427, 0.8470837366892546, 0.8470622243734538, 0.8415868918289053, 0.8499251550679432, 0.8473293356279803, 0.8469766232834963, 0.844586067190133, 0.8449235416442581, 0.8499453228640064, 0.8473253020687677, 0.8473069269656878, 0.8473123050446381, 0.8442046717579148, 0.8490063999139508, 0.8468323114983329, 0.8485694309992471, 0.8459785414649887, 0.8468421713097416, 0.8455119931160588, 0.8468170736079739, 0.8478778996809008, 0.8506050338818973, 0.848360134093435, 0.8496822451686925, 0.8450709906421426, 0.8445103259115843, 0.8465876089060986, 0.8469327023054032, 0.846726990785558, 0.8473118568713922, 0.8442602452404, 0.8502088487325661, 0.8480114553081639, 0.8473562260227313, 0.8480943673586462, 0.8464294037503137, 0.8466431823885842, 0.8439523502205012, 0.8474342081675091, 0.8467431250224087, 0.8457611774407516, 0.8497665017389122, 0.8483843354487111, 0.8500739485855653, 0.8478841741063425, 0.8467063748162489, 0.848014144347639, 0.8437063031085297, 0.8449069592341616, 0.8449997310960524, 0.8433809293320427, 0.8447021440608082, 0.845914900864078, 0.8461246459431357, 0.843457566957083, 0.846622566419275, 0.8468269334193825, 0.8450503746728335, 0.8490615252231902, 0.848037897529669, 0.8488836004445879, 0.8492551360653974, 0.848689093255889, 0.8451749668351799, 0.8479563299989245, 0.8483153167688502, 0.8466064321824245, 0.8469111899896022, 0.8471119716037431, 0.8463532142985192, 0.8478855186260801, 0.8485026531856155, 0.8427507977483777, 0.8461188196909397, 0.8467615001254886, 0.8445062923523717, 0.8458481230504463, 0.8435991897027715, 0.8481651787314906, 0.8481727976766699, 0.8468143845684989, 0.8444758165716539, 0.8478469757269369, 0.8482583987666271, 0.845529920045893, 0.8462039726076512, 0.8466646947043849, 0.8452099243483561, 0.8441490982754294, 0.8454873435875372, 0.8464338854827722, 0.8457907568749776, 0.8477111792334445, 0.8472639023340863, 0.846825588899645, 0.8457746226381271, 0.849101412642071, 0.8432796421784805, 0.8472773475314617, 0.8495325553045787, 0.8481320139112976, 0.8498579290810655, 0.8464818400200782, 0.8419521530242731, 0.848653239396221, 0.8464966297371912, 0.845965544440859, 0.8430878240292567, 0.8481826574880784, 0.8454048797103009, 0.8452574307124163, 0.847223118568714, 0.8460574199562583, 0.8473454698648308, 0.8465262091714173, 0.8455420207235309, 0.8485026531856155, 0.8454658312717364, 0.845828403427629, 0.8457876196622567, 0.8473436771718476, 0.848960686242874, 0.8459798859847263, 0.8462837474454125, 0.8445461797712525, 0.8471818866300957, 0.8493317736904378, 0.8467117528951993, 0.8462510307984655, 0.8476677064285971, 0.8464397117349682, 0.8490202932845721, 0.8477864723387472, 0.8497082392169517, 0.8458342296798251, 0.8460654870746835, 0.8483780610232691, 0.8476950449965939, 0.8451937901115055, 0.8487065720124772, 0.8457311498332796, 0.850668674482808, 0.849223763938188, 0.8443167150693773, 0.8476300598759456, 0.8474131440249544, 0.8450830913197807, 0.847888655838801, 0.8456231400810297, 0.8446497077910436, 0.8482341974113514, 0.8490427019468645, 0.8463200494783263, 0.8458521566096591, 0.845144939227708, 0.843842547775268, 0.846509178588075, 0.8465741637087232, 0.8467287834785415, 0.8442270804202072, 0.8496997239252805, 0.8455586031336273, 0.8492398981750385, 0.8486653400738591, 0.8455922161270661, 0.8428969022265246, 0.8464173030726758, 0.8486545839159586, 0.8442122907030942, 0.8489996773152629, 0.8477922985909434, 0.8477255207773118, 0.846804972930336, 0.849089311964433, 0.8491798429600946, 0.847647090459288, 0.8472069843318633, 0.8471639597002617, 0.8497091355634434, 0.8488836004445879, 0.8503347854146498, 0.8470998709261053, 0.8435225520777312, 0.8456773690437777, 0.844463715894016, 0.8445210820694848, 0.8475789681259188, 0.8477793015668136, 0.8456872288551862, 0.8474673729877022, 0.848163386038507, 0.8487930694489263, 0.8464993187766663, 0.8438170019002544, 0.846819762647449, 0.8469416657703202, 0.8444112796242514, 0.8480907819726793, 0.8464007206625793, 0.8478613172708043, 0.8465620630310853, 0.8465163493600087, 0.8487007457602811, 0.8447707145674231, 0.845837366892546, 0.8459207271162741, 0.8459821268509555, 0.8479375067225987, 0.8464500197196229, 0.8462828510989208, 0.8441006955648775, 0.8493030906027035, 0.8479209243125023, 0.8471576852748199, 0.8429838478362195, 0.8483202466745545, 0.8452054426158977, 0.8491045498547919, 0.8441468574092001, 0.8496508730414829, 0.8443794593237962, 0.8436982359901044, 0.8470245778208024, 0.844830769782367, 0.8482821519486572, 0.8477810942597971, 0.8476928041303646, 0.8483543078412392, 0.8482068588433544, 0.8470501236958159, 0.8504280054497867, 0.8446353662471765, 0.8447698182209316, 0.84682289986017, 0.8480092144419348, 0.8451507654799039, 0.8463792083467786, 0.8472656950270697, 0.8488419203327238, 0.8467650855114552, 0.8464746692481446, 0.8478998601699472, 0.8471222795883977, 0.8474449643254095, 0.8481557670933275, 0.8479164425800437, 0.8453484098813236, 0.846676347208777, 0.8480119034814098, 0.84900864078018, 0.8486644437273672, 0.8493886916926607, 0.8470537090817826, 0.8458866659495894, 0.8432751604460221, 0.8494707073966512, 0.8481969990319458, 0.8477954358036642, 0.8464177512459216, 0.8493972069843319, 0.8472092251980926, 0.8463343910221937, 0.8494509877738339, 0.8441517873149045, 0.8468869886343264, 0.8467086156824783, 0.8456634756731563, 0.8458503639166756, 0.843606808647951, 0.848901079201176, 0.8424079452153025, 0.8446792872252697, 0.8455527768814313, 0.8484869671220108, 0.844311785163673, 0.8457755189846188, 0.8480580653257324, 0.8461537772041159, 0.8519701695887563, 0.8433782402925676, 0.849757986447241, 0.8485837725431142, 0.8472867591696246, 0.8447025922340541, 0.8468748879566885, 0.8461976981822092, 0.8464567423183106, 0.8475951023627695, 0.8493936215983651, 0.8472195331827472, 0.8449410204008462, 0.8464244738446094, 0.8473136495643756, 0.8495733390699509, 0.8477313470295078, 0.8464957333906994, 0.8467386432899502, 0.84952807357212, 0.8450288623570328, 0.8470505718690617, 0.8470608798537163, 0.8461676705747374, 0.8461107525725144, 0.846363074109928, 0.8470353339787029, 0.8452937327453302, 0.8495433114624789, 0.8454048797103008, 0.8485774981176724, 0.8461389874870029, 0.8474382417267219, 0.8471321393998065, 0.8463487325660608, 0.8477559965580295, 0.8481297730450683, 0.8497355777849487, 0.8460923774694346, 0.8470299558997526, 0.8494967014449106, 0.8512203757484496, 0.8496719371840379, 0.8461340575812986, 0.8446604639489441, 0.8442705532250547, 0.8466216700727833, 0.8474050769065291, 0.8429636800401563, 0.8453748521028288, 0.8461071671865475, 0.8465504105266932, 0.844093524792944, 0.8472217740489765, 0.8468448603492166, 0.8480939191854002, 0.8451807930873758, 0.8469560073141874, 0.8480988490911048, 0.848578394464164, 0.8466265999784878, 0.8480612025384533, 0.8452811838944463, 0.8470658097594206, 0.8462187623247643, 0.8435418235273027, 0.846395342583629, 0.8452336775303863, 0.8483175576350793, 0.8469358395181242, 0.8495155247212363, 0.8482575024201356, 0.8469586963536624, 0.8463505252590442, 0.8415080133376358, 0.8473530888100104, 0.8496087447563732, 0.8448823097056399, 0.845661234806927, 0.847029059553261, 0.8475561112903803, 0.847807984654548, 0.8423308594170162, 0.8447805743788319, 0.8475740382202144, 0.847378186511778, 0.8493640421641391, 0.8436619339571905, 0.8470693951453874, 0.8446335735541932, 0.8508743860026533, 0.8454918253199958, 0.8471151088164642, 0.8478290487971031, 0.8476627765228928, 0.8443131296834103, 0.8440563264135386, 0.84765874296368, 0.8442140833960775, 0.8463653149761572, 0.8456477896095516, 0.846616740167079, 0.8473696712201069, 0.8457011222258077, 0.8471765085511456, 0.8462846437919043, 0.8477129719264279, 0.8444923989817504, 0.8485640529202969, 0.8475198092574665, 0.8499834175899035, 0.8475686601412642, 0.8503087913663907, 0.8439787924420064, 0.8488643289950164, 0.8472751066652325, 0.8465360689828261, 0.847745688573375, 0.8457853787960274, 0.8482601914596106, 0.846144813739199, 0.8473849091104657, 0.8451158079667277, 0.8456321035459466, 0.8459229679825033, 0.8473315764942095, 0.8488876340038005, 0.8456755763507942, 0.8472863109963789, 0.8446322290344555, 0.847751514825571, 0.847392976228891, 0.8460197734036068, 0.8476063066939157, 0.8472540425226777, 0.8473472625578143, 0.8490588361837151, 0.8470133734896562, 0.8467036857767738, 0.8481557670933276, 0.8481866910472913, 0.8472607651213653, 0.8453156932343767, 0.8473432289986017, 0.8470160625291312, 0.8463738302678283, 0.8455608439998565, 0.8471290021870854, 0.8459462729912876, 0.8471500663296404, 0.8471662005664911, 0.8470841848625004, 0.8471644078735074, 0.8432200351367825, 0.8454810691620953, 0.8474189702771504, 0.8502308092216128, 0.8465055932021082, 0.8469089491233731, 0.8481172241941844, 0.8481351511240185, 0.8471962281739629, 0.8479294396041733, 0.8458409522785127, 0.8518258578035924, 0.8476435050733212, 0.8483041124377039, 0.8457737262916354, 0.8456666128858772, 0.8480006991502635, 0.8431057509590908, 0.8472397009788104, 0.8454855508945539, 0.8460143953246567, 0.8479106163278477, 0.8474987451149116, 0.8457100856907247, 0.8472491126169732, 0.84659612419777, 0.8430967874941737, 0.8461842529848338, 0.8445833781506579, 0.8446774945322866, 0.847646642286042, 0.8496289125524363, 0.8461286795023484, 0.8464392635617224, 0.8469026746979311, 0.8475897242838192, 0.8476004804417197, 0.8445730701660034, 0.8472379082858269, 0.8487052274927396, 0.8457082929977413, 0.8434145423254813, 0.8484659029794557, 0.8466207737262916, 0.8429995338998244, 0.8484690401921766, 0.8461358502742821, 0.8458785988311641, 0.8455814599691656, 0.8475350471478255, 0.8484076404574952, 0.8460578681295041, 0.8486890932558891, 0.8469013301781937, 0.8497033093112473, 0.842489960919293, 0.8478761069879173, 0.8479289914309277, 0.8472925854218207, 0.8485595711878384, 0.8485402997382668, 0.8474826108780611, 0.8468417231364957, 0.8421040837546161, 0.8467408841561794, 0.8484309454662794, 0.8495047685633358, 0.8495070094295651, 0.8471724749919329, 0.8476937004768564, 0.8484287046000503, 0.8485259581943996, 0.846753881180309, 0.8461286795023484, 0.8495993331182101, 0.8444094869312682, 0.8469098454698649, 0.8482691549245276, 0.8468538238141335, 0.8435413753540569, 0.8477044566347567, 0.8492936789645404, 0.8481669714244738, 0.8489109390125847, 0.8490193969380804, 0.8483856799684486, 0.8466718654763186, 0.8468901258470474, 0.8466566275859596, 0.8489476892187444, 0.8487200172098527, 0.8447483059051306, 0.8442163242623069, 0.8461349539277905, 0.8503813954322182, 0.8414551288946254, 0.8487383923129325, 0.8480482055143236, 0.8454232548133808, 0.8449598436771719, 0.8467762898426014, 0.8445851708436414, 0.8437080958015131, 0.8475130866587788, 0.846401617009071, 0.8467036857767739, 0.844206912624144, 0.8446860098239576, 0.8445080850453552, 0.8464065469147753, 0.8481799684486035, 0.8489360367143524, 0.8474324154745259, 0.847566419275035, 0.8458543974758882, 0.8487612491484708, 0.8477075938474778, 0.8434678749417375, 0.8463590405507153, 0.8489553081639238, 0.8487487002975871, 0.8486218672690116, 0.8466324262306838, 0.8442481445627622, 0.8430698970994228, 0.846028736868524, 0.8465320354236134, 0.8466319780574378, 0.8472267039546808, 0.8477452404001291, 0.846807661969811, 0.849438887096196, 0.8459771969452512, 0.8458405041052668, 0.8454591086730485, 0.8494774299953389, 0.8465656484170521, 0.8463169122656055, 0.8487388404861784, 0.8478895521852927, 0.8454662794449822, 0.8452623606181207, 0.8431935929152773, 0.8463962389301208, 0.8467888386934854, 0.8442557635079416, 0.8472993080205085, 0.8484009178588074, 0.8476793589329892, 0.8484201893083791, 0.846834552364562, 0.848682818830447, 0.846372037574845, 0.8463832419059911, 0.8501676167939478, 0.8482512279946937, 0.8435503388189739, 0.8450812986267973, 0.8460883439102219, 0.8444753683984081, 0.848775590692338, 0.8468278297658742, 0.8459848158904306, 0.8452350220501237, 0.8479079272883726, 0.8476345416084041, 0.8462640278225951, 0.8449423649205837, 0.8475798644724105, 0.8489261769029436, 0.8452677386970706, 0.8445771037252161, 0.8472405973253021, 0.848551504069413, 0.8477053529812484, 0.8467355060772292, 0.8474660284679646, 0.8473311283209637, 0.8469842422286759, 0.8469327023054033, 0.8465418952350221, 0.8484703847119142, 0.8496661109318419, 0.8487244989423111, 0.8488302678283318, 0.8466879997131691, 0.8451942382847514, 0.8505624574235416, 0.8444054533720555, 0.8473248538955218, 0.844833906995088, 0.8452973181312967, 0.8477394141479331, 0.8474821627048151, 0.8478536983256247, 0.8466767953820228, 0.8461667742282456, 0.8498054928113012, 0.8470416084041448, 0.847590620630311, 0.848202377110896, 0.8490476318525688, 0.8428050267111256, 0.8460439747588827, 0.8488177189774478, 0.8483699939048439, 0.846389516331433, 0.8484363235452296, 0.8471267613208562, 0.8476838406654476, 0.8495957477322433, 0.8460506973575707, 0.8471881610555376, 0.849277096554444, 0.8489405184468108, 0.844827632569646, 0.8457060521315121, 0.8460152916711485, 0.8485707755189846, 0.8464733247284069, 0.8485900469685561, 0.8481974472051916, 0.8469905166541178, 0.8461788749058836, 0.8486725108457926, 0.8478756588146712, 0.850172994872898, 0.843899465777491, 0.8454465598221648, 0.8482050661503711, 0.8481414255494604, 0.8473019970599835, 0.8473208203363092, 0.8450709906421425, 0.8453004553440178, 0.8479263023914525, 0.8499457710372521, 0.8495397260765121, 0.8443727367251085, 0.8450736796816176, 0.849327740131225, 0.8480585134989783, 0.8431599799218386, 0.8503666057151054, 0.8473172349503425, 0.8475731418737227, 0.8448917213438026, 0.8475847943781147, 0.8497875658814671, 0.8474122476784626, 0.8452202323330107, 0.8482987343587537, 0.8487648345344376, 0.8473082714854253, 0.8458207844824495, 0.8468063174500734, 0.8471097307375139, 0.845413395001972, 0.8465477214872182, 0.8472119142375677, 0.8456047649779499, 0.8456092467104084, 0.8496880714208885, 0.8500040335592126, 0.8480020436700011, 0.8480320712774729, 0.8478335305295616, 0.8450754723746011, 0.8458893549890645, 0.8500694668531066, 0.8431218851959412, 0.8459852640636764, 0.8469031228711771, 0.8461582589365746, 0.8480804739880248, 0.8459601663619088, 0.8458929403750314, 0.8479608117313827, 0.8499211215087303, 0.8496602846796457, 0.8492748556882149, 0.8451816894338675, 0.847527428202646, 0.8479442293212863, 0.8466064321824245, 0.8466395970026175, 0.8450656125631925, 0.8466409415223549, 0.8439129109748664, 0.8460126026316733, 0.8473387472661431, 0.8441320676920872, 0.8449329532824208, 0.8461488472984118, 0.8499242587214513, 0.8484340826790003, 0.8460811731382885, 0.848082714854254, 0.846255512530924, 0.8456988813595784, 0.8469497328887455, 0.8507551719192571, 0.8460748987128466, 0.8471016636190887, 0.8462461008927611, 0.8463917571976622, 0.8471523071958696, 0.8466476641210426, 0.8485774981176724, 0.8462859883116418, 0.8481853465275536, 0.842740937936969, 0.8467740489763722, 0.8472719694525115, 0.8466651428776308, 0.8472522498296942, 0.8471334839195439, 0.8448899286508192, 0.8454080169230217, 0.8467776343623391, 0.8468282779391203, 0.8466897924061525, 0.8460457674518662, 0.8474158330644295, 0.8486626510343839, 0.847778853393568, 0.8455043741708794, 0.84921166326055, 0.8466274963249794, 0.8469797604962174, 0.8449988347495608, 0.8491188913986591, 0.8450508228460796, 0.848232404718368, 0.8494124448746907, 0.8457432505109175, 0.8461053744935643, 0.8494142375676741, 0.8469017783514396, 0.8470514682155534, 0.848650550356746, 0.8472096733713383, 0.847835323222545, 0.8486438277580581, 0.8463585923774694, 0.8467449177153921, 0.8481710049836866, 0.84950432039009, 0.8441975009859811, 0.844846007672726, 0.8445062923523716, 0.8495415187694955, 0.8470026173317557, 0.8487603528019791, 0.8481423218959522, 0.8448751389337062, 0.8474570650030475, 0.8486290380409451, 0.845932827793912, 0.8487191208633609, 0.8499722132587573, 0.8473786346850237, 0.8449006848087197, 0.8490875192714495, 0.8505924850310137, 0.8443870782689755, 0.8473651894876484, 0.845864257287297, 0.84968358968843, 0.847593309669786, 0.8441674733785092, 0.8476784625864975, 0.8450346886092289, 0.8448043275608619, 0.8486899896023807, 0.8450732315083719, 0.8465123158007959, 0.8436646229966657, 0.8481060198630384, 0.8478478720734288, 0.8455214047542218, 0.8463012262020007, 0.8458185436162202, 0.8444184503961851, 0.8457549030153096, 0.8456383779713886, 0.8449768742605142, 0.8450544082320461, 0.847392976228891, 0.8467883905202396, 0.8461318167150694, 0.8465696819762647, 0.8466839661539566, 0.8464621203972607, 0.847894930264243, 0.8440177835143953, 0.8436238392312932, 0.8486671327668425, 0.8462375856010897, 0.8459202789430282, 0.8437004768563336, 0.8501196622566418, 0.8465593739916102, 0.848685956043168, 0.8475112939657954, 0.847226255781435, 0.8453999498045965, 0.849101412642071, 0.8472280484744182, 0.8486626510343839, 0.8460874475637303, 0.8461125452654978, 0.845461349539278, 0.8480786812950414, 0.8435709547882829, 0.8442476963895165, 0.8424545552328708, 0.846022014269836, 0.8463343910221934, 0.8457755189846187, 0.8441298268258578, 0.8490664551288947, 0.8448056720805994, 0.8462402746405651, 0.8478913448782761, 0.8448379405543006, 0.8457853787960274, 0.8468600982395755, 0.8468811623821305, 0.8468977447922268, 0.8461999390484386, 0.8476896669176437, 0.8495383815567746, 0.8457782080240938, 0.8488634326485246, 0.8497494711555699, 0.8459556846294505, 0.8495195582804491, 0.846762844645226, 0.8407407407407408, 0.8462971926427881, 0.8436668638628948, 0.8466324262306837, 0.8455958015130328, 0.8500103079846546, 0.8481598006525403, 0.8502406690330213, 0.8492269011509088, 0.8476910114373813, 0.848166523251228, 0.8479446774945323, 0.845667061059123, 0.8480396902226524, 0.8437865261195368, 0.848539851565021, 0.8445313900541394, 0.8471832311498333, 0.8486290380409451, 0.8475408734000216, 0.8468143845684989, 0.8471514108493778, 0.8486451722777957, 0.8495589975260838, 0.8421524864651682, 0.8487065720124771, 0.8465046968556165, 0.8479756014484958, 0.8470344376322112, 0.8441925710802768, 0.8490530099315191, 0.8474445161521638, 0.8463886199849415, 0.8476569502706967, 0.845571151984511, 0.8465006632964038, 0.8460627980352085, 0.8458727725789682, 0.8474700620271772, 0.8491238213043635, 0.8477680972356674, 0.8476072030404074, 0.8455881825678534, 0.8461354021010361, 0.8491421964074433, 0.8445824818041663, 0.8441020400846151, 0.847500985981141, 0.8438438922950056, 0.8458629127675594, 0.8480459646480945, 0.8491395073679682, 0.8444583378150659, 0.844968358968843, 0.8491390591947223, 0.8440020974507906, 0.8453623032519451, 0.8464011688358252, 0.8449230934710122, 0.8500242013552758, 0.8461923201032591, 0.8463989279695959, 0.8476591911369259, 0.8499417374780396, 0.8484847262557816, 0.8460054318597396, 0.8458046502455989, 0.8475646265820516, 0.8449714961815639, 0.8463119823599011, 0.8489902656771001, 0.8476560539242048, 0.8473772901652863, 0.8461080635330394, 0.846897296618981, 0.8444910544620129, 0.8447124520454627, 0.8449289197232083, 0.843134882220071, 0.8500994944605786, 0.8445735183392492, 0.8453667849844035, 0.8475874834175899, 0.8479706715427916, 0.8485022050123695, 0.8445896525760999, 0.8487406331791618, 0.8473853572837117, 0.8489257287296977, 0.8477013194220357, 0.8450911584382059, 0.8462192104980102, 0.8476107884263742, 0.8441661288587717, 0.8435714029615288, 0.8476632246961384, 0.8471133161234807, 0.8473732566060738, 0.8491964253701911, 0.8466337707504212, 0.8476417123803377, 0.8498700297587035, 0.8484896561614859, 0.8461277831558567, 0.8468462048689542, 0.8481553189200817, 0.8467162346276575, 0.8483251765802589, 0.8481230504463806, 0.8459619590548922, 0.8459794378114804, 0.8444592341615575, 0.8439604173389266, 0.8457186009823958, 0.848017729733606, 0.8500398874188806, 0.8494366462299667, 0.8459736115592843, 0.8461345057545444, 0.8458086838048116, 0.8451803449141302, 0.8480410347423901, 0.8498615144670324, 0.8473477107310601, 0.8478631099637876, 0.8469098454698649, 0.8453878491269585, 0.8488338532142985, 0.8467027894302821, 0.8454752429098993, 0.8460094654189523, 0.8440415366964253, 0.8481745903696534, 0.8462698540747913, 0.8472670395468072, 0.8447621992757521, 0.8467189236671329, 0.8470474346563407, 0.8461107525725144, 0.8464038578753003, 0.8409706536158617, 0.8454595568462946, 0.8460058800329857, 0.8430340432397548, 0.8415012907389481, 0.8478519056326415, 0.8503078950198989, 0.8493837617869563, 0.8472518016564483]\n"
     ]
    }
   ],
   "source": [
    "t_48 = auc_bootstrap\n",
    "print(t_48)"
   ]
  },
  {
   "cell_type": "code",
   "execution_count": 64,
   "id": "222a4ed9",
   "metadata": {},
   "outputs": [],
   "source": [
    "del X_train, X_test, y_train, y_test, X_val, y_val,study, optuna_auc"
   ]
  },
  {
   "cell_type": "code",
   "execution_count": 65,
   "id": "e155c568",
   "metadata": {},
   "outputs": [],
   "source": [
    "# 49\n",
    "column_to_drop_48 = '총 이사 횟수'"
   ]
  },
  {
   "cell_type": "code",
   "execution_count": 66,
   "id": "26b02dfd",
   "metadata": {},
   "outputs": [
    {
     "name": "stdout",
     "output_type": "stream",
     "text": [
      "(10564, 31)\n"
     ]
    }
   ],
   "source": [
    "if not column_to_drop_48.startswith('Cat_'):\n",
    "    comp_49 = comp_48.drop(column_to_drop_48, axis=1)\n",
    "    X_49 = comp_49.drop('target', axis=1)\n",
    "    y_49 = comp_49['target']\n",
    "else:\n",
    "    comp_49 = comp_48.drop(comp_48.filter(regex='^' + column_to_drop_48).columns, axis=1)\n",
    "    X_49 = comp_49.drop('target', axis=1)\n",
    "    y_49 = comp_49['target']\n",
    "\n",
    "print(X_49.shape)"
   ]
  },
  {
   "cell_type": "code",
   "execution_count": 67,
   "id": "b7af49e8",
   "metadata": {},
   "outputs": [],
   "source": [
    "X_train, X_test, y_train, y_test = train_test_split(X_49, y_49, test_size=0.2, shuffle=True, stratify=y_49, random_state = 0)\n",
    "X_train, X_val, y_train, y_val = train_test_split(X_train, y_train, test_size=0.2, shuffle=True, stratify=y_train, random_state = 0)"
   ]
  },
  {
   "cell_type": "code",
   "execution_count": 68,
   "id": "c4c906cd",
   "metadata": {},
   "outputs": [],
   "source": [
    "def objective(trial):\n",
    "    params = {\n",
    "        'learning_rate' :trial.suggest_float('learning_rate',0.01, 0.1,step=0.01),        \n",
    "        'n_estimators' :trial.suggest_int('n_estimators', 50, 200),\n",
    "        'subsample':trial.suggest_float('subsample', 0.1, 1.0,step=0.1),\n",
    "        'max_depth' :trial.suggest_int('max_depth', 1, 10),\n",
    "        'min_samples_split' :trial.suggest_int('min_samples_split', 3, 10),\n",
    "        'min_samples_leaf' :trial.suggest_int('min_samples_leaf', 3, 10),\n",
    "        }\n",
    "        \n",
    "    clf = GradientBoostingClassifier(**params,random_state = 0)\n",
    "    clf.fit(X_train, y_train)\n",
    "    clf_proba = clf.predict_proba(X_val)[:, 1]\n",
    "        \n",
    "    AUC_SCORE = roc_auc_score(y_val, clf_proba)\n",
    "    return AUC_SCORE\n",
    "\n",
    "direction = \"maximize\"\n",
    "sampler = optuna.samplers.TPESampler(seed=10)\n",
    "study =  optuna.create_study(direction=direction, sampler=sampler, pruner=optuna.pruners.HyperbandPruner())\n",
    "early_stopping = EarlyStoppingCallback(10, direction=direction)\n",
    "study.optimize(objective, callbacks=[early_stopping], n_trials=200) "
   ]
  },
  {
   "cell_type": "code",
   "execution_count": 69,
   "id": "c1320a7f",
   "metadata": {},
   "outputs": [
    {
     "name": "stdout",
     "output_type": "stream",
     "text": [
      "{'learning_rate': 0.09999999999999999, 'n_estimators': 157, 'subsample': 0.6, 'max_depth': 2, 'min_samples_split': 5, 'min_samples_leaf': 8}\n",
      "0.8431405067401139\n"
     ]
    }
   ],
   "source": [
    "print(study.best_trial.params)\n",
    "optuna_auc = study.best_trial.value\n",
    "print(optuna_auc)"
   ]
  },
  {
   "cell_type": "code",
   "execution_count": 70,
   "id": "b4286d05",
   "metadata": {},
   "outputs": [
    {
     "data": {
      "text/html": [
       "<style>#sk-container-id-5 {color: black;}#sk-container-id-5 pre{padding: 0;}#sk-container-id-5 div.sk-toggleable {background-color: white;}#sk-container-id-5 label.sk-toggleable__label {cursor: pointer;display: block;width: 100%;margin-bottom: 0;padding: 0.3em;box-sizing: border-box;text-align: center;}#sk-container-id-5 label.sk-toggleable__label-arrow:before {content: \"▸\";float: left;margin-right: 0.25em;color: #696969;}#sk-container-id-5 label.sk-toggleable__label-arrow:hover:before {color: black;}#sk-container-id-5 div.sk-estimator:hover label.sk-toggleable__label-arrow:before {color: black;}#sk-container-id-5 div.sk-toggleable__content {max-height: 0;max-width: 0;overflow: hidden;text-align: left;background-color: #f0f8ff;}#sk-container-id-5 div.sk-toggleable__content pre {margin: 0.2em;color: black;border-radius: 0.25em;background-color: #f0f8ff;}#sk-container-id-5 input.sk-toggleable__control:checked~div.sk-toggleable__content {max-height: 200px;max-width: 100%;overflow: auto;}#sk-container-id-5 input.sk-toggleable__control:checked~label.sk-toggleable__label-arrow:before {content: \"▾\";}#sk-container-id-5 div.sk-estimator input.sk-toggleable__control:checked~label.sk-toggleable__label {background-color: #d4ebff;}#sk-container-id-5 div.sk-label input.sk-toggleable__control:checked~label.sk-toggleable__label {background-color: #d4ebff;}#sk-container-id-5 input.sk-hidden--visually {border: 0;clip: rect(1px 1px 1px 1px);clip: rect(1px, 1px, 1px, 1px);height: 1px;margin: -1px;overflow: hidden;padding: 0;position: absolute;width: 1px;}#sk-container-id-5 div.sk-estimator {font-family: monospace;background-color: #f0f8ff;border: 1px dotted black;border-radius: 0.25em;box-sizing: border-box;margin-bottom: 0.5em;}#sk-container-id-5 div.sk-estimator:hover {background-color: #d4ebff;}#sk-container-id-5 div.sk-parallel-item::after {content: \"\";width: 100%;border-bottom: 1px solid gray;flex-grow: 1;}#sk-container-id-5 div.sk-label:hover label.sk-toggleable__label {background-color: #d4ebff;}#sk-container-id-5 div.sk-serial::before {content: \"\";position: absolute;border-left: 1px solid gray;box-sizing: border-box;top: 0;bottom: 0;left: 50%;z-index: 0;}#sk-container-id-5 div.sk-serial {display: flex;flex-direction: column;align-items: center;background-color: white;padding-right: 0.2em;padding-left: 0.2em;position: relative;}#sk-container-id-5 div.sk-item {position: relative;z-index: 1;}#sk-container-id-5 div.sk-parallel {display: flex;align-items: stretch;justify-content: center;background-color: white;position: relative;}#sk-container-id-5 div.sk-item::before, #sk-container-id-5 div.sk-parallel-item::before {content: \"\";position: absolute;border-left: 1px solid gray;box-sizing: border-box;top: 0;bottom: 0;left: 50%;z-index: -1;}#sk-container-id-5 div.sk-parallel-item {display: flex;flex-direction: column;z-index: 1;position: relative;background-color: white;}#sk-container-id-5 div.sk-parallel-item:first-child::after {align-self: flex-end;width: 50%;}#sk-container-id-5 div.sk-parallel-item:last-child::after {align-self: flex-start;width: 50%;}#sk-container-id-5 div.sk-parallel-item:only-child::after {width: 0;}#sk-container-id-5 div.sk-dashed-wrapped {border: 1px dashed gray;margin: 0 0.4em 0.5em 0.4em;box-sizing: border-box;padding-bottom: 0.4em;background-color: white;}#sk-container-id-5 div.sk-label label {font-family: monospace;font-weight: bold;display: inline-block;line-height: 1.2em;}#sk-container-id-5 div.sk-label-container {text-align: center;}#sk-container-id-5 div.sk-container {/* jupyter's `normalize.less` sets `[hidden] { display: none; }` but bootstrap.min.css set `[hidden] { display: none !important; }` so we also need the `!important` here to be able to override the default hidden behavior on the sphinx rendered scikit-learn.org. See: https://github.com/scikit-learn/scikit-learn/issues/21755 */display: inline-block !important;position: relative;}#sk-container-id-5 div.sk-text-repr-fallback {display: none;}</style><div id=\"sk-container-id-5\" class=\"sk-top-container\"><div class=\"sk-text-repr-fallback\"><pre>GradientBoostingClassifier(learning_rate=0.09999999999999999, max_depth=2,\n",
       "                           min_samples_leaf=8, min_samples_split=5,\n",
       "                           n_estimators=157, random_state=0, subsample=0.6)</pre><b>In a Jupyter environment, please rerun this cell to show the HTML representation or trust the notebook. <br />On GitHub, the HTML representation is unable to render, please try loading this page with nbviewer.org.</b></div><div class=\"sk-container\" hidden><div class=\"sk-item\"><div class=\"sk-estimator sk-toggleable\"><input class=\"sk-toggleable__control sk-hidden--visually\" id=\"sk-estimator-id-5\" type=\"checkbox\" checked><label for=\"sk-estimator-id-5\" class=\"sk-toggleable__label sk-toggleable__label-arrow\">GradientBoostingClassifier</label><div class=\"sk-toggleable__content\"><pre>GradientBoostingClassifier(learning_rate=0.09999999999999999, max_depth=2,\n",
       "                           min_samples_leaf=8, min_samples_split=5,\n",
       "                           n_estimators=157, random_state=0, subsample=0.6)</pre></div></div></div></div></div>"
      ],
      "text/plain": [
       "GradientBoostingClassifier(learning_rate=0.09999999999999999, max_depth=2,\n",
       "                           min_samples_leaf=8, min_samples_split=5,\n",
       "                           n_estimators=157, random_state=0, subsample=0.6)"
      ]
     },
     "execution_count": 70,
     "metadata": {},
     "output_type": "execute_result"
    }
   ],
   "source": [
    "optuna_49 = GradientBoostingClassifier(**study.best_trial.params, random_state = 0)\n",
    "optuna_49.fit(X_train, y_train)"
   ]
  },
  {
   "cell_type": "code",
   "execution_count": 71,
   "id": "c57223e4",
   "metadata": {},
   "outputs": [
    {
     "name": "stdout",
     "output_type": "stream",
     "text": [
      "0.8489750277867413\n"
     ]
    }
   ],
   "source": [
    "optuna_proba_49 = optuna_49.predict_proba(X_test)[:, 1]\n",
    "auc_49 = roc_auc_score(y_test, optuna_proba_49)\n",
    "print(auc_49)"
   ]
  },
  {
   "cell_type": "code",
   "execution_count": 72,
   "id": "75274d7c",
   "metadata": {},
   "outputs": [],
   "source": [
    "X_train = X_train.values\n",
    "y_train = y_train.values"
   ]
  },
  {
   "cell_type": "code",
   "execution_count": 73,
   "id": "f0c30132",
   "metadata": {},
   "outputs": [],
   "source": [
    "auc_bootstrap = []"
   ]
  },
  {
   "cell_type": "code",
   "execution_count": 74,
   "id": "28c1de93",
   "metadata": {},
   "outputs": [
    {
     "data": {
      "text/plain": [
       "array([0.84269425, 0.84943808])"
      ]
     },
     "execution_count": 74,
     "metadata": {},
     "output_type": "execute_result"
    }
   ],
   "source": [
    "rs = RandomState(seed = 49)\n",
    "bootstrap_auc(optuna_49, X_train, y_train, X_test, y_test, nsamples=2000)"
   ]
  },
  {
   "cell_type": "code",
   "execution_count": 75,
   "id": "80cf13c2",
   "metadata": {},
   "outputs": [
    {
     "data": {
      "text/plain": [
       "0.8461331863325087"
      ]
     },
     "execution_count": 75,
     "metadata": {},
     "output_type": "execute_result"
    }
   ],
   "source": [
    "np.mean(auc_bootstrap)"
   ]
  },
  {
   "cell_type": "code",
   "execution_count": 76,
   "id": "27686967",
   "metadata": {},
   "outputs": [
    {
     "name": "stdout",
     "output_type": "stream",
     "text": [
      "[0.8483480334157973, 0.8478900003585386, 0.8476188555447993, 0.8494438170019003, 0.8460063282062315, 0.8452309884909109, 0.8424442472482163, 0.8458575346886092, 0.8458064429385823, 0.8463361837151769, 0.8471128679502349, 0.8426611630992076, 0.8448164282385, 0.8453430318023736, 0.8436525223190277, 0.8452663941773332, 0.8472849664766413, 0.8445636585278405, 0.8477954358036643, 0.8466265999784877, 0.8458884586425728, 0.8476972858628231, 0.8470124771431644, 0.8417634720877704, 0.8448209099709584, 0.8427924778602417, 0.8465333799433509, 0.8475901724570649, 0.847679807106235, 0.8454187730809222, 0.8430815496038149, 0.8460269441755406, 0.843406475207056, 0.8456894697214156, 0.8458024093793696, 0.8466198773797999, 0.8448056720805994, 0.8452354702233695, 0.8508851421605537, 0.8454967552257, 0.8473593632354524, 0.8482220967337133, 0.8465409988885304, 0.8430564519020474, 0.8484018142052991, 0.8486102147646195, 0.8456809544297444, 0.8446631529884192, 0.8405946362625937, 0.8442920655408555, 0.8457177046359041, 0.8454380445304936, 0.8485582266681009, 0.8465728191889856, 0.8439366641568966, 0.8478173962927109, 0.846801835717615, 0.842549567960991, 0.8459673371338424, 0.8469286687461905, 0.8466162919938333, 0.8479514000932201, 0.8457150155964289, 0.8463585923774695, 0.8483623749596643, 0.8479850130866589, 0.8444045570255638, 0.8447976049621742, 0.8482610878061023, 0.8458624645943135, 0.8438981212577534, 0.847121383241906, 0.8454030870173174, 0.8463249793840306, 0.8497714316446165, 0.847676669893514, 0.8456052131511957, 0.8441517873149045, 0.845709189344233, 0.8457607292675058, 0.8427830662220788, 0.8463706930551075, 0.848071062349862, 0.8435790219067083, 0.8458042020723531, 0.8453376537234234, 0.8456876770284321, 0.8462232440572227, 0.8452811838944462, 0.8427176329281848, 0.8465992614104908, 0.8438922950055573, 0.848689093255889, 0.845278943028217, 0.8506673299630705, 0.847560144849593, 0.8462357929081066, 0.8460372521601952, 0.8452601197518913, 0.8462523753182031, 0.8464872180990284, 0.8456755763507942, 0.8456182101753253, 0.8469896203076261, 0.8481418737227063, 0.8466485604675342, 0.8460305295615073, 0.8480836112007458, 0.8470070990642142, 0.8500112043311463, 0.8467444695421462, 0.8438667491305438, 0.8484506650890968, 0.8461371947940195, 0.847437793553476, 0.8437435014879352, 0.8442714495715464, 0.8462313111756481, 0.847593309669786, 0.8452197841597648, 0.8482153741350257, 0.8453914345129253, 0.8454053278835466, 0.8461004445878598, 0.8472746584919867, 0.8459104191316196, 0.8450028683087736, 0.8429493384962892, 0.8474965042486824, 0.8461708077874582, 0.8440159908214119, 0.8442355957118783, 0.844928919723208, 0.8465517550464308, 0.845054856405292, 0.8477564447312753, 0.84459503065505, 0.8477891613782224, 0.8446017532537377, 0.8454066724032842, 0.8461645333620164, 0.8471097307375139, 0.8471366211322651, 0.8476780144132516, 0.8478178444659568, 0.8457710372521603, 0.8466714173030727, 0.8487912767559428, 0.8444381700190025, 0.844388870961959, 0.8459910903158725, 0.8477672008891757, 0.8483417589903554, 0.8464428489476893, 0.8480329676239647, 0.8472782438779535, 0.847960811731383, 0.8475892761105733, 0.8448706572012478, 0.8442185651285361, 0.8456818507762361, 0.8481364956437561, 0.8486388978523538, 0.8452027535764225, 0.8501335556272632, 0.8475023305008784, 0.8467816679215517, 0.8469640744326126, 0.8482525725144312, 0.8445838263239038, 0.8439030511634578, 0.8459830231974472, 0.8450853321860099, 0.8484681438456849, 0.8485492632031838, 0.844472231185687, 0.8463007780287548, 0.8464527087590978, 0.8424137714674985, 0.846461224050769, 0.846649904987272, 0.8480015954967552, 0.8454057760567926, 0.8481987917249292, 0.8445833781506579, 0.8449571546376968, 0.8460260478290489, 0.8480356566634399, 0.8464087877810046, 0.8454891362805206, 0.8478989638234554, 0.8457885160087484, 0.8443633250869456, 0.8444641640672619, 0.8465409988885302, 0.8474790254920942, 0.8484766591373561, 0.8470191997418521, 0.8488302678283317, 0.8468901258470475, 0.8451516618263957, 0.8442974436198057, 0.8432460291850418, 0.8475041231938618, 0.8427503495751317, 0.8453712667168621, 0.8483856799684486, 0.8477344842422285, 0.8441746441504429, 0.8447214155103797, 0.8448433186332508, 0.8455308163923846, 0.8433087734394609, 0.8451745186619339, 0.8482046179771252, 0.847647090459288, 0.8456787135635151, 0.8446685310673694, 0.8475776236061812, 0.8451301495105948, 0.8480343121437023, 0.8440751496898641, 0.8464473306801477, 0.8444874690760461, 0.8446004087340003, 0.8455837008353949, 0.8470590871607329, 0.8440437775626546, 0.845455075113836, 0.8455218529274676, 0.8469322541321573, 0.8450916066114518, 0.8481096052490051, 0.8460578681295042, 0.8453439281488652, 0.8451843784733426, 0.8476538130579758, 0.8446407443261268, 0.8463187049585887, 0.848742874045391, 0.8481405292029687, 0.848456043168047, 0.8480374493564233, 0.8463671076691407, 0.8469120863360942, 0.8461923201032591, 0.8435306191961565, 0.8436135312466387, 0.8476125811193574, 0.8473374027464056, 0.8436534186655195, 0.8457885160087483, 0.84421273887634, 0.8473916317091534, 0.8459937793553476, 0.8473938725753827, 0.8457248754078377, 0.8473701193933527, 0.8453242085260477, 0.8465853680398696, 0.8456755763507942, 0.8463384245814063, 0.8435292746764189, 0.8451489727869206, 0.8468515829479044, 0.8483991251658242, 0.8491493671793768, 0.8451942382847514, 0.8459449284715499, 0.8458001685131404, 0.8447541321573268, 0.8494805672080599, 0.8451368721092827, 0.8502267756624001, 0.8463814492130077, 0.8452883546663799, 0.8430380767989675, 0.8442947545803307, 0.8457159119429206, 0.8483471370693054, 0.8443566024882578, 0.8451776558746549, 0.8434409845469865, 0.8463142232261303, 0.8469784159764798, 0.8485013086658779, 0.8491305439030512, 0.8459399985658457, 0.8496208454340108, 0.8440186798608871, 0.8497727761643541, 0.8488222007099064, 0.8460031909935105, 0.8448818615323941, 0.8464338854827722, 0.8455899752608369, 0.8454868954142913, 0.8482687067512817, 0.8467162346276578, 0.8481176723674304, 0.8484179484421498, 0.8479769459682335, 0.8449060628876699, 0.8449827005127102, 0.8473324728407015, 0.8433141515184109, 0.8443852855759924, 0.845849467570184, 0.8485201319422035, 0.8447828152450613, 0.8438860205801155, 0.847613925639095, 0.8457889641819942, 0.8471854720160625, 0.8484116740167079, 0.8462111433795848, 0.8456926069341366, 0.8445000179269297, 0.8459068337456528, 0.8453721630633537, 0.8465468251407264, 0.8439913412928902, 0.8454927216664874, 0.84635097343229, 0.8457929977412069, 0.8446353662471765, 0.8454833100283244, 0.8479406439353196, 0.8443991789466135, 0.8464500197196227, 0.8455765300634613, 0.8443229894948191, 0.8463532142985193, 0.8465275536911548, 0.8447200709906421, 0.8466113620881288, 0.8459615108816465, 0.8433284930622782, 0.8433867555842387, 0.8451332867233157, 0.8479025492094224, 0.845825714388154, 0.848413914882937, 0.8463953425836291, 0.849157882471048, 0.8482422645297765, 0.8456401706643721, 0.8467148901079202, 0.8436251837510307, 0.8422156788928328, 0.8465732673622317, 0.8435812627729375, 0.8417379262127569, 0.845485102721308, 0.8450315513965079, 0.8450508228460794, 0.8432644042881217, 0.8440738051701266, 0.844526460148435, 0.8454940661862249, 0.8469578000071708, 0.8492824746333942, 0.8469111899896024, 0.8463433544871105, 0.8482960453192786, 0.8461900792370298, 0.8454447671291815, 0.8480809221612707, 0.8460439747588827, 0.8468152809149905, 0.844744272345918, 0.8449921121508732, 0.8469385285575993, 0.8457329425262629, 0.84590280018644, 0.8468950557527518, 0.8470662579326665, 0.8456957441468573, 0.8437748736151447, 0.8478133627334983, 0.8438340324835969, 0.844735308881001, 0.848775590692338, 0.8444574414685742, 0.8452139579075687, 0.847010684450181, 0.8482485389552186, 0.8458373668925461, 0.8446627048151734, 0.8458427449714963, 0.8431133699042702, 0.8445036033128965, 0.8431711842529849, 0.8459561328026961, 0.8480800258147789, 0.8475256355096626, 0.8441966046394894, 0.8485510558961672, 0.8461371947940195, 0.8454976515721918, 0.8482606396328566, 0.8458821842171309, 0.8463953425836291, 0.8461492954716575, 0.8456379297981429, 0.8454223584668891, 0.8464513642393604, 0.84891900613101, 0.8457069484780038, 0.8463187049585887, 0.846721612706608, 0.8435037288014056, 0.8469206016277653, 0.8450427557276541, 0.8472374601125809, 0.8458812878706393, 0.8478460793804453, 0.8475879315908358, 0.8474691656806855, 0.8434468107991826, 0.8461757376931627, 0.8482238894266967, 0.8499090208310924, 0.8443749775913378, 0.8475099494460578, 0.8454626940590155, 0.8475018823276326, 0.8474870926105196, 0.84759286149654, 0.8461394356602487, 0.8469766232834965, 0.8446299881682262, 0.8458844250833603, 0.8487070201857231, 0.8464173030726757, 0.8457732781183893, 0.8471917464415045, 0.8456899178946613, 0.8475955505360152, 0.8448540747911513, 0.8462304148291565, 0.8450284141837868, 0.8441213115341867, 0.8448500412319386, 0.8473145459108673, 0.8471375174787567, 0.8428986949195081, 0.8450024201355276, 0.8480930228389086, 0.8494119967014448, 0.8430788605643398, 0.8464818400200781, 0.8471361729590191, 0.8432397547595999, 0.8460157398443943, 0.8438851242336238, 0.8483162131153419, 0.8454098096160051, 0.8496203972607651, 0.8446703237603529, 0.8491242694776093, 0.8439761034025313, 0.8448061202538455, 0.8456424115306013, 0.8442082571438816, 0.8489001828546844, 0.8473015488867377, 0.8473544333297479, 0.8467951131189272, 0.8473391954393892, 0.8470653615861747, 0.8491359219820014, 0.8454340109712811, 0.8453551324800115, 0.8479496074002366, 0.8456276218134883, 0.843753361299344, 0.846282402925675, 0.8492201785522212, 0.8476246817969955, 0.8476869778781685, 0.8458319888135958, 0.8494415761356711, 0.8458902513355562, 0.8452184396400273, 0.8484461833566384, 0.8473463662113226, 0.8461578107633286, 0.8450019719622819, 0.8480114553081639, 0.8447451686924098, 0.8450091427342153, 0.8451395611487578, 0.8441204151876951, 0.8464477788533935, 0.8476529167114841, 0.8465271055179091, 0.8473033415797211, 0.8459211752895199, 0.84623758560109, 0.845957029149188, 0.8459579254956796, 0.8445287010146643, 0.8478402531282493, 0.8438618192248396, 0.8455451579362518, 0.843149671937184, 0.846942562116812, 0.845589527087591, 0.8470178552221147, 0.8464527087590978, 0.8453103151554264, 0.8474754401061275, 0.8457410096446882, 0.8460049836864938, 0.8460184288838694, 0.8471254168011186, 0.8447801262055861, 0.8449208526047829, 0.8468659244917716, 0.8455720483310027, 0.8484596285540138, 0.8486841633501845, 0.8467704635904054, 0.8454649349252447, 0.846562959377577, 0.8486142483238321, 0.8505297407765947, 0.8460081208992148, 0.8452005127101933, 0.8437479832203937, 0.8474790254920943, 0.8454353554910187, 0.848049998207307, 0.8455778745831989, 0.8462676132085619, 0.8463321501559643, 0.8472491126169733, 0.8452654978308415, 0.8435346527553692, 0.8472513534832026, 0.8433437309526373, 0.8463025707217382, 0.8511934853536984, 0.8453887454734501, 0.8465660965902979, 0.8461483991251659, 0.8471352766125274, 0.8503827399519559, 0.8470998709261053, 0.8465992614104909, 0.8461219569036607, 0.8487558710695207, 0.8470039618514933, 0.8479652934638415, 0.8471106270840056, 0.8456061094976874, 0.8453112115019181, 0.846858305546592, 0.8463222903445556, 0.8444050051988097, 0.84414147933025, 0.8457163601161666, 0.8446528450037647, 0.8466265999784878, 0.8469609372198919, 0.8473365063999139, 0.8453833673945, 0.8443610842207163, 0.8458266107346455, 0.8427391452439855, 0.8445349754401061, 0.846303018894984, 0.8462478935857445, 0.8445551432361693, 0.8430878240292567, 0.8443010290057724, 0.8450360331289664, 0.8443722885518625, 0.8454470079954107, 0.8431030619196157, 0.8470093399304435, 0.8443153705496396, 0.8452153024273064, 0.8445475242909899, 0.8482669140582983, 0.8471590297945574, 0.8468538238141337, 0.8487056756659854, 0.8432886056433975, 0.8441302749991035, 0.8458521566096591, 0.8450414112079165, 0.8477232799110824, 0.8470416084041447, 0.8457168082894123, 0.8491269585170843, 0.8497759133770751, 0.844815980065254, 0.8463088451471801, 0.8478102255207772, 0.847121383241906, 0.8454989960919292, 0.8458409522785129, 0.8432877092969059, 0.8473499515972894, 0.8419669427413861, 0.8443229894948191, 0.8481329102577893, 0.8458785988311641, 0.8457634183069809, 0.844941468574092, 0.8444336882865441, 0.8459825750242014, 0.8464410562547058, 0.8430304578537879, 0.844783263418307, 0.8448711053744936, 0.8469237388404862, 0.8449056147144239, 0.8461071671865477, 0.846061453515471, 0.8423263776845576, 0.8459041447061776, 0.8471845756695708, 0.8494379907497043, 0.8462859883116417, 0.8499439783442687, 0.8457253235810834, 0.8477210390448532, 0.8441208633609408, 0.8417760209386541, 0.8452870101466423, 0.8464181994191675, 0.8439864113871858, 0.8427467641891649, 0.8481750385428992, 0.8453882973002044, 0.8451718296224588, 0.8464101323007421, 0.8450113836004446, 0.8429923631278906, 0.8459606145351546, 0.8435086587071097, 0.8418737227062494, 0.8480880929332043, 0.8426414434763903, 0.844630884514718, 0.8460058800329855, 0.846494388870962, 0.8429255853142591, 0.8469497328887455, 0.8446344699006848, 0.8429842960094653, 0.8465616148578394, 0.848546125990463, 0.8458579828618551, 0.8473638449679108, 0.8453336201642107, 0.8449697034885806, 0.8450387221684414, 0.8489333476748772, 0.8489687533612993, 0.8460645907281918, 0.845550536015202, 0.8469102936431107, 0.8466875515399233, 0.8478250152378904, 0.8451758631816715, 0.8446972141551039, 0.8460439747588828, 0.8475583521566097, 0.8441257932666452, 0.8461734968269333, 0.8474256928758381, 0.8480446201283568, 0.8449455021333048, 0.8474664766412106, 0.8467328170377542, 0.8452780466817253, 0.8474969524219281, 0.845332723817719, 0.8461564662435912, 0.8445815854576746, 0.845063819870209, 0.8452843211071672, 0.8464038578753003, 0.8476340934351584, 0.8476497794987632, 0.8489665124950703, 0.8437883188125201, 0.8472101215445843, 0.8442266322469614, 0.8433930300096804, 0.8473477107310601, 0.845470313004195, 0.8465396543687927, 0.8483372772578968, 0.8430246316015919, 0.8439998565845612, 0.8449705998350723, 0.8453013516905095, 0.8426772973360583, 0.8439841705209565, 0.8444395145387401, 0.8466234627657667, 0.8454662794449823, 0.845225162238715, 0.8448800688394107, 0.8468090064895486, 0.8467565702197841, 0.8466664873973684, 0.8488217525366606, 0.847390735362662, 0.8458521566096591, 0.8463814492130077, 0.8461555698970994, 0.8427373525510021, 0.8429462012835682, 0.8469250833602238, 0.8466835179807106, 0.8469174644150441, 0.8465701301495105, 0.8476596393101716, 0.8472334265533684, 0.8460341149474742, 0.8483704420780898, 0.8456607866336812, 0.8500403355921266, 0.8469761751102507, 0.8455568104406439, 0.8468860922878347, 0.8441392384640206, 0.846798698504894, 0.8431671506937721, 0.8447778853393567, 0.8448303216091212, 0.8444686457997204, 0.8453197267935894, 0.8484004696855616, 0.8443870782689757, 0.8477134200996737, 0.8444507188698863, 0.8432984654548061, 0.8443606360474705, 0.8474920225162239, 0.8448809651859024, 0.8457472840701301, 0.8454797246423578, 0.845846330357463, 0.8454765874296368, 0.8431151625972536, 0.8429506830160267, 0.846837241404037, 0.8498131117564807, 0.846028736868524, 0.8469896203076261, 0.8505969667634721, 0.8444067978917931, 0.8458539493026425, 0.8470653615861748, 0.845613728442867, 0.8460139471514108, 0.8473338173604388, 0.8431581872288552, 0.8468466530422, 0.8481889319135206, 0.8493989996773154, 0.8459731633860385, 0.8492174895127461, 0.8469882757878886, 0.8454640385787531, 0.8475233946434335, 0.8453121078484099, 0.8432285504284536, 0.8484188447886415, 0.8465584776451185, 0.8452717722562834, 0.8464365745222473, 0.8459292424079452, 0.8437264709045929, 0.8433267003692948, 0.8467830124412893, 0.8419203327238177, 0.8485528485891506, 0.849280681940411, 0.8455272310064178, 0.8463769674805492, 0.8458548456491342, 0.8478196371589402, 0.8464545014520812, 0.8463299092897351, 0.8459211752895199, 0.8471034563120721, 0.8453914345129252, 0.8456679574056147, 0.846533379943351, 0.8467050302965113, 0.8459525474167295, 0.8473441253450933, 0.8473678785271235, 0.8469232906672403, 0.8468784733426553, 0.8471706822989494, 0.8486483094905166, 0.8411163099207629, 0.844236940231616, 0.8455819081424115, 0.841477537556918, 0.8461389874870029, 0.8454653830984905, 0.8452135097343231, 0.8448388369007924, 0.8461860456778172, 0.8452197841597648, 0.8466404933491091, 0.8475534222509052, 0.844971496181564, 0.8464262665375928, 0.8480616507116991, 0.8466476641210428, 0.8458924922017855, 0.846123749596644, 0.8431819404108853, 0.8458983184539817, 0.8474122476784626, 0.8450073500412318, 0.8446452260585852, 0.8446689792406152, 0.8440747015166182, 0.8455496396687103, 0.845654960381485, 0.8451928937650137, 0.8478353232225448, 0.8449961457100856, 0.8430994765336488, 0.8477936431106808, 0.8471137642967266, 0.8457199455021333, 0.850274730199706, 0.8431411566455129, 0.8453721630633537, 0.8457347352192464, 0.8464262665375928, 0.8460932738159264, 0.8466548348929763, 0.8461712559607042, 0.8438201391129756, 0.8478913448782761, 0.8483708902513356, 0.846255064357678, 0.8485429887777419, 0.8425952816320678, 0.8443046143917393, 0.8438976730845076, 0.8476497794987631, 0.8467368505969668, 0.8454895844537665, 0.8465499623534474, 0.8461613961492954, 0.8471428955577068, 0.8469945502133304, 0.8470729805313543, 0.8460762432325841, 0.8447792298590944, 0.8477474812663582, 0.8494747409558641, 0.8469569036606792, 0.8457728299451436, 0.8439084292424079, 0.848757663762504, 0.8438927431788031, 0.8455375389910724, 0.8423227922985909, 0.8446891470366785, 0.843295776415331, 0.8458266107346455, 0.8471675450862286, 0.84738983901617, 0.8459032483596859, 0.8419270553225054, 0.847222670395468, 0.8485730163852139, 0.8469071564303898, 0.8438313434441217, 0.8454698648309491, 0.8452179914667814, 0.8461560180703452, 0.8459198307697824, 0.8451243232583987, 0.8444166577032018, 0.8463397691011438, 0.8438331361371052, 0.8446873543436951, 0.8457907568749776, 0.8437766663081281, 0.8467265426123122, 0.8459391022193539, 0.8483973324728407, 0.8470985264063676, 0.8437116811874799, 0.845261016098383, 0.8462138324190598, 0.8495383815567746, 0.847175164031408, 0.8480849557204834, 0.8444699903194579, 0.8445699329532824, 0.8422515327525009, 0.8450391703416873, 0.8456200028683087, 0.847682944318956, 0.8472307375138933, 0.8459875049299057, 0.8454859990677996, 0.8458378150657918, 0.8432540963034671, 0.8433701731741423, 0.8458252662149081, 0.8495760281094261, 0.8467408841561794, 0.847891793051522, 0.8470062027177225, 0.8445183930300098, 0.8445493169839733, 0.8473526406367646, 0.845759832921014, 0.8469694525115629, 0.8456298626797174, 0.8494478505611129, 0.8449038220214405, 0.8447886414972572, 0.8480854038937291, 0.8443337456527195, 0.8441504427951669, 0.8470994227528592, 0.8470214406080815, 0.84808854110645, 0.8432724714065469, 0.8485479186834461, 0.8476399196873543, 0.8443194041088523, 0.844090387580223, 0.8481562152665734, 0.846160051629558, 0.8449701516618264, 0.8467426768491628, 0.8493012979097201, 0.8491753612276363, 0.8486890932558889, 0.8487330142339822, 0.8475319099351046, 0.8482010325911584, 0.8458691871930014, 0.8450642680434549, 0.8483879208346778, 0.845750869456097, 0.8443453981571116, 0.8442369402316159, 0.847184127496325, 0.8432877092969058, 0.848641138718583, 0.8447769889928651, 0.8477860241655014, 0.8470590871607329, 0.8477622709834715, 0.8426840199347462, 0.84520409809616, 0.8474064214262665, 0.8458091319780574, 0.8447734036068983, 0.8464303000968054, 0.8442629342798752, 0.8417666093004914, 0.8491350256355097, 0.8492887490588361, 0.844409935104514, 0.8436964432971208, 0.846703237603528, 0.8430398694919508, 0.8462936072568212, 0.8483762683302857, 0.8446281954752428, 0.8443740812448461, 0.8471209350686602, 0.8428045785378795, 0.842696120612384, 0.8484578358610306, 0.8431124735577785, 0.8474221074898713, 0.8457163601161666, 0.8481938618192248, 0.8508690079237029, 0.8433204259438528, 0.8470702914918791, 0.8461143379584812, 0.846097307375139, 0.8483108350363917, 0.8447321716682802, 0.8484322899860172, 0.8442199096482736, 0.8496432540963035, 0.8424007744433688, 0.8477577892510129, 0.8442481445627623, 0.8447106593524794, 0.8466144993008498, 0.8452865619733965, 0.8465530995661683, 0.8465020078161414, 0.8451368721092827, 0.8450996737298769, 0.8462407228138109, 0.8435803664264456, 0.8451946864579971, 0.8475027786741243, 0.8427144957154638, 0.8470160625291312, 0.8454344591445269, 0.8466082248754079, 0.845428184719085, 0.8465952278512783, 0.8447586138897852, 0.847004858197985, 0.847154099888853, 0.8449661181026137, 0.8462411709870568, 0.8485089276110573, 0.8468300706321036, 0.8428628410598401, 0.845049030153096, 0.8444646122405077, 0.8469564554874334, 0.8473844609372199, 0.845234125703632, 0.8467700154171596, 0.8475977914022444, 0.8472791402244452, 0.8471917464415044, 0.8465862643863613, 0.8469860349216594, 0.8470492273493242, 0.8453349646839483, 0.8449432612670753, 0.8449916639776273, 0.8476000322684738, 0.8442127388763401, 0.8474395862464595, 0.8440496038148507, 0.8428310207593848, 0.8454384927037396, 0.8429134846366213, 0.8483977806460865, 0.8439720698433186, 0.847476784625865, 0.8465902979455737, 0.8476031694811946, 0.8465835753468861, 0.8457490767631137, 0.8443422609443907, 0.8442647269728586, 0.846765981857947, 0.8457584884012765, 0.8482991825319995, 0.8456200028683089, 0.8473311283209637, 0.8458642572872971, 0.847548492345201, 0.8463173604388512, 0.8438873650998531, 0.8472603169481194, 0.8452905955326092, 0.8466933777921193, 0.8449652217561221, 0.8487997920476139, 0.8453766447958122, 0.8451996163637016, 0.8459745079057762, 0.8455361944713348, 0.8419333297479474, 0.8477685454089132, 0.8440764942096017, 0.8446246100892763, 0.8455317127388764, 0.8472388046323187, 0.8458499157434298, 0.8465535477394142, 0.8455348499515973, 0.8479410921085655, 0.8483798537162526, 0.8470272668602776, 0.8471393101717399, 0.846730127998279, 0.8426911907066796, 0.8456966404933492, 0.8428260908536803, 0.8458382632390378, 0.8466660392241225, 0.8470761177440753, 0.8482727403104944, 0.8475695564877559, 0.8491982180631745, 0.8461519845111327, 0.8462447563730235, 0.8480692696568786, 0.8461228532501524, 0.8455151303287798, 0.8464769101143739, 0.8467722562833889, 0.8455617403463482, 0.8460130508049193, 0.8457307016600337, 0.8453031443834929, 0.8462268294431896, 0.8462635796493493, 0.8450198988921158, 0.8456061094976873, 0.8473593632354524, 0.8443274712272775, 0.8496396687103367, 0.8461757376931627, 0.8468394822702665, 0.8468296224588577, 0.8467408841561794, 0.8480311749309812, 0.8454295292388225, 0.843970725323581, 0.8473306801477178, 0.8463653149761572, 0.8450051091750027, 0.8456083503639167, 0.846822451686924, 0.8467144419346744, 0.8472898963823455, 0.8439631063784017, 0.847963500770858, 0.8468686135312467, 0.8450306550500161, 0.8447411351331972, 0.8446089240256713, 0.8459314832741744, 0.8468668208382633, 0.8471590297945574, 0.845332275644473, 0.8476547094044675, 0.8499462192104981, 0.845207235308881, 0.8461766340396544, 0.8480235559858019, 0.8453663368111577, 0.8451377684557743, 0.8443211968018357, 0.8469945502133305, 0.8481683159442115, 0.8479280950844358, 0.8412270087124879, 0.8451807930873758, 0.8466167401670789, 0.8494057222760031, 0.8472979635007708, 0.8469246351869779, 0.844642985192356, 0.8441006955648777, 0.8459875049299057, 0.8479361622028612, 0.8468524792943961, 0.8459117636513571, 0.8468466530422001, 0.8495625829120506, 0.8437457423541643, 0.8458414004517586, 0.8460309777347532, 0.845045892940375, 0.8458714280592305, 0.8449002366354739, 0.8496965867125597, 0.8471070416980387, 0.8443579470079955, 0.8442512817754833, 0.8491336811157721, 0.8459565809759421, 0.8455066150371088, 0.8470944928471552, 0.8459422394320749, 0.8465880570793445, 0.8499332221863684, 0.8441369975977914, 0.8483731311175648, 0.8451243232583987, 0.8487025384532647, 0.8461371947940196, 0.8458575346886092, 0.8472509053099565, 0.8464199921121509, 0.8467848051342726, 0.8461129934387436, 0.8428933168405578, 0.8449356423218961, 0.8474234520096088, 0.8458355741995627, 0.8463034670682299, 0.8463922053709081, 0.8466292890179629, 0.8472464235774981, 0.849758434620487, 0.8480697178301244, 0.8479025492094225, 0.8458127173640242, 0.8465759564017068, 0.8493842099602023, 0.8466378043096339, 0.8480661324441576, 0.8444144168369725, 0.8456473414363056, 0.8483171094618336, 0.8477380696281954, 0.8486908859488724, 0.8432962245885769, 0.8487141909576567, 0.8439079810691621, 0.8457903087017318, 0.8449661181026138, 0.8429345487791761, 0.8475731418737227, 0.8449701516618264, 0.8467785307088309, 0.8463693485353698, 0.8462707504212829, 0.8477837832992722, 0.8455648775590694, 0.8457912050482235, 0.8437412606217058, 0.844580240937937, 0.8435843999856585, 0.847180990283604, 0.8460175325373778, 0.8483919543938905, 0.8438824351941486, 0.8448088092933206, 0.8476721881610555, 0.8459767487720052, 0.8436386289484064, 0.8445340790936144, 0.8445641067010863, 0.8474324154745259, 0.8450060055214944, 0.8495437596357247, 0.8449786669534975, 0.8474772327991107, 0.8481656269047365, 0.8451615216378043, 0.84569977770607, 0.8461936646229966, 0.8483811982359901, 0.8445623140081029, 0.8482951489727869, 0.8433612097092253, 0.8467198200136246, 0.8461008927611058, 0.8435247929439604, 0.8476573984439424, 0.8449750815675308, 0.8473037897529669, 0.8498480692696568, 0.8494854971137643, 0.8471881610555377, 0.8451955828044888, 0.8443059589114769, 0.8462559607041698, 0.8448356996880715, 0.8426230683733105, 0.8479957692445592, 0.842964576386648, 0.8451005700763687, 0.8462487899322363, 0.8480163852138682, 0.8438219318059589, 0.8434266430031194, 0.8475399770535298, 0.8457199455021333, 0.8441831594421141, 0.8459982610878062, 0.8486151446703238, 0.8424258721451365, 0.8472146032770427, 0.846661557491664, 0.8461613961492955, 0.8443669104729126, 0.8435310673694023, 0.8474790254920943, 0.8492918862715573, 0.848949033738482, 0.8479348176831235, 0.8415577605679252, 0.8487625936682084, 0.848220752213976, 0.8474543759635724, 0.8468385859237748, 0.8467386432899502, 0.8465584776451185, 0.8461197160374315, 0.8475646265820516, 0.8482355419310889, 0.8462084543401098, 0.8438049012226168, 0.8458180954429744, 0.8477308988562618, 0.8452094761751103, 0.8429932594743824, 0.8493098132013911, 0.8459135563443405, 0.848751837510308, 0.8455554659209064, 0.8435754365207416, 0.8460910329496969, 0.8455052705173712, 0.8478218780251694, 0.8456307590262093, 0.8459722670395468, 0.8473351618801763, 0.8448110501595497, 0.8466180846868164, 0.85029265712954, 0.846449571546377, 0.840211448137392, 0.8465042486823708, 0.8463644186296655, 0.8456213473880464, 0.845896973934244, 0.8473979061345953, 0.8456500304757807, 0.8480186260800976, 0.8458821842171309, 0.8450508228460794, 0.8480011473235095, 0.8487200172098527, 0.8448957549030152, 0.8475749345667061, 0.8459023520131942, 0.8479388512423363, 0.8460368039869491, 0.8444619232010325, 0.8463913090244165, 0.8445537987164318, 0.8459520992434836, 0.8403951991681905, 0.8506431286077947, 0.8439949266788569, 0.8460327704277365, 0.8447742999533899, 0.8426943279194006, 0.84488768778459, 0.8487616973217167, 0.8453363092036859, 0.8445972715212793, 0.8453811265282707, 0.8465486178337099, 0.8484959305869276, 0.8451247714316446, 0.846532931770105, 0.8469591445269082, 0.8431268151016457, 0.8464916998314869, 0.8460928256426804, 0.8438887096195906, 0.8474086622924957, 0.8447025922340539, 0.8445044996593882, 0.8457849306227816, 0.8451005700763687, 0.8432298949481911, 0.8439559356064681, 0.8461914237567675, 0.845888010469327, 0.8446272991287511, 0.8440115090889534, 0.8466817252877272, 0.8450373776487038, 0.8470075472374601, 0.8464840808863074, 0.8453950198988922, 0.8477958839769101, 0.84691253450934, 0.845960166361909, 0.845951202896992, 0.8493774873615144, 0.8479258542182067, 0.8506256498512066, 0.8474176257574128, 0.8440854576745187, 0.8459754042522677, 0.8457194973288875, 0.8476264744899789, 0.845377092969058, 0.8475888279373274, 0.8466817252877272, 0.84596868165358, 0.8440513965078341, 0.8482548133806603, 0.8456451005700765, 0.8459525474167293, 0.8452793912014629, 0.8468569610268545, 0.8482911154135744, 0.8450485819798501, 0.845419221254168, 0.8468744397834427, 0.8451104298877775, 0.8442158760890608, 0.8468255888996451, 0.8481261876591015, 0.8445287010146643, 0.843391685489943, 0.8463339428489478, 0.8459673371338425, 0.8420538883510811, 0.8461721523071959, 0.8464231293248717, 0.8461492954716574, 0.8488360940805277, 0.8422094044673909, 0.8471854720160625, 0.8476901150908897, 0.8442181169552903, 0.8461192678641856, 0.8450328959162454, 0.8458324369868416, 0.8469201534545194, 0.8466360116166507, 0.8428520849019397, 0.8464930443512244, 0.8457123265569539, 0.8457423541644257, 0.8454053278835467, 0.8462402746405651, 0.8435198630382561, 0.8429475458033058, 0.8455303682191387, 0.8479617080778745, 0.8469398730773366, 0.8469766232834963, 0.8456303108529633, 0.8515578502025742, 0.8479276469111899, 0.8472782438779535, 0.845840055932021, 0.8456240364275214, 0.848769764440142, 0.8467552257000466, 0.8462080061668639, 0.8444112796242514, 0.8443915600014341, 0.846580886307411, 0.8448643827758058, 0.8465203829192214, 0.8450302068767702, 0.8438461331612348, 0.8456948478003656, 0.8453649922914201, 0.8490642142626654, 0.8457768635043563, 0.845093847477681, 0.8450777132408305, 0.8488746369796709, 0.8459144526908321, 0.8470958373668925, 0.8481916209529955, 0.8442481445627623, 0.8474727510666523, 0.846094170162418, 0.8469206016277653, 0.844902477501703, 0.8444592341615574, 0.8456029722849665, 0.8469277723996989, 0.8439371123301425, 0.8464168548994299, 0.8467117528951993, 0.8437130257072174, 0.8447142447384461, 0.8457051557850203, 0.8458145100570076, 0.846315119572622, 0.8449338496289125, 0.8469412175970743, 0.8475337026280879, 0.8481866910472913, 0.8481261876591015, 0.8467668782044387, 0.8446214728765552, 0.8429533720555017, 0.8463406654476354, 0.843976551575777, 0.8479254060449608, 0.8460923774694346, 0.8441405829837583, 0.8453224158330644, 0.8450122799469364, 0.847052364562045, 0.847067602452404, 0.8467668782044387, 0.8471653042199991, 0.8446573267362232, 0.8445228747624682, 0.847807984654548, 0.8475050195403535, 0.8474135921982002, 0.8459830231974472, 0.8454541787673442, 0.8429336524326845, 0.8478729697751963, 0.8478756588146714, 0.8435758846939873, 0.8485398515650209, 0.8474593058692769, 0.8452175432935356, 0.844828080742892, 0.8504427951668997, 0.8463550069915027, 0.8481181205406763, 0.8471352766125274, 0.8449114409666201, 0.8468834032483596, 0.8432437883188126, 0.8439357678104049, 0.8458261625613996, 0.8453546843067656, 0.8464146140332005, 0.8465051450288624, 0.8446662902011401, 0.8468762324764261, 0.8459798859847263, 0.8494093076619699, 0.8511939335269442, 0.8460000537807896, 0.8466682800903518, 0.8471881610555377, 0.8461793230791295, 0.8463648668029113, 0.8457791043705856, 0.8472428381915315, 0.8448670718152809, 0.8444027643325803, 0.8438618192248395, 0.8457732781183895, 0.8444749202251622, 0.846315119572622, 0.8439120146283747, 0.846234448388369, 0.8447993976551575, 0.8426383062636693, 0.8434566706105913, 0.8442808612097092, 0.8459005593202109, 0.8442969954465599, 0.845706052131512, 0.8478093291742856, 0.845517819368255, 0.8444995697536839, 0.8466333225771754, 0.8450853321860098, 0.8470389193646695, 0.8476157183320785, 0.847246871750744, 0.8443301602667527, 0.8480697178301244, 0.8445201857229931, 0.8422161270660786, 0.8459234161557492, 0.8469542146212041, 0.8434642895557707, 0.8454129468287261, 0.8469923093471012, 0.8464925961779786, 0.8448495930586928, 0.8462783693664623, 0.846431196443297, 0.845398605284859, 0.8437282635975764, 0.8453909863396796, 0.8455859417016242, 0.8448715535477395, 0.846774497149618, 0.8484031587250367, 0.8439882040801692, 0.8472177404897638, 0.8472110178910759, 0.8476421605535837, 0.8468273815926285, 0.847939747588828, 0.842716736581693, 0.844935642321896, 0.8478402531282494, 0.8467247499193288, 0.8453004553440178, 0.8463957907568749, 0.8485792908106558, 0.8461838048115881, 0.8469192571080277, 0.8410100928614965, 0.8485447814707253, 0.8431093363450576, 0.8454299774120684, 0.848578394464164, 0.8469071564303897, 0.8478424939944784, 0.8445157039905347, 0.846368900362124, 0.8481234986196264, 0.84446326772077, 0.8463325983292102, 0.8482521243411854, 0.8451301495105948, 0.8473051342727045, 0.8471980208669463, 0.8449611881969095, 0.8461466064321824, 0.8454124986554803, 0.8498915420745043, 0.8490839338854828, 0.8466611093184182, 0.8473163386038507, 0.848095263705138, 0.8468157290882363, 0.8479285432576817, 0.8474839553977986, 0.8469044673909146, 0.8458351260263168, 0.8457499731096053, 0.8494030332365279, 0.8455402280305473, 0.8481665232512279, 0.8475579039833636, 0.849059732530207, 0.8466328744039295, 0.8447209673371339, 0.8471307948800688, 0.8469367358646158, 0.8486769925782511, 0.8462658205155785, 0.8464477788533936, 0.8473867018034491, 0.8413834211752895, 0.846915671722061, 0.8463760711340576, 0.8454994442651751, 0.8458723244057222, 0.849620845434011, 0.8469188089347818, 0.8458091319780575, 0.847241045498548, 0.8459996056075437, 0.8450297587035245, 0.8459516510702377, 0.8462577533971531, 0.8472316338603852, 0.8449320569359291, 0.8477053529812484, 0.8446053386397046, 0.8449047183679322, 0.8480114553081639, 0.846123749596644, 0.84387257538274, 0.8465159011867628, 0.8483045606109497, 0.8450727833351259, 0.844609820372163, 0.8486205227492739, 0.8451503173066581, 0.8455043741708794, 0.8464361263490016, 0.8439998565845613, 0.8455980423792622, 0.8490543544512568, 0.846037700333441, 0.8422295722634541, 0.8466624538381555, 0.8476923559571188, 0.8484511132623427, 0.844815980065254, 0.8494599512387508, 0.8466153956473415, 0.845458212326557, 0.8479989064572802, 0.8453569251729949, 0.846664246531139, 0.8429538202287475, 0.8439285970384712, 0.8487621454949625, 0.8475637302355598, 0.8473974579613496, 0.8479782904879709, 0.844582929977412, 0.8496365314976158, 0.843341041913162, 0.8468206589939408, 0.8461506399913951, 0.8467323688645083, 0.8490843820587286, 0.8476999749022982, 0.8466790362482521, 0.8464818400200782, 0.8490933455236458, 0.8473423326521099, 0.8463317019827183, 0.8422053709081782, 0.847467821160948, 0.846136298447528, 0.8470277150335233, 0.8462474454124986, 0.8442100498368651, 0.8466194292065541, 0.8468237962066618, 0.8456935032806281, 0.8467462622351295, 0.8465575812986268, 0.8488741888064252, 0.8464657057832276, 0.8452067871356351, 0.849298160696999, 0.8467485031013589, 0.8438322397906135, 0.8460834140045175, 0.8457943422609445, 0.8478106736940232, 0.8486720626725468, 0.8473656376608941, 0.8447931232297158, 0.8457898605284859, 0.8459928830088559, 0.8441880893478183, 0.846553547739414, 0.8470765659173211, 0.8429399268581262, 0.8487957584884013, 0.8438824351941485, 0.8454169803879388, 0.8495388297300204, 0.8457217381951168, 0.8466678319171058, 0.8480293822379978, 0.845389193646696, 0.8463859309454663, 0.8421063246208453, 0.8490749704205658, 0.8457670036929474, 0.8456746800043025, 0.8477748198343552, 0.8459973647413144, 0.8469716933777922, 0.8476869778781686, 0.8424361801297909, 0.8468565128536087, 0.8455272310064179, 0.8416003370262809, 0.8476645692158761, 0.8464249220178552, 0.8440742533433724, 0.8476721881610556, 0.8456258291205048, 0.8455617403463482, 0.8465992614104907, 0.8467144419346742, 0.8459162453838156, 0.8455079595568463, 0.8462841956186582, 0.8489521709512029, 0.8493824172672189, 0.8440415366964253, 0.8445838263239037, 0.8486707181528093, 0.8480414829156359, 0.8466015022767202, 0.8467785307088309, 0.8461515363378868, 0.8479164425800437, 0.8472746584919866, 0.8451337348965615, 0.8478129145602524, 0.8475852425513607, 0.8449638772363846, 0.847530565415367, 0.8477810942597972, 0.8458615682478218, 0.8459512028969919, 0.8469546627944498, 0.8472885518626081, 0.8477524111720627, 0.8464715320354237, 0.847488437130257, 0.8468910221935392, 0.843711233014234, 0.8483032160912123, 0.846216521458535, 0.8477766125273387, 0.8455693592915278, 0.844341364597899, 0.8469219461475027, 0.849578717148901, 0.8466144993008499, 0.8456271736402423, 0.847924061525223, 0.8424110824280233, 0.8448921695170486, 0.848274084830232, 0.8451642106772794, 0.8483399662973719, 0.8467888386934853, 0.846180667598867, 0.844173747803951, 0.8472612132946112, 0.8467404359829336, 0.8463115341866554, 0.8466118102613747, 0.8464199921121509, 0.8476179591983077, 0.8430439030511635, 0.8441361012512996, 0.8468224516869242, 0.8459283460614535, 0.8469340468251406, 0.8444955361944713, 0.8476847370119392, 0.8457625219604892, 0.8477734753146176, 0.8469936538668388, 0.8472446308845146, 0.8485165465562368, 0.847972016062529, 0.8462008353949302, 0.8464769101143739, 0.8416774228245669, 0.8479899429923631, 0.8448123946792873, 0.8479894948191173, 0.8479056864221434, 0.8462259330966979, 0.8465683374565274, 0.846524416478434, 0.8449100964468825, 0.8446169911440966, 0.8479021010361766, 0.8473114086981464, 0.8468170736079739, 0.848318902154817, 0.8468856441145889, 0.8493842099602023, 0.8446169911440965, 0.8469026746979311, 0.8457468358968843, 0.8459337241404038, 0.84565227134201, 0.8490534581047651, 0.8460426302391453, 0.8432424437990751, 0.8476668100821053, 0.8447043849270374, 0.8464948370442078, 0.844395145387401, 0.8460184288838694, 0.8460385966799325, 0.8479661898103331, 0.848479796350077, 0.8480307267577355, 0.8462407228138109, 0.8478330823563156, 0.848121705926643, 0.8457078448244955, 0.845960166361909, 0.8453228640063103, 0.8456926069341364, 0.8455724965042487, 0.847494263382453, 0.8473382990928975, 0.845422358466889, 0.8463760711340576, 0.8461031336273349, 0.8436847907927288, 0.845664372019648, 0.8448110501595496, 0.84869223046861, 0.8482158223082714, 0.846345147180094, 0.8479487110537449, 0.8451597289448208, 0.8455653257323151, 0.8454219102936431, 0.8488885303502923, 0.8449764260872684, 0.8477022157685274, 0.847957226345416, 0.8481149833279553, 0.847551181384676, 0.8483838872754652, 0.8454783801226202, 0.8462447563730235, 0.8479209243125021, 0.8463563515112401, 0.8440505001613423, 0.8457307016600337, 0.8483224875407838, 0.8407801799863757, 0.8471222795883977, 0.8490991717758416, 0.847145136423936, 0.8477084901939693, 0.84756910831451, 0.8448065684270911, 0.8477053529812484, 0.8473867018034491, 0.8460278405220323, 0.8459798859847263, 0.8451884120325553, 0.8458929403750314, 0.8437475350471478, 0.8501219031228712, 0.845565325732315, 0.8474481015381307, 0.8455016851314043, 0.8483018715714745, 0.844577103725216, 0.8442898246746262, 0.8458149582302534, 0.8462958481230505, 0.8460188770571152, 0.8444408590584775, 0.8477241762575741, 0.8443763221110752, 0.8486420350650747, 0.8460744505396005, 0.847303341579721, 0.844000752931053, 0.8459740597325303, 0.842128733283138, 0.8430923057617152, 0.8486796816177261, 0.8421560718511348, 0.8476932523036105, 0.8450454447671292, 0.8471863683625542, 0.8443713922053708, 0.8447881933240113, 0.8465566849521351, 0.8467036857767739, 0.8452318848374027, 0.8455200602344843, 0.8473441253450935, 0.8480307267577355, 0.8491126169732172, 0.8472388046323187, 0.8469282205729447, 0.8461362984475278, 0.8467108565487075, 0.8483888171811695, 0.8419597719694525, 0.8477506184790794, 0.846195905489226, 0.8456159693090961, 0.84738983901617, 0.846583575346886, 0.8468426194829873, 0.8452412964755656, 0.8428462586497437, 0.8461116489190061, 0.8451400093220034, 0.8451046036355814, 0.8459292424079452, 0.8447599584095229, 0.8450293105302785, 0.8466041913161951, 0.8473176831235885, 0.8434459144526909, 0.8427633465992614, 0.8473831164174823, 0.8455187157147467, 0.8441697142447385, 0.8464419526011975, 0.8466490086407802, 0.8471787494173749, 0.8468067656233194, 0.8471227277616435, 0.8464432971209351, 0.8455160266752715, 0.8488813595783586, 0.8464016170090711, 0.8439787924420064, 0.8470980782331218, 0.8443790111505504, 0.8426562331935035, 0.8443252303610483, 0.8488679143809831, 0.8475332544548422, 0.8467978021584024, 0.847378186511778, 0.8487119500914273, 0.8449827005127102, 0.842821609121222, 0.8471469291169195, 0.8445304937076477, 0.8447303789752967]\n"
     ]
    }
   ],
   "source": [
    "t_49 = auc_bootstrap\n",
    "print(t_49)"
   ]
  },
  {
   "cell_type": "code",
   "execution_count": 77,
   "id": "4fad734a",
   "metadata": {},
   "outputs": [],
   "source": [
    "del X_train, X_test, y_train, y_test, X_val, y_val,study, optuna_auc"
   ]
  },
  {
   "cell_type": "code",
   "execution_count": 78,
   "id": "9e05515e",
   "metadata": {},
   "outputs": [],
   "source": [
    "# 50\n",
    "column_to_drop_49 = '현재 주택의 면적(㎡)'"
   ]
  },
  {
   "cell_type": "code",
   "execution_count": 79,
   "id": "869dae9d",
   "metadata": {},
   "outputs": [
    {
     "name": "stdout",
     "output_type": "stream",
     "text": [
      "(10564, 30)\n"
     ]
    }
   ],
   "source": [
    "if not column_to_drop_49.startswith('Cat_'):\n",
    "    comp_50 = comp_49.drop(column_to_drop_49, axis=1)\n",
    "    X_50 = comp_50.drop('target', axis=1)\n",
    "    y_50 = comp_50['target']\n",
    "else:\n",
    "    comp_50 = comp_49.drop(comp_49.filter(regex='^' + column_to_drop_49).columns, axis=1)\n",
    "    X_50 = comp_50.drop('target', axis=1)\n",
    "    y_50 = comp_50['target']\n",
    "\n",
    "print(X_50.shape)"
   ]
  },
  {
   "cell_type": "code",
   "execution_count": 80,
   "id": "7d777fa9",
   "metadata": {},
   "outputs": [],
   "source": [
    "X_train, X_test, y_train, y_test = train_test_split(X_50, y_50, test_size=0.2, shuffle=True, stratify=y_50, random_state = 0)\n",
    "X_train, X_val, y_train, y_val = train_test_split(X_train, y_train, test_size=0.2, shuffle=True, stratify=y_train, random_state = 0)"
   ]
  },
  {
   "cell_type": "code",
   "execution_count": 81,
   "id": "d59ea5da",
   "metadata": {},
   "outputs": [],
   "source": [
    "def objective(trial):\n",
    "    params = {\n",
    "        'learning_rate' :trial.suggest_float('learning_rate',0.01, 0.1,step=0.01),        \n",
    "        'n_estimators' :trial.suggest_int('n_estimators', 50, 200),\n",
    "        'subsample':trial.suggest_float('subsample', 0.1, 1.0,step=0.1),\n",
    "        'max_depth' :trial.suggest_int('max_depth', 1, 10),\n",
    "        'min_samples_split' :trial.suggest_int('min_samples_split', 3, 10),\n",
    "        'min_samples_leaf' :trial.suggest_int('min_samples_leaf', 3, 10),\n",
    "        }\n",
    "        \n",
    "    clf = GradientBoostingClassifier(**params,random_state = 0)\n",
    "    clf.fit(X_train, y_train)\n",
    "    clf_proba = clf.predict_proba(X_val)[:, 1]\n",
    "        \n",
    "    AUC_SCORE = roc_auc_score(y_val, clf_proba)\n",
    "    return AUC_SCORE\n",
    "\n",
    "direction = \"maximize\"\n",
    "sampler = optuna.samplers.TPESampler(seed=10)\n",
    "study =  optuna.create_study(direction=direction, sampler=sampler, pruner=optuna.pruners.HyperbandPruner())\n",
    "early_stopping = EarlyStoppingCallback(10, direction=direction)\n",
    "study.optimize(objective, callbacks=[early_stopping], n_trials=200) "
   ]
  },
  {
   "cell_type": "code",
   "execution_count": 82,
   "id": "e7f00886",
   "metadata": {},
   "outputs": [
    {
     "name": "stdout",
     "output_type": "stream",
     "text": [
      "{'learning_rate': 0.09999999999999999, 'n_estimators': 157, 'subsample': 0.6, 'max_depth': 2, 'min_samples_split': 5, 'min_samples_leaf': 8}\n",
      "0.8419362152357921\n"
     ]
    }
   ],
   "source": [
    "print(study.best_trial.params)\n",
    "optuna_auc = study.best_trial.value\n",
    "print(optuna_auc)"
   ]
  },
  {
   "cell_type": "code",
   "execution_count": 83,
   "id": "14d06629",
   "metadata": {},
   "outputs": [
    {
     "data": {
      "text/html": [
       "<style>#sk-container-id-6 {color: black;}#sk-container-id-6 pre{padding: 0;}#sk-container-id-6 div.sk-toggleable {background-color: white;}#sk-container-id-6 label.sk-toggleable__label {cursor: pointer;display: block;width: 100%;margin-bottom: 0;padding: 0.3em;box-sizing: border-box;text-align: center;}#sk-container-id-6 label.sk-toggleable__label-arrow:before {content: \"▸\";float: left;margin-right: 0.25em;color: #696969;}#sk-container-id-6 label.sk-toggleable__label-arrow:hover:before {color: black;}#sk-container-id-6 div.sk-estimator:hover label.sk-toggleable__label-arrow:before {color: black;}#sk-container-id-6 div.sk-toggleable__content {max-height: 0;max-width: 0;overflow: hidden;text-align: left;background-color: #f0f8ff;}#sk-container-id-6 div.sk-toggleable__content pre {margin: 0.2em;color: black;border-radius: 0.25em;background-color: #f0f8ff;}#sk-container-id-6 input.sk-toggleable__control:checked~div.sk-toggleable__content {max-height: 200px;max-width: 100%;overflow: auto;}#sk-container-id-6 input.sk-toggleable__control:checked~label.sk-toggleable__label-arrow:before {content: \"▾\";}#sk-container-id-6 div.sk-estimator input.sk-toggleable__control:checked~label.sk-toggleable__label {background-color: #d4ebff;}#sk-container-id-6 div.sk-label input.sk-toggleable__control:checked~label.sk-toggleable__label {background-color: #d4ebff;}#sk-container-id-6 input.sk-hidden--visually {border: 0;clip: rect(1px 1px 1px 1px);clip: rect(1px, 1px, 1px, 1px);height: 1px;margin: -1px;overflow: hidden;padding: 0;position: absolute;width: 1px;}#sk-container-id-6 div.sk-estimator {font-family: monospace;background-color: #f0f8ff;border: 1px dotted black;border-radius: 0.25em;box-sizing: border-box;margin-bottom: 0.5em;}#sk-container-id-6 div.sk-estimator:hover {background-color: #d4ebff;}#sk-container-id-6 div.sk-parallel-item::after {content: \"\";width: 100%;border-bottom: 1px solid gray;flex-grow: 1;}#sk-container-id-6 div.sk-label:hover label.sk-toggleable__label {background-color: #d4ebff;}#sk-container-id-6 div.sk-serial::before {content: \"\";position: absolute;border-left: 1px solid gray;box-sizing: border-box;top: 0;bottom: 0;left: 50%;z-index: 0;}#sk-container-id-6 div.sk-serial {display: flex;flex-direction: column;align-items: center;background-color: white;padding-right: 0.2em;padding-left: 0.2em;position: relative;}#sk-container-id-6 div.sk-item {position: relative;z-index: 1;}#sk-container-id-6 div.sk-parallel {display: flex;align-items: stretch;justify-content: center;background-color: white;position: relative;}#sk-container-id-6 div.sk-item::before, #sk-container-id-6 div.sk-parallel-item::before {content: \"\";position: absolute;border-left: 1px solid gray;box-sizing: border-box;top: 0;bottom: 0;left: 50%;z-index: -1;}#sk-container-id-6 div.sk-parallel-item {display: flex;flex-direction: column;z-index: 1;position: relative;background-color: white;}#sk-container-id-6 div.sk-parallel-item:first-child::after {align-self: flex-end;width: 50%;}#sk-container-id-6 div.sk-parallel-item:last-child::after {align-self: flex-start;width: 50%;}#sk-container-id-6 div.sk-parallel-item:only-child::after {width: 0;}#sk-container-id-6 div.sk-dashed-wrapped {border: 1px dashed gray;margin: 0 0.4em 0.5em 0.4em;box-sizing: border-box;padding-bottom: 0.4em;background-color: white;}#sk-container-id-6 div.sk-label label {font-family: monospace;font-weight: bold;display: inline-block;line-height: 1.2em;}#sk-container-id-6 div.sk-label-container {text-align: center;}#sk-container-id-6 div.sk-container {/* jupyter's `normalize.less` sets `[hidden] { display: none; }` but bootstrap.min.css set `[hidden] { display: none !important; }` so we also need the `!important` here to be able to override the default hidden behavior on the sphinx rendered scikit-learn.org. See: https://github.com/scikit-learn/scikit-learn/issues/21755 */display: inline-block !important;position: relative;}#sk-container-id-6 div.sk-text-repr-fallback {display: none;}</style><div id=\"sk-container-id-6\" class=\"sk-top-container\"><div class=\"sk-text-repr-fallback\"><pre>GradientBoostingClassifier(learning_rate=0.09999999999999999, max_depth=2,\n",
       "                           min_samples_leaf=8, min_samples_split=5,\n",
       "                           n_estimators=157, random_state=0, subsample=0.6)</pre><b>In a Jupyter environment, please rerun this cell to show the HTML representation or trust the notebook. <br />On GitHub, the HTML representation is unable to render, please try loading this page with nbviewer.org.</b></div><div class=\"sk-container\" hidden><div class=\"sk-item\"><div class=\"sk-estimator sk-toggleable\"><input class=\"sk-toggleable__control sk-hidden--visually\" id=\"sk-estimator-id-6\" type=\"checkbox\" checked><label for=\"sk-estimator-id-6\" class=\"sk-toggleable__label sk-toggleable__label-arrow\">GradientBoostingClassifier</label><div class=\"sk-toggleable__content\"><pre>GradientBoostingClassifier(learning_rate=0.09999999999999999, max_depth=2,\n",
       "                           min_samples_leaf=8, min_samples_split=5,\n",
       "                           n_estimators=157, random_state=0, subsample=0.6)</pre></div></div></div></div></div>"
      ],
      "text/plain": [
       "GradientBoostingClassifier(learning_rate=0.09999999999999999, max_depth=2,\n",
       "                           min_samples_leaf=8, min_samples_split=5,\n",
       "                           n_estimators=157, random_state=0, subsample=0.6)"
      ]
     },
     "execution_count": 83,
     "metadata": {},
     "output_type": "execute_result"
    }
   ],
   "source": [
    "optuna_50 = GradientBoostingClassifier(**study.best_trial.params, random_state = 0)\n",
    "optuna_50.fit(X_train, y_train)"
   ]
  },
  {
   "cell_type": "code",
   "execution_count": 84,
   "id": "293021a9",
   "metadata": {},
   "outputs": [
    {
     "name": "stdout",
     "output_type": "stream",
     "text": [
      "0.848775590692338\n"
     ]
    }
   ],
   "source": [
    "optuna_proba_50 = optuna_50.predict_proba(X_test)[:, 1]\n",
    "auc_50 = roc_auc_score(y_test, optuna_proba_50)\n",
    "print(auc_50)"
   ]
  },
  {
   "cell_type": "code",
   "execution_count": 85,
   "id": "f6e8ced5",
   "metadata": {},
   "outputs": [],
   "source": [
    "X_train = X_train.values\n",
    "y_train = y_train.values"
   ]
  },
  {
   "cell_type": "code",
   "execution_count": 86,
   "id": "92993202",
   "metadata": {},
   "outputs": [],
   "source": [
    "auc_bootstrap = []"
   ]
  },
  {
   "cell_type": "code",
   "execution_count": 87,
   "id": "876175fd",
   "metadata": {},
   "outputs": [
    {
     "data": {
      "text/plain": [
       "array([0.84233033, 0.84901187])"
      ]
     },
     "execution_count": 87,
     "metadata": {},
     "output_type": "execute_result"
    }
   ],
   "source": [
    "rs = RandomState(seed = 50)\n",
    "bootstrap_auc(optuna_50, X_train, y_train, X_test, y_test, nsamples=2000)"
   ]
  },
  {
   "cell_type": "code",
   "execution_count": 88,
   "id": "56edbd2e",
   "metadata": {},
   "outputs": [
    {
     "data": {
      "text/plain": [
       "0.8458492134559535"
      ]
     },
     "execution_count": 88,
     "metadata": {},
     "output_type": "execute_result"
    }
   ],
   "source": [
    "np.mean(auc_bootstrap)"
   ]
  },
  {
   "cell_type": "code",
   "execution_count": 89,
   "id": "79f3cfbf",
   "metadata": {},
   "outputs": [
    {
     "name": "stdout",
     "output_type": "stream",
     "text": [
      "[0.8460457674518662, 0.843726470904593, 0.8480266931985228, 0.8467050302965115, 0.8448486967122011, 0.8446900433831702, 0.8446627048151734, 0.8465938833315407, 0.8474978487684199, 0.8433907891434513, 0.8436404216413897, 0.8470281632067692, 0.8456504786490266, 0.8488298196550859, 0.8458974221074897, 0.8468551683338711, 0.8461739450001793, 0.8437811480405866, 0.8458499157434297, 0.8461959054892261, 0.8447819188985695, 0.8470935965006633, 0.8456473414363057, 0.8501039761930372, 0.8452699795633001, 0.8464486751998852, 0.8466185328600624, 0.8458042020723533, 0.8491977698899287, 0.8450893657452225, 0.8500040335592127, 0.8452681868703165, 0.8419073356996881, 0.8469972392528056, 0.8455662220788067, 0.8472213258757306, 0.8456805062564985, 0.8450718869886342, 0.8449015811552114, 0.8473351618801764, 0.8477134200996738, 0.8493653866838766, 0.8447545803305727, 0.8454062242300384, 0.8458207844824495, 0.8475417697465133, 0.8449020293284573, 0.8479124090208312, 0.8456926069341364, 0.8466207737262916, 0.8447232082033631, 0.8462510307984654, 0.8475847943781148, 0.845419221254168, 0.8442978917930516, 0.8453152450611308, 0.8451126707540066, 0.8468995374852103, 0.8461380911405114, 0.8446232655695385, 0.8445246674554515, 0.8451095335412857, 0.8435597504571367, 0.8469102936431108, 0.8426409953031444, 0.8466010541034743, 0.8474270373955756, 0.8441683697250008, 0.8434105087662688, 0.8446196801835718, 0.8453676813308952, 0.844180022229393, 0.8469757269370048, 0.8448522820981678, 0.845413395001972, 0.8511791438098311, 0.844069771610914, 0.8455447097630061, 0.8439245634792586, 0.8452856656269048, 0.8453721630633537, 0.8430546592090639, 0.8469963429063139, 0.8453367573769317, 0.8475534222509054, 0.8457791043705856, 0.8482315083718762, 0.8455366426445807, 0.8424581406188376, 0.8464661539564735, 0.8437045104155462, 0.8456827471227278, 0.8490525617582734, 0.8463043634147216, 0.8417984296009466, 0.8446349180739307, 0.8450145208131656, 0.8444462371374278, 0.8470326449392278, 0.8440133017819369, 0.8429130364633752, 0.843385859237747, 0.843024631601592, 0.8442355957118783, 0.8436471442400775, 0.8483708902513356, 0.8479074791151266, 0.8441836076153599, 0.845234125703632, 0.8463648668029115, 0.8451426983614786, 0.8450705424688968, 0.8436794127137786, 0.8450006274425441, 0.8448773797999355, 0.8459314832741744, 0.84331101430569, 0.847978738661217, 0.8459225198092575, 0.8492542397189058, 0.8454434226094439, 0.8467803234018142, 0.8442212541680112, 0.847184127496325, 0.8445797927646912, 0.8452395037825824, 0.8424079452153024, 0.8486738553655301, 0.8430447993976552, 0.8463550069915027, 0.8458956294145065, 0.8432151052310781, 0.8468296224588577, 0.844174195977197, 0.8439702771503352, 0.8469524219282206, 0.8472302893406476, 0.8468099028360403, 0.8464105804739881, 0.8443149223763938, 0.8467798752285683, 0.8485116166505324, 0.8445815854576745, 0.8455899752608368, 0.8458422967982504, 0.8454514897278693, 0.8440415366964253, 0.8439209780932918, 0.8441477537556917, 0.8414994980459647, 0.8480177297336058, 0.8440460184288838, 0.847420314796888, 0.8475238428166793, 0.8448204617977126, 0.8425065433293895, 0.8461855975045715, 0.8462183141515185, 0.8415142877630777, 0.8445358717865977, 0.8455639812125776, 0.8419405005198811, 0.8452825284141837, 0.8441392384640206, 0.8454286328923308, 0.8463285647699975, 0.8465589258183643, 0.8441266896131369, 0.8455155785020257, 0.8440357104442293, 0.8456728873113191, 0.8439066365494245, 0.8449939048438565, 0.8463321501559643, 0.8473696712201069, 0.8490969309096125, 0.8506113083073392, 0.8450051091750027, 0.8431102326915493, 0.8479549854791869, 0.8460538345702915, 0.8465889534258364, 0.845938654046108, 0.8466221182460292, 0.8475713491807393, 0.8459807823312179, 0.8458844250833603, 0.8461815639453587, 0.8429946039941201, 0.8480392420494066, 0.8440236097665915, 0.8475009859811409, 0.8464621203972608, 0.8459637517478756, 0.8437206446523968, 0.8470649134129289, 0.8442777239969883, 0.8461618443225413, 0.8432021082069485, 0.8470599835072244, 0.8475623857158223, 0.8427803771826037, 0.8470613280269621, 0.8461434692194615, 0.8429663690796314, 0.8486608583414005, 0.8467135455881826, 0.8461927682765049, 0.8480930228389085, 0.8420319278620343, 0.8458082356315658, 0.8465203829192212, 0.8461506399913952, 0.8484121221899537, 0.8442113943566025, 0.8481436664156896, 0.8460260478290488, 0.849128303036822, 0.8450593381377505, 0.8482391273170556, 0.8487903804094512, 0.8465418952350221, 0.8441724032842135, 0.8445273564949265, 0.8442571080276792, 0.8456173138288338, 0.8478577318848374, 0.8504934387436808, 0.8470371266716863, 0.8433249076763114, 0.8430577964217849, 0.8468211071671865, 0.846354110645011, 0.8469264278799613, 0.8459408949123374, 0.8432052454196695, 0.8455415725502851, 0.846363074109928, 0.8451377684557744, 0.8469192571080277, 0.8466239109390127, 0.8448083611200746, 0.8463200494783264, 0.847440930766197, 0.8460784840988133, 0.8427776881431286, 0.8462371374278441, 0.8464401599082142, 0.8473557778494855, 0.8460426302391453, 0.8449213007780287, 0.8428776307769532, 0.8471868165358001, 0.8445219784159765, 0.8471648560467534, 0.8460247033093112, 0.8458207844824495, 0.8440334695780001, 0.842301728156036, 0.8441365494245456, 0.8456092467104084, 0.8439859632139399, 0.8454147395217095, 0.8448997884622279, 0.8454989960919294, 0.8481199132336595, 0.844284446595676, 0.8438645082643147, 0.8471814384568499, 0.8467883905202396, 0.8437618765910151, 0.8459601663619088, 0.8496791079559716, 0.8448343551683338, 0.8442006381987021, 0.8507820623140081, 0.8482592951131189, 0.8442252877272238, 0.8444502706966405, 0.847877003334409, 0.8439227707862752, 0.8474664766412104, 0.8437372270624932, 0.8459561328026962, 0.8406914416836972, 0.8466144993008498, 0.8423353411494748, 0.8434884909110465, 0.8470478828295867, 0.8459857122369223, 0.8463464916998313, 0.8459131081710947, 0.8472038471191424, 0.841450647162167, 0.8440899394069772, 0.8441697142447385, 0.8439922376393819, 0.8469125345093399, 0.8431111290380409, 0.8444059015453014, 0.8439662435911226, 0.8469900684808719, 0.8450902620917141, 0.8474579613495392, 0.8428543257681689, 0.8439124628016207, 0.8467785307088308, 0.8447388942669678, 0.8468018357176149, 0.8478662471765087, 0.843944283102076, 0.8462290703094189, 0.8462685095550536, 0.8465087304148292, 0.847787368685239, 0.8479782904879711, 0.8481387365099853, 0.8456684055788607, 0.8446219210498009, 0.8443247821878026, 0.8441105553762862, 0.8471285540138396, 0.8461116489190061, 0.8423142770069197, 0.8476941486501022, 0.8461448137391989, 0.8441145889354988, 0.8474754401061275, 0.8446385034598974, 0.8455532250546772, 0.8472997561937543, 0.8449298160696999, 0.847527428202646, 0.8490489763723065, 0.8459704743465635, 0.8472674877200531, 0.8453748521028288, 0.846992757520347, 0.844386181922484, 0.8416953497544012, 0.8438465813344808, 0.8477524111720627, 0.8461501918181492, 0.8484645584597181, 0.8457082929977412, 0.8455285755261552, 0.8458750134451973, 0.8457266681008211, 0.8471177978559392, 0.8447178301244129, 0.8460036391667564, 0.8449737370477932, 0.8449764260872683, 0.8439657954178768, 0.8468784733426553, 0.8459825750242014, 0.8444224839553978, 0.847043401097128, 0.8440164389946576, 0.8456029722849666, 0.8462156251120434, 0.8448388369007925, 0.8473979061345955, 0.8484457351833925, 0.8471357247857734, 0.8413323294252628, 0.849104549854792, 0.8469152235488151, 0.8462335520418774, 0.8482014807644043, 0.8483493779355348, 0.8447187264709046, 0.8462223477107311, 0.8456383779713886, 0.8452708759097917, 0.8464872180990284, 0.8455344017783515, 0.8468488939084293, 0.8469389767308451, 0.8433423864328995, 0.8455958015130328, 0.8470389193646697, 0.8415846509626762, 0.8461380911405113, 0.844230665806174, 0.847721487218099, 0.8477810942597972, 0.8472446308845146, 0.8455527768814314, 0.8452525008067119, 0.8484139148829372, 0.8471791975906207, 0.8470676024524041, 0.8454913771467499, 0.8469654189523501, 0.8481333584310351, 0.8466185328600624, 0.845243089168549, 0.8475319099351045, 0.8439460757950594, 0.8452798393747086, 0.8446532931770105, 0.8454985479186834, 0.8441706105912301, 0.845201409056685, 0.8472755548384784, 0.8475045713671077, 0.8478317378365783, 0.8442943064070847, 0.8442019827184397, 0.8477116274066903, 0.8461743931734251, 0.846312430533147, 0.846273439460758, 0.8429789179305152, 0.8456379297981428, 0.8424424545552329, 0.8465329317701051, 0.8475924133232943, 0.8463854827722205, 0.847037574844932, 0.8447379979204761, 0.8486617546878922, 0.8439514538740096, 0.8451409056684953, 0.8458611200745761, 0.8436372844286688, 0.8454635904055071, 0.8437824925603243, 0.8450521673658169, 0.8441432720232334, 0.8448486967122011, 0.8456316553727009, 0.8463200494783264, 0.8465696819762647, 0.8447940195762075, 0.8425769065289879, 0.8448706572012478, 0.8466149474740956, 0.8462962962962963, 0.8467767380158474, 0.8488437130257072, 0.8477891613782225, 0.8434817683123589, 0.8470268186870318, 0.8437663583234736, 0.8468197626474491, 0.8477492739593416, 0.8461972500089634, 0.8476820479724643, 0.8457566957082931, 0.8479558818256785, 0.846082517658026, 0.8454331146247894, 0.8485537449356424, 0.8438152092072713, 0.846082517658026, 0.8449746333942849, 0.8438358251765803, 0.8462393782940734, 0.8478460793804453, 0.8462555125309239, 0.8467821160947976, 0.8471850238428167, 0.8483583414004517, 0.8411100354953212, 0.8458651536337888, 0.8457333906995088, 0.8470402638844072, 0.8465737155354773, 0.8450853321860099, 0.846419543938905, 0.8481351511240186, 0.8460269441755405, 0.848014144347639, 0.8472813810906744, 0.8463124305331469, 0.8455491914954645, 0.8427306299523144, 0.8427915815137499, 0.8480437237818651, 0.8443431572908825, 0.8474861962640279, 0.8446528450037647, 0.8452632569646124, 0.8452197841597648, 0.844568140260299, 0.8489333476748772, 0.8442454555232871, 0.8457589365745223, 0.8472441827112688, 0.8428251945071887, 0.8471455845971818, 0.8470259223405401, 0.8463671076691406, 0.8457634183069807, 0.8471895055752752, 0.8435059696676347, 0.8482131332687964, 0.846311982359901, 0.8484815890430605, 0.84795140009322, 0.8489181097845183, 0.8444112796242516, 0.8477725789681259, 0.844442651751461, 0.8424191495464487, 0.8425374672833531, 0.848196102685454, 0.844015542648166, 0.8481759348893909, 0.8468269334193826, 0.8463415617941271, 0.8462573052239075, 0.8458351260263168, 0.8448455594994801, 0.844777437166111, 0.8460233587895738, 0.8450441002473916, 0.8457584884012764, 0.8445425943852856, 0.8434490516654118, 0.8462331038686315, 0.847064465239683, 0.8462788175397081, 0.8460309777347532, 0.8469026746979312, 0.8454770356028827, 0.8450656125631926, 0.8476771180667598, 0.8470662579326664, 0.845693951453874, 0.845538435337564, 0.8439321824244379, 0.8440254024595748, 0.8473647413144025, 0.8451530063461332, 0.8470084435839518, 0.847261661467857, 0.8474113513319709, 0.8462478935857445, 0.845684987988957, 0.8460959628554015, 0.8461542253773618, 0.8482377827973182, 0.8478716252554587, 0.844222150514503, 0.8475556631171346, 0.8463236348642931, 0.8416169194363774, 0.8458073392850742, 0.8459704743465635, 0.8431922483955399, 0.8464267147108386, 0.847915546233552, 0.8425845254741675, 0.8474306227815425, 0.8479984582840343, 0.845481517335341, 0.8458422967982503, 0.8453753002760749, 0.8449047183679324, 0.8448244953569253, 0.8457315980065254, 0.8476811516259726, 0.8447258972428383, 0.8494563658527841, 0.8450956401706644, 0.8482001362446667, 0.8436977878168584, 0.8428646337528235, 0.8448814133591482, 0.8455608439998565, 0.8474489978846222, 0.8445542468896777, 0.8464957333906995, 0.8457858269692733, 0.8441997418522104, 0.8440262988060665, 0.8450418593811624, 0.8460578681295041, 0.8475305654153671, 0.8484183966153958, 0.8451781040479007, 0.845795238607436, 0.8478478720734286, 0.8448899286508194, 0.8472737621454949, 0.8465109712810585, 0.846915223548815, 0.8470030655050016, 0.8464459861604101, 0.8449526729052383, 0.8458866659495895, 0.8476901150908895, 0.8453322756444732, 0.8456096948836542, 0.8451695887562296, 0.8443126815101645, 0.8446806317450073, 0.8471549962353447, 0.8461510881646408, 0.8439173927073249, 0.8452448818615323, 0.8481665232512279, 0.846712201068445, 0.8442096016636191, 0.8471823348033416, 0.8408272381771899, 0.8421489010792012, 0.8452076834821269, 0.8445847226703954, 0.8454201176006597, 0.8464020651823169, 0.8468542719873795, 0.8454833100283246, 0.8503755691800223, 0.8472150514502886, 0.8485389552185294, 0.844311336990427, 0.844867071815281, 0.8440823204617978, 0.8453260012190311, 0.8466857588469399, 0.8448800688394106, 0.845595353339787, 0.8494953569251731, 0.8461663260549999, 0.8437721845756696, 0.8482341974113514, 0.8434970062027177, 0.8453555806532573, 0.8453658886379118, 0.847990391165609, 0.8458682908465096, 0.843394822702664, 0.8472352192463519, 0.8470788067835502, 0.8451651070237711, 0.843567817575562, 0.8440787350758309, 0.8459834713706931, 0.8473311283209637, 0.8460412857194077, 0.8462671650353161, 0.8475547667706429, 0.8449020293284573, 0.8455115449428132, 0.8485362661790543, 0.8464114768204798, 0.8453874009537126, 0.8446385034598975, 0.8483847836219569, 0.8481427700691979, 0.8455487433222186, 0.8428798716431825, 0.8447841597647986, 0.8461954573159802, 0.8465378616758095, 0.8477344842422286, 0.846306156107705, 0.846025599655803, 0.8457625219604891, 0.8459512028969918, 0.8471823348033416, 0.8456993295328242, 0.8423071062349863, 0.8461609479760495, 0.8429063138646875, 0.8468968484457352, 0.8421977519629988, 0.8408846043526585, 0.8459722670395469, 0.8441715069377218, 0.8467458140618838, 0.8460309777347532, 0.8460202215768529, 0.8455586031336273, 0.8460130508049192, 0.8425441898820409, 0.8478196371589402, 0.8424079452153024, 0.8458960775877523, 0.8463231866910473, 0.8466687282635976, 0.8436946506041376, 0.8457876196622566, 0.8451911010720305, 0.8446008569072462, 0.8476865297049228, 0.8470532609085368, 0.8459126599978488, 0.8463563515112401, 0.8452807357212004, 0.8469313577856658, 0.8435472016062528, 0.8464567423183106, 0.8446922842493995, 0.8476762217202682, 0.8428915241475745, 0.8452144060808147, 0.8482911154135743, 0.848145459108673, 0.844081424115306, 0.8472863109963789, 0.8502998279014737, 0.8453726112365997, 0.8439631063784014, 0.8496271198594528, 0.8458154064034992, 0.844493743501488, 0.8468358968842995, 0.8433540389372917, 0.8434239539636442, 0.8466830698074648, 0.8442172206087987, 0.847422555663117, 0.8451167043132193, 0.8484659029794558, 0.8481732458499158, 0.8465562367788891, 0.8455164748485174, 0.8423187587393783, 0.842788444301029, 0.8451960309777348, 0.8425235739127318, 0.8458996629737191, 0.8479652934638414, 0.8429802624502528, 0.8478752106414256, 0.8488948047757341, 0.848414811229429, 0.847345021691585, 0.847046986483095, 0.8472872073428703, 0.8462868846581334, 0.8447944677494532, 0.8475856907246064, 0.8466064321824245, 0.8457414578179341, 0.8453820228747625, 0.8458633609408053, 0.8478747624681797, 0.8475951023627694, 0.845980334157972, 0.8461815639453587, 0.8452955254383135, 0.843177010505181, 0.8456890215481698, 0.8425751138360045, 0.8452749094690044, 0.844935642321896, 0.8466745545157937, 0.847055949948012, 0.8476179591983077, 0.8476591911369258, 0.8462940554300671, 0.8470492273493241, 0.8452798393747087, 0.8472459754042523, 0.8480455164748486, 0.8479989064572802, 0.8468990893119644, 0.8473996988275789, 0.8497207880678355, 0.8453757484493205, 0.8480638915779284, 0.842137248574809, 0.8445726219927575, 0.84581316553727, 0.8456029722849664, 0.8477600301172421, 0.8489808540389373, 0.8479944247248217, 0.8463272202502599, 0.8424155641604819, 0.8491659495894732, 0.8453717148901079, 0.8501429672654262, 0.846721612706608, 0.847046538309849, 0.8439953748521029, 0.8450808504535513, 0.8474821627048152, 0.8482117887490589, 0.8467068229894947, 0.8462595460901365, 0.8457947904341903, 0.8468887813273099, 0.8442405256175828, 0.8473916317091535, 0.8432415474525832, 0.8457042594385286, 0.8470958373668924, 0.8474463088451472, 0.848028934064752, 0.8462331038686314, 0.8479635007708581, 0.8444193467426768, 0.8450992255566312, 0.845780897063569, 0.846103133627335, 0.8488759814994085, 0.846697859524578, 0.8445529023699402, 0.8465257609981715, 0.8433486608583414, 0.847112419776989, 0.8455285755261555, 0.8483242802337672, 0.8457526621490803, 0.8441508909684128, 0.8490113298196551, 0.8477250726040658, 0.8466319780574378, 0.8442243913807324, 0.8461250941163816, 0.8461712559607043, 0.8445139112975513, 0.8445345272668603, 0.8441213115341867, 0.8411118281883045, 0.8460959628554013, 0.8481481481481481, 0.8481553189200818, 0.8458839769101144, 0.8455348499515972, 0.8471321393998065, 0.8441885375210642, 0.8442508336022373, 0.8438474776809722, 0.8446474669248144, 0.8453824710480083, 0.8467978021584024, 0.8478008138826144, 0.8428969022265247, 0.8442266322469614, 0.8480154888673765, 0.8446833207844825, 0.8463576960309778, 0.8477116274066903, 0.84576565917321, 0.8478182926392026, 0.8457889641819942, 0.8482104442293212, 0.8460955146821556, 0.8432182424437991, 0.8444050051988097, 0.8475148793517622, 0.8438595783586103, 0.8465584776451185, 0.8450136244666737, 0.849396758811086, 0.8452601197518913, 0.843699580509842, 0.8458629127675594, 0.8490095371266717, 0.8459543401097129, 0.8463733820945825, 0.8462649241690867, 0.8463370800616686, 0.8449172672188161, 0.8454030870173175, 0.8481553189200819, 0.8446900433831701, 0.8444413072317235, 0.8482032734573877, 0.8469340468251407, 0.8475480441719552, 0.8462510307984654, 0.8480975045713671, 0.8437623247642608, 0.8472464235774981, 0.847605410347424, 0.8462510307984655, 0.8462747839804954, 0.8469125345093399, 0.8465306909038759, 0.8438317916173675, 0.8463850345989746, 0.8471505145028863, 0.8462725431142663, 0.8467198200136246, 0.8464119249937256, 0.8464737729016529, 0.8479254060449608, 0.8469461475027786, 0.8420870531712741, 0.8474481015381305, 0.8453475135348321, 0.8454003979778424, 0.8443964899071386, 0.8458436413179878, 0.8472912409020831, 0.8443669104729123, 0.8467372987702126, 0.8416890753289592, 0.8436637266501739, 0.8449889749381521, 0.8451314940303324, 0.8458750134451973, 0.8470967337133841, 0.8473768419920404, 0.8457508694560969, 0.8461322648883152, 0.8468659244917716, 0.8478272561041196, 0.8438542002796602, 0.8465293463841382, 0.8481745903696533, 0.8478366677422824, 0.8452211286795024, 0.8463496289125525, 0.844472679358933, 0.8457307016600337, 0.8486429314115664, 0.8460982037216307, 0.8445847226703954, 0.8454927216664875, 0.8424554515793625, 0.8459561328026962, 0.8470752213975835, 0.8448415259402674, 0.8475838980316232, 0.8461743931734251, 0.8482207522139757, 0.8478693843892295, 0.847333369187193, 0.8487043311462479, 0.8427969595927002, 0.8432626115951383, 0.8418575884693987, 0.8442580043741709, 0.8445197375497471, 0.8477102828869528, 0.8477770607005843, 0.8465190383994836, 0.8453219676598185, 0.8472033989458965, 0.8409751353483204, 0.8459682334803342, 0.8493308773439461, 0.8442293212864365, 0.8476188555447994, 0.8461304721953318, 0.8431613244415762, 0.8454927216664875, 0.8473132013911298, 0.8485268545408914, 0.8423348929762289, 0.848509823957549, 0.8467122010684449, 0.8464034097020545, 0.846613602954358, 0.8435911225843462, 0.8433889964504678, 0.8449383313613711, 0.8481226022731347, 0.8473678785271234, 0.8440612563192429, 0.84556263669284, 0.8483422071636012, 0.8472025025994049, 0.8441898820408017, 0.8471088343910221, 0.8447258972428382, 0.8436229428848016, 0.8446474669248145, 0.8473149940841131, 0.8461116489190061, 0.8470725323581083, 0.8467189236671329, 0.845939102219354, 0.8443879746154674, 0.8473414363056183, 0.8453663368111577, 0.8462393782940734, 0.8434790792728837, 0.8456231400810298, 0.8461076153597935, 0.8469564554874334, 0.8486070775518985, 0.8507305223907353, 0.8481665232512281, 0.8431859739700979, 0.8448303216091213, 0.846610913914883, 0.8450284141837869, 0.8458203363092037, 0.8493335663834212, 0.8448581083503639, 0.8440572227600301, 0.8467162346276577, 0.8483009752249829, 0.8477851278190096, 0.8460547309167832, 0.8448513857516762, 0.8482261302929259, 0.8438317916173675, 0.8468220035136782, 0.844514807644043, 0.846183804811588, 0.8447917787099781, 0.8486003549532107, 0.8474803700118317, 0.8423304112437704, 0.8468332078448244, 0.8463541106450109, 0.8455689111182819, 0.846795561292173, 0.8442781721702342, 0.8457038112652827, 0.8464388153884767, 0.8470891147682048, 0.8416160230898857, 0.846924187013732, 0.8450239324513283, 0.8454801728156036, 0.847232082033631, 0.846485425406045, 0.8466512495070094, 0.8447680255279482, 0.8464311964432971, 0.8483569968807141, 0.8445699329532825, 0.84493519414865, 0.8471818866300957, 0.8470304040729983, 0.8486855078699223, 0.8455290236994013, 0.847500537807895, 0.8415066688178982, 0.844338227385178, 0.8447039367537916, 0.8479948728980675, 0.8454205657739056, 0.8459261051952243, 0.8458360223728085, 0.8461013409343515, 0.8427830662220788, 0.8446649456814025, 0.8467238535728372, 0.8491260621705927, 0.8417778136316374, 0.8454940661862249, 0.8487330142339824, 0.8460273923487863, 0.845706052131512, 0.8460556272632749, 0.8474104549854792, 0.8484233265211, 0.8459171417303073, 0.8453748521028289, 0.8466413896956008, 0.8437694955361945, 0.8468860922878347, 0.8441468574092001, 0.8470720841848625, 0.8442822057294468, 0.8454564196335737, 0.8461703596142125, 0.8479643971173496, 0.843385411064501, 0.8458481230504463, 0.8461999390484385, 0.8454972033989459, 0.8459480656842711, 0.8461255422896274, 0.8479415402818113, 0.8463388727546519, 0.8428247463339428, 0.8448939622100319, 0.8439465239683052, 0.8455003406116669, 0.8492040443153706, 0.8445936861353125, 0.8451113262342691, 0.8445452834247607, 0.8451991681904558, 0.8423111397941989, 0.8455635330393316, 0.8487025384532645, 0.8466772435552687, 0.8477501703058334, 0.8452556380194327, 0.8445152558172887, 0.848247194435481, 0.8451189451794485, 0.8465674411100355, 0.8453663368111577, 0.8472163959700261, 0.8460498010110789, 0.845861120074576, 0.8447447205191638, 0.8475000896346492, 0.8450647162167009, 0.846951077408483, 0.8458409522785127, 0.8448545229643971, 0.8444072460650389, 0.8465992614104909, 0.84702592234054, 0.8480643397511742, 0.8446017532537378, 0.8433522462443082, 0.8440715643038973, 0.8476766698935141, 0.8412937865261196, 0.8442172206087986, 0.8449925603241188, 0.8448504894051846, 0.8472374601125812, 0.844353465275537, 0.8463801046932702, 0.8462918145638378, 0.8455518805349396, 0.8473163386038507, 0.8461103043992686, 0.846796009465419, 0.849615019181815, 0.8461524326843785, 0.8465217274389587, 0.8455093040765838, 0.8439617618586641, 0.8470801513032878, 0.8489544118174323, 0.844314026029902, 0.8458364705460544, 0.8441616471263131, 0.8440966620056649, 0.8491144096662004, 0.8459736115592844, 0.8459296905811909, 0.8459292424079452, 0.8428731490444946, 0.845989745796135, 0.8452556380194328, 0.8454456634756731, 0.846781219748306, 0.8465414470617763, 0.8454900326270123, 0.8487097092251981, 0.8478720734287045, 0.8457795525438314, 0.8462183141515185, 0.8452009608834391, 0.8415868918289054, 0.8480226596393101, 0.8453936753791546, 0.8481759348893909, 0.8461900792370299, 0.8474162812376753, 0.8443812520167797, 0.8436184611523432, 0.8479944247248217, 0.8449455021333047, 0.8475269800294001, 0.8439487648345344, 0.8448016385213868, 0.8443821483632713, 0.847936610376107, 0.8455729446774947, 0.8468798178623929, 0.8458024093793697, 0.8483439998565845, 0.845392779032663, 0.8465033523358789, 0.8454519379011151, 0.8476766698935141, 0.84729482628805, 0.8475946541895236, 0.8433916854899429, 0.8433630024022085, 0.8458584310351009, 0.8463137750528844, 0.8452807357212004, 0.8463438026603564, 0.8477824387795346, 0.8474723028934064, 0.8454945143594709, 0.8458763579649349, 0.8463066042809508, 0.8470949410204008, 0.8443718403786167, 0.8458288516008748, 0.845329586604998, 0.8456446523968305, 0.8459682334803341, 0.8463814492130078, 0.8488768778459002, 0.8449795632999892, 0.846589849772328, 0.8464424007744433, 0.8434580151303288, 0.8446698755871069, 0.8457150155964289, 0.8447720590871608, 0.8454918253199957, 0.8458929403750314, 0.845013176293428, 0.8437538094725896, 0.8477295543365243, 0.8478514574593956, 0.846515453013517, 0.8475798644724104, 0.8433105661324443, 0.8438591301853644, 0.8455940088200494, 0.8456778172170234, 0.8470734287046, 0.8446878025169411, 0.8471106270840056, 0.8467812197483059, 0.8474283819153132, 0.8463935498906457, 0.8443485353698326, 0.846521279265713, 0.8467736008031265, 0.8449997310960524, 0.8428525330751856, 0.8496069520633897, 0.8475830016851316, 0.8436816535800079, 0.8457768635043563, 0.8451583844250834, 0.8457374242587214, 0.844037054963967, 0.8429816069699902, 0.8472083288516009, 0.8441966046394894, 0.8467771861890934, 0.847363396794665, 0.8474436198056722, 0.8460161880176401, 0.8477600301172422, 0.8496674554515794, 0.8465773009214441, 0.8507672725968951, 0.8474933670359615, 0.8457087411709872, 0.8458082356315657, 0.8451037072890897, 0.846608224875408, 0.8489239360367142, 0.8462398264673192, 0.8437018213760712, 0.8456814026029903, 0.847978290487971, 0.8466032949697035, 0.846601950449966, 0.8453551324800116, 0.8459413430855832, 0.846097307375139, 0.8444180022229393, 0.8433912373166972, 0.8488105482055143, 0.8464916998314869, 0.8459552364562044, 0.8456388261446345, 0.8457607292675057, 0.8425540496934496, 0.8452072353088811, 0.8456146247893586, 0.8451359757627908, 0.8436780681940411, 0.8449956975368398, 0.8475726937004768, 0.8464800473270948, 0.8476067548671614, 0.8437954895844538, 0.8435023842816678, 0.8420839159585529, 0.8471137642967266, 0.844197500985981, 0.8466785880750063, 0.846948388369008, 0.8442736904377756, 0.8463935498906457, 0.8464648094367359, 0.8478868631458176, 0.8459870567566599, 0.8494586067190133, 0.8455550177476605, 0.8443418127711448, 0.8489140762253057, 0.8430439030511634, 0.8466073285289162, 0.8441114517227779, 0.8447366534007386, 0.8440209207271163, 0.8426589222329783, 0.8464652576099818, 0.8460565236097666, 0.8461250941163816, 0.8446223692230469, 0.8460354594672116, 0.8467821160947976, 0.843266196981105, 0.8479168907532896, 0.8481297730450683, 0.8438949840450325, 0.8482167186547632, 0.8448298734358755, 0.8460726578466171, 0.8494079631422322, 0.8469815531892008, 0.8459588218421714, 0.8474176257574129, 0.8451516618263957, 0.8477098347137071, 0.8451189451794485, 0.8458521566096591, 0.8477712344483884, 0.8467135455881827, 0.8445600731418738, 0.8457903087017318, 0.8451919974185222, 0.8463446990068481, 0.8463850345989745, 0.8424285611846115, 0.8462864364848875, 0.8454519379011151, 0.845568462945036, 0.8476726363343013, 0.8454259438528557, 0.8457226345416086, 0.8466023986232118, 0.8443440536373741, 0.8460757950593382, 0.846705926643003, 0.8459973647413143, 0.8477640636764547, 0.8431044064393532, 0.8453600623857158, 0.8463164640923595, 0.8424908572657847, 0.845667061059123, 0.8437726327489155, 0.846452708759098, 0.8464724283819154, 0.8478268079308737, 0.847521153777204, 0.8488522283173784, 0.8446931805958912, 0.8411333405041053, 0.8483395181241261, 0.8453049370764762, 0.8449253343372414, 0.8448029830411243, 0.847855939191854, 0.8427911333405042, 0.8450812986267973, 0.8470788067835502, 0.8446855616507117, 0.8451718296224588, 0.8460130508049192, 0.846133161234807, 0.8459382058728622, 0.8486675809400882, 0.8473862536302033, 0.8466198773798, 0.8461533290308701, 0.8430170126564125, 0.8449670144491055, 0.8463352873686854, 0.8459673371338425, 0.8481750385428992, 0.8446900433831702, 0.8464307482700513, 0.8446376071134059, 0.842917070022588, 0.8480598580187158, 0.8457853787960274, 0.8446376071134057, 0.8462353447348607, 0.8462689577282996, 0.8467426768491628, 0.8469134308558317, 0.8468211071671865, 0.8486214190957657, 0.8465961241977699, 0.8439985120648238, 0.8471670969129826, 0.8450839876662724, 0.8445116704313219, 0.8489579972033989, 0.8453389982431609, 0.8429547165752393, 0.8468524792943961, 0.8449123373131119, 0.848202377110896, 0.8477403104944248, 0.8472419418450396, 0.8471594779678033, 0.8447577175432935, 0.8450069018679862, 0.8461784267326379, 0.8417993259474383, 0.8468466530422, 0.8461076153597935, 0.8480383457029148, 0.8447604065827687, 0.845840504105267, 0.8466006059302285, 0.8461008927611058, 0.8435135886128142, 0.8443588433544872, 0.8470935965006634, 0.8452121652145854, 0.847040263884407, 0.849802803771826, 0.8452484672474991, 0.8462196586712559, 0.8446985586748412, 0.8438775052884444, 0.8432868129504141, 0.8488015847405974, 0.8469223943207487, 0.8495334516510702, 0.8436529704922735, 0.8451574880785917, 0.8492726148219856, 0.8464128213402171, 0.8456764726972859, 0.8477658563694382, 0.8476632246961385, 0.8458001685131404, 0.8451718296224588, 0.843815209207271, 0.8428139901760424, 0.8429802624502527, 0.8456087985371625, 0.8472679358932989, 0.8460152916711484, 0.843773977268653, 0.8449199562582912, 0.8457374242587214, 0.8480522390735363, 0.8422318131296834, 0.8472101215445843, 0.846359936897207, 0.8453152450611308, 0.8455523287081854, 0.8424101860815317, 0.8467184754938869, 0.8429511311892727, 0.8453206231400809, 0.8468780251694096, 0.8480244523322936, 0.8447290344555591, 0.8472307375138933, 0.846168566921229, 0.8456769208705318, 0.8469282205729448, 0.844810153813058, 0.8460843103510092, 0.848110053422251, 0.848420637481625, 0.8494142375676742, 0.8461560180703452, 0.8465741637087234, 0.8448823097056399, 0.847357570542469, 0.8478483202466746, 0.8470949410204008, 0.8462089025133556, 0.8478433903409702, 0.8435454089132696, 0.8463043634147217, 0.847178301244129, 0.8458476748772006, 0.8470953891936467, 0.8467565702197841, 0.8448294252626296, 0.8447971567889283, 0.8462725431142663, 0.845239951955828, 0.8468623391058047, 0.8453963644186296, 0.8465692338030189, 0.8469067082571439, 0.8460695206338963, 0.8459659926141049, 0.8503957369760855, 0.8463845864257288, 0.8457634183069809, 0.8461116489190061, 0.8440177835143954, 0.8441038327775985, 0.8484918970277149, 0.8444583378150659, 0.8466252554587501, 0.8480522390735363, 0.8484582840342764, 0.8447608547560146, 0.8465965723710158, 0.8431877666630813, 0.845374403929583, 0.8478483202466744, 0.8457136710766914, 0.846796009465419, 0.8475166720447457, 0.8475592485031014, 0.8486133519773404, 0.8425240220859775, 0.8447653364884729, 0.8460134989781649, 0.8472016062529131, 0.8459045928794235, 0.8448540747911513, 0.8440518446810799, 0.8469143272023234, 0.8459525474167294, 0.8456128320963752, 0.8470918038076799, 0.8470438492703738, 0.8463931017173998, 0.8481176723674304, 0.8483000788784913, 0.8464858735792908, 0.8453918826861713, 0.845948065684271, 0.84581316553727, 0.8483941952601198, 0.8469824495356926, 0.8457177046359041, 0.8465387580223012, 0.8470205442615898, 0.8461049263203184, 0.847423003836363, 0.8444256211681187, 0.8456200028683089, 0.8461483991251658, 0.8455321609121222, 0.8485196837689577, 0.8470935965006633, 0.8424747230289342, 0.8461309203685776, 0.8412879602739236, 0.8452646014843499, 0.8454510415546235, 0.8468560646803629, 0.8430761715248647, 0.8466871033666774, 0.8458485712236923, 0.8433580724965042, 0.8465459287942347, 0.8442001900254563, 0.8472768993582159, 0.8441047291240902, 0.844191674733785, 0.8498023555985802, 0.8458696353662473, 0.8452623606181204, 0.8459028001864402, 0.8473441253450934, 0.8465020078161414, 0.8446568785629773, 0.844851833924922, 0.8453425836291277, 0.8454792764691118, 0.8491148578394465, 0.8465199347459754, 0.8483673048653688, 0.8473185794700799, 0.8453820228747625, 0.8462622351296117, 0.8489006310279301, 0.8463944462371374, 0.844517496683518, 0.8476605356566635, 0.8449226452977663, 0.8444404108852318, 0.8463550069915027, 0.8460152916711485, 0.8479236133519774, 0.8460672797676669, 0.8450118317736905, 0.8423425119214084, 0.846509178588075, 0.8461676705747374, 0.8479209243125023, 0.8480670287906493, 0.8465369653293178, 0.8433795848123049, 0.8433840665447636, 0.8463442508336023, 0.8447604065827685, 0.8467426768491628, 0.8459068337456528, 0.8450593381377507, 0.8456827471227277, 0.8453609587322075, 0.845927001541716, 0.8450414112079164, 0.8451332867233158, 0.8461734968269334, 0.8457616256139975, 0.8441226560539241, 0.8452717722562835, 0.8455841490086408, 0.8479670861568249, 0.8470191997418521, 0.8484735219246352, 0.8480065254024596, 0.8514202610160984, 0.8461591552830662, 0.8465557886056434, 0.8472710731060199, 0.8472804847441828, 0.8464751174213905, 0.843911118281883, 0.8455523287081854, 0.845320623140081, 0.8454774837761285, 0.847605410347424, 0.8454223584668888, 0.8454138431752178, 0.8432599225556632, 0.8468565128536087, 0.8402611953676813, 0.8452870101466422, 0.8475171202179916, 0.8465566849521351, 0.8463523179520275, 0.8463814492130078, 0.8475417697465133, 0.8442503854289913, 0.8454187730809222, 0.8472486644437274, 0.8447155892581837, 0.8432576816894339, 0.84450001792693, 0.8463317019827185, 0.8454662794449823, 0.8466588684521889, 0.847100319099351, 0.8446402961528808, 0.8456845398157112, 0.8451781040479007, 0.8435642321895952, 0.8467408841561794, 0.846075795059338, 0.847372360259582, 0.8446080276791796, 0.8445533505431859, 0.8468273815926285, 0.8451937901115056, 0.8453869527804667, 0.84734233265211, 0.8469681079918254, 0.8460610053422251, 0.8451063963285649, 0.8471706822989494, 0.8437287117708221, 0.8459606145351548, 0.8470913556344342, 0.8475332544548422, 0.8445183930300096, 0.8456957441468573, 0.8468878849808182, 0.8445192893765013, 0.8463890681581873, 0.8433603133627334, 0.8420355132480012, 0.8482032734573877, 0.8467606037789968, 0.8451745186619342, 0.8454062242300384, 0.845631207199455, 0.8383905202395039, 0.845765210999964, 0.8472786920511993, 0.8447388942669679, 0.8449827005127102, 0.8441921229070309, 0.8474189702771503, 0.845753558495572, 0.8450494783263418, 0.8463137750528845, 0.8455487433222186, 0.8450588899645047, 0.8460587644759958, 0.8471177978559392, 0.8457607292675057, 0.8490570434907317, 0.843654315012011, 0.8461976981822092, 0.8467588110860134, 0.8423846402065184, 0.8451664515435087, 0.8465517550464308, 0.8457871714890106, 0.8473728084328278, 0.8465970205442617, 0.8442270804202072, 0.8464813918468324, 0.8460040873400021, 0.8435539242049406, 0.8437488795668855, 0.8439066365494245, 0.8450615790039798, 0.8465159011867627, 0.8440585672797676, 0.8472764511849702, 0.8463621777634364, 0.8455223011007134, 0.8447926750564698, 0.8428323652791223, 0.8423272740310495, 0.8423084507547237, 0.8474579613495392, 0.8464186475924134, 0.8437753217883905, 0.8432160015775698, 0.8455944569932953, 0.8418634147215948, 0.8441750923236886, 0.8446492596177978, 0.8471321393998064, 0.8489163170915349, 0.8431779068516725, 0.8467529848338174, 0.8497306478792441, 0.8453425836291276, 0.846584023520132, 0.8478021584023521, 0.8467516403140798, 0.8454559714603278, 0.8450916066114518, 0.8444014198128429, 0.8482283711591554, 0.8462523753182031, 0.8444641640672618, 0.8453914345129253, 0.844413072317235, 0.843994478505611, 0.8462550643576782, 0.8440505001613423, 0.8476215445842745, 0.8430636226739809, 0.8436623821304363, 0.844027643325804, 0.8431451902047256, 0.8495079057760566, 0.843526137463698, 0.8443077516044601, 0.8439371123301422, 0.8494402316159334, 0.8432070381126527, 0.8443297120935069, 0.8440706679574056, 0.8487773833853214, 0.8462828510989209, 0.8462241404037145, 0.8463550069915027, 0.8444336882865441, 0.8474315191280342, 0.8471357247857731, 0.8480455164748485, 0.8460058800329856, 0.8435660248825786, 0.8461622924957872, 0.849303986949195, 0.8459117636513571, 0.8460063282062316, 0.845607902190671, 0.8465548922591516, 0.8449020293284573, 0.8448630382560683, 0.8448415259402675, 0.8457392169517048, 0.8456173138288338, 0.8476385751676169, 0.8443077516044601, 0.8442046717579147, 0.8484363235452297, 0.8464562941450646, 0.8468923667132766, 0.8490328421354559, 0.8446649456814026, 0.8485192355957119, 0.8452094761751102, 0.8481373919902477, 0.8437663583234736, 0.8444852282098168, 0.8454985479186834, 0.846354110645011, 0.8456522713420098, 0.8451745186619339, 0.8442450073500412, 0.845111774407515, 0.846297192642788, 0.8480024918432468, 0.8451525581728874, 0.842967713599369, 0.8466978595245779, 0.8468125918755154, 0.8458669463267721, 0.8471294503603314, 0.8448231508371877, 0.8441580617403464, 0.8457997203398945, 0.8459498583772543, 0.8448258398766627, 0.8484995159728945, 0.844499121580438, 0.8457006740525617, 0.8466046394894411, 0.8478182926392026, 0.8431689433867556, 0.8444910544620128, 0.8452381592628447, 0.8449741852210391, 0.8468412749632499, 0.8464509160661146, 0.8438013158366499, 0.8467807715750602, 0.8478805887203757, 0.8451099817145316, 0.8460170843641318, 0.8445914452690833, 0.8475682119680183, 0.8465194865727295, 0.8464092359542505, 0.8451453874009537, 0.8442199096482735, 0.845786723315765, 0.8464576386648023, 0.847392976228891, 0.8475287727223837, 0.8458351260263167, 0.8450987773833853, 0.8455550177476605, 0.8434611523430497, 0.844837044207809, 0.8475726937004768, 0.8483632713061561, 0.845995572048331, 0.8451879638593094, 0.8432966727618229, 0.8464876662722741, 0.8448948585565237, 0.8450221397583451, 0.8452305403176652, 0.8447545803305727, 0.8424680004302464, 0.8484157075759206, 0.8485833243698684, 0.8440043383170198, 0.8446272991287513, 0.8444655085869994, 0.8466969631780862, 0.8474449643254096, 0.840826341830698, 0.8447218636836256, 0.8473239575490301, 0.847040712057653, 0.8416680111864042, 0.8434557742640996, 0.844905614714424, 0.8444883654225378, 0.8455218529274677, 0.8483332436986841, 0.8456370334516511, 0.8444888135957835, 0.8461277831558567, 0.8438447886414973, 0.8439559356064681, 0.8465490660069557, 0.8468323114983327, 0.8438116238213045, 0.8458113728442868, 0.8454080169230218, 0.8435884335448711, 0.8466400451758632, 0.846996342906314, 0.8455352981248432, 0.8455451579362518, 0.847936610376107, 0.8468457566957083, 0.8481208095801513, 0.8470797031300419, 0.8471635115270159, 0.8453905381664335, 0.8444753683984081, 0.8428310207593848, 0.8439465239683052, 0.8477443440536373, 0.8450790577605679, 0.845040514861425, 0.8434714603277043, 0.842361335197734, 0.8450929511311893, 0.8409760316948119, 0.8446272991287512, 0.8463765193073034, 0.8443803556702879, 0.8422743895880391, 0.8457495249363594, 0.8460197734036068, 0.8456993295328242, 0.8463805528665161, 0.8445479724642357, 0.842391362805206, 0.8464262665375928, 0.8464446416406726, 0.8440204725538705, 0.8432272059087161, 0.8483543078412392, 0.8462456527195152, 0.8431743214657058, 0.8435279301566814, 0.8466839661539565, 0.8472083288516008, 0.8451642106772794, 0.8437040622423004, 0.8486873005629056, 0.8480042845362303, 0.8462958481230505, 0.8478299451435947, 0.84551513032878, 0.8460950665089096, 0.8441845039618516, 0.8435050733211431, 0.840345900111147, 0.8455402280305475, 0.8461049263203184, 0.8474678211609481, 0.8481208095801513, 0.8446385034598974, 0.8465634075508228, 0.8482077551898461, 0.8478814850668674, 0.8446470187515686, 0.8447707145674233, 0.847921820658994, 0.8468193144742031, 0.8464518124126063, 0.8461945609694883, 0.8431711842529849, 0.8469761751102506, 0.8444206912624144, 0.8458033057258615, 0.8450328959162453, 0.8474274855688215, 0.846422681151626, 0.84335852066975, 0.846918360761536, 0.8462788175397081, 0.8458651536337887, 0.8451382166290201, 0.8457293571402962, 0.8439720698433186, 0.8435252411172064, 0.8476287153562081, 0.8460775877523216, 0.8454035351905632, 0.8465315872503675, 0.8423568534652756, 0.8461694632677207, 0.8461421246997238, 0.8469627299128752, 0.8459238643289951, 0.8472222222222222, 0.8484242228675917, 0.8482090997095837, 0.8405175504643075, 0.847267487720053, 0.8486465167975332, 0.8459700261733176, 0.8451189451794485, 0.847548492345201, 0.8466951704851027, 0.8466413896956008, 0.8449387795346169, 0.844099799218386, 0.8452722204295293, 0.8447689218744399, 0.8445780000717077, 0.8473472625578143, 0.8447366534007386, 0.8463518697787817, 0.8441074181635653, 0.8465652002438062, 0.8484690401921766, 0.8475677637947727, 0.8474481015381305, 0.8473611559284357, 0.847849664766412, 0.8460654870746837, 0.8461618443225413, 0.8458328851600875, 0.8459243125022409, 0.8433383528736869, 0.8455146821555339, 0.8439846186942025, 0.8448832060521315, 0.8473033415797211, 0.8478765551611631]\n"
     ]
    }
   ],
   "source": [
    "t_50 = auc_bootstrap\n",
    "print(t_50)"
   ]
  },
  {
   "cell_type": "code",
   "execution_count": 90,
   "id": "6147b5ad",
   "metadata": {},
   "outputs": [],
   "source": [
    "del X_train, X_test, y_train, y_test, X_val, y_val,study, optuna_auc"
   ]
  },
  {
   "cell_type": "code",
   "execution_count": 91,
   "id": "6fbb5514",
   "metadata": {},
   "outputs": [],
   "source": [
    "# 51\n",
    "column_to_drop_50 = '장기부채부담지표'"
   ]
  },
  {
   "cell_type": "code",
   "execution_count": 92,
   "id": "ad9f086c",
   "metadata": {},
   "outputs": [
    {
     "name": "stdout",
     "output_type": "stream",
     "text": [
      "(10564, 29)\n"
     ]
    }
   ],
   "source": [
    "if not column_to_drop_50.startswith('Cat_'):\n",
    "    comp_51 = comp_50.drop(column_to_drop_50, axis=1)\n",
    "    X_51 = comp_51.drop('target', axis=1)\n",
    "    y_51 = comp_51['target']\n",
    "else:\n",
    "    comp_51 = comp_50.drop(comp_50.filter(regex='^' + column_to_drop_50).columns, axis=1)\n",
    "    X_51 = comp_51.drop('target', axis=1)\n",
    "    y_51 = comp_51['target']\n",
    "\n",
    "print(X_51.shape)"
   ]
  },
  {
   "cell_type": "code",
   "execution_count": 93,
   "id": "fe16354a",
   "metadata": {},
   "outputs": [],
   "source": [
    "X_train, X_test, y_train, y_test = train_test_split(X_51, y_51, test_size=0.2, shuffle=True, stratify=y_51, random_state = 0)\n",
    "X_train, X_val, y_train, y_val = train_test_split(X_train, y_train, test_size=0.2, shuffle=True, stratify=y_train, random_state = 0)"
   ]
  },
  {
   "cell_type": "code",
   "execution_count": 94,
   "id": "6f27a9bb",
   "metadata": {},
   "outputs": [],
   "source": [
    "def objective(trial):\n",
    "    params = {\n",
    "        'learning_rate' :trial.suggest_float('learning_rate',0.01, 0.1,step=0.01),        \n",
    "        'n_estimators' :trial.suggest_int('n_estimators', 50, 200),\n",
    "        'subsample':trial.suggest_float('subsample', 0.1, 1.0,step=0.1),\n",
    "        'max_depth' :trial.suggest_int('max_depth', 1, 10),\n",
    "        'min_samples_split' :trial.suggest_int('min_samples_split', 3, 10),\n",
    "        'min_samples_leaf' :trial.suggest_int('min_samples_leaf', 3, 10),\n",
    "        }\n",
    "        \n",
    "    clf = GradientBoostingClassifier(**params,random_state = 0)\n",
    "    clf.fit(X_train, y_train)\n",
    "    clf_proba = clf.predict_proba(X_val)[:, 1]\n",
    "        \n",
    "    AUC_SCORE = roc_auc_score(y_val, clf_proba)\n",
    "    return AUC_SCORE\n",
    "\n",
    "direction = \"maximize\"\n",
    "sampler = optuna.samplers.TPESampler(seed=10)\n",
    "study =  optuna.create_study(direction=direction, sampler=sampler, pruner=optuna.pruners.HyperbandPruner())\n",
    "early_stopping = EarlyStoppingCallback(10, direction=direction)\n",
    "study.optimize(objective, callbacks=[early_stopping], n_trials=200) "
   ]
  },
  {
   "cell_type": "code",
   "execution_count": 95,
   "id": "84200111",
   "metadata": {},
   "outputs": [
    {
     "name": "stdout",
     "output_type": "stream",
     "text": [
      "{'learning_rate': 0.06999999999999999, 'n_estimators': 66, 'subsample': 0.5, 'max_depth': 3, 'min_samples_split': 6, 'min_samples_leaf': 9}\n",
      "0.8412595447624166\n"
     ]
    }
   ],
   "source": [
    "print(study.best_trial.params)\n",
    "optuna_auc = study.best_trial.value\n",
    "print(optuna_auc)"
   ]
  },
  {
   "cell_type": "code",
   "execution_count": 96,
   "id": "5b4029b0",
   "metadata": {},
   "outputs": [
    {
     "data": {
      "text/html": [
       "<style>#sk-container-id-7 {color: black;}#sk-container-id-7 pre{padding: 0;}#sk-container-id-7 div.sk-toggleable {background-color: white;}#sk-container-id-7 label.sk-toggleable__label {cursor: pointer;display: block;width: 100%;margin-bottom: 0;padding: 0.3em;box-sizing: border-box;text-align: center;}#sk-container-id-7 label.sk-toggleable__label-arrow:before {content: \"▸\";float: left;margin-right: 0.25em;color: #696969;}#sk-container-id-7 label.sk-toggleable__label-arrow:hover:before {color: black;}#sk-container-id-7 div.sk-estimator:hover label.sk-toggleable__label-arrow:before {color: black;}#sk-container-id-7 div.sk-toggleable__content {max-height: 0;max-width: 0;overflow: hidden;text-align: left;background-color: #f0f8ff;}#sk-container-id-7 div.sk-toggleable__content pre {margin: 0.2em;color: black;border-radius: 0.25em;background-color: #f0f8ff;}#sk-container-id-7 input.sk-toggleable__control:checked~div.sk-toggleable__content {max-height: 200px;max-width: 100%;overflow: auto;}#sk-container-id-7 input.sk-toggleable__control:checked~label.sk-toggleable__label-arrow:before {content: \"▾\";}#sk-container-id-7 div.sk-estimator input.sk-toggleable__control:checked~label.sk-toggleable__label {background-color: #d4ebff;}#sk-container-id-7 div.sk-label input.sk-toggleable__control:checked~label.sk-toggleable__label {background-color: #d4ebff;}#sk-container-id-7 input.sk-hidden--visually {border: 0;clip: rect(1px 1px 1px 1px);clip: rect(1px, 1px, 1px, 1px);height: 1px;margin: -1px;overflow: hidden;padding: 0;position: absolute;width: 1px;}#sk-container-id-7 div.sk-estimator {font-family: monospace;background-color: #f0f8ff;border: 1px dotted black;border-radius: 0.25em;box-sizing: border-box;margin-bottom: 0.5em;}#sk-container-id-7 div.sk-estimator:hover {background-color: #d4ebff;}#sk-container-id-7 div.sk-parallel-item::after {content: \"\";width: 100%;border-bottom: 1px solid gray;flex-grow: 1;}#sk-container-id-7 div.sk-label:hover label.sk-toggleable__label {background-color: #d4ebff;}#sk-container-id-7 div.sk-serial::before {content: \"\";position: absolute;border-left: 1px solid gray;box-sizing: border-box;top: 0;bottom: 0;left: 50%;z-index: 0;}#sk-container-id-7 div.sk-serial {display: flex;flex-direction: column;align-items: center;background-color: white;padding-right: 0.2em;padding-left: 0.2em;position: relative;}#sk-container-id-7 div.sk-item {position: relative;z-index: 1;}#sk-container-id-7 div.sk-parallel {display: flex;align-items: stretch;justify-content: center;background-color: white;position: relative;}#sk-container-id-7 div.sk-item::before, #sk-container-id-7 div.sk-parallel-item::before {content: \"\";position: absolute;border-left: 1px solid gray;box-sizing: border-box;top: 0;bottom: 0;left: 50%;z-index: -1;}#sk-container-id-7 div.sk-parallel-item {display: flex;flex-direction: column;z-index: 1;position: relative;background-color: white;}#sk-container-id-7 div.sk-parallel-item:first-child::after {align-self: flex-end;width: 50%;}#sk-container-id-7 div.sk-parallel-item:last-child::after {align-self: flex-start;width: 50%;}#sk-container-id-7 div.sk-parallel-item:only-child::after {width: 0;}#sk-container-id-7 div.sk-dashed-wrapped {border: 1px dashed gray;margin: 0 0.4em 0.5em 0.4em;box-sizing: border-box;padding-bottom: 0.4em;background-color: white;}#sk-container-id-7 div.sk-label label {font-family: monospace;font-weight: bold;display: inline-block;line-height: 1.2em;}#sk-container-id-7 div.sk-label-container {text-align: center;}#sk-container-id-7 div.sk-container {/* jupyter's `normalize.less` sets `[hidden] { display: none; }` but bootstrap.min.css set `[hidden] { display: none !important; }` so we also need the `!important` here to be able to override the default hidden behavior on the sphinx rendered scikit-learn.org. See: https://github.com/scikit-learn/scikit-learn/issues/21755 */display: inline-block !important;position: relative;}#sk-container-id-7 div.sk-text-repr-fallback {display: none;}</style><div id=\"sk-container-id-7\" class=\"sk-top-container\"><div class=\"sk-text-repr-fallback\"><pre>GradientBoostingClassifier(learning_rate=0.06999999999999999,\n",
       "                           min_samples_leaf=9, min_samples_split=6,\n",
       "                           n_estimators=66, random_state=0, subsample=0.5)</pre><b>In a Jupyter environment, please rerun this cell to show the HTML representation or trust the notebook. <br />On GitHub, the HTML representation is unable to render, please try loading this page with nbviewer.org.</b></div><div class=\"sk-container\" hidden><div class=\"sk-item\"><div class=\"sk-estimator sk-toggleable\"><input class=\"sk-toggleable__control sk-hidden--visually\" id=\"sk-estimator-id-7\" type=\"checkbox\" checked><label for=\"sk-estimator-id-7\" class=\"sk-toggleable__label sk-toggleable__label-arrow\">GradientBoostingClassifier</label><div class=\"sk-toggleable__content\"><pre>GradientBoostingClassifier(learning_rate=0.06999999999999999,\n",
       "                           min_samples_leaf=9, min_samples_split=6,\n",
       "                           n_estimators=66, random_state=0, subsample=0.5)</pre></div></div></div></div></div>"
      ],
      "text/plain": [
       "GradientBoostingClassifier(learning_rate=0.06999999999999999,\n",
       "                           min_samples_leaf=9, min_samples_split=6,\n",
       "                           n_estimators=66, random_state=0, subsample=0.5)"
      ]
     },
     "execution_count": 96,
     "metadata": {},
     "output_type": "execute_result"
    }
   ],
   "source": [
    "optuna_51 = GradientBoostingClassifier(**study.best_trial.params, random_state = 0)\n",
    "optuna_51.fit(X_train, y_train)"
   ]
  },
  {
   "cell_type": "code",
   "execution_count": 97,
   "id": "8805ca88",
   "metadata": {},
   "outputs": [
    {
     "name": "stdout",
     "output_type": "stream",
     "text": [
      "0.8459189344232906\n"
     ]
    }
   ],
   "source": [
    "optuna_proba_51 = optuna_51.predict_proba(X_test)[:, 1]\n",
    "auc_51 = roc_auc_score(y_test, optuna_proba_51)\n",
    "print(auc_51)"
   ]
  },
  {
   "cell_type": "code",
   "execution_count": 98,
   "id": "233cc579",
   "metadata": {},
   "outputs": [],
   "source": [
    "X_train = X_train.values\n",
    "y_train = y_train.values"
   ]
  },
  {
   "cell_type": "code",
   "execution_count": 99,
   "id": "73321c58",
   "metadata": {},
   "outputs": [],
   "source": [
    "auc_bootstrap = []"
   ]
  },
  {
   "cell_type": "code",
   "execution_count": 100,
   "id": "77cb2117",
   "metadata": {},
   "outputs": [
    {
     "data": {
      "text/plain": [
       "array([0.84174124, 0.84649846])"
      ]
     },
     "execution_count": 100,
     "metadata": {},
     "output_type": "execute_result"
    }
   ],
   "source": [
    "rs = RandomState(seed = 51)\n",
    "bootstrap_auc(optuna_51, X_train, y_train, X_test, y_test, nsamples=2000)"
   ]
  },
  {
   "cell_type": "code",
   "execution_count": 101,
   "id": "89e8eb04",
   "metadata": {},
   "outputs": [
    {
     "data": {
      "text/plain": [
       "0.8442520770589078"
      ]
     },
     "execution_count": 101,
     "metadata": {},
     "output_type": "execute_result"
    }
   ],
   "source": [
    "np.mean(auc_bootstrap)"
   ]
  },
  {
   "cell_type": "code",
   "execution_count": 102,
   "id": "e88c3969",
   "metadata": {},
   "outputs": [
    {
     "name": "stdout",
     "output_type": "stream",
     "text": [
      "[0.8419476712918145, 0.8447079703130043, 0.8456612348069269, 0.8437264709045927, 0.8437860779462909, 0.8461044781470726, 0.8440401921766879, 0.8451619698110502, 0.845183482126851, 0.8437188519594135, 0.8430967874941737, 0.8450669570829299, 0.8437847334265535, 0.8430470402638844, 0.8428785271234449, 0.8471379656520024, 0.8440146463016742, 0.8437605320712775, 0.842161449930085, 0.8458145100570076, 0.8441392384640207, 0.8443480871965867, 0.8439299415582087, 0.8446958696353664, 0.8434772865799003, 0.8448052239073536, 0.8438640600910687, 0.8438878132730988, 0.8445618658348573, 0.8422022336954573, 0.8451350794162991, 0.8439021548169661, 0.8452251622387149, 0.8439873077336775, 0.8440536373740631, 0.8446165429708506, 0.8441217597074326, 0.8440478111218672, 0.8428511885554479, 0.8439595209924349, 0.8438559929726435, 0.8439003621239827, 0.8446627048151735, 0.8442082571438817, 0.8427754472768995, 0.842943960417339, 0.8424366283030367, 0.8452681868703166, 0.8452802875479546, 0.8449871822451687, 0.8451019145961063, 0.8463850345989745, 0.8440052346635115, 0.8458584310351009, 0.8439635545516475, 0.8433549352837832, 0.8449387795346168, 0.8424801011078844, 0.8430546592090638, 0.8433858592377469, 0.8431989709942276, 0.8445197375497472, 0.8440177835143952, 0.844018679860887, 0.8443037180452475, 0.8436193574988348, 0.84105939191854, 0.8441311713455953, 0.844499569753684, 0.8450441002473917, 0.8439138073213581, 0.8436386289484064, 0.8443068552579684, 0.846497077910437, 0.8436193574988347, 0.8449181635653079, 0.8432998099745438, 0.8432151052310781, 0.84373543436951, 0.8446362625936683, 0.8437179556129218, 0.8448679681617726, 0.8412458319888135, 0.8442526262952207, 0.8436915133914166, 0.8435754365207414, 0.8429242407945216, 0.8445865153633788, 0.8435633358431036, 0.84335852066975, 0.8436108422071636, 0.8464052023950378, 0.8418217346097308, 0.8440254024595748, 0.8440231615933456, 0.8431675988670178, 0.8447433759994264, 0.8466682800903518, 0.8449092001003908, 0.8452009608834392, 0.8424285611846114, 0.8459700261733175, 0.843072137965652, 0.8446402961528808, 0.8465082822415833, 0.8446743573195654, 0.8415492452762541, 0.8446138539313757, 0.8436525223190277, 0.8438533039331684, 0.8421551755046431, 0.8446129575848841, 0.8432962245885769, 0.8450624753504715, 0.8442562116811875, 0.8432765049657597, 0.8432527517837296, 0.8432124161916031, 0.8441916747337852, 0.8433356638342118, 0.8450987773833853, 0.8439675881108601, 0.8458431931447422, 0.8436610376106988, 0.8447465132121472, 0.8431667025205264, 0.8458606719013302, 0.8478447348607078, 0.8447559248503101, 0.8468614427593131, 0.8444197949159227, 0.8458449858377254, 0.8446353662471765, 0.8432352730271414, 0.8449195080850453, 0.8446013050804919, 0.8441706105912301, 0.8430519701695889, 0.8438497185472016, 0.8447684737011939, 0.8455411243770392, 0.8411584382058728, 0.8421744469542145, 0.8446335735541932, 0.8469734860707755, 0.8425051988096519, 0.8445166003370262, 0.8433670359614212, 0.8450929511311893, 0.8436924097379083, 0.8451346312430532, 0.8452058907891434, 0.8442947545803307, 0.8450069018679861, 0.8453847119142376, 0.8451521099996414, 0.8442091534903733, 0.8445578322756445, 0.8456047649779498, 0.8467095120289698, 0.8436673120361406, 0.8452807357212004, 0.8436623821304364, 0.8437340898497723, 0.8450575454447671, 0.8438183464199921, 0.8457755189846186, 0.8436350435624396, 0.8425894553798716, 0.843594707970313, 0.8431398121257753, 0.8441957082929977, 0.8454313219318059, 0.8442346993653868, 0.8440980065254025, 0.8436184611523431, 0.8453564769997489, 0.8450933993044352, 0.844266967839088, 0.8444771610913916, 0.8406327309884909, 0.8456867806819404, 0.8436283209637517, 0.843009393711233, 0.8418284572084186, 0.8423012799827901, 0.8462877810046252, 0.844639847979635, 0.8432446846653041, 0.8440182316876412, 0.8452247140654692, 0.8441665770320175, 0.8448724498942313, 0.8412695851708436, 0.8450983292101394, 0.8437408124484602, 0.8445927897888208, 0.8449853895521853, 0.8425710802767918, 0.8472141551037968, 0.8431572908823636, 0.8428023376716504, 0.8458207844824496, 0.8442414219640743, 0.8442373884048617, 0.8448020866946327, 0.8429291707002258, 0.8433661396149296, 0.8466378043096339, 0.8448168764117456, 0.8436874798322039, 0.8459198307697823, 0.8441916747337851, 0.8461143379584812, 0.8430385249722132, 0.8447496504248682, 0.8435584059373993, 0.8439124628016206, 0.8451525581728873, 0.845072783335126, 0.8448285289161379, 0.8446013050804919, 0.8452242658922233, 0.8431832849306227, 0.8444731275321788, 0.842618586640852, 0.8454322182782977, 0.844147305582446, 0.8441235524004159, 0.8435906744111004, 0.8437408124484601, 0.8426835717615001, 0.8451072926750565, 0.8457123265569538, 0.8435879853716254, 0.8442983399662976, 0.8425715284500377, 0.8457392169517048, 0.8457490767631136, 0.8434136459789895, 0.8447967086156825, 0.8450705424688969, 0.8447160374314294, 0.8460695206338962, 0.8439568319529598, 0.8443597397009788, 0.8429206554085548, 0.8458306442938582, 0.8435512351654656, 0.8453376537234233, 0.8446837689577282, 0.8437587393782942, 0.8434683231149832, 0.8420036929475458, 0.8440612563192428, 0.8445233229357141, 0.8451220823921695, 0.8444188985694311, 0.8440487074683589, 0.8451485246136745, 0.8449589473306802, 0.8445076368721093, 0.8456513749955183, 0.8448616937363307, 0.8434391918540031, 0.8425419490158116, 0.8453542361335198, 0.84337689577283, 0.8416577032017496, 0.8451140152737441, 0.8452753576422503, 0.8448979957692444, 0.8455953533397871, 0.8428018894984045, 0.8463904126779247, 0.8455321609121222, 0.8450674052561757, 0.8422385357283712, 0.8443247821878025, 0.8436547631852569, 0.8433715176938797, 0.8418271126886809, 0.8429269298339966, 0.8448531784446595, 0.8432630597683841, 0.8424554515793625, 0.8451046036355815, 0.8457844824495357, 0.8443946972141552, 0.8458221290021872, 0.8452256104119609, 0.843535100928615, 0.8427611057330321, 0.8434974543759637, 0.8433755512530924, 0.8460049836864939, 0.8444094869312683, 0.844006131010003, 0.8437004768563336, 0.8437694955361944, 0.8447424796529347, 0.8465504105266931, 0.8452032017496683, 0.843881538847657, 0.844472679358933, 0.8452861138001505, 0.8458875622960811, 0.8430636226739809, 0.8443911118281882, 0.842824298160697, 0.8435714029615289, 0.8454151876949554, 0.8425262629522069, 0.8450337922627371, 0.8433979599153849, 0.8448751389337062, 0.8436135312466386, 0.8427561758273279, 0.8438111756480584, 0.8459731633860386, 0.842486823706572, 0.844693628769137, 0.8453389982431609, 0.8438443404682514, 0.8454259438528559, 0.8438412032555305, 0.846431644616543, 0.8453188304470978, 0.8428601520203649, 0.8454443189559357, 0.8439774479222688, 0.8450893657452224, 0.8428861460686243, 0.8452238177189773, 0.8442638306263669, 0.844311785163673, 0.8430241834283461, 0.8452296439711735, 0.8443557061417664, 0.8435655767093327, 0.8446331253809473, 0.844517496683518, 0.8445067405256177, 0.8440460184288838, 0.8437161629199382, 0.8422788713204976, 0.8458548456491342, 0.8450396185149331, 0.8416043705854936, 0.8439913412928902, 0.8450077982144778, 0.8446882506901868, 0.8438528557599225, 0.8445529023699401, 0.8426105195224266, 0.8433553834570292, 0.8414121042630239, 0.8458526047829048, 0.8452843211071672, 0.8449764260872683, 0.8451812412606217, 0.8433405937399161, 0.8439541429134847, 0.8447922268832239, 0.8445909970958373, 0.8426504069413072, 0.8437865261195368, 0.8455151303287799, 0.8439245634792586, 0.8456208992148005, 0.8440603599727511, 0.8439182890538167, 0.8428677709655444, 0.843857337492381, 0.8431169552902371, 0.845144939227708, 0.844117277974974, 0.8436744828080743, 0.8442943064070847, 0.8439662435911226, 0.8447630956222437, 0.8459480656842708, 0.8431097845183033, 0.8461847011580798, 0.8439344232906673, 0.8451852748198343, 0.8465858162131152, 0.8452404001290738, 0.8469179125882902, 0.8446071313326879, 0.8465445842744972, 0.8448796206661648, 0.8414528880283962, 0.844472679358933, 0.8440617044924887, 0.841408518877057, 0.8457177046359041, 0.8431882148363271, 0.8435852963321502, 0.841829801728156, 0.842561668638629, 0.8456200028683087, 0.844003890143774, 0.8428843533756408, 0.8451090853680399, 0.8433289412355239, 0.8432818830447099, 0.8434719085009501, 0.843863163744577, 0.8428171273887635, 0.8435418235273027, 0.8438703345165106, 0.8454963070524544, 0.8437354343695099, 0.8447214155103797, 0.8462918145638376, 0.8455863898748701, 0.8442759313040049, 0.8428843533756408, 0.8454604531927862, 0.8428606001936109, 0.8446048904664587, 0.8434293320425942, 0.8429820551432361, 0.8452556380194327, 0.844714244738446, 0.842504750636406, 0.8452995589975261, 0.8450889175719767, 0.8456289663332257, 0.8419140582983757, 0.8431174034634829, 0.8449239898175038, 0.8459458248180417, 0.8443987307733676, 0.8448509375784303, 0.8430340432397546, 0.8455402280305475, 0.843881090674411, 0.8456563049012227, 0.8428610483668565, 0.8452471227277616, 0.8426790900290415, 0.842722562833889, 0.8458602237280843, 0.8459955720483311, 0.8431008210533864, 0.8422757341077768, 0.8431653580007887, 0.8433464199921122, 0.8430461439173927, 0.8440791832490767, 0.84520409809616, 0.8427718618909326, 0.8444215876089062, 0.8443548097952744, 0.8443906636549426, 0.8417639202610162, 0.8429237926212758, 0.8428130938295508, 0.8442167724355525, 0.8436977878168584, 0.8439877559069234, 0.8448114983327956, 0.8429278261804883, 0.8428310207593847, 0.8452018572299308, 0.845010039080707, 0.8444802983041124, 0.8436959951238752, 0.8441791258829013, 0.8435875371983795, 0.8432393065863539, 0.842486823706572, 0.8424406618622498, 0.8451722777957046, 0.8446192320103261, 0.8419570829299775, 0.8437659101502277, 0.8415456598902873, 0.8439003621239827, 0.8435588541106449, 0.8440549818938008, 0.8462299666559104, 0.8441759886701804, 0.8451870675128177, 0.8450593381377505, 0.8437636692839985, 0.8440818722885519, 0.8438779534616901, 0.8464150622064466, 0.8426723674303538, 0.8432137607113406, 0.8410253307518555, 0.8442230468609946, 0.8429807106234986, 0.8436139794198846, 0.8437282635975762, 0.843920529920046, 0.8452663941773332, 0.8468842995948515, 0.8447492022516223, 0.8446183356638343, 0.8452816320676921, 0.8430291133340503, 0.8455254383134345, 0.8453416872826359, 0.8446895952099244, 0.8449665662758596, 0.8444305510738233, 0.8437461905274102, 0.8445318382273852, 0.8457020185722993, 0.84466091212219, 0.8457979276469112, 0.842039098633968, 0.8444690939729662, 0.8461371947940196, 0.8426580258864868, 0.8439756552292855, 0.8412659997848768, 0.8427198737944139, 0.8455326090853681, 0.8435848481589043, 0.8447397906134596, 0.8441795740561472, 0.8412861675809402, 0.8464890107920118, 0.843364795095192, 0.8428238499874512, 0.8448209099709583, 0.8429363414721596, 0.8443341938259653, 0.8447433759994264, 0.8445103259115844, 0.844036606790721, 0.8430761715248647, 0.8450333440894912, 0.8463361837151769, 0.8465253128249255, 0.8461098562260229, 0.8442476963895162, 0.8438286544046467, 0.8440845613280269, 0.8453815747015165, 0.8422120935068661, 0.8430349395862465, 0.8440953174859273, 0.8437184037861676, 0.8432160015775699, 0.8424227349324155, 0.8431640134810512, 0.8433101179591982, 0.8423810548205513, 0.8431608762683305, 0.8440805277688144, 0.8457764153311104, 0.8432832275644474, 0.844568140260299, 0.8442817575562008, 0.8438761607687069, 0.8455698074647736, 0.8453439281488653, 0.8433405937399162, 0.8444587859883117, 0.8431801477179018, 0.8441916747337851, 0.8436812054067621, 0.8463370800616685, 0.8448652791222975, 0.8451736223154424, 0.844383044709763, 0.8455370908178267, 0.8448034312143702, 0.8445340790936143, 0.8435252411172063, 0.8465046968556165, 0.8458915958552938, 0.8452121652145854, 0.8429134846366211, 0.8442969954465599, 0.8450172098526407, 0.8447895378437489, 0.8428986949195081, 0.8458198881359579, 0.8440778387293392, 0.8443597397009789, 0.8418459359650066, 0.8429004876124915, 0.8454985479186834, 0.8448298734358753, 0.8444211394356603, 0.8448975475959988, 0.8441625434728048, 0.8445806891111829, 0.8409890287189417, 0.8432787458319887, 0.8428104047900756, 0.8416783191710588, 0.8430752751783729, 0.8435395826610734, 0.8446030977734753, 0.8437618765910149, 0.8439913412928902, 0.8424684486034921, 0.8440352622709835, 0.8433208741170987, 0.8451256677781362, 0.8444363773260193, 0.8442378365781077, 0.8458082356315657, 0.8454308737585601, 0.8448558674841347, 0.8430703452726687, 0.8421381449213008, 0.8447747481266358, 0.8445658993940697, 0.8416231938618192, 0.843137571259546, 0.8440419848696712, 0.8440908357534688, 0.8435377899680901, 0.8457069484780035, 0.8452865619733965, 0.8446945251156286, 0.8445654512208239, 0.844478505611129, 0.8457795525438311, 0.8438129683410418, 0.8457791043705855, 0.8446819762647451, 0.8448527302714137, 0.8427808253558495, 0.8447200709906422, 0.8447518912910975, 0.8450768168943387, 0.8437327453300347, 0.8433316302749991, 0.8452991108242803, 0.8464186475924134, 0.8435911225843462, 0.8450978810368937, 0.8444027643325804, 0.8452023054031765, 0.8447075221397584, 0.8426275501057688, 0.8452632569646122, 0.845389193646696, 0.8426535441540282, 0.845054408232046, 0.8445098777383385, 0.8463115341866552, 0.844485228209817, 0.8441127962425155, 0.841865655587824, 0.8434118532860063, 0.8436950987773834, 0.845535746298089, 0.8443431572908824, 0.8444274138611021, 0.8462743358072496, 0.8444050051988097, 0.8454259438528559, 0.8429686099458608, 0.8452238177189776, 0.8456831952959736, 0.8454272883725933, 0.8446627048151735, 0.8466938259653652, 0.8450346886092288, 0.8411297551181386, 0.8445013624466673, 0.8451700369294755, 0.8456634756731563, 0.8459108673048653, 0.8427149438887097, 0.8457625219604891, 0.8431801477179018, 0.8442651751461046, 0.8447344125345094, 0.8432549926499588, 0.8427481087089024, 0.8433311821017533, 0.8450745760281094, 0.8437282635975762, 0.8439873077336775, 0.844825391703417, 0.8447881933240113, 0.8428095084435838, 0.8437358825427559, 0.8451207378724319, 0.8442884801548889, 0.8433553834570291, 0.847420314796888, 0.8446492596177979, 0.8446290918217347, 0.8443203004553441, 0.8450992255566312, 0.8455048223441254, 0.84641685489943, 0.8455581549603814, 0.8458593273815926, 0.8436520741457818, 0.8440478111218672, 0.8449186117385536, 0.8437152665734465, 0.841373113190635, 0.8464800473270948, 0.84459503065505, 0.8444475816571654, 0.8427310781255603, 0.8454465598221649, 0.8458064429385823, 0.8432370657201247, 0.8444870209028001, 0.8444995697536841, 0.8437345380230181, 0.8452238177189775, 0.8433275967157864, 0.8454111541357427, 0.84396221003191, 0.8443915600014342, 0.8431272632748914, 0.8446761500125489, 0.8425302965114195, 0.8461439173927074, 0.8429287225269801, 0.8437538094725898, 0.8453197267935894, 0.8447599584095229, 0.8454842063748164, 0.845356476999749, 0.8431133699042701, 0.8447375497472303, 0.8454389408769853, 0.843505521494389, 0.8445269083216809, 0.84567602452404, 0.8426217238535728, 0.8460085690724607, 0.8467767380158475, 0.8440912839267146, 0.8448643827758059, 0.8438273098849092, 0.843887813273099, 0.8453900899931879, 0.8435987415295256, 0.8430577964217848, 0.8452359183966154, 0.8440876985407478, 0.8430017747660535, 0.8441244487469077, 0.8433719658671257, 0.8440518446810799, 0.8416415689648991, 0.8456791617367609, 0.8442960991000682, 0.8443126815101645, 0.8440953174859274, 0.8431702879064931, 0.8440688752644222, 0.8447290344555591, 0.8445331827471226, 0.8423429600946543, 0.8463948944103832, 0.8447357570542469, 0.844830769782367, 0.8435180703452726, 0.8446689792406152, 0.8453219676598185, 0.8440150944749202, 0.8445170485102721, 0.8432393065863537, 0.8439702771503352, 0.8449190599117995, 0.8442718977447923, 0.8452274031049443, 0.8436027750887383, 0.8458391595855294, 0.8434279875228567, 0.8440545337205551, 0.846049352837833, 0.8439102219353914, 0.8448316661288587, 0.8455845971818866, 0.8426284464522604, 0.8430237352551003, 0.8441311713455955, 0.8453887454734501, 0.8425993151912804, 0.8454035351905632, 0.8451628661575418, 0.8452238177189774, 0.8438250690186799, 0.8450302068767703, 0.8453649922914203, 0.8441562690473631, 0.8442978917930515, 0.8467615001254886, 0.8409590011114696, 0.8445358717865978, 0.8462505826252196, 0.8422062672546698, 0.8437959377576996, 0.8442795166899717, 0.8438403069090388, 0.8439631063784017, 0.8441015919113694, 0.8421910293643111, 0.8429470976300599, 0.8438658527840521, 0.8441253450933994, 0.8442750349575132, 0.8435669212290704, 0.8443973862536303, 0.8468372414040372, 0.8440020974507906, 0.8411633681115773, 0.8444430999247069, 0.8439882040801693, 0.8447258972428382, 0.8448213581442042, 0.8435328600623857, 0.8444301029005773, 0.8460901366032053, 0.8449401240543545, 0.8445201857229931, 0.8425249184324691, 0.8435601986303827, 0.8444180022229393, 0.8445416980387938, 0.8441419275034958, 0.8442472482162705, 0.8430398694919508, 0.8444762647448999, 0.8434051306873185, 0.8459713706930551, 0.8467973539851563, 0.8410665626904736, 0.8445004661001757, 0.8419956258291206, 0.8456280699867341, 0.8464020651823169, 0.8411732279229859, 0.841617815782869, 0.8441540281811337, 0.8443108888171813, 0.8448800688394106, 0.8422882829586605, 0.8441804704026389, 0.845640170664372, 0.8452139579075688, 0.8451628661575419, 0.8450351367824747, 0.846422681151626, 0.8443315047864902, 0.8443274712272777, 0.8426504069413072, 0.844521082069485, 0.844839733247284, 0.8461282313291025, 0.8458987666272274, 0.8448307697823669, 0.8424433509017247, 0.84362204653831, 0.8441970528127354, 0.8459135563443405, 0.8447254490695925, 0.8445049478326342, 0.8433033953605106, 0.8447765408196192, 0.8427127030224804, 0.8437372270624932, 0.8464827363665699, 0.8460722096733714, 0.8447572693700477, 0.8430474884371303, 0.8438896059660822, 0.8453582696927324, 0.8456979850130867, 0.8421982001362447, 0.8423608870244881, 0.84153131834642, 0.8418459359650067, 0.8461040299738267, 0.8443364346921947, 0.8454026388440715, 0.8444699903194578, 0.8438255171919257, 0.845305833422968, 0.8430093937112331, 0.8453416872826358, 0.8440764942096017, 0.8437376752357391, 0.8459758524255137, 0.8450674052561757, 0.8447124520454627, 0.8451014664228604, 0.8448545229643971, 0.8454147395217094, 0.8423008318095444, 0.8451054999820731, 0.8439761034025313, 0.8445166003370262, 0.8460901366032054, 0.8451404574952494, 0.8434315729088236, 0.8442683123588255, 0.8446680828941234, 0.8437748736151447, 0.8451727259689507, 0.8439223226130294, 0.8453896418199419, 0.8445143594707971, 0.845186171166326, 0.8439451794485677, 0.8453560288265032, 0.8456061094976872, 0.8461981463554551, 0.8443727367251085, 0.8460619016887168, 0.8447935714029615, 0.842615001254885, 0.8442046717579148, 0.845225162238715, 0.844493743501488, 0.8422882829586604, 0.8428278835466637, 0.8459843677171848, 0.8460748987128465, 0.8413565307805385, 0.8422232978380122, 0.8439451794485677, 0.8438322397906135, 0.8433392492201784, 0.8440657380517013, 0.842755279480836, 0.8433473163386039, 0.8446860098239577, 0.8429981893800867, 0.8460381485066867, 0.8450880212254849, 0.8448271843964004, 0.8453381018966691, 0.8435749883474957, 0.844915026352587, 0.8449665662758596, 0.8438291025778926, 0.8425863181671507, 0.8434642895557707, 0.8444574414685739, 0.8452350220501237, 0.8438949840450324, 0.8432585780359256, 0.8435781255602165, 0.8441867448280808, 0.8436950987773835, 0.8408007959556847, 0.843206589939407, 0.8417428561184611, 0.845660786633681, 0.843469219461475, 0.8444256211681187, 0.8450149689864114, 0.8433921336631888, 0.8450315513965079, 0.844472679358933, 0.8444493743501489, 0.8431850776236061, 0.8448872396113442, 0.8433549352837834, 0.8429435122440931, 0.8442441110035496, 0.8452735649492669, 0.8432267577354703, 0.8462456527195152, 0.8451081890215482, 0.8462707504212829, 0.8458369187193001, 0.8419745616865655, 0.8464374708687389, 0.8434633932092789, 0.844138342117529, 0.8414842601556057, 0.8454322182782976, 0.842438869169266, 0.8431810440643935, 0.8440029937972822, 0.8455016851314044, 0.8427490050553943, 0.8439519020472555, 0.845911315478111, 0.842603348750493, 0.8431864221433439, 0.8443346419992113, 0.8448988921157363, 0.8434741493671792, 0.84488768778459, 0.8421327668423505, 0.8435440643935321, 0.84576565917321, 0.8444000752931053, 0.8447420314796887, 0.844888135957836, 0.8438667491305438, 0.8439832741744648, 0.8466449750815676, 0.8439908931196444, 0.8454846545480621, 0.8426580258864868, 0.8424110824280233, 0.8458745652719516, 0.8434172313649565, 0.8465580294718726, 0.8430447993976551, 0.8456554085547308, 0.8414161378222367, 0.8440747015166181, 0.8460385966799326, 0.8439572801262056, 0.8434651859022625, 0.8459023520131943, 0.8440505001613423, 0.8426244128930478, 0.8435100032268473, 0.845508855903338, 0.8438196909397296, 0.8445641067010863, 0.8445107740848302, 0.8446752536660571, 0.8427566240005736, 0.8444794019576208, 0.8444229321286437, 0.844861245563085, 0.8430071528450037, 0.8441611989530673, 0.8436328026962102, 0.8429219999282922, 0.8424361801297909, 0.8443203004553439, 0.8455415725502851, 0.8441535800078879, 0.8452363665698612, 0.8456002832454914, 0.8453896418199419, 0.845004661001757, 0.844765336488473, 0.8433925818364347, 0.8448621419095764, 0.8437322971567889, 0.844365565953175, 0.8467816679215516, 0.8432397547596, 0.8462461008927612, 0.8448392850740383, 0.8453322756444732, 0.84501945071887, 0.8441759886701804, 0.8435512351654656, 0.8440303323652791, 0.8437511204331147, 0.8431528091499049, 0.8426279982790147, 0.8427593130400486, 0.8452847692804131, 0.8414354092718082, 0.8420036929475457, 0.845395019898892, 0.8434602559965579, 0.8439344232906671, 0.8459283460614535, 0.8443274712272777, 0.8438600265318562, 0.841841902405794, 0.8423658169301926, 0.8439272525187336, 0.8434060270338102, 0.8441867448280809, 0.8450996737298769, 0.8434987988957012, 0.8442212541680112, 0.8448482485389552, 0.8422824567064644, 0.8448957549030153, 0.8446452260585853, 0.8434835610053422, 0.8433486608583414, 0.8452435373417949, 0.8466431823885842, 0.8475951023627694, 0.8439245634792587, 0.8414927754472769, 0.8449629808898929, 0.8446757018393031, 0.8458091319780574, 0.8453112115019181, 0.8453981571116129, 0.8449244379907497, 0.841976354379549, 0.8441127962425155, 0.844869760854756, 0.8435194148650101, 0.8433087734394606, 0.8442436628303037, 0.8440832168082895, 0.845174518661934, 0.8436776200207953, 0.8429193108888171, 0.8437237818651178, 0.8450360331289662, 0.8444740238786707, 0.842388673765731, 0.8447223118568714, 0.8433791366390592, 0.8434172313649564, 0.8463801046932702, 0.8451807930873758, 0.8432496145710087, 0.8436623821304363, 0.8431962819547525, 0.8458431931447421, 0.8460627980352085, 0.8430860313362734, 0.8450423075544082, 0.8441459610627083, 0.8450028683087735, 0.8431147144240079, 0.8439769997490232, 0.8463267720770141, 0.8447303789752967, 0.8422492918862715, 0.842313828833674, 0.8468184181277114, 0.8438546484529059, 0.8444552006023448, 0.846022462443082, 0.845004212828511, 0.8445896525760999, 0.8451642106772795, 0.8449679107955972, 0.8437578430318025, 0.8432697823670718, 0.8437376752357392, 0.845216198773798, 0.8438559929726436, 0.845681850776236, 0.8441181743214659, 0.844090387580223, 0.8435162776522893, 0.8469174644150442, 0.8439895485999067, 0.8444968807142088, 0.8428632892330861, 0.845314796887885, 0.8440527410275716, 0.8439514538740094, 0.8419091283926716, 0.844296547273314, 0.8441284823061204, 0.8432039008999319, 0.8440939729661898, 0.8468412749632499, 0.8419154028181133, 0.8431371230863003, 0.843726470904593, 0.8444435480979527, 0.8431133699042701, 0.846144813739199, 0.8440316768850167, 0.8428870424151159, 0.8451556953856083, 0.8431649098275429, 0.8421610017568391, 0.8420646445089813, 0.847013821662902, 0.8464329891362805, 0.8446295399949805, 0.8442750349575132, 0.8437228855186261, 0.8423429600946541, 0.8446739091463197, 0.8426154494281309, 0.8426468215553404, 0.8436659675164031, 0.8457257717543294, 0.8447702663941774, 0.8468506866014127, 0.8442875838083971, 0.8445587286221361, 0.844490158115521, 0.8431613244415763, 0.8435010397619304, 0.8458467785307089, 0.8423443046143917, 0.8444408590584777, 0.8452690832168083, 0.8452587752321536, 0.8452560861926787, 0.8445842744971496, 0.8469237388404861, 0.8443852855759922, 0.8456518231687642, 0.842439317342512, 0.8453484098813236, 0.8439102219353912, 0.8449195080850453, 0.8416693557061419, 0.8433240113298198, 0.8461008927611058, 0.8436399734681439, 0.8441405829837583, 0.8445139112975513, 0.8457616256139973, 0.8439393531963716, 0.8437766663081281, 0.8432635079416297, 0.8440410885231794, 0.8464881144455199, 0.8439899967731526, 0.8464343336560181, 0.8438564411458894, 0.8434199204044315, 0.8437672546699652, 0.8427848589150623, 0.8471106270840056, 0.8463706930551075, 0.8441226560539243, 0.8430174608296583, 0.8406936825499265, 0.8436726901150909, 0.8448025348678787, 0.8453331719909648, 0.8427472123624109, 0.843230791294683, 0.8431039582661074, 0.8442320103259117, 0.8447648883152272, 0.8435570614176616, 0.8419700799541071, 0.8439250116525043, 0.8443032698720017, 0.8441921229070308, 0.8447478577318848, 0.8455940088200495, 0.8441535800078879, 0.8452789430282169, 0.8439411458893551, 0.8454138431752178, 0.8449325051091751, 0.8431900075293105, 0.8443386755584239, 0.844105625470582, 0.8445650030475781, 0.8468829550751138, 0.8438465813344806, 0.8450916066114518, 0.8454461116489189, 0.842086604998028, 0.8436816535800079, 0.8446434333656018, 0.841361012512997, 0.8428856978953785, 0.8438851242336237, 0.8427611057330322, 0.8429775734107777, 0.8438510630669391, 0.8443176114158689, 0.8424850310135886, 0.8463110860134093, 0.845401294324334, 0.8454927216664874, 0.8426105195224267, 0.8436982359901044, 0.844708866659496, 0.8467014449105447, 0.8455953533397869, 0.8428785271234449, 0.8433204259438528, 0.8435427198737944, 0.8448899286508194, 0.8471128679502348, 0.843200763687211, 0.8453542361335197, 0.8461717041339502, 0.8433473163386038, 0.8415900290416263, 0.8448764834534439, 0.842191477537557, 0.84479805313542, 0.8461497436449035, 0.843248270051271, 0.8438358251765803, 0.8459686816535799, 0.8436328026962103, 0.8449136818328493, 0.8440868021942561, 0.843791456025241, 0.8434840091785881, 0.8439147036678498, 0.8439864113871859, 0.84529373274533, 0.8430318023735255, 0.8462698540747912, 0.8447675773547022, 0.8433280448890322, 0.8431658061740346, 0.845490928973504, 0.8456921587608905, 0.8446510523107813, 0.8438291025778923, 0.845054856405292, 0.8449827005127102, 0.8448921695170485, 0.8437457423541644, 0.8438958803915242, 0.844789089670503, 0.8432962245885769, 0.8431129217310243, 0.843553027858449, 0.8456428597038471, 0.8413592198200136, 0.8431877666630812, 0.844591893442329, 0.8429627836936645, 0.8435924671040838, 0.8438810906744112, 0.8452135097343227, 0.8453372055501774, 0.8449239898175038, 0.8461192678641856, 0.8439743107095479, 0.8442983399662974, 0.8434069233803019, 0.8453076261159513, 0.8458467785307088, 0.8443364346921945, 0.8448088092933205, 0.8435956043168048, 0.8450575454447671, 0.844768473701194, 0.8436587967444695, 0.8447805743788318, 0.846040389372916, 0.8444780574378832, 0.8430622781542434, 0.8438550966261518, 0.8430793087375856, 0.8431061991323365, 0.844612957584884, 0.8466888960596608, 0.8447429278261804, 0.8434799756193755, 0.8433916854899429, 0.8461008927611057, 0.8431702879064932, 0.845276253988742, 0.8439980638915779, 0.8462649241690868, 0.8454703130041948, 0.8455689111182819, 0.846126886809365, 0.8458499157434298, 0.8439492130077804, 0.8433509017245707, 0.843961761858664, 0.8424491771539206, 0.8443283675737694, 0.8428525330751856, 0.8454349073177728, 0.8448298734358753, 0.8444139686637266, 0.8449943530171025, 0.8430084973647413, 0.8453000071707719, 0.8436686565558783, 0.8440805277688144, 0.8441150371087447, 0.8452619124448747, 0.8464648094367359, 0.8453340683374566, 0.8459135563443404, 0.8430456957441468, 0.8434701158079667, 0.8456710946183357, 0.8432281022552078, 0.842991466781399, 0.8449755297407766, 0.8446089240256713, 0.843785629773045, 0.8413538417410635, 0.8450230361048366, 0.845040514861425, 0.8447926750564699, 0.8450499264995878, 0.8439442831020758, 0.8432724714065469, 0.8417464415044281, 0.8416034742390018, 0.8442234950342404, 0.844553798716432, 0.8448495930586928, 0.8441513391416584, 0.8429896740884155, 0.8456119357498835, 0.8458333333333333, 0.8455532250546771, 0.8465611666845935, 0.8457943422609444, 0.845580563622674, 0.8435870890251336, 0.8451843784733426, 0.8450602344842423, 0.841152611953677, 0.8448348033415797, 0.84497732243376, 0.8445721738195117, 0.8432133125380947, 0.840423434082679, 0.8455308163923848, 0.8408433724140403, 0.8453721630633537, 0.8456347925854218, 0.8435010397619304, 0.8439474203147967, 0.8451807930873759, 0.8430824459503065, 0.8452816320676921, 0.8427884443010291, 0.8447433759994263, 0.8438654046108063, 0.8454066724032842, 0.8446438815388477, 0.8460753468860923, 0.845049030153096, 0.8424760675486715, 0.8426893980136961, 0.8445309418808935, 0.8447146929116919, 0.8431335377003334, 0.8441392384640207, 0.8453972607651214, 0.8441213115341866, 0.8451969273242264, 0.8457611774407514, 0.8433876519307305, 0.8435431680470402, 0.8445166003370262, 0.8427395934172313, 0.8451350794162992, 0.8434270911763652, 0.8448119465060414, 0.8455698074647737, 0.8460264960022946, 0.8434512925316411, 0.8456831952959736, 0.845616417482342, 0.8454474561686566, 0.8441325158653328, 0.8433984080886308, 0.8444650604137536, 0.844568140260299, 0.8420848123050446, 0.8438671973037897, 0.8452332293571403, 0.8454770356028827, 0.8464253701911012, 0.8426566813667491, 0.8448177727582374, 0.8437963859309454, 0.8453367573769317, 0.8439303897314546, 0.8454685203112113, 0.8448939622100319, 0.843544064393532, 0.8445578322756444, 0.8420848123050446, 0.8445425943852856, 0.8449858377254313, 0.8456908142411531, 0.8444915026352587, 0.8456240364275213, 0.8431066473055824, 0.8442790685167257, 0.8450866767057474, 0.8453479617080779, 0.8456477896095514, 0.8457298053135418, 0.8427306299523143, 0.8434795274461296, 0.8450718869886342, 0.8437632211107525, 0.8436592449177154, 0.8455465024559895, 0.8449809078197269, 0.8426477179018321, 0.8442382847513534, 0.8456217955612922, 0.8437663583234736, 0.8437762181348822, 0.844747409558639, 0.845389193646696, 0.8454559714603278, 0.844037054963967, 0.8451955828044889, 0.8419965221756122, 0.845308522462443, 0.845311659675164, 0.8427485568821483, 0.8444883654225378, 0.8458597755548385, 0.8440975583521566, 0.8443960417338927, 0.842161898103331, 0.8453640959449286, 0.8445564877559071, 0.8442665196658421, 0.84556263669284, 0.8460350112939659, 0.8440092682227242, 0.8448751389337062, 0.8449468466530422, 0.8434365028145281, 0.8450584417912588, 0.8454272883725934, 0.8418553476031695, 0.8455088559033379, 0.8436924097379084, 0.84265981857947, 0.8454438707826898, 0.8456208992148004, 0.8431935929152774, 0.8432003155139651, 0.8439729661898103, 0.8448809651859023, 0.8456007314187373, 0.8455402280305475, 0.8440312287117709, 0.8448388369007923, 0.8433316302749991, 0.8441755404969344, 0.8459301387544368, 0.8436139794198845, 0.8471872647090459, 0.843206589939407, 0.8435503388189739, 0.8453578215194867, 0.8435355491018608, 0.8449199562582912, 0.8419369151339141, 0.8434790792728837, 0.8446644975081568, 0.8436072568211969, 0.8413547380875551, 0.8461035818005808, 0.8430806532573232, 0.8462886773511169, 0.8435207593847478, 0.8432079344591445, 0.8453730594098454, 0.8436009823957549, 0.8461968018357177, 0.8454940661862249, 0.8450181061991323, 0.8449580509841885, 0.8451305976838407, 0.8444704384927038, 0.8440841131547812, 0.845795686780682, 0.8450665089096842, 0.8431586354021011, 0.842343856441146, 0.8443073034312143, 0.8431416048187588, 0.8451758631816716, 0.8424675522570005, 0.8432787458319888, 0.8459364131798789, 0.8428973503997703, 0.8442167724355527, 0.8466413896956007, 0.843720196479151, 0.8434450181061991, 0.8448410777670216, 0.8441222078806784, 0.8428386397045642, 0.8421999928292281, 0.8447052812735292, 0.8450579936180128, 0.8469201534545194, 0.8444377218457566, 0.8429520275357641, 0.8444041088523181, 0.8442553153346957, 0.8452834247606754, 0.8431922483955399, 0.8452251622387149, 0.8445726219927573, 0.8455666702520527, 0.842740489763723, 0.8442279767666989, 0.8427543831343444, 0.846330357462981, 0.8439994084113154, 0.844559176795382, 0.8449275752034706, 0.8431111290380411, 0.8445645548743322, 0.8448715535477394, 0.8450750242013553, 0.8448540747911514, 0.8448020866946326, 0.8439908931196443, 0.8456244846007673, 0.8455550177476606, 0.8436435588541107, 0.8447563730235559, 0.844176885016672, 0.8447514431178516, 0.8445838263239036, 0.8445484206374817, 0.8447913305367323, 0.8426132085619018, 0.8449163708723245, 0.8447577175432934, 0.8448097056398122, 0.8424671040837546, 0.84464253701911, 0.8443669104729123, 0.8429421677243555, 0.8464984224301746, 0.8452466745545157, 0.8425195403535191, 0.8431510164569217, 0.8453112115019182, 0.8432738159262845, 0.8449602918504178, 0.8427476605356568, 0.8456141766161128, 0.8431447420314797, 0.8453766447958122, 0.8439285970384711, 0.8444623713742785, 0.8433320784482451, 0.8457289089670503, 0.8447120038722168, 0.8460932738159264, 0.8446259546090137, 0.8446259546090136, 0.8475090530995663, 0.8426620594456993, 0.8441293786526118, 0.8424402136890036, 0.8434575669570828, 0.8435274819834356, 0.8442454555232871, 0.847264798680578, 0.8417688501667204, 0.8452296439711735, 0.8432025563801944, 0.8443023735255101, 0.8425128177548313, 0.8442642787996126, 0.8441777813631639, 0.8457333906995087, 0.84475054677136, 0.8444919508085046, 0.8436211501918183, 0.8432581298626798, 0.8443413645978989, 0.8450987773833853, 0.8436269764440142, 0.8448227026639418, 0.8418351798071063, 0.8443660141264206, 0.8427127030224802, 0.845007350041232, 0.8428883869348536, 0.8441594062600839, 0.8446653938546484, 0.8438205872862213, 0.8451409056684953, 0.8448011903481409, 0.844224839553978, 0.844997938403069, 0.8459498583772542, 0.8444090387580223, 0.8434880427378006, 0.8430676562331935, 0.8431268151016458, 0.8454918253199957, 0.8451785522211467, 0.8435068660141265, 0.8457580402280306, 0.8429560610949769, 0.8433509017245708, 0.8445766555519701, 0.8449912158043813, 0.8438376178695637, 0.8449544655982216, 0.8459588218421713, 0.8452896991861174, 0.8434293320425943, 0.8447904341902405, 0.843072137965652, 0.8448599010433473, 0.8452560861926788, 0.8441186224947115, 0.8435413753540568, 0.8446223692230469, 0.8462304148291564, 0.8445452834247607, 0.8453439281488654, 0.8428964540532788, 0.8455733928507403, 0.8441930192535225, 0.8451158079667276, 0.8443557061417662, 0.8435978451830342, 0.8445605213151195, 0.8431832849306229, 0.8429417195511096, 0.8457114302104621, 0.8439169445340792, 0.8431877666630813, 0.8412695851708436, 0.842313380660428, 0.8453147968878849, 0.8433804811587966, 0.8448773797999355, 0.8452690832168084, 0.8430586927682765, 0.8451736223154422, 0.8464997669499122, 0.8465011114696497, 0.8446945251156286, 0.8436713455953533, 0.843695995123875, 0.8429363414721593, 0.8442472482162705, 0.8449522247319925, 0.8441992936789645, 0.8429968448603492, 0.841253450933993, 0.8429672654261231, 0.8447371015739844, 0.8423832956867807, 0.8420991538489118, 0.8442710013983005, 0.8445394571725647, 0.8438241726721882, 0.8455742891972321, 0.8445663475673157, 0.8438228281524507, 0.8457629701337349, 0.8451745186619339, 0.8421654834892977, 0.8443158187228854, 0.8457629701337349, 0.8441916747337851, 0.8440115090889534, 0.8447492022516224, 0.845159280771575, 0.8426414434763903, 0.8432935355491018, 0.8440679789179305, 0.8428234018142053, 0.8440688752644222, 0.8433226668100822, 0.8429623355204188, 0.8454263920261017, 0.8433325266214907, 0.8438582338388727, 0.8437322971567889, 0.8432455810117959, 0.8432796421784804, 0.84369868416335, 0.8466844143272023, 0.8425415008425658, 0.8452874583198882, 0.843968036284106, 0.8452516044602201, 0.843508210533864, 0.8431635653078053, 0.8433683804811587, 0.843421264924169, 0.8440289878455416, 0.844463715894016, 0.8442208059947653, 0.8458718762324764, 0.8456182101753253, 0.8472154996235344, 0.8426011078842637, 0.8445318382273852, 0.8426876053207129, 0.843968036284106, 0.8461640851887706, 0.8460426302391452, 0.8439810333082356, 0.8430519701695888, 0.8455424688967768, 0.8450472374601126, 0.8474543759635725, 0.8443279194005235, 0.8461546735506076, 0.8447630956222436, 0.8447483059051306, 0.8454098096160053, 0.8444426517514609, 0.8449898712846439, 0.8447931232297157, 0.8452686350435624, 0.8434719085009502, 0.8435095550536016, 0.8439519020472553, 0.8448890323043275, 0.8447218636836256, 0.8449827005127102, 0.8456123839231294, 0.8425249184324691, 0.8454501452081316, 0.8437896633322578, 0.8446048904664587, 0.8437636692839985, 0.8439250116525046, 0.84448164282385, 0.8447617511025061, 0.8461757376931626, 0.8439335269441756, 0.8449782187802517, 0.8438420996020222, 0.8455411243770392, 0.8451790003943924, 0.8450149689864113, 0.8451740704886882, 0.843421264924169, 0.8446358144204223, 0.8433078770929691, 0.8456782653902692, 0.8447227600301174, 0.8461501918181492, 0.844896651249507, 0.8444059015453013, 0.8433759994263382, 0.8438165537270087, 0.8421686207020185, 0.8421273887634003, 0.8449620845434012, 0.844702592234054, 0.8447559248503101, 0.8442642787996129, 0.8446026496002296, 0.8413480154888673, 0.8443839410562547, 0.8424379728227743, 0.8460856548707468, 0.8442409737908286, 0.8419239181097844, 0.8450136244666738, 0.8435870890251336, 0.8427723100641784, 0.8458257143881538, 0.8418867197303791, 0.8441033846043526, 0.8437367788892475, 0.843275160446022, 0.8429264816607508, 0.8430412140116883, 0.8436717937685991, 0.8455971460327706, 0.8443386755584238, 0.845455075113836, 0.842997293033595, 0.8440899394069773, 0.8444318955935607, 0.8452695313900541, 0.843973862536302, 0.8435740920010039, 0.8455267828331721, 0.8452291957979277, 0.8450862285325015, 0.8461080635330394, 0.8448930658635403, 0.8453510989207988, 0.8448688645082643, 0.8417661611272453, 0.8431411566455128, 0.8444610268545408, 0.8435915707575922, 0.8429112437703918, 0.8451261159513822, 0.8430707934459144, 0.8420740561471443, 0.8448962030762611, 0.8454447671291815, 0.8436413179878814, 0.842806371230863, 0.8443574988347496, 0.8439294933849629, 0.8440173353411495, 0.8430465920906386, 0.8461040299738267, 0.8442468000430245, 0.8443924563479259, 0.841811874798322, 0.8433105661324442, 0.8425674948908249, 0.8453327238177191, 0.8421099100068121, 0.8419750098598113, 0.8462389301208275, 0.8442257359004697, 0.8443615323939623, 0.8440859058477644, 0.8448899286508192, 0.8442064644508981, 0.8438909504858197, 0.8453712667168621, 0.8427189774479222, 0.8460847585242551, 0.8453139005413932, 0.8418427987522856, 0.8448034312143702, 0.845520956580976, 0.846631529884192, 0.8439752070560396, 0.8435198630382561, 0.8461134416119895, 0.8415532788354667, 0.843857337492381, 0.8458467785307087, 0.8452726686027752, 0.8424348356100534, 0.8437502240866229, 0.8440675307446845, 0.843672241941845, 0.8451238750851527, 0.8464961815639453, 0.8444574414685742, 0.8449289197232082, 0.8443090961241978, 0.8437278154243304, 0.8433016026675271, 0.8433123588254275, 0.8452188878132731, 0.8433876519307304, 0.8421511419454305, 0.8457647628267183, 0.843821931805959, 0.8460323222544907, 0.8452354702233696, 0.8463989279695958, 0.8452753576422501, 0.8438555447993976, 0.8447335161880177, 0.8449759779140223, 0.8431523609766591, 0.8449871822451686, 0.8450328959162455, 0.8442575562009251, 0.8445053960058801, 0.8437551539923273, 0.8417692983399664, 0.844162095299559, 0.8439635545516475, 0.8433540389372916, 0.8430492811301137, 0.8438887096195906, 0.8449145781793411, 0.8450288623570328, 0.8461582589365746, 0.8451928937650138, 0.8456468932630599, 0.8446013050804919, 0.8440576709332759, 0.8428283317199097, 0.8437152665734468, 0.8429332042594386, 0.8437954895844538, 0.8410782151948658, 0.8426741601233373, 0.8408599548241368, 0.8448348033415798, 0.8418114266250762, 0.8433795848123049, 0.8426279982790148, 0.842343856441146, 0.84383044709763, 0.8437506722598689, 0.8444493743501489, 0.8448123946792874, 0.8427413861102147, 0.8429820551432362, 0.844036606790721, 0.8433643469219462, 0.8440101645692158, 0.8451722777957047, 0.8444027643325803, 0.8437860779462909, 0.8444014198128428, 0.843140708472267]\n"
     ]
    }
   ],
   "source": [
    "t_51 = auc_bootstrap\n",
    "print(t_51)"
   ]
  },
  {
   "cell_type": "code",
   "execution_count": 103,
   "id": "0a8c76b0",
   "metadata": {},
   "outputs": [],
   "source": [
    "del X_train, X_test, y_train, y_test, X_val, y_val,study, optuna_auc"
   ]
  },
  {
   "cell_type": "code",
   "execution_count": 104,
   "id": "855a99d1",
   "metadata": {},
   "outputs": [],
   "source": [
    "# 52\n",
    "column_to_drop_51 = 'Cat_현재 주택의 유형'"
   ]
  },
  {
   "cell_type": "code",
   "execution_count": 105,
   "id": "1ce484e4",
   "metadata": {},
   "outputs": [
    {
     "name": "stdout",
     "output_type": "stream",
     "text": [
      "(10564, 18)\n"
     ]
    }
   ],
   "source": [
    "if not column_to_drop_51.startswith('Cat_'):\n",
    "    comp_52 = comp_51.drop(column_to_drop_51, axis=1)\n",
    "    X_52 = comp_52.drop('target', axis=1)\n",
    "    y_52 = comp_52['target']\n",
    "else:\n",
    "    comp_52 = comp_51.drop(comp_51.filter(regex='^' + column_to_drop_51).columns, axis=1)\n",
    "    X_52 = comp_52.drop('target', axis=1)\n",
    "    y_52 = comp_52['target']\n",
    "\n",
    "print(X_52.shape)"
   ]
  },
  {
   "cell_type": "code",
   "execution_count": 106,
   "id": "a6d390c7",
   "metadata": {},
   "outputs": [],
   "source": [
    "X_train, X_test, y_train, y_test = train_test_split(X_52, y_52, test_size=0.2, shuffle=True, stratify=y_52, random_state = 0)\n",
    "X_train, X_val, y_train, y_val = train_test_split(X_train, y_train, test_size=0.2, shuffle=True, stratify=y_train, random_state = 0)"
   ]
  },
  {
   "cell_type": "code",
   "execution_count": 107,
   "id": "fbbed6a2",
   "metadata": {},
   "outputs": [],
   "source": [
    "def objective(trial):\n",
    "    params = {\n",
    "        'learning_rate' :trial.suggest_float('learning_rate',0.01, 0.1,step=0.01),        \n",
    "        'n_estimators' :trial.suggest_int('n_estimators', 50, 200),\n",
    "        'subsample':trial.suggest_float('subsample', 0.1, 1.0,step=0.1),\n",
    "        'max_depth' :trial.suggest_int('max_depth', 1, 10),\n",
    "        'min_samples_split' :trial.suggest_int('min_samples_split', 3, 10),\n",
    "        'min_samples_leaf' :trial.suggest_int('min_samples_leaf', 3, 10),\n",
    "        }\n",
    "        \n",
    "    clf = GradientBoostingClassifier(**params,random_state = 0)\n",
    "    clf.fit(X_train, y_train)\n",
    "    clf_proba = clf.predict_proba(X_val)[:, 1]\n",
    "        \n",
    "    AUC_SCORE = roc_auc_score(y_val, clf_proba)\n",
    "    return AUC_SCORE\n",
    "\n",
    "direction = \"maximize\"\n",
    "sampler = optuna.samplers.TPESampler(seed=10)\n",
    "study =  optuna.create_study(direction=direction, sampler=sampler, pruner=optuna.pruners.HyperbandPruner())\n",
    "early_stopping = EarlyStoppingCallback(10, direction=direction)\n",
    "study.optimize(objective, callbacks=[early_stopping], n_trials=200) "
   ]
  },
  {
   "cell_type": "code",
   "execution_count": 108,
   "id": "5423f7b4",
   "metadata": {},
   "outputs": [
    {
     "name": "stdout",
     "output_type": "stream",
     "text": [
      "{'learning_rate': 0.09999999999999999, 'n_estimators': 157, 'subsample': 0.6, 'max_depth': 2, 'min_samples_split': 5, 'min_samples_leaf': 8}\n",
      "0.836146379148193\n"
     ]
    }
   ],
   "source": [
    "print(study.best_trial.params)\n",
    "optuna_auc = study.best_trial.value\n",
    "print(optuna_auc)"
   ]
  },
  {
   "cell_type": "code",
   "execution_count": 109,
   "id": "aa30c1f6",
   "metadata": {},
   "outputs": [
    {
     "data": {
      "text/html": [
       "<style>#sk-container-id-8 {color: black;}#sk-container-id-8 pre{padding: 0;}#sk-container-id-8 div.sk-toggleable {background-color: white;}#sk-container-id-8 label.sk-toggleable__label {cursor: pointer;display: block;width: 100%;margin-bottom: 0;padding: 0.3em;box-sizing: border-box;text-align: center;}#sk-container-id-8 label.sk-toggleable__label-arrow:before {content: \"▸\";float: left;margin-right: 0.25em;color: #696969;}#sk-container-id-8 label.sk-toggleable__label-arrow:hover:before {color: black;}#sk-container-id-8 div.sk-estimator:hover label.sk-toggleable__label-arrow:before {color: black;}#sk-container-id-8 div.sk-toggleable__content {max-height: 0;max-width: 0;overflow: hidden;text-align: left;background-color: #f0f8ff;}#sk-container-id-8 div.sk-toggleable__content pre {margin: 0.2em;color: black;border-radius: 0.25em;background-color: #f0f8ff;}#sk-container-id-8 input.sk-toggleable__control:checked~div.sk-toggleable__content {max-height: 200px;max-width: 100%;overflow: auto;}#sk-container-id-8 input.sk-toggleable__control:checked~label.sk-toggleable__label-arrow:before {content: \"▾\";}#sk-container-id-8 div.sk-estimator input.sk-toggleable__control:checked~label.sk-toggleable__label {background-color: #d4ebff;}#sk-container-id-8 div.sk-label input.sk-toggleable__control:checked~label.sk-toggleable__label {background-color: #d4ebff;}#sk-container-id-8 input.sk-hidden--visually {border: 0;clip: rect(1px 1px 1px 1px);clip: rect(1px, 1px, 1px, 1px);height: 1px;margin: -1px;overflow: hidden;padding: 0;position: absolute;width: 1px;}#sk-container-id-8 div.sk-estimator {font-family: monospace;background-color: #f0f8ff;border: 1px dotted black;border-radius: 0.25em;box-sizing: border-box;margin-bottom: 0.5em;}#sk-container-id-8 div.sk-estimator:hover {background-color: #d4ebff;}#sk-container-id-8 div.sk-parallel-item::after {content: \"\";width: 100%;border-bottom: 1px solid gray;flex-grow: 1;}#sk-container-id-8 div.sk-label:hover label.sk-toggleable__label {background-color: #d4ebff;}#sk-container-id-8 div.sk-serial::before {content: \"\";position: absolute;border-left: 1px solid gray;box-sizing: border-box;top: 0;bottom: 0;left: 50%;z-index: 0;}#sk-container-id-8 div.sk-serial {display: flex;flex-direction: column;align-items: center;background-color: white;padding-right: 0.2em;padding-left: 0.2em;position: relative;}#sk-container-id-8 div.sk-item {position: relative;z-index: 1;}#sk-container-id-8 div.sk-parallel {display: flex;align-items: stretch;justify-content: center;background-color: white;position: relative;}#sk-container-id-8 div.sk-item::before, #sk-container-id-8 div.sk-parallel-item::before {content: \"\";position: absolute;border-left: 1px solid gray;box-sizing: border-box;top: 0;bottom: 0;left: 50%;z-index: -1;}#sk-container-id-8 div.sk-parallel-item {display: flex;flex-direction: column;z-index: 1;position: relative;background-color: white;}#sk-container-id-8 div.sk-parallel-item:first-child::after {align-self: flex-end;width: 50%;}#sk-container-id-8 div.sk-parallel-item:last-child::after {align-self: flex-start;width: 50%;}#sk-container-id-8 div.sk-parallel-item:only-child::after {width: 0;}#sk-container-id-8 div.sk-dashed-wrapped {border: 1px dashed gray;margin: 0 0.4em 0.5em 0.4em;box-sizing: border-box;padding-bottom: 0.4em;background-color: white;}#sk-container-id-8 div.sk-label label {font-family: monospace;font-weight: bold;display: inline-block;line-height: 1.2em;}#sk-container-id-8 div.sk-label-container {text-align: center;}#sk-container-id-8 div.sk-container {/* jupyter's `normalize.less` sets `[hidden] { display: none; }` but bootstrap.min.css set `[hidden] { display: none !important; }` so we also need the `!important` here to be able to override the default hidden behavior on the sphinx rendered scikit-learn.org. See: https://github.com/scikit-learn/scikit-learn/issues/21755 */display: inline-block !important;position: relative;}#sk-container-id-8 div.sk-text-repr-fallback {display: none;}</style><div id=\"sk-container-id-8\" class=\"sk-top-container\"><div class=\"sk-text-repr-fallback\"><pre>GradientBoostingClassifier(learning_rate=0.09999999999999999, max_depth=2,\n",
       "                           min_samples_leaf=8, min_samples_split=5,\n",
       "                           n_estimators=157, random_state=0, subsample=0.6)</pre><b>In a Jupyter environment, please rerun this cell to show the HTML representation or trust the notebook. <br />On GitHub, the HTML representation is unable to render, please try loading this page with nbviewer.org.</b></div><div class=\"sk-container\" hidden><div class=\"sk-item\"><div class=\"sk-estimator sk-toggleable\"><input class=\"sk-toggleable__control sk-hidden--visually\" id=\"sk-estimator-id-8\" type=\"checkbox\" checked><label for=\"sk-estimator-id-8\" class=\"sk-toggleable__label sk-toggleable__label-arrow\">GradientBoostingClassifier</label><div class=\"sk-toggleable__content\"><pre>GradientBoostingClassifier(learning_rate=0.09999999999999999, max_depth=2,\n",
       "                           min_samples_leaf=8, min_samples_split=5,\n",
       "                           n_estimators=157, random_state=0, subsample=0.6)</pre></div></div></div></div></div>"
      ],
      "text/plain": [
       "GradientBoostingClassifier(learning_rate=0.09999999999999999, max_depth=2,\n",
       "                           min_samples_leaf=8, min_samples_split=5,\n",
       "                           n_estimators=157, random_state=0, subsample=0.6)"
      ]
     },
     "execution_count": 109,
     "metadata": {},
     "output_type": "execute_result"
    }
   ],
   "source": [
    "optuna_52 = GradientBoostingClassifier(**study.best_trial.params, random_state = 0)\n",
    "optuna_52.fit(X_train, y_train)"
   ]
  },
  {
   "cell_type": "code",
   "execution_count": 110,
   "id": "05b135aa",
   "metadata": {},
   "outputs": [
    {
     "name": "stdout",
     "output_type": "stream",
     "text": [
      "0.8426530959807823\n"
     ]
    }
   ],
   "source": [
    "optuna_proba_52 = optuna_52.predict_proba(X_test)[:, 1]\n",
    "auc_52 = roc_auc_score(y_test, optuna_proba_52)\n",
    "print(auc_52)"
   ]
  },
  {
   "cell_type": "code",
   "execution_count": 111,
   "id": "4bc24252",
   "metadata": {},
   "outputs": [],
   "source": [
    "X_train = X_train.values\n",
    "y_train = y_train.values"
   ]
  },
  {
   "cell_type": "code",
   "execution_count": 112,
   "id": "d8508b20",
   "metadata": {},
   "outputs": [],
   "source": [
    "auc_bootstrap = []"
   ]
  },
  {
   "cell_type": "code",
   "execution_count": 113,
   "id": "67bde404",
   "metadata": {},
   "outputs": [
    {
     "data": {
      "text/plain": [
       "array([0.83757747, 0.84377437])"
      ]
     },
     "execution_count": 113,
     "metadata": {},
     "output_type": "execute_result"
    }
   ],
   "source": [
    "rs = RandomState(seed = 52)\n",
    "bootstrap_auc(optuna_52, X_train, y_train, X_test, y_test, nsamples=2000)"
   ]
  },
  {
   "cell_type": "code",
   "execution_count": 114,
   "id": "c7276c80",
   "metadata": {},
   "outputs": [
    {
     "data": {
      "text/plain": [
       "0.8408929336524327"
      ]
     },
     "execution_count": 114,
     "metadata": {},
     "output_type": "execute_result"
    }
   ],
   "source": [
    "np.mean(auc_bootstrap)"
   ]
  },
  {
   "cell_type": "code",
   "execution_count": 115,
   "id": "397a3308",
   "metadata": {},
   "outputs": [
    {
     "name": "stdout",
     "output_type": "stream",
     "text": [
      "[0.8433491090315872, 0.8407653902692626, 0.8404489799576924, 0.8409002904162632, 0.8408469578000071, 0.8401020938654047, 0.8389036786060019, 0.8386186404216415, 0.8432249650424868, 0.8415133914165859, 0.8417329963070526, 0.8431272632748916, 0.8424308020508408, 0.8422371912086335, 0.8391577928363989, 0.842382399340289, 0.8408187228855187, 0.8398923487863469, 0.8408554730916783, 0.8402974974005951, 0.8430506256498513, 0.8388611021476462, 0.839360367143523, 0.840907461188197, 0.8410508766268688, 0.8397691011437382, 0.841182191387903, 0.8406376608941952, 0.8422833530529563, 0.8392492201785523, 0.8433437309526371, 0.838829281847191, 0.8410755261553907, 0.841023538058872, 0.8420408913269513, 0.8387015524721236, 0.8430425585314258, 0.8398865225341507, 0.8424079452153024, 0.8418620702018573, 0.8409634828439281, 0.8407895916245384, 0.8422802158402352, 0.8404216413896956, 0.8443081997777061, 0.8415362482521244, 0.8416841454232548, 0.8417549567960991, 0.8405816392384641, 0.8412050482234412, 0.8415734466315299, 0.8376142841776917, 0.8400545875013445, 0.8404050589795993, 0.8435032806281596, 0.8402002438062457, 0.8398551504069414, 0.8409088057079345, 0.8407954178767344, 0.8395589078914345, 0.842743626976444, 0.8371674554515794, 0.8407013014951059, 0.8408518877057116, 0.8418262163421892, 0.8385057007636871, 0.8396835000537808, 0.8389211573625901, 0.8409702054426159, 0.843038973145459, 0.8408196192320103, 0.8422551181384675, 0.8432827793912014, 0.840960793804453, 0.8392559427772401, 0.8394517944856764, 0.8418436950987774, 0.8365933455236456, 0.8405838801046932, 0.8415523824889749, 0.84333476748772, 0.8434033379943351, 0.8438403069090388, 0.8411481302212183, 0.8414699186117385, 0.8419620128356816, 0.8375371983794057, 0.8396920153454519, 0.8379714782546341, 0.8407577713240829, 0.8410226417123803, 0.8408052776881431, 0.8406856154315012, 0.8394302821698755, 0.8402392348786346, 0.8379244200638198, 0.8366430927539349, 0.8391412104263024, 0.8403808576243232, 0.8408778817539708, 0.8443915600014341, 0.841886719730379, 0.8427315262988061, 0.8439232189595209, 0.8415129432433401, 0.8406842709117636, 0.8410123337277258, 0.8415124950700942, 0.8427185292746765, 0.8394634469900685, 0.8405681940410887, 0.8410239862321179, 0.8415039797784232, 0.8402903266286617, 0.8406385572406869, 0.8417603348750493, 0.8407734573876878, 0.8443713922053708, 0.8381395432218278, 0.8386002653185616, 0.8395696640493349, 0.8408680219425622, 0.8409168728263599, 0.838957011222258, 0.8400317306658062, 0.839038130579757, 0.8416433616578824, 0.8411544046466602, 0.8422174715858162, 0.8415600014341543, 0.8394361084220716, 0.8406313864687532, 0.8433181850776236, 0.8443373310386865, 0.842848051342727, 0.843200763687211, 0.8410607364382776, 0.8389256390950486, 0.8406753074468467, 0.8391622745688574, 0.8399591265999784, 0.8396095514682157, 0.8406627585959627, 0.8412229751532754, 0.8396364418629666, 0.8418849270373957, 0.8418979240615253, 0.8419490158115521, 0.8392917966369079, 0.8394513463124306, 0.8410118855544799, 0.8371867269011509, 0.8407694238284752, 0.8421269405901548, 0.8422192642787996, 0.8414537843748879, 0.842018034491413, 0.8390063102793017, 0.839408321680829, 0.8441701624179843, 0.8417168620702019, 0.8401939693808038, 0.840757771324083, 0.8433889964504678, 0.8401352586855975, 0.8402670216198774, 0.8434526370513785, 0.8398000250977018, 0.8390009322003513, 0.841713276684235, 0.8427530386146069, 0.8419933849628912, 0.8431187479832205, 0.8365799003262702, 0.8408989458965257, 0.8423922591516977, 0.8397758237424258, 0.8419517048510272, 0.8388113549173568, 0.8399089311964434, 0.839390394750995, 0.8395701122225808, 0.8413054390305117, 0.8411037610698793, 0.8405502671112545, 0.8420054856405292, 0.8396292710910329, 0.8372064465239684, 0.8412884084471693, 0.8386042988777741, 0.8414367537915457, 0.8428565666343983, 0.8390520239503783, 0.8405502671112546, 0.8435826072926751, 0.8399896023806963, 0.8418947868488041, 0.8391757197662328, 0.8401061274246173, 0.8427969595927001, 0.8405664013481051, 0.84231965508587, 0.8423425119214085, 0.840363827040981, 0.8405171022910616, 0.8416021297192643, 0.8408886379118713, 0.8403593453085224, 0.843102165573124, 0.8413027499910365, 0.8420243089168549, 0.8405108278656199, 0.8393540927180811, 0.8417034168728265, 0.8430999247068947, 0.8409168728263597, 0.842707773116776, 0.8401599082141193, 0.8392205370908178, 0.8413565307805384, 0.8429484421497974, 0.8413484636621131, 0.8389404288121616, 0.8400967157864544, 0.8396346491699831, 0.8405081388261447, 0.8406197339643613, 0.8423564052920297, 0.8416917643684343, 0.8397986805779643, 0.8406040479007566, 0.8443328493062277, 0.8421022910616328, 0.8407528414183787, 0.8413601161665053, 0.8386042988777743, 0.8416572550285037, 0.8390618837617869, 0.840453013516905, 0.8415483489297624, 0.8422918683446273, 0.8401720088917571, 0.8397637230647881, 0.844153131834642, 0.8431088881718117, 0.8420077265067585, 0.8425181958337814, 0.8387409917177586, 0.8417571976623285, 0.8421802732064105, 0.8411884658133447, 0.8408976013767883, 0.843600534222509, 0.8403405220321968, 0.8388176293427987, 0.8419055430067046, 0.838491807393066, 0.8372409558638989, 0.8369792226883225, 0.842710910329497, 0.8393765013803737, 0.8413193324011329, 0.8404158151374996, 0.839280144132516, 0.8389435660248826, 0.8436762755010577, 0.8418853752106413, 0.8371033666774228, 0.8413834211752896, 0.8414963608332436, 0.8445130149510596, 0.8415653795131046, 0.8429502348427808, 0.8408751927144957, 0.8407940733569969, 0.8406676885016672, 0.8385711340575812, 0.8441540281811336, 0.8388095622243736, 0.8414797784231473, 0.8412642070918934, 0.842044476712918, 0.8425222293929943, 0.8414663332257717, 0.8408796744469543, 0.8412014628374743, 0.8409894768921875, 0.8424433509017244, 0.8414757448639345, 0.8400447276899358, 0.8402405793983722, 0.8400317306658063, 0.8413417410634255, 0.8406936825499265, 0.8438788498081818, 0.8411436484887598, 0.8405296511419454, 0.8411472338747266, 0.8387665375927719, 0.8418840306909039, 0.8409034276289843, 0.8426853644544835, 0.8404436018787422, 0.8431953856082608, 0.8422340539959127, 0.8401581155211358, 0.8413946255064357, 0.8406403499336703, 0.8418468323114983, 0.8404104370585495, 0.8418907532895917, 0.8411951884120326, 0.841704313219318, 0.8394060808145997, 0.8427373525510022, 0.8409374887956689, 0.8391985766017711, 0.8404243304291708, 0.8422999354630527, 0.8413583234735219, 0.8412942346993654, 0.8403701014664229, 0.8412368685238966, 0.8407954178767344, 0.8402934638413825, 0.8398600803126457, 0.8415747911512674, 0.8405677458678427, 0.8399680900648955, 0.8391828905381664, 0.84085636943817, 0.8387795346169016, 0.8360228209816787, 0.8430501774766054, 0.8407828690258505, 0.8411795023484278, 0.8418024631601593, 0.840124950700943, 0.8397789609551469, 0.8434719085009501, 0.8409070130149511, 0.8422318131296834, 0.8413695278046682, 0.8438429959485139, 0.841101072030404, 0.8431182998099747, 0.8441983973324728, 0.8416133340504106, 0.8419606683159443, 0.8419593237962066, 0.8427992004589294, 0.8402033810189666, 0.8408644365565953, 0.8359049514180201, 0.8413516008748342, 0.8387593668208383, 0.8400133555627264, 0.8416756301315838, 0.8395364992291421, 0.8390260299021189, 0.8406309382955074, 0.837574844932057, 0.8408173783657811, 0.8413144024954287, 0.8425150586210606, 0.8440375031372126, 0.8418047040263885, 0.8406430389731455, 0.8386683876519307, 0.8404579434226095, 0.8423985335771396, 0.8399264099530315, 0.841065666343982, 0.83968036284106, 0.8394764440141982, 0.8408837080061669, 0.8408362016421067, 0.8397731347029507, 0.841895683195296, 0.8399501631350614, 0.8384456455487433, 0.8418490731777275, 0.841495464486752, 0.8385379692373884, 0.8419037503137212, 0.8404158151374995, 0.8420476139256391, 0.8414380983112831, 0.8404830411243771, 0.8438676454770356, 0.8408330644293859, 0.8422631852568929, 0.8398130221218314, 0.8386527015883258, 0.8404937972822774, 0.839593417231365, 0.8402213079488008, 0.8395575633716968, 0.8425074396758812, 0.841802463160159, 0.8412117708221291, 0.8430264242945753, 0.8423398228819333, 0.8420494066186225, 0.8395364992291419, 0.8394544835251516, 0.8409186655193431, 0.8400514502886236, 0.8417930515219962, 0.8410472912409022, 0.8403889247427486, 0.8416608404144706, 0.8395853501129397, 0.843747086873902, 0.8404158151374995, 0.8404404646660213, 0.838876788211251, 0.8419499121580438, 0.841638879925424, 0.8427507977483777, 0.8410051629557923, 0.8405193431572909, 0.8422430174608296, 0.8386110214764619, 0.8394750994944605, 0.8421117026997957, 0.8400895450145208, 0.8393289950163136, 0.8428493958624647, 0.838715445842745, 0.8390444050051987, 0.8418038076798968, 0.8388265928077159, 0.8426728156035997, 0.841355186260801, 0.8416133340504106, 0.8416984869671219, 0.8413408447169338, 0.8410060593022838, 0.8427938223799792, 0.8404297085081209, 0.8419418450396186, 0.8381467139937615, 0.8403597934817683, 0.8425477752680075, 0.843000878419562, 0.841068355383457, 0.8445573841023988, 0.8411391667563013, 0.8404713886199848, 0.8404453945717256, 0.8412274568857337, 0.8430403176651966, 0.8436413179878814, 0.8406018070345272, 0.8380906923380301, 0.8406842709117637, 0.841214459861604, 0.8399250654332938, 0.8410522211466064, 0.8395857982861854, 0.8408711591552831, 0.8411759169624611, 0.8416133340504105, 0.8410033702628088, 0.8391447958122691, 0.8423057617152487, 0.8396879817862394, 0.8427006023448423, 0.841283478541465, 0.840725054677136, 0.8388861998494138, 0.8395943135778567, 0.8415438671973039, 0.8404386719730378, 0.8436283209637517, 0.841339948370442, 0.843286812950414, 0.8404525653436592, 0.8401738015847405, 0.8402957047076117, 0.8375775339715321, 0.8432666451543509, 0.8436579003979778, 0.8433791366390592, 0.8420825714388154, 0.8422286759169625, 0.8414977053529811, 0.8408241009644688, 0.8408133448065684, 0.8416240902083109, 0.8410405686422143, 0.8421856512853609, 0.8389507367968163, 0.8420108637194793, 0.8421690688752643, 0.8400837187623247, 0.8401809723566742, 0.8377343946075795, 0.8427288372593311, 0.8400129073894804, 0.842179825033165, 0.840954967552257, 0.8395176759528165, 0.8391228353232225, 0.8406887526442222, 0.8428305725861389, 0.8421748951274605, 0.8398340862643863, 0.8410575992255567, 0.8398260191459611, 0.8421847549388691, 0.8382296260442437, 0.8421323186691048, 0.8418988204080168, 0.8419086802194256, 0.8415653795131046, 0.842489960919293, 0.84274407514969, 0.8395091606611451, 0.8404059553260909, 0.8423895701122226, 0.8398479796350077, 0.8393370621347389, 0.8404565989028718, 0.8411557491663978, 0.840584328277939, 0.840730880929332, 0.83950647162167, 0.8420310315155426, 0.8399196873543437, 0.8403624825212435, 0.8434786310996378, 0.8391470366784983, 0.8426109676956723, 0.8415277329604531, 0.8429636800401563, 0.8397950951919975, 0.841853554910186, 0.841340396543688, 0.8426490624215697, 0.8392451866193396, 0.8397623785450503, 0.8407299845828402, 0.8384487827614643, 0.8381686744828081, 0.8420063819870208, 0.8403620343479975, 0.8420019002545623, 0.8433706213473882, 0.8413305367322793, 0.8402665734466315, 0.8381534365924491, 0.8406260083898032, 0.8441428238499875, 0.8385590333799434, 0.8398116776020939, 0.8417159657237102, 0.8448827578788857, 0.8439187372270625, 0.8415165286293069, 0.8437896633322577, 0.842382399340289, 0.8391349360008604, 0.8428709081782654, 0.8401392922448101, 0.8426315836649816, 0.8373924384209961, 0.8437739772686531, 0.8408944641640673, 0.8422107489871284, 0.8390766734789001, 0.8425688394105626, 0.8403848911835359, 0.8415241475744862, 0.8433195295973611, 0.8421690688752645, 0.8421811695529022, 0.840399232727403, 0.8407761464271628, 0.841173227922986, 0.8407828690258508, 0.8396346491699833, 0.8401159872360259, 0.8402284787207341, 0.8404893155498191, 0.840820515578502, 0.8409244917715393, 0.8409307661969811, 0.8427687246782116, 0.8405829837582016, 0.8421605535835932, 0.8423976372306479, 0.8385057007636872, 0.8438205872862214, 0.8426495105948155, 0.8368725574558102, 0.8385052525904414, 0.8423752285683552, 0.8373014592520884, 0.8404328457208419, 0.8415855473091678, 0.8404709404467391, 0.8411875694668531, 0.8407904879710301, 0.840769872001721, 0.8411176544405006, 0.8396938080384354, 0.8397251801656449, 0.8394087698540748, 0.8436072568211967, 0.8396382345559499, 0.8428928686673121, 0.8406273529095407, 0.8368658348571224, 0.8426302391452439, 0.8372418522103904, 0.8408783299272167, 0.8397475888279373, 0.8415868918289054, 0.8429771252375318, 0.8405171022910616, 0.8418459359650067, 0.8405050016134238, 0.83993089168549, 0.8418557957764153, 0.8381588146713993, 0.8435669212290704, 0.8419239181097844, 0.8409912695851709, 0.8390004840271056, 0.8412556918002224, 0.8404543580366427, 0.8397417625757414, 0.8409383851421606, 0.8379714782546341, 0.8432581298626797, 0.8424169086802193, 0.8401334659926141, 0.8437188519594133, 0.8422313649564376, 0.8406318346419992, 0.8426230683733105, 0.8411185507869924, 0.8406995088021225, 0.8414031407981069, 0.8419534975440106, 0.8413964181994191, 0.840725054677136, 0.8410701480764404, 0.8418598293356281, 0.8409379369689147, 0.8426109676956723, 0.8382569646122405, 0.8396808110143057, 0.8390255817288731, 0.8409858915062207, 0.8390937040622423, 0.8390278225951023, 0.8454783801226201, 0.8430972356674196, 0.8406125631924276, 0.8425930407658384, 0.8395320174966836, 0.8423438564411458, 0.8420767451866195, 0.8401648381198235, 0.8398273636656987, 0.8403683087734394, 0.8367394500017927, 0.8396032770427736, 0.8409840988132372, 0.8433831701982718, 0.8430326987200172, 0.8402181707360799, 0.8379055967874943, 0.8431519128034132, 0.8374211215087304, 0.8422721487218099, 0.840420745043204, 0.8413139543221828, 0.8408967050302966, 0.8393814312860779, 0.8423989817503854, 0.8428184719085009, 0.8418638628948406, 0.8377576996163637, 0.8423196550858699, 0.8396982897708938, 0.8414788820766556, 0.842310691620953, 0.8405811910652182, 0.8422936610376107, 0.8370289699186118, 0.8418638628948407, 0.843200763687211, 0.841271377863827, 0.8393460255996558, 0.842254221791976, 0.8426674375246495, 0.8433903409702055, 0.8396485425406044, 0.8402343049729304, 0.8399506113083073, 0.8390820515578501, 0.8415564160481876, 0.838333154064035, 0.8408483023197448, 0.8428377433580725, 0.8400783406833745, 0.837559607041698, 0.8394701695887563, 0.8426239647198022, 0.8403929583019613, 0.8411243770391883, 0.8413336739450002, 0.8412458319888136, 0.8387002079523862, 0.8412485210282888, 0.8406600695564879, 0.8398618730056291, 0.8407761464271628, 0.8412964755655947, 0.8403450037646552, 0.8418432469255316, 0.8414273421533829, 0.8405793983722348, 0.8394661360295437, 0.8414999462192105, 0.8430291133340504, 0.838533039331684, 0.8384918073930658, 0.8409298698504895, 0.8421748951274605, 0.8391138718583055, 0.8409773762145495, 0.8418504176974652, 0.8418293535549103, 0.8402329604531928, 0.8382116991144097, 0.8414730558244594, 0.8379262127568033, 0.8395217095120289, 0.8443229894948191, 0.8420036929475457, 0.8420117600659711, 0.8433921336631889, 0.8404960381485068, 0.8415582087411708, 0.8392057473737048, 0.8393473701193934, 0.8381010003226846, 0.8424527625398874, 0.8397534150801333, 0.8404059553260909, 0.8389502886235702, 0.8430102900577247, 0.8385254203865047, 0.8386652504392097, 0.8403333512602631, 0.8418670001075615, 0.8409321107167187, 0.8438165537270087, 0.8400084256570219, 0.8400998529991754, 0.840871607328529, 0.8404660105410346, 0.8411539564734143, 0.8441334122118247, 0.8417361335197734, 0.8364575490301529, 0.8413224696138538, 0.8426414434763901, 0.83959610627084, 0.8419933849628912, 0.8414407873507581, 0.8406143558854112, 0.8420265497830841, 0.8384156179412714, 0.8413973145459108, 0.8406336273349826, 0.8402970492273493, 0.8420888458642573, 0.841450647162167, 0.8420041411207917, 0.8421108063533038, 0.8414887418880642, 0.8438999139507367, 0.8389525294897995, 0.8391412104263024, 0.8415219067082572, 0.8406255602165573, 0.8431061991323366, 0.8387418880642503, 0.8401948657272956, 0.8412023591839662, 0.8436086013409343, 0.8413722168441433, 0.8401334659926141, 0.8394500017926929, 0.839915653795131, 0.8408778817539708, 0.8428825606826574, 0.8430555555555556, 0.8420624036427521, 0.8367874045390986, 0.841516528629307, 0.8410459467211645, 0.8383259832921013, 0.8386383600444588, 0.8422631852568929, 0.8406076332867234, 0.8390816033846045, 0.8422604962174177, 0.8413081280699867, 0.8426660930049121, 0.8414098633967948, 0.8381502993797282, 0.8415546233552043, 0.8442745867842674, 0.8431510164569216, 0.840524721236241, 0.8390148255709727, 0.84232503316482, 0.8418678964540534, 0.8383878312000287, 0.839474203147969, 0.8428507403822021, 0.8410517729733606, 0.842322792298591, 0.8388812699437094, 0.8397749273959343, 0.842071815280915, 0.8405592305761715, 0.8372691907783874, 0.8379445878598832, 0.840456150729626, 0.8398623211788748, 0.8407523932451328, 0.8407653902692624, 0.8405251694094871, 0.8419924886163995, 0.8414681259187553, 0.8421000501954036, 0.8405551970169591, 0.8396274783980496, 0.8421650353160518, 0.8406157004051487, 0.8403557599225558, 0.8413238141335915, 0.8413215732673621, 0.8404534616901509, 0.841227008712488, 0.8401491520562189, 0.8427758954501452, 0.8413175397081496, 0.8419185400308343, 0.8405560933634505, 0.8406932343766806, 0.8407564268043455, 0.8420888458642573, 0.8368707647628267, 0.8407698720017209, 0.8402580581549605, 0.8406658958086837, 0.8418876160768706, 0.8406488652253414, 0.8418535549101861, 0.8374291886271558, 0.8418163565307805, 0.8411942920655409, 0.8421157362590083, 0.8417070022587931, 0.8416644258004374, 0.8409226990785558, 0.8413516008748342, 0.8409446595676024, 0.8407622530565416, 0.8395369474023879, 0.842119769818221, 0.8426696783908787, 0.8410696999031946, 0.8401948657272957, 0.8399622638126993, 0.8427700691979492, 0.8407201247714315, 0.8389148829371483, 0.8423115879674447, 0.8419243662830302, 0.8387468179699544, 0.8407183320784481, 0.8382314187372271, 0.8391174572442723, 0.8410356387365099, 0.8426037969237388, 0.8403678606001935, 0.8424818938008677, 0.8420243089168549, 0.8431505682836757, 0.8405202395037825, 0.8411427521422681, 0.8398071958696354, 0.8422797676669893, 0.8431823885841312, 0.839438349288301, 0.8399595747732244, 0.8388301781936826, 0.8403562080958014, 0.8396328564769997, 0.8385850274282026, 0.838810906744111, 0.8405197913305366, 0.8414766412104263, 0.8404019217668782, 0.840847405973253, 0.8436431106808646, 0.840748807859166, 0.8383663188842279, 0.8405758129862682, 0.8388100103976193, 0.8397829945143594, 0.842432594743824, 0.8406309382955075, 0.8406591732099961, 0.8426347208777023, 0.8408294790434191, 0.8404821447778853, 0.838939084292424, 0.8400989566526836, 0.8421574163708725, 0.8403028754795455, 0.8407259510236278, 0.8405430963393209, 0.842833261625614, 0.8384873256606075, 0.8423075544082319, 0.8429990857265786, 0.8399618156394535, 0.8419127137786382, 0.8403095980782331, 0.8405511634577463, 0.8428610483668567, 0.8396032770427737, 0.8439734143630561, 0.8419776988992865, 0.841635742712703, 0.8431801477179017, 0.8391698935140368, 0.8425491197877452, 0.8398591839661538, 0.8431658061740347, 0.8400985084794377, 0.8425778028754796, 0.8387880499085728, 0.8389731454591087, 0.838249793840307, 0.8397686529704922, 0.8420955684629452, 0.8399842243017461, 0.8424079452153024, 0.8437130257072174, 0.8407886952780466, 0.8385276612527339, 0.8426876053207127, 0.840345900111147, 0.841489638234556, 0.8372754652038292, 0.8409495894733068, 0.8412704815173354, 0.8372145136423936, 0.8401702161987737, 0.8425150586210606, 0.841964701875157, 0.8418333871141229, 0.8410499802803773, 0.8398538058872038, 0.8416998314868595, 0.8386607687067513, 0.8392586318167151, 0.8409218027320641, 0.8396368900362123, 0.8400877523215374, 0.8370397260765122, 0.840540407299846, 0.8422111971603745, 0.8403956473414363, 0.8418235273027141, 0.8365902083109246, 0.8402159298698505, 0.8387060342045821, 0.8409755835215661, 0.8367049406618622, 0.8411992219712452, 0.8419306407084723, 0.8377393245132838, 0.8416859381162382, 0.841722240149152, 0.8417061059123014, 0.8415259402674699, 0.8436847907927288, 0.8430905130687318, 0.8414981535262271, 0.8417025205263347, 0.8386988634326485, 0.8391322469613853, 0.8402585063282062, 0.8417486823706574, 0.8414389946577749, 0.8419741135133196, 0.841023538058872, 0.8392250188232764, 0.8413475673156215, 0.8419521530242731, 0.8408411315478113, 0.8413036463375282, 0.8408586103043993, 0.8381068265748807, 0.8441697142447384, 0.8423057617152486, 0.840877433580725, 0.8447214155103797, 0.8418311462478936, 0.8418190455702556, 0.8403660679072101, 0.8407824208526048, 0.841050876626869, 0.8401818687031659, 0.840498279014736, 0.8416142303969022, 0.8435077623606182, 0.8423519235595711, 0.8411418557957765, 0.8436579003979778, 0.8407492560324119, 0.8409204582123265, 0.8403647233874727, 0.838658079667276, 0.8416742856118461, 0.8422035782151949, 0.8409128392671472, 0.8414551288946256, 0.8397045641963358, 0.8395893836721524, 0.8411660571510523, 0.8410571510523106, 0.8389247427485569, 0.8401150908895342, 0.8407582194973289, 0.8411862249471155, 0.8406282492560324, 0.8422345021691586, 0.8434114051127604, 0.8420234125703632, 0.8408604029973826, 0.8422932128643649, 0.840725502850382, 0.8402123444838836, 0.8415425226775664, 0.8391049083933887, 0.8356226022731348, 0.8432617152486466, 0.8420005557348248, 0.837171489010792, 0.8415035316051773, 0.8411100354953212, 0.8391125273385679, 0.8406735147538633, 0.8403795131045858, 0.8418472804847442, 0.8408433724140404, 0.8384205478469757, 0.8404839374708687, 0.8435642321895953, 0.8429591983076977, 0.8418235273027141, 0.8410705962496863, 0.8424769638951634, 0.8412274568857336, 0.8426925352264172, 0.8422300204367, 0.841740615252232, 0.8432612670754007, 0.8398901079201176, 0.8419275034957514, 0.8397480370011832, 0.8419086802194257, 0.8413645978989639, 0.8407497042056578, 0.8397090459287944, 0.8420225162238716, 0.8417182065899395, 0.8385989207988238, 0.8391806496719372, 0.8400949230934709, 0.8426589222329783, 0.8422811121867269, 0.8406883044709763, 0.8394159406260084, 0.8427494532286403, 0.8417195511096769, 0.8384066544763544, 0.8396364418629665, 0.8409885805456958, 0.840769872001721, 0.8384980818185077, 0.8419068875264422, 0.8407474633394285, 0.8400173891219389, 0.8404265712953999, 0.8390695027069663, 0.8403983363809113, 0.8407187802516942, 0.8410136782474633, 0.8412543472804849, 0.84144168369725, 0.8412530027607471, 0.8396207557993618, 0.8418163565307806, 0.842388225592485, 0.8419664945681403, 0.8432339285074039, 0.8413686314581764, 0.8406694811946507, 0.8411772614821984, 0.8387741565379514, 0.8427095658097593, 0.8399152056218853, 0.8415707575920549, 0.8387983578932272, 0.841131099637876, 0.838801943279194, 0.8415241475744863, 0.8417226883223978, 0.8413991072388942, 0.8388261446344699, 0.8407689756552293, 0.8384057581298627, 0.8398999677315262, 0.841435857445054, 0.8428753899107239, 0.8406847190850095, 0.8414336165788247, 0.8390363378867736, 0.8420095191997419, 0.8422327094761751, 0.8381722598687749, 0.8408016923021764, 0.8405179986375533, 0.8442221505145031, 0.8390959449284714, 0.8435709547882829, 0.8403409702054426, 0.8419534975440106, 0.8404288121616291, 0.8393496109856226, 0.8407349144885446, 0.8397081495823026, 0.838730235559858, 0.841032501523789, 0.8419171955110969, 0.8414044853178445, 0.8409271808110143, 0.8394818220931484, 0.8421108063533039, 0.8414887418880642, 0.8419122656053925, 0.8399416478433904, 0.8392779032662866, 0.8413484636621132, 0.840931214370227, 0.8415604496074002, 0.8394764440141982, 0.8412619662256643, 0.8404265712954, 0.83871813488222, 0.841325158653329, 0.8415331110394034, 0.8406645512889461, 0.8407237101573984, 0.8402015883259834, 0.8371365314976157, 0.8419283998422429, 0.8394298339966296, 0.840064895485999, 0.8391640672618407, 0.8437560503388188, 0.8427023950378258, 0.8386804883295689, 0.8415142877630778, 0.8387181348822201, 0.8424841346670968, 0.8433580724965042, 0.8428386397045643, 0.8413905919472231, 0.8427741027571617, 0.840850095012728, 0.8405560933634505, 0.8407891434512926, 0.8421663798357892, 0.8394975081567531, 0.8386872109282565, 0.8413368111577212, 0.8430156681366751, 0.8439281488652253, 0.8400003585385967, 0.8430918575884694, 0.8408496468394823, 0.8429090029041627, 0.8414694704384926, 0.8400505539421318, 0.837920834677853, 0.8412825821949732, 0.8400510021153779, 0.8392371195009142, 0.8408348571223693, 0.8396350973432289, 0.8427655874654907, 0.8394903373848195, 0.8421583127173641, 0.8417818471908499, 0.8408066222078807, 0.84214038578753, 0.8431299523143667, 0.8418979240615252, 0.8399353734179484, 0.8403987845541573, 0.839001828546843, 0.8365068480871966, 0.8418916496360833, 0.8372328887454735, 0.8442750349575132, 0.8395907281918898, 0.843454877917608, 0.8438501667204474, 0.8410580473988025, 0.8413843175217812, 0.8404122297515327, 0.8409235954250475, 0.8402038291922125, 0.8417648166075079, 0.8398833853214298, 0.8398484278082536, 0.841997418522104, 0.8423156215266573, 0.843592018930838, 0.8383371876232477, 0.8412830303682192, 0.8407367071815282, 0.8401536337886775, 0.8385142160553583, 0.8412059445699329, 0.8406605177297336, 0.8417285145745941, 0.8430322505467714, 0.8413941773331899, 0.8439693808038435, 0.8389453587178659, 0.8398609766591372, 0.8422918683446273, 0.8405758129862679, 0.8402558172887311, 0.8430470402638844, 0.8416715965723711, 0.8428758380839698, 0.8413408447169337, 0.8418450396185151, 0.8402952565343659, 0.8403028754795454, 0.8419315370549639, 0.8410047147825465, 0.8420422358466889, 0.8412767559427773, 0.8395266394177333, 0.8393110680864795, 0.8384909110465742, 0.841477985730164, 0.8404337420673337, 0.8394101143738122, 0.8369151339141659, 0.841740167078986, 0.8427727582374243, 0.8387073787243197, 0.8403920619554694, 0.8394110107203039, 0.8409491413000608, 0.8426029005772472, 0.8428830088559034, 0.8414242049406618, 0.8410168154601843, 0.8411055537628626, 0.8424666559105088, 0.841743304291707, 0.8410616327847692, 0.842355060772292, 0.8415738948047756, 0.842519540353519, 0.8404001290738948, 0.8399344770714567, 0.8421269405901545, 0.8428220572944678, 0.8401720088917572, 0.840354415402818, 0.8382811659675166, 0.8388019432791939, 0.8410221935391345, 0.8412480728550429, 0.8424016707898604, 0.8398434979025492, 0.8420709189344233, 0.8412996127783157, 0.8399676418916497, 0.8427687246782115, 0.8384124807285505, 0.8403355921264923, 0.8400662400057366, 0.8393267541500843, 0.8406694811946506, 0.8382480011473236, 0.8405650568283677, 0.8411019683768959, 0.8391380732135814, 0.8378858771646767, 0.8420632999892437, 0.8409079093614427, 0.8398618730056292, 0.8421260442436628, 0.8379293499695242, 0.841283926714711, 0.8396108959879531, 0.840734018142053, 0.8440603599727511, 0.8401554264816609, 0.84040819619232, 0.836821913879029, 0.8409724463088452, 0.8405695385608261, 0.8431088881718116, 0.8430882722025026, 0.8405529561507297, 0.8397592413323295, 0.8407833171990966, 0.8417666093004912, 0.8421403857875299, 0.8405888100103975, 0.8420825714388154, 0.8417921551755047, 0.8403813057975691, 0.8419655982216486, 0.8415272847872074, 0.8415886845218887, 0.8426598185794699, 0.8391667563013159, 0.8424204940661864, 0.8406452798393746, 0.8381915313183463, 0.8398654583915959, 0.8388754436915133, 0.8400460722096734, 0.8400953712667169, 0.8426983614786132, 0.8390641246280162, 0.8419310888817181, 0.8417594385285577, 0.8433307339285075, 0.8415474525832706, 0.8398520131942202, 0.8423779176078305, 0.8429744361980569, 0.8406735147538632, 0.841889408769854, 0.8397708938367214, 0.8420157936251838, 0.8398784554157255, 0.8386172959019039, 0.8421766878204437, 0.8395714567423183, 0.8444605786812951, 0.8415694130723173, 0.8406497615718334, 0.843290398336381, 0.8384200996737299, 0.8398130221218314, 0.8374556308486609, 0.8432648524613674, 0.843457118783837, 0.8430371804524757, 0.8395642859703848, 0.8398847298411674, 0.8384725359434942, 0.8408734000215121, 0.8405538524972214, 0.8434804237926212, 0.8419965221756123, 0.841340396543688, 0.8443610842207163, 0.8410912122189954, 0.8383770750421282, 0.8419548420637482, 0.8413874547345022, 0.839790613459539, 0.8405659531748593, 0.8417267218816106, 0.8405148614248323, 0.8406291456025241, 0.8420261016098384, 0.8390085511455309, 0.8406076332867234, 0.8403965436879282, 0.842286938438923, 0.8418764117457245, 0.8422147825463412, 0.8390372342332652, 0.8407030941880893, 0.8383766268688825, 0.8407483596859202, 0.8404279158151375, 0.8414757448639346, 0.8410365350830017, 0.8399586784267327, 0.839356781757556, 0.8426495105948155, 0.8409836506399914, 0.8404068516725826, 0.8430107382309706, 0.8382453121078484, 0.8397045641963358, 0.841310368936216, 0.8409621383241906, 0.8385603778996809, 0.839536499229142, 0.8420588182567854, 0.8426123122154099, 0.8430918575884694, 0.8436180129790972, 0.8429421677243554, 0.8392362231544225, 0.8407134021727439, 0.8406699293678965, 0.8384008282241582, 0.8378872216844143, 0.8398340862643864, 0.8391349360008605, 0.839494819117278, 0.8407151948657272, 0.8421560718511347, 0.8420068301602667, 0.8388158366498153, 0.8408155856727977, 0.8426369617439317, 0.8423398228819334, 0.8407707683482127, 0.8409782725610412, 0.8434983507224553, 0.8421363522283174, 0.8380454268401994, 0.8411974292782618, 0.8396548169660463, 0.8388812699437096, 0.8409105984009179, 0.8389924169086803, 0.8389762826718297, 0.8388776845577426, 0.839249668351798, 0.8386576314940303, 0.8422797676669894, 0.8406542433042917, 0.8420157936251838, 0.8419145064716216, 0.8405050016134237, 0.8407510487253954, 0.8416680111864042, 0.8416478433903409, 0.8385532071277473, 0.8420377541142305, 0.842176687820444, 0.8421919257108028, 0.8406663439819297, 0.8401236061812054, 0.842737800724248, 0.8410333978702806, 0.8410791115413573, 0.8410880750062744, 0.8416698038793875, 0.8449634290631387, 0.8428086120970922, 0.8400124592162347, 0.8431810440643935, 0.8418737227062493, 0.8414067261840736, 0.839372467821161, 0.8434342619482987, 0.8387598149940843, 0.8391891649636085, 0.8425038542899143, 0.8407492560324119, 0.841561345953892, 0.8402710551790901, 0.8410477394141479, 0.8404924527625401, 0.8391380732135815, 0.8391645154350866, 0.841501738912194, 0.8424532107131334, 0.8383165716539386, 0.8415295256534365, 0.8384761213294611, 0.8393379584812306, 0.837810584059374, 0.8410239862321178, 0.8430882722025027, 0.8400447276899358, 0.8386952780466818, 0.8412063927431788, 0.8419337779211933, 0.8398475314617618, 0.8409186655193434, 0.8425110250618478, 0.8423850883797641, 0.8405874654906601, 0.838222903445556, 0.8414582661073464, 0.8392115736259009, 0.8368546305259761, 0.8398457387687785, 0.8411651608045606, 0.8425141622745689, 0.8426042450969847, 0.8415774801907425, 0.8416370872324407, 0.8420503029651143, 0.8403687569466851, 0.8418463841382524, 0.8418123229715679, 0.8445067405256176, 0.8419037503137213, 0.8417473378509196, 0.8410894195260121, 0.8409652755369116, 0.8401993474597541, 0.8408465096267612, 0.8393581262772937, 0.8399783980495501, 0.8444623713742784, 0.841447958122692, 0.8395978989638234, 0.839915653795131, 0.8408532322254489, 0.8409531748592736, 0.8388870961959054, 0.8405659531748593, 0.8413883510809939, 0.840038453264494, 0.8413932809866983, 0.8402620917141731, 0.8408366498153527, 0.843439640027249, 0.841420619554695, 0.8425244702592234, 0.8409675164031407, 0.8402773296045318, 0.8384806030619196, 0.842191029364311, 0.8381830160266752, 0.8407842135455882, 0.8416666666666667, 0.8416536696425371, 0.8431671506937721, 0.841498601699473, 0.8398703882973002, 0.8416285719407695, 0.8438806425011652, 0.8389682155534042, 0.8434190240579399, 0.8429193108888171, 0.84022354881503, 0.839112527338568, 0.8432724714065469, 0.8407967623964719, 0.8413067835502491, 0.8429354451256676, 0.8416187121293608, 0.8408362016421067, 0.8435368936215983, 0.8393859130185363, 0.8414022444516152, 0.8442974436198057, 0.8418047040263884, 0.8389475995840953, 0.8427924778602418, 0.8386804883295687, 0.843481320139113, 0.8429009357857374, 0.8405923953963644, 0.8378182030045535, 0.8399913950736796, 0.8408491986662364, 0.8383492883008857, 0.8418042558531427, 0.8376290738948048, 0.8420287906493135, 0.8398130221218314, 0.8425276074719443, 0.8419969703488581, 0.8425867663403965, 0.8391317987881396, 0.8377066078663369, 0.8384393711233015, 0.8398941414793304, 0.8410342942167724, 0.8421157362590083, 0.8429269298339965, 0.8412063927431789, 0.8394558280448889, 0.8405870173174141, 0.838145369474024, 0.8406811336990427, 0.84360367143523, 0.8409114947474097, 0.842835950665089, 0.838204976515722, 0.8416106450109354, 0.8405260657559785, 0.8399819834355169, 0.8392832813452369, 0.8412583808396972, 0.8440975583521566, 0.8394742031479688, 0.8418692409737908, 0.8412189415940626, 0.8402759850847943, 0.8386513570685885, 0.8387441289304794, 0.8402029328457208, 0.841899268581263, 0.8440020974507906, 0.8414363056182997, 0.8391591373561363, 0.8373305905130686, 0.8420736079738984, 0.8405538524972214, 0.8396664694704385, 0.8420095191997419, 0.8427879961277831, 0.8416424653113908, 0.8381166863862896, 0.8428000968054209, 0.8419055430067047, 0.8397740310494424, 0.8387557814348714, 0.8398569430999246, 0.8415470044100247, 0.8420807787458321, 0.8405484744182712, 0.8390824997310959, 0.8429305152199634, 0.8401962102470332, 0.842044924886164, 0.8413793876160768, 0.8381673299630705, 0.8400864078018, 0.8395199168190454, 0.840874296368004, 0.8426786418557957, 0.8401141945430426, 0.8410100928614965, 0.8404664587142806, 0.841387902907748, 0.8386630095729803, 0.8417325481338067, 0.840043831343444, 0.8423115879674448, 0.8397995769244557, 0.8430923057617152, 0.8387795346169016, 0.8416940052346638, 0.8423268258578037, 0.8397498296941664, 0.8411553009931518, 0.8417796063246209, 0.8434701158079667, 0.8417226883223978, 0.8420050374672834, 0.8412798931554982, 0.8427382488974938, 0.8409079093614428, 0.8378661575418594, 0.842537467283353, 0.840232512279947, 0.841364149725718, 0.8419974185221041, 0.8429058656914417, 0.8415559678749418, 0.840913287440393, 0.8415102542038652, 0.8375748449320569, 0.8410109892079882, 0.8381458176472696, 0.8411974292782619, 0.8414994980459647, 0.8412341794844216, 0.8413645978989638, 0.840319009716396, 0.8427817217023413, 0.8428054748843713, 0.8422353985156503, 0.8371356351511241, 0.8411378222365637, 0.8398815926284465, 0.8401052310781255, 0.8393845684987989, 0.8422336058226669, 0.8349561686565559, 0.8398932451328385, 0.8402715033523358, 0.841089867699258, 0.8450037646552652, 0.8426436843426195, 0.8416276755942776, 0.8399515076547992, 0.8413161951884119, 0.8383981391846832, 0.8408308235631566, 0.842208956294145, 0.8406345236814744, 0.8395965544440859, 0.8413256068265749, 0.8436368362554229, 0.8409379369689147, 0.8402638844071565, 0.8427068767702842, 0.8416585995482415, 0.8434871463913091, 0.8400487612491484, 0.8431994191674734, 0.842976677064286, 0.8384720877702485, 0.8412167007278334, 0.8375354056864222, 0.8385083898031623, 0.8423828475135349, 0.8403311103940341, 0.8404400164927754, 0.8380933813775053, 0.8401567710013984, 0.841572998458284, 0.8408043813416514, 0.8404700441002474, 0.8402365458391596, 0.8426486142483239, 0.8414130006095156, 0.8430851349897815, 0.8432298949481912, 0.8396942562116811, 0.8399497149618156, 0.8381063784016349, 0.8427095658097594, 0.837879154565989, 0.8385774084830231, 0.8409585529382239, 0.8419319852282097, 0.8397556559463626, 0.8394096662005666, 0.8429838478362196, 0.8424254239718906, 0.8415447635437956, 0.8408572657846616, 0.839569215876089, 0.8446479150980603, 0.8410481875873939, 0.8410365350830018, 0.8402916711483992, 0.8396001398300528, 0.837676132085619, 0.8422430174608297, 0.8403866838765193, 0.8366179950521673, 0.8412225269800293, 0.8435606468036284, 0.8421784805134271, 0.8411557491663977, 0.8417352371732816, 0.8418145638377971, 0.838276684235058, 0.8421583127173639, 0.8406224230038364, 0.8421148399125166, 0.8417446488114446, 0.8391017711806676, 0.8404068516725826, 0.8372189953748522, 0.8408335126026317, 0.8404727331397225, 0.8428242981606969, 0.8394580689111182, 0.8411884658133447, 0.8392599763364526, 0.8401997956329997, 0.8410186081531678, 0.8384667096912983, 0.8418813416514288, 0.8396633322577176, 0.8432787458319889, 0.8422309167831916, 0.8411270660786633, 0.8435386863145817, 0.8420216198773798, 0.8422555663117135, 0.8436991323365961, 0.8399761571833207, 0.8390197554766771, 0.8414389946577749, 0.8413314330787709, 0.8411405112760388, 0.8405413036463375, 0.8428565666343982, 0.8406739629271093, 0.8388723064787924, 0.8387710193252303, 0.8425455344017783, 0.8402320641067013, 0.8399927395934172, 0.8403736868523897, 0.8403122871177081, 0.8405892581836434, 0.8438510630669391, 0.8400913377075042, 0.8387889462550643, 0.8396718475493886, 0.8408577139579076, 0.8404055071528451, 0.8419189882040801, 0.8392044028539674, 0.8425907998996092, 0.841889408769854, 0.841089419526012, 0.8411185507869922, 0.8431012692266324, 0.8408738481947581, 0.8435696102685455, 0.8397570004661001, 0.8401348105123517, 0.8422896274783981, 0.8401599082141193, 0.840160804560611, 0.8404812484313937, 0.8413910401204691, 0.840241027571618, 0.8414170341687282, 0.8410970384711913, 0.8419669427413862, 0.8423729877021262, 0.8403351439532466, 0.8422967982503315, 0.8419176436843425, 0.8432137607113406, 0.8406847190850095, 0.8392599763364527, 0.8425190921802733, 0.8428211609479762, 0.8387979097199812, 0.8410401204689684, 0.8401047829048798, 0.8395736976085475, 0.8401357068588433, 0.8401791796636908, 0.8422761822810226, 0.8401805241834284, 0.8396297192642788, 0.8432581298626797, 0.8396978415976479, 0.8382242479652935, 0.8412162525545877, 0.841626779247786, 0.8439631063784017, 0.8415151841095694, 0.8421739987809687, 0.8401540819619232, 0.8406210784840988, 0.8420225162238716, 0.8423604388512423, 0.8417822953640959, 0.8398031623104226, 0.8429726435050734, 0.8423949481911727, 0.8407689756552292, 0.8393791904198487, 0.83954859990678, 0.8432070381126529, 0.8415048761249149, 0.8422206087985371, 0.841914058298376, 0.839019755476677, 0.8399187910078519, 0.8428323652791223, 0.8413578753002762, 0.8401917285145746, 0.8428180237352552, 0.8413502563550969, 0.8375067225986876, 0.8382739951955829, 0.8415048761249148, 0.8401926248610664, 0.8383085045355133, 0.8412749632497939, 0.841110035495321, 0.8427624502527697, 0.8409374887956688, 0.8393773977268655, 0.838739199024775, 0.8404431537054965, 0.8378379226273708, 0.840591050876627, 0.8398690437775626, 0.8429067620379336, 0.8402697106593524, 0.8396265820515578, 0.840178731490445, 0.8417988777741924, 0.8421394894410383, 0.841318884227887, 0.8420785378796029, 0.8383008855903338, 0.8384828439281489, 0.8414510953354128, 0.8393182388584131, 0.8385827865619734, 0.8411718834032484, 0.8413152988419202, 0.8408792262737084, 0.8386208812878706, 0.841208633609408, 0.8408904306048546, 0.8421426266537593, 0.8403346957800008, 0.8394988526764906, 0.8418490731777276, 0.8423519235595712, 0.8425881108601342, 0.8400823742425872, 0.840211448137392, 0.8403992327274031, 0.8410898676992578, 0.8431362267398086, 0.8403620343479976, 0.8393384066544763, 0.8419131619518841, 0.839474203147969, 0.8382860958732208, 0.8381489548599906, 0.8396722957226346, 0.8378365781076333, 0.8412767559427772, 0.8427028432110716, 0.8423658169301925, 0.8418934423290667, 0.837279050589796, 0.8430228389086085, 0.8412037037037037, 0.8393303395360511, 0.8386630095729806, 0.8413408447169337, 0.837718708543975, 0.8407591158438207, 0.8412198379405543, 0.8412839267147109, 0.8420350650747552, 0.8401670789860527, 0.8402728478720735, 0.8411463375282349, 0.8417791581513752, 0.8430080491914953, 0.842585421820659, 0.8414372019647913, 0.8414062780108277, 0.8401110573303215, 0.8434320210820696, 0.8388947151410849, 0.8411136208812878, 0.8408456132802696, 0.8435086587071099, 0.8417778136316374, 0.8385339356781757, 0.8404122297515328, 0.8399600229464702, 0.8405977734753145, 0.8392554946039941, 0.8414013481051232, 0.8400025994048259, 0.8422587035244344, 0.8379472768993582, 0.840079685203112, 0.8401612527338569, 0.8414824674626225, 0.8427781363163745, 0.8400227672008892, 0.8409451077408483, 0.8397269728586282, 0.8432939837223478, 0.84027105517909, 0.8400769961636372]\n"
     ]
    }
   ],
   "source": [
    "t_52 = auc_bootstrap\n",
    "print(t_52)"
   ]
  },
  {
   "cell_type": "code",
   "execution_count": 116,
   "id": "a25b3089",
   "metadata": {},
   "outputs": [],
   "source": [
    "del X_train, X_test, y_train, y_test, X_val, y_val,study, optuna_auc"
   ]
  },
  {
   "cell_type": "code",
   "execution_count": 118,
   "id": "fd3858af",
   "metadata": {},
   "outputs": [],
   "source": [
    "# 53\n",
    "column_to_drop_52 = '가구주 나이'"
   ]
  },
  {
   "cell_type": "code",
   "execution_count": 119,
   "id": "b9cad9e3",
   "metadata": {},
   "outputs": [
    {
     "name": "stdout",
     "output_type": "stream",
     "text": [
      "(10564, 17)\n"
     ]
    }
   ],
   "source": [
    "if not column_to_drop_52.startswith('Cat_'):\n",
    "    comp_53 = comp_52.drop(column_to_drop_52, axis=1)\n",
    "    X_53 = comp_53.drop('target', axis=1)\n",
    "    y_53 = comp_53['target']\n",
    "else:\n",
    "    comp_53 = comp_52.drop(comp_52.filter(regex='^' + column_to_drop_52).columns, axis=1)\n",
    "    X_53 = comp_53.drop('target', axis=1)\n",
    "    y_53 = comp_53['target']\n",
    "\n",
    "print(X_53.shape)"
   ]
  },
  {
   "cell_type": "code",
   "execution_count": 120,
   "id": "e17565d9",
   "metadata": {},
   "outputs": [],
   "source": [
    "X_train, X_test, y_train, y_test = train_test_split(X_53, y_53, test_size=0.2, shuffle=True, stratify=y_53, random_state = 0)\n",
    "X_train, X_val, y_train, y_val = train_test_split(X_train, y_train, test_size=0.2, shuffle=True, stratify=y_train, random_state = 0)"
   ]
  },
  {
   "cell_type": "code",
   "execution_count": 121,
   "id": "c479cb72",
   "metadata": {},
   "outputs": [],
   "source": [
    "def objective(trial):\n",
    "    params = {\n",
    "        'learning_rate' :trial.suggest_float('learning_rate',0.01, 0.1,step=0.01),        \n",
    "        'n_estimators' :trial.suggest_int('n_estimators', 50, 200),\n",
    "        'subsample':trial.suggest_float('subsample', 0.1, 1.0,step=0.1),\n",
    "        'max_depth' :trial.suggest_int('max_depth', 1, 10),\n",
    "        'min_samples_split' :trial.suggest_int('min_samples_split', 3, 10),\n",
    "        'min_samples_leaf' :trial.suggest_int('min_samples_leaf', 3, 10),\n",
    "        }\n",
    "        \n",
    "    clf = GradientBoostingClassifier(**params,random_state = 0)\n",
    "    clf.fit(X_train, y_train)\n",
    "    clf_proba = clf.predict_proba(X_val)[:, 1]\n",
    "        \n",
    "    AUC_SCORE = roc_auc_score(y_val, clf_proba)\n",
    "    return AUC_SCORE\n",
    "\n",
    "direction = \"maximize\"\n",
    "sampler = optuna.samplers.TPESampler(seed=10)\n",
    "study =  optuna.create_study(direction=direction, sampler=sampler, pruner=optuna.pruners.HyperbandPruner())\n",
    "early_stopping = EarlyStoppingCallback(10, direction=direction)\n",
    "study.optimize(objective, callbacks=[early_stopping], n_trials=200) "
   ]
  },
  {
   "cell_type": "code",
   "execution_count": 122,
   "id": "c397d1b7",
   "metadata": {},
   "outputs": [
    {
     "name": "stdout",
     "output_type": "stream",
     "text": [
      "{'learning_rate': 0.09999999999999999, 'n_estimators': 157, 'subsample': 0.6, 'max_depth': 2, 'min_samples_split': 5, 'min_samples_leaf': 8}\n",
      "0.8361680717900488\n"
     ]
    }
   ],
   "source": [
    "print(study.best_trial.params)\n",
    "optuna_auc = study.best_trial.value\n",
    "print(optuna_auc)"
   ]
  },
  {
   "cell_type": "code",
   "execution_count": 123,
   "id": "69ddda92",
   "metadata": {},
   "outputs": [
    {
     "data": {
      "text/html": [
       "<style>#sk-container-id-9 {color: black;}#sk-container-id-9 pre{padding: 0;}#sk-container-id-9 div.sk-toggleable {background-color: white;}#sk-container-id-9 label.sk-toggleable__label {cursor: pointer;display: block;width: 100%;margin-bottom: 0;padding: 0.3em;box-sizing: border-box;text-align: center;}#sk-container-id-9 label.sk-toggleable__label-arrow:before {content: \"▸\";float: left;margin-right: 0.25em;color: #696969;}#sk-container-id-9 label.sk-toggleable__label-arrow:hover:before {color: black;}#sk-container-id-9 div.sk-estimator:hover label.sk-toggleable__label-arrow:before {color: black;}#sk-container-id-9 div.sk-toggleable__content {max-height: 0;max-width: 0;overflow: hidden;text-align: left;background-color: #f0f8ff;}#sk-container-id-9 div.sk-toggleable__content pre {margin: 0.2em;color: black;border-radius: 0.25em;background-color: #f0f8ff;}#sk-container-id-9 input.sk-toggleable__control:checked~div.sk-toggleable__content {max-height: 200px;max-width: 100%;overflow: auto;}#sk-container-id-9 input.sk-toggleable__control:checked~label.sk-toggleable__label-arrow:before {content: \"▾\";}#sk-container-id-9 div.sk-estimator input.sk-toggleable__control:checked~label.sk-toggleable__label {background-color: #d4ebff;}#sk-container-id-9 div.sk-label input.sk-toggleable__control:checked~label.sk-toggleable__label {background-color: #d4ebff;}#sk-container-id-9 input.sk-hidden--visually {border: 0;clip: rect(1px 1px 1px 1px);clip: rect(1px, 1px, 1px, 1px);height: 1px;margin: -1px;overflow: hidden;padding: 0;position: absolute;width: 1px;}#sk-container-id-9 div.sk-estimator {font-family: monospace;background-color: #f0f8ff;border: 1px dotted black;border-radius: 0.25em;box-sizing: border-box;margin-bottom: 0.5em;}#sk-container-id-9 div.sk-estimator:hover {background-color: #d4ebff;}#sk-container-id-9 div.sk-parallel-item::after {content: \"\";width: 100%;border-bottom: 1px solid gray;flex-grow: 1;}#sk-container-id-9 div.sk-label:hover label.sk-toggleable__label {background-color: #d4ebff;}#sk-container-id-9 div.sk-serial::before {content: \"\";position: absolute;border-left: 1px solid gray;box-sizing: border-box;top: 0;bottom: 0;left: 50%;z-index: 0;}#sk-container-id-9 div.sk-serial {display: flex;flex-direction: column;align-items: center;background-color: white;padding-right: 0.2em;padding-left: 0.2em;position: relative;}#sk-container-id-9 div.sk-item {position: relative;z-index: 1;}#sk-container-id-9 div.sk-parallel {display: flex;align-items: stretch;justify-content: center;background-color: white;position: relative;}#sk-container-id-9 div.sk-item::before, #sk-container-id-9 div.sk-parallel-item::before {content: \"\";position: absolute;border-left: 1px solid gray;box-sizing: border-box;top: 0;bottom: 0;left: 50%;z-index: -1;}#sk-container-id-9 div.sk-parallel-item {display: flex;flex-direction: column;z-index: 1;position: relative;background-color: white;}#sk-container-id-9 div.sk-parallel-item:first-child::after {align-self: flex-end;width: 50%;}#sk-container-id-9 div.sk-parallel-item:last-child::after {align-self: flex-start;width: 50%;}#sk-container-id-9 div.sk-parallel-item:only-child::after {width: 0;}#sk-container-id-9 div.sk-dashed-wrapped {border: 1px dashed gray;margin: 0 0.4em 0.5em 0.4em;box-sizing: border-box;padding-bottom: 0.4em;background-color: white;}#sk-container-id-9 div.sk-label label {font-family: monospace;font-weight: bold;display: inline-block;line-height: 1.2em;}#sk-container-id-9 div.sk-label-container {text-align: center;}#sk-container-id-9 div.sk-container {/* jupyter's `normalize.less` sets `[hidden] { display: none; }` but bootstrap.min.css set `[hidden] { display: none !important; }` so we also need the `!important` here to be able to override the default hidden behavior on the sphinx rendered scikit-learn.org. See: https://github.com/scikit-learn/scikit-learn/issues/21755 */display: inline-block !important;position: relative;}#sk-container-id-9 div.sk-text-repr-fallback {display: none;}</style><div id=\"sk-container-id-9\" class=\"sk-top-container\"><div class=\"sk-text-repr-fallback\"><pre>GradientBoostingClassifier(learning_rate=0.09999999999999999, max_depth=2,\n",
       "                           min_samples_leaf=8, min_samples_split=5,\n",
       "                           n_estimators=157, random_state=0, subsample=0.6)</pre><b>In a Jupyter environment, please rerun this cell to show the HTML representation or trust the notebook. <br />On GitHub, the HTML representation is unable to render, please try loading this page with nbviewer.org.</b></div><div class=\"sk-container\" hidden><div class=\"sk-item\"><div class=\"sk-estimator sk-toggleable\"><input class=\"sk-toggleable__control sk-hidden--visually\" id=\"sk-estimator-id-9\" type=\"checkbox\" checked><label for=\"sk-estimator-id-9\" class=\"sk-toggleable__label sk-toggleable__label-arrow\">GradientBoostingClassifier</label><div class=\"sk-toggleable__content\"><pre>GradientBoostingClassifier(learning_rate=0.09999999999999999, max_depth=2,\n",
       "                           min_samples_leaf=8, min_samples_split=5,\n",
       "                           n_estimators=157, random_state=0, subsample=0.6)</pre></div></div></div></div></div>"
      ],
      "text/plain": [
       "GradientBoostingClassifier(learning_rate=0.09999999999999999, max_depth=2,\n",
       "                           min_samples_leaf=8, min_samples_split=5,\n",
       "                           n_estimators=157, random_state=0, subsample=0.6)"
      ]
     },
     "execution_count": 123,
     "metadata": {},
     "output_type": "execute_result"
    }
   ],
   "source": [
    "optuna_53 = GradientBoostingClassifier(**study.best_trial.params, random_state = 0)\n",
    "optuna_53.fit(X_train, y_train)"
   ]
  },
  {
   "cell_type": "code",
   "execution_count": 124,
   "id": "e2d917c1",
   "metadata": {},
   "outputs": [
    {
     "name": "stdout",
     "output_type": "stream",
     "text": [
      "0.8409908214119249\n"
     ]
    }
   ],
   "source": [
    "optuna_proba_53 = optuna_53.predict_proba(X_test)[:, 1]\n",
    "auc_53 = roc_auc_score(y_test, optuna_proba_53)\n",
    "print(auc_53)"
   ]
  },
  {
   "cell_type": "code",
   "execution_count": 125,
   "id": "80f946d6",
   "metadata": {},
   "outputs": [],
   "source": [
    "X_train = X_train.values\n",
    "y_train = y_train.values"
   ]
  },
  {
   "cell_type": "code",
   "execution_count": 126,
   "id": "63bfc0f0",
   "metadata": {},
   "outputs": [],
   "source": [
    "auc_bootstrap = []"
   ]
  },
  {
   "cell_type": "code",
   "execution_count": 127,
   "id": "33955494",
   "metadata": {},
   "outputs": [
    {
     "data": {
      "text/plain": [
       "array([0.83639455, 0.84246084])"
      ]
     },
     "execution_count": 127,
     "metadata": {},
     "output_type": "execute_result"
    }
   ],
   "source": [
    "rs = RandomState(seed = 53)\n",
    "bootstrap_auc(optuna_53, X_train, y_train, X_test, y_test, nsamples=2000)"
   ]
  },
  {
   "cell_type": "code",
   "execution_count": 128,
   "id": "5de3a09d",
   "metadata": {},
   "outputs": [
    {
     "data": {
      "text/plain": [
       "0.839512574844932"
      ]
     },
     "execution_count": 128,
     "metadata": {},
     "output_type": "execute_result"
    }
   ],
   "source": [
    "np.mean(auc_bootstrap)"
   ]
  },
  {
   "cell_type": "code",
   "execution_count": 129,
   "id": "7ff21f30",
   "metadata": {},
   "outputs": [
    {
     "name": "stdout",
     "output_type": "stream",
     "text": [
      "[0.8390098956652684, 0.8346863683625543, 0.8394670323760351, 0.8403261804883295, 0.8402880857624322, 0.8403369366462299, 0.8382914739521709, 0.8406950270696638, 0.8392873149044495, 0.841745993331182, 0.8406717220608797, 0.8380239145243985, 0.8381534365924491, 0.8395880391524146, 0.8410199526729052, 0.8397834426876053, 0.8388570685884336, 0.8415712057653005, 0.841590925388118, 0.8391232834964684, 0.8394495536194471, 0.8423120361406905, 0.8411544046466601, 0.8407595640170663, 0.8369469542146213, 0.8396669176436843, 0.8379136639059193, 0.8394522426589222, 0.8382345559499479, 0.8380243626976444, 0.8388534832024667, 0.8391031157004051, 0.8401083682908465, 0.8372929439604174, 0.8390152737442185, 0.8405829837582015, 0.8394007027356494, 0.8396436126349001, 0.8394849593058691, 0.8400389014377397, 0.8406493133985873, 0.8392873149044494, 0.8384151697680255, 0.839700530637123, 0.8372696389516331, 0.8394688250690185, 0.8374905883618371, 0.8395028862357032, 0.8399591265999784, 0.8394885446918361, 0.838861550320892, 0.8395589078914345, 0.8382515865332902, 0.837854953210713, 0.8396292710910329, 0.8408765372342333, 0.8408904306048545, 0.8382148363271305, 0.8415124950700943, 0.8403822021440608, 0.8402383385321431, 0.8406327309884908, 0.8401558746549066, 0.8411324441576135, 0.8397336954573159, 0.8398219855867484, 0.8393464737729016, 0.8390139292244809, 0.8401401885913019, 0.8415707575920547, 0.8405758129862679, 0.8397435552687246, 0.8427857552615539, 0.8402495428632892, 0.837538991072389, 0.840253128249256, 0.8381834641999211, 0.8401679753325446, 0.8400752034706536, 0.8389296726542611, 0.8389780753648131, 0.8413695278046681, 0.8397233874726614, 0.8426768491628125, 0.8394656878562977, 0.8403472446308844, 0.8388906815818723, 0.8393195833781504, 0.8395920727116274, 0.8396449571546376, 0.8396870854397476, 0.8404081961923201, 0.8381045857086515, 0.8365498727187981, 0.8407210211179234, 0.8399134129289018, 0.8375779821447779, 0.8395275357642251, 0.8386092287834785, 0.8389830052705173, 0.8388440715643039, 0.8360801871571475, 0.8385886128141694, 0.8388893370621348, 0.8412888566204151, 0.8389435660248827, 0.8409415223548816, 0.8414273421533829, 0.8379033559212649, 0.8374766949912158, 0.8410495321071313, 0.8404220895629414, 0.8396911189989602, 0.8376586533290308, 0.8373843713025707, 0.8391223871499768, 0.8420632999892439, 0.8399685382381413, 0.8408648847298412, 0.8399434405363737, 0.8380104693270229, 0.8399161019683768, 0.8395163314330788, 0.8379584812305043, 0.8375560216557312, 0.8421166326055, 0.836394804775734, 0.8390695027069663, 0.8404619769818221, 0.8383264314653471, 0.8403391775124591, 0.8402383385321429, 0.8383761786956366, 0.8404395683195295, 0.8397749273959341, 0.842833261625614, 0.8378934961098562, 0.8391707898605284, 0.8388418306980747, 0.8401419812842853, 0.8385975762790865, 0.8402190670825713, 0.838909504858198, 0.839324513283855, 0.838762504033559, 0.8403091499049872, 0.8407142985192356, 0.8402921193216448, 0.840885948872396, 0.8401236061812053, 0.8390574020293284, 0.8411987737979993, 0.8392814886522534, 0.8370473450216916, 0.8405421999928292, 0.8386114696497077, 0.8387988060664731, 0.8368156394535873, 0.8406416944534078, 0.8381184790792728, 0.837583360223728, 0.8394450718869887, 0.8405865691441683, 0.8419431895593561, 0.8392411530601269, 0.8411077946290919, 0.8357198558674841, 0.8394553798716432, 0.839202161987738, 0.8380024022085978, 0.8384097916890753, 0.8366413000609515, 0.8400908895342584, 0.8393791904198487, 0.8415402818113369, 0.8392303969022264, 0.8395983471370693, 0.8349328636477715, 0.840802588648668, 0.8376313147610339, 0.8405265139292244, 0.836042540604496, 0.8392832813452367, 0.8389386361191781, 0.8405906027033809, 0.8378800509124807, 0.8397014269836147, 0.8388727546520383, 0.8420202753576423, 0.8386244666738376, 0.8399546448675198, 0.839909827542935, 0.8383542182065898, 0.8417235846688896, 0.8393070345272667, 0.8395562188519593, 0.8370397260765122, 0.8402432684378472, 0.8407452224731992, 0.8385034598974579, 0.8348315764942096, 0.837672994872898, 0.8387705711519846, 0.8387562296081174, 0.8375524362697645, 0.8402661252733856, 0.8412772041160231, 0.8413381556774587, 0.8400276971065935, 0.8401787314904449, 0.8387024488186152, 0.8391905094833458, 0.8396234448388369, 0.8360340253128249, 0.8389901760424509, 0.8397570004661, 0.839724731992399, 0.8425710802767918, 0.8377272238356459, 0.8375999426338244, 0.8434947653364885, 0.835466637983579, 0.8394607579505933, 0.8395176759528163, 0.8407062314008102, 0.8409119429206554, 0.8400339715320354, 0.8390968412749631, 0.8397489333476749, 0.8395499444265175, 0.841014574593955, 0.8401298806066473, 0.8375129970241296, 0.8389440141981284, 0.8390184109569394, 0.8395714567423183, 0.8406685848481589, 0.841659495894733, 0.8415546233552041, 0.839679914667814, 0.838900093220035, 0.838688107274748, 0.837651930730343, 0.8390237890358896, 0.8417182065899393, 0.8394558280448889, 0.8401984511132622, 0.8392595281632066, 0.8399828797820085, 0.8431335377003335, 0.8389350507332114, 0.8408366498153526, 0.8400469685561651, 0.8394307303431213, 0.8410481875873936, 0.8399201355275896, 0.840689200817468, 0.8399869133412212, 0.8397534150801331, 0.8405309956616828, 0.8393070345272668, 0.8414242049406617, 0.8391165608977806, 0.8391371768670898, 0.8377048151733534, 0.839267595281632, 0.838548277222043, 0.8385285575992256, 0.8390332006740525, 0.8403163206769211, 0.8390838442508336, 0.8379082858269693, 0.8408707109820371, 0.8405793983722347, 0.8418490731777275, 0.8399353734179484, 0.8383533218600983, 0.8382448639346025, 0.8380378078950198, 0.838918468323115, 0.8374117098705676, 0.8405511634577462, 0.8408308235631564, 0.8399645046789286, 0.8381659854433329, 0.8384868774873615, 0.8394818220931483, 0.8449907676311355, 0.8400541393280986, 0.8370885769603098, 0.8403911656089778, 0.8408258936574521, 0.838213491807393, 0.8400487612491484, 0.8378796027392349, 0.8394916819045569, 0.8409769280413035, 0.8373825786095873, 0.8415178731490445, 0.838565755978631, 0.8406148040586569, 0.8401141945430426, 0.842874493564232, 0.8393316840557885, 0.8382399340288982, 0.8403423147251802, 0.8374919328815746, 0.8386625613997346, 0.8405906027033809, 0.8402266860277507, 0.8413058872037574, 0.8405318920081746, 0.8403799612778315, 0.839551288946255, 0.8397153203542362, 0.8382040801692301, 0.8416469470438491, 0.8373798895701122, 0.8404776630454267, 0.8415196658420279, 0.8391282134021727, 0.837789519916819, 0.8396633322577174, 0.8399757090100749, 0.8378249256032412, 0.8385765121365315, 0.8379499659388332, 0.8405309956616829, 0.839625685705066, 0.8393397511742139, 0.8390820515578502, 0.8427131511957263, 0.8381444731275322, 0.837239611344161, 0.8408635402101035, 0.8407990032627012, 0.8403078053852497, 0.8382202144060809, 0.8382143881538847, 0.8387230647879245, 0.8392021619877378, 0.8401500484027106, 0.8412072890896706, 0.8429623355204188, 0.8391008748341757, 0.838324190599118, 0.8364965401025418, 0.8360255100211538, 0.8396956007314187, 0.8391398659065649, 0.840349037323868, 0.8369249937255745, 0.8407694238284752, 0.8390596428955578, 0.8413054390305115, 0.8411055537628624, 0.8399896023806962, 0.8407398443942491, 0.837873776487039, 0.8388100103976194, 0.8404512208239217, 0.8402213079488007, 0.8370778208024094, 0.8387880499085726, 0.8405009680542109, 0.8417545086228532, 0.8424765157219174, 0.8427041877308092, 0.8371074002366354, 0.8402602990211896, 0.8401204689684845, 0.8407869025850633, 0.8406381090674412, 0.8386576314940303, 0.8407111613065146, 0.8390609874152953, 0.840214137176867, 0.8375380947258972, 0.8378258219497329, 0.8400998529991753, 0.8404799039116561, 0.8381390950485819, 0.8376062170592664, 0.8387755010576888, 0.8389565630490122, 0.8405211358502742, 0.8385491735685345, 0.8408841561794127, 0.8398264673192068, 0.8422304686099458, 0.8401348105123515, 0.8383040228030547, 0.8375233050087842, 0.8425979706715429, 0.8398045068301604, 0.8410280197913306, 0.8392738697070738, 0.8426777455093042, 0.8394607579505933, 0.8381426804345486, 0.8361940231615932, 0.8381610555376285, 0.836609927933742, 0.8386881072747481, 0.840778387293392, 0.8386625613997347, 0.8400967157864544, 0.8410302606575599, 0.8409598974579613, 0.8389659746871752, 0.8410956939514539, 0.8394172851457459, 0.8366986662364204, 0.840877433580725, 0.8418652074145782, 0.8383586999390484, 0.8374861066293785, 0.8406739629271089, 0.8409684127496324, 0.8377057115198451, 0.8399295471657523, 0.8424644150442793, 0.8374771431644616, 0.8367318310566132, 0.839763723064788, 0.8405892581836435, 0.839646749847621, 0.8406591732099961, 0.8392254669965221, 0.8412458319888135, 0.8399295471657524, 0.8411745724427234, 0.8398614248323832, 0.8377124341185329, 0.8395745939550392, 0.8393998063891577, 0.8408989458965257, 0.839829156358682, 0.8399703309311246, 0.8415366964253702, 0.8418159083575346, 0.8409097020544262, 0.8406479688788497, 0.8383264314653472, 0.8394387974615466, 0.8370737872431966, 0.8403983363809115, 0.8392922448101537, 0.8392989674088415, 0.8410271234448387, 0.8406291456025241, 0.8387199275752033, 0.8410670108637194, 0.8397350399770535, 0.8388292818471909, 0.8364064572801262, 0.8390157219174644, 0.8374636979670861, 0.8385859237746944, 0.8401366032053351, 0.8372476784625864, 0.8406018070345271, 0.8406524506113082, 0.843140708472267, 0.8402092072711627, 0.8396713993761428, 0.8378294073356997, 0.8409307661969809, 0.8406161485783944, 0.8394423828475135, 0.8402020364992292, 0.8397717901832131, 0.8394845111326233, 0.8400931304004877, 0.8383766268688824, 0.8415407299845828, 0.8374381520920726, 0.8405753648130221, 0.8408612993438744, 0.8374278441074181, 0.8373933347674876, 0.8393998063891578, 0.8408012441289304, 0.8384192033272382, 0.842217919759062, 0.8383900720662579, 0.8371383241905991, 0.8420964648094365, 0.8396167222401492, 0.839204851027213, 0.8384689505575275, 0.8418737227062492, 0.840169319852282, 0.8409437632211108, 0.8399636083324369, 0.8433145996916567, 0.8400097701767595, 0.8403476928041302, 0.841623642035065, 0.840704438707827, 0.8377245347961708, 0.8374363593990892, 0.8373279014735936, 0.8404548062098884, 0.8418333871141228, 0.8402024846724749, 0.8426925352264171, 0.8382036319959844, 0.8393209278978883, 0.8400729626044243, 0.8382157326736224, 0.8408514395324655, 0.8393886020580115, 0.8381440249542862, 0.8424930981320139, 0.8435373417948441, 0.8405309956616829, 0.8386401527374422, 0.8372288551862607, 0.8374139507367968, 0.8403436592449177, 0.8374426338245312, 0.8408604029973826, 0.8406847190850095, 0.8416836972500089, 0.8395382919221254, 0.8397780646086551, 0.8404969344949983, 0.8397847872073427, 0.8397153203542361, 0.837852264171238, 0.8410069556487756, 0.8383941056254707, 0.8391819941916747, 0.8411230325194506, 0.8397543114266249, 0.8393778459001111, 0.843074827005127, 0.8421838585923773, 0.8408326162561399, 0.8421220106844501, 0.8366211322648882, 0.8410002330500879, 0.8400971639597004, 0.8388714101323007, 0.8409558638987485, 0.8388965078340683, 0.8407349144885446, 0.8408823634864293, 0.8387253056541536, 0.8401522892689398, 0.8397211466064322, 0.8412462801620594, 0.8372920476139255, 0.8424379728227744, 0.840533684701158, 0.8393769495536194, 0.8403033236527914, 0.8381789824674626, 0.8396288229177871, 0.8391111828188303, 0.8384801548886736, 0.8383739378294073, 0.8396821555340432, 0.8365225341508014, 0.8372682944318955, 0.8384196515004839, 0.8410316051772971, 0.8381435767810406, 0.8410065074755296, 0.839858735792908, 0.8386486680291133, 0.8413036463375281, 0.8394446237137427, 0.8382497938403068, 0.8406376608941952, 0.8377908644365566, 0.8391766161127244, 0.8411866731203613, 0.8402499910365351, 0.8384003800509126, 0.8374117098705676, 0.8411620235918397, 0.8384658133448065, 0.8400124592162346, 0.8408326162561399, 0.8389189164963607, 0.8378639166756301, 0.8385747194435481, 0.8405076906528988, 0.8385720304040729, 0.8404122297515326, 0.839957333906995, 0.8410186081531676, 0.8398717328170378, 0.8429955003406117, 0.8417549567960991, 0.8395660786633681, 0.839834982610878, 0.8380714208884587, 0.8403674124269477, 0.839631960130508, 0.8423339966297372, 0.8418575884693987, 0.8367031479688789, 0.8372808432827793, 0.8387454734502169, 0.8404225377361872, 0.8376635832347352, 0.838407550822846, 0.8402907748019074, 0.8379620666164713, 0.8387329245993331, 0.8389771790183214, 0.8397628267182962, 0.8370177655874655, 0.8396046215625113, 0.83975162238715, 0.8403055645190205, 0.8405623677888924, 0.8393097235667418, 0.8406923380301888, 0.8399564375605033, 0.8371481840020077, 0.8375228568355383, 0.840551611630992, 0.8383882793732744, 0.8400787888566204, 0.8367640995303143, 0.8407824208526048, 0.8407066795740562, 0.833602685454089, 0.8404669068875263, 0.8378262701229786, 0.8424662077372629, 0.8392411530601269, 0.8407008533218601, 0.8368756946685312, 0.8384362339105804, 0.8393343730952636, 0.8388422788713205, 0.840876985407479, 0.8402576099817145, 0.8386652504392097, 0.8371777634362338, 0.8378836362984475, 0.8383972428381914, 0.8400734107776702, 0.8399470259223405, 0.8422712523753182, 0.841163816284823, 0.8407178839052024, 0.836911548528199, 0.8376178695636585, 0.8400639991395074, 0.840444050051988, 0.8402809149904987, 0.839563389623893, 0.8386370155247211, 0.8400769961636368, 0.8403051163457745, 0.8390833960775878, 0.83792979814277, 0.839891900613101, 0.8388131476103402, 0.8391465885052526, 0.8381252016779605, 0.8390650209745079, 0.8420749524936358, 0.839692015345452, 0.8391501738912193, 0.8390305116345774, 0.8393191352049048, 0.8410746298088989, 0.8407824208526048, 0.8391577928363987, 0.8418849270373955, 0.8393693306084399, 0.8394957154637698, 0.8387293392133661, 0.8389933132551719, 0.8386051952242659, 0.8384810512351655, 0.8390990821411926, 0.8385460363558136, 0.8403324549137715, 0.8402750887383026, 0.8382645835574198, 0.8402065182316876, 0.8411584382058729, 0.8416393280986697, 0.8366009644688249, 0.8398699401240544, 0.8399479222688322, 0.8395952099243483, 0.8397386253630201, 0.8369034814097738, 0.8368254992649957, 0.8366672941092107, 0.8376241439891005, 0.837329245993331, 0.841557312394679, 0.8407774909469005, 0.8387127568032697, 0.8403916137822236, 0.8397659639310171, 0.8357149259617797, 0.8387768455774265, 0.8406672403284213, 0.8403978882076655, 0.8400693772184575, 0.8380297407765945, 0.8411463375282349, 0.8391246280162059, 0.840414470617762, 0.8395338101896669, 0.8412633107454017, 0.8418042558531426, 0.8407528414183786, 0.8419449822523395, 0.840461528808576, 0.8356611451722775, 0.8400236635473808, 0.83984663511527, 0.8405395109533541, 0.8408043813416514, 0.8401056792513715, 0.8398802481087089, 0.8388588612814168, 0.836842978021584, 0.8386231221541, 0.8409760316948119, 0.8386262593668208, 0.8402302714137178, 0.8383941056254707, 0.8395499444265174, 0.8393549890645727, 0.8390300634613316, 0.8414484062959376, 0.8394195260119751, 0.8415877881753969, 0.8410782151948657, 0.8399129647556559, 0.8376833028575525, 0.841603026065756, 0.8410302606575598, 0.8390578502025743, 0.8400008067118425, 0.8394414865010218, 0.8397516223871501, 0.8398538058872037, 0.8391205944569933, 0.8396404754221791, 0.8377124341185329, 0.8394997490229824, 0.8397050123695815, 0.8402912229751532, 0.8410889713527661, 0.8404032662866157, 0.841249865548026, 0.8407255028503818, 0.8369828080742892, 0.8389260872682943, 0.8393666415689648, 0.839566078663368, 0.8389328098669822, 0.8374744541249866, 0.8411454411817431, 0.8400250080671183, 0.8401581155211358, 0.8405767093327596, 0.8393200315513965, 0.8377680076010182, 0.8378002760747194, 0.8387293392133663, 0.8402939120146283, 0.8410369832562476, 0.8406269047362948, 0.8399232727403104, 0.8408200674052562, 0.8392877630776954, 0.8399860169947294, 0.8404306048546125, 0.8420933275967157, 0.8388906815818723, 0.838490911046574, 0.8380660428095084, 0.8401899358215912, 0.8406497615718331, 0.8406394535871786, 0.8427772399698827, 0.8368156394535873, 0.840492004589294, 0.842011760065971, 0.8380113656735146, 0.8401124018500591, 0.8389605966082248, 0.8393939801369619, 0.841981732458499, 0.8399053458104764, 0.8376864400702735, 0.8407447742999534, 0.8390179627836937, 0.8371970348858054, 0.8380234663511527, 0.8371782116094796, 0.8400120110429887, 0.839246531139077, 0.8382390376824065, 0.8383017819368255, 0.8385800975224983, 0.8423057617152486, 0.8409061166684593, 0.8353209816786777, 0.8385998171453156, 0.8383197088666594, 0.8382668244236492, 0.8409253881180309, 0.839467480549281, 0.8406188376178695, 0.8396893263059767, 0.8392357749811766, 0.8403907174357319, 0.8379517586318166, 0.8419830769782366, 0.8381843605464128, 0.8397103904485318, 0.837147287655516, 0.8396001398300528, 0.8399223763938187, 0.8396978415976479, 0.8396669176436842, 0.8391479330249901, 0.8404189523502205, 0.8416666666666667, 0.8371952421928219, 0.8404834892976228, 0.8393648488759814, 0.8401715607185112, 0.838482843928149, 0.8407976587429636, 0.8393263059768383, 0.8411212398264671, 0.8407317772758237, 0.8414291348463663, 0.8411656089778063, 0.8399434405363737, 0.8409760316948119, 0.8411436484887599, 0.8363567100498369, 0.8420198271843964, 0.8417688501667204, 0.8390121365314975, 0.8387974615467355, 0.8396077587752321, 0.839790613459539, 0.8411526119536767, 0.8416321573267362, 0.8390215481696603, 0.8402132408303754, 0.8413583234735218, 0.8397834426876052, 0.8407416370872325, 0.8422241941845039, 0.8390363378867735, 0.8402486465167974, 0.8403978882076655, 0.8390717435731957, 0.8389830052705174, 0.8394804775734106, 0.8398717328170376, 0.8401361550320892, 0.8404579434226094, 0.837927109103295, 0.8407506005521495, 0.8381368541823527, 0.8358641676526477, 0.8411015202036499, 0.8400908895342584, 0.8390820515578501, 0.8352008712487899, 0.8426495105948154, 0.8397041160230898, 0.8399627119859452, 0.8408514395324657, 0.8391681008210533, 0.8372019647915098, 0.837397816499946, 0.8403194578896417, 0.8406824782187803, 0.8403252841418378, 0.8409706536158618, 0.8377527697106593, 0.8384088953425834, 0.8394567243913806, 0.837243196730128, 0.8364674088415618, 0.8371665591050875, 0.8400931304004877, 0.8406963715894015, 0.8391793051521996, 0.8404323975475959, 0.838294162991646, 0.838434441217597, 0.843182388584131, 0.8407739055609336, 0.8387414398910041, 0.8396624359112257, 0.8391931985228209, 0.840960793804453, 0.8378334408949123, 0.8410598400917857, 0.8397619303718045, 0.8405592305761714, 0.8378123767523574, 0.8385850274282026, 0.841232386791438, 0.8387149976694991, 0.8385186977878167, 0.8387405435445123, 0.8401124018500591, 0.8412256641927502, 0.8408554730916782, 0.841181295041411, 0.8369590548922591, 0.8380306371230863, 0.8389462550643576, 0.838780879136639, 0.8398520131942203, 0.8381162382130436, 0.8394531390054139, 0.8413560826072926, 0.8376962998816821, 0.8389892796959593, 0.8413560826072926, 0.8380790398336381, 0.8398327417446487, 0.8412902011401527, 0.8366085834140043, 0.8402903266286617, 0.8401657344663153, 0.8398443942490409, 0.8380655946362626, 0.8386549424545552, 0.8411745724427233, 0.8404440500519882, 0.8398905560933634, 0.8410199526729052, 0.8393146534724462, 0.8390121365314975, 0.8377317055681044, 0.8391533111039403, 0.8399376142841776, 0.8390125847047434, 0.8389722491126168, 0.8383649743644902, 0.8411665053242982, 0.840226686027751, 0.8367640995303144, 0.8384949446057868, 0.8380633537700334, 0.8390246853823813, 0.8433110143056899, 0.8406040479007565, 0.8408196192320103, 0.838222007099064, 0.8362209135563442, 0.836902585063282, 0.8358668566921227, 0.8394809257466566, 0.8448083611200745, 0.8378710874475637, 0.8407281918898568, 0.8424747230289339, 0.8401478075364814, 0.8401321214728764, 0.8378455415725502, 0.840632282815245, 0.8426562331935032, 0.8392604245096984, 0.8375806711842528, 0.8393617116632603, 0.8396037252160194, 0.8377106414255493, 0.8377796601054104, 0.8391743752464953, 0.8411136208812877, 0.8393119644329712, 0.8393245132838549, 0.8399013122512637, 0.8340898497723279, 0.8405820874117098, 0.8402334086264386, 0.8376622387149976, 0.8404467390914632, 0.8386352228317379, 0.8398838334946757, 0.8374157434297802, 0.8389211573625901, 0.8387929798142769, 0.8400801333763579, 0.8369317163242623, 0.8385581370334516, 0.8405314438349288, 0.8378477824387796, 0.8389502886235704, 0.8396991861173854, 0.8385397619303717, 0.8408097594206017, 0.8388615503208919, 0.8408895342583629, 0.8377290165286293, 0.8426580258864865, 0.839936717937686, 0.8416119895306727, 0.8409603456312071, 0.8394275931304004, 0.8374381520920726, 0.8402715033523359, 0.8390941522354882, 0.8405121723853571, 0.8375663296403857, 0.8427265963931017, 0.8391676526478073, 0.8374067799648631, 0.8400792370298662, 0.8406493133985874, 0.839168997167545, 0.8349637876017354, 0.8393576781040478, 0.8371871750743968, 0.8390323043275608, 0.8409536230325194, 0.8400783406833744, 0.8382887849126957, 0.8389184683231149, 0.8393688824351941, 0.8440433293894086, 0.8404633215015597, 0.8376658241009644, 0.8382986447241045, 0.8403015309598076, 0.8411723315764942, 0.8366381628482306, 0.8410481875873937, 0.8379504141120792, 0.8369608475852425, 0.8408760890609873, 0.8386948298734359, 0.8429726435050733, 0.8399089311964434, 0.8384604352658565, 0.8382946111648919, 0.8389798680577962, 0.839575042128285, 0.840014251909218, 0.8395844537664479, 0.8399474740955863, 0.8398372234771072, 0.8399806389157792, 0.8408151374995518, 0.8407591158438206, 0.839443727367251, 0.8393142052992004, 0.8385881646409235, 0.8411328923308593, 0.8375076189451794, 0.8410365350830017, 0.8412310422717004, 0.8404579434226094, 0.8411965329317701, 0.8402338567996844, 0.8395382919221254, 0.8401939693808038, 0.8380041949015811, 0.8402732960453193, 0.8404996235344734, 0.838819422035782, 0.8401540819619232, 0.8394015990821411, 0.8386527015883259, 0.8398883152271341, 0.8418495213509736, 0.8394894410383277, 0.8378630203291384, 0.8404557025563801, 0.8414528880283961, 0.838939084292424, 0.8404243304291706, 0.8376945071886988, 0.8381113083073393, 0.8394132515865332, 0.8419118174321465, 0.8366601233372772, 0.8391497257179735, 0.8382430712416191, 0.837040174249758, 0.8402015883259832, 0.8407407407407408, 0.8388274891542075, 0.8394997490229823, 0.8392057473737048, 0.8422815603599727, 0.8379127675594277, 0.8397077014090566, 0.8384689505575276, 0.8352855759922555, 0.8388521386827291, 0.8390278225951023, 0.8419642537019107, 0.8371490803484996, 0.8416433616578824, 0.836341472159478, 0.8397242838191531, 0.8434284356961026, 0.8379907497042056, 0.8389112975511813, 0.8376384855329675, 0.8406524506113083, 0.8396149295471657, 0.8386011616650533, 0.8375112043311461, 0.8379109748664444, 0.8417141730307266, 0.8415940626008388, 0.8392330859417015, 0.8363495392779032, 0.8402329604531928, 0.8386701803449141, 0.8389834534437631, 0.8392832813452368, 0.8389955541214011, 0.838906367645477, 0.8387602631673299, 0.8353962747839805, 0.8387642967265426, 0.838150747552974, 0.8371468394822702, 0.8395320174966834, 0.8396843964002724, 0.8384465418952349, 0.840462425155068, 0.8388373489656161, 0.8370688573374924, 0.8378782582194974, 0.8396982897708937, 0.8397059087160733, 0.8414703667849843, 0.8404395683195296, 0.8389682155534043, 0.841166505324298, 0.8382457602810942, 0.8385814420422358, 0.8384756731562152, 0.8418271126886809, 0.8388369007923703, 0.8380310852963321, 0.838324190599118, 0.8381131010003228, 0.8346863683625543, 0.8392841776917284, 0.8383972428381915, 0.8403176651966583, 0.842689846186942, 0.8421484529059553, 0.8357068588433545, 0.8399658491986661, 0.8367219712452045, 0.8364969882757879, 0.8421793768599188, 0.8414331684055788, 0.8362052274927395, 0.8387634003800508, 0.8394948191172779, 0.8393074827005127, 0.8402858448962031, 0.8386733175576351, 0.840178283317199, 0.8414820192893765, 0.8386334301387544, 0.8392254669965222, 0.8420001075615791, 0.8418714818400201, 0.8400523466351152, 0.8417114839912516, 0.8403172170234124, 0.8384124807285505, 0.8408120002868309, 0.8371163637015524, 0.8391058047398802, 0.8418069448926176, 0.8372306478792442, 0.8402253415080132, 0.840695027069664, 0.8403521745365888, 0.8387311319063496, 0.8401751461044781, 0.8394544835251514, 0.8391770642859703, 0.8412628625721558, 0.8397650675845253, 0.8372898067476963, 0.8434849055250797, 0.8398838334946755, 0.837867053888351, 0.839981535262271, 0.8385993689720698, 0.8404391201462837, 0.8385850274282026, 0.8380445304937076, 0.8376245921623462, 0.8406649994621921, 0.8418100821053387, 0.837798483381736, 0.837368685238966, 0.8394589652576099, 0.8416693557061417, 0.8397717901832131, 0.8404857301638521, 0.8388203183822738, 0.8405852246244307, 0.8366547452583271, 0.8415115987236026, 0.8367103187408124, 0.8402186189093256, 0.8360976659137356, 0.8362446667383743, 0.8399331325517192, 0.8404265712954, 0.8408379943350901, 0.840778387293392, 0.8381023448424223, 0.840545785378796, 0.8424608296583127, 0.8408626438636119, 0.8419050948334588, 0.8407205729446773, 0.838637463697967, 0.8386540461080635, 0.8404131260980244, 0.8395530816392385, 0.8405632641353842, 0.8366242694776093, 0.8424106342547775, 0.8398910042666093, 0.8392510128715356, 0.8401478075364812, 0.838356907246065, 0.837870191101072, 0.8399389588039152, 0.8355863002402207, 0.8410916603922411, 0.8425410526693198, 0.8388875443691513, 0.8408379943350901, 0.8380947258972428, 0.8419073356996879, 0.8384680542110358, 0.839115664551289, 0.8395060234484242, 0.8372503675020615, 0.8408375461618443, 0.8396673658169301, 0.8393617116632606, 0.8412978200853322, 0.8386329819655085, 0.8417217919759061, 0.8382753397153203, 0.8395270875909792, 0.841421067727941, 0.8380530457853789, 0.8380458750134453, 0.8403759277186189, 0.8402598508479437, 0.8414524398551504, 0.8386038507045284, 0.8392017138144919, 0.8394733068014771, 0.8399456814026031, 0.8410925567387328, 0.8395149869133411, 0.8410728371159154, 0.8419454304255853, 0.8405063461331612, 0.8382964038578753, 0.838583682908465, 0.8412763077695313, 0.8417594385285576, 0.8373319350328063, 0.8382072173819511, 0.839223226130293, 0.8376555161163098, 0.838909504858198, 0.840441361012513, 0.8393733641676526, 0.8374260514144347, 0.8377334982610877, 0.8360178910759742, 0.8401926248610664, 0.8392012656412462, 0.8422376393818795, 0.8381592628446453, 0.8399918432469253, 0.8395279839374707, 0.8391035638736509, 0.8403714459861603, 0.8410414649887059, 0.8377438062457423, 0.838529902118963, 0.8427413861102148, 0.8384371302570723, 0.8393478182926392, 0.837024936359399, 0.8412032555304579, 0.8382009429565092, 0.839778064608655, 0.8388400380050912, 0.840952278512782, 0.8387822236563764, 0.8391882686171166, 0.8380718690617045, 0.8409097020544261, 0.8381664336165788, 0.8404583915958553, 0.8388826144634468, 0.8387988060664731, 0.8405247212362411, 0.8403799612778315, 0.8397440034419704, 0.8396082069484779, 0.8379221791975905, 0.8389579075687498, 0.8409200100390806, 0.8417634720877701, 0.8404964863217524, 0.8421489010792012, 0.837720949410204, 0.8406013588612814, 0.8419539457172563, 0.8383098490552507, 0.8402773296045319, 0.8393729159944068, 0.8419266071492595, 0.8411136208812878, 0.8383528736868524, 0.8403911656089776, 0.8390878778100461, 0.8401258470474346, 0.839139417733319, 0.8408258936574523, 0.840709816786777, 0.8354769459682335, 0.839425800437417, 0.8370056649098275, 0.8377568032698719, 0.8403485891506219, 0.8412198379405542, 0.8372745688573374, 0.8386150550356745, 0.8378303036821914, 0.8365185005915886, 0.8366740167078986, 0.8409715499623535, 0.8404830411243771, 0.835946631529884, 0.8391923021763291, 0.8383497364741314, 0.8420453730594099, 0.8418961313685418, 0.8414582661073465, 0.8377823491448855, 0.8392214334373094, 0.8403571044422932, 0.840704438707827, 0.841071044422932, 0.8388216629020115, 0.8395149869133411, 0.8399353734179483, 0.8374762468179698, 0.8404458427449714, 0.8392666989351404, 0.8423174142196406, 0.840148703882973, 0.8416854899429923, 0.8381610555376285, 0.8375492990570435, 0.838565755978631, 0.8398860743609049, 0.8392770069197948, 0.8413072317234951, 0.8392420494066186, 0.8385039080707037, 0.8373933347674877, 0.8391394177333189, 0.8394141479330249, 0.839354092718081, 0.8395759384747767, 0.8401684235057902, 0.8397417625757412, 0.8389570112222581, 0.8376416227456885, 0.8400191818149224, 0.8390941522354881, 0.8422833530529561, 0.8434593596500665, 0.8395199168190455, 0.8404902118963106, 0.8435754365207414, 0.8396713993761428, 0.8415528306622208, 0.8412279050589795, 0.8409437632211106, 0.8363459538919363, 0.8390816033846042, 0.8401625972535944, 0.8386222258076081, 0.8400492094223942, 0.838261446344699, 0.8388055286651607, 0.8384393711233014, 0.8383228460793803, 0.8388929224481015, 0.8387347172923165, 0.8379105266931984, 0.842283801226202, 0.838682729195798, 0.8414735039977052, 0.8418392133663188, 0.8402840522032197, 0.84103563873651, 0.8376819583378149, 0.8392209852640637, 0.8405780538524972, 0.839449553619447, 0.8366269585170842, 0.8402244451615215, 0.8408007959556845, 0.8378415080133376, 0.8407066795740561, 0.8403889247427485, 0.8430586927682765, 0.8411378222365637, 0.8422479473665339, 0.838700207952386, 0.840378616758094, 0.8395804202072352, 0.8388427270445664, 0.8395131942203578, 0.8412740669033022, 0.8370231436664156, 0.8429466494568141, 0.836923649205837, 0.8392093327596716, 0.8393558854110647, 0.8388628948406296, 0.8375215123158009, 0.8378419561865834, 0.8385487253952888, 0.8398824889749381, 0.8382753397153202, 0.8380835215660966, 0.8395073679681617, 0.8402477501703057, 0.8412659997848768, 0.8426226202000644, 0.837592323688645, 0.8389171238033772, 0.8397664121042631, 0.8405327883546664, 0.8392357749811765, 0.8401491520562189, 0.8381274425441898, 0.8402620917141729, 0.8398560467534331, 0.8421363522283173, 0.8400191818149223, 0.8393231687641174, 0.8374973109605249, 0.838511975189129, 0.8398999677315263, 0.8419660463948944, 0.8424612778315586, 0.838126994370944, 0.8405067943064071, 0.8415698612455631, 0.8356105015954967, 0.8387293392133663, 0.8387011042988777, 0.8402970492273492, 0.8415770320174967, 0.8373480692696569, 0.840118676275501, 0.8407084722670395, 0.8417370298662651, 0.8366121687999714, 0.8405744684665304, 0.8364692015345452, 0.8373023555985802, 0.840172905238249, 0.8395530816392385, 0.8416303646337528, 0.8403423147251802, 0.8392698361478613, 0.8368044351224408, 0.839975260836829, 0.8390986339679465, 0.8403199060628875, 0.8387768455774264, 0.8413493600086049, 0.8378356817611415, 0.8377361873005628, 0.8423057617152486, 0.838503459897458, 0.8399810870890252, 0.8379454842063747, 0.8391905094833457, 0.839238015847406, 0.8399667455451579, 0.8374336703596141, 0.8397198020866947, 0.8391022193539133, 0.8407465669929367, 0.8406434871463913, 0.8389834534437632, 0.8357938044530493, 0.8375044817324585, 0.8405480262450252, 0.8427391452439856, 0.8389968986411387, 0.8400241117206266, 0.8391972320820336, 0.8428852497221325, 0.8398932451328385, 0.8398112294288479, 0.8399873615144671, 0.8398842816679215, 0.8405430963393209, 0.8392088845864257, 0.8416760783048295, 0.8379696855616507, 0.8396158258936575, 0.8379118712129361, 0.8385549998207306, 0.8415402818113369, 0.839843946075795, 0.8392980710623498, 0.841044154028181, 0.8382072173819511, 0.8396973934244021, 0.8378231329102577, 0.8386190885948872, 0.8398919006131008, 0.8390009322003513, 0.8391125273385679, 0.8406304901222615, 0.8399698827578788, 0.8405928435696102, 0.8376716503531605, 0.8420435803664263, 0.8398479796350077, 0.8412409020831092, 0.8395293284572084, 0.839694256211681, 0.8381390950485819, 0.8393742605141442, 0.8392541500842565, 0.8400057366175468, 0.8394271449571545, 0.8399470259223405, 0.8384505754544477, 0.83770302248037, 0.8386365673514754, 0.8389256390950485, 0.8415662758595962, 0.839061435588541, 0.8380100211537772, 0.8397762719156716, 0.8403853393567817, 0.8367537915456599, 0.8383044709763006, 0.8409464522605858, 0.839542773654584, 0.8414891900613102, 0.8360268545408913, 0.8396915671722062, 0.8408366498153524, 0.838858861281417, 0.8385110788426372, 0.8413152988419202, 0.8396763292818471, 0.838966422860421, 0.8396826037072891, 0.839422663224696, 0.8370603420458212, 0.8395508407730092, 0.83817494890825, 0.8385850274282026, 0.839903553117493, 0.838873202825284, 0.8418038076798968, 0.8376604460220143, 0.84061121867269, 0.8408653329030868, 0.8394244559176796, 0.8381108601340934, 0.8387248574809077, 0.841886271557133, 0.8386137105159369, 0.8414071743573195, 0.8372853250152379, 0.8387988060664728, 0.8414640923595424, 0.8376765802588649, 0.8413569789537844, 0.8405861209709224, 0.8396185149331324, 0.8401944175540498, 0.8391725825535119, 0.8388422788713205, 0.8403602416550141, 0.8357413681832849, 0.8414560252411173, 0.8395239503782581, 0.8408989458965258, 0.8386621132264889, 0.8386639059194723, 0.8398981750385428, 0.8406094259797067, 0.8404400164927754, 0.8387338209458247, 0.840480352084902, 0.8386410490839339, 0.8412382130436342, 0.838451919974185, 0.8400268007601018, 0.8369693628769136, 0.8395593560646804, 0.8394181814922376, 0.8372055501774764, 0.841853554910186, 0.8391927503495752, 0.8382394858556523, 0.8392353268079309, 0.8389623893012081, 0.839153759277186, 0.83984125703632, 0.8414887418880642, 0.8395481517335339, 0.8390390269262487, 0.839380983112832, 0.8404319493743501, 0.8389166756301316, 0.8388095622243733, 0.8377075042128285, 0.8405332365279122, 0.8395230540317664, 0.8395109533541286, 0.84002052633466, 0.8397717901832132, 0.838602058011545, 0.8398954859990677, 0.8395580115449428, 0.8398744218565126, 0.840680237352551, 0.8427920296869957, 0.8383878312000287, 0.8386952780466818, 0.8404669068875263, 0.8369196156466242, 0.8407367071815282, 0.8377384281667922, 0.8407904879710301, 0.8379634111362089, 0.8393581262772937, 0.8414255494603993, 0.83732073070166, 0.839064572801262, 0.8394907855580652, 0.8383474956079021, 0.8400967157864544, 0.8395409809616005, 0.8367685812627728, 0.8388360044458785, 0.8376931626689613, 0.8390735362661791, 0.8402060700584418, 0.8391954393890502, 0.8397592413323293, 0.8389032304327559, 0.8399510594815531, 0.8395714567423183, 0.8387158940159908, 0.8375421282851098, 0.8373404503244773, 0.8381538847656949, 0.8380243626976444, 0.837729912875121, 0.8400021512315801, 0.8400155964289555, 0.8408541285719408, 0.8382229034455558, 0.842397189057402, 0.8405632641353841, 0.8389489441038327, 0.8400518984618693, 0.8375407837653722, 0.8415089096841274, 0.8383439102219353, 0.8412395575633717, 0.8403118389444623, 0.8412978200853319, 0.8405749166397762, 0.8343004911978774, 0.840226686027751, 0.8388113549173569, 0.8403266286615753, 0.8399138611021476, 0.8395763866480225, 0.8401926248610663, 0.8378625721558924, 0.838712308630024, 0.8393227205908717, 0.840602255207773, 0.8392917966369078, 0.8361460686242873, 0.8385881646409236, 0.8405753648130221, 0.8390255817288731, 0.8398838334946755, 0.8396566096590298, 0.8398175038542897, 0.8412915456598903, 0.8370849915743429, 0.8411432003155139, 0.8400075293105302, 0.8406927862034348, 0.8395499444265174, 0.8406228711770821, 0.8412140116883582, 0.8406040479007565, 0.8381740525617583, 0.8393877057115198, 0.8381247535047148, 0.8424505216736581, 0.8347683840665446, 0.8402222042952924, 0.8366238213043632, 0.8394576207378723, 0.8405354773941414, 0.8391775124592163, 0.8410199526729052, 0.8392711806675988, 0.8386724212111434, 0.8408429242407944, 0.8374704205657739, 0.8409733426553367, 0.8396812591875514, 0.8409702054426158, 0.8377545624036428, 0.8411364777168262, 0.8385402101036176, 0.8393182388584131, 0.8386912444874691, 0.8400218708543974, 0.8380333261625613, 0.8399053458104765, 0.8397287655516115, 0.8395172277795703, 0.8425899035531175, 0.8402396830518805, 0.8398551504069413, 0.8412220788067835, 0.8400483130759026, 0.8406197339643612, 0.8419503603312896, 0.8398457387687784, 0.8403929583019611, 0.84085636943817, 0.8409625864974364, 0.8381664336165787, 0.8377487361514467, 0.8415505897959914, 0.8373521028288695, 0.8386186404216414, 0.8393531963715893, 0.8384720877702484, 0.8393074827005127, 0.8366556416048188, 0.8360851170628518, 0.8384062063031085, 0.8378119285791116, 0.8384711914237567, 0.839136280520598, 0.8370661682980173, 0.8376411745724427, 0.8375972535943494, 0.8381641927503496, 0.8419606683159442, 0.8422757341077766, 0.8398121257753396, 0.8407644939227708, 0.8386531497615717, 0.8378065505001613, 0.8396956007314187, 0.8390838442508337, 0.840169319852282, 0.8405265139292244, 0.8389471514108494, 0.8403315585672798, 0.8375143415438673, 0.8400514502886235, 0.8362787279050589, 0.8382887849126959, 0.8381700190025455, 0.8388521386827292, 0.8385787530027606, 0.8411467857014807, 0.8379822344125345, 0.8392281560359972, 0.840805725861389, 0.8406071851134774, 0.8394809257466566, 0.8408711591552831, 0.8397422107489873, 0.8389153311103941, 0.8399909469004339, 0.8434396400272489, 0.8375927718618909, 0.8403911656089778, 0.8402334086264386, 0.8397242838191532, 0.8409522785127819, 0.8414273421533827, 0.8376286257215589, 0.8413197805743787, 0.8394782367071815, 0.8401859022623785, 0.8410965902979455, 0.8377980352084903, 0.8400859596285541, 0.8383206052131511, 0.8407644939227708, 0.8410728371159154, 0.8391636190885948, 0.8379360725682119, 0.8373104227170054, 0.8396306156107705, 0.838816732996307, 0.8400536911548527, 0.8409867878527123, 0.840166630812807, 0.8409356961026853, 0.8397269728586281, 0.8398869707073966, 0.8419848696712202, 0.8361976085475601, 0.8397717901832131, 0.8398022659639311, 0.8397184575669571, 0.8382090100749344, 0.8374973109605248, 0.8394437273672511, 0.8398013696174392, 0.8403656197339642, 0.8408608511706284, 0.8376537234233264, 0.8411503710874476, 0.8420700225879315, 0.8403382811659675, 0.8392868667312036, 0.839787476246818, 0.8392079882399339, 0.8387755010576888, 0.840697716109139, 0.8392716288408446, 0.838568893191352, 0.8379123193861818, 0.8385097343228998, 0.837266501738912, 0.8409894768921874, 0.8424415582087411, 0.8401446703237602, 0.8366677422824567, 0.8404763185256893, 0.8395822129002186, 0.8377447025922341, 0.8403745831988813, 0.8386011616650533, 0.8374206733354845, 0.8391958875622961, 0.8396324083037539, 0.8387889462550643, 0.8397345918038077, 0.838001505862106, 0.8364884729841167, 0.8393307877092969, 0.8390148255709726, 0.8365180524183427, 0.8401885913018536, 0.8405023125739485, 0.8411028647233874, 0.8402410275716179, 0.8404306048546126, 0.8370388297300204, 0.8410876268330285, 0.8360210282886953, 0.8403445555914093, 0.8391515184109569, 0.836451274604711, 0.8407228138109067, 0.8383519773403608, 0.8378047578071779, 0.8394159406260084, 0.8393330285755262, 0.8379970241296475, 0.8379351762217201, 0.8399035531174929, 0.8373462765766734, 0.8386639059194723, 0.8404834892976228, 0.8382273851780143, 0.8344963429063138, 0.8402177225628338, 0.8409903732386791, 0.8363844967910796, 0.842113495392779, 0.8414676777455092, 0.8403199060628876, 0.8396790183213223, 0.8385074934566706, 0.8388794772507261, 0.8398632175253665, 0.839210677279409, 0.8400689290452117, 0.8362446667383743, 0.8369908751927145, 0.839004965759564, 0.8372243734538023, 0.8414820192893764, 0.8390928077157507, 0.8406040479007565, 0.8405005198809652, 0.8377070560395826, 0.8412919938331362, 0.8417643684342618, 0.8424429027284787, 0.8399649528521744, 0.8393886020580115, 0.8385307984654548, 0.8398569430999246, 0.8417836398838335, 0.8405507152845003, 0.8388897852353806, 0.8418051521996343, 0.8422483955397798, 0.838999139507368, 0.8392720770140905, 0.8394957154637696, 0.8378899107238893, 0.8394307303431214, 0.8390305116345774, 0.8394096662005665, 0.8400097701767594, 0.8393684342619483, 0.842125596070417, 0.8369379907497043, 0.8391900613101001, 0.840145566670252, 0.8400635509662615, 0.8400138037359721, 0.8392290523824891, 0.8408173783657811, 0.8385272130794881, 0.8404669068875263, 0.8397027715033523, 0.8363495392779032, 0.8400613101000322, 0.837681958337815, 0.8392214334373095, 0.8392783514395324, 0.8371445986160411, 0.8396149295471658, 0.8422985909433149, 0.8412480728550428, 0.838637911871213, 0.8416393280986698, 0.840984546986483, 0.8412642070918934, 0.8400662400057365, 0.8389095048581978, 0.8386670431321931, 0.8378029651141945, 0.8421668280090351, 0.8382067692087052, 0.8379289017962783, 0.8385074934566704, 0.8403575526155391, 0.8386518052418344, 0.8419633573554192, 0.8414277903266286]\n"
     ]
    }
   ],
   "source": [
    "t_53 = auc_bootstrap\n",
    "print(t_53)"
   ]
  },
  {
   "cell_type": "code",
   "execution_count": 130,
   "id": "914bb710",
   "metadata": {},
   "outputs": [],
   "source": [
    "del X_train, X_test, y_train, y_test, X_val, y_val,study, optuna_auc"
   ]
  },
  {
   "cell_type": "code",
   "execution_count": 131,
   "id": "93ed07d1",
   "metadata": {},
   "outputs": [],
   "source": [
    "# 54\n",
    "column_to_drop_53 = 'Cat_이사 계획 중인 거주 지역'"
   ]
  },
  {
   "cell_type": "code",
   "execution_count": 132,
   "id": "984e2474",
   "metadata": {},
   "outputs": [
    {
     "name": "stdout",
     "output_type": "stream",
     "text": [
      "(10564, 10)\n"
     ]
    }
   ],
   "source": [
    "if not column_to_drop_53.startswith('Cat_'):\n",
    "    comp_54 = comp_53.drop(column_to_drop_53, axis=1)\n",
    "    X_54 = comp_54.drop('target', axis=1)\n",
    "    y_54 = comp_54['target']\n",
    "else:\n",
    "    comp_54 = comp_53.drop(comp_53.filter(regex='^' + column_to_drop_53).columns, axis=1)\n",
    "    X_54 = comp_54.drop('target', axis=1)\n",
    "    y_54 = comp_54['target']\n",
    "\n",
    "print(X_54.shape)"
   ]
  },
  {
   "cell_type": "code",
   "execution_count": 133,
   "id": "1aead1e6",
   "metadata": {},
   "outputs": [],
   "source": [
    "X_train, X_test, y_train, y_test = train_test_split(X_54, y_54, test_size=0.2, shuffle=True, stratify=y_54, random_state = 0)\n",
    "X_train, X_val, y_train, y_val = train_test_split(X_train, y_train, test_size=0.2, shuffle=True, stratify=y_train, random_state = 0)"
   ]
  },
  {
   "cell_type": "code",
   "execution_count": 134,
   "id": "e6cde8c7",
   "metadata": {},
   "outputs": [],
   "source": [
    "def objective(trial):\n",
    "    params = {\n",
    "        'learning_rate' :trial.suggest_float('learning_rate',0.01, 0.1,step=0.01),        \n",
    "        'n_estimators' :trial.suggest_int('n_estimators', 50, 200),\n",
    "        'subsample':trial.suggest_float('subsample', 0.1, 1.0,step=0.1),\n",
    "        'max_depth' :trial.suggest_int('max_depth', 1, 10),\n",
    "        'min_samples_split' :trial.suggest_int('min_samples_split', 3, 10),\n",
    "        'min_samples_leaf' :trial.suggest_int('min_samples_leaf', 3, 10),\n",
    "        }\n",
    "        \n",
    "    clf = GradientBoostingClassifier(**params,random_state = 0)\n",
    "    clf.fit(X_train, y_train)\n",
    "    clf_proba = clf.predict_proba(X_val)[:, 1]\n",
    "        \n",
    "    AUC_SCORE = roc_auc_score(y_val, clf_proba)\n",
    "    return AUC_SCORE\n",
    "\n",
    "direction = \"maximize\"\n",
    "sampler = optuna.samplers.TPESampler(seed=10)\n",
    "study =  optuna.create_study(direction=direction, sampler=sampler, pruner=optuna.pruners.HyperbandPruner())\n",
    "early_stopping = EarlyStoppingCallback(10, direction=direction)\n",
    "study.optimize(objective, callbacks=[early_stopping], n_trials=200) "
   ]
  },
  {
   "cell_type": "code",
   "execution_count": 135,
   "id": "dc034bbe",
   "metadata": {},
   "outputs": [
    {
     "name": "stdout",
     "output_type": "stream",
     "text": [
      "{'learning_rate': 0.09999999999999999, 'n_estimators': 157, 'subsample': 0.6, 'max_depth': 2, 'min_samples_split': 5, 'min_samples_leaf': 8}\n",
      "0.8244379506471405\n"
     ]
    }
   ],
   "source": [
    "print(study.best_trial.params)\n",
    "optuna_auc = study.best_trial.value\n",
    "print(optuna_auc)"
   ]
  },
  {
   "cell_type": "code",
   "execution_count": 136,
   "id": "65b91693",
   "metadata": {},
   "outputs": [
    {
     "data": {
      "text/html": [
       "<style>#sk-container-id-10 {color: black;}#sk-container-id-10 pre{padding: 0;}#sk-container-id-10 div.sk-toggleable {background-color: white;}#sk-container-id-10 label.sk-toggleable__label {cursor: pointer;display: block;width: 100%;margin-bottom: 0;padding: 0.3em;box-sizing: border-box;text-align: center;}#sk-container-id-10 label.sk-toggleable__label-arrow:before {content: \"▸\";float: left;margin-right: 0.25em;color: #696969;}#sk-container-id-10 label.sk-toggleable__label-arrow:hover:before {color: black;}#sk-container-id-10 div.sk-estimator:hover label.sk-toggleable__label-arrow:before {color: black;}#sk-container-id-10 div.sk-toggleable__content {max-height: 0;max-width: 0;overflow: hidden;text-align: left;background-color: #f0f8ff;}#sk-container-id-10 div.sk-toggleable__content pre {margin: 0.2em;color: black;border-radius: 0.25em;background-color: #f0f8ff;}#sk-container-id-10 input.sk-toggleable__control:checked~div.sk-toggleable__content {max-height: 200px;max-width: 100%;overflow: auto;}#sk-container-id-10 input.sk-toggleable__control:checked~label.sk-toggleable__label-arrow:before {content: \"▾\";}#sk-container-id-10 div.sk-estimator input.sk-toggleable__control:checked~label.sk-toggleable__label {background-color: #d4ebff;}#sk-container-id-10 div.sk-label input.sk-toggleable__control:checked~label.sk-toggleable__label {background-color: #d4ebff;}#sk-container-id-10 input.sk-hidden--visually {border: 0;clip: rect(1px 1px 1px 1px);clip: rect(1px, 1px, 1px, 1px);height: 1px;margin: -1px;overflow: hidden;padding: 0;position: absolute;width: 1px;}#sk-container-id-10 div.sk-estimator {font-family: monospace;background-color: #f0f8ff;border: 1px dotted black;border-radius: 0.25em;box-sizing: border-box;margin-bottom: 0.5em;}#sk-container-id-10 div.sk-estimator:hover {background-color: #d4ebff;}#sk-container-id-10 div.sk-parallel-item::after {content: \"\";width: 100%;border-bottom: 1px solid gray;flex-grow: 1;}#sk-container-id-10 div.sk-label:hover label.sk-toggleable__label {background-color: #d4ebff;}#sk-container-id-10 div.sk-serial::before {content: \"\";position: absolute;border-left: 1px solid gray;box-sizing: border-box;top: 0;bottom: 0;left: 50%;z-index: 0;}#sk-container-id-10 div.sk-serial {display: flex;flex-direction: column;align-items: center;background-color: white;padding-right: 0.2em;padding-left: 0.2em;position: relative;}#sk-container-id-10 div.sk-item {position: relative;z-index: 1;}#sk-container-id-10 div.sk-parallel {display: flex;align-items: stretch;justify-content: center;background-color: white;position: relative;}#sk-container-id-10 div.sk-item::before, #sk-container-id-10 div.sk-parallel-item::before {content: \"\";position: absolute;border-left: 1px solid gray;box-sizing: border-box;top: 0;bottom: 0;left: 50%;z-index: -1;}#sk-container-id-10 div.sk-parallel-item {display: flex;flex-direction: column;z-index: 1;position: relative;background-color: white;}#sk-container-id-10 div.sk-parallel-item:first-child::after {align-self: flex-end;width: 50%;}#sk-container-id-10 div.sk-parallel-item:last-child::after {align-self: flex-start;width: 50%;}#sk-container-id-10 div.sk-parallel-item:only-child::after {width: 0;}#sk-container-id-10 div.sk-dashed-wrapped {border: 1px dashed gray;margin: 0 0.4em 0.5em 0.4em;box-sizing: border-box;padding-bottom: 0.4em;background-color: white;}#sk-container-id-10 div.sk-label label {font-family: monospace;font-weight: bold;display: inline-block;line-height: 1.2em;}#sk-container-id-10 div.sk-label-container {text-align: center;}#sk-container-id-10 div.sk-container {/* jupyter's `normalize.less` sets `[hidden] { display: none; }` but bootstrap.min.css set `[hidden] { display: none !important; }` so we also need the `!important` here to be able to override the default hidden behavior on the sphinx rendered scikit-learn.org. See: https://github.com/scikit-learn/scikit-learn/issues/21755 */display: inline-block !important;position: relative;}#sk-container-id-10 div.sk-text-repr-fallback {display: none;}</style><div id=\"sk-container-id-10\" class=\"sk-top-container\"><div class=\"sk-text-repr-fallback\"><pre>GradientBoostingClassifier(learning_rate=0.09999999999999999, max_depth=2,\n",
       "                           min_samples_leaf=8, min_samples_split=5,\n",
       "                           n_estimators=157, random_state=0, subsample=0.6)</pre><b>In a Jupyter environment, please rerun this cell to show the HTML representation or trust the notebook. <br />On GitHub, the HTML representation is unable to render, please try loading this page with nbviewer.org.</b></div><div class=\"sk-container\" hidden><div class=\"sk-item\"><div class=\"sk-estimator sk-toggleable\"><input class=\"sk-toggleable__control sk-hidden--visually\" id=\"sk-estimator-id-10\" type=\"checkbox\" checked><label for=\"sk-estimator-id-10\" class=\"sk-toggleable__label sk-toggleable__label-arrow\">GradientBoostingClassifier</label><div class=\"sk-toggleable__content\"><pre>GradientBoostingClassifier(learning_rate=0.09999999999999999, max_depth=2,\n",
       "                           min_samples_leaf=8, min_samples_split=5,\n",
       "                           n_estimators=157, random_state=0, subsample=0.6)</pre></div></div></div></div></div>"
      ],
      "text/plain": [
       "GradientBoostingClassifier(learning_rate=0.09999999999999999, max_depth=2,\n",
       "                           min_samples_leaf=8, min_samples_split=5,\n",
       "                           n_estimators=157, random_state=0, subsample=0.6)"
      ]
     },
     "execution_count": 136,
     "metadata": {},
     "output_type": "execute_result"
    }
   ],
   "source": [
    "optuna_54 = GradientBoostingClassifier(**study.best_trial.params, random_state = 0)\n",
    "optuna_54.fit(X_train, y_train)"
   ]
  },
  {
   "cell_type": "code",
   "execution_count": 137,
   "id": "4a9f1e5c",
   "metadata": {},
   "outputs": [
    {
     "name": "stdout",
     "output_type": "stream",
     "text": [
      "0.8293956831952961\n"
     ]
    }
   ],
   "source": [
    "optuna_proba_54 = optuna_54.predict_proba(X_test)[:, 1]\n",
    "auc_54 = roc_auc_score(y_test, optuna_proba_54)\n",
    "print(auc_54)"
   ]
  },
  {
   "cell_type": "code",
   "execution_count": 138,
   "id": "6555a83a",
   "metadata": {},
   "outputs": [],
   "source": [
    "X_train = X_train.values\n",
    "y_train = y_train.values"
   ]
  },
  {
   "cell_type": "code",
   "execution_count": 139,
   "id": "86232671",
   "metadata": {},
   "outputs": [],
   "source": [
    "auc_bootstrap = []"
   ]
  },
  {
   "cell_type": "code",
   "execution_count": 140,
   "id": "7a7a50b6",
   "metadata": {},
   "outputs": [
    {
     "data": {
      "text/plain": [
       "array([0.82325602, 0.83155648])"
      ]
     },
     "execution_count": 140,
     "metadata": {},
     "output_type": "execute_result"
    }
   ],
   "source": [
    "rs = RandomState(seed = 54)\n",
    "bootstrap_auc(optuna_54, X_train, y_train, X_test, y_test, nsamples=2000)"
   ]
  },
  {
   "cell_type": "code",
   "execution_count": 141,
   "id": "00bedb82",
   "metadata": {},
   "outputs": [
    {
     "data": {
      "text/plain": [
       "0.8274134017245707"
      ]
     },
     "execution_count": 141,
     "metadata": {},
     "output_type": "execute_result"
    }
   ],
   "source": [
    "np.mean(auc_bootstrap)"
   ]
  },
  {
   "cell_type": "code",
   "execution_count": 142,
   "id": "91c4e1a1",
   "metadata": {},
   "outputs": [
    {
     "name": "stdout",
     "output_type": "stream",
     "text": [
      "[0.8245827507081138, 0.8261997597791402, 0.8280525079774838, 0.8272955433652432, 0.8294754580330571, 0.8281224230038363, 0.8277459574773225, 0.8250546771359937, 0.82655292029687, 0.8246531139077121, 0.8287960273923488, 0.8306626689613136, 0.8281896489907139, 0.8250336129934389, 0.8288350184647377, 0.8316638879925424, 0.8270418773080923, 0.8262786382704097, 0.8258941056254705, 0.8270037825821951, 0.8255230181779067, 0.8280681940410886, 0.8310996378760174, 0.8257896812591876, 0.8267321895952099, 0.8278956473414363, 0.8270400846151087, 0.8287377648703884, 0.8274976694991216, 0.8262669857660176, 0.8261347746584919, 0.8274210318740812, 0.8272825463411136, 0.8280655050016134, 0.8241614678570147, 0.8267079882399341, 0.8258430138754437, 0.8282658384425083, 0.8270203649922915, 0.8332463877236385, 0.827541590477215, 0.8308621060557169, 0.8266102864723388, 0.8260478290487971, 0.8265869814635546, 0.8287619662256642, 0.8275111146964972, 0.8280906027033811, 0.8277647807536481, 0.8226928041303646, 0.8246777634362339, 0.8252823491448854, 0.8228075364813021, 0.8255579756910834, 0.828257771324083, 0.8290012907389481, 0.8297896274783981, 0.8272704456634757, 0.8250134451973755, 0.8307110716718653, 0.8264977949876305, 0.8295211717041339, 0.827705621885196, 0.8248619626402781, 0.8230477573410777, 0.8252841418378689, 0.8255158474059733, 0.8265063102793015, 0.8279991753612277, 0.8260146642286041, 0.8244765336488472, 0.8268267541500842, 0.8279086443655659, 0.829356692122907, 0.8268836721523072, 0.8263019432791942, 0.827012746047112, 0.8305210462156251, 0.8312461905274102, 0.831133699042702, 0.8273730773367753, 0.8280847764511848, 0.8263543795489584, 0.8304874332221863, 0.8290012907389479, 0.8274887060342045, 0.8285060593022838, 0.831587250367502, 0.8284988885303504, 0.8256892904521171, 0.8303435696102686, 0.8280565415366964, 0.8312851815997991, 0.8285934530852247, 0.8295641963357355, 0.8272444516152165, 0.8259617797855939, 0.8306304004876125, 0.8269468645799719, 0.8283299272166648, 0.8250233050087842, 0.826469111899896, 0.8283227564447313, 0.8259214441934676, 0.8277495428632893, 0.8269934745975404, 0.8279767666989353, 0.8252720411602309, 0.8322429278261804, 0.8267873149044496, 0.8294431895593559, 0.8287305940984545, 0.8272327991108243, 0.8283509913592199, 0.8281278010827865, 0.8277943601878741, 0.8300190921802733, 0.8237926212756803, 0.8292329963070524, 0.826531407981069, 0.8275886486680291, 0.8299281130113656, 0.830572137965652, 0.82947949159227, 0.8301920870531713, 0.8290640349933669, 0.8265219963429064, 0.8268823276325696, 0.8317217023412571, 0.8251801656448317, 0.8274371661109317, 0.8280771575060054, 0.8262817754831309, 0.8277437166110931, 0.829004427951669, 0.8271875336129935, 0.8289201713814491, 0.8280484744182711, 0.8281300419490157, 0.8258470474346564, 0.8274331325517192, 0.8278382811659675, 0.8273098849091105, 0.8227389659746871, 0.8275357642250188, 0.8311561077049944, 0.827714585350113, 0.8260890609874153, 0.8284805134272704, 0.8330630848660857, 0.8292276182281022, 0.8279350865870712, 0.8248919902477501, 0.8289726076512135, 0.8297403284213547, 0.8288067835502493, 0.828018894984045, 0.8279637696748056, 0.8277074145781794, 0.8271409235954249, 0.8238078591660392, 0.8283523358789573, 0.8288179878813954, 0.8235210282886952, 0.8278001864400703, 0.8301607149259618, 0.8290546233552041, 0.8263014951059483, 0.8257708579828618, 0.8305945466279444, 0.8239898175038542, 0.8274192391810979, 0.8267205370908178, 0.8238992865081927, 0.833313613710516, 0.824892438420996, 0.8261724212111434, 0.829066724032842, 0.8269186296654836, 0.8235322326198415, 0.8236541357427127, 0.8272296618981033, 0.8296148399125165, 0.8280870173174143, 0.826513929224481, 0.8301311354917358, 0.8297201606252913, 0.8248893012082751, 0.8285696999031946, 0.8271664694704385, 0.8247077910437058, 0.8282958660499803, 0.8286839840808864, 0.8273121257753397, 0.8323993402889821, 0.828873113190635, 0.8259102398623211, 0.8291464988706034, 0.8280614714424008, 0.8264951059481552, 0.8261661467857014, 0.8288941773331898, 0.8266860277508874, 0.8270163314330788, 0.8262862572155893, 0.82957450432039, 0.8242797855939192, 0.8266945430425585, 0.825390807070381, 0.8269764440141982, 0.8303440177835145, 0.8285378796027393, 0.8263171811695529, 0.8300916962461009, 0.8263328672331577, 0.8332226345416084, 0.8238230970563981, 0.8290057724714065, 0.8283751927144958, 0.8257260406582769, 0.8298501308665879, 0.8245688573374924, 0.8299402136890036, 0.8284782725610412, 0.8271911189989603, 0.8276648381198236, 0.830303682191388, 0.8302669319852282, 0.8278006346133162, 0.8305591409415224, 0.829279158151375, 0.8277898784554155, 0.8280050016134237, 0.8261836255422897, 0.8305456957441469, 0.8289524398551504, 0.8282178839052025, 0.8256314761034025, 0.8292746764189165, 0.827723100641784, 0.8286445448352515, 0.8269459682334803, 0.8318189559356064, 0.8268115162597254, 0.8241265103438385, 0.8285679072102112, 0.824229590190384, 0.8260478290487971, 0.823256157900398, 0.8220788067835503, 0.8277898784554157, 0.8278360402997381, 0.8251846473772901, 0.8274568857337491, 0.8289981535262271, 0.8271548169660464, 0.8269777885339356, 0.8286414076225307, 0.8276764906242158, 0.8251245921623462, 0.8276011975189128, 0.8278494854971138, 0.8272408662292495, 0.8300069915026352, 0.8285513248001147, 0.8206993295328242, 0.8245764762826718, 0.8280551970169587, 0.8293531067369403, 0.8284128392671471, 0.8259510236276935, 0.8282716646947044, 0.8299980280377182, 0.8295946721164533, 0.8289322720590871, 0.8289022444516152, 0.8286436484887597, 0.8213975834498585, 0.8264529776630455, 0.8263772363844969, 0.8306169552902369, 0.8286216879997133, 0.8294019576207379, 0.8295126564124629, 0.8297757341077767, 0.8287368685238965, 0.826068893191352, 0.8302351116847729, 0.8270557706787135, 0.8285423613351978, 0.8284007385895091, 0.8243120540676203, 0.8280995661682982, 0.8282192284249399, 0.826385303502922, 0.8273865225341508, 0.8310718511347747, 0.8261764547703561, 0.8294915922699079, 0.8267066437201964, 0.827317055681044, 0.8295677817217024, 0.8311619339571905, 0.8242461726004805, 0.8300038542899143, 0.827403553117493, 0.8252706966404934, 0.8294113692589007, 0.8264337062134739, 0.827917607830483, 0.8288883510809939, 0.8263539313757127, 0.8243851063066938, 0.8313161055537627, 0.8251263848553295, 0.8280023125739485, 0.8276854540891326, 0.8272673084507547, 0.8303969022265245, 0.8268321322290345, 0.8249399447850562, 0.8241296475565595, 0.8302929260334875, 0.8304712989853358, 0.8288995554121401, 0.8272852353805887, 0.8284200100390808, 0.8232005844179126, 0.8295243089168549, 0.827140923595425, 0.8292307554408234, 0.8243012979097201, 0.8261540461080634, 0.8265130328779893, 0.8282528414183786, 0.827051737119501, 0.825955505360152, 0.8250972535943495, 0.8284823061202539, 0.8263987487002976, 0.8257986447241046, 0.8283590584776451, 0.8317423183105661, 0.8278862357032734, 0.8287458319888137, 0.8249327740131225, 0.8278804094510773, 0.8280041052669319, 0.8273188483740275, 0.8262055860313363, 0.8298501308665878, 0.8227326915492452, 0.8243129504141121, 0.8280820874117099, 0.8280516116309921, 0.8282246065038902, 0.8297994872898068, 0.8285477394141479, 0.8294915922699078, 0.8271458535011293, 0.8266501738912193, 0.8270777311677602, 0.8275191818149222, 0.826911010720304, 0.8252406690330215, 0.8315738051701266, 0.8237052274927396, 0.8266371768670897, 0.8257789251012871, 0.8251317629342797, 0.8264915205621886, 0.8289349610985624, 0.8280525079774839, 0.830016403140798, 0.8228935857445054, 0.8347455272310065, 0.8264668710336668, 0.8266976802552795, 0.828607346455846, 0.8309799756193753, 0.8235237173281703, 0.8280327883546664, 0.8275523466351153, 0.8283671255960705, 0.827421480047327, 0.8262858090423434, 0.8279252267756624, 0.825262629522068, 0.8281605177297335, 0.8269186296654835, 0.8274205837008353, 0.826701713814492, 0.8239297622889104, 0.8294552902369939, 0.8292325481338066, 0.8267070918934423, 0.8268635043562439, 0.8253307518554374, 0.8306070954788283, 0.829183249076763, 0.828858323473522, 0.8277199634290632, 0.8295740561471441, 0.8269038399483706, 0.826223961134416, 0.8242345200960883, 0.829894500017927, 0.8277602990211896, 0.8237473557778494, 0.8235981140869816, 0.8253908070703811, 0.8279247786024166, 0.8276437739772687, 0.8276132981965508, 0.8231149833279552, 0.8275034957513177, 0.8293315944211395, 0.8269446237137428, 0.829401509447492, 0.8248915420745043, 0.825014789717113, 0.8253020687677028, 0.825773547022337, 0.8278006346133161, 0.8280076906528987, 0.829736294862142, 0.827609712810584, 0.8272749273959343, 0.8265654691477538, 0.826660481875874, 0.8272130794880068, 0.8259667096912982, 0.828950647162167, 0.8236622028611379, 0.8308343193144742, 0.8288874547345022, 0.8282075759205478, 0.8261025061847908, 0.8254876124914847, 0.8240440464666021, 0.8287279050589796, 0.8266873722706247, 0.8300450862285325, 0.827657219174644, 0.8264973468143846, 0.8283209637517479, 0.8276267433939264, 0.8284455559140941, 0.829583467785307, 0.8284625864974363, 0.8284890287189416, 0.8294167473378509, 0.825420834677853, 0.8293647592413322, 0.83070300455344, 0.8281493133985873, 0.8275626546197699, 0.8314554874332222, 0.8268693306084399, 0.8273802481087088, 0.8285912122189953, 0.8259214441934675, 0.8279660105410347, 0.8300549460399413, 0.8271427162884084, 0.824982073070166, 0.8255476677064285, 0.8276845577426409, 0.8297340539959126, 0.8276043347316338, 0.8313546484529059, 0.8257480011473235, 0.8269500017926931, 0.8251877845900112, 0.8309042343408268, 0.8279467390914631, 0.8299684486034921, 0.8241475744863934, 0.8268182388584131, 0.8281286974292782, 0.8268984618694202, 0.8262876017353269, 0.8275155964289557, 0.8235192355957118, 0.8234892079882399, 0.8273125739485855, 0.8266371768670897, 0.825185095550536, 0.8266506220644652, 0.8234197411351332, 0.8293181492237639, 0.8285795597146032, 0.822882829586605, 0.8257170771933598, 0.8259313040048762, 0.8268195833781506, 0.8279149187910079, 0.8263144921300777, 0.8244639847979635, 0.8240525617582731, 0.8258739378294073, 0.8290989925065434, 0.8272740310494424, 0.8283106557670932, 0.8299684486034923, 0.8260316948119465, 0.8279382237997922, 0.8279955899752608, 0.8279498763041842, 0.8264659746871752, 0.8261791438098312, 0.8327820802409379, 0.8298806066473056, 0.8272224911261696, 0.8278167688501668, 0.8312802516940949, 0.8262947725072605, 0.8292549567960991, 0.8258094008820049, 0.8239866802911333, 0.8269042881216163, 0.826421605535836, 0.8239647198020865, 0.8310333082356316, 0.8254011150550356, 0.8298640242372091, 0.8277957047076118, 0.8298259295113117, 0.8275689290452116, 0.8323702090280019, 0.8259066544763544, 0.8279131260980245, 0.8257081137284428, 0.8249314294933849, 0.8273811444552007, 0.8267590799899609, 0.8250905309956615, 0.8300657021978416, 0.8255485640529204, 0.8284581047649778, 0.8238786705388835, 0.8258640780179987, 0.8252666630812808, 0.8316280341328743, 0.8250605033881898, 0.8255794880068839, 0.8257556200925029, 0.8294033021404754, 0.8270736976085475, 0.828944820909971, 0.8292070022587932, 0.83020732494353, 0.8261961743931734, 0.8281372127209495, 0.8257793732745331, 0.8238181671506937, 0.8245684091642466, 0.8270866946326771, 0.8277024846724749, 0.8249977591337707, 0.8291003370262808, 0.8246271198594529, 0.8252263274891543, 0.8306286077946291, 0.8258891757197662, 0.8290833064429385, 0.8304282743537342, 0.824074074074074, 0.8266255243626975, 0.8270822129002187, 0.8279032662866157, 0.8284827542934997, 0.8276796278369366, 0.8236864042164139, 0.8304211035818007, 0.8277495428632892, 0.8277845003764656, 0.8263633430138754, 0.8275747552974078, 0.8271265820515578, 0.8212528234914488, 0.826988544691836, 0.8295148972786921, 0.8269491054462013, 0.8289067261840738, 0.8257843031802373, 0.8263870961959053, 0.8253168584848161, 0.8274958768061381, 0.826200207952386, 0.826898910042666, 0.8266672044745617, 0.8277280305474883, 0.8284894768921874, 0.8258062636692841, 0.8264937614284178, 0.8277939120146283, 0.8244595030655051, 0.8281470725323582, 0.8304332042594385, 0.8310126922663225, 0.8244675701839304, 0.8220720841848623, 0.826684235057904, 0.8255759026209171, 0.8254047004410026, 0.8262145494962532, 0.825507780287548, 0.8284083575346887, 0.8268791904198487, 0.830855831630275, 0.8252254311426624, 0.8281148040586569, 0.8265712953999498, 0.824788014054713, 0.8292903624825212, 0.8317302176329282, 0.8258215015596428, 0.8281753074468466, 0.8288887992542399, 0.8247898067476963, 0.8255234663511526, 0.8289856046753432, 0.8237392886594243, 0.8274349252447026, 0.8255445304937076, 0.8275967157864544, 0.826098920798824, 0.8302212183141516, 0.8285446022014269, 0.8312614284177692, 0.8286835359076404, 0.8268886020580115, 0.8273305008784196, 0.8264435660248827, 0.8272085977555483, 0.8276298806066473, 0.8268366139614929, 0.8270105051808827, 0.8274949804596464, 0.8273417052095657, 0.828565666343982, 0.8291348463662113, 0.8283348571223691, 0.8271449571546377, 0.8256314761034025, 0.8292558531425908, 0.8252675594277723, 0.8282945215302426, 0.83101403678606, 0.8276222616614679, 0.8305188053493958, 0.8296596572371017, 0.8279467390914631, 0.8263158366498152, 0.8276464630167438, 0.8259227887132049, 0.8256458176472696, 0.8260083898031623, 0.8271991861173856, 0.8260057007636872, 0.8282716646947045, 0.8292047613925638, 0.8240400129073895, 0.8237576637625039, 0.828287798931555, 0.8285056111290381, 0.8245549639668709, 0.8272283173783657, 0.8245298662651034, 0.8264960022946469, 0.8269849593058692, 0.8270571151984512, 0.8271315119572622, 0.8273936933060844, 0.8264346025599656, 0.8304771252375317, 0.8234614212469973, 0.8265730880929332, 0.8270145387400955, 0.8252877272238357, 0.8241650532429816, 0.8265179627836936, 0.8334901939693807, 0.826934763902334, 0.8246670072783335, 0.8266058047398802, 0.8324930084973647, 0.8233552041877307, 0.8277280305474886, 0.827708759097917, 0.8290156322828153, 0.8223943207486285, 0.82405614714424, 0.8271274783980496, 0.8283702628087913, 0.8297013373489656, 0.8280811910652182, 0.8297134380266036, 0.8274295471657523, 0.8304206554085547, 0.8241578824710479, 0.8282089204402854, 0.8277154816966047, 0.8214997669499121, 0.8264211573625901, 0.8282232619841526, 0.8286830877343946, 0.8253894625506436, 0.8255543903051165, 0.8310619913233659, 0.8257484493205693, 0.8272000824638773, 0.8261204331146249, 0.8263705137858091, 0.8277804668172527, 0.8249282922806642, 0.8300298483381736, 0.8286723315764942, 0.8242076297013373, 0.8300500161342369, 0.8290685167258256, 0.831023000250977, 0.8270826610734645, 0.8292952923882256, 0.8285638736509986, 0.8260142160553584, 0.8254934387436808, 0.8269477609264638, 0.8268697787816858, 0.8287754114230397, 0.8324244379907497, 0.8249399447850562, 0.8264892796959593, 0.8294875587106951, 0.8262660894195261, 0.8283223082714853, 0.8284975440106127, 0.8271561614857839, 0.8250448173245849, 0.8262351654655623, 0.830195672439138, 0.8299729303359507, 0.8314447312753217, 0.8276164354092719, 0.8282635975762792, 0.8265614355885411, 0.8312605320712775, 0.8278571044422932, 0.8241179950521672, 0.8259357857373347, 0.8223472625578144, 0.8277316159334552, 0.8294346742676849, 0.828434351582948, 0.8266851314043957, 0.8258923129324871, 0.8239391739270734, 0.8269670323760353, 0.8257793732745329, 0.822891344878276, 0.8300925925925926, 0.8284383851421606, 0.8249453228640063, 0.8231669714244738, 0.8243371517693879, 0.82448056720806, 0.8263911297551182, 0.8240852784052204, 0.8241973217166827, 0.8230634434046826, 0.8302736545839159, 0.8282497042056577, 0.8278732386791438, 0.8281506579183249, 0.8278167688501668, 0.8280892581836434, 0.8265085511455308, 0.828708633609408, 0.8273448424222868, 0.8250322684737011, 0.8258824531210784, 0.8266084937793553, 0.8271368900362124, 0.8292240328421354, 0.8290178731490445, 0.8267147108386217, 0.8316997418522104, 0.8260088379764082, 0.8284513821662902, 0.8270391882686171, 0.8276307769531389, 0.826499139507368, 0.8251362446667385, 0.8272502778674125, 0.82860152020365, 0.8293997167545086, 0.8281977161091394, 0.8303207127747302, 0.8288421892366713, 0.8279695959270015, 0.8264162274568858, 0.8270131942203578, 0.826295668853752, 0.8268536445448352, 0.8265215481696604, 0.8282869025850633, 0.8251003908070704, 0.8251461044781471, 0.8311713455953533, 0.8327650496575956, 0.8257542755727654, 0.8233072496504249, 0.8302288372593308, 0.8251187659101503, 0.8269504499659389, 0.8267205370908177, 0.8232507798214478, 0.8278467964576387, 0.826707988239934, 0.82765766734789, 0.8274358215911944, 0.8269128034132874, 0.8257506901867987, 0.8302369043777563, 0.8278432110716718, 0.8241802911333406, 0.8286051055896168, 0.8274264099530315, 0.8267371195009143, 0.8258497364741314, 0.8266833387114122, 0.8282600121903123, 0.8269508981391847, 0.8259747768097235, 0.8277907748019074, 0.8265999784876842, 0.8301997059983507, 0.8268330285755262, 0.8303283317199096, 0.8255638019432792, 0.8299370764762827, 0.8270687677028434, 0.8264731454591087, 0.8260384174106342, 0.8292643684342619, 0.8274331325517191, 0.8261029543580366, 0.8277486465167975, 0.8282380517012657, 0.8251084579254956, 0.8307675415008426, 0.8258582517658026, 0.8285970384711915, 0.8267595281632067, 0.8224552723100642, 0.8267819368254993, 0.8307285504284536, 0.8265314079810692, 0.8294171955110968, 0.8252581477896095, 0.8262002079523861, 0.8270248467247499, 0.827287476246818, 0.8250273385679968, 0.824465329317701, 0.8252971388619985, 0.8275294897995769, 0.8245742354164426, 0.8278140798106914, 0.8271216521458534, 0.826594600408734, 0.8248610662937865, 0.8279279158151375, 0.8243801764009896, 0.8215082822415833, 0.8262795346169014, 0.8289188268617116, 0.8256202717722563, 0.8312282635975763, 0.826839303000968, 0.8258797640816035, 0.8297654261231222, 0.8266577928363988, 0.8283447169337779, 0.8299455917679539, 0.8297192642787996, 0.82862527338568, 0.8271521279265713, 0.8273340862643863, 0.8283778817539709, 0.8248364167652648, 0.8288775949230935, 0.8292751245921623, 0.8277786741242695, 0.8272959915384893, 0.8285042666093005, 0.8262517478756588, 0.8301257574127855, 0.8251989889211574, 0.8279498763041842, 0.8286042092431251, 0.826179591983077, 0.8247293033595066, 0.8282528414183787, 0.8312923523717328, 0.8254172492918863, 0.8277517837295185, 0.8224243483561003, 0.827188878132731, 0.8260052525904412, 0.827771503352336, 0.8282783872933921, 0.8272260765121365, 0.8280354773941414, 0.826773421533828, 0.828192338030189, 0.8235497113764297, 0.8244769818220932, 0.8268083790470043, 0.8264709045928794, 0.8320036033128967, 0.8306384676060377, 0.8235048940518447, 0.828783478541465, 0.8294364669606683, 0.826845129253164, 0.8279915564160483, 0.827377110895988, 0.8298017281560359, 0.8235837725431143, 0.8234018142052991, 0.8285221935391344, 0.8251931626689613, 0.8266887167903625, 0.8248122154099888, 0.82820085332186, 0.8304515793625182, 0.8283895342583629, 0.8302212183141516, 0.8262172385357284, 0.8267658025886486, 0.8249565271951526, 0.830130239145244, 0.8273690437775626, 0.827015883259833, 0.829724194184504, 0.8240247750170306, 0.8272713420099673, 0.8251626868882435, 0.8311345953891937, 0.8276957620737873, 0.8288323294252625, 0.8279790075651643, 0.8277589545014522, 0.828523538058872, 0.827720411602309, 0.8281313864687534, 0.831861980567208, 0.8263561722419419, 0.8264193646696065, 0.8278763758918647, 0.8266147682047973, 0.8255297407765946, 0.8235810835036392, 0.8292625757412785, 0.8274394069771611, 0.8274649528521746, 0.8293656555878239, 0.8257412785486358, 0.8300025097701769, 0.825402907748019, 0.8244119967014448, 0.8286060019361086, 0.8288502563550967, 0.8277311677602094, 0.8275904413610126, 0.8249430819977772, 0.8242349682693342, 0.8255225700046609, 0.8239342440213689, 0.8291469470438494, 0.8296874439783442, 0.8291765264780754, 0.8303045785378796, 0.8274488186153238, 0.8284509339930444, 0.8277943601878742, 0.8276666308128069, 0.8282985550894554, 0.8262719156717222, 0.8259680542110358, 0.8295032447742999, 0.8255933813775054, 0.8258098490552508, 0.8305846868165357, 0.8269571725646266, 0.8254607220967337, 0.8283290308701733, 0.8321837689577282, 0.829452601197519, 0.827159298698505, 0.8310086587071097, 0.8292522677566241, 0.8280215840235201, 0.8234466315298842, 0.8294064393531964, 0.8297282277437166, 0.8246903122871176, 0.8230428274353733, 0.8303175755620092, 0.8270378437488797, 0.8262167903624825, 0.8265851887705712, 0.8297183679323079, 0.8280637123086299, 0.8274080348499516, 0.8315025456240365, 0.8282093686135312, 0.8316603026065756, 0.8264610447814709, 0.8267156071851135, 0.8285091965150049, 0.8293199419167474, 0.827750439209781, 0.8266125273385679, 0.8270696640493349, 0.8258546663798357, 0.8300809400882004, 0.8253173066580618, 0.8263803735972177, 0.829852819906063, 0.8276536337886774, 0.8234506650890969, 0.8268832239790613, 0.8295646445089813, 0.8295462694059016, 0.8262284428668747, 0.8231629378652612, 0.8253450933993044, 0.8268523000250976, 0.8241480226596394, 0.8249211215087303, 0.8274949804596465, 0.8296748951274605, 0.8284473486070775, 0.8293934423290666, 0.8250219604890467, 0.8278943028216987, 0.8297286759169624, 0.8267272596895056, 0.8278154243304292, 0.8294561865834855, 0.8318229894948191, 0.8273860743609049, 0.8270347065361585, 0.8284616901509447, 0.8295261016098382, 0.824035083001685, 0.8279359829335627, 0.8278409702054426, 0.8233014233982288, 0.8233601340934351, 0.8261665949589474, 0.8267967265426123, 0.8296246997239253, 0.8298815029937973, 0.8227187981786239, 0.8295534401778352, 0.8249861066293787, 0.8270938654046108, 0.8267272596895054, 0.8242555842386433, 0.8295153454519378, 0.8267635617224194, 0.8279816966046394, 0.8289192750349577, 0.8300352264171238, 0.82844600408734, 0.826905184468108, 0.8258645261912444, 0.8310767810404791, 0.828610035495321, 0.8289233085941702, 0.8311852389659746, 0.8283379943350901, 0.8304269298339967, 0.8266407622530565, 0.8272924061525224, 0.8283590584776451, 0.8239974364490337, 0.8285629773045067, 0.8263637911871212, 0.8291491879100785, 0.8263790290774802, 0.8258645261912445, 0.8267563909504858, 0.825164479581227, 0.8267671471083863, 0.8260612742461726, 0.8239230396902225, 0.8269029436018788, 0.8219770714567423, 0.8297103008138826, 0.8267178480513427, 0.8236366569861245, 0.8272758237424258, 0.8317822057294468, 0.8252061596930907, 0.8268258578035924, 0.8292979814277007, 0.8274344770714567, 0.8270530816392384, 0.8288471191423755, 0.8276975547667706, 0.8299675522570005, 0.8306151625972537, 0.8291258829012942, 0.8241995625829119, 0.8242860600193611, 0.8275832705890789, 0.8243340145566671, 0.8275675845254743, 0.8254042522677567, 0.8241749130543904, 0.8271409235954251, 0.8290958552938223, 0.8269966118102614, 0.8306788031981642, 0.8261414972571799, 0.8272050123695815, 0.8286893621598365, 0.831879907497042, 0.8288005091248073, 0.8286633681115773, 0.8291500842565701, 0.8293347316338603, 0.8263767882112509, 0.8297820085332185, 0.827663493600086, 0.8307496145710085, 0.8295668853752107, 0.8315563264135384, 0.8257560682657488, 0.825099046287333, 0.8293490731777273, 0.8279808002581478, 0.8261262593668207, 0.8255593202108207, 0.830668047040264, 0.8266201462837474, 0.8301755046430748, 0.8296986483094904, 0.8300056469828977, 0.8252877272238356, 0.8259402674697931, 0.8277311677602093, 0.8261885554479939, 0.8260818902154818, 0.8321447778853394, 0.8271839482270266, 0.8276213653149762, 0.8289058298375821, 0.827961976981822, 0.8237724534796171, 0.8268352694417553, 0.8289398910042666, 0.8231763830626367, 0.8297717005485641, 0.8270952099243484, 0.823939173927073, 0.8287243196730129, 0.8283003477824388, 0.8266743752464952, 0.8254091821734609, 0.8265121365314976, 0.8278857875300276, 0.8301221720268187, 0.8281080814599692, 0.8269786848804274, 0.826725915169768, 0.8294718726470903, 0.825238428166792, 0.8295462694059016, 0.8251214549496253, 0.828925997633645, 0.8284343515829479, 0.828093739916102, 0.8268908429242409, 0.823835645907282, 0.8246867269011509, 0.826624628016206, 0.826513929224481, 0.8286172062672548, 0.8336555698970995, 0.8285638736509986, 0.8262185830554658, 0.8266833387114122, 0.8290873400021513, 0.8266138718583056, 0.82617062851816, 0.8260299021189631, 0.8251232476426087, 0.8262145494962533, 0.8291908680219425, 0.8273627693521207, 0.8267796959592699, 0.8272462443081997, 0.8276590118676276, 0.8295511993116059, 0.8292029686995805, 0.8266712380337744, 0.8292034168728263, 0.8262262020006453, 0.8263924742748557, 0.8245096984690402, 0.8268415438671973, 0.8255297407765946, 0.826762217202682, 0.8249619052741026, 0.8256924276648382, 0.8281847190850095, 0.8245679609910007, 0.8289667813990176, 0.8291370872324405, 0.8279754221791975, 0.826752805564519, 0.8267442902728478, 0.8287794449822522, 0.8246683517980711, 0.8255884514718009, 0.8308428346061454, 0.8285454985479187, 0.8297578071779427, 0.8266551037969238, 0.8263593094546627, 0.8259559535333978, 0.83083476748772, 0.8271135850274282, 0.8305779642178481, 0.8265219963429061, 0.830377630776953, 0.8299106342547775, 0.8272435552687247, 0.8275671363522283, 0.8234484242228676, 0.823557778494855, 0.8278709978129146, 0.829348176831236, 0.82756803269872, 0.8306250224086623, 0.8299648632175254, 0.8327556380194328, 0.8244397834426876, 0.8257480011473235, 0.8285096446882507, 0.8288502563550967, 0.8279050589795991, 0.8237424258721452, 0.8298886737657308, 0.8269119070667957, 0.8300661503710874, 0.8278346957800008, 0.8276245025276971, 0.824259617797856, 0.8273914524398551, 0.830091696246101, 0.8295839159585531, 0.830142339822882, 0.8256830160266753, 0.8271382345559499, 0.8295462694059015, 0.8241067907210212, 0.8328291384317521, 0.8258250869456096, 0.8252048151733534, 0.8274734681438457, 0.8292509232368865, 0.8309418808934781, 0.8273179520275358, 0.8274147574486392, 0.8264565630490122, 0.8274465777490947, 0.8294597719694524, 0.8243438743680758, 0.8260137678821124, 0.8287391093901257, 0.8274600229464701, 0.8273287081854361, 0.8261334301387544, 0.8247436449033739, 0.8293634147215948, 0.8274174464881143, 0.8276164354092719, 0.8237585601089957, 0.8276513929224479, 0.8310906744111004, 0.8268733641676526, 0.828245670646445, 0.8259927037395576, 0.8290039797784231, 0.8291249865548027, 0.8294534975440105, 0.8237545265497832, 0.8249874511491162, 0.8264758344985838, 0.8310418235273027, 0.8300961779785594, 0.8279982790147359, 0.83022570004661, 0.8240534581047649, 0.8281896489907139, 0.8300742174895128, 0.8305860313362733, 0.8284226990785558, 0.8303086120970923, 0.8282380517012656, 0.8227013194220358, 0.8288265031730666, 0.8274268581262774, 0.8333167509232369, 0.8311112903804094, 0.8260608260729267, 0.8282931770105051, 0.8274537485210283, 0.823814581764727, 0.8283227564447313, 0.8288986590656483, 0.828335305295615, 0.8262235129611704, 0.8245531712738877, 0.8248772005306372, 0.8271870854397477, 0.8289322720590871, 0.8297515327525007, 0.8251514825570972, 0.8289515435086587, 0.8260025635509662, 0.8306286077946291, 0.8247145136423937, 0.8236424832383206, 0.8304327560861927, 0.8267765587465492, 0.8252469434584634, 0.828861012512997, 0.8298183105661324, 0.8251196622566419, 0.8290949589473307, 0.8303982467462622, 0.8279400164927756, 0.8238916675630131, 0.8291559105087664, 0.826905184468108, 0.823966960668316, 0.828884765695027, 0.8268124126062171, 0.8281425907998996, 0.8261898999677315, 0.8255440823204618, 0.8221930909612419, 0.830115001254885, 0.8275648954859991, 0.8232485389552184, 0.8265058621060557, 0.8292679538202287, 0.8269517944856765, 0.8279816966046395, 0.8297721487218098, 0.8241291993833136, 0.8279332938940875, 0.8282824208526048, 0.8288144024954286, 0.8282528414183787, 0.8255001613423686, 0.8279543580366427, 0.8278042199992829, 0.8241215804381341, 0.8263521386827292, 0.8269558280448891, 0.8235967695672438, 0.8250600552149439, 0.8208830805636226, 0.8289470617762001, 0.8251712021799147, 0.8261002653185616, 0.826257125954609, 0.8299334910903159, 0.8273219855867484, 0.8298779176078305, 0.8216360116166506, 0.8285786633681117, 0.828891040120469, 0.830455612921731, 0.8258362912767558, 0.828373848194758, 0.8295063819870208, 0.831023000250977, 0.8265757771324084, 0.8268294431895594, 0.8272682047972465, 0.8258999318776666, 0.8275483130759027, 0.8239987809687712, 0.8266775124592164, 0.8255449786669534, 0.8297282277437167, 0.825713491807393, 0.8289071743573196, 0.8254006668817898, 0.8299133232942526, 0.8268025527948083, 0.8287664479581226, 0.8281569323437669, 0.8261181922483956, 0.8278364884729842, 0.829437811480406, 0.8300029579434226, 0.8290810655767094, 0.8262279946936286, 0.8254992649958768, 0.826672134380266, 0.8298088989279695, 0.8271592986985049, 0.8277239969882757, 0.8258564590728191, 0.825197196228174, 0.8293275608619268, 0.8264175719766232, 0.8287731705568105, 0.8247768097235667, 0.8269011509088954, 0.8305353877594922, 0.828102703381019, 0.8234219820013624, 0.8302611057330321, 0.8297708042020723, 0.8252339464343337, 0.8300267111254526, 0.8278848911835359, 0.8260993689720698, 0.8282613567100499, 0.8257130436341473, 0.8297582553511886, 0.8287610698791726, 0.8250690186798608, 0.825095460901366, 0.8288484636621133, 0.8275846151088164, 0.8297833530529561, 0.8249148470832887, 0.8294723208203364, 0.8274613674662077, 0.8285446022014269, 0.8288439819296546, 0.8264856943099924, 0.8269854074791151, 0.8283142411530601, 0.8290846509626761, 0.8226896669176437, 0.8300495679609909, 0.8269190778387294, 0.8235600193610841, 0.8258770750421284, 0.8288332257717543, 0.8257341077767021, 0.8269343157290883, 0.8293674482808074, 0.824086174751712, 0.8255454268401994, 0.8296385930945466, 0.8295960166361908, 0.8265538166433617, 0.8273224337599941, 0.825528396256857, 0.8270714567423183, 0.8275756516438996, 0.8256292352371732, 0.823136495643756, 0.8224543759635725, 0.8235394033917751, 0.8266806496719371, 0.8259420601627766, 0.8295265497830842, 0.8296229070309419, 0.8273443942490409, 0.8260953354128572, 0.8283801226202001, 0.8285988311641749, 0.8270060234484242, 0.8257036319959845, 0.8255270517371195, 0.8271852927467641, 0.8281681366749132, 0.8257179735398515, 0.8267039546807214, 0.8253688465813346, 0.8259649169983148, 0.8287870639274317, 0.828849360008605, 0.8301127603886558, 0.8287740669033021, 0.8274981176723675, 0.8315442257359005, 0.8266815460184289, 0.8283792262737083, 0.824355078699222, 0.8259106880355671, 0.8223382990928974, 0.8281999569753684, 0.8299863755333261, 0.8278284213545588, 0.826905184468108, 0.8290322146929117, 0.8276563228281524, 0.8293226309562225, 0.825558423864329, 0.8288592198200135, 0.830948603492166, 0.8292805026711126, 0.8294243662830304, 0.8254562403642752, 0.8266873722706249, 0.8303063712308629, 0.8285396722957227, 0.8268142052992005, 0.8300495679609909, 0.829398820408017, 0.8278571044422933, 0.830867484134667, 0.8264552185292746, 0.8266976802552795, 0.8273793517622172, 0.8262759492309347, 0.829142017138145, 0.8279512208239217, 0.8261123659961994, 0.8296394894410384, 0.8283527840522031, 0.8285405686422144, 0.825322684737012, 0.8227286579900325, 0.8278772722383565, 0.8305071528450036, 0.8290886845218888, 0.826325696461224, 0.8250219604890466, 0.8272139758344986, 0.8271059660822486, 0.833196192320103, 0.8264238464020651, 0.829040281811337, 0.8266703416872827, 0.8273354307841239, 0.8282895916245385, 0.8237957584884013, 0.8270741457817934, 0.8325113836004446, 0.8285988311641749, 0.8268469219461475, 0.8267873149044496, 0.8246607328528917, 0.828917482341974, 0.8288498081818507, 0.8254123193861819, 0.8275707217381951, 0.8235806353303933, 0.824743644903374, 0.829679376859919, 0.8297443619805672, 0.8262091714173031, 0.827609712810584, 0.8263803735972177, 0.8268240651106092, 0.8245814061883762, 0.8224086622924959, 0.8295767451866193, 0.8256139973468144, 0.8259944964325409, 0.8273699401240542, 0.8242528951991682, 0.8267796959592699, 0.8219143272023234, 0.8271521279265713, 0.8265600910688036, 0.8325839876662722, 0.8282671829622458, 0.8280484744182711, 0.8285562547058191, 0.8287041518769497, 0.8255924850310137, 0.8297501882327633, 0.8269840629593777, 0.8283402352013194, 0.8260621705926643, 0.8282340181420531, 0.8288300885590334, 0.8263225592485032, 0.8283245491377147, 0.8274918432469256, 0.8246607328528917, 0.8272206984331862, 0.8306433975117422, 0.8286727797497401, 0.8239795095191998, 0.8261253630203292, 0.8286629199383313, 0.827092969058119, 0.8274147574486392, 0.8245581011795919, 0.8299245276253989, 0.8275061847907926, 0.8279328457208418, 0.8299249757986447, 0.8296233552041877, 0.8247176508551144, 0.8283066222078808, 0.8287830303682191, 0.8252653185615433, 0.8249793840306909, 0.829792764691119, 0.8282214692911691, 0.8294221254168013, 0.8264198128428525, 0.8304448567638307, 0.8281542433042917, 0.8286033128966332, 0.823915868918289, 0.831013588612814, 0.8262907389480477, 0.8301970169588757, 0.8274084830231976, 0.8255422896274784, 0.8319529597361156, 0.8307455810117959, 0.8294924886163995, 0.8270378437488796, 0.8262069305510739, 0.8266604818758739, 0.8298366856692122, 0.8273322935714028, 0.8280300993151913, 0.8295175863181671, 0.8262952206805062, 0.825217812197483, 0.8270024380624574, 0.8281448316661288, 0.8283796744469543, 0.8245563084866085, 0.831464450898139, 0.8274842243017461, 0.8288901437739773, 0.8233628231329103, 0.8300083360223727, 0.831214370226955, 0.8231750385428992, 0.8304860887024488, 0.8318297120935069, 0.8288300885590334, 0.825083808396974, 0.8263557240686961, 0.827932397547596, 0.82666630812807, 0.8335802767917966, 0.8311000860492632, 0.82754965759564, 0.8291415689648989, 0.8280014162274568, 0.8248202825284142, 0.8286064501093542, 0.8267263633430139, 0.8279131260980245, 0.8282080240937937, 0.8227837832992722, 0.8237047793194937, 0.8268451292531641, 0.830458301961206, 0.8311130830733928, 0.8251357964934926, 0.8248131117564806, 0.8250936682083827, 0.8286920511993116, 0.8261737657308809, 0.8284146319601305, 0.8263149403033236, 0.8255736617546878, 0.824811767236743, 0.8245952995589976, 0.829108852317952, 0.8242640995303144, 0.8235443332974794, 0.8281748592736007, 0.8256373023555985, 0.8277101036176545, 0.8255723172349503, 0.8281403499336704, 0.8330344017783514, 0.8321048904664589, 0.8261047470510201, 0.824486393460256, 0.8254136639059194, 0.8266488293714819, 0.8281820300455344, 0.8309754938869169, 0.8300948334588218, 0.82727537556918, 0.8273923487863469, 0.8278902692624861, 0.8251837510307984, 0.8283384425083359, 0.8300966261518052, 0.8245433114624788, 0.8281641031157004, 0.8277827076834822, 0.8290308701731742, 0.8265116883582517, 0.8289152414757448, 0.8271915671722061, 0.8277638844071565, 0.8279373274533004, 0.8284840988132373, 0.8294207808970635, 0.8248471729231652, 0.8261276038865584, 0.8265309598078232, 0.8265928077157506, 0.8282788354666379, 0.8253594349431717, 0.8265565056828368, 0.8277647807536481, 0.8283734000215124, 0.8273636656986125, 0.8256695708292998, 0.8277231006417841, 0.8262781900971641, 0.8285880750062744, 0.8295677817217023, 0.8261585278405221, 0.8244191674733784, 0.829637248574809, 0.829604531927862, 0.8258371876232476, 0.826358861281417, 0.8244240973790828, 0.8248117672367429, 0.8258219497328888, 0.8287256641927504, 0.8299433509017246, 0.8280480262450253, 0.8277289268939801, 0.8287937865261196, 0.825262629522068, 0.8289389946577749, 0.8248996091929296, 0.8297116453336203, 0.8279288121616291, 0.8285020257430712, 0.8233901617009072, 0.8229715678892832, 0.8287341794844213, 0.8315626008389803, 0.8292459933311821, 0.8273950378258218, 0.8278795131045856, 0.826668997167545, 0.8271471980208668, 0.8252182603707289, 0.8251989889211573, 0.8300092323688646, 0.8288726650173892, 0.8252142268115162, 0.8254920942239432, 0.8266062529131261, 0.8262078268975656, 0.8275290416263311, 0.8313447886414973, 0.8279884192033273, 0.8290532788354665, 0.8269329712093508, 0.8256265461976982, 0.8283792262737085, 0.8268962210031908, 0.8281694811946505, 0.8312569466853106, 0.8272180093937113, 0.8281112186726902, 0.8298160696999034, 0.8298680577964218, 0.8254275572765409, 0.8261791438098312, 0.8299904090925386, 0.8304771252375318, 0.8269993008497366, 0.8319520633896239, 0.8291294682872611, 0.8253195475242909, 0.8273412570363199, 0.825776684235058, 0.8237437703918827, 0.8263870961959054, 0.8280345810476497, 0.8278750313721271, 0.830401832132229, 0.8279767666989352, 0.8242744075149689, 0.8279498763041843, 0.826902047255387, 0.8212380337743358, 0.8256350614893693, 0.8270226058585206, 0.8256785342942169, 0.8257188698863431, 0.8257713061561078, 0.8299558997526083, 0.8266264207091893, 0.8288717686708974, 0.8292235846688896, 0.8268540927180812, 0.8294261589760137, 0.8281927862034347, 0.8244223046860994, 0.8316683697250009, 0.8327130615610772, 0.8321134057581299, 0.8310637840163494, 0.8294162991646051, 0.8271543687928005, 0.8216095693951453, 0.8285091965150048, 0.8248928865942418, 0.8311816535800078, 0.8239230396902226, 0.8262737083647055, 0.8290689648990713, 0.8256086192678641, 0.8253634685023844, 0.8288403965436879, 0.827451507654799, 0.825833154064035, 0.8310767810404791, 0.8257556200925029, 0.8275281452798393, 0.8302023950378259, 0.8245468968484458, 0.8293490731777275, 0.827018572299308, 0.8287821340217275, 0.8241735685346527, 0.8334480656842708, 0.8238316123480693, 0.8272785127819009, 0.8271991861173854, 0.8260142160553583, 0.827965562367789, 0.8259277186189092, 0.8310642321895952, 0.8291258829012943, 0.8253240292567495, 0.8307285504284536, 0.8287830303682192, 0.8301167939478685, 0.8279377756265462, 0.8272108386217775, 0.8251380373597219, 0.8246123301423398, 0.8278355921264924, 0.827693521207558, 0.8260213868272919, 0.8260101824961457, 0.8255185364454483, 0.8249269477609265, 0.8299451435947081, 0.8269526908321679, 0.8244577103725216, 0.8271099996414613, 0.8291079559714603, 0.8249327740131226, 0.8278916137822238, 0.8283666774228247, 0.8282080240937937, 0.826418468323115, 0.824823867914381, 0.8290133914165859, 0.8266456921587608, 0.8270898318453982, 0.8313385142160552, 0.8269885446918361, 0.8263776845577426, 0.8279346384138252, 0.8274595747732243, 0.824755297407766, 0.8315213689003622, 0.8268097235667419, 0.8276016456921589, 0.8257614463446991, 0.8278571044422933, 0.8280749166397763, 0.8247028611380015, 0.8300952816320677, 0.8289591624538382, 0.828687569466853, 0.8266519665842027, 0.8280928435696102, 0.8293477286579901, 0.828159621383242, 0.8233247284070131, 0.8293320425943854, 0.8255073321143022, 0.8278548635760641, 0.8278969918611738, 0.8217417805026711, 0.8310440643935318, 0.8287749632497938, 0.8246522175612204, 0.8296125990462875, 0.825952816320677, 0.8276482557097271, 0.828601072030404, 0.8269105625470583, 0.8293701373202823, 0.8290510379692374, 0.8286763651357069, 0.8280081388261445, 0.8274967731526299, 0.8271740884156179, 0.8235057903983363, 0.8285029220895629, 0.828392223297838, 0.8281089778064609, 0.827347083288516, 0.8260240758667671, 0.829604083754616, 0.8316526836613961, 0.8287668961313686, 0.8298205514323618, 0.8269889928650819, 0.8281336273349826, 0.824632946111649, 0.8255983112832095, 0.8299590369653294, 0.8265103438385142, 0.8260496217417805, 0.8253930479366104, 0.8270696640493349, 0.8296932702305402, 0.8246396687103367, 0.8298707468358969, 0.8262244093076619, 0.8258309131978058, 0.8269508981391847, 0.8262306837331038, 0.8274161019683768, 0.8261665949589473, 0.8271037252160194, 0.8255422896274784, 0.8275689290452116, 0.8255655946362626, 0.8283801226202, 0.8279444982252341, 0.8292836398838336, 0.8230374493564232, 0.826558746549066, 0.8258622853250153, 0.8302942705532249, 0.8255082284607937, 0.8237823132910258, 0.826403678606002, 0.82558531425908, 0.8262114122835322, 0.8283823634864294, 0.8295198271843964, 0.8229101681546018, 0.8252971388619985, 0.8260195941343086, 0.8307209314832742, 0.8286812950414114, 0.8273726291635295, 0.8270517371195009, 0.8241919436377326, 0.8220891147682048, 0.8290380409451076, 0.8292787099781291, 0.8281699293678964, 0.8290528306622208, 0.8318709440321249, 0.8281914416836973, 0.8296224588576959, 0.8287426947760926, 0.8266075974328637, 0.8254710300813883, 0.8284513821662902, 0.8263678247463341, 0.8265479903911657, 0.8260859237746944, 0.8278234914488545, 0.8258080563622674, 0.8292173102434478, 0.8269580689111183, 0.8290954071205765, 0.8253374744541249, 0.8287377648703882]\n"
     ]
    }
   ],
   "source": [
    "t_54 = auc_bootstrap\n",
    "print(t_54)"
   ]
  },
  {
   "cell_type": "code",
   "execution_count": 143,
   "id": "ffba4bfa",
   "metadata": {},
   "outputs": [],
   "source": [
    "del X_train, X_test, y_train, y_test, X_val, y_val,study, optuna_auc"
   ]
  },
  {
   "cell_type": "code",
   "execution_count": 144,
   "id": "79de3e3e",
   "metadata": {},
   "outputs": [],
   "source": [
    "# 55\n",
    "column_to_drop_54 = '소득 대비 주택 임대료의 비율'"
   ]
  },
  {
   "cell_type": "code",
   "execution_count": 145,
   "id": "ebb8022a",
   "metadata": {},
   "outputs": [
    {
     "name": "stdout",
     "output_type": "stream",
     "text": [
      "(10564, 9)\n"
     ]
    }
   ],
   "source": [
    "if not column_to_drop_54.startswith('Cat_'):\n",
    "    comp_55 = comp_54.drop(column_to_drop_54, axis=1)\n",
    "    X_55 = comp_55.drop('target', axis=1)\n",
    "    y_55 = comp_55['target']\n",
    "else:\n",
    "    comp_55 = comp_54.drop(comp_54.filter(regex='^' + column_to_drop_54).columns, axis=1)\n",
    "    X_55 = comp_55.drop('target', axis=1)\n",
    "    y_55 = comp_55['target']\n",
    "\n",
    "print(X_55.shape)"
   ]
  },
  {
   "cell_type": "code",
   "execution_count": 146,
   "id": "91afe525",
   "metadata": {},
   "outputs": [],
   "source": [
    "X_train, X_test, y_train, y_test = train_test_split(X_55, y_55, test_size=0.2, shuffle=True, stratify=y_55, random_state = 0)\n",
    "X_train, X_val, y_train, y_val = train_test_split(X_train, y_train, test_size=0.2, shuffle=True, stratify=y_train, random_state = 0)"
   ]
  },
  {
   "cell_type": "code",
   "execution_count": 147,
   "id": "c58382c4",
   "metadata": {},
   "outputs": [],
   "source": [
    "def objective(trial):\n",
    "    params = {\n",
    "        'learning_rate' :trial.suggest_float('learning_rate',0.01, 0.1,step=0.01),        \n",
    "        'n_estimators' :trial.suggest_int('n_estimators', 50, 200),\n",
    "        'subsample':trial.suggest_float('subsample', 0.1, 1.0,step=0.1),\n",
    "        'max_depth' :trial.suggest_int('max_depth', 1, 10),\n",
    "        'min_samples_split' :trial.suggest_int('min_samples_split', 3, 10),\n",
    "        'min_samples_leaf' :trial.suggest_int('min_samples_leaf', 3, 10),\n",
    "        }\n",
    "        \n",
    "    clf = GradientBoostingClassifier(**params,random_state = 0)\n",
    "    clf.fit(X_train, y_train)\n",
    "    clf_proba = clf.predict_proba(X_val)[:, 1]\n",
    "        \n",
    "    AUC_SCORE = roc_auc_score(y_val, clf_proba)\n",
    "    return AUC_SCORE\n",
    "\n",
    "direction = \"maximize\"\n",
    "sampler = optuna.samplers.TPESampler(seed=10)\n",
    "study =  optuna.create_study(direction=direction, sampler=sampler, pruner=optuna.pruners.HyperbandPruner())\n",
    "early_stopping = EarlyStoppingCallback(10, direction=direction)\n",
    "study.optimize(objective, callbacks=[early_stopping], n_trials=200) "
   ]
  },
  {
   "cell_type": "code",
   "execution_count": 148,
   "id": "f94a8b09",
   "metadata": {},
   "outputs": [
    {
     "name": "stdout",
     "output_type": "stream",
     "text": [
      "{'learning_rate': 0.08, 'n_estimators': 53, 'subsample': 0.7000000000000001, 'max_depth': 8, 'min_samples_split': 6, 'min_samples_leaf': 4}\n",
      "0.7767897129293744\n"
     ]
    }
   ],
   "source": [
    "print(study.best_trial.params)\n",
    "optuna_auc = study.best_trial.value\n",
    "print(optuna_auc)"
   ]
  },
  {
   "cell_type": "code",
   "execution_count": 149,
   "id": "ab28ce28",
   "metadata": {},
   "outputs": [
    {
     "data": {
      "text/html": [
       "<style>#sk-container-id-11 {color: black;}#sk-container-id-11 pre{padding: 0;}#sk-container-id-11 div.sk-toggleable {background-color: white;}#sk-container-id-11 label.sk-toggleable__label {cursor: pointer;display: block;width: 100%;margin-bottom: 0;padding: 0.3em;box-sizing: border-box;text-align: center;}#sk-container-id-11 label.sk-toggleable__label-arrow:before {content: \"▸\";float: left;margin-right: 0.25em;color: #696969;}#sk-container-id-11 label.sk-toggleable__label-arrow:hover:before {color: black;}#sk-container-id-11 div.sk-estimator:hover label.sk-toggleable__label-arrow:before {color: black;}#sk-container-id-11 div.sk-toggleable__content {max-height: 0;max-width: 0;overflow: hidden;text-align: left;background-color: #f0f8ff;}#sk-container-id-11 div.sk-toggleable__content pre {margin: 0.2em;color: black;border-radius: 0.25em;background-color: #f0f8ff;}#sk-container-id-11 input.sk-toggleable__control:checked~div.sk-toggleable__content {max-height: 200px;max-width: 100%;overflow: auto;}#sk-container-id-11 input.sk-toggleable__control:checked~label.sk-toggleable__label-arrow:before {content: \"▾\";}#sk-container-id-11 div.sk-estimator input.sk-toggleable__control:checked~label.sk-toggleable__label {background-color: #d4ebff;}#sk-container-id-11 div.sk-label input.sk-toggleable__control:checked~label.sk-toggleable__label {background-color: #d4ebff;}#sk-container-id-11 input.sk-hidden--visually {border: 0;clip: rect(1px 1px 1px 1px);clip: rect(1px, 1px, 1px, 1px);height: 1px;margin: -1px;overflow: hidden;padding: 0;position: absolute;width: 1px;}#sk-container-id-11 div.sk-estimator {font-family: monospace;background-color: #f0f8ff;border: 1px dotted black;border-radius: 0.25em;box-sizing: border-box;margin-bottom: 0.5em;}#sk-container-id-11 div.sk-estimator:hover {background-color: #d4ebff;}#sk-container-id-11 div.sk-parallel-item::after {content: \"\";width: 100%;border-bottom: 1px solid gray;flex-grow: 1;}#sk-container-id-11 div.sk-label:hover label.sk-toggleable__label {background-color: #d4ebff;}#sk-container-id-11 div.sk-serial::before {content: \"\";position: absolute;border-left: 1px solid gray;box-sizing: border-box;top: 0;bottom: 0;left: 50%;z-index: 0;}#sk-container-id-11 div.sk-serial {display: flex;flex-direction: column;align-items: center;background-color: white;padding-right: 0.2em;padding-left: 0.2em;position: relative;}#sk-container-id-11 div.sk-item {position: relative;z-index: 1;}#sk-container-id-11 div.sk-parallel {display: flex;align-items: stretch;justify-content: center;background-color: white;position: relative;}#sk-container-id-11 div.sk-item::before, #sk-container-id-11 div.sk-parallel-item::before {content: \"\";position: absolute;border-left: 1px solid gray;box-sizing: border-box;top: 0;bottom: 0;left: 50%;z-index: -1;}#sk-container-id-11 div.sk-parallel-item {display: flex;flex-direction: column;z-index: 1;position: relative;background-color: white;}#sk-container-id-11 div.sk-parallel-item:first-child::after {align-self: flex-end;width: 50%;}#sk-container-id-11 div.sk-parallel-item:last-child::after {align-self: flex-start;width: 50%;}#sk-container-id-11 div.sk-parallel-item:only-child::after {width: 0;}#sk-container-id-11 div.sk-dashed-wrapped {border: 1px dashed gray;margin: 0 0.4em 0.5em 0.4em;box-sizing: border-box;padding-bottom: 0.4em;background-color: white;}#sk-container-id-11 div.sk-label label {font-family: monospace;font-weight: bold;display: inline-block;line-height: 1.2em;}#sk-container-id-11 div.sk-label-container {text-align: center;}#sk-container-id-11 div.sk-container {/* jupyter's `normalize.less` sets `[hidden] { display: none; }` but bootstrap.min.css set `[hidden] { display: none !important; }` so we also need the `!important` here to be able to override the default hidden behavior on the sphinx rendered scikit-learn.org. See: https://github.com/scikit-learn/scikit-learn/issues/21755 */display: inline-block !important;position: relative;}#sk-container-id-11 div.sk-text-repr-fallback {display: none;}</style><div id=\"sk-container-id-11\" class=\"sk-top-container\"><div class=\"sk-text-repr-fallback\"><pre>GradientBoostingClassifier(learning_rate=0.08, max_depth=8, min_samples_leaf=4,\n",
       "                           min_samples_split=6, n_estimators=53, random_state=0,\n",
       "                           subsample=0.7000000000000001)</pre><b>In a Jupyter environment, please rerun this cell to show the HTML representation or trust the notebook. <br />On GitHub, the HTML representation is unable to render, please try loading this page with nbviewer.org.</b></div><div class=\"sk-container\" hidden><div class=\"sk-item\"><div class=\"sk-estimator sk-toggleable\"><input class=\"sk-toggleable__control sk-hidden--visually\" id=\"sk-estimator-id-11\" type=\"checkbox\" checked><label for=\"sk-estimator-id-11\" class=\"sk-toggleable__label sk-toggleable__label-arrow\">GradientBoostingClassifier</label><div class=\"sk-toggleable__content\"><pre>GradientBoostingClassifier(learning_rate=0.08, max_depth=8, min_samples_leaf=4,\n",
       "                           min_samples_split=6, n_estimators=53, random_state=0,\n",
       "                           subsample=0.7000000000000001)</pre></div></div></div></div></div>"
      ],
      "text/plain": [
       "GradientBoostingClassifier(learning_rate=0.08, max_depth=8, min_samples_leaf=4,\n",
       "                           min_samples_split=6, n_estimators=53, random_state=0,\n",
       "                           subsample=0.7000000000000001)"
      ]
     },
     "execution_count": 149,
     "metadata": {},
     "output_type": "execute_result"
    }
   ],
   "source": [
    "optuna_55 = GradientBoostingClassifier(**study.best_trial.params, random_state = 0)\n",
    "optuna_55.fit(X_train, y_train)"
   ]
  },
  {
   "cell_type": "code",
   "execution_count": 150,
   "id": "bf17dbf7",
   "metadata": {},
   "outputs": [
    {
     "name": "stdout",
     "output_type": "stream",
     "text": [
      "0.7781246638700656\n"
     ]
    }
   ],
   "source": [
    "optuna_proba_55 = optuna_55.predict_proba(X_test)[:, 1]\n",
    "auc_55 = roc_auc_score(y_test, optuna_proba_55)\n",
    "print(auc_55)"
   ]
  },
  {
   "cell_type": "code",
   "execution_count": 151,
   "id": "626e887c",
   "metadata": {},
   "outputs": [],
   "source": [
    "X_train = X_train.values\n",
    "y_train = y_train.values"
   ]
  },
  {
   "cell_type": "code",
   "execution_count": 152,
   "id": "673d7acc",
   "metadata": {},
   "outputs": [],
   "source": [
    "auc_bootstrap = []"
   ]
  },
  {
   "cell_type": "code",
   "execution_count": 153,
   "id": "7723ec23",
   "metadata": {},
   "outputs": [
    {
     "data": {
      "text/plain": [
       "array([0.7773556 , 0.77871715])"
      ]
     },
     "execution_count": 153,
     "metadata": {},
     "output_type": "execute_result"
    }
   ],
   "source": [
    "rs = RandomState(seed = 55)\n",
    "bootstrap_auc(optuna_55, X_train, y_train, X_test, y_test, nsamples=2000)"
   ]
  },
  {
   "cell_type": "code",
   "execution_count": 154,
   "id": "3ca1bf16",
   "metadata": {},
   "outputs": [
    {
     "data": {
      "text/plain": [
       "0.7780430707934459"
      ]
     },
     "execution_count": 154,
     "metadata": {},
     "output_type": "execute_result"
    }
   ],
   "source": [
    "np.mean(auc_bootstrap)"
   ]
  },
  {
   "cell_type": "code",
   "execution_count": 155,
   "id": "f0fa2119",
   "metadata": {},
   "outputs": [
    {
     "name": "stdout",
     "output_type": "stream",
     "text": [
      "[0.777830662220788, 0.7777437166110932, 0.7775545875013445, 0.7786364777168262, 0.7779256749489082, 0.7786221361729591, 0.7777580581549604, 0.7781246638700656, 0.7773555985801871, 0.778541464988706, 0.7786965329317701, 0.7781246638700656, 0.7781040479007565, 0.7779480836112007, 0.7775545875013445, 0.7779256749489082, 0.7783666774228245, 0.7781954752429099, 0.7781246638700656, 0.7775545875013445, 0.7775545875013445, 0.7781246638700656, 0.7775545875013445, 0.7786965329317701, 0.7786221361729591, 0.7781246638700656, 0.7781246638700656, 0.7775545875013445, 0.7775339715320354, 0.7787171489010791, 0.7786364777168262, 0.7778243877953461, 0.7787171489010791, 0.7773555985801871, 0.7778243877953461, 0.7775545875013445, 0.7786965329317701, 0.7781246638700656, 0.7779256749489082, 0.7781040479007565, 0.778147072532358, 0.7786364777168262, 0.7781246638700656, 0.7778450037646552, 0.7787171489010791, 0.7775447276899359, 0.7781246638700656, 0.7786965329317701, 0.7781246638700656, 0.7778243877953461, 0.7781246638700656, 0.7781246638700656, 0.7781246638700656, 0.7781246638700656, 0.7781246638700656, 0.777830662220788, 0.7780439926858126, 0.7773555985801871, 0.7781246638700656, 0.7780090351726363, 0.7781246638700656, 0.7780439926858126, 0.7778450037646552, 0.7775545875013445, 0.7774739163170915, 0.7781246638700656, 0.7786221361729591, 0.7784374887956688, 0.7775545875013445, 0.7774739163170915, 0.7787171489010791, 0.7776253988741888, 0.7778100462514789, 0.7779256749489082, 0.7777437166110932, 0.7784374887956688, 0.7775545875013445, 0.7781246638700656, 0.7780296511419453, 0.7781246638700656, 0.7779256749489082, 0.7786364777168262, 0.7777437166110932, 0.7787171489010791, 0.7782555304578538, 0.7781246638700656, 0.7780296511419453, 0.7781246638700656, 0.778147072532358, 0.7782698720017209, 0.777397726865297, 0.7787171489010791, 0.778147072532358, 0.7775545875013445, 0.7780439926858126, 0.7777437166110932, 0.7779256749489082, 0.7779489799576924, 0.7781246638700656, 0.7786364777168262, 0.7775339715320354, 0.7781246638700656, 0.778147072532358, 0.7775590692338029, 0.778147072532358, 0.7774990140188591, 0.778126456563049, 0.7777437166110932, 0.7776253988741888, 0.7786221361729591, 0.7779480836112007, 0.7786364777168262, 0.7784374887956688, 0.7777437166110932, 0.7781040479007565, 0.7779256749489082, 0.778541464988706, 0.7781246638700656, 0.7774739163170915, 0.7775545875013445, 0.7779489799576924, 0.7781246638700656, 0.7781246638700656, 0.7780439926858126, 0.7781246638700656, 0.7781246638700656, 0.7781246638700656, 0.7773555985801871, 0.7787171489010791, 0.7780439926858126, 0.7777437166110932, 0.778350543185974, 0.7781246638700656, 0.7787171489010791, 0.7779256749489082, 0.7786221361729591, 0.7777437166110932, 0.778147072532358, 0.7775339715320354, 0.7787171489010791, 0.7775545875013445, 0.7778450037646552, 0.7781246638700656, 0.7785181599799218, 0.7785181599799218, 0.7775545875013445, 0.7776253988741888, 0.7779256749489082, 0.7786364777168262, 0.7781246638700656, 0.7786364777168262, 0.7787171489010791, 0.7781246638700656, 0.777803771826037, 0.7773555985801871, 0.7778243877953461, 0.778147072532358, 0.7774739163170915, 0.7781246638700656, 0.7786364777168262, 0.7774739163170915, 0.7787171489010791, 0.7779256749489082, 0.7784473486070775, 0.7780439926858126, 0.7779256749489082, 0.7773555985801871, 0.7775447276899359, 0.7780296511419453, 0.777905058979599, 0.7777437166110932, 0.7781040479007565, 0.7780439926858126, 0.7781246638700656, 0.7780708830805635, 0.7779256749489082, 0.7781246638700656, 0.7780439926858126, 0.7773555985801871, 0.7781246638700656, 0.777830662220788, 0.7774739163170915, 0.7780439926858126, 0.7781040479007565, 0.7781246638700656, 0.7778243877953461, 0.7775545875013445, 0.7781246638700656, 0.7780296511419453, 0.7781246638700656, 0.7775339715320354, 0.7775545875013445, 0.7781246638700656, 0.7779256749489082, 0.778126456563049, 0.7779256749489082, 0.7781246638700656, 0.7779256749489082, 0.7778450037646552, 0.7781246638700656, 0.7787171489010791, 0.7774739163170915, 0.7778243877953461, 0.7781246638700656, 0.7774739163170915, 0.7778243877953461, 0.7786364777168262, 0.7775545875013445, 0.7779256749489082, 0.7781246638700656, 0.7776980029400165, 0.7787171489010791, 0.7787171489010791, 0.7778450037646552, 0.7780439926858126, 0.7777580581549604, 0.7778243877953461, 0.777830662220788, 0.7780439926858126, 0.7781040479007565, 0.7781246638700656, 0.777803771826037, 0.7775545875013445, 0.7786364777168262, 0.7774739163170915, 0.7786364777168262, 0.7780296511419453, 0.7775545875013445, 0.7785181599799218, 0.777803771826037, 0.7778243877953461, 0.7779256749489082, 0.7784975440106127, 0.7784025312824925, 0.7774739163170915, 0.7784473486070775, 0.778147072532358, 0.7781246638700656, 0.7783424760675486, 0.7787171489010791, 0.7775447276899359, 0.7781246638700656, 0.7780296511419453, 0.7781246638700656, 0.7787171489010791, 0.7777437166110932, 0.7780439926858126, 0.7784473486070775, 0.7777580581549604, 0.7779489799576924, 0.7778243877953461, 0.7778450037646552, 0.7787171489010791, 0.7784473486070775, 0.7774739163170915, 0.7784231472518016, 0.7774739163170915, 0.7786364777168262, 0.7787171489010791, 0.7773555985801871, 0.7775545875013445, 0.7777437166110932, 0.7781246638700656, 0.7780439926858126, 0.7780439926858126, 0.7786965329317701, 0.7778243877953461, 0.7777437166110932, 0.7780439926858126, 0.7779256749489082, 0.7781246638700656, 0.7778243877953461, 0.7775545875013445, 0.7779256749489082, 0.7786965329317701, 0.7786364777168262, 0.7779256749489082, 0.7774739163170915, 0.7777437166110932, 0.7781246638700656, 0.7786965329317701, 0.7779489799576924, 0.7787171489010791, 0.7781246638700656, 0.7780439926858126, 0.7781246638700656, 0.7781246638700656, 0.7778450037646552, 0.7784025312824925, 0.7778450037646552, 0.7781246638700656, 0.7777580581549604, 0.7775339715320354, 0.7780439926858126, 0.7781246638700656, 0.7775545875013445, 0.7787171489010791, 0.7781040479007565, 0.7778243877953461, 0.7775339715320354, 0.7787171489010791, 0.777905058979599, 0.7778450037646552, 0.7781246638700656, 0.7781246638700656, 0.7787171489010791, 0.7780439926858126, 0.7781246638700656, 0.7780439926858126, 0.7780439926858126, 0.7775545875013445, 0.7775545875013445, 0.7784975440106127, 0.7781246638700656, 0.7781040479007565, 0.7781246638700656, 0.7781040479007565, 0.7778243877953461, 0.7780296511419453, 0.7778674124269477, 0.7774739163170915, 0.7781246638700656, 0.7781246638700656, 0.7784231472518016, 0.7781246638700656, 0.7772749273959341, 0.7786364777168262, 0.7779256749489082, 0.7781246638700656, 0.7775545875013445, 0.7779480836112007, 0.7780439926858126, 0.7775545875013445, 0.7780439926858126, 0.7780439926858126, 0.7772749273959341, 0.7779489799576924, 0.7780090351726363, 0.7779489799576924, 0.7783666774228245, 0.7778450037646552, 0.7787171489010791, 0.7774739163170915, 0.7777437166110932, 0.7775447276899359, 0.7775447276899359, 0.777905058979599, 0.777905058979599, 0.7779256749489082, 0.7778243877953461, 0.7781040479007565, 0.7779489799576924, 0.7787171489010791, 0.7786965329317701, 0.7780914990498726, 0.7779256749489082, 0.7780296511419453, 0.7785181599799218, 0.7781040479007565, 0.7780439926858126, 0.778541464988706, 0.7787171489010791, 0.7780439926858126, 0.7784975440106127, 0.7778243877953461, 0.7786364777168262, 0.7781246638700656, 0.7780439926858126, 0.7779256749489082, 0.7777437166110932, 0.7781246638700656, 0.7780439926858126, 0.7774739163170915, 0.7784473486070775, 0.7781246638700656, 0.7784374887956688, 0.7780296511419453, 0.7786364777168262, 0.7784231472518016, 0.7781040479007565, 0.7776253988741888, 0.7774739163170915, 0.7780439926858126, 0.7781246638700656, 0.777905058979599, 0.7780439926858126, 0.7780296511419453, 0.7779256749489082, 0.7775339715320354, 0.7775545875013445, 0.7781246638700656, 0.7786965329317701, 0.7775545875013445, 0.777803771826037, 0.7781246638700656, 0.7781040479007565, 0.7787171489010791, 0.7776253988741888, 0.7778450037646552, 0.777830662220788, 0.778147072532358, 0.7775545875013445, 0.7779489799576924, 0.7780296511419453, 0.7777437166110932, 0.777905058979599, 0.7787171489010791, 0.7778450037646552, 0.7785181599799218, 0.7778674124269477, 0.7781246638700656, 0.7780439926858126, 0.7787171489010791, 0.7787171489010791, 0.777905058979599, 0.7777437166110932, 0.7778243877953461, 0.7775545875013445, 0.7787171489010791, 0.7784374887956688, 0.7775545875013445, 0.7778450037646552, 0.7781246638700656, 0.7778450037646552, 0.7773555985801871, 0.7778243877953461, 0.7787171489010791, 0.7775545875013445, 0.777830662220788, 0.7778243877953461, 0.7781040479007565, 0.7779489799576924, 0.7779480836112007, 0.7778450037646552, 0.7779489799576924, 0.7780439926858126, 0.7776253988741888, 0.7780439926858126, 0.7780439926858126, 0.7784975440106127, 0.7785181599799218, 0.7781246638700656, 0.7781246638700656, 0.7780439926858126, 0.7784975440106127, 0.7779256749489082, 0.7773555985801871, 0.7780664013481051, 0.7775447276899359, 0.7779489799576924, 0.7780664013481051, 0.7780439926858126, 0.7779256749489082, 0.7787171489010791, 0.7781246638700656, 0.7785181599799218, 0.7786364777168262, 0.7787171489010791, 0.7786364777168262, 0.777905058979599, 0.7780439926858126, 0.7780439926858126, 0.7780439926858126, 0.7775545875013445, 0.7780439926858126, 0.7786015202036499, 0.7781246638700656, 0.7777499910365351, 0.7779256749489082, 0.7775545875013445, 0.7778243877953461, 0.7781246638700656, 0.7778243877953461, 0.7780296511419453, 0.777830662220788, 0.7781246638700656, 0.7778243877953461, 0.7777499910365351, 0.7781246638700656, 0.777830662220788, 0.7781246638700656, 0.7777437166110932, 0.7787171489010791, 0.778541464988706, 0.7781040479007565, 0.7779256749489082, 0.7779489799576924, 0.7776253988741888, 0.7784975440106127, 0.778147072532358, 0.7775339715320354, 0.7780090351726363, 0.7778450037646552, 0.7775339715320354, 0.7787171489010791, 0.7772749273959341, 0.7781246638700656, 0.7778243877953461, 0.7779256749489082, 0.7772749273959341, 0.7780296511419453, 0.7775545875013445, 0.7775545875013445, 0.7774739163170915, 0.7780296511419453, 0.7777437166110932, 0.7775590692338029, 0.7779256749489082, 0.7775545875013445, 0.7784473486070775, 0.7781246638700656, 0.7774739163170915, 0.7781246638700656, 0.7778450037646552, 0.7784975440106127, 0.7780439926858126, 0.777905058979599, 0.7786965329317701, 0.7786965329317701, 0.7778243877953461, 0.778147072532358, 0.7779256749489082, 0.7779489799576924, 0.7781246638700656, 0.7778450037646552, 0.7781040479007565, 0.7780664013481051, 0.7783666774228245, 0.7787171489010791, 0.7774739163170915, 0.7780090351726363, 0.7778100462514789, 0.7779256749489082, 0.7781246638700656, 0.7786364777168262, 0.7774739163170915, 0.7786221361729591, 0.7780296511419453, 0.7778450037646552, 0.7780439926858126, 0.778541464988706, 0.7777437166110932, 0.7781246638700656, 0.7787171489010791, 0.7781246638700656, 0.7787171489010791, 0.7781246638700656, 0.7781040479007565, 0.7778100462514789, 0.7780439926858126, 0.7776047829048797, 0.7774739163170915, 0.7777580581549604, 0.7780439926858126, 0.7773555985801871, 0.7784374887956688, 0.7775545875013445, 0.7787171489010791, 0.7781246638700656, 0.777803771826037, 0.7780296511419453, 0.7779256749489082, 0.7781246638700656, 0.7777499910365351, 0.777905058979599, 0.7785181599799218, 0.7781246638700656, 0.7775339715320354, 0.7778243877953461, 0.7787171489010791, 0.7786364777168262, 0.7781246638700656, 0.7778243877953461, 0.7772749273959341, 0.7774739163170915, 0.7784473486070775, 0.7780296511419453, 0.7775447276899359, 0.7786364777168262, 0.7778450037646552, 0.7780439926858126, 0.7780296511419453, 0.7774739163170915, 0.7781246638700656, 0.7781246638700656, 0.7780296511419453, 0.7781246638700656, 0.7786364777168262, 0.7781040479007565, 0.7787171489010791, 0.7772749273959341, 0.7778450037646552, 0.7786364777168262, 0.7784975440106127, 0.7781040479007565, 0.7781246638700656, 0.7781246638700656, 0.7780439926858126, 0.7778243877953461, 0.7784267326377684, 0.7776253988741888, 0.778147072532358, 0.7779256749489082, 0.7777499910365351, 0.7777804668172529, 0.7781246638700656, 0.7775339715320354, 0.7773555985801871, 0.7781246638700656, 0.7777437166110932, 0.7781246638700656, 0.7781246638700656, 0.7786364777168262, 0.7781040479007565, 0.7780439926858126, 0.7778450037646552, 0.7777437166110932, 0.7776980029400165, 0.7780296511419453, 0.7781246638700656, 0.777830662220788, 0.7775545875013445, 0.7781040479007565, 0.7781040479007565, 0.7781040479007565, 0.778126456563049, 0.7780439926858126, 0.7784374887956688, 0.7780296511419453, 0.7781246638700656, 0.7781246638700656, 0.7778450037646552, 0.7781246638700656, 0.7780296511419453, 0.7781246638700656, 0.7786364777168262, 0.7781040479007565, 0.7786221361729591, 0.7780439926858126, 0.7778450037646552, 0.7781246638700656, 0.7779256749489082, 0.7781246638700656, 0.7776047829048797, 0.7779489799576924, 0.7786221361729591, 0.777803771826037, 0.7781246638700656, 0.7780296511419453, 0.7778450037646552, 0.778147072532358, 0.7779256749489082, 0.7772749273959341, 0.7778450037646552, 0.7775545875013445, 0.7780439926858126, 0.7775545875013445, 0.7786965329317701, 0.7781040479007565, 0.7780439926858126, 0.7775545875013445, 0.7787171489010791, 0.7774739163170915, 0.7778243877953461, 0.7781246638700656, 0.7784374887956688, 0.7787171489010791, 0.7775545875013445, 0.7781040479007565, 0.7781246638700656, 0.777905058979599, 0.7786364777168262, 0.7778450037646552, 0.7776253988741888, 0.7779256749489082, 0.7787171489010791, 0.7784374887956688, 0.7778450037646552, 0.778350543185974, 0.7780296511419453, 0.7778243877953461, 0.7777499910365351, 0.7780439926858126, 0.7781246638700656, 0.7775339715320354, 0.7776773869707073, 0.7778450037646552, 0.7775545875013445, 0.7786364777168262, 0.7781246638700656, 0.7778243877953461, 0.7781246638700656, 0.7781040479007565, 0.7775545875013445, 0.7780439926858126, 0.7781676885016672, 0.777905058979599, 0.7781246638700656, 0.7781246638700656, 0.7777437166110932, 0.7780439926858126, 0.7779256749489082, 0.7775545875013445, 0.7781246638700656, 0.7780439926858126, 0.7781040479007565, 0.7774739163170915, 0.7778243877953461, 0.7773555985801871, 0.7780296511419453, 0.7780439926858126, 0.7775545875013445, 0.7777437166110932, 0.7784975440106127, 0.7779256749489082, 0.7773555985801871, 0.7775339715320354, 0.7775545875013445, 0.7786965329317701, 0.7787171489010791, 0.7781246638700656, 0.7777437166110932, 0.7783666774228245, 0.7773555985801871, 0.7779256749489082, 0.7775545875013445, 0.7778450037646552, 0.7787171489010791, 0.7781246638700656, 0.7780439926858126, 0.7777499910365351, 0.7778450037646552, 0.7781246638700656, 0.7787171489010791, 0.7781246638700656, 0.7777499910365351, 0.7786364777168262, 0.7780090351726363, 0.7776047829048797, 0.7781246638700656, 0.7778243877953461, 0.7779256749489082, 0.7775545875013445, 0.7785181599799218, 0.7786965329317701, 0.7781246638700656, 0.7779480836112007, 0.7787171489010791, 0.7781040479007565, 0.778147072532358, 0.7786364777168262, 0.7780439926858126, 0.7778243877953461, 0.7772749273959341, 0.7780439926858126, 0.7780439926858126, 0.7779256749489082, 0.7779256749489082, 0.7779256749489082, 0.777334982610878, 0.7783424760675486, 0.778147072532358, 0.7779256749489082, 0.7776253988741888, 0.7779256749489082, 0.7781246638700656, 0.7775545875013445, 0.7778243877953461, 0.7780439926858126, 0.7780296511419453, 0.7779256749489082, 0.7786965329317701, 0.777830662220788, 0.7780439926858126, 0.7778243877953461, 0.7787171489010791, 0.778541464988706, 0.7780439926858126, 0.7780439926858126, 0.7784473486070775, 0.7774739163170915, 0.777905058979599, 0.7786364777168262, 0.7787171489010791, 0.7781246638700656, 0.7781246638700656, 0.7776253988741888, 0.7779256749489082, 0.7779256749489082, 0.7780439926858126, 0.7780439926858126, 0.7779256749489082, 0.7780296511419453, 0.7778243877953461, 0.7779489799576924, 0.7787171489010791, 0.7779489799576924, 0.7786221361729591, 0.7787171489010791, 0.7785181599799218, 0.7785181599799218, 0.7781246638700656, 0.7781246638700656, 0.778147072532358, 0.7781246638700656, 0.7786221361729591, 0.7781246638700656, 0.7786965329317701, 0.7787171489010791, 0.7781246638700656, 0.7786364777168262, 0.7778243877953461, 0.7781246638700656, 0.7779256749489082, 0.777905058979599, 0.7781515542648165, 0.7785181599799218, 0.7777437166110932, 0.7787171489010791, 0.7781040479007565, 0.7778450037646552, 0.7781246638700656, 0.7778243877953461, 0.7780439926858126, 0.7778450037646552, 0.7781246638700656, 0.7787171489010791, 0.7775545875013445, 0.7786364777168262, 0.777803771826037, 0.7786965329317701, 0.7779256749489082, 0.7786364777168262, 0.7780439926858126, 0.7781246638700656, 0.7778450037646552, 0.7786364777168262, 0.7775545875013445, 0.7781246638700656, 0.7781040479007565, 0.7780090351726363, 0.7781246638700656, 0.7781246638700656, 0.7774739163170915, 0.7780664013481051, 0.7779256749489082, 0.7779489799576924, 0.7784374887956688, 0.7779256749489082, 0.7775545875013445, 0.7781246638700656, 0.7780439926858126, 0.7786364777168262, 0.7781246638700656, 0.7779256749489082, 0.778147072532358, 0.7781040479007565, 0.7780296511419453, 0.7777580581549604, 0.7775545875013445, 0.7773555985801871, 0.777905058979599, 0.7786965329317701, 0.7780664013481051, 0.7780439926858126, 0.7780439926858126, 0.7786364777168262, 0.7779489799576924, 0.7779256749489082, 0.7786965329317701, 0.7780296511419453, 0.7781040479007565, 0.7787171489010791, 0.7781246638700656, 0.7774739163170915, 0.7780439926858126, 0.7780439926858126, 0.7777437166110932, 0.7780439926858126, 0.7781040479007565, 0.7781246638700656, 0.777803771826037, 0.7780296511419453, 0.7787171489010791, 0.7778243877953461, 0.7778674124269477, 0.7780296511419453, 0.7787171489010791, 0.7784267326377684, 0.7777580581549604, 0.7779256749489082, 0.7787171489010791, 0.7775545875013445, 0.7781246638700656, 0.7787171489010791, 0.7775545875013445, 0.7781040479007565, 0.7781246638700656, 0.7784374887956688, 0.7779256749489082, 0.7781040479007565, 0.777905058979599, 0.7781246638700656, 0.7786965329317701, 0.7778243877953461, 0.7781040479007565, 0.7781246638700656, 0.7781040479007565, 0.7778243877953461, 0.7778243877953461, 0.777905058979599, 0.7780439926858126, 0.7781246638700656, 0.7769289376501379, 0.7781246638700656, 0.777334982610878, 0.7775545875013445, 0.7787171489010791, 0.7775447276899359, 0.7781246638700656, 0.7780090351726363, 0.7775545875013445, 0.7781246638700656, 0.7775545875013445, 0.7778243877953461, 0.778147072532358, 0.7781246638700656, 0.7777437166110932, 0.7778450037646552, 0.7786965329317701, 0.7778243877953461, 0.7773555985801871, 0.7778100462514789, 0.7774739163170915, 0.7787171489010791, 0.7787171489010791, 0.7776980029400165, 0.7777858448962031, 0.7784025312824925, 0.7776047829048797, 0.7781246638700656, 0.7780296511419453, 0.7779489799576924, 0.7778243877953461, 0.7784473486070775, 0.7775545875013445, 0.7787171489010791, 0.7773555985801871, 0.777830662220788, 0.778541464988706, 0.7780296511419453, 0.7771879817862393, 0.7781246638700656, 0.7779256749489082, 0.7773555985801871, 0.7778450037646552, 0.7780439926858126, 0.7778674124269477, 0.7787171489010791, 0.7781246638700656, 0.7780439926858126, 0.7781246638700656, 0.7780296511419453, 0.7780296511419453, 0.7778243877953461, 0.7786364777168262, 0.7786364777168262, 0.7780439926858126, 0.7781246638700656, 0.7780439926858126, 0.7779256749489082, 0.778541464988706, 0.7779489799576924, 0.7781246638700656, 0.778541464988706, 0.7778243877953461, 0.7781246638700656, 0.7787171489010791, 0.7780439926858126, 0.7779256749489082, 0.7778450037646552, 0.7777437166110932, 0.7779480836112007, 0.7785181599799218, 0.7787171489010791, 0.7781246638700656, 0.7780664013481051, 0.7786364777168262, 0.7781246638700656, 0.7775447276899359, 0.7787171489010791, 0.7780439926858126, 0.7780439926858126, 0.7773555985801871, 0.7777499910365351, 0.7781246638700656, 0.7781246638700656, 0.7781246638700656, 0.7786221361729591, 0.7773555985801871, 0.7779256749489082, 0.7787171489010791, 0.7780439926858126, 0.7780439926858126, 0.7780090351726363, 0.7778450037646552, 0.778147072532358, 0.7786221361729591, 0.7786965329317701, 0.7785181599799218, 0.7779489799576924, 0.7785181599799218, 0.7781246638700656, 0.778541464988706, 0.7781246638700656, 0.7777499910365351, 0.7787171489010791, 0.7784025312824925, 0.7779256749489082, 0.778541464988706, 0.778147072532358, 0.7781246638700656, 0.7781246638700656, 0.7784231472518016, 0.7784975440106127, 0.777905058979599, 0.7786364777168262, 0.7779256749489082, 0.7787171489010791, 0.7783424760675486, 0.777830662220788, 0.7779489799576924, 0.777905058979599, 0.7784231472518016, 0.7784473486070775, 0.7775545875013445, 0.778147072532358, 0.778147072532358, 0.7784473486070775, 0.7786221361729591, 0.7775545875013445, 0.7781246638700656, 0.7786364777168262, 0.7780439926858126, 0.7780439926858126, 0.7780439926858126, 0.7786364777168262, 0.7785181599799218, 0.7786364777168262, 0.7786221361729591, 0.7774739163170915, 0.7774739163170915, 0.7784473486070775, 0.7778243877953461, 0.7775545875013445, 0.7779489799576924, 0.7779256749489082, 0.7780296511419453, 0.7779489799576924, 0.7775545875013445, 0.7775545875013445, 0.7781246638700656, 0.7781246638700656, 0.7780296511419453, 0.7786364777168262, 0.7781246638700656, 0.7781246638700656, 0.778541464988706, 0.7780296511419453, 0.7781246638700656, 0.7780439926858126, 0.7781246638700656, 0.7782483596859202, 0.7778243877953461, 0.7780439926858126, 0.7778243877953461, 0.7780439926858126, 0.7778243877953461, 0.7781246638700656, 0.7787171489010791, 0.7781246638700656, 0.777803771826037, 0.7781246638700656, 0.7775545875013445, 0.777905058979599, 0.7785181599799218, 0.7779480836112007, 0.7779489799576924, 0.7779256749489082, 0.7787171489010791, 0.7781246638700656, 0.7786364777168262, 0.7786965329317701, 0.7784473486070775, 0.7780914990498726, 0.7773555985801871, 0.7775545875013445, 0.7778243877953461, 0.7786364777168262, 0.7781246638700656, 0.7780439926858126, 0.7784975440106127, 0.7778674124269477, 0.7780664013481051, 0.7776253988741888, 0.7780439926858126, 0.7777437166110932, 0.778126456563049, 0.7778243877953461, 0.7779489799576924, 0.7785181599799218, 0.7778243877953461, 0.7775545875013445, 0.7778450037646552, 0.7780296511419453, 0.7780296511419453, 0.7781246638700656, 0.7787171489010791, 0.7781246638700656, 0.7776253988741888, 0.7780439926858126, 0.7787171489010791, 0.7786364777168262, 0.7779489799576924, 0.7787171489010791, 0.7780439926858126, 0.778147072532358, 0.7779256749489082, 0.7778450037646552, 0.7778450037646552, 0.7775545875013445, 0.7781246638700656, 0.7787171489010791, 0.7775545875013445, 0.7780296511419453, 0.7781246638700656, 0.7781040479007565, 0.7780439926858126, 0.7781246638700656, 0.7784473486070775, 0.7781246638700656, 0.7786221361729591, 0.777830662220788, 0.7781246638700656, 0.7778450037646552, 0.778126456563049, 0.7787171489010791, 0.7780439926858126, 0.7778450037646552, 0.7786364777168262, 0.7780090351726363, 0.7781246638700656, 0.7781246638700656, 0.7776980029400165, 0.7781246638700656, 0.7780439926858126, 0.777830662220788, 0.7787171489010791, 0.7784473486070775, 0.7779489799576924, 0.7781246638700656, 0.7780439926858126, 0.7784374887956688, 0.7781246638700656, 0.7774739163170915, 0.7775447276899359, 0.7780439926858126, 0.7778450037646552, 0.7780439926858126, 0.7781246638700656, 0.7781246638700656, 0.777803771826037, 0.7780296511419453, 0.7775545875013445, 0.7785181599799218, 0.7781040479007565, 0.7779489799576924, 0.7776253988741888, 0.7775339715320354, 0.7779256749489082, 0.7780296511419453, 0.7775545875013445, 0.7781246638700656, 0.7777580581549604, 0.7784473486070775, 0.7776253988741888, 0.7774640565056827, 0.7787171489010791, 0.7780439926858126, 0.7778100462514789, 0.7787171489010791, 0.7774739163170915, 0.7778450037646552, 0.7780439926858126, 0.7780439926858126, 0.7781246638700656, 0.7781246638700656, 0.7783424760675486, 0.7787171489010791, 0.7781246638700656, 0.7781246638700656, 0.7781246638700656, 0.7781040479007565, 0.7780296511419453, 0.7782483596859202, 0.7780664013481051, 0.7780090351726363, 0.7779256749489082, 0.7787171489010791, 0.7777437166110932, 0.7785181599799218, 0.7777580581549604, 0.7781040479007565, 0.7776253988741888, 0.7787171489010791, 0.7779256749489082, 0.7781246638700656, 0.7786221361729591, 0.7781246638700656, 0.7774739163170915, 0.7785181599799218, 0.7784473486070775, 0.7777437166110932, 0.7786364777168262, 0.7776980029400165, 0.777803771826037, 0.7781246638700656, 0.7776029902118963, 0.7779489799576924, 0.7780439926858126, 0.7786364777168262, 0.7786364777168262, 0.777830662220788, 0.7787171489010791, 0.7781246638700656, 0.7787171489010791, 0.7781040479007565, 0.7778450037646552, 0.7775545875013445, 0.7781246638700656, 0.7777499910365351, 0.7779256749489082, 0.7772749273959341, 0.7780296511419453, 0.7779256749489082, 0.7781040479007565, 0.7780296511419453, 0.7781246638700656, 0.7781246638700656, 0.7784231472518016, 0.7775447276899359, 0.7780439926858126, 0.7779256749489082, 0.7787171489010791, 0.778126456563049, 0.7779256749489082, 0.7780439926858126, 0.777830662220788, 0.7780439926858126, 0.7775447276899359, 0.777830662220788, 0.7784473486070775, 0.7775545875013445, 0.7787171489010791, 0.7780439926858126, 0.7779256749489082, 0.7778100462514789, 0.7781040479007565, 0.7787171489010791, 0.7775545875013445, 0.7784374887956688, 0.7775447276899359, 0.7781246638700656, 0.777905058979599, 0.7781246638700656, 0.7781246638700656, 0.7781246638700656, 0.7779256749489082, 0.7785181599799218, 0.7781246638700656, 0.7780439926858126, 0.7781040479007565, 0.7781246638700656, 0.7780439926858126, 0.7778450037646552, 0.7781246638700656, 0.7786364777168262, 0.7787171489010791, 0.7775545875013445, 0.7779256749489082, 0.7775339715320354, 0.7786364777168262, 0.7784267326377684, 0.7773555985801871, 0.7781246638700656, 0.7778450037646552, 0.7775545875013445, 0.7778450037646552, 0.7779256749489082, 0.7786364777168262, 0.7773555985801871, 0.7781246638700656, 0.7781040479007565, 0.7784975440106127, 0.7781040479007565, 0.7787171489010791, 0.7784231472518016, 0.7781246638700656, 0.7780296511419453, 0.777905058979599, 0.7784473486070775, 0.7781246638700656, 0.7781246638700656, 0.7778450037646552, 0.7781040479007565, 0.7780439926858126, 0.7780664013481051, 0.7781246638700656, 0.7777437166110932, 0.7777437166110932, 0.7787171489010791, 0.7780439926858126, 0.7781676885016672, 0.7781246638700656, 0.7781246638700656, 0.7781246638700656, 0.7778450037646552, 0.7780439926858126, 0.7779256749489082, 0.7787171489010791, 0.7781246638700656, 0.7779489799576924, 0.7786364777168262, 0.7773555985801871, 0.7781246638700656, 0.7775339715320354, 0.777905058979599, 0.7780439926858126, 0.7780296511419453, 0.7780439926858126, 0.7774739163170915, 0.7777437166110932, 0.7786364777168262, 0.7787171489010791, 0.7774739163170915, 0.7786015202036499, 0.7774739163170915, 0.7780296511419453, 0.7787171489010791, 0.7778243877953461, 0.7780664013481051, 0.7780439926858126, 0.7786221361729591, 0.7777437166110932, 0.7787171489010791, 0.7781246638700656, 0.7778450037646552, 0.7778450037646552, 0.7781246638700656, 0.7785181599799218, 0.7781246638700656, 0.7779256749489082, 0.7779489799576924, 0.7780439926858126, 0.7786965329317701, 0.7774739163170915, 0.7781246638700656, 0.7779256749489082, 0.777905058979599, 0.7780439926858126, 0.7780439926858126, 0.7779256749489082, 0.7786364777168262, 0.7781040479007565, 0.7779256749489082, 0.7778100462514789, 0.778147072532358, 0.7777499910365351, 0.7781246638700656, 0.7781246638700656, 0.7781246638700656, 0.7786364777168262, 0.7787171489010791, 0.7778243877953461, 0.7777437166110932, 0.7780439926858126, 0.7772749273959341, 0.7773555985801871, 0.7780439926858126, 0.7780296511419453, 0.7781246638700656, 0.7772749273959341, 0.7781040479007565, 0.7776253988741888, 0.777830662220788, 0.7775545875013445, 0.7780439926858126, 0.7780664013481051, 0.7786364777168262, 0.7781246638700656, 0.7780439926858126, 0.777803771826037, 0.7781040479007565, 0.7781246638700656, 0.7778243877953461, 0.7775545875013445, 0.778147072532358, 0.7779256749489082, 0.7776029902118963, 0.7778243877953461, 0.7786965329317701, 0.7777437166110932, 0.7778243877953461, 0.7774739163170915, 0.7781246638700656, 0.7774739163170915, 0.7779256749489082, 0.7787171489010791, 0.7787171489010791, 0.7781246638700656, 0.7780439926858126, 0.7774990140188591, 0.7781246638700656, 0.7781246638700656, 0.7781246638700656, 0.7780439926858126, 0.7787171489010791, 0.7775545875013445, 0.7779256749489082, 0.7779256749489082, 0.7780439926858126, 0.7779256749489082, 0.7775545875013445, 0.777830662220788, 0.7781040479007565, 0.7781040479007565, 0.7773555985801871, 0.7780439926858126, 0.7778243877953461, 0.778147072532358, 0.7779480836112007, 0.7774739163170915, 0.7779256749489082, 0.7779256749489082, 0.7779256749489082, 0.7779256749489082, 0.7780664013481051, 0.7778450037646552, 0.7780296511419453, 0.7781246638700656, 0.7775545875013445, 0.7775545875013445, 0.7786364777168262, 0.7787171489010791, 0.7778450037646552, 0.7773555985801871, 0.7781676885016672, 0.7772749273959341, 0.7778243877953461, 0.7781040479007565, 0.7784975440106127, 0.7778450037646552, 0.7787171489010791, 0.7784231472518016, 0.7784374887956688, 0.7781246638700656, 0.7779489799576924, 0.7778243877953461, 0.7780439926858126, 0.7773555985801871, 0.7776253988741888, 0.7781246638700656, 0.7779489799576924, 0.777905058979599, 0.7781246638700656, 0.7778450037646552, 0.7781246638700656, 0.777334982610878, 0.7781246638700656, 0.7778450037646552, 0.7787171489010791, 0.7771879817862393, 0.7780296511419453, 0.7777580581549604, 0.7781246638700656, 0.7779256749489082, 0.7778450037646552, 0.7780296511419453, 0.7774739163170915, 0.7775447276899359, 0.7777437166110932, 0.777803771826037, 0.7780439926858126, 0.7775545875013445, 0.7773555985801871, 0.7787171489010791, 0.778541464988706, 0.7786965329317701, 0.7780296511419453, 0.7781246638700656, 0.7780090351726363, 0.7774577820802409, 0.7775545875013445, 0.7784374887956688, 0.778147072532358, 0.7780664013481051, 0.7781246638700656, 0.7775545875013445, 0.7780439926858126, 0.7780439926858126, 0.777830662220788, 0.7781040479007565, 0.7778100462514789, 0.7780439926858126, 0.7780090351726363, 0.7785181599799218, 0.7781246638700656, 0.7781246638700656, 0.7787171489010791, 0.7781246638700656, 0.7778243877953461, 0.7779256749489082, 0.7774739163170915, 0.7781246638700656, 0.7778450037646552, 0.7786364777168262, 0.7774739163170915, 0.7781246638700656, 0.778147072532358, 0.7780090351726363, 0.7780296511419453, 0.7781246638700656, 0.7775447276899359, 0.7777580581549604, 0.7781246638700656, 0.7780296511419453, 0.7787171489010791, 0.7786364777168262, 0.7786364777168262, 0.7775447276899359, 0.7773555985801871, 0.7778674124269477, 0.7779489799576924, 0.7781246638700656, 0.7785181599799218, 0.7780439926858126, 0.777905058979599, 0.7780439926858126, 0.7780296511419453, 0.7779489799576924, 0.7780296511419453, 0.7781246638700656, 0.7773555985801871, 0.7778450037646552, 0.7781040479007565, 0.7779489799576924, 0.7779480836112007, 0.7775339715320354, 0.7777437166110932, 0.7778450037646552, 0.7781246638700656, 0.777830662220788, 0.7784267326377684, 0.7786364777168262, 0.777905058979599, 0.7778450037646552, 0.7777437166110932, 0.7772749273959341, 0.7779256749489082, 0.7780439926858126, 0.7780439926858126, 0.7775545875013445, 0.7780439926858126, 0.7781246638700656, 0.7784231472518016, 0.7779489799576924, 0.7781040479007565, 0.7775545875013445, 0.7787171489010791, 0.7773555985801871, 0.7781246638700656, 0.7780296511419453, 0.7780439926858126, 0.7775339715320354, 0.7783424760675486, 0.7786965329317701, 0.7781246638700656, 0.7780439926858126, 0.7781246638700656, 0.7784374887956688, 0.7781246638700656, 0.7776253988741888, 0.7778243877953461, 0.7780439926858126, 0.7787171489010791, 0.7780439926858126, 0.7777437166110932, 0.7781246638700656, 0.7779256749489082, 0.7785181599799218, 0.7774739163170915, 0.7781246638700656, 0.777334982610878, 0.7787171489010791, 0.7782904879710301, 0.7779256749489082, 0.7786364777168262, 0.7780296511419453, 0.7778243877953461, 0.777905058979599, 0.7786364777168262, 0.7781040479007565, 0.7779256749489082, 0.7781040479007565, 0.7772749273959341, 0.7780439926858126, 0.7785181599799218, 0.7775339715320354, 0.7778243877953461, 0.7778450037646552, 0.7779489799576924, 0.7781246638700656, 0.7782277437166111, 0.7775545875013445, 0.7782904879710301, 0.7780439926858126, 0.7778450037646552, 0.7780914990498726, 0.7787171489010791, 0.7786364777168262, 0.7775545875013445, 0.7780439926858126, 0.7786965329317701, 0.7786364777168262, 0.7781246638700656, 0.7774739163170915, 0.7772749273959341, 0.7774739163170915, 0.7780439926858126, 0.7776253988741888, 0.7779256749489082, 0.7776253988741888, 0.7781246638700656, 0.7787171489010791, 0.7786364777168262, 0.7778243877953461, 0.7787171489010791, 0.7778450037646552, 0.7780296511419453, 0.7781246638700656, 0.778147072532358, 0.7779480836112007, 0.7775447276899359, 0.7779256749489082, 0.7777437166110932, 0.7775447276899359, 0.7778450037646552, 0.7780439926858126, 0.7773555985801871, 0.7781246638700656, 0.7778674124269477, 0.777905058979599, 0.7775545875013445, 0.7783424760675486, 0.7780296511419453, 0.777830662220788, 0.7779256749489082, 0.7779489799576924, 0.7780439926858126, 0.7780296511419453, 0.7774739163170915, 0.7783424760675486, 0.7776253988741888, 0.7780439926858126, 0.7780439926858126, 0.7773555985801871, 0.7780439926858126, 0.7781246638700656, 0.7785181599799218, 0.7780664013481051, 0.7786965329317701, 0.7780439926858126, 0.7778817539708149, 0.7780439926858126, 0.7786965329317701, 0.7781246638700656, 0.7780439926858126, 0.7782483596859202, 0.7779489799576924, 0.7775545875013445, 0.7777580581549604, 0.7776253988741888, 0.7780664013481051, 0.7777437166110932, 0.7787171489010791, 0.7761715248646517, 0.7785181599799218, 0.7778243877953461, 0.7780439926858126, 0.7781246638700656, 0.7780439926858126, 0.7786221361729591, 0.7781246638700656, 0.7781246638700656, 0.7772749273959341, 0.7777437166110932, 0.7781040479007565, 0.7780296511419453, 0.7781246638700656, 0.7786364777168262, 0.7778243877953461, 0.7778243877953461, 0.7780439926858126, 0.7781246638700656, 0.7781040479007565, 0.7781676885016672, 0.7787171489010791, 0.7778450037646552, 0.7780439926858126, 0.7786364777168262, 0.7780664013481051, 0.7774739163170915, 0.7781246638700656, 0.7778243877953461, 0.7781246638700656, 0.7780439926858126, 0.7780296511419453, 0.7775545875013445, 0.7783424760675486, 0.7781246638700656, 0.7777437166110932, 0.7776253988741888, 0.7779256749489082, 0.7775447276899359, 0.7787171489010791, 0.7781246638700656, 0.7779256749489082, 0.7775545875013445, 0.7780439926858126, 0.7786364777168262, 0.7781246638700656, 0.7781246638700656, 0.7781246638700656, 0.7779489799576924, 0.7786364777168262, 0.7781246638700656, 0.7786364777168262, 0.7779480836112007, 0.7773555985801871, 0.7781246638700656, 0.778147072532358, 0.7780439926858126, 0.7780439926858126, 0.7781246638700656, 0.7780807428919723, 0.7779489799576924, 0.7781246638700656, 0.7777499910365351, 0.778147072532358, 0.7787171489010791, 0.7776630454268402, 0.777905058979599, 0.7781246638700656, 0.7779489799576924, 0.7787171489010791, 0.7781040479007565, 0.7778243877953461, 0.7786221361729591, 0.7779489799576924, 0.7781246638700656, 0.7781246638700656, 0.7785181599799218, 0.7781246638700656, 0.7778243877953461, 0.7781246638700656, 0.778126456563049, 0.7781246638700656, 0.7787171489010791, 0.7777437166110932, 0.778541464988706, 0.7781246638700656, 0.7780439926858126, 0.7780296511419453, 0.7783666774228245, 0.7777437166110932, 0.7780296511419453, 0.7777437166110932, 0.7781246638700656, 0.778147072532358, 0.7779256749489082, 0.7781040479007565, 0.7781040479007565, 0.7781040479007565, 0.7787171489010791, 0.7777499910365351, 0.7781040479007565, 0.7780439926858126, 0.7787171489010791, 0.7786364777168262, 0.7786965329317701, 0.7779256749489082, 0.778126456563049, 0.7781246638700656, 0.7780439926858126, 0.7781676885016672, 0.7781246638700656, 0.7784374887956688, 0.7786364777168262, 0.778147072532358, 0.777803771826037, 0.777830662220788, 0.777803771826037, 0.7779489799576924, 0.7780296511419453, 0.7780439926858126, 0.777803771826037, 0.7775545875013445, 0.7781246638700656, 0.7784267326377684, 0.7778450037646552, 0.7787171489010791, 0.7780439926858126, 0.7780296511419453, 0.7786221361729591, 0.777905058979599, 0.7784473486070775, 0.7780296511419453, 0.7761715248646517, 0.7787171489010791, 0.7785181599799218, 0.7774739163170915, 0.7775339715320354, 0.7787171489010791, 0.7781246638700656, 0.7786364777168262, 0.7787171489010791, 0.7781246638700656, 0.7778674124269477, 0.7779489799576924, 0.7778450037646552, 0.7781040479007565, 0.7780296511419453, 0.7778243877953461, 0.777803771826037, 0.7781246638700656, 0.7781246638700656, 0.7780296511419453, 0.7775545875013445, 0.7780439926858126, 0.7781246638700656, 0.7780439926858126, 0.777905058979599, 0.7775545875013445, 0.7780439926858126, 0.7780296511419453, 0.7775545875013445, 0.7787171489010791, 0.777830662220788, 0.7778450037646552, 0.7781246638700656, 0.7781246638700656, 0.778147072532358, 0.7772749273959341, 0.7781246638700656, 0.7781040479007565, 0.7781040479007565, 0.7775545875013445, 0.7781246638700656, 0.7781246638700656, 0.7786364777168262, 0.7775545875013445, 0.7781246638700656, 0.7785181599799218, 0.7775447276899359, 0.7779480836112007, 0.7778450037646552, 0.777905058979599, 0.7786364777168262, 0.7786364777168262, 0.7781040479007565, 0.7786965329317701, 0.7784975440106127, 0.7772749273959341, 0.7780439926858126, 0.7781246638700656, 0.7778243877953461, 0.7781246638700656, 0.7780090351726363, 0.7778243877953461, 0.7772749273959341, 0.7783424760675486, 0.7781246638700656, 0.7776980029400165, 0.7781246638700656, 0.7779480836112007, 0.7780439926858126, 0.7774739163170915, 0.7780296511419453, 0.7781246638700656, 0.7777437166110932, 0.7776253988741888, 0.7774739163170915, 0.7776029902118963, 0.7780439926858126, 0.7775545875013445, 0.7778243877953461, 0.7781246638700656, 0.7784374887956688, 0.7781246638700656, 0.7775545875013445, 0.7780090351726363, 0.7781246638700656, 0.7780664013481051, 0.7780439926858126, 0.7774739163170915, 0.7781246638700656, 0.7781246638700656, 0.7781246638700656, 0.7780296511419453, 0.7780296511419453, 0.7780439926858126, 0.7786965329317701, 0.7780664013481051, 0.7779256749489082, 0.7775545875013445, 0.7781246638700656, 0.7779480836112007, 0.7779256749489082, 0.7780439926858126, 0.7777499910365351, 0.7780439926858126, 0.7781246638700656, 0.7778450037646552, 0.7778243877953461, 0.7784374887956688, 0.7780090351726363, 0.7781246638700656, 0.7787171489010791, 0.7776047829048797, 0.7779489799576924, 0.7786364777168262, 0.7775545875013445, 0.7786221361729591, 0.7786364777168262, 0.7787171489010791, 0.7781246638700656, 0.7787171489010791, 0.778126456563049, 0.777830662220788, 0.7780296511419453, 0.7781246638700656, 0.7778243877953461, 0.7780439926858126, 0.7781246638700656, 0.7780439926858126, 0.7781246638700656, 0.7778243877953461, 0.7777437166110932, 0.7784374887956688, 0.777803771826037, 0.7781246638700656, 0.7787171489010791, 0.7785181599799218, 0.7786364777168262, 0.7775339715320354, 0.7781246638700656, 0.7782904879710301, 0.7775447276899359, 0.7771073106019862, 0.7778243877953461, 0.7786364777168262, 0.7780439926858126, 0.7780296511419453, 0.7780090351726363, 0.7781246638700656, 0.7780296511419453, 0.7775545875013445, 0.7781246638700656, 0.7787171489010791, 0.7780439926858126, 0.7775545875013445, 0.7781040479007565, 0.777830662220788, 0.7780439926858126, 0.7774739163170915, 0.7781246638700656, 0.7780439926858126, 0.777905058979599, 0.7780439926858126, 0.7779489799576924, 0.7781246638700656, 0.7772749273959341, 0.7781040479007565, 0.7786221361729591, 0.7781246638700656, 0.7782904879710301, 0.776296117026998, 0.7786364777168262, 0.7784975440106127, 0.777830662220788]\n"
     ]
    }
   ],
   "source": [
    "t_55 = auc_bootstrap\n",
    "print(t_55)"
   ]
  },
  {
   "cell_type": "code",
   "execution_count": 156,
   "id": "b3bdb490",
   "metadata": {},
   "outputs": [],
   "source": [
    "del X_train, X_test, y_train, y_test, X_val, y_val,study, optuna_auc"
   ]
  },
  {
   "cell_type": "code",
   "execution_count": null,
   "id": "9d95ab20",
   "metadata": {},
   "outputs": [],
   "source": []
  }
 ],
 "metadata": {
  "kernelspec": {
   "display_name": "Python 3 (ipykernel)",
   "language": "python",
   "name": "python3"
  },
  "language_info": {
   "codemirror_mode": {
    "name": "ipython",
    "version": 3
   },
   "file_extension": ".py",
   "mimetype": "text/x-python",
   "name": "python",
   "nbconvert_exporter": "python",
   "pygments_lexer": "ipython3",
   "version": "3.11.5"
  }
 },
 "nbformat": 4,
 "nbformat_minor": 5
}
