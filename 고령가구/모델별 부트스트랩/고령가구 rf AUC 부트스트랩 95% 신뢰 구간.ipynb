{
 "cells": [
  {
   "cell_type": "code",
   "execution_count": null,
   "id": "c6050c33",
   "metadata": {},
   "outputs": [],
   "source": [
    "import pandas as pd\n",
    "import numpy as np\n",
    "import matplotlib.pyplot as plt\n",
    "import seaborn as sns\n",
    "import warnings\n",
    "warnings.filterwarnings('ignore')\n",
    "sns.set_style('darkgrid')\n",
    "\n",
    "import shap\n",
    "from sklearn.model_selection import train_test_split\n",
    "from sklearn.preprocessing import StandardScaler, MinMaxScaler, RobustScaler,LabelEncoder\n",
    "from sklearn.metrics import classification_report, confusion_matrix,ConfusionMatrixDisplay, accuracy_score, recall_score, precision_score, f1_score, roc_auc_score, precision_recall_curve,auc, roc_curve\n",
    "from sklearn.model_selection import StratifiedKFold, KFold, GridSearchCV\n",
    "from xgboost import XGBClassifier\n",
    "from lightgbm import LGBMClassifier\n",
    "from sklearn.ensemble import RandomForestClassifier\n",
    "from sklearn.ensemble import GradientBoostingClassifier\n",
    "from sklearn.ensemble import ExtraTreesClassifier\n",
    "from sklearn.ensemble import AdaBoostClassifier\n",
    "from sklearn.tree import DecisionTreeClassifier\n",
    "\n",
    "\n",
    "from sklearn.preprocessing import OneHotEncoder\n",
    "import matplotlib\n",
    "import sklearn\n",
    "#from skopt import BayesSearchCV, space\n",
    "import optuna\n",
    "import optuna.study\n",
    "from optuna import Trial\n",
    "from optuna import distributions\n",
    "from optuna import integration\n",
    "from optuna.study import create_study\n",
    "from optuna.samplers import TPESampler\n",
    "from optuna.pruners import HyperbandPruner\n",
    "import joblib\n",
    "plt.rcParams['font.family'] = 'NanumGothic'\n",
    "matplotlib.rcParams['axes.unicode_minus'] = False\n",
    "import operator"
   ]
  },
  {
   "cell_type": "code",
   "execution_count": null,
   "id": "d19fdcc5",
   "metadata": {},
   "outputs": [],
   "source": [
    "from sklearn.utils import resample\n",
    "from numpy.random import RandomState"
   ]
  },
  {
   "cell_type": "code",
   "execution_count": null,
   "id": "e491c04c",
   "metadata": {},
   "outputs": [],
   "source": [
    "def bootstrap_auc(clf, X_train, y_train, X_test, y_test, nsamples=2000):\n",
    "    for b in range(nsamples):\n",
    "        idx = rs.randint(X_train.shape[0], size=X_train.shape[0])\n",
    "        clf.fit(X_train[idx], y_train[idx])\n",
    "        pred = clf.predict_proba(X_test)[:, 1]\n",
    "        roc_auc = roc_auc_score(y_test.ravel(), pred.ravel())\n",
    "        auc_bootstrap.append(roc_auc)\n",
    "    return np.percentile(auc_bootstrap, (2.5, 97.5))"
   ]
  },
  {
   "cell_type": "code",
   "execution_count": null,
   "id": "6ac2f292",
   "metadata": {},
   "outputs": [],
   "source": [
    "import decimal\n",
    "context = decimal.getcontext()\n",
    "\n",
    "context.rounding = decimal.ROUND_HALF_UP"
   ]
  },
  {
   "cell_type": "code",
   "execution_count": null,
   "id": "053dea8e",
   "metadata": {},
   "outputs": [],
   "source": [
    "class EarlyStoppingCallback(object):\n",
    "    def __init__(self, early_stopping_rounds: int, direction: str = \"minimize\"):\n",
    "        self.early_stopping_rounds = early_stopping_rounds\n",
    "\n",
    "        self._iter = 0\n",
    "\n",
    "        if direction == \"minimize\":\n",
    "            self._operator = operator.lt\n",
    "            self._score = np.inf\n",
    "        elif direction == \"maximize\":\n",
    "            self._operator = operator.gt\n",
    "            self._score = -np.inf\n",
    "        else:\n",
    "            ValueError(f\"invalid direction: {direction}\")\n",
    "\n",
    "    def __call__(self, study, trial):\n",
    "        if self._operator(study.best_value, self._score):\n",
    "            self._iter = 0\n",
    "            self._score = study.best_value\n",
    "        else:\n",
    "            self._iter += 1\n",
    "\n",
    "        if self._iter >= self.early_stopping_rounds:\n",
    "            study.stop()"
   ]
  },
  {
   "cell_type": "code",
   "execution_count": null,
   "id": "6762d201",
   "metadata": {},
   "outputs": [],
   "source": [
    "optuna.logging.set_verbosity(optuna.logging.WARNING)"
   ]
  },
  {
   "cell_type": "code",
   "execution_count": null,
   "id": "1159b452",
   "metadata": {},
   "outputs": [],
   "source": [
    "고령가구 = pd.read_csv('고령가구_변수추가.csv', encoding='cp949')\n",
    "고령가구.rename(columns = {'문41. 귀 가구는 공공임대주택 입주 기회를 준다면 입주할 의향이 있으십니까?':'target'}, inplace=True)"
   ]
  },
  {
   "cell_type": "code",
   "execution_count": null,
   "id": "510c4e48",
   "metadata": {},
   "outputs": [],
   "source": [
    "고령가구.columns = [\n",
    "    'Cat_현재 거주 지역', 'Cat_현재 주택의 유형','Cat_현재 주택의 위치',\n",
    "    '현재 주택 거주 기간(총 개월)','현재 무주택 기간(총 개월)',\n",
    "    'Cat_현재 주택의 점유형태','Cat_현재 주택의 구조', '현재 주택의 면적(㎡)',\n",
    "    'Cat_현재 상업시설 접근용이성', 'Cat_현재 의료시설 접근용이성',\n",
    "    'Cat_현재 공공기관 접근용이성', 'Cat_현재 문화시설 접근용이성',\n",
    "    'Cat_현재 도시공원 및 녹지 접근용이성', 'Cat_현재 대중교통 접근용이성',\n",
    "    'Cat_현재 주차시설 이용편의성', 'Cat_현재 주변도로의 보행 안전',\n",
    "    'Cat_현재 교육환경', 'Cat_현재 치안 및 범죄 등 방범 상태',\n",
    "    'Cat_현재 자동차 경적/집주변의 소음 정도', 'Cat_현재 청소/쓰레기 처리상태',\n",
    "    'Cat_현재 대기오염 정도', 'Cat_현재 주택에 대한 전반적인 만족도',\n",
    "    '총 이사 횟수', 'Cat_이사 예상 기간','Cat_이사 계획 첫 번째 이유',\n",
    "    'Cat_이사 계획 중인 거주 지역', 'Cat_이사 계획 중인 주택의 유형', 'Cat_이사 계획 중인 주택의 점유형태',\n",
    "    'Cat_주택 보유 의식', 'Cat_현재 가장 필요한 주거지원 1순위',\n",
    "    '가구주 나이','Cat_가구주 성별','Cat_가구주 주민등록상 등재 여부','Cat_가구주 동거 여부','Cat_가구주 장애 여부',\n",
    "    '총 가구원 수','Cat_기초생활보장 수급가구 여부','Cat_소득 계층',\n",
    "    '소득 대비 주택 임대료의 비율', '소득 중 근로/사업소득의 비중(월평균)',\n",
    "    '소득 중 재산소득의 비중(월평균)', '소득 중 사회보험 수혜금의 비중(월평균)',\n",
    "    '소득 중 정부 보조금의 비중(월평균)', '소득 중 사적이전소득의 비중(월평균)', \n",
    "    '소득 대비 생활비의 비율', '소득 대비 주거관리비의 비율',\n",
    "    '자산 중 부동산 자산의 비중', '자산 중 금융자산의 비중', '자산 중 기타자산의 비중',\n",
    "    '부채 중 금융기관 대출금의 비중', '부채 중 비금융기관 대출금의 비중', '부채 중 임대 보증금의 비중',\n",
    "    '중기부채부담지표', '장기부채부담지표', 'Cat_가구주 최종 학력', 'Cat_가구주 종사상 지위',\n",
    "    'target'    \n",
    "]"
   ]
  },
  {
   "cell_type": "code",
   "execution_count": null,
   "id": "a17e3cc5",
   "metadata": {},
   "outputs": [],
   "source": [
    "cat = 고령가구.select_dtypes(include = 'object')\n",
    "num = 고령가구.select_dtypes(exclude = 'object')\n",
    "num_고령 = num.drop('target',axis=1)\n",
    "target = 고령가구.target"
   ]
  },
  {
   "cell_type": "code",
   "execution_count": null,
   "id": "053da0e7",
   "metadata": {},
   "outputs": [],
   "source": [
    "scaler=RobustScaler()\n",
    "scaler.fit(num_고령)\n",
    "num_scaled_고령=scaler.transform(num_고령)\n",
    "num_df_scaled_고령=pd.DataFrame(data=num_scaled_고령, columns=num_고령.columns)"
   ]
  },
  {
   "cell_type": "code",
   "execution_count": null,
   "id": "7f60096a",
   "metadata": {},
   "outputs": [],
   "source": [
    "enc = OneHotEncoder()\n",
    "enc.fit(cat)\n",
    "\n",
    "X_cat = enc.transform(cat).toarray()\n",
    "new_feature_names = enc.get_feature_names_out(cat.columns)\n",
    "cat2 = pd.DataFrame(X_cat, columns= new_feature_names)"
   ]
  },
  {
   "cell_type": "code",
   "execution_count": null,
   "id": "e51cd164",
   "metadata": {},
   "outputs": [],
   "source": [
    "comp =pd.concat([num_df_scaled_고령, target,cat2],axis=1)"
   ]
  },
  {
   "cell_type": "code",
   "execution_count": null,
   "id": "270df026",
   "metadata": {},
   "outputs": [],
   "source": [
    "X=comp.drop('target', axis = 1)\n",
    "y=comp.target\n",
    "X.shape"
   ]
  },
  {
   "cell_type": "code",
   "execution_count": null,
   "id": "3c60a5ad",
   "metadata": {},
   "outputs": [],
   "source": [
    "alll = list(comp)\n",
    "alll"
   ]
  },
  {
   "cell_type": "code",
   "execution_count": null,
   "id": "d6a53d6f",
   "metadata": {},
   "outputs": [],
   "source": [
    "comp_41 = comp[[\n",
    " '현재 주택 거주 기간(총 개월)','현재 주택의 면적(㎡)','총 이사 횟수','가구주 나이','소득 대비 주택 임대료의 비율',\n",
    " '소득 중 사적이전소득의 비중(월평균)','소득 대비 주거관리비의 비율','target',\n",
    " 'Cat_현재 거주 지역_강원도',\n",
    " 'Cat_현재 거주 지역_경기도',\n",
    " 'Cat_현재 거주 지역_경상남도',\n",
    " 'Cat_현재 거주 지역_경상북도',\n",
    " 'Cat_현재 거주 지역_광주광역시',\n",
    " 'Cat_현재 거주 지역_대구광역시',\n",
    " 'Cat_현재 거주 지역_대전광역시',\n",
    " 'Cat_현재 거주 지역_부산광역시',\n",
    " 'Cat_현재 거주 지역_서울특별시',\n",
    " 'Cat_현재 거주 지역_세종특별자치시',\n",
    " 'Cat_현재 거주 지역_울산광역시',\n",
    " 'Cat_현재 거주 지역_인천광역시',\n",
    " 'Cat_현재 거주 지역_전라남도',\n",
    " 'Cat_현재 거주 지역_전라북도',\n",
    " 'Cat_현재 거주 지역_제주특별자치도',\n",
    " 'Cat_현재 거주 지역_충청남도',\n",
    " 'Cat_현재 거주 지역_충청북도',\n",
    "    \n",
    " 'Cat_현재 주택의 유형_고시원',\n",
    " 'Cat_현재 주택의 유형_기타',\n",
    " 'Cat_현재 주택의 유형_다가구 단독주택',\n",
    " 'Cat_현재 주택의 유형_다세대주택',\n",
    " 'Cat_현재 주택의 유형_비거주용 건물 내 주택',\n",
    " 'Cat_현재 주택의 유형_아파트',\n",
    " 'Cat_현재 주택의 유형_연립주택',\n",
    " 'Cat_현재 주택의 유형_영업겸용 단독주택',\n",
    " 'Cat_현재 주택의 유형_오피스텔',\n",
    " 'Cat_현재 주택의 유형_일반 단독주택',\n",
    " 'Cat_현재 주택의 유형_판잣집 비닐하우스 컨테이너 움막',\n",
    "    \n",
    " 'Cat_현재 주택의 점유형태_무상',\n",
    " 'Cat_현재 주택의 점유형태_보증금 없는 월세(사글세, 연세, 일세 포함)',\n",
    " 'Cat_현재 주택의 점유형태_보증금 있는 월세',\n",
    " 'Cat_현재 주택의 점유형태_전세',\n",
    "    \n",
    " 'Cat_이사 계획 중인 거주 지역_국내 to 국외',\n",
    " 'Cat_이사 계획 중인 거주 지역_비수도권 to 비수도권',\n",
    " 'Cat_이사 계획 중인 거주 지역_비수도권 to 수도권',\n",
    " 'Cat_이사 계획 중인 거주 지역_비수도권 to 이사 계획 없음 및 모름',\n",
    " 'Cat_이사 계획 중인 거주 지역_수도권 to 비수도권',\n",
    " 'Cat_이사 계획 중인 거주 지역_수도권 to 수도권',\n",
    " 'Cat_이사 계획 중인 거주 지역_수도권 to 이사 계획 없음 및 모름',\n",
    "    \n",
    " 'Cat_이사 계획 중인 주택의 유형_공동주택 to 공동주택',\n",
    " 'Cat_이사 계획 중인 주택의 유형_공동주택 to 기타',\n",
    " 'Cat_이사 계획 중인 주택의 유형_공동주택 to 단독주택',\n",
    " 'Cat_이사 계획 중인 주택의 유형_공동주택 to 이사 계획 없음 및 모름',\n",
    " 'Cat_이사 계획 중인 주택의 유형_기타 to 공동주택',\n",
    " 'Cat_이사 계획 중인 주택의 유형_기타 to 기타',\n",
    " 'Cat_이사 계획 중인 주택의 유형_기타 to 단독주택',\n",
    " 'Cat_이사 계획 중인 주택의 유형_기타 to 이사 계획 없음 및 모름',\n",
    " 'Cat_이사 계획 중인 주택의 유형_단독주택 to 공동주택',\n",
    " 'Cat_이사 계획 중인 주택의 유형_단독주택 to 기타',\n",
    " 'Cat_이사 계획 중인 주택의 유형_단독주택 to 단독주택',\n",
    " 'Cat_이사 계획 중인 주택의 유형_단독주택 to 이사 계획 없음 및 모름',\n",
    " 'Cat_이사 계획 중인 주택의 유형_준주택 to 공동주택',\n",
    " 'Cat_이사 계획 중인 주택의 유형_준주택 to 단독주택',\n",
    " 'Cat_이사 계획 중인 주택의 유형_준주택 to 이사 계획 없음 및 모름',\n",
    " 'Cat_이사 계획 중인 주택의 유형_준주택 to 준주택',\n",
    "    \n",
    " 'Cat_이사 계획 중인 주택의 점유형태_무상 to 무상이나 기타',\n",
    " 'Cat_이사 계획 중인 주택의 점유형태_무상 to 보증금 없는 월세(사글세, 연세, 일세 포함)',\n",
    " 'Cat_이사 계획 중인 주택의 점유형태_무상 to 보증금 있는 월세',\n",
    " 'Cat_이사 계획 중인 주택의 점유형태_무상 to 이사 계획 없음 및 모름',\n",
    " 'Cat_이사 계획 중인 주택의 점유형태_무상 to 자가',\n",
    " 'Cat_이사 계획 중인 주택의 점유형태_무상 to 전세',\n",
    " 'Cat_이사 계획 중인 주택의 점유형태_보증금 없는 월세(사글세, 연세, 일세 포함) to 무상이나 기타',\n",
    " 'Cat_이사 계획 중인 주택의 점유형태_보증금 없는 월세(사글세, 연세, 일세 포함) to 보증금 없는 월세(사글세, 연세, 일세 포함)',\n",
    " 'Cat_이사 계획 중인 주택의 점유형태_보증금 없는 월세(사글세, 연세, 일세 포함) to 보증금 있는 월세',\n",
    " 'Cat_이사 계획 중인 주택의 점유형태_보증금 없는 월세(사글세, 연세, 일세 포함) to 이사 계획 없음 및 모름',\n",
    " 'Cat_이사 계획 중인 주택의 점유형태_보증금 없는 월세(사글세, 연세, 일세 포함) to 자가',\n",
    " 'Cat_이사 계획 중인 주택의 점유형태_보증금 없는 월세(사글세, 연세, 일세 포함) to 전세',\n",
    " 'Cat_이사 계획 중인 주택의 점유형태_보증금 있는 월세 to 무상이나 기타',\n",
    " 'Cat_이사 계획 중인 주택의 점유형태_보증금 있는 월세 to 보증금 없는 월세(사글세, 연세, 일세 포함)',\n",
    " 'Cat_이사 계획 중인 주택의 점유형태_보증금 있는 월세 to 보증금 있는 월세',\n",
    " 'Cat_이사 계획 중인 주택의 점유형태_보증금 있는 월세 to 이사 계획 없음 및 모름',\n",
    " 'Cat_이사 계획 중인 주택의 점유형태_보증금 있는 월세 to 자가',\n",
    " 'Cat_이사 계획 중인 주택의 점유형태_보증금 있는 월세 to 전세',\n",
    " 'Cat_이사 계획 중인 주택의 점유형태_전세 to 무상이나 기타',\n",
    " 'Cat_이사 계획 중인 주택의 점유형태_전세 to 보증금 없는 월세(사글세, 연세, 일세 포함)',\n",
    " 'Cat_이사 계획 중인 주택의 점유형태_전세 to 보증금 있는 월세',\n",
    " 'Cat_이사 계획 중인 주택의 점유형태_전세 to 이사 계획 없음 및 모름',\n",
    " 'Cat_이사 계획 중인 주택의 점유형태_전세 to 자가',\n",
    " 'Cat_이사 계획 중인 주택의 점유형태_전세 to 전세',\n",
    "    \n",
    " 'Cat_현재 가장 필요한 주거지원 1순위_공공분양주택공급',\n",
    " 'Cat_현재 가장 필요한 주거지원 1순위_없음',\n",
    " 'Cat_현재 가장 필요한 주거지원 1순위_월세보조금 지원',\n",
    " 'Cat_현재 가장 필요한 주거지원 1순위_임대 후 분양전환 공공임대주택 공급',\n",
    " 'Cat_현재 가장 필요한 주거지원 1순위_장기공공임대주택 공급',\n",
    " 'Cat_현재 가장 필요한 주거지원 1순위_전세자금 대출 지원',\n",
    " 'Cat_현재 가장 필요한 주거지원 1순위_주거상담과 정보제공 등',\n",
    " 'Cat_현재 가장 필요한 주거지원 1순위_주택 구입자금 대출 지원',\n",
    " 'Cat_현재 가장 필요한 주거지원 1순위_주택개량 및 개보수 지원',\n",
    "\n",
    " 'Cat_기초생활보장 수급가구 여부_아니오',\n",
    " 'Cat_기초생활보장 수급가구 여부_예',\n",
    "]]"
   ]
  },
  {
   "cell_type": "code",
   "execution_count": null,
   "id": "0c048a0d",
   "metadata": {},
   "outputs": [],
   "source": [
    "X_41 = comp_41.drop('target', axis=1)\n",
    "y_41 = comp_41['target']\n",
    "X_41.shape"
   ]
  },
  {
   "cell_type": "code",
   "execution_count": null,
   "id": "85e5b8bb",
   "metadata": {
    "scrolled": true
   },
   "outputs": [],
   "source": [
    "X_train, X_test, y_train, y_test = train_test_split(X_41, y_41, test_size=0.2, shuffle=True, stratify=y_41, random_state = 0)\n",
    "X_train, X_val, y_train, y_val = train_test_split(X_train, y_train, test_size=0.2, shuffle=True, stratify=y_train, random_state = 0)"
   ]
  },
  {
   "cell_type": "code",
   "execution_count": null,
   "id": "079a2d1b",
   "metadata": {},
   "outputs": [],
   "source": [
    "def objective(trial):\n",
    "    params = {\n",
    "        'n_estimators' :trial.suggest_int('n_estimators', 50, 200),\n",
    "        'max_depth' :trial.suggest_int('max_depth', 1, 10),\n",
    "        'min_samples_split' :trial.suggest_int('min_samples_split', 3, 10),\n",
    "        'min_samples_leaf' :trial.suggest_int('min_samples_leaf', 3, 10),\n",
    "        }\n",
    "        \n",
    "    clf = RandomForestClassifier(**params,random_state = 0)\n",
    "    clf.fit(X_train, y_train)\n",
    "    clf_proba = clf.predict_proba(X_val)[:, 1]\n",
    "        \n",
    "    AUC_SCORE = roc_auc_score(y_val, clf_proba)\n",
    "    return AUC_SCORE\n",
    "\n",
    "direction = \"maximize\"\n",
    "sampler = optuna.samplers.TPESampler(seed=10)\n",
    "study =  optuna.create_study(direction=direction, sampler=sampler, pruner=optuna.pruners.HyperbandPruner())\n",
    "early_stopping = EarlyStoppingCallback(10, direction=direction)\n",
    "study.optimize(objective, callbacks=[early_stopping], n_trials=200) "
   ]
  },
  {
   "cell_type": "code",
   "execution_count": null,
   "id": "2039d24f",
   "metadata": {},
   "outputs": [],
   "source": [
    "print(study.best_trial.params)\n",
    "optuna_auc = study.best_trial.value\n",
    "print(optuna_auc)"
   ]
  },
  {
   "cell_type": "code",
   "execution_count": null,
   "id": "cad80727",
   "metadata": {},
   "outputs": [],
   "source": [
    "optuna_41 = RandomForestClassifier(**study.best_trial.params, random_state = 0)\n",
    "optuna_41.fit(X_train, y_train)"
   ]
  },
  {
   "cell_type": "code",
   "execution_count": null,
   "id": "5bc3ec43",
   "metadata": {},
   "outputs": [],
   "source": [
    "optuna_proba_41 = optuna_41.predict_proba(X_test)[:, 1]\n",
    "auc_41 = roc_auc_score(y_test, optuna_proba_41)\n",
    "print(decimal.Decimal(auc_41).quantize(decimal.Decimal('1.000')))"
   ]
  },
  {
   "cell_type": "code",
   "execution_count": null,
   "id": "4d056502",
   "metadata": {},
   "outputs": [],
   "source": [
    "X_train = X_train.values\n",
    "y_train = y_train.values"
   ]
  },
  {
   "cell_type": "code",
   "execution_count": null,
   "id": "1dbc5ad4",
   "metadata": {},
   "outputs": [],
   "source": [
    "auc_bootstrap = []"
   ]
  },
  {
   "cell_type": "code",
   "execution_count": null,
   "id": "1664a2e6",
   "metadata": {},
   "outputs": [],
   "source": [
    "rs = RandomState(seed = 41)\n",
    "bootstrap_auc(optuna_41, X_train, y_train, X_test, y_test, nsamples=2000)"
   ]
  },
  {
   "cell_type": "code",
   "execution_count": null,
   "id": "5ac22feb",
   "metadata": {},
   "outputs": [],
   "source": [
    "np.mean(auc_bootstrap)"
   ]
  },
  {
   "cell_type": "code",
   "execution_count": null,
   "id": "ebbbebb3",
   "metadata": {},
   "outputs": [],
   "source": [
    "t_41 = auc_bootstrap\n",
    "print(t_41)"
   ]
  },
  {
   "cell_type": "code",
   "execution_count": null,
   "id": "97d2896a",
   "metadata": {},
   "outputs": [],
   "source": [
    "column_to_drop_41 = 'Cat_이사 계획 중인 주택의 유형'"
   ]
  },
  {
   "cell_type": "code",
   "execution_count": null,
   "id": "cfbbad96",
   "metadata": {},
   "outputs": [],
   "source": [
    "if not column_to_drop_41.startswith('Cat_'):\n",
    "    comp_42 = comp_41.drop(column_to_drop_41, axis=1)\n",
    "    X_42 = comp_42.drop('target', axis=1)\n",
    "    y_42 = comp_42['target']\n",
    "else:\n",
    "    comp_42 = comp_41.drop(comp_41.filter(regex='^' + column_to_drop_41).columns, axis=1)\n",
    "    X_42 = comp_42.drop('target', axis=1)\n",
    "    y_42 = comp_42['target']\n",
    "\n",
    "print(X_42.shape)"
   ]
  },
  {
   "cell_type": "code",
   "execution_count": null,
   "id": "c3a95bcd",
   "metadata": {},
   "outputs": [],
   "source": [
    "del X_train, X_test, y_train, y_test, X_val, y_val,study, optuna_auc"
   ]
  },
  {
   "cell_type": "code",
   "execution_count": null,
   "id": "4df490c4",
   "metadata": {},
   "outputs": [],
   "source": [
    "X_train, X_test, y_train, y_test = train_test_split(X_42, y_42, test_size=0.2, shuffle=True, stratify=y_42, random_state = 0)\n",
    "X_train, X_val, y_train, y_val = train_test_split(X_train, y_train, test_size=0.2, shuffle=True, stratify=y_train, random_state = 0)"
   ]
  },
  {
   "cell_type": "code",
   "execution_count": null,
   "id": "746efd00",
   "metadata": {},
   "outputs": [],
   "source": [
    "X_train.shape"
   ]
  },
  {
   "cell_type": "code",
   "execution_count": null,
   "id": "f418498e",
   "metadata": {},
   "outputs": [],
   "source": [
    "def objective(trial):\n",
    "    params = {\n",
    "        'n_estimators' :trial.suggest_int('n_estimators', 50, 200),\n",
    "        'max_depth' :trial.suggest_int('max_depth', 1, 10),\n",
    "        'min_samples_split' :trial.suggest_int('min_samples_split', 3, 10),\n",
    "        'min_samples_leaf' :trial.suggest_int('min_samples_leaf', 3, 10),\n",
    "        }\n",
    "        \n",
    "    clf = RandomForestClassifier(**params,random_state = 0)\n",
    "    clf.fit(X_train, y_train)\n",
    "    clf_proba = clf.predict_proba(X_val)[:, 1]\n",
    "        \n",
    "    AUC_SCORE = roc_auc_score(y_val, clf_proba)\n",
    "    return AUC_SCORE\n",
    "\n",
    "direction = \"maximize\"\n",
    "sampler = optuna.samplers.TPESampler(seed=10)\n",
    "study =  optuna.create_study(direction=direction, sampler=sampler, pruner=optuna.pruners.HyperbandPruner())\n",
    "early_stopping = EarlyStoppingCallback(10, direction=direction)\n",
    "study.optimize(objective, callbacks=[early_stopping], n_trials=200) "
   ]
  },
  {
   "cell_type": "code",
   "execution_count": null,
   "id": "b50d78ed",
   "metadata": {},
   "outputs": [],
   "source": [
    "print(study.best_trial.params)\n",
    "optuna_auc = study.best_trial.value\n",
    "print(optuna_auc)"
   ]
  },
  {
   "cell_type": "code",
   "execution_count": null,
   "id": "f2814a7b",
   "metadata": {},
   "outputs": [],
   "source": [
    "optuna_42 = RandomForestClassifier(**study.best_trial.params, random_state = 0)\n",
    "optuna_42.fit(X_train, y_train)"
   ]
  },
  {
   "cell_type": "code",
   "execution_count": null,
   "id": "e7274d99",
   "metadata": {},
   "outputs": [],
   "source": [
    "optuna_proba_42 = optuna_42.predict_proba(X_test)[:, 1]\n",
    "auc_42 = roc_auc_score(y_test, optuna_proba_42)\n",
    "print(decimal.Decimal(auc_42).quantize(decimal.Decimal('1.000')))"
   ]
  },
  {
   "cell_type": "code",
   "execution_count": null,
   "id": "9936bc82",
   "metadata": {},
   "outputs": [],
   "source": [
    "X_train = X_train.values\n",
    "y_train = y_train.values"
   ]
  },
  {
   "cell_type": "code",
   "execution_count": null,
   "id": "4ba846d9",
   "metadata": {},
   "outputs": [],
   "source": [
    "auc_bootstrap = []"
   ]
  },
  {
   "cell_type": "code",
   "execution_count": null,
   "id": "3416e3c6",
   "metadata": {},
   "outputs": [],
   "source": [
    "rs = RandomState(seed = 42)\n",
    "bootstrap_auc(optuna_42, X_train, y_train, X_test, y_test, nsamples=2000)"
   ]
  },
  {
   "cell_type": "code",
   "execution_count": null,
   "id": "62e3127d",
   "metadata": {},
   "outputs": [],
   "source": [
    "np.mean(auc_bootstrap)"
   ]
  },
  {
   "cell_type": "code",
   "execution_count": null,
   "id": "aae01cbd",
   "metadata": {},
   "outputs": [],
   "source": [
    "t_42 = auc_bootstrap\n",
    "print(t_42)"
   ]
  },
  {
   "cell_type": "code",
   "execution_count": null,
   "id": "0555fa40",
   "metadata": {},
   "outputs": [],
   "source": [
    "column_to_drop_42 = '소득 대비 주거관리비의 비율'"
   ]
  },
  {
   "cell_type": "code",
   "execution_count": null,
   "id": "97b73de4",
   "metadata": {},
   "outputs": [],
   "source": [
    "if not column_to_drop_42.startswith('Cat_'):\n",
    "    comp_43 = comp_42.drop(column_to_drop_42, axis=1)\n",
    "    X_43 = comp_43.drop('target', axis=1)\n",
    "    y_43 = comp_43['target']\n",
    "else:\n",
    "    comp_43 = comp_42.drop(comp_42.filter(regex='^' + column_to_drop_42).columns, axis=1)\n",
    "    X_43 = comp_43.drop('target', axis=1)\n",
    "    y_43 = comp_43['target']\n",
    "\n",
    "print(X_43.shape)"
   ]
  },
  {
   "cell_type": "code",
   "execution_count": null,
   "id": "208940d0",
   "metadata": {},
   "outputs": [],
   "source": [
    "del X_train, X_test, y_train, y_test, X_val, y_val,study, optuna_auc"
   ]
  },
  {
   "cell_type": "code",
   "execution_count": null,
   "id": "d3eef27d",
   "metadata": {},
   "outputs": [],
   "source": [
    "X_train, X_test, y_train, y_test = train_test_split(X_43, y_43, test_size=0.2, shuffle=True, stratify=y_43, random_state = 0)\n",
    "X_train, X_val, y_train, y_val = train_test_split(X_train, y_train, test_size=0.2, shuffle=True, stratify=y_train, random_state = 0)"
   ]
  },
  {
   "cell_type": "code",
   "execution_count": null,
   "id": "5011846f",
   "metadata": {},
   "outputs": [],
   "source": [
    "def objective(trial):\n",
    "    params = {\n",
    "        'n_estimators' :trial.suggest_int('n_estimators', 50, 200),\n",
    "        'max_depth' :trial.suggest_int('max_depth', 1, 10),\n",
    "        'min_samples_split' :trial.suggest_int('min_samples_split', 3, 10),\n",
    "        'min_samples_leaf' :trial.suggest_int('min_samples_leaf', 3, 10),\n",
    "        }\n",
    "        \n",
    "    clf = RandomForestClassifier(**params,random_state = 0)\n",
    "    clf.fit(X_train, y_train)\n",
    "    clf_proba = clf.predict_proba(X_val)[:, 1]\n",
    "        \n",
    "    AUC_SCORE = roc_auc_score(y_val, clf_proba)\n",
    "    return AUC_SCORE\n",
    "\n",
    "direction = \"maximize\"\n",
    "sampler = optuna.samplers.TPESampler(seed=10)\n",
    "study =  optuna.create_study(direction=direction, sampler=sampler, pruner=optuna.pruners.HyperbandPruner())\n",
    "early_stopping = EarlyStoppingCallback(10, direction=direction)\n",
    "study.optimize(objective, callbacks=[early_stopping], n_trials=200) "
   ]
  },
  {
   "cell_type": "code",
   "execution_count": null,
   "id": "8abedf83",
   "metadata": {},
   "outputs": [],
   "source": [
    "print(study.best_trial.params)\n",
    "optuna_auc = study.best_trial.value\n",
    "print(optuna_auc)"
   ]
  },
  {
   "cell_type": "code",
   "execution_count": null,
   "id": "65df90dc",
   "metadata": {},
   "outputs": [],
   "source": [
    "optuna_43 = RandomForestClassifier(**study.best_trial.params, random_state = 0)\n",
    "optuna_43.fit(X_train, y_train)"
   ]
  },
  {
   "cell_type": "code",
   "execution_count": null,
   "id": "f6515821",
   "metadata": {},
   "outputs": [],
   "source": [
    "optuna_proba_43 = optuna_43.predict_proba(X_test)[:, 1]\n",
    "auc_43 = roc_auc_score(y_test, optuna_proba_43)\n",
    "print(decimal.Decimal(auc_43).quantize(decimal.Decimal('1.000')))"
   ]
  },
  {
   "cell_type": "code",
   "execution_count": null,
   "id": "ac768e72",
   "metadata": {},
   "outputs": [],
   "source": [
    "X_train = X_train.values\n",
    "y_train = y_train.values"
   ]
  },
  {
   "cell_type": "code",
   "execution_count": null,
   "id": "5ff2306d",
   "metadata": {},
   "outputs": [],
   "source": [
    "auc_bootstrap = []"
   ]
  },
  {
   "cell_type": "code",
   "execution_count": null,
   "id": "266929fb",
   "metadata": {},
   "outputs": [],
   "source": [
    "rs = RandomState(seed = 43)\n",
    "bootstrap_auc(optuna_43, X_train, y_train, X_test, y_test, nsamples=2000)"
   ]
  },
  {
   "cell_type": "code",
   "execution_count": null,
   "id": "7d484cac",
   "metadata": {},
   "outputs": [],
   "source": [
    "np.mean(auc_bootstrap)"
   ]
  },
  {
   "cell_type": "code",
   "execution_count": null,
   "id": "5224f9b3",
   "metadata": {},
   "outputs": [],
   "source": [
    "t_43 = auc_bootstrap\n",
    "print(t_43)"
   ]
  },
  {
   "cell_type": "code",
   "execution_count": null,
   "id": "a6b2464e",
   "metadata": {},
   "outputs": [],
   "source": [
    "column_to_drop_43 = 'Cat_현재 거주 지역'"
   ]
  },
  {
   "cell_type": "code",
   "execution_count": null,
   "id": "8183fc45",
   "metadata": {},
   "outputs": [],
   "source": [
    "if not column_to_drop_43.startswith('Cat_'):\n",
    "    comp_44 = comp_43.drop(column_to_drop_43, axis=1)\n",
    "    X_44 = comp_44.drop('target', axis=1)\n",
    "    y_44 = comp_44['target']\n",
    "else:\n",
    "    comp_44 = comp_43.drop(comp_43.filter(regex='^' + column_to_drop_43).columns, axis=1)\n",
    "    X_44 = comp_44.drop('target', axis=1)\n",
    "    y_44 = comp_44['target']\n",
    "\n",
    "print(X_44.shape)"
   ]
  },
  {
   "cell_type": "code",
   "execution_count": null,
   "id": "aa09b08a",
   "metadata": {},
   "outputs": [],
   "source": [
    "del X_train, X_test, y_train, y_test, X_val, y_val,study, optuna_auc"
   ]
  },
  {
   "cell_type": "code",
   "execution_count": null,
   "id": "cc269fee",
   "metadata": {},
   "outputs": [],
   "source": [
    "X_train, X_test, y_train, y_test = train_test_split(X_44, y_44, test_size=0.2, shuffle=True, stratify=y_44, random_state = 0)\n",
    "X_train, X_val, y_train, y_val = train_test_split(X_train, y_train, test_size=0.2, shuffle=True, stratify=y_train, random_state = 0)"
   ]
  },
  {
   "cell_type": "code",
   "execution_count": null,
   "id": "7e277264",
   "metadata": {},
   "outputs": [],
   "source": [
    "def objective(trial):\n",
    "    params = {\n",
    "        'n_estimators' :trial.suggest_int('n_estimators', 50, 200),\n",
    "        'max_depth' :trial.suggest_int('max_depth', 1, 10),\n",
    "        'min_samples_split' :trial.suggest_int('min_samples_split', 3, 10),\n",
    "        'min_samples_leaf' :trial.suggest_int('min_samples_leaf', 3, 10),\n",
    "        }\n",
    "        \n",
    "    clf = RandomForestClassifier(**params,random_state = 0)\n",
    "    clf.fit(X_train, y_train)\n",
    "    clf_proba = clf.predict_proba(X_val)[:, 1]\n",
    "        \n",
    "    AUC_SCORE = roc_auc_score(y_val, clf_proba)\n",
    "    return AUC_SCORE\n",
    "\n",
    "direction = \"maximize\"\n",
    "sampler = optuna.samplers.TPESampler(seed=10)\n",
    "study =  optuna.create_study(direction=direction, sampler=sampler, pruner=optuna.pruners.HyperbandPruner())\n",
    "early_stopping = EarlyStoppingCallback(10, direction=direction)\n",
    "study.optimize(objective, callbacks=[early_stopping], n_trials=200) "
   ]
  },
  {
   "cell_type": "code",
   "execution_count": null,
   "id": "3948db14",
   "metadata": {},
   "outputs": [],
   "source": [
    "print(study.best_trial.params)\n",
    "optuna_auc = study.best_trial.value\n",
    "print(optuna_auc)"
   ]
  },
  {
   "cell_type": "code",
   "execution_count": null,
   "id": "0fddeed7",
   "metadata": {},
   "outputs": [],
   "source": [
    "optuna_44 = RandomForestClassifier(**study.best_trial.params, random_state = 0)\n",
    "optuna_44.fit(X_train, y_train)"
   ]
  },
  {
   "cell_type": "code",
   "execution_count": null,
   "id": "d5433ca1",
   "metadata": {},
   "outputs": [],
   "source": [
    "optuna_proba_44 = optuna_44.predict_proba(X_test)[:, 1]\n",
    "auc_44 = roc_auc_score(y_test, optuna_proba_44)\n",
    "print(decimal.Decimal(auc_44).quantize(decimal.Decimal('1.000')))"
   ]
  },
  {
   "cell_type": "code",
   "execution_count": null,
   "id": "7b977a2c",
   "metadata": {},
   "outputs": [],
   "source": [
    "X_train = X_train.values\n",
    "y_train = y_train.values"
   ]
  },
  {
   "cell_type": "code",
   "execution_count": null,
   "id": "4113c4df",
   "metadata": {},
   "outputs": [],
   "source": [
    "auc_bootstrap = []"
   ]
  },
  {
   "cell_type": "code",
   "execution_count": null,
   "id": "614655b4",
   "metadata": {},
   "outputs": [],
   "source": [
    "rs = RandomState(seed = 44)\n",
    "bootstrap_auc(optuna_44, X_train, y_train, X_test, y_test, nsamples=2000)"
   ]
  },
  {
   "cell_type": "code",
   "execution_count": null,
   "id": "595d7bbc",
   "metadata": {},
   "outputs": [],
   "source": [
    "np.mean(auc_bootstrap)"
   ]
  },
  {
   "cell_type": "code",
   "execution_count": null,
   "id": "bcf629ad",
   "metadata": {},
   "outputs": [],
   "source": [
    "t_44 = auc_bootstrap\n",
    "print(t_44)"
   ]
  },
  {
   "cell_type": "code",
   "execution_count": null,
   "id": "999b6362",
   "metadata": {},
   "outputs": [],
   "source": [
    "column_to_drop_44 = '현재 주택 거주 기간(총 개월)'"
   ]
  },
  {
   "cell_type": "code",
   "execution_count": null,
   "id": "98168e83",
   "metadata": {},
   "outputs": [],
   "source": [
    "if not column_to_drop_44.startswith('Cat_'):\n",
    "    comp_45 = comp_44.drop(column_to_drop_44, axis=1)\n",
    "    X_45 = comp_45.drop('target', axis=1)\n",
    "    y_45 = comp_45['target']\n",
    "else:\n",
    "    comp_45 = comp_44.drop(comp_44.filter(regex='^' + column_to_drop_44).columns, axis=1)\n",
    "    X_45 = comp_45.drop('target', axis=1)\n",
    "    y_45 = comp_45['target']\n",
    "\n",
    "print(X_45.shape)"
   ]
  },
  {
   "cell_type": "code",
   "execution_count": null,
   "id": "7f355af3",
   "metadata": {},
   "outputs": [],
   "source": [
    "del X_train, X_test, y_train, y_test, X_val, y_val,study, optuna_auc"
   ]
  },
  {
   "cell_type": "code",
   "execution_count": null,
   "id": "3c066b76",
   "metadata": {},
   "outputs": [],
   "source": [
    "X_train, X_test, y_train, y_test = train_test_split(X_45, y_45, test_size=0.2, shuffle=True, stratify=y_45, random_state = 0)\n",
    "X_train, X_val, y_train, y_val = train_test_split(X_train, y_train, test_size=0.2, shuffle=True, stratify=y_train, random_state = 0)"
   ]
  },
  {
   "cell_type": "code",
   "execution_count": null,
   "id": "c5f66494",
   "metadata": {},
   "outputs": [],
   "source": [
    "def objective(trial):\n",
    "    params = {\n",
    "        'n_estimators' :trial.suggest_int('n_estimators', 50, 200),\n",
    "        'max_depth' :trial.suggest_int('max_depth', 1, 10),\n",
    "        'min_samples_split' :trial.suggest_int('min_samples_split', 3, 10),\n",
    "        'min_samples_leaf' :trial.suggest_int('min_samples_leaf', 3, 10),\n",
    "        }\n",
    "        \n",
    "    clf = RandomForestClassifier(**params,random_state = 0)\n",
    "    clf.fit(X_train, y_train)\n",
    "    clf_proba = clf.predict_proba(X_val)[:, 1]\n",
    "        \n",
    "    AUC_SCORE = roc_auc_score(y_val, clf_proba)\n",
    "    return AUC_SCORE\n",
    "\n",
    "direction = \"maximize\"\n",
    "sampler = optuna.samplers.TPESampler(seed=10)\n",
    "study =  optuna.create_study(direction=direction, sampler=sampler, pruner=optuna.pruners.HyperbandPruner())\n",
    "early_stopping = EarlyStoppingCallback(10, direction=direction)\n",
    "study.optimize(objective, callbacks=[early_stopping], n_trials=200) "
   ]
  },
  {
   "cell_type": "code",
   "execution_count": null,
   "id": "32bb212c",
   "metadata": {},
   "outputs": [],
   "source": [
    "print(study.best_trial.params)\n",
    "optuna_auc = study.best_trial.value\n",
    "print(optuna_auc)"
   ]
  },
  {
   "cell_type": "code",
   "execution_count": null,
   "id": "6d726838",
   "metadata": {},
   "outputs": [],
   "source": [
    "optuna_45 = RandomForestClassifier(**study.best_trial.params, random_state = 0)\n",
    "optuna_45.fit(X_train, y_train)"
   ]
  },
  {
   "cell_type": "code",
   "execution_count": null,
   "id": "e7b7b312",
   "metadata": {},
   "outputs": [],
   "source": [
    "optuna_proba_45 = optuna_45.predict_proba(X_test)[:, 1]\n",
    "auc_45 = roc_auc_score(y_test, optuna_proba_45)\n",
    "print(decimal.Decimal(auc_45).quantize(decimal.Decimal('1.000')))"
   ]
  },
  {
   "cell_type": "code",
   "execution_count": null,
   "id": "97ce0cae",
   "metadata": {},
   "outputs": [],
   "source": [
    "X_train = X_train.values\n",
    "y_train = y_train.values"
   ]
  },
  {
   "cell_type": "code",
   "execution_count": null,
   "id": "9cf3abeb",
   "metadata": {},
   "outputs": [],
   "source": [
    "auc_bootstrap = []"
   ]
  },
  {
   "cell_type": "code",
   "execution_count": null,
   "id": "9da1bb9c",
   "metadata": {},
   "outputs": [],
   "source": [
    "rs = RandomState(seed = 45)\n",
    "bootstrap_auc(optuna_45, X_train, y_train, X_test, y_test, nsamples=2000)"
   ]
  },
  {
   "cell_type": "code",
   "execution_count": null,
   "id": "56d6f95b",
   "metadata": {},
   "outputs": [],
   "source": [
    "np.mean(auc_bootstrap)"
   ]
  },
  {
   "cell_type": "code",
   "execution_count": null,
   "id": "c6f8454a",
   "metadata": {},
   "outputs": [],
   "source": [
    "t_45 = auc_bootstrap\n",
    "print(t_45)"
   ]
  },
  {
   "cell_type": "code",
   "execution_count": null,
   "id": "47051ebe",
   "metadata": {},
   "outputs": [],
   "source": [
    "column_to_drop_45 = '소득 중 사적이전소득의 비중(월평균)'"
   ]
  },
  {
   "cell_type": "code",
   "execution_count": null,
   "id": "b75ccf15",
   "metadata": {},
   "outputs": [],
   "source": [
    "if not column_to_drop_45.startswith('Cat_'):\n",
    "    comp_46 = comp_45.drop(column_to_drop_45, axis=1)\n",
    "    X_46 = comp_46.drop('target', axis=1)\n",
    "    y_46 = comp_46['target']\n",
    "else:\n",
    "    comp_46 = comp_45.drop(comp_45.filter(regex='^' + column_to_drop_45).columns, axis=1)\n",
    "    X_46 = comp_46.drop('target', axis=1)\n",
    "    y_46 = comp_46['target']\n",
    "\n",
    "print(X_46.shape)"
   ]
  },
  {
   "cell_type": "code",
   "execution_count": null,
   "id": "96264912",
   "metadata": {},
   "outputs": [],
   "source": [
    "del X_train, X_test, y_train, y_test, X_val, y_val,study, optuna_auc"
   ]
  },
  {
   "cell_type": "code",
   "execution_count": null,
   "id": "e7f32ad1",
   "metadata": {},
   "outputs": [],
   "source": [
    "X_train, X_test, y_train, y_test = train_test_split(X_46, y_46, test_size=0.2, shuffle=True, stratify=y_46, random_state = 0)\n",
    "X_train, X_val, y_train, y_val = train_test_split(X_train, y_train, test_size=0.2, shuffle=True, stratify=y_train, random_state = 0)"
   ]
  },
  {
   "cell_type": "code",
   "execution_count": null,
   "id": "e92d4462",
   "metadata": {},
   "outputs": [],
   "source": [
    "def objective(trial):\n",
    "    params = {\n",
    "        'n_estimators' :trial.suggest_int('n_estimators', 50, 200),\n",
    "        'max_depth' :trial.suggest_int('max_depth', 1, 10),\n",
    "        'min_samples_split' :trial.suggest_int('min_samples_split', 3, 10),\n",
    "        'min_samples_leaf' :trial.suggest_int('min_samples_leaf', 3, 10),\n",
    "        }\n",
    "        \n",
    "    clf = RandomForestClassifier(**params,random_state = 0)\n",
    "    clf.fit(X_train, y_train)\n",
    "    clf_proba = clf.predict_proba(X_val)[:, 1]\n",
    "        \n",
    "    AUC_SCORE = roc_auc_score(y_val, clf_proba)\n",
    "    return AUC_SCORE\n",
    "\n",
    "direction = \"maximize\"\n",
    "sampler = optuna.samplers.TPESampler(seed=10)\n",
    "study =  optuna.create_study(direction=direction, sampler=sampler, pruner=optuna.pruners.HyperbandPruner())\n",
    "early_stopping = EarlyStoppingCallback(10, direction=direction)\n",
    "study.optimize(objective, callbacks=[early_stopping], n_trials=200) "
   ]
  },
  {
   "cell_type": "code",
   "execution_count": null,
   "id": "5c063c56",
   "metadata": {},
   "outputs": [],
   "source": [
    "print(study.best_trial.params)\n",
    "optuna_auc = study.best_trial.value\n",
    "print(optuna_auc)"
   ]
  },
  {
   "cell_type": "code",
   "execution_count": null,
   "id": "102e0141",
   "metadata": {},
   "outputs": [],
   "source": [
    "optuna_46 = RandomForestClassifier(**study.best_trial.params, random_state = 0)\n",
    "optuna_46.fit(X_train, y_train)"
   ]
  },
  {
   "cell_type": "code",
   "execution_count": null,
   "id": "3b7e653c",
   "metadata": {},
   "outputs": [],
   "source": [
    "optuna_proba_46 = optuna_46.predict_proba(X_test)[:, 1]\n",
    "auc_46 = roc_auc_score(y_test, optuna_proba_46)\n",
    "print(decimal.Decimal(auc_46).quantize(decimal.Decimal('1.000')))"
   ]
  },
  {
   "cell_type": "code",
   "execution_count": null,
   "id": "99b98d16",
   "metadata": {},
   "outputs": [],
   "source": [
    "X_train = X_train.values\n",
    "y_train = y_train.values"
   ]
  },
  {
   "cell_type": "code",
   "execution_count": null,
   "id": "fca413ee",
   "metadata": {},
   "outputs": [],
   "source": [
    "auc_bootstrap = []"
   ]
  },
  {
   "cell_type": "code",
   "execution_count": null,
   "id": "ffac0682",
   "metadata": {},
   "outputs": [],
   "source": [
    "rs = RandomState(seed = 46)\n",
    "bootstrap_auc(optuna_46, X_train, y_train, X_test, y_test, nsamples=2000)"
   ]
  },
  {
   "cell_type": "code",
   "execution_count": null,
   "id": "eed09a14",
   "metadata": {},
   "outputs": [],
   "source": [
    "np.mean(auc_bootstrap)"
   ]
  },
  {
   "cell_type": "code",
   "execution_count": null,
   "id": "9cccb417",
   "metadata": {},
   "outputs": [],
   "source": [
    "t_46 = auc_bootstrap\n",
    "print(t_46)"
   ]
  },
  {
   "cell_type": "code",
   "execution_count": null,
   "id": "7e9b9aae",
   "metadata": {},
   "outputs": [],
   "source": [
    "column_to_drop_46 = '현재 주택의 면적(㎡)'"
   ]
  },
  {
   "cell_type": "code",
   "execution_count": null,
   "id": "a82392be",
   "metadata": {},
   "outputs": [],
   "source": [
    "if not column_to_drop_46.startswith('Cat_'):\n",
    "    comp_47 = comp_46.drop(column_to_drop_46, axis=1)\n",
    "    X_47 = comp_47.drop('target', axis=1)\n",
    "    y_47 = comp_47['target']\n",
    "else:\n",
    "    comp_47 = comp_46.drop(comp_46.filter(regex='^' + column_to_drop_46).columns, axis=1)\n",
    "    X_47 = comp_47.drop('target', axis=1)\n",
    "    y_47 = comp_47['target']\n",
    "\n",
    "print(X_47.shape)"
   ]
  },
  {
   "cell_type": "code",
   "execution_count": null,
   "id": "60f22ac5",
   "metadata": {},
   "outputs": [],
   "source": [
    "del X_train, X_test, y_train, y_test, X_val, y_val,study, optuna_auc"
   ]
  },
  {
   "cell_type": "code",
   "execution_count": null,
   "id": "4eef5098",
   "metadata": {},
   "outputs": [],
   "source": [
    "X_train, X_test, y_train, y_test = train_test_split(X_47, y_47, test_size=0.2, shuffle=True, stratify=y_47, random_state = 0)\n",
    "X_train, X_val, y_train, y_val = train_test_split(X_train, y_train, test_size=0.2, shuffle=True, stratify=y_train, random_state = 0)"
   ]
  },
  {
   "cell_type": "code",
   "execution_count": null,
   "id": "1b902f1b",
   "metadata": {},
   "outputs": [],
   "source": [
    "def objective(trial):\n",
    "    params = {\n",
    "        'n_estimators' :trial.suggest_int('n_estimators', 50, 200),\n",
    "        'max_depth' :trial.suggest_int('max_depth', 1, 10),\n",
    "        'min_samples_split' :trial.suggest_int('min_samples_split', 3, 10),\n",
    "        'min_samples_leaf' :trial.suggest_int('min_samples_leaf', 3, 10),\n",
    "        }\n",
    "        \n",
    "    clf = RandomForestClassifier(**params,random_state = 0)\n",
    "    clf.fit(X_train, y_train)\n",
    "    clf_proba = clf.predict_proba(X_val)[:, 1]\n",
    "        \n",
    "    AUC_SCORE = roc_auc_score(y_val, clf_proba)\n",
    "    return AUC_SCORE\n",
    "\n",
    "direction = \"maximize\"\n",
    "sampler = optuna.samplers.TPESampler(seed=10)\n",
    "study =  optuna.create_study(direction=direction, sampler=sampler, pruner=optuna.pruners.HyperbandPruner())\n",
    "early_stopping = EarlyStoppingCallback(10, direction=direction)\n",
    "study.optimize(objective, callbacks=[early_stopping], n_trials=200) "
   ]
  },
  {
   "cell_type": "code",
   "execution_count": null,
   "id": "7f60a860",
   "metadata": {},
   "outputs": [],
   "source": [
    "print(study.best_trial.params)\n",
    "optuna_auc = study.best_trial.value\n",
    "print(optuna_auc)"
   ]
  },
  {
   "cell_type": "code",
   "execution_count": null,
   "id": "a98ee98b",
   "metadata": {},
   "outputs": [],
   "source": [
    "optuna_47 = RandomForestClassifier(**study.best_trial.params, random_state = 0)\n",
    "optuna_47.fit(X_train, y_train)"
   ]
  },
  {
   "cell_type": "code",
   "execution_count": null,
   "id": "22e6eade",
   "metadata": {},
   "outputs": [],
   "source": [
    "optuna_proba_47 = optuna_47.predict_proba(X_test)[:, 1]\n",
    "auc_47 = roc_auc_score(y_test, optuna_proba_47)\n",
    "print(decimal.Decimal(auc_47).quantize(decimal.Decimal('1.000')))"
   ]
  },
  {
   "cell_type": "code",
   "execution_count": null,
   "id": "bd6c44de",
   "metadata": {},
   "outputs": [],
   "source": [
    "X_train = X_train.values\n",
    "y_train = y_train.values"
   ]
  },
  {
   "cell_type": "code",
   "execution_count": null,
   "id": "67ee146b",
   "metadata": {},
   "outputs": [],
   "source": [
    "auc_bootstrap = []"
   ]
  },
  {
   "cell_type": "code",
   "execution_count": null,
   "id": "72d61dfd",
   "metadata": {},
   "outputs": [],
   "source": [
    "rs = RandomState(seed = 47)\n",
    "bootstrap_auc(optuna_47, X_train, y_train, X_test, y_test, nsamples=2000)"
   ]
  },
  {
   "cell_type": "code",
   "execution_count": null,
   "id": "dc6bb1c4",
   "metadata": {},
   "outputs": [],
   "source": [
    "np.mean(auc_bootstrap)"
   ]
  },
  {
   "cell_type": "code",
   "execution_count": null,
   "id": "00cfff23",
   "metadata": {},
   "outputs": [],
   "source": [
    "t_47 = auc_bootstrap\n",
    "print(t_47)"
   ]
  },
  {
   "cell_type": "code",
   "execution_count": null,
   "id": "f00ff296",
   "metadata": {},
   "outputs": [],
   "source": [
    "column_to_drop_47 = '총 이사 횟수'"
   ]
  },
  {
   "cell_type": "code",
   "execution_count": null,
   "id": "9596507a",
   "metadata": {},
   "outputs": [],
   "source": [
    "if not column_to_drop_47.startswith('Cat_'):\n",
    "    comp_48 = comp_47.drop(column_to_drop_47, axis=1)\n",
    "    X_48 = comp_48.drop('target', axis=1)\n",
    "    y_48 = comp_48['target']\n",
    "else:\n",
    "    comp_48 = comp_47.drop(comp_47.filter(regex='^' + column_to_drop_47).columns, axis=1)\n",
    "    X_48 = comp_48.drop('target', axis=1)\n",
    "    y_48 = comp_48['target']\n",
    "\n",
    "print(X_48.shape)"
   ]
  },
  {
   "cell_type": "code",
   "execution_count": null,
   "id": "3f64fbfb",
   "metadata": {},
   "outputs": [],
   "source": [
    "del X_train, X_test, y_train, y_test, X_val, y_val,study, optuna_auc"
   ]
  },
  {
   "cell_type": "code",
   "execution_count": null,
   "id": "289b7a72",
   "metadata": {},
   "outputs": [],
   "source": [
    "X_train, X_test, y_train, y_test = train_test_split(X_48, y_48, test_size=0.2, shuffle=True, stratify=y_48, random_state = 0)\n",
    "X_train, X_val, y_train, y_val = train_test_split(X_train, y_train, test_size=0.2, shuffle=True, stratify=y_train, random_state = 0)"
   ]
  },
  {
   "cell_type": "code",
   "execution_count": null,
   "id": "36f20473",
   "metadata": {},
   "outputs": [],
   "source": [
    "def objective(trial):\n",
    "    params = {\n",
    "        'n_estimators' :trial.suggest_int('n_estimators', 50, 200),\n",
    "        'max_depth' :trial.suggest_int('max_depth', 1, 10),\n",
    "        'min_samples_split' :trial.suggest_int('min_samples_split', 3, 10),\n",
    "        'min_samples_leaf' :trial.suggest_int('min_samples_leaf', 3, 10),\n",
    "        }\n",
    "        \n",
    "    clf = RandomForestClassifier(**params,random_state = 0)\n",
    "    clf.fit(X_train, y_train)\n",
    "    clf_proba = clf.predict_proba(X_val)[:, 1]\n",
    "        \n",
    "    AUC_SCORE = roc_auc_score(y_val, clf_proba)\n",
    "    return AUC_SCORE\n",
    "\n",
    "direction = \"maximize\"\n",
    "sampler = optuna.samplers.TPESampler(seed=10)\n",
    "study =  optuna.create_study(direction=direction, sampler=sampler, pruner=optuna.pruners.HyperbandPruner())\n",
    "early_stopping = EarlyStoppingCallback(10, direction=direction)\n",
    "study.optimize(objective, callbacks=[early_stopping], n_trials=200) "
   ]
  },
  {
   "cell_type": "code",
   "execution_count": null,
   "id": "d4c90679",
   "metadata": {},
   "outputs": [],
   "source": [
    "print(study.best_trial.params)\n",
    "optuna_auc = study.best_trial.value\n",
    "print(optuna_auc)"
   ]
  },
  {
   "cell_type": "code",
   "execution_count": null,
   "id": "dee58a5f",
   "metadata": {},
   "outputs": [],
   "source": [
    "optuna_48 = RandomForestClassifier(**study.best_trial.params, random_state = 0)\n",
    "optuna_48.fit(X_train, y_train)"
   ]
  },
  {
   "cell_type": "code",
   "execution_count": null,
   "id": "93ebdbff",
   "metadata": {},
   "outputs": [],
   "source": [
    "optuna_proba_48 = optuna_48.predict_proba(X_test)[:, 1]\n",
    "auc_48 = roc_auc_score(y_test, optuna_proba_48)\n",
    "print(decimal.Decimal(auc_48).quantize(decimal.Decimal('1.000')))"
   ]
  },
  {
   "cell_type": "code",
   "execution_count": null,
   "id": "49a53542",
   "metadata": {},
   "outputs": [],
   "source": [
    "X_train = X_train.values\n",
    "y_train = y_train.values"
   ]
  },
  {
   "cell_type": "code",
   "execution_count": null,
   "id": "d9a7eba8",
   "metadata": {},
   "outputs": [],
   "source": [
    "auc_bootstrap = []"
   ]
  },
  {
   "cell_type": "code",
   "execution_count": null,
   "id": "b3b4997b",
   "metadata": {},
   "outputs": [],
   "source": [
    "rs = RandomState(seed = 48)\n",
    "bootstrap_auc(optuna_48, X_train, y_train, X_test, y_test, nsamples=2000)"
   ]
  },
  {
   "cell_type": "code",
   "execution_count": null,
   "id": "1b7d024b",
   "metadata": {},
   "outputs": [],
   "source": [
    "np.mean(auc_bootstrap)"
   ]
  },
  {
   "cell_type": "code",
   "execution_count": null,
   "id": "966afa15",
   "metadata": {},
   "outputs": [],
   "source": [
    "t_48 = auc_bootstrap\n",
    "print(t_48)"
   ]
  },
  {
   "cell_type": "code",
   "execution_count": null,
   "id": "67e8c054",
   "metadata": {},
   "outputs": [],
   "source": [
    "column_to_drop_48 = 'Cat_기초생활보장 수급가구 여부'"
   ]
  },
  {
   "cell_type": "code",
   "execution_count": null,
   "id": "3f57abbb",
   "metadata": {},
   "outputs": [],
   "source": [
    "if not column_to_drop_48.startswith('Cat_'):\n",
    "    comp_49 = comp_48.drop(column_to_drop_48, axis=1)\n",
    "    X_49 = comp_49.drop('target', axis=1)\n",
    "    y_49 = comp_49['target']\n",
    "else:\n",
    "    comp_49 = comp_48.drop(comp_48.filter(regex='^' + column_to_drop_48).columns, axis=1)\n",
    "    X_49 = comp_49.drop('target', axis=1)\n",
    "    y_49 = comp_49['target']\n",
    "\n",
    "print(X_49.shape)"
   ]
  },
  {
   "cell_type": "code",
   "execution_count": null,
   "id": "f46d8c72",
   "metadata": {},
   "outputs": [],
   "source": [
    "del X_train, X_test, y_train, y_test, X_val, y_val,study, optuna_auc"
   ]
  },
  {
   "cell_type": "code",
   "execution_count": null,
   "id": "a47731bf",
   "metadata": {},
   "outputs": [],
   "source": [
    "X_train, X_test, y_train, y_test = train_test_split(X_49, y_49, test_size=0.2, shuffle=True, stratify=y_49, random_state = 0)\n",
    "X_train, X_val, y_train, y_val = train_test_split(X_train, y_train, test_size=0.2, shuffle=True, stratify=y_train, random_state = 0)"
   ]
  },
  {
   "cell_type": "code",
   "execution_count": null,
   "id": "2eace9ed",
   "metadata": {},
   "outputs": [],
   "source": [
    "def objective(trial):\n",
    "    params = {\n",
    "        'n_estimators' :trial.suggest_int('n_estimators', 50, 200),\n",
    "        'max_depth' :trial.suggest_int('max_depth', 1, 10),\n",
    "        'min_samples_split' :trial.suggest_int('min_samples_split', 3, 10),\n",
    "        'min_samples_leaf' :trial.suggest_int('min_samples_leaf', 3, 10),\n",
    "        }\n",
    "        \n",
    "    clf = RandomForestClassifier(**params,random_state = 0)\n",
    "    clf.fit(X_train, y_train)\n",
    "    clf_proba = clf.predict_proba(X_val)[:, 1]\n",
    "        \n",
    "    AUC_SCORE = roc_auc_score(y_val, clf_proba)\n",
    "    return AUC_SCORE\n",
    "\n",
    "direction = \"maximize\"\n",
    "sampler = optuna.samplers.TPESampler(seed=10)\n",
    "study =  optuna.create_study(direction=direction, sampler=sampler, pruner=optuna.pruners.HyperbandPruner())\n",
    "early_stopping = EarlyStoppingCallback(10, direction=direction)\n",
    "study.optimize(objective, callbacks=[early_stopping], n_trials=200) "
   ]
  },
  {
   "cell_type": "code",
   "execution_count": null,
   "id": "e10ecfb5",
   "metadata": {},
   "outputs": [],
   "source": [
    "print(study.best_trial.params)\n",
    "optuna_auc = study.best_trial.value\n",
    "print(optuna_auc)"
   ]
  },
  {
   "cell_type": "code",
   "execution_count": null,
   "id": "2452280a",
   "metadata": {},
   "outputs": [],
   "source": [
    "optuna_49 = RandomForestClassifier(**study.best_trial.params, random_state = 0)\n",
    "optuna_49.fit(X_train, y_train)"
   ]
  },
  {
   "cell_type": "code",
   "execution_count": null,
   "id": "974bb85f",
   "metadata": {},
   "outputs": [],
   "source": [
    "optuna_proba_49 = optuna_49.predict_proba(X_test)[:, 1]\n",
    "auc_49 = roc_auc_score(y_test, optuna_proba_49)\n",
    "print(decimal.Decimal(auc_49).quantize(decimal.Decimal('1.000')))"
   ]
  },
  {
   "cell_type": "code",
   "execution_count": null,
   "id": "5733c3ae",
   "metadata": {},
   "outputs": [],
   "source": [
    "X_train = X_train.values\n",
    "y_train = y_train.values"
   ]
  },
  {
   "cell_type": "code",
   "execution_count": null,
   "id": "8a7509f0",
   "metadata": {},
   "outputs": [],
   "source": [
    "auc_bootstrap = []"
   ]
  },
  {
   "cell_type": "code",
   "execution_count": null,
   "id": "6c8cfda9",
   "metadata": {},
   "outputs": [],
   "source": [
    "rs = RandomState(seed = 49)\n",
    "bootstrap_auc(optuna_49, X_train, y_train, X_test, y_test, nsamples=2000)"
   ]
  },
  {
   "cell_type": "code",
   "execution_count": null,
   "id": "c8a72a44",
   "metadata": {},
   "outputs": [],
   "source": [
    "np.mean(auc_bootstrap)"
   ]
  },
  {
   "cell_type": "code",
   "execution_count": null,
   "id": "89940f67",
   "metadata": {},
   "outputs": [],
   "source": [
    "t_49 = auc_bootstrap\n",
    "print(t_49)"
   ]
  },
  {
   "cell_type": "code",
   "execution_count": null,
   "id": "ddbc1c71",
   "metadata": {},
   "outputs": [],
   "source": [
    "column_to_drop_49 = '가구주 나이' "
   ]
  },
  {
   "cell_type": "code",
   "execution_count": null,
   "id": "2a1367bc",
   "metadata": {},
   "outputs": [],
   "source": [
    "if not column_to_drop_49.startswith('Cat_'):\n",
    "    comp_50 = comp_49.drop(column_to_drop_49, axis=1)\n",
    "    X_50 = comp_50.drop('target', axis=1)\n",
    "    y_50 = comp_50['target']\n",
    "else:\n",
    "    comp_50 = comp_49.drop(comp_49.filter(regex='^' + column_to_drop_49).columns, axis=1)\n",
    "    X_50 = comp_50.drop('target', axis=1)\n",
    "    y_50 = comp_50['target']\n",
    "\n",
    "print(X_50.shape)"
   ]
  },
  {
   "cell_type": "code",
   "execution_count": null,
   "id": "63cf8b5a",
   "metadata": {},
   "outputs": [],
   "source": [
    "del X_train, X_test, y_train, y_test, X_val, y_val,study, optuna_auc, comp_49, X_49, y_49"
   ]
  },
  {
   "cell_type": "code",
   "execution_count": null,
   "id": "696a33ee",
   "metadata": {},
   "outputs": [],
   "source": [
    "X_train, X_test, y_train, y_test = train_test_split(X_50, y_50, test_size=0.2, shuffle=True, stratify=y_50, random_state = 0)\n",
    "X_train, X_val, y_train, y_val = train_test_split(X_train, y_train, test_size=0.2, shuffle=True, stratify=y_train, random_state = 0)"
   ]
  },
  {
   "cell_type": "code",
   "execution_count": null,
   "id": "6d579212",
   "metadata": {},
   "outputs": [],
   "source": [
    "def objective(trial):\n",
    "    params = {\n",
    "        'n_estimators' :trial.suggest_int('n_estimators', 50, 200),\n",
    "        'max_depth' :trial.suggest_int('max_depth', 1, 10),\n",
    "        'min_samples_split' :trial.suggest_int('min_samples_split', 3, 10),\n",
    "        'min_samples_leaf' :trial.suggest_int('min_samples_leaf', 3, 10),\n",
    "        }\n",
    "        \n",
    "    clf = RandomForestClassifier(**params,random_state = 0)\n",
    "    clf.fit(X_train, y_train)\n",
    "    clf_proba = clf.predict_proba(X_val)[:, 1]\n",
    "        \n",
    "    AUC_SCORE = roc_auc_score(y_val, clf_proba)\n",
    "    return AUC_SCORE\n",
    "\n",
    "direction = \"maximize\"\n",
    "sampler = optuna.samplers.TPESampler(seed=10)\n",
    "study =  optuna.create_study(direction=direction, sampler=sampler, pruner=optuna.pruners.HyperbandPruner())\n",
    "early_stopping = EarlyStoppingCallback(10, direction=direction)\n",
    "study.optimize(objective, callbacks=[early_stopping], n_trials=200) "
   ]
  },
  {
   "cell_type": "code",
   "execution_count": null,
   "id": "fc87fa0a",
   "metadata": {},
   "outputs": [],
   "source": [
    "print(study.best_trial.params)\n",
    "optuna_auc = study.best_trial.value\n",
    "print(optuna_auc)"
   ]
  },
  {
   "cell_type": "code",
   "execution_count": null,
   "id": "c273c45a",
   "metadata": {},
   "outputs": [],
   "source": [
    "optuna_50 = RandomForestClassifier(**study.best_trial.params, random_state = 0)\n",
    "optuna_50.fit(X_train, y_train)"
   ]
  },
  {
   "cell_type": "code",
   "execution_count": null,
   "id": "ba695cde",
   "metadata": {},
   "outputs": [],
   "source": [
    "optuna_proba_50 = optuna_50.predict_proba(X_test)[:, 1]\n",
    "auc_50 = roc_auc_score(y_test, optuna_proba_50)\n",
    "print(decimal.Decimal(auc_50).quantize(decimal.Decimal('1.000')))"
   ]
  },
  {
   "cell_type": "code",
   "execution_count": null,
   "id": "583ee516",
   "metadata": {},
   "outputs": [],
   "source": [
    "X_train = X_train.values\n",
    "y_train = y_train.values"
   ]
  },
  {
   "cell_type": "code",
   "execution_count": null,
   "id": "243675fc",
   "metadata": {},
   "outputs": [],
   "source": [
    "auc_bootstrap = []"
   ]
  },
  {
   "cell_type": "code",
   "execution_count": null,
   "id": "c3df2811",
   "metadata": {},
   "outputs": [],
   "source": [
    "rs = RandomState(seed = 50)\n",
    "bootstrap_auc(optuna_50, X_train, y_train, X_test, y_test, nsamples=2000)"
   ]
  },
  {
   "cell_type": "code",
   "execution_count": null,
   "id": "0e997218",
   "metadata": {},
   "outputs": [],
   "source": [
    "np.mean(auc_bootstrap)"
   ]
  },
  {
   "cell_type": "code",
   "execution_count": null,
   "id": "20a32309",
   "metadata": {},
   "outputs": [],
   "source": [
    "t_50 = auc_bootstrap\n",
    "print(t_50)"
   ]
  },
  {
   "cell_type": "code",
   "execution_count": null,
   "id": "a9cbdcfa",
   "metadata": {},
   "outputs": [],
   "source": [
    "del X_train, X_test, y_train, y_test, X_val, y_val,study, optuna_auc"
   ]
  },
  {
   "cell_type": "code",
   "execution_count": null,
   "id": "7e81b63b",
   "metadata": {},
   "outputs": [],
   "source": [
    "column_to_drop_50 = 'Cat_현재 주택의 유형'"
   ]
  },
  {
   "cell_type": "code",
   "execution_count": null,
   "id": "5b7b4110",
   "metadata": {},
   "outputs": [],
   "source": [
    "if not column_to_drop_50.startswith('Cat_'):\n",
    "    comp_51 = comp_50.drop(column_to_drop_50, axis=1)\n",
    "    X_51 = comp_51.drop('target', axis=1)\n",
    "    y_51 = comp_51['target']\n",
    "else:\n",
    "    comp_51 = comp_50.drop(comp_50.filter(regex='^' + column_to_drop_50).columns, axis=1)\n",
    "    X_51 = comp_51.drop('target', axis=1)\n",
    "    y_51 = comp_51['target']\n",
    "\n",
    "print(X_51.shape)"
   ]
  },
  {
   "cell_type": "code",
   "execution_count": null,
   "id": "dd3f7763",
   "metadata": {},
   "outputs": [],
   "source": [
    "X_train, X_test, y_train, y_test = train_test_split(X_51, y_51, test_size=0.2, shuffle=True, stratify=y_51, random_state = 0)\n",
    "X_train, X_val, y_train, y_val = train_test_split(X_train, y_train, test_size=0.2, shuffle=True, stratify=y_train, random_state = 0)"
   ]
  },
  {
   "cell_type": "code",
   "execution_count": null,
   "id": "4a939032",
   "metadata": {},
   "outputs": [],
   "source": [
    "def objective(trial):\n",
    "    params = {\n",
    "        'n_estimators' :trial.suggest_int('n_estimators', 50, 200),\n",
    "        'max_depth' :trial.suggest_int('max_depth', 1, 10),\n",
    "        'min_samples_split' :trial.suggest_int('min_samples_split', 3, 10),\n",
    "        'min_samples_leaf' :trial.suggest_int('min_samples_leaf', 3, 10),\n",
    "        }\n",
    "        \n",
    "    clf = RandomForestClassifier(**params,random_state = 0)\n",
    "    clf.fit(X_train, y_train)\n",
    "    clf_proba = clf.predict_proba(X_val)[:, 1]\n",
    "        \n",
    "    AUC_SCORE = roc_auc_score(y_val, clf_proba)\n",
    "    return AUC_SCORE\n",
    "\n",
    "direction = \"maximize\"\n",
    "sampler = optuna.samplers.TPESampler(seed=10)\n",
    "study =  optuna.create_study(direction=direction, sampler=sampler, pruner=optuna.pruners.HyperbandPruner())\n",
    "early_stopping = EarlyStoppingCallback(10, direction=direction)\n",
    "study.optimize(objective, callbacks=[early_stopping], n_trials=200) "
   ]
  },
  {
   "cell_type": "code",
   "execution_count": null,
   "id": "e97f3bbe",
   "metadata": {},
   "outputs": [],
   "source": [
    "print(study.best_trial.params)\n",
    "optuna_auc = study.best_trial.value\n",
    "print(optuna_auc)"
   ]
  },
  {
   "cell_type": "code",
   "execution_count": null,
   "id": "6b40e1c0",
   "metadata": {},
   "outputs": [],
   "source": [
    "optuna_51 = RandomForestClassifier(**study.best_trial.params, random_state = 0)\n",
    "optuna_51.fit(X_train, y_train)"
   ]
  },
  {
   "cell_type": "code",
   "execution_count": null,
   "id": "7d3c989c",
   "metadata": {},
   "outputs": [],
   "source": [
    "optuna_proba_51 = optuna_51.predict_proba(X_test)[:, 1]\n",
    "auc_51 = roc_auc_score(y_test, optuna_proba_51)\n",
    "print(decimal.Decimal(auc_51).quantize(decimal.Decimal('1.000')))"
   ]
  },
  {
   "cell_type": "code",
   "execution_count": null,
   "id": "014f8f8d",
   "metadata": {},
   "outputs": [],
   "source": [
    "X_train = X_train.values\n",
    "y_train = y_train.values"
   ]
  },
  {
   "cell_type": "code",
   "execution_count": null,
   "id": "c2b5bed5",
   "metadata": {},
   "outputs": [],
   "source": [
    "auc_bootstrap = []"
   ]
  },
  {
   "cell_type": "code",
   "execution_count": null,
   "id": "8cc3e2ab",
   "metadata": {},
   "outputs": [],
   "source": [
    "rs = RandomState(seed = 51)\n",
    "bootstrap_auc(optuna_51, X_train, y_train, X_test, y_test, nsamples=2000)"
   ]
  },
  {
   "cell_type": "code",
   "execution_count": null,
   "id": "5692bac2",
   "metadata": {},
   "outputs": [],
   "source": [
    "np.mean(auc_bootstrap)"
   ]
  },
  {
   "cell_type": "code",
   "execution_count": null,
   "id": "fca6d448",
   "metadata": {},
   "outputs": [],
   "source": [
    "t_51 = auc_bootstrap\n",
    "print(t_51)"
   ]
  },
  {
   "cell_type": "code",
   "execution_count": null,
   "id": "466da101",
   "metadata": {},
   "outputs": [],
   "source": [
    "del X_train, X_test, y_train, y_test, X_val, y_val,study, optuna_auc"
   ]
  },
  {
   "cell_type": "code",
   "execution_count": null,
   "id": "cc152919",
   "metadata": {},
   "outputs": [],
   "source": [
    "column_to_drop_51 = 'Cat_이사 계획 중인 주택의 점유형태' "
   ]
  },
  {
   "cell_type": "code",
   "execution_count": null,
   "id": "cf94e8b4",
   "metadata": {},
   "outputs": [],
   "source": [
    "if not column_to_drop_51.startswith('Cat_'):\n",
    "    comp_52 = comp_51.drop(column_to_drop_51, axis=1)\n",
    "    X_52 = comp_52.drop('target', axis=1)\n",
    "    y_52 = comp_52['target']\n",
    "else:\n",
    "    comp_52 = comp_51.drop(comp_51.filter(regex='^' + column_to_drop_51).columns, axis=1)\n",
    "    X_52 = comp_52.drop('target', axis=1)\n",
    "    y_52 = comp_52['target']\n",
    "\n",
    "print(X_52.shape)"
   ]
  },
  {
   "cell_type": "code",
   "execution_count": null,
   "id": "b1655321",
   "metadata": {},
   "outputs": [],
   "source": [
    "X_train, X_test, y_train, y_test = train_test_split(X_52, y_52, test_size=0.2, shuffle=True, stratify=y_52, random_state = 0)\n",
    "X_train, X_val, y_train, y_val = train_test_split(X_train, y_train, test_size=0.2, shuffle=True, stratify=y_train, random_state = 0)"
   ]
  },
  {
   "cell_type": "code",
   "execution_count": null,
   "id": "c3c92462",
   "metadata": {},
   "outputs": [],
   "source": [
    "def objective(trial):\n",
    "    params = {\n",
    "        'n_estimators' :trial.suggest_int('n_estimators', 50, 200),\n",
    "        'max_depth' :trial.suggest_int('max_depth', 1, 10),\n",
    "        'min_samples_split' :trial.suggest_int('min_samples_split', 3, 10),\n",
    "        'min_samples_leaf' :trial.suggest_int('min_samples_leaf', 3, 10),\n",
    "        }\n",
    "        \n",
    "    clf = RandomForestClassifier(**params,random_state = 0)\n",
    "    clf.fit(X_train, y_train)\n",
    "    clf_proba = clf.predict_proba(X_val)[:, 1]\n",
    "        \n",
    "    AUC_SCORE = roc_auc_score(y_val, clf_proba)\n",
    "    return AUC_SCORE\n",
    "\n",
    "direction = \"maximize\"\n",
    "sampler = optuna.samplers.TPESampler(seed=10)\n",
    "study =  optuna.create_study(direction=direction, sampler=sampler, pruner=optuna.pruners.HyperbandPruner())\n",
    "early_stopping = EarlyStoppingCallback(10, direction=direction)\n",
    "study.optimize(objective, callbacks=[early_stopping], n_trials=200) "
   ]
  },
  {
   "cell_type": "code",
   "execution_count": null,
   "id": "15eeed98",
   "metadata": {},
   "outputs": [],
   "source": [
    "print(study.best_trial.params)\n",
    "optuna_auc = study.best_trial.value\n",
    "print(optuna_auc)"
   ]
  },
  {
   "cell_type": "code",
   "execution_count": null,
   "id": "93c3fa7b",
   "metadata": {},
   "outputs": [],
   "source": [
    "optuna_52 = RandomForestClassifier(**study.best_trial.params, random_state = 0)\n",
    "optuna_52.fit(X_train, y_train)"
   ]
  },
  {
   "cell_type": "code",
   "execution_count": null,
   "id": "85b77ffa",
   "metadata": {},
   "outputs": [],
   "source": [
    "optuna_proba_52 = optuna_52.predict_proba(X_test)[:, 1]\n",
    "auc_52 = roc_auc_score(y_test, optuna_proba_52)\n",
    "print(decimal.Decimal(auc_52).quantize(decimal.Decimal('1.000')))"
   ]
  },
  {
   "cell_type": "code",
   "execution_count": null,
   "id": "3f50f149",
   "metadata": {},
   "outputs": [],
   "source": [
    "X_train = X_train.values\n",
    "y_train = y_train.values"
   ]
  },
  {
   "cell_type": "code",
   "execution_count": null,
   "id": "879f2a01",
   "metadata": {},
   "outputs": [],
   "source": [
    "auc_bootstrap = []"
   ]
  },
  {
   "cell_type": "code",
   "execution_count": null,
   "id": "6a530077",
   "metadata": {},
   "outputs": [],
   "source": [
    "rs = RandomState(seed = 52)\n",
    "bootstrap_auc(optuna_52, X_train, y_train, X_test, y_test, nsamples=2000)"
   ]
  },
  {
   "cell_type": "code",
   "execution_count": null,
   "id": "746add10",
   "metadata": {},
   "outputs": [],
   "source": [
    "np.mean(auc_bootstrap)"
   ]
  },
  {
   "cell_type": "code",
   "execution_count": null,
   "id": "4348a286",
   "metadata": {},
   "outputs": [],
   "source": [
    "t_52 = auc_bootstrap\n",
    "print(t_52)"
   ]
  },
  {
   "cell_type": "code",
   "execution_count": null,
   "id": "efba778d",
   "metadata": {},
   "outputs": [],
   "source": [
    "del X_train, X_test, y_train, y_test, X_val, y_val,study, optuna_auc"
   ]
  },
  {
   "cell_type": "code",
   "execution_count": null,
   "id": "d2959d21",
   "metadata": {},
   "outputs": [],
   "source": [
    "column_to_drop_52 = '소득 대비 주택 임대료의 비율'"
   ]
  },
  {
   "cell_type": "code",
   "execution_count": null,
   "id": "e398a5c5",
   "metadata": {},
   "outputs": [],
   "source": [
    "if not column_to_drop_52.startswith('Cat_'):\n",
    "    comp_53 = comp_52.drop(column_to_drop_52, axis=1)\n",
    "    X_53 = comp_53.drop('target', axis=1)\n",
    "    y_53 = comp_53['target']\n",
    "else:\n",
    "    comp_53 = comp_52.drop(comp_52.filter(regex='^' + column_to_drop_52).columns, axis=1)\n",
    "    X_53 = comp_53.drop('target', axis=1)\n",
    "    y_53 = comp_53['target']\n",
    "\n",
    "print(X_53.shape)"
   ]
  },
  {
   "cell_type": "code",
   "execution_count": null,
   "id": "6b85b480",
   "metadata": {},
   "outputs": [],
   "source": [
    "X_train, X_test, y_train, y_test = train_test_split(X_53, y_53, test_size=0.2, shuffle=True, stratify=y_53, random_state = 0)\n",
    "X_train, X_val, y_train, y_val = train_test_split(X_train, y_train, test_size=0.2, shuffle=True, stratify=y_train, random_state = 0)"
   ]
  },
  {
   "cell_type": "code",
   "execution_count": null,
   "id": "f0dc3bc2",
   "metadata": {},
   "outputs": [],
   "source": [
    "def objective(trial):\n",
    "    params = {\n",
    "        'n_estimators' :trial.suggest_int('n_estimators', 50, 200),\n",
    "        'max_depth' :trial.suggest_int('max_depth', 1, 10),\n",
    "        'min_samples_split' :trial.suggest_int('min_samples_split', 3, 10),\n",
    "        'min_samples_leaf' :trial.suggest_int('min_samples_leaf', 3, 10),\n",
    "        }\n",
    "        \n",
    "    clf = RandomForestClassifier(**params,random_state = 0)\n",
    "    clf.fit(X_train, y_train)\n",
    "    clf_proba = clf.predict_proba(X_val)[:, 1]\n",
    "        \n",
    "    AUC_SCORE = roc_auc_score(y_val, clf_proba)\n",
    "    return AUC_SCORE\n",
    "\n",
    "direction = \"maximize\"\n",
    "sampler = optuna.samplers.TPESampler(seed=10)\n",
    "study =  optuna.create_study(direction=direction, sampler=sampler, pruner=optuna.pruners.HyperbandPruner())\n",
    "early_stopping = EarlyStoppingCallback(10, direction=direction)\n",
    "study.optimize(objective, callbacks=[early_stopping], n_trials=200) "
   ]
  },
  {
   "cell_type": "code",
   "execution_count": null,
   "id": "bf4388c4",
   "metadata": {},
   "outputs": [],
   "source": [
    "print(study.best_trial.params)\n",
    "optuna_auc = study.best_trial.value\n",
    "print(optuna_auc)"
   ]
  },
  {
   "cell_type": "code",
   "execution_count": null,
   "id": "80238821",
   "metadata": {},
   "outputs": [],
   "source": [
    "optuna_53 = RandomForestClassifier(**study.best_trial.params, random_state = 0)\n",
    "optuna_53.fit(X_train, y_train)"
   ]
  },
  {
   "cell_type": "code",
   "execution_count": null,
   "id": "98133483",
   "metadata": {},
   "outputs": [],
   "source": [
    "optuna_proba_53 = optuna_53.predict_proba(X_test)[:, 1]\n",
    "auc_53 = roc_auc_score(y_test, optuna_proba_53)\n",
    "print(decimal.Decimal(auc_53).quantize(decimal.Decimal('1.000')))"
   ]
  },
  {
   "cell_type": "code",
   "execution_count": null,
   "id": "61c4fea0",
   "metadata": {},
   "outputs": [],
   "source": [
    "X_train = X_train.values\n",
    "y_train = y_train.values"
   ]
  },
  {
   "cell_type": "code",
   "execution_count": null,
   "id": "cb896b8a",
   "metadata": {},
   "outputs": [],
   "source": [
    "auc_bootstrap = []"
   ]
  },
  {
   "cell_type": "code",
   "execution_count": null,
   "id": "8cb7aa7d",
   "metadata": {},
   "outputs": [],
   "source": [
    "rs = RandomState(seed = 53)\n",
    "bootstrap_auc(optuna_53, X_train, y_train, X_test, y_test, nsamples=2000)"
   ]
  },
  {
   "cell_type": "code",
   "execution_count": null,
   "id": "c6bf440f",
   "metadata": {},
   "outputs": [],
   "source": [
    "np.mean(auc_bootstrap)"
   ]
  },
  {
   "cell_type": "code",
   "execution_count": null,
   "id": "d06273dc",
   "metadata": {},
   "outputs": [],
   "source": [
    "t_53 = auc_bootstrap\n",
    "print(t_53)"
   ]
  },
  {
   "cell_type": "code",
   "execution_count": null,
   "id": "38a7dc16",
   "metadata": {},
   "outputs": [],
   "source": [
    "del X_train, X_test, y_train, y_test, X_val, y_val,study, optuna_auc"
   ]
  },
  {
   "cell_type": "code",
   "execution_count": null,
   "id": "8f076cf1",
   "metadata": {},
   "outputs": [],
   "source": [
    "column_to_drop_53 = 'Cat_이사 계획 중인 거주 지역'"
   ]
  },
  {
   "cell_type": "code",
   "execution_count": null,
   "id": "16f1770e",
   "metadata": {},
   "outputs": [],
   "source": [
    "if not column_to_drop_53.startswith('Cat_'):\n",
    "    comp_54 = comp_53.drop(column_to_drop_53, axis=1)\n",
    "    X_54 = comp_54.drop('target', axis=1)\n",
    "    y_54 = comp_54['target']\n",
    "else:\n",
    "    comp_54 = comp_53.drop(comp_53.filter(regex='^' + column_to_drop_53).columns, axis=1)\n",
    "    X_54 = comp_54.drop('target', axis=1)\n",
    "    y_54 = comp_54['target']\n",
    "\n",
    "print(X_54.shape)"
   ]
  },
  {
   "cell_type": "code",
   "execution_count": null,
   "id": "c6413341",
   "metadata": {},
   "outputs": [],
   "source": [
    "X_train, X_test, y_train, y_test = train_test_split(X_54, y_54, test_size=0.2, shuffle=True, stratify=y_54, random_state = 0)\n",
    "X_train, X_val, y_train, y_val = train_test_split(X_train, y_train, test_size=0.2, shuffle=True, stratify=y_train, random_state = 0)"
   ]
  },
  {
   "cell_type": "code",
   "execution_count": null,
   "id": "d68c574e",
   "metadata": {},
   "outputs": [],
   "source": [
    "def objective(trial):\n",
    "    params = {\n",
    "        'n_estimators' :trial.suggest_int('n_estimators', 50, 200),\n",
    "        'max_depth' :trial.suggest_int('max_depth', 1, 10),\n",
    "        'min_samples_split' :trial.suggest_int('min_samples_split', 3, 10),\n",
    "        'min_samples_leaf' :trial.suggest_int('min_samples_leaf', 3, 10),\n",
    "        }\n",
    "        \n",
    "    clf = RandomForestClassifier(**params,random_state = 0)\n",
    "    clf.fit(X_train, y_train)\n",
    "    clf_proba = clf.predict_proba(X_val)[:, 1]\n",
    "        \n",
    "    AUC_SCORE = roc_auc_score(y_val, clf_proba)\n",
    "    return AUC_SCORE\n",
    "\n",
    "direction = \"maximize\"\n",
    "sampler = optuna.samplers.TPESampler(seed=10)\n",
    "study =  optuna.create_study(direction=direction, sampler=sampler, pruner=optuna.pruners.HyperbandPruner())\n",
    "early_stopping = EarlyStoppingCallback(10, direction=direction)\n",
    "study.optimize(objective, callbacks=[early_stopping], n_trials=200) "
   ]
  },
  {
   "cell_type": "code",
   "execution_count": null,
   "id": "3b52e0eb",
   "metadata": {},
   "outputs": [],
   "source": [
    "print(study.best_trial.params)\n",
    "optuna_auc = study.best_trial.value\n",
    "print(optuna_auc)"
   ]
  },
  {
   "cell_type": "code",
   "execution_count": null,
   "id": "7bae8c9f",
   "metadata": {},
   "outputs": [],
   "source": [
    "optuna_54 = RandomForestClassifier(**study.best_trial.params, random_state = 0)\n",
    "optuna_54.fit(X_train, y_train)"
   ]
  },
  {
   "cell_type": "code",
   "execution_count": null,
   "id": "238cae7c",
   "metadata": {},
   "outputs": [],
   "source": [
    "optuna_proba_54 = optuna_54.predict_proba(X_test)[:, 1]\n",
    "auc_54 = roc_auc_score(y_test, optuna_proba_54)\n",
    "print(decimal.Decimal(auc_54).quantize(decimal.Decimal('1.000')))"
   ]
  },
  {
   "cell_type": "code",
   "execution_count": null,
   "id": "21645f2f",
   "metadata": {},
   "outputs": [],
   "source": [
    "X_train = X_train.values\n",
    "y_train = y_train.values"
   ]
  },
  {
   "cell_type": "code",
   "execution_count": null,
   "id": "26ce9b28",
   "metadata": {},
   "outputs": [],
   "source": [
    "auc_bootstrap = []"
   ]
  },
  {
   "cell_type": "code",
   "execution_count": null,
   "id": "d9884cbd",
   "metadata": {},
   "outputs": [],
   "source": [
    "rs = RandomState(seed = 54)\n",
    "bootstrap_auc(optuna_54, X_train, y_train, X_test, y_test, nsamples=2000)"
   ]
  },
  {
   "cell_type": "code",
   "execution_count": null,
   "id": "0ace226c",
   "metadata": {},
   "outputs": [],
   "source": [
    "np.mean(auc_bootstrap)"
   ]
  },
  {
   "cell_type": "code",
   "execution_count": null,
   "id": "afda68f0",
   "metadata": {},
   "outputs": [],
   "source": [
    "t_54 = auc_bootstrap\n",
    "print(t_54)"
   ]
  },
  {
   "cell_type": "code",
   "execution_count": null,
   "id": "8740b954",
   "metadata": {},
   "outputs": [],
   "source": [
    "del X_train, X_test, y_train, y_test, X_val, y_val,study, optuna_auc"
   ]
  },
  {
   "cell_type": "code",
   "execution_count": null,
   "id": "b2ae5699",
   "metadata": {},
   "outputs": [],
   "source": [
    "column_to_drop_54 = 'Cat_현재 주택의 점유형태'"
   ]
  },
  {
   "cell_type": "code",
   "execution_count": null,
   "id": "a2feb668",
   "metadata": {},
   "outputs": [],
   "source": [
    "if not column_to_drop_54.startswith('Cat_'):\n",
    "    comp_55 = comp_54.drop(column_to_drop_54, axis=1)\n",
    "    X_55 = comp_55.drop('target', axis=1)\n",
    "    y_55 = comp_55['target']\n",
    "else:\n",
    "    comp_55 = comp_54.drop(comp_54.filter(regex='^' + column_to_drop_54).columns, axis=1)\n",
    "    X_55 = comp_55.drop('target', axis=1)\n",
    "    y_55 = comp_55['target']\n",
    "\n",
    "print(X_55.shape)"
   ]
  },
  {
   "cell_type": "code",
   "execution_count": null,
   "id": "0f978a9f",
   "metadata": {},
   "outputs": [],
   "source": [
    "X_train, X_test, y_train, y_test = train_test_split(X_55, y_55, test_size=0.2, shuffle=True, stratify=y_55, random_state = 0)\n",
    "X_train, X_val, y_train, y_val = train_test_split(X_train, y_train, test_size=0.2, shuffle=True, stratify=y_train, random_state = 0)"
   ]
  },
  {
   "cell_type": "code",
   "execution_count": null,
   "id": "d675d7aa",
   "metadata": {},
   "outputs": [],
   "source": [
    "def objective(trial):\n",
    "    params = {\n",
    "        'n_estimators' :trial.suggest_int('n_estimators', 50, 200),\n",
    "        'max_depth' :trial.suggest_int('max_depth', 1, 10),\n",
    "        'min_samples_split' :trial.suggest_int('min_samples_split', 3, 10),\n",
    "        'min_samples_leaf' :trial.suggest_int('min_samples_leaf', 3, 10),\n",
    "        }\n",
    "        \n",
    "    clf = RandomForestClassifier(**params,random_state = 0)\n",
    "    clf.fit(X_train, y_train)\n",
    "    clf_proba = clf.predict_proba(X_val)[:, 1]\n",
    "        \n",
    "    AUC_SCORE = roc_auc_score(y_val, clf_proba)\n",
    "    return AUC_SCORE\n",
    "\n",
    "direction = \"maximize\"\n",
    "sampler = optuna.samplers.TPESampler(seed=10)\n",
    "study =  optuna.create_study(direction=direction, sampler=sampler, pruner=optuna.pruners.HyperbandPruner())\n",
    "early_stopping = EarlyStoppingCallback(10, direction=direction)\n",
    "study.optimize(objective, callbacks=[early_stopping], n_trials=200) "
   ]
  },
  {
   "cell_type": "code",
   "execution_count": null,
   "id": "ed5d0a45",
   "metadata": {},
   "outputs": [],
   "source": [
    "print(study.best_trial.params)\n",
    "optuna_auc = study.best_trial.value\n",
    "print(optuna_auc)"
   ]
  },
  {
   "cell_type": "code",
   "execution_count": null,
   "id": "83f19363",
   "metadata": {},
   "outputs": [],
   "source": [
    "optuna_55 = RandomForestClassifier(**study.best_trial.params, random_state = 0)\n",
    "optuna_55.fit(X_train, y_train)"
   ]
  },
  {
   "cell_type": "code",
   "execution_count": null,
   "id": "e77e3dda",
   "metadata": {},
   "outputs": [],
   "source": [
    "optuna_proba_55 = optuna_55.predict_proba(X_test)[:, 1]\n",
    "auc_55 = roc_auc_score(y_test, optuna_proba_55)\n",
    "print(decimal.Decimal(auc_55).quantize(decimal.Decimal('1.000')))"
   ]
  },
  {
   "cell_type": "code",
   "execution_count": null,
   "id": "d0ca7cc7",
   "metadata": {},
   "outputs": [],
   "source": [
    "X_train = X_train.values\n",
    "y_train = y_train.values"
   ]
  },
  {
   "cell_type": "code",
   "execution_count": null,
   "id": "d9ce1a75",
   "metadata": {},
   "outputs": [],
   "source": [
    "auc_bootstrap = []"
   ]
  },
  {
   "cell_type": "code",
   "execution_count": null,
   "id": "88ecf136",
   "metadata": {},
   "outputs": [],
   "source": [
    "rs = RandomState(seed = 55)\n",
    "bootstrap_auc(optuna_55, X_train, y_train, X_test, y_test, nsamples=2000)"
   ]
  },
  {
   "cell_type": "code",
   "execution_count": null,
   "id": "4a611dc1",
   "metadata": {},
   "outputs": [],
   "source": [
    "np.mean(auc_bootstrap)"
   ]
  },
  {
   "cell_type": "code",
   "execution_count": null,
   "id": "290721d1",
   "metadata": {},
   "outputs": [],
   "source": [
    "t_55 = auc_bootstrap\n",
    "print(t_55)"
   ]
  },
  {
   "cell_type": "code",
   "execution_count": null,
   "id": "3cde6872",
   "metadata": {},
   "outputs": [],
   "source": [
    "del X_train, X_test, y_train, y_test, X_val, y_val,study, optuna_auc"
   ]
  }
 ],
 "metadata": {
  "kernelspec": {
   "display_name": "Python 3 (ipykernel)",
   "language": "python",
   "name": "python3"
  },
  "language_info": {
   "codemirror_mode": {
    "name": "ipython",
    "version": 3
   },
   "file_extension": ".py",
   "mimetype": "text/x-python",
   "name": "python",
   "nbconvert_exporter": "python",
   "pygments_lexer": "ipython3",
   "version": "3.11.5"
  }
 },
 "nbformat": 4,
 "nbformat_minor": 5
}
