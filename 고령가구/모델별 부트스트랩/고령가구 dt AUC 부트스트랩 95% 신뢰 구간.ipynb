{
 "cells": [
  {
   "cell_type": "code",
   "execution_count": 1,
   "id": "10cd55a8",
   "metadata": {},
   "outputs": [],
   "source": [
    "import pandas as pd\n",
    "import numpy as np\n",
    "import matplotlib.pyplot as plt\n",
    "import seaborn as sns\n",
    "import warnings\n",
    "warnings.filterwarnings('ignore')\n",
    "sns.set_style('darkgrid')\n",
    "\n",
    "import shap\n",
    "from sklearn.model_selection import train_test_split\n",
    "from sklearn.preprocessing import StandardScaler, MinMaxScaler, RobustScaler,LabelEncoder\n",
    "from sklearn.metrics import classification_report, confusion_matrix,ConfusionMatrixDisplay, accuracy_score, recall_score, precision_score, f1_score, roc_auc_score, precision_recall_curve,auc, roc_curve\n",
    "from sklearn.model_selection import StratifiedKFold, KFold, GridSearchCV\n",
    "from xgboost import XGBClassifier\n",
    "from lightgbm import LGBMClassifier\n",
    "from sklearn.ensemble import RandomForestClassifier\n",
    "from sklearn.ensemble import GradientBoostingClassifier\n",
    "from sklearn.ensemble import ExtraTreesClassifier\n",
    "from sklearn.ensemble import AdaBoostClassifier\n",
    "from sklearn.tree import DecisionTreeClassifier\n",
    "\n",
    "\n",
    "from sklearn.preprocessing import OneHotEncoder\n",
    "import matplotlib\n",
    "import sklearn\n",
    "#from skopt import BayesSearchCV, space\n",
    "import optuna\n",
    "import optuna.study\n",
    "from optuna import Trial\n",
    "from optuna import distributions\n",
    "from optuna import integration\n",
    "from optuna.study import create_study\n",
    "from optuna.samplers import TPESampler\n",
    "from optuna.pruners import HyperbandPruner\n",
    "import joblib\n",
    "plt.rcParams['font.family'] = 'NanumGothic'\n",
    "matplotlib.rcParams['axes.unicode_minus'] = False\n",
    "import operator"
   ]
  },
  {
   "cell_type": "code",
   "execution_count": 2,
   "id": "46b48553",
   "metadata": {},
   "outputs": [],
   "source": [
    "from sklearn.utils import resample\n",
    "from numpy.random import RandomState"
   ]
  },
  {
   "cell_type": "code",
   "execution_count": 3,
   "id": "37cb46d3",
   "metadata": {},
   "outputs": [],
   "source": [
    "def bootstrap_auc(clf, X_train, y_train, X_test, y_test, nsamples=2000):\n",
    "    for b in range(nsamples):\n",
    "        idx = rs.randint(X_train.shape[0], size=X_train.shape[0])\n",
    "        clf.fit(X_train[idx], y_train[idx])\n",
    "        pred = clf.predict_proba(X_test)[:, 1]\n",
    "        roc_auc = roc_auc_score(y_test.ravel(), pred.ravel())\n",
    "        auc_bootstrap.append(roc_auc)\n",
    "    return np.percentile(auc_bootstrap, (2.5, 97.5))"
   ]
  },
  {
   "cell_type": "code",
   "execution_count": 4,
   "id": "596aafd8",
   "metadata": {},
   "outputs": [],
   "source": [
    "import decimal\n",
    "context = decimal.getcontext()\n",
    "\n",
    "context.rounding = decimal.ROUND_HALF_UP"
   ]
  },
  {
   "cell_type": "code",
   "execution_count": 5,
   "id": "f8488cdd",
   "metadata": {},
   "outputs": [],
   "source": [
    "class EarlyStoppingCallback(object):\n",
    "    def __init__(self, early_stopping_rounds: int, direction: str = \"minimize\"):\n",
    "        self.early_stopping_rounds = early_stopping_rounds\n",
    "\n",
    "        self._iter = 0\n",
    "\n",
    "        if direction == \"minimize\":\n",
    "            self._operator = operator.lt\n",
    "            self._score = np.inf\n",
    "        elif direction == \"maximize\":\n",
    "            self._operator = operator.gt\n",
    "            self._score = -np.inf\n",
    "        else:\n",
    "            ValueError(f\"invalid direction: {direction}\")\n",
    "\n",
    "    def __call__(self, study, trial):\n",
    "        if self._operator(study.best_value, self._score):\n",
    "            self._iter = 0\n",
    "            self._score = study.best_value\n",
    "        else:\n",
    "            self._iter += 1\n",
    "\n",
    "        if self._iter >= self.early_stopping_rounds:\n",
    "            study.stop()"
   ]
  },
  {
   "cell_type": "code",
   "execution_count": 6,
   "id": "aebdf5e8",
   "metadata": {},
   "outputs": [],
   "source": [
    "optuna.logging.set_verbosity(optuna.logging.WARNING)"
   ]
  },
  {
   "cell_type": "code",
   "execution_count": 7,
   "id": "2d13b106",
   "metadata": {},
   "outputs": [],
   "source": [
    "고령가구 = pd.read_csv('고령가구_변수추가.csv', encoding='cp949')\n",
    "고령가구.rename(columns = {'문41. 귀 가구는 공공임대주택 입주 기회를 준다면 입주할 의향이 있으십니까?':'target'}, inplace=True)"
   ]
  },
  {
   "cell_type": "code",
   "execution_count": 8,
   "id": "47d6db3f",
   "metadata": {},
   "outputs": [],
   "source": [
    "고령가구.columns = [\n",
    "    'Cat_현재 거주 지역', 'Cat_현재 주택의 유형','Cat_현재 주택의 위치',\n",
    "    '현재 주택 거주 기간(총 개월)','현재 무주택 기간(총 개월)',\n",
    "    'Cat_현재 주택의 점유형태','Cat_현재 주택의 구조', '현재 주택의 면적(㎡)',\n",
    "    'Cat_현재 상업시설 접근용이성', 'Cat_현재 의료시설 접근용이성',\n",
    "    'Cat_현재 공공기관 접근용이성', 'Cat_현재 문화시설 접근용이성',\n",
    "    'Cat_현재 도시공원 및 녹지 접근용이성', 'Cat_현재 대중교통 접근용이성',\n",
    "    'Cat_현재 주차시설 이용편의성', 'Cat_현재 주변도로의 보행 안전',\n",
    "    'Cat_현재 교육환경', 'Cat_현재 치안 및 범죄 등 방범 상태',\n",
    "    'Cat_현재 자동차 경적/집주변의 소음 정도', 'Cat_현재 청소/쓰레기 처리상태',\n",
    "    'Cat_현재 대기오염 정도', 'Cat_현재 주택에 대한 전반적인 만족도',\n",
    "    '총 이사 횟수', 'Cat_이사 예상 기간','Cat_이사 계획 첫 번째 이유',\n",
    "    'Cat_이사 계획 중인 거주 지역', 'Cat_이사 계획 중인 주택의 유형', 'Cat_이사 계획 중인 주택의 점유형태',\n",
    "    'Cat_주택 보유 의식', 'Cat_현재 가장 필요한 주거지원 1순위',\n",
    "    '가구주 나이','Cat_가구주 성별','Cat_가구주 주민등록상 등재 여부','Cat_가구주 동거 여부','Cat_가구주 장애 여부',\n",
    "    '총 가구원 수','Cat_기초생활보장 수급가구 여부','Cat_소득 계층',\n",
    "    '소득 대비 주택 임대료의 비율', '소득 중 근로/사업소득의 비중(월평균)',\n",
    "    '소득 중 재산소득의 비중(월평균)', '소득 중 사회보험 수혜금의 비중(월평균)',\n",
    "    '소득 중 정부 보조금의 비중(월평균)', '소득 중 사적이전소득의 비중(월평균)', \n",
    "    '소득 대비 생활비의 비율', '소득 대비 주거관리비의 비율',\n",
    "    '자산 중 부동산 자산의 비중', '자산 중 금융자산의 비중', '자산 중 기타자산의 비중',\n",
    "    '부채 중 금융기관 대출금의 비중', '부채 중 비금융기관 대출금의 비중', '부채 중 임대 보증금의 비중',\n",
    "    '중기부채부담지표', '장기부채부담지표', 'Cat_가구주 최종 학력', 'Cat_가구주 종사상 지위',\n",
    "    'target'    \n",
    "]"
   ]
  },
  {
   "cell_type": "code",
   "execution_count": 9,
   "id": "d7dbc161",
   "metadata": {},
   "outputs": [],
   "source": [
    "cat = 고령가구.select_dtypes(include = 'object')\n",
    "num = 고령가구.select_dtypes(exclude = 'object')\n",
    "num_고령 = num.drop('target',axis=1)\n",
    "target = 고령가구.target"
   ]
  },
  {
   "cell_type": "code",
   "execution_count": 10,
   "id": "f70eb659",
   "metadata": {},
   "outputs": [],
   "source": [
    "scaler=RobustScaler()\n",
    "scaler.fit(num_고령)\n",
    "num_scaled_고령=scaler.transform(num_고령)\n",
    "num_df_scaled_고령=pd.DataFrame(data=num_scaled_고령, columns=num_고령.columns)"
   ]
  },
  {
   "cell_type": "code",
   "execution_count": 12,
   "id": "5e4c8c76",
   "metadata": {},
   "outputs": [],
   "source": [
    "enc = OneHotEncoder()\n",
    "enc.fit(cat)\n",
    "\n",
    "X_cat = enc.transform(cat).toarray()\n",
    "new_feature_names = enc.get_feature_names_out(cat.columns)\n",
    "cat2 = pd.DataFrame(X_cat, columns= new_feature_names)"
   ]
  },
  {
   "cell_type": "code",
   "execution_count": 13,
   "id": "6d4f3a0a",
   "metadata": {},
   "outputs": [],
   "source": [
    "comp =pd.concat([num_df_scaled_고령, target,cat2],axis=1)"
   ]
  },
  {
   "cell_type": "code",
   "execution_count": 14,
   "id": "25030335",
   "metadata": {},
   "outputs": [
    {
     "data": {
      "text/plain": [
       "(10564, 210)"
      ]
     },
     "execution_count": 14,
     "metadata": {},
     "output_type": "execute_result"
    }
   ],
   "source": [
    "X=comp.drop('target', axis = 1)\n",
    "y=comp.target\n",
    "X.shape"
   ]
  },
  {
   "cell_type": "code",
   "execution_count": null,
   "id": "51728bf7",
   "metadata": {},
   "outputs": [],
   "source": [
    "X_train, X_test, y_train, y_test = train_test_split(X, y, test_size=0.2, shuffle=True, stratify=y, random_state = 0)"
   ]
  },
  {
   "cell_type": "code",
   "execution_count": null,
   "id": "ba165c86",
   "metadata": {},
   "outputs": [],
   "source": [
    "X_train, X_val, y_train, y_val = train_test_split(X_train, y_train, test_size=0.2, shuffle=True, stratify=y_train, random_state = 0)"
   ]
  },
  {
   "cell_type": "code",
   "execution_count": null,
   "id": "daaa01da",
   "metadata": {},
   "outputs": [],
   "source": [
    "def objective(trial):\n",
    "    params = {\n",
    "        'max_depth' :trial.suggest_int('max_depth', 1, 10),\n",
    "        'min_samples_split' :trial.suggest_int('min_samples_split', 3, 10),\n",
    "        'min_samples_leaf' :trial.suggest_int('min_samples_leaf', 3, 10),\n",
    "        }\n",
    "        \n",
    "    clf = DecisionTreeClassifier(**params,random_state = 0)\n",
    "    clf.fit(X_train, y_train)\n",
    "    clf_proba = clf.predict_proba(X_val)[:, 1]\n",
    "        \n",
    "    AUC_SCORE = roc_auc_score(y_val, clf_proba)\n",
    "    return AUC_SCORE\n",
    "\n",
    "direction = \"maximize\"\n",
    "sampler = optuna.samplers.TPESampler(seed=10)\n",
    "study =  optuna.create_study(direction=direction, sampler=sampler, pruner=optuna.pruners.HyperbandPruner())\n",
    "early_stopping = EarlyStoppingCallback(10, direction=direction)\n",
    "study.optimize(objective, callbacks=[early_stopping], n_trials=200) "
   ]
  },
  {
   "cell_type": "code",
   "execution_count": null,
   "id": "d0a6a3fd",
   "metadata": {},
   "outputs": [],
   "source": [
    "print(study.best_trial.params)"
   ]
  },
  {
   "cell_type": "code",
   "execution_count": null,
   "id": "67e80ba4",
   "metadata": {},
   "outputs": [],
   "source": [
    "optuna_auc = study.best_trial.value\n",
    "print(optuna_auc)"
   ]
  },
  {
   "cell_type": "code",
   "execution_count": null,
   "id": "57772c74",
   "metadata": {},
   "outputs": [],
   "source": [
    "optuna_0 = DecisionTreeClassifier(**study.best_trial.params, random_state = 0)"
   ]
  },
  {
   "cell_type": "code",
   "execution_count": null,
   "id": "a8ad0319",
   "metadata": {},
   "outputs": [],
   "source": [
    "optuna_0.fit(X_train, y_train)"
   ]
  },
  {
   "cell_type": "code",
   "execution_count": null,
   "id": "37deccd3",
   "metadata": {},
   "outputs": [],
   "source": [
    "optuna_0_proba = optuna_0.predict_proba(X_test)[:, 1]\n",
    "auc_0 = roc_auc_score(y_test, optuna_0_proba)\n",
    "print(decimal.Decimal(auc_0).quantize(decimal.Decimal('1.000')))"
   ]
  },
  {
   "cell_type": "code",
   "execution_count": null,
   "id": "9c84bfbc",
   "metadata": {},
   "outputs": [],
   "source": [
    "X_train = X_train.values\n",
    "y_train = y_train.values"
   ]
  },
  {
   "cell_type": "code",
   "execution_count": null,
   "id": "781f005f",
   "metadata": {},
   "outputs": [],
   "source": [
    "np.set_printoptions(threshold=np.inf, linewidth=np.inf)"
   ]
  },
  {
   "cell_type": "code",
   "execution_count": null,
   "id": "6de01c9d",
   "metadata": {},
   "outputs": [],
   "source": [
    "auc_bootstrap = []"
   ]
  },
  {
   "cell_type": "code",
   "execution_count": null,
   "id": "59404879",
   "metadata": {},
   "outputs": [],
   "source": [
    "rs = RandomState(seed = 2024)\n",
    "bootstrap_auc(optuna_0, X_train, y_train, X_test, y_test, nsamples=2000)"
   ]
  },
  {
   "cell_type": "code",
   "execution_count": null,
   "id": "a42b941a",
   "metadata": {},
   "outputs": [],
   "source": [
    "np.mean(auc_bootstrap)"
   ]
  },
  {
   "cell_type": "code",
   "execution_count": null,
   "id": "c6922025",
   "metadata": {},
   "outputs": [],
   "source": [
    "t_0 = auc_bootstrap\n",
    "print(t_0)"
   ]
  },
  {
   "cell_type": "code",
   "execution_count": null,
   "id": "ec64f084",
   "metadata": {},
   "outputs": [],
   "source": [
    "del X_train, X_test, y_train, y_test, X_val, y_val,study, optuna_auc"
   ]
  },
  {
   "cell_type": "code",
   "execution_count": 15,
   "id": "678a712b",
   "metadata": {},
   "outputs": [],
   "source": [
    "# 1.\n",
    "column_to_drop = 'Cat_가구주 장애 여부'"
   ]
  },
  {
   "cell_type": "code",
   "execution_count": 16,
   "id": "b7f1db03",
   "metadata": {},
   "outputs": [
    {
     "name": "stdout",
     "output_type": "stream",
     "text": [
      "(10564, 208)\n"
     ]
    }
   ],
   "source": [
    "if not column_to_drop.startswith('Cat_'):\n",
    "    comp_1 = comp.drop(column_to_drop, axis=1)\n",
    "    X_1 = comp_1.drop('target', axis=1)\n",
    "    y_1 = comp_1['target']\n",
    "else:\n",
    "    comp_1 = comp.drop(comp.filter(regex='^' + column_to_drop).columns, axis=1)\n",
    "    X_1 = comp_1.drop('target', axis=1)\n",
    "    y_1 = comp_1['target']\n",
    "\n",
    "print(X_1.shape)"
   ]
  },
  {
   "cell_type": "code",
   "execution_count": null,
   "id": "a90782bd",
   "metadata": {},
   "outputs": [],
   "source": [
    "X_train, X_test, y_train, y_test = train_test_split(X_1, y_1, test_size=0.2, shuffle=True, stratify=y_1, random_state = 0)\n",
    "X_train, X_val, y_train, y_val = train_test_split(X_train, y_train, test_size=0.2, shuffle=True, stratify=y_train, random_state = 0)"
   ]
  },
  {
   "cell_type": "code",
   "execution_count": null,
   "id": "3675ae61",
   "metadata": {},
   "outputs": [],
   "source": [
    "def objective(trial):\n",
    "    params = {\n",
    "        'max_depth' :trial.suggest_int('max_depth', 1, 10),\n",
    "        'min_samples_split' :trial.suggest_int('min_samples_split', 3, 10),\n",
    "        'min_samples_leaf' :trial.suggest_int('min_samples_leaf', 3, 10),\n",
    "        }\n",
    "        \n",
    "    clf = DecisionTreeClassifier(**params,random_state = 0)\n",
    "    clf.fit(X_train, y_train)\n",
    "    clf_proba = clf.predict_proba(X_val)[:, 1]\n",
    "        \n",
    "    AUC_SCORE = roc_auc_score(y_val, clf_proba)\n",
    "    return AUC_SCORE\n",
    "\n",
    "direction = \"maximize\"\n",
    "sampler = optuna.samplers.TPESampler(seed=10)\n",
    "study =  optuna.create_study(direction=direction, sampler=sampler, pruner=optuna.pruners.HyperbandPruner())\n",
    "early_stopping = EarlyStoppingCallback(10, direction=direction)\n",
    "study.optimize(objective, callbacks=[early_stopping], n_trials=200) "
   ]
  },
  {
   "cell_type": "code",
   "execution_count": null,
   "id": "09bb9971",
   "metadata": {},
   "outputs": [],
   "source": [
    "print(study.best_trial.params)"
   ]
  },
  {
   "cell_type": "code",
   "execution_count": null,
   "id": "b9292efc",
   "metadata": {},
   "outputs": [],
   "source": [
    "optuna_auc = study.best_trial.value\n",
    "print(optuna_auc)"
   ]
  },
  {
   "cell_type": "code",
   "execution_count": null,
   "id": "96aea71d",
   "metadata": {},
   "outputs": [],
   "source": [
    "optuna_1 = DecisionTreeClassifier(**study.best_trial.params, random_state = 0)\n",
    "optuna_1.fit(X_train, y_train)"
   ]
  },
  {
   "cell_type": "code",
   "execution_count": null,
   "id": "3ad6e205",
   "metadata": {},
   "outputs": [],
   "source": [
    "optuna_1_proba = optuna_1.predict_proba(X_test)[:, 1]\n",
    "auc_1 = roc_auc_score(y_test, optuna_1_proba)\n",
    "print(decimal.Decimal(auc_1).quantize(decimal.Decimal('1.000')))"
   ]
  },
  {
   "cell_type": "code",
   "execution_count": null,
   "id": "123e4692",
   "metadata": {},
   "outputs": [],
   "source": [
    "X_train = X_train.values\n",
    "y_train = y_train.values"
   ]
  },
  {
   "cell_type": "code",
   "execution_count": null,
   "id": "122c3c17",
   "metadata": {},
   "outputs": [],
   "source": [
    "auc_bootstrap = []"
   ]
  },
  {
   "cell_type": "code",
   "execution_count": null,
   "id": "6891d955",
   "metadata": {},
   "outputs": [],
   "source": [
    "rs = RandomState(seed = 1)\n",
    "bootstrap_auc(optuna_1, X_train, y_train, X_test, y_test, nsamples=2000)"
   ]
  },
  {
   "cell_type": "code",
   "execution_count": null,
   "id": "51676aea",
   "metadata": {},
   "outputs": [],
   "source": [
    "from scipy.stats import shapiro"
   ]
  },
  {
   "cell_type": "code",
   "execution_count": null,
   "id": "7cb4bbd2",
   "metadata": {},
   "outputs": [],
   "source": [
    "shapiro(auc_bootstrap)"
   ]
  },
  {
   "cell_type": "code",
   "execution_count": null,
   "id": "876fa6ae",
   "metadata": {},
   "outputs": [],
   "source": [
    "np.mean(auc_bootstrap)"
   ]
  },
  {
   "cell_type": "code",
   "execution_count": null,
   "id": "d0cba3b6",
   "metadata": {},
   "outputs": [],
   "source": [
    "t_1 = auc_bootstrap\n",
    "print(t_1)"
   ]
  },
  {
   "cell_type": "code",
   "execution_count": null,
   "id": "5e7f21df",
   "metadata": {},
   "outputs": [],
   "source": [
    "del X_train, X_test, y_train, y_test, X_val, y_val,study, optuna_auc"
   ]
  },
  {
   "cell_type": "code",
   "execution_count": 17,
   "id": "e828120c",
   "metadata": {},
   "outputs": [],
   "source": [
    "#### 2. \n",
    "column_to_drop_1 = 'Cat_가구주 동거 여부'"
   ]
  },
  {
   "cell_type": "code",
   "execution_count": 18,
   "id": "f7f65cb9",
   "metadata": {},
   "outputs": [
    {
     "name": "stdout",
     "output_type": "stream",
     "text": [
      "(10564, 206)\n"
     ]
    }
   ],
   "source": [
    "if not column_to_drop_1.startswith('Cat_'):\n",
    "    comp_2 = comp_1.drop(column_to_drop_1, axis=1)\n",
    "    X_2 = comp_2.drop('target', axis=1)\n",
    "    y_2 = comp_2['target']\n",
    "else:\n",
    "    comp_2 = comp_1.drop(comp_1.filter(regex='^' + column_to_drop_1).columns, axis=1)\n",
    "    X_2 = comp_2.drop('target', axis=1)\n",
    "    y_2 = comp_2['target']\n",
    "\n",
    "print(X_2.shape)"
   ]
  },
  {
   "cell_type": "code",
   "execution_count": null,
   "id": "d0e518c7",
   "metadata": {},
   "outputs": [],
   "source": [
    "X_train, X_test, y_train, y_test = train_test_split(X_2, y_2, test_size=0.2, shuffle=True, stratify=y_2, random_state = 0)\n",
    "X_train, X_val, y_train, y_val = train_test_split(X_train, y_train, test_size=0.2, shuffle=True, stratify=y_train, random_state = 0)"
   ]
  },
  {
   "cell_type": "code",
   "execution_count": null,
   "id": "b991c45e",
   "metadata": {},
   "outputs": [],
   "source": [
    "def objective(trial):\n",
    "    params = {\n",
    "        'max_depth' :trial.suggest_int('max_depth', 1, 10),\n",
    "        'min_samples_split' :trial.suggest_int('min_samples_split', 3, 10),\n",
    "        'min_samples_leaf' :trial.suggest_int('min_samples_leaf', 3, 10),\n",
    "        }\n",
    "        \n",
    "    clf = DecisionTreeClassifier(**params,random_state = 0)\n",
    "    clf.fit(X_train, y_train)\n",
    "    clf_proba = clf.predict_proba(X_val)[:, 1]\n",
    "        \n",
    "    AUC_SCORE = roc_auc_score(y_val, clf_proba)\n",
    "    return AUC_SCORE\n",
    "\n",
    "direction = \"maximize\"\n",
    "sampler = optuna.samplers.TPESampler(seed=10)\n",
    "study =  optuna.create_study(direction=direction, sampler=sampler, pruner=optuna.pruners.HyperbandPruner())\n",
    "early_stopping = EarlyStoppingCallback(10, direction=direction)\n",
    "study.optimize(objective, callbacks=[early_stopping], n_trials=200) "
   ]
  },
  {
   "cell_type": "code",
   "execution_count": null,
   "id": "77833143",
   "metadata": {},
   "outputs": [],
   "source": [
    "print(study.best_trial.params)\n",
    "optuna_auc = study.best_trial.value\n",
    "print(optuna_auc)"
   ]
  },
  {
   "cell_type": "code",
   "execution_count": null,
   "id": "d38034a9",
   "metadata": {},
   "outputs": [],
   "source": [
    "optuna_2 = DecisionTreeClassifier(**study.best_trial.params, random_state = 0)\n",
    "optuna_2.fit(X_train, y_train)"
   ]
  },
  {
   "cell_type": "code",
   "execution_count": null,
   "id": "0e048911",
   "metadata": {},
   "outputs": [],
   "source": [
    "optuna_2_proba = optuna_2.predict_proba(X_test)[:, 1]\n",
    "auc_2 = roc_auc_score(y_test, optuna_2_proba)\n",
    "print(decimal.Decimal(auc_2).quantize(decimal.Decimal('1.000')))"
   ]
  },
  {
   "cell_type": "code",
   "execution_count": null,
   "id": "031cd5b2",
   "metadata": {},
   "outputs": [],
   "source": [
    "X_train = X_train.values\n",
    "y_train = y_train.values"
   ]
  },
  {
   "cell_type": "code",
   "execution_count": null,
   "id": "24f076cd",
   "metadata": {},
   "outputs": [],
   "source": [
    "auc_bootstrap = []"
   ]
  },
  {
   "cell_type": "code",
   "execution_count": null,
   "id": "054c0de2",
   "metadata": {},
   "outputs": [],
   "source": [
    "rs = RandomState(seed = 2)\n",
    "bootstrap_auc(optuna_2, X_train, y_train, X_test, y_test, nsamples=2000)"
   ]
  },
  {
   "cell_type": "code",
   "execution_count": null,
   "id": "a2527d7b",
   "metadata": {},
   "outputs": [],
   "source": [
    "shapiro(auc_bootstrap)"
   ]
  },
  {
   "cell_type": "code",
   "execution_count": null,
   "id": "00a14652",
   "metadata": {},
   "outputs": [],
   "source": [
    "np.mean(auc_bootstrap)"
   ]
  },
  {
   "cell_type": "code",
   "execution_count": null,
   "id": "e2428327",
   "metadata": {},
   "outputs": [],
   "source": [
    "t_2 = auc_bootstrap\n",
    "print(t_2)"
   ]
  },
  {
   "cell_type": "code",
   "execution_count": null,
   "id": "a0910530",
   "metadata": {},
   "outputs": [],
   "source": [
    "del X_train, X_test, y_train, y_test, X_val, y_val,study, optuna_auc"
   ]
  },
  {
   "cell_type": "code",
   "execution_count": 19,
   "id": "6757ae4b",
   "metadata": {},
   "outputs": [],
   "source": [
    "#### 3.\n",
    "column_to_drop_2 = 'Cat_가구주 주민등록상 등재 여부'"
   ]
  },
  {
   "cell_type": "code",
   "execution_count": 20,
   "id": "141d425a",
   "metadata": {},
   "outputs": [
    {
     "name": "stdout",
     "output_type": "stream",
     "text": [
      "(10564, 204)\n"
     ]
    }
   ],
   "source": [
    "if not column_to_drop_2.startswith('Cat_'):\n",
    "    comp_3 = comp_2.drop(column_to_drop_2, axis=1)\n",
    "    X_3 = comp_3.drop('target', axis=1)\n",
    "    y_3 = comp_3['target']\n",
    "else:\n",
    "    comp_3 = comp_2.drop(comp_2.filter(regex='^' + column_to_drop_2).columns, axis=1)\n",
    "    X_3 = comp_3.drop('target', axis=1)\n",
    "    y_3 = comp_3['target']\n",
    "\n",
    "print(X_3.shape)"
   ]
  },
  {
   "cell_type": "code",
   "execution_count": null,
   "id": "320b1c20",
   "metadata": {},
   "outputs": [],
   "source": [
    "X_train, X_test, y_train, y_test = train_test_split(X_3, y_3, test_size=0.2, shuffle=True, stratify=y_3, random_state = 0)\n",
    "X_train, X_val, y_train, y_val = train_test_split(X_train, y_train, test_size=0.2, shuffle=True, stratify=y_train, random_state = 0)"
   ]
  },
  {
   "cell_type": "code",
   "execution_count": null,
   "id": "284da3d1",
   "metadata": {},
   "outputs": [],
   "source": [
    "def objective(trial):\n",
    "    params = {\n",
    "        'max_depth' :trial.suggest_int('max_depth', 1, 10),\n",
    "        'min_samples_split' :trial.suggest_int('min_samples_split', 3, 10),\n",
    "        'min_samples_leaf' :trial.suggest_int('min_samples_leaf', 3, 10),\n",
    "        }\n",
    "        \n",
    "    clf = DecisionTreeClassifier(**params,random_state = 0)\n",
    "    clf.fit(X_train, y_train)\n",
    "    clf_proba = clf.predict_proba(X_val)[:, 1]\n",
    "        \n",
    "    AUC_SCORE = roc_auc_score(y_val, clf_proba)\n",
    "    return AUC_SCORE\n",
    "\n",
    "direction = \"maximize\"\n",
    "sampler = optuna.samplers.TPESampler(seed=10)\n",
    "study =  optuna.create_study(direction=direction, sampler=sampler, pruner=optuna.pruners.HyperbandPruner())\n",
    "early_stopping = EarlyStoppingCallback(10, direction=direction)\n",
    "study.optimize(objective, callbacks=[early_stopping], n_trials=200) "
   ]
  },
  {
   "cell_type": "code",
   "execution_count": null,
   "id": "41b0517d",
   "metadata": {},
   "outputs": [],
   "source": [
    "print(study.best_trial.params)\n",
    "optuna_auc = study.best_trial.value\n",
    "print(optuna_auc)"
   ]
  },
  {
   "cell_type": "code",
   "execution_count": null,
   "id": "1d96afea",
   "metadata": {},
   "outputs": [],
   "source": [
    "optuna_3 = DecisionTreeClassifier(**study.best_trial.params, random_state = 0)\n",
    "optuna_3.fit(X_train, y_train)"
   ]
  },
  {
   "cell_type": "code",
   "execution_count": null,
   "id": "d966e795",
   "metadata": {},
   "outputs": [],
   "source": [
    "optuna_3_proba = optuna_3.predict_proba(X_test)[:, 1]\n",
    "auc_3 = roc_auc_score(y_test, optuna_3_proba)\n",
    "print(decimal.Decimal(auc_3).quantize(decimal.Decimal('1.000')))"
   ]
  },
  {
   "cell_type": "code",
   "execution_count": null,
   "id": "1b7e87dc",
   "metadata": {},
   "outputs": [],
   "source": [
    "X_train = X_train.values\n",
    "y_train = y_train.values"
   ]
  },
  {
   "cell_type": "code",
   "execution_count": null,
   "id": "3dc17a3b",
   "metadata": {},
   "outputs": [],
   "source": [
    "auc_bootstrap = []"
   ]
  },
  {
   "cell_type": "code",
   "execution_count": null,
   "id": "7163527d",
   "metadata": {},
   "outputs": [],
   "source": [
    "rs = RandomState(seed = 3)\n",
    "bootstrap_auc(optuna_3, X_train, y_train, X_test, y_test, nsamples=2000)"
   ]
  },
  {
   "cell_type": "code",
   "execution_count": null,
   "id": "4e59dfd5",
   "metadata": {},
   "outputs": [],
   "source": [
    "shapiro(auc_bootstrap), np.mean(auc_bootstrap)"
   ]
  },
  {
   "cell_type": "code",
   "execution_count": null,
   "id": "c1f3981c",
   "metadata": {},
   "outputs": [],
   "source": [
    "t_3 = auc_bootstrap\n",
    "print(t_3)"
   ]
  },
  {
   "cell_type": "code",
   "execution_count": null,
   "id": "a7ef7ba5",
   "metadata": {},
   "outputs": [],
   "source": [
    "del X_train, X_test, y_train, y_test, X_val, y_val,study, optuna_auc"
   ]
  },
  {
   "cell_type": "code",
   "execution_count": 21,
   "id": "fac25b5b",
   "metadata": {},
   "outputs": [],
   "source": [
    "### 4. \n",
    "column_to_drop_3 = 'Cat_주택 보유 의식'"
   ]
  },
  {
   "cell_type": "code",
   "execution_count": 22,
   "id": "ed0c6753",
   "metadata": {},
   "outputs": [
    {
     "name": "stdout",
     "output_type": "stream",
     "text": [
      "(10564, 202)\n"
     ]
    }
   ],
   "source": [
    "if not column_to_drop_3.startswith('Cat_'):\n",
    "    comp_4 = comp_3.drop(column_to_drop_3, axis=1)\n",
    "    X_4 = comp_4.drop('target', axis=1)\n",
    "    y_4 = comp_4['target']\n",
    "else:\n",
    "    comp_4 = comp_3.drop(comp_3.filter(regex='^' + column_to_drop_3).columns, axis=1)\n",
    "    X_4 = comp_4.drop('target', axis=1)\n",
    "    y_4 = comp_4['target']\n",
    "\n",
    "print(X_4.shape)"
   ]
  },
  {
   "cell_type": "code",
   "execution_count": null,
   "id": "a753227e",
   "metadata": {},
   "outputs": [],
   "source": [
    "X_train, X_test, y_train, y_test = train_test_split(X_4, y_4, test_size=0.2, shuffle=True, stratify=y_4, random_state = 0)\n",
    "X_train, X_val, y_train, y_val = train_test_split(X_train, y_train, test_size=0.2, shuffle=True, stratify=y_train, random_state = 0)"
   ]
  },
  {
   "cell_type": "code",
   "execution_count": null,
   "id": "60c874fb",
   "metadata": {},
   "outputs": [],
   "source": [
    "def objective(trial):\n",
    "    params = {\n",
    "        'max_depth' :trial.suggest_int('max_depth', 1, 10),\n",
    "        'min_samples_split' :trial.suggest_int('min_samples_split', 3, 10),\n",
    "        'min_samples_leaf' :trial.suggest_int('min_samples_leaf', 3, 10),\n",
    "        }\n",
    "        \n",
    "    clf = DecisionTreeClassifier(**params,random_state = 0)\n",
    "    clf.fit(X_train, y_train)\n",
    "    clf_proba = clf.predict_proba(X_val)[:, 1]\n",
    "        \n",
    "    AUC_SCORE = roc_auc_score(y_val, clf_proba)\n",
    "    return AUC_SCORE\n",
    "\n",
    "direction = \"maximize\"\n",
    "sampler = optuna.samplers.TPESampler(seed=10)\n",
    "study =  optuna.create_study(direction=direction, sampler=sampler, pruner=optuna.pruners.HyperbandPruner())\n",
    "early_stopping = EarlyStoppingCallback(10, direction=direction)\n",
    "study.optimize(objective, callbacks=[early_stopping], n_trials=200) "
   ]
  },
  {
   "cell_type": "code",
   "execution_count": null,
   "id": "72df3b79",
   "metadata": {},
   "outputs": [],
   "source": [
    "print(study.best_trial.params)\n",
    "optuna_auc = study.best_trial.value\n",
    "print(optuna_auc)"
   ]
  },
  {
   "cell_type": "code",
   "execution_count": null,
   "id": "45c07b93",
   "metadata": {},
   "outputs": [],
   "source": [
    "optuna_4 = DecisionTreeClassifier(**study.best_trial.params, random_state = 0)\n",
    "optuna_4.fit(X_train, y_train)"
   ]
  },
  {
   "cell_type": "code",
   "execution_count": null,
   "id": "2d7c0ccd",
   "metadata": {},
   "outputs": [],
   "source": [
    "optuna_4_proba = optuna_4.predict_proba(X_test)[:, 1]\n",
    "auc_4 = roc_auc_score(y_test, optuna_4_proba)\n",
    "print(decimal.Decimal(auc_4).quantize(decimal.Decimal('1.000')))"
   ]
  },
  {
   "cell_type": "code",
   "execution_count": null,
   "id": "3fa72a7f",
   "metadata": {},
   "outputs": [],
   "source": [
    "X_train = X_train.values\n",
    "y_train = y_train.values"
   ]
  },
  {
   "cell_type": "code",
   "execution_count": null,
   "id": "11cc53e7",
   "metadata": {},
   "outputs": [],
   "source": [
    "auc_bootstrap = []"
   ]
  },
  {
   "cell_type": "code",
   "execution_count": null,
   "id": "3fdfe7be",
   "metadata": {},
   "outputs": [],
   "source": [
    "rs = RandomState(seed = 4)\n",
    "bootstrap_auc(optuna_4, X_train, y_train, X_test, y_test, nsamples=2000)"
   ]
  },
  {
   "cell_type": "code",
   "execution_count": null,
   "id": "a20211f9",
   "metadata": {},
   "outputs": [],
   "source": [
    "shapiro(auc_bootstrap), np.mean(auc_bootstrap)"
   ]
  },
  {
   "cell_type": "code",
   "execution_count": null,
   "id": "e80b2700",
   "metadata": {},
   "outputs": [],
   "source": [
    "t_4 = auc_bootstrap\n",
    "print(t_4)"
   ]
  },
  {
   "cell_type": "code",
   "execution_count": 23,
   "id": "f23b77f0",
   "metadata": {},
   "outputs": [],
   "source": [
    "## 5.\n",
    "column_to_drop_4 = 'Cat_가구주 최종 학력'"
   ]
  },
  {
   "cell_type": "code",
   "execution_count": 24,
   "id": "a77f2034",
   "metadata": {},
   "outputs": [
    {
     "name": "stdout",
     "output_type": "stream",
     "text": [
      "(10564, 199)\n"
     ]
    }
   ],
   "source": [
    "if not column_to_drop_4.startswith('Cat_'):\n",
    "    comp_5 = comp_4.drop(column_to_drop_4, axis=1)\n",
    "    X_5 = comp_5.drop('target', axis=1)\n",
    "    y_5 = comp_5['target']\n",
    "else:\n",
    "    comp_5 = comp_4.drop(comp_4.filter(regex='^' + column_to_drop_4).columns, axis=1)\n",
    "    X_5 = comp_5.drop('target', axis=1)\n",
    "    y_5 = comp_5['target']\n",
    "\n",
    "print(X_5.shape)"
   ]
  },
  {
   "cell_type": "code",
   "execution_count": null,
   "id": "820ca745",
   "metadata": {},
   "outputs": [],
   "source": [
    "X_train, X_test, y_train, y_test = train_test_split(X_5, y_5, test_size=0.2, shuffle=True, stratify=y_5, random_state = 0)\n",
    "X_train, X_val, y_train, y_val = train_test_split(X_train, y_train, test_size=0.2, shuffle=True, stratify=y_train, random_state = 0)"
   ]
  },
  {
   "cell_type": "code",
   "execution_count": null,
   "id": "8468083c",
   "metadata": {},
   "outputs": [],
   "source": [
    "def objective(trial):\n",
    "    params = {\n",
    "        'max_depth' :trial.suggest_int('max_depth', 1, 10),\n",
    "        'min_samples_split' :trial.suggest_int('min_samples_split', 3, 10),\n",
    "        'min_samples_leaf' :trial.suggest_int('min_samples_leaf', 3, 10),\n",
    "        }\n",
    "        \n",
    "    clf = DecisionTreeClassifier(**params,random_state = 0)\n",
    "    clf.fit(X_train, y_train)\n",
    "    clf_proba = clf.predict_proba(X_val)[:, 1]\n",
    "        \n",
    "    AUC_SCORE = roc_auc_score(y_val, clf_proba)\n",
    "    return AUC_SCORE\n",
    "\n",
    "direction = \"maximize\"\n",
    "sampler = optuna.samplers.TPESampler(seed=10)\n",
    "study =  optuna.create_study(direction=direction, sampler=sampler, pruner=optuna.pruners.HyperbandPruner())\n",
    "early_stopping = EarlyStoppingCallback(10, direction=direction)\n",
    "study.optimize(objective, callbacks=[early_stopping], n_trials=200) "
   ]
  },
  {
   "cell_type": "code",
   "execution_count": null,
   "id": "fddb8238",
   "metadata": {},
   "outputs": [],
   "source": [
    "print(study.best_trial.params)\n",
    "optuna_auc = study.best_trial.value\n",
    "print(optuna_auc)"
   ]
  },
  {
   "cell_type": "code",
   "execution_count": null,
   "id": "e9498dbe",
   "metadata": {},
   "outputs": [],
   "source": [
    "optuna_5 = DecisionTreeClassifier(**study.best_trial.params, random_state = 0)\n",
    "optuna_5.fit(X_train, y_train)"
   ]
  },
  {
   "cell_type": "code",
   "execution_count": null,
   "id": "f5449a5e",
   "metadata": {},
   "outputs": [],
   "source": [
    "optuna_5_proba = optuna_5.predict_proba(X_test)[:, 1]\n",
    "auc_5 = roc_auc_score(y_test, optuna_5_proba)\n",
    "print(decimal.Decimal(auc_5).quantize(decimal.Decimal('1.000')))"
   ]
  },
  {
   "cell_type": "code",
   "execution_count": null,
   "id": "1fc246e0",
   "metadata": {},
   "outputs": [],
   "source": [
    "X_train = X_train.values\n",
    "y_train = y_train.values"
   ]
  },
  {
   "cell_type": "code",
   "execution_count": null,
   "id": "8a635a21",
   "metadata": {},
   "outputs": [],
   "source": [
    "auc_bootstrap = []"
   ]
  },
  {
   "cell_type": "code",
   "execution_count": null,
   "id": "0fb3907a",
   "metadata": {},
   "outputs": [],
   "source": [
    "rs = RandomState(seed = 5)\n",
    "bootstrap_auc(optuna_5, X_train, y_train, X_test, y_test, nsamples=2000)"
   ]
  },
  {
   "cell_type": "code",
   "execution_count": null,
   "id": "0b6df473",
   "metadata": {},
   "outputs": [],
   "source": [
    "shapiro(auc_bootstrap),np.mean(auc_bootstrap)"
   ]
  },
  {
   "cell_type": "code",
   "execution_count": null,
   "id": "ba989cd7",
   "metadata": {},
   "outputs": [],
   "source": [
    "t_5 = auc_bootstrap\n",
    "print(t_5)"
   ]
  },
  {
   "cell_type": "code",
   "execution_count": null,
   "id": "a29a792a",
   "metadata": {},
   "outputs": [],
   "source": [
    "del X_train, X_test, y_train, y_test, X_val, y_val,study, optuna_auc"
   ]
  },
  {
   "cell_type": "code",
   "execution_count": 25,
   "id": "a8dd3cc0",
   "metadata": {},
   "outputs": [],
   "source": [
    "## 6\n",
    "column_to_drop_5 = 'Cat_현재 청소/쓰레기 처리상태'"
   ]
  },
  {
   "cell_type": "code",
   "execution_count": 26,
   "id": "12e3908e",
   "metadata": {},
   "outputs": [
    {
     "name": "stdout",
     "output_type": "stream",
     "text": [
      "(10564, 195)\n"
     ]
    }
   ],
   "source": [
    "if not column_to_drop_5.startswith('Cat_'):\n",
    "    comp_6 = comp_5.drop(column_to_drop_5, axis=1)\n",
    "    X_6 = comp_6.drop('target', axis=1)\n",
    "    y_6 = comp_6['target']\n",
    "else:\n",
    "    comp_6 = comp_5.drop(comp_5.filter(regex='^' + column_to_drop_5).columns, axis=1)\n",
    "    X_6 = comp_6.drop('target', axis=1)\n",
    "    y_6 = comp_6['target']\n",
    "\n",
    "print(X_6.shape)"
   ]
  },
  {
   "cell_type": "code",
   "execution_count": null,
   "id": "33e19b97",
   "metadata": {},
   "outputs": [],
   "source": [
    "X_train, X_test, y_train, y_test = train_test_split(X_6, y_6, test_size=0.2, shuffle=True, stratify=y_6, random_state = 0)\n",
    "X_train, X_val, y_train, y_val = train_test_split(X_train, y_train, test_size=0.2, shuffle=True, stratify=y_train, random_state = 0)"
   ]
  },
  {
   "cell_type": "code",
   "execution_count": null,
   "id": "b005b980",
   "metadata": {},
   "outputs": [],
   "source": [
    "def objective(trial):\n",
    "    params = {\n",
    "        'max_depth' :trial.suggest_int('max_depth', 1, 10),\n",
    "        'min_samples_split' :trial.suggest_int('min_samples_split', 3, 10),\n",
    "        'min_samples_leaf' :trial.suggest_int('min_samples_leaf', 3, 10),\n",
    "        }\n",
    "        \n",
    "    clf = DecisionTreeClassifier(**params,random_state = 0)\n",
    "    clf.fit(X_train, y_train)\n",
    "    clf_proba = clf.predict_proba(X_val)[:, 1]\n",
    "        \n",
    "    AUC_SCORE = roc_auc_score(y_val, clf_proba)\n",
    "    return AUC_SCORE\n",
    "\n",
    "direction = \"maximize\"\n",
    "sampler = optuna.samplers.TPESampler(seed=10)\n",
    "study =  optuna.create_study(direction=direction, sampler=sampler, pruner=optuna.pruners.HyperbandPruner())\n",
    "early_stopping = EarlyStoppingCallback(10, direction=direction)\n",
    "study.optimize(objective, callbacks=[early_stopping], n_trials=200) "
   ]
  },
  {
   "cell_type": "code",
   "execution_count": null,
   "id": "b5cb7a69",
   "metadata": {},
   "outputs": [],
   "source": [
    "print(study.best_trial.params)\n",
    "optuna_auc = study.best_trial.value\n",
    "print(optuna_auc)"
   ]
  },
  {
   "cell_type": "code",
   "execution_count": null,
   "id": "7bf7a576",
   "metadata": {},
   "outputs": [],
   "source": [
    "optuna_6 = DecisionTreeClassifier(**study.best_trial.params, random_state = 0)\n",
    "optuna_6.fit(X_train, y_train)"
   ]
  },
  {
   "cell_type": "code",
   "execution_count": null,
   "id": "4ded8dfe",
   "metadata": {},
   "outputs": [],
   "source": [
    "optuna_proba_6 = optuna_6.predict_proba(X_test)[:, 1]\n",
    "auc_6 = roc_auc_score(y_test, optuna_proba_6)\n",
    "print(decimal.Decimal(auc_6).quantize(decimal.Decimal('1.000')))"
   ]
  },
  {
   "cell_type": "code",
   "execution_count": null,
   "id": "875a55d8",
   "metadata": {},
   "outputs": [],
   "source": [
    "X_train = X_train.values\n",
    "y_train = y_train.values"
   ]
  },
  {
   "cell_type": "code",
   "execution_count": null,
   "id": "66700186",
   "metadata": {},
   "outputs": [],
   "source": [
    "auc_bootstrap = []"
   ]
  },
  {
   "cell_type": "code",
   "execution_count": null,
   "id": "c5e1bc41",
   "metadata": {},
   "outputs": [],
   "source": [
    "rs = RandomState(seed = 6)\n",
    "bootstrap_auc(optuna_6, X_train, y_train, X_test, y_test, nsamples=2000)"
   ]
  },
  {
   "cell_type": "code",
   "execution_count": null,
   "id": "dca363c8",
   "metadata": {},
   "outputs": [],
   "source": [
    "shapiro(auc_bootstrap), np.mean(auc_bootstrap)"
   ]
  },
  {
   "cell_type": "code",
   "execution_count": null,
   "id": "c5052760",
   "metadata": {},
   "outputs": [],
   "source": [
    "t_6 = auc_bootstrap\n",
    "print(t_6)"
   ]
  },
  {
   "cell_type": "code",
   "execution_count": null,
   "id": "c5f407c8",
   "metadata": {},
   "outputs": [],
   "source": [
    "del X_train, X_test, y_train, y_test, X_val, y_val,study, optuna_auc"
   ]
  },
  {
   "cell_type": "code",
   "execution_count": 27,
   "id": "8f060cf9",
   "metadata": {},
   "outputs": [],
   "source": [
    "## 7 .\n",
    "column_to_drop_6 = '부채 중 금융기관 대출금의 비중'"
   ]
  },
  {
   "cell_type": "code",
   "execution_count": 28,
   "id": "a6508f66",
   "metadata": {},
   "outputs": [
    {
     "name": "stdout",
     "output_type": "stream",
     "text": [
      "(10564, 194)\n"
     ]
    }
   ],
   "source": [
    "if not column_to_drop_6.startswith('Cat_'):\n",
    "    comp_7 = comp_6.drop(column_to_drop_6, axis=1)\n",
    "    X_7 = comp_7.drop('target', axis=1)\n",
    "    y_7 = comp_7['target']\n",
    "else:\n",
    "    comp_7 = comp_6.drop(comp_6.filter(regex='^' + column_to_drop_6).columns, axis=1)\n",
    "    X_7 = comp_7.drop('target', axis=1)\n",
    "    y_7 = comp_7['target']\n",
    "\n",
    "print(X_7.shape)"
   ]
  },
  {
   "cell_type": "code",
   "execution_count": null,
   "id": "f1063727",
   "metadata": {},
   "outputs": [],
   "source": [
    "X_train, X_test, y_train, y_test = train_test_split(X_7, y_7, test_size=0.2, shuffle=True, stratify=y_7, random_state = 0)\n",
    "X_train, X_val, y_train, y_val = train_test_split(X_train, y_train, test_size=0.2, shuffle=True, stratify=y_train, random_state = 0)"
   ]
  },
  {
   "cell_type": "code",
   "execution_count": null,
   "id": "8b4dc1ad",
   "metadata": {},
   "outputs": [],
   "source": [
    "def objective(trial):\n",
    "    params = {\n",
    "        'max_depth' :trial.suggest_int('max_depth', 1, 10),\n",
    "        'min_samples_split' :trial.suggest_int('min_samples_split', 3, 10),\n",
    "        'min_samples_leaf' :trial.suggest_int('min_samples_leaf', 3, 10),\n",
    "        }\n",
    "        \n",
    "    clf = DecisionTreeClassifier(**params,random_state = 0)\n",
    "    clf.fit(X_train, y_train)\n",
    "    clf_proba = clf.predict_proba(X_val)[:, 1]\n",
    "        \n",
    "    AUC_SCORE = roc_auc_score(y_val, clf_proba)\n",
    "    return AUC_SCORE\n",
    "\n",
    "direction = \"maximize\"\n",
    "sampler = optuna.samplers.TPESampler(seed=10)\n",
    "study =  optuna.create_study(direction=direction, sampler=sampler, pruner=optuna.pruners.HyperbandPruner())\n",
    "early_stopping = EarlyStoppingCallback(10, direction=direction)\n",
    "study.optimize(objective, callbacks=[early_stopping], n_trials=200) "
   ]
  },
  {
   "cell_type": "code",
   "execution_count": null,
   "id": "037daacc",
   "metadata": {},
   "outputs": [],
   "source": [
    "print(study.best_trial.params)\n",
    "optuna_auc = study.best_trial.value\n",
    "print(optuna_auc)"
   ]
  },
  {
   "cell_type": "code",
   "execution_count": null,
   "id": "8cea29cd",
   "metadata": {},
   "outputs": [],
   "source": [
    "optuna_7 = DecisionTreeClassifier(**study.best_trial.params, random_state = 0)\n",
    "optuna_7.fit(X_train, y_train)"
   ]
  },
  {
   "cell_type": "code",
   "execution_count": null,
   "id": "751c618c",
   "metadata": {},
   "outputs": [],
   "source": [
    "optuna_proba_7 = optuna_7.predict_proba(X_test)[:, 1]\n",
    "auc_7 = roc_auc_score(y_test, optuna_proba_7)\n",
    "print(decimal.Decimal(auc_7).quantize(decimal.Decimal('1.000')))"
   ]
  },
  {
   "cell_type": "code",
   "execution_count": null,
   "id": "8541e3ba",
   "metadata": {},
   "outputs": [],
   "source": [
    "X_train = X_train.values\n",
    "y_train = y_train.values"
   ]
  },
  {
   "cell_type": "code",
   "execution_count": null,
   "id": "d90d35c3",
   "metadata": {},
   "outputs": [],
   "source": [
    "auc_bootstrap = []"
   ]
  },
  {
   "cell_type": "code",
   "execution_count": null,
   "id": "2b0075fb",
   "metadata": {},
   "outputs": [],
   "source": [
    "rs = RandomState(seed = 7)\n",
    "bootstrap_auc(optuna_7, X_train, y_train, X_test, y_test, nsamples=2000)"
   ]
  },
  {
   "cell_type": "code",
   "execution_count": null,
   "id": "b1b4d5dd",
   "metadata": {},
   "outputs": [],
   "source": [
    "shapiro(auc_bootstrap), np.mean(auc_bootstrap)"
   ]
  },
  {
   "cell_type": "code",
   "execution_count": null,
   "id": "23afc1e3",
   "metadata": {},
   "outputs": [],
   "source": [
    "t_7 = auc_bootstrap\n",
    "print(t_7)"
   ]
  },
  {
   "cell_type": "code",
   "execution_count": null,
   "id": "6b4caec8",
   "metadata": {},
   "outputs": [],
   "source": [
    "del X_train, X_test, y_train, y_test, X_val, y_val,study, optuna_auc"
   ]
  },
  {
   "cell_type": "code",
   "execution_count": 29,
   "id": "0f790daa",
   "metadata": {},
   "outputs": [],
   "source": [
    "## 8 .\n",
    "column_to_drop_7 = '자산 중 부동산 자산의 비중'"
   ]
  },
  {
   "cell_type": "code",
   "execution_count": 30,
   "id": "011a93c3",
   "metadata": {},
   "outputs": [
    {
     "name": "stdout",
     "output_type": "stream",
     "text": [
      "(10564, 193)\n"
     ]
    }
   ],
   "source": [
    "if not column_to_drop_7.startswith('Cat_'):\n",
    "    comp_8 = comp_7.drop(column_to_drop_7, axis=1)\n",
    "    X_8 = comp_8.drop('target', axis=1)\n",
    "    y_8 = comp_8['target']\n",
    "else:\n",
    "    comp_8 = comp_7.drop(comp_7.filter(regex='^' + column_to_drop_7).columns, axis=1)\n",
    "    X_8 = comp_8.drop('target', axis=1)\n",
    "    y_8 = comp_8['target']\n",
    "\n",
    "print(X_8.shape)"
   ]
  },
  {
   "cell_type": "code",
   "execution_count": null,
   "id": "37ee9f2d",
   "metadata": {},
   "outputs": [],
   "source": [
    "X_train, X_test, y_train, y_test = train_test_split(X_8, y_8, test_size=0.2, shuffle=True, stratify=y_8, random_state = 0)\n",
    "X_train, X_val, y_train, y_val = train_test_split(X_train, y_train, test_size=0.2, shuffle=True, stratify=y_train, random_state = 0)"
   ]
  },
  {
   "cell_type": "code",
   "execution_count": null,
   "id": "aaecbabf",
   "metadata": {},
   "outputs": [],
   "source": [
    "def objective(trial):\n",
    "    params = {\n",
    "        'max_depth' :trial.suggest_int('max_depth', 1, 10),\n",
    "        'min_samples_split' :trial.suggest_int('min_samples_split', 3, 10),\n",
    "        'min_samples_leaf' :trial.suggest_int('min_samples_leaf', 3, 10),\n",
    "        }\n",
    "        \n",
    "    clf = DecisionTreeClassifier(**params,random_state = 0)\n",
    "    clf.fit(X_train, y_train)\n",
    "    clf_proba = clf.predict_proba(X_val)[:, 1]\n",
    "        \n",
    "    AUC_SCORE = roc_auc_score(y_val, clf_proba)\n",
    "    return AUC_SCORE\n",
    "\n",
    "direction = \"maximize\"\n",
    "sampler = optuna.samplers.TPESampler(seed=10)\n",
    "study =  optuna.create_study(direction=direction, sampler=sampler, pruner=optuna.pruners.HyperbandPruner())\n",
    "early_stopping = EarlyStoppingCallback(10, direction=direction)\n",
    "study.optimize(objective, callbacks=[early_stopping], n_trials=200) "
   ]
  },
  {
   "cell_type": "code",
   "execution_count": null,
   "id": "7a09d1e8",
   "metadata": {},
   "outputs": [],
   "source": [
    "print(study.best_trial.params)\n",
    "optuna_auc = study.best_trial.value\n",
    "print(optuna_auc)"
   ]
  },
  {
   "cell_type": "code",
   "execution_count": null,
   "id": "1ce37407",
   "metadata": {},
   "outputs": [],
   "source": [
    "optuna_8 = DecisionTreeClassifier(**study.best_trial.params, random_state = 0)\n",
    "optuna_8.fit(X_train, y_train)"
   ]
  },
  {
   "cell_type": "code",
   "execution_count": null,
   "id": "6077a19e",
   "metadata": {},
   "outputs": [],
   "source": [
    "optuna_proba_8 = optuna_8.predict_proba(X_test)[:, 1]\n",
    "auc_8 = roc_auc_score(y_test, optuna_proba_8)\n",
    "print(decimal.Decimal(auc_8).quantize(decimal.Decimal('1.000')))"
   ]
  },
  {
   "cell_type": "code",
   "execution_count": null,
   "id": "f289dee9",
   "metadata": {},
   "outputs": [],
   "source": [
    "X_train = X_train.values\n",
    "y_train = y_train.values"
   ]
  },
  {
   "cell_type": "code",
   "execution_count": null,
   "id": "1312c76e",
   "metadata": {},
   "outputs": [],
   "source": [
    "auc_bootstrap = []"
   ]
  },
  {
   "cell_type": "code",
   "execution_count": null,
   "id": "c7234ff8",
   "metadata": {},
   "outputs": [],
   "source": [
    "rs = RandomState(seed = 8)\n",
    "bootstrap_auc(optuna_8, X_train, y_train, X_test, y_test, nsamples=2000)"
   ]
  },
  {
   "cell_type": "code",
   "execution_count": null,
   "id": "19dda620",
   "metadata": {},
   "outputs": [],
   "source": [
    "shapiro(auc_bootstrap), np.mean(auc_bootstrap)"
   ]
  },
  {
   "cell_type": "code",
   "execution_count": null,
   "id": "805e8bb1",
   "metadata": {},
   "outputs": [],
   "source": [
    "t_8 = auc_bootstrap\n",
    "print(t_8)"
   ]
  },
  {
   "cell_type": "code",
   "execution_count": null,
   "id": "987ab939",
   "metadata": {},
   "outputs": [],
   "source": [
    "del X_train, X_test, y_train, y_test, X_val, y_val,study, optuna_auc"
   ]
  },
  {
   "cell_type": "code",
   "execution_count": 31,
   "id": "efbf5b72",
   "metadata": {},
   "outputs": [],
   "source": [
    "#9.\n",
    "column_to_drop_8 = 'Cat_현재 상업시설 접근용이성'"
   ]
  },
  {
   "cell_type": "code",
   "execution_count": 32,
   "id": "0fb25e50",
   "metadata": {},
   "outputs": [
    {
     "name": "stdout",
     "output_type": "stream",
     "text": [
      "(10564, 189)\n"
     ]
    }
   ],
   "source": [
    "if not column_to_drop_8.startswith('Cat_'):\n",
    "    comp_9 = comp_8.drop(column_to_drop_8, axis=1)\n",
    "    X_9 = comp_9.drop('target', axis=1)\n",
    "    y_9 = comp_9['target']\n",
    "else:\n",
    "    comp_9 = comp_8.drop(comp_8.filter(regex='^' + column_to_drop_8).columns, axis=1)\n",
    "    X_9 = comp_9.drop('target', axis=1)\n",
    "    y_9 = comp_9['target']\n",
    "\n",
    "print(X_9.shape)"
   ]
  },
  {
   "cell_type": "code",
   "execution_count": null,
   "id": "fe8776b4",
   "metadata": {},
   "outputs": [],
   "source": [
    "X_train, X_test, y_train, y_test = train_test_split(X_9, y_9, test_size=0.2, shuffle=True, stratify=y_9, random_state = 0)\n",
    "X_train, X_val, y_train, y_val = train_test_split(X_train, y_train, test_size=0.2, shuffle=True, stratify=y_train, random_state = 0)"
   ]
  },
  {
   "cell_type": "code",
   "execution_count": null,
   "id": "da15b335",
   "metadata": {},
   "outputs": [],
   "source": [
    "def objective(trial):\n",
    "    params = {\n",
    "        'max_depth' :trial.suggest_int('max_depth', 1, 10),\n",
    "        'min_samples_split' :trial.suggest_int('min_samples_split', 3, 10),\n",
    "        'min_samples_leaf' :trial.suggest_int('min_samples_leaf', 3, 10),\n",
    "        }\n",
    "        \n",
    "    clf = DecisionTreeClassifier(**params,random_state = 0)\n",
    "    clf.fit(X_train, y_train)\n",
    "    clf_proba = clf.predict_proba(X_val)[:, 1]\n",
    "        \n",
    "    AUC_SCORE = roc_auc_score(y_val, clf_proba)\n",
    "    return AUC_SCORE\n",
    "\n",
    "direction = \"maximize\"\n",
    "sampler = optuna.samplers.TPESampler(seed=10)\n",
    "study =  optuna.create_study(direction=direction, sampler=sampler, pruner=optuna.pruners.HyperbandPruner())\n",
    "early_stopping = EarlyStoppingCallback(10, direction=direction)\n",
    "study.optimize(objective, callbacks=[early_stopping], n_trials=200) "
   ]
  },
  {
   "cell_type": "code",
   "execution_count": null,
   "id": "c8103a6d",
   "metadata": {},
   "outputs": [],
   "source": [
    "print(study.best_trial.params)\n",
    "optuna_auc = study.best_trial.value\n",
    "print(optuna_auc)"
   ]
  },
  {
   "cell_type": "code",
   "execution_count": null,
   "id": "61dfd635",
   "metadata": {},
   "outputs": [],
   "source": [
    "optuna_9 = DecisionTreeClassifier(**study.best_trial.params, random_state = 0)\n",
    "optuna_9.fit(X_train, y_train)"
   ]
  },
  {
   "cell_type": "code",
   "execution_count": null,
   "id": "6006695a",
   "metadata": {},
   "outputs": [],
   "source": [
    "optuna_proba_9 = optuna_9.predict_proba(X_test)[:, 1]\n",
    "auc_9 = roc_auc_score(y_test, optuna_proba_9)\n",
    "print(decimal.Decimal(auc_9).quantize(decimal.Decimal('1.000')))"
   ]
  },
  {
   "cell_type": "code",
   "execution_count": null,
   "id": "fca15900",
   "metadata": {},
   "outputs": [],
   "source": [
    "X_train = X_train.values\n",
    "y_train = y_train.values"
   ]
  },
  {
   "cell_type": "code",
   "execution_count": null,
   "id": "34f2fa2a",
   "metadata": {},
   "outputs": [],
   "source": [
    "auc_bootstrap = []"
   ]
  },
  {
   "cell_type": "code",
   "execution_count": null,
   "id": "a804fc77",
   "metadata": {},
   "outputs": [],
   "source": [
    "rs = RandomState(seed = 9)\n",
    "bootstrap_auc(optuna_9, X_train, y_train, X_test, y_test, nsamples=2000)"
   ]
  },
  {
   "cell_type": "code",
   "execution_count": null,
   "id": "39877ec5",
   "metadata": {},
   "outputs": [],
   "source": [
    "shapiro(auc_bootstrap), np.mean(auc_bootstrap)"
   ]
  },
  {
   "cell_type": "code",
   "execution_count": null,
   "id": "65b5e6f1",
   "metadata": {},
   "outputs": [],
   "source": [
    "t_9 = auc_bootstrap\n",
    "print(t_9)"
   ]
  },
  {
   "cell_type": "code",
   "execution_count": null,
   "id": "57212c93",
   "metadata": {},
   "outputs": [],
   "source": [
    "del X_train, X_test, y_train, y_test, X_val, y_val,study, optuna_auc"
   ]
  },
  {
   "cell_type": "code",
   "execution_count": 33,
   "id": "639c39cb",
   "metadata": {},
   "outputs": [],
   "source": [
    "# 10.\n",
    "column_to_drop_9 = 'Cat_현재 교육환경'"
   ]
  },
  {
   "cell_type": "code",
   "execution_count": 34,
   "id": "5bc2925e",
   "metadata": {},
   "outputs": [
    {
     "name": "stdout",
     "output_type": "stream",
     "text": [
      "(10564, 185)\n"
     ]
    }
   ],
   "source": [
    "if not column_to_drop_9.startswith('Cat_'):\n",
    "    comp_10 = comp_9.drop(column_to_drop_9, axis=1)\n",
    "    X_10 = comp_10.drop('target', axis=1)\n",
    "    y_10 = comp_10['target']\n",
    "else:\n",
    "    comp_10 = comp_9.drop(comp_9.filter(regex='^' + column_to_drop_9).columns, axis=1)\n",
    "    X_10 = comp_10.drop('target', axis=1)\n",
    "    y_10 = comp_10['target']\n",
    "\n",
    "print(X_10.shape)"
   ]
  },
  {
   "cell_type": "code",
   "execution_count": null,
   "id": "da0c33e7",
   "metadata": {},
   "outputs": [],
   "source": [
    "X_train, X_test, y_train, y_test = train_test_split(X_10, y_10, test_size=0.2, shuffle=True, stratify=y_10, random_state = 0)\n",
    "X_train, X_val, y_train, y_val = train_test_split(X_train, y_train, test_size=0.2, shuffle=True, stratify=y_train, random_state = 0)"
   ]
  },
  {
   "cell_type": "code",
   "execution_count": null,
   "id": "f8bd8ab0",
   "metadata": {},
   "outputs": [],
   "source": [
    "def objective(trial):\n",
    "    params = {\n",
    "        'max_depth' :trial.suggest_int('max_depth', 1, 10),\n",
    "        'min_samples_split' :trial.suggest_int('min_samples_split', 3, 10),\n",
    "        'min_samples_leaf' :trial.suggest_int('min_samples_leaf', 3, 10),\n",
    "        }\n",
    "        \n",
    "    clf = DecisionTreeClassifier(**params,random_state = 0)\n",
    "    clf.fit(X_train, y_train)\n",
    "    clf_proba = clf.predict_proba(X_val)[:, 1]\n",
    "        \n",
    "    AUC_SCORE = roc_auc_score(y_val, clf_proba)\n",
    "    return AUC_SCORE\n",
    "\n",
    "direction = \"maximize\"\n",
    "sampler = optuna.samplers.TPESampler(seed=10)\n",
    "study =  optuna.create_study(direction=direction, sampler=sampler, pruner=optuna.pruners.HyperbandPruner())\n",
    "early_stopping = EarlyStoppingCallback(10, direction=direction)\n",
    "study.optimize(objective, callbacks=[early_stopping], n_trials=200) "
   ]
  },
  {
   "cell_type": "code",
   "execution_count": null,
   "id": "a99cce07",
   "metadata": {},
   "outputs": [],
   "source": [
    "print(study.best_trial.params)\n",
    "optuna_auc = study.best_trial.value\n",
    "print(optuna_auc)"
   ]
  },
  {
   "cell_type": "code",
   "execution_count": null,
   "id": "d24b98c8",
   "metadata": {},
   "outputs": [],
   "source": [
    "optuna_10 = DecisionTreeClassifier(**study.best_trial.params, random_state=0)\n",
    "optuna_10.fit(X_train, y_train)"
   ]
  },
  {
   "cell_type": "code",
   "execution_count": null,
   "id": "4d9c0bb1",
   "metadata": {},
   "outputs": [],
   "source": [
    "optuna_proba_10 = optuna_10.predict_proba(X_test)[:, 1]\n",
    "auc_10 = roc_auc_score(y_test, optuna_proba_10)\n",
    "print(decimal.Decimal(auc_10).quantize(decimal.Decimal('1.000')))"
   ]
  },
  {
   "cell_type": "code",
   "execution_count": null,
   "id": "e155d989",
   "metadata": {},
   "outputs": [],
   "source": [
    "X_train = X_train.values\n",
    "y_train = y_train.values"
   ]
  },
  {
   "cell_type": "code",
   "execution_count": null,
   "id": "83cfea8f",
   "metadata": {},
   "outputs": [],
   "source": [
    "auc_bootstrap = []"
   ]
  },
  {
   "cell_type": "code",
   "execution_count": null,
   "id": "4413b9a4",
   "metadata": {},
   "outputs": [],
   "source": [
    "rs = RandomState(seed = 10)\n",
    "bootstrap_auc(optuna_10, X_train, y_train, X_test, y_test, nsamples=2000)"
   ]
  },
  {
   "cell_type": "code",
   "execution_count": null,
   "id": "cb2a5013",
   "metadata": {},
   "outputs": [],
   "source": [
    "from scipy.stats import shapiro"
   ]
  },
  {
   "cell_type": "code",
   "execution_count": null,
   "id": "a82f36bd",
   "metadata": {},
   "outputs": [],
   "source": [
    "shapiro(auc_bootstrap), np.mean(auc_bootstrap)"
   ]
  },
  {
   "cell_type": "code",
   "execution_count": null,
   "id": "03a46471",
   "metadata": {},
   "outputs": [],
   "source": [
    "t_10 = auc_bootstrap\n",
    "print(t_10)"
   ]
  },
  {
   "cell_type": "code",
   "execution_count": null,
   "id": "f75a2d7c",
   "metadata": {},
   "outputs": [],
   "source": [
    "del X_train, X_test, y_train, y_test, X_val, y_val,study, optuna_auc"
   ]
  },
  {
   "cell_type": "code",
   "execution_count": 35,
   "id": "e7ff90fe",
   "metadata": {},
   "outputs": [],
   "source": [
    "# 11.\n",
    "column_to_drop_10 = 'Cat_현재 문화시설 접근용이성'"
   ]
  },
  {
   "cell_type": "code",
   "execution_count": 36,
   "id": "2f996e0c",
   "metadata": {},
   "outputs": [
    {
     "name": "stdout",
     "output_type": "stream",
     "text": [
      "(10564, 181)\n"
     ]
    }
   ],
   "source": [
    "if not column_to_drop_10.startswith('Cat_'):\n",
    "    comp_11 = comp_10.drop(column_to_drop_10, axis=1)\n",
    "    X_11 = comp_11.drop('target', axis=1)\n",
    "    y_11 = comp_11['target']\n",
    "else:\n",
    "    comp_11 = comp_10.drop(comp_10.filter(regex='^' + column_to_drop_10).columns, axis=1)\n",
    "    X_11 = comp_11.drop('target', axis=1)\n",
    "    y_11 = comp_11['target']\n",
    "\n",
    "print(X_11.shape)"
   ]
  },
  {
   "cell_type": "code",
   "execution_count": null,
   "id": "e0aaa9b8",
   "metadata": {},
   "outputs": [],
   "source": [
    "X_train, X_test, y_train, y_test = train_test_split(X_11, y_11, test_size=0.2, shuffle=True, stratify=y_11, random_state = 0)\n",
    "X_train, X_val, y_train, y_val = train_test_split(X_train, y_train, test_size=0.2, shuffle=True, stratify=y_train, random_state = 0)"
   ]
  },
  {
   "cell_type": "code",
   "execution_count": null,
   "id": "29b0961f",
   "metadata": {},
   "outputs": [],
   "source": [
    "def objective(trial):\n",
    "    params = {\n",
    "        'max_depth' :trial.suggest_int('max_depth', 1, 10),\n",
    "        'min_samples_split' :trial.suggest_int('min_samples_split', 3, 10),\n",
    "        'min_samples_leaf' :trial.suggest_int('min_samples_leaf', 3, 10),\n",
    "        }\n",
    "        \n",
    "    clf = DecisionTreeClassifier(**params,random_state = 0)\n",
    "    clf.fit(X_train, y_train)\n",
    "    clf_proba = clf.predict_proba(X_val)[:, 1]\n",
    "        \n",
    "    AUC_SCORE = roc_auc_score(y_val, clf_proba)\n",
    "    return AUC_SCORE\n",
    "\n",
    "direction = \"maximize\"\n",
    "sampler = optuna.samplers.TPESampler(seed=10)\n",
    "study =  optuna.create_study(direction=direction, sampler=sampler, pruner=optuna.pruners.HyperbandPruner())\n",
    "early_stopping = EarlyStoppingCallback(10, direction=direction)\n",
    "study.optimize(objective, callbacks=[early_stopping], n_trials=200) "
   ]
  },
  {
   "cell_type": "code",
   "execution_count": null,
   "id": "4a03048b",
   "metadata": {},
   "outputs": [],
   "source": [
    "print(study.best_trial.params)\n",
    "optuna_auc = study.best_trial.value\n",
    "print(optuna_auc)"
   ]
  },
  {
   "cell_type": "code",
   "execution_count": null,
   "id": "1b72bf0b",
   "metadata": {},
   "outputs": [],
   "source": [
    "optuna_11 = DecisionTreeClassifier(**study.best_trial.params, random_state = 0)\n",
    "optuna_11.fit(X_train, y_train)"
   ]
  },
  {
   "cell_type": "code",
   "execution_count": null,
   "id": "c7a1faaa",
   "metadata": {},
   "outputs": [],
   "source": [
    "optuna_proba_11 = optuna_11.predict_proba(X_test)[:, 1]\n",
    "auc_11 = roc_auc_score(y_test, optuna_proba_11)\n",
    "print(decimal.Decimal(auc_11).quantize(decimal.Decimal('1.000')))"
   ]
  },
  {
   "cell_type": "code",
   "execution_count": null,
   "id": "3503027a",
   "metadata": {},
   "outputs": [],
   "source": [
    "X_train = X_train.values\n",
    "y_train = y_train.values"
   ]
  },
  {
   "cell_type": "code",
   "execution_count": null,
   "id": "e4fc0910",
   "metadata": {},
   "outputs": [],
   "source": [
    "auc_bootstrap = []"
   ]
  },
  {
   "cell_type": "code",
   "execution_count": null,
   "id": "e4376437",
   "metadata": {},
   "outputs": [],
   "source": [
    "rs = RandomState(seed = 11)\n",
    "bootstrap_auc(optuna_11, X_train, y_train, X_test, y_test, nsamples=2000)"
   ]
  },
  {
   "cell_type": "code",
   "execution_count": null,
   "id": "8519d048",
   "metadata": {},
   "outputs": [],
   "source": [
    "shapiro(auc_bootstrap), np.mean(auc_bootstrap)"
   ]
  },
  {
   "cell_type": "code",
   "execution_count": null,
   "id": "c057490b",
   "metadata": {},
   "outputs": [],
   "source": [
    "t_11 = auc_bootstrap\n",
    "print(t_11)"
   ]
  },
  {
   "cell_type": "code",
   "execution_count": null,
   "id": "57edaf4d",
   "metadata": {},
   "outputs": [],
   "source": [
    "del X_train, X_test, y_train, y_test, X_val, y_val,study, optuna_auc"
   ]
  },
  {
   "cell_type": "code",
   "execution_count": 37,
   "id": "84ea94aa",
   "metadata": {},
   "outputs": [],
   "source": [
    "# 12\n",
    "column_to_drop_11 = 'Cat_현재 주택의 구조'"
   ]
  },
  {
   "cell_type": "code",
   "execution_count": 38,
   "id": "937b3153",
   "metadata": {},
   "outputs": [
    {
     "name": "stdout",
     "output_type": "stream",
     "text": [
      "(10564, 179)\n"
     ]
    }
   ],
   "source": [
    "if not column_to_drop_11.startswith('Cat_'):\n",
    "    comp_12 = comp_11.drop(column_to_drop_11, axis=1)\n",
    "    X_12 = comp_12.drop('target', axis=1)\n",
    "    y_12 = comp_12['target']\n",
    "else:\n",
    "    comp_12 = comp_11.drop(comp_11.filter(regex='^' + column_to_drop_11).columns, axis=1)\n",
    "    X_12 = comp_12.drop('target', axis=1)\n",
    "    y_12 = comp_12['target']\n",
    "\n",
    "print(X_12.shape)"
   ]
  },
  {
   "cell_type": "code",
   "execution_count": null,
   "id": "2bb2d219",
   "metadata": {},
   "outputs": [],
   "source": [
    "X_train, X_test, y_train, y_test = train_test_split(X_12, y_12, test_size=0.2, shuffle=True, stratify=y_12, random_state = 0)\n",
    "X_train, X_val, y_train, y_val = train_test_split(X_train, y_train, test_size=0.2, shuffle=True, stratify=y_train, random_state = 0)"
   ]
  },
  {
   "cell_type": "code",
   "execution_count": null,
   "id": "bdd9b38f",
   "metadata": {},
   "outputs": [],
   "source": [
    "X_train.shape"
   ]
  },
  {
   "cell_type": "code",
   "execution_count": null,
   "id": "34e4701f",
   "metadata": {},
   "outputs": [],
   "source": [
    "def objective(trial):\n",
    "    params = {\n",
    "        'max_depth' :trial.suggest_int('max_depth', 1, 10),\n",
    "        'min_samples_split' :trial.suggest_int('min_samples_split', 3, 10),\n",
    "        'min_samples_leaf' :trial.suggest_int('min_samples_leaf', 3, 10),\n",
    "        }\n",
    "        \n",
    "    clf = DecisionTreeClassifier(**params,random_state = 0)\n",
    "    clf.fit(X_train, y_train)\n",
    "    clf_proba = clf.predict_proba(X_val)[:, 1]\n",
    "        \n",
    "    AUC_SCORE = roc_auc_score(y_val, clf_proba)\n",
    "    return AUC_SCORE\n",
    "\n",
    "direction = \"maximize\"\n",
    "sampler = optuna.samplers.TPESampler(seed=10)\n",
    "study =  optuna.create_study(direction=direction, sampler=sampler, pruner=optuna.pruners.HyperbandPruner())\n",
    "early_stopping = EarlyStoppingCallback(10, direction=direction)\n",
    "study.optimize(objective, callbacks=[early_stopping], n_trials=200) "
   ]
  },
  {
   "cell_type": "code",
   "execution_count": null,
   "id": "c7939ca9",
   "metadata": {},
   "outputs": [],
   "source": [
    "print(study.best_trial.params)\n",
    "optuna_auc = study.best_trial.value\n",
    "print(optuna_auc)"
   ]
  },
  {
   "cell_type": "code",
   "execution_count": null,
   "id": "195905c3",
   "metadata": {},
   "outputs": [],
   "source": [
    "optuna_12 = DecisionTreeClassifier(**study.best_trial.params, random_state = 0)\n",
    "optuna_12.fit(X_train, y_train)"
   ]
  },
  {
   "cell_type": "code",
   "execution_count": null,
   "id": "bf37b0cd",
   "metadata": {},
   "outputs": [],
   "source": [
    "optuna_proba_12 = optuna_12.predict_proba(X_test)[:, 1]\n",
    "auc_12 = roc_auc_score(y_test, optuna_proba_12)\n",
    "print(decimal.Decimal(auc_12).quantize(decimal.Decimal('1.000')))"
   ]
  },
  {
   "cell_type": "code",
   "execution_count": null,
   "id": "a66a7071",
   "metadata": {},
   "outputs": [],
   "source": [
    "X_train = X_train.values\n",
    "y_train = y_train.values"
   ]
  },
  {
   "cell_type": "code",
   "execution_count": null,
   "id": "8d9a7c44",
   "metadata": {},
   "outputs": [],
   "source": [
    "auc_bootstrap = []"
   ]
  },
  {
   "cell_type": "code",
   "execution_count": null,
   "id": "6baa9403",
   "metadata": {},
   "outputs": [],
   "source": [
    "rs = RandomState(seed = 12)\n",
    "bootstrap_auc(optuna_12, X_train, y_train, X_test, y_test, nsamples=2000)"
   ]
  },
  {
   "cell_type": "code",
   "execution_count": null,
   "id": "5d5ef31a",
   "metadata": {},
   "outputs": [],
   "source": [
    "shapiro(auc_bootstrap),np.mean(auc_bootstrap)"
   ]
  },
  {
   "cell_type": "code",
   "execution_count": null,
   "id": "ca01a08a",
   "metadata": {},
   "outputs": [],
   "source": [
    "t_12 = auc_bootstrap\n",
    "print(t_12)"
   ]
  },
  {
   "cell_type": "code",
   "execution_count": null,
   "id": "2fc2862d",
   "metadata": {},
   "outputs": [],
   "source": [
    "del X_train, X_test, y_train, y_test, X_val, y_val,study, optuna_auc"
   ]
  },
  {
   "cell_type": "code",
   "execution_count": 39,
   "id": "5fab855d",
   "metadata": {},
   "outputs": [],
   "source": [
    "# 13.\n",
    "column_to_drop_12 = '소득 중 재산소득의 비중(월평균)'"
   ]
  },
  {
   "cell_type": "code",
   "execution_count": 40,
   "id": "cf1b0a7f",
   "metadata": {},
   "outputs": [
    {
     "name": "stdout",
     "output_type": "stream",
     "text": [
      "(10564, 178)\n"
     ]
    }
   ],
   "source": [
    "if not column_to_drop_12.startswith('Cat_'):\n",
    "    comp_13 = comp_12.drop(column_to_drop_12, axis=1)\n",
    "    X_13 = comp_13.drop('target', axis=1)\n",
    "    y_13 = comp_13['target']\n",
    "else:\n",
    "    comp_13 = comp_12.drop(comp_12.filter(regex='^' + column_to_drop_12).columns, axis=1)\n",
    "    X_13 = comp_13.drop('target', axis=1)\n",
    "    y_13 = comp_13['target']\n",
    "\n",
    "print(X_13.shape)"
   ]
  },
  {
   "cell_type": "code",
   "execution_count": null,
   "id": "dae42c3a",
   "metadata": {},
   "outputs": [],
   "source": [
    "X_train, X_test, y_train, y_test = train_test_split(X_13, y_13, test_size=0.2, shuffle=True, stratify=y_13, random_state = 0)\n",
    "X_train, X_val, y_train, y_val = train_test_split(X_train, y_train, test_size=0.2, shuffle=True, stratify=y_train, random_state = 0)"
   ]
  },
  {
   "cell_type": "code",
   "execution_count": null,
   "id": "bc3c7f5a",
   "metadata": {},
   "outputs": [],
   "source": [
    "def objective(trial):\n",
    "    params = {\n",
    "        'max_depth' :trial.suggest_int('max_depth', 1, 10),\n",
    "        'min_samples_split' :trial.suggest_int('min_samples_split', 3, 10),\n",
    "        'min_samples_leaf' :trial.suggest_int('min_samples_leaf', 3, 10),\n",
    "        }\n",
    "        \n",
    "    clf = DecisionTreeClassifier(**params,random_state = 0)\n",
    "    clf.fit(X_train, y_train)\n",
    "    clf_proba = clf.predict_proba(X_val)[:, 1]\n",
    "        \n",
    "    AUC_SCORE = roc_auc_score(y_val, clf_proba)\n",
    "    return AUC_SCORE\n",
    "\n",
    "direction = \"maximize\"\n",
    "sampler = optuna.samplers.TPESampler(seed=10)\n",
    "study =  optuna.create_study(direction=direction, sampler=sampler, pruner=optuna.pruners.HyperbandPruner())\n",
    "early_stopping = EarlyStoppingCallback(10, direction=direction)\n",
    "study.optimize(objective, callbacks=[early_stopping], n_trials=200) "
   ]
  },
  {
   "cell_type": "code",
   "execution_count": null,
   "id": "e78d1716",
   "metadata": {},
   "outputs": [],
   "source": [
    "print(study.best_trial.params)\n",
    "optuna_auc = study.best_trial.value\n",
    "print(optuna_auc)"
   ]
  },
  {
   "cell_type": "code",
   "execution_count": null,
   "id": "38d0b54c",
   "metadata": {},
   "outputs": [],
   "source": [
    "optuna_13 = DecisionTreeClassifier(**study.best_trial.params, random_state = 0)\n",
    "optuna_13.fit(X_train, y_train)"
   ]
  },
  {
   "cell_type": "code",
   "execution_count": null,
   "id": "cb63fac2",
   "metadata": {},
   "outputs": [],
   "source": [
    "optuna_proba_13 = optuna_13.predict_proba(X_test)[:, 1]\n",
    "auc_13 = roc_auc_score(y_test, optuna_proba_13)\n",
    "print(decimal.Decimal(auc_13).quantize(decimal.Decimal('1.000')))"
   ]
  },
  {
   "cell_type": "code",
   "execution_count": null,
   "id": "2d75f0c0",
   "metadata": {},
   "outputs": [],
   "source": [
    "X_train = X_train.values\n",
    "y_train = y_train.values"
   ]
  },
  {
   "cell_type": "code",
   "execution_count": null,
   "id": "dae925a7",
   "metadata": {},
   "outputs": [],
   "source": [
    "auc_bootstrap = []"
   ]
  },
  {
   "cell_type": "code",
   "execution_count": null,
   "id": "539c73f3",
   "metadata": {},
   "outputs": [],
   "source": [
    "rs = RandomState(seed = 13)\n",
    "bootstrap_auc(optuna_13, X_train, y_train, X_test, y_test, nsamples=2000)"
   ]
  },
  {
   "cell_type": "code",
   "execution_count": null,
   "id": "21ec783d",
   "metadata": {},
   "outputs": [],
   "source": [
    "shapiro(auc_bootstrap),np.mean(auc_bootstrap)"
   ]
  },
  {
   "cell_type": "code",
   "execution_count": null,
   "id": "596c69b6",
   "metadata": {},
   "outputs": [],
   "source": [
    "t_13 = auc_bootstrap\n",
    "print(t_13)"
   ]
  },
  {
   "cell_type": "code",
   "execution_count": null,
   "id": "d49b5dbf",
   "metadata": {},
   "outputs": [],
   "source": [
    "del X_train, X_test, y_train, y_test, X_val, y_val,study, optuna_auc"
   ]
  },
  {
   "cell_type": "code",
   "execution_count": 41,
   "id": "5954189c",
   "metadata": {},
   "outputs": [],
   "source": [
    "#14.\n",
    "column_to_drop_13 = 'Cat_소득 계층'"
   ]
  },
  {
   "cell_type": "code",
   "execution_count": 42,
   "id": "760a5b91",
   "metadata": {},
   "outputs": [
    {
     "name": "stdout",
     "output_type": "stream",
     "text": [
      "(10564, 176)\n"
     ]
    }
   ],
   "source": [
    "if not column_to_drop_13.startswith('Cat_'):\n",
    "    comp_14 = comp_13.drop(column_to_drop_13, axis=1)\n",
    "    X_14 = comp_14.drop('target', axis=1)\n",
    "    y_14 = comp_14['target']\n",
    "else:\n",
    "    comp_14 = comp_13.drop(comp_13.filter(regex='^' + column_to_drop_13).columns, axis=1)\n",
    "    X_14 = comp_14.drop('target', axis=1)\n",
    "    y_14 = comp_14['target']\n",
    "\n",
    "print(X_14.shape)"
   ]
  },
  {
   "cell_type": "code",
   "execution_count": null,
   "id": "9366196f",
   "metadata": {},
   "outputs": [],
   "source": [
    "X_train, X_test, y_train, y_test = train_test_split(X_14, y_14, test_size=0.2, shuffle=True, stratify=y_14, random_state = 0)\n",
    "X_train, X_val, y_train, y_val = train_test_split(X_train, y_train, test_size=0.2, shuffle=True, stratify=y_train, random_state = 0)"
   ]
  },
  {
   "cell_type": "code",
   "execution_count": null,
   "id": "d4baf2c0",
   "metadata": {},
   "outputs": [],
   "source": [
    "def objective(trial):\n",
    "    params = {\n",
    "        'max_depth' :trial.suggest_int('max_depth', 1, 10),\n",
    "        'min_samples_split' :trial.suggest_int('min_samples_split', 3, 10),\n",
    "        'min_samples_leaf' :trial.suggest_int('min_samples_leaf', 3, 10),\n",
    "        }\n",
    "        \n",
    "    clf = DecisionTreeClassifier(**params,random_state = 0)\n",
    "    clf.fit(X_train, y_train)\n",
    "    clf_proba = clf.predict_proba(X_val)[:, 1]\n",
    "        \n",
    "    AUC_SCORE = roc_auc_score(y_val, clf_proba)\n",
    "    return AUC_SCORE\n",
    "\n",
    "direction = \"maximize\"\n",
    "sampler = optuna.samplers.TPESampler(seed=10)\n",
    "study =  optuna.create_study(direction=direction, sampler=sampler, pruner=optuna.pruners.HyperbandPruner())\n",
    "early_stopping = EarlyStoppingCallback(10, direction=direction)\n",
    "study.optimize(objective, callbacks=[early_stopping], n_trials=200) "
   ]
  },
  {
   "cell_type": "code",
   "execution_count": null,
   "id": "180d1fb4",
   "metadata": {},
   "outputs": [],
   "source": [
    "print(study.best_trial.params)\n",
    "optuna_auc = study.best_trial.value\n",
    "print(optuna_auc)"
   ]
  },
  {
   "cell_type": "code",
   "execution_count": null,
   "id": "15ae61a2",
   "metadata": {},
   "outputs": [],
   "source": [
    "optuna_14 = DecisionTreeClassifier(**study.best_trial.params, random_state = 0)\n",
    "optuna_14.fit(X_train, y_train)"
   ]
  },
  {
   "cell_type": "code",
   "execution_count": null,
   "id": "74d27c59",
   "metadata": {},
   "outputs": [],
   "source": [
    "optuna_proba_14 = optuna_14.predict_proba(X_test)[:, 1]\n",
    "auc_14 = roc_auc_score(y_test, optuna_proba_14)\n",
    "print(decimal.Decimal(auc_14).quantize(decimal.Decimal('1.000')))"
   ]
  },
  {
   "cell_type": "code",
   "execution_count": null,
   "id": "6b4c0321",
   "metadata": {},
   "outputs": [],
   "source": [
    "X_train = X_train.values\n",
    "y_train = y_train.values"
   ]
  },
  {
   "cell_type": "code",
   "execution_count": null,
   "id": "282c45e7",
   "metadata": {},
   "outputs": [],
   "source": [
    "auc_bootstrap = []"
   ]
  },
  {
   "cell_type": "code",
   "execution_count": null,
   "id": "4c59d887",
   "metadata": {},
   "outputs": [],
   "source": [
    "rs = RandomState(seed = 14)\n",
    "bootstrap_auc(optuna_14, X_train, y_train, X_test, y_test, nsamples=2000)"
   ]
  },
  {
   "cell_type": "code",
   "execution_count": null,
   "id": "b8bd119b",
   "metadata": {},
   "outputs": [],
   "source": [
    "shapiro(auc_bootstrap),np.mean(auc_bootstrap)"
   ]
  },
  {
   "cell_type": "code",
   "execution_count": null,
   "id": "675135ee",
   "metadata": {},
   "outputs": [],
   "source": [
    "t_14 = auc_bootstrap\n",
    "print(t_14)"
   ]
  },
  {
   "cell_type": "code",
   "execution_count": null,
   "id": "c06db45c",
   "metadata": {},
   "outputs": [],
   "source": [
    "del X_train, X_test, y_train, y_test, X_val, y_val,study, optuna_auc"
   ]
  },
  {
   "cell_type": "code",
   "execution_count": 43,
   "id": "3e62bccf",
   "metadata": {},
   "outputs": [],
   "source": [
    "## 15.\n",
    "column_to_drop_14 = 'Cat_이사 계획 첫 번째 이유'"
   ]
  },
  {
   "cell_type": "code",
   "execution_count": 44,
   "id": "d54b6b92",
   "metadata": {},
   "outputs": [
    {
     "name": "stdout",
     "output_type": "stream",
     "text": [
      "(10564, 164)\n"
     ]
    }
   ],
   "source": [
    "if not column_to_drop_14.startswith('Cat_'):\n",
    "    comp_15 = comp_14.drop(column_to_drop_14, axis=1)\n",
    "    X_15 = comp_15.drop('target', axis=1)\n",
    "    y_15 = comp_15['target']\n",
    "else:\n",
    "    comp_15 = comp_14.drop(comp_14.filter(regex='^' + column_to_drop_14).columns, axis=1)\n",
    "    X_15 = comp_15.drop('target', axis=1)\n",
    "    y_15 = comp_15['target']\n",
    "\n",
    "print(X_15.shape)"
   ]
  },
  {
   "cell_type": "code",
   "execution_count": null,
   "id": "3026b0c2",
   "metadata": {},
   "outputs": [],
   "source": [
    "X_train, X_test, y_train, y_test = train_test_split(X_15, y_15, test_size=0.2, shuffle=True, stratify=y_15, random_state = 0)\n",
    "X_train, X_val, y_train, y_val = train_test_split(X_train, y_train, test_size=0.2, shuffle=True, stratify=y_train, random_state = 0)"
   ]
  },
  {
   "cell_type": "code",
   "execution_count": null,
   "id": "d6fbb93e",
   "metadata": {},
   "outputs": [],
   "source": [
    "def objective(trial):\n",
    "    params = {\n",
    "        'max_depth' :trial.suggest_int('max_depth', 1, 10),\n",
    "        'min_samples_split' :trial.suggest_int('min_samples_split', 3, 10),\n",
    "        'min_samples_leaf' :trial.suggest_int('min_samples_leaf', 3, 10),\n",
    "        }\n",
    "        \n",
    "    clf = DecisionTreeClassifier(**params,random_state = 0)\n",
    "    clf.fit(X_train, y_train)\n",
    "    clf_proba = clf.predict_proba(X_val)[:, 1]\n",
    "        \n",
    "    AUC_SCORE = roc_auc_score(y_val, clf_proba)\n",
    "    return AUC_SCORE\n",
    "\n",
    "direction = \"maximize\"\n",
    "sampler = optuna.samplers.TPESampler(seed=10)\n",
    "study =  optuna.create_study(direction=direction, sampler=sampler, pruner=optuna.pruners.HyperbandPruner())\n",
    "early_stopping = EarlyStoppingCallback(10, direction=direction)\n",
    "study.optimize(objective, callbacks=[early_stopping], n_trials=200) "
   ]
  },
  {
   "cell_type": "code",
   "execution_count": null,
   "id": "5f7a598d",
   "metadata": {},
   "outputs": [],
   "source": [
    "print(study.best_trial.params)\n",
    "optuna_auc = study.best_trial.value\n",
    "print(optuna_auc)"
   ]
  },
  {
   "cell_type": "code",
   "execution_count": null,
   "id": "172f73a9",
   "metadata": {},
   "outputs": [],
   "source": [
    "optuna_15 = DecisionTreeClassifier(**study.best_trial.params, random_state = 0)\n",
    "optuna_15.fit(X_train, y_train)"
   ]
  },
  {
   "cell_type": "code",
   "execution_count": null,
   "id": "a390b76b",
   "metadata": {},
   "outputs": [],
   "source": [
    "optuna_proba_15 = optuna_15.predict_proba(X_test)[:, 1]\n",
    "auc_15 = roc_auc_score(y_test, optuna_proba_15)\n",
    "print(decimal.Decimal(auc_15).quantize(decimal.Decimal('1.000')))"
   ]
  },
  {
   "cell_type": "code",
   "execution_count": null,
   "id": "a22122a2",
   "metadata": {},
   "outputs": [],
   "source": [
    "X_train = X_train.values\n",
    "y_train = y_train.values"
   ]
  },
  {
   "cell_type": "code",
   "execution_count": null,
   "id": "40a16d1b",
   "metadata": {},
   "outputs": [],
   "source": [
    "auc_bootstrap = []"
   ]
  },
  {
   "cell_type": "code",
   "execution_count": null,
   "id": "9193e6bc",
   "metadata": {},
   "outputs": [],
   "source": [
    "rs = RandomState(seed = 15)\n",
    "bootstrap_auc(optuna_15, X_train, y_train, X_test, y_test, nsamples=2000)"
   ]
  },
  {
   "cell_type": "code",
   "execution_count": null,
   "id": "cb7c401f",
   "metadata": {},
   "outputs": [],
   "source": [
    "shapiro(auc_bootstrap),np.mean(auc_bootstrap)"
   ]
  },
  {
   "cell_type": "code",
   "execution_count": null,
   "id": "6f0ab36e",
   "metadata": {},
   "outputs": [],
   "source": [
    "t_15 = auc_bootstrap\n",
    "print(t_15)"
   ]
  },
  {
   "cell_type": "code",
   "execution_count": null,
   "id": "35b52771",
   "metadata": {},
   "outputs": [],
   "source": [
    "del X_train, X_test, y_train, y_test, X_val, y_val,study, optuna_auc"
   ]
  },
  {
   "cell_type": "code",
   "execution_count": 45,
   "id": "b188ee1a",
   "metadata": {},
   "outputs": [],
   "source": [
    "# 16.\n",
    "column_to_drop_15 = '부채 중 비금융기관 대출금의 비중'"
   ]
  },
  {
   "cell_type": "code",
   "execution_count": 46,
   "id": "022bd592",
   "metadata": {},
   "outputs": [
    {
     "name": "stdout",
     "output_type": "stream",
     "text": [
      "(10564, 163)\n"
     ]
    }
   ],
   "source": [
    "if not column_to_drop_15.startswith('Cat_'):\n",
    "    comp_16 = comp_15.drop(column_to_drop_15, axis=1)\n",
    "    X_16 = comp_16.drop('target', axis=1)\n",
    "    y_16 = comp_16['target']\n",
    "else:\n",
    "    comp_16 = comp_15.drop(comp_15.filter(regex='^' + column_to_drop_15).columns, axis=1)\n",
    "    X_16 = comp_16.drop('target', axis=1)\n",
    "    y_16 = comp_16['target']\n",
    "\n",
    "print(X_16.shape)"
   ]
  },
  {
   "cell_type": "code",
   "execution_count": null,
   "id": "3810ac19",
   "metadata": {},
   "outputs": [],
   "source": [
    "X_train, X_test, y_train, y_test = train_test_split(X_16, y_16, test_size=0.2, shuffle=True, stratify=y_16, random_state = 0)\n",
    "X_train, X_val, y_train, y_val = train_test_split(X_train, y_train, test_size=0.2, shuffle=True, stratify=y_train, random_state = 0)"
   ]
  },
  {
   "cell_type": "code",
   "execution_count": null,
   "id": "333e9bfa",
   "metadata": {},
   "outputs": [],
   "source": [
    "def objective(trial):\n",
    "    params = {\n",
    "        'max_depth' :trial.suggest_int('max_depth', 1, 10),\n",
    "        'min_samples_split' :trial.suggest_int('min_samples_split', 3, 10),\n",
    "        'min_samples_leaf' :trial.suggest_int('min_samples_leaf', 3, 10),\n",
    "        }\n",
    "        \n",
    "    clf = DecisionTreeClassifier(**params,random_state = 0)\n",
    "    clf.fit(X_train, y_train)\n",
    "    clf_proba = clf.predict_proba(X_val)[:, 1]\n",
    "        \n",
    "    AUC_SCORE = roc_auc_score(y_val, clf_proba)\n",
    "    return AUC_SCORE\n",
    "\n",
    "direction = \"maximize\"\n",
    "sampler = optuna.samplers.TPESampler(seed=10)\n",
    "study =  optuna.create_study(direction=direction, sampler=sampler, pruner=optuna.pruners.HyperbandPruner())\n",
    "early_stopping = EarlyStoppingCallback(10, direction=direction)\n",
    "study.optimize(objective, callbacks=[early_stopping], n_trials=200) "
   ]
  },
  {
   "cell_type": "code",
   "execution_count": null,
   "id": "b9330036",
   "metadata": {},
   "outputs": [],
   "source": [
    "print(study.best_trial.params)\n",
    "optuna_auc = study.best_trial.value\n",
    "print(optuna_auc)"
   ]
  },
  {
   "cell_type": "code",
   "execution_count": null,
   "id": "735edb16",
   "metadata": {},
   "outputs": [],
   "source": [
    "optuna_16 = DecisionTreeClassifier(**study.best_trial.params, random_state = 0)\n",
    "optuna_16.fit(X_train, y_train)"
   ]
  },
  {
   "cell_type": "code",
   "execution_count": null,
   "id": "6ae1dbae",
   "metadata": {},
   "outputs": [],
   "source": [
    "optuna_proba_16 = optuna_16.predict_proba(X_test)[:, 1]\n",
    "auc_16 = roc_auc_score(y_test, optuna_proba_16)\n",
    "print(decimal.Decimal(auc_16).quantize(decimal.Decimal('1.000')))"
   ]
  },
  {
   "cell_type": "code",
   "execution_count": null,
   "id": "c81e3bad",
   "metadata": {},
   "outputs": [],
   "source": [
    "X_train = X_train.values\n",
    "y_train = y_train.values"
   ]
  },
  {
   "cell_type": "code",
   "execution_count": null,
   "id": "b68d3d00",
   "metadata": {},
   "outputs": [],
   "source": [
    "auc_bootstrap = []"
   ]
  },
  {
   "cell_type": "code",
   "execution_count": null,
   "id": "f0eb4906",
   "metadata": {},
   "outputs": [],
   "source": [
    "rs = RandomState(seed = 16)\n",
    "bootstrap_auc(optuna_16, X_train, y_train, X_test, y_test, nsamples=2000)"
   ]
  },
  {
   "cell_type": "code",
   "execution_count": null,
   "id": "c13210d6",
   "metadata": {},
   "outputs": [],
   "source": [
    "shapiro(auc_bootstrap), np.mean(auc_bootstrap)"
   ]
  },
  {
   "cell_type": "code",
   "execution_count": null,
   "id": "d631c41e",
   "metadata": {},
   "outputs": [],
   "source": [
    "t_16 = auc_bootstrap\n",
    "print(t_16)"
   ]
  },
  {
   "cell_type": "code",
   "execution_count": null,
   "id": "b4ca2058",
   "metadata": {},
   "outputs": [],
   "source": [
    "del X_train, X_test, y_train, y_test, X_val, y_val,study, optuna_auc"
   ]
  },
  {
   "cell_type": "code",
   "execution_count": 47,
   "id": "29facd1b",
   "metadata": {},
   "outputs": [],
   "source": [
    "# 17.\n",
    "column_to_drop_16 = 'Cat_현재 자동차 경적/집주변의 소음 정도'"
   ]
  },
  {
   "cell_type": "code",
   "execution_count": 48,
   "id": "df7d948a",
   "metadata": {},
   "outputs": [
    {
     "name": "stdout",
     "output_type": "stream",
     "text": [
      "(10564, 159)\n"
     ]
    }
   ],
   "source": [
    "if not column_to_drop_16.startswith('Cat_'):\n",
    "    comp_17 = comp_16.drop(column_to_drop_16, axis=1)\n",
    "    X_17 = comp_17.drop('target', axis=1)\n",
    "    y_17 = comp_17['target']\n",
    "else:\n",
    "    comp_17 = comp_16.drop(comp_16.filter(regex='^' + column_to_drop_16).columns, axis=1)\n",
    "    X_17 = comp_17.drop('target', axis=1)\n",
    "    y_17 = comp_17['target']\n",
    "\n",
    "print(X_17.shape)"
   ]
  },
  {
   "cell_type": "code",
   "execution_count": null,
   "id": "314d7547",
   "metadata": {},
   "outputs": [],
   "source": [
    "X_train, X_test, y_train, y_test = train_test_split(X_17, y_17, test_size=0.2, shuffle=True, stratify=y_17, random_state = 0)\n",
    "X_train, X_val, y_train, y_val = train_test_split(X_train, y_train, test_size=0.2, shuffle=True, stratify=y_train, random_state = 0)"
   ]
  },
  {
   "cell_type": "code",
   "execution_count": null,
   "id": "120ae9bb",
   "metadata": {},
   "outputs": [],
   "source": [
    "def objective(trial):\n",
    "    params = {\n",
    "        'max_depth' :trial.suggest_int('max_depth', 1, 10),\n",
    "        'min_samples_split' :trial.suggest_int('min_samples_split', 3, 10),\n",
    "        'min_samples_leaf' :trial.suggest_int('min_samples_leaf', 3, 10),\n",
    "        }\n",
    "        \n",
    "    clf = DecisionTreeClassifier(**params,random_state = 0)\n",
    "    clf.fit(X_train, y_train)\n",
    "    clf_proba = clf.predict_proba(X_val)[:, 1]\n",
    "        \n",
    "    AUC_SCORE = roc_auc_score(y_val, clf_proba)\n",
    "    return AUC_SCORE\n",
    "\n",
    "direction = \"maximize\"\n",
    "sampler = optuna.samplers.TPESampler(seed=10)\n",
    "study =  optuna.create_study(direction=direction, sampler=sampler, pruner=optuna.pruners.HyperbandPruner())\n",
    "early_stopping = EarlyStoppingCallback(10, direction=direction)\n",
    "study.optimize(objective, callbacks=[early_stopping], n_trials=200) "
   ]
  },
  {
   "cell_type": "code",
   "execution_count": null,
   "id": "bf19ee24",
   "metadata": {},
   "outputs": [],
   "source": [
    "print(study.best_trial.params)\n",
    "optuna_auc = study.best_trial.value\n",
    "print(optuna_auc)"
   ]
  },
  {
   "cell_type": "code",
   "execution_count": null,
   "id": "8eb77d9a",
   "metadata": {},
   "outputs": [],
   "source": [
    "optuna_17 = DecisionTreeClassifier(**study.best_trial.params, random_state = 0)\n",
    "optuna_17.fit(X_train, y_train)"
   ]
  },
  {
   "cell_type": "code",
   "execution_count": null,
   "id": "b01e05f4",
   "metadata": {},
   "outputs": [],
   "source": [
    "optuna_proba_17 = optuna_17.predict_proba(X_test)[:, 1]\n",
    "auc_17 = roc_auc_score(y_test, optuna_proba_17)\n",
    "print(decimal.Decimal(auc_17).quantize(decimal.Decimal('1.000')))"
   ]
  },
  {
   "cell_type": "code",
   "execution_count": null,
   "id": "6b20f996",
   "metadata": {},
   "outputs": [],
   "source": [
    "X_train = X_train.values\n",
    "y_train = y_train.values"
   ]
  },
  {
   "cell_type": "code",
   "execution_count": null,
   "id": "c40ffb31",
   "metadata": {},
   "outputs": [],
   "source": [
    "auc_bootstrap = []"
   ]
  },
  {
   "cell_type": "code",
   "execution_count": null,
   "id": "ad6e2294",
   "metadata": {},
   "outputs": [],
   "source": [
    "rs = RandomState(seed = 17)\n",
    "bootstrap_auc(optuna_17, X_train, y_train, X_test, y_test, nsamples=2000)"
   ]
  },
  {
   "cell_type": "code",
   "execution_count": null,
   "id": "b30a392c",
   "metadata": {},
   "outputs": [],
   "source": [
    "shapiro(auc_bootstrap), np.mean(auc_bootstrap)"
   ]
  },
  {
   "cell_type": "code",
   "execution_count": null,
   "id": "10f4afcd",
   "metadata": {},
   "outputs": [],
   "source": [
    "t_17 = auc_bootstrap\n",
    "print(t_17)"
   ]
  },
  {
   "cell_type": "code",
   "execution_count": null,
   "id": "4f04d2a0",
   "metadata": {},
   "outputs": [],
   "source": [
    "del X_train, X_test, y_train, y_test, X_val, y_val,study, optuna_auc"
   ]
  },
  {
   "cell_type": "code",
   "execution_count": 49,
   "id": "01e13ad6",
   "metadata": {},
   "outputs": [],
   "source": [
    "## 18.\n",
    "column_to_drop_17 ='부채 중 임대 보증금의 비중'"
   ]
  },
  {
   "cell_type": "code",
   "execution_count": 50,
   "id": "f40de3b5",
   "metadata": {},
   "outputs": [
    {
     "name": "stdout",
     "output_type": "stream",
     "text": [
      "(10564, 158)\n"
     ]
    }
   ],
   "source": [
    "if not column_to_drop_17.startswith('Cat_'):\n",
    "    comp_18 = comp_17.drop(column_to_drop_17, axis=1)\n",
    "    X_18 = comp_18.drop('target', axis=1)\n",
    "    y_18 = comp_18['target']\n",
    "else:\n",
    "    comp_18 = comp_17.drop(comp_17.filter(regex='^' + column_to_drop_17).columns, axis=1)\n",
    "    X_18 = comp_18.drop('target', axis=1)\n",
    "    y_18 = comp_18['target']\n",
    "\n",
    "print(X_18.shape)"
   ]
  },
  {
   "cell_type": "code",
   "execution_count": null,
   "id": "530eeb47",
   "metadata": {},
   "outputs": [],
   "source": [
    "X_train, X_test, y_train, y_test = train_test_split(X_18, y_18, test_size=0.2, shuffle=True, stratify=y_18, random_state = 0)\n",
    "X_train, X_val, y_train, y_val = train_test_split(X_train, y_train, test_size=0.2, shuffle=True, stratify=y_train, random_state = 0)"
   ]
  },
  {
   "cell_type": "code",
   "execution_count": null,
   "id": "d9371118",
   "metadata": {},
   "outputs": [],
   "source": [
    "def objective(trial):\n",
    "    params = {\n",
    "        'max_depth' :trial.suggest_int('max_depth', 1, 10),\n",
    "        'min_samples_split' :trial.suggest_int('min_samples_split', 3, 10),\n",
    "        'min_samples_leaf' :trial.suggest_int('min_samples_leaf', 3, 10),\n",
    "        }\n",
    "        \n",
    "    clf = DecisionTreeClassifier(**params,random_state = 0)\n",
    "    clf.fit(X_train, y_train)\n",
    "    clf_proba = clf.predict_proba(X_val)[:, 1]\n",
    "        \n",
    "    AUC_SCORE = roc_auc_score(y_val, clf_proba)\n",
    "    return AUC_SCORE\n",
    "\n",
    "direction = \"maximize\"\n",
    "sampler = optuna.samplers.TPESampler(seed=10)\n",
    "study =  optuna.create_study(direction=direction, sampler=sampler, pruner=optuna.pruners.HyperbandPruner())\n",
    "early_stopping = EarlyStoppingCallback(10, direction=direction)\n",
    "study.optimize(objective, callbacks=[early_stopping], n_trials=200) "
   ]
  },
  {
   "cell_type": "code",
   "execution_count": null,
   "id": "e3935658",
   "metadata": {},
   "outputs": [],
   "source": [
    "print(study.best_trial.params)\n",
    "optuna_auc = study.best_trial.value\n",
    "print(optuna_auc)"
   ]
  },
  {
   "cell_type": "code",
   "execution_count": null,
   "id": "3bdced41",
   "metadata": {},
   "outputs": [],
   "source": [
    "optuna_18 = DecisionTreeClassifier(**study.best_trial.params, random_state = 0)\n",
    "optuna_18.fit(X_train, y_train)"
   ]
  },
  {
   "cell_type": "code",
   "execution_count": null,
   "id": "69a0cb3a",
   "metadata": {},
   "outputs": [],
   "source": [
    "optuna_proba_18 = optuna_18.predict_proba(X_test)[:, 1]\n",
    "auc_18 = roc_auc_score(y_test, optuna_proba_18)\n",
    "print(decimal.Decimal(auc_18).quantize(decimal.Decimal('1.000')))"
   ]
  },
  {
   "cell_type": "code",
   "execution_count": null,
   "id": "e04a97fa",
   "metadata": {},
   "outputs": [],
   "source": [
    "X_train = X_train.values\n",
    "y_train = y_train.values"
   ]
  },
  {
   "cell_type": "code",
   "execution_count": null,
   "id": "a71e4aa2",
   "metadata": {},
   "outputs": [],
   "source": [
    "auc_bootstrap = []"
   ]
  },
  {
   "cell_type": "code",
   "execution_count": null,
   "id": "eab8d9a1",
   "metadata": {},
   "outputs": [],
   "source": [
    "rs = RandomState(seed = 18)\n",
    "bootstrap_auc(optuna_18, X_train, y_train, X_test, y_test, nsamples=2000)"
   ]
  },
  {
   "cell_type": "code",
   "execution_count": null,
   "id": "99a216c9",
   "metadata": {},
   "outputs": [],
   "source": [
    "shapiro(auc_bootstrap), np.mean(auc_bootstrap)"
   ]
  },
  {
   "cell_type": "code",
   "execution_count": null,
   "id": "1b9acea5",
   "metadata": {},
   "outputs": [],
   "source": [
    "t_18 = auc_bootstrap\n",
    "print(t_18)"
   ]
  },
  {
   "cell_type": "code",
   "execution_count": null,
   "id": "e1a0da6f",
   "metadata": {},
   "outputs": [],
   "source": [
    "del X_train, X_test, y_train, y_test, X_val, y_val,study, optuna_auc"
   ]
  },
  {
   "cell_type": "code",
   "execution_count": 51,
   "id": "3bbe9a78",
   "metadata": {},
   "outputs": [],
   "source": [
    "# 19\n",
    "column_to_drop_18 = 'Cat_현재 주차시설 이용편의성'"
   ]
  },
  {
   "cell_type": "code",
   "execution_count": 52,
   "id": "c92655ab",
   "metadata": {},
   "outputs": [
    {
     "name": "stdout",
     "output_type": "stream",
     "text": [
      "(10564, 154)\n"
     ]
    }
   ],
   "source": [
    "if not column_to_drop_18.startswith('Cat_'):\n",
    "    comp_19 = comp_18.drop(column_to_drop_18, axis=1)\n",
    "    X_19 = comp_19.drop('target', axis=1)\n",
    "    y_19 = comp_19['target']\n",
    "else:\n",
    "    comp_19 = comp_18.drop(comp_18.filter(regex='^' + column_to_drop_18).columns, axis=1)\n",
    "    X_19 = comp_19.drop('target', axis=1)\n",
    "    y_19 = comp_19['target']\n",
    "\n",
    "print(X_19.shape)"
   ]
  },
  {
   "cell_type": "code",
   "execution_count": null,
   "id": "b1a56377",
   "metadata": {},
   "outputs": [],
   "source": [
    "X_train, X_test, y_train, y_test = train_test_split(X_19, y_19, test_size=0.2, shuffle=True, stratify=y_19, random_state = 0)\n",
    "X_train, X_val, y_train, y_val = train_test_split(X_train, y_train, test_size=0.2, shuffle=True, stratify=y_train, random_state = 0)"
   ]
  },
  {
   "cell_type": "code",
   "execution_count": null,
   "id": "8649a951",
   "metadata": {},
   "outputs": [],
   "source": [
    "def objective(trial):\n",
    "    params = {\n",
    "        'max_depth' :trial.suggest_int('max_depth', 1, 10),\n",
    "        'min_samples_split' :trial.suggest_int('min_samples_split', 3, 10),\n",
    "        'min_samples_leaf' :trial.suggest_int('min_samples_leaf', 3, 10),\n",
    "        }\n",
    "        \n",
    "    clf = DecisionTreeClassifier(**params,random_state = 0)\n",
    "    clf.fit(X_train, y_train)\n",
    "    clf_proba = clf.predict_proba(X_val)[:, 1]\n",
    "        \n",
    "    AUC_SCORE = roc_auc_score(y_val, clf_proba)\n",
    "    return AUC_SCORE\n",
    "\n",
    "direction = \"maximize\"\n",
    "sampler = optuna.samplers.TPESampler(seed=10)\n",
    "study =  optuna.create_study(direction=direction, sampler=sampler, pruner=optuna.pruners.HyperbandPruner())\n",
    "early_stopping = EarlyStoppingCallback(10, direction=direction)\n",
    "study.optimize(objective, callbacks=[early_stopping], n_trials=200) "
   ]
  },
  {
   "cell_type": "code",
   "execution_count": null,
   "id": "48ada3b1",
   "metadata": {},
   "outputs": [],
   "source": [
    "print(study.best_trial.params)\n",
    "optuna_auc = study.best_trial.value\n",
    "print(optuna_auc)"
   ]
  },
  {
   "cell_type": "code",
   "execution_count": null,
   "id": "b37d556c",
   "metadata": {},
   "outputs": [],
   "source": [
    "optuna_19 = DecisionTreeClassifier(**study.best_trial.params, random_state = 0)\n",
    "optuna_19.fit(X_train, y_train)"
   ]
  },
  {
   "cell_type": "code",
   "execution_count": null,
   "id": "21e2aa43",
   "metadata": {},
   "outputs": [],
   "source": [
    "optuna_proba_19 = optuna_19.predict_proba(X_test)[:, 1]\n",
    "auc_19 = roc_auc_score(y_test, optuna_proba_19)\n",
    "print(decimal.Decimal(auc_19).quantize(decimal.Decimal('1.000')))"
   ]
  },
  {
   "cell_type": "code",
   "execution_count": null,
   "id": "264c0b74",
   "metadata": {},
   "outputs": [],
   "source": [
    "X_train = X_train.values\n",
    "y_train = y_train.values"
   ]
  },
  {
   "cell_type": "code",
   "execution_count": null,
   "id": "3c63404a",
   "metadata": {},
   "outputs": [],
   "source": [
    "auc_bootstrap = []"
   ]
  },
  {
   "cell_type": "code",
   "execution_count": null,
   "id": "37151b0a",
   "metadata": {},
   "outputs": [],
   "source": [
    "rs = RandomState(seed = 19)\n",
    "bootstrap_auc(optuna_19, X_train, y_train, X_test, y_test, nsamples=2000)"
   ]
  },
  {
   "cell_type": "code",
   "execution_count": null,
   "id": "d99f00da",
   "metadata": {},
   "outputs": [],
   "source": [
    "shapiro(auc_bootstrap), np.mean(auc_bootstrap)"
   ]
  },
  {
   "cell_type": "code",
   "execution_count": null,
   "id": "a7a39ff0",
   "metadata": {},
   "outputs": [],
   "source": [
    "t_19 = auc_bootstrap\n",
    "print(t_19)"
   ]
  },
  {
   "cell_type": "code",
   "execution_count": 53,
   "id": "5907a915",
   "metadata": {},
   "outputs": [],
   "source": [
    "# 20.\n",
    "column_to_drop_19 = 'Cat_가구주 성별'"
   ]
  },
  {
   "cell_type": "code",
   "execution_count": 54,
   "id": "f063842e",
   "metadata": {},
   "outputs": [
    {
     "name": "stdout",
     "output_type": "stream",
     "text": [
      "(10564, 152)\n"
     ]
    }
   ],
   "source": [
    "if not column_to_drop_19.startswith('Cat_'):\n",
    "    comp_20 = comp_19.drop(column_to_drop_19, axis=1)\n",
    "    X_20 = comp_20.drop('target', axis=1)\n",
    "    y_20 = comp_20['target']\n",
    "else:\n",
    "    comp_20 = comp_19.drop(comp_19.filter(regex='^' + column_to_drop_19).columns, axis=1)\n",
    "    X_20 = comp_20.drop('target', axis=1)\n",
    "    y_20 = comp_20['target']\n",
    "\n",
    "print(X_20.shape)"
   ]
  },
  {
   "cell_type": "code",
   "execution_count": null,
   "id": "d3955c9f",
   "metadata": {},
   "outputs": [],
   "source": [
    "X_train, X_test, y_train, y_test = train_test_split(X_20, y_20, test_size=0.2, shuffle=True, stratify=y_20, random_state = 0)\n",
    "X_train, X_val, y_train, y_val = train_test_split(X_train, y_train, test_size=0.2, shuffle=True, stratify=y_train, random_state = 0)"
   ]
  },
  {
   "cell_type": "code",
   "execution_count": null,
   "id": "bb18013a",
   "metadata": {},
   "outputs": [],
   "source": [
    "def objective(trial):\n",
    "    params = {\n",
    "        'max_depth' :trial.suggest_int('max_depth', 1, 10),\n",
    "        'min_samples_split' :trial.suggest_int('min_samples_split', 3, 10),\n",
    "        'min_samples_leaf' :trial.suggest_int('min_samples_leaf', 3, 10),\n",
    "        }\n",
    "        \n",
    "    clf = DecisionTreeClassifier(**params,random_state = 0)\n",
    "    clf.fit(X_train, y_train)\n",
    "    clf_proba = clf.predict_proba(X_val)[:, 1]\n",
    "        \n",
    "    AUC_SCORE = roc_auc_score(y_val, clf_proba)\n",
    "    return AUC_SCORE\n",
    "\n",
    "direction = \"maximize\"\n",
    "sampler = optuna.samplers.TPESampler(seed=10)\n",
    "study =  optuna.create_study(direction=direction, sampler=sampler, pruner=optuna.pruners.HyperbandPruner())\n",
    "early_stopping = EarlyStoppingCallback(10, direction=direction)\n",
    "study.optimize(objective, callbacks=[early_stopping], n_trials=200) "
   ]
  },
  {
   "cell_type": "code",
   "execution_count": null,
   "id": "3e421db6",
   "metadata": {},
   "outputs": [],
   "source": [
    "print(study.best_trial.params)\n",
    "optuna_auc = study.best_trial.value\n",
    "print(optuna_auc)"
   ]
  },
  {
   "cell_type": "code",
   "execution_count": null,
   "id": "34245831",
   "metadata": {},
   "outputs": [],
   "source": [
    "optuna_20 = DecisionTreeClassifier(**study.best_trial.params, random_state = 0)\n",
    "optuna_20.fit(X_train, y_train)"
   ]
  },
  {
   "cell_type": "code",
   "execution_count": null,
   "id": "29ad23a3",
   "metadata": {},
   "outputs": [],
   "source": [
    "optuna_proba_20 = optuna_20.predict_proba(X_test)[:, 1]\n",
    "auc_20 = roc_auc_score(y_test, optuna_proba_20)\n",
    "print(decimal.Decimal(auc_20).quantize(decimal.Decimal('1.000')))"
   ]
  },
  {
   "cell_type": "code",
   "execution_count": null,
   "id": "aae03acd",
   "metadata": {},
   "outputs": [],
   "source": [
    "X_train = X_train.values\n",
    "y_train = y_train.values"
   ]
  },
  {
   "cell_type": "code",
   "execution_count": null,
   "id": "5ee15517",
   "metadata": {},
   "outputs": [],
   "source": [
    "auc_bootstrap = []"
   ]
  },
  {
   "cell_type": "code",
   "execution_count": null,
   "id": "128a6ff0",
   "metadata": {},
   "outputs": [],
   "source": [
    "rs = RandomState(seed = 20)\n",
    "bootstrap_auc(optuna_20, X_train, y_train, X_test, y_test, nsamples=2000)"
   ]
  },
  {
   "cell_type": "code",
   "execution_count": null,
   "id": "3ae6b160",
   "metadata": {},
   "outputs": [],
   "source": [
    "shapiro(auc_bootstrap), np.mean(auc_bootstrap)"
   ]
  },
  {
   "cell_type": "code",
   "execution_count": null,
   "id": "305938d9",
   "metadata": {},
   "outputs": [],
   "source": [
    "t_20 = auc_bootstrap\n",
    "print(t_20)"
   ]
  },
  {
   "cell_type": "code",
   "execution_count": null,
   "id": "b3392a8a",
   "metadata": {},
   "outputs": [],
   "source": [
    "del X_train, X_test, y_train, y_test, X_val, y_val,study, optuna_auc"
   ]
  },
  {
   "cell_type": "code",
   "execution_count": 55,
   "id": "67808066",
   "metadata": {},
   "outputs": [],
   "source": [
    "# 21\n",
    "column_to_drop_20 = 'Cat_이사 예상 기간'"
   ]
  },
  {
   "cell_type": "code",
   "execution_count": 56,
   "id": "ca13682b",
   "metadata": {},
   "outputs": [
    {
     "name": "stdout",
     "output_type": "stream",
     "text": [
      "(10564, 148)\n"
     ]
    }
   ],
   "source": [
    "if not column_to_drop_20.startswith('Cat_'):\n",
    "    comp_21 = comp_20.drop(column_to_drop_20, axis=1)\n",
    "    X_21 = comp_21.drop('target', axis=1)\n",
    "    y_21 = comp_21['target']\n",
    "else:\n",
    "    comp_21 = comp_20.drop(comp_20.filter(regex='^' + column_to_drop_20).columns, axis=1)\n",
    "    X_21 = comp_21.drop('target', axis=1)\n",
    "    y_21 = comp_21['target']\n",
    "\n",
    "print(X_21.shape)"
   ]
  },
  {
   "cell_type": "code",
   "execution_count": null,
   "id": "16f9063d",
   "metadata": {},
   "outputs": [],
   "source": [
    "X_train, X_test, y_train, y_test = train_test_split(X_21, y_21, test_size=0.2, shuffle=True, stratify=y_21, random_state = 0)\n",
    "X_train, X_val, y_train, y_val = train_test_split(X_train, y_train, test_size=0.2, shuffle=True, stratify=y_train, random_state = 0)"
   ]
  },
  {
   "cell_type": "code",
   "execution_count": null,
   "id": "1f00db9a",
   "metadata": {},
   "outputs": [],
   "source": [
    "def objective(trial):\n",
    "    params = {\n",
    "        'max_depth' :trial.suggest_int('max_depth', 1, 10),\n",
    "        'min_samples_split' :trial.suggest_int('min_samples_split', 3, 10),\n",
    "        'min_samples_leaf' :trial.suggest_int('min_samples_leaf', 3, 10),\n",
    "        }\n",
    "        \n",
    "    clf = DecisionTreeClassifier(**params,random_state = 0)\n",
    "    clf.fit(X_train, y_train)\n",
    "    clf_proba = clf.predict_proba(X_val)[:, 1]\n",
    "        \n",
    "    AUC_SCORE = roc_auc_score(y_val, clf_proba)\n",
    "    return AUC_SCORE\n",
    "\n",
    "direction = \"maximize\"\n",
    "sampler = optuna.samplers.TPESampler(seed=10)\n",
    "study =  optuna.create_study(direction=direction, sampler=sampler, pruner=optuna.pruners.HyperbandPruner())\n",
    "early_stopping = EarlyStoppingCallback(10, direction=direction)\n",
    "study.optimize(objective, callbacks=[early_stopping], n_trials=200) "
   ]
  },
  {
   "cell_type": "code",
   "execution_count": null,
   "id": "77221f77",
   "metadata": {},
   "outputs": [],
   "source": [
    "print(study.best_trial.params)\n",
    "optuna_auc = study.best_trial.value\n",
    "print(optuna_auc)"
   ]
  },
  {
   "cell_type": "code",
   "execution_count": null,
   "id": "b1db755e",
   "metadata": {},
   "outputs": [],
   "source": [
    "optuna_21 = DecisionTreeClassifier(**study.best_trial.params, random_state = 0)\n",
    "optuna_21.fit(X_train, y_train)"
   ]
  },
  {
   "cell_type": "code",
   "execution_count": null,
   "id": "99685aa4",
   "metadata": {},
   "outputs": [],
   "source": [
    "optuna_proba_21 = optuna_21.predict_proba(X_test)[:, 1]\n",
    "auc_21 = roc_auc_score(y_test, optuna_proba_21)\n",
    "print(decimal.Decimal(auc_21).quantize(decimal.Decimal('1.000')))"
   ]
  },
  {
   "cell_type": "code",
   "execution_count": null,
   "id": "09117850",
   "metadata": {},
   "outputs": [],
   "source": [
    "X_train = X_train.values\n",
    "y_train = y_train.values"
   ]
  },
  {
   "cell_type": "code",
   "execution_count": null,
   "id": "9654d83a",
   "metadata": {},
   "outputs": [],
   "source": [
    "auc_bootstrap = []"
   ]
  },
  {
   "cell_type": "code",
   "execution_count": null,
   "id": "e7befa8c",
   "metadata": {},
   "outputs": [],
   "source": [
    "rs = RandomState(seed = 21)\n",
    "bootstrap_auc(optuna_21, X_train, y_train, X_test, y_test, nsamples=2000)"
   ]
  },
  {
   "cell_type": "code",
   "execution_count": null,
   "id": "6cbf6558",
   "metadata": {},
   "outputs": [],
   "source": [
    "shapiro(auc_bootstrap), np.mean(auc_bootstrap)"
   ]
  },
  {
   "cell_type": "code",
   "execution_count": null,
   "id": "b0724b44",
   "metadata": {},
   "outputs": [],
   "source": [
    "t_21 = auc_bootstrap\n",
    "print(t_21)"
   ]
  },
  {
   "cell_type": "code",
   "execution_count": null,
   "id": "35f0ef5e",
   "metadata": {},
   "outputs": [],
   "source": [
    "del X_train, X_test, y_train, y_test, X_val, y_val,study, optuna_auc"
   ]
  },
  {
   "cell_type": "code",
   "execution_count": 57,
   "id": "1b12d741",
   "metadata": {},
   "outputs": [],
   "source": [
    "# 22\n",
    "column_to_drop_21 = 'Cat_현재 주택의 위치'"
   ]
  },
  {
   "cell_type": "code",
   "execution_count": 58,
   "id": "dda5704e",
   "metadata": {},
   "outputs": [
    {
     "name": "stdout",
     "output_type": "stream",
     "text": [
      "(10564, 144)\n"
     ]
    }
   ],
   "source": [
    "if not column_to_drop_21.startswith('Cat_'):\n",
    "    comp_22 = comp_21.drop(column_to_drop_21, axis=1)\n",
    "    X_22 = comp_22.drop('target', axis=1)\n",
    "    y_22 = comp_22['target']\n",
    "else:\n",
    "    comp_22 = comp_21.drop(comp_21.filter(regex='^' + column_to_drop_21).columns, axis=1)\n",
    "    X_22 = comp_22.drop('target', axis=1)\n",
    "    y_22 = comp_22['target']\n",
    "\n",
    "print(X_22.shape)"
   ]
  },
  {
   "cell_type": "code",
   "execution_count": null,
   "id": "77efb7d7",
   "metadata": {},
   "outputs": [],
   "source": [
    "X_train, X_test, y_train, y_test = train_test_split(X_22, y_22, test_size=0.2, shuffle=True, stratify=y_22, random_state = 0)\n",
    "X_train, X_val, y_train, y_val = train_test_split(X_train, y_train, test_size=0.2, shuffle=True, stratify=y_train, random_state = 0)"
   ]
  },
  {
   "cell_type": "code",
   "execution_count": null,
   "id": "58e08cd6",
   "metadata": {},
   "outputs": [],
   "source": [
    "def objective(trial):\n",
    "    params = {\n",
    "        'max_depth' :trial.suggest_int('max_depth', 1, 10),\n",
    "        'min_samples_split' :trial.suggest_int('min_samples_split', 3, 10),\n",
    "        'min_samples_leaf' :trial.suggest_int('min_samples_leaf', 3, 10),\n",
    "        }\n",
    "        \n",
    "    clf = DecisionTreeClassifier(**params,random_state = 0)\n",
    "    clf.fit(X_train, y_train)\n",
    "    clf_proba = clf.predict_proba(X_val)[:, 1]\n",
    "        \n",
    "    AUC_SCORE = roc_auc_score(y_val, clf_proba)\n",
    "    return AUC_SCORE\n",
    "\n",
    "direction = \"maximize\"\n",
    "sampler = optuna.samplers.TPESampler(seed=10)\n",
    "study =  optuna.create_study(direction=direction, sampler=sampler, pruner=optuna.pruners.HyperbandPruner())\n",
    "early_stopping = EarlyStoppingCallback(10, direction=direction)\n",
    "study.optimize(objective, callbacks=[early_stopping], n_trials=200) "
   ]
  },
  {
   "cell_type": "code",
   "execution_count": null,
   "id": "321ce7d7",
   "metadata": {},
   "outputs": [],
   "source": [
    "print(study.best_trial.params)\n",
    "optuna_auc = study.best_trial.value\n",
    "print(optuna_auc)"
   ]
  },
  {
   "cell_type": "code",
   "execution_count": null,
   "id": "6593c138",
   "metadata": {},
   "outputs": [],
   "source": [
    "optuna_22 = DecisionTreeClassifier(**study.best_trial.params, random_state = 0)\n",
    "optuna_22.fit(X_train, y_train)"
   ]
  },
  {
   "cell_type": "code",
   "execution_count": null,
   "id": "65da5538",
   "metadata": {},
   "outputs": [],
   "source": [
    "optuna_proba_22 = optuna_22.predict_proba(X_test)[:, 1]\n",
    "auc_22 = roc_auc_score(y_test, optuna_proba_22)\n",
    "print(decimal.Decimal(auc_22).quantize(decimal.Decimal('1.000')))"
   ]
  },
  {
   "cell_type": "code",
   "execution_count": null,
   "id": "f51335c0",
   "metadata": {},
   "outputs": [],
   "source": [
    "X_train = X_train.values\n",
    "y_train = y_train.values"
   ]
  },
  {
   "cell_type": "code",
   "execution_count": null,
   "id": "0f110c04",
   "metadata": {},
   "outputs": [],
   "source": [
    "auc_bootstrap = []"
   ]
  },
  {
   "cell_type": "code",
   "execution_count": null,
   "id": "c2c9840a",
   "metadata": {},
   "outputs": [],
   "source": [
    "rs = RandomState(seed = 22)\n",
    "bootstrap_auc(optuna_22, X_train, y_train, X_test, y_test, nsamples=2000)"
   ]
  },
  {
   "cell_type": "code",
   "execution_count": null,
   "id": "210b404a",
   "metadata": {},
   "outputs": [],
   "source": [
    "shapiro(auc_bootstrap), np.mean(auc_bootstrap)"
   ]
  },
  {
   "cell_type": "code",
   "execution_count": null,
   "id": "a2e260e5",
   "metadata": {},
   "outputs": [],
   "source": [
    "t_22 = auc_bootstrap\n",
    "print(t_22)"
   ]
  },
  {
   "cell_type": "code",
   "execution_count": null,
   "id": "01e20540",
   "metadata": {},
   "outputs": [],
   "source": [
    "del X_train, X_test, y_train, y_test, X_val, y_val,study, optuna_auc"
   ]
  },
  {
   "cell_type": "code",
   "execution_count": 59,
   "id": "771f4519",
   "metadata": {},
   "outputs": [],
   "source": [
    "# 23.\n",
    "column_to_drop_22 = '총 가구원 수'"
   ]
  },
  {
   "cell_type": "code",
   "execution_count": 60,
   "id": "5a85e9ed",
   "metadata": {},
   "outputs": [
    {
     "name": "stdout",
     "output_type": "stream",
     "text": [
      "(10564, 143)\n"
     ]
    }
   ],
   "source": [
    "if not column_to_drop_22.startswith('Cat_'):\n",
    "    comp_23 = comp_22.drop(column_to_drop_22, axis=1)\n",
    "    X_23 = comp_23.drop('target', axis=1)\n",
    "    y_23 = comp_23['target']\n",
    "else:\n",
    "    comp_23 = comp_22.drop(comp_22.filter(regex='^' + column_to_drop_22).columns, axis=1)\n",
    "    X_23 = comp_23.drop('target', axis=1)\n",
    "    y_23 = comp_23['target']\n",
    "\n",
    "print(X_23.shape)"
   ]
  },
  {
   "cell_type": "code",
   "execution_count": null,
   "id": "a8587cf9",
   "metadata": {},
   "outputs": [],
   "source": [
    "X_train, X_test, y_train, y_test = train_test_split(X_23, y_23, test_size=0.2, shuffle=True, stratify=y_23, random_state = 0)\n",
    "X_train, X_val, y_train, y_val = train_test_split(X_train, y_train, test_size=0.2, shuffle=True, stratify=y_train, random_state = 0)"
   ]
  },
  {
   "cell_type": "code",
   "execution_count": null,
   "id": "7a5a0591",
   "metadata": {},
   "outputs": [],
   "source": [
    "def objective(trial):\n",
    "    params = {\n",
    "        'max_depth' :trial.suggest_int('max_depth', 1, 10),\n",
    "        'min_samples_split' :trial.suggest_int('min_samples_split', 3, 10),\n",
    "        'min_samples_leaf' :trial.suggest_int('min_samples_leaf', 3, 10),\n",
    "        }\n",
    "        \n",
    "    clf = DecisionTreeClassifier(**params,random_state = 0)\n",
    "    clf.fit(X_train, y_train)\n",
    "    clf_proba = clf.predict_proba(X_val)[:, 1]\n",
    "        \n",
    "    AUC_SCORE = roc_auc_score(y_val, clf_proba)\n",
    "    return AUC_SCORE\n",
    "\n",
    "direction = \"maximize\"\n",
    "sampler = optuna.samplers.TPESampler(seed=10)\n",
    "study =  optuna.create_study(direction=direction, sampler=sampler, pruner=optuna.pruners.HyperbandPruner())\n",
    "early_stopping = EarlyStoppingCallback(10, direction=direction)\n",
    "study.optimize(objective, callbacks=[early_stopping], n_trials=200) "
   ]
  },
  {
   "cell_type": "code",
   "execution_count": null,
   "id": "eb702c63",
   "metadata": {},
   "outputs": [],
   "source": [
    "print(study.best_trial.params)\n",
    "optuna_auc = study.best_trial.value\n",
    "print(optuna_auc)"
   ]
  },
  {
   "cell_type": "code",
   "execution_count": null,
   "id": "31f2ae01",
   "metadata": {},
   "outputs": [],
   "source": [
    "optuna_23 = DecisionTreeClassifier(**study.best_trial.params, random_state = 0)\n",
    "optuna_23.fit(X_train, y_train)"
   ]
  },
  {
   "cell_type": "code",
   "execution_count": null,
   "id": "4898252c",
   "metadata": {},
   "outputs": [],
   "source": [
    "optuna_proba_23 = optuna_23.predict_proba(X_test)[:, 1]\n",
    "auc_23 = roc_auc_score(y_test, optuna_proba_23)\n",
    "print(decimal.Decimal(auc_23).quantize(decimal.Decimal('1.000')))"
   ]
  },
  {
   "cell_type": "code",
   "execution_count": null,
   "id": "bc7d89b8",
   "metadata": {},
   "outputs": [],
   "source": [
    "X_train = X_train.values\n",
    "y_train = y_train.values"
   ]
  },
  {
   "cell_type": "code",
   "execution_count": null,
   "id": "4abb404d",
   "metadata": {},
   "outputs": [],
   "source": [
    "auc_bootstrap = []"
   ]
  },
  {
   "cell_type": "code",
   "execution_count": null,
   "id": "bf645b40",
   "metadata": {},
   "outputs": [],
   "source": [
    "rs = RandomState(seed = 23)\n",
    "bootstrap_auc(optuna_23, X_train, y_train, X_test, y_test, nsamples=2000)"
   ]
  },
  {
   "cell_type": "code",
   "execution_count": null,
   "id": "8b618adf",
   "metadata": {},
   "outputs": [],
   "source": [
    "shapiro(auc_bootstrap), np.mean(auc_bootstrap)"
   ]
  },
  {
   "cell_type": "code",
   "execution_count": null,
   "id": "a2432ba1",
   "metadata": {},
   "outputs": [],
   "source": [
    "t_23 = auc_bootstrap\n",
    "print(t_23)"
   ]
  },
  {
   "cell_type": "code",
   "execution_count": null,
   "id": "2efe1aad",
   "metadata": {},
   "outputs": [],
   "source": [
    "del X_train, X_test, y_train, y_test, X_val, y_val,study, optuna_auc"
   ]
  },
  {
   "cell_type": "code",
   "execution_count": 61,
   "id": "83cd3a68",
   "metadata": {},
   "outputs": [],
   "source": [
    "# 24\n",
    "column_to_drop_23 = '소득 중 사적이전소득의 비중(월평균)'"
   ]
  },
  {
   "cell_type": "code",
   "execution_count": 62,
   "id": "1adf26f6",
   "metadata": {},
   "outputs": [
    {
     "name": "stdout",
     "output_type": "stream",
     "text": [
      "(10564, 142)\n"
     ]
    }
   ],
   "source": [
    "if not column_to_drop_23.startswith('Cat_'):\n",
    "    comp_24 = comp_23.drop(column_to_drop_23, axis=1)\n",
    "    X_24 = comp_24.drop('target', axis=1)\n",
    "    y_24 = comp_24['target']\n",
    "else:\n",
    "    comp_24 = comp_23.drop(comp_23.filter(regex='^' + column_to_drop_23).columns, axis=1)\n",
    "    X_24 = comp_24.drop('target', axis=1)\n",
    "    y_24 = comp_24['target']\n",
    "\n",
    "print(X_24.shape)"
   ]
  },
  {
   "cell_type": "code",
   "execution_count": null,
   "id": "80c7a284",
   "metadata": {},
   "outputs": [],
   "source": [
    "X_train, X_test, y_train, y_test = train_test_split(X_24, y_24, test_size=0.2, shuffle=True, stratify=y_24, random_state = 0)\n",
    "X_train, X_val, y_train, y_val = train_test_split(X_train, y_train, test_size=0.2, shuffle=True, stratify=y_train, random_state = 0)"
   ]
  },
  {
   "cell_type": "code",
   "execution_count": null,
   "id": "de6c172c",
   "metadata": {},
   "outputs": [],
   "source": [
    "def objective(trial):\n",
    "    params = {\n",
    "        'max_depth' :trial.suggest_int('max_depth', 1, 10),\n",
    "        'min_samples_split' :trial.suggest_int('min_samples_split', 3, 10),\n",
    "        'min_samples_leaf' :trial.suggest_int('min_samples_leaf', 3, 10),\n",
    "        }\n",
    "        \n",
    "    clf = DecisionTreeClassifier(**params,random_state = 0)\n",
    "    clf.fit(X_train, y_train)\n",
    "    clf_proba = clf.predict_proba(X_val)[:, 1]\n",
    "        \n",
    "    AUC_SCORE = roc_auc_score(y_val, clf_proba)\n",
    "    return AUC_SCORE\n",
    "\n",
    "direction = \"maximize\"\n",
    "sampler = optuna.samplers.TPESampler(seed=10)\n",
    "study =  optuna.create_study(direction=direction, sampler=sampler, pruner=optuna.pruners.HyperbandPruner())\n",
    "early_stopping = EarlyStoppingCallback(10, direction=direction)\n",
    "study.optimize(objective, callbacks=[early_stopping], n_trials=200) "
   ]
  },
  {
   "cell_type": "code",
   "execution_count": null,
   "id": "62867e1b",
   "metadata": {},
   "outputs": [],
   "source": [
    "print(study.best_trial.params)\n",
    "optuna_auc = study.best_trial.value\n",
    "print(optuna_auc)"
   ]
  },
  {
   "cell_type": "code",
   "execution_count": null,
   "id": "858a05f0",
   "metadata": {},
   "outputs": [],
   "source": [
    "optuna_24 = DecisionTreeClassifier(**study.best_trial.params, random_state = 0)\n",
    "optuna_24.fit(X_train, y_train)"
   ]
  },
  {
   "cell_type": "code",
   "execution_count": null,
   "id": "58ba9ff6",
   "metadata": {},
   "outputs": [],
   "source": [
    "optuna_proba_24 = optuna_24.predict_proba(X_test)[:, 1]\n",
    "auc_24 = roc_auc_score(y_test, optuna_proba_24)\n",
    "print(decimal.Decimal(auc_24).quantize(decimal.Decimal('1.000')))"
   ]
  },
  {
   "cell_type": "code",
   "execution_count": null,
   "id": "7358979c",
   "metadata": {},
   "outputs": [],
   "source": [
    "X_train = X_train.values\n",
    "y_train = y_train.values"
   ]
  },
  {
   "cell_type": "code",
   "execution_count": null,
   "id": "e124f839",
   "metadata": {},
   "outputs": [],
   "source": [
    "auc_bootstrap = []"
   ]
  },
  {
   "cell_type": "code",
   "execution_count": null,
   "id": "c417a478",
   "metadata": {},
   "outputs": [],
   "source": [
    "rs = RandomState(seed = 24)\n",
    "bootstrap_auc(optuna_24, X_train, y_train, X_test, y_test, nsamples=2000)"
   ]
  },
  {
   "cell_type": "code",
   "execution_count": null,
   "id": "1bbb1368",
   "metadata": {},
   "outputs": [],
   "source": [
    "shapiro(auc_bootstrap), np.mean(auc_bootstrap)"
   ]
  },
  {
   "cell_type": "code",
   "execution_count": null,
   "id": "90aed79c",
   "metadata": {},
   "outputs": [],
   "source": [
    "t_24 = auc_bootstrap\n",
    "print(t_24)"
   ]
  },
  {
   "cell_type": "code",
   "execution_count": null,
   "id": "664d2bc7",
   "metadata": {},
   "outputs": [],
   "source": [
    "del X_train, X_test, y_train, y_test, X_val, y_val,study, optuna_auc"
   ]
  },
  {
   "cell_type": "code",
   "execution_count": 63,
   "id": "de7c425e",
   "metadata": {},
   "outputs": [],
   "source": [
    "column_to_drop_24 = 'Cat_현재 도시공원 및 녹지 접근용이성'"
   ]
  },
  {
   "cell_type": "code",
   "execution_count": 64,
   "id": "1f3f1f91",
   "metadata": {},
   "outputs": [
    {
     "name": "stdout",
     "output_type": "stream",
     "text": [
      "(10564, 138)\n"
     ]
    }
   ],
   "source": [
    "if not column_to_drop_24.startswith('Cat_'):\n",
    "    comp_25 = comp_24.drop(column_to_drop_24, axis=1)\n",
    "    X_25 = comp_25.drop('target', axis=1)\n",
    "    y_25 = comp_25['target']\n",
    "else:\n",
    "    comp_25 = comp_24.drop(comp_24.filter(regex='^' + column_to_drop_24).columns, axis=1)\n",
    "    X_25 = comp_25.drop('target', axis=1)\n",
    "    y_25 = comp_25['target']\n",
    "\n",
    "print(X_25.shape)"
   ]
  },
  {
   "cell_type": "code",
   "execution_count": null,
   "id": "62a31586",
   "metadata": {},
   "outputs": [],
   "source": [
    "X_train, X_test, y_train, y_test = train_test_split(X_25, y_25, test_size=0.2, shuffle=True, stratify=y_25, random_state = 0)\n",
    "X_train, X_val, y_train, y_val = train_test_split(X_train, y_train, test_size=0.2, shuffle=True, stratify=y_train, random_state = 0)"
   ]
  },
  {
   "cell_type": "code",
   "execution_count": null,
   "id": "9d0e7374",
   "metadata": {},
   "outputs": [],
   "source": [
    "def objective(trial):\n",
    "    params = {\n",
    "        'max_depth' :trial.suggest_int('max_depth', 1, 10),\n",
    "        'min_samples_split' :trial.suggest_int('min_samples_split', 3, 10),\n",
    "        'min_samples_leaf' :trial.suggest_int('min_samples_leaf', 3, 10),\n",
    "        }\n",
    "        \n",
    "    clf = DecisionTreeClassifier(**params,random_state = 0)\n",
    "    clf.fit(X_train, y_train)\n",
    "    clf_proba = clf.predict_proba(X_val)[:, 1]\n",
    "        \n",
    "    AUC_SCORE = roc_auc_score(y_val, clf_proba)\n",
    "    return AUC_SCORE\n",
    "\n",
    "direction = \"maximize\"\n",
    "sampler = optuna.samplers.TPESampler(seed=10)\n",
    "study =  optuna.create_study(direction=direction, sampler=sampler, pruner=optuna.pruners.HyperbandPruner())\n",
    "early_stopping = EarlyStoppingCallback(10, direction=direction)\n",
    "study.optimize(objective, callbacks=[early_stopping], n_trials=200) "
   ]
  },
  {
   "cell_type": "code",
   "execution_count": null,
   "id": "0cfd7422",
   "metadata": {},
   "outputs": [],
   "source": [
    "print(study.best_trial.params)\n",
    "optuna_auc = study.best_trial.value\n",
    "print(optuna_auc)"
   ]
  },
  {
   "cell_type": "code",
   "execution_count": null,
   "id": "f02ca35a",
   "metadata": {},
   "outputs": [],
   "source": [
    "optuna_25 = DecisionTreeClassifier(**study.best_trial.params, random_state = 0)\n",
    "optuna_25.fit(X_train, y_train)"
   ]
  },
  {
   "cell_type": "code",
   "execution_count": null,
   "id": "1b30c1c4",
   "metadata": {},
   "outputs": [],
   "source": [
    "optuna_proba_25 = optuna_25.predict_proba(X_test)[:, 1]\n",
    "auc_25 = roc_auc_score(y_test, optuna_proba_25)\n",
    "print(decimal.Decimal(auc_25).quantize(decimal.Decimal('1.000')))"
   ]
  },
  {
   "cell_type": "code",
   "execution_count": null,
   "id": "3d79cb7f",
   "metadata": {},
   "outputs": [],
   "source": [
    "X_train = X_train.values\n",
    "y_train = y_train.values"
   ]
  },
  {
   "cell_type": "code",
   "execution_count": null,
   "id": "4dd6caab",
   "metadata": {},
   "outputs": [],
   "source": [
    "auc_bootstrap = []"
   ]
  },
  {
   "cell_type": "code",
   "execution_count": null,
   "id": "461fff85",
   "metadata": {},
   "outputs": [],
   "source": [
    "rs = RandomState(seed = 25)\n",
    "bootstrap_auc(optuna_25, X_train, y_train, X_test, y_test, nsamples=2000)"
   ]
  },
  {
   "cell_type": "code",
   "execution_count": null,
   "id": "d1df3ff1",
   "metadata": {},
   "outputs": [],
   "source": [
    "shapiro(auc_bootstrap), np.mean(auc_bootstrap)"
   ]
  },
  {
   "cell_type": "code",
   "execution_count": null,
   "id": "aad10b40",
   "metadata": {},
   "outputs": [],
   "source": [
    "t_25 = auc_bootstrap\n",
    "print(t_25)"
   ]
  },
  {
   "cell_type": "code",
   "execution_count": null,
   "id": "7be5f2fd",
   "metadata": {},
   "outputs": [],
   "source": [
    "del X_train, X_test, y_train, y_test, X_val, y_val,study, optuna_auc"
   ]
  },
  {
   "cell_type": "code",
   "execution_count": 65,
   "id": "32fa8757",
   "metadata": {},
   "outputs": [],
   "source": [
    "# 26\n",
    "column_to_drop_25 = '자산 중 금융자산의 비중'"
   ]
  },
  {
   "cell_type": "code",
   "execution_count": 66,
   "id": "9826b093",
   "metadata": {},
   "outputs": [
    {
     "name": "stdout",
     "output_type": "stream",
     "text": [
      "(10564, 137)\n"
     ]
    }
   ],
   "source": [
    "if not column_to_drop_25.startswith('Cat_'):\n",
    "    comp_26 = comp_25.drop(column_to_drop_25, axis=1)\n",
    "    X_26 = comp_26.drop('target', axis=1)\n",
    "    y_26 = comp_26['target']\n",
    "else:\n",
    "    comp_26 = comp_25.drop(comp_25.filter(regex='^' + column_to_drop_25).columns, axis=1)\n",
    "    X_26 = comp_26.drop('target', axis=1)\n",
    "    y_26 = comp_26['target']\n",
    "\n",
    "print(X_26.shape)"
   ]
  },
  {
   "cell_type": "code",
   "execution_count": null,
   "id": "63f972e5",
   "metadata": {},
   "outputs": [],
   "source": [
    "X_train, X_test, y_train, y_test = train_test_split(X_26, y_26, test_size=0.2, shuffle=True, stratify=y_26, random_state = 0)\n",
    "X_train, X_val, y_train, y_val = train_test_split(X_train, y_train, test_size=0.2, shuffle=True, stratify=y_train, random_state = 0)"
   ]
  },
  {
   "cell_type": "code",
   "execution_count": null,
   "id": "a3c3946e",
   "metadata": {},
   "outputs": [],
   "source": [
    "def objective(trial):\n",
    "    params = {\n",
    "        'max_depth' :trial.suggest_int('max_depth', 1, 10),\n",
    "        'min_samples_split' :trial.suggest_int('min_samples_split', 3, 10),\n",
    "        'min_samples_leaf' :trial.suggest_int('min_samples_leaf', 3, 10),\n",
    "        }\n",
    "        \n",
    "    clf = DecisionTreeClassifier(**params,random_state = 0)\n",
    "    clf.fit(X_train, y_train)\n",
    "    clf_proba = clf.predict_proba(X_val)[:, 1]\n",
    "        \n",
    "    AUC_SCORE = roc_auc_score(y_val, clf_proba)\n",
    "    return AUC_SCORE\n",
    "\n",
    "direction = \"maximize\"\n",
    "sampler = optuna.samplers.TPESampler(seed=10)\n",
    "study =  optuna.create_study(direction=direction, sampler=sampler, pruner=optuna.pruners.HyperbandPruner())\n",
    "early_stopping = EarlyStoppingCallback(10, direction=direction)\n",
    "study.optimize(objective, callbacks=[early_stopping], n_trials=200) "
   ]
  },
  {
   "cell_type": "code",
   "execution_count": null,
   "id": "d6114755",
   "metadata": {},
   "outputs": [],
   "source": [
    "print(study.best_trial.params)\n",
    "optuna_auc = study.best_trial.value\n",
    "print(optuna_auc)"
   ]
  },
  {
   "cell_type": "code",
   "execution_count": null,
   "id": "60c84130",
   "metadata": {},
   "outputs": [],
   "source": [
    "optuna_26 = DecisionTreeClassifier(**study.best_trial.params, random_state = 0)\n",
    "optuna_26.fit(X_train, y_train)"
   ]
  },
  {
   "cell_type": "code",
   "execution_count": null,
   "id": "10238a00",
   "metadata": {},
   "outputs": [],
   "source": [
    "optuna_proba_26 = optuna_26.predict_proba(X_test)[:, 1]\n",
    "auc_26 = roc_auc_score(y_test, optuna_proba_26)\n",
    "print(decimal.Decimal(auc_26).quantize(decimal.Decimal('1.000')))"
   ]
  },
  {
   "cell_type": "code",
   "execution_count": null,
   "id": "08764441",
   "metadata": {},
   "outputs": [],
   "source": [
    "X_train = X_train.values\n",
    "y_train = y_train.values"
   ]
  },
  {
   "cell_type": "code",
   "execution_count": null,
   "id": "be56a6bb",
   "metadata": {},
   "outputs": [],
   "source": [
    "auc_bootstrap = []"
   ]
  },
  {
   "cell_type": "code",
   "execution_count": null,
   "id": "6f9ce4a8",
   "metadata": {},
   "outputs": [],
   "source": [
    "rs = RandomState(seed = 26)\n",
    "bootstrap_auc(optuna_26, X_train, y_train, X_test, y_test, nsamples=2000)"
   ]
  },
  {
   "cell_type": "code",
   "execution_count": null,
   "id": "9ea3177e",
   "metadata": {},
   "outputs": [],
   "source": [
    "shapiro(auc_bootstrap), np.mean(auc_bootstrap)"
   ]
  },
  {
   "cell_type": "code",
   "execution_count": null,
   "id": "d0575648",
   "metadata": {},
   "outputs": [],
   "source": [
    "t_26 = auc_bootstrap\n",
    "print(t_26)"
   ]
  },
  {
   "cell_type": "code",
   "execution_count": null,
   "id": "f1189b46",
   "metadata": {},
   "outputs": [],
   "source": [
    "del X_train, X_test, y_train, y_test, X_val, y_val,study, optuna_auc"
   ]
  },
  {
   "cell_type": "code",
   "execution_count": 67,
   "id": "d96a1070",
   "metadata": {},
   "outputs": [],
   "source": [
    "# 27\n",
    "column_to_drop_26 = '소득 중 사회보험 수혜금의 비중(월평균)'"
   ]
  },
  {
   "cell_type": "code",
   "execution_count": 68,
   "id": "a9cbda16",
   "metadata": {},
   "outputs": [
    {
     "name": "stdout",
     "output_type": "stream",
     "text": [
      "(10564, 136)\n"
     ]
    }
   ],
   "source": [
    "if not column_to_drop_26.startswith('Cat_'):\n",
    "    comp_27 = comp_26.drop(column_to_drop_26, axis=1)\n",
    "    X_27 = comp_27.drop('target', axis=1)\n",
    "    y_27 = comp_27['target']\n",
    "else:\n",
    "    comp_27 = comp_26.drop(comp_26.filter(regex='^' + column_to_drop_26).columns, axis=1)\n",
    "    X_27 = comp_27.drop('target', axis=1)\n",
    "    y_27 = comp_27['target']\n",
    "\n",
    "print(X_27.shape)"
   ]
  },
  {
   "cell_type": "code",
   "execution_count": null,
   "id": "6b565e3d",
   "metadata": {},
   "outputs": [],
   "source": [
    "X_train, X_test, y_train, y_test = train_test_split(X_27, y_27, test_size=0.2, shuffle=True, stratify=y_27, random_state = 0)\n",
    "X_train, X_val, y_train, y_val = train_test_split(X_train, y_train, test_size=0.2, shuffle=True, stratify=y_train, random_state = 0)"
   ]
  },
  {
   "cell_type": "code",
   "execution_count": null,
   "id": "ac9c5e93",
   "metadata": {},
   "outputs": [],
   "source": [
    "def objective(trial):\n",
    "    params = {\n",
    "        'max_depth' :trial.suggest_int('max_depth', 1, 10),\n",
    "        'min_samples_split' :trial.suggest_int('min_samples_split', 3, 10),\n",
    "        'min_samples_leaf' :trial.suggest_int('min_samples_leaf', 3, 10),\n",
    "        }\n",
    "        \n",
    "    clf = DecisionTreeClassifier(**params,random_state = 0)\n",
    "    clf.fit(X_train, y_train)\n",
    "    clf_proba = clf.predict_proba(X_val)[:, 1]\n",
    "        \n",
    "    AUC_SCORE = roc_auc_score(y_val, clf_proba)\n",
    "    return AUC_SCORE\n",
    "\n",
    "direction = \"maximize\"\n",
    "sampler = optuna.samplers.TPESampler(seed=10)\n",
    "study =  optuna.create_study(direction=direction, sampler=sampler, pruner=optuna.pruners.HyperbandPruner())\n",
    "early_stopping = EarlyStoppingCallback(10, direction=direction)\n",
    "study.optimize(objective, callbacks=[early_stopping], n_trials=200) "
   ]
  },
  {
   "cell_type": "code",
   "execution_count": null,
   "id": "867edc68",
   "metadata": {},
   "outputs": [],
   "source": [
    "print(study.best_trial.params)\n",
    "optuna_auc = study.best_trial.value\n",
    "print(optuna_auc)"
   ]
  },
  {
   "cell_type": "code",
   "execution_count": null,
   "id": "1acd6168",
   "metadata": {},
   "outputs": [],
   "source": [
    "optuna_27 = DecisionTreeClassifier(**study.best_trial.params, random_state = 0)\n",
    "optuna_27.fit(X_train, y_train)"
   ]
  },
  {
   "cell_type": "code",
   "execution_count": null,
   "id": "0f416ede",
   "metadata": {},
   "outputs": [],
   "source": [
    "optuna_proba_27 = optuna_27.predict_proba(X_test)[:, 1]\n",
    "auc_27 = roc_auc_score(y_test, optuna_proba_27)\n",
    "print(decimal.Decimal(auc_27).quantize(decimal.Decimal('1.000')))"
   ]
  },
  {
   "cell_type": "code",
   "execution_count": null,
   "id": "247bb889",
   "metadata": {},
   "outputs": [],
   "source": [
    "X_train = X_train.values\n",
    "y_train = y_train.values"
   ]
  },
  {
   "cell_type": "code",
   "execution_count": null,
   "id": "9d720ab3",
   "metadata": {},
   "outputs": [],
   "source": [
    "auc_bootstrap = []"
   ]
  },
  {
   "cell_type": "code",
   "execution_count": null,
   "id": "eb758201",
   "metadata": {},
   "outputs": [],
   "source": [
    "rs = RandomState(seed = 27)\n",
    "bootstrap_auc(optuna_27, X_train, y_train, X_test, y_test, nsamples=2000)"
   ]
  },
  {
   "cell_type": "code",
   "execution_count": null,
   "id": "9f16e55a",
   "metadata": {},
   "outputs": [],
   "source": [
    "shapiro(auc_bootstrap), np.mean(auc_bootstrap)"
   ]
  },
  {
   "cell_type": "code",
   "execution_count": null,
   "id": "5e347713",
   "metadata": {},
   "outputs": [],
   "source": [
    "t_27 = auc_bootstrap\n",
    "print(t_27)"
   ]
  },
  {
   "cell_type": "code",
   "execution_count": null,
   "id": "636cfbe7",
   "metadata": {},
   "outputs": [],
   "source": [
    "del X_train, X_test, y_train, y_test, X_val, y_val,study, optuna_auc"
   ]
  },
  {
   "cell_type": "code",
   "execution_count": 69,
   "id": "d788defb",
   "metadata": {},
   "outputs": [],
   "source": [
    "# 28\n",
    "column_to_drop_27  = 'Cat_현재 대중교통 접근용이성'"
   ]
  },
  {
   "cell_type": "code",
   "execution_count": 70,
   "id": "03aaf0e5",
   "metadata": {},
   "outputs": [
    {
     "name": "stdout",
     "output_type": "stream",
     "text": [
      "(10564, 132)\n"
     ]
    }
   ],
   "source": [
    "if not column_to_drop_27.startswith('Cat_'):\n",
    "    comp_28 = comp_27.drop(column_to_drop_27, axis=1)\n",
    "    X_28 = comp_28.drop('target', axis=1)\n",
    "    y_28 = comp_28['target']\n",
    "else:\n",
    "    comp_28 = comp_27.drop(comp_27.filter(regex='^' + column_to_drop_27).columns, axis=1)\n",
    "    X_28 = comp_28.drop('target', axis=1)\n",
    "    y_28 = comp_28['target']\n",
    "\n",
    "print(X_28.shape)"
   ]
  },
  {
   "cell_type": "code",
   "execution_count": null,
   "id": "4f681171",
   "metadata": {},
   "outputs": [],
   "source": [
    "X_train, X_test, y_train, y_test = train_test_split(X_28, y_28, test_size=0.2, shuffle=True, stratify=y_28, random_state = 0)\n",
    "X_train, X_val, y_train, y_val = train_test_split(X_train, y_train, test_size=0.2, shuffle=True, stratify=y_train, random_state = 0)"
   ]
  },
  {
   "cell_type": "code",
   "execution_count": null,
   "id": "25e3f3a7",
   "metadata": {},
   "outputs": [],
   "source": [
    "def objective(trial):\n",
    "    params = {\n",
    "        'max_depth' :trial.suggest_int('max_depth', 1, 10),\n",
    "        'min_samples_split' :trial.suggest_int('min_samples_split', 3, 10),\n",
    "        'min_samples_leaf' :trial.suggest_int('min_samples_leaf', 3, 10),\n",
    "        }\n",
    "        \n",
    "    clf = DecisionTreeClassifier(**params,random_state = 0)\n",
    "    clf.fit(X_train, y_train)\n",
    "    clf_proba = clf.predict_proba(X_val)[:, 1]\n",
    "        \n",
    "    AUC_SCORE = roc_auc_score(y_val, clf_proba)\n",
    "    return AUC_SCORE\n",
    "\n",
    "direction = \"maximize\"\n",
    "sampler = optuna.samplers.TPESampler(seed=10)\n",
    "study =  optuna.create_study(direction=direction, sampler=sampler, pruner=optuna.pruners.HyperbandPruner())\n",
    "early_stopping = EarlyStoppingCallback(10, direction=direction)\n",
    "study.optimize(objective, callbacks=[early_stopping], n_trials=200) "
   ]
  },
  {
   "cell_type": "code",
   "execution_count": null,
   "id": "1be52000",
   "metadata": {},
   "outputs": [],
   "source": [
    "print(study.best_trial.params)\n",
    "optuna_auc = study.best_trial.value\n",
    "print(optuna_auc)"
   ]
  },
  {
   "cell_type": "code",
   "execution_count": null,
   "id": "1b9f314d",
   "metadata": {},
   "outputs": [],
   "source": [
    "optuna_28 = DecisionTreeClassifier(**study.best_trial.params, random_state = 0)\n",
    "optuna_28.fit(X_train, y_train)"
   ]
  },
  {
   "cell_type": "code",
   "execution_count": null,
   "id": "94588b1b",
   "metadata": {},
   "outputs": [],
   "source": [
    "optuna_proba_28 = optuna_28.predict_proba(X_test)[:, 1]\n",
    "auc_28 = roc_auc_score(y_test, optuna_proba_28)\n",
    "print(decimal.Decimal(auc_28).quantize(decimal.Decimal('1.000')))"
   ]
  },
  {
   "cell_type": "code",
   "execution_count": null,
   "id": "667e375b",
   "metadata": {},
   "outputs": [],
   "source": [
    "X_train = X_train.values\n",
    "y_train = y_train.values"
   ]
  },
  {
   "cell_type": "code",
   "execution_count": null,
   "id": "4e5f5308",
   "metadata": {},
   "outputs": [],
   "source": [
    "auc_bootstrap = []"
   ]
  },
  {
   "cell_type": "code",
   "execution_count": null,
   "id": "e33e0b9a",
   "metadata": {},
   "outputs": [],
   "source": [
    "rs = RandomState(seed = 28)\n",
    "bootstrap_auc(optuna_28, X_train, y_train, X_test, y_test, nsamples=2000)"
   ]
  },
  {
   "cell_type": "code",
   "execution_count": null,
   "id": "c1e982a5",
   "metadata": {},
   "outputs": [],
   "source": [
    "np.mean(auc_bootstrap)"
   ]
  },
  {
   "cell_type": "code",
   "execution_count": null,
   "id": "5ded90cc",
   "metadata": {},
   "outputs": [],
   "source": [
    "t_28 = auc_bootstrap\n",
    "print(t_28)"
   ]
  },
  {
   "cell_type": "code",
   "execution_count": null,
   "id": "3df5e53b",
   "metadata": {},
   "outputs": [],
   "source": [
    "del X_train, X_test, y_train, y_test, X_val, y_val,study, optuna_auc"
   ]
  },
  {
   "cell_type": "code",
   "execution_count": 71,
   "id": "17a87a9c",
   "metadata": {},
   "outputs": [],
   "source": [
    "# 29\n",
    "column_to_drop_28 = '소득 중 정부 보조금의 비중(월평균)'"
   ]
  },
  {
   "cell_type": "code",
   "execution_count": 72,
   "id": "3b602c4b",
   "metadata": {},
   "outputs": [
    {
     "name": "stdout",
     "output_type": "stream",
     "text": [
      "(10564, 131)\n"
     ]
    }
   ],
   "source": [
    "if not column_to_drop_28.startswith('Cat_'):\n",
    "    comp_29 = comp_28.drop(column_to_drop_28, axis=1)\n",
    "    X_29 = comp_29.drop('target', axis=1)\n",
    "    y_29 = comp_29['target']\n",
    "else:\n",
    "    comp_29 = comp_28.drop(comp_28.filter(regex='^' + column_to_drop_28).columns, axis=1)\n",
    "    X_29 = comp_29.drop('target', axis=1)\n",
    "    y_29 = comp_29['target']\n",
    "\n",
    "print(X_29.shape)"
   ]
  },
  {
   "cell_type": "code",
   "execution_count": null,
   "id": "f4e035aa",
   "metadata": {},
   "outputs": [],
   "source": [
    "X_train, X_test, y_train, y_test = train_test_split(X_29, y_29, test_size=0.2, shuffle=True, stratify=y_29, random_state = 0)\n",
    "X_train, X_val, y_train, y_val = train_test_split(X_train, y_train, test_size=0.2, shuffle=True, stratify=y_train, random_state = 0)"
   ]
  },
  {
   "cell_type": "code",
   "execution_count": null,
   "id": "86d285dd",
   "metadata": {},
   "outputs": [],
   "source": [
    "def objective(trial):\n",
    "    params = {\n",
    "        'max_depth' :trial.suggest_int('max_depth', 1, 10),\n",
    "        'min_samples_split' :trial.suggest_int('min_samples_split', 3, 10),\n",
    "        'min_samples_leaf' :trial.suggest_int('min_samples_leaf', 3, 10),\n",
    "        }\n",
    "        \n",
    "    clf = DecisionTreeClassifier(**params,random_state = 0)\n",
    "    clf.fit(X_train, y_train)\n",
    "    clf_proba = clf.predict_proba(X_val)[:, 1]\n",
    "        \n",
    "    AUC_SCORE = roc_auc_score(y_val, clf_proba)\n",
    "    return AUC_SCORE\n",
    "\n",
    "direction = \"maximize\"\n",
    "sampler = optuna.samplers.TPESampler(seed=10)\n",
    "study =  optuna.create_study(direction=direction, sampler=sampler, pruner=optuna.pruners.HyperbandPruner())\n",
    "early_stopping = EarlyStoppingCallback(10, direction=direction)\n",
    "study.optimize(objective, callbacks=[early_stopping], n_trials=200) "
   ]
  },
  {
   "cell_type": "code",
   "execution_count": null,
   "id": "28355be7",
   "metadata": {},
   "outputs": [],
   "source": [
    "print(study.best_trial.params)\n",
    "optuna_auc = study.best_trial.value\n",
    "print(optuna_auc)"
   ]
  },
  {
   "cell_type": "code",
   "execution_count": null,
   "id": "04618391",
   "metadata": {},
   "outputs": [],
   "source": [
    "optuna_29 = DecisionTreeClassifier(**study.best_trial.params, random_state = 0)\n",
    "optuna_29.fit(X_train, y_train)"
   ]
  },
  {
   "cell_type": "code",
   "execution_count": null,
   "id": "9bf42bef",
   "metadata": {},
   "outputs": [],
   "source": [
    "optuna_proba_29 = optuna_29.predict_proba(X_test)[:, 1]\n",
    "auc_29 = roc_auc_score(y_test, optuna_proba_29)\n",
    "print(decimal.Decimal(auc_29).quantize(decimal.Decimal('1.000')))"
   ]
  },
  {
   "cell_type": "code",
   "execution_count": null,
   "id": "de9cc710",
   "metadata": {},
   "outputs": [],
   "source": [
    "X_train = X_train.values\n",
    "y_train = y_train.values"
   ]
  },
  {
   "cell_type": "code",
   "execution_count": null,
   "id": "f7acbc10",
   "metadata": {},
   "outputs": [],
   "source": [
    "auc_bootstrap = []"
   ]
  },
  {
   "cell_type": "code",
   "execution_count": null,
   "id": "8f31b81f",
   "metadata": {},
   "outputs": [],
   "source": [
    "rs = RandomState(seed = 29)\n",
    "bootstrap_auc(optuna_29, X_train, y_train, X_test, y_test, nsamples=2000)"
   ]
  },
  {
   "cell_type": "code",
   "execution_count": null,
   "id": "e9d88b1e",
   "metadata": {},
   "outputs": [],
   "source": [
    "shapiro(auc_bootstrap), np.mean(auc_bootstrap)"
   ]
  },
  {
   "cell_type": "code",
   "execution_count": null,
   "id": "a700a3c9",
   "metadata": {},
   "outputs": [],
   "source": [
    "t_29 = auc_bootstrap\n",
    "print(t_29)"
   ]
  },
  {
   "cell_type": "code",
   "execution_count": null,
   "id": "0dc0497f",
   "metadata": {},
   "outputs": [],
   "source": [
    "del X_train, X_test, y_train, y_test, X_val, y_val,study, optuna_auc"
   ]
  },
  {
   "cell_type": "code",
   "execution_count": 73,
   "id": "86e4eacf",
   "metadata": {},
   "outputs": [],
   "source": [
    "column_to_drop_29 = 'Cat_현재 주변도로의 보행 안전'"
   ]
  },
  {
   "cell_type": "code",
   "execution_count": 74,
   "id": "9e93ad66",
   "metadata": {},
   "outputs": [
    {
     "name": "stdout",
     "output_type": "stream",
     "text": [
      "(10564, 127)\n"
     ]
    }
   ],
   "source": [
    "if not column_to_drop_29.startswith('Cat_'):\n",
    "    comp_30 = comp_29.drop(column_to_drop_29, axis=1)\n",
    "    X_30 = comp_30.drop('target', axis=1)\n",
    "    y_30 = comp_30['target']\n",
    "else:\n",
    "    comp_30 = comp_29.drop(comp_29.filter(regex='^' + column_to_drop_29).columns, axis=1)\n",
    "    X_30 = comp_30.drop('target', axis=1)\n",
    "    y_30 = comp_30['target']\n",
    "\n",
    "print(X_30.shape)"
   ]
  },
  {
   "cell_type": "code",
   "execution_count": null,
   "id": "d89d358d",
   "metadata": {},
   "outputs": [],
   "source": [
    "X_train, X_test, y_train, y_test = train_test_split(X_30, y_30, test_size=0.2, shuffle=True, stratify=y_30, random_state = 0)\n",
    "X_train, X_val, y_train, y_val = train_test_split(X_train, y_train, test_size=0.2, shuffle=True, stratify=y_train, random_state = 0)"
   ]
  },
  {
   "cell_type": "code",
   "execution_count": null,
   "id": "209318a2",
   "metadata": {},
   "outputs": [],
   "source": [
    "def objective(trial):\n",
    "    params = {\n",
    "        'max_depth' :trial.suggest_int('max_depth', 1, 10),\n",
    "        'min_samples_split' :trial.suggest_int('min_samples_split', 3, 10),\n",
    "        'min_samples_leaf' :trial.suggest_int('min_samples_leaf', 3, 10),\n",
    "        }\n",
    "        \n",
    "    clf = DecisionTreeClassifier(**params,random_state = 0)\n",
    "    clf.fit(X_train, y_train)\n",
    "    clf_proba = clf.predict_proba(X_val)[:, 1]\n",
    "        \n",
    "    AUC_SCORE = roc_auc_score(y_val, clf_proba)\n",
    "    return AUC_SCORE\n",
    "\n",
    "direction = \"maximize\"\n",
    "sampler = optuna.samplers.TPESampler(seed=10)\n",
    "study =  optuna.create_study(direction=direction, sampler=sampler, pruner=optuna.pruners.HyperbandPruner())\n",
    "early_stopping = EarlyStoppingCallback(10, direction=direction)\n",
    "study.optimize(objective, callbacks=[early_stopping], n_trials=200) "
   ]
  },
  {
   "cell_type": "code",
   "execution_count": null,
   "id": "b82a5445",
   "metadata": {},
   "outputs": [],
   "source": [
    "print(study.best_trial.params)\n",
    "optuna_auc = study.best_trial.value\n",
    "print(optuna_auc)"
   ]
  },
  {
   "cell_type": "code",
   "execution_count": null,
   "id": "ef644ce4",
   "metadata": {},
   "outputs": [],
   "source": [
    "optuna_30 = DecisionTreeClassifier(**study.best_trial.params, random_state = 0)\n",
    "optuna_30.fit(X_train, y_train)"
   ]
  },
  {
   "cell_type": "code",
   "execution_count": null,
   "id": "42946b79",
   "metadata": {},
   "outputs": [],
   "source": [
    "optuna_proba_30 = optuna_30.predict_proba(X_test)[:, 1]\n",
    "auc_30 = roc_auc_score(y_test, optuna_proba_30)\n",
    "print(decimal.Decimal(auc_30).quantize(decimal.Decimal('1.000')))"
   ]
  },
  {
   "cell_type": "code",
   "execution_count": null,
   "id": "66470e6a",
   "metadata": {},
   "outputs": [],
   "source": [
    "X_train = X_train.values\n",
    "y_train = y_train.values"
   ]
  },
  {
   "cell_type": "code",
   "execution_count": null,
   "id": "553ae4ae",
   "metadata": {},
   "outputs": [],
   "source": [
    "auc_bootstrap = []"
   ]
  },
  {
   "cell_type": "code",
   "execution_count": null,
   "id": "127c16d2",
   "metadata": {},
   "outputs": [],
   "source": [
    "rs = RandomState(seed = 30)\n",
    "bootstrap_auc(optuna_30, X_train, y_train, X_test, y_test, nsamples=2000)"
   ]
  },
  {
   "cell_type": "code",
   "execution_count": null,
   "id": "b29a243b",
   "metadata": {},
   "outputs": [],
   "source": [
    "shapiro(auc_bootstrap), np.mean(auc_bootstrap)"
   ]
  },
  {
   "cell_type": "code",
   "execution_count": null,
   "id": "9ef57044",
   "metadata": {},
   "outputs": [],
   "source": [
    "t_30 = auc_bootstrap\n",
    "print(t_30)"
   ]
  },
  {
   "cell_type": "code",
   "execution_count": null,
   "id": "1f351939",
   "metadata": {},
   "outputs": [],
   "source": [
    "del X_train, X_test, y_train, y_test, X_val, y_val,study, optuna_auc"
   ]
  },
  {
   "cell_type": "code",
   "execution_count": 75,
   "id": "e145bc83",
   "metadata": {},
   "outputs": [],
   "source": [
    "# 31\n",
    "column_to_drop_30 = 'Cat_현재 공공기관 접근용이성'"
   ]
  },
  {
   "cell_type": "code",
   "execution_count": 76,
   "id": "2ef957df",
   "metadata": {},
   "outputs": [
    {
     "name": "stdout",
     "output_type": "stream",
     "text": [
      "(10564, 123)\n"
     ]
    }
   ],
   "source": [
    "if not column_to_drop_30.startswith('Cat_'):\n",
    "    comp_31 = comp_30.drop(column_to_drop_30, axis=1)\n",
    "    X_31 = comp_31.drop('target', axis=1)\n",
    "    y_31 = comp_31['target']\n",
    "else:\n",
    "    comp_31 = comp_30.drop(comp_30.filter(regex='^' + column_to_drop_30).columns, axis=1)\n",
    "    X_31 = comp_31.drop('target', axis=1)\n",
    "    y_31 = comp_31['target']\n",
    "\n",
    "print(X_31.shape)"
   ]
  },
  {
   "cell_type": "code",
   "execution_count": null,
   "id": "6e33a48f",
   "metadata": {},
   "outputs": [],
   "source": [
    "X_train, X_test, y_train, y_test = train_test_split(X_31, y_31, test_size=0.2, shuffle=True, stratify=y_31, random_state = 0)\n",
    "X_train, X_val, y_train, y_val = train_test_split(X_train, y_train, test_size=0.2, shuffle=True, stratify=y_train, random_state = 0)"
   ]
  },
  {
   "cell_type": "code",
   "execution_count": null,
   "id": "10bca9d2",
   "metadata": {},
   "outputs": [],
   "source": [
    "def objective(trial):\n",
    "    params = {\n",
    "        'max_depth' :trial.suggest_int('max_depth', 1, 10),\n",
    "        'min_samples_split' :trial.suggest_int('min_samples_split', 3, 10),\n",
    "        'min_samples_leaf' :trial.suggest_int('min_samples_leaf', 3, 10),\n",
    "        }\n",
    "        \n",
    "    clf = DecisionTreeClassifier(**params,random_state = 0)\n",
    "    clf.fit(X_train, y_train)\n",
    "    clf_proba = clf.predict_proba(X_val)[:, 1]\n",
    "        \n",
    "    AUC_SCORE = roc_auc_score(y_val, clf_proba)\n",
    "    return AUC_SCORE\n",
    "\n",
    "direction = \"maximize\"\n",
    "sampler = optuna.samplers.TPESampler(seed=10)\n",
    "study =  optuna.create_study(direction=direction, sampler=sampler, pruner=optuna.pruners.HyperbandPruner())\n",
    "early_stopping = EarlyStoppingCallback(10, direction=direction)\n",
    "study.optimize(objective, callbacks=[early_stopping], n_trials=200) "
   ]
  },
  {
   "cell_type": "code",
   "execution_count": null,
   "id": "6ca17020",
   "metadata": {},
   "outputs": [],
   "source": [
    "print(study.best_trial.params)\n",
    "optuna_auc = study.best_trial.value\n",
    "print(optuna_auc)"
   ]
  },
  {
   "cell_type": "code",
   "execution_count": null,
   "id": "163b0cbd",
   "metadata": {},
   "outputs": [],
   "source": [
    "optuna_31= DecisionTreeClassifier(**study.best_trial.params, random_state = 0)\n",
    "optuna_31.fit(X_train, y_train)"
   ]
  },
  {
   "cell_type": "code",
   "execution_count": null,
   "id": "44b1a6e0",
   "metadata": {},
   "outputs": [],
   "source": [
    "optuna_proba_31 = optuna_31.predict_proba(X_test)[:, 1]\n",
    "auc_31 = roc_auc_score(y_test, optuna_proba_31)\n",
    "print(decimal.Decimal(auc_31).quantize(decimal.Decimal('1.000')))"
   ]
  },
  {
   "cell_type": "code",
   "execution_count": null,
   "id": "ea60388e",
   "metadata": {},
   "outputs": [],
   "source": [
    "X_train = X_train.values\n",
    "y_train = y_train.values"
   ]
  },
  {
   "cell_type": "code",
   "execution_count": null,
   "id": "cd777fa2",
   "metadata": {},
   "outputs": [],
   "source": [
    "auc_bootstrap = []"
   ]
  },
  {
   "cell_type": "code",
   "execution_count": null,
   "id": "dddaf47a",
   "metadata": {},
   "outputs": [],
   "source": [
    "rs = RandomState(seed = 31)\n",
    "bootstrap_auc(optuna_31, X_train, y_train, X_test, y_test, nsamples=2000)"
   ]
  },
  {
   "cell_type": "code",
   "execution_count": null,
   "id": "1b2e008b",
   "metadata": {},
   "outputs": [],
   "source": [
    "shapiro(auc_bootstrap), np.mean(auc_bootstrap)"
   ]
  },
  {
   "cell_type": "code",
   "execution_count": null,
   "id": "0056186e",
   "metadata": {},
   "outputs": [],
   "source": [
    "t_31 = auc_bootstrap\n",
    "print(t_31)"
   ]
  },
  {
   "cell_type": "code",
   "execution_count": null,
   "id": "66a33b47",
   "metadata": {},
   "outputs": [],
   "source": [
    "del X_train, X_test, y_train, y_test, X_val, y_val,study, optuna_auc"
   ]
  },
  {
   "cell_type": "code",
   "execution_count": 77,
   "id": "8271869d",
   "metadata": {},
   "outputs": [],
   "source": [
    "# 32\n",
    "column_to_drop_31 = '소득 대비 생활비의 비율'"
   ]
  },
  {
   "cell_type": "code",
   "execution_count": 78,
   "id": "653c3977",
   "metadata": {},
   "outputs": [
    {
     "name": "stdout",
     "output_type": "stream",
     "text": [
      "(10564, 122)\n"
     ]
    }
   ],
   "source": [
    "if not column_to_drop_31.startswith('Cat_'):\n",
    "    comp_32 = comp_31.drop(column_to_drop_31, axis=1)\n",
    "    X_32 = comp_32.drop('target', axis=1)\n",
    "    y_32 = comp_32['target']\n",
    "else:\n",
    "    comp_32 = comp_31.drop(comp_31.filter(regex='^' + column_to_drop_31).columns, axis=1)\n",
    "    X_32 = comp_32.drop('target', axis=1)\n",
    "    y_32 = comp_32['target']\n",
    "\n",
    "print(X_32.shape)"
   ]
  },
  {
   "cell_type": "code",
   "execution_count": null,
   "id": "be791fcd",
   "metadata": {},
   "outputs": [],
   "source": [
    "X_train, X_test, y_train, y_test = train_test_split(X_32, y_32, test_size=0.2, shuffle=True, stratify=y_32, random_state = 0)\n",
    "X_train, X_val, y_train, y_val = train_test_split(X_train, y_train, test_size=0.2, shuffle=True, stratify=y_train, random_state = 0)"
   ]
  },
  {
   "cell_type": "code",
   "execution_count": null,
   "id": "10089a1b",
   "metadata": {},
   "outputs": [],
   "source": [
    "def objective(trial):\n",
    "    params = {\n",
    "        'max_depth' :trial.suggest_int('max_depth', 1, 10),\n",
    "        'min_samples_split' :trial.suggest_int('min_samples_split', 3, 10),\n",
    "        'min_samples_leaf' :trial.suggest_int('min_samples_leaf', 3, 10),\n",
    "        }\n",
    "        \n",
    "    clf = DecisionTreeClassifier(**params,random_state = 0)\n",
    "    clf.fit(X_train, y_train)\n",
    "    clf_proba = clf.predict_proba(X_val)[:, 1]\n",
    "        \n",
    "    AUC_SCORE = roc_auc_score(y_val, clf_proba)\n",
    "    return AUC_SCORE\n",
    "\n",
    "direction = \"maximize\"\n",
    "sampler = optuna.samplers.TPESampler(seed=10)\n",
    "study =  optuna.create_study(direction=direction, sampler=sampler, pruner=optuna.pruners.HyperbandPruner())\n",
    "early_stopping = EarlyStoppingCallback(10, direction=direction)\n",
    "study.optimize(objective, callbacks=[early_stopping], n_trials=200) "
   ]
  },
  {
   "cell_type": "code",
   "execution_count": null,
   "id": "80d993ec",
   "metadata": {},
   "outputs": [],
   "source": [
    "print(study.best_trial.params)\n",
    "optuna_auc = study.best_trial.value\n",
    "print(optuna_auc)"
   ]
  },
  {
   "cell_type": "code",
   "execution_count": null,
   "id": "c1884d76",
   "metadata": {},
   "outputs": [],
   "source": [
    "optuna_32 = DecisionTreeClassifier(**study.best_trial.params, random_state = 0)\n",
    "optuna_32.fit(X_train, y_train)"
   ]
  },
  {
   "cell_type": "code",
   "execution_count": null,
   "id": "108540d1",
   "metadata": {},
   "outputs": [],
   "source": [
    "optuna_proba_32 = optuna_32.predict_proba(X_test)[:, 1]\n",
    "auc_32 = roc_auc_score(y_test, optuna_proba_32)\n",
    "print(decimal.Decimal(auc_32).quantize(decimal.Decimal('1.000')))"
   ]
  },
  {
   "cell_type": "code",
   "execution_count": null,
   "id": "b45e64ab",
   "metadata": {},
   "outputs": [],
   "source": [
    "X_train = X_train.values\n",
    "y_train = y_train.values"
   ]
  },
  {
   "cell_type": "code",
   "execution_count": null,
   "id": "cce6f208",
   "metadata": {},
   "outputs": [],
   "source": [
    "auc_bootstrap = []"
   ]
  },
  {
   "cell_type": "code",
   "execution_count": null,
   "id": "ff2d9bc0",
   "metadata": {},
   "outputs": [],
   "source": [
    "rs = RandomState(seed = 32)\n",
    "bootstrap_auc(optuna_32, X_train, y_train, X_test, y_test, nsamples=2000)"
   ]
  },
  {
   "cell_type": "code",
   "execution_count": null,
   "id": "629ca141",
   "metadata": {},
   "outputs": [],
   "source": [
    "shapiro(auc_bootstrap), np.mean(auc_bootstrap)"
   ]
  },
  {
   "cell_type": "code",
   "execution_count": null,
   "id": "d016fb39",
   "metadata": {},
   "outputs": [],
   "source": [
    "t_32 = auc_bootstrap\n",
    "print(t_32)"
   ]
  },
  {
   "cell_type": "code",
   "execution_count": null,
   "id": "ce82b7d5",
   "metadata": {},
   "outputs": [],
   "source": [
    "del X_train, X_test, y_train, y_test, X_val, y_val,study, optuna_auc"
   ]
  },
  {
   "cell_type": "code",
   "execution_count": 79,
   "id": "4d024c80",
   "metadata": {},
   "outputs": [],
   "source": [
    "# 33.\n",
    "column_to_drop_32 = 'Cat_현재 대기오염 정도'"
   ]
  },
  {
   "cell_type": "code",
   "execution_count": 80,
   "id": "ec850d22",
   "metadata": {},
   "outputs": [
    {
     "name": "stdout",
     "output_type": "stream",
     "text": [
      "(10564, 118)\n"
     ]
    }
   ],
   "source": [
    "if not column_to_drop_32.startswith('Cat_'):\n",
    "    comp_33 = comp_32.drop(column_to_drop_32, axis=1)\n",
    "    X_33 = comp_33.drop('target', axis=1)\n",
    "    y_33 = comp_33['target']\n",
    "else:\n",
    "    comp_33 = comp_32.drop(comp_32.filter(regex='^' + column_to_drop_32).columns, axis=1)\n",
    "    X_33 = comp_33.drop('target', axis=1)\n",
    "    y_33 = comp_33['target']\n",
    "\n",
    "print(X_33.shape)"
   ]
  },
  {
   "cell_type": "code",
   "execution_count": null,
   "id": "f6ad056e",
   "metadata": {},
   "outputs": [],
   "source": [
    "X_train, X_test, y_train, y_test = train_test_split(X_33, y_33, test_size=0.2, shuffle=True, stratify=y_33, random_state = 0)\n",
    "X_train, X_val, y_train, y_val = train_test_split(X_train, y_train, test_size=0.2, shuffle=True, stratify=y_train, random_state = 0)"
   ]
  },
  {
   "cell_type": "code",
   "execution_count": null,
   "id": "b2b8b634",
   "metadata": {},
   "outputs": [],
   "source": [
    "def objective(trial):\n",
    "    params = {\n",
    "        'max_depth' :trial.suggest_int('max_depth', 1, 10),\n",
    "        'min_samples_split' :trial.suggest_int('min_samples_split', 3, 10),\n",
    "        'min_samples_leaf' :trial.suggest_int('min_samples_leaf', 3, 10),\n",
    "        }\n",
    "        \n",
    "    clf = DecisionTreeClassifier(**params,random_state = 0)\n",
    "    clf.fit(X_train, y_train)\n",
    "    clf_proba = clf.predict_proba(X_val)[:, 1]\n",
    "        \n",
    "    AUC_SCORE = roc_auc_score(y_val, clf_proba)\n",
    "    return AUC_SCORE\n",
    "\n",
    "direction = \"maximize\"\n",
    "sampler = optuna.samplers.TPESampler(seed=10)\n",
    "study =  optuna.create_study(direction=direction, sampler=sampler, pruner=optuna.pruners.HyperbandPruner())\n",
    "early_stopping = EarlyStoppingCallback(10, direction=direction)\n",
    "study.optimize(objective, callbacks=[early_stopping], n_trials=200) "
   ]
  },
  {
   "cell_type": "code",
   "execution_count": null,
   "id": "23536988",
   "metadata": {},
   "outputs": [],
   "source": [
    "print(study.best_trial.params)\n",
    "optuna_auc = study.best_trial.value\n",
    "print(optuna_auc)"
   ]
  },
  {
   "cell_type": "code",
   "execution_count": null,
   "id": "73394eb4",
   "metadata": {},
   "outputs": [],
   "source": [
    "optuna_33 = DecisionTreeClassifier(**study.best_trial.params, random_state = 0)\n",
    "optuna_33.fit(X_train, y_train)"
   ]
  },
  {
   "cell_type": "code",
   "execution_count": null,
   "id": "57ed6d60",
   "metadata": {},
   "outputs": [],
   "source": [
    "optuna_proba_33 = optuna_33.predict_proba(X_test)[:, 1]\n",
    "auc_33 = roc_auc_score(y_test, optuna_proba_33)\n",
    "print(decimal.Decimal(auc_33).quantize(decimal.Decimal('1.000')))"
   ]
  },
  {
   "cell_type": "code",
   "execution_count": null,
   "id": "d66d1359",
   "metadata": {},
   "outputs": [],
   "source": [
    "X_train = X_train.values\n",
    "y_train = y_train.values"
   ]
  },
  {
   "cell_type": "code",
   "execution_count": null,
   "id": "a897ad47",
   "metadata": {},
   "outputs": [],
   "source": [
    "auc_bootstrap = []"
   ]
  },
  {
   "cell_type": "code",
   "execution_count": null,
   "id": "ae730e48",
   "metadata": {},
   "outputs": [],
   "source": [
    "rs = RandomState(seed = 33)\n",
    "bootstrap_auc(optuna_33, X_train, y_train, X_test, y_test, nsamples=2000)"
   ]
  },
  {
   "cell_type": "code",
   "execution_count": null,
   "id": "97c30682",
   "metadata": {},
   "outputs": [],
   "source": [
    "shapiro(auc_bootstrap), np.mean(auc_bootstrap)"
   ]
  },
  {
   "cell_type": "code",
   "execution_count": null,
   "id": "a0e7e3af",
   "metadata": {},
   "outputs": [],
   "source": [
    "t_33 = auc_bootstrap\n",
    "print(t_33)"
   ]
  },
  {
   "cell_type": "code",
   "execution_count": null,
   "id": "f4839d18",
   "metadata": {},
   "outputs": [],
   "source": [
    "del X_train, X_test, y_train, y_test, X_val, y_val,study, optuna_auc"
   ]
  },
  {
   "cell_type": "code",
   "execution_count": 81,
   "id": "475520df",
   "metadata": {},
   "outputs": [],
   "source": [
    "# 34\n",
    "column_to_drop_33 = '소득 중 근로/사업소득의 비중(월평균)'"
   ]
  },
  {
   "cell_type": "code",
   "execution_count": 82,
   "id": "8e74c2e2",
   "metadata": {},
   "outputs": [
    {
     "name": "stdout",
     "output_type": "stream",
     "text": [
      "(10564, 117)\n"
     ]
    }
   ],
   "source": [
    "if not column_to_drop_33.startswith('Cat_'):\n",
    "    comp_34 = comp_33.drop(column_to_drop_33, axis=1)\n",
    "    X_34 = comp_34.drop('target', axis=1)\n",
    "    y_34 = comp_34['target']\n",
    "else:\n",
    "    comp_34 = comp_33.drop(comp_33.filter(regex='^' + column_to_drop_33).columns, axis=1)\n",
    "    X_34 = comp_34.drop('target', axis=1)\n",
    "    y_34 = comp_34['target']\n",
    "\n",
    "print(X_34.shape)"
   ]
  },
  {
   "cell_type": "code",
   "execution_count": null,
   "id": "017d7337",
   "metadata": {},
   "outputs": [],
   "source": [
    "X_train, X_test, y_train, y_test = train_test_split(X_34, y_34, test_size=0.2, shuffle=True, stratify=y_34, random_state = 0)\n",
    "X_train, X_val, y_train, y_val = train_test_split(X_train, y_train, test_size=0.2, shuffle=True, stratify=y_train, random_state = 0)"
   ]
  },
  {
   "cell_type": "code",
   "execution_count": null,
   "id": "45cb7303",
   "metadata": {},
   "outputs": [],
   "source": [
    "def objective(trial):\n",
    "    params = {\n",
    "        'max_depth' :trial.suggest_int('max_depth', 1, 10),\n",
    "        'min_samples_split' :trial.suggest_int('min_samples_split', 3, 10),\n",
    "        'min_samples_leaf' :trial.suggest_int('min_samples_leaf', 3, 10),\n",
    "        }\n",
    "        \n",
    "    clf = DecisionTreeClassifier(**params,random_state = 0)\n",
    "    clf.fit(X_train, y_train)\n",
    "    clf_proba = clf.predict_proba(X_val)[:, 1]\n",
    "        \n",
    "    AUC_SCORE = roc_auc_score(y_val, clf_proba)\n",
    "    return AUC_SCORE\n",
    "\n",
    "direction = \"maximize\"\n",
    "sampler = optuna.samplers.TPESampler(seed=10)\n",
    "study =  optuna.create_study(direction=direction, sampler=sampler, pruner=optuna.pruners.HyperbandPruner())\n",
    "early_stopping = EarlyStoppingCallback(10, direction=direction)\n",
    "study.optimize(objective, callbacks=[early_stopping], n_trials=200) "
   ]
  },
  {
   "cell_type": "code",
   "execution_count": null,
   "id": "0d57d273",
   "metadata": {},
   "outputs": [],
   "source": [
    "print(study.best_trial.params)\n",
    "optuna_auc = study.best_trial.value\n",
    "print(optuna_auc)"
   ]
  },
  {
   "cell_type": "code",
   "execution_count": null,
   "id": "a8f8add7",
   "metadata": {},
   "outputs": [],
   "source": [
    "optuna_34 = DecisionTreeClassifier(**study.best_trial.params, random_state = 0)\n",
    "optuna_34.fit(X_train, y_train)"
   ]
  },
  {
   "cell_type": "code",
   "execution_count": null,
   "id": "1fca9903",
   "metadata": {},
   "outputs": [],
   "source": [
    "optuna_proba_34 = optuna_34.predict_proba(X_test)[:, 1]\n",
    "auc_34 = roc_auc_score(y_test, optuna_proba_34)\n",
    "print(decimal.Decimal(auc_34).quantize(decimal.Decimal('1.000')))"
   ]
  },
  {
   "cell_type": "code",
   "execution_count": null,
   "id": "86a412ac",
   "metadata": {},
   "outputs": [],
   "source": [
    "X_train = X_train.values\n",
    "y_train = y_train.values"
   ]
  },
  {
   "cell_type": "code",
   "execution_count": null,
   "id": "7e95c81e",
   "metadata": {},
   "outputs": [],
   "source": [
    "auc_bootstrap = []"
   ]
  },
  {
   "cell_type": "code",
   "execution_count": null,
   "id": "f1781b06",
   "metadata": {},
   "outputs": [],
   "source": [
    "rs = RandomState(seed = 34)\n",
    "bootstrap_auc(optuna_34, X_train, y_train, X_test, y_test, nsamples=2000)"
   ]
  },
  {
   "cell_type": "code",
   "execution_count": null,
   "id": "cec4c94b",
   "metadata": {},
   "outputs": [],
   "source": [
    "shapiro(auc_bootstrap), np.mean(auc_bootstrap)"
   ]
  },
  {
   "cell_type": "code",
   "execution_count": null,
   "id": "7b521031",
   "metadata": {},
   "outputs": [],
   "source": [
    "t_34 = auc_bootstrap\n",
    "print(t_34)"
   ]
  },
  {
   "cell_type": "code",
   "execution_count": null,
   "id": "6143b399",
   "metadata": {},
   "outputs": [],
   "source": [
    "del X_train, X_test, y_train, y_test, X_val, y_val,study, optuna_auc"
   ]
  },
  {
   "cell_type": "code",
   "execution_count": 83,
   "id": "713ea457",
   "metadata": {},
   "outputs": [],
   "source": [
    "# 35\n",
    "column_to_drop_34 = 'Cat_현재 주택에 대한 전반적인 만족도'"
   ]
  },
  {
   "cell_type": "code",
   "execution_count": 84,
   "id": "1ae46123",
   "metadata": {},
   "outputs": [
    {
     "name": "stdout",
     "output_type": "stream",
     "text": [
      "(10564, 113)\n"
     ]
    }
   ],
   "source": [
    "if not column_to_drop_34.startswith('Cat_'):\n",
    "    comp_35 = comp_34.drop(column_to_drop_34, axis=1)\n",
    "    X_35 = comp_35.drop('target', axis=1)\n",
    "    y_35 = comp_35['target']\n",
    "else:\n",
    "    comp_35 = comp_34.drop(comp_34.filter(regex='^' + column_to_drop_34).columns, axis=1)\n",
    "    X_35 = comp_35.drop('target', axis=1)\n",
    "    y_35 = comp_35['target']\n",
    "\n",
    "print(X_35.shape)"
   ]
  },
  {
   "cell_type": "code",
   "execution_count": null,
   "id": "ce7fd510",
   "metadata": {},
   "outputs": [],
   "source": [
    "X_train, X_test, y_train, y_test = train_test_split(X_35, y_35, test_size=0.2, shuffle=True, stratify=y_35, random_state = 0)\n",
    "X_train, X_val, y_train, y_val = train_test_split(X_train, y_train, test_size=0.2, shuffle=True, stratify=y_train, random_state = 0)"
   ]
  },
  {
   "cell_type": "code",
   "execution_count": null,
   "id": "bcec2e36",
   "metadata": {},
   "outputs": [],
   "source": [
    "def objective(trial):\n",
    "    params = {\n",
    "        'max_depth' :trial.suggest_int('max_depth', 1, 10),\n",
    "        'min_samples_split' :trial.suggest_int('min_samples_split', 3, 10),\n",
    "        'min_samples_leaf' :trial.suggest_int('min_samples_leaf', 3, 10),\n",
    "        }\n",
    "        \n",
    "    clf = DecisionTreeClassifier(**params,random_state = 0)\n",
    "    clf.fit(X_train, y_train)\n",
    "    clf_proba = clf.predict_proba(X_val)[:, 1]\n",
    "        \n",
    "    AUC_SCORE = roc_auc_score(y_val, clf_proba)\n",
    "    return AUC_SCORE\n",
    "\n",
    "direction = \"maximize\"\n",
    "sampler = optuna.samplers.TPESampler(seed=10)\n",
    "study =  optuna.create_study(direction=direction, sampler=sampler, pruner=optuna.pruners.HyperbandPruner())\n",
    "early_stopping = EarlyStoppingCallback(10, direction=direction)\n",
    "study.optimize(objective, callbacks=[early_stopping], n_trials=200) "
   ]
  },
  {
   "cell_type": "code",
   "execution_count": null,
   "id": "3f4dd776",
   "metadata": {},
   "outputs": [],
   "source": [
    "print(study.best_trial.params)\n",
    "optuna_auc = study.best_trial.value\n",
    "print(optuna_auc)"
   ]
  },
  {
   "cell_type": "code",
   "execution_count": null,
   "id": "f8003eea",
   "metadata": {},
   "outputs": [],
   "source": [
    "optuna_35 = DecisionTreeClassifier(**study.best_trial.params, random_state = 0)\n",
    "optuna_35.fit(X_train, y_train)"
   ]
  },
  {
   "cell_type": "code",
   "execution_count": null,
   "id": "7e82dae6",
   "metadata": {},
   "outputs": [],
   "source": [
    "optuna_proba_35 = optuna_35.predict_proba(X_test)[:, 1]\n",
    "auc_35 = roc_auc_score(y_test, optuna_proba_35)\n",
    "print(decimal.Decimal(auc_35).quantize(decimal.Decimal('1.000')))"
   ]
  },
  {
   "cell_type": "code",
   "execution_count": null,
   "id": "4d3cb80e",
   "metadata": {},
   "outputs": [],
   "source": [
    "X_train = X_train.values\n",
    "y_train = y_train.values"
   ]
  },
  {
   "cell_type": "code",
   "execution_count": null,
   "id": "71fa2b72",
   "metadata": {},
   "outputs": [],
   "source": [
    "auc_bootstrap = []"
   ]
  },
  {
   "cell_type": "code",
   "execution_count": null,
   "id": "0acfcefe",
   "metadata": {},
   "outputs": [],
   "source": [
    "rs = RandomState(seed = 35)\n",
    "bootstrap_auc(optuna_35, X_train, y_train, X_test, y_test, nsamples=2000)"
   ]
  },
  {
   "cell_type": "code",
   "execution_count": null,
   "id": "463b343f",
   "metadata": {},
   "outputs": [],
   "source": [
    "shapiro(auc_bootstrap), np.mean(auc_bootstrap)"
   ]
  },
  {
   "cell_type": "code",
   "execution_count": null,
   "id": "0ac5d1b6",
   "metadata": {},
   "outputs": [],
   "source": [
    "t_35 = auc_bootstrap\n",
    "print(t_35)"
   ]
  },
  {
   "cell_type": "code",
   "execution_count": null,
   "id": "b72dc7e2",
   "metadata": {},
   "outputs": [],
   "source": [
    "del X_train, X_test, y_train, y_test, X_val, y_val,study, optuna_auc"
   ]
  },
  {
   "cell_type": "code",
   "execution_count": 85,
   "id": "6d9dc639",
   "metadata": {},
   "outputs": [],
   "source": [
    "# 36\n",
    "column_to_drop_35 = '자산 중 기타자산의 비중'"
   ]
  },
  {
   "cell_type": "code",
   "execution_count": 86,
   "id": "eb305d56",
   "metadata": {},
   "outputs": [
    {
     "name": "stdout",
     "output_type": "stream",
     "text": [
      "(10564, 112)\n"
     ]
    }
   ],
   "source": [
    "if not column_to_drop_35.startswith('Cat_'):\n",
    "    comp_36 = comp_35.drop(column_to_drop_35, axis=1)\n",
    "    X_36 = comp_36.drop('target', axis=1)\n",
    "    y_36 = comp_36['target']\n",
    "else:\n",
    "    comp_36 = comp_35.drop(comp_35.filter(regex='^' + column_to_drop_35).columns, axis=1)\n",
    "    X_36 = comp_36.drop('target', axis=1)\n",
    "    y_36 = comp_36['target']\n",
    "\n",
    "print(X_36.shape)"
   ]
  },
  {
   "cell_type": "code",
   "execution_count": null,
   "id": "568aef92",
   "metadata": {},
   "outputs": [],
   "source": [
    "X_train, X_test, y_train, y_test = train_test_split(X_36, y_36, test_size=0.2, shuffle=True, stratify=y_36, random_state = 0)\n",
    "X_train, X_val, y_train, y_val = train_test_split(X_train, y_train, test_size=0.2, shuffle=True, stratify=y_train, random_state = 0)"
   ]
  },
  {
   "cell_type": "code",
   "execution_count": null,
   "id": "d9d96328",
   "metadata": {},
   "outputs": [],
   "source": [
    "def objective(trial):\n",
    "    params = {\n",
    "        'max_depth' :trial.suggest_int('max_depth', 1, 10),\n",
    "        'min_samples_split' :trial.suggest_int('min_samples_split', 3, 10),\n",
    "        'min_samples_leaf' :trial.suggest_int('min_samples_leaf', 3, 10),\n",
    "        }\n",
    "        \n",
    "    clf = DecisionTreeClassifier(**params,random_state = 0)\n",
    "    clf.fit(X_train, y_train)\n",
    "    clf_proba = clf.predict_proba(X_val)[:, 1]\n",
    "        \n",
    "    AUC_SCORE = roc_auc_score(y_val, clf_proba)\n",
    "    return AUC_SCORE\n",
    "\n",
    "direction = \"maximize\"\n",
    "sampler = optuna.samplers.TPESampler(seed=10)\n",
    "study =  optuna.create_study(direction=direction, sampler=sampler, pruner=optuna.pruners.HyperbandPruner())\n",
    "early_stopping = EarlyStoppingCallback(10, direction=direction)\n",
    "study.optimize(objective, callbacks=[early_stopping], n_trials=200) \n"
   ]
  },
  {
   "cell_type": "code",
   "execution_count": null,
   "id": "b0abce38",
   "metadata": {},
   "outputs": [],
   "source": [
    "print(study.best_trial.params)\n",
    "optuna_auc = study.best_trial.value\n",
    "print(optuna_auc)"
   ]
  },
  {
   "cell_type": "code",
   "execution_count": null,
   "id": "86fe50ac",
   "metadata": {},
   "outputs": [],
   "source": [
    "optuna_36 = DecisionTreeClassifier(**study.best_trial.params, random_state = 0)\n",
    "optuna_36.fit(X_train, y_train)"
   ]
  },
  {
   "cell_type": "code",
   "execution_count": null,
   "id": "fcae2d80",
   "metadata": {},
   "outputs": [],
   "source": [
    "optuna_proba_36 = optuna_36.predict_proba(X_test)[:, 1]\n",
    "auc_36 = roc_auc_score(y_test, optuna_proba_36)\n",
    "print(decimal.Decimal(auc_36).quantize(decimal.Decimal('1.000')))"
   ]
  },
  {
   "cell_type": "code",
   "execution_count": null,
   "id": "b2fe93e8",
   "metadata": {},
   "outputs": [],
   "source": [
    "X_train = X_train.values\n",
    "y_train = y_train.values"
   ]
  },
  {
   "cell_type": "code",
   "execution_count": null,
   "id": "0a1df77e",
   "metadata": {},
   "outputs": [],
   "source": [
    "auc_bootstrap = []"
   ]
  },
  {
   "cell_type": "code",
   "execution_count": null,
   "id": "cf8abd77",
   "metadata": {},
   "outputs": [],
   "source": [
    "rs = RandomState(seed = 36)\n",
    "bootstrap_auc(optuna_36, X_train, y_train, X_test, y_test, nsamples=2000)"
   ]
  },
  {
   "cell_type": "code",
   "execution_count": null,
   "id": "f8a6fa6d",
   "metadata": {},
   "outputs": [],
   "source": [
    "shapiro(auc_bootstrap), np.mean(auc_bootstrap)"
   ]
  },
  {
   "cell_type": "code",
   "execution_count": null,
   "id": "92fe8fbe",
   "metadata": {},
   "outputs": [],
   "source": [
    "t_36 = auc_bootstrap\n",
    "print(t_36)"
   ]
  },
  {
   "cell_type": "code",
   "execution_count": null,
   "id": "c74541fc",
   "metadata": {},
   "outputs": [],
   "source": [
    "del X_train, X_test, y_train, y_test, X_val, y_val,study, optuna_auc"
   ]
  },
  {
   "cell_type": "code",
   "execution_count": 87,
   "id": "7dbd3586",
   "metadata": {},
   "outputs": [],
   "source": [
    "# 37\n",
    "column_to_drop_36 = 'Cat_현재 의료시설 접근용이성'"
   ]
  },
  {
   "cell_type": "code",
   "execution_count": 88,
   "id": "72b00a68",
   "metadata": {},
   "outputs": [
    {
     "name": "stdout",
     "output_type": "stream",
     "text": [
      "(10564, 108)\n"
     ]
    }
   ],
   "source": [
    "if not column_to_drop_36.startswith('Cat_'):\n",
    "    comp_37 = comp_36.drop(column_to_drop_36, axis=1)\n",
    "    X_37 = comp_37.drop('target', axis=1)\n",
    "    y_37 = comp_37['target']\n",
    "else:\n",
    "    comp_37 = comp_36.drop(comp_36.filter(regex='^' + column_to_drop_36).columns, axis=1)\n",
    "    X_37 = comp_37.drop('target', axis=1)\n",
    "    y_37 = comp_37['target']\n",
    "\n",
    "print(X_37.shape)"
   ]
  },
  {
   "cell_type": "code",
   "execution_count": null,
   "id": "d33834e3",
   "metadata": {},
   "outputs": [],
   "source": [
    "X_train, X_test, y_train, y_test = train_test_split(X_37, y_37, test_size=0.2, shuffle=True, stratify=y_37, random_state = 0)\n",
    "X_train, X_val, y_train, y_val = train_test_split(X_train, y_train, test_size=0.2, shuffle=True, stratify=y_train, random_state = 0)"
   ]
  },
  {
   "cell_type": "code",
   "execution_count": null,
   "id": "cfc73165",
   "metadata": {},
   "outputs": [],
   "source": [
    "def objective(trial):\n",
    "    params = {\n",
    "        'max_depth' :trial.suggest_int('max_depth', 1, 10),\n",
    "        'min_samples_split' :trial.suggest_int('min_samples_split', 3, 10),\n",
    "        'min_samples_leaf' :trial.suggest_int('min_samples_leaf', 3, 10),\n",
    "        }\n",
    "        \n",
    "    clf = DecisionTreeClassifier(**params,random_state = 0)\n",
    "    clf.fit(X_train, y_train)\n",
    "    clf_proba = clf.predict_proba(X_val)[:, 1]\n",
    "        \n",
    "    AUC_SCORE = roc_auc_score(y_val, clf_proba)\n",
    "    return AUC_SCORE\n",
    "\n",
    "direction = \"maximize\"\n",
    "sampler = optuna.samplers.TPESampler(seed=10)\n",
    "study =  optuna.create_study(direction=direction, sampler=sampler, pruner=optuna.pruners.HyperbandPruner())\n",
    "early_stopping = EarlyStoppingCallback(10, direction=direction)\n",
    "study.optimize(objective, callbacks=[early_stopping], n_trials=200) "
   ]
  },
  {
   "cell_type": "code",
   "execution_count": null,
   "id": "9584fbe9",
   "metadata": {},
   "outputs": [],
   "source": [
    "print(study.best_trial.params)\n",
    "optuna_auc = study.best_trial.value\n",
    "print(optuna_auc)"
   ]
  },
  {
   "cell_type": "code",
   "execution_count": null,
   "id": "165b5194",
   "metadata": {},
   "outputs": [],
   "source": [
    "optuna_37 = DecisionTreeClassifier(**study.best_trial.params, random_state = 0)\n",
    "optuna_37.fit(X_train, y_train)"
   ]
  },
  {
   "cell_type": "code",
   "execution_count": null,
   "id": "77528c24",
   "metadata": {},
   "outputs": [],
   "source": [
    "optuna_proba_37 = optuna_37.predict_proba(X_test)[:, 1]\n",
    "auc_37 = roc_auc_score(y_test, optuna_proba_37)\n",
    "print(decimal.Decimal(auc_37).quantize(decimal.Decimal('1.000')))"
   ]
  },
  {
   "cell_type": "code",
   "execution_count": null,
   "id": "658bbad7",
   "metadata": {},
   "outputs": [],
   "source": [
    "X_train = X_train.values\n",
    "y_train = y_train.values"
   ]
  },
  {
   "cell_type": "code",
   "execution_count": null,
   "id": "357af21d",
   "metadata": {},
   "outputs": [],
   "source": [
    "auc_bootstrap = []"
   ]
  },
  {
   "cell_type": "code",
   "execution_count": null,
   "id": "e7d0e307",
   "metadata": {},
   "outputs": [],
   "source": [
    "rs = RandomState(seed = 37)\n",
    "bootstrap_auc(optuna_37, X_train, y_train, X_test, y_test, nsamples=2000)"
   ]
  },
  {
   "cell_type": "code",
   "execution_count": null,
   "id": "85655e15",
   "metadata": {},
   "outputs": [],
   "source": [
    "shapiro(auc_bootstrap), np.mean(auc_bootstrap)"
   ]
  },
  {
   "cell_type": "code",
   "execution_count": null,
   "id": "dc36d048",
   "metadata": {},
   "outputs": [],
   "source": [
    "t_37 = auc_bootstrap\n",
    "print(t_37)"
   ]
  },
  {
   "cell_type": "code",
   "execution_count": null,
   "id": "77673a17",
   "metadata": {},
   "outputs": [],
   "source": [
    "del X_train, X_test, y_train, y_test, X_val, y_val,study, optuna_auc"
   ]
  },
  {
   "cell_type": "code",
   "execution_count": 89,
   "id": "ead41f79",
   "metadata": {},
   "outputs": [],
   "source": [
    "# 38\n",
    "column_to_drop_37 = 'Cat_가구주 종사상 지위'"
   ]
  },
  {
   "cell_type": "code",
   "execution_count": 90,
   "id": "dae6def3",
   "metadata": {},
   "outputs": [
    {
     "name": "stdout",
     "output_type": "stream",
     "text": [
      "(10564, 103)\n"
     ]
    }
   ],
   "source": [
    "if not column_to_drop_37.startswith('Cat_'):\n",
    "    comp_38 = comp_37.drop(column_to_drop_37, axis=1)\n",
    "    X_38 = comp_38.drop('target', axis=1)\n",
    "    y_38 = comp_38['target']\n",
    "else:\n",
    "    comp_38 = comp_37.drop(comp_37.filter(regex='^' + column_to_drop_37).columns, axis=1)\n",
    "    X_38 = comp_38.drop('target', axis=1)\n",
    "    y_38 = comp_38['target']\n",
    "\n",
    "print(X_38.shape)"
   ]
  },
  {
   "cell_type": "code",
   "execution_count": null,
   "id": "700db5cb",
   "metadata": {},
   "outputs": [],
   "source": [
    "X_train, X_test, y_train, y_test = train_test_split(X_38, y_38, test_size=0.2, shuffle=True, stratify=y_38, random_state = 0)\n",
    "X_train, X_val, y_train, y_val = train_test_split(X_train, y_train, test_size=0.2, shuffle=True, stratify=y_train, random_state = 0)"
   ]
  },
  {
   "cell_type": "code",
   "execution_count": null,
   "id": "d6a53f75",
   "metadata": {},
   "outputs": [],
   "source": [
    "def objective(trial):\n",
    "    params = {\n",
    "        'max_depth' :trial.suggest_int('max_depth', 1, 10),\n",
    "        'min_samples_split' :trial.suggest_int('min_samples_split', 3, 10),\n",
    "        'min_samples_leaf' :trial.suggest_int('min_samples_leaf', 3, 10),\n",
    "        }\n",
    "        \n",
    "    clf = DecisionTreeClassifier(**params,random_state = 0)\n",
    "    clf.fit(X_train, y_train)\n",
    "    clf_proba = clf.predict_proba(X_val)[:, 1]\n",
    "        \n",
    "    AUC_SCORE = roc_auc_score(y_val, clf_proba)\n",
    "    return AUC_SCORE\n",
    "\n",
    "direction = \"maximize\"\n",
    "sampler = optuna.samplers.TPESampler(seed=10)\n",
    "study =  optuna.create_study(direction=direction, sampler=sampler, pruner=optuna.pruners.HyperbandPruner())\n",
    "early_stopping = EarlyStoppingCallback(10, direction=direction)\n",
    "study.optimize(objective, callbacks=[early_stopping], n_trials=200) "
   ]
  },
  {
   "cell_type": "code",
   "execution_count": null,
   "id": "4863dd08",
   "metadata": {},
   "outputs": [],
   "source": [
    "print(study.best_trial.params)\n",
    "optuna_auc = study.best_trial.value\n",
    "print(optuna_auc)"
   ]
  },
  {
   "cell_type": "code",
   "execution_count": null,
   "id": "2b61884c",
   "metadata": {},
   "outputs": [],
   "source": [
    "optuna_38 = DecisionTreeClassifier(**study.best_trial.params, random_state = 0)\n",
    "optuna_38.fit(X_train, y_train)"
   ]
  },
  {
   "cell_type": "code",
   "execution_count": null,
   "id": "6033e0d9",
   "metadata": {},
   "outputs": [],
   "source": [
    "optuna_proba_38 = optuna_38.predict_proba(X_test)[:, 1]\n",
    "auc_38 = roc_auc_score(y_test, optuna_proba_38)\n",
    "print(decimal.Decimal(auc_38).quantize(decimal.Decimal('1.000')))"
   ]
  },
  {
   "cell_type": "code",
   "execution_count": null,
   "id": "5d347eae",
   "metadata": {},
   "outputs": [],
   "source": [
    "X_train = X_train.values\n",
    "y_train = y_train.values"
   ]
  },
  {
   "cell_type": "code",
   "execution_count": null,
   "id": "b118e43b",
   "metadata": {},
   "outputs": [],
   "source": [
    "auc_bootstrap = []"
   ]
  },
  {
   "cell_type": "code",
   "execution_count": null,
   "id": "a84e7154",
   "metadata": {},
   "outputs": [],
   "source": [
    "rs = RandomState(seed = 38)\n",
    "bootstrap_auc(optuna_38, X_train, y_train, X_test, y_test, nsamples=2000)"
   ]
  },
  {
   "cell_type": "code",
   "execution_count": null,
   "id": "20b53f1f",
   "metadata": {},
   "outputs": [],
   "source": [
    "shapiro(auc_bootstrap), np.mean(auc_bootstrap)"
   ]
  },
  {
   "cell_type": "code",
   "execution_count": null,
   "id": "3de795e7",
   "metadata": {},
   "outputs": [],
   "source": [
    "t_38 = auc_bootstrap\n",
    "print(t_38)"
   ]
  },
  {
   "cell_type": "code",
   "execution_count": null,
   "id": "3c927cd9",
   "metadata": {},
   "outputs": [],
   "source": [
    "del X_train, X_test, y_train, y_test, X_val, y_val,study, optuna_auc"
   ]
  },
  {
   "cell_type": "code",
   "execution_count": 91,
   "id": "35513838",
   "metadata": {},
   "outputs": [],
   "source": [
    "# 38\n",
    "column_to_drop_38 = '현재 무주택 기간(총 개월)'"
   ]
  },
  {
   "cell_type": "code",
   "execution_count": 92,
   "id": "5e60a3f0",
   "metadata": {},
   "outputs": [
    {
     "name": "stdout",
     "output_type": "stream",
     "text": [
      "(10564, 102)\n"
     ]
    }
   ],
   "source": [
    "if not column_to_drop_38.startswith('Cat_'):\n",
    "    comp_39 = comp_38.drop(column_to_drop_38, axis=1)\n",
    "    X_39 = comp_39.drop('target', axis=1)\n",
    "    y_39 = comp_39['target']\n",
    "else:\n",
    "    comp_39 = comp_38.drop(comp_38.filter(regex='^' + column_to_drop_38).columns, axis=1)\n",
    "    X_39 = comp_39.drop('target', axis=1)\n",
    "    y_39 = comp_39['target']\n",
    "\n",
    "print(X_39.shape)"
   ]
  },
  {
   "cell_type": "code",
   "execution_count": null,
   "id": "f5bbb1aa",
   "metadata": {},
   "outputs": [],
   "source": [
    "X_train, X_test, y_train, y_test = train_test_split(X_39, y_39, test_size=0.2, shuffle=True, stratify=y_39, random_state = 0)\n",
    "X_train, X_val, y_train, y_val = train_test_split(X_train, y_train, test_size=0.2, shuffle=True, stratify=y_train, random_state = 0)"
   ]
  },
  {
   "cell_type": "code",
   "execution_count": null,
   "id": "0d3d2350",
   "metadata": {},
   "outputs": [],
   "source": [
    "def objective(trial):\n",
    "    params = {\n",
    "        'max_depth' :trial.suggest_int('max_depth', 1, 10),\n",
    "        'min_samples_split' :trial.suggest_int('min_samples_split', 3, 10),\n",
    "        'min_samples_leaf' :trial.suggest_int('min_samples_leaf', 3, 10),\n",
    "        }\n",
    "        \n",
    "    clf = DecisionTreeClassifier(**params,random_state = 0)\n",
    "    clf.fit(X_train, y_train)\n",
    "    clf_proba = clf.predict_proba(X_val)[:, 1]\n",
    "        \n",
    "    AUC_SCORE = roc_auc_score(y_val, clf_proba)\n",
    "    return AUC_SCORE\n",
    "\n",
    "direction = \"maximize\"\n",
    "sampler = optuna.samplers.TPESampler(seed=10)\n",
    "study =  optuna.create_study(direction=direction, sampler=sampler, pruner=optuna.pruners.HyperbandPruner())\n",
    "early_stopping = EarlyStoppingCallback(10, direction=direction)\n",
    "study.optimize(objective, callbacks=[early_stopping], n_trials=200) "
   ]
  },
  {
   "cell_type": "code",
   "execution_count": null,
   "id": "10c4efd8",
   "metadata": {},
   "outputs": [],
   "source": [
    "print(study.best_trial.params)\n",
    "optuna_auc = study.best_trial.value\n",
    "print(optuna_auc)"
   ]
  },
  {
   "cell_type": "code",
   "execution_count": null,
   "id": "5d0fd661",
   "metadata": {},
   "outputs": [],
   "source": [
    "optuna_39 = DecisionTreeClassifier(**study.best_trial.params, random_state = 0)\n",
    "optuna_39.fit(X_train, y_train)"
   ]
  },
  {
   "cell_type": "code",
   "execution_count": null,
   "id": "ea9c1fa9",
   "metadata": {},
   "outputs": [],
   "source": [
    "optuna_proba_39 = optuna_39.predict_proba(X_test)[:, 1]\n",
    "auc_39 = roc_auc_score(y_test, optuna_proba_39)\n",
    "print(decimal.Decimal(auc_39).quantize(decimal.Decimal('1.000')))"
   ]
  },
  {
   "cell_type": "code",
   "execution_count": null,
   "id": "187488dd",
   "metadata": {},
   "outputs": [],
   "source": [
    "X_train = X_train.values\n",
    "y_train = y_train.values"
   ]
  },
  {
   "cell_type": "code",
   "execution_count": null,
   "id": "1cc53e43",
   "metadata": {},
   "outputs": [],
   "source": [
    "auc_bootstrap = []"
   ]
  },
  {
   "cell_type": "code",
   "execution_count": null,
   "id": "2822259f",
   "metadata": {},
   "outputs": [],
   "source": [
    "rs = RandomState(seed = 39)\n",
    "bootstrap_auc(optuna_39, X_train, y_train, X_test, y_test, nsamples=2000)"
   ]
  },
  {
   "cell_type": "code",
   "execution_count": null,
   "id": "02274a0f",
   "metadata": {},
   "outputs": [],
   "source": [
    "shapiro(auc_bootstrap), np.mean(auc_bootstrap)"
   ]
  },
  {
   "cell_type": "code",
   "execution_count": null,
   "id": "d05fb6ec",
   "metadata": {},
   "outputs": [],
   "source": [
    "t_39 = auc_bootstrap\n",
    "print(t_39)"
   ]
  },
  {
   "cell_type": "code",
   "execution_count": null,
   "id": "0e6aedb9",
   "metadata": {},
   "outputs": [],
   "source": [
    "del X_train, X_test, y_train, y_test, X_val, y_val,study, optuna_auc"
   ]
  },
  {
   "cell_type": "code",
   "execution_count": 93,
   "id": "b51f1c48",
   "metadata": {},
   "outputs": [],
   "source": [
    "# 40\n",
    "column_to_drop_39 = 'Cat_현재 치안 및 범죄 등 방범 상태'"
   ]
  },
  {
   "cell_type": "code",
   "execution_count": 94,
   "id": "1582ce60",
   "metadata": {},
   "outputs": [
    {
     "name": "stdout",
     "output_type": "stream",
     "text": [
      "(10564, 98)\n"
     ]
    }
   ],
   "source": [
    "if not column_to_drop_39.startswith('Cat_'):\n",
    "    comp_40 = comp_39.drop(column_to_drop_39, axis=1)\n",
    "    X_40 = comp_40.drop('target', axis=1)\n",
    "    y_40 = comp_40['target']\n",
    "else:\n",
    "    comp_40 = comp_39.drop(comp_39.filter(regex='^' + column_to_drop_39).columns, axis=1)\n",
    "    X_40 = comp_40.drop('target', axis=1)\n",
    "    y_40 = comp_40['target']\n",
    "\n",
    "print(X_40.shape)"
   ]
  },
  {
   "cell_type": "code",
   "execution_count": null,
   "id": "f81f10b8",
   "metadata": {},
   "outputs": [],
   "source": [
    "X_train, X_test, y_train, y_test = train_test_split(X_40, y_40, test_size=0.2, shuffle=True, stratify=y_40, random_state = 0)\n",
    "X_train, X_val, y_train, y_val = train_test_split(X_train, y_train, test_size=0.2, shuffle=True, stratify=y_train, random_state = 0)"
   ]
  },
  {
   "cell_type": "code",
   "execution_count": null,
   "id": "98de500b",
   "metadata": {},
   "outputs": [],
   "source": [
    "def objective(trial):\n",
    "    params = {\n",
    "        'max_depth' :trial.suggest_int('max_depth', 1, 10),\n",
    "        'min_samples_split' :trial.suggest_int('min_samples_split', 3, 10),\n",
    "        'min_samples_leaf' :trial.suggest_int('min_samples_leaf', 3, 10),\n",
    "        }\n",
    "        \n",
    "    clf = DecisionTreeClassifier(**params,random_state = 0)\n",
    "    clf.fit(X_train, y_train)\n",
    "    clf_proba = clf.predict_proba(X_val)[:, 1]\n",
    "        \n",
    "    AUC_SCORE = roc_auc_score(y_val, clf_proba)\n",
    "    return AUC_SCORE\n",
    "\n",
    "direction = \"maximize\"\n",
    "sampler = optuna.samplers.TPESampler(seed=10)\n",
    "study =  optuna.create_study(direction=direction, sampler=sampler, pruner=optuna.pruners.HyperbandPruner())\n",
    "early_stopping = EarlyStoppingCallback(10, direction=direction)\n",
    "study.optimize(objective, callbacks=[early_stopping], n_trials=200) "
   ]
  },
  {
   "cell_type": "code",
   "execution_count": null,
   "id": "f14df004",
   "metadata": {},
   "outputs": [],
   "source": [
    "print(study.best_trial.params)\n",
    "optuna_auc = study.best_trial.value\n",
    "print(optuna_auc)"
   ]
  },
  {
   "cell_type": "code",
   "execution_count": null,
   "id": "cdcbd152",
   "metadata": {},
   "outputs": [],
   "source": [
    "optuna_40 = DecisionTreeClassifier(**study.best_trial.params, random_state = 0)\n",
    "optuna_40.fit(X_train, y_train)"
   ]
  },
  {
   "cell_type": "code",
   "execution_count": null,
   "id": "e0316727",
   "metadata": {},
   "outputs": [],
   "source": [
    "optuna_proba_40 = optuna_40.predict_proba(X_test)[:, 1]\n",
    "auc_40 = roc_auc_score(y_test, optuna_proba_40)\n",
    "print(decimal.Decimal(auc_40).quantize(decimal.Decimal('1.000')))"
   ]
  },
  {
   "cell_type": "code",
   "execution_count": null,
   "id": "591a2e4e",
   "metadata": {},
   "outputs": [],
   "source": [
    "X_train = X_train.values\n",
    "y_train = y_train.values"
   ]
  },
  {
   "cell_type": "code",
   "execution_count": null,
   "id": "1f01eef7",
   "metadata": {},
   "outputs": [],
   "source": [
    "auc_bootstrap = []"
   ]
  },
  {
   "cell_type": "code",
   "execution_count": null,
   "id": "a6526b9c",
   "metadata": {},
   "outputs": [],
   "source": [
    "rs = RandomState(seed = 40)\n",
    "bootstrap_auc(optuna_40, X_train, y_train, X_test, y_test, nsamples=2000)"
   ]
  },
  {
   "cell_type": "code",
   "execution_count": null,
   "id": "62686fb7",
   "metadata": {},
   "outputs": [],
   "source": [
    "shapiro(auc_bootstrap), np.mean(auc_bootstrap)"
   ]
  },
  {
   "cell_type": "code",
   "execution_count": null,
   "id": "edbb7f6f",
   "metadata": {},
   "outputs": [],
   "source": [
    "t_40 = auc_bootstrap\n",
    "print(t_40)"
   ]
  },
  {
   "cell_type": "code",
   "execution_count": null,
   "id": "436468ab",
   "metadata": {},
   "outputs": [],
   "source": [
    "del X_train, X_test, y_train, y_test, X_val, y_val,study, optuna_auc"
   ]
  },
  {
   "cell_type": "code",
   "execution_count": 95,
   "id": "3a0411ae",
   "metadata": {},
   "outputs": [],
   "source": [
    "# 41.\n",
    "column_to_drop_40 = 'Cat_이사 계획 중인 주택의 유형'"
   ]
  },
  {
   "cell_type": "code",
   "execution_count": 96,
   "id": "2e3849d6",
   "metadata": {},
   "outputs": [
    {
     "name": "stdout",
     "output_type": "stream",
     "text": [
      "(10564, 82)\n"
     ]
    }
   ],
   "source": [
    "if not column_to_drop_40.startswith('Cat_'):\n",
    "    comp_41 = comp_40.drop(column_to_drop_40, axis=1)\n",
    "    X_41 = comp_41.drop('target', axis=1)\n",
    "    y_41 = comp_41['target']\n",
    "else:\n",
    "    comp_41 = comp_40.drop(comp_40.filter(regex='^' + column_to_drop_40).columns, axis=1)\n",
    "    X_41 = comp_41.drop('target', axis=1)\n",
    "    y_41 = comp_41['target']\n",
    "\n",
    "print(X_41.shape)"
   ]
  },
  {
   "cell_type": "code",
   "execution_count": null,
   "id": "e0ba6243",
   "metadata": {},
   "outputs": [],
   "source": [
    "X_train, X_test, y_train, y_test = train_test_split(X_41, y_41, test_size=0.2, shuffle=True, stratify=y_41, random_state = 0)\n",
    "X_train, X_val, y_train, y_val = train_test_split(X_train, y_train, test_size=0.2, shuffle=True, stratify=y_train, random_state = 0)"
   ]
  },
  {
   "cell_type": "code",
   "execution_count": null,
   "id": "a29ccb7e",
   "metadata": {},
   "outputs": [],
   "source": [
    "def objective(trial):\n",
    "    params = {\n",
    "        'max_depth' :trial.suggest_int('max_depth', 1, 10),\n",
    "        'min_samples_split' :trial.suggest_int('min_samples_split', 3, 10),\n",
    "        'min_samples_leaf' :trial.suggest_int('min_samples_leaf', 3, 10),\n",
    "        }\n",
    "        \n",
    "    clf = DecisionTreeClassifier(**params,random_state = 0)\n",
    "    clf.fit(X_train, y_train)\n",
    "    clf_proba = clf.predict_proba(X_val)[:, 1]\n",
    "        \n",
    "    AUC_SCORE = roc_auc_score(y_val, clf_proba)\n",
    "    return AUC_SCORE\n",
    "\n",
    "direction = \"maximize\"\n",
    "sampler = optuna.samplers.TPESampler(seed=10)\n",
    "study =  optuna.create_study(direction=direction, sampler=sampler, pruner=optuna.pruners.HyperbandPruner())\n",
    "early_stopping = EarlyStoppingCallback(10, direction=direction)\n",
    "study.optimize(objective, callbacks=[early_stopping], n_trials=200) "
   ]
  },
  {
   "cell_type": "code",
   "execution_count": null,
   "id": "b6da2cec",
   "metadata": {},
   "outputs": [],
   "source": [
    "print(study.best_trial.params)\n",
    "optuna_auc = study.best_trial.value\n",
    "print(optuna_auc)"
   ]
  },
  {
   "cell_type": "code",
   "execution_count": null,
   "id": "2ad7fe78",
   "metadata": {},
   "outputs": [],
   "source": [
    "optuna_41 = DecisionTreeClassifier(**study.best_trial.params, random_state = 0)\n",
    "optuna_41.fit(X_train, y_train)"
   ]
  },
  {
   "cell_type": "code",
   "execution_count": null,
   "id": "e4974441",
   "metadata": {},
   "outputs": [],
   "source": [
    "optuna_proba_41 = optuna_41.predict_proba(X_test)[:, 1]\n",
    "auc_41 = roc_auc_score(y_test, optuna_proba_41)\n",
    "print(decimal.Decimal(auc_41).quantize(decimal.Decimal('1.000')))"
   ]
  },
  {
   "cell_type": "code",
   "execution_count": null,
   "id": "1f61c4d2",
   "metadata": {},
   "outputs": [],
   "source": [
    "X_train = X_train.values\n",
    "y_train = y_train.values"
   ]
  },
  {
   "cell_type": "code",
   "execution_count": null,
   "id": "8ca50294",
   "metadata": {},
   "outputs": [],
   "source": [
    "auc_bootstrap = []"
   ]
  },
  {
   "cell_type": "code",
   "execution_count": null,
   "id": "a5a774ec",
   "metadata": {},
   "outputs": [],
   "source": [
    "rs = RandomState(seed = 41)\n",
    "bootstrap_auc(optuna_41, X_train, y_train, X_test, y_test, nsamples=2000)"
   ]
  },
  {
   "cell_type": "code",
   "execution_count": null,
   "id": "91232cf2",
   "metadata": {},
   "outputs": [],
   "source": [
    "shapiro(auc_bootstrap), np.mean(auc_bootstrap)"
   ]
  },
  {
   "cell_type": "code",
   "execution_count": null,
   "id": "062e31ea",
   "metadata": {},
   "outputs": [],
   "source": [
    "t_41 = auc_bootstrap\n",
    "print(t_41)"
   ]
  },
  {
   "cell_type": "code",
   "execution_count": null,
   "id": "546319b9",
   "metadata": {},
   "outputs": [],
   "source": [
    "del X_train, X_test, y_train, y_test, X_val, y_val,study, optuna_auc"
   ]
  },
  {
   "cell_type": "code",
   "execution_count": 97,
   "id": "8d3210d9",
   "metadata": {},
   "outputs": [],
   "source": [
    "# 42.\n",
    "column_to_drop_41 = '중기부채부담지표'"
   ]
  },
  {
   "cell_type": "code",
   "execution_count": 98,
   "id": "f24e9126",
   "metadata": {},
   "outputs": [
    {
     "name": "stdout",
     "output_type": "stream",
     "text": [
      "(10564, 81)\n"
     ]
    }
   ],
   "source": [
    "if not column_to_drop_41.startswith('Cat_'):\n",
    "    comp_42 = comp_41.drop(column_to_drop_41, axis=1)\n",
    "    X_42 = comp_42.drop('target', axis=1)\n",
    "    y_42 = comp_42['target']\n",
    "else:\n",
    "    comp_42 = comp_41.drop(comp_41.filter(regex='^' + column_to_drop_41).columns, axis=1)\n",
    "    X_42 = comp_42.drop('target', axis=1)\n",
    "    y_42 = comp_42['target']\n",
    "\n",
    "print(X_42.shape)"
   ]
  },
  {
   "cell_type": "code",
   "execution_count": null,
   "id": "c6e87b80",
   "metadata": {},
   "outputs": [],
   "source": [
    "X_train, X_test, y_train, y_test = train_test_split(X_42, y_42, test_size=0.2, shuffle=True, stratify=y_42, random_state = 0)\n",
    "X_train, X_val, y_train, y_val = train_test_split(X_train, y_train, test_size=0.2, shuffle=True, stratify=y_train, random_state = 0)"
   ]
  },
  {
   "cell_type": "code",
   "execution_count": null,
   "id": "ac52f250",
   "metadata": {},
   "outputs": [],
   "source": [
    "def objective(trial):\n",
    "    params = {\n",
    "        'max_depth' :trial.suggest_int('max_depth', 1, 10),\n",
    "        'min_samples_split' :trial.suggest_int('min_samples_split', 3, 10),\n",
    "        'min_samples_leaf' :trial.suggest_int('min_samples_leaf', 3, 10),\n",
    "        }\n",
    "        \n",
    "    clf = DecisionTreeClassifier(**params,random_state = 0)\n",
    "    clf.fit(X_train, y_train)\n",
    "    clf_proba = clf.predict_proba(X_val)[:, 1]\n",
    "        \n",
    "    AUC_SCORE = roc_auc_score(y_val, clf_proba)\n",
    "    return AUC_SCORE\n",
    "\n",
    "direction = \"maximize\"\n",
    "sampler = optuna.samplers.TPESampler(seed=10)\n",
    "study =  optuna.create_study(direction=direction, sampler=sampler, pruner=optuna.pruners.HyperbandPruner())\n",
    "early_stopping = EarlyStoppingCallback(10, direction=direction)\n",
    "study.optimize(objective, callbacks=[early_stopping], n_trials=200) "
   ]
  },
  {
   "cell_type": "code",
   "execution_count": null,
   "id": "12b47e83",
   "metadata": {},
   "outputs": [],
   "source": [
    "print(study.best_trial.params)\n",
    "optuna_auc = study.best_trial.value\n",
    "print(optuna_auc)"
   ]
  },
  {
   "cell_type": "code",
   "execution_count": null,
   "id": "1f3d1cad",
   "metadata": {},
   "outputs": [],
   "source": [
    "optuna_42 = DecisionTreeClassifier(**study.best_trial.params, random_state = 0)\n",
    "optuna_42.fit(X_train, y_train)"
   ]
  },
  {
   "cell_type": "code",
   "execution_count": null,
   "id": "3f04209a",
   "metadata": {},
   "outputs": [],
   "source": [
    "optuna_proba_42 = optuna_42.predict_proba(X_test)[:, 1]\n",
    "auc_42 = roc_auc_score(y_test, optuna_proba_42)\n",
    "print(decimal.Decimal(auc_42).quantize(decimal.Decimal('1.000')))"
   ]
  },
  {
   "cell_type": "code",
   "execution_count": null,
   "id": "b5baef7b",
   "metadata": {},
   "outputs": [],
   "source": [
    "X_train = X_train.values\n",
    "y_train = y_train.values"
   ]
  },
  {
   "cell_type": "code",
   "execution_count": null,
   "id": "b94c497d",
   "metadata": {},
   "outputs": [],
   "source": [
    "auc_bootstrap = []"
   ]
  },
  {
   "cell_type": "code",
   "execution_count": null,
   "id": "2afc3442",
   "metadata": {},
   "outputs": [],
   "source": [
    "rs = RandomState(seed = 42)\n",
    "bootstrap_auc(optuna_42, X_train, y_train, X_test, y_test, nsamples=2000)"
   ]
  },
  {
   "cell_type": "code",
   "execution_count": null,
   "id": "c11c0d3a",
   "metadata": {},
   "outputs": [],
   "source": [
    "shapiro(auc_bootstrap), np.mean(auc_bootstrap)"
   ]
  },
  {
   "cell_type": "code",
   "execution_count": null,
   "id": "3136e093",
   "metadata": {},
   "outputs": [],
   "source": [
    "t_42 = auc_bootstrap\n",
    "print(t_42)"
   ]
  },
  {
   "cell_type": "code",
   "execution_count": null,
   "id": "aa5d9610",
   "metadata": {},
   "outputs": [],
   "source": [
    "del X_train, X_test, y_train, y_test, X_val, y_val,study, optuna_auc"
   ]
  },
  {
   "cell_type": "code",
   "execution_count": 99,
   "id": "4f1b5945",
   "metadata": {},
   "outputs": [],
   "source": [
    "# 43.\n",
    "column_to_drop_42 = 'Cat_현재 거주 지역'"
   ]
  },
  {
   "cell_type": "code",
   "execution_count": 100,
   "id": "3e135344",
   "metadata": {},
   "outputs": [
    {
     "name": "stdout",
     "output_type": "stream",
     "text": [
      "(10564, 64)\n"
     ]
    }
   ],
   "source": [
    "if not column_to_drop_42.startswith('Cat_'):\n",
    "    comp_43 = comp_42.drop(column_to_drop_42, axis=1)\n",
    "    X_43 = comp_43.drop('target', axis=1)\n",
    "    y_43 = comp_43['target']\n",
    "else:\n",
    "    comp_43 = comp_42.drop(comp_42.filter(regex='^' + column_to_drop_42).columns, axis=1)\n",
    "    X_43 = comp_43.drop('target', axis=1)\n",
    "    y_43 = comp_43['target']\n",
    "\n",
    "print(X_43.shape)"
   ]
  },
  {
   "cell_type": "code",
   "execution_count": null,
   "id": "bdea26d7",
   "metadata": {},
   "outputs": [],
   "source": [
    "X_train, X_test, y_train, y_test = train_test_split(X_43, y_43, test_size=0.2, shuffle=True, stratify=y_43, random_state = 0)\n",
    "X_train, X_val, y_train, y_val = train_test_split(X_train, y_train, test_size=0.2, shuffle=True, stratify=y_train, random_state = 0)"
   ]
  },
  {
   "cell_type": "code",
   "execution_count": null,
   "id": "e28d6147",
   "metadata": {},
   "outputs": [],
   "source": [
    "def objective(trial):\n",
    "    params = {\n",
    "        'max_depth' :trial.suggest_int('max_depth', 1, 10),\n",
    "        'min_samples_split' :trial.suggest_int('min_samples_split', 3, 10),\n",
    "        'min_samples_leaf' :trial.suggest_int('min_samples_leaf', 3, 10),\n",
    "        }\n",
    "        \n",
    "    clf = DecisionTreeClassifier(**params,random_state = 0)\n",
    "    clf.fit(X_train, y_train)\n",
    "    clf_proba = clf.predict_proba(X_val)[:, 1]\n",
    "        \n",
    "    AUC_SCORE = roc_auc_score(y_val, clf_proba)\n",
    "    return AUC_SCORE\n",
    "\n",
    "direction = \"maximize\"\n",
    "sampler = optuna.samplers.TPESampler(seed=10)\n",
    "study =  optuna.create_study(direction=direction, sampler=sampler, pruner=optuna.pruners.HyperbandPruner())\n",
    "early_stopping = EarlyStoppingCallback(10, direction=direction)\n",
    "study.optimize(objective, callbacks=[early_stopping], n_trials=200) "
   ]
  },
  {
   "cell_type": "code",
   "execution_count": null,
   "id": "203fccdb",
   "metadata": {},
   "outputs": [],
   "source": [
    "print(study.best_trial.params)\n",
    "optuna_auc = study.best_trial.value\n",
    "print(optuna_auc)"
   ]
  },
  {
   "cell_type": "code",
   "execution_count": null,
   "id": "02b06c83",
   "metadata": {},
   "outputs": [],
   "source": [
    "optuna_43 = DecisionTreeClassifier(**study.best_trial.params, random_state = 0)\n",
    "optuna_43.fit(X_train, y_train)"
   ]
  },
  {
   "cell_type": "code",
   "execution_count": null,
   "id": "b40db420",
   "metadata": {},
   "outputs": [],
   "source": [
    "optuna_proba_43 = optuna_43.predict_proba(X_test)[:, 1]\n",
    "auc_43 = roc_auc_score(y_test, optuna_proba_43)\n",
    "print(decimal.Decimal(auc_43).quantize(decimal.Decimal('1.000')))"
   ]
  },
  {
   "cell_type": "code",
   "execution_count": null,
   "id": "cf5d24fc",
   "metadata": {},
   "outputs": [],
   "source": [
    "X_train = X_train.values\n",
    "y_train = y_train.values"
   ]
  },
  {
   "cell_type": "code",
   "execution_count": null,
   "id": "d9d04705",
   "metadata": {},
   "outputs": [],
   "source": [
    "auc_bootstrap = []"
   ]
  },
  {
   "cell_type": "code",
   "execution_count": null,
   "id": "00db46fc",
   "metadata": {},
   "outputs": [],
   "source": [
    "rs = RandomState(seed = 43)\n",
    "bootstrap_auc(optuna_43, X_train, y_train, X_test, y_test, nsamples=2000)"
   ]
  },
  {
   "cell_type": "code",
   "execution_count": null,
   "id": "3d0fc59a",
   "metadata": {},
   "outputs": [],
   "source": [
    "shapiro(auc_bootstrap), np.mean(auc_bootstrap)"
   ]
  },
  {
   "cell_type": "code",
   "execution_count": null,
   "id": "81c3bb67",
   "metadata": {},
   "outputs": [],
   "source": [
    "t_43 = auc_bootstrap\n",
    "print(t_43)"
   ]
  },
  {
   "cell_type": "code",
   "execution_count": null,
   "id": "403a2a0f",
   "metadata": {},
   "outputs": [],
   "source": [
    "del X_train, X_test, y_train, y_test, X_val, y_val,study, optuna_auc"
   ]
  },
  {
   "cell_type": "code",
   "execution_count": 101,
   "id": "5ebd243c",
   "metadata": {},
   "outputs": [],
   "source": [
    "## 44\n",
    "column_to_drop_43 = '현재 주택 거주 기간(총 개월)'"
   ]
  },
  {
   "cell_type": "code",
   "execution_count": 102,
   "id": "bd176660",
   "metadata": {},
   "outputs": [
    {
     "name": "stdout",
     "output_type": "stream",
     "text": [
      "(10564, 63)\n"
     ]
    }
   ],
   "source": [
    "if not column_to_drop_43.startswith('Cat_'):\n",
    "    comp_44 = comp_43.drop(column_to_drop_43, axis=1)\n",
    "    X_44 = comp_44.drop('target', axis=1)\n",
    "    y_44 = comp_44['target']\n",
    "else:\n",
    "    comp_44 = comp_43.drop(comp_43.filter(regex='^' + column_to_drop_43).columns, axis=1)\n",
    "    X_44 = comp_44.drop('target', axis=1)\n",
    "    y_44 = comp_44['target']\n",
    "\n",
    "print(X_44.shape)"
   ]
  },
  {
   "cell_type": "code",
   "execution_count": null,
   "id": "0249332d",
   "metadata": {},
   "outputs": [],
   "source": [
    "X_train, X_test, y_train, y_test = train_test_split(X_44, y_44, test_size=0.2, shuffle=True, stratify=y_44, random_state = 0)\n",
    "X_train, X_val, y_train, y_val = train_test_split(X_train, y_train, test_size=0.2, shuffle=True, stratify=y_train, random_state = 0)"
   ]
  },
  {
   "cell_type": "code",
   "execution_count": null,
   "id": "779c6a01",
   "metadata": {},
   "outputs": [],
   "source": [
    "def objective(trial):\n",
    "    params = {\n",
    "        'max_depth' :trial.suggest_int('max_depth', 1, 10),\n",
    "        'min_samples_split' :trial.suggest_int('min_samples_split', 3, 10),\n",
    "        'min_samples_leaf' :trial.suggest_int('min_samples_leaf', 3, 10),\n",
    "        }\n",
    "        \n",
    "    clf = DecisionTreeClassifier(**params,random_state = 0)\n",
    "    clf.fit(X_train, y_train)\n",
    "    clf_proba = clf.predict_proba(X_val)[:, 1]\n",
    "        \n",
    "    AUC_SCORE = roc_auc_score(y_val, clf_proba)\n",
    "    return AUC_SCORE\n",
    "\n",
    "direction = \"maximize\"\n",
    "sampler = optuna.samplers.TPESampler(seed=10)\n",
    "study =  optuna.create_study(direction=direction, sampler=sampler, pruner=optuna.pruners.HyperbandPruner())\n",
    "early_stopping = EarlyStoppingCallback(10, direction=direction)\n",
    "study.optimize(objective, callbacks=[early_stopping], n_trials=200) "
   ]
  },
  {
   "cell_type": "code",
   "execution_count": null,
   "id": "8171ab90",
   "metadata": {},
   "outputs": [],
   "source": [
    "print(study.best_trial.params)\n",
    "optuna_auc = study.best_trial.value\n",
    "print(optuna_auc)"
   ]
  },
  {
   "cell_type": "code",
   "execution_count": null,
   "id": "bf9143f5",
   "metadata": {},
   "outputs": [],
   "source": [
    "optuna_44 = DecisionTreeClassifier(**study.best_trial.params, random_state = 0)\n",
    "optuna_44.fit(X_train, y_train)"
   ]
  },
  {
   "cell_type": "code",
   "execution_count": null,
   "id": "37152504",
   "metadata": {},
   "outputs": [],
   "source": [
    "optuna_proba_44 = optuna_44.predict_proba(X_test)[:, 1]\n",
    "auc_44 = roc_auc_score(y_test, optuna_proba_44)\n",
    "print(decimal.Decimal(auc_44).quantize(decimal.Decimal('1.000')))"
   ]
  },
  {
   "cell_type": "code",
   "execution_count": null,
   "id": "563de8cc",
   "metadata": {},
   "outputs": [],
   "source": [
    "X_train = X_train.values\n",
    "y_train = y_train.values"
   ]
  },
  {
   "cell_type": "code",
   "execution_count": null,
   "id": "6f4e3399",
   "metadata": {},
   "outputs": [],
   "source": [
    "auc_bootstrap = []"
   ]
  },
  {
   "cell_type": "code",
   "execution_count": null,
   "id": "938c9856",
   "metadata": {},
   "outputs": [],
   "source": [
    "rs = RandomState(seed = 44)\n",
    "bootstrap_auc(optuna_44, X_train, y_train, X_test, y_test, nsamples=2000)"
   ]
  },
  {
   "cell_type": "code",
   "execution_count": null,
   "id": "b6b2f8ad",
   "metadata": {},
   "outputs": [],
   "source": [
    "shapiro(auc_bootstrap), np.mean(auc_bootstrap)"
   ]
  },
  {
   "cell_type": "code",
   "execution_count": null,
   "id": "cbdd72dc",
   "metadata": {},
   "outputs": [],
   "source": [
    "t_44 = auc_bootstrap\n",
    "print(t_44)"
   ]
  },
  {
   "cell_type": "code",
   "execution_count": null,
   "id": "503d2ac2",
   "metadata": {},
   "outputs": [],
   "source": [
    "del X_train, X_test, y_train, y_test, X_val, y_val,study, optuna_auc"
   ]
  },
  {
   "cell_type": "code",
   "execution_count": 103,
   "id": "9e65c2bc",
   "metadata": {},
   "outputs": [],
   "source": [
    "# 45\n",
    "column_to_drop_44 = '소득 대비 주거관리비의 비율'"
   ]
  },
  {
   "cell_type": "code",
   "execution_count": 104,
   "id": "7f6174d2",
   "metadata": {},
   "outputs": [
    {
     "name": "stdout",
     "output_type": "stream",
     "text": [
      "(10564, 62)\n"
     ]
    }
   ],
   "source": [
    "if not column_to_drop_44.startswith('Cat_'):\n",
    "    comp_45 = comp_44.drop(column_to_drop_44, axis=1)\n",
    "    X_45 = comp_45.drop('target', axis=1)\n",
    "    y_45 = comp_45['target']\n",
    "else:\n",
    "    comp_45 = comp_44.drop(comp_44.filter(regex='^' + column_to_drop_44).columns, axis=1)\n",
    "    X_45 = comp_45.drop('target', axis=1)\n",
    "    y_45 = comp_45['target']\n",
    "\n",
    "print(X_45.shape)"
   ]
  },
  {
   "cell_type": "code",
   "execution_count": null,
   "id": "2919814f",
   "metadata": {},
   "outputs": [],
   "source": [
    "X_train, X_test, y_train, y_test = train_test_split(X_45, y_45, test_size=0.2, shuffle=True, stratify=y_45, random_state = 0)\n",
    "X_train, X_val, y_train, y_val = train_test_split(X_train, y_train, test_size=0.2, shuffle=True, stratify=y_train, random_state = 0)"
   ]
  },
  {
   "cell_type": "code",
   "execution_count": null,
   "id": "e75d5cee",
   "metadata": {},
   "outputs": [],
   "source": [
    "def objective(trial):\n",
    "    params = {\n",
    "        'max_depth' :trial.suggest_int('max_depth', 1, 10),\n",
    "        'min_samples_split' :trial.suggest_int('min_samples_split', 3, 10),\n",
    "        'min_samples_leaf' :trial.suggest_int('min_samples_leaf', 3, 10),\n",
    "        }\n",
    "        \n",
    "    clf = DecisionTreeClassifier(**params,random_state = 0)\n",
    "    clf.fit(X_train, y_train)\n",
    "    clf_proba = clf.predict_proba(X_val)[:, 1]\n",
    "        \n",
    "    AUC_SCORE = roc_auc_score(y_val, clf_proba)\n",
    "    return AUC_SCORE\n",
    "\n",
    "direction = \"maximize\"\n",
    "sampler = optuna.samplers.TPESampler(seed=10)\n",
    "study =  optuna.create_study(direction=direction, sampler=sampler, pruner=optuna.pruners.HyperbandPruner())\n",
    "early_stopping = EarlyStoppingCallback(10, direction=direction)\n",
    "study.optimize(objective, callbacks=[early_stopping], n_trials=200) "
   ]
  },
  {
   "cell_type": "code",
   "execution_count": null,
   "id": "81da3a5c",
   "metadata": {},
   "outputs": [],
   "source": [
    "print(study.best_trial.params)\n",
    "optuna_auc = study.best_trial.value\n",
    "print(optuna_auc)"
   ]
  },
  {
   "cell_type": "code",
   "execution_count": null,
   "id": "b64d72d6",
   "metadata": {},
   "outputs": [],
   "source": [
    "optuna_45 = DecisionTreeClassifier(**study.best_trial.params, random_state = 0)\n",
    "optuna_45.fit(X_train, y_train)"
   ]
  },
  {
   "cell_type": "code",
   "execution_count": null,
   "id": "c24f05fd",
   "metadata": {},
   "outputs": [],
   "source": [
    "optuna_proba_45 = optuna_45.predict_proba(X_test)[:, 1]\n",
    "auc_45 = roc_auc_score(y_test, optuna_proba_45)\n",
    "print(decimal.Decimal(auc_45).quantize(decimal.Decimal('1.000')))"
   ]
  },
  {
   "cell_type": "code",
   "execution_count": null,
   "id": "4ce72754",
   "metadata": {},
   "outputs": [],
   "source": [
    "X_train = X_train.values\n",
    "y_train = y_train.values"
   ]
  },
  {
   "cell_type": "code",
   "execution_count": null,
   "id": "8bb4d17c",
   "metadata": {},
   "outputs": [],
   "source": [
    "auc_bootstrap = []"
   ]
  },
  {
   "cell_type": "code",
   "execution_count": null,
   "id": "2df55e4c",
   "metadata": {},
   "outputs": [],
   "source": [
    "rs = RandomState(seed = 45)\n",
    "bootstrap_auc(optuna_45, X_train, y_train, X_test, y_test, nsamples=2000)"
   ]
  },
  {
   "cell_type": "code",
   "execution_count": null,
   "id": "bd38f945",
   "metadata": {},
   "outputs": [],
   "source": [
    "shapiro(auc_bootstrap), np.mean(auc_bootstrap)"
   ]
  },
  {
   "cell_type": "code",
   "execution_count": null,
   "id": "57e6997c",
   "metadata": {},
   "outputs": [],
   "source": [
    "t_45 = auc_bootstrap\n",
    "print(t_45)"
   ]
  },
  {
   "cell_type": "code",
   "execution_count": null,
   "id": "0efec8f5",
   "metadata": {},
   "outputs": [],
   "source": [
    "del X_train, X_test, y_train, y_test, X_val, y_val,study, optuna_auc"
   ]
  },
  {
   "cell_type": "code",
   "execution_count": 105,
   "id": "5f83d26e",
   "metadata": {},
   "outputs": [],
   "source": [
    "# 46.\n",
    "column_to_drop_45 = '총 이사 횟수'"
   ]
  },
  {
   "cell_type": "code",
   "execution_count": 106,
   "id": "e84b853b",
   "metadata": {},
   "outputs": [
    {
     "name": "stdout",
     "output_type": "stream",
     "text": [
      "(10564, 61)\n"
     ]
    }
   ],
   "source": [
    "if not column_to_drop_45.startswith('Cat_'):\n",
    "    comp_46 = comp_45.drop(column_to_drop_45, axis=1)\n",
    "    X_46 = comp_46.drop('target', axis=1)\n",
    "    y_46 = comp_46['target']\n",
    "else:\n",
    "    comp_46 = comp_45.drop(comp_45.filter(regex='^' + column_to_drop_45).columns, axis=1)\n",
    "    X_46 = comp_46.drop('target', axis=1)\n",
    "    y_46 = comp_46['target']\n",
    "\n",
    "print(X_46.shape)"
   ]
  },
  {
   "cell_type": "code",
   "execution_count": null,
   "id": "1f31bc9f",
   "metadata": {},
   "outputs": [],
   "source": [
    "X_train, X_test, y_train, y_test = train_test_split(X_46, y_46, test_size=0.2, shuffle=True, stratify=y_46, random_state = 0)\n",
    "X_train, X_val, y_train, y_val = train_test_split(X_train, y_train, test_size=0.2, shuffle=True, stratify=y_train, random_state = 0)"
   ]
  },
  {
   "cell_type": "code",
   "execution_count": null,
   "id": "ab8ee306",
   "metadata": {},
   "outputs": [],
   "source": [
    "def objective(trial):\n",
    "    params = {\n",
    "        'max_depth' :trial.suggest_int('max_depth', 1, 10),\n",
    "        'min_samples_split' :trial.suggest_int('min_samples_split', 3, 10),\n",
    "        'min_samples_leaf' :trial.suggest_int('min_samples_leaf', 3, 10),\n",
    "        }\n",
    "        \n",
    "    clf = DecisionTreeClassifier(**params,random_state = 0)\n",
    "    clf.fit(X_train, y_train)\n",
    "    clf_proba = clf.predict_proba(X_val)[:, 1]\n",
    "        \n",
    "    AUC_SCORE = roc_auc_score(y_val, clf_proba)\n",
    "    return AUC_SCORE\n",
    "\n",
    "direction = \"maximize\"\n",
    "sampler = optuna.samplers.TPESampler(seed=10)\n",
    "study =  optuna.create_study(direction=direction, sampler=sampler, pruner=optuna.pruners.HyperbandPruner())\n",
    "early_stopping = EarlyStoppingCallback(10, direction=direction)\n",
    "study.optimize(objective, callbacks=[early_stopping], n_trials=200) "
   ]
  },
  {
   "cell_type": "code",
   "execution_count": null,
   "id": "8184a9d7",
   "metadata": {},
   "outputs": [],
   "source": [
    "print(study.best_trial.params)\n",
    "optuna_auc = study.best_trial.value\n",
    "print(optuna_auc)"
   ]
  },
  {
   "cell_type": "code",
   "execution_count": null,
   "id": "f558ddcf",
   "metadata": {},
   "outputs": [],
   "source": [
    "optuna_46 = DecisionTreeClassifier(**study.best_trial.params, random_state = 0)\n",
    "optuna_46.fit(X_train, y_train)"
   ]
  },
  {
   "cell_type": "code",
   "execution_count": null,
   "id": "9663994f",
   "metadata": {},
   "outputs": [],
   "source": [
    "optuna_proba_46 = optuna_46.predict_proba(X_test)[:, 1]\n",
    "auc_46 = roc_auc_score(y_test, optuna_proba_46)\n",
    "print(decimal.Decimal(auc_46).quantize(decimal.Decimal('1.000')))"
   ]
  },
  {
   "cell_type": "code",
   "execution_count": null,
   "id": "5c6059e8",
   "metadata": {},
   "outputs": [],
   "source": [
    "X_train = X_train.values\n",
    "y_train = y_train.values"
   ]
  },
  {
   "cell_type": "code",
   "execution_count": null,
   "id": "630ecd0d",
   "metadata": {},
   "outputs": [],
   "source": [
    "auc_bootstrap = []"
   ]
  },
  {
   "cell_type": "code",
   "execution_count": null,
   "id": "17cb6180",
   "metadata": {},
   "outputs": [],
   "source": [
    "rs = RandomState(seed = 46)\n",
    "bootstrap_auc(optuna_46, X_train, y_train, X_test, y_test, nsamples=2000)"
   ]
  },
  {
   "cell_type": "code",
   "execution_count": null,
   "id": "8a435e8a",
   "metadata": {},
   "outputs": [],
   "source": [
    "shapiro(auc_bootstrap), np.mean(auc_bootstrap)"
   ]
  },
  {
   "cell_type": "code",
   "execution_count": null,
   "id": "99a89355",
   "metadata": {},
   "outputs": [],
   "source": [
    "t_46 = auc_bootstrap\n",
    "print(t_46)"
   ]
  },
  {
   "cell_type": "code",
   "execution_count": null,
   "id": "4cecfad6",
   "metadata": {},
   "outputs": [],
   "source": [
    "del X_train, X_test, y_train, y_test, X_val, y_val,study, optuna_auc"
   ]
  },
  {
   "cell_type": "code",
   "execution_count": 107,
   "id": "39812853",
   "metadata": {},
   "outputs": [],
   "source": [
    "# 47.\n",
    "column_to_drop_46 = 'Cat_기초생활보장 수급가구 여부'"
   ]
  },
  {
   "cell_type": "code",
   "execution_count": 108,
   "id": "ff2f7d7d",
   "metadata": {},
   "outputs": [
    {
     "name": "stdout",
     "output_type": "stream",
     "text": [
      "(10564, 59)\n"
     ]
    }
   ],
   "source": [
    "if not column_to_drop_46.startswith('Cat_'):\n",
    "    comp_47 = comp_46.drop(column_to_drop_46, axis=1)\n",
    "    X_47 = comp_47.drop('target', axis=1)\n",
    "    y_47 = comp_47['target']\n",
    "else:\n",
    "    comp_47 = comp_46.drop(comp_46.filter(regex='^' + column_to_drop_46).columns, axis=1)\n",
    "    X_47 = comp_47.drop('target', axis=1)\n",
    "    y_47 = comp_47['target']\n",
    "\n",
    "print(X_47.shape)"
   ]
  },
  {
   "cell_type": "code",
   "execution_count": null,
   "id": "cce79242",
   "metadata": {},
   "outputs": [],
   "source": [
    "X_train, X_test, y_train, y_test = train_test_split(X_47, y_47, test_size=0.2, shuffle=True, stratify=y_47, random_state = 0)\n",
    "X_train, X_val, y_train, y_val = train_test_split(X_train, y_train, test_size=0.2, shuffle=True, stratify=y_train, random_state = 0)"
   ]
  },
  {
   "cell_type": "code",
   "execution_count": null,
   "id": "b2e87fac",
   "metadata": {},
   "outputs": [],
   "source": [
    "def objective(trial):\n",
    "    params = {\n",
    "        'max_depth' :trial.suggest_int('max_depth', 1, 10),\n",
    "        'min_samples_split' :trial.suggest_int('min_samples_split', 3, 10),\n",
    "        'min_samples_leaf' :trial.suggest_int('min_samples_leaf', 3, 10),\n",
    "        }\n",
    "        \n",
    "    clf = DecisionTreeClassifier(**params,random_state = 0)\n",
    "    clf.fit(X_train, y_train)\n",
    "    clf_proba = clf.predict_proba(X_val)[:, 1]\n",
    "        \n",
    "    AUC_SCORE = roc_auc_score(y_val, clf_proba)\n",
    "    return AUC_SCORE\n",
    "\n",
    "direction = \"maximize\"\n",
    "sampler = optuna.samplers.TPESampler(seed=10)\n",
    "study =  optuna.create_study(direction=direction, sampler=sampler, pruner=optuna.pruners.HyperbandPruner())\n",
    "early_stopping = EarlyStoppingCallback(10, direction=direction)\n",
    "study.optimize(objective, callbacks=[early_stopping], n_trials=200) "
   ]
  },
  {
   "cell_type": "code",
   "execution_count": null,
   "id": "c936a348",
   "metadata": {},
   "outputs": [],
   "source": [
    "print(study.best_trial.params)\n",
    "optuna_auc = study.best_trial.value\n",
    "print(optuna_auc)"
   ]
  },
  {
   "cell_type": "code",
   "execution_count": null,
   "id": "cdbcdd4a",
   "metadata": {},
   "outputs": [],
   "source": [
    "optuna_47 = DecisionTreeClassifier(**study.best_trial.params, random_state = 0)\n",
    "optuna_47.fit(X_train, y_train)"
   ]
  },
  {
   "cell_type": "code",
   "execution_count": null,
   "id": "9617573e",
   "metadata": {},
   "outputs": [],
   "source": [
    "optuna_proba_47 = optuna_47.predict_proba(X_test)[:, 1]\n",
    "auc_47 = roc_auc_score(y_test, optuna_proba_47)\n",
    "print(decimal.Decimal(auc_47).quantize(decimal.Decimal('1.000')))"
   ]
  },
  {
   "cell_type": "code",
   "execution_count": null,
   "id": "87c13ec0",
   "metadata": {},
   "outputs": [],
   "source": [
    "X_train = X_train.values\n",
    "y_train = y_train.values"
   ]
  },
  {
   "cell_type": "code",
   "execution_count": null,
   "id": "198a650a",
   "metadata": {},
   "outputs": [],
   "source": [
    "auc_bootstrap = []"
   ]
  },
  {
   "cell_type": "code",
   "execution_count": null,
   "id": "39b53048",
   "metadata": {},
   "outputs": [],
   "source": [
    "rs = RandomState(seed = 47)\n",
    "bootstrap_auc(optuna_47, X_train, y_train, X_test, y_test, nsamples=2000)"
   ]
  },
  {
   "cell_type": "code",
   "execution_count": null,
   "id": "f5d4ef06",
   "metadata": {},
   "outputs": [],
   "source": [
    "shapiro(auc_bootstrap), np.mean(auc_bootstrap)"
   ]
  },
  {
   "cell_type": "code",
   "execution_count": null,
   "id": "6087c01e",
   "metadata": {},
   "outputs": [],
   "source": [
    "t_47 = auc_bootstrap\n",
    "print(t_47)"
   ]
  },
  {
   "cell_type": "code",
   "execution_count": null,
   "id": "ab22d2aa",
   "metadata": {},
   "outputs": [],
   "source": [
    "del X_train, X_test, y_train, y_test, X_val, y_val,study, optuna_auc"
   ]
  },
  {
   "cell_type": "code",
   "execution_count": 109,
   "id": "9af2ada8",
   "metadata": {},
   "outputs": [],
   "source": [
    "# 48\n",
    "column_to_drop_47 = 'Cat_현재 주택의 점유형태'"
   ]
  },
  {
   "cell_type": "code",
   "execution_count": 110,
   "id": "9291cd1c",
   "metadata": {},
   "outputs": [
    {
     "name": "stdout",
     "output_type": "stream",
     "text": [
      "(10564, 55)\n"
     ]
    }
   ],
   "source": [
    "if not column_to_drop_47.startswith('Cat_'):\n",
    "    comp_48 = comp_47.drop(column_to_drop_47, axis=1)\n",
    "    X_48 = comp_48.drop('target', axis=1)\n",
    "    y_48 = comp_48['target']\n",
    "else:\n",
    "    comp_48 = comp_47.drop(comp_47.filter(regex='^' + column_to_drop_47).columns, axis=1)\n",
    "    X_48 = comp_48.drop('target', axis=1)\n",
    "    y_48 = comp_48['target']\n",
    "\n",
    "print(X_48.shape)"
   ]
  },
  {
   "cell_type": "code",
   "execution_count": null,
   "id": "c69f81be",
   "metadata": {},
   "outputs": [],
   "source": [
    "X_train, X_test, y_train, y_test = train_test_split(X_48, y_48, test_size=0.2, shuffle=True, stratify=y_48, random_state = 0)\n",
    "X_train, X_val, y_train, y_val = train_test_split(X_train, y_train, test_size=0.2, shuffle=True, stratify=y_train, random_state = 0)"
   ]
  },
  {
   "cell_type": "code",
   "execution_count": null,
   "id": "896fe9a4",
   "metadata": {},
   "outputs": [],
   "source": [
    "def objective(trial):\n",
    "    params = {\n",
    "        'max_depth' :trial.suggest_int('max_depth', 1, 10),\n",
    "        'min_samples_split' :trial.suggest_int('min_samples_split', 3, 10),\n",
    "        'min_samples_leaf' :trial.suggest_int('min_samples_leaf', 3, 10),\n",
    "        }\n",
    "        \n",
    "    clf = DecisionTreeClassifier(**params,random_state = 0)\n",
    "    clf.fit(X_train, y_train)\n",
    "    clf_proba = clf.predict_proba(X_val)[:, 1]\n",
    "        \n",
    "    AUC_SCORE = roc_auc_score(y_val, clf_proba)\n",
    "    return AUC_SCORE\n",
    "\n",
    "direction = \"maximize\"\n",
    "sampler = optuna.samplers.TPESampler(seed=10)\n",
    "study =  optuna.create_study(direction=direction, sampler=sampler, pruner=optuna.pruners.HyperbandPruner())\n",
    "early_stopping = EarlyStoppingCallback(10, direction=direction)\n",
    "study.optimize(objective, callbacks=[early_stopping], n_trials=200) "
   ]
  },
  {
   "cell_type": "code",
   "execution_count": null,
   "id": "9d7b2c6a",
   "metadata": {},
   "outputs": [],
   "source": [
    "print(study.best_trial.params)\n",
    "optuna_auc = study.best_trial.value\n",
    "print(optuna_auc)"
   ]
  },
  {
   "cell_type": "code",
   "execution_count": null,
   "id": "de380059",
   "metadata": {},
   "outputs": [],
   "source": [
    "optuna_48 = DecisionTreeClassifier(**study.best_trial.params, random_state = 0)\n",
    "optuna_48.fit(X_train, y_train)"
   ]
  },
  {
   "cell_type": "code",
   "execution_count": null,
   "id": "163ce48d",
   "metadata": {},
   "outputs": [],
   "source": [
    "optuna_proba_48 = optuna_48.predict_proba(X_test)[:, 1]\n",
    "auc_48 = roc_auc_score(y_test, optuna_proba_48)\n",
    "print(decimal.Decimal(auc_48).quantize(decimal.Decimal('1.000')))"
   ]
  },
  {
   "cell_type": "code",
   "execution_count": null,
   "id": "a5565211",
   "metadata": {},
   "outputs": [],
   "source": [
    "X_train = X_train.values\n",
    "y_train = y_train.values"
   ]
  },
  {
   "cell_type": "code",
   "execution_count": null,
   "id": "86f70617",
   "metadata": {},
   "outputs": [],
   "source": [
    "auc_bootstrap = []"
   ]
  },
  {
   "cell_type": "code",
   "execution_count": null,
   "id": "1a03cc13",
   "metadata": {},
   "outputs": [],
   "source": [
    "rs = RandomState(seed = 48)\n",
    "bootstrap_auc(optuna_48, X_train, y_train, X_test, y_test, nsamples=2000)"
   ]
  },
  {
   "cell_type": "code",
   "execution_count": null,
   "id": "c1e0b59e",
   "metadata": {},
   "outputs": [],
   "source": [
    "shapiro(auc_bootstrap), np.mean(auc_bootstrap)"
   ]
  },
  {
   "cell_type": "code",
   "execution_count": null,
   "id": "5815e797",
   "metadata": {},
   "outputs": [],
   "source": [
    "t_48 = auc_bootstrap\n",
    "print(t_48)"
   ]
  },
  {
   "cell_type": "code",
   "execution_count": null,
   "id": "222a4ed9",
   "metadata": {},
   "outputs": [],
   "source": [
    "del X_train, X_test, y_train, y_test, X_val, y_val,study, optuna_auc"
   ]
  },
  {
   "cell_type": "code",
   "execution_count": 111,
   "id": "e155c568",
   "metadata": {},
   "outputs": [],
   "source": [
    "# 49\n",
    "column_to_drop_48 = '현재 주택의 면적(㎡)'"
   ]
  },
  {
   "cell_type": "code",
   "execution_count": 112,
   "id": "26b02dfd",
   "metadata": {},
   "outputs": [
    {
     "name": "stdout",
     "output_type": "stream",
     "text": [
      "(10564, 54)\n"
     ]
    }
   ],
   "source": [
    "if not column_to_drop_48.startswith('Cat_'):\n",
    "    comp_49 = comp_48.drop(column_to_drop_48, axis=1)\n",
    "    X_49 = comp_49.drop('target', axis=1)\n",
    "    y_49 = comp_49['target']\n",
    "else:\n",
    "    comp_49 = comp_48.drop(comp_48.filter(regex='^' + column_to_drop_48).columns, axis=1)\n",
    "    X_49 = comp_49.drop('target', axis=1)\n",
    "    y_49 = comp_49['target']\n",
    "\n",
    "print(X_49.shape)"
   ]
  },
  {
   "cell_type": "code",
   "execution_count": null,
   "id": "b7af49e8",
   "metadata": {},
   "outputs": [],
   "source": [
    "X_train, X_test, y_train, y_test = train_test_split(X_49, y_49, test_size=0.2, shuffle=True, stratify=y_49, random_state = 0)\n",
    "X_train, X_val, y_train, y_val = train_test_split(X_train, y_train, test_size=0.2, shuffle=True, stratify=y_train, random_state = 0)"
   ]
  },
  {
   "cell_type": "code",
   "execution_count": null,
   "id": "c4c906cd",
   "metadata": {},
   "outputs": [],
   "source": [
    "def objective(trial):\n",
    "    params = {\n",
    "        'max_depth' :trial.suggest_int('max_depth', 1, 10),\n",
    "        'min_samples_split' :trial.suggest_int('min_samples_split', 3, 10),\n",
    "        'min_samples_leaf' :trial.suggest_int('min_samples_leaf', 3, 10),\n",
    "        }\n",
    "        \n",
    "    clf = DecisionTreeClassifier(**params,random_state = 0)\n",
    "    clf.fit(X_train, y_train)\n",
    "    clf_proba = clf.predict_proba(X_val)[:, 1]\n",
    "        \n",
    "    AUC_SCORE = roc_auc_score(y_val, clf_proba)\n",
    "    return AUC_SCORE\n",
    "\n",
    "direction = \"maximize\"\n",
    "sampler = optuna.samplers.TPESampler(seed=10)\n",
    "study =  optuna.create_study(direction=direction, sampler=sampler, pruner=optuna.pruners.HyperbandPruner())\n",
    "early_stopping = EarlyStoppingCallback(10, direction=direction)\n",
    "study.optimize(objective, callbacks=[early_stopping], n_trials=200) "
   ]
  },
  {
   "cell_type": "code",
   "execution_count": null,
   "id": "c1320a7f",
   "metadata": {},
   "outputs": [],
   "source": [
    "print(study.best_trial.params)\n",
    "optuna_auc = study.best_trial.value\n",
    "print(optuna_auc)"
   ]
  },
  {
   "cell_type": "code",
   "execution_count": null,
   "id": "b4286d05",
   "metadata": {},
   "outputs": [],
   "source": [
    "optuna_49 = DecisionTreeClassifier(**study.best_trial.params, random_state = 0)\n",
    "optuna_49.fit(X_train, y_train)"
   ]
  },
  {
   "cell_type": "code",
   "execution_count": null,
   "id": "c57223e4",
   "metadata": {},
   "outputs": [],
   "source": [
    "optuna_proba_49 = optuna_49.predict_proba(X_test)[:, 1]\n",
    "auc_49 = roc_auc_score(y_test, optuna_proba_49)\n",
    "print(decimal.Decimal(auc_49).quantize(decimal.Decimal('1.000')))"
   ]
  },
  {
   "cell_type": "code",
   "execution_count": null,
   "id": "75274d7c",
   "metadata": {},
   "outputs": [],
   "source": [
    "X_train = X_train.values\n",
    "y_train = y_train.values"
   ]
  },
  {
   "cell_type": "code",
   "execution_count": null,
   "id": "f0c30132",
   "metadata": {},
   "outputs": [],
   "source": [
    "auc_bootstrap = []"
   ]
  },
  {
   "cell_type": "code",
   "execution_count": null,
   "id": "28c1de93",
   "metadata": {},
   "outputs": [],
   "source": [
    "rs = RandomState(seed = 49)\n",
    "bootstrap_auc(optuna_49, X_train, y_train, X_test, y_test, nsamples=2000)"
   ]
  },
  {
   "cell_type": "code",
   "execution_count": null,
   "id": "80cf13c2",
   "metadata": {},
   "outputs": [],
   "source": [
    "shapiro(auc_bootstrap), np.mean(auc_bootstrap)"
   ]
  },
  {
   "cell_type": "code",
   "execution_count": null,
   "id": "27686967",
   "metadata": {},
   "outputs": [],
   "source": [
    "t_49 = auc_bootstrap\n",
    "print(t_49)"
   ]
  },
  {
   "cell_type": "code",
   "execution_count": null,
   "id": "4fad734a",
   "metadata": {},
   "outputs": [],
   "source": [
    "del X_train, X_test, y_train, y_test, X_val, y_val,study, optuna_auc"
   ]
  },
  {
   "cell_type": "code",
   "execution_count": 113,
   "id": "9e05515e",
   "metadata": {},
   "outputs": [],
   "source": [
    "# 50\n",
    "column_to_drop_49 = '장기부채부담지표'"
   ]
  },
  {
   "cell_type": "code",
   "execution_count": 114,
   "id": "869dae9d",
   "metadata": {},
   "outputs": [
    {
     "name": "stdout",
     "output_type": "stream",
     "text": [
      "(10564, 53)\n"
     ]
    }
   ],
   "source": [
    "if not column_to_drop_49.startswith('Cat_'):\n",
    "    comp_50 = comp_49.drop(column_to_drop_49, axis=1)\n",
    "    X_50 = comp_50.drop('target', axis=1)\n",
    "    y_50 = comp_50['target']\n",
    "else:\n",
    "    comp_50 = comp_49.drop(comp_49.filter(regex='^' + column_to_drop_49).columns, axis=1)\n",
    "    X_50 = comp_50.drop('target', axis=1)\n",
    "    y_50 = comp_50['target']\n",
    "\n",
    "print(X_50.shape)"
   ]
  },
  {
   "cell_type": "code",
   "execution_count": null,
   "id": "7d777fa9",
   "metadata": {},
   "outputs": [],
   "source": [
    "X_train, X_test, y_train, y_test = train_test_split(X_50, y_50, test_size=0.2, shuffle=True, stratify=y_50, random_state = 0)\n",
    "X_train, X_val, y_train, y_val = train_test_split(X_train, y_train, test_size=0.2, shuffle=True, stratify=y_train, random_state = 0)"
   ]
  },
  {
   "cell_type": "code",
   "execution_count": null,
   "id": "d59ea5da",
   "metadata": {},
   "outputs": [],
   "source": [
    "def objective(trial):\n",
    "    params = {\n",
    "        'max_depth' :trial.suggest_int('max_depth', 1, 10),\n",
    "        'min_samples_split' :trial.suggest_int('min_samples_split', 3, 10),\n",
    "        'min_samples_leaf' :trial.suggest_int('min_samples_leaf', 3, 10),\n",
    "        }\n",
    "        \n",
    "    clf = DecisionTreeClassifier(**params,random_state = 0)\n",
    "    clf.fit(X_train, y_train)\n",
    "    clf_proba = clf.predict_proba(X_val)[:, 1]\n",
    "        \n",
    "    AUC_SCORE = roc_auc_score(y_val, clf_proba)\n",
    "    return AUC_SCORE\n",
    "\n",
    "direction = \"maximize\"\n",
    "sampler = optuna.samplers.TPESampler(seed=10)\n",
    "study =  optuna.create_study(direction=direction, sampler=sampler, pruner=optuna.pruners.HyperbandPruner())\n",
    "early_stopping = EarlyStoppingCallback(10, direction=direction)\n",
    "study.optimize(objective, callbacks=[early_stopping], n_trials=200) "
   ]
  },
  {
   "cell_type": "code",
   "execution_count": null,
   "id": "e7f00886",
   "metadata": {},
   "outputs": [],
   "source": [
    "print(study.best_trial.params)\n",
    "optuna_auc = study.best_trial.value\n",
    "print(optuna_auc)"
   ]
  },
  {
   "cell_type": "code",
   "execution_count": null,
   "id": "14d06629",
   "metadata": {},
   "outputs": [],
   "source": [
    "optuna_50 = DecisionTreeClassifier(**study.best_trial.params, random_state = 0)\n",
    "optuna_50.fit(X_train, y_train)"
   ]
  },
  {
   "cell_type": "code",
   "execution_count": null,
   "id": "293021a9",
   "metadata": {},
   "outputs": [],
   "source": [
    "optuna_proba_50 = optuna_50.predict_proba(X_test)[:, 1]\n",
    "auc_50 = roc_auc_score(y_test, optuna_proba_50)\n",
    "print(decimal.Decimal(auc_50).quantize(decimal.Decimal('1.000')))"
   ]
  },
  {
   "cell_type": "code",
   "execution_count": null,
   "id": "f6e8ced5",
   "metadata": {},
   "outputs": [],
   "source": [
    "X_train = X_train.values\n",
    "y_train = y_train.values"
   ]
  },
  {
   "cell_type": "code",
   "execution_count": null,
   "id": "92993202",
   "metadata": {},
   "outputs": [],
   "source": [
    "auc_bootstrap = []"
   ]
  },
  {
   "cell_type": "code",
   "execution_count": null,
   "id": "876175fd",
   "metadata": {},
   "outputs": [],
   "source": [
    "rs = RandomState(seed = 50)\n",
    "bootstrap_auc(optuna_50, X_train, y_train, X_test, y_test, nsamples=2000)"
   ]
  },
  {
   "cell_type": "code",
   "execution_count": null,
   "id": "56edbd2e",
   "metadata": {},
   "outputs": [],
   "source": [
    "shapiro(auc_bootstrap), np.mean(auc_bootstrap)"
   ]
  },
  {
   "cell_type": "code",
   "execution_count": null,
   "id": "79f3cfbf",
   "metadata": {},
   "outputs": [],
   "source": [
    "t_50 = auc_bootstrap\n",
    "print(t_50)"
   ]
  },
  {
   "cell_type": "code",
   "execution_count": null,
   "id": "6147b5ad",
   "metadata": {},
   "outputs": [],
   "source": [
    "del X_train, X_test, y_train, y_test, X_val, y_val,study, optuna_auc"
   ]
  },
  {
   "cell_type": "code",
   "execution_count": 115,
   "id": "6fbb5514",
   "metadata": {},
   "outputs": [],
   "source": [
    "# 51\n",
    "column_to_drop_50 = 'Cat_현재 주택의 유형'"
   ]
  },
  {
   "cell_type": "code",
   "execution_count": 116,
   "id": "ad9f086c",
   "metadata": {},
   "outputs": [
    {
     "name": "stdout",
     "output_type": "stream",
     "text": [
      "(10564, 42)\n"
     ]
    }
   ],
   "source": [
    "if not column_to_drop_50.startswith('Cat_'):\n",
    "    comp_51 = comp_50.drop(column_to_drop_50, axis=1)\n",
    "    X_51 = comp_51.drop('target', axis=1)\n",
    "    y_51 = comp_51['target']\n",
    "else:\n",
    "    comp_51 = comp_50.drop(comp_50.filter(regex='^' + column_to_drop_50).columns, axis=1)\n",
    "    X_51 = comp_51.drop('target', axis=1)\n",
    "    y_51 = comp_51['target']\n",
    "\n",
    "print(X_51.shape)"
   ]
  },
  {
   "cell_type": "code",
   "execution_count": null,
   "id": "fe16354a",
   "metadata": {},
   "outputs": [],
   "source": [
    "X_train, X_test, y_train, y_test = train_test_split(X_51, y_51, test_size=0.2, shuffle=True, stratify=y_51, random_state = 0)\n",
    "X_train, X_val, y_train, y_val = train_test_split(X_train, y_train, test_size=0.2, shuffle=True, stratify=y_train, random_state = 0)"
   ]
  },
  {
   "cell_type": "code",
   "execution_count": null,
   "id": "6f27a9bb",
   "metadata": {},
   "outputs": [],
   "source": [
    "def objective(trial):\n",
    "    params = {\n",
    "        'max_depth' :trial.suggest_int('max_depth', 1, 10),\n",
    "        'min_samples_split' :trial.suggest_int('min_samples_split', 3, 10),\n",
    "        'min_samples_leaf' :trial.suggest_int('min_samples_leaf', 3, 10),\n",
    "        }\n",
    "        \n",
    "    clf = DecisionTreeClassifier(**params,random_state = 0)\n",
    "    clf.fit(X_train, y_train)\n",
    "    clf_proba = clf.predict_proba(X_val)[:, 1]\n",
    "        \n",
    "    AUC_SCORE = roc_auc_score(y_val, clf_proba)\n",
    "    return AUC_SCORE\n",
    "\n",
    "direction = \"maximize\"\n",
    "sampler = optuna.samplers.TPESampler(seed=10)\n",
    "study =  optuna.create_study(direction=direction, sampler=sampler, pruner=optuna.pruners.HyperbandPruner())\n",
    "early_stopping = EarlyStoppingCallback(10, direction=direction)\n",
    "study.optimize(objective, callbacks=[early_stopping], n_trials=200) "
   ]
  },
  {
   "cell_type": "code",
   "execution_count": null,
   "id": "84200111",
   "metadata": {},
   "outputs": [],
   "source": [
    "print(study.best_trial.params)\n",
    "optuna_auc = study.best_trial.value\n",
    "print(optuna_auc)"
   ]
  },
  {
   "cell_type": "code",
   "execution_count": null,
   "id": "5b4029b0",
   "metadata": {},
   "outputs": [],
   "source": [
    "optuna_51 = DecisionTreeClassifier(**study.best_trial.params, random_state = 0)\n",
    "optuna_51.fit(X_train, y_train)"
   ]
  },
  {
   "cell_type": "code",
   "execution_count": null,
   "id": "8805ca88",
   "metadata": {},
   "outputs": [],
   "source": [
    "optuna_proba_51 = optuna_51.predict_proba(X_test)[:, 1]\n",
    "auc_51 = roc_auc_score(y_test, optuna_proba_51)\n",
    "print(decimal.Decimal(auc_51).quantize(decimal.Decimal('1.000')))"
   ]
  },
  {
   "cell_type": "code",
   "execution_count": null,
   "id": "233cc579",
   "metadata": {},
   "outputs": [],
   "source": [
    "X_train = X_train.values\n",
    "y_train = y_train.values"
   ]
  },
  {
   "cell_type": "code",
   "execution_count": null,
   "id": "73321c58",
   "metadata": {},
   "outputs": [],
   "source": [
    "auc_bootstrap = []"
   ]
  },
  {
   "cell_type": "code",
   "execution_count": null,
   "id": "77cb2117",
   "metadata": {},
   "outputs": [],
   "source": [
    "rs = RandomState(seed = 51)\n",
    "bootstrap_auc(optuna_51, X_train, y_train, X_test, y_test, nsamples=2000)"
   ]
  },
  {
   "cell_type": "code",
   "execution_count": null,
   "id": "89e8eb04",
   "metadata": {},
   "outputs": [],
   "source": [
    "shapiro(auc_bootstrap), np.mean(auc_bootstrap)"
   ]
  },
  {
   "cell_type": "code",
   "execution_count": null,
   "id": "e88c3969",
   "metadata": {},
   "outputs": [],
   "source": [
    "t_51 = auc_bootstrap\n",
    "print(t_51)"
   ]
  },
  {
   "cell_type": "code",
   "execution_count": null,
   "id": "0a8c76b0",
   "metadata": {},
   "outputs": [],
   "source": [
    "del X_train, X_test, y_train, y_test, X_val, y_val,study, optuna_auc"
   ]
  },
  {
   "cell_type": "code",
   "execution_count": 117,
   "id": "855a99d1",
   "metadata": {},
   "outputs": [],
   "source": [
    "# 52\n",
    "column_to_drop_51 = 'Cat_이사 계획 중인 주택의 점유형태'"
   ]
  },
  {
   "cell_type": "code",
   "execution_count": 118,
   "id": "1ce484e4",
   "metadata": {},
   "outputs": [
    {
     "name": "stdout",
     "output_type": "stream",
     "text": [
      "(10564, 18)\n"
     ]
    }
   ],
   "source": [
    "if not column_to_drop_51.startswith('Cat_'):\n",
    "    comp_52 = comp_51.drop(column_to_drop_51, axis=1)\n",
    "    X_52 = comp_52.drop('target', axis=1)\n",
    "    y_52 = comp_52['target']\n",
    "else:\n",
    "    comp_52 = comp_51.drop(comp_51.filter(regex='^' + column_to_drop_51).columns, axis=1)\n",
    "    X_52 = comp_52.drop('target', axis=1)\n",
    "    y_52 = comp_52['target']\n",
    "\n",
    "print(X_52.shape)"
   ]
  },
  {
   "cell_type": "code",
   "execution_count": null,
   "id": "a6d390c7",
   "metadata": {},
   "outputs": [],
   "source": [
    "X_train, X_test, y_train, y_test = train_test_split(X_52, y_52, test_size=0.2, shuffle=True, stratify=y_52, random_state = 0)\n",
    "X_train, X_val, y_train, y_val = train_test_split(X_train, y_train, test_size=0.2, shuffle=True, stratify=y_train, random_state = 0)"
   ]
  },
  {
   "cell_type": "code",
   "execution_count": null,
   "id": "fbbed6a2",
   "metadata": {},
   "outputs": [],
   "source": [
    "def objective(trial):\n",
    "    params = {\n",
    "        'max_depth' :trial.suggest_int('max_depth', 1, 10),\n",
    "        'min_samples_split' :trial.suggest_int('min_samples_split', 3, 10),\n",
    "        'min_samples_leaf' :trial.suggest_int('min_samples_leaf', 3, 10),\n",
    "        }\n",
    "        \n",
    "    clf = DecisionTreeClassifier(**params,random_state = 0)\n",
    "    clf.fit(X_train, y_train)\n",
    "    clf_proba = clf.predict_proba(X_val)[:, 1]\n",
    "        \n",
    "    AUC_SCORE = roc_auc_score(y_val, clf_proba)\n",
    "    return AUC_SCORE\n",
    "\n",
    "direction = \"maximize\"\n",
    "sampler = optuna.samplers.TPESampler(seed=10)\n",
    "study =  optuna.create_study(direction=direction, sampler=sampler, pruner=optuna.pruners.HyperbandPruner())\n",
    "early_stopping = EarlyStoppingCallback(10, direction=direction)\n",
    "study.optimize(objective, callbacks=[early_stopping], n_trials=200) "
   ]
  },
  {
   "cell_type": "code",
   "execution_count": null,
   "id": "5423f7b4",
   "metadata": {},
   "outputs": [],
   "source": [
    "print(study.best_trial.params)\n",
    "optuna_auc = study.best_trial.value\n",
    "print(optuna_auc)"
   ]
  },
  {
   "cell_type": "code",
   "execution_count": null,
   "id": "aa30c1f6",
   "metadata": {},
   "outputs": [],
   "source": [
    "optuna_52 = DecisionTreeClassifier(**study.best_trial.params, random_state = 0)\n",
    "optuna_52.fit(X_train, y_train)"
   ]
  },
  {
   "cell_type": "code",
   "execution_count": null,
   "id": "05b135aa",
   "metadata": {},
   "outputs": [],
   "source": [
    "optuna_proba_52 = optuna_52.predict_proba(X_test)[:, 1]\n",
    "auc_52 = roc_auc_score(y_test, optuna_proba_52)\n",
    "print(decimal.Decimal(auc_52).quantize(decimal.Decimal('1.000')))"
   ]
  },
  {
   "cell_type": "code",
   "execution_count": null,
   "id": "4bc24252",
   "metadata": {},
   "outputs": [],
   "source": [
    "X_train = X_train.values\n",
    "y_train = y_train.values"
   ]
  },
  {
   "cell_type": "code",
   "execution_count": null,
   "id": "d8508b20",
   "metadata": {},
   "outputs": [],
   "source": [
    "auc_bootstrap = []"
   ]
  },
  {
   "cell_type": "code",
   "execution_count": null,
   "id": "67bde404",
   "metadata": {},
   "outputs": [],
   "source": [
    "rs = RandomState(seed = 52)\n",
    "bootstrap_auc(optuna_52, X_train, y_train, X_test, y_test, nsamples=2000)"
   ]
  },
  {
   "cell_type": "code",
   "execution_count": null,
   "id": "c7276c80",
   "metadata": {},
   "outputs": [],
   "source": [
    "shapiro(auc_bootstrap), np.mean(auc_bootstrap)"
   ]
  },
  {
   "cell_type": "code",
   "execution_count": null,
   "id": "397a3308",
   "metadata": {},
   "outputs": [],
   "source": [
    "t_52 = auc_bootstrap\n",
    "print(t_52)"
   ]
  },
  {
   "cell_type": "code",
   "execution_count": null,
   "id": "a25b3089",
   "metadata": {},
   "outputs": [],
   "source": [
    "del X_train, X_test, y_train, y_test, X_val, y_val,study, optuna_auc"
   ]
  },
  {
   "cell_type": "code",
   "execution_count": 119,
   "id": "fd3858af",
   "metadata": {},
   "outputs": [],
   "source": [
    "# 53\n",
    "column_to_drop_52 = '가구주 나이'"
   ]
  },
  {
   "cell_type": "code",
   "execution_count": 120,
   "id": "b9cad9e3",
   "metadata": {},
   "outputs": [
    {
     "name": "stdout",
     "output_type": "stream",
     "text": [
      "(10564, 17)\n"
     ]
    }
   ],
   "source": [
    "if not column_to_drop_52.startswith('Cat_'):\n",
    "    comp_53 = comp_52.drop(column_to_drop_52, axis=1)\n",
    "    X_53 = comp_53.drop('target', axis=1)\n",
    "    y_53 = comp_53['target']\n",
    "else:\n",
    "    comp_53 = comp_52.drop(comp_52.filter(regex='^' + column_to_drop_52).columns, axis=1)\n",
    "    X_53 = comp_53.drop('target', axis=1)\n",
    "    y_53 = comp_53['target']\n",
    "\n",
    "print(X_53.shape)"
   ]
  },
  {
   "cell_type": "code",
   "execution_count": null,
   "id": "e17565d9",
   "metadata": {},
   "outputs": [],
   "source": [
    "X_train, X_test, y_train, y_test = train_test_split(X_53, y_53, test_size=0.2, shuffle=True, stratify=y_53, random_state = 0)\n",
    "X_train, X_val, y_train, y_val = train_test_split(X_train, y_train, test_size=0.2, shuffle=True, stratify=y_train, random_state = 0)"
   ]
  },
  {
   "cell_type": "code",
   "execution_count": null,
   "id": "c479cb72",
   "metadata": {},
   "outputs": [],
   "source": [
    "def objective(trial):\n",
    "    params = {\n",
    "        'max_depth' :trial.suggest_int('max_depth', 1, 10),\n",
    "        'min_samples_split' :trial.suggest_int('min_samples_split', 3, 10),\n",
    "        'min_samples_leaf' :trial.suggest_int('min_samples_leaf', 3, 10),\n",
    "        }\n",
    "        \n",
    "    clf = DecisionTreeClassifier(**params,random_state = 0)\n",
    "    clf.fit(X_train, y_train)\n",
    "    clf_proba = clf.predict_proba(X_val)[:, 1]\n",
    "        \n",
    "    AUC_SCORE = roc_auc_score(y_val, clf_proba)\n",
    "    return AUC_SCORE\n",
    "\n",
    "direction = \"maximize\"\n",
    "sampler = optuna.samplers.TPESampler(seed=10)\n",
    "study =  optuna.create_study(direction=direction, sampler=sampler, pruner=optuna.pruners.HyperbandPruner())\n",
    "early_stopping = EarlyStoppingCallback(10, direction=direction)\n",
    "study.optimize(objective, callbacks=[early_stopping], n_trials=200) "
   ]
  },
  {
   "cell_type": "code",
   "execution_count": null,
   "id": "c397d1b7",
   "metadata": {},
   "outputs": [],
   "source": [
    "print(study.best_trial.params)\n",
    "optuna_auc = study.best_trial.value\n",
    "print(optuna_auc)"
   ]
  },
  {
   "cell_type": "code",
   "execution_count": null,
   "id": "69ddda92",
   "metadata": {},
   "outputs": [],
   "source": [
    "optuna_53 = DecisionTreeClassifier(**study.best_trial.params, random_state = 0)\n",
    "optuna_53.fit(X_train, y_train)"
   ]
  },
  {
   "cell_type": "code",
   "execution_count": null,
   "id": "e2d917c1",
   "metadata": {},
   "outputs": [],
   "source": [
    "optuna_proba_53 = optuna_53.predict_proba(X_test)[:, 1]\n",
    "auc_53 = roc_auc_score(y_test, optuna_proba_53)\n",
    "print(decimal.Decimal(auc_53).quantize(decimal.Decimal('1.000')))"
   ]
  },
  {
   "cell_type": "code",
   "execution_count": null,
   "id": "80f946d6",
   "metadata": {},
   "outputs": [],
   "source": [
    "X_train = X_train.values\n",
    "y_train = y_train.values"
   ]
  },
  {
   "cell_type": "code",
   "execution_count": null,
   "id": "63bfc0f0",
   "metadata": {},
   "outputs": [],
   "source": [
    "auc_bootstrap = []"
   ]
  },
  {
   "cell_type": "code",
   "execution_count": null,
   "id": "33955494",
   "metadata": {},
   "outputs": [],
   "source": [
    "rs = RandomState(seed = 53)\n",
    "bootstrap_auc(optuna_53, X_train, y_train, X_test, y_test, nsamples=2000)"
   ]
  },
  {
   "cell_type": "code",
   "execution_count": null,
   "id": "5de3a09d",
   "metadata": {},
   "outputs": [],
   "source": [
    "shapiro(auc_bootstrap), np.mean(auc_bootstrap)"
   ]
  },
  {
   "cell_type": "code",
   "execution_count": null,
   "id": "7ff21f30",
   "metadata": {},
   "outputs": [],
   "source": [
    "t_53 = auc_bootstrap\n",
    "print(t_53)"
   ]
  },
  {
   "cell_type": "code",
   "execution_count": null,
   "id": "914bb710",
   "metadata": {},
   "outputs": [],
   "source": [
    "del X_train, X_test, y_train, y_test, X_val, y_val,study, optuna_auc"
   ]
  },
  {
   "cell_type": "code",
   "execution_count": 121,
   "id": "93ed07d1",
   "metadata": {},
   "outputs": [],
   "source": [
    "# 54\n",
    "column_to_drop_53 = 'Cat_이사 계획 중인 거주 지역'"
   ]
  },
  {
   "cell_type": "code",
   "execution_count": 122,
   "id": "984e2474",
   "metadata": {},
   "outputs": [
    {
     "name": "stdout",
     "output_type": "stream",
     "text": [
      "(10564, 10)\n"
     ]
    }
   ],
   "source": [
    "if not column_to_drop_53.startswith('Cat_'):\n",
    "    comp_54 = comp_53.drop(column_to_drop_53, axis=1)\n",
    "    X_54 = comp_54.drop('target', axis=1)\n",
    "    y_54 = comp_54['target']\n",
    "else:\n",
    "    comp_54 = comp_53.drop(comp_53.filter(regex='^' + column_to_drop_53).columns, axis=1)\n",
    "    X_54 = comp_54.drop('target', axis=1)\n",
    "    y_54 = comp_54['target']\n",
    "\n",
    "print(X_54.shape)"
   ]
  },
  {
   "cell_type": "code",
   "execution_count": null,
   "id": "1aead1e6",
   "metadata": {},
   "outputs": [],
   "source": [
    "X_train, X_test, y_train, y_test = train_test_split(X_54, y_54, test_size=0.2, shuffle=True, stratify=y_54, random_state = 0)\n",
    "X_train, X_val, y_train, y_val = train_test_split(X_train, y_train, test_size=0.2, shuffle=True, stratify=y_train, random_state = 0)"
   ]
  },
  {
   "cell_type": "code",
   "execution_count": null,
   "id": "e6cde8c7",
   "metadata": {},
   "outputs": [],
   "source": [
    "def objective(trial):\n",
    "    params = {\n",
    "        'max_depth' :trial.suggest_int('max_depth', 1, 10),\n",
    "        'min_samples_split' :trial.suggest_int('min_samples_split', 3, 10),\n",
    "        'min_samples_leaf' :trial.suggest_int('min_samples_leaf', 3, 10),\n",
    "        }\n",
    "        \n",
    "    clf = DecisionTreeClassifier(**params,random_state = 0)\n",
    "    clf.fit(X_train, y_train)\n",
    "    clf_proba = clf.predict_proba(X_val)[:, 1]\n",
    "        \n",
    "    AUC_SCORE = roc_auc_score(y_val, clf_proba)\n",
    "    return AUC_SCORE\n",
    "\n",
    "direction = \"maximize\"\n",
    "sampler = optuna.samplers.TPESampler(seed=10)\n",
    "study =  optuna.create_study(direction=direction, sampler=sampler, pruner=optuna.pruners.HyperbandPruner())\n",
    "early_stopping = EarlyStoppingCallback(10, direction=direction)\n",
    "study.optimize(objective, callbacks=[early_stopping], n_trials=200) "
   ]
  },
  {
   "cell_type": "code",
   "execution_count": null,
   "id": "dc034bbe",
   "metadata": {},
   "outputs": [],
   "source": [
    "print(study.best_trial.params)\n",
    "optuna_auc = study.best_trial.value\n",
    "print(optuna_auc)"
   ]
  },
  {
   "cell_type": "code",
   "execution_count": null,
   "id": "65b91693",
   "metadata": {},
   "outputs": [],
   "source": [
    "optuna_54 = DecisionTreeClassifier(**study.best_trial.params, random_state = 0)\n",
    "optuna_54.fit(X_train, y_train)"
   ]
  },
  {
   "cell_type": "code",
   "execution_count": null,
   "id": "4a9f1e5c",
   "metadata": {},
   "outputs": [],
   "source": [
    "optuna_proba_54 = optuna_54.predict_proba(X_test)[:, 1]\n",
    "auc_54 = roc_auc_score(y_test, optuna_proba_54)\n",
    "print(decimal.Decimal(auc_54).quantize(decimal.Decimal('1.000')))"
   ]
  },
  {
   "cell_type": "code",
   "execution_count": null,
   "id": "6555a83a",
   "metadata": {},
   "outputs": [],
   "source": [
    "X_train = X_train.values\n",
    "y_train = y_train.values"
   ]
  },
  {
   "cell_type": "code",
   "execution_count": null,
   "id": "86232671",
   "metadata": {},
   "outputs": [],
   "source": [
    "auc_bootstrap = []"
   ]
  },
  {
   "cell_type": "code",
   "execution_count": null,
   "id": "7a7a50b6",
   "metadata": {},
   "outputs": [],
   "source": [
    "rs = RandomState(seed = 54)\n",
    "bootstrap_auc(optuna_54, X_train, y_train, X_test, y_test, nsamples=2000)"
   ]
  },
  {
   "cell_type": "code",
   "execution_count": null,
   "id": "00bedb82",
   "metadata": {},
   "outputs": [],
   "source": [
    "shapiro(auc_bootstrap), np.mean(auc_bootstrap)"
   ]
  },
  {
   "cell_type": "code",
   "execution_count": null,
   "id": "91c4e1a1",
   "metadata": {},
   "outputs": [],
   "source": [
    "t_54 = auc_bootstrap\n",
    "print(t_54)"
   ]
  },
  {
   "cell_type": "code",
   "execution_count": null,
   "id": "ffba4bfa",
   "metadata": {},
   "outputs": [],
   "source": [
    "del X_train, X_test, y_train, y_test, X_val, y_val,study, optuna_auc"
   ]
  },
  {
   "cell_type": "code",
   "execution_count": 123,
   "id": "79de3e3e",
   "metadata": {},
   "outputs": [],
   "source": [
    "# 55\n",
    "column_to_drop_54 = '소득 대비 주택 임대료의 비율'"
   ]
  },
  {
   "cell_type": "code",
   "execution_count": 124,
   "id": "ebb8022a",
   "metadata": {},
   "outputs": [
    {
     "name": "stdout",
     "output_type": "stream",
     "text": [
      "(10564, 9)\n"
     ]
    }
   ],
   "source": [
    "if not column_to_drop_54.startswith('Cat_'):\n",
    "    comp_55 = comp_54.drop(column_to_drop_54, axis=1)\n",
    "    X_55 = comp_55.drop('target', axis=1)\n",
    "    y_55 = comp_55['target']\n",
    "else:\n",
    "    comp_55 = comp_54.drop(comp_54.filter(regex='^' + column_to_drop_54).columns, axis=1)\n",
    "    X_55 = comp_55.drop('target', axis=1)\n",
    "    y_55 = comp_55['target']\n",
    "\n",
    "print(X_55.shape)"
   ]
  },
  {
   "cell_type": "code",
   "execution_count": null,
   "id": "91afe525",
   "metadata": {},
   "outputs": [],
   "source": [
    "X_train, X_test, y_train, y_test = train_test_split(X_55, y_55, test_size=0.2, shuffle=True, stratify=y_55, random_state = 0)\n",
    "X_train, X_val, y_train, y_val = train_test_split(X_train, y_train, test_size=0.2, shuffle=True, stratify=y_train, random_state = 0)"
   ]
  },
  {
   "cell_type": "code",
   "execution_count": null,
   "id": "c58382c4",
   "metadata": {},
   "outputs": [],
   "source": [
    "def objective(trial):\n",
    "    params = {\n",
    "        'max_depth' :trial.suggest_int('max_depth', 1, 10),\n",
    "        'min_samples_split' :trial.suggest_int('min_samples_split', 3, 10),\n",
    "        'min_samples_leaf' :trial.suggest_int('min_samples_leaf', 3, 10),\n",
    "        }\n",
    "        \n",
    "    clf = DecisionTreeClassifier(**params,random_state = 0)\n",
    "    clf.fit(X_train, y_train)\n",
    "    clf_proba = clf.predict_proba(X_val)[:, 1]\n",
    "        \n",
    "    AUC_SCORE = roc_auc_score(y_val, clf_proba)\n",
    "    return AUC_SCORE\n",
    "\n",
    "direction = \"maximize\"\n",
    "sampler = optuna.samplers.TPESampler(seed=10)\n",
    "study =  optuna.create_study(direction=direction, sampler=sampler, pruner=optuna.pruners.HyperbandPruner())\n",
    "early_stopping = EarlyStoppingCallback(10, direction=direction)\n",
    "study.optimize(objective, callbacks=[early_stopping], n_trials=200) "
   ]
  },
  {
   "cell_type": "code",
   "execution_count": null,
   "id": "f94a8b09",
   "metadata": {},
   "outputs": [],
   "source": [
    "print(study.best_trial.params)\n",
    "optuna_auc = study.best_trial.value\n",
    "print(optuna_auc)"
   ]
  },
  {
   "cell_type": "code",
   "execution_count": null,
   "id": "ab28ce28",
   "metadata": {},
   "outputs": [],
   "source": [
    "optuna_55 = DecisionTreeClassifier(**study.best_trial.params, random_state = 0)\n",
    "optuna_55.fit(X_train, y_train)"
   ]
  },
  {
   "cell_type": "code",
   "execution_count": null,
   "id": "bf17dbf7",
   "metadata": {},
   "outputs": [],
   "source": [
    "optuna_proba_55 = optuna_55.predict_proba(X_test)[:, 1]\n",
    "auc_55 = roc_auc_score(y_test, optuna_proba_55)\n",
    "print(decimal.Decimal(auc_55).quantize(decimal.Decimal('1.000')))"
   ]
  },
  {
   "cell_type": "code",
   "execution_count": null,
   "id": "626e887c",
   "metadata": {},
   "outputs": [],
   "source": [
    "X_train = X_train.values\n",
    "y_train = y_train.values"
   ]
  },
  {
   "cell_type": "code",
   "execution_count": null,
   "id": "673d7acc",
   "metadata": {},
   "outputs": [],
   "source": [
    "auc_bootstrap = []"
   ]
  },
  {
   "cell_type": "code",
   "execution_count": null,
   "id": "7723ec23",
   "metadata": {},
   "outputs": [],
   "source": [
    "rs = RandomState(seed = 55)\n",
    "bootstrap_auc(optuna_55, X_train, y_train, X_test, y_test, nsamples=2000)"
   ]
  },
  {
   "cell_type": "code",
   "execution_count": null,
   "id": "3ca1bf16",
   "metadata": {},
   "outputs": [],
   "source": [
    "shapiro(auc_bootstrap), np.mean(auc_bootstrap)"
   ]
  },
  {
   "cell_type": "code",
   "execution_count": null,
   "id": "e4555f68",
   "metadata": {},
   "outputs": [],
   "source": [
    "t_55 = auc_bootstrap\n",
    "print(t_55)"
   ]
  }
 ],
 "metadata": {
  "kernelspec": {
   "display_name": "Python 3 (ipykernel)",
   "language": "python",
   "name": "python3"
  },
  "language_info": {
   "codemirror_mode": {
    "name": "ipython",
    "version": 3
   },
   "file_extension": ".py",
   "mimetype": "text/x-python",
   "name": "python",
   "nbconvert_exporter": "python",
   "pygments_lexer": "ipython3",
   "version": "3.11.5"
  }
 },
 "nbformat": 4,
 "nbformat_minor": 5
}
